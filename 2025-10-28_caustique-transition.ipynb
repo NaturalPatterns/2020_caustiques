{
 "cells": [
  {
   "cell_type": "markdown",
   "metadata": {},
   "source": [
    "# Caustiques"
   ]
  },
  {
   "cell_type": "code",
   "execution_count": 1,
   "metadata": {
    "execution": {
     "iopub.execute_input": "2024-10-16T09:43:02.983382Z",
     "iopub.status.busy": "2024-10-16T09:43:02.983225Z",
     "iopub.status.idle": "2024-10-16T09:43:02.985631Z",
     "shell.execute_reply": "2024-10-16T09:43:02.985393Z"
    }
   },
   "outputs": [],
   "source": [
    "# %pip install -q -U -r requirements.txt"
   ]
  },
  {
   "cell_type": "code",
   "execution_count": 2,
   "metadata": {},
   "outputs": [
    {
     "data": {
      "text/plain": [
       "'3.10.7'"
      ]
     },
     "execution_count": 2,
     "metadata": {},
     "output_type": "execute_result"
    }
   ],
   "source": [
    "import numpy as np\n",
    "# import cv2\n",
    "from tqdm.auto import trange, tqdm\n",
    "import matplotlib\n",
    "# import matplotlib.gridspec as gs\n",
    "from matplotlib.gridspec import SubplotParams\n",
    "import numpy as np\n",
    "from scipy import ndimage\n",
    "matplotlib.__version__"
   ]
  },
  {
   "cell_type": "code",
   "execution_count": 3,
   "metadata": {},
   "outputs": [
    {
     "data": {
      "text/plain": [
       "'2025-10-27_caustique-transition'"
      ]
     },
     "execution_count": 3,
     "metadata": {},
     "output_type": "execute_result"
    }
   ],
   "source": [
    "import os \n",
    "from IPython import get_ipython\n",
    "ip = get_ipython()\n",
    "# print(ip.user_ns)\n",
    "study_name = None\n",
    "if '__vsc_ipynb_file__' in ip.user_ns:\n",
    "    # https://github.com/msm1089/ipynbname/issues/17\n",
    "    study_name = os.path.split(os.path.basename(ip.user_ns['__vsc_ipynb_file__']))[1]\n",
    "elif '__file__' in ip.user_ns:\n",
    "    study_name = ip.user_ns['__file__']\n",
    "else:\n",
    "    import ipynbname\n",
    "    study_name = ipynbname.name()\n",
    "study_name = study_name.replace('.ipynb', '')\n",
    "study_name"
   ]
  },
  {
   "cell_type": "code",
   "execution_count": 4,
   "metadata": {},
   "outputs": [
    {
     "name": "stdout",
     "output_type": "stream",
     "text": [
      "total 0\n",
      "total 0\n"
     ]
    }
   ],
   "source": [
    "%ls -lh {study_name}\n",
    "%ls -lh /tmp/{study_name}"
   ]
  },
  {
   "cell_type": "code",
   "execution_count": null,
   "metadata": {},
   "outputs": [],
   "source": [
    "# %rm -fr {study_name}\n",
    "# %rm -fr /tmp/{study_name}"
   ]
  },
  {
   "cell_type": "code",
   "execution_count": 6,
   "metadata": {},
   "outputs": [],
   "source": [
    "# the higher PRECISION, the bigger the file\n",
    "PRECISION = 4  # debugging\n",
    "PRECISION = 8 # low quality\n",
    "PRECISION = 10 # medium quality\n",
    "PRECISION = 11 # medium+ quality\n",
    "# PRECISION = 12 # good quality\n",
    "# PRECISION = 14 # very good quality\n",
    "# PRECISION = 15 # for production\n",
    "\n",
    "# https://docs.python.org/3/library/dataclasses.html?highlight=dataclass#module-dataclasses\n",
    "from dataclasses import dataclass\n",
    "\n",
    "@dataclass\n",
    "class init:\n",
    "    figpath: str = study_name # Folder to store images\n",
    "    phi: float = 1.61803 # beauty is gold\n",
    "    tag: str = 'caustique' # Tag\n",
    "    ext: str = 'mp4' # Extension for output\n",
    "    nx: int = 1*2**PRECISION # number of pixels (vertical)\n",
    "    ny: int = 1*2**PRECISION # number of pixels (horizontal)\n",
    "    nframe: int = 24*4 # number of frames for each chunk\n",
    "    bin_dens: int = 2 # relative bin density\n",
    "    bin_spectrum: int = 4 # bin spacing in spectrum (lower is more CPU)\n",
    "    seed: int = 2025 # seed for RNG\n",
    "    H: float = 30.0 # depth of the pool\n",
    "    variation: float = .20 # variation of diffraction index: http://www.philiplaven.com/p20.html 1.40 at 400 nm and 1.37 at 700nm makes a 2% variation\n",
    "    sigma: float = 1.0 # smoothing for the gradient\n",
    "    scale: float = (1-.618)*nx # period in pixels\n",
    "    B_sf: float = 1. # bandwidth in sf\n",
    "    V_Y: float = 0.1 # horizontal speed\n",
    "    V_X: float = -0.3 # vertical speed\n",
    "    B_V: float = 1.0 # bandwidth in speed\n",
    "    # zmin: float = 1.0 # relative minimal value of wave height at the top to generate a gradient (set to 1. to have no gradient)\n",
    "    # theta: float = 2*np.pi*(2-1.61803) # angle with the horizontal\n",
    "    theta: float = np.pi/2 # angle with the horizontal\n",
    "    B_theta: float = 45*np.pi/180 # bandwidth in theta\n",
    "    min_lum: float = .01 # global diffusion level for the rendering giving the pedestal value\n",
    "    n_bits: int = 8 # bits to save images\n",
    "    n_jobs: int = 12 # number of jobs to run in parallel\n",
    "    gamma: float = 2.4 # Gamma exponant to convert luminosity to luminance\n",
    "    fps: float = 24 # frames per second\n",
    "    do_cache: bool = True # Cache intermediate output.\n",
    "    verbose: bool = False # Displays more verbose output.\n",
    "    do_display: bool = False # Displays images and videos in notebook.\n",
    "    do_recompute: bool = False # Restart each computation    "
   ]
  },
  {
   "cell_type": "code",
   "execution_count": 7,
   "metadata": {
    "execution": {
     "iopub.execute_input": "2024-10-16T09:43:06.036410Z",
     "iopub.status.busy": "2024-10-16T09:43:06.035954Z",
     "iopub.status.idle": "2024-10-16T09:43:06.041319Z",
     "shell.execute_reply": "2024-10-16T09:43:06.039924Z"
    }
   },
   "outputs": [
    {
     "name": "stdout",
     "output_type": "stream",
     "text": [
      "Saving our simulations in=2025-10-27_caustique-transition\n"
     ]
    }
   ],
   "source": [
    "opt = init()\n",
    "print(f'Saving our simulations in={opt.figpath}')"
   ]
  },
  {
   "cell_type": "code",
   "execution_count": 8,
   "metadata": {
    "execution": {
     "iopub.execute_input": "2024-10-16T09:43:06.045705Z",
     "iopub.status.busy": "2024-10-16T09:43:06.045222Z",
     "iopub.status.idle": "2024-10-16T09:43:06.051391Z",
     "shell.execute_reply": "2024-10-16T09:43:06.050527Z"
    }
   },
   "outputs": [],
   "source": [
    "# if opt.nframe==1: opt.ext = 'png'"
   ]
  },
  {
   "cell_type": "code",
   "execution_count": 9,
   "metadata": {},
   "outputs": [],
   "source": [
    "if opt.n_jobs>1 or opt.n_jobs==-1:\n",
    "    from joblib import Parallel, delayed\n",
    "    # from tqdm_joblib import tqdm_joblib   #  pip install tqdm-joblib"
   ]
  },
  {
   "cell_type": "code",
   "execution_count": 10,
   "metadata": {
    "execution": {
     "iopub.execute_input": "2024-10-16T09:43:06.055776Z",
     "iopub.status.busy": "2024-10-16T09:43:06.055017Z",
     "iopub.status.idle": "2024-10-16T09:43:06.060659Z",
     "shell.execute_reply": "2024-10-16T09:43:06.059448Z"
    },
    "tags": []
   },
   "outputs": [
    {
     "name": "stdout",
     "output_type": "stream",
     "text": [
      "init(figpath='2025-10-27_caustique-transition',\n",
      "     phi=1.61803,\n",
      "     tag='caustique',\n",
      "     ext='mp4',\n",
      "     nx=2048,\n",
      "     ny=2048,\n",
      "     nframe=96,\n",
      "     bin_dens=2,\n",
      "     bin_spectrum=4,\n",
      "     seed=2025,\n",
      "     H=30.0,\n",
      "     variation=0.2,\n",
      "     sigma=1.0,\n",
      "     scale=782.336,\n",
      "     B_sf=1.0,\n",
      "     V_Y=0.1,\n",
      "     V_X=-0.3,\n",
      "     B_V=1.0,\n",
      "     theta=1.5707963267948966,\n",
      "     B_theta=0.7853981633974483,\n",
      "     min_lum=0.01,\n",
      "     n_bits=8,\n",
      "     n_jobs=12,\n",
      "     gamma=2.4,\n",
      "     fps=24,\n",
      "     do_cache=True,\n",
      "     verbose=False,\n",
      "     do_display=False,\n",
      "     do_recompute=False)\n"
     ]
    }
   ],
   "source": [
    "from pprint import pprint\n",
    "pprint(opt)"
   ]
  },
  {
   "cell_type": "code",
   "execution_count": 11,
   "metadata": {
    "execution": {
     "iopub.execute_input": "2024-10-16T09:43:06.064918Z",
     "iopub.status.busy": "2024-10-16T09:43:06.064509Z",
     "iopub.status.idle": "2024-10-16T09:43:06.069370Z",
     "shell.execute_reply": "2024-10-16T09:43:06.068172Z"
    }
   },
   "outputs": [
    {
     "name": "stdout",
     "output_type": "stream",
     "text": [
      "Screen size=100cm=39.370in, dpi=26dpi\n"
     ]
    }
   ],
   "source": [
    "screen_size_cm = 100 # cm\n",
    "CM_BY_INCH = 2.54 # this is a constant\n",
    "screen_size_in = screen_size_cm/CM_BY_INCH\n",
    "dpi = (opt.nx // opt.bin_dens) / screen_size_in\n",
    "print(f'Screen size={screen_size_cm}cm={screen_size_in:.3f}in, dpi={dpi:.0f}dpi')"
   ]
  },
  {
   "cell_type": "markdown",
   "metadata": {},
   "source": [
    "## utilitaires\n",
    "\n",
    "Transformation d'une matrice numpy en mp4:\n"
   ]
  },
  {
   "cell_type": "code",
   "execution_count": 12,
   "metadata": {
    "execution": {
     "iopub.execute_input": "2024-10-16T09:43:06.073052Z",
     "iopub.status.busy": "2024-10-16T09:43:06.072374Z",
     "iopub.status.idle": "2024-10-16T09:43:06.078119Z",
     "shell.execute_reply": "2024-10-16T09:43:06.077358Z"
    }
   },
   "outputs": [],
   "source": [
    "import imageio\n",
    "# def make_gif(gifname, fnames, fps, do_delete=True):\n",
    "#     with imageio.get_writer(gifname, mode='I', fps=fps) as writer:\n",
    "#         for fname in fnames:\n",
    "#             writer.append_data(imageio.imread(fname))\n",
    "\n",
    "#     from pygifsicle import optimize\n",
    "#     optimize(str(gifname))\n",
    "#     if do_delete: \n",
    "#         for fname in fnames: os.remove(fname)\n",
    "#     return gifname\n",
    "\n",
    "# https://moviepy.readthedocs.io/en/latest/getting_started/videoclips.html#imagesequenceclip\n",
    "# def make_mp4(mkvname, fnames, fps, do_delete=True):\n",
    "#     import moviepy.editor as mpy\n",
    "#     clip = mpy.ImageSequenceClip(fnames, fps=fps)\n",
    "#     clip.write_videofile(mkvname, fps=fps, codec='libx264', verbose=False, logger=None)\n",
    "#     if do_delete: \n",
    "#         for fname in fnames: os.remove(fname)\n",
    "#     return mkvname \n",
    "\n",
    "# from tqdm import tqdm\n",
    "# from tqdm.notebook import tqdm\n",
    "# def make_mp4(moviename, fnames, fps):\n",
    "#     \"\"\"Create an mkv video from a sequence of image files.\n",
    "\n",
    "#     Args:\n",
    "#         moviename (str): Path to the output video file.\n",
    "#         fnames (list): List of paths to input image files.\n",
    "#         fps (int): Frames per second for the output video.\n",
    "\n",
    "#     Returns:\n",
    "#         str: Path to the created video file.\n",
    "#     \"\"\"\n",
    "#     ffmpeg_params = [\n",
    "#         \"-c:v\", \"ffv1\",                # codec (ffv1 = lossless intra‑frame)\n",
    "#         \"-level\", \"3\",                # highest ffv1 quality level\n",
    "#         \"-pix_fmt\", \"rgb48le\",          # 16‑bit pixel format     pix_fmt: str = \"gray16le\",   # 16‑bit grayscale, change to \"rgb48le\" for color\n",
    "#         \"-preset\", \"veryslow\",        # optional – best compression, slower\n",
    "#     ]\n",
    "#     with imageio.v2.get_writer(\n",
    "#         moviename,\n",
    "#         fps=fps,\n",
    "#         macro_block_size=1,\n",
    "#         ffmpeg_log_level=\"error\",   # keep the console tidy\n",
    "#         # ffmpeg_params=ffmpeg_params,\n",
    "#     ) as writer:    \n",
    "#         for fname in tqdm(fnames, desc=\"Creating video\"):\n",
    "#             print('>>>', fname)\n",
    "#             frame = imageio.v2.imread(fname, pilmode='I;16')\n",
    "#             print('bip')\n",
    "#             frame = frame.astype(np.uint16)\n",
    "#             writer.append_data(frame)\n",
    "#     return moviename\n",
    "\n",
    "def make_mp4(moviename, frames, fps):\n",
    "    with imageio.v2.get_writer(\n",
    "        moviename,\n",
    "        format='FFmpeg', \n",
    "        mode='I',\n",
    "        # format='av', \n",
    "        fps=fps,\n",
    "        # pixelformat=pix_fmt\n",
    "        # codec='ffv1',  # Use FFV1 for lossless compression\n",
    "        ) as writer:\n",
    "        for i_frame in range(frames.shape[-1]):\n",
    "            # Append the frame to the video writer\n",
    "            writer.append_data(frames[..., i_frame])\n",
    "    return moviename\n",
    "\n",
    "# def make_mp4_fromlist(moviename, list_of_frames, fps):\n",
    "#     with imageio.v2.get_writer(\n",
    "#         moviename,\n",
    "#         format='FFmpeg', \n",
    "#         mode='I',\n",
    "#         # format='av', \n",
    "#         fps=fps,\n",
    "#         # pixelformat=pix_fmt\n",
    "#         # codec='ffv1',  # Use FFV1 for lossless compression\n",
    "#         ) as writer:\n",
    "#         for frames in list_of_frames:\n",
    "#             for i_frame in range(frames.shape[-1]):\n",
    "#                 # Append the frame to the video writer\n",
    "#                 writer.append_data(frames[..., i_frame])\n",
    "#     return moviename\n",
    "\n",
    "# import imageio.v3 as iio\n",
    "# def make_mp4(mkvname, frames, fps):\n",
    "#     pix_fmt = 'rgb48le' if frames.ndim==3 else 'gray16le'\n",
    "#     iio.imwrite(\n",
    "#         mkvname,\n",
    "#         np.moveaxis(frames, -1, 0),\n",
    "#         plugin='pyav',\n",
    "#         codec='ffv1',\n",
    "#         fps=fps,\n",
    "#         in_pixel_format=pix_fmt,\n",
    "#         out_pixel_format=pix_fmt\n",
    "#     )\n",
    "#     return mkvname\n",
    "\n",
    "\n",
    "# make_mp4(\"test_video.mp4\", np.random.randint(0, 2**8-1, (480, 640, 3, 30), dtype=np.uint8), fps=24)"
   ]
  },
  {
   "cell_type": "markdown",
   "metadata": {},
   "source": [
    "\n",
    "Utilities to compute the spectrum of the blue sky and convert them later to RGB values (check out https://laurentperrinet.github.io/sciblog/posts/2020-07-04-colors-of-the-sky.html for details)"
   ]
  },
  {
   "cell_type": "code",
   "execution_count": 13,
   "metadata": {
    "execution": {
     "iopub.execute_input": "2024-10-16T09:43:06.082021Z",
     "iopub.status.busy": "2024-10-16T09:43:06.081270Z",
     "iopub.status.idle": "2024-10-16T09:43:06.089061Z",
     "shell.execute_reply": "2024-10-16T09:43:06.088191Z"
    }
   },
   "outputs": [],
   "source": [
    "from lambda2color import Lambda2color, xyz_from_xy\n",
    "\n",
    "# borrowed from https://github.com/gummiks/gummiks.github.io/blob/master/scripts/astro/planck.py\n",
    "def planck(wav, T):\n",
    "    import scipy.constants as const\n",
    "    c = const.c # c = 3.0e+8\n",
    "    h = const.h # h = 6.626e-34\n",
    "    k = const.k # k = 1.38e-23\n",
    "    a = 2.0*h*c**2\n",
    "    b = h*c/(wav*k*T)\n",
    "    intensity = a / ( (wav**5) * (np.exp(b) - 1.0) )\n",
    "    return intensity\n",
    "\n",
    "def scattering(wav, a=0.005, p=1.3, b=0.45):\n",
    "    \"\"\"\n",
    "    b is  proportionate  to  the  column  density  of  aerosols\n",
    "    along  the  path  of  sunlight,  from  outside  the  atmosphere\n",
    "    to  the  point  of  observation\n",
    "    \n",
    "    see https://laurentperrinet.github.io/sciblog/posts/2020-07-04-colors-of-the-sky.html for more details\n",
    "\n",
    "    \"\"\"\n",
    "    # converting wav in µm:\n",
    "    intensity = np.exp(-a/((wav/1e-6)**4)) # Rayleigh extinction by nitrogen\n",
    "    intensity *= (wav/1e-6)**-4\n",
    "    intensity *= np.exp(-b/((wav/1e-6)**p)) # Aerosols\n",
    "    return intensity"
   ]
  },
  {
   "cell_type": "markdown",
   "metadata": {},
   "source": [
    "## calcul des caustiques\n"
   ]
  },
  {
   "cell_type": "code",
   "execution_count": 14,
   "metadata": {
    "execution": {
     "iopub.execute_input": "2024-10-16T09:43:06.094058Z",
     "iopub.status.busy": "2024-10-16T09:43:06.093441Z",
     "iopub.status.idle": "2024-10-16T09:43:06.297325Z",
     "shell.execute_reply": "2024-10-16T09:43:06.297072Z"
    }
   },
   "outputs": [],
   "source": [
    "subplotpars = SubplotParams(left=0., right=1., bottom=0., top=1., wspace=0., hspace=0.)\n",
    "import matplotlib.pyplot as plt\n",
    "import hashlib\n",
    "import MotionClouds as mc\n",
    "\n",
    "class Caustique:\n",
    "    def __init__(self, opt):\n",
    "        \"\"\"\n",
    "        Image coordinates follow 'ij' indexing, that is,\n",
    "        * their origin at the top left,\n",
    "        * the X axis is vertical and goes \"down\",\n",
    "        * the Y axis is horizontal and goes \"right\".\n",
    "\n",
    "        \"\"\"\n",
    "        self.mc = mc\n",
    "        self.ratio = opt.ny/opt.nx # ratio between height and width (>1 for portrait, <1 for landscape)\n",
    "        X = np.linspace(0, 1, opt.nx, endpoint=False) # vertical\n",
    "        Y = np.linspace(0, self.ratio, opt.ny, endpoint=False) # horizontal\n",
    "        self.xv, self.yv = np.meshgrid(X, Y, indexing='ij')\n",
    "        self.opt = opt\n",
    "        # https://stackoverflow.com/questions/16878315/what-is-the-right-way-to-treat-python-argparse-namespace-as-a-dictionary\n",
    "        self.d = vars(opt)\n",
    "        os.makedirs(self.opt.figpath, exist_ok=True)\n",
    "        self.cachepath = os.path.join('/tmp', self.opt.figpath)\n",
    "        if opt.verbose: print(f'{self.cachepath=}')\n",
    "        os.makedirs(self.cachepath, exist_ok=True)\n",
    "        self.np_dtype = np.uint8 if opt.n_bits==8 else np.uint16\n",
    "        \n",
    "        illuminant = xyz_from_xy(0.3127, 0.3291) # a standard white\n",
    "        # illuminant = xyz_from_xy(0.268375 0.283377) # sky\n",
    "        # illuminant = xyz_from_xy(0.325998, 0.335354) # sun\n",
    "\n",
    "        # color conversion class\n",
    "        self.cs_srgb = Lambda2color(red=xyz_from_xy(0.64, 0.33),\n",
    "                                    green=xyz_from_xy(0.30, 0.60),\n",
    "                                    blue=xyz_from_xy(0.15, 0.06),\n",
    "                                    white=illuminant)\n",
    "        \n",
    "        self.wavelengths = self.cs_srgb.cmf[:, 0]*1e-9\n",
    "        self.N_wavelengths = len(self.wavelengths)\n",
    "        # multiply by the spectrum of the sky\n",
    "        intensity5800 = planck(self.wavelengths, 5800.)\n",
    "        scatter = scattering(self.wavelengths)\n",
    "        self.spectrum_sky = intensity5800 * scatter\n",
    "        self.spectrum_sky /= self.spectrum_sky.max()\n",
    "\n",
    "        self.rgbs = {}\n",
    "        for i_wavelength in range(self.opt.bin_spectrum//2, self.N_wavelengths, self.opt.bin_spectrum):\n",
    "            # we convert the spectrum into a color\n",
    "            spec = np.zeros((self.N_wavelengths))\n",
    "            spec[i_wavelength] = 1\n",
    "            rgb = self.cs_srgb.spec_to_rgb(spec)\n",
    "            rgb *= self.spectrum_sky[i_wavelength]\n",
    "            self.rgbs[i_wavelength] = rgb\n",
    "\n",
    "        self.fx, self.fy, self.ft = mc.get_grids(self.opt.nx, self.opt.ny, self.opt.nframe)\n",
    "\n",
    "    def wave(self, do_cache=None):\n",
    "        \n",
    "        if do_cache is None: do_cache = self.opt.do_cache\n",
    "        if do_cache: filename = f'{self.cachepath}/{self.opt.tag}_wave.npy'\n",
    "        if do_cache and os.path.isfile(filename) and not(self.opt.do_recompute):\n",
    "            z = np.load(filename)\n",
    "        else:\n",
    "            # A simplistic model of a wave using https://github.com/NeuralEnsemble/MotionClouds\n",
    "            env = mc.envelope_gabor(self.fx, self.fy, self.ft, V_X=self.opt.V_Y, V_Y=self.opt.V_X, B_V=self.opt.B_V,\n",
    "                                    sf_0=1./self.opt.scale, B_sf=self.opt.B_sf/self.opt.scale,\n",
    "                                    theta=self.opt.theta, B_theta=self.opt.B_theta)\n",
    "            # env /= env.mean()\n",
    "            z = mc.random_cloud(env, seed=self.opt.seed)\n",
    "            # print(z.max())\n",
    "            if np.abs(z).max() > 0: \n",
    "                z = mc.rectif(z)\n",
    "                # z = (.5* z/np.max(np.abs(z[:])) + .5)\n",
    "            # print(z.max())\n",
    "\n",
    "            # z *= np.linspace(self.opt.zmin, 1., self.opt.nx)[:, None, None] # [optional] vertical gradient\n",
    "            if do_cache: np.save(filename, z)\n",
    "\n",
    "        return z\n",
    "\n",
    "    def transform(self, z_frame, modulation=1., lag_x=0., lag_y=0.):\n",
    "        xv, yv = self.xv.copy(), self.yv.copy()\n",
    "\n",
    "        # https://numpy.org/doc/stable/reference/generated/numpy.gradient.html\n",
    "        # dzdx, dzdy = np.gradient(z_frame, edge_order=edge_order)\n",
    "\n",
    "        dzdx = ndimage.gaussian_filter(z_frame, self.opt.sigma, order=[1,0], mode='reflect')\n",
    "        dzdy = ndimage.gaussian_filter(z_frame, self.opt.sigma, order=[0,1], mode='reflect')\n",
    "\n",
    "        # coords = np.vstack([(yv + lag_y).ravel(), (xv + lag_x).ravel()])\n",
    "        # dzdx = ndimage.map_coordinates(dzdx, coords, order=1, mode='wrap').reshape(dzdx.shape)\n",
    "        # dzdy = ndimage.map_coordinates(dzdy, coords, order=1, mode='wrap').reshape(dzdy.shape)\n",
    "\n",
    "        xv_warp = xv + modulation * self.opt.H * dzdx\n",
    "        yv_warp = yv + modulation * self.opt.H * dzdy\n",
    "        \n",
    "        xv_warp = np.mod(xv_warp, 1)\n",
    "        yv_warp = np.mod(yv_warp, self.ratio)\n",
    "\n",
    "        return xv_warp, yv_warp\n",
    "\n",
    "    def get_filename(self, note=''):\n",
    "        # output filename        \n",
    "        md5 = hashlib.sha224((self.opt.figpath + self.opt.tag + note).encode()).hexdigest()[:8] # an unique identifier for future tagging\n",
    "        output_filename = f'{self.opt.figpath}/{self.opt.tag}{note}_{md5}.{self.opt.ext}'\n",
    "        return output_filename\n",
    "\n",
    "    def get_caustics(self, z_frame, image, modulation, rgb):\n",
    "\n",
    "        xv, yv = self.transform(z_frame, modulation=modulation)\n",
    "\n",
    "        hist, _, _ = np.histogram2d(xv.ravel(), yv.ravel(),\n",
    "                                     bins=[self.opt.nx//self.opt.bin_dens, self.opt.ny//self.opt.bin_dens],\n",
    "                                     weights=image.ravel(),\n",
    "                                     range=[[0, 1], [0, self.ratio]],\n",
    "                                     density=True)\n",
    "        return hist[:, :, None] * rgb[None, None, :]\n",
    "\n",
    "\n",
    "    def compute(self, z, image=None):\n",
    "        \"\"\"\n",
    "        \n",
    "        dpi: output resolution - sets the figure size as we ensure there is a one to one correspondance between pixels in the data and the output image\n",
    "        \"\"\"\n",
    "\n",
    "        # 1/ do the raytracing of image through z:\n",
    "        _, _, nframe = z.shape\n",
    "\n",
    "        # if not specified, use a full image with full contrast (from 0=black to 1=white)\n",
    "        if image is None: image = np.ones((self.opt.nx, self.opt.ny))\n",
    "\n",
    "        #image_rgb = self.cs_srgb.spec_to_rgb(hist)\n",
    "        image_rgb = np.zeros((self.opt.nx//self.opt.bin_dens,  self.opt.ny//self.opt.bin_dens, 3, nframe))\n",
    "        for i_frame in trange(nframe, desc='Scanning time', position=1, leave=True):\n",
    "            if self.opt.n_jobs==1:\n",
    "                # for i_i_wavelength, i_wavelength in enumerate(self.opt.bin_spectrum//2, self.N_wavelengths, self.opt.bin_spectrum):\n",
    "                for i_wavelength in trange(self.opt.bin_spectrum//2, self.N_wavelengths, self.opt.bin_spectrum, desc='Scanning spectrum', position=0, leave=False):\n",
    "                    modulation = 1. + self.opt.variation/2 - self.opt.variation*i_wavelength/self.N_wavelengths\n",
    "                    hist_frame = self.get_caustics(z[:, :, i_frame], image, modulation, self.rgbs[i_wavelength])\n",
    "                    # we add the monochromatique color to the image\n",
    "                    image_rgb[:, :, :, i_frame] += hist_frame\n",
    "\n",
    "            else:\n",
    "                # -----  parallel map ------------------------------------------------\n",
    "                wav_indices = range(self.opt.bin_spectrum//2, self.N_wavelengths, self.opt.bin_spectrum)\n",
    "                backend='multiprocessing'\n",
    "                backend='loky'\n",
    "                contributions = Parallel(n_jobs=opt.n_jobs,\n",
    "                                        backend=backend,\n",
    "                                        loky_backend_kwargs={'timeout': 600, 'max_nbytes': '256M'}\n",
    "                                        )(\n",
    "                                        delayed(self.get_caustics)(\n",
    "                                            z_frame    = z[:, :, i_frame],\n",
    "                                            image      = image,\n",
    "                                            modulation = 1. + self.opt.variation/2 - self.opt.variation*i_wavelength/self.N_wavelengths,\n",
    "                                            rgb          = self.rgbs[i_wavelength])\n",
    "                                        for i_wavelength in wav_indices)\n",
    "\n",
    "                # -----  accumulate the partial results -------------------------------\n",
    "                # contributions is a list of (H, W, 3) arrays → sum over the list\n",
    "                image_rgb[:, :, :, i_frame] = np.sum(contributions, axis=0)   # shape (H, W, 3)\n",
    "                \n",
    "        image_rgb -= image_rgb.min() # HACK\n",
    "        image_rgb /= image_rgb.max()\n",
    "\n",
    "        image_rgb = image_rgb ** (1/self.opt.gamma)\n",
    "\n",
    "        return image_rgb\n",
    "\n",
    "    def plot(self, z, image=None):\n",
    "        output_filename = self.get_filename()\n",
    "        if not(os.path.isfile(output_filename)) or self.opt.do_recompute:\n",
    "            image_rgb = self.compute(z, image=image)\n",
    "            # 2/ transform light into image:\n",
    "            output_filename = make_mp4(output_filename, (image_rgb*(2**self.opt.n_bits-1)).astype(self.np_dtype), fps=self.opt.fps)\n",
    "        return output_filename\n",
    "\n",
    "    def show(self, output_filename, width=1024):\n",
    "        from IPython.display import HTML, Image, display\n",
    "        if self.opt.nframe==1:\n",
    "            # display(Image(url=output_filename.replace(self.opt.ext, 'png'), width=width))\n",
    "            display(Image(url=output_filename, width=width))\n",
    "        else:\n",
    "            if self.opt.ext == 'gif':\n",
    "                return display(Image(url=output_filename, width=width))\n",
    "            else:\n",
    "                #import moviepy.editor as mpy\n",
    "                #return mpy.ipython_display(output_filename, width=width)\n",
    "                # https://github.com/NeuralEnsemble/MotionClouds/blob/master/MotionClouds/MotionClouds.py#L858\n",
    "                opts = ' loop=\"1\" autoplay=\"1\" controls '\n",
    "                html = HTML(f'<video {opts} src=\"{output_filename}\" type=\"video/{self.opt.ext}\" width={width} >')\n",
    "                html.reload()\n",
    "                return display(html)"
   ]
  },
  {
   "cell_type": "markdown",
   "metadata": {},
   "source": [
    "# une simple caustique\n",
    "## génération de la vague\n"
   ]
  },
  {
   "cell_type": "code",
   "execution_count": 15,
   "metadata": {
    "execution": {
     "iopub.execute_input": "2024-10-16T09:43:06.298834Z",
     "iopub.status.busy": "2024-10-16T09:43:06.298734Z",
     "iopub.status.idle": "2024-10-16T09:43:07.259909Z",
     "shell.execute_reply": "2024-10-16T09:43:07.259495Z"
    }
   },
   "outputs": [],
   "source": [
    "c = Caustique(init())"
   ]
  },
  {
   "cell_type": "code",
   "execution_count": 16,
   "metadata": {},
   "outputs": [
    {
     "data": {
      "text/plain": [
       "((2048, 2048, 96),\n",
       " np.float64(0.0),\n",
       " np.float64(0.5000000000000023),\n",
       " np.float64(0.9731782250665624))"
      ]
     },
     "execution_count": 16,
     "metadata": {},
     "output_type": "execute_result"
    }
   ],
   "source": [
    "z = c.wave()\n",
    "z.shape, z.min(), z.mean(), z.max()"
   ]
  },
  {
   "cell_type": "code",
   "execution_count": 17,
   "metadata": {},
   "outputs": [
    {
     "name": "stdout",
     "output_type": "stream",
     "text": [
      "(2048, 2048, 96) 0 126.99997622519732 248\n"
     ]
    },
    {
     "data": {
      "text/html": [
       "<video  loop=\"1\" autoplay=\"1\" controls  src=\"2025-10-27_caustique-transition/caustique_vague_d38cc54d.mp4\" type=\"video/mp4\" width=1024 >"
      ],
      "text/plain": [
       "<IPython.core.display.HTML object>"
      ]
     },
     "metadata": {},
     "output_type": "display_data"
    }
   ],
   "source": [
    "output_filename = c.get_filename(note='_vague')\n",
    "if not(os.path.isfile(output_filename)) or opt.do_recompute:\n",
    "    z_q = (z*(2**opt.n_bits-1)).astype(c.np_dtype)\n",
    "    # z_q = ((z > 1)*(2**opt.n_bits-1)).astype(c.np_dtype)\n",
    "    print(z_q.shape, z_q.min(), z_q.mean(), z_q.max())\n",
    "    output_filename = make_mp4(output_filename, z_q, fps=opt.fps)\n",
    "    del z_q\n",
    "c.show(output_filename)"
   ]
  },
  {
   "cell_type": "code",
   "execution_count": 18,
   "metadata": {},
   "outputs": [
    {
     "name": "stdout",
     "output_type": "stream",
     "text": [
      "Variable          Type                   Data/Info\n",
      "--------------------------------------------------\n",
      "CM_BY_INCH        float                  2.54\n",
      "Caustique         type                   <class '__main__.Caustique'>\n",
      "Lambda2color      type                   <class 'lambda2color.Lambda2color'>\n",
      "PRECISION         int                    11\n",
      "Parallel          type                   <class 'joblib.parallel.Parallel'>\n",
      "SubplotParams     type                   <class 'matplotlib.gridspec.SubplotParams'>\n",
      "c                 Caustique              <__main__.Caustique object at 0x1100f16a0>\n",
      "dataclass         function               <function dataclass at 0x10a8efa60>\n",
      "delayed           function               <function delayed at 0x10fa76340>\n",
      "dpi               float                  26.0096\n",
      "get_ipython       function               <function get_ipython at 0x10b275800>\n",
      "hashlib           module                 <module 'hashlib' from '/<...>b/python3.13/hashlib.py'>\n",
      "imageio           module                 <module 'imageio' from '/<...>ges/imageio/__init__.py'>\n",
      "init              type                   <class '__main__.init'>\n",
      "ip                ZMQInteractiveShell    <ipykernel.zmqshell.ZMQIn<...>ll object at 0x10c6f3380>\n",
      "make_mp4          function               <function make_mp4 at 0x10f3f0400>\n",
      "matplotlib        module                 <module 'matplotlib' from<...>/matplotlib/__init__.py'>\n",
      "mc                module                 <module 'MotionClouds' fr<...>stiques/MotionClouds.py'>\n",
      "ndimage           module                 <module 'scipy.ndimage' f<...>ipy/ndimage/__init__.py'>\n",
      "np                module                 <module 'numpy' from '/Us<...>kages/numpy/__init__.py'>\n",
      "opt               init                   init(figpath='2025-10-27_<...>alse, do_recompute=False)\n",
      "os                module                 <module 'os' (frozen)>\n",
      "output_filename   str                    2025-10-27_caustique-tran<...>stique_vague_d38cc54d.mp4\n",
      "planck            function               <function planck at 0x10fb19760>\n",
      "plt               module                 <module 'matplotlib.pyplo<...>es/matplotlib/pyplot.py'>\n",
      "pprint            function               <function pprint at 0x10a8ede40>\n",
      "scattering        function               <function scattering at 0x10fb196c0>\n",
      "screen_size_cm    int                    100\n",
      "screen_size_in    float                  39.37007874015748\n",
      "study_name        str                    2025-10-27_caustique-transition\n",
      "subplotpars       SubplotParams          <matplotlib.gridspec.Subp<...>ms object at 0x10fa65be0>\n",
      "tqdm              type                   <class 'tqdm.auto.tqdm'>\n",
      "trange            function               <function trange at 0x10cef2200>\n",
      "xyz_from_xy       function               <function xyz_from_xy at 0x10c453740>\n",
      "z                 ndarray                2048x2048x96: 402653184 elems, type `float64`, 3221225472 bytes (3072.0 Mb)\n"
     ]
    }
   ],
   "source": [
    "%whos"
   ]
  },
  {
   "cell_type": "markdown",
   "metadata": {},
   "source": [
    "## génération de l'illumination\n"
   ]
  },
  {
   "cell_type": "code",
   "execution_count": 19,
   "metadata": {
    "execution": {
     "iopub.execute_input": "2024-10-16T09:43:07.265091Z",
     "iopub.status.busy": "2024-10-16T09:43:07.264969Z",
     "iopub.status.idle": "2024-10-16T09:43:27.244503Z",
     "shell.execute_reply": "2024-10-16T09:43:27.243869Z"
    }
   },
   "outputs": [
    {
     "data": {
      "image/png": "[encoded data removed]",
      "text/plain": [
       "<Figure size 3937.01x3937.01 with 1 Axes>"
      ]
     },
     "metadata": {},
     "output_type": "display_data"
    }
   ],
   "source": [
    "def generate_image(nx, ny, radius_in=.15, radius_out=.4):\n",
    "    Y, X = np.meshgrid(np.linspace(-1, 1, ny, endpoint=True), np.linspace(-1, 1, nx, endpoint=True))\n",
    "    image = (X**2 > radius_in**2)  # the horizontal band outside radius_in\n",
    "    image *= (Y**2 < radius_out**2) # the vertical band inside radius_out\n",
    "    image *= (X**2 < radius_out**2)  # the horizontal band inside radius_out\n",
    "    return image*1.\n",
    "\n",
    "image = generate_image(nx=opt.nx, ny=opt.ny)\n",
    "\n",
    "fig, ax = plt.subplots(figsize=(opt.ny/opt.bin_dens/dpi, opt.nx/opt.bin_dens/dpi), subplotpars=subplotpars)\n",
    "\n",
    "ax.imshow(image, cmap='gray');"
   ]
  },
  {
   "cell_type": "code",
   "execution_count": 20,
   "metadata": {},
   "outputs": [
    {
     "data": {
      "text/plain": [
       "(np.float64(0.0), np.float64(1.0), 2048, 2048)"
      ]
     },
     "execution_count": 20,
     "metadata": {},
     "output_type": "execute_result"
    }
   ],
   "source": [
    "image.min(), image.max(), opt.nx, opt.ny"
   ]
  },
  {
   "cell_type": "markdown",
   "metadata": {},
   "source": [
    "## génération de la caustique\n"
   ]
  },
  {
   "cell_type": "code",
   "execution_count": 21,
   "metadata": {},
   "outputs": [
    {
     "data": {
      "text/plain": [
       "(10, 10, 3)"
      ]
     },
     "execution_count": 21,
     "metadata": {},
     "output_type": "execute_result"
    }
   ],
   "source": [
    "import numpy as np\n",
    "# Example: list of (H, W, 3) arrays\n",
    "arrays = [np.random.rand(10, 10, 3) for _ in range(5)]  # Replace with your actual list of arrays\n",
    "\n",
    "# Sum all arrays in the list\n",
    "summed_array = np.sum(arrays, axis=0)\n",
    "summed_array.shape"
   ]
  },
  {
   "cell_type": "code",
   "execution_count": 22,
   "metadata": {
    "execution": {
     "iopub.execute_input": "2024-10-16T09:43:27.248311Z",
     "iopub.status.busy": "2024-10-16T09:43:27.248044Z",
     "iopub.status.idle": "2024-10-16T09:43:27.675906Z",
     "shell.execute_reply": "2024-10-16T09:43:27.675663Z"
    }
   },
   "outputs": [
    {
     "data": {
      "application/vnd.jupyter.widget-view+json": {
       "model_id": "f6f70dd782c74fa78105cabe8b2d9240",
       "version_major": 2,
       "version_minor": 0
      },
      "text/plain": [
       "Scanning time:   0%|          | 0/96 [00:00<?, ?it/s]"
      ]
     },
     "metadata": {},
     "output_type": "display_data"
    },
    {
     "name": "stderr",
     "output_type": "stream",
     "text": [
      "/Users/laurentperrinet/app54-nextcloud/NaturalPatterns/2020_caustiques/.venv/lib/python3.13/site-packages/joblib/externals/loky/process_executor.py:782: UserWarning: A worker stopped while some jobs were given to the executor. This can be caused by a too short worker timeout or by a memory leak.\n",
      "  warnings.warn(\n"
     ]
    }
   ],
   "source": [
    "output_filename = c.plot(z, image)"
   ]
  },
  {
   "cell_type": "code",
   "execution_count": 23,
   "metadata": {
    "execution": {
     "iopub.execute_input": "2024-10-16T09:43:27.677589Z",
     "iopub.status.busy": "2024-10-16T09:43:27.677500Z",
     "iopub.status.idle": "2024-10-16T09:43:27.679800Z",
     "shell.execute_reply": "2024-10-16T09:43:27.679552Z"
    }
   },
   "outputs": [
    {
     "data": {
      "text/html": [
       "<video  loop=\"1\" autoplay=\"1\" controls  src=\"2025-10-27_caustique-transition/caustique_993d3111.mp4\" type=\"video/mp4\" width=1024 >"
      ],
      "text/plain": [
       "<IPython.core.display.HTML object>"
      ]
     },
     "metadata": {},
     "output_type": "display_data"
    }
   ],
   "source": [
    "c.show(output_filename)"
   ]
  },
  {
   "cell_type": "code",
   "execution_count": 24,
   "metadata": {},
   "outputs": [
    {
     "data": {
      "text/plain": [
       "20"
      ]
     },
     "execution_count": 24,
     "metadata": {},
     "output_type": "execute_result"
    }
   ],
   "source": [
    "len(c.rgbs)"
   ]
  },
  {
   "cell_type": "markdown",
   "metadata": {
    "tags": []
   },
   "source": [
    "# exploration des paramètres\n"
   ]
  },
  {
   "cell_type": "code",
   "execution_count": 25,
   "metadata": {
    "execution": {
     "iopub.execute_input": "2024-10-16T09:43:27.681057Z",
     "iopub.status.busy": "2024-10-16T09:43:27.680980Z",
     "iopub.status.idle": "2024-10-16T09:43:27.682344Z",
     "shell.execute_reply": "2024-10-16T09:43:27.682143Z"
    }
   },
   "outputs": [],
   "source": [
    "N_scan = 5\n",
    "base = 4"
   ]
  },
  {
   "cell_type": "markdown",
   "metadata": {
    "tags": []
   },
   "source": [
    "## profondeur d'eau\n"
   ]
  },
  {
   "cell_type": "code",
   "execution_count": 26,
   "metadata": {
    "execution": {
     "iopub.execute_input": "2024-10-16T09:43:27.683507Z",
     "iopub.status.busy": "2024-10-16T09:43:27.683435Z",
     "iopub.status.idle": "2024-10-16T09:43:31.221238Z",
     "shell.execute_reply": "2024-10-16T09:43:31.220945Z"
    }
   },
   "outputs": [
    {
     "data": {
      "application/vnd.jupyter.widget-view+json": {
       "model_id": "ac411adf8789485da17a84954c8fe89e",
       "version_major": 2,
       "version_minor": 0
      },
      "text/plain": [
       "Scanning time:   0%|          | 0/96 [00:00<?, ?it/s]"
      ]
     },
     "metadata": {},
     "output_type": "display_data"
    },
    {
     "name": "stdout",
     "output_type": "stream",
     "text": [
      "H = 7.500 -> output_filename='2025-10-27_caustique-transition/caustique_H_7.500_58949b2a.mp4' \n"
     ]
    },
    {
     "data": {
      "application/vnd.jupyter.widget-view+json": {
       "model_id": "12361649fd264acc89c4e92ea4388a83",
       "version_major": 2,
       "version_minor": 0
      },
      "text/plain": [
       "Scanning time:   0%|          | 0/96 [00:00<?, ?it/s]"
      ]
     },
     "metadata": {},
     "output_type": "display_data"
    },
    {
     "name": "stdout",
     "output_type": "stream",
     "text": [
      "H = 15.000 -> output_filename='2025-10-27_caustique-transition/caustique_H_15.000_f0204561.mp4' \n"
     ]
    },
    {
     "data": {
      "application/vnd.jupyter.widget-view+json": {
       "model_id": "885c01e537db4796940eff349b565538",
       "version_major": 2,
       "version_minor": 0
      },
      "text/plain": [
       "Scanning time:   0%|          | 0/96 [00:00<?, ?it/s]"
      ]
     },
     "metadata": {},
     "output_type": "display_data"
    },
    {
     "name": "stdout",
     "output_type": "stream",
     "text": [
      "H = 30.000 -> output_filename='2025-10-27_caustique-transition/caustique_H_30.000_8b8d0009.mp4' \n"
     ]
    },
    {
     "data": {
      "application/vnd.jupyter.widget-view+json": {
       "model_id": "55f1a603402c43a6907d09100d03e78b",
       "version_major": 2,
       "version_minor": 0
      },
      "text/plain": [
       "Scanning time:   0%|          | 0/96 [00:00<?, ?it/s]"
      ]
     },
     "metadata": {},
     "output_type": "display_data"
    },
    {
     "name": "stdout",
     "output_type": "stream",
     "text": [
      "H = 60.000 -> output_filename='2025-10-27_caustique-transition/caustique_H_60.000_935cae77.mp4' \n"
     ]
    },
    {
     "data": {
      "application/vnd.jupyter.widget-view+json": {
       "model_id": "bc147f59e179469ea9cb77ec241b1a4c",
       "version_major": 2,
       "version_minor": 0
      },
      "text/plain": [
       "Scanning time:   0%|          | 0/96 [00:00<?, ?it/s]"
      ]
     },
     "metadata": {},
     "output_type": "display_data"
    },
    {
     "name": "stdout",
     "output_type": "stream",
     "text": [
      "H = 120.000 -> output_filename='2025-10-27_caustique-transition/caustique_H_120.000_1396fb27.mp4' \n"
     ]
    }
   ],
   "source": [
    "for H_ in opt.H*np.logspace(-1, 1, N_scan, base=base):    \n",
    "    c = Caustique(init(tag=f'{opt.tag}_H_{H_:.3f}', H = H_))\n",
    "    output_filename = c.plot(z, image)\n",
    "    print(f'H = {H_:.3f} -> {output_filename=} ')\n",
    "    if opt.do_display: c.show(output_filename)"
   ]
  },
  {
   "cell_type": "markdown",
   "metadata": {
    "tags": []
   },
   "source": [
    "## variation de l'indice de réfraction\n"
   ]
  },
  {
   "cell_type": "code",
   "execution_count": 27,
   "metadata": {
    "execution": {
     "iopub.execute_input": "2024-10-16T09:43:31.223035Z",
     "iopub.status.busy": "2024-10-16T09:43:31.222910Z",
     "iopub.status.idle": "2024-10-16T09:43:33.903735Z",
     "shell.execute_reply": "2024-10-16T09:43:33.903270Z"
    }
   },
   "outputs": [],
   "source": [
    "# for variation_ in np.logspace(-2, 0, N_scan, base=10, endpoint=False):\n",
    "#     opt = init()\n",
    "#     c = Caustique(opt)\n",
    "#     opt.variation = variation_\n",
    "#     opt.tag = f'{opt.tag}_variation_{variation_:.3f}'\n",
    "\n",
    "#     output_filename = c.plot(z, image)\n",
    "#     print(f'variation = {variation_:.3f}  -> {output_filename=}')\n",
    "#     if opt.do_display: c.show(output_filename)"
   ]
  },
  {
   "cell_type": "markdown",
   "metadata": {},
   "source": [
    "## post-processing"
   ]
  },
  {
   "cell_type": "code",
   "execution_count": 28,
   "metadata": {
    "execution": {
     "iopub.execute_input": "2024-10-16T09:43:33.905319Z",
     "iopub.status.busy": "2024-10-16T09:43:33.905216Z",
     "iopub.status.idle": "2024-10-16T09:43:39.369292Z",
     "shell.execute_reply": "2024-10-16T09:43:39.369027Z"
    }
   },
   "outputs": [
    {
     "name": "stdout",
     "output_type": "stream",
     "text": [
      "======gamma======\n"
     ]
    },
    {
     "data": {
      "application/vnd.jupyter.widget-view+json": {
       "model_id": "2c59207cecb04e8a891dabe914c2696b",
       "version_major": 2,
       "version_minor": 0
      },
      "text/plain": [
       "Scanning time:   0%|          | 0/96 [00:00<?, ?it/s]"
      ]
     },
     "metadata": {},
     "output_type": "display_data"
    },
    {
     "name": "stdout",
     "output_type": "stream",
     "text": [
      "gamma=gamma(default)*0.250=6.000E-01 -> output_filename='2025-10-27_caustique-transition/caustique_gamma_modul_0.250_ad3ab30c.mp4'\n"
     ]
    },
    {
     "data": {
      "application/vnd.jupyter.widget-view+json": {
       "model_id": "b92f06b0d01440779fbc73d992ec1a85",
       "version_major": 2,
       "version_minor": 0
      },
      "text/plain": [
       "Scanning time:   0%|          | 0/96 [00:00<?, ?it/s]"
      ]
     },
     "metadata": {},
     "output_type": "display_data"
    },
    {
     "name": "stdout",
     "output_type": "stream",
     "text": [
      "gamma=gamma(default)*0.500=1.200E+00 -> output_filename='2025-10-27_caustique-transition/caustique_gamma_modul_0.500_7870d72d.mp4'\n"
     ]
    },
    {
     "data": {
      "application/vnd.jupyter.widget-view+json": {
       "model_id": "6fdbb213e23e4a728c826de7f1713ab7",
       "version_major": 2,
       "version_minor": 0
      },
      "text/plain": [
       "Scanning time:   0%|          | 0/96 [00:00<?, ?it/s]"
      ]
     },
     "metadata": {},
     "output_type": "display_data"
    },
    {
     "name": "stdout",
     "output_type": "stream",
     "text": [
      "gamma=gamma(default)*1.000=2.400E+00 -> output_filename='2025-10-27_caustique-transition/caustique_gamma_modul_1.000_e3ab0813.mp4'\n"
     ]
    },
    {
     "data": {
      "application/vnd.jupyter.widget-view+json": {
       "model_id": "303a0298f3fa439d906eae4728999a61",
       "version_major": 2,
       "version_minor": 0
      },
      "text/plain": [
       "Scanning time:   0%|          | 0/96 [00:00<?, ?it/s]"
      ]
     },
     "metadata": {},
     "output_type": "display_data"
    },
    {
     "name": "stdout",
     "output_type": "stream",
     "text": [
      "gamma=gamma(default)*2.000=4.800E+00 -> output_filename='2025-10-27_caustique-transition/caustique_gamma_modul_2.000_21bdaf1b.mp4'\n"
     ]
    },
    {
     "data": {
      "application/vnd.jupyter.widget-view+json": {
       "model_id": "5a8c11b4c22047f1ac1bb8f60a5767e9",
       "version_major": 2,
       "version_minor": 0
      },
      "text/plain": [
       "Scanning time:   0%|          | 0/96 [00:00<?, ?it/s]"
      ]
     },
     "metadata": {},
     "output_type": "display_data"
    },
    {
     "name": "stdout",
     "output_type": "stream",
     "text": [
      "gamma=gamma(default)*4.000=9.600E+00 -> output_filename='2025-10-27_caustique-transition/caustique_gamma_modul_4.000_81537aea.mp4'\n",
      "======sigma======\n"
     ]
    },
    {
     "data": {
      "application/vnd.jupyter.widget-view+json": {
       "model_id": "4e88f83b60e547acb1aee6d03e9ce64e",
       "version_major": 2,
       "version_minor": 0
      },
      "text/plain": [
       "Scanning time:   0%|          | 0/96 [00:00<?, ?it/s]"
      ]
     },
     "metadata": {},
     "output_type": "display_data"
    },
    {
     "name": "stdout",
     "output_type": "stream",
     "text": [
      "sigma=sigma(default)*0.250=2.500E-01 -> output_filename='2025-10-27_caustique-transition/caustique_sigma_modul_0.250_2c5d9bf8.mp4'\n"
     ]
    },
    {
     "data": {
      "application/vnd.jupyter.widget-view+json": {
       "model_id": "bc48fc1fc946451c8ac8d0d35bacc8cc",
       "version_major": 2,
       "version_minor": 0
      },
      "text/plain": [
       "Scanning time:   0%|          | 0/96 [00:00<?, ?it/s]"
      ]
     },
     "metadata": {},
     "output_type": "display_data"
    },
    {
     "name": "stdout",
     "output_type": "stream",
     "text": [
      "sigma=sigma(default)*0.500=5.000E-01 -> output_filename='2025-10-27_caustique-transition/caustique_sigma_modul_0.500_6259f3c5.mp4'\n"
     ]
    },
    {
     "data": {
      "application/vnd.jupyter.widget-view+json": {
       "model_id": "d0ddaed3a70545bfb3f10c47dc7e61db",
       "version_major": 2,
       "version_minor": 0
      },
      "text/plain": [
       "Scanning time:   0%|          | 0/96 [00:00<?, ?it/s]"
      ]
     },
     "metadata": {},
     "output_type": "display_data"
    },
    {
     "name": "stdout",
     "output_type": "stream",
     "text": [
      "sigma=sigma(default)*1.000=1.000E+00 -> output_filename='2025-10-27_caustique-transition/caustique_sigma_modul_1.000_50ac73e8.mp4'\n"
     ]
    },
    {
     "data": {
      "application/vnd.jupyter.widget-view+json": {
       "model_id": "55a5059613214f84b1b6707cf5445932",
       "version_major": 2,
       "version_minor": 0
      },
      "text/plain": [
       "Scanning time:   0%|          | 0/96 [00:00<?, ?it/s]"
      ]
     },
     "metadata": {},
     "output_type": "display_data"
    },
    {
     "name": "stdout",
     "output_type": "stream",
     "text": [
      "sigma=sigma(default)*2.000=2.000E+00 -> output_filename='2025-10-27_caustique-transition/caustique_sigma_modul_2.000_1037d290.mp4'\n"
     ]
    },
    {
     "data": {
      "application/vnd.jupyter.widget-view+json": {
       "model_id": "4bfb399565444cbcafc2f953d85d357d",
       "version_major": 2,
       "version_minor": 0
      },
      "text/plain": [
       "Scanning time:   0%|          | 0/96 [00:00<?, ?it/s]"
      ]
     },
     "metadata": {},
     "output_type": "display_data"
    },
    {
     "name": "stdout",
     "output_type": "stream",
     "text": [
      "sigma=sigma(default)*4.000=4.000E+00 -> output_filename='2025-10-27_caustique-transition/caustique_sigma_modul_4.000_89020d60.mp4'\n"
     ]
    }
   ],
   "source": [
    "# for variable in ['gamma', 'min_lum']: \n",
    "for variable in ['gamma', 'sigma']: \n",
    "    print(f'======{variable}======')\n",
    "    for modul in np.logspace(-1, 1, N_scan, base=base):\n",
    "        c = Caustique(init(tag=f'{opt.tag}_{variable}_modul_{modul:.3f}'))\n",
    "        c.d[variable] *= modul\n",
    "        \n",
    "        output_filename = c.plot(z, image)\n",
    "        print(f'{variable}={variable}(default)*{modul:.3f}={c.d[variable]:.3E} -> {output_filename=}')\n",
    "        if opt.do_display: c.show(output_filename)"
   ]
  },
  {
   "cell_type": "markdown",
   "metadata": {},
   "source": [
    "\n",
    "## paramètres de l'ouverture\n"
   ]
  },
  {
   "cell_type": "code",
   "execution_count": 29,
   "metadata": {
    "execution": {
     "iopub.execute_input": "2024-10-16T10:39:19.059775Z",
     "iopub.status.busy": "2024-10-16T10:39:19.059592Z",
     "iopub.status.idle": "2024-10-16T10:43:57.657865Z",
     "shell.execute_reply": "2024-10-16T10:43:57.655454Z"
    }
   },
   "outputs": [
    {
     "data": {
      "application/vnd.jupyter.widget-view+json": {
       "model_id": "487c03fee4414c82898f3d79338a2728",
       "version_major": 2,
       "version_minor": 0
      },
      "text/plain": [
       "Scanning time:   0%|          | 0/96 [00:00<?, ?it/s]"
      ]
     },
     "metadata": {},
     "output_type": "display_data"
    },
    {
     "name": "stdout",
     "output_type": "stream",
     "text": [
      "radius_in=0.000 -> output_filename='2025-10-27_caustique-transition/caustique_image_radius_in=0.000_dcd17d08.mp4' \n"
     ]
    },
    {
     "data": {
      "application/vnd.jupyter.widget-view+json": {
       "model_id": "394b97aad97f4afb9ab28a700c7aaeb2",
       "version_major": 2,
       "version_minor": 0
      },
      "text/plain": [
       "Scanning time:   0%|          | 0/96 [00:00<?, ?it/s]"
      ]
     },
     "metadata": {},
     "output_type": "display_data"
    },
    {
     "name": "stdout",
     "output_type": "stream",
     "text": [
      "radius_in=0.080 -> output_filename='2025-10-27_caustique-transition/caustique_image_radius_in=0.080_85f29d53.mp4' \n"
     ]
    },
    {
     "data": {
      "application/vnd.jupyter.widget-view+json": {
       "model_id": "9c8c578c354a46ca9dd761ccc2cf761a",
       "version_major": 2,
       "version_minor": 0
      },
      "text/plain": [
       "Scanning time:   0%|          | 0/96 [00:00<?, ?it/s]"
      ]
     },
     "metadata": {},
     "output_type": "display_data"
    },
    {
     "name": "stdout",
     "output_type": "stream",
     "text": [
      "radius_in=0.160 -> output_filename='2025-10-27_caustique-transition/caustique_image_radius_in=0.160_df3aea5e.mp4' \n"
     ]
    },
    {
     "data": {
      "application/vnd.jupyter.widget-view+json": {
       "model_id": "28ca8d1c38c342d8993855f154f8218b",
       "version_major": 2,
       "version_minor": 0
      },
      "text/plain": [
       "Scanning time:   0%|          | 0/96 [00:00<?, ?it/s]"
      ]
     },
     "metadata": {},
     "output_type": "display_data"
    },
    {
     "name": "stdout",
     "output_type": "stream",
     "text": [
      "radius_in=0.240 -> output_filename='2025-10-27_caustique-transition/caustique_image_radius_in=0.240_e5684d44.mp4' \n"
     ]
    },
    {
     "data": {
      "application/vnd.jupyter.widget-view+json": {
       "model_id": "3380f53970414eb892327d7cd520c566",
       "version_major": 2,
       "version_minor": 0
      },
      "text/plain": [
       "Scanning time:   0%|          | 0/96 [00:00<?, ?it/s]"
      ]
     },
     "metadata": {},
     "output_type": "display_data"
    },
    {
     "name": "stdout",
     "output_type": "stream",
     "text": [
      "radius_in=0.320 -> output_filename='2025-10-27_caustique-transition/caustique_image_radius_in=0.320_28d37310.mp4' \n"
     ]
    }
   ],
   "source": [
    "for radius_in in np.linspace(0, .4, N_scan+1)[:-1]:\n",
    "    c = Caustique(init(tag=f'{opt.tag}_image_{radius_in=:.3f}'))\n",
    "\n",
    "    output_filename = c.plot(z, generate_image(nx=opt.nx, ny=opt.ny, radius_in=radius_in))\n",
    "    print(f'{radius_in=:.3f} -> {output_filename=} ')\n",
    "    if opt.do_display: c.show(output_filename)"
   ]
  },
  {
   "cell_type": "code",
   "execution_count": 30,
   "metadata": {},
   "outputs": [
    {
     "data": {
      "application/vnd.jupyter.widget-view+json": {
       "model_id": "aff6b801efe44bbeb01834fcfd56869c",
       "version_major": 2,
       "version_minor": 0
      },
      "text/plain": [
       "Scanning time:   0%|          | 0/96 [00:00<?, ?it/s]"
      ]
     },
     "metadata": {},
     "output_type": "display_data"
    },
    {
     "name": "stdout",
     "output_type": "stream",
     "text": [
      "radius_out=0.320 -> output_filename='2025-10-27_caustique-transition/caustique_image_radius_out=0.320_e3c75a4a.mp4' \n"
     ]
    },
    {
     "data": {
      "application/vnd.jupyter.widget-view+json": {
       "model_id": "f037814bc2fd4cc38b839b3c854732e2",
       "version_major": 2,
       "version_minor": 0
      },
      "text/plain": [
       "Scanning time:   0%|          | 0/96 [00:00<?, ?it/s]"
      ]
     },
     "metadata": {},
     "output_type": "display_data"
    },
    {
     "name": "stdout",
     "output_type": "stream",
     "text": [
      "radius_out=0.490 -> output_filename='2025-10-27_caustique-transition/caustique_image_radius_out=0.490_cd140071.mp4' \n"
     ]
    },
    {
     "data": {
      "application/vnd.jupyter.widget-view+json": {
       "model_id": "be7381f467154d54b099655a003bc375",
       "version_major": 2,
       "version_minor": 0
      },
      "text/plain": [
       "Scanning time:   0%|          | 0/96 [00:00<?, ?it/s]"
      ]
     },
     "metadata": {},
     "output_type": "display_data"
    },
    {
     "name": "stdout",
     "output_type": "stream",
     "text": [
      "radius_out=0.660 -> output_filename='2025-10-27_caustique-transition/caustique_image_radius_out=0.660_36332186.mp4' \n"
     ]
    },
    {
     "data": {
      "application/vnd.jupyter.widget-view+json": {
       "model_id": "bd92b5491ada469e9cb41fa6cabdbb2b",
       "version_major": 2,
       "version_minor": 0
      },
      "text/plain": [
       "Scanning time:   0%|          | 0/96 [00:00<?, ?it/s]"
      ]
     },
     "metadata": {},
     "output_type": "display_data"
    },
    {
     "name": "stdout",
     "output_type": "stream",
     "text": [
      "radius_out=0.830 -> output_filename='2025-10-27_caustique-transition/caustique_image_radius_out=0.830_075b195a.mp4' \n"
     ]
    },
    {
     "data": {
      "application/vnd.jupyter.widget-view+json": {
       "model_id": "a006930e90814d9390821964655d08a2",
       "version_major": 2,
       "version_minor": 0
      },
      "text/plain": [
       "Scanning time:   0%|          | 0/96 [00:00<?, ?it/s]"
      ]
     },
     "metadata": {},
     "output_type": "display_data"
    },
    {
     "name": "stdout",
     "output_type": "stream",
     "text": [
      "radius_out=1.000 -> output_filename='2025-10-27_caustique-transition/caustique_image_radius_out=1.000_9e9ae384.mp4' \n"
     ]
    }
   ],
   "source": [
    "for radius_out in np.linspace(.15, 1, N_scan+1)[1:]:\n",
    "    c = Caustique(init(tag=f'{opt.tag}_image_{radius_out=:.3f}'))\n",
    "\n",
    "    output_filename = c.plot(z, generate_image(nx=opt.nx, ny=opt.ny, radius_out=radius_out))\n",
    "    print(f'{radius_out=:.3f} -> {output_filename=} ')\n",
    "    if opt.do_display: c.show(output_filename)"
   ]
  },
  {
   "cell_type": "markdown",
   "metadata": {
    "tags": []
   },
   "source": [
    "## autres instances de l'onde\n"
   ]
  },
  {
   "cell_type": "code",
   "execution_count": 31,
   "metadata": {
    "execution": {
     "iopub.execute_input": "2024-10-16T09:43:39.371388Z",
     "iopub.status.busy": "2024-10-16T09:43:39.371265Z",
     "iopub.status.idle": "2024-10-16T09:43:59.766666Z",
     "shell.execute_reply": "2024-10-16T09:43:59.765977Z"
    }
   },
   "outputs": [
    {
     "data": {
      "application/vnd.jupyter.widget-view+json": {
       "model_id": "1289dd37301448a1ae24527d00369eee",
       "version_major": 2,
       "version_minor": 0
      },
      "text/plain": [
       "Scanning time:   0%|          | 0/96 [00:00<?, ?it/s]"
      ]
     },
     "metadata": {},
     "output_type": "display_data"
    },
    {
     "name": "stdout",
     "output_type": "stream",
     "text": [
      "seed=2025 -> output_filename='2025-10-27_caustique-transition/caustique_seed_2025_6c9012ef.mp4'\n",
      "seed=2026 -> output_filename='2025-10-27_caustique-transition/caustique_seed_2025_6c9012ef.mp4'\n"
     ]
    },
    {
     "data": {
      "application/vnd.jupyter.widget-view+json": {
       "model_id": "2b9092be8d81438da9a8ec620af095f7",
       "version_major": 2,
       "version_minor": 0
      },
      "text/plain": [
       "Scanning time:   0%|          | 0/96 [00:00<?, ?it/s]"
      ]
     },
     "metadata": {},
     "output_type": "display_data"
    },
    {
     "name": "stdout",
     "output_type": "stream",
     "text": [
      "seed=2027 -> output_filename='2025-10-27_caustique-transition/caustique_seed_2026_3123c54c.mp4'\n"
     ]
    },
    {
     "data": {
      "application/vnd.jupyter.widget-view+json": {
       "model_id": "959014fb5035462ca12095fd69c2abde",
       "version_major": 2,
       "version_minor": 0
      },
      "text/plain": [
       "Scanning time:   0%|          | 0/96 [00:00<?, ?it/s]"
      ]
     },
     "metadata": {},
     "output_type": "display_data"
    },
    {
     "name": "stdout",
     "output_type": "stream",
     "text": [
      "seed=2028 -> output_filename='2025-10-27_caustique-transition/caustique_seed_2027_a82b6c90.mp4'\n"
     ]
    },
    {
     "data": {
      "application/vnd.jupyter.widget-view+json": {
       "model_id": "9af83a04ba0f449186173345cad3194f",
       "version_major": 2,
       "version_minor": 0
      },
      "text/plain": [
       "Scanning time:   0%|          | 0/96 [00:00<?, ?it/s]"
      ]
     },
     "metadata": {},
     "output_type": "display_data"
    },
    {
     "name": "stdout",
     "output_type": "stream",
     "text": [
      "seed=2029 -> output_filename='2025-10-27_caustique-transition/caustique_seed_2028_feb4c5bd.mp4'\n"
     ]
    }
   ],
   "source": [
    "image = generate_image(nx=opt.nx, ny=opt.ny)\n",
    "\n",
    "for seed_increment in range(N_scan):\n",
    "    c = Caustique(init(tag=f'{opt.tag}_seed_{c.d['seed']}'))\n",
    "    c.d['seed'] = c.d['seed'] + seed_increment\n",
    "    output_filename = c.get_filename()\n",
    "    if not(os.path.isfile(output_filename) or opt.do_recompute):\n",
    "        output_filename = c.plot(c.wave(do_cache=False), image)\n",
    "    print(f'seed={c.d['seed']} -> {output_filename=}')\n",
    "    if opt.do_display: c.show(output_filename)"
   ]
  },
  {
   "cell_type": "markdown",
   "metadata": {},
   "source": [
    "## autres variables sur l'onde\n"
   ]
  },
  {
   "cell_type": "code",
   "execution_count": null,
   "metadata": {},
   "outputs": [
    {
     "name": "stdout",
     "output_type": "stream",
     "text": [
      "======theta======\n",
      "(2048, 2048, 96) 0.0 0.4999999999999995 0.94973711183168\n"
     ]
    },
    {
     "data": {
      "application/vnd.jupyter.widget-view+json": {
       "model_id": "95d86cc11cdb432a8179e698af227b77",
       "version_major": 2,
       "version_minor": 0
      },
      "text/plain": [
       "Scanning time:   0%|          | 0/96 [00:00<?, ?it/s]"
      ]
     },
     "metadata": {},
     "output_type": "display_data"
    },
    {
     "name": "stdout",
     "output_type": "stream",
     "text": [
      "(2048, 2048, 96) 0.0 0.4999999999999995 0.94973711183168\n",
      "theta=theta(default)*0.250=3.927E-01 -> output_filename='2025-10-27_caustique-transition/caustique_theta_modul_0.250_78fdc5e8.mp4'\n",
      "(2048, 2048, 96) 0.0 0.5000000000000007 0.9294276685916172\n"
     ]
    },
    {
     "data": {
      "application/vnd.jupyter.widget-view+json": {
       "model_id": "e857656b12ce4564b7c51ff71bc45496",
       "version_major": 2,
       "version_minor": 0
      },
      "text/plain": [
       "Scanning time:   0%|          | 0/96 [00:00<?, ?it/s]"
      ]
     },
     "metadata": {},
     "output_type": "display_data"
    },
    {
     "name": "stdout",
     "output_type": "stream",
     "text": [
      "(2048, 2048, 96) 0.0 0.5000000000000007 0.9294276685916172\n",
      "theta=theta(default)*0.500=7.854E-01 -> output_filename='2025-10-27_caustique-transition/caustique_theta_modul_0.500_b8f0ccb1.mp4'\n",
      "(2048, 2048, 96) 0.0 0.5000000000000023 0.9731782250665624\n"
     ]
    },
    {
     "data": {
      "application/vnd.jupyter.widget-view+json": {
       "model_id": "389fa85f88684277a452e8bdb6930c2e",
       "version_major": 2,
       "version_minor": 0
      },
      "text/plain": [
       "Scanning time:   0%|          | 0/96 [00:00<?, ?it/s]"
      ]
     },
     "metadata": {},
     "output_type": "display_data"
    },
    {
     "name": "stdout",
     "output_type": "stream",
     "text": [
      "(2048, 2048, 96) 0.0 0.5000000000000023 0.9731782250665624\n",
      "theta=theta(default)*1.000=1.571E+00 -> output_filename='2025-10-27_caustique-transition/caustique_theta_modul_1.000_e7d11ce5.mp4'\n",
      "(2048, 2048, 96) 0.044368929763097864 0.5000000000000001 1.0\n"
     ]
    },
    {
     "data": {
      "application/vnd.jupyter.widget-view+json": {
       "model_id": "85ff7627c3d241bbbff3de23e8a2589e",
       "version_major": 2,
       "version_minor": 0
      },
      "text/plain": [
       "Scanning time:   0%|          | 0/96 [00:00<?, ?it/s]"
      ]
     },
     "metadata": {},
     "output_type": "display_data"
    },
    {
     "name": "stdout",
     "output_type": "stream",
     "text": [
      "(2048, 2048, 96) 0.044368929763097864 0.5000000000000001 1.0\n",
      "theta=theta(default)*2.000=3.142E+00 -> output_filename='2025-10-27_caustique-transition/caustique_theta_modul_2.000_42a5df6a.mp4'\n",
      "(2048, 2048, 96) 0.04436892976309775 0.5000000000000001 1.0\n"
     ]
    },
    {
     "data": {
      "application/vnd.jupyter.widget-view+json": {
       "model_id": "ff1dd836fbb74baa9af61cb8cee48937",
       "version_major": 2,
       "version_minor": 0
      },
      "text/plain": [
       "Scanning time:   0%|          | 0/96 [00:00<?, ?it/s]"
      ]
     },
     "metadata": {},
     "output_type": "display_data"
    },
    {
     "name": "stdout",
     "output_type": "stream",
     "text": [
      "(2048, 2048, 96) 0.04436892976309775 0.5000000000000001 1.0\n",
      "theta=theta(default)*4.000=6.283E+00 -> output_filename='2025-10-27_caustique-transition/caustique_theta_modul_4.000_417a5150.mp4'\n",
      "======B_theta======\n",
      "(2048, 2048, 96) 0.0 0.5000000000000012 0.9035062686623366\n"
     ]
    },
    {
     "data": {
      "application/vnd.jupyter.widget-view+json": {
       "model_id": "4c0f8531227b4498ae14c5118d24e6fd",
       "version_major": 2,
       "version_minor": 0
      },
      "text/plain": [
       "Scanning time:   0%|          | 0/96 [00:00<?, ?it/s]"
      ]
     },
     "metadata": {},
     "output_type": "display_data"
    },
    {
     "name": "stdout",
     "output_type": "stream",
     "text": [
      "(2048, 2048, 96) 0.0 0.5000000000000012 0.9035062686623366\n",
      "B_theta=B_theta(default)*0.250=1.963E-01 -> output_filename='2025-10-27_caustique-transition/caustique_B_theta_modul_0.250_597cbdae.mp4'\n",
      "(2048, 2048, 96) 0.0 0.500000000000001 0.9284010721391089\n"
     ]
    },
    {
     "data": {
      "application/vnd.jupyter.widget-view+json": {
       "model_id": "50d400b50bb443b893d59cd75200506a",
       "version_major": 2,
       "version_minor": 0
      },
      "text/plain": [
       "Scanning time:   0%|          | 0/96 [00:00<?, ?it/s]"
      ]
     },
     "metadata": {},
     "output_type": "display_data"
    },
    {
     "name": "stdout",
     "output_type": "stream",
     "text": [
      "(2048, 2048, 96) 0.0 0.500000000000001 0.9284010721391089\n",
      "B_theta=B_theta(default)*0.500=3.927E-01 -> output_filename='2025-10-27_caustique-transition/caustique_B_theta_modul_0.500_b6033a5e.mp4'\n",
      "(2048, 2048, 96) 0.0 0.5000000000000023 0.9731782250665624\n"
     ]
    },
    {
     "data": {
      "application/vnd.jupyter.widget-view+json": {
       "model_id": "33d2d93c7c6343148358a786c61f27e1",
       "version_major": 2,
       "version_minor": 0
      },
      "text/plain": [
       "Scanning time:   0%|          | 0/96 [00:00<?, ?it/s]"
      ]
     },
     "metadata": {},
     "output_type": "display_data"
    },
    {
     "name": "stdout",
     "output_type": "stream",
     "text": [
      "(2048, 2048, 96) 0.0 0.5000000000000023 0.9731782250665624\n",
      "B_theta=B_theta(default)*1.000=7.854E-01 -> output_filename='2025-10-27_caustique-transition/caustique_B_theta_modul_1.000_ffaf6815.mp4'\n",
      "(2048, 2048, 96) 0.004858677857588145 0.5000000000000043 1.0\n"
     ]
    },
    {
     "data": {
      "application/vnd.jupyter.widget-view+json": {
       "model_id": "801abb0b6d4a417d84bb602e5eba0287",
       "version_major": 2,
       "version_minor": 0
      },
      "text/plain": [
       "Scanning time:   0%|          | 0/96 [00:00<?, ?it/s]"
      ]
     },
     "metadata": {},
     "output_type": "display_data"
    }
   ],
   "source": [
    "opt = init()\n",
    "for variable in ['theta',  'B_theta', 'scale', 'B_sf', ]: #  'V_Y', 'V_X', 'B_V', , 'zmin'\n",
    "    print(f'======{variable}======')\n",
    "    for modul in np.logspace(-1, 1, N_scan, base=base):\n",
    "        # del z\n",
    "        # print(opt.tag, variable, modul, f'{opt.tag}_{variable}_modul_{modul:.3f}')\n",
    "        c = Caustique(init(tag=f'{opt.tag}_{variable}_modul_{modul:.3f}'))\n",
    "        c.d[variable] *= modul\n",
    "        \n",
    "        output_filename = c.get_filename()\n",
    "        if not(os.path.isfile(output_filename) or opt.do_recompute):\n",
    "            z = c.wave(do_cache=False)\n",
    "            print(z.shape, z.min(), z.mean(), z.max())\n",
    "            output_filename = c.plot(z, image)\n",
    "            print(z.shape, z.min(), z.mean(), z.max())\n",
    "            # assert(output_filename == output_filename_)\n",
    "        print(f'{variable}={variable}(default)*{modul:.3f}={c.d[variable]:.3E} -> {output_filename=}')\n",
    "        if opt.do_display: c.show(output_filename)"
   ]
  },
  {
   "cell_type": "markdown",
   "metadata": {},
   "source": [
    "## une longue vague\n"
   ]
  },
  {
   "cell_type": "code",
   "execution_count": null,
   "metadata": {},
   "outputs": [],
   "source": [
    "%ls -lh {study_name}/longue*\n",
    "%ls -lh /tmp/{study_name}/longue*"
   ]
  },
  {
   "cell_type": "code",
   "execution_count": null,
   "metadata": {},
   "outputs": [],
   "source": [
    "# %rm -fr {study_name}/longue*\n",
    "# %rm -fr /tmp/{study_name}/longue*"
   ]
  },
  {
   "cell_type": "code",
   "execution_count": null,
   "metadata": {},
   "outputs": [],
   "source": [
    "print('====== long wave ======')\n",
    "c = Caustique(init(tag='longue'))\n",
    "c.opt\n"
   ]
  },
  {
   "cell_type": "code",
   "execution_count": null,
   "metadata": {},
   "outputs": [],
   "source": [
    "# filename = f'{c.cachepath}/{c.opt.tag}_vague.npy'\n",
    "# if os.path.isfile(filename) and not(c.opt.do_recompute):\n",
    "#     z = np.load(filename)\n",
    "# else:        \n",
    "#     # N_wave = 4 * PRECISION\n",
    "#     N_wave = 5\n",
    "#     # N_wave = 50\n",
    "#     # N_wave = 25\n",
    "#     amplitude = 1 - np.linspace(-1, 1, N_wave+2)[1:-1]**2\n",
    "#     modul = 0.\n",
    "#     B_theta = c.opt.B_theta / ( 1 + modul * np.exp(-.5 * (np.linspace(0, 1, N_wave)-.25)**2 / .25**2 ) ) # TODO : use von mises\n",
    "#     scale = c.opt.scale / ( 1 + modul * np.exp(-.5 * (np.linspace(0, 1, N_wave)-.75)**2 / .25**2 ) )\n",
    "#     B_sf = c.opt.B_sf / scale * ( 1 + modul * np.exp(-.5 * (np.linspace(0, 1, N_wave)-.5)**2 / .25**2 ) )\n",
    "\n",
    "#     fx, fy, ft = mc.get_grids(opt.nx, opt.ny, opt.nframe)\n",
    "#     smooth = (ft - ft.min())/(ft.max() - ft.min()) # smoothly progress from 0. to 1.\n",
    "    \n",
    "#     c_chunk = Caustique(init())\n",
    "#     i_wave = -1\n",
    "#     # c_chunk.opt.B_sf = B_sf[i_wave]\n",
    "#     c_chunk.opt.B_theta = B_theta[i_wave]\n",
    "#     c_chunk.opt.scale = scale[i_wave]\n",
    "#     c_chunk.opt.seed = opt.seed + N_wave-1\n",
    "#     z_update = amplitude[i_wave] * c_chunk.wave(do_cache=False)\n",
    "\n",
    "#     z = z_update.copy()\n",
    "#     z_old = z_update.copy()\n",
    "    \n",
    "#     for i_wave in trange(N_wave):\n",
    "#         c_chunk = Caustique(init())\n",
    "#         # c_chunk.opt.B_sf = B_sf[i_wave]\n",
    "#         c_chunk.opt.B_theta = B_theta[i_wave]\n",
    "#         c_chunk.opt.scale = scale[i_wave]\n",
    "#         c_chunk.opt.seed = opt.seed + i_wave\n",
    "\n",
    "#         print(f'chunk {i_wave+1}/{N_wave}\\t {amplitude[i_wave]=:.3f}\\t {c_chunk.opt.B_sf=:.3f}\\t {c_chunk.opt.B_theta=:.3f}\\t {c_chunk.opt.scale=:.3f}\\t {c_chunk.opt.seed=}')\n",
    "\n",
    "#         z_update = amplitude[i_wave] * c_chunk.wave(do_cache=False)\n",
    "#         z_smooth = (1.-smooth)*z_old + smooth*z_update\n",
    "#         # print(smooth.shape, smooth.min(), smooth.mean(), smooth.max())\n",
    "#         print(z_update.shape, z_update.min(), z_update.mean(), z_update.max())\n",
    "#         print(z_smooth.shape, z_smooth.min(), z_smooth.mean(), z_smooth.max())\n",
    "\n",
    "#         z = np.concatenate((z, z_smooth), axis=-1)\n",
    "#         z_old = z_update.copy()\n",
    "#         # print(z.shape, z_update.shape)\n",
    "#         np.save(f'{c.cachepath}/{c.opt.tag}_vague_{i_wave}.npy', z_smooth)\n",
    "\n",
    "#     np.save(filename, z)\n",
    "#     del z_old \n",
    "#     del z_update\n"
   ]
  },
  {
   "cell_type": "code",
   "execution_count": null,
   "metadata": {},
   "outputs": [],
   "source": [
    "# filename = f'{c.cachepath}/{c.opt.tag}_vague.npy'\n",
    "# if os.path.isfile(filename) and not(c.opt.do_recompute):\n",
    "#     z = np.load(filename)\n",
    "# else:        \n",
    "#     # N_wave = 4 * PRECISION\n",
    "#     # N_wave = 5\n",
    "#     N_wave = 25\n",
    "#     N_wave = 50\n",
    "#     amplitude = 1.5 * ( 1 - np.linspace(-1, 1, N_wave+2)[1:-1]**2)\n",
    "#     modul = 0.\n",
    "#     B_theta = c.opt.B_theta / ( 1 + modul * np.exp(-.5 * (np.linspace(0, 1, N_wave)-.25)**2 / .25**2 ) ) # TODO : use von mises\n",
    "#     scale = c.opt.scale / ( 1 + modul * np.exp(-.5 * (np.linspace(0, 1, N_wave)-.75)**2 / .25**2 ) )\n",
    "#     B_sf = c.opt.B_sf * ( 1 + modul * np.exp(-.5 * (np.linspace(0, 1, N_wave)-.5)**2 / .25**2 ) )\n",
    "\n",
    "#     c_chunk = Caustique(init())\n",
    "#     smooth = (c_chunk.ft - c_chunk.ft.min())/(c_chunk.ft.max() - c_chunk.ft.min()) # smoothly progress from 0. to 1.\n",
    "    \n",
    "#     z_updates = []\n",
    "#     for i_wave in trange(N_wave):\n",
    "#         fname = f'{c.cachepath}/{c.opt.tag}_vague_{i_wave}.npy'\n",
    "#         if os.path.isfile(fname) and not(c.opt.do_recompute):\n",
    "#             z_update = np.load(fname)\n",
    "#         else:        \n",
    "#             # c_chunk = Caustique(init())\n",
    "#             c_chunk.opt.B_sf = B_sf[i_wave]\n",
    "#             c_chunk.opt.B_theta = B_theta[i_wave]\n",
    "#             c_chunk.opt.scale = scale[i_wave]\n",
    "#             c_chunk.opt.seed = opt.seed + i_wave\n",
    "\n",
    "#             z_update = amplitude[i_wave] * c_chunk.wave(do_cache=False)\n",
    "#             np.save(fname, z_update)\n",
    "#         z_updates.append(z_update)\n",
    "#     del z_update\n",
    "\n",
    "#     z = np.zeros((opt.nx, opt.ny, 0))\n",
    "#     for i_wave in trange(N_wave):\n",
    "#         z_smooth = (1.-smooth)*z_updates[i_wave-1] + smooth*z_updates[i_wave]\n",
    "#         z = np.concatenate((z, z_smooth), axis=-1)\n",
    "\n",
    "#     np.save(filename, z)\n",
    "#     del z_updates\n",
    "#     del z_smooth\n"
   ]
  },
  {
   "cell_type": "code",
   "execution_count": null,
   "metadata": {},
   "outputs": [],
   "source": [
    "# N_wave = 4 * PRECISION\n",
    "# N_wave = 5\n",
    "N_wave = 25\n",
    "N_wave = 50\n",
    "N_wave = 75\n",
    "amplitude = 1 - np.linspace(-1, 1, N_wave+2)[1:-1]**2\n",
    "modul = 0.4\n",
    "B_theta = c.opt.B_theta / ( 1 + modul * np.exp(-.5 * (np.linspace(0, 1, N_wave)-.25)**2 / .25**2 ) ) # TODO : use von mises\n",
    "scale = c.opt.scale / ( 1 + modul * np.exp(-.5 * (np.linspace(0, 1, N_wave)-.75)**2 / .25**2 ) )\n",
    "B_sf = c.opt.B_sf * ( 1 + modul * np.exp(-.5 * (np.linspace(0, 1, N_wave)-.5)**2 / .25**2 ) )\n",
    "\n",
    "c_chunk = Caustique(init())\n",
    "\n",
    "# z_updates = []\n",
    "for i_wave in trange(N_wave):\n",
    "    fname = f'{c.cachepath}/{c.opt.tag}_vague_{i_wave}.npy'\n",
    "    if not(os.path.isfile(fname) and not(c.opt.do_recompute)):\n",
    "        #     z_update = np.load(fname)\n",
    "        # else:        \n",
    "        # c_chunk = Caustique(init())\n",
    "        c_chunk.opt.B_sf = B_sf[i_wave]\n",
    "        c_chunk.opt.B_theta = B_theta[i_wave]\n",
    "        c_chunk.opt.scale = scale[i_wave]\n",
    "        c_chunk.opt.seed = opt.seed + i_wave\n",
    "\n",
    "        z_update = amplitude[i_wave] * c_chunk.wave(do_cache=False)\n",
    "        np.save(fname, z_update)\n",
    "    # z_updates.append(z_update)\n",
    "\n",
    "del c_chunk\n",
    "\n",
    "smooth = (c_chunk.ft - c_chunk.ft.min())/(c_chunk.ft.max() - c_chunk.ft.min()) # smoothly progress from 0. to 1.\n",
    "# z = np.zeros((opt.nx, opt.ny, 0))\n",
    "for i_wave in trange(N_wave):\n",
    "    fname = f'{c.cachepath}/{c.opt.tag}_vague-smooth_{i_wave}.npy'\n",
    "\n",
    "    if os.path.isfile(fname) and not(c.opt.do_recompute):\n",
    "        z_smooth = np.load(fname)\n",
    "    else:        \n",
    "        z_previous_update = np.load(f'{c.cachepath}/{c.opt.tag}_vague_{(i_wave-1) % N_wave}.npy')\n",
    "        z_update = np.load(f'{c.cachepath}/{c.opt.tag}_vague_{i_wave}.npy')\n",
    "        z_smooth = (1.-smooth)*z_previous_update + smooth*z_update\n",
    "        # z = np.concatenate((z, z_smooth), axis=-1)\n",
    "        np.save(fname, z_smooth)\n",
    "\n",
    "del z_previous_update\n",
    "del z_update\n",
    "del z_smooth\n",
    "\n",
    "# for i_wave in trange(N_wave):\n",
    "#     fname = f'{c.cachepath}/{c.opt.tag}_vague_{i_wave}.npy'\n",
    "#     os.remove(fname)\n"
   ]
  },
  {
   "cell_type": "code",
   "execution_count": null,
   "metadata": {},
   "outputs": [],
   "source": [
    "print(c.opt)"
   ]
  },
  {
   "cell_type": "code",
   "execution_count": null,
   "metadata": {},
   "outputs": [],
   "source": [
    "# z.shape, z.min(), z.mean(), z.max()"
   ]
  },
  {
   "cell_type": "code",
   "execution_count": null,
   "metadata": {},
   "outputs": [],
   "source": [
    "%whos"
   ]
  },
  {
   "cell_type": "code",
   "execution_count": null,
   "metadata": {},
   "outputs": [],
   "source": [
    "output_filename = c.get_filename(note='_vague')\n",
    "if not(os.path.isfile(output_filename)) or c.opt.do_recompute:\n",
    "    z_q = (z*(2**c.opt.n_bits-1)).astype(c.np_dtype)\n",
    "    print(z_q.shape, z_q.min(), z_q.mean(), z_q.max())\n",
    "    output_filename = make_mp4(output_filename, z_q, fps=opt.fps)\n",
    "    del z_q\n",
    "del z\n",
    "c.show(output_filename)"
   ]
  },
  {
   "cell_type": "markdown",
   "metadata": {},
   "source": [
    "## la caustique de la longue vague\n"
   ]
  },
  {
   "cell_type": "code",
   "execution_count": null,
   "metadata": {},
   "outputs": [],
   "source": [
    "# filename = f'{c.cachepath}/{c.opt.tag}_caustique.npy'\n",
    "# if os.path.isfile(filename) and not(c.opt.do_recompute):\n",
    "#     image_rgb = np.load(filename)\n",
    "# else:\n",
    "#     image_rgb = np.zeros((opt.nx, opt.ny, 3, 0))\n",
    "\n",
    "#     for i_wave in trange(N_wave):\n",
    "#         fname = f'{c.cachepath}/{c.opt.tag}_caustique_{i_wave}.npy'\n",
    "#         if os.path.isfile(fname) and not(c.opt.do_recompute):\n",
    "#             image_update = np.load(fname)\n",
    "#         else:        \n",
    "#             z_smooth = np.load(f'{c.cachepath}/{c.opt.tag}_vague_{i_wave}.npy')\n",
    "#             image_update = c.compute(z_smooth, image)\n",
    "#             # print(z.shape, z_update.shape)\n",
    "#             np.save(fname, image_update)\n",
    "#         image_rgb = np.concatenate((image_rgb, image_update), axis=-1)\n",
    "\n",
    "#     np.save(filename, image_rgb)\n",
    "#     del z_smooth \n",
    "#     del image_update\n"
   ]
  },
  {
   "cell_type": "code",
   "execution_count": null,
   "metadata": {},
   "outputs": [],
   "source": [
    "# image_rgb = np.zeros((opt.nx, opt.ny, 3, 0))\n",
    "\n",
    "# smooth = (c_chunk.ft - c_chunk.ft.min())/(c_chunk.ft.max() - c_chunk.ft.min()) # smoothly progress from 0. to 1.\n",
    "# z = np.zeros((opt.nx, opt.ny, 0))\n",
    "# for i_wave in trange(N_wave):\n",
    "#     z_smooth = (1.-smooth)*z_updates[i_wave-1] + smooth*z_updates[i_wave]\n",
    "#     z = np.concatenate((z, z_smooth), axis=-1)\n",
    "\n",
    "for i_wave in trange(N_wave):\n",
    "    fname = f'{c.cachepath}/{c.opt.tag}_caustique_{i_wave}.npy'\n",
    "    if os.path.isfile(fname) and not(c.opt.do_recompute):\n",
    "        image_update = np.load(fname)\n",
    "    else:        \n",
    "        z_smooth = np.load(f'{c.cachepath}/{c.opt.tag}_vague-smooth_{i_wave}.npy')\n",
    "        image_update = c.compute(z_smooth, image)\n",
    "        # print(z.shape, z_update.shape)\n",
    "        np.save(fname, image_update)\n",
    "        del z_smooth \n",
    "    # image_rgb = np.concatenate((image_rgb, image_update), axis=-1)\n",
    "del image_update"
   ]
  },
  {
   "cell_type": "code",
   "execution_count": null,
   "metadata": {},
   "outputs": [],
   "source": [
    "# image_rgb = np.zeros((opt.nx//opt.bin_dens, opt.ny//opt.bin_dens, 3, 0))\n",
    "\n",
    "# for i_wave in trange(N_wave):\n",
    "#     fname = f'{c.cachepath}/{c.opt.tag}_caustique_{i_wave}.npy'\n",
    "#     image_update = np.load(fname)\n",
    "#     image_rgb = np.concatenate((image_rgb, image_update), axis=-1)\n",
    "\n",
    "# del image_update\n",
    "# del image_rgb"
   ]
  },
  {
   "cell_type": "code",
   "execution_count": null,
   "metadata": {},
   "outputs": [],
   "source": [
    "# c = Caustique(init(tag='longue_caustique'))\n",
    "# image = generate_image(nx=opt.nx, ny=opt.ny)\n",
    "# image = generate_image(nx=opt.nx, ny=opt.ny)\n",
    "# output_filename = c.plot(z, image)\n",
    "# print(output_filename)"
   ]
  },
  {
   "cell_type": "code",
   "execution_count": null,
   "metadata": {},
   "outputs": [],
   "source": [
    "# %whos"
   ]
  },
  {
   "cell_type": "code",
   "execution_count": null,
   "metadata": {},
   "outputs": [],
   "source": [
    "# output_filename = c.get_filename(note='_caustique')\n",
    "# if not(os.path.isfile(output_filename)) or c.opt.do_recompute:\n",
    "#     output_filename = make_mp4(output_filename, (image_rgb*(2**c.opt.n_bits-1)).astype(c.np_dtype), fps=opt.fps)\n",
    "# c.show(output_filename)"
   ]
  },
  {
   "cell_type": "code",
   "execution_count": null,
   "metadata": {},
   "outputs": [],
   "source": [
    "output_filename = c.get_filename(note='_caustique')\n",
    "if True: #not(os.path.isfile(output_filename)) or c.opt.do_recompute:\n",
    "\n",
    "    with imageio.v2.get_writer(\n",
    "        output_filename,\n",
    "        format='FFmpeg', \n",
    "        mode='I',\n",
    "        # format='av', \n",
    "        fps=opt.fps,\n",
    "        # pixelformat=pix_fmt\n",
    "        # codec='ffv1',  # Use FFV1 for lossless compression\n",
    "        ) as writer:\n",
    "\n",
    "        for i_wave in trange(N_wave):\n",
    "            fname = f'{c.cachepath}/{c.opt.tag}_caustique_{i_wave}.npy'\n",
    "            frames = np.load(fname)\n",
    "\n",
    "            for i_frame in range(frames.shape[-1]):\n",
    "                # Append the frame to the video writer\n",
    "                writer.append_data((frames[..., i_frame]*(2**c.opt.n_bits-1)).astype(c.np_dtype))\n",
    "\n",
    "c.show(output_filename)"
   ]
  },
  {
   "cell_type": "code",
   "execution_count": null,
   "metadata": {},
   "outputs": [],
   "source": [
    "print(output_filename)"
   ]
  },
  {
   "cell_type": "code",
   "execution_count": null,
   "metadata": {},
   "outputs": [],
   "source": [
    "not(os.path.isfile(output_filename))"
   ]
  },
  {
   "cell_type": "code",
   "execution_count": null,
   "metadata": {},
   "outputs": [],
   "source": []
  }
 ],
 "metadata": {
  "kernelspec": {
   "display_name": ".venv",
   "language": "python",
   "name": "python3"
  },
  "language_info": {
   "codemirror_mode": {
    "name": "ipython",
    "version": 3
   },
   "file_extension": ".py",
   "mimetype": "text/x-python",
   "name": "python",
   "nbconvert_exporter": "python",
   "pygments_lexer": "ipython3",
   "version": "3.13.9"
  },
  "nteract": {
   "version": "0.28.0"
  },
  "widgets": {
   "application/vnd.jupyter.widget-state+json": {
    "state": {
     "035ab33361e7432caecc80ca2a176575": {
      "model_module": "@jupyter-widgets/controls",
      "model_module_version": "2.0.0",
      "model_name": "FloatProgressModel",
      "state": {
       "_dom_classes": [],
       "_model_module": "@jupyter-widgets/controls",
       "_model_module_version": "2.0.0",
       "_model_name": "FloatProgressModel",
       "_view_count": null,
       "_view_module": "@jupyter-widgets/controls",
       "_view_module_version": "2.0.0",
       "_view_name": "ProgressView",
       "bar_style": "success",
       "description": "",
       "description_allow_html": false,
       "layout": "IPY_MODEL_77f9a290f7dd4b219ba4f735555140e1",
       "max": 256,
       "min": 0,
       "orientation": "horizontal",
       "style": "IPY_MODEL_84e6789a386f4cc3b967f7880483983c",
       "tabbable": null,
       "tooltip": null,
       "value": 256
      }
     },
     "0b73ffb834c2419c973499fdf717431d": {
      "model_module": "@jupyter-widgets/base",
      "model_module_version": "2.0.0",
      "model_name": "LayoutModel",
      "state": {
       "_model_module": "@jupyter-widgets/base",
       "_model_module_version": "2.0.0",
       "_model_name": "LayoutModel",
       "_view_count": null,
       "_view_module": "@jupyter-widgets/base",
       "_view_module_version": "2.0.0",
       "_view_name": "LayoutView",
       "align_content": null,
       "align_items": null,
       "align_self": null,
       "border_bottom": null,
       "border_left": null,
       "border_right": null,
       "border_top": null,
       "bottom": null,
       "display": null,
       "flex": null,
       "flex_flow": null,
       "grid_area": null,
       "grid_auto_columns": null,
       "grid_auto_flow": null,
       "grid_auto_rows": null,
       "grid_column": null,
       "grid_gap": null,
       "grid_row": null,
       "grid_template_areas": null,
       "grid_template_columns": null,
       "grid_template_rows": null,
       "height": null,
       "justify_content": null,
       "justify_items": null,
       "left": null,
       "margin": null,
       "max_height": null,
       "max_width": null,
       "min_height": null,
       "min_width": null,
       "object_fit": null,
       "object_position": null,
       "order": null,
       "overflow": null,
       "padding": null,
       "right": null,
       "top": null,
       "visibility": null,
       "width": null
      }
     },
     "11ae0a75f5b344f396d64dc0adfc23d4": {
      "model_module": "@jupyter-widgets/controls",
      "model_module_version": "2.0.0",
      "model_name": "HTMLStyleModel",
      "state": {
       "_model_module": "@jupyter-widgets/controls",
       "_model_module_version": "2.0.0",
       "_model_name": "HTMLStyleModel",
       "_view_count": null,
       "_view_module": "@jupyter-widgets/base",
       "_view_module_version": "2.0.0",
       "_view_name": "StyleView",
       "background": null,
       "description_width": "",
       "font_size": null,
       "text_color": null
      }
     },
     "1216f0c7b01543ab9e1c4767e78ec994": {
      "model_module": "@jupyter-widgets/base",
      "model_module_version": "2.0.0",
      "model_name": "LayoutModel",
      "state": {
       "_model_module": "@jupyter-widgets/base",
       "_model_module_version": "2.0.0",
       "_model_name": "LayoutModel",
       "_view_count": null,
       "_view_module": "@jupyter-widgets/base",
       "_view_module_version": "2.0.0",
       "_view_name": "LayoutView",
       "align_content": null,
       "align_items": null,
       "align_self": null,
       "border_bottom": null,
       "border_left": null,
       "border_right": null,
       "border_top": null,
       "bottom": null,
       "display": null,
       "flex": null,
       "flex_flow": null,
       "grid_area": null,
       "grid_auto_columns": null,
       "grid_auto_flow": null,
       "grid_auto_rows": null,
       "grid_column": null,
       "grid_gap": null,
       "grid_row": null,
       "grid_template_areas": null,
       "grid_template_columns": null,
       "grid_template_rows": null,
       "height": null,
       "justify_content": null,
       "justify_items": null,
       "left": null,
       "margin": null,
       "max_height": null,
       "max_width": null,
       "min_height": null,
       "min_width": null,
       "object_fit": null,
       "object_position": null,
       "order": null,
       "overflow": null,
       "padding": null,
       "right": null,
       "top": null,
       "visibility": null,
       "width": null
      }
     },
     "17ebce389fa846d99920f6c9c3a1210c": {
      "model_module": "@jupyter-widgets/controls",
      "model_module_version": "2.0.0",
      "model_name": "HTMLModel",
      "state": {
       "_dom_classes": [],
       "_model_module": "@jupyter-widgets/controls",
       "_model_module_version": "2.0.0",
       "_model_name": "HTMLModel",
       "_view_count": null,
       "_view_module": "@jupyter-widgets/controls",
       "_view_module_version": "2.0.0",
       "_view_name": "HTMLView",
       "description": "",
       "description_allow_html": false,
       "layout": "IPY_MODEL_c078cae24ae7430bace625a76b1cb988",
       "placeholder": "​",
       "style": "IPY_MODEL_f16c0a10ddef42d883635f671bda9653",
       "tabbable": null,
       "tooltip": null,
       "value": "100%"
      }
     },
     "190c5912ea914b8bb29e2203e0c9d745": {
      "model_module": "@jupyter-widgets/controls",
      "model_module_version": "2.0.0",
      "model_name": "FloatProgressModel",
      "state": {
       "_dom_classes": [],
       "_model_module": "@jupyter-widgets/controls",
       "_model_module_version": "2.0.0",
       "_model_name": "FloatProgressModel",
       "_view_count": null,
       "_view_module": "@jupyter-widgets/controls",
       "_view_module_version": "2.0.0",
       "_view_name": "ProgressView",
       "bar_style": "success",
       "description": "",
       "description_allow_html": false,
       "layout": "IPY_MODEL_d2044911f735442cbe3dc75e7249db0f",
       "max": 256,
       "min": 0,
       "orientation": "horizontal",
       "style": "IPY_MODEL_cd112c61118142adadc1ffdc3d4fd7dc",
       "tabbable": null,
       "tooltip": null,
       "value": 256
      }
     },
     "19f777cef46a4e6980ab4469675293a5": {
      "model_module": "@jupyter-widgets/controls",
      "model_module_version": "2.0.0",
      "model_name": "FloatProgressModel",
      "state": {
       "_dom_classes": [],
       "_model_module": "@jupyter-widgets/controls",
       "_model_module_version": "2.0.0",
       "_model_name": "FloatProgressModel",
       "_view_count": null,
       "_view_module": "@jupyter-widgets/controls",
       "_view_module_version": "2.0.0",
       "_view_name": "ProgressView",
       "bar_style": "success",
       "description": "",
       "description_allow_html": false,
       "layout": "IPY_MODEL_4a9c13ffbb134906a5773a04df09a848",
       "max": 256,
       "min": 0,
       "orientation": "horizontal",
       "style": "IPY_MODEL_408b9a2d642145409181ce414bf5f650",
       "tabbable": null,
       "tooltip": null,
       "value": 256
      }
     },
     "1e646c9ebcb840a28822c80b583c341d": {
      "model_module": "@jupyter-widgets/controls",
      "model_module_version": "2.0.0",
      "model_name": "FloatProgressModel",
      "state": {
       "_dom_classes": [],
       "_model_module": "@jupyter-widgets/controls",
       "_model_module_version": "2.0.0",
       "_model_name": "FloatProgressModel",
       "_view_count": null,
       "_view_module": "@jupyter-widgets/controls",
       "_view_module_version": "2.0.0",
       "_view_name": "ProgressView",
       "bar_style": "success",
       "description": "",
       "description_allow_html": false,
       "layout": "IPY_MODEL_231d8780a5db46418e5778863597aac4",
       "max": 256,
       "min": 0,
       "orientation": "horizontal",
       "style": "IPY_MODEL_cc8031db1bd442d1a481d859e4f8c3d1",
       "tabbable": null,
       "tooltip": null,
       "value": 256
      }
     },
     "231d8780a5db46418e5778863597aac4": {
      "model_module": "@jupyter-widgets/base",
      "model_module_version": "2.0.0",
      "model_name": "LayoutModel",
      "state": {
       "_model_module": "@jupyter-widgets/base",
       "_model_module_version": "2.0.0",
       "_model_name": "LayoutModel",
       "_view_count": null,
       "_view_module": "@jupyter-widgets/base",
       "_view_module_version": "2.0.0",
       "_view_name": "LayoutView",
       "align_content": null,
       "align_items": null,
       "align_self": null,
       "border_bottom": null,
       "border_left": null,
       "border_right": null,
       "border_top": null,
       "bottom": null,
       "display": null,
       "flex": null,
       "flex_flow": null,
       "grid_area": null,
       "grid_auto_columns": null,
       "grid_auto_flow": null,
       "grid_auto_rows": null,
       "grid_column": null,
       "grid_gap": null,
       "grid_row": null,
       "grid_template_areas": null,
       "grid_template_columns": null,
       "grid_template_rows": null,
       "height": null,
       "justify_content": null,
       "justify_items": null,
       "left": null,
       "margin": null,
       "max_height": null,
       "max_width": null,
       "min_height": null,
       "min_width": null,
       "object_fit": null,
       "object_position": null,
       "order": null,
       "overflow": null,
       "padding": null,
       "right": null,
       "top": null,
       "visibility": null,
       "width": null
      }
     },
     "2410a91c9a7a4826b7d3c14d541ff69d": {
      "model_module": "@jupyter-widgets/base",
      "model_module_version": "2.0.0",
      "model_name": "LayoutModel",
      "state": {
       "_model_module": "@jupyter-widgets/base",
       "_model_module_version": "2.0.0",
       "_model_name": "LayoutModel",
       "_view_count": null,
       "_view_module": "@jupyter-widgets/base",
       "_view_module_version": "2.0.0",
       "_view_name": "LayoutView",
       "align_content": null,
       "align_items": null,
       "align_self": null,
       "border_bottom": null,
       "border_left": null,
       "border_right": null,
       "border_top": null,
       "bottom": null,
       "display": null,
       "flex": null,
       "flex_flow": null,
       "grid_area": null,
       "grid_auto_columns": null,
       "grid_auto_flow": null,
       "grid_auto_rows": null,
       "grid_column": null,
       "grid_gap": null,
       "grid_row": null,
       "grid_template_areas": null,
       "grid_template_columns": null,
       "grid_template_rows": null,
       "height": null,
       "justify_content": null,
       "justify_items": null,
       "left": null,
       "margin": null,
       "max_height": null,
       "max_width": null,
       "min_height": null,
       "min_width": null,
       "object_fit": null,
       "object_position": null,
       "order": null,
       "overflow": null,
       "padding": null,
       "right": null,
       "top": null,
       "visibility": null,
       "width": null
      }
     },
     "2b93a83bd14041d0bf240a1e8ed105da": {
      "model_module": "@jupyter-widgets/controls",
      "model_module_version": "2.0.0",
      "model_name": "HBoxModel",
      "state": {
       "_dom_classes": [],
       "_model_module": "@jupyter-widgets/controls",
       "_model_module_version": "2.0.0",
       "_model_name": "HBoxModel",
       "_view_count": null,
       "_view_module": "@jupyter-widgets/controls",
       "_view_module_version": "2.0.0",
       "_view_name": "HBoxView",
       "box_style": "",
       "children": [
        "IPY_MODEL_17ebce389fa846d99920f6c9c3a1210c",
        "IPY_MODEL_190c5912ea914b8bb29e2203e0c9d745",
        "IPY_MODEL_d0069e861bec45358c5749eb8eb64139"
       ],
       "layout": "IPY_MODEL_391312d9ce614c36bd1c1339c4c1d3fa",
       "tabbable": null,
       "tooltip": null
      }
     },
     "33722c82ab7341d5ab4b56bce068d1e0": {
      "model_module": "@jupyter-widgets/controls",
      "model_module_version": "2.0.0",
      "model_name": "HBoxModel",
      "state": {
       "_dom_classes": [],
       "_model_module": "@jupyter-widgets/controls",
       "_model_module_version": "2.0.0",
       "_model_name": "HBoxModel",
       "_view_count": null,
       "_view_module": "@jupyter-widgets/controls",
       "_view_module_version": "2.0.0",
       "_view_name": "HBoxView",
       "box_style": "",
       "children": [
        "IPY_MODEL_34fc442a740f453aa8eb4733a00b33ee",
        "IPY_MODEL_19f777cef46a4e6980ab4469675293a5",
        "IPY_MODEL_466bad0aef824176a0778b38af7f0cc8"
       ],
       "layout": "IPY_MODEL_1216f0c7b01543ab9e1c4767e78ec994",
       "tabbable": null,
       "tooltip": null
      }
     },
     "34fc442a740f453aa8eb4733a00b33ee": {
      "model_module": "@jupyter-widgets/controls",
      "model_module_version": "2.0.0",
      "model_name": "HTMLModel",
      "state": {
       "_dom_classes": [],
       "_model_module": "@jupyter-widgets/controls",
       "_model_module_version": "2.0.0",
       "_model_name": "HTMLModel",
       "_view_count": null,
       "_view_module": "@jupyter-widgets/controls",
       "_view_module_version": "2.0.0",
       "_view_name": "HTMLView",
       "description": "",
       "description_allow_html": false,
       "layout": "IPY_MODEL_c26548a3142c45f1adfa8abc1815ac5f",
       "placeholder": "​",
       "style": "IPY_MODEL_11ae0a75f5b344f396d64dc0adfc23d4",
       "tabbable": null,
       "tooltip": null,
       "value": "100%"
      }
     },
     "372ec21d55b140a3b2f2485311a94b90": {
      "model_module": "@jupyter-widgets/controls",
      "model_module_version": "2.0.0",
      "model_name": "HTMLStyleModel",
      "state": {
       "_model_module": "@jupyter-widgets/controls",
       "_model_module_version": "2.0.0",
       "_model_name": "HTMLStyleModel",
       "_view_count": null,
       "_view_module": "@jupyter-widgets/base",
       "_view_module_version": "2.0.0",
       "_view_name": "StyleView",
       "background": null,
       "description_width": "",
       "font_size": null,
       "text_color": null
      }
     },
     "38a8e734f8a54c31bea5268b58557a88": {
      "model_module": "@jupyter-widgets/controls",
      "model_module_version": "2.0.0",
      "model_name": "HBoxModel",
      "state": {
       "_dom_classes": [],
       "_model_module": "@jupyter-widgets/controls",
       "_model_module_version": "2.0.0",
       "_model_name": "HBoxModel",
       "_view_count": null,
       "_view_module": "@jupyter-widgets/controls",
       "_view_module_version": "2.0.0",
       "_view_name": "HBoxView",
       "box_style": "",
       "children": [
        "IPY_MODEL_b8499c15522745cd9981166aa85f493d",
        "IPY_MODEL_7e3049db598142689e39c20322342839",
        "IPY_MODEL_4b89e27ea7dd4ad2848898a2e945d660"
       ],
       "layout": "IPY_MODEL_d69c4d7c0ffd4195b09a98ea697a7a77",
       "tabbable": null,
       "tooltip": null
      }
     },
     "391312d9ce614c36bd1c1339c4c1d3fa": {
      "model_module": "@jupyter-widgets/base",
      "model_module_version": "2.0.0",
      "model_name": "LayoutModel",
      "state": {
       "_model_module": "@jupyter-widgets/base",
       "_model_module_version": "2.0.0",
       "_model_name": "LayoutModel",
       "_view_count": null,
       "_view_module": "@jupyter-widgets/base",
       "_view_module_version": "2.0.0",
       "_view_name": "LayoutView",
       "align_content": null,
       "align_items": null,
       "align_self": null,
       "border_bottom": null,
       "border_left": null,
       "border_right": null,
       "border_top": null,
       "bottom": null,
       "display": null,
       "flex": null,
       "flex_flow": null,
       "grid_area": null,
       "grid_auto_columns": null,
       "grid_auto_flow": null,
       "grid_auto_rows": null,
       "grid_column": null,
       "grid_gap": null,
       "grid_row": null,
       "grid_template_areas": null,
       "grid_template_columns": null,
       "grid_template_rows": null,
       "height": null,
       "justify_content": null,
       "justify_items": null,
       "left": null,
       "margin": null,
       "max_height": null,
       "max_width": null,
       "min_height": null,
       "min_width": null,
       "object_fit": null,
       "object_position": null,
       "order": null,
       "overflow": null,
       "padding": null,
       "right": null,
       "top": null,
       "visibility": null,
       "width": null
      }
     },
     "408b9a2d642145409181ce414bf5f650": {
      "model_module": "@jupyter-widgets/controls",
      "model_module_version": "2.0.0",
      "model_name": "ProgressStyleModel",
      "state": {
       "_model_module": "@jupyter-widgets/controls",
       "_model_module_version": "2.0.0",
       "_model_name": "ProgressStyleModel",
       "_view_count": null,
       "_view_module": "@jupyter-widgets/base",
       "_view_module_version": "2.0.0",
       "_view_name": "StyleView",
       "bar_color": null,
       "description_width": ""
      }
     },
     "40e490736bdb4e9b91ecc29d8ebfcb9a": {
      "model_module": "@jupyter-widgets/controls",
      "model_module_version": "2.0.0",
      "model_name": "HTMLModel",
      "state": {
       "_dom_classes": [],
       "_model_module": "@jupyter-widgets/controls",
       "_model_module_version": "2.0.0",
       "_model_name": "HTMLModel",
       "_view_count": null,
       "_view_module": "@jupyter-widgets/controls",
       "_view_module_version": "2.0.0",
       "_view_name": "HTMLView",
       "description": "",
       "description_allow_html": false,
       "layout": "IPY_MODEL_0b73ffb834c2419c973499fdf717431d",
       "placeholder": "​",
       "style": "IPY_MODEL_92ddbe5f71f340e09a33f004c0f625c0",
       "tabbable": null,
       "tooltip": null,
       "value": "100%"
      }
     },
     "41c8f627da6e4adda218239203e2aaca": {
      "model_module": "@jupyter-widgets/base",
      "model_module_version": "2.0.0",
      "model_name": "LayoutModel",
      "state": {
       "_model_module": "@jupyter-widgets/base",
       "_model_module_version": "2.0.0",
       "_model_name": "LayoutModel",
       "_view_count": null,
       "_view_module": "@jupyter-widgets/base",
       "_view_module_version": "2.0.0",
       "_view_name": "LayoutView",
       "align_content": null,
       "align_items": null,
       "align_self": null,
       "border_bottom": null,
       "border_left": null,
       "border_right": null,
       "border_top": null,
       "bottom": null,
       "display": null,
       "flex": null,
       "flex_flow": null,
       "grid_area": null,
       "grid_auto_columns": null,
       "grid_auto_flow": null,
       "grid_auto_rows": null,
       "grid_column": null,
       "grid_gap": null,
       "grid_row": null,
       "grid_template_areas": null,
       "grid_template_columns": null,
       "grid_template_rows": null,
       "height": null,
       "justify_content": null,
       "justify_items": null,
       "left": null,
       "margin": null,
       "max_height": null,
       "max_width": null,
       "min_height": null,
       "min_width": null,
       "object_fit": null,
       "object_position": null,
       "order": null,
       "overflow": null,
       "padding": null,
       "right": null,
       "top": null,
       "visibility": null,
       "width": null
      }
     },
     "466bad0aef824176a0778b38af7f0cc8": {
      "model_module": "@jupyter-widgets/controls",
      "model_module_version": "2.0.0",
      "model_name": "HTMLModel",
      "state": {
       "_dom_classes": [],
       "_model_module": "@jupyter-widgets/controls",
       "_model_module_version": "2.0.0",
       "_model_name": "HTMLModel",
       "_view_count": null,
       "_view_module": "@jupyter-widgets/controls",
       "_view_module_version": "2.0.0",
       "_view_name": "HTMLView",
       "description": "",
       "description_allow_html": false,
       "layout": "IPY_MODEL_fd94337716a24629bbbf38eb2d910e17",
       "placeholder": "​",
       "style": "IPY_MODEL_62eaeb24301b45bdbed6f793ae2a80d3",
       "tabbable": null,
       "tooltip": null,
       "value": " 256/256 [28:51&lt;00:00,  6.95s/it]"
      }
     },
     "4a9c13ffbb134906a5773a04df09a848": {
      "model_module": "@jupyter-widgets/base",
      "model_module_version": "2.0.0",
      "model_name": "LayoutModel",
      "state": {
       "_model_module": "@jupyter-widgets/base",
       "_model_module_version": "2.0.0",
       "_model_name": "LayoutModel",
       "_view_count": null,
       "_view_module": "@jupyter-widgets/base",
       "_view_module_version": "2.0.0",
       "_view_name": "LayoutView",
       "align_content": null,
       "align_items": null,
       "align_self": null,
       "border_bottom": null,
       "border_left": null,
       "border_right": null,
       "border_top": null,
       "bottom": null,
       "display": null,
       "flex": null,
       "flex_flow": null,
       "grid_area": null,
       "grid_auto_columns": null,
       "grid_auto_flow": null,
       "grid_auto_rows": null,
       "grid_column": null,
       "grid_gap": null,
       "grid_row": null,
       "grid_template_areas": null,
       "grid_template_columns": null,
       "grid_template_rows": null,
       "height": null,
       "justify_content": null,
       "justify_items": null,
       "left": null,
       "margin": null,
       "max_height": null,
       "max_width": null,
       "min_height": null,
       "min_width": null,
       "object_fit": null,
       "object_position": null,
       "order": null,
       "overflow": null,
       "padding": null,
       "right": null,
       "top": null,
       "visibility": null,
       "width": null
      }
     },
     "4b89e27ea7dd4ad2848898a2e945d660": {
      "model_module": "@jupyter-widgets/controls",
      "model_module_version": "2.0.0",
      "model_name": "HTMLModel",
      "state": {
       "_dom_classes": [],
       "_model_module": "@jupyter-widgets/controls",
       "_model_module_version": "2.0.0",
       "_model_name": "HTMLModel",
       "_view_count": null,
       "_view_module": "@jupyter-widgets/controls",
       "_view_module_version": "2.0.0",
       "_view_name": "HTMLView",
       "description": "",
       "description_allow_html": false,
       "layout": "IPY_MODEL_6842b6809a9e45cfb0e702de8bc33a4a",
       "placeholder": "​",
       "style": "IPY_MODEL_c59fd60c9cf0495b922c74febebcfd99",
       "tabbable": null,
       "tooltip": null,
       "value": " 256/256 [27:26&lt;00:00,  6.35s/it]"
      }
     },
     "4bc5b7e763bd41efb3f51b7faf6b2553": {
      "model_module": "@jupyter-widgets/base",
      "model_module_version": "2.0.0",
      "model_name": "LayoutModel",
      "state": {
       "_model_module": "@jupyter-widgets/base",
       "_model_module_version": "2.0.0",
       "_model_name": "LayoutModel",
       "_view_count": null,
       "_view_module": "@jupyter-widgets/base",
       "_view_module_version": "2.0.0",
       "_view_name": "LayoutView",
       "align_content": null,
       "align_items": null,
       "align_self": null,
       "border_bottom": null,
       "border_left": null,
       "border_right": null,
       "border_top": null,
       "bottom": null,
       "display": null,
       "flex": null,
       "flex_flow": null,
       "grid_area": null,
       "grid_auto_columns": null,
       "grid_auto_flow": null,
       "grid_auto_rows": null,
       "grid_column": null,
       "grid_gap": null,
       "grid_row": null,
       "grid_template_areas": null,
       "grid_template_columns": null,
       "grid_template_rows": null,
       "height": null,
       "justify_content": null,
       "justify_items": null,
       "left": null,
       "margin": null,
       "max_height": null,
       "max_width": null,
       "min_height": null,
       "min_width": null,
       "object_fit": null,
       "object_position": null,
       "order": null,
       "overflow": null,
       "padding": null,
       "right": null,
       "top": null,
       "visibility": null,
       "width": null
      }
     },
     "623cfb29c2674e3e8afa956617fee28d": {
      "model_module": "@jupyter-widgets/controls",
      "model_module_version": "2.0.0",
      "model_name": "HTMLModel",
      "state": {
       "_dom_classes": [],
       "_model_module": "@jupyter-widgets/controls",
       "_model_module_version": "2.0.0",
       "_model_name": "HTMLModel",
       "_view_count": null,
       "_view_module": "@jupyter-widgets/controls",
       "_view_module_version": "2.0.0",
       "_view_name": "HTMLView",
       "description": "",
       "description_allow_html": false,
       "layout": "IPY_MODEL_d22ead2504ee49e6bdda108317f45ac1",
       "placeholder": "​",
       "style": "IPY_MODEL_7d93c028c6b249fbbb05b7bb576f6e14",
       "tabbable": null,
       "tooltip": null,
       "value": " 256/256 [29:09&lt;00:00,  6.42s/it]"
      }
     },
     "62eaeb24301b45bdbed6f793ae2a80d3": {
      "model_module": "@jupyter-widgets/controls",
      "model_module_version": "2.0.0",
      "model_name": "HTMLStyleModel",
      "state": {
       "_model_module": "@jupyter-widgets/controls",
       "_model_module_version": "2.0.0",
       "_model_name": "HTMLStyleModel",
       "_view_count": null,
       "_view_module": "@jupyter-widgets/base",
       "_view_module_version": "2.0.0",
       "_view_name": "StyleView",
       "background": null,
       "description_width": "",
       "font_size": null,
       "text_color": null
      }
     },
     "6589ece8f1bd4f259fa2daee94834cee": {
      "model_module": "@jupyter-widgets/base",
      "model_module_version": "2.0.0",
      "model_name": "LayoutModel",
      "state": {
       "_model_module": "@jupyter-widgets/base",
       "_model_module_version": "2.0.0",
       "_model_name": "LayoutModel",
       "_view_count": null,
       "_view_module": "@jupyter-widgets/base",
       "_view_module_version": "2.0.0",
       "_view_name": "LayoutView",
       "align_content": null,
       "align_items": null,
       "align_self": null,
       "border_bottom": null,
       "border_left": null,
       "border_right": null,
       "border_top": null,
       "bottom": null,
       "display": null,
       "flex": null,
       "flex_flow": null,
       "grid_area": null,
       "grid_auto_columns": null,
       "grid_auto_flow": null,
       "grid_auto_rows": null,
       "grid_column": null,
       "grid_gap": null,
       "grid_row": null,
       "grid_template_areas": null,
       "grid_template_columns": null,
       "grid_template_rows": null,
       "height": null,
       "justify_content": null,
       "justify_items": null,
       "left": null,
       "margin": null,
       "max_height": null,
       "max_width": null,
       "min_height": null,
       "min_width": null,
       "object_fit": null,
       "object_position": null,
       "order": null,
       "overflow": null,
       "padding": null,
       "right": null,
       "top": null,
       "visibility": null,
       "width": null
      }
     },
     "6842b6809a9e45cfb0e702de8bc33a4a": {
      "model_module": "@jupyter-widgets/base",
      "model_module_version": "2.0.0",
      "model_name": "LayoutModel",
      "state": {
       "_model_module": "@jupyter-widgets/base",
       "_model_module_version": "2.0.0",
       "_model_name": "LayoutModel",
       "_view_count": null,
       "_view_module": "@jupyter-widgets/base",
       "_view_module_version": "2.0.0",
       "_view_name": "LayoutView",
       "align_content": null,
       "align_items": null,
       "align_self": null,
       "border_bottom": null,
       "border_left": null,
       "border_right": null,
       "border_top": null,
       "bottom": null,
       "display": null,
       "flex": null,
       "flex_flow": null,
       "grid_area": null,
       "grid_auto_columns": null,
       "grid_auto_flow": null,
       "grid_auto_rows": null,
       "grid_column": null,
       "grid_gap": null,
       "grid_row": null,
       "grid_template_areas": null,
       "grid_template_columns": null,
       "grid_template_rows": null,
       "height": null,
       "justify_content": null,
       "justify_items": null,
       "left": null,
       "margin": null,
       "max_height": null,
       "max_width": null,
       "min_height": null,
       "min_width": null,
       "object_fit": null,
       "object_position": null,
       "order": null,
       "overflow": null,
       "padding": null,
       "right": null,
       "top": null,
       "visibility": null,
       "width": null
      }
     },
     "69223a6848db4101aa62cbe286345231": {
      "model_module": "@jupyter-widgets/controls",
      "model_module_version": "2.0.0",
      "model_name": "HBoxModel",
      "state": {
       "_dom_classes": [],
       "_model_module": "@jupyter-widgets/controls",
       "_model_module_version": "2.0.0",
       "_model_name": "HBoxModel",
       "_view_count": null,
       "_view_module": "@jupyter-widgets/controls",
       "_view_module_version": "2.0.0",
       "_view_name": "HBoxView",
       "box_style": "",
       "children": [
        "IPY_MODEL_fbcf6af361ec40ffba104e09c0d7eb15",
        "IPY_MODEL_035ab33361e7432caecc80ca2a176575",
        "IPY_MODEL_9ae4138d5c6040ff8f31487f21120a6e"
       ],
       "layout": "IPY_MODEL_937ce84eb341402aac3fa07fed6cafd0",
       "tabbable": null,
       "tooltip": null
      }
     },
     "7279d281d2c34657bff252e8df63f4c5": {
      "model_module": "@jupyter-widgets/controls",
      "model_module_version": "2.0.0",
      "model_name": "HTMLStyleModel",
      "state": {
       "_model_module": "@jupyter-widgets/controls",
       "_model_module_version": "2.0.0",
       "_model_name": "HTMLStyleModel",
       "_view_count": null,
       "_view_module": "@jupyter-widgets/base",
       "_view_module_version": "2.0.0",
       "_view_name": "StyleView",
       "background": null,
       "description_width": "",
       "font_size": null,
       "text_color": null
      }
     },
     "77f9a290f7dd4b219ba4f735555140e1": {
      "model_module": "@jupyter-widgets/base",
      "model_module_version": "2.0.0",
      "model_name": "LayoutModel",
      "state": {
       "_model_module": "@jupyter-widgets/base",
       "_model_module_version": "2.0.0",
       "_model_name": "LayoutModel",
       "_view_count": null,
       "_view_module": "@jupyter-widgets/base",
       "_view_module_version": "2.0.0",
       "_view_name": "LayoutView",
       "align_content": null,
       "align_items": null,
       "align_self": null,
       "border_bottom": null,
       "border_left": null,
       "border_right": null,
       "border_top": null,
       "bottom": null,
       "display": null,
       "flex": null,
       "flex_flow": null,
       "grid_area": null,
       "grid_auto_columns": null,
       "grid_auto_flow": null,
       "grid_auto_rows": null,
       "grid_column": null,
       "grid_gap": null,
       "grid_row": null,
       "grid_template_areas": null,
       "grid_template_columns": null,
       "grid_template_rows": null,
       "height": null,
       "justify_content": null,
       "justify_items": null,
       "left": null,
       "margin": null,
       "max_height": null,
       "max_width": null,
       "min_height": null,
       "min_width": null,
       "object_fit": null,
       "object_position": null,
       "order": null,
       "overflow": null,
       "padding": null,
       "right": null,
       "top": null,
       "visibility": null,
       "width": null
      }
     },
     "7d93c028c6b249fbbb05b7bb576f6e14": {
      "model_module": "@jupyter-widgets/controls",
      "model_module_version": "2.0.0",
      "model_name": "HTMLStyleModel",
      "state": {
       "_model_module": "@jupyter-widgets/controls",
       "_model_module_version": "2.0.0",
       "_model_name": "HTMLStyleModel",
       "_view_count": null,
       "_view_module": "@jupyter-widgets/base",
       "_view_module_version": "2.0.0",
       "_view_name": "StyleView",
       "background": null,
       "description_width": "",
       "font_size": null,
       "text_color": null
      }
     },
     "7e3049db598142689e39c20322342839": {
      "model_module": "@jupyter-widgets/controls",
      "model_module_version": "2.0.0",
      "model_name": "FloatProgressModel",
      "state": {
       "_dom_classes": [],
       "_model_module": "@jupyter-widgets/controls",
       "_model_module_version": "2.0.0",
       "_model_name": "FloatProgressModel",
       "_view_count": null,
       "_view_module": "@jupyter-widgets/controls",
       "_view_module_version": "2.0.0",
       "_view_name": "ProgressView",
       "bar_style": "success",
       "description": "",
       "description_allow_html": false,
       "layout": "IPY_MODEL_6589ece8f1bd4f259fa2daee94834cee",
       "max": 256,
       "min": 0,
       "orientation": "horizontal",
       "style": "IPY_MODEL_bd094cda8b3c4855a4ed1300edf3f2c3",
       "tabbable": null,
       "tooltip": null,
       "value": 256
      }
     },
     "84e6789a386f4cc3b967f7880483983c": {
      "model_module": "@jupyter-widgets/controls",
      "model_module_version": "2.0.0",
      "model_name": "ProgressStyleModel",
      "state": {
       "_model_module": "@jupyter-widgets/controls",
       "_model_module_version": "2.0.0",
       "_model_name": "ProgressStyleModel",
       "_view_count": null,
       "_view_module": "@jupyter-widgets/base",
       "_view_module_version": "2.0.0",
       "_view_name": "StyleView",
       "bar_color": null,
       "description_width": ""
      }
     },
     "92ddbe5f71f340e09a33f004c0f625c0": {
      "model_module": "@jupyter-widgets/controls",
      "model_module_version": "2.0.0",
      "model_name": "HTMLStyleModel",
      "state": {
       "_model_module": "@jupyter-widgets/controls",
       "_model_module_version": "2.0.0",
       "_model_name": "HTMLStyleModel",
       "_view_count": null,
       "_view_module": "@jupyter-widgets/base",
       "_view_module_version": "2.0.0",
       "_view_name": "StyleView",
       "background": null,
       "description_width": "",
       "font_size": null,
       "text_color": null
      }
     },
     "937ce84eb341402aac3fa07fed6cafd0": {
      "model_module": "@jupyter-widgets/base",
      "model_module_version": "2.0.0",
      "model_name": "LayoutModel",
      "state": {
       "_model_module": "@jupyter-widgets/base",
       "_model_module_version": "2.0.0",
       "_model_name": "LayoutModel",
       "_view_count": null,
       "_view_module": "@jupyter-widgets/base",
       "_view_module_version": "2.0.0",
       "_view_name": "LayoutView",
       "align_content": null,
       "align_items": null,
       "align_self": null,
       "border_bottom": null,
       "border_left": null,
       "border_right": null,
       "border_top": null,
       "bottom": null,
       "display": null,
       "flex": null,
       "flex_flow": null,
       "grid_area": null,
       "grid_auto_columns": null,
       "grid_auto_flow": null,
       "grid_auto_rows": null,
       "grid_column": null,
       "grid_gap": null,
       "grid_row": null,
       "grid_template_areas": null,
       "grid_template_columns": null,
       "grid_template_rows": null,
       "height": null,
       "justify_content": null,
       "justify_items": null,
       "left": null,
       "margin": null,
       "max_height": null,
       "max_width": null,
       "min_height": null,
       "min_width": null,
       "object_fit": null,
       "object_position": null,
       "order": null,
       "overflow": null,
       "padding": null,
       "right": null,
       "top": null,
       "visibility": null,
       "width": null
      }
     },
     "9650fef1b09348cb8cff5a63a56850b7": {
      "model_module": "@jupyter-widgets/base",
      "model_module_version": "2.0.0",
      "model_name": "LayoutModel",
      "state": {
       "_model_module": "@jupyter-widgets/base",
       "_model_module_version": "2.0.0",
       "_model_name": "LayoutModel",
       "_view_count": null,
       "_view_module": "@jupyter-widgets/base",
       "_view_module_version": "2.0.0",
       "_view_name": "LayoutView",
       "align_content": null,
       "align_items": null,
       "align_self": null,
       "border_bottom": null,
       "border_left": null,
       "border_right": null,
       "border_top": null,
       "bottom": null,
       "display": null,
       "flex": null,
       "flex_flow": null,
       "grid_area": null,
       "grid_auto_columns": null,
       "grid_auto_flow": null,
       "grid_auto_rows": null,
       "grid_column": null,
       "grid_gap": null,
       "grid_row": null,
       "grid_template_areas": null,
       "grid_template_columns": null,
       "grid_template_rows": null,
       "height": null,
       "justify_content": null,
       "justify_items": null,
       "left": null,
       "margin": null,
       "max_height": null,
       "max_width": null,
       "min_height": null,
       "min_width": null,
       "object_fit": null,
       "object_position": null,
       "order": null,
       "overflow": null,
       "padding": null,
       "right": null,
       "top": null,
       "visibility": null,
       "width": null
      }
     },
     "9a36404c5a734fb38c2b22c9878a5745": {
      "model_module": "@jupyter-widgets/controls",
      "model_module_version": "2.0.0",
      "model_name": "HBoxModel",
      "state": {
       "_dom_classes": [],
       "_model_module": "@jupyter-widgets/controls",
       "_model_module_version": "2.0.0",
       "_model_name": "HBoxModel",
       "_view_count": null,
       "_view_module": "@jupyter-widgets/controls",
       "_view_module_version": "2.0.0",
       "_view_name": "HBoxView",
       "box_style": "",
       "children": [
        "IPY_MODEL_40e490736bdb4e9b91ecc29d8ebfcb9a",
        "IPY_MODEL_1e646c9ebcb840a28822c80b583c341d",
        "IPY_MODEL_623cfb29c2674e3e8afa956617fee28d"
       ],
       "layout": "IPY_MODEL_41c8f627da6e4adda218239203e2aaca",
       "tabbable": null,
       "tooltip": null
      }
     },
     "9ae4138d5c6040ff8f31487f21120a6e": {
      "model_module": "@jupyter-widgets/controls",
      "model_module_version": "2.0.0",
      "model_name": "HTMLModel",
      "state": {
       "_dom_classes": [],
       "_model_module": "@jupyter-widgets/controls",
       "_model_module_version": "2.0.0",
       "_model_name": "HTMLModel",
       "_view_count": null,
       "_view_module": "@jupyter-widgets/controls",
       "_view_module_version": "2.0.0",
       "_view_name": "HTMLView",
       "description": "",
       "description_allow_html": false,
       "layout": "IPY_MODEL_ff03739d18014246817c21e4dbf0a84a",
       "placeholder": "​",
       "style": "IPY_MODEL_e36bde94baa0470b804d73c4cc83a922",
       "tabbable": null,
       "tooltip": null,
       "value": " 256/256 [27:36&lt;00:00,  6.62s/it]"
      }
     },
     "b8499c15522745cd9981166aa85f493d": {
      "model_module": "@jupyter-widgets/controls",
      "model_module_version": "2.0.0",
      "model_name": "HTMLModel",
      "state": {
       "_dom_classes": [],
       "_model_module": "@jupyter-widgets/controls",
       "_model_module_version": "2.0.0",
       "_model_name": "HTMLModel",
       "_view_count": null,
       "_view_module": "@jupyter-widgets/controls",
       "_view_module_version": "2.0.0",
       "_view_name": "HTMLView",
       "description": "",
       "description_allow_html": false,
       "layout": "IPY_MODEL_2410a91c9a7a4826b7d3c14d541ff69d",
       "placeholder": "​",
       "style": "IPY_MODEL_bdbc8bdcb94f49e29847dd9b22e6add5",
       "tabbable": null,
       "tooltip": null,
       "value": "100%"
      }
     },
     "bd094cda8b3c4855a4ed1300edf3f2c3": {
      "model_module": "@jupyter-widgets/controls",
      "model_module_version": "2.0.0",
      "model_name": "ProgressStyleModel",
      "state": {
       "_model_module": "@jupyter-widgets/controls",
       "_model_module_version": "2.0.0",
       "_model_name": "ProgressStyleModel",
       "_view_count": null,
       "_view_module": "@jupyter-widgets/base",
       "_view_module_version": "2.0.0",
       "_view_name": "StyleView",
       "bar_color": null,
       "description_width": ""
      }
     },
     "bdbc8bdcb94f49e29847dd9b22e6add5": {
      "model_module": "@jupyter-widgets/controls",
      "model_module_version": "2.0.0",
      "model_name": "HTMLStyleModel",
      "state": {
       "_model_module": "@jupyter-widgets/controls",
       "_model_module_version": "2.0.0",
       "_model_name": "HTMLStyleModel",
       "_view_count": null,
       "_view_module": "@jupyter-widgets/base",
       "_view_module_version": "2.0.0",
       "_view_name": "StyleView",
       "background": null,
       "description_width": "",
       "font_size": null,
       "text_color": null
      }
     },
     "c078cae24ae7430bace625a76b1cb988": {
      "model_module": "@jupyter-widgets/base",
      "model_module_version": "2.0.0",
      "model_name": "LayoutModel",
      "state": {
       "_model_module": "@jupyter-widgets/base",
       "_model_module_version": "2.0.0",
       "_model_name": "LayoutModel",
       "_view_count": null,
       "_view_module": "@jupyter-widgets/base",
       "_view_module_version": "2.0.0",
       "_view_name": "LayoutView",
       "align_content": null,
       "align_items": null,
       "align_self": null,
       "border_bottom": null,
       "border_left": null,
       "border_right": null,
       "border_top": null,
       "bottom": null,
       "display": null,
       "flex": null,
       "flex_flow": null,
       "grid_area": null,
       "grid_auto_columns": null,
       "grid_auto_flow": null,
       "grid_auto_rows": null,
       "grid_column": null,
       "grid_gap": null,
       "grid_row": null,
       "grid_template_areas": null,
       "grid_template_columns": null,
       "grid_template_rows": null,
       "height": null,
       "justify_content": null,
       "justify_items": null,
       "left": null,
       "margin": null,
       "max_height": null,
       "max_width": null,
       "min_height": null,
       "min_width": null,
       "object_fit": null,
       "object_position": null,
       "order": null,
       "overflow": null,
       "padding": null,
       "right": null,
       "top": null,
       "visibility": null,
       "width": null
      }
     },
     "c26548a3142c45f1adfa8abc1815ac5f": {
      "model_module": "@jupyter-widgets/base",
      "model_module_version": "2.0.0",
      "model_name": "LayoutModel",
      "state": {
       "_model_module": "@jupyter-widgets/base",
       "_model_module_version": "2.0.0",
       "_model_name": "LayoutModel",
       "_view_count": null,
       "_view_module": "@jupyter-widgets/base",
       "_view_module_version": "2.0.0",
       "_view_name": "LayoutView",
       "align_content": null,
       "align_items": null,
       "align_self": null,
       "border_bottom": null,
       "border_left": null,
       "border_right": null,
       "border_top": null,
       "bottom": null,
       "display": null,
       "flex": null,
       "flex_flow": null,
       "grid_area": null,
       "grid_auto_columns": null,
       "grid_auto_flow": null,
       "grid_auto_rows": null,
       "grid_column": null,
       "grid_gap": null,
       "grid_row": null,
       "grid_template_areas": null,
       "grid_template_columns": null,
       "grid_template_rows": null,
       "height": null,
       "justify_content": null,
       "justify_items": null,
       "left": null,
       "margin": null,
       "max_height": null,
       "max_width": null,
       "min_height": null,
       "min_width": null,
       "object_fit": null,
       "object_position": null,
       "order": null,
       "overflow": null,
       "padding": null,
       "right": null,
       "top": null,
       "visibility": null,
       "width": null
      }
     },
     "c59fd60c9cf0495b922c74febebcfd99": {
      "model_module": "@jupyter-widgets/controls",
      "model_module_version": "2.0.0",
      "model_name": "HTMLStyleModel",
      "state": {
       "_model_module": "@jupyter-widgets/controls",
       "_model_module_version": "2.0.0",
       "_model_name": "HTMLStyleModel",
       "_view_count": null,
       "_view_module": "@jupyter-widgets/base",
       "_view_module_version": "2.0.0",
       "_view_name": "StyleView",
       "background": null,
       "description_width": "",
       "font_size": null,
       "text_color": null
      }
     },
     "cc8031db1bd442d1a481d859e4f8c3d1": {
      "model_module": "@jupyter-widgets/controls",
      "model_module_version": "2.0.0",
      "model_name": "ProgressStyleModel",
      "state": {
       "_model_module": "@jupyter-widgets/controls",
       "_model_module_version": "2.0.0",
       "_model_name": "ProgressStyleModel",
       "_view_count": null,
       "_view_module": "@jupyter-widgets/base",
       "_view_module_version": "2.0.0",
       "_view_name": "StyleView",
       "bar_color": null,
       "description_width": ""
      }
     },
     "cd112c61118142adadc1ffdc3d4fd7dc": {
      "model_module": "@jupyter-widgets/controls",
      "model_module_version": "2.0.0",
      "model_name": "ProgressStyleModel",
      "state": {
       "_model_module": "@jupyter-widgets/controls",
       "_model_module_version": "2.0.0",
       "_model_name": "ProgressStyleModel",
       "_view_count": null,
       "_view_module": "@jupyter-widgets/base",
       "_view_module_version": "2.0.0",
       "_view_name": "StyleView",
       "bar_color": null,
       "description_width": ""
      }
     },
     "d0069e861bec45358c5749eb8eb64139": {
      "model_module": "@jupyter-widgets/controls",
      "model_module_version": "2.0.0",
      "model_name": "HTMLModel",
      "state": {
       "_dom_classes": [],
       "_model_module": "@jupyter-widgets/controls",
       "_model_module_version": "2.0.0",
       "_model_name": "HTMLModel",
       "_view_count": null,
       "_view_module": "@jupyter-widgets/controls",
       "_view_module_version": "2.0.0",
       "_view_name": "HTMLView",
       "description": "",
       "description_allow_html": false,
       "layout": "IPY_MODEL_4bc5b7e763bd41efb3f51b7faf6b2553",
       "placeholder": "​",
       "style": "IPY_MODEL_372ec21d55b140a3b2f2485311a94b90",
       "tabbable": null,
       "tooltip": null,
       "value": " 256/256 [27:19&lt;00:00,  6.44s/it]"
      }
     },
     "d2044911f735442cbe3dc75e7249db0f": {
      "model_module": "@jupyter-widgets/base",
      "model_module_version": "2.0.0",
      "model_name": "LayoutModel",
      "state": {
       "_model_module": "@jupyter-widgets/base",
       "_model_module_version": "2.0.0",
       "_model_name": "LayoutModel",
       "_view_count": null,
       "_view_module": "@jupyter-widgets/base",
       "_view_module_version": "2.0.0",
       "_view_name": "LayoutView",
       "align_content": null,
       "align_items": null,
       "align_self": null,
       "border_bottom": null,
       "border_left": null,
       "border_right": null,
       "border_top": null,
       "bottom": null,
       "display": null,
       "flex": null,
       "flex_flow": null,
       "grid_area": null,
       "grid_auto_columns": null,
       "grid_auto_flow": null,
       "grid_auto_rows": null,
       "grid_column": null,
       "grid_gap": null,
       "grid_row": null,
       "grid_template_areas": null,
       "grid_template_columns": null,
       "grid_template_rows": null,
       "height": null,
       "justify_content": null,
       "justify_items": null,
       "left": null,
       "margin": null,
       "max_height": null,
       "max_width": null,
       "min_height": null,
       "min_width": null,
       "object_fit": null,
       "object_position": null,
       "order": null,
       "overflow": null,
       "padding": null,
       "right": null,
       "top": null,
       "visibility": null,
       "width": null
      }
     },
     "d22ead2504ee49e6bdda108317f45ac1": {
      "model_module": "@jupyter-widgets/base",
      "model_module_version": "2.0.0",
      "model_name": "LayoutModel",
      "state": {
       "_model_module": "@jupyter-widgets/base",
       "_model_module_version": "2.0.0",
       "_model_name": "LayoutModel",
       "_view_count": null,
       "_view_module": "@jupyter-widgets/base",
       "_view_module_version": "2.0.0",
       "_view_name": "LayoutView",
       "align_content": null,
       "align_items": null,
       "align_self": null,
       "border_bottom": null,
       "border_left": null,
       "border_right": null,
       "border_top": null,
       "bottom": null,
       "display": null,
       "flex": null,
       "flex_flow": null,
       "grid_area": null,
       "grid_auto_columns": null,
       "grid_auto_flow": null,
       "grid_auto_rows": null,
       "grid_column": null,
       "grid_gap": null,
       "grid_row": null,
       "grid_template_areas": null,
       "grid_template_columns": null,
       "grid_template_rows": null,
       "height": null,
       "justify_content": null,
       "justify_items": null,
       "left": null,
       "margin": null,
       "max_height": null,
       "max_width": null,
       "min_height": null,
       "min_width": null,
       "object_fit": null,
       "object_position": null,
       "order": null,
       "overflow": null,
       "padding": null,
       "right": null,
       "top": null,
       "visibility": null,
       "width": null
      }
     },
     "d69c4d7c0ffd4195b09a98ea697a7a77": {
      "model_module": "@jupyter-widgets/base",
      "model_module_version": "2.0.0",
      "model_name": "LayoutModel",
      "state": {
       "_model_module": "@jupyter-widgets/base",
       "_model_module_version": "2.0.0",
       "_model_name": "LayoutModel",
       "_view_count": null,
       "_view_module": "@jupyter-widgets/base",
       "_view_module_version": "2.0.0",
       "_view_name": "LayoutView",
       "align_content": null,
       "align_items": null,
       "align_self": null,
       "border_bottom": null,
       "border_left": null,
       "border_right": null,
       "border_top": null,
       "bottom": null,
       "display": null,
       "flex": null,
       "flex_flow": null,
       "grid_area": null,
       "grid_auto_columns": null,
       "grid_auto_flow": null,
       "grid_auto_rows": null,
       "grid_column": null,
       "grid_gap": null,
       "grid_row": null,
       "grid_template_areas": null,
       "grid_template_columns": null,
       "grid_template_rows": null,
       "height": null,
       "justify_content": null,
       "justify_items": null,
       "left": null,
       "margin": null,
       "max_height": null,
       "max_width": null,
       "min_height": null,
       "min_width": null,
       "object_fit": null,
       "object_position": null,
       "order": null,
       "overflow": null,
       "padding": null,
       "right": null,
       "top": null,
       "visibility": null,
       "width": null
      }
     },
     "e36bde94baa0470b804d73c4cc83a922": {
      "model_module": "@jupyter-widgets/controls",
      "model_module_version": "2.0.0",
      "model_name": "HTMLStyleModel",
      "state": {
       "_model_module": "@jupyter-widgets/controls",
       "_model_module_version": "2.0.0",
       "_model_name": "HTMLStyleModel",
       "_view_count": null,
       "_view_module": "@jupyter-widgets/base",
       "_view_module_version": "2.0.0",
       "_view_name": "StyleView",
       "background": null,
       "description_width": "",
       "font_size": null,
       "text_color": null
      }
     },
     "f16c0a10ddef42d883635f671bda9653": {
      "model_module": "@jupyter-widgets/controls",
      "model_module_version": "2.0.0",
      "model_name": "HTMLStyleModel",
      "state": {
       "_model_module": "@jupyter-widgets/controls",
       "_model_module_version": "2.0.0",
       "_model_name": "HTMLStyleModel",
       "_view_count": null,
       "_view_module": "@jupyter-widgets/base",
       "_view_module_version": "2.0.0",
       "_view_name": "StyleView",
       "background": null,
       "description_width": "",
       "font_size": null,
       "text_color": null
      }
     },
     "fbcf6af361ec40ffba104e09c0d7eb15": {
      "model_module": "@jupyter-widgets/controls",
      "model_module_version": "2.0.0",
      "model_name": "HTMLModel",
      "state": {
       "_dom_classes": [],
       "_model_module": "@jupyter-widgets/controls",
       "_model_module_version": "2.0.0",
       "_model_name": "HTMLModel",
       "_view_count": null,
       "_view_module": "@jupyter-widgets/controls",
       "_view_module_version": "2.0.0",
       "_view_name": "HTMLView",
       "description": "",
       "description_allow_html": false,
       "layout": "IPY_MODEL_9650fef1b09348cb8cff5a63a56850b7",
       "placeholder": "​",
       "style": "IPY_MODEL_7279d281d2c34657bff252e8df63f4c5",
       "tabbable": null,
       "tooltip": null,
       "value": "100%"
      }
     },
     "fd94337716a24629bbbf38eb2d910e17": {
      "model_module": "@jupyter-widgets/base",
      "model_module_version": "2.0.0",
      "model_name": "LayoutModel",
      "state": {
       "_model_module": "@jupyter-widgets/base",
       "_model_module_version": "2.0.0",
       "_model_name": "LayoutModel",
       "_view_count": null,
       "_view_module": "@jupyter-widgets/base",
       "_view_module_version": "2.0.0",
       "_view_name": "LayoutView",
       "align_content": null,
       "align_items": null,
       "align_self": null,
       "border_bottom": null,
       "border_left": null,
       "border_right": null,
       "border_top": null,
       "bottom": null,
       "display": null,
       "flex": null,
       "flex_flow": null,
       "grid_area": null,
       "grid_auto_columns": null,
       "grid_auto_flow": null,
       "grid_auto_rows": null,
       "grid_column": null,
       "grid_gap": null,
       "grid_row": null,
       "grid_template_areas": null,
       "grid_template_columns": null,
       "grid_template_rows": null,
       "height": null,
       "justify_content": null,
       "justify_items": null,
       "left": null,
       "margin": null,
       "max_height": null,
       "max_width": null,
       "min_height": null,
       "min_width": null,
       "object_fit": null,
       "object_position": null,
       "order": null,
       "overflow": null,
       "padding": null,
       "right": null,
       "top": null,
       "visibility": null,
       "width": null
      }
     },
     "ff03739d18014246817c21e4dbf0a84a": {
      "model_module": "@jupyter-widgets/base",
      "model_module_version": "2.0.0",
      "model_name": "LayoutModel",
      "state": {
       "_model_module": "@jupyter-widgets/base",
       "_model_module_version": "2.0.0",
       "_model_name": "LayoutModel",
       "_view_count": null,
       "_view_module": "@jupyter-widgets/base",
       "_view_module_version": "2.0.0",
       "_view_name": "LayoutView",
       "align_content": null,
       "align_items": null,
       "align_self": null,
       "border_bottom": null,
       "border_left": null,
       "border_right": null,
       "border_top": null,
       "bottom": null,
       "display": null,
       "flex": null,
       "flex_flow": null,
       "grid_area": null,
       "grid_auto_columns": null,
       "grid_auto_flow": null,
       "grid_auto_rows": null,
       "grid_column": null,
       "grid_gap": null,
       "grid_row": null,
       "grid_template_areas": null,
       "grid_template_columns": null,
       "grid_template_rows": null,
       "height": null,
       "justify_content": null,
       "justify_items": null,
       "left": null,
       "margin": null,
       "max_height": null,
       "max_width": null,
       "min_height": null,
       "min_width": null,
       "object_fit": null,
       "object_position": null,
       "order": null,
       "overflow": null,
       "padding": null,
       "right": null,
       "top": null,
       "visibility": null,
       "width": null
      }
     }
    },
    "version_major": 2,
    "version_minor": 0
   }
  }
 },
 "nbformat": 4,
 "nbformat_minor": 4
}
