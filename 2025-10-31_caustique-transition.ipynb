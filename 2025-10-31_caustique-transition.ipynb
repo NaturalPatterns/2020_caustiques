{
 "cells": [
  {
   "cell_type": "markdown",
   "metadata": {},
   "source": [
    "# Caustiques"
   ]
  },
  {
   "cell_type": "code",
   "execution_count": 1,
   "metadata": {
    "execution": {
     "iopub.execute_input": "2024-10-16T09:43:02.983382Z",
     "iopub.status.busy": "2024-10-16T09:43:02.983225Z",
     "iopub.status.idle": "2024-10-16T09:43:02.985631Z",
     "shell.execute_reply": "2024-10-16T09:43:02.985393Z"
    }
   },
   "outputs": [
    {
     "name": "stdout",
     "output_type": "stream",
     "text": [
      "Note: you may need to restart the kernel to use updated packages.\n"
     ]
    }
   ],
   "source": [
    "%pip install -q -U -r requirements.txt"
   ]
  },
  {
   "cell_type": "code",
   "execution_count": 2,
   "metadata": {},
   "outputs": [
    {
     "data": {
      "text/plain": [
       "'3.10.7'"
      ]
     },
     "execution_count": 2,
     "metadata": {},
     "output_type": "execute_result"
    }
   ],
   "source": [
    "import numpy as np\n",
    "# import cv2\n",
    "from tqdm.auto import trange, tqdm\n",
    "import matplotlib\n",
    "# import matplotlib.gridspec as gs\n",
    "from matplotlib.gridspec import SubplotParams\n",
    "import numpy as np\n",
    "from scipy import ndimage\n",
    "# from scipy.ndimage import zoom\n",
    "matplotlib.__version__"
   ]
  },
  {
   "cell_type": "code",
   "execution_count": 3,
   "metadata": {},
   "outputs": [
    {
     "data": {
      "text/plain": [
       "'2025-10-30_caustique-transition'"
      ]
     },
     "execution_count": 3,
     "metadata": {},
     "output_type": "execute_result"
    }
   ],
   "source": [
    "import os \n",
    "from IPython import get_ipython\n",
    "ip = get_ipython()\n",
    "# print(ip.user_ns)\n",
    "study_name = None\n",
    "if '__vsc_ipynb_file__' in ip.user_ns:\n",
    "    # https://github.com/msm1089/ipynbname/issues/17\n",
    "    study_name = os.path.split(os.path.basename(ip.user_ns['__vsc_ipynb_file__']))[1]\n",
    "elif '__file__' in ip.user_ns:\n",
    "    study_name = ip.user_ns['__file__']\n",
    "else:\n",
    "    import ipynbname\n",
    "    study_name = ipynbname.name()\n",
    "study_name = study_name.replace('.ipynb', '')\n",
    "study_name"
   ]
  },
  {
   "cell_type": "code",
   "execution_count": 4,
   "metadata": {},
   "outputs": [],
   "source": [
    "# %ls -lh {study_name}\n",
    "# %ls -lh /tmp/{study_name}"
   ]
  },
  {
   "cell_type": "code",
   "execution_count": 5,
   "metadata": {},
   "outputs": [],
   "source": [
    "# %rm -fr {study_name}\n",
    "# %rm -fr /tmp/{study_name}"
   ]
  },
  {
   "cell_type": "code",
   "execution_count": null,
   "metadata": {},
   "outputs": [],
   "source": [
    "# the higher PRECISION, the bigger the file\n",
    "PRECISION = 4  # debugging\n",
    "PRECISION = 8 # low quality\n",
    "PRECISION = 10 # medium quality\n",
    "PRECISION = 11 # medium+ quality\n",
    "# PRECISION = 12 # good quality\n",
    "# PRECISION = 14 # very good quality\n",
    "# PRECISION = 15 # for production\n",
    "\n",
    "# https://docs.python.org/3/library/dataclasses.html?highlight=dataclass#module-dataclasses\n",
    "from dataclasses import dataclass\n",
    "\n",
    "@dataclass\n",
    "class init:\n",
    "    figpath: str = study_name # Folder to store images\n",
    "    phi: float = 1.61803 # beauty is gold\n",
    "    tag: str = 'caustique' # Tag\n",
    "    ext: str = 'mp4' # Extension for output\n",
    "    nx: int = 1*2**PRECISION # number of pixels (vertical)\n",
    "    ny: int = 1*2**PRECISION # number of pixels (horizontal)\n",
    "    nframe: int = 24*4 # number of frames for each chunk\n",
    "    bin_dens: int = 2 # relative bin density\n",
    "    bin_wave: int = 4 # downsamplig of the wave\n",
    "    bin_spectrum: int = 4 # bin spacing in spectrum (lower is more CPU)\n",
    "    seed: int = 2025 # seed for RNG\n",
    "    H: float = 120.0 # depth of the pool\n",
    "    variation: float = .20 # variation of diffraction index: http://www.philiplaven.com/p20.html 1.40 at 400 nm and 1.37 at 700nm makes a 2% variation\n",
    "    sigma: float = 1.0 # smoothing for the gradient\n",
    "    sf_0: float = 5./nx # frequency in cycles per pixels\n",
    "    B_sf: float = 1. # bandwidth in sf\n",
    "    V_Y: float = 0.1 # horizontal speed\n",
    "    V_X: float = -0.3 # vertical speed\n",
    "    B_V: float = 1-0.618 # bandwidth in speed\n",
    "    # zmin: float = 1.0 # relative minimal value of wave height at the top to generate a gradient (set to 1. to have no gradient)\n",
    "    # theta: float = 2*np.pi*(2-1.61803) # angle with the horizontal\n",
    "    theta: float = np.pi/2 # angle with the horizontal\n",
    "    B_theta: float = 45*np.pi/180 # bandwidth in theta\n",
    "    min_lum: float = .01 # global diffusion level for the rendering giving the pedestal value\n",
    "    radius_in: float = .15\n",
    "    radius_out: float = .60 #\n",
    "    n_bits: int = 8 # bits to save images\n",
    "    n_jobs: int = 12 # number of jobs to run in parallel\n",
    "    gamma: float = 2.4 # Gamma exponant to convert luminosity to luminance\n",
    "    fps: float = 24 # frames per second\n",
    "    do_cache: bool = True # Cache intermediate output.\n",
    "    verbose: bool = False # Displays more verbose output.\n",
    "    do_display: bool = False # Displays images and videos in notebook.\n"
   ]
  },
  {
   "cell_type": "code",
   "execution_count": 7,
   "metadata": {
    "execution": {
     "iopub.execute_input": "2024-10-16T09:43:06.036410Z",
     "iopub.status.busy": "2024-10-16T09:43:06.035954Z",
     "iopub.status.idle": "2024-10-16T09:43:06.041319Z",
     "shell.execute_reply": "2024-10-16T09:43:06.039924Z"
    }
   },
   "outputs": [
    {
     "name": "stdout",
     "output_type": "stream",
     "text": [
      "Saving our simulations in=2025-10-30_caustique-transition\n"
     ]
    }
   ],
   "source": [
    "opt = init()\n",
    "print(f'Saving our simulations in={opt.figpath}')"
   ]
  },
  {
   "cell_type": "code",
   "execution_count": 8,
   "metadata": {
    "execution": {
     "iopub.execute_input": "2024-10-16T09:43:06.045705Z",
     "iopub.status.busy": "2024-10-16T09:43:06.045222Z",
     "iopub.status.idle": "2024-10-16T09:43:06.051391Z",
     "shell.execute_reply": "2024-10-16T09:43:06.050527Z"
    }
   },
   "outputs": [],
   "source": [
    "# if opt.nframe==1: opt.ext = 'png'"
   ]
  },
  {
   "cell_type": "code",
   "execution_count": 9,
   "metadata": {},
   "outputs": [],
   "source": [
    "if opt.n_jobs>1 or opt.n_jobs==-1:\n",
    "    from joblib import Parallel, delayed\n",
    "    # from tqdm_joblib import tqdm_joblib   #  pip install tqdm-joblib"
   ]
  },
  {
   "cell_type": "code",
   "execution_count": 10,
   "metadata": {
    "execution": {
     "iopub.execute_input": "2024-10-16T09:43:06.055776Z",
     "iopub.status.busy": "2024-10-16T09:43:06.055017Z",
     "iopub.status.idle": "2024-10-16T09:43:06.060659Z",
     "shell.execute_reply": "2024-10-16T09:43:06.059448Z"
    },
    "tags": []
   },
   "outputs": [
    {
     "name": "stdout",
     "output_type": "stream",
     "text": [
      "init(figpath='2025-10-30_caustique-transition',\n",
      "     phi=1.61803,\n",
      "     tag='caustique',\n",
      "     ext='mp4',\n",
      "     nx=2048,\n",
      "     ny=2048,\n",
      "     nframe=96,\n",
      "     bin_dens=2,\n",
      "     bin_wave=4,\n",
      "     bin_spectrum=4,\n",
      "     seed=2025,\n",
      "     H=120.0,\n",
      "     variation=0.2,\n",
      "     sigma=1.0,\n",
      "     sf_0=0.00244140625,\n",
      "     B_sf=1.0,\n",
      "     V_Y=0.1,\n",
      "     V_X=-0.3,\n",
      "     B_V=0.382,\n",
      "     theta=1.5707963267948966,\n",
      "     B_theta=0.7853981633974483,\n",
      "     min_lum=0.01,\n",
      "     radius_in=0.15,\n",
      "     radius_out=0.6,\n",
      "     n_bits=8,\n",
      "     n_jobs=12,\n",
      "     gamma=2.4,\n",
      "     fps=24,\n",
      "     do_cache=True,\n",
      "     verbose=False,\n",
      "     do_display=False)\n"
     ]
    }
   ],
   "source": [
    "from pprint import pprint\n",
    "pprint(opt)"
   ]
  },
  {
   "cell_type": "code",
   "execution_count": 11,
   "metadata": {
    "execution": {
     "iopub.execute_input": "2024-10-16T09:43:06.064918Z",
     "iopub.status.busy": "2024-10-16T09:43:06.064509Z",
     "iopub.status.idle": "2024-10-16T09:43:06.069370Z",
     "shell.execute_reply": "2024-10-16T09:43:06.068172Z"
    }
   },
   "outputs": [
    {
     "name": "stdout",
     "output_type": "stream",
     "text": [
      "Screen size=100cm=39.370in, dpi=26dpi\n"
     ]
    }
   ],
   "source": [
    "screen_size_cm = 100 # cm\n",
    "CM_BY_INCH = 2.54 # this is a constant\n",
    "screen_size_in = screen_size_cm/CM_BY_INCH\n",
    "dpi = (opt.nx // opt.bin_dens) / screen_size_in\n",
    "print(f'Screen size={screen_size_cm}cm={screen_size_in:.3f}in, dpi={dpi:.0f}dpi')"
   ]
  },
  {
   "cell_type": "markdown",
   "metadata": {},
   "source": [
    "## utilitaires\n",
    "\n",
    "Transformation d'une matrice numpy en mp4:\n"
   ]
  },
  {
   "cell_type": "code",
   "execution_count": 12,
   "metadata": {
    "execution": {
     "iopub.execute_input": "2024-10-16T09:43:06.073052Z",
     "iopub.status.busy": "2024-10-16T09:43:06.072374Z",
     "iopub.status.idle": "2024-10-16T09:43:06.078119Z",
     "shell.execute_reply": "2024-10-16T09:43:06.077358Z"
    }
   },
   "outputs": [],
   "source": [
    "import imageio\n",
    "# def make_gif(gifname, fnames, fps, do_delete=True):\n",
    "#     with imageio.get_writer(gifname, mode='I', fps=fps) as writer:\n",
    "#         for fname in fnames:\n",
    "#             writer.append_data(imageio.imread(fname))\n",
    "\n",
    "#     from pygifsicle import optimize\n",
    "#     optimize(str(gifname))\n",
    "#     if do_delete: \n",
    "#         for fname in fnames: os.remove(fname)\n",
    "#     return gifname\n",
    "\n",
    "# https://moviepy.readthedocs.io/en/latest/getting_started/videoclips.html#imagesequenceclip\n",
    "# def make_mp4(mkvname, fnames, fps, do_delete=True):\n",
    "#     import moviepy.editor as mpy\n",
    "#     clip = mpy.ImageSequenceClip(fnames, fps=fps)\n",
    "#     clip.write_videofile(mkvname, fps=fps, codec='libx264', verbose=False, logger=None)\n",
    "#     if do_delete: \n",
    "#         for fname in fnames: os.remove(fname)\n",
    "#     return mkvname \n",
    "\n",
    "# from tqdm import tqdm\n",
    "# from tqdm.notebook import tqdm\n",
    "# def make_mp4(moviename, fnames, fps):\n",
    "#     \"\"\"Create an mkv video from a sequence of image files.\n",
    "\n",
    "#     Args:\n",
    "#         moviename (str): Path to the output video file.\n",
    "#         fnames (list): List of paths to input image files.\n",
    "#         fps (int): Frames per second for the output video.\n",
    "\n",
    "#     Returns:\n",
    "#         str: Path to the created video file.\n",
    "#     \"\"\"\n",
    "#     ffmpeg_params = [\n",
    "#         \"-c:v\", \"ffv1\",                # codec (ffv1 = lossless intra‑frame)\n",
    "#         \"-level\", \"3\",                # highest ffv1 quality level\n",
    "#         \"-pix_fmt\", \"rgb48le\",          # 16‑bit pixel format     pix_fmt: str = \"gray16le\",   # 16‑bit grayscale, change to \"rgb48le\" for color\n",
    "#         \"-preset\", \"veryslow\",        # optional – best compression, slower\n",
    "#     ]\n",
    "#     with imageio.v2.get_writer(\n",
    "#         moviename,\n",
    "#         fps=fps,\n",
    "#         macro_block_size=1,\n",
    "#         ffmpeg_log_level=\"error\",   # keep the console tidy\n",
    "#         # ffmpeg_params=ffmpeg_params,\n",
    "#     ) as writer:    \n",
    "#         for fname in tqdm(fnames, desc=\"Creating video\"):\n",
    "#             print('>>>', fname)\n",
    "#             frame = imageio.v2.imread(fname, pilmode='I;16')\n",
    "#             print('bip')\n",
    "#             frame = frame.astype(np.uint16)\n",
    "#             writer.append_data(frame)\n",
    "#     return moviename\n",
    "\n",
    "def make_mp4(moviename, frames, fps):\n",
    "    with imageio.v2.get_writer(\n",
    "        moviename,\n",
    "        format='FFmpeg', \n",
    "        mode='I',\n",
    "        # format='av', \n",
    "        fps=fps,\n",
    "        # pixelformat=pix_fmt\n",
    "        # codec='ffv1',  # Use FFV1 for lossless compression\n",
    "        ) as writer:\n",
    "        for i_frame in trange(frames.shape[-1], desc='Generating movie'):\n",
    "            # Append the frame to the video writer\n",
    "            writer.append_data(frames[..., i_frame])\n",
    "    return moviename\n",
    "\n",
    "# def make_mp4_fromlist(moviename, list_of_frames, fps):\n",
    "#     with imageio.v2.get_writer(\n",
    "#         moviename,\n",
    "#         format='FFmpeg', \n",
    "#         mode='I',\n",
    "#         # format='av', \n",
    "#         fps=fps,\n",
    "#         # pixelformat=pix_fmt\n",
    "#         # codec='ffv1',  # Use FFV1 for lossless compression\n",
    "#         ) as writer:\n",
    "#         for frames in list_of_frames:\n",
    "#             for i_frame in range(frames.shape[-1]):\n",
    "#                 # Append the frame to the video writer\n",
    "#                 writer.append_data(frames[..., i_frame])\n",
    "#     return moviename\n",
    "\n",
    "# import imageio.v3 as iio\n",
    "# def make_mp4(mkvname, frames, fps):\n",
    "#     pix_fmt = 'rgb48le' if frames.ndim==3 else 'gray16le'\n",
    "#     iio.imwrite(\n",
    "#         mkvname,\n",
    "#         np.moveaxis(frames, -1, 0),\n",
    "#         plugin='pyav',\n",
    "#         codec='ffv1',\n",
    "#         fps=fps,\n",
    "#         in_pixel_format=pix_fmt,\n",
    "#         out_pixel_format=pix_fmt\n",
    "#     )\n",
    "#     return mkvname\n",
    "\n",
    "\n",
    "# make_mp4(\"test_video.mp4\", np.random.randint(0, 2**8-1, (480, 640, 3, 30), dtype=np.uint8), fps=24)"
   ]
  },
  {
   "cell_type": "markdown",
   "metadata": {},
   "source": [
    "\n",
    "Utilities to compute the spectrum of the blue sky and convert them later to RGB values (check out https://laurentperrinet.github.io/sciblog/posts/2020-07-04-colors-of-the-sky.html for details)"
   ]
  },
  {
   "cell_type": "code",
   "execution_count": 13,
   "metadata": {
    "execution": {
     "iopub.execute_input": "2024-10-16T09:43:06.082021Z",
     "iopub.status.busy": "2024-10-16T09:43:06.081270Z",
     "iopub.status.idle": "2024-10-16T09:43:06.089061Z",
     "shell.execute_reply": "2024-10-16T09:43:06.088191Z"
    }
   },
   "outputs": [],
   "source": [
    "from lambda2color import Lambda2color, xyz_from_xy\n",
    "\n",
    "# borrowed from https://github.com/gummiks/gummiks.github.io/blob/master/scripts/astro/planck.py\n",
    "def planck(wav, T):\n",
    "    import scipy.constants as const\n",
    "    c = const.c # c = 3.0e+8\n",
    "    h = const.h # h = 6.626e-34\n",
    "    k = const.k # k = 1.38e-23\n",
    "    a = 2.0*h*c**2\n",
    "    b = h*c/(wav*k*T)\n",
    "    intensity = a / ( (wav**5) * (np.exp(b) - 1.0) )\n",
    "    return intensity\n",
    "\n",
    "def scattering(wav, a=0.005, p=1.3, b=0.45):\n",
    "    \"\"\"\n",
    "    b is  proportionate  to  the  column  density  of  aerosols\n",
    "    along  the  path  of  sunlight,  from  outside  the  atmosphere\n",
    "    to  the  point  of  observation\n",
    "    \n",
    "    see https://laurentperrinet.github.io/sciblog/posts/2020-07-04-colors-of-the-sky.html for more details\n",
    "\n",
    "    \"\"\"\n",
    "    # converting wav in µm:\n",
    "    intensity = np.exp(-a/((wav/1e-6)**4)) # Rayleigh extinction by nitrogen\n",
    "    intensity *= (wav/1e-6)**-4\n",
    "    intensity *= np.exp(-b/((wav/1e-6)**p)) # Aerosols\n",
    "    return intensity"
   ]
  },
  {
   "cell_type": "markdown",
   "metadata": {},
   "source": [
    "## calcul des caustiques\n"
   ]
  },
  {
   "cell_type": "code",
   "execution_count": 14,
   "metadata": {
    "execution": {
     "iopub.execute_input": "2024-10-16T09:43:06.094058Z",
     "iopub.status.busy": "2024-10-16T09:43:06.093441Z",
     "iopub.status.idle": "2024-10-16T09:43:06.297325Z",
     "shell.execute_reply": "2024-10-16T09:43:06.297072Z"
    }
   },
   "outputs": [],
   "source": [
    "subplotpars = SubplotParams(left=0., right=1., bottom=0., top=1., wspace=0., hspace=0.)\n",
    "import matplotlib.pyplot as plt\n",
    "import hashlib\n",
    "import MotionClouds as mc\n",
    "\n",
    "class Caustique:\n",
    "    def __init__(self, opt):\n",
    "        \"\"\"\n",
    "        Image coordinates follow 'ij' indexing, that is,\n",
    "        * their origin at the top left,\n",
    "        * the X axis is vertical and goes \"down\",\n",
    "        * the Y axis is horizontal and goes \"right\".\n",
    "\n",
    "        \"\"\"\n",
    "        self.mc = mc\n",
    "        self.ratio = opt.ny/opt.nx # ratio between height and width (>1 for portrait, <1 for landscape)\n",
    "        X = np.linspace(0, 1, opt.nx, endpoint=False) # vertical\n",
    "        Y = np.linspace(0, self.ratio, opt.ny, endpoint=False) # horizontal\n",
    "        self.xv, self.yv = np.meshgrid(X, Y, indexing='ij')\n",
    "        self.opt = opt\n",
    "        # https://stackoverflow.com/questions/16878315/what-is-the-right-way-to-treat-python-argparse-namespace-as-a-dictionary\n",
    "        self.d = vars(opt)\n",
    "        os.makedirs(self.opt.figpath, exist_ok=True)\n",
    "        self.cachepath = os.path.join('/tmp', self.opt.figpath)\n",
    "        if opt.verbose: print(f'{self.cachepath=}')\n",
    "        os.makedirs(self.cachepath, exist_ok=True)\n",
    "        self.np_dtype = np.uint8 if opt.n_bits==8 else np.uint16\n",
    "        \n",
    "        illuminant = xyz_from_xy(0.3127, 0.3291) # a standard white\n",
    "        # illuminant = xyz_from_xy(0.268375 0.283377) # sky\n",
    "        # illuminant = xyz_from_xy(0.325998, 0.335354) # sun\n",
    "\n",
    "        # color conversion class\n",
    "        self.cs_srgb = Lambda2color(red=xyz_from_xy(0.64, 0.33),\n",
    "                                    green=xyz_from_xy(0.30, 0.60),\n",
    "                                    blue=xyz_from_xy(0.15, 0.06),\n",
    "                                    white=illuminant)\n",
    "        \n",
    "        self.wavelengths = self.cs_srgb.cmf[:, 0]*1e-9\n",
    "        self.N_wavelengths = len(self.wavelengths)\n",
    "        # multiply by the spectrum of the sky\n",
    "        intensity5800 = planck(self.wavelengths, 5800.)\n",
    "        scatter = scattering(self.wavelengths)\n",
    "        self.spectrum_sky = intensity5800 * scatter\n",
    "        self.spectrum_sky /= self.spectrum_sky.max()\n",
    "\n",
    "        self.rgbs = {}\n",
    "        for i_wavelength in range(self.opt.bin_spectrum//2, self.N_wavelengths, self.opt.bin_spectrum):\n",
    "            # we convert the spectrum into a color\n",
    "            spec = np.zeros((self.N_wavelengths))\n",
    "            spec[i_wavelength] = 1\n",
    "            rgb = self.cs_srgb.spec_to_rgb(spec)\n",
    "            rgb *= self.spectrum_sky[i_wavelength]\n",
    "            self.rgbs[i_wavelength] = rgb\n",
    "\n",
    "        self.fx, self.fy, self.ft = mc.get_grids(self.opt.nx//self.opt.bin_wave, self.opt.ny//self.opt.bin_wave, self.opt.nframe)\n",
    "\n",
    "    def wave(self, do_cache=None):\n",
    "        \n",
    "        if do_cache is None: do_cache = self.opt.do_cache\n",
    "        if do_cache: filename = f'{self.cachepath}/{self.opt.tag}_wave.npy'\n",
    "        if do_cache and os.path.isfile(filename):\n",
    "            z = np.load(filename)\n",
    "        else:\n",
    "            # A simplistic model of a wave using https://github.com/NeuralEnsemble/MotionClouds\n",
    "            env = mc.envelope_gabor(self.fx, self.fy, self.ft, V_X=self.opt.V_Y, V_Y=self.opt.V_X, B_V=self.opt.B_V,\n",
    "                                    sf_0=self.opt.sf_0, B_sf=self.opt.B_sf*self.opt.sf_0,\n",
    "                                    theta=self.opt.theta, B_theta=self.opt.B_theta)\n",
    "            # env /= env.mean()\n",
    "            z = mc.random_cloud(env, seed=self.opt.seed)\n",
    "            # print(z.max())\n",
    "            if np.abs(z).max() > 0: \n",
    "                z = mc.rectif(z)\n",
    "                # z = (.5* z/np.max(np.abs(z[:])) + .5)\n",
    "            # print(z.max())\n",
    "\n",
    "            # z *= np.linspace(self.opt.zmin, 1., self.opt.nx)[:, None, None] # [optional] vertical gradient\n",
    "            if do_cache: np.save(filename, z)\n",
    "\n",
    "        return z\n",
    "\n",
    "    def transform(self, z_frame, modulation=1., lag_x=0., lag_y=0.):\n",
    "        xv, yv = self.xv.copy(), self.yv.copy()\n",
    "\n",
    "        # coords = np.vstack([(yv + lag_y).ravel(), (xv + lag_x).ravel()])\n",
    "        # dzdx = ndimage.map_coordinates(dzdx, coords, order=1, mode='wrap').reshape(dzdx.shape)\n",
    "        # dzdy = ndimage.map_coordinates(dzdy, coords, order=1, mode='wrap').reshape(dzdy.shape)\n",
    "        \n",
    "\n",
    "        # https://numpy.org/doc/stable/reference/generated/numpy.gradient.html\n",
    "        # dzdx, dzdy = np.gradient(z_frame, edge_order=edge_order)\n",
    "\n",
    "        dzdx = ndimage.gaussian_filter(z_frame, self.opt.sigma, order=[1,0], mode='reflect')\n",
    "        dzdy = ndimage.gaussian_filter(z_frame, self.opt.sigma, order=[0,1], mode='reflect')\n",
    "\n",
    "        xv_warp = xv + modulation * self.opt.H * dzdx\n",
    "        yv_warp = yv + modulation * self.opt.H * dzdy\n",
    "        \n",
    "        xv_warp = np.mod(xv_warp, 1)\n",
    "        yv_warp = np.mod(yv_warp, self.ratio)\n",
    "\n",
    "        return xv_warp, yv_warp\n",
    "\n",
    "    def get_filename(self, note=''):\n",
    "        # output filename        \n",
    "        md5 = hashlib.sha224((self.opt.figpath + self.opt.tag + note).encode()).hexdigest()[:8] # an unique identifier for future tagging\n",
    "        output_filename = f'{self.opt.figpath}/{self.opt.tag}{note}_{md5}.{self.opt.ext}'\n",
    "        return output_filename\n",
    "\n",
    "    def get_caustics(self, z_frame, image_aperture, modulation, rgb):\n",
    "\n",
    "        xv, yv = self.transform(z_frame, modulation=modulation)\n",
    "\n",
    "        hist, _, _ = np.histogram2d(xv.ravel(), yv.ravel(),\n",
    "                                     bins=[self.opt.nx//self.opt.bin_dens, self.opt.ny//self.opt.bin_dens],\n",
    "                                     weights=image_aperture.ravel(),\n",
    "                                     range=[[0, 1], [0, self.ratio]],\n",
    "                                     density=True)\n",
    "        return hist[:, :, None] * rgb[None, None, :]\n",
    "\n",
    "\n",
    "    def compute(self, z, image_aperture=None):\n",
    "        \"\"\"\n",
    "        \n",
    "        dpi: output resolution - sets the figure size as we ensure there is a one to one correspondance between pixels in the data and the output image\n",
    "        \"\"\"\n",
    "\n",
    "        # 1/ do the raytracing of image through z:\n",
    "        _, _, nframe = z.shape\n",
    "\n",
    "        # if not specified, use a full image with full contrast (from 0=black to 1=white)\n",
    "        if image_aperture is None: image_aperture = np.ones((self.opt.nx, self.opt.ny))\n",
    "\n",
    "        #image_rgb = self.cs_srgb.spec_to_rgb(hist)\n",
    "        image_rgb = np.zeros((self.opt.nx//self.opt.bin_dens,  self.opt.ny//self.opt.bin_dens, 3, nframe))\n",
    "        for i_frame in trange(nframe, desc='Scanning time', position=1, leave=True):\n",
    "            z_frame = ndimage.zoom(z[:, :, i_frame], self.opt.bin_wave, order=2)\n",
    "\n",
    "            if self.opt.n_jobs==1:\n",
    "                # for i_i_wavelength, i_wavelength in enumerate(self.opt.bin_spectrum//2, self.N_wavelengths, self.opt.bin_spectrum):\n",
    "                for i_wavelength in trange(self.opt.bin_spectrum//2, self.N_wavelengths, self.opt.bin_spectrum, desc='Scanning spectrum', position=0, leave=False):\n",
    "                    modulation = 1. + self.opt.variation/2 - self.opt.variation*i_wavelength/self.N_wavelengths\n",
    "                    hist_frame = self.get_caustics(z_frame, image_aperture, modulation, self.rgbs[i_wavelength])\n",
    "                    # we add the monochromatique color to the image\n",
    "                    image_rgb[:, :, :, i_frame] += hist_frame\n",
    "\n",
    "            else:\n",
    "                # -----  parallel map ------------------------------------------------\n",
    "                wav_indices = range(self.opt.bin_spectrum//2, self.N_wavelengths, self.opt.bin_spectrum)\n",
    "                backend='multiprocessing'\n",
    "                backend='loky'\n",
    "                contributions = Parallel(n_jobs=opt.n_jobs,\n",
    "                                        backend=backend,\n",
    "                                        loky_backend_kwargs={'timeout': 600, 'max_nbytes': '256M'}\n",
    "                                        )(\n",
    "                                        delayed(self.get_caustics)(\n",
    "                                            z_frame    = z_frame,\n",
    "                                            image_aperture      = image_aperture,\n",
    "                                            modulation = 1. + self.opt.variation/2 - self.opt.variation*i_wavelength/self.N_wavelengths,\n",
    "                                            rgb          = self.rgbs[i_wavelength])\n",
    "                                        for i_wavelength in wav_indices)\n",
    "\n",
    "                # -----  accumulate the partial results -------------------------------\n",
    "                # contributions is a list of (H, W, 3) arrays → sum over the list\n",
    "                image_rgb[:, :, :, i_frame] = np.sum(contributions, axis=0)   # shape (H, W, 3)\n",
    "\n",
    "        return image_rgb\n",
    "\n",
    "    def plot(self, z, image_aperture=None):\n",
    "        output_filename = self.get_filename()\n",
    "        if not(os.path.isfile(output_filename)):\n",
    "            image_rgb = self.compute(z, image_aperture=image_aperture)\n",
    "                \n",
    "            image_rgb -= image_rgb.min() # HACK\n",
    "            image_rgb /= image_rgb.max()\n",
    "\n",
    "            image_rgb = image_rgb ** (1/self.opt.gamma)\n",
    "\n",
    "            # 2/ transform light into image:\n",
    "            output_filename = make_mp4(output_filename, (image_rgb*(2**self.opt.n_bits-1)).astype(self.np_dtype), fps=self.opt.fps)\n",
    "        return output_filename\n",
    "\n",
    "    def show(self, output_filename, width=1024):\n",
    "        from IPython.display import HTML, Image, display\n",
    "        if self.opt.nframe==1:\n",
    "            # display(Image(url=output_filename.replace(self.opt.ext, 'png'), width=width))\n",
    "            display(Image(url=output_filename, width=width))\n",
    "        else:\n",
    "            if self.opt.ext == 'gif':\n",
    "                return display(Image(url=output_filename, width=width))\n",
    "            else:\n",
    "                #import moviepy.editor as mpy\n",
    "                #return mpy.ipython_display(output_filename, width=width)\n",
    "                # https://github.com/NeuralEnsemble/MotionClouds/blob/master/MotionClouds/MotionClouds.py#L858\n",
    "                opts = ' loop=\"1\" autoplay=\"1\" controls '\n",
    "                html = HTML(f'<video {opts} src=\"{output_filename}\" type=\"video/{self.opt.ext}\" width={width} >')\n",
    "                html.reload()\n",
    "                return display(html)"
   ]
  },
  {
   "cell_type": "markdown",
   "metadata": {},
   "source": [
    "# une simple caustique\n",
    "## génération de la vague\n"
   ]
  },
  {
   "cell_type": "code",
   "execution_count": 15,
   "metadata": {
    "execution": {
     "iopub.execute_input": "2024-10-16T09:43:06.298834Z",
     "iopub.status.busy": "2024-10-16T09:43:06.298734Z",
     "iopub.status.idle": "2024-10-16T09:43:07.259909Z",
     "shell.execute_reply": "2024-10-16T09:43:07.259495Z"
    }
   },
   "outputs": [],
   "source": [
    "c = Caustique(init())"
   ]
  },
  {
   "cell_type": "code",
   "execution_count": 16,
   "metadata": {},
   "outputs": [
    {
     "data": {
      "text/plain": [
       "((512, 512, 96),\n",
       " np.float64(0.0),\n",
       " np.float64(0.5000000000000007),\n",
       " np.float64(0.922689417050234))"
      ]
     },
     "execution_count": 16,
     "metadata": {},
     "output_type": "execute_result"
    }
   ],
   "source": [
    "z = c.wave()\n",
    "z.shape, z.min(), z.mean(), z.max()"
   ]
  },
  {
   "cell_type": "code",
   "execution_count": 17,
   "metadata": {},
   "outputs": [
    {
     "data": {
      "text/html": [
       "<video  loop=\"1\" autoplay=\"1\" controls  src=\"2025-10-30_caustique-transition/caustique_vague_47c99280.mp4\" type=\"video/mp4\" width=1024 >"
      ],
      "text/plain": [
       "<IPython.core.display.HTML object>"
      ]
     },
     "metadata": {},
     "output_type": "display_data"
    }
   ],
   "source": [
    "output_filename = c.get_filename(note='_vague')\n",
    "if not(os.path.isfile(output_filename)):\n",
    "    z_q = (z*(2**opt.n_bits-1)).astype(c.np_dtype)\n",
    "    # z_q = ((z > 1)*(2**opt.n_bits-1)).astype(c.np_dtype)\n",
    "    print(z_q.shape, z_q.min(), z_q.mean(), z_q.max())\n",
    "    output_filename = make_mp4(output_filename, z_q, fps=opt.fps)\n",
    "    del z_q\n",
    "c.show(output_filename)"
   ]
  },
  {
   "cell_type": "code",
   "execution_count": 18,
   "metadata": {},
   "outputs": [
    {
     "name": "stdout",
     "output_type": "stream",
     "text": [
      "Variable          Type                   Data/Info\n",
      "--------------------------------------------------\n",
      "CM_BY_INCH        float                  2.54\n",
      "Caustique         type                   <class '__main__.Caustique'>\n",
      "Lambda2color      type                   <class 'lambda2color.Lambda2color'>\n",
      "PRECISION         int                    11\n",
      "Parallel          type                   <class 'joblib.parallel.Parallel'>\n",
      "SubplotParams     type                   <class 'matplotlib.gridspec.SubplotParams'>\n",
      "c                 Caustique              <__main__.Caustique object at 0x10c2216a0>\n",
      "dataclass         function               <function dataclass at 0x106a27a60>\n",
      "delayed           function               <function delayed at 0x10bba6340>\n",
      "dpi               float                  26.0096\n",
      "get_ipython       function               <function get_ipython at 0x1073b1800>\n",
      "hashlib           module                 <module 'hashlib' from '/<...>b/python3.13/hashlib.py'>\n",
      "imageio           module                 <module 'imageio' from '/<...>ges/imageio/__init__.py'>\n",
      "init              type                   <class '__main__.init'>\n",
      "ip                ZMQInteractiveShell    <ipykernel.zmqshell.ZMQIn<...>ll object at 0x108833380>\n",
      "make_mp4          function               <function make_mp4 at 0x10bba6ac0>\n",
      "matplotlib        module                 <module 'matplotlib' from<...>/matplotlib/__init__.py'>\n",
      "mc                module                 <module 'MotionClouds' fr<...>stiques/MotionClouds.py'>\n",
      "ndimage           module                 <module 'scipy.ndimage' f<...>ipy/ndimage/__init__.py'>\n",
      "np                module                 <module 'numpy' from '/Us<...>kages/numpy/__init__.py'>\n",
      "opt               init                   init(figpath='2025-10-30_<...>=False, do_display=False)\n",
      "os                module                 <module 'os' (frozen)>\n",
      "output_filename   str                    2025-10-30_caustique-tran<...>stique_vague_47c99280.mp4\n",
      "planck            function               <function planck at 0x10bc4d760>\n",
      "plt               module                 <module 'matplotlib.pyplo<...>es/matplotlib/pyplot.py'>\n",
      "pprint            function               <function pprint at 0x106a25e40>\n",
      "scattering        function               <function scattering at 0x10bc4d6c0>\n",
      "screen_size_cm    int                    100\n",
      "screen_size_in    float                  39.37007874015748\n",
      "study_name        str                    2025-10-30_caustique-transition\n",
      "subplotpars       SubplotParams          <matplotlib.gridspec.Subp<...>ms object at 0x10bb95be0>\n",
      "tqdm              type                   <class 'tqdm.auto.tqdm'>\n",
      "trange            function               <function trange at 0x109058cc0>\n",
      "xyz_from_xy       function               <function xyz_from_xy at 0x10bc4d800>\n",
      "z                 ndarray                512x512x96: 25165824 elems, type `float64`, 201326592 bytes (192.0 Mb)\n"
     ]
    }
   ],
   "source": [
    "%whos"
   ]
  },
  {
   "cell_type": "markdown",
   "metadata": {},
   "source": [
    "## génération de l'illumination\n"
   ]
  },
  {
   "cell_type": "code",
   "execution_count": 19,
   "metadata": {
    "execution": {
     "iopub.execute_input": "2024-10-16T09:43:07.265091Z",
     "iopub.status.busy": "2024-10-16T09:43:07.264969Z",
     "iopub.status.idle": "2024-10-16T09:43:27.244503Z",
     "shell.execute_reply": "2024-10-16T09:43:27.243869Z"
    }
   },
   "outputs": [
    {
     "data": {
      "image/png": "[encoded data removed]",
      "text/plain": [
       "<Figure size 3937.01x3937.01 with 1 Axes>"
      ]
     },
     "metadata": {},
     "output_type": "display_data"
    }
   ],
   "source": [
    "def generate_image(nx, ny, radius_in, radius_out):\n",
    "    Y, X = np.meshgrid(np.linspace(-1, 1, ny, endpoint=True), np.linspace(-1, 1, nx, endpoint=True))\n",
    "    image_aperture = (X**2 > radius_in**2)  # the horizontal band outside radius_in\n",
    "    image_aperture *= (Y**2 < radius_out**2) # the vertical band inside radius_out\n",
    "    image_aperture *= (X**2 < radius_out**2)  # the horizontal band inside radius_out\n",
    "    return image_aperture*1.\n",
    "\n",
    "image_aperture = generate_image(nx=opt.nx, ny=opt.ny, radius_in=opt.radius_in, radius_out=opt.radius_out)\n",
    "\n",
    "fig, ax = plt.subplots(figsize=(opt.ny/opt.bin_dens/dpi, opt.nx/opt.bin_dens/dpi), subplotpars=subplotpars)\n",
    "\n",
    "ax.imshow(image_aperture, cmap='gray');"
   ]
  },
  {
   "cell_type": "code",
   "execution_count": 20,
   "metadata": {},
   "outputs": [
    {
     "data": {
      "text/plain": [
       "(np.float64(0.0), np.float64(1.0), 2048, 2048)"
      ]
     },
     "execution_count": 20,
     "metadata": {},
     "output_type": "execute_result"
    }
   ],
   "source": [
    "image_aperture.min(), image_aperture.max(), opt.nx, opt.ny"
   ]
  },
  {
   "cell_type": "markdown",
   "metadata": {},
   "source": [
    "## génération de la caustique\n"
   ]
  },
  {
   "cell_type": "code",
   "execution_count": 21,
   "metadata": {},
   "outputs": [
    {
     "data": {
      "text/plain": [
       "(10, 10, 3)"
      ]
     },
     "execution_count": 21,
     "metadata": {},
     "output_type": "execute_result"
    }
   ],
   "source": [
    "import numpy as np\n",
    "# Example: list of (H, W, 3) arrays\n",
    "arrays = [np.random.rand(10, 10, 3) for _ in range(5)]  # Replace with your actual list of arrays\n",
    "\n",
    "# Sum all arrays in the list\n",
    "summed_array = np.sum(arrays, axis=0)\n",
    "summed_array.shape"
   ]
  },
  {
   "cell_type": "code",
   "execution_count": 22,
   "metadata": {
    "execution": {
     "iopub.execute_input": "2024-10-16T09:43:27.248311Z",
     "iopub.status.busy": "2024-10-16T09:43:27.248044Z",
     "iopub.status.idle": "2024-10-16T09:43:27.675906Z",
     "shell.execute_reply": "2024-10-16T09:43:27.675663Z"
    }
   },
   "outputs": [],
   "source": [
    "output_filename = c.plot(z, image_aperture)"
   ]
  },
  {
   "cell_type": "code",
   "execution_count": 23,
   "metadata": {
    "execution": {
     "iopub.execute_input": "2024-10-16T09:43:27.677589Z",
     "iopub.status.busy": "2024-10-16T09:43:27.677500Z",
     "iopub.status.idle": "2024-10-16T09:43:27.679800Z",
     "shell.execute_reply": "2024-10-16T09:43:27.679552Z"
    }
   },
   "outputs": [
    {
     "data": {
      "text/html": [
       "<video  loop=\"1\" autoplay=\"1\" controls  src=\"2025-10-30_caustique-transition/caustique_1d443efe.mp4\" type=\"video/mp4\" width=1024 >"
      ],
      "text/plain": [
       "<IPython.core.display.HTML object>"
      ]
     },
     "metadata": {},
     "output_type": "display_data"
    }
   ],
   "source": [
    "c.show(output_filename)"
   ]
  },
  {
   "cell_type": "code",
   "execution_count": 24,
   "metadata": {},
   "outputs": [
    {
     "data": {
      "text/plain": [
       "20"
      ]
     },
     "execution_count": 24,
     "metadata": {},
     "output_type": "execute_result"
    }
   ],
   "source": [
    "len(c.rgbs)"
   ]
  },
  {
   "cell_type": "markdown",
   "metadata": {
    "tags": []
   },
   "source": [
    "# exploration des paramètres\n"
   ]
  },
  {
   "cell_type": "code",
   "execution_count": 25,
   "metadata": {
    "execution": {
     "iopub.execute_input": "2024-10-16T09:43:27.681057Z",
     "iopub.status.busy": "2024-10-16T09:43:27.680980Z",
     "iopub.status.idle": "2024-10-16T09:43:27.682344Z",
     "shell.execute_reply": "2024-10-16T09:43:27.682143Z"
    }
   },
   "outputs": [],
   "source": [
    "N_scan = 5\n",
    "base = 2"
   ]
  },
  {
   "cell_type": "markdown",
   "metadata": {
    "tags": []
   },
   "source": [
    "## profondeur d'eau\n"
   ]
  },
  {
   "cell_type": "code",
   "execution_count": 26,
   "metadata": {
    "execution": {
     "iopub.execute_input": "2024-10-16T09:43:27.683507Z",
     "iopub.status.busy": "2024-10-16T09:43:27.683435Z",
     "iopub.status.idle": "2024-10-16T09:43:31.221238Z",
     "shell.execute_reply": "2024-10-16T09:43:31.220945Z"
    }
   },
   "outputs": [
    {
     "name": "stdout",
     "output_type": "stream",
     "text": [
      "H = 60.000 -> output_filename='2025-10-30_caustique-transition/caustique_H_60.000_9879ffef.mp4' \n",
      "H = 84.853 -> output_filename='2025-10-30_caustique-transition/caustique_H_84.853_9f0ef26e.mp4' \n",
      "H = 120.000 -> output_filename='2025-10-30_caustique-transition/caustique_H_120.000_b33c5b03.mp4' \n",
      "H = 169.706 -> output_filename='2025-10-30_caustique-transition/caustique_H_169.706_6e691af0.mp4' \n",
      "H = 240.000 -> output_filename='2025-10-30_caustique-transition/caustique_H_240.000_c0031d33.mp4' \n"
     ]
    }
   ],
   "source": [
    "for H_ in opt.H*np.logspace(-1, 1, N_scan, base=base):    \n",
    "    c = Caustique(init(tag=f'{opt.tag}_H_{H_:.3f}', H = H_))\n",
    "    output_filename = c.plot(z, image_aperture)\n",
    "    print(f'H = {H_:.3f} -> {output_filename=} ')\n",
    "    if opt.do_display: c.show(output_filename)"
   ]
  },
  {
   "cell_type": "markdown",
   "metadata": {
    "tags": []
   },
   "source": [
    "## variation de l'indice de réfraction\n"
   ]
  },
  {
   "cell_type": "code",
   "execution_count": 27,
   "metadata": {
    "execution": {
     "iopub.execute_input": "2024-10-16T09:43:31.223035Z",
     "iopub.status.busy": "2024-10-16T09:43:31.222910Z",
     "iopub.status.idle": "2024-10-16T09:43:33.903735Z",
     "shell.execute_reply": "2024-10-16T09:43:33.903270Z"
    }
   },
   "outputs": [],
   "source": [
    "# for variation_ in np.logspace(-2, 0, N_scan, base=10, endpoint=False):\n",
    "#     opt = init()\n",
    "#     c = Caustique(opt)\n",
    "#     opt.variation = variation_\n",
    "#     opt.tag = f'{opt.tag}_variation_{variation_:.3f}'\n",
    "\n",
    "#     output_filename = c.plot(z, image_aperture)\n",
    "#     print(f'variation = {variation_:.3f}  -> {output_filename=}')\n",
    "#     if opt.do_display: c.show(output_filename)"
   ]
  },
  {
   "cell_type": "markdown",
   "metadata": {},
   "source": [
    "## post-processing"
   ]
  },
  {
   "cell_type": "code",
   "execution_count": 28,
   "metadata": {
    "execution": {
     "iopub.execute_input": "2024-10-16T09:43:33.905319Z",
     "iopub.status.busy": "2024-10-16T09:43:33.905216Z",
     "iopub.status.idle": "2024-10-16T09:43:39.369292Z",
     "shell.execute_reply": "2024-10-16T09:43:39.369027Z"
    }
   },
   "outputs": [
    {
     "name": "stdout",
     "output_type": "stream",
     "text": [
      "======gamma======\n",
      "gamma=gamma(default)*0.500=1.200E+00 -> output_filename='2025-10-30_caustique-transition/caustique_gamma_modul_0.500_b08f03a2.mp4'\n",
      "gamma=gamma(default)*0.707=1.697E+00 -> output_filename='2025-10-30_caustique-transition/caustique_gamma_modul_0.707_07f51972.mp4'\n",
      "gamma=gamma(default)*1.000=2.400E+00 -> output_filename='2025-10-30_caustique-transition/caustique_gamma_modul_1.000_9b59cc51.mp4'\n",
      "gamma=gamma(default)*1.414=3.394E+00 -> output_filename='2025-10-30_caustique-transition/caustique_gamma_modul_1.414_60e37025.mp4'\n",
      "gamma=gamma(default)*2.000=4.800E+00 -> output_filename='2025-10-30_caustique-transition/caustique_gamma_modul_2.000_62d739cf.mp4'\n"
     ]
    }
   ],
   "source": [
    "# for variable in ['gamma', 'min_lum', 'sigma']: \n",
    "for variable in ['gamma']: \n",
    "    print(f'======{variable}======')\n",
    "    for modul in np.logspace(-1, 1, N_scan, base=base):\n",
    "        c = Caustique(init(tag=f'{opt.tag}_{variable}_modul_{modul:.3f}'))\n",
    "        c.d[variable] *= modul\n",
    "        \n",
    "        output_filename = c.plot(z, image_aperture)\n",
    "        print(f'{variable}={variable}(default)*{modul:.3f}={c.d[variable]:.3E} -> {output_filename=}')\n",
    "        if opt.do_display: c.show(output_filename)"
   ]
  },
  {
   "cell_type": "markdown",
   "metadata": {},
   "source": [
    "\n",
    "## paramètres de l'ouverture\n"
   ]
  },
  {
   "cell_type": "code",
   "execution_count": 29,
   "metadata": {
    "execution": {
     "iopub.execute_input": "2024-10-16T10:39:19.059775Z",
     "iopub.status.busy": "2024-10-16T10:39:19.059592Z",
     "iopub.status.idle": "2024-10-16T10:43:57.657865Z",
     "shell.execute_reply": "2024-10-16T10:43:57.655454Z"
    }
   },
   "outputs": [
    {
     "name": "stdout",
     "output_type": "stream",
     "text": [
      "radius_in=0.000 -> output_filename='2025-10-30_caustique-transition/caustique_image_radius_in=0.000_aa50ca11.mp4' \n",
      "radius_in=0.120 -> output_filename='2025-10-30_caustique-transition/caustique_image_radius_in=0.120_d95c545a.mp4' \n",
      "radius_in=0.240 -> output_filename='2025-10-30_caustique-transition/caustique_image_radius_in=0.240_089d3a72.mp4' \n",
      "radius_in=0.360 -> output_filename='2025-10-30_caustique-transition/caustique_image_radius_in=0.360_f81bf575.mp4' \n",
      "radius_in=0.480 -> output_filename='2025-10-30_caustique-transition/caustique_image_radius_in=0.480_ed48109b.mp4' \n"
     ]
    }
   ],
   "source": [
    "for radius_in in np.linspace(0, opt.radius_out, N_scan+1)[:-1]:\n",
    "    c = Caustique(init(tag=f'{opt.tag}_image_{radius_in=:.3f}'))\n",
    "\n",
    "    output_filename = c.plot(z, generate_image(nx=opt.nx, ny=opt.ny, radius_in=radius_in, radius_out=opt.radius_out))\n",
    "    print(f'{radius_in=:.3f} -> {output_filename=} ')\n",
    "    if opt.do_display: c.show(output_filename)"
   ]
  },
  {
   "cell_type": "code",
   "execution_count": 30,
   "metadata": {},
   "outputs": [
    {
     "name": "stdout",
     "output_type": "stream",
     "text": [
      "radius_out=0.320 -> output_filename='2025-10-30_caustique-transition/caustique_image_radius_out=0.320_05d368c2.mp4' \n",
      "radius_out=0.490 -> output_filename='2025-10-30_caustique-transition/caustique_image_radius_out=0.490_ab9456c2.mp4' \n",
      "radius_out=0.660 -> output_filename='2025-10-30_caustique-transition/caustique_image_radius_out=0.660_fb897459.mp4' \n",
      "radius_out=0.830 -> output_filename='2025-10-30_caustique-transition/caustique_image_radius_out=0.830_ee4238d6.mp4' \n",
      "radius_out=1.000 -> output_filename='2025-10-30_caustique-transition/caustique_image_radius_out=1.000_d63c03a1.mp4' \n"
     ]
    }
   ],
   "source": [
    "for radius_out in np.linspace(opt.radius_in, 1, N_scan+1)[1:]:\n",
    "    c = Caustique(init(tag=f'{opt.tag}_image_{radius_out=:.3f}'))\n",
    "\n",
    "    output_filename = c.plot(z, generate_image(nx=opt.nx, ny=opt.ny, radius_in=opt.radius_in, radius_out=radius_out))\n",
    "    print(f'{radius_out=:.3f} -> {output_filename=} ')\n",
    "    if opt.do_display: c.show(output_filename)"
   ]
  },
  {
   "cell_type": "markdown",
   "metadata": {
    "tags": []
   },
   "source": [
    "## autres instances de l'onde\n"
   ]
  },
  {
   "cell_type": "code",
   "execution_count": 31,
   "metadata": {
    "execution": {
     "iopub.execute_input": "2024-10-16T09:43:39.371388Z",
     "iopub.status.busy": "2024-10-16T09:43:39.371265Z",
     "iopub.status.idle": "2024-10-16T09:43:59.766666Z",
     "shell.execute_reply": "2024-10-16T09:43:59.765977Z"
    }
   },
   "outputs": [
    {
     "data": {
      "application/vnd.jupyter.widget-view+json": {
       "model_id": "572a8a9c94ef4c79be28a9ac13c32f73",
       "version_major": 2,
       "version_minor": 0
      },
      "text/plain": [
       "Scanning time:   0%|          | 0/96 [00:00<?, ?it/s]"
      ]
     },
     "metadata": {},
     "output_type": "display_data"
    },
    {
     "name": "stderr",
     "output_type": "stream",
     "text": [
      "/Users/laurentperrinet/app54-nextcloud/NaturalPatterns/2020_caustiques/.venv/lib/python3.13/site-packages/joblib/externals/loky/process_executor.py:782: UserWarning: A worker stopped while some jobs were given to the executor. This can be caused by a too short worker timeout or by a memory leak.\n",
      "  warnings.warn(\n"
     ]
    },
    {
     "data": {
      "application/vnd.jupyter.widget-view+json": {
       "model_id": "2f33c15fceca4c0f82a0b3b2d50759b7",
       "version_major": 2,
       "version_minor": 0
      },
      "text/plain": [
       "Generating movie:   0%|          | 0/96 [00:00<?, ?it/s]"
      ]
     },
     "metadata": {},
     "output_type": "display_data"
    },
    {
     "name": "stdout",
     "output_type": "stream",
     "text": [
      "seed=2025 -> output_filename='2025-10-30_caustique-transition/caustique_seed_2025_d6aa6e61.mp4'\n",
      "seed=2026 -> output_filename='2025-10-30_caustique-transition/caustique_seed_2025_d6aa6e61.mp4'\n"
     ]
    },
    {
     "data": {
      "application/vnd.jupyter.widget-view+json": {
       "model_id": "989b9bca33c4487b9e515b37e977c917",
       "version_major": 2,
       "version_minor": 0
      },
      "text/plain": [
       "Scanning time:   0%|          | 0/96 [00:00<?, ?it/s]"
      ]
     },
     "metadata": {},
     "output_type": "display_data"
    },
    {
     "data": {
      "application/vnd.jupyter.widget-view+json": {
       "model_id": "0c45edbaae3248b99491a64269d3c58d",
       "version_major": 2,
       "version_minor": 0
      },
      "text/plain": [
       "Generating movie:   0%|          | 0/96 [00:00<?, ?it/s]"
      ]
     },
     "metadata": {},
     "output_type": "display_data"
    },
    {
     "name": "stdout",
     "output_type": "stream",
     "text": [
      "seed=2027 -> output_filename='2025-10-30_caustique-transition/caustique_seed_2026_4dff83b2.mp4'\n"
     ]
    },
    {
     "data": {
      "application/vnd.jupyter.widget-view+json": {
       "model_id": "3f37d0dd7a9e43b5b2e1bd45ad6b18f8",
       "version_major": 2,
       "version_minor": 0
      },
      "text/plain": [
       "Scanning time:   0%|          | 0/96 [00:00<?, ?it/s]"
      ]
     },
     "metadata": {},
     "output_type": "display_data"
    },
    {
     "data": {
      "application/vnd.jupyter.widget-view+json": {
       "model_id": "b92a6ff4c22a459182e4f88cdab06306",
       "version_major": 2,
       "version_minor": 0
      },
      "text/plain": [
       "Generating movie:   0%|          | 0/96 [00:00<?, ?it/s]"
      ]
     },
     "metadata": {},
     "output_type": "display_data"
    },
    {
     "name": "stdout",
     "output_type": "stream",
     "text": [
      "seed=2028 -> output_filename='2025-10-30_caustique-transition/caustique_seed_2027_8831d3a1.mp4'\n"
     ]
    },
    {
     "data": {
      "application/vnd.jupyter.widget-view+json": {
       "model_id": "2fbf341523244ec6a0c6508144b94012",
       "version_major": 2,
       "version_minor": 0
      },
      "text/plain": [
       "Scanning time:   0%|          | 0/96 [00:00<?, ?it/s]"
      ]
     },
     "metadata": {},
     "output_type": "display_data"
    },
    {
     "data": {
      "application/vnd.jupyter.widget-view+json": {
       "model_id": "874f108855cb46ab9f4e32aea09e7c06",
       "version_major": 2,
       "version_minor": 0
      },
      "text/plain": [
       "Generating movie:   0%|          | 0/96 [00:00<?, ?it/s]"
      ]
     },
     "metadata": {},
     "output_type": "display_data"
    },
    {
     "name": "stdout",
     "output_type": "stream",
     "text": [
      "seed=2029 -> output_filename='2025-10-30_caustique-transition/caustique_seed_2028_44f18e10.mp4'\n"
     ]
    }
   ],
   "source": [
    "for seed_increment in range(N_scan):\n",
    "    c = Caustique(init(tag=f'{opt.tag}_seed_{c.d['seed']}'))\n",
    "    c.d['seed'] = c.d['seed'] + seed_increment\n",
    "    output_filename = c.get_filename()\n",
    "    if not(os.path.isfile(output_filename)):\n",
    "        output_filename = c.plot(c.wave(do_cache=False), image_aperture)\n",
    "    print(f'seed={c.d['seed']} -> {output_filename=}')\n",
    "    if opt.do_display: c.show(output_filename)"
   ]
  },
  {
   "cell_type": "markdown",
   "metadata": {},
   "source": [
    "## autres variables sur l'onde\n"
   ]
  },
  {
   "cell_type": "code",
   "execution_count": 32,
   "metadata": {},
   "outputs": [
    {
     "name": "stdout",
     "output_type": "stream",
     "text": [
      "======theta======\n",
      "(512, 512, 96) 0.0 0.4999999999999991 0.9672339075255418\n"
     ]
    },
    {
     "data": {
      "application/vnd.jupyter.widget-view+json": {
       "model_id": "0e8e204269cf40b3bbac363a6b0b8404",
       "version_major": 2,
       "version_minor": 0
      },
      "text/plain": [
       "Scanning time:   0%|          | 0/96 [00:00<?, ?it/s]"
      ]
     },
     "metadata": {},
     "output_type": "display_data"
    },
    {
     "data": {
      "application/vnd.jupyter.widget-view+json": {
       "model_id": "bd750a3ac51e4ae4b9cf3b20cfcbf5d0",
       "version_major": 2,
       "version_minor": 0
      },
      "text/plain": [
       "Generating movie:   0%|          | 0/96 [00:00<?, ?it/s]"
      ]
     },
     "metadata": {},
     "output_type": "display_data"
    },
    {
     "name": "stdout",
     "output_type": "stream",
     "text": [
      "(512, 512, 96) 0.0 0.4999999999999991 0.9672339075255418\n",
      "theta=theta(default)*0.500=7.854E-01 -> output_filename='2025-10-30_caustique-transition/caustique_theta_modul_0.500_19679028.mp4'\n",
      "(512, 512, 96) 0.0 0.4999999999999995 0.9503647894824401\n"
     ]
    },
    {
     "data": {
      "application/vnd.jupyter.widget-view+json": {
       "model_id": "086efb0b51764e9aa97b78e86c549396",
       "version_major": 2,
       "version_minor": 0
      },
      "text/plain": [
       "Scanning time:   0%|          | 0/96 [00:00<?, ?it/s]"
      ]
     },
     "metadata": {},
     "output_type": "display_data"
    },
    {
     "data": {
      "application/vnd.jupyter.widget-view+json": {
       "model_id": "ea6ce52fab624f0f9e13c3529439622f",
       "version_major": 2,
       "version_minor": 0
      },
      "text/plain": [
       "Generating movie:   0%|          | 0/96 [00:00<?, ?it/s]"
      ]
     },
     "metadata": {},
     "output_type": "display_data"
    },
    {
     "name": "stdout",
     "output_type": "stream",
     "text": [
      "(512, 512, 96) 0.0 0.4999999999999995 0.9503647894824401\n",
      "theta=theta(default)*0.707=1.111E+00 -> output_filename='2025-10-30_caustique-transition/caustique_theta_modul_0.707_1b3d146b.mp4'\n",
      "(512, 512, 96) 0.0 0.5000000000000007 0.922689417050234\n"
     ]
    },
    {
     "data": {
      "application/vnd.jupyter.widget-view+json": {
       "model_id": "1a87d5f24b434cf19b61b0872ec8233c",
       "version_major": 2,
       "version_minor": 0
      },
      "text/plain": [
       "Scanning time:   0%|          | 0/96 [00:00<?, ?it/s]"
      ]
     },
     "metadata": {},
     "output_type": "display_data"
    },
    {
     "data": {
      "application/vnd.jupyter.widget-view+json": {
       "model_id": "8cb4bf1356b243a3a7a39a0614f7fae4",
       "version_major": 2,
       "version_minor": 0
      },
      "text/plain": [
       "Generating movie:   0%|          | 0/96 [00:00<?, ?it/s]"
      ]
     },
     "metadata": {},
     "output_type": "display_data"
    },
    {
     "name": "stdout",
     "output_type": "stream",
     "text": [
      "(512, 512, 96) 0.0 0.5000000000000007 0.922689417050234\n",
      "theta=theta(default)*1.000=1.571E+00 -> output_filename='2025-10-30_caustique-transition/caustique_theta_modul_1.000_206289f1.mp4'\n",
      "(512, 512, 96) 0.0 0.5000000000000012 0.9313445691558425\n"
     ]
    },
    {
     "data": {
      "application/vnd.jupyter.widget-view+json": {
       "model_id": "930f51ed9b054488bb10ecd05bcd80cd",
       "version_major": 2,
       "version_minor": 0
      },
      "text/plain": [
       "Scanning time:   0%|          | 0/96 [00:00<?, ?it/s]"
      ]
     },
     "metadata": {},
     "output_type": "display_data"
    },
    {
     "data": {
      "application/vnd.jupyter.widget-view+json": {
       "model_id": "ca99a8802041457bb364371136836060",
       "version_major": 2,
       "version_minor": 0
      },
      "text/plain": [
       "Generating movie:   0%|          | 0/96 [00:00<?, ?it/s]"
      ]
     },
     "metadata": {},
     "output_type": "display_data"
    },
    {
     "name": "stdout",
     "output_type": "stream",
     "text": [
      "(512, 512, 96) 0.0 0.5000000000000012 0.9313445691558425\n",
      "theta=theta(default)*1.414=2.221E+00 -> output_filename='2025-10-30_caustique-transition/caustique_theta_modul_1.414_31cc11d9.mp4'\n",
      "(512, 512, 96) 0.0 0.4999999999999985 0.9818341526743719\n"
     ]
    },
    {
     "data": {
      "application/vnd.jupyter.widget-view+json": {
       "model_id": "5229dcb9ca6d4bae9ebcaef2cf07fcdd",
       "version_major": 2,
       "version_minor": 0
      },
      "text/plain": [
       "Scanning time:   0%|          | 0/96 [00:00<?, ?it/s]"
      ]
     },
     "metadata": {},
     "output_type": "display_data"
    },
    {
     "data": {
      "application/vnd.jupyter.widget-view+json": {
       "model_id": "c34c69979fd9472aa7dcf5f5dd4a877a",
       "version_major": 2,
       "version_minor": 0
      },
      "text/plain": [
       "Generating movie:   0%|          | 0/96 [00:00<?, ?it/s]"
      ]
     },
     "metadata": {},
     "output_type": "display_data"
    },
    {
     "name": "stdout",
     "output_type": "stream",
     "text": [
      "(512, 512, 96) 0.0 0.4999999999999985 0.9818341526743719\n",
      "theta=theta(default)*2.000=3.142E+00 -> output_filename='2025-10-30_caustique-transition/caustique_theta_modul_2.000_c92c3e91.mp4'\n",
      "======B_theta======\n",
      "(512, 512, 96) 0.0 0.49999999999999906 0.9569317423125986\n"
     ]
    },
    {
     "data": {
      "application/vnd.jupyter.widget-view+json": {
       "model_id": "da0485ca2b3f43d7b1d0ed828379b109",
       "version_major": 2,
       "version_minor": 0
      },
      "text/plain": [
       "Scanning time:   0%|          | 0/96 [00:00<?, ?it/s]"
      ]
     },
     "metadata": {},
     "output_type": "display_data"
    },
    {
     "data": {
      "application/vnd.jupyter.widget-view+json": {
       "model_id": "31f683344c4f484395fbdd4901306a25",
       "version_major": 2,
       "version_minor": 0
      },
      "text/plain": [
       "Generating movie:   0%|          | 0/96 [00:00<?, ?it/s]"
      ]
     },
     "metadata": {},
     "output_type": "display_data"
    },
    {
     "name": "stdout",
     "output_type": "stream",
     "text": [
      "(512, 512, 96) 0.0 0.49999999999999906 0.9569317423125986\n",
      "B_theta=B_theta(default)*0.500=3.927E-01 -> output_filename='2025-10-30_caustique-transition/caustique_B_theta_modul_0.500_1cd370d2.mp4'\n",
      "(512, 512, 96) 0.0 0.5000000000000006 0.9331190027168914\n"
     ]
    },
    {
     "data": {
      "application/vnd.jupyter.widget-view+json": {
       "model_id": "c046cefa79df480b9e89c0ee190c5e13",
       "version_major": 2,
       "version_minor": 0
      },
      "text/plain": [
       "Scanning time:   0%|          | 0/96 [00:00<?, ?it/s]"
      ]
     },
     "metadata": {},
     "output_type": "display_data"
    },
    {
     "data": {
      "application/vnd.jupyter.widget-view+json": {
       "model_id": "b2c48e073fb94c6aa004d25d13b83bcf",
       "version_major": 2,
       "version_minor": 0
      },
      "text/plain": [
       "Generating movie:   0%|          | 0/96 [00:00<?, ?it/s]"
      ]
     },
     "metadata": {},
     "output_type": "display_data"
    },
    {
     "name": "stdout",
     "output_type": "stream",
     "text": [
      "(512, 512, 96) 0.0 0.5000000000000006 0.9331190027168914\n",
      "B_theta=B_theta(default)*0.707=5.554E-01 -> output_filename='2025-10-30_caustique-transition/caustique_B_theta_modul_0.707_9b62d37f.mp4'\n",
      "(512, 512, 96) 0.0 0.5000000000000007 0.922689417050234\n"
     ]
    },
    {
     "data": {
      "application/vnd.jupyter.widget-view+json": {
       "model_id": "88e191284e4c46dd916498efb4b216c1",
       "version_major": 2,
       "version_minor": 0
      },
      "text/plain": [
       "Scanning time:   0%|          | 0/96 [00:00<?, ?it/s]"
      ]
     },
     "metadata": {},
     "output_type": "display_data"
    },
    {
     "data": {
      "application/vnd.jupyter.widget-view+json": {
       "model_id": "6d8b3c0ccd9f4d4793f07bd8b8bfa08a",
       "version_major": 2,
       "version_minor": 0
      },
      "text/plain": [
       "Generating movie:   0%|          | 0/96 [00:00<?, ?it/s]"
      ]
     },
     "metadata": {},
     "output_type": "display_data"
    },
    {
     "name": "stdout",
     "output_type": "stream",
     "text": [
      "(512, 512, 96) 0.0 0.5000000000000007 0.922689417050234\n",
      "B_theta=B_theta(default)*1.000=7.854E-01 -> output_filename='2025-10-30_caustique-transition/caustique_B_theta_modul_1.000_fba487be.mp4'\n",
      "(512, 512, 96) 0.0 0.4999999999999994 0.9388797048672668\n"
     ]
    },
    {
     "data": {
      "application/vnd.jupyter.widget-view+json": {
       "model_id": "f18ddbced7a04122a96f6ffe9a3e3009",
       "version_major": 2,
       "version_minor": 0
      },
      "text/plain": [
       "Scanning time:   0%|          | 0/96 [00:00<?, ?it/s]"
      ]
     },
     "metadata": {},
     "output_type": "display_data"
    },
    {
     "data": {
      "application/vnd.jupyter.widget-view+json": {
       "model_id": "d1909e92836c4be0bbd9b2848eb344c2",
       "version_major": 2,
       "version_minor": 0
      },
      "text/plain": [
       "Generating movie:   0%|          | 0/96 [00:00<?, ?it/s]"
      ]
     },
     "metadata": {},
     "output_type": "display_data"
    },
    {
     "name": "stdout",
     "output_type": "stream",
     "text": [
      "(512, 512, 96) 0.0 0.4999999999999994 0.9388797048672668\n",
      "B_theta=B_theta(default)*1.414=1.111E+00 -> output_filename='2025-10-30_caustique-transition/caustique_B_theta_modul_1.414_9410ff5b.mp4'\n",
      "(512, 512, 96) 0.0 0.5000000000000006 0.9468587737415397\n"
     ]
    },
    {
     "data": {
      "application/vnd.jupyter.widget-view+json": {
       "model_id": "0d1312267d0d4e06ba8c193c6e30aae5",
       "version_major": 2,
       "version_minor": 0
      },
      "text/plain": [
       "Scanning time:   0%|          | 0/96 [00:00<?, ?it/s]"
      ]
     },
     "metadata": {},
     "output_type": "display_data"
    },
    {
     "data": {
      "application/vnd.jupyter.widget-view+json": {
       "model_id": "9afa35ecd0614f91abdf047271875317",
       "version_major": 2,
       "version_minor": 0
      },
      "text/plain": [
       "Generating movie:   0%|          | 0/96 [00:00<?, ?it/s]"
      ]
     },
     "metadata": {},
     "output_type": "display_data"
    },
    {
     "name": "stdout",
     "output_type": "stream",
     "text": [
      "(512, 512, 96) 0.0 0.5000000000000006 0.9468587737415397\n",
      "B_theta=B_theta(default)*2.000=1.571E+00 -> output_filename='2025-10-30_caustique-transition/caustique_B_theta_modul_2.000_ed77dc73.mp4'\n",
      "======sf_0======\n",
      "(512, 512, 96) 0.0 0.4999999999999996 0.8761499147518221\n"
     ]
    },
    {
     "data": {
      "application/vnd.jupyter.widget-view+json": {
       "model_id": "a822073c3a244615ae35a969cb497ed2",
       "version_major": 2,
       "version_minor": 0
      },
      "text/plain": [
       "Scanning time:   0%|          | 0/96 [00:00<?, ?it/s]"
      ]
     },
     "metadata": {},
     "output_type": "display_data"
    },
    {
     "data": {
      "application/vnd.jupyter.widget-view+json": {
       "model_id": "622127636a634da3aca55f76a36d5aa1",
       "version_major": 2,
       "version_minor": 0
      },
      "text/plain": [
       "Generating movie:   0%|          | 0/96 [00:00<?, ?it/s]"
      ]
     },
     "metadata": {},
     "output_type": "display_data"
    },
    {
     "name": "stdout",
     "output_type": "stream",
     "text": [
      "(512, 512, 96) 0.0 0.4999999999999996 0.8761499147518221\n",
      "sf_0=sf_0(default)*0.500=1.221E-03 -> output_filename='2025-10-30_caustique-transition/caustique_sf_0_modul_0.500_3aa89992.mp4'\n",
      "(512, 512, 96) 0.0 0.5000000000000003 0.8939436579536044\n"
     ]
    },
    {
     "data": {
      "application/vnd.jupyter.widget-view+json": {
       "model_id": "c459e453de194edc86699afdb7687360",
       "version_major": 2,
       "version_minor": 0
      },
      "text/plain": [
       "Scanning time:   0%|          | 0/96 [00:00<?, ?it/s]"
      ]
     },
     "metadata": {},
     "output_type": "display_data"
    },
    {
     "data": {
      "application/vnd.jupyter.widget-view+json": {
       "model_id": "4f4e3defc06a46739176e67e8a2422b1",
       "version_major": 2,
       "version_minor": 0
      },
      "text/plain": [
       "Generating movie:   0%|          | 0/96 [00:00<?, ?it/s]"
      ]
     },
     "metadata": {},
     "output_type": "display_data"
    },
    {
     "name": "stdout",
     "output_type": "stream",
     "text": [
      "(512, 512, 96) 0.0 0.5000000000000003 0.8939436579536044\n",
      "sf_0=sf_0(default)*0.707=1.726E-03 -> output_filename='2025-10-30_caustique-transition/caustique_sf_0_modul_0.707_628436af.mp4'\n",
      "(512, 512, 96) 0.0 0.5000000000000007 0.922689417050234\n"
     ]
    },
    {
     "data": {
      "application/vnd.jupyter.widget-view+json": {
       "model_id": "8fd6efd4d0374ac6bd4d85129d14ec66",
       "version_major": 2,
       "version_minor": 0
      },
      "text/plain": [
       "Scanning time:   0%|          | 0/96 [00:00<?, ?it/s]"
      ]
     },
     "metadata": {},
     "output_type": "display_data"
    },
    {
     "data": {
      "application/vnd.jupyter.widget-view+json": {
       "model_id": "00966510a63e4133a071f6f3c2d1e9a9",
       "version_major": 2,
       "version_minor": 0
      },
      "text/plain": [
       "Generating movie:   0%|          | 0/96 [00:00<?, ?it/s]"
      ]
     },
     "metadata": {},
     "output_type": "display_data"
    },
    {
     "name": "stdout",
     "output_type": "stream",
     "text": [
      "(512, 512, 96) 0.0 0.5000000000000007 0.922689417050234\n",
      "sf_0=sf_0(default)*1.000=2.441E-03 -> output_filename='2025-10-30_caustique-transition/caustique_sf_0_modul_1.000_6b999c72.mp4'\n",
      "(512, 512, 96) 0.0 0.5000000000000012 0.9812498952653014\n"
     ]
    },
    {
     "data": {
      "application/vnd.jupyter.widget-view+json": {
       "model_id": "192af1216a8c459f954ad1b465a375a7",
       "version_major": 2,
       "version_minor": 0
      },
      "text/plain": [
       "Scanning time:   0%|          | 0/96 [00:00<?, ?it/s]"
      ]
     },
     "metadata": {},
     "output_type": "display_data"
    },
    {
     "data": {
      "application/vnd.jupyter.widget-view+json": {
       "model_id": "4367a989da474af6840b64a8ab33fb3d",
       "version_major": 2,
       "version_minor": 0
      },
      "text/plain": [
       "Generating movie:   0%|          | 0/96 [00:00<?, ?it/s]"
      ]
     },
     "metadata": {},
     "output_type": "display_data"
    },
    {
     "name": "stdout",
     "output_type": "stream",
     "text": [
      "(512, 512, 96) 0.0 0.5000000000000012 0.9812498952653014\n",
      "sf_0=sf_0(default)*1.414=3.453E-03 -> output_filename='2025-10-30_caustique-transition/caustique_sf_0_modul_1.414_f34edda6.mp4'\n",
      "(512, 512, 96) 0.06084838065773518 0.49999999999999906 1.0\n"
     ]
    },
    {
     "data": {
      "application/vnd.jupyter.widget-view+json": {
       "model_id": "95047b32405c433b9a9bf3fb722cdc9d",
       "version_major": 2,
       "version_minor": 0
      },
      "text/plain": [
       "Scanning time:   0%|          | 0/96 [00:00<?, ?it/s]"
      ]
     },
     "metadata": {},
     "output_type": "display_data"
    },
    {
     "data": {
      "application/vnd.jupyter.widget-view+json": {
       "model_id": "21c5efb0aced41d4b969b2556dea6386",
       "version_major": 2,
       "version_minor": 0
      },
      "text/plain": [
       "Generating movie:   0%|          | 0/96 [00:00<?, ?it/s]"
      ]
     },
     "metadata": {},
     "output_type": "display_data"
    },
    {
     "name": "stdout",
     "output_type": "stream",
     "text": [
      "(512, 512, 96) 0.06084838065773518 0.49999999999999906 1.0\n",
      "sf_0=sf_0(default)*2.000=4.883E-03 -> output_filename='2025-10-30_caustique-transition/caustique_sf_0_modul_2.000_7021e93f.mp4'\n",
      "======B_V======\n",
      "(512, 512, 96) 0.0 0.5000000000000004 0.9643194129021211\n"
     ]
    },
    {
     "data": {
      "application/vnd.jupyter.widget-view+json": {
       "model_id": "6fdbdcce8ad14583a2651c170c5ff1a0",
       "version_major": 2,
       "version_minor": 0
      },
      "text/plain": [
       "Scanning time:   0%|          | 0/96 [00:00<?, ?it/s]"
      ]
     },
     "metadata": {},
     "output_type": "display_data"
    },
    {
     "data": {
      "application/vnd.jupyter.widget-view+json": {
       "model_id": "98f7b018fd35450392f92620146b6706",
       "version_major": 2,
       "version_minor": 0
      },
      "text/plain": [
       "Generating movie:   0%|          | 0/96 [00:00<?, ?it/s]"
      ]
     },
     "metadata": {},
     "output_type": "display_data"
    },
    {
     "name": "stdout",
     "output_type": "stream",
     "text": [
      "(512, 512, 96) 0.0 0.5000000000000004 0.9643194129021211\n",
      "B_V=B_V(default)*0.500=1.910E-01 -> output_filename='2025-10-30_caustique-transition/caustique_B_V_modul_0.500_e6aa5743.mp4'\n",
      "(512, 512, 96) 0.0 0.49999999999999956 0.9391128325913058\n"
     ]
    },
    {
     "data": {
      "application/vnd.jupyter.widget-view+json": {
       "model_id": "1d257a5e34774c098c317581f0a0481b",
       "version_major": 2,
       "version_minor": 0
      },
      "text/plain": [
       "Scanning time:   0%|          | 0/96 [00:00<?, ?it/s]"
      ]
     },
     "metadata": {},
     "output_type": "display_data"
    },
    {
     "data": {
      "application/vnd.jupyter.widget-view+json": {
       "model_id": "05d16866fadb4a1992dec9dab2ba34c1",
       "version_major": 2,
       "version_minor": 0
      },
      "text/plain": [
       "Generating movie:   0%|          | 0/96 [00:00<?, ?it/s]"
      ]
     },
     "metadata": {},
     "output_type": "display_data"
    },
    {
     "name": "stdout",
     "output_type": "stream",
     "text": [
      "(512, 512, 96) 0.0 0.49999999999999956 0.9391128325913058\n",
      "B_V=B_V(default)*0.707=2.701E-01 -> output_filename='2025-10-30_caustique-transition/caustique_B_V_modul_0.707_a758c1d5.mp4'\n",
      "(512, 512, 96) 0.0 0.5000000000000007 0.922689417050234\n"
     ]
    },
    {
     "data": {
      "application/vnd.jupyter.widget-view+json": {
       "model_id": "38cebfd581a2415f9fd9f554f9105af0",
       "version_major": 2,
       "version_minor": 0
      },
      "text/plain": [
       "Scanning time:   0%|          | 0/96 [00:00<?, ?it/s]"
      ]
     },
     "metadata": {},
     "output_type": "display_data"
    },
    {
     "data": {
      "application/vnd.jupyter.widget-view+json": {
       "model_id": "7c74d23ec5054c119f521ad922cf0a4b",
       "version_major": 2,
       "version_minor": 0
      },
      "text/plain": [
       "Generating movie:   0%|          | 0/96 [00:00<?, ?it/s]"
      ]
     },
     "metadata": {},
     "output_type": "display_data"
    },
    {
     "name": "stdout",
     "output_type": "stream",
     "text": [
      "(512, 512, 96) 0.0 0.5000000000000007 0.922689417050234\n",
      "B_V=B_V(default)*1.000=3.820E-01 -> output_filename='2025-10-30_caustique-transition/caustique_B_V_modul_1.000_a9799d62.mp4'\n",
      "(512, 512, 96) 0.0 0.4999999999999994 0.9154523112857749\n"
     ]
    },
    {
     "data": {
      "application/vnd.jupyter.widget-view+json": {
       "model_id": "206a0e8a6063477a9377537c78f21693",
       "version_major": 2,
       "version_minor": 0
      },
      "text/plain": [
       "Scanning time:   0%|          | 0/96 [00:00<?, ?it/s]"
      ]
     },
     "metadata": {},
     "output_type": "display_data"
    },
    {
     "data": {
      "application/vnd.jupyter.widget-view+json": {
       "model_id": "b90f018555ef4bfba4d4269006dfb07a",
       "version_major": 2,
       "version_minor": 0
      },
      "text/plain": [
       "Generating movie:   0%|          | 0/96 [00:00<?, ?it/s]"
      ]
     },
     "metadata": {},
     "output_type": "display_data"
    },
    {
     "name": "stdout",
     "output_type": "stream",
     "text": [
      "(512, 512, 96) 0.0 0.4999999999999994 0.9154523112857749\n",
      "B_V=B_V(default)*1.414=5.402E-01 -> output_filename='2025-10-30_caustique-transition/caustique_B_V_modul_1.414_0f0c668f.mp4'\n",
      "(512, 512, 96) 0.0 0.4999999999999991 0.9205298831660816\n"
     ]
    },
    {
     "data": {
      "application/vnd.jupyter.widget-view+json": {
       "model_id": "2488864e13d94833b5ecd3389ce39060",
       "version_major": 2,
       "version_minor": 0
      },
      "text/plain": [
       "Scanning time:   0%|          | 0/96 [00:00<?, ?it/s]"
      ]
     },
     "metadata": {},
     "output_type": "display_data"
    },
    {
     "data": {
      "application/vnd.jupyter.widget-view+json": {
       "model_id": "e6e4d5cfb3974ce48f12e771acdc66df",
       "version_major": 2,
       "version_minor": 0
      },
      "text/plain": [
       "Generating movie:   0%|          | 0/96 [00:00<?, ?it/s]"
      ]
     },
     "metadata": {},
     "output_type": "display_data"
    },
    {
     "name": "stdout",
     "output_type": "stream",
     "text": [
      "(512, 512, 96) 0.0 0.4999999999999991 0.9205298831660816\n",
      "B_V=B_V(default)*2.000=7.640E-01 -> output_filename='2025-10-30_caustique-transition/caustique_B_V_modul_2.000_a7ef5134.mp4'\n",
      "======B_sf======\n",
      "(512, 512, 96) 0.0 0.4999999999999982 0.8924693938265558\n"
     ]
    },
    {
     "data": {
      "application/vnd.jupyter.widget-view+json": {
       "model_id": "9ed130b17f6a441c89711a6201d0f9b8",
       "version_major": 2,
       "version_minor": 0
      },
      "text/plain": [
       "Scanning time:   0%|          | 0/96 [00:00<?, ?it/s]"
      ]
     },
     "metadata": {},
     "output_type": "display_data"
    },
    {
     "data": {
      "application/vnd.jupyter.widget-view+json": {
       "model_id": "3ef551d21af1440aa0bae9e1254bb615",
       "version_major": 2,
       "version_minor": 0
      },
      "text/plain": [
       "Generating movie:   0%|          | 0/96 [00:00<?, ?it/s]"
      ]
     },
     "metadata": {},
     "output_type": "display_data"
    },
    {
     "name": "stdout",
     "output_type": "stream",
     "text": [
      "(512, 512, 96) 0.0 0.4999999999999982 0.8924693938265558\n",
      "B_sf=B_sf(default)*0.500=5.000E-01 -> output_filename='2025-10-30_caustique-transition/caustique_B_sf_modul_0.500_30d7d03c.mp4'\n",
      "(512, 512, 96) 0.0 0.4999999999999993 0.9103193779004142\n"
     ]
    },
    {
     "data": {
      "application/vnd.jupyter.widget-view+json": {
       "model_id": "db845fe93630422581cf560e3c4e5524",
       "version_major": 2,
       "version_minor": 0
      },
      "text/plain": [
       "Scanning time:   0%|          | 0/96 [00:00<?, ?it/s]"
      ]
     },
     "metadata": {},
     "output_type": "display_data"
    },
    {
     "data": {
      "application/vnd.jupyter.widget-view+json": {
       "model_id": "6d8602a3c3e6495c800980b9a36d489e",
       "version_major": 2,
       "version_minor": 0
      },
      "text/plain": [
       "Generating movie:   0%|          | 0/96 [00:00<?, ?it/s]"
      ]
     },
     "metadata": {},
     "output_type": "display_data"
    },
    {
     "name": "stdout",
     "output_type": "stream",
     "text": [
      "(512, 512, 96) 0.0 0.4999999999999993 0.9103193779004142\n",
      "B_sf=B_sf(default)*0.707=7.071E-01 -> output_filename='2025-10-30_caustique-transition/caustique_B_sf_modul_0.707_77dd7f9f.mp4'\n",
      "(512, 512, 96) 0.0 0.5000000000000007 0.922689417050234\n"
     ]
    },
    {
     "data": {
      "application/vnd.jupyter.widget-view+json": {
       "model_id": "c3ca2e66c2d54e25abfce2e5e4133cac",
       "version_major": 2,
       "version_minor": 0
      },
      "text/plain": [
       "Scanning time:   0%|          | 0/96 [00:00<?, ?it/s]"
      ]
     },
     "metadata": {},
     "output_type": "display_data"
    },
    {
     "data": {
      "application/vnd.jupyter.widget-view+json": {
       "model_id": "540945e1405e47298ba6fc4afee189f5",
       "version_major": 2,
       "version_minor": 0
      },
      "text/plain": [
       "Generating movie:   0%|          | 0/96 [00:00<?, ?it/s]"
      ]
     },
     "metadata": {},
     "output_type": "display_data"
    },
    {
     "name": "stdout",
     "output_type": "stream",
     "text": [
      "(512, 512, 96) 0.0 0.5000000000000007 0.922689417050234\n",
      "B_sf=B_sf(default)*1.000=1.000E+00 -> output_filename='2025-10-30_caustique-transition/caustique_B_sf_modul_1.000_944cf1c9.mp4'\n",
      "(512, 512, 96) 0.0 0.4999999999999989 0.9417972414541187\n"
     ]
    },
    {
     "data": {
      "application/vnd.jupyter.widget-view+json": {
       "model_id": "a88895a14fb0416fbd250bece15d72f7",
       "version_major": 2,
       "version_minor": 0
      },
      "text/plain": [
       "Scanning time:   0%|          | 0/96 [00:00<?, ?it/s]"
      ]
     },
     "metadata": {},
     "output_type": "display_data"
    },
    {
     "data": {
      "application/vnd.jupyter.widget-view+json": {
       "model_id": "584a1264c08b49e8a53b28c4647de6d1",
       "version_major": 2,
       "version_minor": 0
      },
      "text/plain": [
       "Generating movie:   0%|          | 0/96 [00:00<?, ?it/s]"
      ]
     },
     "metadata": {},
     "output_type": "display_data"
    },
    {
     "name": "stdout",
     "output_type": "stream",
     "text": [
      "(512, 512, 96) 0.0 0.4999999999999989 0.9417972414541187\n",
      "B_sf=B_sf(default)*1.414=1.414E+00 -> output_filename='2025-10-30_caustique-transition/caustique_B_sf_modul_1.414_d5b14a03.mp4'\n",
      "(512, 512, 96) 0.0 0.5000000000000014 0.9745481232709395\n"
     ]
    },
    {
     "data": {
      "application/vnd.jupyter.widget-view+json": {
       "model_id": "0a7c05a9df0d4c70bf6da4ac2b5acc97",
       "version_major": 2,
       "version_minor": 0
      },
      "text/plain": [
       "Scanning time:   0%|          | 0/96 [00:00<?, ?it/s]"
      ]
     },
     "metadata": {},
     "output_type": "display_data"
    },
    {
     "data": {
      "application/vnd.jupyter.widget-view+json": {
       "model_id": "991b5bc1d2d34961aad04153ce9d4a85",
       "version_major": 2,
       "version_minor": 0
      },
      "text/plain": [
       "Generating movie:   0%|          | 0/96 [00:00<?, ?it/s]"
      ]
     },
     "metadata": {},
     "output_type": "display_data"
    },
    {
     "name": "stdout",
     "output_type": "stream",
     "text": [
      "(512, 512, 96) 0.0 0.5000000000000014 0.9745481232709395\n",
      "B_sf=B_sf(default)*2.000=2.000E+00 -> output_filename='2025-10-30_caustique-transition/caustique_B_sf_modul_2.000_57f3a747.mp4'\n"
     ]
    }
   ],
   "source": [
    "opt = init()\n",
    "for variable in ['theta',  'B_theta', 'sf_0', 'B_V', 'B_sf', ]: #  'V_Y', 'V_X', , 'zmin'\n",
    "    print(f'======{variable}======')\n",
    "    for modul in np.logspace(-1, 1, N_scan, base=base):\n",
    "        # del z\n",
    "        # print(opt.tag, variable, modul, f'{opt.tag}_{variable}_modul_{modul:.3f}')\n",
    "        c = Caustique(init(tag=f'{opt.tag}_{variable}_modul_{modul:.3f}'))\n",
    "        c.d[variable] *= modul\n",
    "        \n",
    "        output_filename = c.get_filename()\n",
    "        if not(os.path.isfile(output_filename)):\n",
    "            z = c.wave(do_cache=False)\n",
    "            print(z.shape, z.min(), z.mean(), z.max())\n",
    "            output_filename = c.plot(z, image_aperture)\n",
    "            print(z.shape, z.min(), z.mean(), z.max())\n",
    "            # assert(output_filename == output_filename_)\n",
    "        print(f'{variable}={variable}(default)*{modul:.3f}={c.d[variable]:.3E} -> {output_filename=}')\n",
    "        if opt.do_display: c.show(output_filename)"
   ]
  },
  {
   "cell_type": "markdown",
   "metadata": {},
   "source": [
    "## une longue vague\n"
   ]
  },
  {
   "cell_type": "code",
   "execution_count": 33,
   "metadata": {},
   "outputs": [],
   "source": [
    "# %ls -lh {study_name}/longue*\n",
    "# %ls -lh /tmp/{study_name}/longue*"
   ]
  },
  {
   "cell_type": "code",
   "execution_count": 34,
   "metadata": {},
   "outputs": [],
   "source": [
    "# %rm -fr {study_name}/longue*\n",
    "# %rm -fr /tmp/{study_name}/longue*"
   ]
  },
  {
   "cell_type": "code",
   "execution_count": 35,
   "metadata": {},
   "outputs": [
    {
     "name": "stdout",
     "output_type": "stream",
     "text": [
      "====== long wave ======\n"
     ]
    },
    {
     "data": {
      "text/plain": [
       "init(figpath='2025-10-30_caustique-transition', phi=1.61803, tag='longue', ext='mp4', nx=2048, ny=2048, nframe=96, bin_dens=2, bin_wave=4, bin_spectrum=4, seed=2025, H=120.0, variation=0.2, sigma=1.0, sf_0=0.00244140625, B_sf=1.0, V_Y=0.1, V_X=-0.3, B_V=0.382, theta=1.5707963267948966, B_theta=0.7853981633974483, min_lum=0.01, radius_in=0.15, radius_out=0.6, n_bits=8, n_jobs=12, gamma=2.4, fps=24, do_cache=True, verbose=False, do_display=False)"
      ]
     },
     "execution_count": 35,
     "metadata": {},
     "output_type": "execute_result"
    }
   ],
   "source": [
    "print('====== long wave ======')\n",
    "c = Caustique(init(tag='longue'))\n",
    "c.opt\n"
   ]
  },
  {
   "cell_type": "code",
   "execution_count": 36,
   "metadata": {},
   "outputs": [],
   "source": [
    "# N_wave = 4 * PRECISION\n",
    "# N_wave = 5\n",
    "N_wave = 25\n",
    "N_wave = 50\n",
    "N_wave = 75\n",
    "amplitude = 1 - np.linspace(-1, 1, N_wave+2)[1:-1]**2\n",
    "modul = 0.5\n",
    "kappa = 2.5 # dispersion of the modulation\n",
    "B_thetas = c.opt.B_theta / ( 1 + modul * np.exp(kappa * (np.cos((np.linspace(0, 1, N_wave)-.25)*2*np.pi) -1) ))\n",
    "B_sfs = c.opt.B_sf * ( 1 + modul * np.exp(kappa * (np.cos((np.linspace(0, 1, N_wave)-.50)*2*np.pi) -1) ))\n",
    "B_Vs = c.opt.B_V * ( 1 + modul * np.exp(kappa * (np.cos((np.linspace(0, 1, N_wave)-.75)*2*np.pi) -1) ))\n",
    "sf_0s = c.opt.sf_0 / ( 1 + modul * np.exp(kappa * (np.cos((np.linspace(0, 1, N_wave)-.75)*2*np.pi) ) ))\n"
   ]
  },
  {
   "cell_type": "code",
   "execution_count": 37,
   "metadata": {},
   "outputs": [
    {
     "data": {
      "image/png": "[encoded data removed]",
      "text/plain": [
       "<Figure size 800x800 with 4 Axes>"
      ]
     },
     "metadata": {},
     "output_type": "display_data"
    }
   ],
   "source": [
    "fig, ax = plt.subplots(4, 1, figsize=(8, 8))\n",
    "ax[0].plot(amplitude)\n",
    "ax[0].set_title('Amplitude')\n",
    "ax[0].set_xticks([])\n",
    "ax[1].plot(B_thetas)\n",
    "ax[1].set_title('B_theta')\n",
    "ax[1].set_xticks([])\n",
    "ax[2].plot(B_sfs)\n",
    "ax[2].set_title('B_sfs')\n",
    "ax[2].set_xticks([])\n",
    "ax[3].plot(B_Vs)\n",
    "ax[3].set_title('B_V')\n",
    "# ax[3].plot(sf_0s)\n",
    "# ax[3].set_title('sf_0')\n",
    "plt.show()"
   ]
  },
  {
   "cell_type": "code",
   "execution_count": 38,
   "metadata": {},
   "outputs": [
    {
     "name": "stdout",
     "output_type": "stream",
     "text": [
      "/tmp/2025-10-30_caustique-transition/longue_vague-smooth_0.npy\n",
      "Computing waves...\n"
     ]
    },
    {
     "data": {
      "application/vnd.jupyter.widget-view+json": {
       "model_id": "82bc76734ef04a13bd6ae5544c6e22ac",
       "version_major": 2,
       "version_minor": 0
      },
      "text/plain": [
       "  0%|          | 0/75 [00:00<?, ?it/s]"
      ]
     },
     "metadata": {},
     "output_type": "display_data"
    },
    {
     "data": {
      "application/vnd.jupyter.widget-view+json": {
       "model_id": "f8472c9ee6ac4ea3a17376ceb79e3d8d",
       "version_major": 2,
       "version_minor": 0
      },
      "text/plain": [
       "  0%|          | 0/75 [00:00<?, ?it/s]"
      ]
     },
     "metadata": {},
     "output_type": "display_data"
    }
   ],
   "source": [
    "\n",
    "c_chunk = Caustique(init())\n",
    "print(f'{c.cachepath}/{c.opt.tag}_vague-smooth_0.npy')\n",
    "if not(os.path.isfile(f'{c.cachepath}/{c.opt.tag}_vague-smooth_0.npy')):\n",
    "    print('Computing waves...')\n",
    "    # z_updates = []\n",
    "    for i_wave in trange(N_wave):\n",
    "        fname = f'{c.cachepath}/{c.opt.tag}_vague_{i_wave}.npy'\n",
    "        if not(os.path.isfile(fname)):\n",
    "            #     z_update = np.load(fname)\n",
    "            # else:        \n",
    "            # c_chunk = Caustique(init())\n",
    "            c_chunk.opt.B_sf = B_sfs[i_wave]\n",
    "            c_chunk.opt.B_theta = B_thetas[i_wave]\n",
    "            # c_chunk.opt.sf_0 = sf_0s[i_wave]\n",
    "            c_chunk.opt.B_V = B_Vs[i_wave]\n",
    "            c_chunk.opt.seed = opt.seed + i_wave\n",
    "\n",
    "            z_update = amplitude[i_wave] * c_chunk.wave(do_cache=False)\n",
    "            np.save(fname, z_update)\n",
    "        # z_updates.append(z_update)\n",
    "\n",
    "smooth = (c_chunk.ft - c_chunk.ft.min())/(c_chunk.ft.max() - c_chunk.ft.min()) # smoothly progress from 0. to 1.\n",
    "del c_chunk\n",
    "# z = np.zeros((opt.nx, opt.ny, 0))\n",
    "for i_wave in trange(N_wave):\n",
    "    fname = f'{c.cachepath}/{c.opt.tag}_vague-smooth_{i_wave}.npy'\n",
    "\n",
    "    if not(os.path.isfile(fname)):\n",
    "        z_previous_update = np.load(f'{c.cachepath}/{c.opt.tag}_vague_{(i_wave-1) % N_wave}.npy')\n",
    "        z_update = np.load(f'{c.cachepath}/{c.opt.tag}_vague_{i_wave}.npy')\n",
    "        z_smooth = (1.-smooth)*z_previous_update + smooth*z_update\n",
    "        # z = np.concatenate((z, z_smooth), axis=-1)\n",
    "        np.save(fname, z_smooth)\n",
    "\n",
    "        del z_previous_update\n",
    "        del z_smooth\n",
    "        del z_update\n",
    "del smooth"
   ]
  },
  {
   "cell_type": "code",
   "execution_count": 39,
   "metadata": {},
   "outputs": [
    {
     "name": "stdout",
     "output_type": "stream",
     "text": [
      "init(figpath='2025-10-30_caustique-transition', phi=1.61803, tag='longue', ext='mp4', nx=2048, ny=2048, nframe=96, bin_dens=2, bin_wave=4, bin_spectrum=4, seed=2025, H=120.0, variation=0.2, sigma=1.0, sf_0=0.00244140625, B_sf=1.0, V_Y=0.1, V_X=-0.3, B_V=0.382, theta=1.5707963267948966, B_theta=0.7853981633974483, min_lum=0.01, radius_in=0.15, radius_out=0.6, n_bits=8, n_jobs=12, gamma=2.4, fps=24, do_cache=True, verbose=False, do_display=False)\n"
     ]
    }
   ],
   "source": [
    "print(c.opt)"
   ]
  },
  {
   "cell_type": "code",
   "execution_count": 40,
   "metadata": {},
   "outputs": [],
   "source": [
    "# z.shape, z.min(), z.mean(), z.max()"
   ]
  },
  {
   "cell_type": "code",
   "execution_count": 41,
   "metadata": {},
   "outputs": [
    {
     "name": "stdout",
     "output_type": "stream",
     "text": [
      "Variable          Type                   Data/Info\n",
      "--------------------------------------------------\n",
      "B_Vs              ndarray                75: 75 elems, type `float64`, 600 bytes\n",
      "B_sfs             ndarray                75: 75 elems, type `float64`, 600 bytes\n",
      "B_thetas          ndarray                75: 75 elems, type `float64`, 600 bytes\n",
      "CM_BY_INCH        float                  2.54\n",
      "Caustique         type                   <class '__main__.Caustique'>\n",
      "H_                float64                240.0\n",
      "Lambda2color      type                   <class 'lambda2color.Lambda2color'>\n",
      "N_scan            int                    5\n",
      "N_wave            int                    75\n",
      "PRECISION         int                    11\n",
      "Parallel          type                   <class 'joblib.parallel.Parallel'>\n",
      "SubplotParams     type                   <class 'matplotlib.gridspec.SubplotParams'>\n",
      "amplitude         ndarray                75: 75 elems, type `float64`, 600 bytes\n",
      "arrays            list                   n=5\n",
      "ax                ndarray                4: 4 elems, type `object`, 32 bytes\n",
      "base              int                    2\n",
      "c                 Caustique              <__main__.Caustique object at 0x10cf5cc90>\n",
      "dataclass         function               <function dataclass at 0x106a27a60>\n",
      "delayed           function               <function delayed at 0x10bba6340>\n",
      "dpi               float                  26.0096\n",
      "fig               Figure                 Figure(800x800)\n",
      "fname             str                    /tmp/2025-10-30_caustique<...>ongue_vague-smooth_74.npy\n",
      "generate_image    function               <function generate_image at 0x10bcb8ea0>\n",
      "get_ipython       function               <function get_ipython at 0x1073b1800>\n",
      "hashlib           module                 <module 'hashlib' from '/<...>b/python3.13/hashlib.py'>\n",
      "i_wave            int                    74\n",
      "image_aperture    ndarray                2048x2048: 4194304 elems, type `float64`, 33554432 bytes (32.0 Mb)\n",
      "imageio           module                 <module 'imageio' from '/<...>ges/imageio/__init__.py'>\n",
      "init              type                   <class '__main__.init'>\n",
      "ip                ZMQInteractiveShell    <ipykernel.zmqshell.ZMQIn<...>ll object at 0x108833380>\n",
      "kappa             float                  2.5\n",
      "make_mp4          function               <function make_mp4 at 0x10bba6ac0>\n",
      "matplotlib        module                 <module 'matplotlib' from<...>/matplotlib/__init__.py'>\n",
      "mc                module                 <module 'MotionClouds' fr<...>stiques/MotionClouds.py'>\n",
      "modul             float                  0.5\n",
      "ndimage           module                 <module 'scipy.ndimage' f<...>ipy/ndimage/__init__.py'>\n",
      "np                module                 <module 'numpy' from '/Us<...>kages/numpy/__init__.py'>\n",
      "opt               init                   init(figpath='2025-10-30_<...>=False, do_display=False)\n",
      "os                module                 <module 'os' (frozen)>\n",
      "output_filename   str                    2025-10-30_caustique-tran<...>_modul_2.000_57f3a747.mp4\n",
      "planck            function               <function planck at 0x10bc4d760>\n",
      "plt               module                 <module 'matplotlib.pyplo<...>es/matplotlib/pyplot.py'>\n",
      "pprint            function               <function pprint at 0x106a25e40>\n",
      "radius_in         float64                0.48\n",
      "radius_out        float64                1.0\n",
      "scattering        function               <function scattering at 0x10bc4d6c0>\n",
      "screen_size_cm    int                    100\n",
      "screen_size_in    float                  39.37007874015748\n",
      "seed_increment    int                    4\n",
      "sf_0s             ndarray                75: 75 elems, type `float64`, 600 bytes\n",
      "study_name        str                    2025-10-30_caustique-transition\n",
      "subplotpars       SubplotParams          <matplotlib.gridspec.Subp<...>ms object at 0x10bb95be0>\n",
      "summed_array      ndarray                10x10x3: 300 elems, type `float64`, 2400 bytes\n",
      "tqdm              type                   <class 'tqdm.auto.tqdm'>\n",
      "trange            function               <function trange at 0x109058cc0>\n",
      "variable          str                    B_sf\n",
      "xyz_from_xy       function               <function xyz_from_xy at 0x10bc4d800>\n",
      "z                 ndarray                512x512x96: 25165824 elems, type `float64`, 201326592 bytes (192.0 Mb)\n"
     ]
    }
   ],
   "source": [
    "%whos"
   ]
  },
  {
   "cell_type": "code",
   "execution_count": 42,
   "metadata": {},
   "outputs": [
    {
     "data": {
      "application/vnd.jupyter.widget-view+json": {
       "model_id": "39030840501249028217fd4cae1b6558",
       "version_major": 2,
       "version_minor": 0
      },
      "text/plain": [
       "Generating movie:   0%|          | 0/75 [00:00<?, ?it/s]"
      ]
     },
     "metadata": {},
     "output_type": "display_data"
    },
    {
     "data": {
      "text/html": [
       "<video  loop=\"1\" autoplay=\"1\" controls  src=\"2025-10-30_caustique-transition/longue_vague_9d6a3dfc.mp4\" type=\"video/mp4\" width=1024 >"
      ],
      "text/plain": [
       "<IPython.core.display.HTML object>"
      ]
     },
     "metadata": {},
     "output_type": "display_data"
    }
   ],
   "source": [
    "output_filename = c.get_filename(note='_vague')\n",
    "if not(os.path.isfile(output_filename)):\n",
    "\n",
    "    with imageio.v2.get_writer(\n",
    "        output_filename,\n",
    "        format='FFmpeg', \n",
    "        mode='I',\n",
    "        # format='av', \n",
    "        fps=opt.fps,\n",
    "        # pixelformat=pix_fmt\n",
    "        # codec='ffv1',  # Use FFV1 for lossless compression\n",
    "        ) as writer:\n",
    "\n",
    "        for i_wave in trange(N_wave, desc='Generating movie'):\n",
    "            z_smooth = np.load(f'{c.cachepath}/{c.opt.tag}_vague-smooth_{i_wave}.npy')\n",
    "    \n",
    "            for i_frame in range(z_smooth.shape[-1]):\n",
    "                # Append the frame to the video writer\n",
    "                writer.append_data((z_smooth[..., i_frame]*(2**c.opt.n_bits-1)).astype(c.np_dtype))\n",
    "\n",
    "            \n",
    "                \n",
    "    # z_q = (z*(2**c.opt.n_bits-1)).astype(c.np_dtype)\n",
    "    # print(z_q.shape, z_q.min(), z_q.mean(), z_q.max())\n",
    "    # output_filename = make_mp4(output_filename, z_q, fps=opt.fps)\n",
    "    del z_smooth\n",
    "# del z\n",
    "c.show(output_filename)"
   ]
  },
  {
   "cell_type": "code",
   "execution_count": 43,
   "metadata": {},
   "outputs": [],
   "source": [
    "# for i_wave in trange(N_wave):\n",
    "#     fname = f'{c.cachepath}/{c.opt.tag}_vague_{i_wave}.npy'\n",
    "#     os.remove(fname)"
   ]
  },
  {
   "cell_type": "markdown",
   "metadata": {},
   "source": [
    "## la caustique de la longue vague\n"
   ]
  },
  {
   "cell_type": "code",
   "execution_count": 44,
   "metadata": {},
   "outputs": [
    {
     "data": {
      "application/vnd.jupyter.widget-view+json": {
       "model_id": "00772b96bd394cc29b05147660009743",
       "version_major": 2,
       "version_minor": 0
      },
      "text/plain": [
       "  0%|          | 0/75 [00:00<?, ?it/s]"
      ]
     },
     "metadata": {},
     "output_type": "display_data"
    },
    {
     "data": {
      "application/vnd.jupyter.widget-view+json": {
       "model_id": "ea45919647ae4caea73d458716f51db8",
       "version_major": 2,
       "version_minor": 0
      },
      "text/plain": [
       "Scanning time:   0%|          | 0/96 [00:00<?, ?it/s]"
      ]
     },
     "metadata": {},
     "output_type": "display_data"
    },
    {
     "data": {
      "application/vnd.jupyter.widget-view+json": {
       "model_id": "026d4e00f5c3417aaddb9c41fdf8abb2",
       "version_major": 2,
       "version_minor": 0
      },
      "text/plain": [
       "Scanning time:   0%|          | 0/96 [00:00<?, ?it/s]"
      ]
     },
     "metadata": {},
     "output_type": "display_data"
    },
    {
     "data": {
      "application/vnd.jupyter.widget-view+json": {
       "model_id": "123ae56fa5a148aa880d69623d127a72",
       "version_major": 2,
       "version_minor": 0
      },
      "text/plain": [
       "Scanning time:   0%|          | 0/96 [00:00<?, ?it/s]"
      ]
     },
     "metadata": {},
     "output_type": "display_data"
    },
    {
     "data": {
      "application/vnd.jupyter.widget-view+json": {
       "model_id": "5b4ec910ddd547c8a859ec18d7ca8dc8",
       "version_major": 2,
       "version_minor": 0
      },
      "text/plain": [
       "Scanning time:   0%|          | 0/96 [00:00<?, ?it/s]"
      ]
     },
     "metadata": {},
     "output_type": "display_data"
    },
    {
     "data": {
      "application/vnd.jupyter.widget-view+json": {
       "model_id": "b0f10f8d539b4204b42f19431dd4e9fd",
       "version_major": 2,
       "version_minor": 0
      },
      "text/plain": [
       "Scanning time:   0%|          | 0/96 [00:00<?, ?it/s]"
      ]
     },
     "metadata": {},
     "output_type": "display_data"
    },
    {
     "data": {
      "application/vnd.jupyter.widget-view+json": {
       "model_id": "e82d99226d25494fbdda80173c7793ca",
       "version_major": 2,
       "version_minor": 0
      },
      "text/plain": [
       "Scanning time:   0%|          | 0/96 [00:00<?, ?it/s]"
      ]
     },
     "metadata": {},
     "output_type": "display_data"
    },
    {
     "data": {
      "application/vnd.jupyter.widget-view+json": {
       "model_id": "1f955f0cdebe442984225146fdbbcda2",
       "version_major": 2,
       "version_minor": 0
      },
      "text/plain": [
       "Scanning time:   0%|          | 0/96 [00:00<?, ?it/s]"
      ]
     },
     "metadata": {},
     "output_type": "display_data"
    },
    {
     "data": {
      "application/vnd.jupyter.widget-view+json": {
       "model_id": "6c10afe553c743e9bec551bd2ba768f4",
       "version_major": 2,
       "version_minor": 0
      },
      "text/plain": [
       "Scanning time:   0%|          | 0/96 [00:00<?, ?it/s]"
      ]
     },
     "metadata": {},
     "output_type": "display_data"
    },
    {
     "data": {
      "application/vnd.jupyter.widget-view+json": {
       "model_id": "25658a0d37044f9bbad7fd8e71be2eda",
       "version_major": 2,
       "version_minor": 0
      },
      "text/plain": [
       "Scanning time:   0%|          | 0/96 [00:00<?, ?it/s]"
      ]
     },
     "metadata": {},
     "output_type": "display_data"
    },
    {
     "data": {
      "application/vnd.jupyter.widget-view+json": {
       "model_id": "ec1bd07d2fe34e6daf072c3a2881b3d3",
       "version_major": 2,
       "version_minor": 0
      },
      "text/plain": [
       "Scanning time:   0%|          | 0/96 [00:00<?, ?it/s]"
      ]
     },
     "metadata": {},
     "output_type": "display_data"
    },
    {
     "data": {
      "application/vnd.jupyter.widget-view+json": {
       "model_id": "bf7bed6a801c4ce8a5acf76f67891f96",
       "version_major": 2,
       "version_minor": 0
      },
      "text/plain": [
       "Scanning time:   0%|          | 0/96 [00:00<?, ?it/s]"
      ]
     },
     "metadata": {},
     "output_type": "display_data"
    },
    {
     "data": {
      "application/vnd.jupyter.widget-view+json": {
       "model_id": "2062f495fd7840c89984b0ac48be49fc",
       "version_major": 2,
       "version_minor": 0
      },
      "text/plain": [
       "Scanning time:   0%|          | 0/96 [00:00<?, ?it/s]"
      ]
     },
     "metadata": {},
     "output_type": "display_data"
    },
    {
     "data": {
      "application/vnd.jupyter.widget-view+json": {
       "model_id": "02b21f32f9a2427d87e93515a1bd482c",
       "version_major": 2,
       "version_minor": 0
      },
      "text/plain": [
       "Scanning time:   0%|          | 0/96 [00:00<?, ?it/s]"
      ]
     },
     "metadata": {},
     "output_type": "display_data"
    },
    {
     "data": {
      "application/vnd.jupyter.widget-view+json": {
       "model_id": "7b86e01bd21f481dbbc27f7eb1b05336",
       "version_major": 2,
       "version_minor": 0
      },
      "text/plain": [
       "Scanning time:   0%|          | 0/96 [00:00<?, ?it/s]"
      ]
     },
     "metadata": {},
     "output_type": "display_data"
    },
    {
     "data": {
      "application/vnd.jupyter.widget-view+json": {
       "model_id": "94ecd09d7f1e4651a3c9336a7bc718ab",
       "version_major": 2,
       "version_minor": 0
      },
      "text/plain": [
       "Scanning time:   0%|          | 0/96 [00:00<?, ?it/s]"
      ]
     },
     "metadata": {},
     "output_type": "display_data"
    },
    {
     "data": {
      "application/vnd.jupyter.widget-view+json": {
       "model_id": "4070253acdd245d8831d8131cdfe7264",
       "version_major": 2,
       "version_minor": 0
      },
      "text/plain": [
       "Scanning time:   0%|          | 0/96 [00:00<?, ?it/s]"
      ]
     },
     "metadata": {},
     "output_type": "display_data"
    },
    {
     "data": {
      "application/vnd.jupyter.widget-view+json": {
       "model_id": "7af3c079b6bb4c5bb06f127ae907532f",
       "version_major": 2,
       "version_minor": 0
      },
      "text/plain": [
       "Scanning time:   0%|          | 0/96 [00:00<?, ?it/s]"
      ]
     },
     "metadata": {},
     "output_type": "display_data"
    },
    {
     "data": {
      "application/vnd.jupyter.widget-view+json": {
       "model_id": "75f4d9ee3fe741459aad4b5011d9b676",
       "version_major": 2,
       "version_minor": 0
      },
      "text/plain": [
       "Scanning time:   0%|          | 0/96 [00:00<?, ?it/s]"
      ]
     },
     "metadata": {},
     "output_type": "display_data"
    },
    {
     "data": {
      "application/vnd.jupyter.widget-view+json": {
       "model_id": "596ea9ef0d2e40f4b5a292e9557595a3",
       "version_major": 2,
       "version_minor": 0
      },
      "text/plain": [
       "Scanning time:   0%|          | 0/96 [00:00<?, ?it/s]"
      ]
     },
     "metadata": {},
     "output_type": "display_data"
    },
    {
     "data": {
      "application/vnd.jupyter.widget-view+json": {
       "model_id": "ef867f60345e4db4b224a56f193c5120",
       "version_major": 2,
       "version_minor": 0
      },
      "text/plain": [
       "Scanning time:   0%|          | 0/96 [00:00<?, ?it/s]"
      ]
     },
     "metadata": {},
     "output_type": "display_data"
    },
    {
     "data": {
      "application/vnd.jupyter.widget-view+json": {
       "model_id": "c53a5efe56e44b4a9ebb235890b3235a",
       "version_major": 2,
       "version_minor": 0
      },
      "text/plain": [
       "Scanning time:   0%|          | 0/96 [00:00<?, ?it/s]"
      ]
     },
     "metadata": {},
     "output_type": "display_data"
    },
    {
     "data": {
      "application/vnd.jupyter.widget-view+json": {
       "model_id": "e0a48a88d3a9452caf06e4c8991c2556",
       "version_major": 2,
       "version_minor": 0
      },
      "text/plain": [
       "Scanning time:   0%|          | 0/96 [00:00<?, ?it/s]"
      ]
     },
     "metadata": {},
     "output_type": "display_data"
    },
    {
     "data": {
      "application/vnd.jupyter.widget-view+json": {
       "model_id": "93349a60bf5142aa8c4971c8413433a4",
       "version_major": 2,
       "version_minor": 0
      },
      "text/plain": [
       "Scanning time:   0%|          | 0/96 [00:00<?, ?it/s]"
      ]
     },
     "metadata": {},
     "output_type": "display_data"
    },
    {
     "data": {
      "application/vnd.jupyter.widget-view+json": {
       "model_id": "f8246d0d59344cb39796845ad46d75a3",
       "version_major": 2,
       "version_minor": 0
      },
      "text/plain": [
       "Scanning time:   0%|          | 0/96 [00:00<?, ?it/s]"
      ]
     },
     "metadata": {},
     "output_type": "display_data"
    },
    {
     "data": {
      "application/vnd.jupyter.widget-view+json": {
       "model_id": "413ce2e7b3994b02a7275549e517a298",
       "version_major": 2,
       "version_minor": 0
      },
      "text/plain": [
       "Scanning time:   0%|          | 0/96 [00:00<?, ?it/s]"
      ]
     },
     "metadata": {},
     "output_type": "display_data"
    },
    {
     "data": {
      "application/vnd.jupyter.widget-view+json": {
       "model_id": "a42ace15d01c4123a50e0e07da30c60d",
       "version_major": 2,
       "version_minor": 0
      },
      "text/plain": [
       "Scanning time:   0%|          | 0/96 [00:00<?, ?it/s]"
      ]
     },
     "metadata": {},
     "output_type": "display_data"
    },
    {
     "data": {
      "application/vnd.jupyter.widget-view+json": {
       "model_id": "4141efc6e1cd485f9ad31d0777bb60e0",
       "version_major": 2,
       "version_minor": 0
      },
      "text/plain": [
       "Scanning time:   0%|          | 0/96 [00:00<?, ?it/s]"
      ]
     },
     "metadata": {},
     "output_type": "display_data"
    },
    {
     "data": {
      "application/vnd.jupyter.widget-view+json": {
       "model_id": "48b9ada1c04240bb987d671ea660ea44",
       "version_major": 2,
       "version_minor": 0
      },
      "text/plain": [
       "Scanning time:   0%|          | 0/96 [00:00<?, ?it/s]"
      ]
     },
     "metadata": {},
     "output_type": "display_data"
    },
    {
     "data": {
      "application/vnd.jupyter.widget-view+json": {
       "model_id": "c355ad412ece42ebbe859955d0cc33fc",
       "version_major": 2,
       "version_minor": 0
      },
      "text/plain": [
       "Scanning time:   0%|          | 0/96 [00:00<?, ?it/s]"
      ]
     },
     "metadata": {},
     "output_type": "display_data"
    },
    {
     "data": {
      "application/vnd.jupyter.widget-view+json": {
       "model_id": "db5d942ae7354b478b1347918cd95ce3",
       "version_major": 2,
       "version_minor": 0
      },
      "text/plain": [
       "Scanning time:   0%|          | 0/96 [00:00<?, ?it/s]"
      ]
     },
     "metadata": {},
     "output_type": "display_data"
    },
    {
     "data": {
      "application/vnd.jupyter.widget-view+json": {
       "model_id": "a0c8cf9f7f7248d3907d9abfc4bc1401",
       "version_major": 2,
       "version_minor": 0
      },
      "text/plain": [
       "Scanning time:   0%|          | 0/96 [00:00<?, ?it/s]"
      ]
     },
     "metadata": {},
     "output_type": "display_data"
    },
    {
     "data": {
      "application/vnd.jupyter.widget-view+json": {
       "model_id": "c4513f894fea4c8e811697c5c4e607fe",
       "version_major": 2,
       "version_minor": 0
      },
      "text/plain": [
       "Scanning time:   0%|          | 0/96 [00:00<?, ?it/s]"
      ]
     },
     "metadata": {},
     "output_type": "display_data"
    },
    {
     "data": {
      "application/vnd.jupyter.widget-view+json": {
       "model_id": "42746f0cfc694f198789d832bd335141",
       "version_major": 2,
       "version_minor": 0
      },
      "text/plain": [
       "Scanning time:   0%|          | 0/96 [00:00<?, ?it/s]"
      ]
     },
     "metadata": {},
     "output_type": "display_data"
    },
    {
     "data": {
      "application/vnd.jupyter.widget-view+json": {
       "model_id": "2e8040a934844a43b9eb9f7a0fe87950",
       "version_major": 2,
       "version_minor": 0
      },
      "text/plain": [
       "Scanning time:   0%|          | 0/96 [00:00<?, ?it/s]"
      ]
     },
     "metadata": {},
     "output_type": "display_data"
    },
    {
     "data": {
      "application/vnd.jupyter.widget-view+json": {
       "model_id": "c04f2bdacaf04fb28a64c803e8c4f1bb",
       "version_major": 2,
       "version_minor": 0
      },
      "text/plain": [
       "Scanning time:   0%|          | 0/96 [00:00<?, ?it/s]"
      ]
     },
     "metadata": {},
     "output_type": "display_data"
    },
    {
     "data": {
      "application/vnd.jupyter.widget-view+json": {
       "model_id": "9eccfc465f1149528d5f55acf07b16d5",
       "version_major": 2,
       "version_minor": 0
      },
      "text/plain": [
       "Scanning time:   0%|          | 0/96 [00:00<?, ?it/s]"
      ]
     },
     "metadata": {},
     "output_type": "display_data"
    },
    {
     "data": {
      "application/vnd.jupyter.widget-view+json": {
       "model_id": "8c58828f08a24b848387f280acc5bc8a",
       "version_major": 2,
       "version_minor": 0
      },
      "text/plain": [
       "Scanning time:   0%|          | 0/96 [00:00<?, ?it/s]"
      ]
     },
     "metadata": {},
     "output_type": "display_data"
    },
    {
     "data": {
      "application/vnd.jupyter.widget-view+json": {
       "model_id": "ecd52c3cabd94cb7a549b5ac10da2173",
       "version_major": 2,
       "version_minor": 0
      },
      "text/plain": [
       "Scanning time:   0%|          | 0/96 [00:00<?, ?it/s]"
      ]
     },
     "metadata": {},
     "output_type": "display_data"
    },
    {
     "data": {
      "application/vnd.jupyter.widget-view+json": {
       "model_id": "fc7aad97307a42be961dc785e5c804f3",
       "version_major": 2,
       "version_minor": 0
      },
      "text/plain": [
       "Scanning time:   0%|          | 0/96 [00:00<?, ?it/s]"
      ]
     },
     "metadata": {},
     "output_type": "display_data"
    },
    {
     "data": {
      "application/vnd.jupyter.widget-view+json": {
       "model_id": "2d3ce647625748809b4eca2d3f81c674",
       "version_major": 2,
       "version_minor": 0
      },
      "text/plain": [
       "Scanning time:   0%|          | 0/96 [00:00<?, ?it/s]"
      ]
     },
     "metadata": {},
     "output_type": "display_data"
    },
    {
     "data": {
      "application/vnd.jupyter.widget-view+json": {
       "model_id": "f716e37fe78d4eb782b14d6ce99b7331",
       "version_major": 2,
       "version_minor": 0
      },
      "text/plain": [
       "Scanning time:   0%|          | 0/96 [00:00<?, ?it/s]"
      ]
     },
     "metadata": {},
     "output_type": "display_data"
    },
    {
     "data": {
      "application/vnd.jupyter.widget-view+json": {
       "model_id": "2008a8c8f9c3431587859651a5f22303",
       "version_major": 2,
       "version_minor": 0
      },
      "text/plain": [
       "Scanning time:   0%|          | 0/96 [00:00<?, ?it/s]"
      ]
     },
     "metadata": {},
     "output_type": "display_data"
    },
    {
     "data": {
      "application/vnd.jupyter.widget-view+json": {
       "model_id": "1344709aaf4244b19eab30e4bc149758",
       "version_major": 2,
       "version_minor": 0
      },
      "text/plain": [
       "Scanning time:   0%|          | 0/96 [00:00<?, ?it/s]"
      ]
     },
     "metadata": {},
     "output_type": "display_data"
    },
    {
     "data": {
      "application/vnd.jupyter.widget-view+json": {
       "model_id": "b31586ed653c4865b33d7cedf03fe363",
       "version_major": 2,
       "version_minor": 0
      },
      "text/plain": [
       "Scanning time:   0%|          | 0/96 [00:00<?, ?it/s]"
      ]
     },
     "metadata": {},
     "output_type": "display_data"
    },
    {
     "data": {
      "application/vnd.jupyter.widget-view+json": {
       "model_id": "1bc7eb91d43c4b1badd7469d804a260a",
       "version_major": 2,
       "version_minor": 0
      },
      "text/plain": [
       "Scanning time:   0%|          | 0/96 [00:00<?, ?it/s]"
      ]
     },
     "metadata": {},
     "output_type": "display_data"
    },
    {
     "data": {
      "application/vnd.jupyter.widget-view+json": {
       "model_id": "222a323bf98d4c47816112ede7fdda92",
       "version_major": 2,
       "version_minor": 0
      },
      "text/plain": [
       "Scanning time:   0%|          | 0/96 [00:00<?, ?it/s]"
      ]
     },
     "metadata": {},
     "output_type": "display_data"
    },
    {
     "data": {
      "application/vnd.jupyter.widget-view+json": {
       "model_id": "22aa3fab801e482dadd8abcd6a94fd94",
       "version_major": 2,
       "version_minor": 0
      },
      "text/plain": [
       "Scanning time:   0%|          | 0/96 [00:00<?, ?it/s]"
      ]
     },
     "metadata": {},
     "output_type": "display_data"
    },
    {
     "data": {
      "application/vnd.jupyter.widget-view+json": {
       "model_id": "6a477879e1fd4c2db6a5342790f48bd1",
       "version_major": 2,
       "version_minor": 0
      },
      "text/plain": [
       "Scanning time:   0%|          | 0/96 [00:00<?, ?it/s]"
      ]
     },
     "metadata": {},
     "output_type": "display_data"
    },
    {
     "data": {
      "application/vnd.jupyter.widget-view+json": {
       "model_id": "0f10bb9a7e31478f9b100fb74e6b4ce1",
       "version_major": 2,
       "version_minor": 0
      },
      "text/plain": [
       "Scanning time:   0%|          | 0/96 [00:00<?, ?it/s]"
      ]
     },
     "metadata": {},
     "output_type": "display_data"
    },
    {
     "data": {
      "application/vnd.jupyter.widget-view+json": {
       "model_id": "8c7897feefa741749a54313ceb2a9656",
       "version_major": 2,
       "version_minor": 0
      },
      "text/plain": [
       "Scanning time:   0%|          | 0/96 [00:00<?, ?it/s]"
      ]
     },
     "metadata": {},
     "output_type": "display_data"
    },
    {
     "data": {
      "application/vnd.jupyter.widget-view+json": {
       "model_id": "d9bc77d1cbee499d8437df06ab1b8a04",
       "version_major": 2,
       "version_minor": 0
      },
      "text/plain": [
       "Scanning time:   0%|          | 0/96 [00:00<?, ?it/s]"
      ]
     },
     "metadata": {},
     "output_type": "display_data"
    },
    {
     "data": {
      "application/vnd.jupyter.widget-view+json": {
       "model_id": "201e2c1e1aa7437bb7d97ba5d78c7595",
       "version_major": 2,
       "version_minor": 0
      },
      "text/plain": [
       "Scanning time:   0%|          | 0/96 [00:00<?, ?it/s]"
      ]
     },
     "metadata": {},
     "output_type": "display_data"
    },
    {
     "data": {
      "application/vnd.jupyter.widget-view+json": {
       "model_id": "46bdbdab43d0457db32ab6d2c5b8a101",
       "version_major": 2,
       "version_minor": 0
      },
      "text/plain": [
       "Scanning time:   0%|          | 0/96 [00:00<?, ?it/s]"
      ]
     },
     "metadata": {},
     "output_type": "display_data"
    },
    {
     "data": {
      "application/vnd.jupyter.widget-view+json": {
       "model_id": "f2f4b429acc04d1387d1482a39ace99f",
       "version_major": 2,
       "version_minor": 0
      },
      "text/plain": [
       "Scanning time:   0%|          | 0/96 [00:00<?, ?it/s]"
      ]
     },
     "metadata": {},
     "output_type": "display_data"
    },
    {
     "data": {
      "application/vnd.jupyter.widget-view+json": {
       "model_id": "ab62e5a2fa164c5ebdefb845f7d1b3e9",
       "version_major": 2,
       "version_minor": 0
      },
      "text/plain": [
       "Scanning time:   0%|          | 0/96 [00:00<?, ?it/s]"
      ]
     },
     "metadata": {},
     "output_type": "display_data"
    },
    {
     "data": {
      "application/vnd.jupyter.widget-view+json": {
       "model_id": "67c7a8c4193c42d38e199881409cafba",
       "version_major": 2,
       "version_minor": 0
      },
      "text/plain": [
       "Scanning time:   0%|          | 0/96 [00:00<?, ?it/s]"
      ]
     },
     "metadata": {},
     "output_type": "display_data"
    },
    {
     "data": {
      "application/vnd.jupyter.widget-view+json": {
       "model_id": "b3ef16270bc543289fce99a2de9d10a2",
       "version_major": 2,
       "version_minor": 0
      },
      "text/plain": [
       "Scanning time:   0%|          | 0/96 [00:00<?, ?it/s]"
      ]
     },
     "metadata": {},
     "output_type": "display_data"
    },
    {
     "data": {
      "application/vnd.jupyter.widget-view+json": {
       "model_id": "408f436e3d0f4deea2ba357546ee8265",
       "version_major": 2,
       "version_minor": 0
      },
      "text/plain": [
       "Scanning time:   0%|          | 0/96 [00:00<?, ?it/s]"
      ]
     },
     "metadata": {},
     "output_type": "display_data"
    },
    {
     "data": {
      "application/vnd.jupyter.widget-view+json": {
       "model_id": "b08699d53f284553b8083addd93a6fdc",
       "version_major": 2,
       "version_minor": 0
      },
      "text/plain": [
       "Scanning time:   0%|          | 0/96 [00:00<?, ?it/s]"
      ]
     },
     "metadata": {},
     "output_type": "display_data"
    },
    {
     "data": {
      "application/vnd.jupyter.widget-view+json": {
       "model_id": "1aa4c9ca97114942af0c3583984853e7",
       "version_major": 2,
       "version_minor": 0
      },
      "text/plain": [
       "Scanning time:   0%|          | 0/96 [00:00<?, ?it/s]"
      ]
     },
     "metadata": {},
     "output_type": "display_data"
    },
    {
     "data": {
      "application/vnd.jupyter.widget-view+json": {
       "model_id": "9d2d8c1cdd1b498daca36b908789c168",
       "version_major": 2,
       "version_minor": 0
      },
      "text/plain": [
       "Scanning time:   0%|          | 0/96 [00:00<?, ?it/s]"
      ]
     },
     "metadata": {},
     "output_type": "display_data"
    },
    {
     "data": {
      "application/vnd.jupyter.widget-view+json": {
       "model_id": "50fe1c32591a4415a8a7a7878d3c94a9",
       "version_major": 2,
       "version_minor": 0
      },
      "text/plain": [
       "Scanning time:   0%|          | 0/96 [00:00<?, ?it/s]"
      ]
     },
     "metadata": {},
     "output_type": "display_data"
    },
    {
     "data": {
      "application/vnd.jupyter.widget-view+json": {
       "model_id": "276dce5d85104cb88bc067ac4c3c3421",
       "version_major": 2,
       "version_minor": 0
      },
      "text/plain": [
       "Scanning time:   0%|          | 0/96 [00:00<?, ?it/s]"
      ]
     },
     "metadata": {},
     "output_type": "display_data"
    },
    {
     "data": {
      "application/vnd.jupyter.widget-view+json": {
       "model_id": "53fd42eb8ccd4de28c018125c57e3477",
       "version_major": 2,
       "version_minor": 0
      },
      "text/plain": [
       "Scanning time:   0%|          | 0/96 [00:00<?, ?it/s]"
      ]
     },
     "metadata": {},
     "output_type": "display_data"
    },
    {
     "data": {
      "application/vnd.jupyter.widget-view+json": {
       "model_id": "e0b29a4b701d45e38f02b7ad6223701c",
       "version_major": 2,
       "version_minor": 0
      },
      "text/plain": [
       "Scanning time:   0%|          | 0/96 [00:00<?, ?it/s]"
      ]
     },
     "metadata": {},
     "output_type": "display_data"
    },
    {
     "data": {
      "application/vnd.jupyter.widget-view+json": {
       "model_id": "bfe8dc8f17df459483a86175397cbeb8",
       "version_major": 2,
       "version_minor": 0
      },
      "text/plain": [
       "Scanning time:   0%|          | 0/96 [00:00<?, ?it/s]"
      ]
     },
     "metadata": {},
     "output_type": "display_data"
    },
    {
     "data": {
      "application/vnd.jupyter.widget-view+json": {
       "model_id": "3004ba9211e14e04898404e26b91b00c",
       "version_major": 2,
       "version_minor": 0
      },
      "text/plain": [
       "Scanning time:   0%|          | 0/96 [00:00<?, ?it/s]"
      ]
     },
     "metadata": {},
     "output_type": "display_data"
    },
    {
     "data": {
      "application/vnd.jupyter.widget-view+json": {
       "model_id": "3884681aa2bf493aaed6a293c3c1d0e5",
       "version_major": 2,
       "version_minor": 0
      },
      "text/plain": [
       "Scanning time:   0%|          | 0/96 [00:00<?, ?it/s]"
      ]
     },
     "metadata": {},
     "output_type": "display_data"
    },
    {
     "data": {
      "application/vnd.jupyter.widget-view+json": {
       "model_id": "bddafbc5a9774da0b5d04ebd4df7b760",
       "version_major": 2,
       "version_minor": 0
      },
      "text/plain": [
       "Scanning time:   0%|          | 0/96 [00:00<?, ?it/s]"
      ]
     },
     "metadata": {},
     "output_type": "display_data"
    },
    {
     "data": {
      "application/vnd.jupyter.widget-view+json": {
       "model_id": "f35c9959ea1e46d1b1b47942e038897f",
       "version_major": 2,
       "version_minor": 0
      },
      "text/plain": [
       "Scanning time:   0%|          | 0/96 [00:00<?, ?it/s]"
      ]
     },
     "metadata": {},
     "output_type": "display_data"
    },
    {
     "data": {
      "application/vnd.jupyter.widget-view+json": {
       "model_id": "a2dece2d6d634de79e718e5665595a6d",
       "version_major": 2,
       "version_minor": 0
      },
      "text/plain": [
       "Scanning time:   0%|          | 0/96 [00:00<?, ?it/s]"
      ]
     },
     "metadata": {},
     "output_type": "display_data"
    },
    {
     "data": {
      "application/vnd.jupyter.widget-view+json": {
       "model_id": "c0eb6454409d4b6998adcd1fee5289cd",
       "version_major": 2,
       "version_minor": 0
      },
      "text/plain": [
       "Scanning time:   0%|          | 0/96 [00:00<?, ?it/s]"
      ]
     },
     "metadata": {},
     "output_type": "display_data"
    },
    {
     "data": {
      "application/vnd.jupyter.widget-view+json": {
       "model_id": "1297934b03c841ffa5b382126bdbcdd2",
       "version_major": 2,
       "version_minor": 0
      },
      "text/plain": [
       "Scanning time:   0%|          | 0/96 [00:00<?, ?it/s]"
      ]
     },
     "metadata": {},
     "output_type": "display_data"
    },
    {
     "data": {
      "application/vnd.jupyter.widget-view+json": {
       "model_id": "d9bfd82523464e7194433d5006b9f462",
       "version_major": 2,
       "version_minor": 0
      },
      "text/plain": [
       "Scanning time:   0%|          | 0/96 [00:00<?, ?it/s]"
      ]
     },
     "metadata": {},
     "output_type": "display_data"
    },
    {
     "data": {
      "application/vnd.jupyter.widget-view+json": {
       "model_id": "8816094922504970a8dd20a5cba00f3e",
       "version_major": 2,
       "version_minor": 0
      },
      "text/plain": [
       "Scanning time:   0%|          | 0/96 [00:00<?, ?it/s]"
      ]
     },
     "metadata": {},
     "output_type": "display_data"
    },
    {
     "name": "stdout",
     "output_type": "stream",
     "text": [
      "image_rgb_max=np.float64(9064.142865466078)\n"
     ]
    }
   ],
   "source": [
    "image_rgb_max = 0.\n",
    "for i_wave in trange(N_wave):\n",
    "    fname = f'{c.cachepath}/{c.opt.tag}_caustique_{i_wave}.npy'\n",
    "    if os.path.isfile(fname):\n",
    "        image_update = np.load(fname)\n",
    "    else:\n",
    "        z_smooth = np.load(f'{c.cachepath}/{c.opt.tag}_vague-smooth_{i_wave}.npy')\n",
    "        image_update = c.compute(z_smooth, image_aperture)\n",
    "        np.save(fname, image_update)\n",
    "        del z_smooth \n",
    "    \n",
    "    image_rgb_max = max(image_rgb_max, image_update.max())    \n",
    "    del image_update\n",
    "print(f'{image_rgb_max=}')"
   ]
  },
  {
   "cell_type": "code",
   "execution_count": 45,
   "metadata": {},
   "outputs": [
    {
     "name": "stdout",
     "output_type": "stream",
     "text": [
      "Variable          Type                   Data/Info\n",
      "--------------------------------------------------\n",
      "B_Vs              ndarray                75: 75 elems, type `float64`, 600 bytes\n",
      "B_sfs             ndarray                75: 75 elems, type `float64`, 600 bytes\n",
      "B_thetas          ndarray                75: 75 elems, type `float64`, 600 bytes\n",
      "CM_BY_INCH        float                  2.54\n",
      "Caustique         type                   <class '__main__.Caustique'>\n",
      "H_                float64                240.0\n",
      "Lambda2color      type                   <class 'lambda2color.Lambda2color'>\n",
      "N_scan            int                    5\n",
      "N_wave            int                    75\n",
      "PRECISION         int                    11\n",
      "Parallel          type                   <class 'joblib.parallel.Parallel'>\n",
      "SubplotParams     type                   <class 'matplotlib.gridspec.SubplotParams'>\n",
      "amplitude         ndarray                75: 75 elems, type `float64`, 600 bytes\n",
      "arrays            list                   n=5\n",
      "ax                ndarray                4: 4 elems, type `object`, 32 bytes\n",
      "base              int                    2\n",
      "c                 Caustique              <__main__.Caustique object at 0x10cf5cc90>\n",
      "dataclass         function               <function dataclass at 0x106a27a60>\n",
      "delayed           function               <function delayed at 0x10bba6340>\n",
      "dpi               float                  26.0096\n",
      "fig               Figure                 Figure(800x800)\n",
      "fname             str                    /tmp/2025-10-30_caustique<...>n/longue_caustique_74.npy\n",
      "generate_image    function               <function generate_image at 0x10bcb8ea0>\n",
      "get_ipython       function               <function get_ipython at 0x1073b1800>\n",
      "hashlib           module                 <module 'hashlib' from '/<...>b/python3.13/hashlib.py'>\n",
      "i_frame           int                    95\n",
      "i_wave            int                    74\n",
      "image_aperture    ndarray                2048x2048: 4194304 elems, type `float64`, 33554432 bytes (32.0 Mb)\n",
      "image_rgb_max     float64                9064.142865466078\n",
      "imageio           module                 <module 'imageio' from '/<...>ges/imageio/__init__.py'>\n",
      "init              type                   <class '__main__.init'>\n",
      "ip                ZMQInteractiveShell    <ipykernel.zmqshell.ZMQIn<...>ll object at 0x108833380>\n",
      "kappa             float                  2.5\n",
      "make_mp4          function               <function make_mp4 at 0x10bba6ac0>\n",
      "matplotlib        module                 <module 'matplotlib' from<...>/matplotlib/__init__.py'>\n",
      "mc                module                 <module 'MotionClouds' fr<...>stiques/MotionClouds.py'>\n",
      "modul             float                  0.5\n",
      "ndimage           module                 <module 'scipy.ndimage' f<...>ipy/ndimage/__init__.py'>\n",
      "np                module                 <module 'numpy' from '/Us<...>kages/numpy/__init__.py'>\n",
      "opt               init                   init(figpath='2025-10-30_<...>=False, do_display=False)\n",
      "os                module                 <module 'os' (frozen)>\n",
      "output_filename   str                    2025-10-30_caustique-tran<...>longue_vague_9d6a3dfc.mp4\n",
      "planck            function               <function planck at 0x10bc4d760>\n",
      "plt               module                 <module 'matplotlib.pyplo<...>es/matplotlib/pyplot.py'>\n",
      "pprint            function               <function pprint at 0x106a25e40>\n",
      "radius_in         float64                0.48\n",
      "radius_out        float64                1.0\n",
      "scattering        function               <function scattering at 0x10bc4d6c0>\n",
      "screen_size_cm    int                    100\n",
      "screen_size_in    float                  39.37007874015748\n",
      "seed_increment    int                    4\n",
      "sf_0s             ndarray                75: 75 elems, type `float64`, 600 bytes\n",
      "study_name        str                    2025-10-30_caustique-transition\n",
      "subplotpars       SubplotParams          <matplotlib.gridspec.Subp<...>ms object at 0x10bb95be0>\n",
      "summed_array      ndarray                10x10x3: 300 elems, type `float64`, 2400 bytes\n",
      "tqdm              type                   <class 'tqdm.auto.tqdm'>\n",
      "trange            function               <function trange at 0x109058cc0>\n",
      "variable          str                    B_sf\n",
      "writer            Writer                 <imageio.plugins.ffmpeg.F<...>er object at 0x10d028690>\n",
      "xyz_from_xy       function               <function xyz_from_xy at 0x10bc4d800>\n",
      "z                 ndarray                512x512x96: 25165824 elems, type `float64`, 201326592 bytes (192.0 Mb)\n"
     ]
    }
   ],
   "source": [
    "%whos"
   ]
  },
  {
   "cell_type": "code",
   "execution_count": 46,
   "metadata": {},
   "outputs": [
    {
     "data": {
      "application/vnd.jupyter.widget-view+json": {
       "model_id": "1de8f1a3c143498fbf3c228cca71e154",
       "version_major": 2,
       "version_minor": 0
      },
      "text/plain": [
       "Generating movie:   0%|          | 0/75 [00:00<?, ?it/s]"
      ]
     },
     "metadata": {},
     "output_type": "display_data"
    },
    {
     "data": {
      "text/html": [
       "<video  loop=\"1\" autoplay=\"1\" controls  src=\"2025-10-30_caustique-transition/longue_caustique_fb0edd2e.mp4\" type=\"video/mp4\" width=1024 >"
      ],
      "text/plain": [
       "<IPython.core.display.HTML object>"
      ]
     },
     "metadata": {},
     "output_type": "display_data"
    }
   ],
   "source": [
    "output_filename = c.get_filename(note='_caustique')\n",
    "if not(os.path.isfile(output_filename)):\n",
    "\n",
    "    with imageio.v2.get_writer(\n",
    "        output_filename,\n",
    "        format='FFmpeg', \n",
    "        mode='I',\n",
    "        # format='av', \n",
    "        fps=opt.fps,\n",
    "        # pixelformat=pix_fmt\n",
    "        # codec='ffv1',  # Use FFV1 for lossless compression\n",
    "        ) as writer:\n",
    "\n",
    "        for i_wave in trange(N_wave, desc='Generating movie'):\n",
    "            fname = f'{c.cachepath}/{c.opt.tag}_caustique_{i_wave}.npy'\n",
    "            frames = np.load(fname)\n",
    "\n",
    "            frames /= image_rgb_max\n",
    "            frames = frames ** (1/opt.gamma)\n",
    "\n",
    "            for i_frame in range(frames.shape[-1]):\n",
    "                # Append the frame to the video writer\n",
    "                writer.append_data((frames[..., i_frame]*(2**c.opt.n_bits-1)).astype(c.np_dtype))\n",
    "\n",
    "c.show(output_filename)"
   ]
  },
  {
   "cell_type": "code",
   "execution_count": 47,
   "metadata": {},
   "outputs": [
    {
     "name": "stdout",
     "output_type": "stream",
     "text": [
      "2025-10-30_caustique-transition/longue_caustique_fb0edd2e.mp4\n"
     ]
    }
   ],
   "source": [
    "print(output_filename)"
   ]
  }
 ],
 "metadata": {
  "kernelspec": {
   "display_name": ".venv",
   "language": "python",
   "name": "python3"
  },
  "language_info": {
   "codemirror_mode": {
    "name": "ipython",
    "version": 3
   },
   "file_extension": ".py",
   "mimetype": "text/x-python",
   "name": "python",
   "nbconvert_exporter": "python",
   "pygments_lexer": "ipython3",
   "version": "3.13.9"
  },
  "nteract": {
   "version": "0.28.0"
  },
  "widgets": {
   "application/vnd.jupyter.widget-state+json": {
    "state": {
     "035ab33361e7432caecc80ca2a176575": {
      "model_module": "@jupyter-widgets/controls",
      "model_module_version": "2.0.0",
      "model_name": "FloatProgressModel",
      "state": {
       "_dom_classes": [],
       "_model_module": "@jupyter-widgets/controls",
       "_model_module_version": "2.0.0",
       "_model_name": "FloatProgressModel",
       "_view_count": null,
       "_view_module": "@jupyter-widgets/controls",
       "_view_module_version": "2.0.0",
       "_view_name": "ProgressView",
       "bar_style": "success",
       "description": "",
       "description_allow_html": false,
       "layout": "IPY_MODEL_77f9a290f7dd4b219ba4f735555140e1",
       "max": 256,
       "min": 0,
       "orientation": "horizontal",
       "style": "IPY_MODEL_84e6789a386f4cc3b967f7880483983c",
       "tabbable": null,
       "tooltip": null,
       "value": 256
      }
     },
     "0b73ffb834c2419c973499fdf717431d": {
      "model_module": "@jupyter-widgets/base",
      "model_module_version": "2.0.0",
      "model_name": "LayoutModel",
      "state": {
       "_model_module": "@jupyter-widgets/base",
       "_model_module_version": "2.0.0",
       "_model_name": "LayoutModel",
       "_view_count": null,
       "_view_module": "@jupyter-widgets/base",
       "_view_module_version": "2.0.0",
       "_view_name": "LayoutView",
       "align_content": null,
       "align_items": null,
       "align_self": null,
       "border_bottom": null,
       "border_left": null,
       "border_right": null,
       "border_top": null,
       "bottom": null,
       "display": null,
       "flex": null,
       "flex_flow": null,
       "grid_area": null,
       "grid_auto_columns": null,
       "grid_auto_flow": null,
       "grid_auto_rows": null,
       "grid_column": null,
       "grid_gap": null,
       "grid_row": null,
       "grid_template_areas": null,
       "grid_template_columns": null,
       "grid_template_rows": null,
       "height": null,
       "justify_content": null,
       "justify_items": null,
       "left": null,
       "margin": null,
       "max_height": null,
       "max_width": null,
       "min_height": null,
       "min_width": null,
       "object_fit": null,
       "object_position": null,
       "order": null,
       "overflow": null,
       "padding": null,
       "right": null,
       "top": null,
       "visibility": null,
       "width": null
      }
     },
     "11ae0a75f5b344f396d64dc0adfc23d4": {
      "model_module": "@jupyter-widgets/controls",
      "model_module_version": "2.0.0",
      "model_name": "HTMLStyleModel",
      "state": {
       "_model_module": "@jupyter-widgets/controls",
       "_model_module_version": "2.0.0",
       "_model_name": "HTMLStyleModel",
       "_view_count": null,
       "_view_module": "@jupyter-widgets/base",
       "_view_module_version": "2.0.0",
       "_view_name": "StyleView",
       "background": null,
       "description_width": "",
       "font_size": null,
       "text_color": null
      }
     },
     "1216f0c7b01543ab9e1c4767e78ec994": {
      "model_module": "@jupyter-widgets/base",
      "model_module_version": "2.0.0",
      "model_name": "LayoutModel",
      "state": {
       "_model_module": "@jupyter-widgets/base",
       "_model_module_version": "2.0.0",
       "_model_name": "LayoutModel",
       "_view_count": null,
       "_view_module": "@jupyter-widgets/base",
       "_view_module_version": "2.0.0",
       "_view_name": "LayoutView",
       "align_content": null,
       "align_items": null,
       "align_self": null,
       "border_bottom": null,
       "border_left": null,
       "border_right": null,
       "border_top": null,
       "bottom": null,
       "display": null,
       "flex": null,
       "flex_flow": null,
       "grid_area": null,
       "grid_auto_columns": null,
       "grid_auto_flow": null,
       "grid_auto_rows": null,
       "grid_column": null,
       "grid_gap": null,
       "grid_row": null,
       "grid_template_areas": null,
       "grid_template_columns": null,
       "grid_template_rows": null,
       "height": null,
       "justify_content": null,
       "justify_items": null,
       "left": null,
       "margin": null,
       "max_height": null,
       "max_width": null,
       "min_height": null,
       "min_width": null,
       "object_fit": null,
       "object_position": null,
       "order": null,
       "overflow": null,
       "padding": null,
       "right": null,
       "top": null,
       "visibility": null,
       "width": null
      }
     },
     "17ebce389fa846d99920f6c9c3a1210c": {
      "model_module": "@jupyter-widgets/controls",
      "model_module_version": "2.0.0",
      "model_name": "HTMLModel",
      "state": {
       "_dom_classes": [],
       "_model_module": "@jupyter-widgets/controls",
       "_model_module_version": "2.0.0",
       "_model_name": "HTMLModel",
       "_view_count": null,
       "_view_module": "@jupyter-widgets/controls",
       "_view_module_version": "2.0.0",
       "_view_name": "HTMLView",
       "description": "",
       "description_allow_html": false,
       "layout": "IPY_MODEL_c078cae24ae7430bace625a76b1cb988",
       "placeholder": "​",
       "style": "IPY_MODEL_f16c0a10ddef42d883635f671bda9653",
       "tabbable": null,
       "tooltip": null,
       "value": "100%"
      }
     },
     "190c5912ea914b8bb29e2203e0c9d745": {
      "model_module": "@jupyter-widgets/controls",
      "model_module_version": "2.0.0",
      "model_name": "FloatProgressModel",
      "state": {
       "_dom_classes": [],
       "_model_module": "@jupyter-widgets/controls",
       "_model_module_version": "2.0.0",
       "_model_name": "FloatProgressModel",
       "_view_count": null,
       "_view_module": "@jupyter-widgets/controls",
       "_view_module_version": "2.0.0",
       "_view_name": "ProgressView",
       "bar_style": "success",
       "description": "",
       "description_allow_html": false,
       "layout": "IPY_MODEL_d2044911f735442cbe3dc75e7249db0f",
       "max": 256,
       "min": 0,
       "orientation": "horizontal",
       "style": "IPY_MODEL_cd112c61118142adadc1ffdc3d4fd7dc",
       "tabbable": null,
       "tooltip": null,
       "value": 256
      }
     },
     "19f777cef46a4e6980ab4469675293a5": {
      "model_module": "@jupyter-widgets/controls",
      "model_module_version": "2.0.0",
      "model_name": "FloatProgressModel",
      "state": {
       "_dom_classes": [],
       "_model_module": "@jupyter-widgets/controls",
       "_model_module_version": "2.0.0",
       "_model_name": "FloatProgressModel",
       "_view_count": null,
       "_view_module": "@jupyter-widgets/controls",
       "_view_module_version": "2.0.0",
       "_view_name": "ProgressView",
       "bar_style": "success",
       "description": "",
       "description_allow_html": false,
       "layout": "IPY_MODEL_4a9c13ffbb134906a5773a04df09a848",
       "max": 256,
       "min": 0,
       "orientation": "horizontal",
       "style": "IPY_MODEL_408b9a2d642145409181ce414bf5f650",
       "tabbable": null,
       "tooltip": null,
       "value": 256
      }
     },
     "1e646c9ebcb840a28822c80b583c341d": {
      "model_module": "@jupyter-widgets/controls",
      "model_module_version": "2.0.0",
      "model_name": "FloatProgressModel",
      "state": {
       "_dom_classes": [],
       "_model_module": "@jupyter-widgets/controls",
       "_model_module_version": "2.0.0",
       "_model_name": "FloatProgressModel",
       "_view_count": null,
       "_view_module": "@jupyter-widgets/controls",
       "_view_module_version": "2.0.0",
       "_view_name": "ProgressView",
       "bar_style": "success",
       "description": "",
       "description_allow_html": false,
       "layout": "IPY_MODEL_231d8780a5db46418e5778863597aac4",
       "max": 256,
       "min": 0,
       "orientation": "horizontal",
       "style": "IPY_MODEL_cc8031db1bd442d1a481d859e4f8c3d1",
       "tabbable": null,
       "tooltip": null,
       "value": 256
      }
     },
     "231d8780a5db46418e5778863597aac4": {
      "model_module": "@jupyter-widgets/base",
      "model_module_version": "2.0.0",
      "model_name": "LayoutModel",
      "state": {
       "_model_module": "@jupyter-widgets/base",
       "_model_module_version": "2.0.0",
       "_model_name": "LayoutModel",
       "_view_count": null,
       "_view_module": "@jupyter-widgets/base",
       "_view_module_version": "2.0.0",
       "_view_name": "LayoutView",
       "align_content": null,
       "align_items": null,
       "align_self": null,
       "border_bottom": null,
       "border_left": null,
       "border_right": null,
       "border_top": null,
       "bottom": null,
       "display": null,
       "flex": null,
       "flex_flow": null,
       "grid_area": null,
       "grid_auto_columns": null,
       "grid_auto_flow": null,
       "grid_auto_rows": null,
       "grid_column": null,
       "grid_gap": null,
       "grid_row": null,
       "grid_template_areas": null,
       "grid_template_columns": null,
       "grid_template_rows": null,
       "height": null,
       "justify_content": null,
       "justify_items": null,
       "left": null,
       "margin": null,
       "max_height": null,
       "max_width": null,
       "min_height": null,
       "min_width": null,
       "object_fit": null,
       "object_position": null,
       "order": null,
       "overflow": null,
       "padding": null,
       "right": null,
       "top": null,
       "visibility": null,
       "width": null
      }
     },
     "2410a91c9a7a4826b7d3c14d541ff69d": {
      "model_module": "@jupyter-widgets/base",
      "model_module_version": "2.0.0",
      "model_name": "LayoutModel",
      "state": {
       "_model_module": "@jupyter-widgets/base",
       "_model_module_version": "2.0.0",
       "_model_name": "LayoutModel",
       "_view_count": null,
       "_view_module": "@jupyter-widgets/base",
       "_view_module_version": "2.0.0",
       "_view_name": "LayoutView",
       "align_content": null,
       "align_items": null,
       "align_self": null,
       "border_bottom": null,
       "border_left": null,
       "border_right": null,
       "border_top": null,
       "bottom": null,
       "display": null,
       "flex": null,
       "flex_flow": null,
       "grid_area": null,
       "grid_auto_columns": null,
       "grid_auto_flow": null,
       "grid_auto_rows": null,
       "grid_column": null,
       "grid_gap": null,
       "grid_row": null,
       "grid_template_areas": null,
       "grid_template_columns": null,
       "grid_template_rows": null,
       "height": null,
       "justify_content": null,
       "justify_items": null,
       "left": null,
       "margin": null,
       "max_height": null,
       "max_width": null,
       "min_height": null,
       "min_width": null,
       "object_fit": null,
       "object_position": null,
       "order": null,
       "overflow": null,
       "padding": null,
       "right": null,
       "top": null,
       "visibility": null,
       "width": null
      }
     },
     "2b93a83bd14041d0bf240a1e8ed105da": {
      "model_module": "@jupyter-widgets/controls",
      "model_module_version": "2.0.0",
      "model_name": "HBoxModel",
      "state": {
       "_dom_classes": [],
       "_model_module": "@jupyter-widgets/controls",
       "_model_module_version": "2.0.0",
       "_model_name": "HBoxModel",
       "_view_count": null,
       "_view_module": "@jupyter-widgets/controls",
       "_view_module_version": "2.0.0",
       "_view_name": "HBoxView",
       "box_style": "",
       "children": [
        "IPY_MODEL_17ebce389fa846d99920f6c9c3a1210c",
        "IPY_MODEL_190c5912ea914b8bb29e2203e0c9d745",
        "IPY_MODEL_d0069e861bec45358c5749eb8eb64139"
       ],
       "layout": "IPY_MODEL_391312d9ce614c36bd1c1339c4c1d3fa",
       "tabbable": null,
       "tooltip": null
      }
     },
     "33722c82ab7341d5ab4b56bce068d1e0": {
      "model_module": "@jupyter-widgets/controls",
      "model_module_version": "2.0.0",
      "model_name": "HBoxModel",
      "state": {
       "_dom_classes": [],
       "_model_module": "@jupyter-widgets/controls",
       "_model_module_version": "2.0.0",
       "_model_name": "HBoxModel",
       "_view_count": null,
       "_view_module": "@jupyter-widgets/controls",
       "_view_module_version": "2.0.0",
       "_view_name": "HBoxView",
       "box_style": "",
       "children": [
        "IPY_MODEL_34fc442a740f453aa8eb4733a00b33ee",
        "IPY_MODEL_19f777cef46a4e6980ab4469675293a5",
        "IPY_MODEL_466bad0aef824176a0778b38af7f0cc8"
       ],
       "layout": "IPY_MODEL_1216f0c7b01543ab9e1c4767e78ec994",
       "tabbable": null,
       "tooltip": null
      }
     },
     "34fc442a740f453aa8eb4733a00b33ee": {
      "model_module": "@jupyter-widgets/controls",
      "model_module_version": "2.0.0",
      "model_name": "HTMLModel",
      "state": {
       "_dom_classes": [],
       "_model_module": "@jupyter-widgets/controls",
       "_model_module_version": "2.0.0",
       "_model_name": "HTMLModel",
       "_view_count": null,
       "_view_module": "@jupyter-widgets/controls",
       "_view_module_version": "2.0.0",
       "_view_name": "HTMLView",
       "description": "",
       "description_allow_html": false,
       "layout": "IPY_MODEL_c26548a3142c45f1adfa8abc1815ac5f",
       "placeholder": "​",
       "style": "IPY_MODEL_11ae0a75f5b344f396d64dc0adfc23d4",
       "tabbable": null,
       "tooltip": null,
       "value": "100%"
      }
     },
     "372ec21d55b140a3b2f2485311a94b90": {
      "model_module": "@jupyter-widgets/controls",
      "model_module_version": "2.0.0",
      "model_name": "HTMLStyleModel",
      "state": {
       "_model_module": "@jupyter-widgets/controls",
       "_model_module_version": "2.0.0",
       "_model_name": "HTMLStyleModel",
       "_view_count": null,
       "_view_module": "@jupyter-widgets/base",
       "_view_module_version": "2.0.0",
       "_view_name": "StyleView",
       "background": null,
       "description_width": "",
       "font_size": null,
       "text_color": null
      }
     },
     "38a8e734f8a54c31bea5268b58557a88": {
      "model_module": "@jupyter-widgets/controls",
      "model_module_version": "2.0.0",
      "model_name": "HBoxModel",
      "state": {
       "_dom_classes": [],
       "_model_module": "@jupyter-widgets/controls",
       "_model_module_version": "2.0.0",
       "_model_name": "HBoxModel",
       "_view_count": null,
       "_view_module": "@jupyter-widgets/controls",
       "_view_module_version": "2.0.0",
       "_view_name": "HBoxView",
       "box_style": "",
       "children": [
        "IPY_MODEL_b8499c15522745cd9981166aa85f493d",
        "IPY_MODEL_7e3049db598142689e39c20322342839",
        "IPY_MODEL_4b89e27ea7dd4ad2848898a2e945d660"
       ],
       "layout": "IPY_MODEL_d69c4d7c0ffd4195b09a98ea697a7a77",
       "tabbable": null,
       "tooltip": null
      }
     },
     "391312d9ce614c36bd1c1339c4c1d3fa": {
      "model_module": "@jupyter-widgets/base",
      "model_module_version": "2.0.0",
      "model_name": "LayoutModel",
      "state": {
       "_model_module": "@jupyter-widgets/base",
       "_model_module_version": "2.0.0",
       "_model_name": "LayoutModel",
       "_view_count": null,
       "_view_module": "@jupyter-widgets/base",
       "_view_module_version": "2.0.0",
       "_view_name": "LayoutView",
       "align_content": null,
       "align_items": null,
       "align_self": null,
       "border_bottom": null,
       "border_left": null,
       "border_right": null,
       "border_top": null,
       "bottom": null,
       "display": null,
       "flex": null,
       "flex_flow": null,
       "grid_area": null,
       "grid_auto_columns": null,
       "grid_auto_flow": null,
       "grid_auto_rows": null,
       "grid_column": null,
       "grid_gap": null,
       "grid_row": null,
       "grid_template_areas": null,
       "grid_template_columns": null,
       "grid_template_rows": null,
       "height": null,
       "justify_content": null,
       "justify_items": null,
       "left": null,
       "margin": null,
       "max_height": null,
       "max_width": null,
       "min_height": null,
       "min_width": null,
       "object_fit": null,
       "object_position": null,
       "order": null,
       "overflow": null,
       "padding": null,
       "right": null,
       "top": null,
       "visibility": null,
       "width": null
      }
     },
     "408b9a2d642145409181ce414bf5f650": {
      "model_module": "@jupyter-widgets/controls",
      "model_module_version": "2.0.0",
      "model_name": "ProgressStyleModel",
      "state": {
       "_model_module": "@jupyter-widgets/controls",
       "_model_module_version": "2.0.0",
       "_model_name": "ProgressStyleModel",
       "_view_count": null,
       "_view_module": "@jupyter-widgets/base",
       "_view_module_version": "2.0.0",
       "_view_name": "StyleView",
       "bar_color": null,
       "description_width": ""
      }
     },
     "40e490736bdb4e9b91ecc29d8ebfcb9a": {
      "model_module": "@jupyter-widgets/controls",
      "model_module_version": "2.0.0",
      "model_name": "HTMLModel",
      "state": {
       "_dom_classes": [],
       "_model_module": "@jupyter-widgets/controls",
       "_model_module_version": "2.0.0",
       "_model_name": "HTMLModel",
       "_view_count": null,
       "_view_module": "@jupyter-widgets/controls",
       "_view_module_version": "2.0.0",
       "_view_name": "HTMLView",
       "description": "",
       "description_allow_html": false,
       "layout": "IPY_MODEL_0b73ffb834c2419c973499fdf717431d",
       "placeholder": "​",
       "style": "IPY_MODEL_92ddbe5f71f340e09a33f004c0f625c0",
       "tabbable": null,
       "tooltip": null,
       "value": "100%"
      }
     },
     "41c8f627da6e4adda218239203e2aaca": {
      "model_module": "@jupyter-widgets/base",
      "model_module_version": "2.0.0",
      "model_name": "LayoutModel",
      "state": {
       "_model_module": "@jupyter-widgets/base",
       "_model_module_version": "2.0.0",
       "_model_name": "LayoutModel",
       "_view_count": null,
       "_view_module": "@jupyter-widgets/base",
       "_view_module_version": "2.0.0",
       "_view_name": "LayoutView",
       "align_content": null,
       "align_items": null,
       "align_self": null,
       "border_bottom": null,
       "border_left": null,
       "border_right": null,
       "border_top": null,
       "bottom": null,
       "display": null,
       "flex": null,
       "flex_flow": null,
       "grid_area": null,
       "grid_auto_columns": null,
       "grid_auto_flow": null,
       "grid_auto_rows": null,
       "grid_column": null,
       "grid_gap": null,
       "grid_row": null,
       "grid_template_areas": null,
       "grid_template_columns": null,
       "grid_template_rows": null,
       "height": null,
       "justify_content": null,
       "justify_items": null,
       "left": null,
       "margin": null,
       "max_height": null,
       "max_width": null,
       "min_height": null,
       "min_width": null,
       "object_fit": null,
       "object_position": null,
       "order": null,
       "overflow": null,
       "padding": null,
       "right": null,
       "top": null,
       "visibility": null,
       "width": null
      }
     },
     "466bad0aef824176a0778b38af7f0cc8": {
      "model_module": "@jupyter-widgets/controls",
      "model_module_version": "2.0.0",
      "model_name": "HTMLModel",
      "state": {
       "_dom_classes": [],
       "_model_module": "@jupyter-widgets/controls",
       "_model_module_version": "2.0.0",
       "_model_name": "HTMLModel",
       "_view_count": null,
       "_view_module": "@jupyter-widgets/controls",
       "_view_module_version": "2.0.0",
       "_view_name": "HTMLView",
       "description": "",
       "description_allow_html": false,
       "layout": "IPY_MODEL_fd94337716a24629bbbf38eb2d910e17",
       "placeholder": "​",
       "style": "IPY_MODEL_62eaeb24301b45bdbed6f793ae2a80d3",
       "tabbable": null,
       "tooltip": null,
       "value": " 256/256 [28:51&lt;00:00,  6.95s/it]"
      }
     },
     "4a9c13ffbb134906a5773a04df09a848": {
      "model_module": "@jupyter-widgets/base",
      "model_module_version": "2.0.0",
      "model_name": "LayoutModel",
      "state": {
       "_model_module": "@jupyter-widgets/base",
       "_model_module_version": "2.0.0",
       "_model_name": "LayoutModel",
       "_view_count": null,
       "_view_module": "@jupyter-widgets/base",
       "_view_module_version": "2.0.0",
       "_view_name": "LayoutView",
       "align_content": null,
       "align_items": null,
       "align_self": null,
       "border_bottom": null,
       "border_left": null,
       "border_right": null,
       "border_top": null,
       "bottom": null,
       "display": null,
       "flex": null,
       "flex_flow": null,
       "grid_area": null,
       "grid_auto_columns": null,
       "grid_auto_flow": null,
       "grid_auto_rows": null,
       "grid_column": null,
       "grid_gap": null,
       "grid_row": null,
       "grid_template_areas": null,
       "grid_template_columns": null,
       "grid_template_rows": null,
       "height": null,
       "justify_content": null,
       "justify_items": null,
       "left": null,
       "margin": null,
       "max_height": null,
       "max_width": null,
       "min_height": null,
       "min_width": null,
       "object_fit": null,
       "object_position": null,
       "order": null,
       "overflow": null,
       "padding": null,
       "right": null,
       "top": null,
       "visibility": null,
       "width": null
      }
     },
     "4b89e27ea7dd4ad2848898a2e945d660": {
      "model_module": "@jupyter-widgets/controls",
      "model_module_version": "2.0.0",
      "model_name": "HTMLModel",
      "state": {
       "_dom_classes": [],
       "_model_module": "@jupyter-widgets/controls",
       "_model_module_version": "2.0.0",
       "_model_name": "HTMLModel",
       "_view_count": null,
       "_view_module": "@jupyter-widgets/controls",
       "_view_module_version": "2.0.0",
       "_view_name": "HTMLView",
       "description": "",
       "description_allow_html": false,
       "layout": "IPY_MODEL_6842b6809a9e45cfb0e702de8bc33a4a",
       "placeholder": "​",
       "style": "IPY_MODEL_c59fd60c9cf0495b922c74febebcfd99",
       "tabbable": null,
       "tooltip": null,
       "value": " 256/256 [27:26&lt;00:00,  6.35s/it]"
      }
     },
     "4bc5b7e763bd41efb3f51b7faf6b2553": {
      "model_module": "@jupyter-widgets/base",
      "model_module_version": "2.0.0",
      "model_name": "LayoutModel",
      "state": {
       "_model_module": "@jupyter-widgets/base",
       "_model_module_version": "2.0.0",
       "_model_name": "LayoutModel",
       "_view_count": null,
       "_view_module": "@jupyter-widgets/base",
       "_view_module_version": "2.0.0",
       "_view_name": "LayoutView",
       "align_content": null,
       "align_items": null,
       "align_self": null,
       "border_bottom": null,
       "border_left": null,
       "border_right": null,
       "border_top": null,
       "bottom": null,
       "display": null,
       "flex": null,
       "flex_flow": null,
       "grid_area": null,
       "grid_auto_columns": null,
       "grid_auto_flow": null,
       "grid_auto_rows": null,
       "grid_column": null,
       "grid_gap": null,
       "grid_row": null,
       "grid_template_areas": null,
       "grid_template_columns": null,
       "grid_template_rows": null,
       "height": null,
       "justify_content": null,
       "justify_items": null,
       "left": null,
       "margin": null,
       "max_height": null,
       "max_width": null,
       "min_height": null,
       "min_width": null,
       "object_fit": null,
       "object_position": null,
       "order": null,
       "overflow": null,
       "padding": null,
       "right": null,
       "top": null,
       "visibility": null,
       "width": null
      }
     },
     "623cfb29c2674e3e8afa956617fee28d": {
      "model_module": "@jupyter-widgets/controls",
      "model_module_version": "2.0.0",
      "model_name": "HTMLModel",
      "state": {
       "_dom_classes": [],
       "_model_module": "@jupyter-widgets/controls",
       "_model_module_version": "2.0.0",
       "_model_name": "HTMLModel",
       "_view_count": null,
       "_view_module": "@jupyter-widgets/controls",
       "_view_module_version": "2.0.0",
       "_view_name": "HTMLView",
       "description": "",
       "description_allow_html": false,
       "layout": "IPY_MODEL_d22ead2504ee49e6bdda108317f45ac1",
       "placeholder": "​",
       "style": "IPY_MODEL_7d93c028c6b249fbbb05b7bb576f6e14",
       "tabbable": null,
       "tooltip": null,
       "value": " 256/256 [29:09&lt;00:00,  6.42s/it]"
      }
     },
     "62eaeb24301b45bdbed6f793ae2a80d3": {
      "model_module": "@jupyter-widgets/controls",
      "model_module_version": "2.0.0",
      "model_name": "HTMLStyleModel",
      "state": {
       "_model_module": "@jupyter-widgets/controls",
       "_model_module_version": "2.0.0",
       "_model_name": "HTMLStyleModel",
       "_view_count": null,
       "_view_module": "@jupyter-widgets/base",
       "_view_module_version": "2.0.0",
       "_view_name": "StyleView",
       "background": null,
       "description_width": "",
       "font_size": null,
       "text_color": null
      }
     },
     "6589ece8f1bd4f259fa2daee94834cee": {
      "model_module": "@jupyter-widgets/base",
      "model_module_version": "2.0.0",
      "model_name": "LayoutModel",
      "state": {
       "_model_module": "@jupyter-widgets/base",
       "_model_module_version": "2.0.0",
       "_model_name": "LayoutModel",
       "_view_count": null,
       "_view_module": "@jupyter-widgets/base",
       "_view_module_version": "2.0.0",
       "_view_name": "LayoutView",
       "align_content": null,
       "align_items": null,
       "align_self": null,
       "border_bottom": null,
       "border_left": null,
       "border_right": null,
       "border_top": null,
       "bottom": null,
       "display": null,
       "flex": null,
       "flex_flow": null,
       "grid_area": null,
       "grid_auto_columns": null,
       "grid_auto_flow": null,
       "grid_auto_rows": null,
       "grid_column": null,
       "grid_gap": null,
       "grid_row": null,
       "grid_template_areas": null,
       "grid_template_columns": null,
       "grid_template_rows": null,
       "height": null,
       "justify_content": null,
       "justify_items": null,
       "left": null,
       "margin": null,
       "max_height": null,
       "max_width": null,
       "min_height": null,
       "min_width": null,
       "object_fit": null,
       "object_position": null,
       "order": null,
       "overflow": null,
       "padding": null,
       "right": null,
       "top": null,
       "visibility": null,
       "width": null
      }
     },
     "6842b6809a9e45cfb0e702de8bc33a4a": {
      "model_module": "@jupyter-widgets/base",
      "model_module_version": "2.0.0",
      "model_name": "LayoutModel",
      "state": {
       "_model_module": "@jupyter-widgets/base",
       "_model_module_version": "2.0.0",
       "_model_name": "LayoutModel",
       "_view_count": null,
       "_view_module": "@jupyter-widgets/base",
       "_view_module_version": "2.0.0",
       "_view_name": "LayoutView",
       "align_content": null,
       "align_items": null,
       "align_self": null,
       "border_bottom": null,
       "border_left": null,
       "border_right": null,
       "border_top": null,
       "bottom": null,
       "display": null,
       "flex": null,
       "flex_flow": null,
       "grid_area": null,
       "grid_auto_columns": null,
       "grid_auto_flow": null,
       "grid_auto_rows": null,
       "grid_column": null,
       "grid_gap": null,
       "grid_row": null,
       "grid_template_areas": null,
       "grid_template_columns": null,
       "grid_template_rows": null,
       "height": null,
       "justify_content": null,
       "justify_items": null,
       "left": null,
       "margin": null,
       "max_height": null,
       "max_width": null,
       "min_height": null,
       "min_width": null,
       "object_fit": null,
       "object_position": null,
       "order": null,
       "overflow": null,
       "padding": null,
       "right": null,
       "top": null,
       "visibility": null,
       "width": null
      }
     },
     "69223a6848db4101aa62cbe286345231": {
      "model_module": "@jupyter-widgets/controls",
      "model_module_version": "2.0.0",
      "model_name": "HBoxModel",
      "state": {
       "_dom_classes": [],
       "_model_module": "@jupyter-widgets/controls",
       "_model_module_version": "2.0.0",
       "_model_name": "HBoxModel",
       "_view_count": null,
       "_view_module": "@jupyter-widgets/controls",
       "_view_module_version": "2.0.0",
       "_view_name": "HBoxView",
       "box_style": "",
       "children": [
        "IPY_MODEL_fbcf6af361ec40ffba104e09c0d7eb15",
        "IPY_MODEL_035ab33361e7432caecc80ca2a176575",
        "IPY_MODEL_9ae4138d5c6040ff8f31487f21120a6e"
       ],
       "layout": "IPY_MODEL_937ce84eb341402aac3fa07fed6cafd0",
       "tabbable": null,
       "tooltip": null
      }
     },
     "7279d281d2c34657bff252e8df63f4c5": {
      "model_module": "@jupyter-widgets/controls",
      "model_module_version": "2.0.0",
      "model_name": "HTMLStyleModel",
      "state": {
       "_model_module": "@jupyter-widgets/controls",
       "_model_module_version": "2.0.0",
       "_model_name": "HTMLStyleModel",
       "_view_count": null,
       "_view_module": "@jupyter-widgets/base",
       "_view_module_version": "2.0.0",
       "_view_name": "StyleView",
       "background": null,
       "description_width": "",
       "font_size": null,
       "text_color": null
      }
     },
     "77f9a290f7dd4b219ba4f735555140e1": {
      "model_module": "@jupyter-widgets/base",
      "model_module_version": "2.0.0",
      "model_name": "LayoutModel",
      "state": {
       "_model_module": "@jupyter-widgets/base",
       "_model_module_version": "2.0.0",
       "_model_name": "LayoutModel",
       "_view_count": null,
       "_view_module": "@jupyter-widgets/base",
       "_view_module_version": "2.0.0",
       "_view_name": "LayoutView",
       "align_content": null,
       "align_items": null,
       "align_self": null,
       "border_bottom": null,
       "border_left": null,
       "border_right": null,
       "border_top": null,
       "bottom": null,
       "display": null,
       "flex": null,
       "flex_flow": null,
       "grid_area": null,
       "grid_auto_columns": null,
       "grid_auto_flow": null,
       "grid_auto_rows": null,
       "grid_column": null,
       "grid_gap": null,
       "grid_row": null,
       "grid_template_areas": null,
       "grid_template_columns": null,
       "grid_template_rows": null,
       "height": null,
       "justify_content": null,
       "justify_items": null,
       "left": null,
       "margin": null,
       "max_height": null,
       "max_width": null,
       "min_height": null,
       "min_width": null,
       "object_fit": null,
       "object_position": null,
       "order": null,
       "overflow": null,
       "padding": null,
       "right": null,
       "top": null,
       "visibility": null,
       "width": null
      }
     },
     "7d93c028c6b249fbbb05b7bb576f6e14": {
      "model_module": "@jupyter-widgets/controls",
      "model_module_version": "2.0.0",
      "model_name": "HTMLStyleModel",
      "state": {
       "_model_module": "@jupyter-widgets/controls",
       "_model_module_version": "2.0.0",
       "_model_name": "HTMLStyleModel",
       "_view_count": null,
       "_view_module": "@jupyter-widgets/base",
       "_view_module_version": "2.0.0",
       "_view_name": "StyleView",
       "background": null,
       "description_width": "",
       "font_size": null,
       "text_color": null
      }
     },
     "7e3049db598142689e39c20322342839": {
      "model_module": "@jupyter-widgets/controls",
      "model_module_version": "2.0.0",
      "model_name": "FloatProgressModel",
      "state": {
       "_dom_classes": [],
       "_model_module": "@jupyter-widgets/controls",
       "_model_module_version": "2.0.0",
       "_model_name": "FloatProgressModel",
       "_view_count": null,
       "_view_module": "@jupyter-widgets/controls",
       "_view_module_version": "2.0.0",
       "_view_name": "ProgressView",
       "bar_style": "success",
       "description": "",
       "description_allow_html": false,
       "layout": "IPY_MODEL_6589ece8f1bd4f259fa2daee94834cee",
       "max": 256,
       "min": 0,
       "orientation": "horizontal",
       "style": "IPY_MODEL_bd094cda8b3c4855a4ed1300edf3f2c3",
       "tabbable": null,
       "tooltip": null,
       "value": 256
      }
     },
     "84e6789a386f4cc3b967f7880483983c": {
      "model_module": "@jupyter-widgets/controls",
      "model_module_version": "2.0.0",
      "model_name": "ProgressStyleModel",
      "state": {
       "_model_module": "@jupyter-widgets/controls",
       "_model_module_version": "2.0.0",
       "_model_name": "ProgressStyleModel",
       "_view_count": null,
       "_view_module": "@jupyter-widgets/base",
       "_view_module_version": "2.0.0",
       "_view_name": "StyleView",
       "bar_color": null,
       "description_width": ""
      }
     },
     "92ddbe5f71f340e09a33f004c0f625c0": {
      "model_module": "@jupyter-widgets/controls",
      "model_module_version": "2.0.0",
      "model_name": "HTMLStyleModel",
      "state": {
       "_model_module": "@jupyter-widgets/controls",
       "_model_module_version": "2.0.0",
       "_model_name": "HTMLStyleModel",
       "_view_count": null,
       "_view_module": "@jupyter-widgets/base",
       "_view_module_version": "2.0.0",
       "_view_name": "StyleView",
       "background": null,
       "description_width": "",
       "font_size": null,
       "text_color": null
      }
     },
     "937ce84eb341402aac3fa07fed6cafd0": {
      "model_module": "@jupyter-widgets/base",
      "model_module_version": "2.0.0",
      "model_name": "LayoutModel",
      "state": {
       "_model_module": "@jupyter-widgets/base",
       "_model_module_version": "2.0.0",
       "_model_name": "LayoutModel",
       "_view_count": null,
       "_view_module": "@jupyter-widgets/base",
       "_view_module_version": "2.0.0",
       "_view_name": "LayoutView",
       "align_content": null,
       "align_items": null,
       "align_self": null,
       "border_bottom": null,
       "border_left": null,
       "border_right": null,
       "border_top": null,
       "bottom": null,
       "display": null,
       "flex": null,
       "flex_flow": null,
       "grid_area": null,
       "grid_auto_columns": null,
       "grid_auto_flow": null,
       "grid_auto_rows": null,
       "grid_column": null,
       "grid_gap": null,
       "grid_row": null,
       "grid_template_areas": null,
       "grid_template_columns": null,
       "grid_template_rows": null,
       "height": null,
       "justify_content": null,
       "justify_items": null,
       "left": null,
       "margin": null,
       "max_height": null,
       "max_width": null,
       "min_height": null,
       "min_width": null,
       "object_fit": null,
       "object_position": null,
       "order": null,
       "overflow": null,
       "padding": null,
       "right": null,
       "top": null,
       "visibility": null,
       "width": null
      }
     },
     "9650fef1b09348cb8cff5a63a56850b7": {
      "model_module": "@jupyter-widgets/base",
      "model_module_version": "2.0.0",
      "model_name": "LayoutModel",
      "state": {
       "_model_module": "@jupyter-widgets/base",
       "_model_module_version": "2.0.0",
       "_model_name": "LayoutModel",
       "_view_count": null,
       "_view_module": "@jupyter-widgets/base",
       "_view_module_version": "2.0.0",
       "_view_name": "LayoutView",
       "align_content": null,
       "align_items": null,
       "align_self": null,
       "border_bottom": null,
       "border_left": null,
       "border_right": null,
       "border_top": null,
       "bottom": null,
       "display": null,
       "flex": null,
       "flex_flow": null,
       "grid_area": null,
       "grid_auto_columns": null,
       "grid_auto_flow": null,
       "grid_auto_rows": null,
       "grid_column": null,
       "grid_gap": null,
       "grid_row": null,
       "grid_template_areas": null,
       "grid_template_columns": null,
       "grid_template_rows": null,
       "height": null,
       "justify_content": null,
       "justify_items": null,
       "left": null,
       "margin": null,
       "max_height": null,
       "max_width": null,
       "min_height": null,
       "min_width": null,
       "object_fit": null,
       "object_position": null,
       "order": null,
       "overflow": null,
       "padding": null,
       "right": null,
       "top": null,
       "visibility": null,
       "width": null
      }
     },
     "9a36404c5a734fb38c2b22c9878a5745": {
      "model_module": "@jupyter-widgets/controls",
      "model_module_version": "2.0.0",
      "model_name": "HBoxModel",
      "state": {
       "_dom_classes": [],
       "_model_module": "@jupyter-widgets/controls",
       "_model_module_version": "2.0.0",
       "_model_name": "HBoxModel",
       "_view_count": null,
       "_view_module": "@jupyter-widgets/controls",
       "_view_module_version": "2.0.0",
       "_view_name": "HBoxView",
       "box_style": "",
       "children": [
        "IPY_MODEL_40e490736bdb4e9b91ecc29d8ebfcb9a",
        "IPY_MODEL_1e646c9ebcb840a28822c80b583c341d",
        "IPY_MODEL_623cfb29c2674e3e8afa956617fee28d"
       ],
       "layout": "IPY_MODEL_41c8f627da6e4adda218239203e2aaca",
       "tabbable": null,
       "tooltip": null
      }
     },
     "9ae4138d5c6040ff8f31487f21120a6e": {
      "model_module": "@jupyter-widgets/controls",
      "model_module_version": "2.0.0",
      "model_name": "HTMLModel",
      "state": {
       "_dom_classes": [],
       "_model_module": "@jupyter-widgets/controls",
       "_model_module_version": "2.0.0",
       "_model_name": "HTMLModel",
       "_view_count": null,
       "_view_module": "@jupyter-widgets/controls",
       "_view_module_version": "2.0.0",
       "_view_name": "HTMLView",
       "description": "",
       "description_allow_html": false,
       "layout": "IPY_MODEL_ff03739d18014246817c21e4dbf0a84a",
       "placeholder": "​",
       "style": "IPY_MODEL_e36bde94baa0470b804d73c4cc83a922",
       "tabbable": null,
       "tooltip": null,
       "value": " 256/256 [27:36&lt;00:00,  6.62s/it]"
      }
     },
     "b8499c15522745cd9981166aa85f493d": {
      "model_module": "@jupyter-widgets/controls",
      "model_module_version": "2.0.0",
      "model_name": "HTMLModel",
      "state": {
       "_dom_classes": [],
       "_model_module": "@jupyter-widgets/controls",
       "_model_module_version": "2.0.0",
       "_model_name": "HTMLModel",
       "_view_count": null,
       "_view_module": "@jupyter-widgets/controls",
       "_view_module_version": "2.0.0",
       "_view_name": "HTMLView",
       "description": "",
       "description_allow_html": false,
       "layout": "IPY_MODEL_2410a91c9a7a4826b7d3c14d541ff69d",
       "placeholder": "​",
       "style": "IPY_MODEL_bdbc8bdcb94f49e29847dd9b22e6add5",
       "tabbable": null,
       "tooltip": null,
       "value": "100%"
      }
     },
     "bd094cda8b3c4855a4ed1300edf3f2c3": {
      "model_module": "@jupyter-widgets/controls",
      "model_module_version": "2.0.0",
      "model_name": "ProgressStyleModel",
      "state": {
       "_model_module": "@jupyter-widgets/controls",
       "_model_module_version": "2.0.0",
       "_model_name": "ProgressStyleModel",
       "_view_count": null,
       "_view_module": "@jupyter-widgets/base",
       "_view_module_version": "2.0.0",
       "_view_name": "StyleView",
       "bar_color": null,
       "description_width": ""
      }
     },
     "bdbc8bdcb94f49e29847dd9b22e6add5": {
      "model_module": "@jupyter-widgets/controls",
      "model_module_version": "2.0.0",
      "model_name": "HTMLStyleModel",
      "state": {
       "_model_module": "@jupyter-widgets/controls",
       "_model_module_version": "2.0.0",
       "_model_name": "HTMLStyleModel",
       "_view_count": null,
       "_view_module": "@jupyter-widgets/base",
       "_view_module_version": "2.0.0",
       "_view_name": "StyleView",
       "background": null,
       "description_width": "",
       "font_size": null,
       "text_color": null
      }
     },
     "c078cae24ae7430bace625a76b1cb988": {
      "model_module": "@jupyter-widgets/base",
      "model_module_version": "2.0.0",
      "model_name": "LayoutModel",
      "state": {
       "_model_module": "@jupyter-widgets/base",
       "_model_module_version": "2.0.0",
       "_model_name": "LayoutModel",
       "_view_count": null,
       "_view_module": "@jupyter-widgets/base",
       "_view_module_version": "2.0.0",
       "_view_name": "LayoutView",
       "align_content": null,
       "align_items": null,
       "align_self": null,
       "border_bottom": null,
       "border_left": null,
       "border_right": null,
       "border_top": null,
       "bottom": null,
       "display": null,
       "flex": null,
       "flex_flow": null,
       "grid_area": null,
       "grid_auto_columns": null,
       "grid_auto_flow": null,
       "grid_auto_rows": null,
       "grid_column": null,
       "grid_gap": null,
       "grid_row": null,
       "grid_template_areas": null,
       "grid_template_columns": null,
       "grid_template_rows": null,
       "height": null,
       "justify_content": null,
       "justify_items": null,
       "left": null,
       "margin": null,
       "max_height": null,
       "max_width": null,
       "min_height": null,
       "min_width": null,
       "object_fit": null,
       "object_position": null,
       "order": null,
       "overflow": null,
       "padding": null,
       "right": null,
       "top": null,
       "visibility": null,
       "width": null
      }
     },
     "c26548a3142c45f1adfa8abc1815ac5f": {
      "model_module": "@jupyter-widgets/base",
      "model_module_version": "2.0.0",
      "model_name": "LayoutModel",
      "state": {
       "_model_module": "@jupyter-widgets/base",
       "_model_module_version": "2.0.0",
       "_model_name": "LayoutModel",
       "_view_count": null,
       "_view_module": "@jupyter-widgets/base",
       "_view_module_version": "2.0.0",
       "_view_name": "LayoutView",
       "align_content": null,
       "align_items": null,
       "align_self": null,
       "border_bottom": null,
       "border_left": null,
       "border_right": null,
       "border_top": null,
       "bottom": null,
       "display": null,
       "flex": null,
       "flex_flow": null,
       "grid_area": null,
       "grid_auto_columns": null,
       "grid_auto_flow": null,
       "grid_auto_rows": null,
       "grid_column": null,
       "grid_gap": null,
       "grid_row": null,
       "grid_template_areas": null,
       "grid_template_columns": null,
       "grid_template_rows": null,
       "height": null,
       "justify_content": null,
       "justify_items": null,
       "left": null,
       "margin": null,
       "max_height": null,
       "max_width": null,
       "min_height": null,
       "min_width": null,
       "object_fit": null,
       "object_position": null,
       "order": null,
       "overflow": null,
       "padding": null,
       "right": null,
       "top": null,
       "visibility": null,
       "width": null
      }
     },
     "c59fd60c9cf0495b922c74febebcfd99": {
      "model_module": "@jupyter-widgets/controls",
      "model_module_version": "2.0.0",
      "model_name": "HTMLStyleModel",
      "state": {
       "_model_module": "@jupyter-widgets/controls",
       "_model_module_version": "2.0.0",
       "_model_name": "HTMLStyleModel",
       "_view_count": null,
       "_view_module": "@jupyter-widgets/base",
       "_view_module_version": "2.0.0",
       "_view_name": "StyleView",
       "background": null,
       "description_width": "",
       "font_size": null,
       "text_color": null
      }
     },
     "cc8031db1bd442d1a481d859e4f8c3d1": {
      "model_module": "@jupyter-widgets/controls",
      "model_module_version": "2.0.0",
      "model_name": "ProgressStyleModel",
      "state": {
       "_model_module": "@jupyter-widgets/controls",
       "_model_module_version": "2.0.0",
       "_model_name": "ProgressStyleModel",
       "_view_count": null,
       "_view_module": "@jupyter-widgets/base",
       "_view_module_version": "2.0.0",
       "_view_name": "StyleView",
       "bar_color": null,
       "description_width": ""
      }
     },
     "cd112c61118142adadc1ffdc3d4fd7dc": {
      "model_module": "@jupyter-widgets/controls",
      "model_module_version": "2.0.0",
      "model_name": "ProgressStyleModel",
      "state": {
       "_model_module": "@jupyter-widgets/controls",
       "_model_module_version": "2.0.0",
       "_model_name": "ProgressStyleModel",
       "_view_count": null,
       "_view_module": "@jupyter-widgets/base",
       "_view_module_version": "2.0.0",
       "_view_name": "StyleView",
       "bar_color": null,
       "description_width": ""
      }
     },
     "d0069e861bec45358c5749eb8eb64139": {
      "model_module": "@jupyter-widgets/controls",
      "model_module_version": "2.0.0",
      "model_name": "HTMLModel",
      "state": {
       "_dom_classes": [],
       "_model_module": "@jupyter-widgets/controls",
       "_model_module_version": "2.0.0",
       "_model_name": "HTMLModel",
       "_view_count": null,
       "_view_module": "@jupyter-widgets/controls",
       "_view_module_version": "2.0.0",
       "_view_name": "HTMLView",
       "description": "",
       "description_allow_html": false,
       "layout": "IPY_MODEL_4bc5b7e763bd41efb3f51b7faf6b2553",
       "placeholder": "​",
       "style": "IPY_MODEL_372ec21d55b140a3b2f2485311a94b90",
       "tabbable": null,
       "tooltip": null,
       "value": " 256/256 [27:19&lt;00:00,  6.44s/it]"
      }
     },
     "d2044911f735442cbe3dc75e7249db0f": {
      "model_module": "@jupyter-widgets/base",
      "model_module_version": "2.0.0",
      "model_name": "LayoutModel",
      "state": {
       "_model_module": "@jupyter-widgets/base",
       "_model_module_version": "2.0.0",
       "_model_name": "LayoutModel",
       "_view_count": null,
       "_view_module": "@jupyter-widgets/base",
       "_view_module_version": "2.0.0",
       "_view_name": "LayoutView",
       "align_content": null,
       "align_items": null,
       "align_self": null,
       "border_bottom": null,
       "border_left": null,
       "border_right": null,
       "border_top": null,
       "bottom": null,
       "display": null,
       "flex": null,
       "flex_flow": null,
       "grid_area": null,
       "grid_auto_columns": null,
       "grid_auto_flow": null,
       "grid_auto_rows": null,
       "grid_column": null,
       "grid_gap": null,
       "grid_row": null,
       "grid_template_areas": null,
       "grid_template_columns": null,
       "grid_template_rows": null,
       "height": null,
       "justify_content": null,
       "justify_items": null,
       "left": null,
       "margin": null,
       "max_height": null,
       "max_width": null,
       "min_height": null,
       "min_width": null,
       "object_fit": null,
       "object_position": null,
       "order": null,
       "overflow": null,
       "padding": null,
       "right": null,
       "top": null,
       "visibility": null,
       "width": null
      }
     },
     "d22ead2504ee49e6bdda108317f45ac1": {
      "model_module": "@jupyter-widgets/base",
      "model_module_version": "2.0.0",
      "model_name": "LayoutModel",
      "state": {
       "_model_module": "@jupyter-widgets/base",
       "_model_module_version": "2.0.0",
       "_model_name": "LayoutModel",
       "_view_count": null,
       "_view_module": "@jupyter-widgets/base",
       "_view_module_version": "2.0.0",
       "_view_name": "LayoutView",
       "align_content": null,
       "align_items": null,
       "align_self": null,
       "border_bottom": null,
       "border_left": null,
       "border_right": null,
       "border_top": null,
       "bottom": null,
       "display": null,
       "flex": null,
       "flex_flow": null,
       "grid_area": null,
       "grid_auto_columns": null,
       "grid_auto_flow": null,
       "grid_auto_rows": null,
       "grid_column": null,
       "grid_gap": null,
       "grid_row": null,
       "grid_template_areas": null,
       "grid_template_columns": null,
       "grid_template_rows": null,
       "height": null,
       "justify_content": null,
       "justify_items": null,
       "left": null,
       "margin": null,
       "max_height": null,
       "max_width": null,
       "min_height": null,
       "min_width": null,
       "object_fit": null,
       "object_position": null,
       "order": null,
       "overflow": null,
       "padding": null,
       "right": null,
       "top": null,
       "visibility": null,
       "width": null
      }
     },
     "d69c4d7c0ffd4195b09a98ea697a7a77": {
      "model_module": "@jupyter-widgets/base",
      "model_module_version": "2.0.0",
      "model_name": "LayoutModel",
      "state": {
       "_model_module": "@jupyter-widgets/base",
       "_model_module_version": "2.0.0",
       "_model_name": "LayoutModel",
       "_view_count": null,
       "_view_module": "@jupyter-widgets/base",
       "_view_module_version": "2.0.0",
       "_view_name": "LayoutView",
       "align_content": null,
       "align_items": null,
       "align_self": null,
       "border_bottom": null,
       "border_left": null,
       "border_right": null,
       "border_top": null,
       "bottom": null,
       "display": null,
       "flex": null,
       "flex_flow": null,
       "grid_area": null,
       "grid_auto_columns": null,
       "grid_auto_flow": null,
       "grid_auto_rows": null,
       "grid_column": null,
       "grid_gap": null,
       "grid_row": null,
       "grid_template_areas": null,
       "grid_template_columns": null,
       "grid_template_rows": null,
       "height": null,
       "justify_content": null,
       "justify_items": null,
       "left": null,
       "margin": null,
       "max_height": null,
       "max_width": null,
       "min_height": null,
       "min_width": null,
       "object_fit": null,
       "object_position": null,
       "order": null,
       "overflow": null,
       "padding": null,
       "right": null,
       "top": null,
       "visibility": null,
       "width": null
      }
     },
     "e36bde94baa0470b804d73c4cc83a922": {
      "model_module": "@jupyter-widgets/controls",
      "model_module_version": "2.0.0",
      "model_name": "HTMLStyleModel",
      "state": {
       "_model_module": "@jupyter-widgets/controls",
       "_model_module_version": "2.0.0",
       "_model_name": "HTMLStyleModel",
       "_view_count": null,
       "_view_module": "@jupyter-widgets/base",
       "_view_module_version": "2.0.0",
       "_view_name": "StyleView",
       "background": null,
       "description_width": "",
       "font_size": null,
       "text_color": null
      }
     },
     "f16c0a10ddef42d883635f671bda9653": {
      "model_module": "@jupyter-widgets/controls",
      "model_module_version": "2.0.0",
      "model_name": "HTMLStyleModel",
      "state": {
       "_model_module": "@jupyter-widgets/controls",
       "_model_module_version": "2.0.0",
       "_model_name": "HTMLStyleModel",
       "_view_count": null,
       "_view_module": "@jupyter-widgets/base",
       "_view_module_version": "2.0.0",
       "_view_name": "StyleView",
       "background": null,
       "description_width": "",
       "font_size": null,
       "text_color": null
      }
     },
     "fbcf6af361ec40ffba104e09c0d7eb15": {
      "model_module": "@jupyter-widgets/controls",
      "model_module_version": "2.0.0",
      "model_name": "HTMLModel",
      "state": {
       "_dom_classes": [],
       "_model_module": "@jupyter-widgets/controls",
       "_model_module_version": "2.0.0",
       "_model_name": "HTMLModel",
       "_view_count": null,
       "_view_module": "@jupyter-widgets/controls",
       "_view_module_version": "2.0.0",
       "_view_name": "HTMLView",
       "description": "",
       "description_allow_html": false,
       "layout": "IPY_MODEL_9650fef1b09348cb8cff5a63a56850b7",
       "placeholder": "​",
       "style": "IPY_MODEL_7279d281d2c34657bff252e8df63f4c5",
       "tabbable": null,
       "tooltip": null,
       "value": "100%"
      }
     },
     "fd94337716a24629bbbf38eb2d910e17": {
      "model_module": "@jupyter-widgets/base",
      "model_module_version": "2.0.0",
      "model_name": "LayoutModel",
      "state": {
       "_model_module": "@jupyter-widgets/base",
       "_model_module_version": "2.0.0",
       "_model_name": "LayoutModel",
       "_view_count": null,
       "_view_module": "@jupyter-widgets/base",
       "_view_module_version": "2.0.0",
       "_view_name": "LayoutView",
       "align_content": null,
       "align_items": null,
       "align_self": null,
       "border_bottom": null,
       "border_left": null,
       "border_right": null,
       "border_top": null,
       "bottom": null,
       "display": null,
       "flex": null,
       "flex_flow": null,
       "grid_area": null,
       "grid_auto_columns": null,
       "grid_auto_flow": null,
       "grid_auto_rows": null,
       "grid_column": null,
       "grid_gap": null,
       "grid_row": null,
       "grid_template_areas": null,
       "grid_template_columns": null,
       "grid_template_rows": null,
       "height": null,
       "justify_content": null,
       "justify_items": null,
       "left": null,
       "margin": null,
       "max_height": null,
       "max_width": null,
       "min_height": null,
       "min_width": null,
       "object_fit": null,
       "object_position": null,
       "order": null,
       "overflow": null,
       "padding": null,
       "right": null,
       "top": null,
       "visibility": null,
       "width": null
      }
     },
     "ff03739d18014246817c21e4dbf0a84a": {
      "model_module": "@jupyter-widgets/base",
      "model_module_version": "2.0.0",
      "model_name": "LayoutModel",
      "state": {
       "_model_module": "@jupyter-widgets/base",
       "_model_module_version": "2.0.0",
       "_model_name": "LayoutModel",
       "_view_count": null,
       "_view_module": "@jupyter-widgets/base",
       "_view_module_version": "2.0.0",
       "_view_name": "LayoutView",
       "align_content": null,
       "align_items": null,
       "align_self": null,
       "border_bottom": null,
       "border_left": null,
       "border_right": null,
       "border_top": null,
       "bottom": null,
       "display": null,
       "flex": null,
       "flex_flow": null,
       "grid_area": null,
       "grid_auto_columns": null,
       "grid_auto_flow": null,
       "grid_auto_rows": null,
       "grid_column": null,
       "grid_gap": null,
       "grid_row": null,
       "grid_template_areas": null,
       "grid_template_columns": null,
       "grid_template_rows": null,
       "height": null,
       "justify_content": null,
       "justify_items": null,
       "left": null,
       "margin": null,
       "max_height": null,
       "max_width": null,
       "min_height": null,
       "min_width": null,
       "object_fit": null,
       "object_position": null,
       "order": null,
       "overflow": null,
       "padding": null,
       "right": null,
       "top": null,
       "visibility": null,
       "width": null
      }
     }
    },
    "version_major": 2,
    "version_minor": 0
   }
  }
 },
 "nbformat": 4,
 "nbformat_minor": 4
}
