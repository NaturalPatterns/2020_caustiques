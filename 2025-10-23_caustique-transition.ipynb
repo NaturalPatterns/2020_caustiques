{
 "cells": [
  {
   "cell_type": "markdown",
   "metadata": {},
   "source": [
    "# Caustiques"
   ]
  },
  {
   "cell_type": "code",
   "execution_count": 1,
   "metadata": {
    "execution": {
     "iopub.execute_input": "2024-10-16T09:43:02.983382Z",
     "iopub.status.busy": "2024-10-16T09:43:02.983225Z",
     "iopub.status.idle": "2024-10-16T09:43:02.985631Z",
     "shell.execute_reply": "2024-10-16T09:43:02.985393Z"
    }
   },
   "outputs": [
    {
     "name": "stdout",
     "output_type": "stream",
     "text": [
      "Note: you may need to restart the kernel to use updated packages.\n"
     ]
    }
   ],
   "source": [
    "%pip install -q -U -r requirements.txt"
   ]
  },
  {
   "cell_type": "code",
   "execution_count": 2,
   "metadata": {},
   "outputs": [
    {
     "data": {
      "text/plain": [
       "'3.10.7'"
      ]
     },
     "execution_count": 2,
     "metadata": {},
     "output_type": "execute_result"
    }
   ],
   "source": [
    "import numpy as np\n",
    "import cv2\n",
    "from tqdm.auto import trange, tqdm\n",
    "import matplotlib\n",
    "# import matplotlib.gridspec as gs\n",
    "from matplotlib.gridspec import SubplotParams\n",
    "import numpy as np\n",
    "matplotlib.__version__"
   ]
  },
  {
   "cell_type": "code",
   "execution_count": 3,
   "metadata": {},
   "outputs": [
    {
     "data": {
      "text/plain": [
       "'2025-10-23_caustique-transition'"
      ]
     },
     "execution_count": 3,
     "metadata": {},
     "output_type": "execute_result"
    }
   ],
   "source": [
    "import os \n",
    "from IPython import get_ipython\n",
    "ip = get_ipython()\n",
    "# print(ip.user_ns)\n",
    "study_name = None\n",
    "if '__vsc_ipynb_file__' in ip.user_ns:\n",
    "    # https://github.com/msm1089/ipynbname/issues/17\n",
    "    study_name = os.path.split(os.path.basename(ip.user_ns['__vsc_ipynb_file__']))[1]\n",
    "elif '__file__' in ip.user_ns:\n",
    "    study_name = ip.user_ns['__file__']\n",
    "else:\n",
    "    import ipynbname\n",
    "    study_name = ipynbname.name()\n",
    "study_name = study_name.replace('.ipynb', '')\n",
    "study_name"
   ]
  },
  {
   "cell_type": "code",
   "execution_count": 4,
   "metadata": {},
   "outputs": [],
   "source": [
    "# the higher PRECISION, the bigger the file\n",
    "PRECISION = 4  # debugging\n",
    "PRECISION = 8 # low quality\n",
    "PRECISION = 10 # medium quality\n",
    "# PRECISION = 12 # good quality\n",
    "# PRECISION = 14 # very good quality\n",
    "# PRECISION = 15 # for production\n",
    "\n",
    "# https://docs.python.org/3/library/dataclasses.html?highlight=dataclass#module-dataclasses\n",
    "from dataclasses import dataclass\n",
    "\n",
    "@dataclass\n",
    "class init:\n",
    "    figpath: str = study_name # Folder to store images\n",
    "    phi: float = 1.61803 # beauty is gold\n",
    "    tag: str = 'caustique' # Tag\n",
    "    ext: str = 'mp4' # Extension for output\n",
    "    nx: int = 1*2**PRECISION # number of pixels (vertical)\n",
    "    ny: int = 1*2**PRECISION # number of pixels (horizontal)\n",
    "    nframe: int = 24*4 # number of frames for each chunk\n",
    "    bin_dens: int = 1 # relative bin density\n",
    "    bin_spectrum: int = 4 # bin spacing in spectrum (lower is more CPU)\n",
    "    seed: int = 2025 # seed for RNG\n",
    "    H: float = 10.0 # depth of the pool\n",
    "    variation: float = .20 # variation of diffraction index: http://www.philiplaven.com/p20.html 1.40 at 400 nm and 1.37 at 700nm makes a 2% variation\n",
    "    scale: float = .618*nx # period in pixels\n",
    "    B_sf: float = 1.61 # bandwidth in sf\n",
    "    V_Y: float = 0.3 # horizontal speed\n",
    "    V_X: float = 0.3 # vertical speed\n",
    "    B_V: float = 1.0 # bandwidth in speed\n",
    "    zmin: float = 1.0 # relative minimal value of wave height at the top to generate a gradient (set to 1. to have no gradient)\n",
    "    # theta: float = 2*np.pi*(2-1.61803) # angle with the horizontal\n",
    "    theta: float = np.pi/2 # angle with the horizontal\n",
    "    B_theta: float = 60*np.pi/180 # bandwidth in theta\n",
    "    min_lum: float = .01 # global diffusion level for the rendering giving the pedestal value\n",
    "    n_bits: int = 8 # bits to save images\n",
    "    gamma: float = 4. # Gamma exponant to convert luminosity to luminance\n",
    "    fps: float = 24 # frames per second\n",
    "    do_cache: bool = True # Cache intermediate output.\n",
    "    verbose: bool = False # Displays more verbose output.\n",
    "    do_display: bool = False # Displays images in notebook.\n",
    "    do_recompute: bool = False # Restart each computation    "
   ]
  },
  {
   "cell_type": "code",
   "execution_count": 5,
   "metadata": {
    "execution": {
     "iopub.execute_input": "2024-10-16T09:43:06.036410Z",
     "iopub.status.busy": "2024-10-16T09:43:06.035954Z",
     "iopub.status.idle": "2024-10-16T09:43:06.041319Z",
     "shell.execute_reply": "2024-10-16T09:43:06.039924Z"
    }
   },
   "outputs": [
    {
     "name": "stdout",
     "output_type": "stream",
     "text": [
      "Saving our simulations in=2025-10-23_caustique-transition\n"
     ]
    }
   ],
   "source": [
    "opt = init()\n",
    "print(f'Saving our simulations in={opt.figpath}')"
   ]
  },
  {
   "cell_type": "code",
   "execution_count": 6,
   "metadata": {
    "execution": {
     "iopub.execute_input": "2024-10-16T09:43:06.045705Z",
     "iopub.status.busy": "2024-10-16T09:43:06.045222Z",
     "iopub.status.idle": "2024-10-16T09:43:06.051391Z",
     "shell.execute_reply": "2024-10-16T09:43:06.050527Z"
    }
   },
   "outputs": [],
   "source": [
    "# if opt.nframe==1: opt.ext = 'png'"
   ]
  },
  {
   "cell_type": "code",
   "execution_count": 7,
   "metadata": {
    "execution": {
     "iopub.execute_input": "2024-10-16T09:43:06.055776Z",
     "iopub.status.busy": "2024-10-16T09:43:06.055017Z",
     "iopub.status.idle": "2024-10-16T09:43:06.060659Z",
     "shell.execute_reply": "2024-10-16T09:43:06.059448Z"
    },
    "tags": []
   },
   "outputs": [
    {
     "name": "stdout",
     "output_type": "stream",
     "text": [
      "init(figpath='2025-10-23_caustique-transition',\n",
      "     phi=1.61803,\n",
      "     tag='caustique',\n",
      "     ext='mp4',\n",
      "     nx=1024,\n",
      "     ny=1024,\n",
      "     nframe=96,\n",
      "     bin_dens=1,\n",
      "     bin_spectrum=4,\n",
      "     seed=2025,\n",
      "     H=10.0,\n",
      "     variation=0.2,\n",
      "     scale=632.832,\n",
      "     B_sf=1.61,\n",
      "     V_Y=0.3,\n",
      "     V_X=0.3,\n",
      "     B_V=1.0,\n",
      "     zmin=1.0,\n",
      "     theta=1.5707963267948966,\n",
      "     B_theta=1.0471975511965976,\n",
      "     min_lum=0.01,\n",
      "     n_bits=8,\n",
      "     gamma=4.0,\n",
      "     fps=24,\n",
      "     do_cache=True,\n",
      "     verbose=False,\n",
      "     do_display=False,\n",
      "     do_recompute=False)\n"
     ]
    }
   ],
   "source": [
    "from pprint import pprint\n",
    "pprint(opt)"
   ]
  },
  {
   "cell_type": "code",
   "execution_count": 8,
   "metadata": {
    "execution": {
     "iopub.execute_input": "2024-10-16T09:43:06.064918Z",
     "iopub.status.busy": "2024-10-16T09:43:06.064509Z",
     "iopub.status.idle": "2024-10-16T09:43:06.069370Z",
     "shell.execute_reply": "2024-10-16T09:43:06.068172Z"
    }
   },
   "outputs": [
    {
     "name": "stdout",
     "output_type": "stream",
     "text": [
      "Screen size=100cm=39.370in, dpi=26dpi\n"
     ]
    }
   ],
   "source": [
    "screen_size_cm = 100 # cm\n",
    "CM_BY_INCH = 2.54 # this is a constant\n",
    "screen_size_in = screen_size_cm/CM_BY_INCH\n",
    "dpi = (opt.nx // opt.bin_dens) / screen_size_in\n",
    "print(f'Screen size={screen_size_cm}cm={screen_size_in:.3f}in, dpi={dpi:.0f}dpi')"
   ]
  },
  {
   "cell_type": "markdown",
   "metadata": {},
   "source": [
    "## utilitaires\n",
    "\n",
    "Transformation d'une matrice numpy en mp4:\n"
   ]
  },
  {
   "cell_type": "code",
   "execution_count": 9,
   "metadata": {
    "execution": {
     "iopub.execute_input": "2024-10-16T09:43:06.073052Z",
     "iopub.status.busy": "2024-10-16T09:43:06.072374Z",
     "iopub.status.idle": "2024-10-16T09:43:06.078119Z",
     "shell.execute_reply": "2024-10-16T09:43:06.077358Z"
    }
   },
   "outputs": [],
   "source": [
    "import imageio\n",
    "# def make_gif(gifname, fnames, fps, do_delete=True):\n",
    "#     with imageio.get_writer(gifname, mode='I', fps=fps) as writer:\n",
    "#         for fname in fnames:\n",
    "#             writer.append_data(imageio.imread(fname))\n",
    "\n",
    "#     from pygifsicle import optimize\n",
    "#     optimize(str(gifname))\n",
    "#     if do_delete: \n",
    "#         for fname in fnames: os.remove(fname)\n",
    "#     return gifname\n",
    "\n",
    "# https://moviepy.readthedocs.io/en/latest/getting_started/videoclips.html#imagesequenceclip\n",
    "# def make_mp4(mkvname, fnames, fps, do_delete=True):\n",
    "#     import moviepy.editor as mpy\n",
    "#     clip = mpy.ImageSequenceClip(fnames, fps=fps)\n",
    "#     clip.write_videofile(mkvname, fps=fps, codec='libx264', verbose=False, logger=None)\n",
    "#     if do_delete: \n",
    "#         for fname in fnames: os.remove(fname)\n",
    "#     return mkvname \n",
    "\n",
    "# from tqdm import tqdm\n",
    "# from tqdm.notebook import tqdm\n",
    "# def make_mp4(moviename, fnames, fps):\n",
    "#     \"\"\"Create an mkv video from a sequence of image files.\n",
    "\n",
    "#     Args:\n",
    "#         moviename (str): Path to the output video file.\n",
    "#         fnames (list): List of paths to input image files.\n",
    "#         fps (int): Frames per second for the output video.\n",
    "\n",
    "#     Returns:\n",
    "#         str: Path to the created video file.\n",
    "#     \"\"\"\n",
    "#     ffmpeg_params = [\n",
    "#         \"-c:v\", \"ffv1\",                # codec (ffv1 = lossless intra‑frame)\n",
    "#         \"-level\", \"3\",                # highest ffv1 quality level\n",
    "#         \"-pix_fmt\", \"rgb48le\",          # 16‑bit pixel format     pix_fmt: str = \"gray16le\",   # 16‑bit grayscale, change to \"rgb48le\" for color\n",
    "#         \"-preset\", \"veryslow\",        # optional – best compression, slower\n",
    "#     ]\n",
    "#     with imageio.v2.get_writer(\n",
    "#         moviename,\n",
    "#         fps=fps,\n",
    "#         macro_block_size=1,\n",
    "#         ffmpeg_log_level=\"error\",   # keep the console tidy\n",
    "#         # ffmpeg_params=ffmpeg_params,\n",
    "#     ) as writer:    \n",
    "#         for fname in tqdm(fnames, desc=\"Creating video\"):\n",
    "#             print('>>>', fname)\n",
    "#             frame = imageio.v2.imread(fname, pilmode='I;16')\n",
    "#             print('bip')\n",
    "#             frame = frame.astype(np.uint16)\n",
    "#             writer.append_data(frame)\n",
    "#     return moviename\n",
    "\n",
    "def make_mp4(moviename, frames, fps):\n",
    "    with imageio.v2.get_writer(\n",
    "        moviename,\n",
    "        format='FFmpeg', \n",
    "        mode='I',\n",
    "        # format='av', \n",
    "        fps=fps,\n",
    "        # pixelformat=pix_fmt\n",
    "        # codec='ffv1',  # Use FFV1 for lossless compression\n",
    "        ) as writer:\n",
    "        for i_frame in range(frames.shape[-1]):\n",
    "            # Append the frame to the video writer\n",
    "            writer.append_data(frames[..., i_frame])\n",
    "    return moviename\n",
    "\n",
    "# import imageio.v3 as iio\n",
    "# def make_mp4(mkvname, frames, fps):\n",
    "#     pix_fmt = 'rgb48le' if frames.ndim==3 else 'gray16le'\n",
    "#     iio.imwrite(\n",
    "#         mkvname,\n",
    "#         np.moveaxis(frames, -1, 0),\n",
    "#         plugin='pyav',\n",
    "#         codec='ffv1',\n",
    "#         fps=fps,\n",
    "#         in_pixel_format=pix_fmt,\n",
    "#         out_pixel_format=pix_fmt\n",
    "#     )\n",
    "#     return mkvname\n",
    "\n"
   ]
  },
  {
   "cell_type": "code",
   "execution_count": 10,
   "metadata": {},
   "outputs": [],
   "source": [
    "# make_mp4(\"test_video.mp4\", np.random.randint(0, 2**8-1, (480, 640, 30), dtype=np.uint8), fps=24)"
   ]
  },
  {
   "cell_type": "markdown",
   "metadata": {},
   "source": [
    "\n",
    "Utilities to compute the spectrum of the blue sky and convert them later to RGB values (check out https://laurentperrinet.github.io/sciblog/posts/2020-07-04-colors-of-the-sky.html for details)"
   ]
  },
  {
   "cell_type": "code",
   "execution_count": 11,
   "metadata": {
    "execution": {
     "iopub.execute_input": "2024-10-16T09:43:06.082021Z",
     "iopub.status.busy": "2024-10-16T09:43:06.081270Z",
     "iopub.status.idle": "2024-10-16T09:43:06.089061Z",
     "shell.execute_reply": "2024-10-16T09:43:06.088191Z"
    }
   },
   "outputs": [],
   "source": [
    "from lambda2color import Lambda2color, xyz_from_xy\n",
    "\n",
    "# borrowed from https://github.com/gummiks/gummiks.github.io/blob/master/scripts/astro/planck.py\n",
    "def planck(wav, T):\n",
    "    import scipy.constants as const\n",
    "    c = const.c # c = 3.0e+8\n",
    "    h = const.h # h = 6.626e-34\n",
    "    k = const.k # k = 1.38e-23\n",
    "    a = 2.0*h*c**2\n",
    "    b = h*c/(wav*k*T)\n",
    "    intensity = a / ( (wav**5) * (np.exp(b) - 1.0) )\n",
    "    return intensity\n",
    "\n",
    "def scattering(wav, a=0.005, p=1.3, b=0.45):\n",
    "    \"\"\"\n",
    "    b is  proportionate  to  the  column  density  of  aerosols\n",
    "    along  the  path  of  sunlight,  from  outside  the  atmosphere\n",
    "    to  the  point  of  observation\n",
    "    \n",
    "    see https://laurentperrinet.github.io/sciblog/posts/2020-07-04-colors-of-the-sky.html for more details\n",
    "\n",
    "    \"\"\"\n",
    "    # converting wav in µm:\n",
    "    intensity = np.exp(-a/((wav/1e-6)**4)) # Rayleigh extinction by nitrogen\n",
    "    intensity *= (wav/1e-6)**-4\n",
    "    intensity *= np.exp(-b/((wav/1e-6)**p)) # Aerosols\n",
    "    return intensity"
   ]
  },
  {
   "cell_type": "markdown",
   "metadata": {},
   "source": [
    "## calcul des caustiques\n"
   ]
  },
  {
   "cell_type": "code",
   "execution_count": 12,
   "metadata": {
    "execution": {
     "iopub.execute_input": "2024-10-16T09:43:06.094058Z",
     "iopub.status.busy": "2024-10-16T09:43:06.093441Z",
     "iopub.status.idle": "2024-10-16T09:43:06.297325Z",
     "shell.execute_reply": "2024-10-16T09:43:06.297072Z"
    }
   },
   "outputs": [
    {
     "name": "stderr",
     "output_type": "stream",
     "text": [
      "<>:146: SyntaxWarning: invalid escape sequence '\\>'\n",
      "<>:146: SyntaxWarning: invalid escape sequence '\\>'\n",
      "/var/folders/3p/m0g52j9j69z3gj8ktpgg1dm00000gn/T/ipykernel_66395/2257761231.py:146: SyntaxWarning: invalid escape sequence '\\>'\n",
      "  html = HTML(f'<video {opts} src=\"{output_filename}\" type=\"video/{self.opt.ext}\" width={width}\\>')\n"
     ]
    }
   ],
   "source": [
    "import matplotlib\n",
    "subplotpars = SubplotParams(left=0., right=1., bottom=0., top=1., wspace=0., hspace=0.)\n",
    "import matplotlib.pyplot as plt\n",
    "import shutil\n",
    "import hashlib\n",
    "import MotionClouds as mc\n",
    "\n",
    "class Caustique:\n",
    "    def __init__(self, opt):\n",
    "        \"\"\"\n",
    "        Image coordinates follow 'ij' indexing, that is,\n",
    "        * their origin at the top left,\n",
    "        * the X axis is vertical and goes \"down\",\n",
    "        * the Y axis is horizontal and goes \"right\".\n",
    "\n",
    "        \"\"\"\n",
    "        self.mc = mc\n",
    "        self.ratio = opt.ny/opt.nx # ratio between height and width (>1 for portrait, <1 for landscape)\n",
    "        X = np.linspace(0, 1, opt.nx, endpoint=False) # vertical\n",
    "        Y = np.linspace(0, self.ratio, opt.ny, endpoint=False) # horizontal\n",
    "        self.xv, self.yv = np.meshgrid(X, Y, indexing='ij')\n",
    "        self.opt = opt\n",
    "        # https://stackoverflow.com/questions/16878315/what-is-the-right-way-to-treat-python-argparse-namespace-as-a-dictionary\n",
    "        self.d = vars(opt)\n",
    "        os.makedirs(self.opt.figpath, exist_ok=True)\n",
    "        self.cachepath = os.path.join('/tmp', self.opt.figpath)\n",
    "        if opt.verbose: print(f'{self.cachepath=}')\n",
    "        os.makedirs(self.cachepath, exist_ok=True)\n",
    "\n",
    "        \n",
    "        illuminant = xyz_from_xy(0.3127, 0.3291) # a standard white\n",
    "        # illuminant = xyz_from_xy(0.268375 0.283377) # sky\n",
    "        # illuminant = xyz_from_xy(0.325998, 0.335354) # sun\n",
    "\n",
    "        # color conversion class\n",
    "        self.cs_srgb = Lambda2color(red=xyz_from_xy(0.64, 0.33),\n",
    "                                    green=xyz_from_xy(0.30, 0.60),\n",
    "                                    blue=xyz_from_xy(0.15, 0.06),\n",
    "                                    white=illuminant)\n",
    "        \n",
    "        self.wavelengths = self.cs_srgb.cmf[:, 0]*1e-9\n",
    "        self.N_wavelengths = len(self.wavelengths)\n",
    "        # multiply by the spectrum of the sky\n",
    "        intensity5800 = planck(self.wavelengths, 5800.)\n",
    "        scatter = scattering(self.wavelengths)\n",
    "        self.spectrum_sky = intensity5800 * scatter\n",
    "        self.spectrum_sky /= self.spectrum_sky.max()\n",
    "\n",
    "    def wave(self, do_cache=None):\n",
    "        if do_cache is None: do_cache = self.opt.do_cache\n",
    "        if do_cache: filename = f'{self.cachepath}/{self.opt.tag}_wave.npy'\n",
    "        if do_cache and os.path.isfile(filename) and not(self.opt.do_recompute):\n",
    "                z = np.load(filename)\n",
    "        else:\n",
    "            # A simplistic model of a wave using https://github.com/NeuralEnsemble/MotionClouds\n",
    "            fx, fy, ft = mc.get_grids(self.opt.nx, self.opt.ny, self.opt.nframe)\n",
    "            env = mc.envelope_gabor(fx, fy, ft, V_X=self.opt.V_Y, V_Y=self.opt.V_X, B_V=self.opt.B_V,\n",
    "                                    sf_0=1./self.opt.scale, B_sf=self.opt.B_sf/self.opt.scale,\n",
    "                                    theta=self.opt.theta, B_theta=self.opt.B_theta)\n",
    "            z = mc.random_cloud(env, seed=self.opt.seed)\n",
    "            if np.max(np.abs(z))>0: z = mc.rectif(z)\n",
    "            z *= np.linspace(self.opt.zmin, 1., self.opt.nx)[:, None, None] # [optional] vertical gradient\n",
    "            if do_cache: np.save(filename, z)\n",
    "        return z\n",
    "\n",
    "    def transform(self, z_, modulation=1., edge_order=2):\n",
    "        xv, yv = self.xv.copy(), self.yv.copy()\n",
    "\n",
    "        # https://numpy.org/doc/stable/reference/generated/numpy.gradient.html\n",
    "        dzdx, dzdy = np.gradient(z_, edge_order=edge_order)\n",
    "\n",
    "        xv = xv + modulation * self.opt.H * dzdx\n",
    "        yv = yv + modulation * self.opt.H * dzdy\n",
    "\n",
    "        xv = np.mod(xv, 1)\n",
    "        yv = np.mod(yv, self.ratio)\n",
    "\n",
    "        return xv, yv\n",
    "\n",
    "    def get_filename(self):\n",
    "        # output filename        \n",
    "        md5 = hashlib.sha224((self.opt.figpath + self.opt.tag).encode()).hexdigest()[:8] # an unique identifier for future tagging\n",
    "        output_filename = f'{self.opt.figpath}/{self.opt.tag}_{md5}.{self.opt.ext}'\n",
    "        return output_filename\n",
    "   \n",
    "    def plot(self, z, image=None, do_color=True, dpi=dpi):\n",
    "        \"\"\"\n",
    "        \n",
    "        dpi: output resolution - sets the figure size as we ensure there is a one to one correspondance between pixels in the data and the output image\n",
    "        \"\"\"\n",
    "\n",
    "        output_filename = self.get_filename()\n",
    "        if os.path.isfile(output_filename) and not(self.opt.do_recompute):\n",
    "            return output_filename\n",
    "        else:\n",
    "            # 1/ do the raytracing of image through z:\n",
    "            binsx, binsy = self.opt.nx//self.opt.bin_dens, self.opt.ny//self.opt.bin_dens\n",
    "            _, _, nframe = z.shape\n",
    "\n",
    "            # if not specified, use a full image with full contrast (from 0=black to 1=white)\n",
    "            if image is None: image = np.ones((self.opt.nx, self.opt.ny))\n",
    "\n",
    "            #image_rgb = self.cs_srgb.spec_to_rgb(hist)\n",
    "            image_rgb = np.zeros((self.opt.nx//self.opt.bin_dens,  self.opt.ny//self.opt.bin_dens, 3, nframe))\n",
    "            for i_frame in trange(nframe, desc='Scanning time', position=0, leave=True):\n",
    "                for i_wavelength in trange(self.opt.bin_spectrum//2, self.N_wavelengths, self.opt.bin_spectrum, desc='Scanning spectrum', position=1, leave=False):\n",
    "                    modulation = 1. + self.opt.variation/2 - self.opt.variation*i_wavelength/self.N_wavelengths\n",
    "                    xv, yv = self.transform(z[:, :, i_frame], modulation=modulation)\n",
    "                    hist_, _, _ = np.histogram2d(xv.ravel(), yv.ravel(),\n",
    "                                                    bins=[binsx, binsy],\n",
    "                                                    weights=image.ravel(),\n",
    "                                                    range=[[0, 1], [0, self.ratio]],\n",
    "                                                    density=True)\n",
    "\n",
    "                    # we convert the spectrum into a color\n",
    "                    spec = np.zeros((self.N_wavelengths))\n",
    "                    spec[i_wavelength] = 1\n",
    "                    rgb = self.cs_srgb.spec_to_rgb(spec)\n",
    "                    rgb *= self.spectrum_sky[i_wavelength]\n",
    "                    # we add the color to the image\n",
    "                    image_rgb[:, :, :, i_frame] += hist_[:, :, None] * rgb[None, None, :]\n",
    "\n",
    "            image_rgb -= image_rgb.min() # HACK\n",
    "            image_rgb /= image_rgb.max()\n",
    "\n",
    "            image_rgb = image_rgb ** (1/self.opt.gamma)\n",
    "\n",
    "            # 2/ transform light into image:\n",
    "            np_dtype = np.uint8 if self.opt.n_bits==8 else np.uint16\n",
    "            output_filename = make_mp4(output_filename, (image_rgb*(2**self.opt.n_bits-1)).astype(np_dtype), fps=self.opt.fps)\n",
    "            return output_filename\n",
    "\n",
    "    def show(self, output_filename, width=1024):\n",
    "        from IPython.display import HTML, Image, display\n",
    "        if self.opt.nframe==1:\n",
    "            # display(Image(url=output_filename.replace(self.opt.ext, 'png'), width=width))\n",
    "            display(Image(url=output_filename, width=width))\n",
    "        else:\n",
    "            if self.opt.ext == 'gif':\n",
    "                return display(Image(url=output_filename, width=width))\n",
    "            else:\n",
    "                #import moviepy.editor as mpy\n",
    "                #return mpy.ipython_display(output_filename, width=width)\n",
    "                # https://github.com/NeuralEnsemble/MotionClouds/blob/master/MotionClouds/MotionClouds.py#L858\n",
    "                opts = ' loop=\"1\" autoplay=\"1\" controls '\n",
    "                html = HTML(f'<video {opts} src=\"{output_filename}\" type=\"video/{self.opt.ext}\" width={width}\\>')\n",
    "                html.reload()\n",
    "                return display(html)"
   ]
  },
  {
   "cell_type": "markdown",
   "metadata": {},
   "source": [
    "# une simple caustique\n",
    "## génération de la caustique\n"
   ]
  },
  {
   "cell_type": "code",
   "execution_count": 13,
   "metadata": {
    "execution": {
     "iopub.execute_input": "2024-10-16T09:43:06.298834Z",
     "iopub.status.busy": "2024-10-16T09:43:06.298734Z",
     "iopub.status.idle": "2024-10-16T09:43:07.259909Z",
     "shell.execute_reply": "2024-10-16T09:43:07.259495Z"
    }
   },
   "outputs": [],
   "source": [
    "c = Caustique(opt)"
   ]
  },
  {
   "cell_type": "code",
   "execution_count": 14,
   "metadata": {},
   "outputs": [
    {
     "data": {
      "text/plain": [
       "((1024, 1024, 96),\n",
       " np.float64(0.026722913402910775),\n",
       " np.float64(0.49999999999999806),\n",
       " np.float64(1.0))"
      ]
     },
     "execution_count": 14,
     "metadata": {},
     "output_type": "execute_result"
    }
   ],
   "source": [
    "z = c.wave()\n",
    "z.shape, z.min(), z.mean(), z.max()"
   ]
  },
  {
   "cell_type": "code",
   "execution_count": 15,
   "metadata": {},
   "outputs": [
    {
     "name": "stdout",
     "output_type": "stream",
     "text": [
      "Variable         Type                   Data/Info\n",
      "-------------------------------------------------\n",
      "CM_BY_INCH       float                  2.54\n",
      "Caustique        type                   <class '__main__.Caustique'>\n",
      "Lambda2color     type                   <class 'lambda2color.Lambda2color'>\n",
      "PRECISION        int                    10\n",
      "SubplotParams    type                   <class 'matplotlib.gridspec.SubplotParams'>\n",
      "c                Caustique              <__main__.Caustique object at 0x129956120>\n",
      "cv2              module                 <module 'cv2' from '/User<...>ackages/cv2/__init__.py'>\n",
      "dataclass        function               <function dataclass at 0x10895a840>\n",
      "dpi              float                  26.0096\n",
      "get_ipython      function               <function get_ipython at 0x1093200e0>\n",
      "hashlib          module                 <module 'hashlib' from '/<...>b/python3.13/hashlib.py'>\n",
      "imageio          module                 <module 'imageio' from '/<...>ges/imageio/__init__.py'>\n",
      "init             type                   <class '__main__.init'>\n",
      "ip               ZMQInteractiveShell    <ipykernel.zmqshell.ZMQIn<...>ll object at 0x10a813380>\n",
      "make_mp4         function               <function make_mp4 at 0x10ab73880>\n",
      "matplotlib       module                 <module 'matplotlib' from<...>/matplotlib/__init__.py'>\n",
      "mc               module                 <module 'MotionClouds' fr<...>ackages/MotionClouds.py'>\n",
      "np               module                 <module 'numpy' from '/Us<...>kages/numpy/__init__.py'>\n",
      "opt              init                   init(figpath='2025-10-23_<...>alse, do_recompute=False)\n",
      "os               module                 <module 'os' (frozen)>\n",
      "planck           function               <function planck at 0x1293919e0>\n",
      "plt              module                 <module 'matplotlib.pyplo<...>es/matplotlib/pyplot.py'>\n",
      "pprint           function               <function pprint at 0x108958c20>\n",
      "scattering       function               <function scattering at 0x129391940>\n",
      "screen_size_cm   int                    100\n",
      "screen_size_in   float                  39.37007874015748\n",
      "shutil           module                 <module 'shutil' from '/u<...>ib/python3.13/shutil.py'>\n",
      "study_name       str                    2025-10-23_caustique-transition\n",
      "subplotpars      SubplotParams          <matplotlib.gridspec.Subp<...>ms object at 0x1292fe270>\n",
      "tqdm             type                   <class 'tqdm.auto.tqdm'>\n",
      "trange           function               <function trange at 0x1266085e0>\n",
      "xyz_from_xy      function               <function xyz_from_xy at 0x129391a80>\n",
      "z                ndarray                1024x1024x96: 100663296 elems, type `float64`, 805306368 bytes (768.0 Mb)\n"
     ]
    }
   ],
   "source": [
    "%whos"
   ]
  },
  {
   "cell_type": "code",
   "execution_count": 16,
   "metadata": {
    "execution": {
     "iopub.execute_input": "2024-10-16T09:43:07.265091Z",
     "iopub.status.busy": "2024-10-16T09:43:07.264969Z",
     "iopub.status.idle": "2024-10-16T09:43:27.244503Z",
     "shell.execute_reply": "2024-10-16T09:43:27.243869Z"
    }
   },
   "outputs": [
    {
     "data": {
      "image/png": "[encoded data removed]",
      "text/plain": [
       "<Figure size 3937.01x3937.01 with 1 Axes>"
      ]
     },
     "metadata": {},
     "output_type": "display_data"
    }
   ],
   "source": [
    "def generate_image(nx, ny, radius_in=.15, radius_out=.4):\n",
    "    Y, X = np.meshgrid(np.linspace(-1, 1, ny, endpoint=True), np.linspace(-1, 1, nx, endpoint=True))\n",
    "    image = (X**2 > radius_in**2)  # the horizontal band outside radius_in\n",
    "    image *= (Y**2 < radius_out**2) # the vertical band inside radius_out\n",
    "    image *= (X**2 < radius_out**2)  # the horizontal band inside radius_out\n",
    "    return image*1.\n",
    "\n",
    "image = generate_image(nx=c.opt.nx, ny=c.opt.ny)\n",
    "\n",
    "fig, ax = plt.subplots(figsize=(opt.ny/opt.bin_dens/dpi, opt.nx/opt.bin_dens/dpi), subplotpars=subplotpars)\n",
    "\n",
    "ax.imshow(image, cmap='gray');"
   ]
  },
  {
   "cell_type": "code",
   "execution_count": 17,
   "metadata": {},
   "outputs": [
    {
     "data": {
      "text/plain": [
       "(np.float64(0.0), np.float64(1.0), 1024, 1024)"
      ]
     },
     "execution_count": 17,
     "metadata": {},
     "output_type": "execute_result"
    }
   ],
   "source": [
    "image.min(), image.max(), c.opt.nx, c.opt.ny"
   ]
  },
  {
   "cell_type": "code",
   "execution_count": 18,
   "metadata": {
    "execution": {
     "iopub.execute_input": "2024-10-16T09:43:27.248311Z",
     "iopub.status.busy": "2024-10-16T09:43:27.248044Z",
     "iopub.status.idle": "2024-10-16T09:43:27.675906Z",
     "shell.execute_reply": "2024-10-16T09:43:27.675663Z"
    }
   },
   "outputs": [
    {
     "data": {
      "text/plain": [
       "'2025-10-23_caustique-transition/caustique_76706765.mp4'"
      ]
     },
     "execution_count": 18,
     "metadata": {},
     "output_type": "execute_result"
    }
   ],
   "source": [
    "c = Caustique(opt)\n",
    "output_filename = c.plot(z, image)\n",
    "output_filename"
   ]
  },
  {
   "cell_type": "code",
   "execution_count": 19,
   "metadata": {
    "execution": {
     "iopub.execute_input": "2024-10-16T09:43:27.677589Z",
     "iopub.status.busy": "2024-10-16T09:43:27.677500Z",
     "iopub.status.idle": "2024-10-16T09:43:27.679800Z",
     "shell.execute_reply": "2024-10-16T09:43:27.679552Z"
    }
   },
   "outputs": [
    {
     "data": {
      "text/html": [
       "<video  loop=\"1\" autoplay=\"1\" controls  src=\"2025-10-23_caustique-transition/caustique_76706765.mp4\" type=\"video/mp4\" width=1024\\>"
      ],
      "text/plain": [
       "<IPython.core.display.HTML object>"
      ]
     },
     "metadata": {},
     "output_type": "display_data"
    }
   ],
   "source": [
    "c.show(output_filename)"
   ]
  },
  {
   "cell_type": "markdown",
   "metadata": {
    "tags": []
   },
   "source": [
    "# exploration des paramètres\n"
   ]
  },
  {
   "cell_type": "code",
   "execution_count": 20,
   "metadata": {
    "execution": {
     "iopub.execute_input": "2024-10-16T09:43:27.681057Z",
     "iopub.status.busy": "2024-10-16T09:43:27.680980Z",
     "iopub.status.idle": "2024-10-16T09:43:27.682344Z",
     "shell.execute_reply": "2024-10-16T09:43:27.682143Z"
    }
   },
   "outputs": [],
   "source": [
    "N_scan = 5\n",
    "base = 2"
   ]
  },
  {
   "cell_type": "markdown",
   "metadata": {
    "tags": []
   },
   "source": [
    "## profondeur d'eau\n"
   ]
  },
  {
   "cell_type": "code",
   "execution_count": 21,
   "metadata": {
    "execution": {
     "iopub.execute_input": "2024-10-16T09:43:27.683507Z",
     "iopub.status.busy": "2024-10-16T09:43:27.683435Z",
     "iopub.status.idle": "2024-10-16T09:43:31.221238Z",
     "shell.execute_reply": "2024-10-16T09:43:31.220945Z"
    }
   },
   "outputs": [
    {
     "name": "stdout",
     "output_type": "stream",
     "text": [
      "H = 5.000 -> output_filename='2025-10-23_caustique-transition/caustique_H_5.000_a2f0f2f1.mp4' \n",
      "H = 7.071 -> output_filename='2025-10-23_caustique-transition/caustique_H_7.071_7467cdf3.mp4' \n",
      "H = 10.000 -> output_filename='2025-10-23_caustique-transition/caustique_H_10.000_21682ac6.mp4' \n",
      "H = 14.142 -> output_filename='2025-10-23_caustique-transition/caustique_H_14.142_634c0a96.mp4' \n",
      "H = 20.000 -> output_filename='2025-10-23_caustique-transition/caustique_H_20.000_022195d1.mp4' \n"
     ]
    }
   ],
   "source": [
    "for H_ in c.opt.H*np.logspace(-1, 1, N_scan, base=base):\n",
    "    opt = init()\n",
    "    c = Caustique(opt)\n",
    "    c.opt.H = H_\n",
    "    c.opt.tag = f'{c.opt.tag}_H_{H_:.3f}'\n",
    "    \n",
    "    output_filename = c.plot(z, image)\n",
    "    print(f'H = {H_:.3f} -> {output_filename=} ')\n",
    "    if c.opt.do_display: c.show(output_filename)"
   ]
  },
  {
   "cell_type": "markdown",
   "metadata": {
    "tags": []
   },
   "source": [
    "## variation de l'indice de réfraction\n"
   ]
  },
  {
   "cell_type": "code",
   "execution_count": 22,
   "metadata": {
    "execution": {
     "iopub.execute_input": "2024-10-16T09:43:31.223035Z",
     "iopub.status.busy": "2024-10-16T09:43:31.222910Z",
     "iopub.status.idle": "2024-10-16T09:43:33.903735Z",
     "shell.execute_reply": "2024-10-16T09:43:33.903270Z"
    }
   },
   "outputs": [],
   "source": [
    "# for variation_ in np.logspace(-2, 0, N_scan, base=10, endpoint=False):\n",
    "#     opt = init()\n",
    "#     c = Caustique(opt)\n",
    "#     c.opt.variation = variation_\n",
    "#     c.opt.tag = f'{opt.tag}_variation_{variation_:.3f}'\n",
    "\n",
    "#     output_filename = c.plot(z, image)\n",
    "#     print(f'variation = {variation_:.3f}  -> {output_filename=}')\n",
    "#     if c.opt.do_display: c.show(output_filename)"
   ]
  },
  {
   "cell_type": "markdown",
   "metadata": {},
   "source": [
    "## post-processing"
   ]
  },
  {
   "cell_type": "code",
   "execution_count": 23,
   "metadata": {
    "execution": {
     "iopub.execute_input": "2024-10-16T09:43:33.905319Z",
     "iopub.status.busy": "2024-10-16T09:43:33.905216Z",
     "iopub.status.idle": "2024-10-16T09:43:39.369292Z",
     "shell.execute_reply": "2024-10-16T09:43:39.369027Z"
    }
   },
   "outputs": [
    {
     "name": "stdout",
     "output_type": "stream",
     "text": [
      "======gamma======\n",
      "gamma=gamma(default)*0.500=2.000E+00 -> output_filename='2025-10-23_caustique-transition/caustique_gamma_modul_0.500_095a2817.mp4'\n",
      "gamma=gamma(default)*0.707=2.828E+00 -> output_filename='2025-10-23_caustique-transition/caustique_gamma_modul_0.707_45758daa.mp4'\n",
      "gamma=gamma(default)*1.000=4.000E+00 -> output_filename='2025-10-23_caustique-transition/caustique_gamma_modul_1.000_d2c09e6c.mp4'\n",
      "gamma=gamma(default)*1.414=5.657E+00 -> output_filename='2025-10-23_caustique-transition/caustique_gamma_modul_1.414_5a46b8df.mp4'\n",
      "gamma=gamma(default)*2.000=8.000E+00 -> output_filename='2025-10-23_caustique-transition/caustique_gamma_modul_2.000_39d47924.mp4'\n"
     ]
    }
   ],
   "source": [
    "# for variable in ['gamma', 'min_lum']: \n",
    "for variable in ['gamma']: \n",
    "    print(f'======{variable}======')\n",
    "    for modul in np.logspace(-1, 1, N_scan, base=base):\n",
    "        opt = init()\n",
    "        c = Caustique(opt)\n",
    "        c.d[variable] *= modul\n",
    "        c.opt.tag = f'{c.opt.tag}_{variable}_modul_{modul:.3f}'\n",
    "        \n",
    "        output_filename = c.plot(z, image)\n",
    "        print(f'{variable}={variable}(default)*{modul:.3f}={c.d[variable]:.3E} -> {output_filename=}')\n",
    "        if c.opt.do_display: c.show(output_filename)"
   ]
  },
  {
   "cell_type": "markdown",
   "metadata": {},
   "source": [
    "\n",
    "## paramètres de l'ouverture\n"
   ]
  },
  {
   "cell_type": "code",
   "execution_count": 24,
   "metadata": {
    "execution": {
     "iopub.execute_input": "2024-10-16T10:39:19.059775Z",
     "iopub.status.busy": "2024-10-16T10:39:19.059592Z",
     "iopub.status.idle": "2024-10-16T10:43:57.657865Z",
     "shell.execute_reply": "2024-10-16T10:43:57.655454Z"
    }
   },
   "outputs": [
    {
     "name": "stdout",
     "output_type": "stream",
     "text": [
      "radius_in=0.080 -> output_filename='2025-10-23_caustique-transition/caustique_image_radius_in=0.080_239e4794.mp4' \n",
      "radius_in=0.160 -> output_filename='2025-10-23_caustique-transition/caustique_image_radius_in=0.160_5d1aada4.mp4' \n",
      "radius_in=0.240 -> output_filename='2025-10-23_caustique-transition/caustique_image_radius_in=0.240_617da35a.mp4' \n",
      "radius_in=0.320 -> output_filename='2025-10-23_caustique-transition/caustique_image_radius_in=0.320_62640b56.mp4' \n",
      "radius_in=0.400 -> output_filename='2025-10-23_caustique-transition/caustique_image_radius_in=0.400_7dd41eb3.mp4' \n"
     ]
    }
   ],
   "source": [
    "for radius_in in np.linspace(0, .4, N_scan+1)[1:]:\n",
    "    opt = init()\n",
    "    c = Caustique(opt)\n",
    "\n",
    "    c.opt.tag = f'{c.opt.tag}_image_{radius_in=:.3f}'\n",
    "    image = generate_image(nx=c.opt.nx, ny=c.opt.ny, radius_in=radius_in)\n",
    "    output_filename = c.plot(z, image)\n",
    "    print(f'{radius_in=:.3f} -> {output_filename=} ')\n",
    "    if c.opt.do_display: c.show(output_filename)"
   ]
  },
  {
   "cell_type": "code",
   "execution_count": 25,
   "metadata": {},
   "outputs": [
    {
     "name": "stdout",
     "output_type": "stream",
     "text": [
      "radius_out=0.320 -> output_filename='2025-10-23_caustique-transition/caustique_image_radius_out=0.320_5ac8fdab.mp4' \n",
      "radius_out=0.490 -> output_filename='2025-10-23_caustique-transition/caustique_image_radius_out=0.490_cba510de.mp4' \n",
      "radius_out=0.660 -> output_filename='2025-10-23_caustique-transition/caustique_image_radius_out=0.660_8f552f8f.mp4' \n",
      "radius_out=0.830 -> output_filename='2025-10-23_caustique-transition/caustique_image_radius_out=0.830_7e4291be.mp4' \n",
      "radius_out=1.000 -> output_filename='2025-10-23_caustique-transition/caustique_image_radius_out=1.000_32dde4a8.mp4' \n"
     ]
    }
   ],
   "source": [
    "for radius_out in np.linspace(.15, 1, N_scan+1)[1:]:\n",
    "    opt = init()\n",
    "    c = Caustique(opt)\n",
    "\n",
    "    c.opt.tag = f'{c.opt.tag}_image_{radius_out=:.3f}'\n",
    "    image = generate_image(nx=c.opt.nx, ny=c.opt.ny, radius_out=radius_out)\n",
    "    output_filename = c.plot(z, image)\n",
    "    print(f'{radius_out=:.3f} -> {output_filename=} ')\n",
    "    if c.opt.do_display: c.show(output_filename)"
   ]
  },
  {
   "cell_type": "markdown",
   "metadata": {
    "tags": []
   },
   "source": [
    "## autres instances de l'onde\n"
   ]
  },
  {
   "cell_type": "code",
   "execution_count": 26,
   "metadata": {
    "execution": {
     "iopub.execute_input": "2024-10-16T09:43:39.371388Z",
     "iopub.status.busy": "2024-10-16T09:43:39.371265Z",
     "iopub.status.idle": "2024-10-16T09:43:59.766666Z",
     "shell.execute_reply": "2024-10-16T09:43:59.765977Z"
    }
   },
   "outputs": [
    {
     "name": "stdout",
     "output_type": "stream",
     "text": [
      "seed=2025 -> output_filename='2025-10-23_caustique-transition/caustique_seed_2025_9772a4a8.mp4'\n",
      "seed=2026 -> output_filename='2025-10-23_caustique-transition/caustique_seed_2026_77c37e69.mp4'\n",
      "seed=2027 -> output_filename='2025-10-23_caustique-transition/caustique_seed_2027_97910419.mp4'\n",
      "seed=2028 -> output_filename='2025-10-23_caustique-transition/caustique_seed_2028_c6d382d7.mp4'\n",
      "seed=2029 -> output_filename='2025-10-23_caustique-transition/caustique_seed_2029_1154fd2b.mp4'\n"
     ]
    }
   ],
   "source": [
    "image = generate_image(nx=c.opt.nx, ny=c.opt.ny)\n",
    "\n",
    "for seed_increment in range(N_scan):\n",
    "    opt = init()\n",
    "    c = Caustique(opt)\n",
    "    c.d['seed'] = c.d['seed'] + seed_increment\n",
    "    c.opt.tag = f'{c.opt.tag}_seed_{c.d['seed']}'\n",
    "    # del z\n",
    "    z = c.wave()\n",
    "    output_filename = c.plot(z, image)\n",
    "    print(f'seed={c.d['seed']} -> {output_filename=}')\n",
    "    if c.opt.do_display: c.show(output_filename)"
   ]
  },
  {
   "cell_type": "markdown",
   "metadata": {},
   "source": [
    "## autres variables sur l'onde\n"
   ]
  },
  {
   "cell_type": "code",
   "execution_count": null,
   "metadata": {},
   "outputs": [
    {
     "name": "stdout",
     "output_type": "stream",
     "text": [
      "======scale======\n"
     ]
    },
    {
     "data": {
      "application/vnd.jupyter.widget-view+json": {
       "model_id": "bc420842065c4747bb76c0cbf866902f",
       "version_major": 2,
       "version_minor": 0
      },
      "text/plain": [
       "Scanning time:   0%|          | 0/96 [00:00<?, ?it/s]"
      ]
     },
     "metadata": {},
     "output_type": "display_data"
    },
    {
     "data": {
      "application/vnd.jupyter.widget-view+json": {
       "model_id": "b8f7350fbc744686918a7f70e0ab6beb",
       "version_major": 2,
       "version_minor": 0
      },
      "text/plain": [
       "Scanning spectrum:   0%|          | 0/20 [00:00<?, ?it/s]"
      ]
     },
     "metadata": {},
     "output_type": "display_data"
    },
    {
     "data": {
      "application/vnd.jupyter.widget-view+json": {
       "model_id": "6b1844f090144f8a9558a38c54300896",
       "version_major": 2,
       "version_minor": 0
      },
      "text/plain": [
       "Scanning spectrum:   0%|          | 0/20 [00:00<?, ?it/s]"
      ]
     },
     "metadata": {},
     "output_type": "display_data"
    },
    {
     "data": {
      "application/vnd.jupyter.widget-view+json": {
       "model_id": "05af43d903d4493e999c96a43dddce7a",
       "version_major": 2,
       "version_minor": 0
      },
      "text/plain": [
       "Scanning spectrum:   0%|          | 0/20 [00:00<?, ?it/s]"
      ]
     },
     "metadata": {},
     "output_type": "display_data"
    },
    {
     "data": {
      "application/vnd.jupyter.widget-view+json": {
       "model_id": "68566eb7566f404daac2055e4d54c7b4",
       "version_major": 2,
       "version_minor": 0
      },
      "text/plain": [
       "Scanning spectrum:   0%|          | 0/20 [00:00<?, ?it/s]"
      ]
     },
     "metadata": {},
     "output_type": "display_data"
    },
    {
     "data": {
      "application/vnd.jupyter.widget-view+json": {
       "model_id": "df135964251a4a03b84d6b47aba3631f",
       "version_major": 2,
       "version_minor": 0
      },
      "text/plain": [
       "Scanning spectrum:   0%|          | 0/20 [00:00<?, ?it/s]"
      ]
     },
     "metadata": {},
     "output_type": "display_data"
    },
    {
     "data": {
      "application/vnd.jupyter.widget-view+json": {
       "model_id": "c952e574506442469a4c24d3dc5300c3",
       "version_major": 2,
       "version_minor": 0
      },
      "text/plain": [
       "Scanning spectrum:   0%|          | 0/20 [00:00<?, ?it/s]"
      ]
     },
     "metadata": {},
     "output_type": "display_data"
    },
    {
     "data": {
      "application/vnd.jupyter.widget-view+json": {
       "model_id": "97d5265b35e04ad49340f504b72149ff",
       "version_major": 2,
       "version_minor": 0
      },
      "text/plain": [
       "Scanning spectrum:   0%|          | 0/20 [00:00<?, ?it/s]"
      ]
     },
     "metadata": {},
     "output_type": "display_data"
    },
    {
     "data": {
      "application/vnd.jupyter.widget-view+json": {
       "model_id": "57dc52f0abc64869a7423db4f43a97c7",
       "version_major": 2,
       "version_minor": 0
      },
      "text/plain": [
       "Scanning spectrum:   0%|          | 0/20 [00:00<?, ?it/s]"
      ]
     },
     "metadata": {},
     "output_type": "display_data"
    },
    {
     "data": {
      "application/vnd.jupyter.widget-view+json": {
       "model_id": "b519b53f4a634d69be22da8a4059e49e",
       "version_major": 2,
       "version_minor": 0
      },
      "text/plain": [
       "Scanning spectrum:   0%|          | 0/20 [00:00<?, ?it/s]"
      ]
     },
     "metadata": {},
     "output_type": "display_data"
    },
    {
     "data": {
      "application/vnd.jupyter.widget-view+json": {
       "model_id": "b2d149ba1e92441292e3cdbfd0927e5a",
       "version_major": 2,
       "version_minor": 0
      },
      "text/plain": [
       "Scanning spectrum:   0%|          | 0/20 [00:00<?, ?it/s]"
      ]
     },
     "metadata": {},
     "output_type": "display_data"
    },
    {
     "data": {
      "application/vnd.jupyter.widget-view+json": {
       "model_id": "0ed86870256d4a459062bc46d0a07ab3",
       "version_major": 2,
       "version_minor": 0
      },
      "text/plain": [
       "Scanning spectrum:   0%|          | 0/20 [00:00<?, ?it/s]"
      ]
     },
     "metadata": {},
     "output_type": "display_data"
    },
    {
     "data": {
      "application/vnd.jupyter.widget-view+json": {
       "model_id": "16ef395acbf248cab9f4619bc075f42b",
       "version_major": 2,
       "version_minor": 0
      },
      "text/plain": [
       "Scanning spectrum:   0%|          | 0/20 [00:00<?, ?it/s]"
      ]
     },
     "metadata": {},
     "output_type": "display_data"
    },
    {
     "data": {
      "application/vnd.jupyter.widget-view+json": {
       "model_id": "a31e90523022438ba45aac2fff433fb0",
       "version_major": 2,
       "version_minor": 0
      },
      "text/plain": [
       "Scanning spectrum:   0%|          | 0/20 [00:00<?, ?it/s]"
      ]
     },
     "metadata": {},
     "output_type": "display_data"
    },
    {
     "data": {
      "application/vnd.jupyter.widget-view+json": {
       "model_id": "795d57643c2d4cb89f96bca75c52470e",
       "version_major": 2,
       "version_minor": 0
      },
      "text/plain": [
       "Scanning spectrum:   0%|          | 0/20 [00:00<?, ?it/s]"
      ]
     },
     "metadata": {},
     "output_type": "display_data"
    },
    {
     "data": {
      "application/vnd.jupyter.widget-view+json": {
       "model_id": "f9a8c38012994e58b9eda68b96d9d804",
       "version_major": 2,
       "version_minor": 0
      },
      "text/plain": [
       "Scanning spectrum:   0%|          | 0/20 [00:00<?, ?it/s]"
      ]
     },
     "metadata": {},
     "output_type": "display_data"
    },
    {
     "data": {
      "application/vnd.jupyter.widget-view+json": {
       "model_id": "904c048f65214e1eb9c8b0469e10db1c",
       "version_major": 2,
       "version_minor": 0
      },
      "text/plain": [
       "Scanning spectrum:   0%|          | 0/20 [00:00<?, ?it/s]"
      ]
     },
     "metadata": {},
     "output_type": "display_data"
    },
    {
     "data": {
      "application/vnd.jupyter.widget-view+json": {
       "model_id": "8f9082db32784250b686aed0d37fb3de",
       "version_major": 2,
       "version_minor": 0
      },
      "text/plain": [
       "Scanning spectrum:   0%|          | 0/20 [00:00<?, ?it/s]"
      ]
     },
     "metadata": {},
     "output_type": "display_data"
    },
    {
     "data": {
      "application/vnd.jupyter.widget-view+json": {
       "model_id": "b373599112ba45b7bab9e1e31de26e8a",
       "version_major": 2,
       "version_minor": 0
      },
      "text/plain": [
       "Scanning spectrum:   0%|          | 0/20 [00:00<?, ?it/s]"
      ]
     },
     "metadata": {},
     "output_type": "display_data"
    },
    {
     "data": {
      "application/vnd.jupyter.widget-view+json": {
       "model_id": "014078f311ff448983dcc81481bd3577",
       "version_major": 2,
       "version_minor": 0
      },
      "text/plain": [
       "Scanning spectrum:   0%|          | 0/20 [00:00<?, ?it/s]"
      ]
     },
     "metadata": {},
     "output_type": "display_data"
    },
    {
     "data": {
      "application/vnd.jupyter.widget-view+json": {
       "model_id": "c8c3df317e97437d9c18535808c7bc26",
       "version_major": 2,
       "version_minor": 0
      },
      "text/plain": [
       "Scanning spectrum:   0%|          | 0/20 [00:00<?, ?it/s]"
      ]
     },
     "metadata": {},
     "output_type": "display_data"
    },
    {
     "data": {
      "application/vnd.jupyter.widget-view+json": {
       "model_id": "325aff6ade014a90a35f53ffe3756402",
       "version_major": 2,
       "version_minor": 0
      },
      "text/plain": [
       "Scanning spectrum:   0%|          | 0/20 [00:00<?, ?it/s]"
      ]
     },
     "metadata": {},
     "output_type": "display_data"
    },
    {
     "data": {
      "application/vnd.jupyter.widget-view+json": {
       "model_id": "2d5f25b7ac1345ee8b41745887513bef",
       "version_major": 2,
       "version_minor": 0
      },
      "text/plain": [
       "Scanning spectrum:   0%|          | 0/20 [00:00<?, ?it/s]"
      ]
     },
     "metadata": {},
     "output_type": "display_data"
    },
    {
     "data": {
      "application/vnd.jupyter.widget-view+json": {
       "model_id": "f55127eb48a64ec5b2195d8e188c04e5",
       "version_major": 2,
       "version_minor": 0
      },
      "text/plain": [
       "Scanning spectrum:   0%|          | 0/20 [00:00<?, ?it/s]"
      ]
     },
     "metadata": {},
     "output_type": "display_data"
    },
    {
     "data": {
      "application/vnd.jupyter.widget-view+json": {
       "model_id": "9e85fdc586d744369f17b3aa45f6b2a4",
       "version_major": 2,
       "version_minor": 0
      },
      "text/plain": [
       "Scanning spectrum:   0%|          | 0/20 [00:00<?, ?it/s]"
      ]
     },
     "metadata": {},
     "output_type": "display_data"
    },
    {
     "data": {
      "application/vnd.jupyter.widget-view+json": {
       "model_id": "d5ec71daf71c4b7d80fc2dd3668c7a26",
       "version_major": 2,
       "version_minor": 0
      },
      "text/plain": [
       "Scanning spectrum:   0%|          | 0/20 [00:00<?, ?it/s]"
      ]
     },
     "metadata": {},
     "output_type": "display_data"
    },
    {
     "data": {
      "application/vnd.jupyter.widget-view+json": {
       "model_id": "83cc4a6253ce47c0a0528666c4089b4c",
       "version_major": 2,
       "version_minor": 0
      },
      "text/plain": [
       "Scanning spectrum:   0%|          | 0/20 [00:00<?, ?it/s]"
      ]
     },
     "metadata": {},
     "output_type": "display_data"
    },
    {
     "data": {
      "application/vnd.jupyter.widget-view+json": {
       "model_id": "14c728236c694738964d48b310f41142",
       "version_major": 2,
       "version_minor": 0
      },
      "text/plain": [
       "Scanning spectrum:   0%|          | 0/20 [00:00<?, ?it/s]"
      ]
     },
     "metadata": {},
     "output_type": "display_data"
    },
    {
     "data": {
      "application/vnd.jupyter.widget-view+json": {
       "model_id": "167177e617334c9ebd3d383caf941421",
       "version_major": 2,
       "version_minor": 0
      },
      "text/plain": [
       "Scanning spectrum:   0%|          | 0/20 [00:00<?, ?it/s]"
      ]
     },
     "metadata": {},
     "output_type": "display_data"
    },
    {
     "data": {
      "application/vnd.jupyter.widget-view+json": {
       "model_id": "15ae208f965b4847af81282fb43aada2",
       "version_major": 2,
       "version_minor": 0
      },
      "text/plain": [
       "Scanning spectrum:   0%|          | 0/20 [00:00<?, ?it/s]"
      ]
     },
     "metadata": {},
     "output_type": "display_data"
    },
    {
     "data": {
      "application/vnd.jupyter.widget-view+json": {
       "model_id": "20e650689116418d98e13f301b4ec340",
       "version_major": 2,
       "version_minor": 0
      },
      "text/plain": [
       "Scanning spectrum:   0%|          | 0/20 [00:00<?, ?it/s]"
      ]
     },
     "metadata": {},
     "output_type": "display_data"
    },
    {
     "data": {
      "application/vnd.jupyter.widget-view+json": {
       "model_id": "1bdea5fa22d140adbb57b42d2a3cbb71",
       "version_major": 2,
       "version_minor": 0
      },
      "text/plain": [
       "Scanning spectrum:   0%|          | 0/20 [00:00<?, ?it/s]"
      ]
     },
     "metadata": {},
     "output_type": "display_data"
    },
    {
     "data": {
      "application/vnd.jupyter.widget-view+json": {
       "model_id": "9c114684821449d9b3e599c2f5ed0240",
       "version_major": 2,
       "version_minor": 0
      },
      "text/plain": [
       "Scanning spectrum:   0%|          | 0/20 [00:00<?, ?it/s]"
      ]
     },
     "metadata": {},
     "output_type": "display_data"
    },
    {
     "data": {
      "application/vnd.jupyter.widget-view+json": {
       "model_id": "eccf1ea57b4447388bc6418045328669",
       "version_major": 2,
       "version_minor": 0
      },
      "text/plain": [
       "Scanning spectrum:   0%|          | 0/20 [00:00<?, ?it/s]"
      ]
     },
     "metadata": {},
     "output_type": "display_data"
    },
    {
     "data": {
      "application/vnd.jupyter.widget-view+json": {
       "model_id": "472430885d92403fab2cf29e61ded872",
       "version_major": 2,
       "version_minor": 0
      },
      "text/plain": [
       "Scanning spectrum:   0%|          | 0/20 [00:00<?, ?it/s]"
      ]
     },
     "metadata": {},
     "output_type": "display_data"
    },
    {
     "data": {
      "application/vnd.jupyter.widget-view+json": {
       "model_id": "78e98de1e5ce4f8ca5a466ca0f2c22c5",
       "version_major": 2,
       "version_minor": 0
      },
      "text/plain": [
       "Scanning spectrum:   0%|          | 0/20 [00:00<?, ?it/s]"
      ]
     },
     "metadata": {},
     "output_type": "display_data"
    },
    {
     "data": {
      "application/vnd.jupyter.widget-view+json": {
       "model_id": "21e49bd86d6f40acb30529b901705032",
       "version_major": 2,
       "version_minor": 0
      },
      "text/plain": [
       "Scanning spectrum:   0%|          | 0/20 [00:00<?, ?it/s]"
      ]
     },
     "metadata": {},
     "output_type": "display_data"
    },
    {
     "data": {
      "application/vnd.jupyter.widget-view+json": {
       "model_id": "270c9118541440769540e287fed6e28e",
       "version_major": 2,
       "version_minor": 0
      },
      "text/plain": [
       "Scanning spectrum:   0%|          | 0/20 [00:00<?, ?it/s]"
      ]
     },
     "metadata": {},
     "output_type": "display_data"
    },
    {
     "data": {
      "application/vnd.jupyter.widget-view+json": {
       "model_id": "13685d414ac74e728aab12584207f025",
       "version_major": 2,
       "version_minor": 0
      },
      "text/plain": [
       "Scanning spectrum:   0%|          | 0/20 [00:00<?, ?it/s]"
      ]
     },
     "metadata": {},
     "output_type": "display_data"
    },
    {
     "data": {
      "application/vnd.jupyter.widget-view+json": {
       "model_id": "6a71c9863d3c4f1bbf866756d20f7b55",
       "version_major": 2,
       "version_minor": 0
      },
      "text/plain": [
       "Scanning spectrum:   0%|          | 0/20 [00:00<?, ?it/s]"
      ]
     },
     "metadata": {},
     "output_type": "display_data"
    },
    {
     "data": {
      "application/vnd.jupyter.widget-view+json": {
       "model_id": "5a7cd6952c6f4047ba4d6bf2dc4eebaf",
       "version_major": 2,
       "version_minor": 0
      },
      "text/plain": [
       "Scanning spectrum:   0%|          | 0/20 [00:00<?, ?it/s]"
      ]
     },
     "metadata": {},
     "output_type": "display_data"
    },
    {
     "data": {
      "application/vnd.jupyter.widget-view+json": {
       "model_id": "b2686692d10c426f85beb6ec83132e3c",
       "version_major": 2,
       "version_minor": 0
      },
      "text/plain": [
       "Scanning spectrum:   0%|          | 0/20 [00:00<?, ?it/s]"
      ]
     },
     "metadata": {},
     "output_type": "display_data"
    },
    {
     "data": {
      "application/vnd.jupyter.widget-view+json": {
       "model_id": "ef1c2c5607fd4345a0c671d12e89d316",
       "version_major": 2,
       "version_minor": 0
      },
      "text/plain": [
       "Scanning spectrum:   0%|          | 0/20 [00:00<?, ?it/s]"
      ]
     },
     "metadata": {},
     "output_type": "display_data"
    },
    {
     "data": {
      "application/vnd.jupyter.widget-view+json": {
       "model_id": "4af1e4d384084b0a8975611155ce6637",
       "version_major": 2,
       "version_minor": 0
      },
      "text/plain": [
       "Scanning spectrum:   0%|          | 0/20 [00:00<?, ?it/s]"
      ]
     },
     "metadata": {},
     "output_type": "display_data"
    },
    {
     "data": {
      "application/vnd.jupyter.widget-view+json": {
       "model_id": "eda19e49547845e78a6e7d5003dc5705",
       "version_major": 2,
       "version_minor": 0
      },
      "text/plain": [
       "Scanning spectrum:   0%|          | 0/20 [00:00<?, ?it/s]"
      ]
     },
     "metadata": {},
     "output_type": "display_data"
    },
    {
     "data": {
      "application/vnd.jupyter.widget-view+json": {
       "model_id": "30a98ffbf7a64ef5b2404ec2bf4316cf",
       "version_major": 2,
       "version_minor": 0
      },
      "text/plain": [
       "Scanning spectrum:   0%|          | 0/20 [00:00<?, ?it/s]"
      ]
     },
     "metadata": {},
     "output_type": "display_data"
    },
    {
     "data": {
      "application/vnd.jupyter.widget-view+json": {
       "model_id": "a6024766ab114e7492a0339db5f1f3ad",
       "version_major": 2,
       "version_minor": 0
      },
      "text/plain": [
       "Scanning spectrum:   0%|          | 0/20 [00:00<?, ?it/s]"
      ]
     },
     "metadata": {},
     "output_type": "display_data"
    },
    {
     "data": {
      "application/vnd.jupyter.widget-view+json": {
       "model_id": "092505c2f29b41028a8ff32840266b65",
       "version_major": 2,
       "version_minor": 0
      },
      "text/plain": [
       "Scanning spectrum:   0%|          | 0/20 [00:00<?, ?it/s]"
      ]
     },
     "metadata": {},
     "output_type": "display_data"
    },
    {
     "data": {
      "application/vnd.jupyter.widget-view+json": {
       "model_id": "778ad29b046a45649e68824116e3e31d",
       "version_major": 2,
       "version_minor": 0
      },
      "text/plain": [
       "Scanning spectrum:   0%|          | 0/20 [00:00<?, ?it/s]"
      ]
     },
     "metadata": {},
     "output_type": "display_data"
    },
    {
     "data": {
      "application/vnd.jupyter.widget-view+json": {
       "model_id": "ed9ac94d14274ada8d4c3ee49c6ac5d1",
       "version_major": 2,
       "version_minor": 0
      },
      "text/plain": [
       "Scanning spectrum:   0%|          | 0/20 [00:00<?, ?it/s]"
      ]
     },
     "metadata": {},
     "output_type": "display_data"
    },
    {
     "data": {
      "application/vnd.jupyter.widget-view+json": {
       "model_id": "36d20f3411be4807b5af29c05f2d335e",
       "version_major": 2,
       "version_minor": 0
      },
      "text/plain": [
       "Scanning spectrum:   0%|          | 0/20 [00:00<?, ?it/s]"
      ]
     },
     "metadata": {},
     "output_type": "display_data"
    },
    {
     "data": {
      "application/vnd.jupyter.widget-view+json": {
       "model_id": "237028de098449cb899a063acbe2ef4c",
       "version_major": 2,
       "version_minor": 0
      },
      "text/plain": [
       "Scanning spectrum:   0%|          | 0/20 [00:00<?, ?it/s]"
      ]
     },
     "metadata": {},
     "output_type": "display_data"
    },
    {
     "data": {
      "application/vnd.jupyter.widget-view+json": {
       "model_id": "39f6383fa7964537960ee5d9d210be6d",
       "version_major": 2,
       "version_minor": 0
      },
      "text/plain": [
       "Scanning spectrum:   0%|          | 0/20 [00:00<?, ?it/s]"
      ]
     },
     "metadata": {},
     "output_type": "display_data"
    },
    {
     "data": {
      "application/vnd.jupyter.widget-view+json": {
       "model_id": "7ba6518aec4c453588b31542ce426a02",
       "version_major": 2,
       "version_minor": 0
      },
      "text/plain": [
       "Scanning spectrum:   0%|          | 0/20 [00:00<?, ?it/s]"
      ]
     },
     "metadata": {},
     "output_type": "display_data"
    },
    {
     "data": {
      "application/vnd.jupyter.widget-view+json": {
       "model_id": "4c3b500934c54805a4d884576e09aa70",
       "version_major": 2,
       "version_minor": 0
      },
      "text/plain": [
       "Scanning spectrum:   0%|          | 0/20 [00:00<?, ?it/s]"
      ]
     },
     "metadata": {},
     "output_type": "display_data"
    },
    {
     "data": {
      "application/vnd.jupyter.widget-view+json": {
       "model_id": "42c41145447a401c8c49c8688bd48228",
       "version_major": 2,
       "version_minor": 0
      },
      "text/plain": [
       "Scanning spectrum:   0%|          | 0/20 [00:00<?, ?it/s]"
      ]
     },
     "metadata": {},
     "output_type": "display_data"
    },
    {
     "data": {
      "application/vnd.jupyter.widget-view+json": {
       "model_id": "86c26a6d075a4b99ac076682975a9cb9",
       "version_major": 2,
       "version_minor": 0
      },
      "text/plain": [
       "Scanning spectrum:   0%|          | 0/20 [00:00<?, ?it/s]"
      ]
     },
     "metadata": {},
     "output_type": "display_data"
    },
    {
     "data": {
      "application/vnd.jupyter.widget-view+json": {
       "model_id": "bd8f90a74ae844188948365ae48d8c88",
       "version_major": 2,
       "version_minor": 0
      },
      "text/plain": [
       "Scanning spectrum:   0%|          | 0/20 [00:00<?, ?it/s]"
      ]
     },
     "metadata": {},
     "output_type": "display_data"
    },
    {
     "data": {
      "application/vnd.jupyter.widget-view+json": {
       "model_id": "4466fa790d4f462f92689d0a952c0c47",
       "version_major": 2,
       "version_minor": 0
      },
      "text/plain": [
       "Scanning spectrum:   0%|          | 0/20 [00:00<?, ?it/s]"
      ]
     },
     "metadata": {},
     "output_type": "display_data"
    },
    {
     "data": {
      "application/vnd.jupyter.widget-view+json": {
       "model_id": "4baf3520a643465083a76476e85ab72b",
       "version_major": 2,
       "version_minor": 0
      },
      "text/plain": [
       "Scanning spectrum:   0%|          | 0/20 [00:00<?, ?it/s]"
      ]
     },
     "metadata": {},
     "output_type": "display_data"
    },
    {
     "data": {
      "application/vnd.jupyter.widget-view+json": {
       "model_id": "4f6c9e8967fb4d32a4358a1382523a06",
       "version_major": 2,
       "version_minor": 0
      },
      "text/plain": [
       "Scanning spectrum:   0%|          | 0/20 [00:00<?, ?it/s]"
      ]
     },
     "metadata": {},
     "output_type": "display_data"
    },
    {
     "data": {
      "application/vnd.jupyter.widget-view+json": {
       "model_id": "ecad6c2315054586b8e7fb161ee160d8",
       "version_major": 2,
       "version_minor": 0
      },
      "text/plain": [
       "Scanning spectrum:   0%|          | 0/20 [00:00<?, ?it/s]"
      ]
     },
     "metadata": {},
     "output_type": "display_data"
    },
    {
     "data": {
      "application/vnd.jupyter.widget-view+json": {
       "model_id": "8d2d8cf75b574c0589662e56a1dcbfff",
       "version_major": 2,
       "version_minor": 0
      },
      "text/plain": [
       "Scanning spectrum:   0%|          | 0/20 [00:00<?, ?it/s]"
      ]
     },
     "metadata": {},
     "output_type": "display_data"
    },
    {
     "data": {
      "application/vnd.jupyter.widget-view+json": {
       "model_id": "bba10d46fc1c41f09f757bfb136ff5cb",
       "version_major": 2,
       "version_minor": 0
      },
      "text/plain": [
       "Scanning spectrum:   0%|          | 0/20 [00:00<?, ?it/s]"
      ]
     },
     "metadata": {},
     "output_type": "display_data"
    },
    {
     "data": {
      "application/vnd.jupyter.widget-view+json": {
       "model_id": "c7ef1b0bc9be452d998d76ab232af8b2",
       "version_major": 2,
       "version_minor": 0
      },
      "text/plain": [
       "Scanning spectrum:   0%|          | 0/20 [00:00<?, ?it/s]"
      ]
     },
     "metadata": {},
     "output_type": "display_data"
    },
    {
     "data": {
      "application/vnd.jupyter.widget-view+json": {
       "model_id": "8d93a2775f5b46c4a8494afbfe31f15f",
       "version_major": 2,
       "version_minor": 0
      },
      "text/plain": [
       "Scanning spectrum:   0%|          | 0/20 [00:00<?, ?it/s]"
      ]
     },
     "metadata": {},
     "output_type": "display_data"
    },
    {
     "data": {
      "application/vnd.jupyter.widget-view+json": {
       "model_id": "62d7584bee704ac9b57d5b124b368d13",
       "version_major": 2,
       "version_minor": 0
      },
      "text/plain": [
       "Scanning spectrum:   0%|          | 0/20 [00:00<?, ?it/s]"
      ]
     },
     "metadata": {},
     "output_type": "display_data"
    },
    {
     "data": {
      "application/vnd.jupyter.widget-view+json": {
       "model_id": "658a4973f6414b8481f3c8b2f384331a",
       "version_major": 2,
       "version_minor": 0
      },
      "text/plain": [
       "Scanning spectrum:   0%|          | 0/20 [00:00<?, ?it/s]"
      ]
     },
     "metadata": {},
     "output_type": "display_data"
    },
    {
     "data": {
      "application/vnd.jupyter.widget-view+json": {
       "model_id": "32c678d07336431fb3e1823aa267b5ea",
       "version_major": 2,
       "version_minor": 0
      },
      "text/plain": [
       "Scanning spectrum:   0%|          | 0/20 [00:00<?, ?it/s]"
      ]
     },
     "metadata": {},
     "output_type": "display_data"
    },
    {
     "data": {
      "application/vnd.jupyter.widget-view+json": {
       "model_id": "09059a4b82cd4baa84090b7f4ff42cc2",
       "version_major": 2,
       "version_minor": 0
      },
      "text/plain": [
       "Scanning spectrum:   0%|          | 0/20 [00:00<?, ?it/s]"
      ]
     },
     "metadata": {},
     "output_type": "display_data"
    },
    {
     "data": {
      "application/vnd.jupyter.widget-view+json": {
       "model_id": "f66c836f53b243c49412c9facee45e07",
       "version_major": 2,
       "version_minor": 0
      },
      "text/plain": [
       "Scanning spectrum:   0%|          | 0/20 [00:00<?, ?it/s]"
      ]
     },
     "metadata": {},
     "output_type": "display_data"
    },
    {
     "data": {
      "application/vnd.jupyter.widget-view+json": {
       "model_id": "3cc87c51b747412690c3361d18a342eb",
       "version_major": 2,
       "version_minor": 0
      },
      "text/plain": [
       "Scanning spectrum:   0%|          | 0/20 [00:00<?, ?it/s]"
      ]
     },
     "metadata": {},
     "output_type": "display_data"
    },
    {
     "data": {
      "application/vnd.jupyter.widget-view+json": {
       "model_id": "8dd13746636f429b8d07a5d45de1fd9e",
       "version_major": 2,
       "version_minor": 0
      },
      "text/plain": [
       "Scanning spectrum:   0%|          | 0/20 [00:00<?, ?it/s]"
      ]
     },
     "metadata": {},
     "output_type": "display_data"
    },
    {
     "data": {
      "application/vnd.jupyter.widget-view+json": {
       "model_id": "2d2ee246e4b44cc5a6720460401f529e",
       "version_major": 2,
       "version_minor": 0
      },
      "text/plain": [
       "Scanning spectrum:   0%|          | 0/20 [00:00<?, ?it/s]"
      ]
     },
     "metadata": {},
     "output_type": "display_data"
    },
    {
     "data": {
      "application/vnd.jupyter.widget-view+json": {
       "model_id": "e77c2f2c6c534fe79449de1f698159af",
       "version_major": 2,
       "version_minor": 0
      },
      "text/plain": [
       "Scanning spectrum:   0%|          | 0/20 [00:00<?, ?it/s]"
      ]
     },
     "metadata": {},
     "output_type": "display_data"
    },
    {
     "data": {
      "application/vnd.jupyter.widget-view+json": {
       "model_id": "6f0e7ebbff454ad4b848920c5c83a697",
       "version_major": 2,
       "version_minor": 0
      },
      "text/plain": [
       "Scanning spectrum:   0%|          | 0/20 [00:00<?, ?it/s]"
      ]
     },
     "metadata": {},
     "output_type": "display_data"
    },
    {
     "data": {
      "application/vnd.jupyter.widget-view+json": {
       "model_id": "359fb94886ec49dcbd80e258364fd2f7",
       "version_major": 2,
       "version_minor": 0
      },
      "text/plain": [
       "Scanning spectrum:   0%|          | 0/20 [00:00<?, ?it/s]"
      ]
     },
     "metadata": {},
     "output_type": "display_data"
    },
    {
     "data": {
      "application/vnd.jupyter.widget-view+json": {
       "model_id": "28c17dc3140549a6b7823d5773761698",
       "version_major": 2,
       "version_minor": 0
      },
      "text/plain": [
       "Scanning spectrum:   0%|          | 0/20 [00:00<?, ?it/s]"
      ]
     },
     "metadata": {},
     "output_type": "display_data"
    },
    {
     "data": {
      "application/vnd.jupyter.widget-view+json": {
       "model_id": "d1ee991bcb8b49a9bebaf50c57465157",
       "version_major": 2,
       "version_minor": 0
      },
      "text/plain": [
       "Scanning spectrum:   0%|          | 0/20 [00:00<?, ?it/s]"
      ]
     },
     "metadata": {},
     "output_type": "display_data"
    },
    {
     "data": {
      "application/vnd.jupyter.widget-view+json": {
       "model_id": "ec79ea65aa0b4346aeb594acf208559e",
       "version_major": 2,
       "version_minor": 0
      },
      "text/plain": [
       "Scanning spectrum:   0%|          | 0/20 [00:00<?, ?it/s]"
      ]
     },
     "metadata": {},
     "output_type": "display_data"
    },
    {
     "data": {
      "application/vnd.jupyter.widget-view+json": {
       "model_id": "5b9bc89f69af4034a1c1537b2f6dc816",
       "version_major": 2,
       "version_minor": 0
      },
      "text/plain": [
       "Scanning spectrum:   0%|          | 0/20 [00:00<?, ?it/s]"
      ]
     },
     "metadata": {},
     "output_type": "display_data"
    },
    {
     "data": {
      "application/vnd.jupyter.widget-view+json": {
       "model_id": "4ff093edd0214766ba506e4e1e8b07ec",
       "version_major": 2,
       "version_minor": 0
      },
      "text/plain": [
       "Scanning spectrum:   0%|          | 0/20 [00:00<?, ?it/s]"
      ]
     },
     "metadata": {},
     "output_type": "display_data"
    }
   ],
   "source": [
    "opt = init()\n",
    "for variable in ['scale', 'B_sf', 'theta',  'B_theta', 'zmin']: #  'V_Y', 'V_X', 'B_V', \n",
    "    print(f'======{variable}======')\n",
    "    for modul in np.logspace(-1, 1, N_scan, base=base):\n",
    "        # del z\n",
    "        c = Caustique(init(tag=f'{opt.tag}_{variable}_modul_{modul:.3f}'))\n",
    "        c.d[variable] *= modul\n",
    "        \n",
    "        output_filename = c.get_filename()\n",
    "        if not(os.path.isfile(output_filename) or c.opt.do_recompute):\n",
    "            z = c.wave(do_cache=False)\n",
    "            output_filename_ = c.plot(z, image)\n",
    "            assert(output_filename == output_filename_)\n",
    "        print(f'{variable}={variable}(default)*{modul:.3f}={c.d[variable]:.3E} -> {output_filename=}')\n",
    "        if c.opt.do_display: c.show(output_filename)"
   ]
  },
  {
   "cell_type": "markdown",
   "metadata": {},
   "source": [
    "## une longue vague\n"
   ]
  },
  {
   "cell_type": "code",
   "execution_count": null,
   "metadata": {},
   "outputs": [],
   "source": [
    "print('====== long wave ======')\n",
    "opt = init()\n",
    "c = Caustique(opt)\n",
    "c.opt.tag = 'full_vave'\n",
    "\n",
    "filename = f'{c.cachepath}/{c.opt.tag}_wave.npy'\n",
    "if os.path.isfile(filename) and not(c.opt.do_recompute):\n",
    "    z = np.load(filename)\n",
    "else:        \n",
    "    # N_wave = 4 * PRECISION\n",
    "    N_wave = 5\n",
    "    N_wave = 50\n",
    "    N_wave = 25\n",
    "    amplitude = 1 - np.linspace(-1, 1, N_wave+2)[1:-1]**2 \n",
    "    B_theta = c.opt.B_theta / ( 1 + np.exp(-.5 * (np.linspace(0, 1, N_wave)-.25)**2 / .25**2 ) ) # TODO : use von mises\n",
    "    scale = c.opt.scale / ( 1 + np.exp(-.5 * (np.linspace(0, 1, N_wave)-.75)**2 / .25**2 ) )\n",
    "    B_sf = c.opt.B_sf / scale * ( 1 + np.exp(-.5 * (np.linspace(0, 1, N_wave)-.5)**2 / .25**2 ) )\n",
    "\n",
    "    fx, fy, ft = mc.get_grids(opt.nx, opt.ny, opt.nframe)\n",
    "    smooth = (ft - ft.min())/(ft.max() - ft.min()) # smoothly progress from 0. to 1.\n",
    "    \n",
    "    opt = init()\n",
    "    c = Caustique(opt)\n",
    "    c.opt.do_cache = False\n",
    "    i_wave = -1\n",
    "    c.opt.B_sf = B_sf[i_wave]\n",
    "    c.opt.B_theta = B_theta[i_wave]\n",
    "    c.opt.scale = scale[i_wave]\n",
    "    c.opt.seed = opt.seed + N_wave-1\n",
    "    z_update = amplitude[i_wave] * c.wave(do_cache=False)\n",
    "\n",
    "    z = z_update.copy()\n",
    "    z_old = z_update.copy()\n",
    "    \n",
    "    for i_wave in range(N_wave):\n",
    "        opt = init()\n",
    "        c = Caustique(opt)\n",
    "        c.opt.do_cache = False\n",
    "        c.opt.B_sf = B_sf[i_wave]\n",
    "        c.opt.B_theta = B_theta[i_wave]\n",
    "        c.opt.scale = scale[i_wave]\n",
    "        c.opt.seed = opt.seed + i_wave\n",
    "\n",
    "        print(f'chunk {i_wave+1}/{N_wave}\\t {amplitude[i_wave]=:.3f}\\t {c.opt.B_sf=:.3f}\\t {c.opt.B_theta=:.3f}\\t {c.opt.scale=:.3f}\\t {c.opt.seed=}')\n",
    "\n",
    "        z_update = amplitude[i_wave] * c.wave(do_cache=False)\n",
    "\n",
    "        z = np.concatenate((z, (1.-smooth)*z_old+smooth*z_update), axis=-1)\n",
    "        z_old = z_update.copy()\n",
    "        # print(z.shape, z_update.shape)\n",
    "\n",
    "    np.save(filename, z)\n",
    "    del z_old \n",
    "    del z_update\n"
   ]
  },
  {
   "cell_type": "code",
   "execution_count": null,
   "metadata": {},
   "outputs": [],
   "source": [
    "z.min(), z.mean(), z.max()"
   ]
  },
  {
   "cell_type": "code",
   "execution_count": null,
   "metadata": {},
   "outputs": [],
   "source": [
    "%whos"
   ]
  },
  {
   "cell_type": "code",
   "execution_count": null,
   "metadata": {},
   "outputs": [],
   "source": [
    "c.opt.gamma = 1\n",
    "\n",
    "output_filename = c.get_filename()\n",
    "np_dtype = np.uint8 if c.opt.n_bits==8 else np.uint16\n",
    "output_filename = make_mp4(output_filename, (z*(2**c.opt.n_bits-1)).astype(np_dtype), fps=c.opt.fps)\n",
    "c.show(output_filename)"
   ]
  },
  {
   "cell_type": "code",
   "execution_count": null,
   "metadata": {},
   "outputs": [],
   "source": [
    "c = Caustique(opt)\n",
    "c.opt.tag = 'full_caustics'\n",
    "image = generate_image(nx=c.opt.nx, ny=c.opt.ny)\n",
    "output_filename = c.plot(z, image)"
   ]
  },
  {
   "cell_type": "code",
   "execution_count": null,
   "metadata": {},
   "outputs": [],
   "source": [
    "c.show(output_filename)"
   ]
  }
 ],
 "metadata": {
  "kernelspec": {
   "display_name": ".venv",
   "language": "python",
   "name": "python3"
  },
  "language_info": {
   "codemirror_mode": {
    "name": "ipython",
    "version": 3
   },
   "file_extension": ".py",
   "mimetype": "text/x-python",
   "name": "python",
   "nbconvert_exporter": "python",
   "pygments_lexer": "ipython3",
   "version": "3.13.9"
  },
  "nteract": {
   "version": "0.28.0"
  },
  "widgets": {
   "application/vnd.jupyter.widget-state+json": {
    "state": {
     "035ab33361e7432caecc80ca2a176575": {
      "model_module": "@jupyter-widgets/controls",
      "model_module_version": "2.0.0",
      "model_name": "FloatProgressModel",
      "state": {
       "_dom_classes": [],
       "_model_module": "@jupyter-widgets/controls",
       "_model_module_version": "2.0.0",
       "_model_name": "FloatProgressModel",
       "_view_count": null,
       "_view_module": "@jupyter-widgets/controls",
       "_view_module_version": "2.0.0",
       "_view_name": "ProgressView",
       "bar_style": "success",
       "description": "",
       "description_allow_html": false,
       "layout": "IPY_MODEL_77f9a290f7dd4b219ba4f735555140e1",
       "max": 256,
       "min": 0,
       "orientation": "horizontal",
       "style": "IPY_MODEL_84e6789a386f4cc3b967f7880483983c",
       "tabbable": null,
       "tooltip": null,
       "value": 256
      }
     },
     "0b73ffb834c2419c973499fdf717431d": {
      "model_module": "@jupyter-widgets/base",
      "model_module_version": "2.0.0",
      "model_name": "LayoutModel",
      "state": {
       "_model_module": "@jupyter-widgets/base",
       "_model_module_version": "2.0.0",
       "_model_name": "LayoutModel",
       "_view_count": null,
       "_view_module": "@jupyter-widgets/base",
       "_view_module_version": "2.0.0",
       "_view_name": "LayoutView",
       "align_content": null,
       "align_items": null,
       "align_self": null,
       "border_bottom": null,
       "border_left": null,
       "border_right": null,
       "border_top": null,
       "bottom": null,
       "display": null,
       "flex": null,
       "flex_flow": null,
       "grid_area": null,
       "grid_auto_columns": null,
       "grid_auto_flow": null,
       "grid_auto_rows": null,
       "grid_column": null,
       "grid_gap": null,
       "grid_row": null,
       "grid_template_areas": null,
       "grid_template_columns": null,
       "grid_template_rows": null,
       "height": null,
       "justify_content": null,
       "justify_items": null,
       "left": null,
       "margin": null,
       "max_height": null,
       "max_width": null,
       "min_height": null,
       "min_width": null,
       "object_fit": null,
       "object_position": null,
       "order": null,
       "overflow": null,
       "padding": null,
       "right": null,
       "top": null,
       "visibility": null,
       "width": null
      }
     },
     "11ae0a75f5b344f396d64dc0adfc23d4": {
      "model_module": "@jupyter-widgets/controls",
      "model_module_version": "2.0.0",
      "model_name": "HTMLStyleModel",
      "state": {
       "_model_module": "@jupyter-widgets/controls",
       "_model_module_version": "2.0.0",
       "_model_name": "HTMLStyleModel",
       "_view_count": null,
       "_view_module": "@jupyter-widgets/base",
       "_view_module_version": "2.0.0",
       "_view_name": "StyleView",
       "background": null,
       "description_width": "",
       "font_size": null,
       "text_color": null
      }
     },
     "1216f0c7b01543ab9e1c4767e78ec994": {
      "model_module": "@jupyter-widgets/base",
      "model_module_version": "2.0.0",
      "model_name": "LayoutModel",
      "state": {
       "_model_module": "@jupyter-widgets/base",
       "_model_module_version": "2.0.0",
       "_model_name": "LayoutModel",
       "_view_count": null,
       "_view_module": "@jupyter-widgets/base",
       "_view_module_version": "2.0.0",
       "_view_name": "LayoutView",
       "align_content": null,
       "align_items": null,
       "align_self": null,
       "border_bottom": null,
       "border_left": null,
       "border_right": null,
       "border_top": null,
       "bottom": null,
       "display": null,
       "flex": null,
       "flex_flow": null,
       "grid_area": null,
       "grid_auto_columns": null,
       "grid_auto_flow": null,
       "grid_auto_rows": null,
       "grid_column": null,
       "grid_gap": null,
       "grid_row": null,
       "grid_template_areas": null,
       "grid_template_columns": null,
       "grid_template_rows": null,
       "height": null,
       "justify_content": null,
       "justify_items": null,
       "left": null,
       "margin": null,
       "max_height": null,
       "max_width": null,
       "min_height": null,
       "min_width": null,
       "object_fit": null,
       "object_position": null,
       "order": null,
       "overflow": null,
       "padding": null,
       "right": null,
       "top": null,
       "visibility": null,
       "width": null
      }
     },
     "17ebce389fa846d99920f6c9c3a1210c": {
      "model_module": "@jupyter-widgets/controls",
      "model_module_version": "2.0.0",
      "model_name": "HTMLModel",
      "state": {
       "_dom_classes": [],
       "_model_module": "@jupyter-widgets/controls",
       "_model_module_version": "2.0.0",
       "_model_name": "HTMLModel",
       "_view_count": null,
       "_view_module": "@jupyter-widgets/controls",
       "_view_module_version": "2.0.0",
       "_view_name": "HTMLView",
       "description": "",
       "description_allow_html": false,
       "layout": "IPY_MODEL_c078cae24ae7430bace625a76b1cb988",
       "placeholder": "​",
       "style": "IPY_MODEL_f16c0a10ddef42d883635f671bda9653",
       "tabbable": null,
       "tooltip": null,
       "value": "100%"
      }
     },
     "190c5912ea914b8bb29e2203e0c9d745": {
      "model_module": "@jupyter-widgets/controls",
      "model_module_version": "2.0.0",
      "model_name": "FloatProgressModel",
      "state": {
       "_dom_classes": [],
       "_model_module": "@jupyter-widgets/controls",
       "_model_module_version": "2.0.0",
       "_model_name": "FloatProgressModel",
       "_view_count": null,
       "_view_module": "@jupyter-widgets/controls",
       "_view_module_version": "2.0.0",
       "_view_name": "ProgressView",
       "bar_style": "success",
       "description": "",
       "description_allow_html": false,
       "layout": "IPY_MODEL_d2044911f735442cbe3dc75e7249db0f",
       "max": 256,
       "min": 0,
       "orientation": "horizontal",
       "style": "IPY_MODEL_cd112c61118142adadc1ffdc3d4fd7dc",
       "tabbable": null,
       "tooltip": null,
       "value": 256
      }
     },
     "19f777cef46a4e6980ab4469675293a5": {
      "model_module": "@jupyter-widgets/controls",
      "model_module_version": "2.0.0",
      "model_name": "FloatProgressModel",
      "state": {
       "_dom_classes": [],
       "_model_module": "@jupyter-widgets/controls",
       "_model_module_version": "2.0.0",
       "_model_name": "FloatProgressModel",
       "_view_count": null,
       "_view_module": "@jupyter-widgets/controls",
       "_view_module_version": "2.0.0",
       "_view_name": "ProgressView",
       "bar_style": "success",
       "description": "",
       "description_allow_html": false,
       "layout": "IPY_MODEL_4a9c13ffbb134906a5773a04df09a848",
       "max": 256,
       "min": 0,
       "orientation": "horizontal",
       "style": "IPY_MODEL_408b9a2d642145409181ce414bf5f650",
       "tabbable": null,
       "tooltip": null,
       "value": 256
      }
     },
     "1e646c9ebcb840a28822c80b583c341d": {
      "model_module": "@jupyter-widgets/controls",
      "model_module_version": "2.0.0",
      "model_name": "FloatProgressModel",
      "state": {
       "_dom_classes": [],
       "_model_module": "@jupyter-widgets/controls",
       "_model_module_version": "2.0.0",
       "_model_name": "FloatProgressModel",
       "_view_count": null,
       "_view_module": "@jupyter-widgets/controls",
       "_view_module_version": "2.0.0",
       "_view_name": "ProgressView",
       "bar_style": "success",
       "description": "",
       "description_allow_html": false,
       "layout": "IPY_MODEL_231d8780a5db46418e5778863597aac4",
       "max": 256,
       "min": 0,
       "orientation": "horizontal",
       "style": "IPY_MODEL_cc8031db1bd442d1a481d859e4f8c3d1",
       "tabbable": null,
       "tooltip": null,
       "value": 256
      }
     },
     "231d8780a5db46418e5778863597aac4": {
      "model_module": "@jupyter-widgets/base",
      "model_module_version": "2.0.0",
      "model_name": "LayoutModel",
      "state": {
       "_model_module": "@jupyter-widgets/base",
       "_model_module_version": "2.0.0",
       "_model_name": "LayoutModel",
       "_view_count": null,
       "_view_module": "@jupyter-widgets/base",
       "_view_module_version": "2.0.0",
       "_view_name": "LayoutView",
       "align_content": null,
       "align_items": null,
       "align_self": null,
       "border_bottom": null,
       "border_left": null,
       "border_right": null,
       "border_top": null,
       "bottom": null,
       "display": null,
       "flex": null,
       "flex_flow": null,
       "grid_area": null,
       "grid_auto_columns": null,
       "grid_auto_flow": null,
       "grid_auto_rows": null,
       "grid_column": null,
       "grid_gap": null,
       "grid_row": null,
       "grid_template_areas": null,
       "grid_template_columns": null,
       "grid_template_rows": null,
       "height": null,
       "justify_content": null,
       "justify_items": null,
       "left": null,
       "margin": null,
       "max_height": null,
       "max_width": null,
       "min_height": null,
       "min_width": null,
       "object_fit": null,
       "object_position": null,
       "order": null,
       "overflow": null,
       "padding": null,
       "right": null,
       "top": null,
       "visibility": null,
       "width": null
      }
     },
     "2410a91c9a7a4826b7d3c14d541ff69d": {
      "model_module": "@jupyter-widgets/base",
      "model_module_version": "2.0.0",
      "model_name": "LayoutModel",
      "state": {
       "_model_module": "@jupyter-widgets/base",
       "_model_module_version": "2.0.0",
       "_model_name": "LayoutModel",
       "_view_count": null,
       "_view_module": "@jupyter-widgets/base",
       "_view_module_version": "2.0.0",
       "_view_name": "LayoutView",
       "align_content": null,
       "align_items": null,
       "align_self": null,
       "border_bottom": null,
       "border_left": null,
       "border_right": null,
       "border_top": null,
       "bottom": null,
       "display": null,
       "flex": null,
       "flex_flow": null,
       "grid_area": null,
       "grid_auto_columns": null,
       "grid_auto_flow": null,
       "grid_auto_rows": null,
       "grid_column": null,
       "grid_gap": null,
       "grid_row": null,
       "grid_template_areas": null,
       "grid_template_columns": null,
       "grid_template_rows": null,
       "height": null,
       "justify_content": null,
       "justify_items": null,
       "left": null,
       "margin": null,
       "max_height": null,
       "max_width": null,
       "min_height": null,
       "min_width": null,
       "object_fit": null,
       "object_position": null,
       "order": null,
       "overflow": null,
       "padding": null,
       "right": null,
       "top": null,
       "visibility": null,
       "width": null
      }
     },
     "2b93a83bd14041d0bf240a1e8ed105da": {
      "model_module": "@jupyter-widgets/controls",
      "model_module_version": "2.0.0",
      "model_name": "HBoxModel",
      "state": {
       "_dom_classes": [],
       "_model_module": "@jupyter-widgets/controls",
       "_model_module_version": "2.0.0",
       "_model_name": "HBoxModel",
       "_view_count": null,
       "_view_module": "@jupyter-widgets/controls",
       "_view_module_version": "2.0.0",
       "_view_name": "HBoxView",
       "box_style": "",
       "children": [
        "IPY_MODEL_17ebce389fa846d99920f6c9c3a1210c",
        "IPY_MODEL_190c5912ea914b8bb29e2203e0c9d745",
        "IPY_MODEL_d0069e861bec45358c5749eb8eb64139"
       ],
       "layout": "IPY_MODEL_391312d9ce614c36bd1c1339c4c1d3fa",
       "tabbable": null,
       "tooltip": null
      }
     },
     "33722c82ab7341d5ab4b56bce068d1e0": {
      "model_module": "@jupyter-widgets/controls",
      "model_module_version": "2.0.0",
      "model_name": "HBoxModel",
      "state": {
       "_dom_classes": [],
       "_model_module": "@jupyter-widgets/controls",
       "_model_module_version": "2.0.0",
       "_model_name": "HBoxModel",
       "_view_count": null,
       "_view_module": "@jupyter-widgets/controls",
       "_view_module_version": "2.0.0",
       "_view_name": "HBoxView",
       "box_style": "",
       "children": [
        "IPY_MODEL_34fc442a740f453aa8eb4733a00b33ee",
        "IPY_MODEL_19f777cef46a4e6980ab4469675293a5",
        "IPY_MODEL_466bad0aef824176a0778b38af7f0cc8"
       ],
       "layout": "IPY_MODEL_1216f0c7b01543ab9e1c4767e78ec994",
       "tabbable": null,
       "tooltip": null
      }
     },
     "34fc442a740f453aa8eb4733a00b33ee": {
      "model_module": "@jupyter-widgets/controls",
      "model_module_version": "2.0.0",
      "model_name": "HTMLModel",
      "state": {
       "_dom_classes": [],
       "_model_module": "@jupyter-widgets/controls",
       "_model_module_version": "2.0.0",
       "_model_name": "HTMLModel",
       "_view_count": null,
       "_view_module": "@jupyter-widgets/controls",
       "_view_module_version": "2.0.0",
       "_view_name": "HTMLView",
       "description": "",
       "description_allow_html": false,
       "layout": "IPY_MODEL_c26548a3142c45f1adfa8abc1815ac5f",
       "placeholder": "​",
       "style": "IPY_MODEL_11ae0a75f5b344f396d64dc0adfc23d4",
       "tabbable": null,
       "tooltip": null,
       "value": "100%"
      }
     },
     "372ec21d55b140a3b2f2485311a94b90": {
      "model_module": "@jupyter-widgets/controls",
      "model_module_version": "2.0.0",
      "model_name": "HTMLStyleModel",
      "state": {
       "_model_module": "@jupyter-widgets/controls",
       "_model_module_version": "2.0.0",
       "_model_name": "HTMLStyleModel",
       "_view_count": null,
       "_view_module": "@jupyter-widgets/base",
       "_view_module_version": "2.0.0",
       "_view_name": "StyleView",
       "background": null,
       "description_width": "",
       "font_size": null,
       "text_color": null
      }
     },
     "38a8e734f8a54c31bea5268b58557a88": {
      "model_module": "@jupyter-widgets/controls",
      "model_module_version": "2.0.0",
      "model_name": "HBoxModel",
      "state": {
       "_dom_classes": [],
       "_model_module": "@jupyter-widgets/controls",
       "_model_module_version": "2.0.0",
       "_model_name": "HBoxModel",
       "_view_count": null,
       "_view_module": "@jupyter-widgets/controls",
       "_view_module_version": "2.0.0",
       "_view_name": "HBoxView",
       "box_style": "",
       "children": [
        "IPY_MODEL_b8499c15522745cd9981166aa85f493d",
        "IPY_MODEL_7e3049db598142689e39c20322342839",
        "IPY_MODEL_4b89e27ea7dd4ad2848898a2e945d660"
       ],
       "layout": "IPY_MODEL_d69c4d7c0ffd4195b09a98ea697a7a77",
       "tabbable": null,
       "tooltip": null
      }
     },
     "391312d9ce614c36bd1c1339c4c1d3fa": {
      "model_module": "@jupyter-widgets/base",
      "model_module_version": "2.0.0",
      "model_name": "LayoutModel",
      "state": {
       "_model_module": "@jupyter-widgets/base",
       "_model_module_version": "2.0.0",
       "_model_name": "LayoutModel",
       "_view_count": null,
       "_view_module": "@jupyter-widgets/base",
       "_view_module_version": "2.0.0",
       "_view_name": "LayoutView",
       "align_content": null,
       "align_items": null,
       "align_self": null,
       "border_bottom": null,
       "border_left": null,
       "border_right": null,
       "border_top": null,
       "bottom": null,
       "display": null,
       "flex": null,
       "flex_flow": null,
       "grid_area": null,
       "grid_auto_columns": null,
       "grid_auto_flow": null,
       "grid_auto_rows": null,
       "grid_column": null,
       "grid_gap": null,
       "grid_row": null,
       "grid_template_areas": null,
       "grid_template_columns": null,
       "grid_template_rows": null,
       "height": null,
       "justify_content": null,
       "justify_items": null,
       "left": null,
       "margin": null,
       "max_height": null,
       "max_width": null,
       "min_height": null,
       "min_width": null,
       "object_fit": null,
       "object_position": null,
       "order": null,
       "overflow": null,
       "padding": null,
       "right": null,
       "top": null,
       "visibility": null,
       "width": null
      }
     },
     "408b9a2d642145409181ce414bf5f650": {
      "model_module": "@jupyter-widgets/controls",
      "model_module_version": "2.0.0",
      "model_name": "ProgressStyleModel",
      "state": {
       "_model_module": "@jupyter-widgets/controls",
       "_model_module_version": "2.0.0",
       "_model_name": "ProgressStyleModel",
       "_view_count": null,
       "_view_module": "@jupyter-widgets/base",
       "_view_module_version": "2.0.0",
       "_view_name": "StyleView",
       "bar_color": null,
       "description_width": ""
      }
     },
     "40e490736bdb4e9b91ecc29d8ebfcb9a": {
      "model_module": "@jupyter-widgets/controls",
      "model_module_version": "2.0.0",
      "model_name": "HTMLModel",
      "state": {
       "_dom_classes": [],
       "_model_module": "@jupyter-widgets/controls",
       "_model_module_version": "2.0.0",
       "_model_name": "HTMLModel",
       "_view_count": null,
       "_view_module": "@jupyter-widgets/controls",
       "_view_module_version": "2.0.0",
       "_view_name": "HTMLView",
       "description": "",
       "description_allow_html": false,
       "layout": "IPY_MODEL_0b73ffb834c2419c973499fdf717431d",
       "placeholder": "​",
       "style": "IPY_MODEL_92ddbe5f71f340e09a33f004c0f625c0",
       "tabbable": null,
       "tooltip": null,
       "value": "100%"
      }
     },
     "41c8f627da6e4adda218239203e2aaca": {
      "model_module": "@jupyter-widgets/base",
      "model_module_version": "2.0.0",
      "model_name": "LayoutModel",
      "state": {
       "_model_module": "@jupyter-widgets/base",
       "_model_module_version": "2.0.0",
       "_model_name": "LayoutModel",
       "_view_count": null,
       "_view_module": "@jupyter-widgets/base",
       "_view_module_version": "2.0.0",
       "_view_name": "LayoutView",
       "align_content": null,
       "align_items": null,
       "align_self": null,
       "border_bottom": null,
       "border_left": null,
       "border_right": null,
       "border_top": null,
       "bottom": null,
       "display": null,
       "flex": null,
       "flex_flow": null,
       "grid_area": null,
       "grid_auto_columns": null,
       "grid_auto_flow": null,
       "grid_auto_rows": null,
       "grid_column": null,
       "grid_gap": null,
       "grid_row": null,
       "grid_template_areas": null,
       "grid_template_columns": null,
       "grid_template_rows": null,
       "height": null,
       "justify_content": null,
       "justify_items": null,
       "left": null,
       "margin": null,
       "max_height": null,
       "max_width": null,
       "min_height": null,
       "min_width": null,
       "object_fit": null,
       "object_position": null,
       "order": null,
       "overflow": null,
       "padding": null,
       "right": null,
       "top": null,
       "visibility": null,
       "width": null
      }
     },
     "466bad0aef824176a0778b38af7f0cc8": {
      "model_module": "@jupyter-widgets/controls",
      "model_module_version": "2.0.0",
      "model_name": "HTMLModel",
      "state": {
       "_dom_classes": [],
       "_model_module": "@jupyter-widgets/controls",
       "_model_module_version": "2.0.0",
       "_model_name": "HTMLModel",
       "_view_count": null,
       "_view_module": "@jupyter-widgets/controls",
       "_view_module_version": "2.0.0",
       "_view_name": "HTMLView",
       "description": "",
       "description_allow_html": false,
       "layout": "IPY_MODEL_fd94337716a24629bbbf38eb2d910e17",
       "placeholder": "​",
       "style": "IPY_MODEL_62eaeb24301b45bdbed6f793ae2a80d3",
       "tabbable": null,
       "tooltip": null,
       "value": " 256/256 [28:51&lt;00:00,  6.95s/it]"
      }
     },
     "4a9c13ffbb134906a5773a04df09a848": {
      "model_module": "@jupyter-widgets/base",
      "model_module_version": "2.0.0",
      "model_name": "LayoutModel",
      "state": {
       "_model_module": "@jupyter-widgets/base",
       "_model_module_version": "2.0.0",
       "_model_name": "LayoutModel",
       "_view_count": null,
       "_view_module": "@jupyter-widgets/base",
       "_view_module_version": "2.0.0",
       "_view_name": "LayoutView",
       "align_content": null,
       "align_items": null,
       "align_self": null,
       "border_bottom": null,
       "border_left": null,
       "border_right": null,
       "border_top": null,
       "bottom": null,
       "display": null,
       "flex": null,
       "flex_flow": null,
       "grid_area": null,
       "grid_auto_columns": null,
       "grid_auto_flow": null,
       "grid_auto_rows": null,
       "grid_column": null,
       "grid_gap": null,
       "grid_row": null,
       "grid_template_areas": null,
       "grid_template_columns": null,
       "grid_template_rows": null,
       "height": null,
       "justify_content": null,
       "justify_items": null,
       "left": null,
       "margin": null,
       "max_height": null,
       "max_width": null,
       "min_height": null,
       "min_width": null,
       "object_fit": null,
       "object_position": null,
       "order": null,
       "overflow": null,
       "padding": null,
       "right": null,
       "top": null,
       "visibility": null,
       "width": null
      }
     },
     "4b89e27ea7dd4ad2848898a2e945d660": {
      "model_module": "@jupyter-widgets/controls",
      "model_module_version": "2.0.0",
      "model_name": "HTMLModel",
      "state": {
       "_dom_classes": [],
       "_model_module": "@jupyter-widgets/controls",
       "_model_module_version": "2.0.0",
       "_model_name": "HTMLModel",
       "_view_count": null,
       "_view_module": "@jupyter-widgets/controls",
       "_view_module_version": "2.0.0",
       "_view_name": "HTMLView",
       "description": "",
       "description_allow_html": false,
       "layout": "IPY_MODEL_6842b6809a9e45cfb0e702de8bc33a4a",
       "placeholder": "​",
       "style": "IPY_MODEL_c59fd60c9cf0495b922c74febebcfd99",
       "tabbable": null,
       "tooltip": null,
       "value": " 256/256 [27:26&lt;00:00,  6.35s/it]"
      }
     },
     "4bc5b7e763bd41efb3f51b7faf6b2553": {
      "model_module": "@jupyter-widgets/base",
      "model_module_version": "2.0.0",
      "model_name": "LayoutModel",
      "state": {
       "_model_module": "@jupyter-widgets/base",
       "_model_module_version": "2.0.0",
       "_model_name": "LayoutModel",
       "_view_count": null,
       "_view_module": "@jupyter-widgets/base",
       "_view_module_version": "2.0.0",
       "_view_name": "LayoutView",
       "align_content": null,
       "align_items": null,
       "align_self": null,
       "border_bottom": null,
       "border_left": null,
       "border_right": null,
       "border_top": null,
       "bottom": null,
       "display": null,
       "flex": null,
       "flex_flow": null,
       "grid_area": null,
       "grid_auto_columns": null,
       "grid_auto_flow": null,
       "grid_auto_rows": null,
       "grid_column": null,
       "grid_gap": null,
       "grid_row": null,
       "grid_template_areas": null,
       "grid_template_columns": null,
       "grid_template_rows": null,
       "height": null,
       "justify_content": null,
       "justify_items": null,
       "left": null,
       "margin": null,
       "max_height": null,
       "max_width": null,
       "min_height": null,
       "min_width": null,
       "object_fit": null,
       "object_position": null,
       "order": null,
       "overflow": null,
       "padding": null,
       "right": null,
       "top": null,
       "visibility": null,
       "width": null
      }
     },
     "623cfb29c2674e3e8afa956617fee28d": {
      "model_module": "@jupyter-widgets/controls",
      "model_module_version": "2.0.0",
      "model_name": "HTMLModel",
      "state": {
       "_dom_classes": [],
       "_model_module": "@jupyter-widgets/controls",
       "_model_module_version": "2.0.0",
       "_model_name": "HTMLModel",
       "_view_count": null,
       "_view_module": "@jupyter-widgets/controls",
       "_view_module_version": "2.0.0",
       "_view_name": "HTMLView",
       "description": "",
       "description_allow_html": false,
       "layout": "IPY_MODEL_d22ead2504ee49e6bdda108317f45ac1",
       "placeholder": "​",
       "style": "IPY_MODEL_7d93c028c6b249fbbb05b7bb576f6e14",
       "tabbable": null,
       "tooltip": null,
       "value": " 256/256 [29:09&lt;00:00,  6.42s/it]"
      }
     },
     "62eaeb24301b45bdbed6f793ae2a80d3": {
      "model_module": "@jupyter-widgets/controls",
      "model_module_version": "2.0.0",
      "model_name": "HTMLStyleModel",
      "state": {
       "_model_module": "@jupyter-widgets/controls",
       "_model_module_version": "2.0.0",
       "_model_name": "HTMLStyleModel",
       "_view_count": null,
       "_view_module": "@jupyter-widgets/base",
       "_view_module_version": "2.0.0",
       "_view_name": "StyleView",
       "background": null,
       "description_width": "",
       "font_size": null,
       "text_color": null
      }
     },
     "6589ece8f1bd4f259fa2daee94834cee": {
      "model_module": "@jupyter-widgets/base",
      "model_module_version": "2.0.0",
      "model_name": "LayoutModel",
      "state": {
       "_model_module": "@jupyter-widgets/base",
       "_model_module_version": "2.0.0",
       "_model_name": "LayoutModel",
       "_view_count": null,
       "_view_module": "@jupyter-widgets/base",
       "_view_module_version": "2.0.0",
       "_view_name": "LayoutView",
       "align_content": null,
       "align_items": null,
       "align_self": null,
       "border_bottom": null,
       "border_left": null,
       "border_right": null,
       "border_top": null,
       "bottom": null,
       "display": null,
       "flex": null,
       "flex_flow": null,
       "grid_area": null,
       "grid_auto_columns": null,
       "grid_auto_flow": null,
       "grid_auto_rows": null,
       "grid_column": null,
       "grid_gap": null,
       "grid_row": null,
       "grid_template_areas": null,
       "grid_template_columns": null,
       "grid_template_rows": null,
       "height": null,
       "justify_content": null,
       "justify_items": null,
       "left": null,
       "margin": null,
       "max_height": null,
       "max_width": null,
       "min_height": null,
       "min_width": null,
       "object_fit": null,
       "object_position": null,
       "order": null,
       "overflow": null,
       "padding": null,
       "right": null,
       "top": null,
       "visibility": null,
       "width": null
      }
     },
     "6842b6809a9e45cfb0e702de8bc33a4a": {
      "model_module": "@jupyter-widgets/base",
      "model_module_version": "2.0.0",
      "model_name": "LayoutModel",
      "state": {
       "_model_module": "@jupyter-widgets/base",
       "_model_module_version": "2.0.0",
       "_model_name": "LayoutModel",
       "_view_count": null,
       "_view_module": "@jupyter-widgets/base",
       "_view_module_version": "2.0.0",
       "_view_name": "LayoutView",
       "align_content": null,
       "align_items": null,
       "align_self": null,
       "border_bottom": null,
       "border_left": null,
       "border_right": null,
       "border_top": null,
       "bottom": null,
       "display": null,
       "flex": null,
       "flex_flow": null,
       "grid_area": null,
       "grid_auto_columns": null,
       "grid_auto_flow": null,
       "grid_auto_rows": null,
       "grid_column": null,
       "grid_gap": null,
       "grid_row": null,
       "grid_template_areas": null,
       "grid_template_columns": null,
       "grid_template_rows": null,
       "height": null,
       "justify_content": null,
       "justify_items": null,
       "left": null,
       "margin": null,
       "max_height": null,
       "max_width": null,
       "min_height": null,
       "min_width": null,
       "object_fit": null,
       "object_position": null,
       "order": null,
       "overflow": null,
       "padding": null,
       "right": null,
       "top": null,
       "visibility": null,
       "width": null
      }
     },
     "69223a6848db4101aa62cbe286345231": {
      "model_module": "@jupyter-widgets/controls",
      "model_module_version": "2.0.0",
      "model_name": "HBoxModel",
      "state": {
       "_dom_classes": [],
       "_model_module": "@jupyter-widgets/controls",
       "_model_module_version": "2.0.0",
       "_model_name": "HBoxModel",
       "_view_count": null,
       "_view_module": "@jupyter-widgets/controls",
       "_view_module_version": "2.0.0",
       "_view_name": "HBoxView",
       "box_style": "",
       "children": [
        "IPY_MODEL_fbcf6af361ec40ffba104e09c0d7eb15",
        "IPY_MODEL_035ab33361e7432caecc80ca2a176575",
        "IPY_MODEL_9ae4138d5c6040ff8f31487f21120a6e"
       ],
       "layout": "IPY_MODEL_937ce84eb341402aac3fa07fed6cafd0",
       "tabbable": null,
       "tooltip": null
      }
     },
     "7279d281d2c34657bff252e8df63f4c5": {
      "model_module": "@jupyter-widgets/controls",
      "model_module_version": "2.0.0",
      "model_name": "HTMLStyleModel",
      "state": {
       "_model_module": "@jupyter-widgets/controls",
       "_model_module_version": "2.0.0",
       "_model_name": "HTMLStyleModel",
       "_view_count": null,
       "_view_module": "@jupyter-widgets/base",
       "_view_module_version": "2.0.0",
       "_view_name": "StyleView",
       "background": null,
       "description_width": "",
       "font_size": null,
       "text_color": null
      }
     },
     "77f9a290f7dd4b219ba4f735555140e1": {
      "model_module": "@jupyter-widgets/base",
      "model_module_version": "2.0.0",
      "model_name": "LayoutModel",
      "state": {
       "_model_module": "@jupyter-widgets/base",
       "_model_module_version": "2.0.0",
       "_model_name": "LayoutModel",
       "_view_count": null,
       "_view_module": "@jupyter-widgets/base",
       "_view_module_version": "2.0.0",
       "_view_name": "LayoutView",
       "align_content": null,
       "align_items": null,
       "align_self": null,
       "border_bottom": null,
       "border_left": null,
       "border_right": null,
       "border_top": null,
       "bottom": null,
       "display": null,
       "flex": null,
       "flex_flow": null,
       "grid_area": null,
       "grid_auto_columns": null,
       "grid_auto_flow": null,
       "grid_auto_rows": null,
       "grid_column": null,
       "grid_gap": null,
       "grid_row": null,
       "grid_template_areas": null,
       "grid_template_columns": null,
       "grid_template_rows": null,
       "height": null,
       "justify_content": null,
       "justify_items": null,
       "left": null,
       "margin": null,
       "max_height": null,
       "max_width": null,
       "min_height": null,
       "min_width": null,
       "object_fit": null,
       "object_position": null,
       "order": null,
       "overflow": null,
       "padding": null,
       "right": null,
       "top": null,
       "visibility": null,
       "width": null
      }
     },
     "7d93c028c6b249fbbb05b7bb576f6e14": {
      "model_module": "@jupyter-widgets/controls",
      "model_module_version": "2.0.0",
      "model_name": "HTMLStyleModel",
      "state": {
       "_model_module": "@jupyter-widgets/controls",
       "_model_module_version": "2.0.0",
       "_model_name": "HTMLStyleModel",
       "_view_count": null,
       "_view_module": "@jupyter-widgets/base",
       "_view_module_version": "2.0.0",
       "_view_name": "StyleView",
       "background": null,
       "description_width": "",
       "font_size": null,
       "text_color": null
      }
     },
     "7e3049db598142689e39c20322342839": {
      "model_module": "@jupyter-widgets/controls",
      "model_module_version": "2.0.0",
      "model_name": "FloatProgressModel",
      "state": {
       "_dom_classes": [],
       "_model_module": "@jupyter-widgets/controls",
       "_model_module_version": "2.0.0",
       "_model_name": "FloatProgressModel",
       "_view_count": null,
       "_view_module": "@jupyter-widgets/controls",
       "_view_module_version": "2.0.0",
       "_view_name": "ProgressView",
       "bar_style": "success",
       "description": "",
       "description_allow_html": false,
       "layout": "IPY_MODEL_6589ece8f1bd4f259fa2daee94834cee",
       "max": 256,
       "min": 0,
       "orientation": "horizontal",
       "style": "IPY_MODEL_bd094cda8b3c4855a4ed1300edf3f2c3",
       "tabbable": null,
       "tooltip": null,
       "value": 256
      }
     },
     "84e6789a386f4cc3b967f7880483983c": {
      "model_module": "@jupyter-widgets/controls",
      "model_module_version": "2.0.0",
      "model_name": "ProgressStyleModel",
      "state": {
       "_model_module": "@jupyter-widgets/controls",
       "_model_module_version": "2.0.0",
       "_model_name": "ProgressStyleModel",
       "_view_count": null,
       "_view_module": "@jupyter-widgets/base",
       "_view_module_version": "2.0.0",
       "_view_name": "StyleView",
       "bar_color": null,
       "description_width": ""
      }
     },
     "92ddbe5f71f340e09a33f004c0f625c0": {
      "model_module": "@jupyter-widgets/controls",
      "model_module_version": "2.0.0",
      "model_name": "HTMLStyleModel",
      "state": {
       "_model_module": "@jupyter-widgets/controls",
       "_model_module_version": "2.0.0",
       "_model_name": "HTMLStyleModel",
       "_view_count": null,
       "_view_module": "@jupyter-widgets/base",
       "_view_module_version": "2.0.0",
       "_view_name": "StyleView",
       "background": null,
       "description_width": "",
       "font_size": null,
       "text_color": null
      }
     },
     "937ce84eb341402aac3fa07fed6cafd0": {
      "model_module": "@jupyter-widgets/base",
      "model_module_version": "2.0.0",
      "model_name": "LayoutModel",
      "state": {
       "_model_module": "@jupyter-widgets/base",
       "_model_module_version": "2.0.0",
       "_model_name": "LayoutModel",
       "_view_count": null,
       "_view_module": "@jupyter-widgets/base",
       "_view_module_version": "2.0.0",
       "_view_name": "LayoutView",
       "align_content": null,
       "align_items": null,
       "align_self": null,
       "border_bottom": null,
       "border_left": null,
       "border_right": null,
       "border_top": null,
       "bottom": null,
       "display": null,
       "flex": null,
       "flex_flow": null,
       "grid_area": null,
       "grid_auto_columns": null,
       "grid_auto_flow": null,
       "grid_auto_rows": null,
       "grid_column": null,
       "grid_gap": null,
       "grid_row": null,
       "grid_template_areas": null,
       "grid_template_columns": null,
       "grid_template_rows": null,
       "height": null,
       "justify_content": null,
       "justify_items": null,
       "left": null,
       "margin": null,
       "max_height": null,
       "max_width": null,
       "min_height": null,
       "min_width": null,
       "object_fit": null,
       "object_position": null,
       "order": null,
       "overflow": null,
       "padding": null,
       "right": null,
       "top": null,
       "visibility": null,
       "width": null
      }
     },
     "9650fef1b09348cb8cff5a63a56850b7": {
      "model_module": "@jupyter-widgets/base",
      "model_module_version": "2.0.0",
      "model_name": "LayoutModel",
      "state": {
       "_model_module": "@jupyter-widgets/base",
       "_model_module_version": "2.0.0",
       "_model_name": "LayoutModel",
       "_view_count": null,
       "_view_module": "@jupyter-widgets/base",
       "_view_module_version": "2.0.0",
       "_view_name": "LayoutView",
       "align_content": null,
       "align_items": null,
       "align_self": null,
       "border_bottom": null,
       "border_left": null,
       "border_right": null,
       "border_top": null,
       "bottom": null,
       "display": null,
       "flex": null,
       "flex_flow": null,
       "grid_area": null,
       "grid_auto_columns": null,
       "grid_auto_flow": null,
       "grid_auto_rows": null,
       "grid_column": null,
       "grid_gap": null,
       "grid_row": null,
       "grid_template_areas": null,
       "grid_template_columns": null,
       "grid_template_rows": null,
       "height": null,
       "justify_content": null,
       "justify_items": null,
       "left": null,
       "margin": null,
       "max_height": null,
       "max_width": null,
       "min_height": null,
       "min_width": null,
       "object_fit": null,
       "object_position": null,
       "order": null,
       "overflow": null,
       "padding": null,
       "right": null,
       "top": null,
       "visibility": null,
       "width": null
      }
     },
     "9a36404c5a734fb38c2b22c9878a5745": {
      "model_module": "@jupyter-widgets/controls",
      "model_module_version": "2.0.0",
      "model_name": "HBoxModel",
      "state": {
       "_dom_classes": [],
       "_model_module": "@jupyter-widgets/controls",
       "_model_module_version": "2.0.0",
       "_model_name": "HBoxModel",
       "_view_count": null,
       "_view_module": "@jupyter-widgets/controls",
       "_view_module_version": "2.0.0",
       "_view_name": "HBoxView",
       "box_style": "",
       "children": [
        "IPY_MODEL_40e490736bdb4e9b91ecc29d8ebfcb9a",
        "IPY_MODEL_1e646c9ebcb840a28822c80b583c341d",
        "IPY_MODEL_623cfb29c2674e3e8afa956617fee28d"
       ],
       "layout": "IPY_MODEL_41c8f627da6e4adda218239203e2aaca",
       "tabbable": null,
       "tooltip": null
      }
     },
     "9ae4138d5c6040ff8f31487f21120a6e": {
      "model_module": "@jupyter-widgets/controls",
      "model_module_version": "2.0.0",
      "model_name": "HTMLModel",
      "state": {
       "_dom_classes": [],
       "_model_module": "@jupyter-widgets/controls",
       "_model_module_version": "2.0.0",
       "_model_name": "HTMLModel",
       "_view_count": null,
       "_view_module": "@jupyter-widgets/controls",
       "_view_module_version": "2.0.0",
       "_view_name": "HTMLView",
       "description": "",
       "description_allow_html": false,
       "layout": "IPY_MODEL_ff03739d18014246817c21e4dbf0a84a",
       "placeholder": "​",
       "style": "IPY_MODEL_e36bde94baa0470b804d73c4cc83a922",
       "tabbable": null,
       "tooltip": null,
       "value": " 256/256 [27:36&lt;00:00,  6.62s/it]"
      }
     },
     "b8499c15522745cd9981166aa85f493d": {
      "model_module": "@jupyter-widgets/controls",
      "model_module_version": "2.0.0",
      "model_name": "HTMLModel",
      "state": {
       "_dom_classes": [],
       "_model_module": "@jupyter-widgets/controls",
       "_model_module_version": "2.0.0",
       "_model_name": "HTMLModel",
       "_view_count": null,
       "_view_module": "@jupyter-widgets/controls",
       "_view_module_version": "2.0.0",
       "_view_name": "HTMLView",
       "description": "",
       "description_allow_html": false,
       "layout": "IPY_MODEL_2410a91c9a7a4826b7d3c14d541ff69d",
       "placeholder": "​",
       "style": "IPY_MODEL_bdbc8bdcb94f49e29847dd9b22e6add5",
       "tabbable": null,
       "tooltip": null,
       "value": "100%"
      }
     },
     "bd094cda8b3c4855a4ed1300edf3f2c3": {
      "model_module": "@jupyter-widgets/controls",
      "model_module_version": "2.0.0",
      "model_name": "ProgressStyleModel",
      "state": {
       "_model_module": "@jupyter-widgets/controls",
       "_model_module_version": "2.0.0",
       "_model_name": "ProgressStyleModel",
       "_view_count": null,
       "_view_module": "@jupyter-widgets/base",
       "_view_module_version": "2.0.0",
       "_view_name": "StyleView",
       "bar_color": null,
       "description_width": ""
      }
     },
     "bdbc8bdcb94f49e29847dd9b22e6add5": {
      "model_module": "@jupyter-widgets/controls",
      "model_module_version": "2.0.0",
      "model_name": "HTMLStyleModel",
      "state": {
       "_model_module": "@jupyter-widgets/controls",
       "_model_module_version": "2.0.0",
       "_model_name": "HTMLStyleModel",
       "_view_count": null,
       "_view_module": "@jupyter-widgets/base",
       "_view_module_version": "2.0.0",
       "_view_name": "StyleView",
       "background": null,
       "description_width": "",
       "font_size": null,
       "text_color": null
      }
     },
     "c078cae24ae7430bace625a76b1cb988": {
      "model_module": "@jupyter-widgets/base",
      "model_module_version": "2.0.0",
      "model_name": "LayoutModel",
      "state": {
       "_model_module": "@jupyter-widgets/base",
       "_model_module_version": "2.0.0",
       "_model_name": "LayoutModel",
       "_view_count": null,
       "_view_module": "@jupyter-widgets/base",
       "_view_module_version": "2.0.0",
       "_view_name": "LayoutView",
       "align_content": null,
       "align_items": null,
       "align_self": null,
       "border_bottom": null,
       "border_left": null,
       "border_right": null,
       "border_top": null,
       "bottom": null,
       "display": null,
       "flex": null,
       "flex_flow": null,
       "grid_area": null,
       "grid_auto_columns": null,
       "grid_auto_flow": null,
       "grid_auto_rows": null,
       "grid_column": null,
       "grid_gap": null,
       "grid_row": null,
       "grid_template_areas": null,
       "grid_template_columns": null,
       "grid_template_rows": null,
       "height": null,
       "justify_content": null,
       "justify_items": null,
       "left": null,
       "margin": null,
       "max_height": null,
       "max_width": null,
       "min_height": null,
       "min_width": null,
       "object_fit": null,
       "object_position": null,
       "order": null,
       "overflow": null,
       "padding": null,
       "right": null,
       "top": null,
       "visibility": null,
       "width": null
      }
     },
     "c26548a3142c45f1adfa8abc1815ac5f": {
      "model_module": "@jupyter-widgets/base",
      "model_module_version": "2.0.0",
      "model_name": "LayoutModel",
      "state": {
       "_model_module": "@jupyter-widgets/base",
       "_model_module_version": "2.0.0",
       "_model_name": "LayoutModel",
       "_view_count": null,
       "_view_module": "@jupyter-widgets/base",
       "_view_module_version": "2.0.0",
       "_view_name": "LayoutView",
       "align_content": null,
       "align_items": null,
       "align_self": null,
       "border_bottom": null,
       "border_left": null,
       "border_right": null,
       "border_top": null,
       "bottom": null,
       "display": null,
       "flex": null,
       "flex_flow": null,
       "grid_area": null,
       "grid_auto_columns": null,
       "grid_auto_flow": null,
       "grid_auto_rows": null,
       "grid_column": null,
       "grid_gap": null,
       "grid_row": null,
       "grid_template_areas": null,
       "grid_template_columns": null,
       "grid_template_rows": null,
       "height": null,
       "justify_content": null,
       "justify_items": null,
       "left": null,
       "margin": null,
       "max_height": null,
       "max_width": null,
       "min_height": null,
       "min_width": null,
       "object_fit": null,
       "object_position": null,
       "order": null,
       "overflow": null,
       "padding": null,
       "right": null,
       "top": null,
       "visibility": null,
       "width": null
      }
     },
     "c59fd60c9cf0495b922c74febebcfd99": {
      "model_module": "@jupyter-widgets/controls",
      "model_module_version": "2.0.0",
      "model_name": "HTMLStyleModel",
      "state": {
       "_model_module": "@jupyter-widgets/controls",
       "_model_module_version": "2.0.0",
       "_model_name": "HTMLStyleModel",
       "_view_count": null,
       "_view_module": "@jupyter-widgets/base",
       "_view_module_version": "2.0.0",
       "_view_name": "StyleView",
       "background": null,
       "description_width": "",
       "font_size": null,
       "text_color": null
      }
     },
     "cc8031db1bd442d1a481d859e4f8c3d1": {
      "model_module": "@jupyter-widgets/controls",
      "model_module_version": "2.0.0",
      "model_name": "ProgressStyleModel",
      "state": {
       "_model_module": "@jupyter-widgets/controls",
       "_model_module_version": "2.0.0",
       "_model_name": "ProgressStyleModel",
       "_view_count": null,
       "_view_module": "@jupyter-widgets/base",
       "_view_module_version": "2.0.0",
       "_view_name": "StyleView",
       "bar_color": null,
       "description_width": ""
      }
     },
     "cd112c61118142adadc1ffdc3d4fd7dc": {
      "model_module": "@jupyter-widgets/controls",
      "model_module_version": "2.0.0",
      "model_name": "ProgressStyleModel",
      "state": {
       "_model_module": "@jupyter-widgets/controls",
       "_model_module_version": "2.0.0",
       "_model_name": "ProgressStyleModel",
       "_view_count": null,
       "_view_module": "@jupyter-widgets/base",
       "_view_module_version": "2.0.0",
       "_view_name": "StyleView",
       "bar_color": null,
       "description_width": ""
      }
     },
     "d0069e861bec45358c5749eb8eb64139": {
      "model_module": "@jupyter-widgets/controls",
      "model_module_version": "2.0.0",
      "model_name": "HTMLModel",
      "state": {
       "_dom_classes": [],
       "_model_module": "@jupyter-widgets/controls",
       "_model_module_version": "2.0.0",
       "_model_name": "HTMLModel",
       "_view_count": null,
       "_view_module": "@jupyter-widgets/controls",
       "_view_module_version": "2.0.0",
       "_view_name": "HTMLView",
       "description": "",
       "description_allow_html": false,
       "layout": "IPY_MODEL_4bc5b7e763bd41efb3f51b7faf6b2553",
       "placeholder": "​",
       "style": "IPY_MODEL_372ec21d55b140a3b2f2485311a94b90",
       "tabbable": null,
       "tooltip": null,
       "value": " 256/256 [27:19&lt;00:00,  6.44s/it]"
      }
     },
     "d2044911f735442cbe3dc75e7249db0f": {
      "model_module": "@jupyter-widgets/base",
      "model_module_version": "2.0.0",
      "model_name": "LayoutModel",
      "state": {
       "_model_module": "@jupyter-widgets/base",
       "_model_module_version": "2.0.0",
       "_model_name": "LayoutModel",
       "_view_count": null,
       "_view_module": "@jupyter-widgets/base",
       "_view_module_version": "2.0.0",
       "_view_name": "LayoutView",
       "align_content": null,
       "align_items": null,
       "align_self": null,
       "border_bottom": null,
       "border_left": null,
       "border_right": null,
       "border_top": null,
       "bottom": null,
       "display": null,
       "flex": null,
       "flex_flow": null,
       "grid_area": null,
       "grid_auto_columns": null,
       "grid_auto_flow": null,
       "grid_auto_rows": null,
       "grid_column": null,
       "grid_gap": null,
       "grid_row": null,
       "grid_template_areas": null,
       "grid_template_columns": null,
       "grid_template_rows": null,
       "height": null,
       "justify_content": null,
       "justify_items": null,
       "left": null,
       "margin": null,
       "max_height": null,
       "max_width": null,
       "min_height": null,
       "min_width": null,
       "object_fit": null,
       "object_position": null,
       "order": null,
       "overflow": null,
       "padding": null,
       "right": null,
       "top": null,
       "visibility": null,
       "width": null
      }
     },
     "d22ead2504ee49e6bdda108317f45ac1": {
      "model_module": "@jupyter-widgets/base",
      "model_module_version": "2.0.0",
      "model_name": "LayoutModel",
      "state": {
       "_model_module": "@jupyter-widgets/base",
       "_model_module_version": "2.0.0",
       "_model_name": "LayoutModel",
       "_view_count": null,
       "_view_module": "@jupyter-widgets/base",
       "_view_module_version": "2.0.0",
       "_view_name": "LayoutView",
       "align_content": null,
       "align_items": null,
       "align_self": null,
       "border_bottom": null,
       "border_left": null,
       "border_right": null,
       "border_top": null,
       "bottom": null,
       "display": null,
       "flex": null,
       "flex_flow": null,
       "grid_area": null,
       "grid_auto_columns": null,
       "grid_auto_flow": null,
       "grid_auto_rows": null,
       "grid_column": null,
       "grid_gap": null,
       "grid_row": null,
       "grid_template_areas": null,
       "grid_template_columns": null,
       "grid_template_rows": null,
       "height": null,
       "justify_content": null,
       "justify_items": null,
       "left": null,
       "margin": null,
       "max_height": null,
       "max_width": null,
       "min_height": null,
       "min_width": null,
       "object_fit": null,
       "object_position": null,
       "order": null,
       "overflow": null,
       "padding": null,
       "right": null,
       "top": null,
       "visibility": null,
       "width": null
      }
     },
     "d69c4d7c0ffd4195b09a98ea697a7a77": {
      "model_module": "@jupyter-widgets/base",
      "model_module_version": "2.0.0",
      "model_name": "LayoutModel",
      "state": {
       "_model_module": "@jupyter-widgets/base",
       "_model_module_version": "2.0.0",
       "_model_name": "LayoutModel",
       "_view_count": null,
       "_view_module": "@jupyter-widgets/base",
       "_view_module_version": "2.0.0",
       "_view_name": "LayoutView",
       "align_content": null,
       "align_items": null,
       "align_self": null,
       "border_bottom": null,
       "border_left": null,
       "border_right": null,
       "border_top": null,
       "bottom": null,
       "display": null,
       "flex": null,
       "flex_flow": null,
       "grid_area": null,
       "grid_auto_columns": null,
       "grid_auto_flow": null,
       "grid_auto_rows": null,
       "grid_column": null,
       "grid_gap": null,
       "grid_row": null,
       "grid_template_areas": null,
       "grid_template_columns": null,
       "grid_template_rows": null,
       "height": null,
       "justify_content": null,
       "justify_items": null,
       "left": null,
       "margin": null,
       "max_height": null,
       "max_width": null,
       "min_height": null,
       "min_width": null,
       "object_fit": null,
       "object_position": null,
       "order": null,
       "overflow": null,
       "padding": null,
       "right": null,
       "top": null,
       "visibility": null,
       "width": null
      }
     },
     "e36bde94baa0470b804d73c4cc83a922": {
      "model_module": "@jupyter-widgets/controls",
      "model_module_version": "2.0.0",
      "model_name": "HTMLStyleModel",
      "state": {
       "_model_module": "@jupyter-widgets/controls",
       "_model_module_version": "2.0.0",
       "_model_name": "HTMLStyleModel",
       "_view_count": null,
       "_view_module": "@jupyter-widgets/base",
       "_view_module_version": "2.0.0",
       "_view_name": "StyleView",
       "background": null,
       "description_width": "",
       "font_size": null,
       "text_color": null
      }
     },
     "f16c0a10ddef42d883635f671bda9653": {
      "model_module": "@jupyter-widgets/controls",
      "model_module_version": "2.0.0",
      "model_name": "HTMLStyleModel",
      "state": {
       "_model_module": "@jupyter-widgets/controls",
       "_model_module_version": "2.0.0",
       "_model_name": "HTMLStyleModel",
       "_view_count": null,
       "_view_module": "@jupyter-widgets/base",
       "_view_module_version": "2.0.0",
       "_view_name": "StyleView",
       "background": null,
       "description_width": "",
       "font_size": null,
       "text_color": null
      }
     },
     "fbcf6af361ec40ffba104e09c0d7eb15": {
      "model_module": "@jupyter-widgets/controls",
      "model_module_version": "2.0.0",
      "model_name": "HTMLModel",
      "state": {
       "_dom_classes": [],
       "_model_module": "@jupyter-widgets/controls",
       "_model_module_version": "2.0.0",
       "_model_name": "HTMLModel",
       "_view_count": null,
       "_view_module": "@jupyter-widgets/controls",
       "_view_module_version": "2.0.0",
       "_view_name": "HTMLView",
       "description": "",
       "description_allow_html": false,
       "layout": "IPY_MODEL_9650fef1b09348cb8cff5a63a56850b7",
       "placeholder": "​",
       "style": "IPY_MODEL_7279d281d2c34657bff252e8df63f4c5",
       "tabbable": null,
       "tooltip": null,
       "value": "100%"
      }
     },
     "fd94337716a24629bbbf38eb2d910e17": {
      "model_module": "@jupyter-widgets/base",
      "model_module_version": "2.0.0",
      "model_name": "LayoutModel",
      "state": {
       "_model_module": "@jupyter-widgets/base",
       "_model_module_version": "2.0.0",
       "_model_name": "LayoutModel",
       "_view_count": null,
       "_view_module": "@jupyter-widgets/base",
       "_view_module_version": "2.0.0",
       "_view_name": "LayoutView",
       "align_content": null,
       "align_items": null,
       "align_self": null,
       "border_bottom": null,
       "border_left": null,
       "border_right": null,
       "border_top": null,
       "bottom": null,
       "display": null,
       "flex": null,
       "flex_flow": null,
       "grid_area": null,
       "grid_auto_columns": null,
       "grid_auto_flow": null,
       "grid_auto_rows": null,
       "grid_column": null,
       "grid_gap": null,
       "grid_row": null,
       "grid_template_areas": null,
       "grid_template_columns": null,
       "grid_template_rows": null,
       "height": null,
       "justify_content": null,
       "justify_items": null,
       "left": null,
       "margin": null,
       "max_height": null,
       "max_width": null,
       "min_height": null,
       "min_width": null,
       "object_fit": null,
       "object_position": null,
       "order": null,
       "overflow": null,
       "padding": null,
       "right": null,
       "top": null,
       "visibility": null,
       "width": null
      }
     },
     "ff03739d18014246817c21e4dbf0a84a": {
      "model_module": "@jupyter-widgets/base",
      "model_module_version": "2.0.0",
      "model_name": "LayoutModel",
      "state": {
       "_model_module": "@jupyter-widgets/base",
       "_model_module_version": "2.0.0",
       "_model_name": "LayoutModel",
       "_view_count": null,
       "_view_module": "@jupyter-widgets/base",
       "_view_module_version": "2.0.0",
       "_view_name": "LayoutView",
       "align_content": null,
       "align_items": null,
       "align_self": null,
       "border_bottom": null,
       "border_left": null,
       "border_right": null,
       "border_top": null,
       "bottom": null,
       "display": null,
       "flex": null,
       "flex_flow": null,
       "grid_area": null,
       "grid_auto_columns": null,
       "grid_auto_flow": null,
       "grid_auto_rows": null,
       "grid_column": null,
       "grid_gap": null,
       "grid_row": null,
       "grid_template_areas": null,
       "grid_template_columns": null,
       "grid_template_rows": null,
       "height": null,
       "justify_content": null,
       "justify_items": null,
       "left": null,
       "margin": null,
       "max_height": null,
       "max_width": null,
       "min_height": null,
       "min_width": null,
       "object_fit": null,
       "object_position": null,
       "order": null,
       "overflow": null,
       "padding": null,
       "right": null,
       "top": null,
       "visibility": null,
       "width": null
      }
     }
    },
    "version_major": 2,
    "version_minor": 0
   }
  }
 },
 "nbformat": 4,
 "nbformat_minor": 4
}
