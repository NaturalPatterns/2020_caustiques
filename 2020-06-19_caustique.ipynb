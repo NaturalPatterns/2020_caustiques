{
 "cells": [
  {
   "cell_type": "markdown",
   "metadata": {},
   "source": [
    "[Caustics](https://en.wikipedia.org/wiki/Caustic_(optics)) are luminous patterns which are resulting from the smooth deviation of light rays. It is the heart-shaped pattern in your cup of coffee which is formed by reflection of rays. It is also the wiggly patterns of light that you will see on the floor of a pool. Here we will simulate this physical phenomenon. It is indeed of interest as speaks to how images are formed (more on this later), hence how the brain may understand images, but also because they are mesmerizingly beautiful. In this post, I will develop a simple formalism to generate such patterns, with the paradoxical result that it is very simple to code yet generates patterns with great complexity, such as: \n",
    "<BR>\n",
    "<center><img src=\"https://laurentperrinet.github.io/sciblog/files/2020-06-19_caustique/2020-06-19_caustique.gif\" width=61.8%/> </center>\n",
    "<BR>\n",
    "\n",
    "This is joint work with artist [Etienne Rey](https://laurentperrinet.github.io/authors/etienne-rey/), in which I especially follow the ideas put forward in the series [Turbulence](http://ondesparalleles.org/projets/turbulences/)."
   ]
  },
  {
   "cell_type": "markdown",
   "metadata": {},
   "source": [
    "<!-- TEASER_END -->\n",
    "\n",
    "Let's begin with an import of the library that we will need: the essential [numpy](https://numpy.org/) and [matplotlib](https://matplotlib.org/) but also [MotionClouds](https://github.com/NeuralEnsemble/MotionClouds) to generate a simple waveform (more on this later in this post)."
   ]
  },
  {
   "cell_type": "code",
   "execution_count": 1,
   "metadata": {},
   "outputs": [],
   "source": [
    "import os\n",
    "import numpy as np\n",
    "import matplotlib\n",
    "import matplotlib.pyplot as plt\n",
    "import MotionClouds as mc"
   ]
  },
  {
   "cell_type": "markdown",
   "metadata": {},
   "source": [
    "Let's define an unique identifier"
   ]
  },
  {
   "cell_type": "code",
   "execution_count": 2,
   "metadata": {},
   "outputs": [
    {
     "name": "stdout",
     "output_type": "stream",
     "text": [
      "Tagging our simulations with tag=2020-06-19_caustique\n"
     ]
    }
   ],
   "source": [
    "import datetime\n",
    "date = datetime.datetime.now().date().isoformat() # https://en.wikipedia.org/wiki/ISO_8601\n",
    "tag = f'{date}_caustique'\n",
    "tag = '2020-06-19_caustique'\n",
    "print(f'Tagging our simulations with tag={tag}')"
   ]
  },
  {
   "cell_type": "markdown",
   "metadata": {},
   "source": [
    "And a `Namespace` object to store all parameters:"
   ]
  },
  {
   "cell_type": "code",
   "execution_count": 3,
   "metadata": {},
   "outputs": [],
   "source": [
    "def init(args=[]):\n",
    "    import argparse\n",
    "\n",
    "    parser = argparse.ArgumentParser()\n",
    "    parser.add_argument(\"--tag\", type=str, default='caustique', help=\"Tag\")\n",
    "    parser.add_argument(\"--nx\", type=int, default=5*2**8, help=\"number of pixels (vertical)\")\n",
    "    parser.add_argument(\"--ny\", type=int, default=8*2**8, help=\"number of pixels (horizontal)\")\n",
    "    parser.add_argument(\"--bin_dens\", type=int, default=4, help=\"relative bin density\")\n",
    "    parser.add_argument(\"--nframe\", type=int, default=2**7, help=\"number of frames\")\n",
    "    parser.add_argument(\"--seed\", type=int, default=42, help=\"seed for RNG\")\n",
    "    parser.add_argument(\"--H\", type=float, default=80., help=\"depth\")\n",
    "    parser.add_argument(\"--sf_0\", type=float, default=0.002, help=\"sf\")\n",
    "    parser.add_argument(\"--B_sf\", type=float, default=0.001, help=\"bandwidth in sf\")\n",
    "    parser.add_argument(\"--V_Y\", type=float, default=0.5, help=\"horizontal speed\")\n",
    "    parser.add_argument(\"--V_X\", type=float, default=0.5, help=\"vertical speed\")\n",
    "    parser.add_argument(\"--B_V\", type=float, default=1.0, help=\"bandwidth in speed\")\n",
    "    parser.add_argument(\"--theta\", type=float, default=np.pi/2, help=\"angle with the horizontal\")\n",
    "    parser.add_argument(\"--B_theta\", type=float, default=np.pi/12, help=\"bandwidth in theta\")\n",
    "    parser.add_argument(\"--fps\", type=float, default=18, help=\"bandwidth in theta\")\n",
    "    parser.add_argument(\"--verbose\", type=bool, default=False, help=\"Displays more verbose output.\")\n",
    "\n",
    "    opt = parser.parse_args(args=args)\n",
    "\n",
    "    if opt.verbose:\n",
    "        print(opt)\n",
    "    return opt\n",
    "opt = init()\n",
    "opt.tag = tag\n",
    "figpath=f'../files/{opt.tag}'"
   ]
  },
  {
   "cell_type": "code",
   "execution_count": 4,
   "metadata": {},
   "outputs": [
    {
     "data": {
      "text/plain": [
       "Namespace(B_V=1.0, B_sf=0.001, B_theta=0.2617993877991494, H=80.0, V_X=0.5, V_Y=0.5, bin_dens=4, fps=18, nframe=128, nx=1280, ny=2048, seed=42, sf_0=0.002, tag='2020-06-19_caustique', theta=1.5707963267948966, verbose=False)"
      ]
     },
     "execution_count": 4,
     "metadata": {},
     "output_type": "execute_result"
    }
   ],
   "source": [
    "opt"
   ]
  },
  {
   "cell_type": "markdown",
   "metadata": {},
   "source": [
    "This object is always handy when we will try to explore some parameters.\n",
    "\n",
    "A last utility function is a way to convert a numpy array to an animated GIF using [imageio](https://imageio.github.io/) and [pygifsicle](https://github.com/LucaCappelletti94/pygifsicle):"
   ]
  },
  {
   "cell_type": "code",
   "execution_count": 5,
   "metadata": {},
   "outputs": [],
   "source": [
    "def make_gif(gifname, fnames, fps):\n",
    "    import imageio\n",
    "\n",
    "    with imageio.get_writer(gifname, mode='I', fps=fps) as writer:\n",
    "        for fname in fnames:\n",
    "            writer.append_data(imageio.imread(fname))\n",
    "\n",
    "    from pygifsicle import optimize\n",
    "    optimize(str(gifname))\n",
    "    return gifname\n",
    "\n",
    "from IPython.display import Image, display\n",
    "width = 1024"
   ]
  },
  {
   "cell_type": "markdown",
   "metadata": {},
   "source": [
    "# What is a caustic?\n",
    "\n",
    "A caustic usually refers to the image which is formed by the convergence or divergence of rays on a surface. Mathematically, this may be understood as the enveloppe of a set of rays, and the best known example are that formed when the sun hits a glass or cup and you see heart-shaped pattern (actually more a kidney than a heart, hence the name \"nephroid\"):"
   ]
  },
  {
   "cell_type": "code",
   "execution_count": 6,
   "metadata": {},
   "outputs": [
    {
     "data": {
      "text/html": [
       "<img src=\"https://upload.wikimedia.org/wikipedia/commons/7/7e/Brennlinie.GIF\" width=\"1024\"/>"
      ],
      "text/plain": [
       "<IPython.core.display.Image object>"
      ]
     },
     "metadata": {},
     "output_type": "display_data"
    }
   ],
   "source": [
    "display(Image(url='https://upload.wikimedia.org/wikipedia/commons/7/7e/Brennlinie.GIF', width=width))"
   ]
  },
  {
   "cell_type": "markdown",
   "metadata": {},
   "source": [
    "(image by [User:Paul venter](https://commons.wikimedia.org/wiki/User:Paul_venter)).\n",
    "\n",
    "Their study is essential in optics, as these are the bases for lenses and therefore of central importance in our image-centered society :-)\n",
    "\n",
    "They are also of interest simply be cause they create mesmerizing patterns in nature, for in the pattern of wiggly lines on swimming pool bottoms, or on the sea floor at shallow depths. \n",
    "\n",
    "The formation of that specific pattern is very well illustrated by this animation (credit [Jacopo Bertolotti](https://twitter.com/j_bertolotti))"
   ]
  },
  {
   "cell_type": "code",
   "execution_count": 7,
   "metadata": {},
   "outputs": [
    {
     "data": {
      "text/html": [
       "<img src=\"https://upload.wikimedia.org/wikipedia/commons/2/2a/Caustics.gif\" width=\"1024\"/>"
      ],
      "text/plain": [
       "<IPython.core.display.Image object>"
      ]
     },
     "metadata": {},
     "output_type": "display_data"
    }
   ],
   "source": [
    "display(Image(url='https://upload.wikimedia.org/wikipedia/commons/2/2a/Caustics.gif', width=width))"
   ]
  },
  {
   "cell_type": "markdown",
   "metadata": {},
   "source": [
    "What happens? Light travels fast (*very* fast) but it will travel slower in water than in the air. A consequence of this is that a ray changes slightly its direction as it hits the water. That is why a pen which is half immerged looks as if it is broken. In fact, it's only its image that gets distorted. \n",
    "\n",
    "The laws governing this deviations are well known as [Snell's law](https://en.wikipedia.org/wiki/Snell%27s_law) and state that\n",
    "\n",
    "$$\n",
    "\\frac{\\sin\\theta_2}{\\sin\\theta_1} = \\frac{n_1}{n_2}\n",
    "$$\n",
    "Where $n_1\\approx 1$ and  $n_2\\approx1.33$ are the refractive indeices of air and water, respectively.\n",
    "\n",
    "Going back to the swimming pool, considering that the sun is emitting an uniform pattern of parallel rays, we may apply this lax to all light rays. The important ingredient is that the surface of the water (given as the surface height $z(x, y)$) changes smoothly and will deviate the light rays non-uniformly, thus creating the patterns. Writing down the equation, the displacement resulting from the angle of refraction is given by:\n",
    "\n",
    "$$\n",
    "\\Delta x(x, y) = H \\cdot \\arcsin ( \\frac 1 n \\sin( \\theta_I - \\arctan(\\frac{\\partial z(x, y)}{\\partial x}) + \\arctan(\\frac{\\partial z(x, y)}{\\partial x})\n",
    "$$\n",
    "\n",
    "Where $H$ is the pool's depth, $n$ is the refractive index and $\\theta_I$ the incident angle.\n",
    "The same formula applies in the other spatial dimension $y$ by computing the angle of the surface along this dimension as as $arctan(\\frac{\\partial z(x, y)}{\\partial y})$. \n",
    "\n",
    "In the limit of a zenithal light and small angles, the equations simplifies a lot:\n",
    "$$\n",
    "\\Delta x(x, y) \\approx H' \\cdot \\frac{\\partial z(x, y)}{\\partial x}\n",
    "$$\n",
    "and\n",
    "$$\n",
    "\\Delta y(x, y) \\approx H' \\cdot \\frac{\\partial z(x, y)}{\\partial y}\n",
    "$$\n",
    "\n",
    "What is interesting here is that we will transform an incoming image (here uniform) by a set of small deformations of the support of the image. The equations are ultra-simple, but the consequences will paradoxically look complex.\n",
    "Thinking about images as densities, it is very easy to simulate the transformation:"
   ]
  },
  {
   "cell_type": "code",
   "execution_count": 8,
   "metadata": {},
   "outputs": [],
   "source": [
    "class Caustique:\n",
    "    def __init__(self, opt):\n",
    "        self.ratio = opt.ny/opt.nx # ratio between height and width (>1 for portrait, <1 for landscape)\n",
    "        X = np.linspace(0, 1, opt.nx, endpoint=False) # vertical\n",
    "        Y = np.linspace(0, self.ratio, opt.ny, endpoint=False) # horizontal\n",
    "        self.xv, self.yv = np.meshgrid(X, Y, indexing='ij')\n",
    "        self.opt = opt\n",
    "        # https://stackoverflow.com/questions/16878315/what-is-the-right-way-to-treat-python-argparse-namespace-as-a-dictionary\n",
    "        self.d = vars(opt)\n",
    "\n",
    "    def wave(self):\n",
    "        # A simplistic model of a wave using https://github.com/NeuralEnsemble/MotionClouds\n",
    "        import MotionClouds as mc\n",
    "        fx, fy, ft = mc.get_grids(self.opt.nx, self.opt.ny, self.opt.nframe)\n",
    "        env = mc.envelope_gabor(fx, fy, ft, V_X=self.opt.V_Y, V_Y=self.opt.V_X, B_V=self.opt.B_V,\n",
    "                                sf_0=self.opt.sf_0, B_sf=self.opt.B_sf, theta=self.opt.theta, B_theta=self.opt.B_theta)\n",
    "        z = mc.rectif(mc.random_cloud(env, seed=self.opt.seed))\n",
    "        return z\n",
    "\n",
    "    def transform(self, z_):\n",
    "        xv, yv = self.xv.copy(), self.yv.copy()\n",
    "        \n",
    "        dzdx = z_ - np.roll(z_, 1, axis=0)\n",
    "        dzdy = z_ - np.roll(z_, 1, axis=1)\n",
    "        xv = xv + self.opt.H * dzdx\n",
    "        yv = yv + self.opt.H * dzdy\n",
    "\n",
    "        xv = np.mod(xv, 1)\n",
    "        yv = np.mod(yv, self.ratio)\n",
    "\n",
    "        return xv, yv\n",
    "\n",
    "    def plot(self, z, gifname=None, dpi=150):\n",
    "        if gifname is None:\n",
    "            os.makedirs(self.opt.tag, exist_ok=True)\n",
    "            os.makedirs(f'/tmp/{self.opt.tag}', exist_ok=True)\n",
    "            gifname=f'{self.opt.tag}/{self.opt.tag}.gif'\n",
    "        binsx, binsy = self.opt.nx//self.opt.bin_dens, self.opt.ny//self.opt.bin_dens\n",
    "        # edge_x, edge_y = np.linspace(0, 1, binsx+1, endpoint=True), np.linspace(0, self.ratio, binsy+1, endpoint=True)\n",
    "        hist = np.zeros((binsx, binsy, self.opt.nframe))\n",
    "        for i_frame in range(self.opt.nframe):\n",
    "            xv, yv = self.transform(z[:, :, i_frame])\n",
    "            hist[:, :, i_frame], edge_x, edge_y = np.histogram2d(xv.ravel(), yv.ravel(), \n",
    "                                                                 bins=[binsx, binsy], range=[[0, 1], [0, self.ratio]], density=True)\n",
    "\n",
    "        hist /= hist.max()\n",
    "        subplotpars = matplotlib.figure.SubplotParams(left=0., right=1., bottom=0., top=1., wspace=0., hspace=0.,)\n",
    "        fnames = []\n",
    "        for i_frame in range(self.opt.nframe):\n",
    "            fig, ax = plt.subplots(figsize=(binsy/dpi, binsx/dpi), subplotpars=subplotpars)\n",
    "            ax.pcolormesh(edge_y, edge_x, hist[:, :, i_frame], vmin=0, vmax=1, cmap=plt.cm.Blues_r)\n",
    "            fname = f'/tmp/{gifname}_frame_{i_frame}.png'\n",
    "            fig.savefig(fname, dpi=dpi)\n",
    "            fnames.append(fname)\n",
    "            plt.close('all')\n",
    "\n",
    "        return make_gif(gifname, fnames, fps=self.opt.fps)\n"
   ]
  },
  {
   "cell_type": "markdown",
   "metadata": {},
   "source": [
    "# a first instance\n",
    "\n",
    "Let's generate a first instance of this caustic with the default parameters. Let's first have a look at the (simplistic) waveform we are using:"
   ]
  },
  {
   "cell_type": "code",
   "execution_count": 9,
   "metadata": {},
   "outputs": [],
   "source": [
    "gifname = f'{opt.tag}/{opt.tag}.gif'\n",
    "if not os.path.isfile(gifname):\n",
    "    c = Caustique(opt)\n",
    "    z = c.wave()\n",
    "    gifname = c.plot(z)"
   ]
  },
  {
   "cell_type": "markdown",
   "metadata": {},
   "source": [
    "It has many desirable properties: it is smooth in time and space, it is stochastic and periodic (no border effect). As such we may apply our simple transform and as a result we get:"
   ]
  },
  {
   "cell_type": "code",
   "execution_count": 10,
   "metadata": {},
   "outputs": [
    {
     "data": {
      "text/html": [
       "\n",
       "            <center><table border=none width=100% height=100%>\n",
       "            <tr> <td width=100%><center><video  loop=\"1\" autoplay=\"1\" controls  src=\"2020-06-19_caustique/2020-06-19_caustique.mp4\" type=\"video/mp4\"  width=100%\\>\n",
       "            </td></tr></table></center>"
      ],
      "text/plain": [
       "<IPython.core.display.HTML object>"
      ]
     },
     "metadata": {},
     "output_type": "display_data"
    },
    {
     "data": {
      "text/html": [
       "<img src=\"2020-06-19_caustique/2020-06-19_caustique.gif\" width=\"1024\"/>"
      ],
      "text/plain": [
       "<IPython.core.display.Image object>"
      ]
     },
     "metadata": {},
     "output_type": "display_data"
    }
   ],
   "source": [
    "if not os.path.isfile(f'{opt.tag}/{opt.tag}.{mc.vext}'):\n",
    "    c = Caustique(opt)\n",
    "    z = c.wave()\n",
    "    mc.anim_save(z.swapaxes(0, 1), f'{opt.tag}/{opt.tag}')\n",
    "mc.in_show_video(f'{opt.tag}', figpath=f'{opt.tag}')\n",
    "display(Image(url=gifname, width=width))"
   ]
  },
  {
   "cell_type": "markdown",
   "metadata": {},
   "source": [
    "Which ressembles what we expected to find.\n",
    "\n",
    "## exploring parameters\n",
    "\n",
    "The first thing to do is to explore is the effect of the pool's depth:"
   ]
  },
  {
   "cell_type": "code",
   "execution_count": 11,
   "metadata": {},
   "outputs": [],
   "source": [
    "N_scan = 9\n",
    "base = 2"
   ]
  },
  {
   "cell_type": "code",
   "execution_count": null,
   "metadata": {},
   "outputs": [
    {
     "name": "stdout",
     "output_type": "stream",
     "text": [
      "H = 40.000\n"
     ]
    },
    {
     "data": {
      "text/html": [
       "<img src=\"2020-06-19_caustique/2020-06-19_caustique_H=40.000.gif\" width=\"1024\"/>"
      ],
      "text/plain": [
       "<IPython.core.display.Image object>"
      ]
     },
     "metadata": {},
     "output_type": "display_data"
    },
    {
     "name": "stdout",
     "output_type": "stream",
     "text": [
      "H = 47.568\n"
     ]
    }
   ],
   "source": [
    "opt = init()\n",
    "opt.tag = tag\n",
    "\n",
    "c = Caustique(opt)\n",
    "z = None\n",
    "for H_ in c.opt.H*np.logspace(-1, 1, N_scan, base=base):\n",
    "    print(f'H = {H_:.3f}')\n",
    "    c.opt.H = H_\n",
    "    gifname=f'{opt.tag}/{opt.tag}_H={H_:.3f}.gif'\n",
    "    if not os.path.isfile(gifname):\n",
    "        if z is None:\n",
    "            z = c.wave()\n",
    "        url=c.plot(z, gifname=gifname)\n",
    "    display(Image(url=gifname, width=width))"
   ]
  },
  {
   "cell_type": "markdown",
   "metadata": {},
   "source": [
    "This shows that for this waveform, there is an optimal depth to generate more concentrated caustics. This corresponds to the depth where the curvature of the waveform concentrates light as a lens. \n",
    "\n",
    "We may now explore the parameters of this waveform to see their effect on the resulting caustic:"
   ]
  },
  {
   "cell_type": "code",
   "execution_count": null,
   "metadata": {},
   "outputs": [],
   "source": [
    "opt = init()\n",
    "\n",
    "for variable in ['sf_0', 'B_sf', 'theta', 'B_theta', 'V_X', 'V_Y', 'B_V']:\n",
    "    print(f'======{variable}======')\n",
    "    for modul in np.logspace(-1, 1, N_scan, base=base):\n",
    "        opt = init()\n",
    "        opt.tag = tag\n",
    "\n",
    "        c = Caustique(opt)\n",
    "        c.d[variable] *= modul\n",
    "\n",
    "        print(f'{variable}={variable}(default)*{modul:.3f}={c.d[variable]:.3E}')\n",
    "        gifname = f'{opt.tag}/{opt.tag}_{variable}*={modul:.3f}.gif'\n",
    "        if not os.path.isfile(gifname):\n",
    "            z = c.wave()\n",
    "            if not os.path.isfile(f'{opt.tag}/{opt.tag}_{variable}*={modul:.3f}.{mc.vext}'): \n",
    "                mc.anim_save(z.swapaxes(0, 1), f'{opt.tag}/{opt.tag}_{variable}*={modul:.3f}')\n",
    "            url=c.plot(z, gifname=gifname)\n",
    "        display(Image(url=gifname, width=width))"
   ]
  },
  {
   "cell_type": "markdown",
   "metadata": {},
   "source": [
    "Future developments should:\n",
    "\n",
    "* check if the approximation of small angles qualitatively changes the resulting images,\n",
    "* use a more realistic waveform such as in https://laurentperrinet.github.io/sciblog/posts/2016-04-24_a-wave-going-backwards.html\n",
    "* use different indices for different wavelengths,\n",
    "* make it live (using pyglet for instance)\n",
    "\n",
    "This happens in https://github.com/NaturalPatterns/2020_caustiques - I am happy to welcome any people that would be interested in exploring this."
   ]
  }
 ],
 "metadata": {
  "kernelspec": {
   "display_name": "Python 3",
   "language": "python",
   "name": "python3"
  },
  "language_info": {
   "codemirror_mode": {
    "name": "ipython",
    "version": 3
   },
   "file_extension": ".py",
   "mimetype": "text/x-python",
   "name": "python",
   "nbconvert_exporter": "python",
   "pygments_lexer": "ipython3",
   "version": "3.7.7"
  }
 },
 "nbformat": 4,
 "nbformat_minor": 4
}
