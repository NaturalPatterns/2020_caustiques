{
 "cells": [
  {
   "cell_type": "markdown",
   "metadata": {},
   "source": [
    "# Caustics"
   ]
  },
  {
   "cell_type": "code",
   "execution_count": 1,
   "metadata": {
    "execution": {
     "iopub.execute_input": "2022-09-16T06:50:17.002832Z",
     "iopub.status.busy": "2022-09-16T06:50:17.002540Z",
     "iopub.status.idle": "2022-09-16T06:50:17.009923Z",
     "shell.execute_reply": "2022-09-16T06:50:17.009225Z"
    }
   },
   "outputs": [],
   "source": [
    "figpath = '2022-12-04_caustique'"
   ]
  },
  {
   "cell_type": "code",
   "execution_count": 2,
   "metadata": {
    "execution": {
     "iopub.execute_input": "2022-09-16T06:50:17.668239Z",
     "iopub.status.busy": "2022-09-16T06:50:17.667940Z",
     "iopub.status.idle": "2022-09-16T06:50:17.670759Z",
     "shell.execute_reply": "2022-09-16T06:50:17.670294Z"
    }
   },
   "outputs": [],
   "source": [
    "PRECISION = 4 # the higher, the bigger the file"
   ]
  },
  {
   "cell_type": "code",
   "execution_count": 3,
   "metadata": {
    "execution": {
     "iopub.execute_input": "2022-09-16T06:50:17.673182Z",
     "iopub.status.busy": "2022-09-16T06:50:17.672981Z",
     "iopub.status.idle": "2022-09-16T06:50:17.675440Z",
     "shell.execute_reply": "2022-09-16T06:50:17.674999Z"
    }
   },
   "outputs": [],
   "source": [
    "PRECISION = 10 # the higher, the bigger the file"
   ]
  },
  {
   "cell_type": "code",
   "execution_count": 4,
   "metadata": {
    "execution": {
     "iopub.execute_input": "2022-09-16T06:50:17.677775Z",
     "iopub.status.busy": "2022-09-16T06:50:17.677563Z",
     "iopub.status.idle": "2022-09-16T06:50:17.686232Z",
     "shell.execute_reply": "2022-09-16T06:50:17.685757Z"
    }
   },
   "outputs": [],
   "source": [
    "import os\n",
    "import datetime\n",
    "import numpy as np\n",
    "\n",
    "# https://docs.python.org/3/library/dataclasses.html?highlight=dataclass#module-dataclasses\n",
    "from dataclasses import dataclass, asdict, field\n",
    "\n",
    "@dataclass\n",
    "class init:\n",
    "    figpath: str = figpath # Folder to store images\n",
    "    phi: float = 1.61803 # beauty is gold\n",
    "    tag: str = 'caustique' # Tag\n",
    "    ext: str = 'png' # Extension for output\n",
    "    nx: int = 5*2**PRECISION # number of pixels (vertical)\n",
    "    ny: int = 5*2**PRECISION # number of pixels (horizontal)\n",
    "    nframe: int = 1 # number of frames\n",
    "    bin_dens: int = 2 # relative bin density\n",
    "    bin_spectrum: int = 3 # bin spacing in spectrum\n",
    "    seed: int = 1998 # seed for RNG\n",
    "    H: float = 10.0 # depth of the pool\n",
    "    variation: float = .20 # variation of diffraction index: http://www.philiplaven.com/p20.html 1.40 at 400 nm and 1.37 at 700nm makes a 2% variation\n",
    "    scale: float = .75*2**PRECISION # period in pixels\n",
    "    B_sf: float = 0.5 # bandwidth in sf\n",
    "    V_Y: float = 0.3 # horizontal speed\n",
    "    V_X: float = 0.3 # vertical speed\n",
    "    B_V: float = 1.0 # bandwidth in speed\n",
    "    theta: float = 2*np.pi*(2-1.61803) # angle with the horizontal\n",
    "    B_theta: float = 30*np.pi/180 # bandwidth in theta\n",
    "    min_lum: float = .1 # diffusion level for the rendering\n",
    "    gamma: float = 2.8 # Gamma exponant to convert luminosity to luminance\n",
    "    fps: float = 18 # frames per second\n",
    "    multispectral: bool = True # Compute caustics on the full spectrogram.\n",
    "    cache: bool = True # Cache intermediate output.\n",
    "    verbose: bool = False # Displays more verbose output.\n",
    "    do_display: bool = False # Displays images in notebook.\n",
    "    do_recompute: bool = False # Restart each computation    "
   ]
  },
  {
   "cell_type": "code",
   "execution_count": 5,
   "metadata": {
    "execution": {
     "iopub.execute_input": "2022-09-16T06:50:17.688713Z",
     "iopub.status.busy": "2022-09-16T06:50:17.688504Z",
     "iopub.status.idle": "2022-09-16T06:50:17.691583Z",
     "shell.execute_reply": "2022-09-16T06:50:17.691125Z"
    }
   },
   "outputs": [
    {
     "name": "stdout",
     "output_type": "stream",
     "text": [
      "Saving our simulations in=2022-12-04_caustique\n"
     ]
    }
   ],
   "source": [
    "print(f'Saving our simulations in={figpath}')"
   ]
  },
  {
   "cell_type": "code",
   "execution_count": 6,
   "metadata": {
    "execution": {
     "iopub.execute_input": "2022-09-16T06:50:17.722173Z",
     "iopub.status.busy": "2022-09-16T06:50:17.721924Z",
     "iopub.status.idle": "2022-09-16T06:50:17.725840Z",
     "shell.execute_reply": "2022-09-16T06:50:17.725292Z"
    }
   },
   "outputs": [],
   "source": [
    "opt = init()\n",
    "opt.figpath = figpath"
   ]
  },
  {
   "cell_type": "code",
   "execution_count": 7,
   "metadata": {
    "execution": {
     "iopub.execute_input": "2022-09-16T06:50:17.728359Z",
     "iopub.status.busy": "2022-09-16T06:50:17.728155Z",
     "iopub.status.idle": "2022-09-16T06:50:17.734829Z",
     "shell.execute_reply": "2022-09-16T06:50:17.734354Z"
    },
    "tags": []
   },
   "outputs": [
    {
     "data": {
      "text/plain": [
       "init(figpath='2022-12-04_caustique', phi=1.61803, tag='caustique', ext='png', nx=5120, ny=5120, nframe=1, bin_dens=2, bin_spectrum=3, seed=1998, H=10.0, variation=0.2, scale=768.0, B_sf=0.5, V_Y=0.3, V_X=0.3, B_V=1.0, theta=2.399988291783386, B_theta=0.5235987755982988, min_lum=0.1, gamma=2.8, fps=18, multispectral=True, cache=True, verbose=False, do_display=False, do_recompute=False)"
      ]
     },
     "execution_count": 7,
     "metadata": {},
     "output_type": "execute_result"
    }
   ],
   "source": [
    "opt"
   ]
  },
  {
   "cell_type": "code",
   "execution_count": 8,
   "metadata": {
    "execution": {
     "iopub.execute_input": "2022-09-16T06:50:17.728359Z",
     "iopub.status.busy": "2022-09-16T06:50:17.728155Z",
     "iopub.status.idle": "2022-09-16T06:50:17.734829Z",
     "shell.execute_reply": "2022-09-16T06:50:17.734354Z"
    },
    "tags": []
   },
   "outputs": [],
   "source": [
    "if opt.nframe==1: opt.ext = 'png'"
   ]
  },
  {
   "cell_type": "markdown",
   "metadata": {},
   "source": [
    "## utilities\n",
    "\n",
    "Transfoming a sequence of PNG frames into gif or mp4:"
   ]
  },
  {
   "cell_type": "code",
   "execution_count": 9,
   "metadata": {
    "execution": {
     "iopub.execute_input": "2022-09-16T06:50:17.737334Z",
     "iopub.status.busy": "2022-09-16T06:50:17.737126Z",
     "iopub.status.idle": "2022-09-16T06:50:17.741165Z",
     "shell.execute_reply": "2022-09-16T06:50:17.740716Z"
    }
   },
   "outputs": [],
   "source": [
    "def make_gif(gifname, fnames, fps, do_delete=True):\n",
    "    import imageio\n",
    "\n",
    "    with imageio.get_writer(gifname, mode='I', fps=fps) as writer:\n",
    "        for fname in fnames:\n",
    "            writer.append_data(imageio.imread(fname))\n",
    "\n",
    "    from pygifsicle import optimize\n",
    "    optimize(str(gifname))\n",
    "    if do_delete: \n",
    "        for fname in fnames: os.remove(fname)\n",
    "    return gifname\n",
    "\n",
    "# https://moviepy.readthedocs.io/en/latest/getting_started/videoclips.html#imagesequenceclip\n",
    "def make_mp4(mp4name, fnames, fps, do_delete=True):\n",
    "    import moviepy.editor as mpy\n",
    "    clip = mpy.ImageSequenceClip(fnames, fps=fps)\n",
    "    clip.write_videofile(mp4name, fps=fps, codec='libx264', verbose=False, logger=None)\n",
    "    if do_delete: \n",
    "        for fname in fnames: os.remove(fname)\n",
    "    return mp4name"
   ]
  },
  {
   "cell_type": "markdown",
   "metadata": {},
   "source": [
    "\n",
    "Utilities to compute the spectrum of the blue sky and convert them later to RGB values (check out https://laurentperrinet.github.io/sciblog/posts/2020-07-04-colors-of-the-sky.html for details)"
   ]
  },
  {
   "cell_type": "code",
   "execution_count": 10,
   "metadata": {
    "execution": {
     "iopub.execute_input": "2022-09-16T06:50:17.743669Z",
     "iopub.status.busy": "2022-09-16T06:50:17.743461Z",
     "iopub.status.idle": "2022-09-16T06:50:17.757701Z",
     "shell.execute_reply": "2022-09-16T06:50:17.757282Z"
    }
   },
   "outputs": [],
   "source": [
    "from lambda2color import Lambda2color, xyz_from_xy\n",
    "\n",
    "# borrowed from https://github.com/gummiks/gummiks.github.io/blob/master/scripts/astro/planck.py\n",
    "def planck(wav, T):\n",
    "    import scipy.constants as const\n",
    "    c = const.c # c = 3.0e+8\n",
    "    h = const.h # h = 6.626e-34\n",
    "    k = const.k # k = 1.38e-23\n",
    "    a = 2.0*h*c**2\n",
    "    b = h*c/(wav*k*T)\n",
    "    intensity = a / ( (wav**5) * (np.exp(b) - 1.0) )\n",
    "    return intensity\n",
    "\n",
    "def scattering(wav, a=0.005, p=1.3, b=0.45):\n",
    "    \"\"\"\n",
    "    b is  proportionate  to  the  column  density  of  aerosols\n",
    "    along  the  path  of  sunlight,  from  outside  the  atmosphere\n",
    "    to  the  point  of  observation\n",
    "    \n",
    "    see https://laurentperrinet.github.io/sciblog/posts/2020-07-04-colors-of-the-sky.html for more details\n",
    "\n",
    "    \"\"\"\n",
    "    # converting wav in µm:\n",
    "    intensity = np.exp(-a/((wav/1e-6)**4)) # Rayleigh extinction by nitrogen\n",
    "    intensity *= (wav/1e-6)**-4\n",
    "    intensity *= np.exp(-b/((wav/1e-6)**p)) # Aerosols\n",
    "    return intensity"
   ]
  },
  {
   "cell_type": "markdown",
   "metadata": {},
   "source": [
    "## computing the caustics"
   ]
  },
  {
   "cell_type": "code",
   "execution_count": 11,
   "metadata": {
    "execution": {
     "iopub.execute_input": "2022-09-16T06:50:17.012647Z",
     "iopub.status.busy": "2022-09-16T06:50:17.012413Z",
     "iopub.status.idle": "2022-09-16T06:50:17.665184Z",
     "shell.execute_reply": "2022-09-16T06:50:17.664652Z"
    }
   },
   "outputs": [],
   "source": [
    "import matplotlib\n",
    "import matplotlib.pyplot as plt\n",
    "from tqdm import tqdm, trange\n",
    "import shutil\n",
    "import hashlib\n",
    "import MotionClouds as mc\n",
    "\n",
    "class Caustique:\n",
    "    def __init__(self, opt):\n",
    "        \"\"\"\n",
    "        Image coordinates follow 'ij' indexing, that is,\n",
    "        * their origin at the top left,\n",
    "        * the X axis is vertical and goes \"down\",\n",
    "        * the Y axis is horizontal and goes \"right\".\n",
    "\n",
    "        \"\"\"\n",
    "        self.mc = mc\n",
    "        self.ratio = opt.ny/opt.nx # ratio between height and width (>1 for portrait, <1 for landscape)\n",
    "        X = np.linspace(0, 1, opt.nx, endpoint=False) # vertical\n",
    "        Y = np.linspace(0, self.ratio, opt.ny, endpoint=False) # horizontal\n",
    "        self.xv, self.yv = np.meshgrid(X, Y, indexing='ij')\n",
    "        self.opt = opt\n",
    "        # https://stackoverflow.com/questions/16878315/what-is-the-right-way-to-treat-python-argparse-namespace-as-a-dictionary\n",
    "        self.d = vars(opt)\n",
    "        os.makedirs(self.opt.figpath, exist_ok=True)\n",
    "        self.cachepath = os.path.join('/tmp', self.opt.figpath)\n",
    "        if opt.verbose: print(f'{self.cachepath=}')\n",
    "        os.makedirs(self.cachepath, exist_ok=True)\n",
    "\n",
    "        # a standard white:\n",
    "        illuminant_D65 = xyz_from_xy(0.3127, 0.3291), \n",
    "        illuminant_sun = xyz_from_xy(0.325998, 0.335354)\n",
    "        # color conversion class\n",
    "        self.cs_srgb = Lambda2color(red=xyz_from_xy(0.64, 0.33),\n",
    "                               green=xyz_from_xy(0.30, 0.60),\n",
    "                               blue=xyz_from_xy(0.15, 0.06),\n",
    "                               white=illuminant_sun)\n",
    "        self.wavelengths = self.cs_srgb.cmf[:, 0]*1e-9\n",
    "        self.N_wavelengths = len(self.wavelengths)\n",
    "        # multiply by the spectrum of the sky\n",
    "        intensity5800 = planck(self.wavelengths, 5800.)\n",
    "        scatter = scattering(self.wavelengths)\n",
    "        self.spectrum_sky = intensity5800 * scatter\n",
    "        self.spectrum_sky /= self.spectrum_sky.max()\n",
    "\n",
    "    def wave(self):\n",
    "        filename = f'{self.cachepath}/{self.opt.tag}_wave.npy'\n",
    "        if os.path.isfile(filename) and not(self.opt.do_recompute):\n",
    "            z = np.load(filename)\n",
    "        else:\n",
    "            # A simplistic model of a wave using https://github.com/NeuralEnsemble/MotionClouds\n",
    "            fx, fy, ft = mc.get_grids(self.opt.nx, self.opt.ny, self.opt.nframe)\n",
    "            env = mc.envelope_gabor(fx, fy, ft, V_X=self.opt.V_Y, V_Y=self.opt.V_X, B_V=self.opt.B_V,\n",
    "                                    sf_0=1./self.opt.scale, B_sf=self.opt.B_sf/self.opt.scale,\n",
    "                                    theta=self.opt.theta, B_theta=self.opt.B_theta)\n",
    "            z = mc.rectif(mc.random_cloud(env, seed=self.opt.seed))\n",
    "            if self.opt.cache: np.save(filename, z)\n",
    "        return z\n",
    "\n",
    "    def transform(self, z_, modulation=1.):\n",
    "        xv, yv = self.xv.copy(), self.yv.copy()\n",
    "\n",
    "        dzdx = z_ - np.roll(z_, 1, axis=0)\n",
    "        dzdy = z_ - np.roll(z_, 1, axis=1)\n",
    "        xv = xv + modulation * self.opt.H * dzdx\n",
    "        yv = yv + modulation * self.opt.H * dzdy\n",
    "\n",
    "        xv = np.mod(xv, 1)\n",
    "        yv = np.mod(yv, self.ratio)\n",
    "\n",
    "        return xv, yv\n",
    "\n",
    "    def plot(self, z, image=None, do_color=True, dpi=50):\n",
    "\n",
    "        # output filename        \n",
    "        md5 = hashlib.sha224((self.opt.figpath + self.opt.tag).encode()).hexdigest()[:8] # an unique identifier for future tagging\n",
    "        output_filename = f'{self.opt.figpath}/{self.opt.tag}_{md5}.{self.opt.ext}'\n",
    "        if os.path.isfile(output_filename) and not(self.opt.do_recompute):\n",
    "            return output_filename\n",
    "        else:\n",
    "            # 1/ do the raytracing of image through z:\n",
    "            binsx, binsy = self.opt.nx//self.opt.bin_dens, self.opt.ny//self.opt.bin_dens\n",
    "\n",
    "            # a fixed image in degree of contrast (from 0=black to 1=white)\n",
    "            if image is None: image = np.ones((self.opt.nx, self.opt.ny))\n",
    "\n",
    "            #hist = self.do_raytracing(z)\n",
    "            binsx, binsy = self.opt.nx//self.opt.bin_dens, self.opt.ny//self.opt.bin_dens\n",
    "\n",
    "            subplotpars = matplotlib.figure.SubplotParams(left=0., right=1., bottom=0., top=1., wspace=0., hspace=0.,)\n",
    "\n",
    "            if self.opt.multispectral:\n",
    "\n",
    "                #image_rgb = self.cs_srgb.spec_to_rgb(hist)\n",
    "                image_rgb = np.zeros((self.opt.nx//self.opt.bin_dens,  self.opt.ny//self.opt.bin_dens, 3, self.opt.nframe))\n",
    "                for i_frame in trange(self.opt.nframe):\n",
    "                    for i_wavelength in trange(self.opt.bin_spectrum//2, self.N_wavelengths, self.opt.bin_spectrum):\n",
    "                        modulation = 1. + self.opt.variation/2 - self.opt.variation*i_wavelength/self.N_wavelengths\n",
    "                        xv, yv = self.transform(z[:, :, i_frame], modulation=modulation)\n",
    "                        hist_, edge_x, edge_y = np.histogram2d(xv.ravel(), yv.ravel(),\n",
    "                                                               bins=[binsx, binsy],\n",
    "                                                               weights=image.ravel(),\n",
    "                                                               range=[[0, 1], [0, self.ratio]],\n",
    "                                                               density=True)\n",
    "\n",
    "                        spec = np.zeros((self.N_wavelengths))\n",
    "                        spec[i_wavelength] = 1\n",
    "                        rgb = self.cs_srgb.spec_to_rgb(spec)\n",
    "                        rgb *= self.spectrum_sky[i_wavelength]\n",
    "                        image_rgb[:, :, :, i_frame] += hist_[:, :, None] * rgb[None, None, :]\n",
    "\n",
    "                # image_rgb -= image_rgb.min()\n",
    "                image_rgb /= image_rgb.max()\n",
    "            else:\n",
    "                hist = np.zeros((binsx, binsy, self.opt.nframe))\n",
    "                for i_frame in trange(self.opt.nframe):\n",
    "                    xv, yv = self.transform(z[:, :, i_frame])\n",
    "                    hist_, edge_x, edge_y = np.histogram2d(xv.ravel(), yv.ravel(),\n",
    "                                                        bins=[binsx, binsy],\n",
    "                                                        range=[[0, 1], [0, self.ratio]],\n",
    "                                                        density=True)\n",
    "                #hist /= hist.max()\n",
    "\n",
    "            # 2/ transform light into image:\n",
    "            fnames = []\n",
    "            for i_frame in trange(self.opt.nframe):\n",
    "                fig, ax = plt.subplots(figsize=(self.opt.ny/self.opt.bin_dens/dpi, self.opt.nx/self.opt.bin_dens/dpi), subplotpars=subplotpars)\n",
    "                if self.opt.multispectral:\n",
    "                    ax.imshow(image_rgb[:, :, :, i_frame] ** (1/self.opt.gamma), vmin=0, vmax=1)\n",
    "                else:\n",
    "                    if do_color:\n",
    "                        bluesky = np.array([0.268375, 0.283377]) # xyz\n",
    "                        sun = np.array([0.325998, 0.335354]) # xyz\n",
    "                        # ax.pcolormesh(edge_y, edge_x, hist[:, :, i_frame], vmin=0, vmax=1, cmap=plt.cm.Blues_r)\n",
    "                        # https://en.wikipedia.org/wiki/CIE_1931_color_space#Mixing_colors_specified_with_the_CIE_xy_chromaticity_diagram\n",
    "                        L1 = 1 - hist[:, :, i_frame]\n",
    "                        L2 = hist[:, :, i_frame]\n",
    "                        image_denom = L1 / bluesky[1] + L2 / sun[1]\n",
    "                        image_x = (L1 * bluesky[0] / bluesky[1] + L2 * sun[0] / sun[1]) / image_denom\n",
    "                        image_y = (L1 + L2) / image_denom \n",
    "                        image_xyz = np.dstack((image_x, image_y, 1 - image_x - image_y))\n",
    "                        image_rgb = self.cs_srgb.xyz_to_rgb(image_xyz)\n",
    "                        image_L = self.opt.min_lum + (1-self.opt.min_lum)* L2 ** .61803\n",
    "                        ax.imshow(image_L[:, :, None]*image_rgb, vmin=0, vmax=1)\n",
    "\n",
    "                    else:\n",
    "                        ax.imshow(1-image_L, vmin=0, vmax=1)\n",
    "\n",
    "                fname = f'{self.cachepath}/{self.opt.tag}_frame_{i_frame:04d}.png'\n",
    "                fig.savefig(fname, dpi=dpi)\n",
    "                fnames.append(fname)\n",
    "                plt.close('all')\n",
    "\n",
    "            if self.opt.nframe==1:\n",
    "                shutil.copyfile(fname, output_filename)\n",
    "                return output_filename\n",
    "            else:\n",
    "                if self.opt.ext == 'gif':\n",
    "                    return make_gif(output_filename, fnames, fps=self.opt.fps)\n",
    "                else:\n",
    "                    return make_mp4(output_filename, fnames, fps=self.opt.fps)\n",
    "\n",
    "    def show(self, output_filename, width=1024):\n",
    "        from IPython.display import HTML, Image, display\n",
    "        if self.opt.nframe==1:\n",
    "            display(Image(url=output_filename.replace(self.opt.ext, 'png'), width=width))\n",
    "        else:\n",
    "            if self.opt.ext == 'gif':\n",
    "                return display(Image(url=output_filename, width=width))\n",
    "            else:\n",
    "                #import moviepy.editor as mpy\n",
    "                #return mpy.ipython_display(output_filename, width=width)\n",
    "                # https://github.com/NeuralEnsemble/MotionClouds/blob/master/MotionClouds/MotionClouds.py#L858\n",
    "                opts = ' loop=\"1\" autoplay=\"1\" controls '\n",
    "                html = HTML(f'<video {opts} src=\"{output_filename}\" type=\"video/{self.opt.ext}\" width={width}\\>')\n",
    "                html.reload()\n",
    "                return display(html)"
   ]
  },
  {
   "cell_type": "markdown",
   "metadata": {},
   "source": [
    "# a simple caustics"
   ]
  },
  {
   "cell_type": "markdown",
   "metadata": {
    "tags": []
   },
   "source": [
    "## generating the caustics"
   ]
  },
  {
   "cell_type": "code",
   "execution_count": 12,
   "metadata": {
    "execution": {
     "iopub.execute_input": "2022-09-16T06:50:17.864888Z",
     "iopub.status.busy": "2022-09-16T06:50:17.864663Z",
     "iopub.status.idle": "2022-09-16T06:50:19.896847Z",
     "shell.execute_reply": "2022-09-16T06:50:19.896285Z"
    }
   },
   "outputs": [
    {
     "data": {
      "text/plain": [
       "(5120, 5120, 1)"
      ]
     },
     "execution_count": 12,
     "metadata": {},
     "output_type": "execute_result"
    }
   ],
   "source": [
    "c = Caustique(opt)\n",
    "z = c.wave()\n",
    "z.shape"
   ]
  },
  {
   "cell_type": "code",
   "execution_count": 13,
   "metadata": {
    "execution": {
     "iopub.execute_input": "2022-09-16T06:50:19.899518Z",
     "iopub.status.busy": "2022-09-16T06:50:19.899287Z",
     "iopub.status.idle": "2022-09-16T06:50:19.902454Z",
     "shell.execute_reply": "2022-09-16T06:50:19.902008Z"
    }
   },
   "outputs": [],
   "source": [
    "c = Caustique(opt)\n",
    "output_filename = c.plot(z)"
   ]
  },
  {
   "cell_type": "code",
   "execution_count": 14,
   "metadata": {
    "execution": {
     "iopub.execute_input": "2022-09-16T06:50:19.904998Z",
     "iopub.status.busy": "2022-09-16T06:50:19.904782Z",
     "iopub.status.idle": "2022-09-16T06:50:19.908171Z",
     "shell.execute_reply": "2022-09-16T06:50:19.907731Z"
    }
   },
   "outputs": [
    {
     "data": {
      "text/html": [
       "<img src=\"2022-12-04_caustique/caustique_a78efee7.png\" width=\"1024\"/>"
      ],
      "text/plain": [
       "<IPython.core.display.Image object>"
      ]
     },
     "metadata": {},
     "output_type": "display_data"
    }
   ],
   "source": [
    "c.show(output_filename)"
   ]
  },
  {
   "cell_type": "markdown",
   "metadata": {
    "tags": []
   },
   "source": [
    "# exploring parameters"
   ]
  },
  {
   "cell_type": "code",
   "execution_count": 15,
   "metadata": {
    "execution": {
     "iopub.execute_input": "2022-09-16T06:50:19.910794Z",
     "iopub.status.busy": "2022-09-16T06:50:19.910587Z",
     "iopub.status.idle": "2022-09-16T06:50:19.913072Z",
     "shell.execute_reply": "2022-09-16T06:50:19.912580Z"
    }
   },
   "outputs": [],
   "source": [
    "N_scan = 9\n",
    "base = 2"
   ]
  },
  {
   "cell_type": "markdown",
   "metadata": {
    "tags": []
   },
   "source": [
    "## water depth"
   ]
  },
  {
   "cell_type": "code",
   "execution_count": 16,
   "metadata": {
    "execution": {
     "iopub.execute_input": "2022-09-16T06:50:19.915420Z",
     "iopub.status.busy": "2022-09-16T06:50:19.915215Z",
     "iopub.status.idle": "2022-09-16T06:50:21.641723Z",
     "shell.execute_reply": "2022-09-16T06:50:21.641154Z"
    }
   },
   "outputs": [
    {
     "name": "stdout",
     "output_type": "stream",
     "text": [
      "H = 5.000 -> output_filename='2022-12-04_caustique/caustique_H_5.000_0037165d.png' \n",
      "H = 5.946 -> output_filename='2022-12-04_caustique/caustique_H_5.946_d28d74a0.png' \n",
      "H = 7.071 -> output_filename='2022-12-04_caustique/caustique_H_7.071_7f2eb2d7.png' \n",
      "H = 8.409 -> output_filename='2022-12-04_caustique/caustique_H_8.409_0ba5e243.png' \n",
      "H = 10.000 -> output_filename='2022-12-04_caustique/caustique_H_10.000_8554abf3.png' \n",
      "H = 11.892 -> output_filename='2022-12-04_caustique/caustique_H_11.892_43b8091a.png' \n",
      "H = 14.142 -> output_filename='2022-12-04_caustique/caustique_H_14.142_5f4983cd.png' \n",
      "H = 16.818 -> output_filename='2022-12-04_caustique/caustique_H_16.818_dd9aeef9.png' \n",
      "H = 20.000 -> output_filename='2022-12-04_caustique/caustique_H_20.000_1dba7856.png' \n"
     ]
    }
   ],
   "source": [
    "for H_ in c.opt.H*np.logspace(-1, 1, N_scan, base=base):\n",
    "    opt = init()\n",
    "    c = Caustique(opt)\n",
    "    c.opt.H = H_\n",
    "    c.opt.tag = f'{c.opt.tag}_H_{H_:.3f}'\n",
    "    \n",
    "    output_filename = c.plot(z)\n",
    "    print(f'H = {H_:.3f} -> {output_filename=} ')\n",
    "    if c.opt.do_display: c.show(output_filename)"
   ]
  },
  {
   "cell_type": "markdown",
   "metadata": {
    "tags": []
   },
   "source": [
    "## refraction index variation"
   ]
  },
  {
   "cell_type": "code",
   "execution_count": 17,
   "metadata": {
    "execution": {
     "iopub.execute_input": "2022-09-16T06:50:21.644704Z",
     "iopub.status.busy": "2022-09-16T06:50:21.644457Z",
     "iopub.status.idle": "2022-09-16T06:50:23.391217Z",
     "shell.execute_reply": "2022-09-16T06:50:23.390608Z"
    }
   },
   "outputs": [
    {
     "name": "stdout",
     "output_type": "stream",
     "text": [
      "variation = 0.010  -> output_filename='2022-12-04_caustique/caustique_variation_0.010_a346ea62.png'\n",
      "variation = 0.017  -> output_filename='2022-12-04_caustique/caustique_variation_0.017_782e0f07.png'\n",
      "variation = 0.028  -> output_filename='2022-12-04_caustique/caustique_variation_0.028_69f7c1f2.png'\n",
      "variation = 0.046  -> output_filename='2022-12-04_caustique/caustique_variation_0.046_e43fa215.png'\n",
      "variation = 0.077  -> output_filename='2022-12-04_caustique/caustique_variation_0.077_cc7e1c04.png'\n",
      "variation = 0.129  -> output_filename='2022-12-04_caustique/caustique_variation_0.129_2413113d.png'\n",
      "variation = 0.215  -> output_filename='2022-12-04_caustique/caustique_variation_0.215_42cb4950.png'\n",
      "variation = 0.359  -> output_filename='2022-12-04_caustique/caustique_variation_0.359_e6297dc4.png'\n",
      "variation = 0.599  -> output_filename='2022-12-04_caustique/caustique_variation_0.599_c900ec12.png'\n"
     ]
    }
   ],
   "source": [
    "for variation_ in np.logspace(-2, 0, N_scan, base=10, endpoint=False):\n",
    "    opt = init()\n",
    "    c = Caustique(opt)\n",
    "    c.opt.variation = variation_\n",
    "    c.opt.tag = f'{opt.tag}_variation_{variation_:.3f}'\n",
    "\n",
    "    output_filename = c.plot(z)\n",
    "    print(f'variation = {variation_:.3f}  -> {output_filename=}')\n",
    "    if c.opt.do_display: c.show(output_filename)"
   ]
  },
  {
   "cell_type": "markdown",
   "metadata": {
    "tags": []
   },
   "source": [
    "## other variables on the wave"
   ]
  },
  {
   "cell_type": "code",
   "execution_count": 18,
   "metadata": {
    "execution": {
     "iopub.execute_input": "2022-09-16T06:50:23.394466Z",
     "iopub.status.busy": "2022-09-16T06:50:23.394219Z",
     "iopub.status.idle": "2022-09-16T06:50:23.686162Z",
     "shell.execute_reply": "2022-09-16T06:50:23.685512Z"
    },
    "tags": []
   },
   "outputs": [
    {
     "name": "stdout",
     "output_type": "stream",
     "text": [
      "======scale======\n",
      "scale=scale(default)*0.500=3.840E+02 -> output_filename='2022-12-04_caustique/caustique_scale_modul_0.500_ae8e4edc.png'\n",
      "scale=scale(default)*0.595=4.567E+02 -> output_filename='2022-12-04_caustique/caustique_scale_modul_0.595_86481f1e.png'\n",
      "scale=scale(default)*0.707=5.431E+02 -> output_filename='2022-12-04_caustique/caustique_scale_modul_0.707_f347dcfa.png'\n",
      "scale=scale(default)*0.841=6.458E+02 -> output_filename='2022-12-04_caustique/caustique_scale_modul_0.841_8465b419.png'\n",
      "scale=scale(default)*1.000=7.680E+02 -> output_filename='2022-12-04_caustique/caustique_scale_modul_1.000_02d1eadb.png'\n",
      "scale=scale(default)*1.189=9.133E+02 -> output_filename='2022-12-04_caustique/caustique_scale_modul_1.189_f6f53aff.png'\n",
      "scale=scale(default)*1.414=1.086E+03 -> output_filename='2022-12-04_caustique/caustique_scale_modul_1.414_c119dfa4.png'\n",
      "scale=scale(default)*1.682=1.292E+03 -> output_filename='2022-12-04_caustique/caustique_scale_modul_1.682_d5bcefb2.png'\n",
      "scale=scale(default)*2.000=1.536E+03 -> output_filename='2022-12-04_caustique/caustique_scale_modul_2.000_9790d292.png'\n",
      "======B_sf======\n",
      "B_sf=B_sf(default)*0.500=2.500E-01 -> output_filename='2022-12-04_caustique/caustique_B_sf_modul_0.500_f905f067.png'\n",
      "B_sf=B_sf(default)*0.595=2.973E-01 -> output_filename='2022-12-04_caustique/caustique_B_sf_modul_0.595_3004b595.png'\n",
      "B_sf=B_sf(default)*0.707=3.536E-01 -> output_filename='2022-12-04_caustique/caustique_B_sf_modul_0.707_2cdbaae8.png'\n",
      "B_sf=B_sf(default)*0.841=4.204E-01 -> output_filename='2022-12-04_caustique/caustique_B_sf_modul_0.841_051a5578.png'\n",
      "B_sf=B_sf(default)*1.000=5.000E-01 -> output_filename='2022-12-04_caustique/caustique_B_sf_modul_1.000_c97452bd.png'\n",
      "B_sf=B_sf(default)*1.189=5.946E-01 -> output_filename='2022-12-04_caustique/caustique_B_sf_modul_1.189_04fe2c2c.png'\n",
      "B_sf=B_sf(default)*1.414=7.071E-01 -> output_filename='2022-12-04_caustique/caustique_B_sf_modul_1.414_14b5b50f.png'\n",
      "B_sf=B_sf(default)*1.682=8.409E-01 -> output_filename='2022-12-04_caustique/caustique_B_sf_modul_1.682_29532131.png'\n",
      "B_sf=B_sf(default)*2.000=1.000E+00 -> output_filename='2022-12-04_caustique/caustique_B_sf_modul_2.000_c43507f7.png'\n",
      "======theta======\n",
      "theta=theta(default)*0.500=1.200E+00 -> output_filename='2022-12-04_caustique/caustique_theta_modul_0.500_9369d730.png'\n",
      "theta=theta(default)*0.595=1.427E+00 -> output_filename='2022-12-04_caustique/caustique_theta_modul_0.595_6f9f2488.png'\n",
      "theta=theta(default)*0.707=1.697E+00 -> output_filename='2022-12-04_caustique/caustique_theta_modul_0.707_02c4a82c.png'\n",
      "theta=theta(default)*0.841=2.018E+00 -> output_filename='2022-12-04_caustique/caustique_theta_modul_0.841_083714f5.png'\n",
      "theta=theta(default)*1.000=2.400E+00 -> output_filename='2022-12-04_caustique/caustique_theta_modul_1.000_b40ef5d5.png'\n",
      "theta=theta(default)*1.189=2.854E+00 -> output_filename='2022-12-04_caustique/caustique_theta_modul_1.189_07fd2d1d.png'\n",
      "theta=theta(default)*1.414=3.394E+00 -> output_filename='2022-12-04_caustique/caustique_theta_modul_1.414_58bba864.png'\n",
      "theta=theta(default)*1.682=4.036E+00 -> output_filename='2022-12-04_caustique/caustique_theta_modul_1.682_ff758c65.png'\n",
      "theta=theta(default)*2.000=4.800E+00 -> output_filename='2022-12-04_caustique/caustique_theta_modul_2.000_7ff867d3.png'\n",
      "======B_theta======\n",
      "B_theta=B_theta(default)*0.500=2.618E-01 -> output_filename='2022-12-04_caustique/caustique_B_theta_modul_0.500_02566eee.png'\n",
      "B_theta=B_theta(default)*0.595=3.113E-01 -> output_filename='2022-12-04_caustique/caustique_B_theta_modul_0.595_c37ee24d.png'\n",
      "B_theta=B_theta(default)*0.707=3.702E-01 -> output_filename='2022-12-04_caustique/caustique_B_theta_modul_0.707_a569601d.png'\n",
      "B_theta=B_theta(default)*0.841=4.403E-01 -> output_filename='2022-12-04_caustique/caustique_B_theta_modul_0.841_b027d2cb.png'\n",
      "B_theta=B_theta(default)*1.000=5.236E-01 -> output_filename='2022-12-04_caustique/caustique_B_theta_modul_1.000_92ad3e39.png'\n",
      "B_theta=B_theta(default)*1.189=6.227E-01 -> output_filename='2022-12-04_caustique/caustique_B_theta_modul_1.189_ceb87493.png'\n",
      "B_theta=B_theta(default)*1.414=7.405E-01 -> output_filename='2022-12-04_caustique/caustique_B_theta_modul_1.414_25c0fe73.png'\n",
      "B_theta=B_theta(default)*1.682=8.806E-01 -> output_filename='2022-12-04_caustique/caustique_B_theta_modul_1.682_466d44ae.png'\n",
      "B_theta=B_theta(default)*2.000=1.047E+00 -> output_filename='2022-12-04_caustique/caustique_B_theta_modul_2.000_f9dae589.png'\n",
      "======gamma======\n",
      "gamma=gamma(default)*0.500=1.400E+00 -> output_filename='2022-12-04_caustique/caustique_gamma_modul_0.500_387148da.png'\n",
      "gamma=gamma(default)*0.595=1.665E+00 -> output_filename='2022-12-04_caustique/caustique_gamma_modul_0.595_0c0148fb.png'\n",
      "gamma=gamma(default)*0.707=1.980E+00 -> output_filename='2022-12-04_caustique/caustique_gamma_modul_0.707_421fe2ec.png'\n",
      "gamma=gamma(default)*0.841=2.355E+00 -> output_filename='2022-12-04_caustique/caustique_gamma_modul_0.841_c9b51a67.png'\n",
      "gamma=gamma(default)*1.000=2.800E+00 -> output_filename='2022-12-04_caustique/caustique_gamma_modul_1.000_06fea4f4.png'\n",
      "gamma=gamma(default)*1.189=3.330E+00 -> output_filename='2022-12-04_caustique/caustique_gamma_modul_1.189_d62780b4.png'\n",
      "gamma=gamma(default)*1.414=3.960E+00 -> output_filename='2022-12-04_caustique/caustique_gamma_modul_1.414_7abde15e.png'\n",
      "gamma=gamma(default)*1.682=4.709E+00 -> output_filename='2022-12-04_caustique/caustique_gamma_modul_1.682_b7859bca.png'\n",
      "gamma=gamma(default)*2.000=5.600E+00 -> output_filename='2022-12-04_caustique/caustique_gamma_modul_2.000_d8759fde.png'\n",
      "======min_lum======\n",
      "min_lum=min_lum(default)*0.500=5.000E-02 -> output_filename='2022-12-04_caustique/caustique_min_lum_modul_0.500_5d3ee876.png'\n",
      "min_lum=min_lum(default)*0.595=5.946E-02 -> output_filename='2022-12-04_caustique/caustique_min_lum_modul_0.595_25cda938.png'\n",
      "min_lum=min_lum(default)*0.707=7.071E-02 -> output_filename='2022-12-04_caustique/caustique_min_lum_modul_0.707_9800648b.png'\n",
      "min_lum=min_lum(default)*0.841=8.409E-02 -> output_filename='2022-12-04_caustique/caustique_min_lum_modul_0.841_d7ecf30b.png'\n",
      "min_lum=min_lum(default)*1.000=1.000E-01 -> output_filename='2022-12-04_caustique/caustique_min_lum_modul_1.000_ee6c3a70.png'\n",
      "min_lum=min_lum(default)*1.189=1.189E-01 -> output_filename='2022-12-04_caustique/caustique_min_lum_modul_1.189_afabb5a7.png'\n",
      "min_lum=min_lum(default)*1.414=1.414E-01 -> output_filename='2022-12-04_caustique/caustique_min_lum_modul_1.414_deb6dbe8.png'\n",
      "min_lum=min_lum(default)*1.682=1.682E-01 -> output_filename='2022-12-04_caustique/caustique_min_lum_modul_1.682_67cf466b.png'\n",
      "min_lum=min_lum(default)*2.000=2.000E-01 -> output_filename='2022-12-04_caustique/caustique_min_lum_modul_2.000_d7eee4d0.png'\n"
     ]
    }
   ],
   "source": [
    "for variable in ['scale', 'B_sf', 'theta',  'B_theta', 'gamma', 'min_lum']: #  'V_Y', 'V_X', 'B_V', \n",
    "    print(f'======{variable}======')\n",
    "    for modul in np.logspace(-1, 1, N_scan, base=base):\n",
    "        opt = init()\n",
    "        c = Caustique(opt)\n",
    "        c.d[variable] *= modul\n",
    "        c.opt.tag = f'{c.opt.tag}_{variable}_modul_{modul:.3f}'\n",
    "        \n",
    "        z = c.wave()\n",
    "        output_filename = c.plot(z)\n",
    "        print(f'{variable}={variable}(default)*{modul:.3f}={c.d[variable]:.3E} -> {output_filename=}')\n",
    "        if c.opt.do_display: c.show(output_filename)"
   ]
  },
  {
   "cell_type": "markdown",
   "metadata": {
    "tags": []
   },
   "source": [
    "## shining a grid image to the wave"
   ]
  },
  {
   "cell_type": "code",
   "execution_count": 19,
   "metadata": {},
   "outputs": [
    {
     "data": {
      "image/png": "[encoded data removed]",
      "text/plain": [
       "<Figure size 640x480 with 1 Axes>"
      ]
     },
     "metadata": {},
     "output_type": "display_data"
    }
   ],
   "source": [
    "def generate_image(nx, ny, periods=6.5, threshold=0.45, radius=.9):\n",
    "    X, Y = np.meshgrid(np.linspace(-1, 1, nx, endpoint=True), np.linspace(-1, 1, ny, endpoint=True))\n",
    "    image = (np.cos(2*np.pi*X*periods) > threshold)*1.\n",
    "    image += (np.cos(2*np.pi*Y*periods) > threshold)*1.\n",
    "    image = (image>=1) * 1.\n",
    "    image *= ((X**2 + Y**2) < radius**2) * 1.\n",
    "    return image\n",
    "    \n",
    "image = generate_image(nx=c.opt.nx, ny=c.opt.ny, periods=6.5, threshold=0.45, radius=.9)\n",
    "plt.imshow(image, cmap='gray');"
   ]
  },
  {
   "cell_type": "code",
   "execution_count": 20,
   "metadata": {},
   "outputs": [
    {
     "data": {
      "text/html": [
       "<img src=\"2022-12-04_caustique/caustique_grid-image_5a1ea73a.png\" width=\"1024\"/>"
      ],
      "text/plain": [
       "<IPython.core.display.Image object>"
      ]
     },
     "metadata": {},
     "output_type": "display_data"
    }
   ],
   "source": [
    "c = Caustique(init())\n",
    "c.opt.tag = f'{c.opt.tag}_grid-image'\n",
    "\n",
    "output_filename = c.plot(z, image)\n",
    "c.show(output_filename)"
   ]
  },
  {
   "cell_type": "code",
   "execution_count": 21,
   "metadata": {
    "execution": {
     "iopub.execute_input": "2022-09-16T06:50:19.915420Z",
     "iopub.status.busy": "2022-09-16T06:50:19.915215Z",
     "iopub.status.idle": "2022-09-16T06:50:21.641723Z",
     "shell.execute_reply": "2022-09-16T06:50:21.641154Z"
    }
   },
   "outputs": [
    {
     "name": "stdout",
     "output_type": "stream",
     "text": [
      "threshold=0.100 -> output_filename='2022-12-04_caustique/caustique_grid-image_threshold=0.100_8d2bd215.png' \n",
      "threshold=0.200 -> output_filename='2022-12-04_caustique/caustique_grid-image_threshold=0.200_77983adc.png' \n",
      "threshold=0.300 -> output_filename='2022-12-04_caustique/caustique_grid-image_threshold=0.300_6c41042b.png' \n",
      "threshold=0.400 -> output_filename='2022-12-04_caustique/caustique_grid-image_threshold=0.400_3f94737a.png' \n",
      "threshold=0.500 -> output_filename='2022-12-04_caustique/caustique_grid-image_threshold=0.500_4b46d07c.png' \n",
      "threshold=0.600 -> output_filename='2022-12-04_caustique/caustique_grid-image_threshold=0.600_7b50993a.png' \n",
      "threshold=0.700 -> output_filename='2022-12-04_caustique/caustique_grid-image_threshold=0.700_2b45fb8d.png' \n",
      "threshold=0.800 -> output_filename='2022-12-04_caustique/caustique_grid-image_threshold=0.800_482f38a2.png' \n",
      "threshold=0.900 -> output_filename='2022-12-04_caustique/caustique_grid-image_threshold=0.900_9eadc0a4.png' \n"
     ]
    }
   ],
   "source": [
    "for threshold in np.linspace(0, 1, N_scan+2)[1:-1]:\n",
    "    opt = init()\n",
    "    c = Caustique(opt)\n",
    "\n",
    "    c.opt.tag = f'{c.opt.tag}_grid-image_{threshold=:.3f}'\n",
    "    image = generate_image(nx=c.opt.nx, ny=c.opt.ny, periods=6.5, threshold=threshold)\n",
    "    output_filename = c.plot(z, image)\n",
    "    print(f'{threshold=:.3f} -> {output_filename=} ')\n",
    "    if c.opt.do_display: c.show(output_filename)"
   ]
  },
  {
   "cell_type": "code",
   "execution_count": 22,
   "metadata": {
    "execution": {
     "iopub.execute_input": "2022-09-16T06:50:19.915420Z",
     "iopub.status.busy": "2022-09-16T06:50:19.915215Z",
     "iopub.status.idle": "2022-09-16T06:50:21.641723Z",
     "shell.execute_reply": "2022-09-16T06:50:21.641154Z"
    }
   },
   "outputs": [
    {
     "name": "stdout",
     "output_type": "stream",
     "text": [
      "H = 5.000 -> output_filename='2022-12-04_caustique/caustique_grid-image__H_5.000_f2e276f8.png' \n",
      "H = 5.946 -> output_filename='2022-12-04_caustique/caustique_grid-image__H_5.946_88e37507.png' \n",
      "H = 7.071 -> output_filename='2022-12-04_caustique/caustique_grid-image__H_7.071_e6a377f2.png' \n",
      "H = 8.409 -> output_filename='2022-12-04_caustique/caustique_grid-image__H_8.409_b73f2d2d.png' \n",
      "H = 10.000 -> output_filename='2022-12-04_caustique/caustique_grid-image__H_10.000_bad80056.png' \n",
      "H = 11.892 -> output_filename='2022-12-04_caustique/caustique_grid-image__H_11.892_0a6a0f24.png' \n",
      "H = 14.142 -> output_filename='2022-12-04_caustique/caustique_grid-image__H_14.142_c51fe8ca.png' \n",
      "H = 16.818 -> output_filename='2022-12-04_caustique/caustique_grid-image__H_16.818_7ff66ffa.png' \n",
      "H = 20.000 -> output_filename='2022-12-04_caustique/caustique_grid-image__H_20.000_cafc69fb.png' \n"
     ]
    }
   ],
   "source": [
    "for H_ in c.opt.H*np.logspace(-1, 1, N_scan, base=base):\n",
    "    opt = init()\n",
    "    c = Caustique(opt)\n",
    "    c.opt.H = H_\n",
    "    c.opt.tag = f'{c.opt.tag}_grid-image__H_{H_:.3f}'\n",
    "    \n",
    "    output_filename = c.plot(z, image)\n",
    "    print(f'H = {H_:.3f} -> {output_filename=} ')\n",
    "    if c.opt.do_display: c.show(output_filename)"
   ]
  },
  {
   "cell_type": "code",
   "execution_count": 23,
   "metadata": {
    "execution": {
     "iopub.execute_input": "2022-09-16T06:50:19.915420Z",
     "iopub.status.busy": "2022-09-16T06:50:19.915215Z",
     "iopub.status.idle": "2022-09-16T06:50:21.641723Z",
     "shell.execute_reply": "2022-09-16T06:50:21.641154Z"
    }
   },
   "outputs": [
    {
     "name": "stdout",
     "output_type": "stream",
     "text": [
      "periods=1.000 -> output_filename='2022-12-04_caustique/caustique_grid-image_periods=1.000_c4fdbbac.png' \n",
      "periods=1.334 -> output_filename='2022-12-04_caustique/caustique_grid-image_periods=1.334_14a50697.png' \n",
      "periods=1.778 -> output_filename='2022-12-04_caustique/caustique_grid-image_periods=1.778_5396e7d6.png' \n",
      "periods=2.371 -> output_filename='2022-12-04_caustique/caustique_grid-image_periods=2.371_858d2df0.png' \n",
      "periods=3.162 -> output_filename='2022-12-04_caustique/caustique_grid-image_periods=3.162_a1aa4ca2.png' \n",
      "periods=4.217 -> output_filename='2022-12-04_caustique/caustique_grid-image_periods=4.217_8dc19a47.png' \n",
      "periods=5.623 -> output_filename='2022-12-04_caustique/caustique_grid-image_periods=5.623_3b12195b.png' \n",
      "periods=7.499 -> output_filename='2022-12-04_caustique/caustique_grid-image_periods=7.499_f98cd101.png' \n",
      "periods=10.000 -> output_filename='2022-12-04_caustique/caustique_grid-image_periods=10.000_7618e656.png' \n"
     ]
    }
   ],
   "source": [
    "for periods in np.logspace(0, 1, N_scan, base=10):\n",
    "    opt = init()\n",
    "    c = Caustique(opt)\n",
    "\n",
    "    c.opt.tag = f'{c.opt.tag}_grid-image_{periods=:.3f}'\n",
    "    image = generate_image(nx=c.opt.nx, ny=c.opt.ny, periods=periods, threshold=.2)\n",
    "    output_filename = c.plot(z, image)\n",
    "    print(f'{periods=:.3f} -> {output_filename=} ')\n",
    "    if c.opt.do_display: c.show(output_filename)"
   ]
  },
  {
   "cell_type": "markdown",
   "metadata": {
    "tags": []
   },
   "source": [
    "## shining a hole image to the wave"
   ]
  },
  {
   "cell_type": "code",
   "execution_count": 24,
   "metadata": {},
   "outputs": [
    {
     "data": {
      "image/png": "[encoded data removed]",
      "text/plain": [
       "<Figure size 640x480 with 1 Axes>"
      ]
     },
     "metadata": {},
     "output_type": "display_data"
    }
   ],
   "source": [
    "def generate_image(nx, ny, periods=6.5, threshold=0.45, radius=.9):\n",
    "    X, Y = np.meshgrid(np.linspace(-1, 1, nx, endpoint=True), np.linspace(-1, 1, ny, endpoint=True))\n",
    "    image = (np.cos(2*np.pi*X*periods) > threshold)*1.\n",
    "    image += (np.cos(2*np.pi*Y*periods) > threshold)*1.\n",
    "    image = 1. - (image<=1)\n",
    "    image *= (X**2 < radius**2) * (Y**2 < radius**2) * 1.\n",
    "    return image\n",
    "image = generate_image(nx=c.opt.nx, ny=c.opt.ny, periods=6.5, threshold=0.45, radius=.9)\n",
    "plt.imshow(image, cmap='gray');"
   ]
  },
  {
   "cell_type": "code",
   "execution_count": 25,
   "metadata": {},
   "outputs": [
    {
     "data": {
      "text/html": [
       "<img src=\"2022-12-04_caustique/caustique_hole-image_bfa1a813.png\" width=\"1024\"/>"
      ],
      "text/plain": [
       "<IPython.core.display.Image object>"
      ]
     },
     "metadata": {},
     "output_type": "display_data"
    }
   ],
   "source": [
    "c = Caustique(init())\n",
    "c.opt.tag = f'{c.opt.tag}_hole-image'\n",
    "\n",
    "output_filename = c.plot(z, image)\n",
    "c.show(output_filename)"
   ]
  },
  {
   "cell_type": "code",
   "execution_count": 26,
   "metadata": {
    "execution": {
     "iopub.execute_input": "2022-09-16T06:50:19.915420Z",
     "iopub.status.busy": "2022-09-16T06:50:19.915215Z",
     "iopub.status.idle": "2022-09-16T06:50:21.641723Z",
     "shell.execute_reply": "2022-09-16T06:50:21.641154Z"
    }
   },
   "outputs": [
    {
     "name": "stdout",
     "output_type": "stream",
     "text": [
      "H = 5.000 -> output_filename='2022-12-04_caustique/caustique_hole-image__H_5.000_71413d18.png' \n",
      "H = 5.946 -> output_filename='2022-12-04_caustique/caustique_hole-image__H_5.946_30258f47.png' \n",
      "H = 7.071 -> output_filename='2022-12-04_caustique/caustique_hole-image__H_7.071_c2add569.png' \n",
      "H = 8.409 -> output_filename='2022-12-04_caustique/caustique_hole-image__H_8.409_1235c96f.png' \n",
      "H = 10.000 -> output_filename='2022-12-04_caustique/caustique_hole-image__H_10.000_a77a506f.png' \n",
      "H = 11.892 -> output_filename='2022-12-04_caustique/caustique_hole-image__H_11.892_c8e7e290.png' \n",
      "H = 14.142 -> output_filename='2022-12-04_caustique/caustique_hole-image__H_14.142_ec689f72.png' \n",
      "H = 16.818 -> output_filename='2022-12-04_caustique/caustique_hole-image__H_16.818_952cbc67.png' \n",
      "H = 20.000 -> output_filename='2022-12-04_caustique/caustique_hole-image__H_20.000_2e20fb69.png' \n"
     ]
    }
   ],
   "source": [
    "for H_ in c.opt.H*np.logspace(-1, 1, N_scan, base=base):\n",
    "    opt = init()\n",
    "    c = Caustique(opt)\n",
    "    c.opt.H = H_\n",
    "    c.opt.tag = f'{c.opt.tag}_hole-image__H_{H_:.3f}'\n",
    "    \n",
    "    output_filename = c.plot(z, image)\n",
    "    print(f'H = {H_:.3f} -> {output_filename=} ')\n",
    "    if c.opt.do_display: c.show(output_filename)"
   ]
  },
  {
   "cell_type": "code",
   "execution_count": 27,
   "metadata": {
    "execution": {
     "iopub.execute_input": "2022-09-16T06:50:19.915420Z",
     "iopub.status.busy": "2022-09-16T06:50:19.915215Z",
     "iopub.status.idle": "2022-09-16T06:50:21.641723Z",
     "shell.execute_reply": "2022-09-16T06:50:21.641154Z"
    }
   },
   "outputs": [
    {
     "name": "stdout",
     "output_type": "stream",
     "text": [
      "threshold=0.100 -> output_filename='2022-12-04_caustique/caustique_hole-image_threshold=0.100_b470651c.png' \n",
      "threshold=0.200 -> output_filename='2022-12-04_caustique/caustique_hole-image_threshold=0.200_3c67ac7f.png' \n",
      "threshold=0.300 -> output_filename='2022-12-04_caustique/caustique_hole-image_threshold=0.300_68d84d83.png' \n",
      "threshold=0.400 -> output_filename='2022-12-04_caustique/caustique_hole-image_threshold=0.400_3f06b371.png' \n",
      "threshold=0.500 -> output_filename='2022-12-04_caustique/caustique_hole-image_threshold=0.500_759dc85d.png' \n",
      "threshold=0.600 -> output_filename='2022-12-04_caustique/caustique_hole-image_threshold=0.600_a8462617.png' \n",
      "threshold=0.700 -> output_filename='2022-12-04_caustique/caustique_hole-image_threshold=0.700_8abec2bf.png' \n",
      "threshold=0.800 -> output_filename='2022-12-04_caustique/caustique_hole-image_threshold=0.800_e288d5db.png' \n",
      "threshold=0.900 -> output_filename='2022-12-04_caustique/caustique_hole-image_threshold=0.900_921d5b0d.png' \n"
     ]
    }
   ],
   "source": [
    "for threshold in np.linspace(0, 1, N_scan+2)[1:-1]:\n",
    "    opt = init()\n",
    "    c = Caustique(opt)\n",
    "\n",
    "    c.opt.tag = f'{c.opt.tag}_hole-image_{threshold=:.3f}'\n",
    "    image = generate_image(nx=c.opt.nx, ny=c.opt.ny, periods=6.5, threshold=threshold)\n",
    "    output_filename = c.plot(z, image)\n",
    "    print(f'{threshold=:.3f} -> {output_filename=} ')\n",
    "    if c.opt.do_display: c.show(output_filename)"
   ]
  },
  {
   "cell_type": "code",
   "execution_count": 28,
   "metadata": {
    "execution": {
     "iopub.execute_input": "2022-09-16T06:50:19.915420Z",
     "iopub.status.busy": "2022-09-16T06:50:19.915215Z",
     "iopub.status.idle": "2022-09-16T06:50:21.641723Z",
     "shell.execute_reply": "2022-09-16T06:50:21.641154Z"
    }
   },
   "outputs": [
    {
     "name": "stdout",
     "output_type": "stream",
     "text": [
      "periods=1.000 -> output_filename='2022-12-04_caustique/caustique_hole-image_periods=1.000_fb9755cf.png' \n",
      "periods=1.334 -> output_filename='2022-12-04_caustique/caustique_hole-image_periods=1.334_c83b9e8d.png' \n",
      "periods=1.778 -> output_filename='2022-12-04_caustique/caustique_hole-image_periods=1.778_4e76e4be.png' \n",
      "periods=2.371 -> output_filename='2022-12-04_caustique/caustique_hole-image_periods=2.371_05d5ceba.png' \n",
      "periods=3.162 -> output_filename='2022-12-04_caustique/caustique_hole-image_periods=3.162_45e3b091.png' \n",
      "periods=4.217 -> output_filename='2022-12-04_caustique/caustique_hole-image_periods=4.217_cf19c1fc.png' \n",
      "periods=5.623 -> output_filename='2022-12-04_caustique/caustique_hole-image_periods=5.623_a83342eb.png' \n",
      "periods=7.499 -> output_filename='2022-12-04_caustique/caustique_hole-image_periods=7.499_6fcf7633.png' \n",
      "periods=10.000 -> output_filename='2022-12-04_caustique/caustique_hole-image_periods=10.000_1618eb10.png' \n"
     ]
    }
   ],
   "source": [
    "for periods in np.logspace(0, 1, N_scan, base=10):\n",
    "    opt = init()\n",
    "    c = Caustique(opt)\n",
    "\n",
    "    c.opt.tag = f'{c.opt.tag}_hole-image_{periods=:.3f}'\n",
    "    image = generate_image(nx=c.opt.nx, ny=c.opt.ny, periods=periods, threshold=.2)\n",
    "    output_filename = c.plot(z, image)\n",
    "    print(f'{periods=:.3f} -> {output_filename=} ')\n",
    "    if c.opt.do_display: c.show(output_filename)"
   ]
  },
  {
   "cell_type": "markdown",
   "metadata": {
    "tags": []
   },
   "source": [
    "## shining a square image to the wave"
   ]
  },
  {
   "cell_type": "code",
   "execution_count": 29,
   "metadata": {},
   "outputs": [
    {
     "data": {
      "image/png": "[encoded data removed]",
      "text/plain": [
       "<Figure size 640x480 with 1 Axes>"
      ]
     },
     "metadata": {},
     "output_type": "display_data"
    }
   ],
   "source": [
    "def generate_image(nx, ny,  radius=.9):\n",
    "    X, Y = np.meshgrid(np.linspace(-1, 1, nx, endpoint=True), np.linspace(-1, 1, ny, endpoint=True))\n",
    "    image = (X**2 < radius**2) * (Y**2 < radius**2) * 1.\n",
    "    return image\n",
    "image = generate_image(nx=c.opt.nx, ny=c.opt.ny, radius=.9)\n",
    "plt.imshow(image, cmap='gray');"
   ]
  },
  {
   "cell_type": "code",
   "execution_count": 30,
   "metadata": {},
   "outputs": [
    {
     "data": {
      "text/html": [
       "<img src=\"2022-12-04_caustique/caustique_square-image_4adcd7ce.png\" width=\"1024\"/>"
      ],
      "text/plain": [
       "<IPython.core.display.Image object>"
      ]
     },
     "metadata": {},
     "output_type": "display_data"
    }
   ],
   "source": [
    "c = Caustique(init())\n",
    "c.opt.tag = f'{c.opt.tag}_square-image'\n",
    "output_filename = c.plot(z, image)\n",
    "c.show(output_filename)"
   ]
  },
  {
   "cell_type": "code",
   "execution_count": 31,
   "metadata": {
    "execution": {
     "iopub.execute_input": "2022-09-16T06:50:19.915420Z",
     "iopub.status.busy": "2022-09-16T06:50:19.915215Z",
     "iopub.status.idle": "2022-09-16T06:50:21.641723Z",
     "shell.execute_reply": "2022-09-16T06:50:21.641154Z"
    }
   },
   "outputs": [
    {
     "name": "stdout",
     "output_type": "stream",
     "text": [
      "H = 5.000 -> output_filename='2022-12-04_caustique/caustique_hole-image__H_5.000_71413d18.png' \n",
      "H = 5.946 -> output_filename='2022-12-04_caustique/caustique_hole-image__H_5.946_30258f47.png' \n",
      "H = 7.071 -> output_filename='2022-12-04_caustique/caustique_hole-image__H_7.071_c2add569.png' \n",
      "H = 8.409 -> output_filename='2022-12-04_caustique/caustique_hole-image__H_8.409_1235c96f.png' \n",
      "H = 10.000 -> output_filename='2022-12-04_caustique/caustique_hole-image__H_10.000_a77a506f.png' \n",
      "H = 11.892 -> output_filename='2022-12-04_caustique/caustique_hole-image__H_11.892_c8e7e290.png' \n",
      "H = 14.142 -> output_filename='2022-12-04_caustique/caustique_hole-image__H_14.142_ec689f72.png' \n",
      "H = 16.818 -> output_filename='2022-12-04_caustique/caustique_hole-image__H_16.818_952cbc67.png' \n",
      "H = 20.000 -> output_filename='2022-12-04_caustique/caustique_hole-image__H_20.000_2e20fb69.png' \n"
     ]
    }
   ],
   "source": [
    "for H_ in c.opt.H*np.logspace(-1, 1, N_scan, base=base):\n",
    "    opt = init()\n",
    "    c = Caustique(opt)\n",
    "    c.opt.H = H_\n",
    "    c.opt.tag = f'{c.opt.tag}_hole-image__H_{H_:.3f}'\n",
    "    \n",
    "    output_filename = c.plot(z, image)\n",
    "    print(f'H = {H_:.3f} -> {output_filename=} ')\n",
    "    if c.opt.do_display: c.show(output_filename)"
   ]
  },
  {
   "cell_type": "code",
   "execution_count": 32,
   "metadata": {
    "execution": {
     "iopub.execute_input": "2022-09-16T06:50:19.915420Z",
     "iopub.status.busy": "2022-09-16T06:50:19.915215Z",
     "iopub.status.idle": "2022-09-16T06:50:21.641723Z",
     "shell.execute_reply": "2022-09-16T06:50:21.641154Z"
    }
   },
   "outputs": [
    {
     "name": "stdout",
     "output_type": "stream",
     "text": [
      "radius=0.000 -> output_filename='2022-12-04_caustique/caustique_square-image_radius=0.000_6213ba8b.png' \n",
      "radius=0.125 -> output_filename='2022-12-04_caustique/caustique_square-image_radius=0.125_924d2a13.png' \n",
      "radius=0.250 -> output_filename='2022-12-04_caustique/caustique_square-image_radius=0.250_6843b7b6.png' \n",
      "radius=0.375 -> output_filename='2022-12-04_caustique/caustique_square-image_radius=0.375_e26e4061.png' \n",
      "radius=0.500 -> output_filename='2022-12-04_caustique/caustique_square-image_radius=0.500_bfad2304.png' \n",
      "radius=0.625 -> output_filename='2022-12-04_caustique/caustique_square-image_radius=0.625_2433fd23.png' \n",
      "radius=0.750 -> output_filename='2022-12-04_caustique/caustique_square-image_radius=0.750_c2bd8665.png' \n",
      "radius=0.875 -> output_filename='2022-12-04_caustique/caustique_square-image_radius=0.875_941e392a.png' \n",
      "radius=1.000 -> output_filename='2022-12-04_caustique/caustique_square-image_radius=1.000_f243a7b7.png' \n"
     ]
    }
   ],
   "source": [
    "for radius in np.linspace(0, 1, N_scan):\n",
    "    opt = init()\n",
    "    c = Caustique(opt)\n",
    "\n",
    "    c.opt.tag = f'{c.opt.tag}_square-image_{radius=:.3f}'\n",
    "    image = generate_image(nx=c.opt.nx, ny=c.opt.ny, radius=radius)\n",
    "    output_filename = c.plot(z, image)\n",
    "    print(f'{radius=:.3f} -> {output_filename=} ')\n",
    "    if c.opt.do_display: c.show(output_filename)"
   ]
  },
  {
   "cell_type": "markdown",
   "metadata": {
    "tags": []
   },
   "source": [
    "## shining a disk image to the wave"
   ]
  },
  {
   "cell_type": "code",
   "execution_count": 33,
   "metadata": {},
   "outputs": [
    {
     "data": {
      "image/png": "[encoded data removed]",
      "text/plain": [
       "<Figure size 640x480 with 1 Axes>"
      ]
     },
     "metadata": {},
     "output_type": "display_data"
    }
   ],
   "source": [
    "def generate_image(nx, ny, radius_in=0., radius_out=.9):\n",
    "    X, Y = np.meshgrid(np.linspace(-1, 1, nx, endpoint=True), np.linspace(-1, 1, ny, endpoint=True))\n",
    "    image = ((X**2 + Y**2) < radius_out**2) * ((X**2 + Y**2) > radius_in**2) * 1.\n",
    "    return image\n",
    "image = generate_image(nx=c.opt.nx, ny=c.opt.ny, radius_out=.9)\n",
    "plt.imshow(image, cmap='gray');"
   ]
  },
  {
   "cell_type": "code",
   "execution_count": 34,
   "metadata": {},
   "outputs": [
    {
     "data": {
      "text/html": [
       "<img src=\"2022-12-04_caustique/caustique_disk-image_106f4a29.png\" width=\"1024\"/>"
      ],
      "text/plain": [
       "<IPython.core.display.Image object>"
      ]
     },
     "metadata": {},
     "output_type": "display_data"
    }
   ],
   "source": [
    "c = Caustique(init())\n",
    "c.opt.tag = f'{c.opt.tag}_disk-image'\n",
    "output_filename = c.plot(z, image)\n",
    "c.show(output_filename)"
   ]
  },
  {
   "cell_type": "code",
   "execution_count": 35,
   "metadata": {
    "execution": {
     "iopub.execute_input": "2022-09-16T06:50:19.915420Z",
     "iopub.status.busy": "2022-09-16T06:50:19.915215Z",
     "iopub.status.idle": "2022-09-16T06:50:21.641723Z",
     "shell.execute_reply": "2022-09-16T06:50:21.641154Z"
    }
   },
   "outputs": [
    {
     "name": "stdout",
     "output_type": "stream",
     "text": [
      "H = 5.000 -> output_filename='2022-12-04_caustique/caustique_disk-image__H_5.000_c202f9f8.png' \n",
      "H = 5.946 -> output_filename='2022-12-04_caustique/caustique_disk-image__H_5.946_a73755c7.png' \n",
      "H = 7.071 -> output_filename='2022-12-04_caustique/caustique_disk-image__H_7.071_ac193d4f.png' \n",
      "H = 8.409 -> output_filename='2022-12-04_caustique/caustique_disk-image__H_8.409_9246c3a1.png' \n",
      "H = 10.000 -> output_filename='2022-12-04_caustique/caustique_disk-image__H_10.000_5de8bbad.png' \n",
      "H = 11.892 -> output_filename='2022-12-04_caustique/caustique_disk-image__H_11.892_eb9c7b4b.png' \n",
      "H = 14.142 -> output_filename='2022-12-04_caustique/caustique_disk-image__H_14.142_e455da29.png' \n",
      "H = 16.818 -> output_filename='2022-12-04_caustique/caustique_disk-image__H_16.818_2b1b5155.png' \n",
      "H = 20.000 -> output_filename='2022-12-04_caustique/caustique_disk-image__H_20.000_b57406c0.png' \n"
     ]
    }
   ],
   "source": [
    "for H_ in c.opt.H*np.logspace(-1, 1, N_scan, base=base):\n",
    "    opt = init()\n",
    "    c = Caustique(opt)\n",
    "    c.opt.H = H_\n",
    "    c.opt.tag = f'{c.opt.tag}_disk-image__H_{H_:.3f}'\n",
    "    \n",
    "    output_filename = c.plot(z, image)\n",
    "    print(f'H = {H_:.3f} -> {output_filename=} ')\n",
    "    if c.opt.do_display: c.show(output_filename)"
   ]
  },
  {
   "cell_type": "code",
   "execution_count": 36,
   "metadata": {
    "execution": {
     "iopub.execute_input": "2022-09-16T06:50:19.915420Z",
     "iopub.status.busy": "2022-09-16T06:50:19.915215Z",
     "iopub.status.idle": "2022-09-16T06:50:21.641723Z",
     "shell.execute_reply": "2022-09-16T06:50:21.641154Z"
    }
   },
   "outputs": [
    {
     "name": "stdout",
     "output_type": "stream",
     "text": [
      "0.000 -> output_filename='2022-12-04_caustique/caustique_disk-image_radius_out=0.000_cf3a0e0c.png' \n",
      "0.125 -> output_filename='2022-12-04_caustique/caustique_disk-image_radius_out=0.125_4f41df58.png' \n",
      "0.250 -> output_filename='2022-12-04_caustique/caustique_disk-image_radius_out=0.250_f1c134e9.png' \n",
      "0.375 -> output_filename='2022-12-04_caustique/caustique_disk-image_radius_out=0.375_4a55ee50.png' \n",
      "0.500 -> output_filename='2022-12-04_caustique/caustique_disk-image_radius_out=0.500_c55b0239.png' \n",
      "0.625 -> output_filename='2022-12-04_caustique/caustique_disk-image_radius_out=0.625_db71015c.png' \n",
      "0.750 -> output_filename='2022-12-04_caustique/caustique_disk-image_radius_out=0.750_af582138.png' \n",
      "0.875 -> output_filename='2022-12-04_caustique/caustique_disk-image_radius_out=0.875_538178ac.png' \n",
      "1.000 -> output_filename='2022-12-04_caustique/caustique_disk-image_radius_out=1.000_d5289117.png' \n"
     ]
    }
   ],
   "source": [
    "for radius_out in np.linspace(0, 1, N_scan):\n",
    "    opt = init()\n",
    "    c = Caustique(opt)\n",
    "\n",
    "    c.opt.tag = f'{c.opt.tag}_disk-image_{radius_out=:.3f}'\n",
    "    image = generate_image(nx=c.opt.nx, ny=c.opt.ny, radius_out=radius_out)\n",
    "    output_filename = c.plot(z, image)\n",
    "    print(f'{radius_out:.3f} -> {output_filename=} ')\n",
    "    if c.opt.do_display: c.show(output_filename)"
   ]
  },
  {
   "cell_type": "code",
   "execution_count": 37,
   "metadata": {
    "execution": {
     "iopub.execute_input": "2022-09-16T06:50:19.915420Z",
     "iopub.status.busy": "2022-09-16T06:50:19.915215Z",
     "iopub.status.idle": "2022-09-16T06:50:21.641723Z",
     "shell.execute_reply": "2022-09-16T06:50:21.641154Z"
    }
   },
   "outputs": [
    {
     "name": "stdout",
     "output_type": "stream",
     "text": [
      "radius_in=0.000 -> output_filename='2022-12-04_caustique/caustique_disk-image_radius_in=0.000_0437aff3.png' \n",
      "radius_in=0.113 -> output_filename='2022-12-04_caustique/caustique_disk-image_radius_in=0.113_a8d6c456.png' \n",
      "radius_in=0.225 -> output_filename='2022-12-04_caustique/caustique_disk-image_radius_in=0.225_04fc0e45.png' \n",
      "radius_in=0.338 -> output_filename='2022-12-04_caustique/caustique_disk-image_radius_in=0.338_e2976ed1.png' \n",
      "radius_in=0.450 -> output_filename='2022-12-04_caustique/caustique_disk-image_radius_in=0.450_d4149bbe.png' \n",
      "radius_in=0.562 -> output_filename='2022-12-04_caustique/caustique_disk-image_radius_in=0.562_34b17c7f.png' \n",
      "radius_in=0.675 -> output_filename='2022-12-04_caustique/caustique_disk-image_radius_in=0.675_be7344dd.png' \n",
      "radius_in=0.787 -> output_filename='2022-12-04_caustique/caustique_disk-image_radius_in=0.787_2c451641.png' \n",
      "radius_in=0.900 -> output_filename='2022-12-04_caustique/caustique_disk-image_radius_in=0.900_98eca1df.png' \n"
     ]
    }
   ],
   "source": [
    "for radius_in in np.linspace(0, .9, N_scan):\n",
    "    opt = init()\n",
    "    c = Caustique(opt)\n",
    "\n",
    "    c.opt.tag = f'{c.opt.tag}_disk-image_{radius_in=:.3f}'\n",
    "    image = generate_image(nx=c.opt.nx, ny=c.opt.ny, radius_in=radius_in)\n",
    "    output_filename = c.plot(z, image)\n",
    "    print(f'{radius_in=:.3f} -> {output_filename=} ')\n",
    "    if c.opt.do_display: c.show(output_filename)"
   ]
  },
  {
   "cell_type": "markdown",
   "metadata": {
    "tags": []
   },
   "source": [
    "## shining a disk image to the wave"
   ]
  },
  {
   "cell_type": "code",
   "execution_count": 38,
   "metadata": {},
   "outputs": [
    {
     "data": {
      "image/png": "[encoded data removed]",
      "text/plain": [
       "<Figure size 640x480 with 1 Axes>"
      ]
     },
     "metadata": {},
     "output_type": "display_data"
    }
   ],
   "source": [
    "def generate_image(nx, ny, radius_in=0., radius_out=.9):\n",
    "    X, Y = np.meshgrid(np.linspace(-1, 1, nx, endpoint=True), np.linspace(-1, 1, ny, endpoint=True))\n",
    "    image = ((X**2 + Y**2) < radius_out**2) * ((X**2 + Y**2) > radius_in**2) * 1.\n",
    "    return image\n",
    "image = generate_image(nx=c.opt.nx, ny=c.opt.ny, radius_out=.9)\n",
    "plt.imshow(image, cmap='gray');"
   ]
  },
  {
   "cell_type": "code",
   "execution_count": 39,
   "metadata": {},
   "outputs": [
    {
     "data": {
      "text/html": [
       "<img src=\"2022-12-04_caustique/caustique_disk-image_106f4a29.png\" width=\"1024\"/>"
      ],
      "text/plain": [
       "<IPython.core.display.Image object>"
      ]
     },
     "metadata": {},
     "output_type": "display_data"
    }
   ],
   "source": [
    "c = Caustique(init())\n",
    "c.opt.tag = f'{c.opt.tag}_disk-image'\n",
    "output_filename = c.plot(z, image)\n",
    "c.show(output_filename)"
   ]
  },
  {
   "cell_type": "code",
   "execution_count": 40,
   "metadata": {
    "execution": {
     "iopub.execute_input": "2022-09-16T06:50:19.915420Z",
     "iopub.status.busy": "2022-09-16T06:50:19.915215Z",
     "iopub.status.idle": "2022-09-16T06:50:21.641723Z",
     "shell.execute_reply": "2022-09-16T06:50:21.641154Z"
    }
   },
   "outputs": [
    {
     "name": "stdout",
     "output_type": "stream",
     "text": [
      "H = 5.000 -> output_filename='2022-12-04_caustique/caustique_disk-image__H_5.000_c202f9f8.png' \n",
      "H = 5.946 -> output_filename='2022-12-04_caustique/caustique_disk-image__H_5.946_a73755c7.png' \n",
      "H = 7.071 -> output_filename='2022-12-04_caustique/caustique_disk-image__H_7.071_ac193d4f.png' \n",
      "H = 8.409 -> output_filename='2022-12-04_caustique/caustique_disk-image__H_8.409_9246c3a1.png' \n",
      "H = 10.000 -> output_filename='2022-12-04_caustique/caustique_disk-image__H_10.000_5de8bbad.png' \n",
      "H = 11.892 -> output_filename='2022-12-04_caustique/caustique_disk-image__H_11.892_eb9c7b4b.png' \n",
      "H = 14.142 -> output_filename='2022-12-04_caustique/caustique_disk-image__H_14.142_e455da29.png' \n",
      "H = 16.818 -> output_filename='2022-12-04_caustique/caustique_disk-image__H_16.818_2b1b5155.png' \n",
      "H = 20.000 -> output_filename='2022-12-04_caustique/caustique_disk-image__H_20.000_b57406c0.png' \n"
     ]
    }
   ],
   "source": [
    "for H_ in c.opt.H*np.logspace(-1, 1, N_scan, base=base):\n",
    "    opt = init()\n",
    "    c = Caustique(opt)\n",
    "    c.opt.H = H_\n",
    "    c.opt.tag = f'{c.opt.tag}_disk-image__H_{H_:.3f}'\n",
    "    \n",
    "    output_filename = c.plot(z, image)\n",
    "    print(f'H = {H_:.3f} -> {output_filename=} ')\n",
    "    if c.opt.do_display: c.show(output_filename)"
   ]
  },
  {
   "cell_type": "code",
   "execution_count": 41,
   "metadata": {
    "execution": {
     "iopub.execute_input": "2022-09-16T06:50:19.915420Z",
     "iopub.status.busy": "2022-09-16T06:50:19.915215Z",
     "iopub.status.idle": "2022-09-16T06:50:21.641723Z",
     "shell.execute_reply": "2022-09-16T06:50:21.641154Z"
    }
   },
   "outputs": [
    {
     "name": "stdout",
     "output_type": "stream",
     "text": [
      "0.000 -> output_filename='2022-12-04_caustique/caustique_disk-image_radius_out=0.000_cf3a0e0c.png' \n",
      "0.125 -> output_filename='2022-12-04_caustique/caustique_disk-image_radius_out=0.125_4f41df58.png' \n",
      "0.250 -> output_filename='2022-12-04_caustique/caustique_disk-image_radius_out=0.250_f1c134e9.png' \n",
      "0.375 -> output_filename='2022-12-04_caustique/caustique_disk-image_radius_out=0.375_4a55ee50.png' \n",
      "0.500 -> output_filename='2022-12-04_caustique/caustique_disk-image_radius_out=0.500_c55b0239.png' \n",
      "0.625 -> output_filename='2022-12-04_caustique/caustique_disk-image_radius_out=0.625_db71015c.png' \n",
      "0.750 -> output_filename='2022-12-04_caustique/caustique_disk-image_radius_out=0.750_af582138.png' \n",
      "0.875 -> output_filename='2022-12-04_caustique/caustique_disk-image_radius_out=0.875_538178ac.png' \n",
      "1.000 -> output_filename='2022-12-04_caustique/caustique_disk-image_radius_out=1.000_d5289117.png' \n"
     ]
    }
   ],
   "source": [
    "for radius_out in np.linspace(0, 1, N_scan):\n",
    "    opt = init()\n",
    "    c = Caustique(opt)\n",
    "\n",
    "    c.opt.tag = f'{c.opt.tag}_disk-image_{radius_out=:.3f}'\n",
    "    image = generate_image(nx=c.opt.nx, ny=c.opt.ny, radius_out=radius_out)\n",
    "    output_filename = c.plot(z, image)\n",
    "    print(f'{radius_out:.3f} -> {output_filename=} ')\n",
    "    if c.opt.do_display: c.show(output_filename)"
   ]
  },
  {
   "cell_type": "code",
   "execution_count": 42,
   "metadata": {
    "execution": {
     "iopub.execute_input": "2022-09-16T06:50:19.915420Z",
     "iopub.status.busy": "2022-09-16T06:50:19.915215Z",
     "iopub.status.idle": "2022-09-16T06:50:21.641723Z",
     "shell.execute_reply": "2022-09-16T06:50:21.641154Z"
    }
   },
   "outputs": [
    {
     "name": "stdout",
     "output_type": "stream",
     "text": [
      "radius_in=0.000 -> output_filename='2022-12-04_caustique/caustique_disk-image_radius_in=0.000_0437aff3.png' \n",
      "radius_in=0.113 -> output_filename='2022-12-04_caustique/caustique_disk-image_radius_in=0.113_a8d6c456.png' \n",
      "radius_in=0.225 -> output_filename='2022-12-04_caustique/caustique_disk-image_radius_in=0.225_04fc0e45.png' \n",
      "radius_in=0.338 -> output_filename='2022-12-04_caustique/caustique_disk-image_radius_in=0.338_e2976ed1.png' \n",
      "radius_in=0.450 -> output_filename='2022-12-04_caustique/caustique_disk-image_radius_in=0.450_d4149bbe.png' \n",
      "radius_in=0.562 -> output_filename='2022-12-04_caustique/caustique_disk-image_radius_in=0.562_34b17c7f.png' \n",
      "radius_in=0.675 -> output_filename='2022-12-04_caustique/caustique_disk-image_radius_in=0.675_be7344dd.png' \n",
      "radius_in=0.787 -> output_filename='2022-12-04_caustique/caustique_disk-image_radius_in=0.787_2c451641.png' \n",
      "radius_in=0.900 -> output_filename='2022-12-04_caustique/caustique_disk-image_radius_in=0.900_98eca1df.png' \n"
     ]
    }
   ],
   "source": [
    "for radius_in in np.linspace(0, .9, N_scan):\n",
    "    opt = init()\n",
    "    c = Caustique(opt)\n",
    "\n",
    "    c.opt.tag = f'{c.opt.tag}_disk-image_{radius_in=:.3f}'\n",
    "    image = generate_image(nx=c.opt.nx, ny=c.opt.ny, radius_in=radius_in)\n",
    "    output_filename = c.plot(z, image)\n",
    "    print(f'{radius_in=:.3f} -> {output_filename=} ')\n",
    "    if c.opt.do_display: c.show(output_filename)"
   ]
  },
  {
   "cell_type": "markdown",
   "metadata": {
    "tags": []
   },
   "source": [
    "## shining a grating image to the wave"
   ]
  },
  {
   "cell_type": "code",
   "execution_count": 43,
   "metadata": {},
   "outputs": [
    {
     "data": {
      "image/png": "[encoded data removed]",
      "text/plain": [
       "<Figure size 640x480 with 1 Axes>"
      ]
     },
     "metadata": {},
     "output_type": "display_data"
    }
   ],
   "source": [
    "def generate_image(nx, ny, periods=6.25, threshold=0.45, radius=.9):\n",
    "    X, Y = np.meshgrid(np.linspace(-1, 1, nx, endpoint=True), np.linspace(-1, 1, ny, endpoint=True))\n",
    "    image = (np.cos(2*np.pi*X*periods) > threshold)*1.\n",
    "    # image += (np.cos(2*np.pi*Y*periods) > threshold)*1.\n",
    "    # image = (image>=1) * 1.\n",
    "    image *= (X**2 < radius**2) * (Y**2 < radius**2) * 1.\n",
    "    return image\n",
    "image = generate_image(nx=c.opt.nx, ny=c.opt.ny)\n",
    "plt.imshow(image, cmap='gray');"
   ]
  },
  {
   "cell_type": "code",
   "execution_count": 44,
   "metadata": {},
   "outputs": [
    {
     "data": {
      "text/html": [
       "<img src=\"2022-12-04_caustique/caustique_grating-image_f3796d93.png\" width=\"1024\"/>"
      ],
      "text/plain": [
       "<IPython.core.display.Image object>"
      ]
     },
     "metadata": {},
     "output_type": "display_data"
    }
   ],
   "source": [
    "c = Caustique(init())\n",
    "c.opt.tag = f'{c.opt.tag}_grating-image'\n",
    "output_filename = c.plot(z, image)\n",
    "c.show(output_filename)"
   ]
  },
  {
   "cell_type": "code",
   "execution_count": 45,
   "metadata": {
    "execution": {
     "iopub.execute_input": "2022-09-16T06:50:19.915420Z",
     "iopub.status.busy": "2022-09-16T06:50:19.915215Z",
     "iopub.status.idle": "2022-09-16T06:50:21.641723Z",
     "shell.execute_reply": "2022-09-16T06:50:21.641154Z"
    }
   },
   "outputs": [
    {
     "name": "stdout",
     "output_type": "stream",
     "text": [
      "H = 5.000 -> output_filename='2022-12-04_caustique/caustique_grating-image__H_5.000_194e050e.png' \n",
      "H = 5.946 -> output_filename='2022-12-04_caustique/caustique_grating-image__H_5.946_036b7d0e.png' \n",
      "H = 7.071 -> output_filename='2022-12-04_caustique/caustique_grating-image__H_7.071_206b695a.png' \n",
      "H = 8.409 -> output_filename='2022-12-04_caustique/caustique_grating-image__H_8.409_b43a3010.png' \n",
      "H = 10.000 -> output_filename='2022-12-04_caustique/caustique_grating-image__H_10.000_119c016f.png' \n",
      "H = 11.892 -> output_filename='2022-12-04_caustique/caustique_grating-image__H_11.892_35dd4e0d.png' \n",
      "H = 14.142 -> output_filename='2022-12-04_caustique/caustique_grating-image__H_14.142_ace7c19d.png' \n",
      "H = 16.818 -> output_filename='2022-12-04_caustique/caustique_grating-image__H_16.818_96a4358b.png' \n",
      "H = 20.000 -> output_filename='2022-12-04_caustique/caustique_grating-image__H_20.000_891a1ca0.png' \n"
     ]
    }
   ],
   "source": [
    "for H_ in c.opt.H*np.logspace(-1, 1, N_scan, base=base):\n",
    "    opt = init()\n",
    "    c = Caustique(opt)\n",
    "    c.opt.H = H_\n",
    "    c.opt.tag = f'{c.opt.tag}_grating-image__H_{H_:.3f}'\n",
    "    \n",
    "    output_filename = c.plot(z, image)\n",
    "    print(f'H = {H_:.3f} -> {output_filename=} ')\n",
    "    if c.opt.do_display: c.show(output_filename)"
   ]
  },
  {
   "cell_type": "code",
   "execution_count": 46,
   "metadata": {
    "execution": {
     "iopub.execute_input": "2022-09-16T06:50:19.915420Z",
     "iopub.status.busy": "2022-09-16T06:50:19.915215Z",
     "iopub.status.idle": "2022-09-16T06:50:21.641723Z",
     "shell.execute_reply": "2022-09-16T06:50:21.641154Z"
    }
   },
   "outputs": [
    {
     "name": "stdout",
     "output_type": "stream",
     "text": [
      "0.000 -> output_filename='2022-12-04_caustique/caustique_grating-image_threshold=0.000_228763c8.png' \n",
      "0.125 -> output_filename='2022-12-04_caustique/caustique_grating-image_threshold=0.125_e00926c3.png' \n",
      "0.250 -> output_filename='2022-12-04_caustique/caustique_grating-image_threshold=0.250_5b7425cd.png' \n",
      "0.375 -> output_filename='2022-12-04_caustique/caustique_grating-image_threshold=0.375_9f6142b7.png' \n",
      "0.500 -> output_filename='2022-12-04_caustique/caustique_grating-image_threshold=0.500_217b0e3e.png' \n",
      "0.625 -> output_filename='2022-12-04_caustique/caustique_grating-image_threshold=0.625_5feb4161.png' \n",
      "0.750 -> output_filename='2022-12-04_caustique/caustique_grating-image_threshold=0.750_14f35359.png' \n",
      "0.875 -> output_filename='2022-12-04_caustique/caustique_grating-image_threshold=0.875_ee68c119.png' \n",
      "1.000 -> output_filename='2022-12-04_caustique/caustique_grating-image_threshold=1.000_4f2f19a2.png' \n"
     ]
    }
   ],
   "source": [
    "for threshold in np.linspace(0, 1, N_scan):\n",
    "    opt = init()\n",
    "    c = Caustique(opt)\n",
    "\n",
    "    c.opt.tag = f'{c.opt.tag}_grating-image_{threshold=:.3f}'\n",
    "    image = generate_image(nx=c.opt.nx, ny=c.opt.ny, threshold=threshold)\n",
    "    output_filename = c.plot(z, image)\n",
    "    print(f'{threshold:.3f} -> {output_filename=} ')\n",
    "    if c.opt.do_display: c.show(output_filename)"
   ]
  },
  {
   "cell_type": "code",
   "execution_count": 47,
   "metadata": {
    "execution": {
     "iopub.execute_input": "2022-09-16T06:50:19.915420Z",
     "iopub.status.busy": "2022-09-16T06:50:19.915215Z",
     "iopub.status.idle": "2022-09-16T06:50:21.641723Z",
     "shell.execute_reply": "2022-09-16T06:50:21.641154Z"
    }
   },
   "outputs": [
    {
     "name": "stdout",
     "output_type": "stream",
     "text": [
      "radius=0.000 -> output_filename='2022-12-04_caustique/caustique_grating-image_radius=0.000_560fa4dd.png' \n",
      "radius=0.113 -> output_filename='2022-12-04_caustique/caustique_grating-image_radius=0.113_81ef0b60.png' \n",
      "radius=0.225 -> output_filename='2022-12-04_caustique/caustique_grating-image_radius=0.225_1f630f59.png' \n",
      "radius=0.338 -> output_filename='2022-12-04_caustique/caustique_grating-image_radius=0.338_a32ec3f7.png' \n",
      "radius=0.450 -> output_filename='2022-12-04_caustique/caustique_grating-image_radius=0.450_ec5727de.png' \n",
      "radius=0.562 -> output_filename='2022-12-04_caustique/caustique_grating-image_radius=0.562_b8920d49.png' \n",
      "radius=0.675 -> output_filename='2022-12-04_caustique/caustique_grating-image_radius=0.675_dac17f4c.png' \n",
      "radius=0.787 -> output_filename='2022-12-04_caustique/caustique_grating-image_radius=0.787_fa664b7f.png' \n",
      "radius=0.900 -> output_filename='2022-12-04_caustique/caustique_grating-image_radius=0.900_43cba270.png' \n"
     ]
    }
   ],
   "source": [
    "for radius in np.linspace(0, .9, N_scan):\n",
    "    opt = init()\n",
    "    c = Caustique(opt)\n",
    "\n",
    "    c.opt.tag = f'{c.opt.tag}_grating-image_{radius=:.3f}'\n",
    "    image = generate_image(nx=c.opt.nx, ny=c.opt.ny, radius=radius)\n",
    "    output_filename = c.plot(z, image)\n",
    "    print(f'{radius=:.3f} -> {output_filename=} ')\n",
    "    if c.opt.do_display: c.show(output_filename)"
   ]
  },
  {
   "cell_type": "code",
   "execution_count": 48,
   "metadata": {
    "execution": {
     "iopub.execute_input": "2022-09-16T06:50:19.915420Z",
     "iopub.status.busy": "2022-09-16T06:50:19.915215Z",
     "iopub.status.idle": "2022-09-16T06:50:21.641723Z",
     "shell.execute_reply": "2022-09-16T06:50:21.641154Z"
    }
   },
   "outputs": [
    {
     "name": "stdout",
     "output_type": "stream",
     "text": [
      "periods=1.000 -> output_filename='2022-12-04_caustique/caustique_grating-image_periods=1.000_733df210.png' \n",
      "periods=1.334 -> output_filename='2022-12-04_caustique/caustique_grating-image_periods=1.334_880144e6.png' \n",
      "periods=1.778 -> output_filename='2022-12-04_caustique/caustique_grating-image_periods=1.778_cec92c53.png' \n",
      "periods=2.371 -> output_filename='2022-12-04_caustique/caustique_grating-image_periods=2.371_1bddad5d.png' \n",
      "periods=3.162 -> output_filename='2022-12-04_caustique/caustique_grating-image_periods=3.162_937fc741.png' \n",
      "periods=4.217 -> output_filename='2022-12-04_caustique/caustique_grating-image_periods=4.217_be174b6c.png' \n",
      "periods=5.623 -> output_filename='2022-12-04_caustique/caustique_grating-image_periods=5.623_b93ac178.png' \n",
      "periods=7.499 -> output_filename='2022-12-04_caustique/caustique_grating-image_periods=7.499_b2fc52a7.png' \n",
      "periods=10.000 -> output_filename='2022-12-04_caustique/caustique_grating-image_periods=10.000_3d589cbc.png' \n"
     ]
    }
   ],
   "source": [
    "for periods in np.logspace(0, 1, N_scan, base=10):\n",
    "    opt = init()\n",
    "    c = Caustique(opt)\n",
    "\n",
    "    c.opt.tag = f'{c.opt.tag}_grating-image_{periods=:.3f}'\n",
    "    image = generate_image(nx=c.opt.nx, ny=c.opt.ny, periods=periods)\n",
    "    output_filename = c.plot(z, image)\n",
    "    print(f'{periods=:.3f} -> {output_filename=} ')\n",
    "    if c.opt.do_display: c.show(output_filename)"
   ]
  },
  {
   "cell_type": "markdown",
   "metadata": {
    "tags": []
   },
   "source": [
    "## shining a grating image to the wave"
   ]
  },
  {
   "cell_type": "code",
   "execution_count": 49,
   "metadata": {},
   "outputs": [
    {
     "data": {
      "image/png": "[encoded data removed]",
      "text/plain": [
       "<Figure size 640x480 with 1 Axes>"
      ]
     },
     "metadata": {},
     "output_type": "display_data"
    }
   ],
   "source": [
    "def generate_image(nx, ny, periods=6.25, threshold=0.45, radius=.9):\n",
    "    X, Y = np.meshgrid(np.linspace(-1, 1, nx, endpoint=True), np.linspace(-1, 1, ny, endpoint=True))\n",
    "    image = (np.cos(2*np.pi*X*periods) > threshold)*1.\n",
    "    # image += (np.cos(2*np.pi*Y*periods) > threshold)*1.\n",
    "    # image = (image>=1) * 1.\n",
    "    image *= (X**2 < radius**2) * (Y**2 < radius**2) * 1.\n",
    "    return image\n",
    "image = generate_image(nx=c.opt.nx, ny=c.opt.ny)\n",
    "plt.imshow(image, cmap='gray');"
   ]
  },
  {
   "cell_type": "code",
   "execution_count": 50,
   "metadata": {},
   "outputs": [
    {
     "data": {
      "text/html": [
       "<img src=\"2022-12-04_caustique/caustique_grating-image_f3796d93.png\" width=\"1024\"/>"
      ],
      "text/plain": [
       "<IPython.core.display.Image object>"
      ]
     },
     "metadata": {},
     "output_type": "display_data"
    }
   ],
   "source": [
    "c = Caustique(init())\n",
    "c.opt.tag = f'{c.opt.tag}_grating-image'\n",
    "output_filename = c.plot(z, image)\n",
    "c.show(output_filename)"
   ]
  },
  {
   "cell_type": "code",
   "execution_count": 51,
   "metadata": {
    "execution": {
     "iopub.execute_input": "2022-09-16T06:50:19.915420Z",
     "iopub.status.busy": "2022-09-16T06:50:19.915215Z",
     "iopub.status.idle": "2022-09-16T06:50:21.641723Z",
     "shell.execute_reply": "2022-09-16T06:50:21.641154Z"
    }
   },
   "outputs": [
    {
     "name": "stdout",
     "output_type": "stream",
     "text": [
      "H = 5.000 -> output_filename='2022-12-04_caustique/caustique_grating-image__H_5.000_194e050e.png' \n",
      "H = 5.946 -> output_filename='2022-12-04_caustique/caustique_grating-image__H_5.946_036b7d0e.png' \n",
      "H = 7.071 -> output_filename='2022-12-04_caustique/caustique_grating-image__H_7.071_206b695a.png' \n",
      "H = 8.409 -> output_filename='2022-12-04_caustique/caustique_grating-image__H_8.409_b43a3010.png' \n",
      "H = 10.000 -> output_filename='2022-12-04_caustique/caustique_grating-image__H_10.000_119c016f.png' \n",
      "H = 11.892 -> output_filename='2022-12-04_caustique/caustique_grating-image__H_11.892_35dd4e0d.png' \n",
      "H = 14.142 -> output_filename='2022-12-04_caustique/caustique_grating-image__H_14.142_ace7c19d.png' \n",
      "H = 16.818 -> output_filename='2022-12-04_caustique/caustique_grating-image__H_16.818_96a4358b.png' \n",
      "H = 20.000 -> output_filename='2022-12-04_caustique/caustique_grating-image__H_20.000_891a1ca0.png' \n"
     ]
    }
   ],
   "source": [
    "for H_ in c.opt.H*np.logspace(-1, 1, N_scan, base=base):\n",
    "    opt = init()\n",
    "    c = Caustique(opt)\n",
    "    c.opt.H = H_\n",
    "    c.opt.tag = f'{c.opt.tag}_grating-image__H_{H_:.3f}'\n",
    "    \n",
    "    output_filename = c.plot(z, image)\n",
    "    print(f'H = {H_:.3f} -> {output_filename=} ')\n",
    "    if c.opt.do_display: c.show(output_filename)"
   ]
  },
  {
   "cell_type": "code",
   "execution_count": 52,
   "metadata": {
    "execution": {
     "iopub.execute_input": "2022-09-16T06:50:19.915420Z",
     "iopub.status.busy": "2022-09-16T06:50:19.915215Z",
     "iopub.status.idle": "2022-09-16T06:50:21.641723Z",
     "shell.execute_reply": "2022-09-16T06:50:21.641154Z"
    }
   },
   "outputs": [
    {
     "name": "stdout",
     "output_type": "stream",
     "text": [
      "0.000 -> output_filename='2022-12-04_caustique/caustique_grating-image_threshold=0.000_228763c8.png' \n",
      "0.125 -> output_filename='2022-12-04_caustique/caustique_grating-image_threshold=0.125_e00926c3.png' \n",
      "0.250 -> output_filename='2022-12-04_caustique/caustique_grating-image_threshold=0.250_5b7425cd.png' \n",
      "0.375 -> output_filename='2022-12-04_caustique/caustique_grating-image_threshold=0.375_9f6142b7.png' \n",
      "0.500 -> output_filename='2022-12-04_caustique/caustique_grating-image_threshold=0.500_217b0e3e.png' \n",
      "0.625 -> output_filename='2022-12-04_caustique/caustique_grating-image_threshold=0.625_5feb4161.png' \n",
      "0.750 -> output_filename='2022-12-04_caustique/caustique_grating-image_threshold=0.750_14f35359.png' \n",
      "0.875 -> output_filename='2022-12-04_caustique/caustique_grating-image_threshold=0.875_ee68c119.png' \n",
      "1.000 -> output_filename='2022-12-04_caustique/caustique_grating-image_threshold=1.000_4f2f19a2.png' \n"
     ]
    }
   ],
   "source": [
    "for threshold in np.linspace(0, 1, N_scan):\n",
    "    opt = init()\n",
    "    c = Caustique(opt)\n",
    "\n",
    "    c.opt.tag = f'{c.opt.tag}_grating-image_{threshold=:.3f}'\n",
    "    image = generate_image(nx=c.opt.nx, ny=c.opt.ny, threshold=threshold)\n",
    "    output_filename = c.plot(z, image)\n",
    "    print(f'{threshold:.3f} -> {output_filename=} ')\n",
    "    if c.opt.do_display: c.show(output_filename)"
   ]
  },
  {
   "cell_type": "code",
   "execution_count": 53,
   "metadata": {
    "execution": {
     "iopub.execute_input": "2022-09-16T06:50:19.915420Z",
     "iopub.status.busy": "2022-09-16T06:50:19.915215Z",
     "iopub.status.idle": "2022-09-16T06:50:21.641723Z",
     "shell.execute_reply": "2022-09-16T06:50:21.641154Z"
    }
   },
   "outputs": [
    {
     "name": "stdout",
     "output_type": "stream",
     "text": [
      "radius=0.000 -> output_filename='2022-12-04_caustique/caustique_grating-image_radius=0.000_560fa4dd.png' \n",
      "radius=0.113 -> output_filename='2022-12-04_caustique/caustique_grating-image_radius=0.113_81ef0b60.png' \n",
      "radius=0.225 -> output_filename='2022-12-04_caustique/caustique_grating-image_radius=0.225_1f630f59.png' \n",
      "radius=0.338 -> output_filename='2022-12-04_caustique/caustique_grating-image_radius=0.338_a32ec3f7.png' \n",
      "radius=0.450 -> output_filename='2022-12-04_caustique/caustique_grating-image_radius=0.450_ec5727de.png' \n",
      "radius=0.562 -> output_filename='2022-12-04_caustique/caustique_grating-image_radius=0.562_b8920d49.png' \n",
      "radius=0.675 -> output_filename='2022-12-04_caustique/caustique_grating-image_radius=0.675_dac17f4c.png' \n",
      "radius=0.787 -> output_filename='2022-12-04_caustique/caustique_grating-image_radius=0.787_fa664b7f.png' \n",
      "radius=0.900 -> output_filename='2022-12-04_caustique/caustique_grating-image_radius=0.900_43cba270.png' \n"
     ]
    }
   ],
   "source": [
    "for radius in np.linspace(0, .9, N_scan):\n",
    "    opt = init()\n",
    "    c = Caustique(opt)\n",
    "\n",
    "    c.opt.tag = f'{c.opt.tag}_grating-image_{radius=:.3f}'\n",
    "    image = generate_image(nx=c.opt.nx, ny=c.opt.ny, radius=radius)\n",
    "    output_filename = c.plot(z, image)\n",
    "    print(f'{radius=:.3f} -> {output_filename=} ')\n",
    "    if c.opt.do_display: c.show(output_filename)"
   ]
  },
  {
   "cell_type": "code",
   "execution_count": 54,
   "metadata": {
    "execution": {
     "iopub.execute_input": "2022-09-16T06:50:19.915420Z",
     "iopub.status.busy": "2022-09-16T06:50:19.915215Z",
     "iopub.status.idle": "2022-09-16T06:50:21.641723Z",
     "shell.execute_reply": "2022-09-16T06:50:21.641154Z"
    }
   },
   "outputs": [
    {
     "name": "stdout",
     "output_type": "stream",
     "text": [
      "periods=1.000 -> output_filename='2022-12-04_caustique/caustique_grating-image_periods=1.000_733df210.png' \n",
      "periods=1.334 -> output_filename='2022-12-04_caustique/caustique_grating-image_periods=1.334_880144e6.png' \n",
      "periods=1.778 -> output_filename='2022-12-04_caustique/caustique_grating-image_periods=1.778_cec92c53.png' \n",
      "periods=2.371 -> output_filename='2022-12-04_caustique/caustique_grating-image_periods=2.371_1bddad5d.png' \n",
      "periods=3.162 -> output_filename='2022-12-04_caustique/caustique_grating-image_periods=3.162_937fc741.png' \n",
      "periods=4.217 -> output_filename='2022-12-04_caustique/caustique_grating-image_periods=4.217_be174b6c.png' \n",
      "periods=5.623 -> output_filename='2022-12-04_caustique/caustique_grating-image_periods=5.623_b93ac178.png' \n",
      "periods=7.499 -> output_filename='2022-12-04_caustique/caustique_grating-image_periods=7.499_b2fc52a7.png' \n",
      "periods=10.000 -> output_filename='2022-12-04_caustique/caustique_grating-image_periods=10.000_3d589cbc.png' \n"
     ]
    }
   ],
   "source": [
    "for periods in np.logspace(0, 1, N_scan, base=10):\n",
    "    opt = init()\n",
    "    c = Caustique(opt)\n",
    "\n",
    "    c.opt.tag = f'{c.opt.tag}_grating-image_{periods=:.3f}'\n",
    "    image = generate_image(nx=c.opt.nx, ny=c.opt.ny, periods=periods)\n",
    "    output_filename = c.plot(z, image)\n",
    "    print(f'{periods=:.3f} -> {output_filename=} ')\n",
    "    if c.opt.do_display: c.show(output_filename)"
   ]
  },
  {
   "cell_type": "markdown",
   "metadata": {
    "tags": []
   },
   "source": [
    "## shining a bigrating image to the wave"
   ]
  },
  {
   "cell_type": "code",
   "execution_count": 55,
   "metadata": {},
   "outputs": [
    {
     "data": {
      "image/png": "[encoded data removed]",
      "text/plain": [
       "<Figure size 640x480 with 1 Axes>"
      ]
     },
     "metadata": {},
     "output_type": "display_data"
    }
   ],
   "source": [
    "def generate_image(nx, ny, period1=2, period2=64, threshold=0.3, radius=.9):\n",
    "    X, Y = np.meshgrid(np.linspace(-1, 1, nx, endpoint=True), np.linspace(-1, 1, ny, endpoint=True))\n",
    "    image  = (np.cos(2*np.pi*X*period1) > threshold) * 1.\n",
    "    image *= np.cos(2*np.pi*X*period2) > threshold\n",
    "    image *= (X**2 < radius**2) * (Y**2 < radius**2)\n",
    "    return image\n",
    "image = generate_image(nx=c.opt.nx, ny=c.opt.ny)\n",
    "plt.imshow(image, cmap='gray');"
   ]
  },
  {
   "cell_type": "code",
   "execution_count": 56,
   "metadata": {},
   "outputs": [
    {
     "data": {
      "text/html": [
       "<img src=\"2022-12-04_caustique/caustique_bigrating-image_5595eff2.png\" width=\"1024\"/>"
      ],
      "text/plain": [
       "<IPython.core.display.Image object>"
      ]
     },
     "metadata": {},
     "output_type": "display_data"
    }
   ],
   "source": [
    "c = Caustique(init())\n",
    "c.opt.tag = f'{c.opt.tag}_bigrating-image'\n",
    "output_filename = c.plot(z, image)\n",
    "c.show(output_filename)"
   ]
  },
  {
   "cell_type": "code",
   "execution_count": 57,
   "metadata": {
    "execution": {
     "iopub.execute_input": "2022-09-16T06:50:19.915420Z",
     "iopub.status.busy": "2022-09-16T06:50:19.915215Z",
     "iopub.status.idle": "2022-09-16T06:50:21.641723Z",
     "shell.execute_reply": "2022-09-16T06:50:21.641154Z"
    }
   },
   "outputs": [
    {
     "name": "stdout",
     "output_type": "stream",
     "text": [
      "H = 5.000 -> output_filename='2022-12-04_caustique/caustique_grid-image__H_5.000_f2e276f8.png' \n",
      "H = 5.946 -> output_filename='2022-12-04_caustique/caustique_grid-image__H_5.946_88e37507.png' \n",
      "H = 7.071 -> output_filename='2022-12-04_caustique/caustique_grid-image__H_7.071_e6a377f2.png' \n",
      "H = 8.409 -> output_filename='2022-12-04_caustique/caustique_grid-image__H_8.409_b73f2d2d.png' \n",
      "H = 10.000 -> output_filename='2022-12-04_caustique/caustique_grid-image__H_10.000_bad80056.png' \n",
      "H = 11.892 -> output_filename='2022-12-04_caustique/caustique_grid-image__H_11.892_0a6a0f24.png' \n",
      "H = 14.142 -> output_filename='2022-12-04_caustique/caustique_grid-image__H_14.142_c51fe8ca.png' \n",
      "H = 16.818 -> output_filename='2022-12-04_caustique/caustique_grid-image__H_16.818_7ff66ffa.png' \n",
      "H = 20.000 -> output_filename='2022-12-04_caustique/caustique_grid-image__H_20.000_cafc69fb.png' \n"
     ]
    }
   ],
   "source": [
    "for H_ in c.opt.H*np.logspace(-1, 1, N_scan, base=base):\n",
    "    opt = init()\n",
    "    c = Caustique(opt)\n",
    "    c.opt.H = H_\n",
    "    c.opt.tag = f'{c.opt.tag}_grid-image__H_{H_:.3f}'\n",
    "    \n",
    "    output_filename = c.plot(z, image)\n",
    "    print(f'H = {H_:.3f} -> {output_filename=} ')\n",
    "    if c.opt.do_display: c.show(output_filename)"
   ]
  },
  {
   "cell_type": "code",
   "execution_count": 58,
   "metadata": {
    "execution": {
     "iopub.execute_input": "2022-09-16T06:50:19.915420Z",
     "iopub.status.busy": "2022-09-16T06:50:19.915215Z",
     "iopub.status.idle": "2022-09-16T06:50:21.641723Z",
     "shell.execute_reply": "2022-09-16T06:50:21.641154Z"
    }
   },
   "outputs": [
    {
     "name": "stdout",
     "output_type": "stream",
     "text": [
      "0.000 -> output_filename='2022-12-04_caustique/caustique_bigrating-image_threshold=0.000_b2d1c0fe.png' \n",
      "0.125 -> output_filename='2022-12-04_caustique/caustique_bigrating-image_threshold=0.125_ede44788.png' \n",
      "0.250 -> output_filename='2022-12-04_caustique/caustique_bigrating-image_threshold=0.250_adc49acc.png' \n",
      "0.375 -> output_filename='2022-12-04_caustique/caustique_bigrating-image_threshold=0.375_519df562.png' \n",
      "0.500 -> output_filename='2022-12-04_caustique/caustique_bigrating-image_threshold=0.500_64568ea7.png' \n",
      "0.625 -> output_filename='2022-12-04_caustique/caustique_bigrating-image_threshold=0.625_1ca58bf2.png' \n",
      "0.750 -> output_filename='2022-12-04_caustique/caustique_bigrating-image_threshold=0.750_3e931565.png' \n",
      "0.875 -> output_filename='2022-12-04_caustique/caustique_bigrating-image_threshold=0.875_9d6eb8b6.png' \n",
      "1.000 -> output_filename='2022-12-04_caustique/caustique_bigrating-image_threshold=1.000_7e33b86a.png' \n"
     ]
    }
   ],
   "source": [
    "for threshold in np.linspace(0, 1, N_scan):\n",
    "    opt = init()\n",
    "    c = Caustique(opt)\n",
    "\n",
    "    c.opt.tag = f'{c.opt.tag}_bigrating-image_{threshold=:.3f}'\n",
    "    image = generate_image(nx=c.opt.nx, ny=c.opt.ny, threshold=threshold)\n",
    "    output_filename = c.plot(z, image)\n",
    "    print(f'{threshold:.3f} -> {output_filename=} ')\n",
    "    if c.opt.do_display: c.show(output_filename)"
   ]
  },
  {
   "cell_type": "code",
   "execution_count": 59,
   "metadata": {
    "execution": {
     "iopub.execute_input": "2022-09-16T06:50:19.915420Z",
     "iopub.status.busy": "2022-09-16T06:50:19.915215Z",
     "iopub.status.idle": "2022-09-16T06:50:21.641723Z",
     "shell.execute_reply": "2022-09-16T06:50:21.641154Z"
    }
   },
   "outputs": [
    {
     "name": "stdout",
     "output_type": "stream",
     "text": [
      "radius=0.000 -> output_filename='2022-12-04_caustique/caustique_grating-image_radius=0.000_560fa4dd.png' \n",
      "radius=0.113 -> output_filename='2022-12-04_caustique/caustique_grating-image_radius=0.113_81ef0b60.png' \n",
      "radius=0.225 -> output_filename='2022-12-04_caustique/caustique_grating-image_radius=0.225_1f630f59.png' \n",
      "radius=0.338 -> output_filename='2022-12-04_caustique/caustique_grating-image_radius=0.338_a32ec3f7.png' \n",
      "radius=0.450 -> output_filename='2022-12-04_caustique/caustique_grating-image_radius=0.450_ec5727de.png' \n",
      "radius=0.562 -> output_filename='2022-12-04_caustique/caustique_grating-image_radius=0.562_b8920d49.png' \n",
      "radius=0.675 -> output_filename='2022-12-04_caustique/caustique_grating-image_radius=0.675_dac17f4c.png' \n",
      "radius=0.787 -> output_filename='2022-12-04_caustique/caustique_grating-image_radius=0.787_fa664b7f.png' \n",
      "radius=0.900 -> output_filename='2022-12-04_caustique/caustique_grating-image_radius=0.900_43cba270.png' \n"
     ]
    }
   ],
   "source": [
    "for radius in np.linspace(0, .9, N_scan):\n",
    "    opt = init()\n",
    "    c = Caustique(opt)\n",
    "\n",
    "    c.opt.tag = f'{c.opt.tag}_grating-image_{radius=:.3f}'\n",
    "    image = generate_image(nx=c.opt.nx, ny=c.opt.ny, radius=radius)\n",
    "    output_filename = c.plot(z, image)\n",
    "    print(f'{radius=:.3f} -> {output_filename=} ')\n",
    "    if c.opt.do_display: c.show(output_filename)"
   ]
  },
  {
   "cell_type": "code",
   "execution_count": 60,
   "metadata": {
    "execution": {
     "iopub.execute_input": "2022-09-16T06:50:19.915420Z",
     "iopub.status.busy": "2022-09-16T06:50:19.915215Z",
     "iopub.status.idle": "2022-09-16T06:50:21.641723Z",
     "shell.execute_reply": "2022-09-16T06:50:21.641154Z"
    }
   },
   "outputs": [
    {
     "name": "stdout",
     "output_type": "stream",
     "text": [
      "period1=1.000 -> output_filename='2022-12-04_caustique/caustique_bigrating-image_period1=1.000_a176ad36.png' \n",
      "period1=1.334 -> output_filename='2022-12-04_caustique/caustique_bigrating-image_period1=1.334_2123daac.png' \n",
      "period1=1.778 -> output_filename='2022-12-04_caustique/caustique_bigrating-image_period1=1.778_9960217f.png' \n",
      "period1=2.371 -> output_filename='2022-12-04_caustique/caustique_bigrating-image_period1=2.371_57e33c9e.png' \n",
      "period1=3.162 -> output_filename='2022-12-04_caustique/caustique_bigrating-image_period1=3.162_a6cd3e1e.png' \n",
      "period1=4.217 -> output_filename='2022-12-04_caustique/caustique_bigrating-image_period1=4.217_52028343.png' \n",
      "period1=5.623 -> output_filename='2022-12-04_caustique/caustique_bigrating-image_period1=5.623_d2c37fc9.png' \n",
      "period1=7.499 -> output_filename='2022-12-04_caustique/caustique_bigrating-image_period1=7.499_72544e89.png' \n",
      "period1=10.000 -> output_filename='2022-12-04_caustique/caustique_bigrating-image_period1=10.000_5a5427b5.png' \n"
     ]
    }
   ],
   "source": [
    "for period1 in np.logspace(0, 1, N_scan, base=10):\n",
    "    opt = init()\n",
    "    c = Caustique(opt)\n",
    "\n",
    "    c.opt.tag = f'{c.opt.tag}_bigrating-image_{period1=:.3f}'\n",
    "    image = generate_image(nx=c.opt.nx, ny=c.opt.ny, period1=period1)\n",
    "    output_filename = c.plot(z, image)\n",
    "    print(f'{period1=:.3f} -> {output_filename=} ')\n",
    "    if c.opt.do_display: c.show(output_filename)"
   ]
  },
  {
   "cell_type": "code",
   "execution_count": 61,
   "metadata": {
    "execution": {
     "iopub.execute_input": "2022-09-16T06:50:19.915420Z",
     "iopub.status.busy": "2022-09-16T06:50:19.915215Z",
     "iopub.status.idle": "2022-09-16T06:50:21.641723Z",
     "shell.execute_reply": "2022-09-16T06:50:21.641154Z"
    }
   },
   "outputs": [
    {
     "name": "stdout",
     "output_type": "stream",
     "text": [
      "period2=1.000 -> output_filename='2022-12-04_caustique/caustique_bigrating-image_period2=1.000_2ebd423d.png' \n",
      "period2=1.334 -> output_filename='2022-12-04_caustique/caustique_bigrating-image_period2=1.334_f5e5ff12.png' \n",
      "period2=1.778 -> output_filename='2022-12-04_caustique/caustique_bigrating-image_period2=1.778_82b5b4ca.png' \n",
      "period2=2.371 -> output_filename='2022-12-04_caustique/caustique_bigrating-image_period2=2.371_113894f7.png' \n",
      "period2=3.162 -> output_filename='2022-12-04_caustique/caustique_bigrating-image_period2=3.162_959e3e59.png' \n",
      "period2=4.217 -> output_filename='2022-12-04_caustique/caustique_bigrating-image_period2=4.217_ec9efb32.png' \n",
      "period2=5.623 -> output_filename='2022-12-04_caustique/caustique_bigrating-image_period2=5.623_c5fca0f9.png' \n",
      "period2=7.499 -> output_filename='2022-12-04_caustique/caustique_bigrating-image_period2=7.499_e6d2ddb3.png' \n",
      "period2=10.000 -> output_filename='2022-12-04_caustique/caustique_bigrating-image_period2=10.000_7a2bdec2.png' \n"
     ]
    }
   ],
   "source": [
    "for period2 in np.logspace(0, 1, N_scan, base=10):\n",
    "    opt = init()\n",
    "    c = Caustique(opt)\n",
    "\n",
    "    c.opt.tag = f'{c.opt.tag}_bigrating-image_{period2=:.3f}'\n",
    "    image = generate_image(nx=c.opt.nx, ny=c.opt.ny, period2=period2)\n",
    "    output_filename = c.plot(z, image)\n",
    "    print(f'{period2=:.3f} -> {output_filename=} ')\n",
    "    if c.opt.do_display: c.show(output_filename)"
   ]
  }
 ],
 "metadata": {
  "kernelspec": {
   "display_name": "Python 3.10.6 ('stim')",
   "language": "python",
   "name": "python3"
  },
  "language_info": {
   "codemirror_mode": {
    "name": "ipython",
    "version": 3
   },
   "file_extension": ".py",
   "mimetype": "text/x-python",
   "name": "python",
   "nbconvert_exporter": "python",
   "pygments_lexer": "ipython3",
   "version": "3.10.8"
  },
  "nteract": {
   "version": "0.28.0"
  },
  "vscode": {
   "interpreter": {
    "hash": "10be752cd7fb305c8e34fd52db42c978fe2f0b4c23f0946d27e53ffa605b7ad9"
   }
  },
  "widgets": {
   "application/vnd.jupyter.widget-state+json": {
    "state": {
     "035ab33361e7432caecc80ca2a176575": {
      "model_module": "@jupyter-widgets/controls",
      "model_module_version": "2.0.0",
      "model_name": "FloatProgressModel",
      "state": {
       "_dom_classes": [],
       "_model_module": "@jupyter-widgets/controls",
       "_model_module_version": "2.0.0",
       "_model_name": "FloatProgressModel",
       "_view_count": null,
       "_view_module": "@jupyter-widgets/controls",
       "_view_module_version": "2.0.0",
       "_view_name": "ProgressView",
       "bar_style": "success",
       "description": "",
       "description_allow_html": false,
       "layout": "IPY_MODEL_77f9a290f7dd4b219ba4f735555140e1",
       "max": 256,
       "min": 0,
       "orientation": "horizontal",
       "style": "IPY_MODEL_84e6789a386f4cc3b967f7880483983c",
       "tabbable": null,
       "tooltip": null,
       "value": 256
      }
     },
     "0b73ffb834c2419c973499fdf717431d": {
      "model_module": "@jupyter-widgets/base",
      "model_module_version": "2.0.0",
      "model_name": "LayoutModel",
      "state": {
       "_model_module": "@jupyter-widgets/base",
       "_model_module_version": "2.0.0",
       "_model_name": "LayoutModel",
       "_view_count": null,
       "_view_module": "@jupyter-widgets/base",
       "_view_module_version": "2.0.0",
       "_view_name": "LayoutView",
       "align_content": null,
       "align_items": null,
       "align_self": null,
       "border_bottom": null,
       "border_left": null,
       "border_right": null,
       "border_top": null,
       "bottom": null,
       "display": null,
       "flex": null,
       "flex_flow": null,
       "grid_area": null,
       "grid_auto_columns": null,
       "grid_auto_flow": null,
       "grid_auto_rows": null,
       "grid_column": null,
       "grid_gap": null,
       "grid_row": null,
       "grid_template_areas": null,
       "grid_template_columns": null,
       "grid_template_rows": null,
       "height": null,
       "justify_content": null,
       "justify_items": null,
       "left": null,
       "margin": null,
       "max_height": null,
       "max_width": null,
       "min_height": null,
       "min_width": null,
       "object_fit": null,
       "object_position": null,
       "order": null,
       "overflow": null,
       "padding": null,
       "right": null,
       "top": null,
       "visibility": null,
       "width": null
      }
     },
     "11ae0a75f5b344f396d64dc0adfc23d4": {
      "model_module": "@jupyter-widgets/controls",
      "model_module_version": "2.0.0",
      "model_name": "HTMLStyleModel",
      "state": {
       "_model_module": "@jupyter-widgets/controls",
       "_model_module_version": "2.0.0",
       "_model_name": "HTMLStyleModel",
       "_view_count": null,
       "_view_module": "@jupyter-widgets/base",
       "_view_module_version": "2.0.0",
       "_view_name": "StyleView",
       "background": null,
       "description_width": "",
       "font_size": null,
       "text_color": null
      }
     },
     "1216f0c7b01543ab9e1c4767e78ec994": {
      "model_module": "@jupyter-widgets/base",
      "model_module_version": "2.0.0",
      "model_name": "LayoutModel",
      "state": {
       "_model_module": "@jupyter-widgets/base",
       "_model_module_version": "2.0.0",
       "_model_name": "LayoutModel",
       "_view_count": null,
       "_view_module": "@jupyter-widgets/base",
       "_view_module_version": "2.0.0",
       "_view_name": "LayoutView",
       "align_content": null,
       "align_items": null,
       "align_self": null,
       "border_bottom": null,
       "border_left": null,
       "border_right": null,
       "border_top": null,
       "bottom": null,
       "display": null,
       "flex": null,
       "flex_flow": null,
       "grid_area": null,
       "grid_auto_columns": null,
       "grid_auto_flow": null,
       "grid_auto_rows": null,
       "grid_column": null,
       "grid_gap": null,
       "grid_row": null,
       "grid_template_areas": null,
       "grid_template_columns": null,
       "grid_template_rows": null,
       "height": null,
       "justify_content": null,
       "justify_items": null,
       "left": null,
       "margin": null,
       "max_height": null,
       "max_width": null,
       "min_height": null,
       "min_width": null,
       "object_fit": null,
       "object_position": null,
       "order": null,
       "overflow": null,
       "padding": null,
       "right": null,
       "top": null,
       "visibility": null,
       "width": null
      }
     },
     "17ebce389fa846d99920f6c9c3a1210c": {
      "model_module": "@jupyter-widgets/controls",
      "model_module_version": "2.0.0",
      "model_name": "HTMLModel",
      "state": {
       "_dom_classes": [],
       "_model_module": "@jupyter-widgets/controls",
       "_model_module_version": "2.0.0",
       "_model_name": "HTMLModel",
       "_view_count": null,
       "_view_module": "@jupyter-widgets/controls",
       "_view_module_version": "2.0.0",
       "_view_name": "HTMLView",
       "description": "",
       "description_allow_html": false,
       "layout": "IPY_MODEL_c078cae24ae7430bace625a76b1cb988",
       "placeholder": "​",
       "style": "IPY_MODEL_f16c0a10ddef42d883635f671bda9653",
       "tabbable": null,
       "tooltip": null,
       "value": "100%"
      }
     },
     "190c5912ea914b8bb29e2203e0c9d745": {
      "model_module": "@jupyter-widgets/controls",
      "model_module_version": "2.0.0",
      "model_name": "FloatProgressModel",
      "state": {
       "_dom_classes": [],
       "_model_module": "@jupyter-widgets/controls",
       "_model_module_version": "2.0.0",
       "_model_name": "FloatProgressModel",
       "_view_count": null,
       "_view_module": "@jupyter-widgets/controls",
       "_view_module_version": "2.0.0",
       "_view_name": "ProgressView",
       "bar_style": "success",
       "description": "",
       "description_allow_html": false,
       "layout": "IPY_MODEL_d2044911f735442cbe3dc75e7249db0f",
       "max": 256,
       "min": 0,
       "orientation": "horizontal",
       "style": "IPY_MODEL_cd112c61118142adadc1ffdc3d4fd7dc",
       "tabbable": null,
       "tooltip": null,
       "value": 256
      }
     },
     "19f777cef46a4e6980ab4469675293a5": {
      "model_module": "@jupyter-widgets/controls",
      "model_module_version": "2.0.0",
      "model_name": "FloatProgressModel",
      "state": {
       "_dom_classes": [],
       "_model_module": "@jupyter-widgets/controls",
       "_model_module_version": "2.0.0",
       "_model_name": "FloatProgressModel",
       "_view_count": null,
       "_view_module": "@jupyter-widgets/controls",
       "_view_module_version": "2.0.0",
       "_view_name": "ProgressView",
       "bar_style": "success",
       "description": "",
       "description_allow_html": false,
       "layout": "IPY_MODEL_4a9c13ffbb134906a5773a04df09a848",
       "max": 256,
       "min": 0,
       "orientation": "horizontal",
       "style": "IPY_MODEL_408b9a2d642145409181ce414bf5f650",
       "tabbable": null,
       "tooltip": null,
       "value": 256
      }
     },
     "1e646c9ebcb840a28822c80b583c341d": {
      "model_module": "@jupyter-widgets/controls",
      "model_module_version": "2.0.0",
      "model_name": "FloatProgressModel",
      "state": {
       "_dom_classes": [],
       "_model_module": "@jupyter-widgets/controls",
       "_model_module_version": "2.0.0",
       "_model_name": "FloatProgressModel",
       "_view_count": null,
       "_view_module": "@jupyter-widgets/controls",
       "_view_module_version": "2.0.0",
       "_view_name": "ProgressView",
       "bar_style": "success",
       "description": "",
       "description_allow_html": false,
       "layout": "IPY_MODEL_231d8780a5db46418e5778863597aac4",
       "max": 256,
       "min": 0,
       "orientation": "horizontal",
       "style": "IPY_MODEL_cc8031db1bd442d1a481d859e4f8c3d1",
       "tabbable": null,
       "tooltip": null,
       "value": 256
      }
     },
     "231d8780a5db46418e5778863597aac4": {
      "model_module": "@jupyter-widgets/base",
      "model_module_version": "2.0.0",
      "model_name": "LayoutModel",
      "state": {
       "_model_module": "@jupyter-widgets/base",
       "_model_module_version": "2.0.0",
       "_model_name": "LayoutModel",
       "_view_count": null,
       "_view_module": "@jupyter-widgets/base",
       "_view_module_version": "2.0.0",
       "_view_name": "LayoutView",
       "align_content": null,
       "align_items": null,
       "align_self": null,
       "border_bottom": null,
       "border_left": null,
       "border_right": null,
       "border_top": null,
       "bottom": null,
       "display": null,
       "flex": null,
       "flex_flow": null,
       "grid_area": null,
       "grid_auto_columns": null,
       "grid_auto_flow": null,
       "grid_auto_rows": null,
       "grid_column": null,
       "grid_gap": null,
       "grid_row": null,
       "grid_template_areas": null,
       "grid_template_columns": null,
       "grid_template_rows": null,
       "height": null,
       "justify_content": null,
       "justify_items": null,
       "left": null,
       "margin": null,
       "max_height": null,
       "max_width": null,
       "min_height": null,
       "min_width": null,
       "object_fit": null,
       "object_position": null,
       "order": null,
       "overflow": null,
       "padding": null,
       "right": null,
       "top": null,
       "visibility": null,
       "width": null
      }
     },
     "2410a91c9a7a4826b7d3c14d541ff69d": {
      "model_module": "@jupyter-widgets/base",
      "model_module_version": "2.0.0",
      "model_name": "LayoutModel",
      "state": {
       "_model_module": "@jupyter-widgets/base",
       "_model_module_version": "2.0.0",
       "_model_name": "LayoutModel",
       "_view_count": null,
       "_view_module": "@jupyter-widgets/base",
       "_view_module_version": "2.0.0",
       "_view_name": "LayoutView",
       "align_content": null,
       "align_items": null,
       "align_self": null,
       "border_bottom": null,
       "border_left": null,
       "border_right": null,
       "border_top": null,
       "bottom": null,
       "display": null,
       "flex": null,
       "flex_flow": null,
       "grid_area": null,
       "grid_auto_columns": null,
       "grid_auto_flow": null,
       "grid_auto_rows": null,
       "grid_column": null,
       "grid_gap": null,
       "grid_row": null,
       "grid_template_areas": null,
       "grid_template_columns": null,
       "grid_template_rows": null,
       "height": null,
       "justify_content": null,
       "justify_items": null,
       "left": null,
       "margin": null,
       "max_height": null,
       "max_width": null,
       "min_height": null,
       "min_width": null,
       "object_fit": null,
       "object_position": null,
       "order": null,
       "overflow": null,
       "padding": null,
       "right": null,
       "top": null,
       "visibility": null,
       "width": null
      }
     },
     "2b93a83bd14041d0bf240a1e8ed105da": {
      "model_module": "@jupyter-widgets/controls",
      "model_module_version": "2.0.0",
      "model_name": "HBoxModel",
      "state": {
       "_dom_classes": [],
       "_model_module": "@jupyter-widgets/controls",
       "_model_module_version": "2.0.0",
       "_model_name": "HBoxModel",
       "_view_count": null,
       "_view_module": "@jupyter-widgets/controls",
       "_view_module_version": "2.0.0",
       "_view_name": "HBoxView",
       "box_style": "",
       "children": [
        "IPY_MODEL_17ebce389fa846d99920f6c9c3a1210c",
        "IPY_MODEL_190c5912ea914b8bb29e2203e0c9d745",
        "IPY_MODEL_d0069e861bec45358c5749eb8eb64139"
       ],
       "layout": "IPY_MODEL_391312d9ce614c36bd1c1339c4c1d3fa",
       "tabbable": null,
       "tooltip": null
      }
     },
     "33722c82ab7341d5ab4b56bce068d1e0": {
      "model_module": "@jupyter-widgets/controls",
      "model_module_version": "2.0.0",
      "model_name": "HBoxModel",
      "state": {
       "_dom_classes": [],
       "_model_module": "@jupyter-widgets/controls",
       "_model_module_version": "2.0.0",
       "_model_name": "HBoxModel",
       "_view_count": null,
       "_view_module": "@jupyter-widgets/controls",
       "_view_module_version": "2.0.0",
       "_view_name": "HBoxView",
       "box_style": "",
       "children": [
        "IPY_MODEL_34fc442a740f453aa8eb4733a00b33ee",
        "IPY_MODEL_19f777cef46a4e6980ab4469675293a5",
        "IPY_MODEL_466bad0aef824176a0778b38af7f0cc8"
       ],
       "layout": "IPY_MODEL_1216f0c7b01543ab9e1c4767e78ec994",
       "tabbable": null,
       "tooltip": null
      }
     },
     "34fc442a740f453aa8eb4733a00b33ee": {
      "model_module": "@jupyter-widgets/controls",
      "model_module_version": "2.0.0",
      "model_name": "HTMLModel",
      "state": {
       "_dom_classes": [],
       "_model_module": "@jupyter-widgets/controls",
       "_model_module_version": "2.0.0",
       "_model_name": "HTMLModel",
       "_view_count": null,
       "_view_module": "@jupyter-widgets/controls",
       "_view_module_version": "2.0.0",
       "_view_name": "HTMLView",
       "description": "",
       "description_allow_html": false,
       "layout": "IPY_MODEL_c26548a3142c45f1adfa8abc1815ac5f",
       "placeholder": "​",
       "style": "IPY_MODEL_11ae0a75f5b344f396d64dc0adfc23d4",
       "tabbable": null,
       "tooltip": null,
       "value": "100%"
      }
     },
     "372ec21d55b140a3b2f2485311a94b90": {
      "model_module": "@jupyter-widgets/controls",
      "model_module_version": "2.0.0",
      "model_name": "HTMLStyleModel",
      "state": {
       "_model_module": "@jupyter-widgets/controls",
       "_model_module_version": "2.0.0",
       "_model_name": "HTMLStyleModel",
       "_view_count": null,
       "_view_module": "@jupyter-widgets/base",
       "_view_module_version": "2.0.0",
       "_view_name": "StyleView",
       "background": null,
       "description_width": "",
       "font_size": null,
       "text_color": null
      }
     },
     "38a8e734f8a54c31bea5268b58557a88": {
      "model_module": "@jupyter-widgets/controls",
      "model_module_version": "2.0.0",
      "model_name": "HBoxModel",
      "state": {
       "_dom_classes": [],
       "_model_module": "@jupyter-widgets/controls",
       "_model_module_version": "2.0.0",
       "_model_name": "HBoxModel",
       "_view_count": null,
       "_view_module": "@jupyter-widgets/controls",
       "_view_module_version": "2.0.0",
       "_view_name": "HBoxView",
       "box_style": "",
       "children": [
        "IPY_MODEL_b8499c15522745cd9981166aa85f493d",
        "IPY_MODEL_7e3049db598142689e39c20322342839",
        "IPY_MODEL_4b89e27ea7dd4ad2848898a2e945d660"
       ],
       "layout": "IPY_MODEL_d69c4d7c0ffd4195b09a98ea697a7a77",
       "tabbable": null,
       "tooltip": null
      }
     },
     "391312d9ce614c36bd1c1339c4c1d3fa": {
      "model_module": "@jupyter-widgets/base",
      "model_module_version": "2.0.0",
      "model_name": "LayoutModel",
      "state": {
       "_model_module": "@jupyter-widgets/base",
       "_model_module_version": "2.0.0",
       "_model_name": "LayoutModel",
       "_view_count": null,
       "_view_module": "@jupyter-widgets/base",
       "_view_module_version": "2.0.0",
       "_view_name": "LayoutView",
       "align_content": null,
       "align_items": null,
       "align_self": null,
       "border_bottom": null,
       "border_left": null,
       "border_right": null,
       "border_top": null,
       "bottom": null,
       "display": null,
       "flex": null,
       "flex_flow": null,
       "grid_area": null,
       "grid_auto_columns": null,
       "grid_auto_flow": null,
       "grid_auto_rows": null,
       "grid_column": null,
       "grid_gap": null,
       "grid_row": null,
       "grid_template_areas": null,
       "grid_template_columns": null,
       "grid_template_rows": null,
       "height": null,
       "justify_content": null,
       "justify_items": null,
       "left": null,
       "margin": null,
       "max_height": null,
       "max_width": null,
       "min_height": null,
       "min_width": null,
       "object_fit": null,
       "object_position": null,
       "order": null,
       "overflow": null,
       "padding": null,
       "right": null,
       "top": null,
       "visibility": null,
       "width": null
      }
     },
     "408b9a2d642145409181ce414bf5f650": {
      "model_module": "@jupyter-widgets/controls",
      "model_module_version": "2.0.0",
      "model_name": "ProgressStyleModel",
      "state": {
       "_model_module": "@jupyter-widgets/controls",
       "_model_module_version": "2.0.0",
       "_model_name": "ProgressStyleModel",
       "_view_count": null,
       "_view_module": "@jupyter-widgets/base",
       "_view_module_version": "2.0.0",
       "_view_name": "StyleView",
       "bar_color": null,
       "description_width": ""
      }
     },
     "40e490736bdb4e9b91ecc29d8ebfcb9a": {
      "model_module": "@jupyter-widgets/controls",
      "model_module_version": "2.0.0",
      "model_name": "HTMLModel",
      "state": {
       "_dom_classes": [],
       "_model_module": "@jupyter-widgets/controls",
       "_model_module_version": "2.0.0",
       "_model_name": "HTMLModel",
       "_view_count": null,
       "_view_module": "@jupyter-widgets/controls",
       "_view_module_version": "2.0.0",
       "_view_name": "HTMLView",
       "description": "",
       "description_allow_html": false,
       "layout": "IPY_MODEL_0b73ffb834c2419c973499fdf717431d",
       "placeholder": "​",
       "style": "IPY_MODEL_92ddbe5f71f340e09a33f004c0f625c0",
       "tabbable": null,
       "tooltip": null,
       "value": "100%"
      }
     },
     "41c8f627da6e4adda218239203e2aaca": {
      "model_module": "@jupyter-widgets/base",
      "model_module_version": "2.0.0",
      "model_name": "LayoutModel",
      "state": {
       "_model_module": "@jupyter-widgets/base",
       "_model_module_version": "2.0.0",
       "_model_name": "LayoutModel",
       "_view_count": null,
       "_view_module": "@jupyter-widgets/base",
       "_view_module_version": "2.0.0",
       "_view_name": "LayoutView",
       "align_content": null,
       "align_items": null,
       "align_self": null,
       "border_bottom": null,
       "border_left": null,
       "border_right": null,
       "border_top": null,
       "bottom": null,
       "display": null,
       "flex": null,
       "flex_flow": null,
       "grid_area": null,
       "grid_auto_columns": null,
       "grid_auto_flow": null,
       "grid_auto_rows": null,
       "grid_column": null,
       "grid_gap": null,
       "grid_row": null,
       "grid_template_areas": null,
       "grid_template_columns": null,
       "grid_template_rows": null,
       "height": null,
       "justify_content": null,
       "justify_items": null,
       "left": null,
       "margin": null,
       "max_height": null,
       "max_width": null,
       "min_height": null,
       "min_width": null,
       "object_fit": null,
       "object_position": null,
       "order": null,
       "overflow": null,
       "padding": null,
       "right": null,
       "top": null,
       "visibility": null,
       "width": null
      }
     },
     "466bad0aef824176a0778b38af7f0cc8": {
      "model_module": "@jupyter-widgets/controls",
      "model_module_version": "2.0.0",
      "model_name": "HTMLModel",
      "state": {
       "_dom_classes": [],
       "_model_module": "@jupyter-widgets/controls",
       "_model_module_version": "2.0.0",
       "_model_name": "HTMLModel",
       "_view_count": null,
       "_view_module": "@jupyter-widgets/controls",
       "_view_module_version": "2.0.0",
       "_view_name": "HTMLView",
       "description": "",
       "description_allow_html": false,
       "layout": "IPY_MODEL_fd94337716a24629bbbf38eb2d910e17",
       "placeholder": "​",
       "style": "IPY_MODEL_62eaeb24301b45bdbed6f793ae2a80d3",
       "tabbable": null,
       "tooltip": null,
       "value": " 256/256 [28:51&lt;00:00,  6.95s/it]"
      }
     },
     "4a9c13ffbb134906a5773a04df09a848": {
      "model_module": "@jupyter-widgets/base",
      "model_module_version": "2.0.0",
      "model_name": "LayoutModel",
      "state": {
       "_model_module": "@jupyter-widgets/base",
       "_model_module_version": "2.0.0",
       "_model_name": "LayoutModel",
       "_view_count": null,
       "_view_module": "@jupyter-widgets/base",
       "_view_module_version": "2.0.0",
       "_view_name": "LayoutView",
       "align_content": null,
       "align_items": null,
       "align_self": null,
       "border_bottom": null,
       "border_left": null,
       "border_right": null,
       "border_top": null,
       "bottom": null,
       "display": null,
       "flex": null,
       "flex_flow": null,
       "grid_area": null,
       "grid_auto_columns": null,
       "grid_auto_flow": null,
       "grid_auto_rows": null,
       "grid_column": null,
       "grid_gap": null,
       "grid_row": null,
       "grid_template_areas": null,
       "grid_template_columns": null,
       "grid_template_rows": null,
       "height": null,
       "justify_content": null,
       "justify_items": null,
       "left": null,
       "margin": null,
       "max_height": null,
       "max_width": null,
       "min_height": null,
       "min_width": null,
       "object_fit": null,
       "object_position": null,
       "order": null,
       "overflow": null,
       "padding": null,
       "right": null,
       "top": null,
       "visibility": null,
       "width": null
      }
     },
     "4b89e27ea7dd4ad2848898a2e945d660": {
      "model_module": "@jupyter-widgets/controls",
      "model_module_version": "2.0.0",
      "model_name": "HTMLModel",
      "state": {
       "_dom_classes": [],
       "_model_module": "@jupyter-widgets/controls",
       "_model_module_version": "2.0.0",
       "_model_name": "HTMLModel",
       "_view_count": null,
       "_view_module": "@jupyter-widgets/controls",
       "_view_module_version": "2.0.0",
       "_view_name": "HTMLView",
       "description": "",
       "description_allow_html": false,
       "layout": "IPY_MODEL_6842b6809a9e45cfb0e702de8bc33a4a",
       "placeholder": "​",
       "style": "IPY_MODEL_c59fd60c9cf0495b922c74febebcfd99",
       "tabbable": null,
       "tooltip": null,
       "value": " 256/256 [27:26&lt;00:00,  6.35s/it]"
      }
     },
     "4bc5b7e763bd41efb3f51b7faf6b2553": {
      "model_module": "@jupyter-widgets/base",
      "model_module_version": "2.0.0",
      "model_name": "LayoutModel",
      "state": {
       "_model_module": "@jupyter-widgets/base",
       "_model_module_version": "2.0.0",
       "_model_name": "LayoutModel",
       "_view_count": null,
       "_view_module": "@jupyter-widgets/base",
       "_view_module_version": "2.0.0",
       "_view_name": "LayoutView",
       "align_content": null,
       "align_items": null,
       "align_self": null,
       "border_bottom": null,
       "border_left": null,
       "border_right": null,
       "border_top": null,
       "bottom": null,
       "display": null,
       "flex": null,
       "flex_flow": null,
       "grid_area": null,
       "grid_auto_columns": null,
       "grid_auto_flow": null,
       "grid_auto_rows": null,
       "grid_column": null,
       "grid_gap": null,
       "grid_row": null,
       "grid_template_areas": null,
       "grid_template_columns": null,
       "grid_template_rows": null,
       "height": null,
       "justify_content": null,
       "justify_items": null,
       "left": null,
       "margin": null,
       "max_height": null,
       "max_width": null,
       "min_height": null,
       "min_width": null,
       "object_fit": null,
       "object_position": null,
       "order": null,
       "overflow": null,
       "padding": null,
       "right": null,
       "top": null,
       "visibility": null,
       "width": null
      }
     },
     "623cfb29c2674e3e8afa956617fee28d": {
      "model_module": "@jupyter-widgets/controls",
      "model_module_version": "2.0.0",
      "model_name": "HTMLModel",
      "state": {
       "_dom_classes": [],
       "_model_module": "@jupyter-widgets/controls",
       "_model_module_version": "2.0.0",
       "_model_name": "HTMLModel",
       "_view_count": null,
       "_view_module": "@jupyter-widgets/controls",
       "_view_module_version": "2.0.0",
       "_view_name": "HTMLView",
       "description": "",
       "description_allow_html": false,
       "layout": "IPY_MODEL_d22ead2504ee49e6bdda108317f45ac1",
       "placeholder": "​",
       "style": "IPY_MODEL_7d93c028c6b249fbbb05b7bb576f6e14",
       "tabbable": null,
       "tooltip": null,
       "value": " 256/256 [29:09&lt;00:00,  6.42s/it]"
      }
     },
     "62eaeb24301b45bdbed6f793ae2a80d3": {
      "model_module": "@jupyter-widgets/controls",
      "model_module_version": "2.0.0",
      "model_name": "HTMLStyleModel",
      "state": {
       "_model_module": "@jupyter-widgets/controls",
       "_model_module_version": "2.0.0",
       "_model_name": "HTMLStyleModel",
       "_view_count": null,
       "_view_module": "@jupyter-widgets/base",
       "_view_module_version": "2.0.0",
       "_view_name": "StyleView",
       "background": null,
       "description_width": "",
       "font_size": null,
       "text_color": null
      }
     },
     "6589ece8f1bd4f259fa2daee94834cee": {
      "model_module": "@jupyter-widgets/base",
      "model_module_version": "2.0.0",
      "model_name": "LayoutModel",
      "state": {
       "_model_module": "@jupyter-widgets/base",
       "_model_module_version": "2.0.0",
       "_model_name": "LayoutModel",
       "_view_count": null,
       "_view_module": "@jupyter-widgets/base",
       "_view_module_version": "2.0.0",
       "_view_name": "LayoutView",
       "align_content": null,
       "align_items": null,
       "align_self": null,
       "border_bottom": null,
       "border_left": null,
       "border_right": null,
       "border_top": null,
       "bottom": null,
       "display": null,
       "flex": null,
       "flex_flow": null,
       "grid_area": null,
       "grid_auto_columns": null,
       "grid_auto_flow": null,
       "grid_auto_rows": null,
       "grid_column": null,
       "grid_gap": null,
       "grid_row": null,
       "grid_template_areas": null,
       "grid_template_columns": null,
       "grid_template_rows": null,
       "height": null,
       "justify_content": null,
       "justify_items": null,
       "left": null,
       "margin": null,
       "max_height": null,
       "max_width": null,
       "min_height": null,
       "min_width": null,
       "object_fit": null,
       "object_position": null,
       "order": null,
       "overflow": null,
       "padding": null,
       "right": null,
       "top": null,
       "visibility": null,
       "width": null
      }
     },
     "6842b6809a9e45cfb0e702de8bc33a4a": {
      "model_module": "@jupyter-widgets/base",
      "model_module_version": "2.0.0",
      "model_name": "LayoutModel",
      "state": {
       "_model_module": "@jupyter-widgets/base",
       "_model_module_version": "2.0.0",
       "_model_name": "LayoutModel",
       "_view_count": null,
       "_view_module": "@jupyter-widgets/base",
       "_view_module_version": "2.0.0",
       "_view_name": "LayoutView",
       "align_content": null,
       "align_items": null,
       "align_self": null,
       "border_bottom": null,
       "border_left": null,
       "border_right": null,
       "border_top": null,
       "bottom": null,
       "display": null,
       "flex": null,
       "flex_flow": null,
       "grid_area": null,
       "grid_auto_columns": null,
       "grid_auto_flow": null,
       "grid_auto_rows": null,
       "grid_column": null,
       "grid_gap": null,
       "grid_row": null,
       "grid_template_areas": null,
       "grid_template_columns": null,
       "grid_template_rows": null,
       "height": null,
       "justify_content": null,
       "justify_items": null,
       "left": null,
       "margin": null,
       "max_height": null,
       "max_width": null,
       "min_height": null,
       "min_width": null,
       "object_fit": null,
       "object_position": null,
       "order": null,
       "overflow": null,
       "padding": null,
       "right": null,
       "top": null,
       "visibility": null,
       "width": null
      }
     },
     "69223a6848db4101aa62cbe286345231": {
      "model_module": "@jupyter-widgets/controls",
      "model_module_version": "2.0.0",
      "model_name": "HBoxModel",
      "state": {
       "_dom_classes": [],
       "_model_module": "@jupyter-widgets/controls",
       "_model_module_version": "2.0.0",
       "_model_name": "HBoxModel",
       "_view_count": null,
       "_view_module": "@jupyter-widgets/controls",
       "_view_module_version": "2.0.0",
       "_view_name": "HBoxView",
       "box_style": "",
       "children": [
        "IPY_MODEL_fbcf6af361ec40ffba104e09c0d7eb15",
        "IPY_MODEL_035ab33361e7432caecc80ca2a176575",
        "IPY_MODEL_9ae4138d5c6040ff8f31487f21120a6e"
       ],
       "layout": "IPY_MODEL_937ce84eb341402aac3fa07fed6cafd0",
       "tabbable": null,
       "tooltip": null
      }
     },
     "7279d281d2c34657bff252e8df63f4c5": {
      "model_module": "@jupyter-widgets/controls",
      "model_module_version": "2.0.0",
      "model_name": "HTMLStyleModel",
      "state": {
       "_model_module": "@jupyter-widgets/controls",
       "_model_module_version": "2.0.0",
       "_model_name": "HTMLStyleModel",
       "_view_count": null,
       "_view_module": "@jupyter-widgets/base",
       "_view_module_version": "2.0.0",
       "_view_name": "StyleView",
       "background": null,
       "description_width": "",
       "font_size": null,
       "text_color": null
      }
     },
     "77f9a290f7dd4b219ba4f735555140e1": {
      "model_module": "@jupyter-widgets/base",
      "model_module_version": "2.0.0",
      "model_name": "LayoutModel",
      "state": {
       "_model_module": "@jupyter-widgets/base",
       "_model_module_version": "2.0.0",
       "_model_name": "LayoutModel",
       "_view_count": null,
       "_view_module": "@jupyter-widgets/base",
       "_view_module_version": "2.0.0",
       "_view_name": "LayoutView",
       "align_content": null,
       "align_items": null,
       "align_self": null,
       "border_bottom": null,
       "border_left": null,
       "border_right": null,
       "border_top": null,
       "bottom": null,
       "display": null,
       "flex": null,
       "flex_flow": null,
       "grid_area": null,
       "grid_auto_columns": null,
       "grid_auto_flow": null,
       "grid_auto_rows": null,
       "grid_column": null,
       "grid_gap": null,
       "grid_row": null,
       "grid_template_areas": null,
       "grid_template_columns": null,
       "grid_template_rows": null,
       "height": null,
       "justify_content": null,
       "justify_items": null,
       "left": null,
       "margin": null,
       "max_height": null,
       "max_width": null,
       "min_height": null,
       "min_width": null,
       "object_fit": null,
       "object_position": null,
       "order": null,
       "overflow": null,
       "padding": null,
       "right": null,
       "top": null,
       "visibility": null,
       "width": null
      }
     },
     "7d93c028c6b249fbbb05b7bb576f6e14": {
      "model_module": "@jupyter-widgets/controls",
      "model_module_version": "2.0.0",
      "model_name": "HTMLStyleModel",
      "state": {
       "_model_module": "@jupyter-widgets/controls",
       "_model_module_version": "2.0.0",
       "_model_name": "HTMLStyleModel",
       "_view_count": null,
       "_view_module": "@jupyter-widgets/base",
       "_view_module_version": "2.0.0",
       "_view_name": "StyleView",
       "background": null,
       "description_width": "",
       "font_size": null,
       "text_color": null
      }
     },
     "7e3049db598142689e39c20322342839": {
      "model_module": "@jupyter-widgets/controls",
      "model_module_version": "2.0.0",
      "model_name": "FloatProgressModel",
      "state": {
       "_dom_classes": [],
       "_model_module": "@jupyter-widgets/controls",
       "_model_module_version": "2.0.0",
       "_model_name": "FloatProgressModel",
       "_view_count": null,
       "_view_module": "@jupyter-widgets/controls",
       "_view_module_version": "2.0.0",
       "_view_name": "ProgressView",
       "bar_style": "success",
       "description": "",
       "description_allow_html": false,
       "layout": "IPY_MODEL_6589ece8f1bd4f259fa2daee94834cee",
       "max": 256,
       "min": 0,
       "orientation": "horizontal",
       "style": "IPY_MODEL_bd094cda8b3c4855a4ed1300edf3f2c3",
       "tabbable": null,
       "tooltip": null,
       "value": 256
      }
     },
     "84e6789a386f4cc3b967f7880483983c": {
      "model_module": "@jupyter-widgets/controls",
      "model_module_version": "2.0.0",
      "model_name": "ProgressStyleModel",
      "state": {
       "_model_module": "@jupyter-widgets/controls",
       "_model_module_version": "2.0.0",
       "_model_name": "ProgressStyleModel",
       "_view_count": null,
       "_view_module": "@jupyter-widgets/base",
       "_view_module_version": "2.0.0",
       "_view_name": "StyleView",
       "bar_color": null,
       "description_width": ""
      }
     },
     "92ddbe5f71f340e09a33f004c0f625c0": {
      "model_module": "@jupyter-widgets/controls",
      "model_module_version": "2.0.0",
      "model_name": "HTMLStyleModel",
      "state": {
       "_model_module": "@jupyter-widgets/controls",
       "_model_module_version": "2.0.0",
       "_model_name": "HTMLStyleModel",
       "_view_count": null,
       "_view_module": "@jupyter-widgets/base",
       "_view_module_version": "2.0.0",
       "_view_name": "StyleView",
       "background": null,
       "description_width": "",
       "font_size": null,
       "text_color": null
      }
     },
     "937ce84eb341402aac3fa07fed6cafd0": {
      "model_module": "@jupyter-widgets/base",
      "model_module_version": "2.0.0",
      "model_name": "LayoutModel",
      "state": {
       "_model_module": "@jupyter-widgets/base",
       "_model_module_version": "2.0.0",
       "_model_name": "LayoutModel",
       "_view_count": null,
       "_view_module": "@jupyter-widgets/base",
       "_view_module_version": "2.0.0",
       "_view_name": "LayoutView",
       "align_content": null,
       "align_items": null,
       "align_self": null,
       "border_bottom": null,
       "border_left": null,
       "border_right": null,
       "border_top": null,
       "bottom": null,
       "display": null,
       "flex": null,
       "flex_flow": null,
       "grid_area": null,
       "grid_auto_columns": null,
       "grid_auto_flow": null,
       "grid_auto_rows": null,
       "grid_column": null,
       "grid_gap": null,
       "grid_row": null,
       "grid_template_areas": null,
       "grid_template_columns": null,
       "grid_template_rows": null,
       "height": null,
       "justify_content": null,
       "justify_items": null,
       "left": null,
       "margin": null,
       "max_height": null,
       "max_width": null,
       "min_height": null,
       "min_width": null,
       "object_fit": null,
       "object_position": null,
       "order": null,
       "overflow": null,
       "padding": null,
       "right": null,
       "top": null,
       "visibility": null,
       "width": null
      }
     },
     "9650fef1b09348cb8cff5a63a56850b7": {
      "model_module": "@jupyter-widgets/base",
      "model_module_version": "2.0.0",
      "model_name": "LayoutModel",
      "state": {
       "_model_module": "@jupyter-widgets/base",
       "_model_module_version": "2.0.0",
       "_model_name": "LayoutModel",
       "_view_count": null,
       "_view_module": "@jupyter-widgets/base",
       "_view_module_version": "2.0.0",
       "_view_name": "LayoutView",
       "align_content": null,
       "align_items": null,
       "align_self": null,
       "border_bottom": null,
       "border_left": null,
       "border_right": null,
       "border_top": null,
       "bottom": null,
       "display": null,
       "flex": null,
       "flex_flow": null,
       "grid_area": null,
       "grid_auto_columns": null,
       "grid_auto_flow": null,
       "grid_auto_rows": null,
       "grid_column": null,
       "grid_gap": null,
       "grid_row": null,
       "grid_template_areas": null,
       "grid_template_columns": null,
       "grid_template_rows": null,
       "height": null,
       "justify_content": null,
       "justify_items": null,
       "left": null,
       "margin": null,
       "max_height": null,
       "max_width": null,
       "min_height": null,
       "min_width": null,
       "object_fit": null,
       "object_position": null,
       "order": null,
       "overflow": null,
       "padding": null,
       "right": null,
       "top": null,
       "visibility": null,
       "width": null
      }
     },
     "9a36404c5a734fb38c2b22c9878a5745": {
      "model_module": "@jupyter-widgets/controls",
      "model_module_version": "2.0.0",
      "model_name": "HBoxModel",
      "state": {
       "_dom_classes": [],
       "_model_module": "@jupyter-widgets/controls",
       "_model_module_version": "2.0.0",
       "_model_name": "HBoxModel",
       "_view_count": null,
       "_view_module": "@jupyter-widgets/controls",
       "_view_module_version": "2.0.0",
       "_view_name": "HBoxView",
       "box_style": "",
       "children": [
        "IPY_MODEL_40e490736bdb4e9b91ecc29d8ebfcb9a",
        "IPY_MODEL_1e646c9ebcb840a28822c80b583c341d",
        "IPY_MODEL_623cfb29c2674e3e8afa956617fee28d"
       ],
       "layout": "IPY_MODEL_41c8f627da6e4adda218239203e2aaca",
       "tabbable": null,
       "tooltip": null
      }
     },
     "9ae4138d5c6040ff8f31487f21120a6e": {
      "model_module": "@jupyter-widgets/controls",
      "model_module_version": "2.0.0",
      "model_name": "HTMLModel",
      "state": {
       "_dom_classes": [],
       "_model_module": "@jupyter-widgets/controls",
       "_model_module_version": "2.0.0",
       "_model_name": "HTMLModel",
       "_view_count": null,
       "_view_module": "@jupyter-widgets/controls",
       "_view_module_version": "2.0.0",
       "_view_name": "HTMLView",
       "description": "",
       "description_allow_html": false,
       "layout": "IPY_MODEL_ff03739d18014246817c21e4dbf0a84a",
       "placeholder": "​",
       "style": "IPY_MODEL_e36bde94baa0470b804d73c4cc83a922",
       "tabbable": null,
       "tooltip": null,
       "value": " 256/256 [27:36&lt;00:00,  6.62s/it]"
      }
     },
     "b8499c15522745cd9981166aa85f493d": {
      "model_module": "@jupyter-widgets/controls",
      "model_module_version": "2.0.0",
      "model_name": "HTMLModel",
      "state": {
       "_dom_classes": [],
       "_model_module": "@jupyter-widgets/controls",
       "_model_module_version": "2.0.0",
       "_model_name": "HTMLModel",
       "_view_count": null,
       "_view_module": "@jupyter-widgets/controls",
       "_view_module_version": "2.0.0",
       "_view_name": "HTMLView",
       "description": "",
       "description_allow_html": false,
       "layout": "IPY_MODEL_2410a91c9a7a4826b7d3c14d541ff69d",
       "placeholder": "​",
       "style": "IPY_MODEL_bdbc8bdcb94f49e29847dd9b22e6add5",
       "tabbable": null,
       "tooltip": null,
       "value": "100%"
      }
     },
     "bd094cda8b3c4855a4ed1300edf3f2c3": {
      "model_module": "@jupyter-widgets/controls",
      "model_module_version": "2.0.0",
      "model_name": "ProgressStyleModel",
      "state": {
       "_model_module": "@jupyter-widgets/controls",
       "_model_module_version": "2.0.0",
       "_model_name": "ProgressStyleModel",
       "_view_count": null,
       "_view_module": "@jupyter-widgets/base",
       "_view_module_version": "2.0.0",
       "_view_name": "StyleView",
       "bar_color": null,
       "description_width": ""
      }
     },
     "bdbc8bdcb94f49e29847dd9b22e6add5": {
      "model_module": "@jupyter-widgets/controls",
      "model_module_version": "2.0.0",
      "model_name": "HTMLStyleModel",
      "state": {
       "_model_module": "@jupyter-widgets/controls",
       "_model_module_version": "2.0.0",
       "_model_name": "HTMLStyleModel",
       "_view_count": null,
       "_view_module": "@jupyter-widgets/base",
       "_view_module_version": "2.0.0",
       "_view_name": "StyleView",
       "background": null,
       "description_width": "",
       "font_size": null,
       "text_color": null
      }
     },
     "c078cae24ae7430bace625a76b1cb988": {
      "model_module": "@jupyter-widgets/base",
      "model_module_version": "2.0.0",
      "model_name": "LayoutModel",
      "state": {
       "_model_module": "@jupyter-widgets/base",
       "_model_module_version": "2.0.0",
       "_model_name": "LayoutModel",
       "_view_count": null,
       "_view_module": "@jupyter-widgets/base",
       "_view_module_version": "2.0.0",
       "_view_name": "LayoutView",
       "align_content": null,
       "align_items": null,
       "align_self": null,
       "border_bottom": null,
       "border_left": null,
       "border_right": null,
       "border_top": null,
       "bottom": null,
       "display": null,
       "flex": null,
       "flex_flow": null,
       "grid_area": null,
       "grid_auto_columns": null,
       "grid_auto_flow": null,
       "grid_auto_rows": null,
       "grid_column": null,
       "grid_gap": null,
       "grid_row": null,
       "grid_template_areas": null,
       "grid_template_columns": null,
       "grid_template_rows": null,
       "height": null,
       "justify_content": null,
       "justify_items": null,
       "left": null,
       "margin": null,
       "max_height": null,
       "max_width": null,
       "min_height": null,
       "min_width": null,
       "object_fit": null,
       "object_position": null,
       "order": null,
       "overflow": null,
       "padding": null,
       "right": null,
       "top": null,
       "visibility": null,
       "width": null
      }
     },
     "c26548a3142c45f1adfa8abc1815ac5f": {
      "model_module": "@jupyter-widgets/base",
      "model_module_version": "2.0.0",
      "model_name": "LayoutModel",
      "state": {
       "_model_module": "@jupyter-widgets/base",
       "_model_module_version": "2.0.0",
       "_model_name": "LayoutModel",
       "_view_count": null,
       "_view_module": "@jupyter-widgets/base",
       "_view_module_version": "2.0.0",
       "_view_name": "LayoutView",
       "align_content": null,
       "align_items": null,
       "align_self": null,
       "border_bottom": null,
       "border_left": null,
       "border_right": null,
       "border_top": null,
       "bottom": null,
       "display": null,
       "flex": null,
       "flex_flow": null,
       "grid_area": null,
       "grid_auto_columns": null,
       "grid_auto_flow": null,
       "grid_auto_rows": null,
       "grid_column": null,
       "grid_gap": null,
       "grid_row": null,
       "grid_template_areas": null,
       "grid_template_columns": null,
       "grid_template_rows": null,
       "height": null,
       "justify_content": null,
       "justify_items": null,
       "left": null,
       "margin": null,
       "max_height": null,
       "max_width": null,
       "min_height": null,
       "min_width": null,
       "object_fit": null,
       "object_position": null,
       "order": null,
       "overflow": null,
       "padding": null,
       "right": null,
       "top": null,
       "visibility": null,
       "width": null
      }
     },
     "c59fd60c9cf0495b922c74febebcfd99": {
      "model_module": "@jupyter-widgets/controls",
      "model_module_version": "2.0.0",
      "model_name": "HTMLStyleModel",
      "state": {
       "_model_module": "@jupyter-widgets/controls",
       "_model_module_version": "2.0.0",
       "_model_name": "HTMLStyleModel",
       "_view_count": null,
       "_view_module": "@jupyter-widgets/base",
       "_view_module_version": "2.0.0",
       "_view_name": "StyleView",
       "background": null,
       "description_width": "",
       "font_size": null,
       "text_color": null
      }
     },
     "cc8031db1bd442d1a481d859e4f8c3d1": {
      "model_module": "@jupyter-widgets/controls",
      "model_module_version": "2.0.0",
      "model_name": "ProgressStyleModel",
      "state": {
       "_model_module": "@jupyter-widgets/controls",
       "_model_module_version": "2.0.0",
       "_model_name": "ProgressStyleModel",
       "_view_count": null,
       "_view_module": "@jupyter-widgets/base",
       "_view_module_version": "2.0.0",
       "_view_name": "StyleView",
       "bar_color": null,
       "description_width": ""
      }
     },
     "cd112c61118142adadc1ffdc3d4fd7dc": {
      "model_module": "@jupyter-widgets/controls",
      "model_module_version": "2.0.0",
      "model_name": "ProgressStyleModel",
      "state": {
       "_model_module": "@jupyter-widgets/controls",
       "_model_module_version": "2.0.0",
       "_model_name": "ProgressStyleModel",
       "_view_count": null,
       "_view_module": "@jupyter-widgets/base",
       "_view_module_version": "2.0.0",
       "_view_name": "StyleView",
       "bar_color": null,
       "description_width": ""
      }
     },
     "d0069e861bec45358c5749eb8eb64139": {
      "model_module": "@jupyter-widgets/controls",
      "model_module_version": "2.0.0",
      "model_name": "HTMLModel",
      "state": {
       "_dom_classes": [],
       "_model_module": "@jupyter-widgets/controls",
       "_model_module_version": "2.0.0",
       "_model_name": "HTMLModel",
       "_view_count": null,
       "_view_module": "@jupyter-widgets/controls",
       "_view_module_version": "2.0.0",
       "_view_name": "HTMLView",
       "description": "",
       "description_allow_html": false,
       "layout": "IPY_MODEL_4bc5b7e763bd41efb3f51b7faf6b2553",
       "placeholder": "​",
       "style": "IPY_MODEL_372ec21d55b140a3b2f2485311a94b90",
       "tabbable": null,
       "tooltip": null,
       "value": " 256/256 [27:19&lt;00:00,  6.44s/it]"
      }
     },
     "d2044911f735442cbe3dc75e7249db0f": {
      "model_module": "@jupyter-widgets/base",
      "model_module_version": "2.0.0",
      "model_name": "LayoutModel",
      "state": {
       "_model_module": "@jupyter-widgets/base",
       "_model_module_version": "2.0.0",
       "_model_name": "LayoutModel",
       "_view_count": null,
       "_view_module": "@jupyter-widgets/base",
       "_view_module_version": "2.0.0",
       "_view_name": "LayoutView",
       "align_content": null,
       "align_items": null,
       "align_self": null,
       "border_bottom": null,
       "border_left": null,
       "border_right": null,
       "border_top": null,
       "bottom": null,
       "display": null,
       "flex": null,
       "flex_flow": null,
       "grid_area": null,
       "grid_auto_columns": null,
       "grid_auto_flow": null,
       "grid_auto_rows": null,
       "grid_column": null,
       "grid_gap": null,
       "grid_row": null,
       "grid_template_areas": null,
       "grid_template_columns": null,
       "grid_template_rows": null,
       "height": null,
       "justify_content": null,
       "justify_items": null,
       "left": null,
       "margin": null,
       "max_height": null,
       "max_width": null,
       "min_height": null,
       "min_width": null,
       "object_fit": null,
       "object_position": null,
       "order": null,
       "overflow": null,
       "padding": null,
       "right": null,
       "top": null,
       "visibility": null,
       "width": null
      }
     },
     "d22ead2504ee49e6bdda108317f45ac1": {
      "model_module": "@jupyter-widgets/base",
      "model_module_version": "2.0.0",
      "model_name": "LayoutModel",
      "state": {
       "_model_module": "@jupyter-widgets/base",
       "_model_module_version": "2.0.0",
       "_model_name": "LayoutModel",
       "_view_count": null,
       "_view_module": "@jupyter-widgets/base",
       "_view_module_version": "2.0.0",
       "_view_name": "LayoutView",
       "align_content": null,
       "align_items": null,
       "align_self": null,
       "border_bottom": null,
       "border_left": null,
       "border_right": null,
       "border_top": null,
       "bottom": null,
       "display": null,
       "flex": null,
       "flex_flow": null,
       "grid_area": null,
       "grid_auto_columns": null,
       "grid_auto_flow": null,
       "grid_auto_rows": null,
       "grid_column": null,
       "grid_gap": null,
       "grid_row": null,
       "grid_template_areas": null,
       "grid_template_columns": null,
       "grid_template_rows": null,
       "height": null,
       "justify_content": null,
       "justify_items": null,
       "left": null,
       "margin": null,
       "max_height": null,
       "max_width": null,
       "min_height": null,
       "min_width": null,
       "object_fit": null,
       "object_position": null,
       "order": null,
       "overflow": null,
       "padding": null,
       "right": null,
       "top": null,
       "visibility": null,
       "width": null
      }
     },
     "d69c4d7c0ffd4195b09a98ea697a7a77": {
      "model_module": "@jupyter-widgets/base",
      "model_module_version": "2.0.0",
      "model_name": "LayoutModel",
      "state": {
       "_model_module": "@jupyter-widgets/base",
       "_model_module_version": "2.0.0",
       "_model_name": "LayoutModel",
       "_view_count": null,
       "_view_module": "@jupyter-widgets/base",
       "_view_module_version": "2.0.0",
       "_view_name": "LayoutView",
       "align_content": null,
       "align_items": null,
       "align_self": null,
       "border_bottom": null,
       "border_left": null,
       "border_right": null,
       "border_top": null,
       "bottom": null,
       "display": null,
       "flex": null,
       "flex_flow": null,
       "grid_area": null,
       "grid_auto_columns": null,
       "grid_auto_flow": null,
       "grid_auto_rows": null,
       "grid_column": null,
       "grid_gap": null,
       "grid_row": null,
       "grid_template_areas": null,
       "grid_template_columns": null,
       "grid_template_rows": null,
       "height": null,
       "justify_content": null,
       "justify_items": null,
       "left": null,
       "margin": null,
       "max_height": null,
       "max_width": null,
       "min_height": null,
       "min_width": null,
       "object_fit": null,
       "object_position": null,
       "order": null,
       "overflow": null,
       "padding": null,
       "right": null,
       "top": null,
       "visibility": null,
       "width": null
      }
     },
     "e36bde94baa0470b804d73c4cc83a922": {
      "model_module": "@jupyter-widgets/controls",
      "model_module_version": "2.0.0",
      "model_name": "HTMLStyleModel",
      "state": {
       "_model_module": "@jupyter-widgets/controls",
       "_model_module_version": "2.0.0",
       "_model_name": "HTMLStyleModel",
       "_view_count": null,
       "_view_module": "@jupyter-widgets/base",
       "_view_module_version": "2.0.0",
       "_view_name": "StyleView",
       "background": null,
       "description_width": "",
       "font_size": null,
       "text_color": null
      }
     },
     "f16c0a10ddef42d883635f671bda9653": {
      "model_module": "@jupyter-widgets/controls",
      "model_module_version": "2.0.0",
      "model_name": "HTMLStyleModel",
      "state": {
       "_model_module": "@jupyter-widgets/controls",
       "_model_module_version": "2.0.0",
       "_model_name": "HTMLStyleModel",
       "_view_count": null,
       "_view_module": "@jupyter-widgets/base",
       "_view_module_version": "2.0.0",
       "_view_name": "StyleView",
       "background": null,
       "description_width": "",
       "font_size": null,
       "text_color": null
      }
     },
     "fbcf6af361ec40ffba104e09c0d7eb15": {
      "model_module": "@jupyter-widgets/controls",
      "model_module_version": "2.0.0",
      "model_name": "HTMLModel",
      "state": {
       "_dom_classes": [],
       "_model_module": "@jupyter-widgets/controls",
       "_model_module_version": "2.0.0",
       "_model_name": "HTMLModel",
       "_view_count": null,
       "_view_module": "@jupyter-widgets/controls",
       "_view_module_version": "2.0.0",
       "_view_name": "HTMLView",
       "description": "",
       "description_allow_html": false,
       "layout": "IPY_MODEL_9650fef1b09348cb8cff5a63a56850b7",
       "placeholder": "​",
       "style": "IPY_MODEL_7279d281d2c34657bff252e8df63f4c5",
       "tabbable": null,
       "tooltip": null,
       "value": "100%"
      }
     },
     "fd94337716a24629bbbf38eb2d910e17": {
      "model_module": "@jupyter-widgets/base",
      "model_module_version": "2.0.0",
      "model_name": "LayoutModel",
      "state": {
       "_model_module": "@jupyter-widgets/base",
       "_model_module_version": "2.0.0",
       "_model_name": "LayoutModel",
       "_view_count": null,
       "_view_module": "@jupyter-widgets/base",
       "_view_module_version": "2.0.0",
       "_view_name": "LayoutView",
       "align_content": null,
       "align_items": null,
       "align_self": null,
       "border_bottom": null,
       "border_left": null,
       "border_right": null,
       "border_top": null,
       "bottom": null,
       "display": null,
       "flex": null,
       "flex_flow": null,
       "grid_area": null,
       "grid_auto_columns": null,
       "grid_auto_flow": null,
       "grid_auto_rows": null,
       "grid_column": null,
       "grid_gap": null,
       "grid_row": null,
       "grid_template_areas": null,
       "grid_template_columns": null,
       "grid_template_rows": null,
       "height": null,
       "justify_content": null,
       "justify_items": null,
       "left": null,
       "margin": null,
       "max_height": null,
       "max_width": null,
       "min_height": null,
       "min_width": null,
       "object_fit": null,
       "object_position": null,
       "order": null,
       "overflow": null,
       "padding": null,
       "right": null,
       "top": null,
       "visibility": null,
       "width": null
      }
     },
     "ff03739d18014246817c21e4dbf0a84a": {
      "model_module": "@jupyter-widgets/base",
      "model_module_version": "2.0.0",
      "model_name": "LayoutModel",
      "state": {
       "_model_module": "@jupyter-widgets/base",
       "_model_module_version": "2.0.0",
       "_model_name": "LayoutModel",
       "_view_count": null,
       "_view_module": "@jupyter-widgets/base",
       "_view_module_version": "2.0.0",
       "_view_name": "LayoutView",
       "align_content": null,
       "align_items": null,
       "align_self": null,
       "border_bottom": null,
       "border_left": null,
       "border_right": null,
       "border_top": null,
       "bottom": null,
       "display": null,
       "flex": null,
       "flex_flow": null,
       "grid_area": null,
       "grid_auto_columns": null,
       "grid_auto_flow": null,
       "grid_auto_rows": null,
       "grid_column": null,
       "grid_gap": null,
       "grid_row": null,
       "grid_template_areas": null,
       "grid_template_columns": null,
       "grid_template_rows": null,
       "height": null,
       "justify_content": null,
       "justify_items": null,
       "left": null,
       "margin": null,
       "max_height": null,
       "max_width": null,
       "min_height": null,
       "min_width": null,
       "object_fit": null,
       "object_position": null,
       "order": null,
       "overflow": null,
       "padding": null,
       "right": null,
       "top": null,
       "visibility": null,
       "width": null
      }
     }
    },
    "version_major": 2,
    "version_minor": 0
   }
  }
 },
 "nbformat": 4,
 "nbformat_minor": 4
}
