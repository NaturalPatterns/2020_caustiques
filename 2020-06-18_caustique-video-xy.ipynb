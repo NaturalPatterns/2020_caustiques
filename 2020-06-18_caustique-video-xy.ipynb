{
 "cells": [
  {
   "cell_type": "markdown",
   "metadata": {},
   "source": [
    "# caustique d'onde"
   ]
  },
  {
   "cell_type": "code",
   "execution_count": 1,
   "metadata": {},
   "outputs": [],
   "source": [
    "import os\n",
    "import numpy as np\n",
    "import MotionClouds as mc\n",
    "from caustique import init, Caustique"
   ]
  },
  {
   "cell_type": "code",
   "execution_count": 2,
   "metadata": {},
   "outputs": [
    {
     "name": "stdout",
     "output_type": "stream",
     "text": [
      "Tagging our simulations with tag=2020-06-18_caustique\n"
     ]
    }
   ],
   "source": [
    "import datetime\n",
    "date = datetime.datetime.now().date().isoformat()\n",
    "tag = f'{date}_caustique'\n",
    "print(f'Tagging our simulations with tag={tag}')"
   ]
  },
  {
   "cell_type": "code",
   "execution_count": 3,
   "metadata": {},
   "outputs": [],
   "source": [
    "opt = init()\n",
    "opt.tag = tag"
   ]
  },
  {
   "cell_type": "code",
   "execution_count": 4,
   "metadata": {},
   "outputs": [
    {
     "data": {
      "text/plain": [
       "Namespace(B_V=2.0, B_sf=0.001, B_theta=0.2617993877991494, H=125.0, V_X=0.5, V_Y=0.5, bin_dens=2, fps=18, nframe=128, nx=1280, ny=2048, seed=42, sf_0=0.002, tag='2020-06-18_caustique', theta=1.5707963267948966, verbose=False)"
      ]
     },
     "execution_count": 4,
     "metadata": {},
     "output_type": "execute_result"
    }
   ],
   "source": [
    "opt"
   ]
  },
  {
   "cell_type": "markdown",
   "metadata": {},
   "source": [
    "# une simple caustique"
   ]
  },
  {
   "cell_type": "code",
   "execution_count": null,
   "metadata": {},
   "outputs": [],
   "source": [
    "gifname = f'{opt.tag}/{opt.tag}.gif'\n",
    "if not os.path.isfile(gifname):\n",
    "    c = Caustique(opt)\n",
    "    z = c.wave()\n",
    "    gifname = c.plot(z)"
   ]
  },
  {
   "cell_type": "code",
   "execution_count": null,
   "metadata": {},
   "outputs": [],
   "source": [
    "z.swapaxes(0, 1).shape"
   ]
  },
  {
   "cell_type": "code",
   "execution_count": null,
   "metadata": {},
   "outputs": [],
   "source": [
    "if not os.path.isfile(f'{opt.tag}/{opt.tag}.{mc.vext}'):\n",
    "    c = Caustique(opt)\n",
    "    z = c.wave()\n",
    "    mc.anim_save(z.swapaxes(0, 1), f'{opt.tag}/{opt.tag}')\n",
    "mc.in_show_video(f'{opt.tag}', figpath=f'{opt.tag}')"
   ]
  },
  {
   "cell_type": "code",
   "execution_count": null,
   "metadata": {},
   "outputs": [],
   "source": [
    "from IPython.display import Image, display\n",
    "width = 1024\n",
    "display(Image(url=gifname, width=width))"
   ]
  },
  {
   "cell_type": "markdown",
   "metadata": {},
   "source": [
    "## exploring parameters"
   ]
  },
  {
   "cell_type": "code",
   "execution_count": null,
   "metadata": {},
   "outputs": [],
   "source": [
    "N_scan = 9\n",
    "base = 4"
   ]
  },
  {
   "cell_type": "code",
   "execution_count": null,
   "metadata": {},
   "outputs": [],
   "source": [
    "opt = init()\n",
    "opt.tag = tag\n",
    "opt.bin_dens = 3\n",
    "opt.verbose = True\n",
    "\n",
    "c = Caustique(opt)\n",
    "z = None\n",
    "for H_ in c.opt.H*np.logspace(-1, 1, N_scan, base=base):\n",
    "    print(f'H = {H_:.3f}')\n",
    "    c.opt.H = H_\n",
    "    gifname=f'{opt.tag}/{opt.tag}_H={H_:.3f}.gif'\n",
    "    if not os.path.isfile(gifname):\n",
    "        if z is None:\n",
    "            z = c.wave()\n",
    "        url=c.plot(z, gifname=gifname)\n",
    "    display(Image(url=gifname, width=width))"
   ]
  },
  {
   "cell_type": "code",
   "execution_count": null,
   "metadata": {},
   "outputs": [],
   "source": [
    "opt = init()\n",
    "\n",
    "for variable in ['sf_0', 'B_sf', 'B_theta', 'B_V', 'V_X', 'V_Y']:\n",
    "    print(f'======{variable}======')\n",
    "    for modul in np.logspace(-1, 1, N_scan, base=base):\n",
    "        opt = init()\n",
    "        opt.tag = tag\n",
    "        opt.bin_dens = 6\n",
    "\n",
    "        c = Caustique(opt)\n",
    "        c.d[variable] *= modul\n",
    "\n",
    "        print(f'{variable}={variable}(default)*{modul:.3f}={c.d[variable]:.3E}')\n",
    "        gifname = f'{opt.tag}/{opt.tag}_{variable}*={modul:.3f}.gif'\n",
    "        if not os.path.isfile(gifname):\n",
    "            z = c.wave()\n",
    "            if not os.path.isfile(f'{opt.tag}/{opt.tag}_{variable}*={modul:.3f}.{mc.vext}'): \n",
    "                mc.anim_save(z.swapaxes(0, 1), f'{opt.tag}/{opt.tag}_{variable}*={modul:.3f}')\n",
    "            url=c.plot(z, gifname=gifname)\n",
    "        display(Image(url=gifname, width=width))"
   ]
  }
 ],
 "metadata": {
  "kernelspec": {
   "display_name": "Python 3",
   "language": "python",
   "name": "python3"
  },
  "language_info": {
   "codemirror_mode": {
    "name": "ipython",
    "version": 3
   },
   "file_extension": ".py",
   "mimetype": "text/x-python",
   "name": "python",
   "nbconvert_exporter": "python",
   "pygments_lexer": "ipython3",
   "version": "3.7.7"
  }
 },
 "nbformat": 4,
 "nbformat_minor": 4
}
