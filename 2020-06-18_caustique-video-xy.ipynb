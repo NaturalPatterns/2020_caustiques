{
 "cells": [
  {
   "cell_type": "markdown",
   "metadata": {},
   "source": [
    "# caustique d'onde"
   ]
  },
  {
   "cell_type": "code",
   "execution_count": 1,
   "metadata": {},
   "outputs": [],
   "source": [
    "import os\n",
    "import numpy as np\n",
    "import MotionClouds as mc\n",
    "from caustique import init, Caustique"
   ]
  },
  {
   "cell_type": "code",
   "execution_count": 2,
   "metadata": {},
   "outputs": [
    {
     "name": "stdout",
     "output_type": "stream",
     "text": [
      "Tagging our simulations with tag=2020-06-18_caustique\n"
     ]
    }
   ],
   "source": [
    "import datetime\n",
    "date = datetime.datetime.now().date().isoformat()\n",
    "tag = f'{date}_caustique'\n",
    "print(f'Tagging our simulations with tag={tag}')"
   ]
  },
  {
   "cell_type": "code",
   "execution_count": 3,
   "metadata": {},
   "outputs": [],
   "source": [
    "opt = init()\n",
    "opt.tag = tag"
   ]
  },
  {
   "cell_type": "code",
   "execution_count": 4,
   "metadata": {},
   "outputs": [
    {
     "data": {
      "text/plain": [
       "Namespace(B_V=2.0, B_sf=0.001, B_theta=0.2617993877991494, H=125.0, V_X=0.5, V_Y=0.0, bin_dens=2, fps=18, nframe=120, nx=1500, ny=2400, seed=42, sf_0=0.002, tag='2020-06-18_caustique', theta=1.5707963267948966, verbose=False)"
      ]
     },
     "execution_count": 4,
     "metadata": {},
     "output_type": "execute_result"
    }
   ],
   "source": [
    "opt"
   ]
  },
  {
   "cell_type": "markdown",
   "metadata": {},
   "source": [
    "# une simple caustique"
   ]
  },
  {
   "cell_type": "code",
   "execution_count": 5,
   "metadata": {},
   "outputs": [],
   "source": [
    "gifname = f'{opt.tag}/{opt.tag}.gif'\n",
    "if not os.path.isfile(gifname):\n",
    "    c = Caustique(opt)\n",
    "    gifname = c.plot(c.wave())"
   ]
  },
  {
   "cell_type": "code",
   "execution_count": 6,
   "metadata": {},
   "outputs": [
    {
     "data": {
      "text/html": [
       "<img src=\"2020-06-18_caustique/2020-06-18_caustique.gif\" width=\"1024\"/>"
      ],
      "text/plain": [
       "<IPython.core.display.Image object>"
      ]
     },
     "metadata": {},
     "output_type": "display_data"
    }
   ],
   "source": [
    "from IPython.display import Image, display\n",
    "width = 1024\n",
    "display(Image(url=gifname, width=width))"
   ]
  },
  {
   "cell_type": "markdown",
   "metadata": {},
   "source": [
    "## exploring parameters"
   ]
  },
  {
   "cell_type": "code",
   "execution_count": 7,
   "metadata": {},
   "outputs": [],
   "source": [
    "N_scan = 9\n",
    "base = 4"
   ]
  },
  {
   "cell_type": "code",
   "execution_count": 8,
   "metadata": {},
   "outputs": [
    {
     "name": "stdout",
     "output_type": "stream",
     "text": [
      "H = 31.250\n"
     ]
    },
    {
     "data": {
      "text/html": [
       "<img src=\"2020-06-18_caustique/2020-06-18_caustique_H=31.250.gif\" width=\"1024\"/>"
      ],
      "text/plain": [
       "<IPython.core.display.Image object>"
      ]
     },
     "metadata": {},
     "output_type": "display_data"
    },
    {
     "name": "stdout",
     "output_type": "stream",
     "text": [
      "H = 44.194\n"
     ]
    },
    {
     "data": {
      "text/html": [
       "<img src=\"2020-06-18_caustique/2020-06-18_caustique_H=44.194.gif\" width=\"1024\"/>"
      ],
      "text/plain": [
       "<IPython.core.display.Image object>"
      ]
     },
     "metadata": {},
     "output_type": "display_data"
    },
    {
     "name": "stdout",
     "output_type": "stream",
     "text": [
      "H = 62.500\n"
     ]
    },
    {
     "data": {
      "text/html": [
       "<img src=\"2020-06-18_caustique/2020-06-18_caustique_H=62.500.gif\" width=\"1024\"/>"
      ],
      "text/plain": [
       "<IPython.core.display.Image object>"
      ]
     },
     "metadata": {},
     "output_type": "display_data"
    },
    {
     "name": "stdout",
     "output_type": "stream",
     "text": [
      "H = 88.388\n"
     ]
    },
    {
     "data": {
      "text/html": [
       "<img src=\"2020-06-18_caustique/2020-06-18_caustique_H=88.388.gif\" width=\"1024\"/>"
      ],
      "text/plain": [
       "<IPython.core.display.Image object>"
      ]
     },
     "metadata": {},
     "output_type": "display_data"
    },
    {
     "name": "stdout",
     "output_type": "stream",
     "text": [
      "H = 125.000\n"
     ]
    },
    {
     "data": {
      "text/html": [
       "<img src=\"2020-06-18_caustique/2020-06-18_caustique_H=125.000.gif\" width=\"1024\"/>"
      ],
      "text/plain": [
       "<IPython.core.display.Image object>"
      ]
     },
     "metadata": {},
     "output_type": "display_data"
    },
    {
     "name": "stdout",
     "output_type": "stream",
     "text": [
      "H = 176.777\n"
     ]
    },
    {
     "data": {
      "text/html": [
       "<img src=\"2020-06-18_caustique/2020-06-18_caustique_H=176.777.gif\" width=\"1024\"/>"
      ],
      "text/plain": [
       "<IPython.core.display.Image object>"
      ]
     },
     "metadata": {},
     "output_type": "display_data"
    },
    {
     "name": "stdout",
     "output_type": "stream",
     "text": [
      "H = 250.000\n"
     ]
    },
    {
     "data": {
      "text/html": [
       "<img src=\"2020-06-18_caustique/2020-06-18_caustique_H=250.000.gif\" width=\"1024\"/>"
      ],
      "text/plain": [
       "<IPython.core.display.Image object>"
      ]
     },
     "metadata": {},
     "output_type": "display_data"
    },
    {
     "name": "stdout",
     "output_type": "stream",
     "text": [
      "H = 353.553\n"
     ]
    },
    {
     "data": {
      "text/html": [
       "<img src=\"2020-06-18_caustique/2020-06-18_caustique_H=353.553.gif\" width=\"1024\"/>"
      ],
      "text/plain": [
       "<IPython.core.display.Image object>"
      ]
     },
     "metadata": {},
     "output_type": "display_data"
    },
    {
     "name": "stdout",
     "output_type": "stream",
     "text": [
      "H = 500.000\n"
     ]
    },
    {
     "data": {
      "text/html": [
       "<img src=\"2020-06-18_caustique/2020-06-18_caustique_H=500.000.gif\" width=\"1024\"/>"
      ],
      "text/plain": [
       "<IPython.core.display.Image object>"
      ]
     },
     "metadata": {},
     "output_type": "display_data"
    }
   ],
   "source": [
    "opt = init()\n",
    "opt.tag = tag\n",
    "opt.bin_dens = 3\n",
    "opt.verbose = True\n",
    "\n",
    "c = Caustique(opt)\n",
    "z = None\n",
    "for H_ in c.opt.H*np.logspace(-1, 1, N_scan, base=base):\n",
    "    print(f'H = {H_:.3f}')\n",
    "    c.opt.H = H_\n",
    "    gifname=f'{opt.tag}/{opt.tag}_H={H_:.3f}.gif'\n",
    "    if not os.path.isfile(gifname):\n",
    "        if z is None:\n",
    "            z = c.wave()\n",
    "            mc.anim_save(z, f'{opt.tag}/{opt.tag}')\n",
    "        url=c.plot(z, gifname=gifname)\n",
    "    display(Image(url=gifname, width=width))"
   ]
  },
  {
   "cell_type": "code",
   "execution_count": null,
   "metadata": {},
   "outputs": [
    {
     "name": "stdout",
     "output_type": "stream",
     "text": [
      "======sf_0======\n",
      "sf_0=sf_0(default)*0.250=5.000E-04\n"
     ]
    },
    {
     "data": {
      "text/html": [
       "<img src=\"2020-06-18_caustique/2020-06-18_caustique_sf_0*=0.250.gif\" width=\"1024\"/>"
      ],
      "text/plain": [
       "<IPython.core.display.Image object>"
      ]
     },
     "metadata": {},
     "output_type": "display_data"
    },
    {
     "name": "stdout",
     "output_type": "stream",
     "text": [
      "sf_0=sf_0(default)*0.354=7.071E-04\n"
     ]
    },
    {
     "data": {
      "text/html": [
       "<img src=\"2020-06-18_caustique/2020-06-18_caustique_sf_0*=0.354.gif\" width=\"1024\"/>"
      ],
      "text/plain": [
       "<IPython.core.display.Image object>"
      ]
     },
     "metadata": {},
     "output_type": "display_data"
    },
    {
     "name": "stdout",
     "output_type": "stream",
     "text": [
      "sf_0=sf_0(default)*0.500=1.000E-03\n"
     ]
    },
    {
     "data": {
      "text/html": [
       "<img src=\"2020-06-18_caustique/2020-06-18_caustique_sf_0*=0.500.gif\" width=\"1024\"/>"
      ],
      "text/plain": [
       "<IPython.core.display.Image object>"
      ]
     },
     "metadata": {},
     "output_type": "display_data"
    },
    {
     "name": "stdout",
     "output_type": "stream",
     "text": [
      "sf_0=sf_0(default)*0.707=1.414E-03\n"
     ]
    },
    {
     "data": {
      "text/html": [
       "<img src=\"2020-06-18_caustique/2020-06-18_caustique_sf_0*=0.707.gif\" width=\"1024\"/>"
      ],
      "text/plain": [
       "<IPython.core.display.Image object>"
      ]
     },
     "metadata": {},
     "output_type": "display_data"
    },
    {
     "name": "stdout",
     "output_type": "stream",
     "text": [
      "sf_0=sf_0(default)*1.000=2.000E-03\n"
     ]
    },
    {
     "data": {
      "text/html": [
       "<img src=\"2020-06-18_caustique/2020-06-18_caustique_sf_0*=1.000.gif\" width=\"1024\"/>"
      ],
      "text/plain": [
       "<IPython.core.display.Image object>"
      ]
     },
     "metadata": {},
     "output_type": "display_data"
    },
    {
     "name": "stdout",
     "output_type": "stream",
     "text": [
      "sf_0=sf_0(default)*1.414=2.828E-03\n"
     ]
    },
    {
     "data": {
      "text/html": [
       "<img src=\"2020-06-18_caustique/2020-06-18_caustique_sf_0*=1.414.gif\" width=\"1024\"/>"
      ],
      "text/plain": [
       "<IPython.core.display.Image object>"
      ]
     },
     "metadata": {},
     "output_type": "display_data"
    },
    {
     "name": "stdout",
     "output_type": "stream",
     "text": [
      "sf_0=sf_0(default)*2.000=4.000E-03\n"
     ]
    },
    {
     "data": {
      "text/html": [
       "<img src=\"2020-06-18_caustique/2020-06-18_caustique_sf_0*=2.000.gif\" width=\"1024\"/>"
      ],
      "text/plain": [
       "<IPython.core.display.Image object>"
      ]
     },
     "metadata": {},
     "output_type": "display_data"
    },
    {
     "name": "stdout",
     "output_type": "stream",
     "text": [
      "sf_0=sf_0(default)*2.828=5.657E-03\n"
     ]
    },
    {
     "data": {
      "text/html": [
       "<img src=\"2020-06-18_caustique/2020-06-18_caustique_sf_0*=2.828.gif\" width=\"1024\"/>"
      ],
      "text/plain": [
       "<IPython.core.display.Image object>"
      ]
     },
     "metadata": {},
     "output_type": "display_data"
    },
    {
     "name": "stdout",
     "output_type": "stream",
     "text": [
      "sf_0=sf_0(default)*4.000=8.000E-03\n"
     ]
    },
    {
     "data": {
      "text/html": [
       "<img src=\"2020-06-18_caustique/2020-06-18_caustique_sf_0*=4.000.gif\" width=\"1024\"/>"
      ],
      "text/plain": [
       "<IPython.core.display.Image object>"
      ]
     },
     "metadata": {},
     "output_type": "display_data"
    },
    {
     "name": "stdout",
     "output_type": "stream",
     "text": [
      "======B_sf======\n",
      "B_sf=B_sf(default)*0.250=2.500E-04\n"
     ]
    },
    {
     "data": {
      "text/html": [
       "<img src=\"2020-06-18_caustique/2020-06-18_caustique_B_sf*=0.250.gif\" width=\"1024\"/>"
      ],
      "text/plain": [
       "<IPython.core.display.Image object>"
      ]
     },
     "metadata": {},
     "output_type": "display_data"
    },
    {
     "name": "stdout",
     "output_type": "stream",
     "text": [
      "B_sf=B_sf(default)*0.354=3.536E-04\n"
     ]
    },
    {
     "data": {
      "text/html": [
       "<img src=\"2020-06-18_caustique/2020-06-18_caustique_B_sf*=0.354.gif\" width=\"1024\"/>"
      ],
      "text/plain": [
       "<IPython.core.display.Image object>"
      ]
     },
     "metadata": {},
     "output_type": "display_data"
    },
    {
     "name": "stdout",
     "output_type": "stream",
     "text": [
      "B_sf=B_sf(default)*0.500=5.000E-04\n"
     ]
    },
    {
     "data": {
      "text/html": [
       "<img src=\"2020-06-18_caustique/2020-06-18_caustique_B_sf*=0.500.gif\" width=\"1024\"/>"
      ],
      "text/plain": [
       "<IPython.core.display.Image object>"
      ]
     },
     "metadata": {},
     "output_type": "display_data"
    },
    {
     "name": "stdout",
     "output_type": "stream",
     "text": [
      "B_sf=B_sf(default)*0.707=7.071E-04\n"
     ]
    },
    {
     "data": {
      "text/html": [
       "<img src=\"2020-06-18_caustique/2020-06-18_caustique_B_sf*=0.707.gif\" width=\"1024\"/>"
      ],
      "text/plain": [
       "<IPython.core.display.Image object>"
      ]
     },
     "metadata": {},
     "output_type": "display_data"
    },
    {
     "name": "stdout",
     "output_type": "stream",
     "text": [
      "B_sf=B_sf(default)*1.000=1.000E-03\n"
     ]
    },
    {
     "data": {
      "text/html": [
       "<img src=\"2020-06-18_caustique/2020-06-18_caustique_B_sf*=1.000.gif\" width=\"1024\"/>"
      ],
      "text/plain": [
       "<IPython.core.display.Image object>"
      ]
     },
     "metadata": {},
     "output_type": "display_data"
    },
    {
     "name": "stdout",
     "output_type": "stream",
     "text": [
      "B_sf=B_sf(default)*1.414=1.414E-03\n"
     ]
    },
    {
     "data": {
      "text/html": [
       "<img src=\"2020-06-18_caustique/2020-06-18_caustique_B_sf*=1.414.gif\" width=\"1024\"/>"
      ],
      "text/plain": [
       "<IPython.core.display.Image object>"
      ]
     },
     "metadata": {},
     "output_type": "display_data"
    },
    {
     "name": "stdout",
     "output_type": "stream",
     "text": [
      "B_sf=B_sf(default)*2.000=2.000E-03\n"
     ]
    },
    {
     "data": {
      "text/html": [
       "<img src=\"2020-06-18_caustique/2020-06-18_caustique_B_sf*=2.000.gif\" width=\"1024\"/>"
      ],
      "text/plain": [
       "<IPython.core.display.Image object>"
      ]
     },
     "metadata": {},
     "output_type": "display_data"
    },
    {
     "name": "stdout",
     "output_type": "stream",
     "text": [
      "B_sf=B_sf(default)*2.828=2.828E-03\n"
     ]
    },
    {
     "data": {
      "text/html": [
       "<img src=\"2020-06-18_caustique/2020-06-18_caustique_B_sf*=2.828.gif\" width=\"1024\"/>"
      ],
      "text/plain": [
       "<IPython.core.display.Image object>"
      ]
     },
     "metadata": {},
     "output_type": "display_data"
    },
    {
     "name": "stdout",
     "output_type": "stream",
     "text": [
      "B_sf=B_sf(default)*4.000=4.000E-03\n"
     ]
    },
    {
     "data": {
      "text/html": [
       "<img src=\"2020-06-18_caustique/2020-06-18_caustique_B_sf*=4.000.gif\" width=\"1024\"/>"
      ],
      "text/plain": [
       "<IPython.core.display.Image object>"
      ]
     },
     "metadata": {},
     "output_type": "display_data"
    },
    {
     "name": "stdout",
     "output_type": "stream",
     "text": [
      "======B_theta======\n",
      "B_theta=B_theta(default)*0.250=6.545E-02\n"
     ]
    },
    {
     "data": {
      "text/html": [
       "<img src=\"2020-06-18_caustique/2020-06-18_caustique_B_theta*=0.250.gif\" width=\"1024\"/>"
      ],
      "text/plain": [
       "<IPython.core.display.Image object>"
      ]
     },
     "metadata": {},
     "output_type": "display_data"
    },
    {
     "name": "stdout",
     "output_type": "stream",
     "text": [
      "B_theta=B_theta(default)*0.354=9.256E-02\n"
     ]
    },
    {
     "data": {
      "text/html": [
       "<img src=\"2020-06-18_caustique/2020-06-18_caustique_B_theta*=0.354.gif\" width=\"1024\"/>"
      ],
      "text/plain": [
       "<IPython.core.display.Image object>"
      ]
     },
     "metadata": {},
     "output_type": "display_data"
    },
    {
     "name": "stdout",
     "output_type": "stream",
     "text": [
      "B_theta=B_theta(default)*0.500=1.309E-01\n"
     ]
    },
    {
     "data": {
      "text/html": [
       "<img src=\"2020-06-18_caustique/2020-06-18_caustique_B_theta*=0.500.gif\" width=\"1024\"/>"
      ],
      "text/plain": [
       "<IPython.core.display.Image object>"
      ]
     },
     "metadata": {},
     "output_type": "display_data"
    },
    {
     "name": "stdout",
     "output_type": "stream",
     "text": [
      "B_theta=B_theta(default)*0.707=1.851E-01\n"
     ]
    },
    {
     "data": {
      "text/html": [
       "<img src=\"2020-06-18_caustique/2020-06-18_caustique_B_theta*=0.707.gif\" width=\"1024\"/>"
      ],
      "text/plain": [
       "<IPython.core.display.Image object>"
      ]
     },
     "metadata": {},
     "output_type": "display_data"
    },
    {
     "name": "stdout",
     "output_type": "stream",
     "text": [
      "B_theta=B_theta(default)*1.000=2.618E-01\n"
     ]
    },
    {
     "data": {
      "text/html": [
       "<img src=\"2020-06-18_caustique/2020-06-18_caustique_B_theta*=1.000.gif\" width=\"1024\"/>"
      ],
      "text/plain": [
       "<IPython.core.display.Image object>"
      ]
     },
     "metadata": {},
     "output_type": "display_data"
    },
    {
     "name": "stdout",
     "output_type": "stream",
     "text": [
      "B_theta=B_theta(default)*1.414=3.702E-01\n"
     ]
    },
    {
     "data": {
      "text/html": [
       "<img src=\"2020-06-18_caustique/2020-06-18_caustique_B_theta*=1.414.gif\" width=\"1024\"/>"
      ],
      "text/plain": [
       "<IPython.core.display.Image object>"
      ]
     },
     "metadata": {},
     "output_type": "display_data"
    },
    {
     "name": "stdout",
     "output_type": "stream",
     "text": [
      "B_theta=B_theta(default)*2.000=5.236E-01\n"
     ]
    },
    {
     "data": {
      "text/html": [
       "<img src=\"2020-06-18_caustique/2020-06-18_caustique_B_theta*=2.000.gif\" width=\"1024\"/>"
      ],
      "text/plain": [
       "<IPython.core.display.Image object>"
      ]
     },
     "metadata": {},
     "output_type": "display_data"
    },
    {
     "name": "stdout",
     "output_type": "stream",
     "text": [
      "B_theta=B_theta(default)*2.828=7.405E-01\n"
     ]
    },
    {
     "data": {
      "text/html": [
       "<img src=\"2020-06-18_caustique/2020-06-18_caustique_B_theta*=2.828.gif\" width=\"1024\"/>"
      ],
      "text/plain": [
       "<IPython.core.display.Image object>"
      ]
     },
     "metadata": {},
     "output_type": "display_data"
    },
    {
     "name": "stdout",
     "output_type": "stream",
     "text": [
      "B_theta=B_theta(default)*4.000=1.047E+00\n"
     ]
    },
    {
     "data": {
      "text/html": [
       "<img src=\"2020-06-18_caustique/2020-06-18_caustique_B_theta*=4.000.gif\" width=\"1024\"/>"
      ],
      "text/plain": [
       "<IPython.core.display.Image object>"
      ]
     },
     "metadata": {},
     "output_type": "display_data"
    },
    {
     "name": "stdout",
     "output_type": "stream",
     "text": [
      "======B_V======\n",
      "B_V=B_V(default)*0.250=5.000E-01\n"
     ]
    },
    {
     "data": {
      "text/html": [
       "<img src=\"2020-06-18_caustique/2020-06-18_caustique_B_V*=0.250.gif\" width=\"1024\"/>"
      ],
      "text/plain": [
       "<IPython.core.display.Image object>"
      ]
     },
     "metadata": {},
     "output_type": "display_data"
    },
    {
     "name": "stdout",
     "output_type": "stream",
     "text": [
      "B_V=B_V(default)*0.354=7.071E-01\n"
     ]
    },
    {
     "data": {
      "text/html": [
       "<img src=\"2020-06-18_caustique/2020-06-18_caustique_B_V*=0.354.gif\" width=\"1024\"/>"
      ],
      "text/plain": [
       "<IPython.core.display.Image object>"
      ]
     },
     "metadata": {},
     "output_type": "display_data"
    },
    {
     "name": "stdout",
     "output_type": "stream",
     "text": [
      "B_V=B_V(default)*0.500=1.000E+00\n"
     ]
    },
    {
     "data": {
      "text/html": [
       "<img src=\"2020-06-18_caustique/2020-06-18_caustique_B_V*=0.500.gif\" width=\"1024\"/>"
      ],
      "text/plain": [
       "<IPython.core.display.Image object>"
      ]
     },
     "metadata": {},
     "output_type": "display_data"
    },
    {
     "name": "stdout",
     "output_type": "stream",
     "text": [
      "B_V=B_V(default)*0.707=1.414E+00\n"
     ]
    },
    {
     "data": {
      "text/html": [
       "<img src=\"2020-06-18_caustique/2020-06-18_caustique_B_V*=0.707.gif\" width=\"1024\"/>"
      ],
      "text/plain": [
       "<IPython.core.display.Image object>"
      ]
     },
     "metadata": {},
     "output_type": "display_data"
    },
    {
     "name": "stdout",
     "output_type": "stream",
     "text": [
      "B_V=B_V(default)*1.000=2.000E+00\n"
     ]
    },
    {
     "data": {
      "text/html": [
       "<img src=\"2020-06-18_caustique/2020-06-18_caustique_B_V*=1.000.gif\" width=\"1024\"/>"
      ],
      "text/plain": [
       "<IPython.core.display.Image object>"
      ]
     },
     "metadata": {},
     "output_type": "display_data"
    },
    {
     "name": "stdout",
     "output_type": "stream",
     "text": [
      "B_V=B_V(default)*1.414=2.828E+00\n"
     ]
    },
    {
     "data": {
      "text/html": [
       "<img src=\"2020-06-18_caustique/2020-06-18_caustique_B_V*=1.414.gif\" width=\"1024\"/>"
      ],
      "text/plain": [
       "<IPython.core.display.Image object>"
      ]
     },
     "metadata": {},
     "output_type": "display_data"
    },
    {
     "name": "stdout",
     "output_type": "stream",
     "text": [
      "B_V=B_V(default)*2.000=4.000E+00\n"
     ]
    },
    {
     "data": {
      "text/html": [
       "<img src=\"2020-06-18_caustique/2020-06-18_caustique_B_V*=2.000.gif\" width=\"1024\"/>"
      ],
      "text/plain": [
       "<IPython.core.display.Image object>"
      ]
     },
     "metadata": {},
     "output_type": "display_data"
    },
    {
     "name": "stdout",
     "output_type": "stream",
     "text": [
      "B_V=B_V(default)*2.828=5.657E+00\n"
     ]
    },
    {
     "data": {
      "text/html": [
       "<img src=\"2020-06-18_caustique/2020-06-18_caustique_B_V*=2.828.gif\" width=\"1024\"/>"
      ],
      "text/plain": [
       "<IPython.core.display.Image object>"
      ]
     },
     "metadata": {},
     "output_type": "display_data"
    },
    {
     "name": "stdout",
     "output_type": "stream",
     "text": [
      "B_V=B_V(default)*4.000=8.000E+00\n"
     ]
    },
    {
     "data": {
      "text/html": [
       "<img src=\"2020-06-18_caustique/2020-06-18_caustique_B_V*=4.000.gif\" width=\"1024\"/>"
      ],
      "text/plain": [
       "<IPython.core.display.Image object>"
      ]
     },
     "metadata": {},
     "output_type": "display_data"
    },
    {
     "name": "stdout",
     "output_type": "stream",
     "text": [
      "======V_X======\n",
      "V_X=V_X(default)*0.250=1.250E-01\n"
     ]
    },
    {
     "data": {
      "text/html": [
       "<img src=\"2020-06-18_caustique/2020-06-18_caustique_V_X*=0.250.gif\" width=\"1024\"/>"
      ],
      "text/plain": [
       "<IPython.core.display.Image object>"
      ]
     },
     "metadata": {},
     "output_type": "display_data"
    },
    {
     "name": "stdout",
     "output_type": "stream",
     "text": [
      "V_X=V_X(default)*0.354=1.768E-01\n"
     ]
    },
    {
     "data": {
      "text/html": [
       "<img src=\"2020-06-18_caustique/2020-06-18_caustique_V_X*=0.354.gif\" width=\"1024\"/>"
      ],
      "text/plain": [
       "<IPython.core.display.Image object>"
      ]
     },
     "metadata": {},
     "output_type": "display_data"
    },
    {
     "name": "stdout",
     "output_type": "stream",
     "text": [
      "V_X=V_X(default)*0.500=2.500E-01\n"
     ]
    },
    {
     "data": {
      "text/html": [
       "<img src=\"2020-06-18_caustique/2020-06-18_caustique_V_X*=0.500.gif\" width=\"1024\"/>"
      ],
      "text/plain": [
       "<IPython.core.display.Image object>"
      ]
     },
     "metadata": {},
     "output_type": "display_data"
    },
    {
     "name": "stdout",
     "output_type": "stream",
     "text": [
      "V_X=V_X(default)*0.707=3.536E-01\n"
     ]
    },
    {
     "data": {
      "text/html": [
       "<img src=\"2020-06-18_caustique/2020-06-18_caustique_V_X*=0.707.gif\" width=\"1024\"/>"
      ],
      "text/plain": [
       "<IPython.core.display.Image object>"
      ]
     },
     "metadata": {},
     "output_type": "display_data"
    },
    {
     "name": "stdout",
     "output_type": "stream",
     "text": [
      "V_X=V_X(default)*1.000=5.000E-01\n"
     ]
    },
    {
     "data": {
      "text/html": [
       "<img src=\"2020-06-18_caustique/2020-06-18_caustique_V_X*=1.000.gif\" width=\"1024\"/>"
      ],
      "text/plain": [
       "<IPython.core.display.Image object>"
      ]
     },
     "metadata": {},
     "output_type": "display_data"
    },
    {
     "name": "stdout",
     "output_type": "stream",
     "text": [
      "V_X=V_X(default)*1.414=7.071E-01\n"
     ]
    },
    {
     "data": {
      "text/html": [
       "<img src=\"2020-06-18_caustique/2020-06-18_caustique_V_X*=1.414.gif\" width=\"1024\"/>"
      ],
      "text/plain": [
       "<IPython.core.display.Image object>"
      ]
     },
     "metadata": {},
     "output_type": "display_data"
    },
    {
     "name": "stdout",
     "output_type": "stream",
     "text": [
      "V_X=V_X(default)*2.000=1.000E+00\n"
     ]
    },
    {
     "data": {
      "text/html": [
       "<img src=\"2020-06-18_caustique/2020-06-18_caustique_V_X*=2.000.gif\" width=\"1024\"/>"
      ],
      "text/plain": [
       "<IPython.core.display.Image object>"
      ]
     },
     "metadata": {},
     "output_type": "display_data"
    },
    {
     "name": "stdout",
     "output_type": "stream",
     "text": [
      "V_X=V_X(default)*2.828=1.414E+00\n"
     ]
    },
    {
     "data": {
      "text/html": [
       "<img src=\"2020-06-18_caustique/2020-06-18_caustique_V_X*=2.828.gif\" width=\"1024\"/>"
      ],
      "text/plain": [
       "<IPython.core.display.Image object>"
      ]
     },
     "metadata": {},
     "output_type": "display_data"
    },
    {
     "name": "stdout",
     "output_type": "stream",
     "text": [
      "V_X=V_X(default)*4.000=2.000E+00\n"
     ]
    },
    {
     "data": {
      "text/html": [
       "<img src=\"2020-06-18_caustique/2020-06-18_caustique_V_X*=4.000.gif\" width=\"1024\"/>"
      ],
      "text/plain": [
       "<IPython.core.display.Image object>"
      ]
     },
     "metadata": {},
     "output_type": "display_data"
    },
    {
     "name": "stdout",
     "output_type": "stream",
     "text": [
      "======V_Y======\n",
      "V_Y=V_Y(default)*0.250=0.000E+00\n"
     ]
    },
    {
     "data": {
      "text/html": [
       "<img src=\"2020-06-18_caustique/2020-06-18_caustique_V_Y*=0.250.gif\" width=\"1024\"/>"
      ],
      "text/plain": [
       "<IPython.core.display.Image object>"
      ]
     },
     "metadata": {},
     "output_type": "display_data"
    },
    {
     "name": "stdout",
     "output_type": "stream",
     "text": [
      "V_Y=V_Y(default)*0.354=0.000E+00\n"
     ]
    },
    {
     "data": {
      "text/html": [
       "<img src=\"2020-06-18_caustique/2020-06-18_caustique_V_Y*=0.354.gif\" width=\"1024\"/>"
      ],
      "text/plain": [
       "<IPython.core.display.Image object>"
      ]
     },
     "metadata": {},
     "output_type": "display_data"
    },
    {
     "name": "stdout",
     "output_type": "stream",
     "text": [
      "V_Y=V_Y(default)*0.500=0.000E+00\n"
     ]
    },
    {
     "data": {
      "text/html": [
       "<img src=\"2020-06-18_caustique/2020-06-18_caustique_V_Y*=0.500.gif\" width=\"1024\"/>"
      ],
      "text/plain": [
       "<IPython.core.display.Image object>"
      ]
     },
     "metadata": {},
     "output_type": "display_data"
    },
    {
     "name": "stdout",
     "output_type": "stream",
     "text": [
      "V_Y=V_Y(default)*0.707=0.000E+00\n"
     ]
    },
    {
     "data": {
      "text/html": [
       "<img src=\"2020-06-18_caustique/2020-06-18_caustique_V_Y*=0.707.gif\" width=\"1024\"/>"
      ],
      "text/plain": [
       "<IPython.core.display.Image object>"
      ]
     },
     "metadata": {},
     "output_type": "display_data"
    },
    {
     "name": "stdout",
     "output_type": "stream",
     "text": [
      "V_Y=V_Y(default)*1.000=0.000E+00\n"
     ]
    }
   ],
   "source": [
    "opt = init()\n",
    "\n",
    "for variable in ['sf_0', 'B_sf', 'B_theta', 'B_V', 'V_X', 'V_Y']:\n",
    "    print(f'======{variable}======')\n",
    "    for modul in np.logspace(-1, 1, N_scan, base=base):\n",
    "        opt = init()\n",
    "        opt.tag = tag\n",
    "        opt.bin_dens = 6\n",
    "\n",
    "        c = Caustique(opt)\n",
    "        c.d[variable] *= modul\n",
    "\n",
    "        print(f'{variable}={variable}(default)*{modul:.3f}={c.d[variable]:.3E}')\n",
    "        gifname = f'{opt.tag}/{opt.tag}_{variable}*={modul:.3f}.gif'\n",
    "        if not os.path.isfile(gifname):\n",
    "            z = c.wave()\n",
    "            mc.anim_save(z, f'{opt.tag}/{opt.tag}')\n",
    "            url=c.plot(z, gifname=gifname)\n",
    "        display(Image(url=gifname, width=width))"
   ]
  }
 ],
 "metadata": {
  "kernelspec": {
   "display_name": "Python 3",
   "language": "python",
   "name": "python3"
  },
  "language_info": {
   "codemirror_mode": {
    "name": "ipython",
    "version": 3
   },
   "file_extension": ".py",
   "mimetype": "text/x-python",
   "name": "python",
   "nbconvert_exporter": "python",
   "pygments_lexer": "ipython3",
   "version": "3.7.7"
  }
 },
 "nbformat": 4,
 "nbformat_minor": 4
}
