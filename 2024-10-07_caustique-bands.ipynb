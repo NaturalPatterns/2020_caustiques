{
 "cells": [
  {
   "cell_type": "markdown",
   "metadata": {},
   "source": [
    "# Caustics"
   ]
  },
  {
   "cell_type": "code",
   "execution_count": null,
   "metadata": {
    "execution": {
     "iopub.execute_input": "2024-10-15T15:38:01.293180Z",
     "iopub.status.busy": "2024-10-15T15:38:01.293088Z",
     "iopub.status.idle": "2024-10-15T15:38:01.295567Z",
     "shell.execute_reply": "2024-10-15T15:38:01.295325Z"
    }
   },
   "outputs": [
    {
     "name": "stdout",
     "output_type": "stream",
     "text": [
      "Requirement already satisfied: pip in ./.venv/lib/python3.13/site-packages (from -r requirements.txt (line 4)) (25.2)\n",
      "Requirement already satisfied: matplotlib in ./.venv/lib/python3.13/site-packages (from -r requirements.txt (line 5)) (3.10.6)\n",
      "Requirement already satisfied: numpy in ./.venv/lib/python3.13/site-packages (from -r requirements.txt (line 6)) (2.2.6)\n",
      "Collecting numpy (from -r requirements.txt (line 6))\n",
      "  Using cached numpy-2.3.3-cp313-cp313-manylinux_2_27_x86_64.manylinux_2_28_x86_64.whl.metadata (62 kB)\n",
      "Requirement already satisfied: scipy in ./.venv/lib/python3.13/site-packages (from -r requirements.txt (line 7)) (1.16.2)\n",
      "Requirement already satisfied: MotionClouds in ./.venv/lib/python3.13/site-packages (from -r requirements.txt (line 8)) (20220927)\n",
      "Requirement already satisfied: imageio in ./.venv/lib/python3.13/site-packages (from -r requirements.txt (line 9)) (2.37.0)\n",
      "Requirement already satisfied: opencv-python in ./.venv/lib/python3.13/site-packages (from -r requirements.txt (line 10)) (4.12.0.88)\n",
      "Requirement already satisfied: imageio-ffmpeg in ./.venv/lib/python3.13/site-packages (from -r requirements.txt (line 11)) (0.6.0)\n",
      "Requirement already satisfied: pygifsicle in ./.venv/lib/python3.13/site-packages (from -r requirements.txt (line 12)) (1.1.0)\n",
      "Requirement already satisfied: lambda2color in ./.venv/lib/python3.13/site-packages (from -r requirements.txt (line 13)) (0.7)\n",
      "Requirement already satisfied: tqdm in ./.venv/lib/python3.13/site-packages (from -r requirements.txt (line 14)) (4.67.1)\n",
      "Requirement already satisfied: jupyter in ./.venv/lib/python3.13/site-packages (from -r requirements.txt (line 15)) (1.1.1)\n",
      "Requirement already satisfied: ipywidgets in ./.venv/lib/python3.13/site-packages (from -r requirements.txt (line 16)) (8.1.7)\n",
      "Requirement already satisfied: nbconvert in ./.venv/lib/python3.13/site-packages (from -r requirements.txt (line 17)) (7.16.6)\n",
      "Requirement already satisfied: moviepy in ./.venv/lib/python3.13/site-packages (from -r requirements.txt (line 18)) (2.2.1)\n",
      "Requirement already satisfied: ipynbname in ./.venv/lib/python3.13/site-packages (from -r requirements.txt (line 19)) (2025.8.0.0)\n",
      "Requirement already satisfied: contourpy>=1.0.1 in ./.venv/lib/python3.13/site-packages (from matplotlib->-r requirements.txt (line 5)) (1.3.3)\n",
      "Requirement already satisfied: cycler>=0.10 in ./.venv/lib/python3.13/site-packages (from matplotlib->-r requirements.txt (line 5)) (0.12.1)\n",
      "Requirement already satisfied: fonttools>=4.22.0 in ./.venv/lib/python3.13/site-packages (from matplotlib->-r requirements.txt (line 5)) (4.60.0)\n",
      "Requirement already satisfied: kiwisolver>=1.3.1 in ./.venv/lib/python3.13/site-packages (from matplotlib->-r requirements.txt (line 5)) (1.4.9)\n",
      "Requirement already satisfied: packaging>=20.0 in ./.venv/lib/python3.13/site-packages (from matplotlib->-r requirements.txt (line 5)) (25.0)\n",
      "Requirement already satisfied: pillow>=8 in ./.venv/lib/python3.13/site-packages (from matplotlib->-r requirements.txt (line 5)) (11.3.0)\n",
      "Requirement already satisfied: pyparsing>=2.3.1 in ./.venv/lib/python3.13/site-packages (from matplotlib->-r requirements.txt (line 5)) (3.2.5)\n",
      "Requirement already satisfied: python-dateutil>=2.7 in ./.venv/lib/python3.13/site-packages (from matplotlib->-r requirements.txt (line 5)) (2.9.0.post0)\n",
      "Requirement already satisfied: notebook in ./.venv/lib/python3.13/site-packages (from jupyter->-r requirements.txt (line 15)) (7.4.7)\n",
      "Requirement already satisfied: jupyter-console in ./.venv/lib/python3.13/site-packages (from jupyter->-r requirements.txt (line 15)) (6.6.3)\n",
      "Requirement already satisfied: ipykernel in ./.venv/lib/python3.13/site-packages (from jupyter->-r requirements.txt (line 15)) (6.30.1)\n",
      "Requirement already satisfied: jupyterlab in ./.venv/lib/python3.13/site-packages (from jupyter->-r requirements.txt (line 15)) (4.4.9)\n",
      "Requirement already satisfied: comm>=0.1.3 in ./.venv/lib/python3.13/site-packages (from ipywidgets->-r requirements.txt (line 16)) (0.2.3)\n",
      "Requirement already satisfied: ipython>=6.1.0 in ./.venv/lib/python3.13/site-packages (from ipywidgets->-r requirements.txt (line 16)) (9.6.0)\n",
      "Requirement already satisfied: traitlets>=4.3.1 in ./.venv/lib/python3.13/site-packages (from ipywidgets->-r requirements.txt (line 16)) (5.14.3)\n",
      "Requirement already satisfied: widgetsnbextension~=4.0.14 in ./.venv/lib/python3.13/site-packages (from ipywidgets->-r requirements.txt (line 16)) (4.0.14)\n",
      "Requirement already satisfied: jupyterlab_widgets~=3.0.15 in ./.venv/lib/python3.13/site-packages (from ipywidgets->-r requirements.txt (line 16)) (3.0.15)\n",
      "Requirement already satisfied: beautifulsoup4 in ./.venv/lib/python3.13/site-packages (from nbconvert->-r requirements.txt (line 17)) (4.14.2)\n",
      "Requirement already satisfied: bleach!=5.0.0 in ./.venv/lib/python3.13/site-packages (from bleach[css]!=5.0.0->nbconvert->-r requirements.txt (line 17)) (6.2.0)\n",
      "Requirement already satisfied: defusedxml in ./.venv/lib/python3.13/site-packages (from nbconvert->-r requirements.txt (line 17)) (0.7.1)\n",
      "Requirement already satisfied: jinja2>=3.0 in ./.venv/lib/python3.13/site-packages (from nbconvert->-r requirements.txt (line 17)) (3.1.6)\n",
      "Requirement already satisfied: jupyter-core>=4.7 in ./.venv/lib/python3.13/site-packages (from nbconvert->-r requirements.txt (line 17)) (5.8.1)\n",
      "Requirement already satisfied: jupyterlab-pygments in ./.venv/lib/python3.13/site-packages (from nbconvert->-r requirements.txt (line 17)) (0.3.0)\n",
      "Requirement already satisfied: markupsafe>=2.0 in ./.venv/lib/python3.13/site-packages (from nbconvert->-r requirements.txt (line 17)) (3.0.3)\n",
      "Requirement already satisfied: mistune<4,>=2.0.3 in ./.venv/lib/python3.13/site-packages (from nbconvert->-r requirements.txt (line 17)) (3.1.4)\n",
      "Requirement already satisfied: nbclient>=0.5.0 in ./.venv/lib/python3.13/site-packages (from nbconvert->-r requirements.txt (line 17)) (0.10.2)\n",
      "Requirement already satisfied: nbformat>=5.7 in ./.venv/lib/python3.13/site-packages (from nbconvert->-r requirements.txt (line 17)) (5.10.4)\n",
      "Requirement already satisfied: pandocfilters>=1.4.1 in ./.venv/lib/python3.13/site-packages (from nbconvert->-r requirements.txt (line 17)) (1.5.1)\n",
      "Requirement already satisfied: pygments>=2.4.1 in ./.venv/lib/python3.13/site-packages (from nbconvert->-r requirements.txt (line 17)) (2.19.2)\n",
      "Requirement already satisfied: decorator<6.0,>=4.0.2 in ./.venv/lib/python3.13/site-packages (from moviepy->-r requirements.txt (line 18)) (5.2.1)\n",
      "Requirement already satisfied: proglog<=1.0.0 in ./.venv/lib/python3.13/site-packages (from moviepy->-r requirements.txt (line 18)) (0.1.12)\n",
      "Requirement already satisfied: python-dotenv>=0.10 in ./.venv/lib/python3.13/site-packages (from moviepy->-r requirements.txt (line 18)) (1.1.1)\n",
      "Requirement already satisfied: webencodings in ./.venv/lib/python3.13/site-packages (from bleach!=5.0.0->bleach[css]!=5.0.0->nbconvert->-r requirements.txt (line 17)) (0.5.1)\n",
      "Requirement already satisfied: tinycss2<1.5,>=1.1.0 in ./.venv/lib/python3.13/site-packages (from bleach[css]!=5.0.0->nbconvert->-r requirements.txt (line 17)) (1.4.0)\n",
      "Requirement already satisfied: ipython-pygments-lexers in ./.venv/lib/python3.13/site-packages (from ipython>=6.1.0->ipywidgets->-r requirements.txt (line 16)) (1.1.1)\n",
      "Requirement already satisfied: jedi>=0.16 in ./.venv/lib/python3.13/site-packages (from ipython>=6.1.0->ipywidgets->-r requirements.txt (line 16)) (0.19.2)\n",
      "Requirement already satisfied: matplotlib-inline in ./.venv/lib/python3.13/site-packages (from ipython>=6.1.0->ipywidgets->-r requirements.txt (line 16)) (0.1.7)\n",
      "Requirement already satisfied: pexpect>4.3 in ./.venv/lib/python3.13/site-packages (from ipython>=6.1.0->ipywidgets->-r requirements.txt (line 16)) (4.9.0)\n",
      "Requirement already satisfied: prompt_toolkit<3.1.0,>=3.0.41 in ./.venv/lib/python3.13/site-packages (from ipython>=6.1.0->ipywidgets->-r requirements.txt (line 16)) (3.0.52)\n",
      "Requirement already satisfied: stack_data in ./.venv/lib/python3.13/site-packages (from ipython>=6.1.0->ipywidgets->-r requirements.txt (line 16)) (0.6.3)\n",
      "Requirement already satisfied: wcwidth in ./.venv/lib/python3.13/site-packages (from prompt_toolkit<3.1.0,>=3.0.41->ipython>=6.1.0->ipywidgets->-r requirements.txt (line 16)) (0.2.14)\n",
      "Requirement already satisfied: parso<0.9.0,>=0.8.4 in ./.venv/lib/python3.13/site-packages (from jedi>=0.16->ipython>=6.1.0->ipywidgets->-r requirements.txt (line 16)) (0.8.5)\n",
      "Requirement already satisfied: platformdirs>=2.5 in ./.venv/lib/python3.13/site-packages (from jupyter-core>=4.7->nbconvert->-r requirements.txt (line 17)) (4.4.0)\n",
      "Requirement already satisfied: jupyter-client>=6.1.12 in ./.venv/lib/python3.13/site-packages (from nbclient>=0.5.0->nbconvert->-r requirements.txt (line 17)) (8.6.3)\n",
      "Requirement already satisfied: pyzmq>=23.0 in ./.venv/lib/python3.13/site-packages (from jupyter-client>=6.1.12->nbclient>=0.5.0->nbconvert->-r requirements.txt (line 17)) (27.1.0)\n",
      "Requirement already satisfied: tornado>=6.2 in ./.venv/lib/python3.13/site-packages (from jupyter-client>=6.1.12->nbclient>=0.5.0->nbconvert->-r requirements.txt (line 17)) (6.5.2)\n",
      "Requirement already satisfied: fastjsonschema>=2.15 in ./.venv/lib/python3.13/site-packages (from nbformat>=5.7->nbconvert->-r requirements.txt (line 17)) (2.21.2)\n",
      "Requirement already satisfied: jsonschema>=2.6 in ./.venv/lib/python3.13/site-packages (from nbformat>=5.7->nbconvert->-r requirements.txt (line 17)) (4.25.1)\n",
      "Requirement already satisfied: attrs>=22.2.0 in ./.venv/lib/python3.13/site-packages (from jsonschema>=2.6->nbformat>=5.7->nbconvert->-r requirements.txt (line 17)) (25.3.0)\n",
      "Requirement already satisfied: jsonschema-specifications>=2023.03.6 in ./.venv/lib/python3.13/site-packages (from jsonschema>=2.6->nbformat>=5.7->nbconvert->-r requirements.txt (line 17)) (2025.9.1)\n",
      "Requirement already satisfied: referencing>=0.28.4 in ./.venv/lib/python3.13/site-packages (from jsonschema>=2.6->nbformat>=5.7->nbconvert->-r requirements.txt (line 17)) (0.36.2)\n",
      "Requirement already satisfied: rpds-py>=0.7.1 in ./.venv/lib/python3.13/site-packages (from jsonschema>=2.6->nbformat>=5.7->nbconvert->-r requirements.txt (line 17)) (0.27.1)\n",
      "Requirement already satisfied: ptyprocess>=0.5 in ./.venv/lib/python3.13/site-packages (from pexpect>4.3->ipython>=6.1.0->ipywidgets->-r requirements.txt (line 16)) (0.7.0)\n",
      "Requirement already satisfied: six>=1.5 in ./.venv/lib/python3.13/site-packages (from python-dateutil>=2.7->matplotlib->-r requirements.txt (line 5)) (1.17.0)\n",
      "Requirement already satisfied: soupsieve>1.2 in ./.venv/lib/python3.13/site-packages (from beautifulsoup4->nbconvert->-r requirements.txt (line 17)) (2.8)\n",
      "Requirement already satisfied: typing-extensions>=4.0.0 in ./.venv/lib/python3.13/site-packages (from beautifulsoup4->nbconvert->-r requirements.txt (line 17)) (4.15.0)\n",
      "Requirement already satisfied: debugpy>=1.6.5 in ./.venv/lib/python3.13/site-packages (from ipykernel->jupyter->-r requirements.txt (line 15)) (1.8.17)\n",
      "Requirement already satisfied: nest-asyncio>=1.4 in ./.venv/lib/python3.13/site-packages (from ipykernel->jupyter->-r requirements.txt (line 15)) (1.6.0)\n",
      "Requirement already satisfied: psutil>=5.7 in ./.venv/lib/python3.13/site-packages (from ipykernel->jupyter->-r requirements.txt (line 15)) (7.1.0)\n",
      "Requirement already satisfied: async-lru>=1.0.0 in ./.venv/lib/python3.13/site-packages (from jupyterlab->jupyter->-r requirements.txt (line 15)) (2.0.5)\n",
      "Requirement already satisfied: httpx<1,>=0.25.0 in ./.venv/lib/python3.13/site-packages (from jupyterlab->jupyter->-r requirements.txt (line 15)) (0.28.1)\n",
      "Requirement already satisfied: jupyter-lsp>=2.0.0 in ./.venv/lib/python3.13/site-packages (from jupyterlab->jupyter->-r requirements.txt (line 15)) (2.3.0)\n",
      "Requirement already satisfied: jupyter-server<3,>=2.4.0 in ./.venv/lib/python3.13/site-packages (from jupyterlab->jupyter->-r requirements.txt (line 15)) (2.17.0)\n",
      "Requirement already satisfied: jupyterlab-server<3,>=2.27.1 in ./.venv/lib/python3.13/site-packages (from jupyterlab->jupyter->-r requirements.txt (line 15)) (2.27.3)\n",
      "Requirement already satisfied: notebook-shim>=0.2 in ./.venv/lib/python3.13/site-packages (from jupyterlab->jupyter->-r requirements.txt (line 15)) (0.2.4)\n",
      "Requirement already satisfied: setuptools>=41.1.0 in ./.venv/lib/python3.13/site-packages (from jupyterlab->jupyter->-r requirements.txt (line 15)) (80.9.0)\n",
      "Requirement already satisfied: anyio in ./.venv/lib/python3.13/site-packages (from httpx<1,>=0.25.0->jupyterlab->jupyter->-r requirements.txt (line 15)) (4.11.0)\n",
      "Requirement already satisfied: certifi in ./.venv/lib/python3.13/site-packages (from httpx<1,>=0.25.0->jupyterlab->jupyter->-r requirements.txt (line 15)) (2025.8.3)\n",
      "Requirement already satisfied: httpcore==1.* in ./.venv/lib/python3.13/site-packages (from httpx<1,>=0.25.0->jupyterlab->jupyter->-r requirements.txt (line 15)) (1.0.9)\n",
      "Requirement already satisfied: idna in ./.venv/lib/python3.13/site-packages (from httpx<1,>=0.25.0->jupyterlab->jupyter->-r requirements.txt (line 15)) (3.10)\n",
      "Requirement already satisfied: h11>=0.16 in ./.venv/lib/python3.13/site-packages (from httpcore==1.*->httpx<1,>=0.25.0->jupyterlab->jupyter->-r requirements.txt (line 15)) (0.16.0)\n",
      "Requirement already satisfied: argon2-cffi>=21.1 in ./.venv/lib/python3.13/site-packages (from jupyter-server<3,>=2.4.0->jupyterlab->jupyter->-r requirements.txt (line 15)) (25.1.0)\n",
      "Requirement already satisfied: jupyter-events>=0.11.0 in ./.venv/lib/python3.13/site-packages (from jupyter-server<3,>=2.4.0->jupyterlab->jupyter->-r requirements.txt (line 15)) (0.12.0)\n",
      "Requirement already satisfied: jupyter-server-terminals>=0.4.4 in ./.venv/lib/python3.13/site-packages (from jupyter-server<3,>=2.4.0->jupyterlab->jupyter->-r requirements.txt (line 15)) (0.5.3)\n",
      "Requirement already satisfied: prometheus-client>=0.9 in ./.venv/lib/python3.13/site-packages (from jupyter-server<3,>=2.4.0->jupyterlab->jupyter->-r requirements.txt (line 15)) (0.23.1)\n",
      "Requirement already satisfied: send2trash>=1.8.2 in ./.venv/lib/python3.13/site-packages (from jupyter-server<3,>=2.4.0->jupyterlab->jupyter->-r requirements.txt (line 15)) (1.8.3)\n",
      "Requirement already satisfied: terminado>=0.8.3 in ./.venv/lib/python3.13/site-packages (from jupyter-server<3,>=2.4.0->jupyterlab->jupyter->-r requirements.txt (line 15)) (0.18.1)\n",
      "Requirement already satisfied: websocket-client>=1.7 in ./.venv/lib/python3.13/site-packages (from jupyter-server<3,>=2.4.0->jupyterlab->jupyter->-r requirements.txt (line 15)) (1.8.0)\n",
      "Requirement already satisfied: babel>=2.10 in ./.venv/lib/python3.13/site-packages (from jupyterlab-server<3,>=2.27.1->jupyterlab->jupyter->-r requirements.txt (line 15)) (2.17.0)\n",
      "Requirement already satisfied: json5>=0.9.0 in ./.venv/lib/python3.13/site-packages (from jupyterlab-server<3,>=2.27.1->jupyterlab->jupyter->-r requirements.txt (line 15)) (0.12.1)\n",
      "Requirement already satisfied: requests>=2.31 in ./.venv/lib/python3.13/site-packages (from jupyterlab-server<3,>=2.27.1->jupyterlab->jupyter->-r requirements.txt (line 15)) (2.32.5)\n",
      "Requirement already satisfied: sniffio>=1.1 in ./.venv/lib/python3.13/site-packages (from anyio->httpx<1,>=0.25.0->jupyterlab->jupyter->-r requirements.txt (line 15)) (1.3.1)\n",
      "Requirement already satisfied: argon2-cffi-bindings in ./.venv/lib/python3.13/site-packages (from argon2-cffi>=21.1->jupyter-server<3,>=2.4.0->jupyterlab->jupyter->-r requirements.txt (line 15)) (25.1.0)\n",
      "Requirement already satisfied: python-json-logger>=2.0.4 in ./.venv/lib/python3.13/site-packages (from jupyter-events>=0.11.0->jupyter-server<3,>=2.4.0->jupyterlab->jupyter->-r requirements.txt (line 15)) (3.3.0)\n",
      "Requirement already satisfied: pyyaml>=5.3 in ./.venv/lib/python3.13/site-packages (from jupyter-events>=0.11.0->jupyter-server<3,>=2.4.0->jupyterlab->jupyter->-r requirements.txt (line 15)) (6.0.3)\n",
      "Requirement already satisfied: rfc3339-validator in ./.venv/lib/python3.13/site-packages (from jupyter-events>=0.11.0->jupyter-server<3,>=2.4.0->jupyterlab->jupyter->-r requirements.txt (line 15)) (0.1.4)\n",
      "Requirement already satisfied: rfc3986-validator>=0.1.1 in ./.venv/lib/python3.13/site-packages (from jupyter-events>=0.11.0->jupyter-server<3,>=2.4.0->jupyterlab->jupyter->-r requirements.txt (line 15)) (0.1.1)\n",
      "Requirement already satisfied: fqdn in ./.venv/lib/python3.13/site-packages (from jsonschema[format-nongpl]>=4.18.0->jupyter-events>=0.11.0->jupyter-server<3,>=2.4.0->jupyterlab->jupyter->-r requirements.txt (line 15)) (1.5.1)\n",
      "Requirement already satisfied: isoduration in ./.venv/lib/python3.13/site-packages (from jsonschema[format-nongpl]>=4.18.0->jupyter-events>=0.11.0->jupyter-server<3,>=2.4.0->jupyterlab->jupyter->-r requirements.txt (line 15)) (20.11.0)\n",
      "Requirement already satisfied: jsonpointer>1.13 in ./.venv/lib/python3.13/site-packages (from jsonschema[format-nongpl]>=4.18.0->jupyter-events>=0.11.0->jupyter-server<3,>=2.4.0->jupyterlab->jupyter->-r requirements.txt (line 15)) (3.0.0)\n",
      "Requirement already satisfied: rfc3987-syntax>=1.1.0 in ./.venv/lib/python3.13/site-packages (from jsonschema[format-nongpl]>=4.18.0->jupyter-events>=0.11.0->jupyter-server<3,>=2.4.0->jupyterlab->jupyter->-r requirements.txt (line 15)) (1.1.0)\n",
      "Requirement already satisfied: uri-template in ./.venv/lib/python3.13/site-packages (from jsonschema[format-nongpl]>=4.18.0->jupyter-events>=0.11.0->jupyter-server<3,>=2.4.0->jupyterlab->jupyter->-r requirements.txt (line 15)) (1.3.0)\n",
      "Requirement already satisfied: webcolors>=24.6.0 in ./.venv/lib/python3.13/site-packages (from jsonschema[format-nongpl]>=4.18.0->jupyter-events>=0.11.0->jupyter-server<3,>=2.4.0->jupyterlab->jupyter->-r requirements.txt (line 15)) (24.11.1)\n",
      "Requirement already satisfied: charset_normalizer<4,>=2 in ./.venv/lib/python3.13/site-packages (from requests>=2.31->jupyterlab-server<3,>=2.27.1->jupyterlab->jupyter->-r requirements.txt (line 15)) (3.4.3)\n",
      "Requirement already satisfied: urllib3<3,>=1.21.1 in ./.venv/lib/python3.13/site-packages (from requests>=2.31->jupyterlab-server<3,>=2.27.1->jupyterlab->jupyter->-r requirements.txt (line 15)) (2.5.0)\n",
      "Requirement already satisfied: lark>=1.2.2 in ./.venv/lib/python3.13/site-packages (from rfc3987-syntax>=1.1.0->jsonschema[format-nongpl]>=4.18.0->jupyter-events>=0.11.0->jupyter-server<3,>=2.4.0->jupyterlab->jupyter->-r requirements.txt (line 15)) (1.3.0)\n",
      "Requirement already satisfied: cffi>=1.0.1 in ./.venv/lib/python3.13/site-packages (from argon2-cffi-bindings->argon2-cffi>=21.1->jupyter-server<3,>=2.4.0->jupyterlab->jupyter->-r requirements.txt (line 15)) (2.0.0)\n",
      "Requirement already satisfied: pycparser in ./.venv/lib/python3.13/site-packages (from cffi>=1.0.1->argon2-cffi-bindings->argon2-cffi>=21.1->jupyter-server<3,>=2.4.0->jupyterlab->jupyter->-r requirements.txt (line 15)) (2.23)\n",
      "Requirement already satisfied: arrow>=0.15.0 in ./.venv/lib/python3.13/site-packages (from isoduration->jsonschema[format-nongpl]>=4.18.0->jupyter-events>=0.11.0->jupyter-server<3,>=2.4.0->jupyterlab->jupyter->-r requirements.txt (line 15)) (1.3.0)\n",
      "Requirement already satisfied: types-python-dateutil>=2.8.10 in ./.venv/lib/python3.13/site-packages (from arrow>=0.15.0->isoduration->jsonschema[format-nongpl]>=4.18.0->jupyter-events>=0.11.0->jupyter-server<3,>=2.4.0->jupyterlab->jupyter->-r requirements.txt (line 15)) (2.9.0.20250822)\n",
      "Requirement already satisfied: executing>=1.2.0 in ./.venv/lib/python3.13/site-packages (from stack_data->ipython>=6.1.0->ipywidgets->-r requirements.txt (line 16)) (2.2.1)\n",
      "Requirement already satisfied: asttokens>=2.1.0 in ./.venv/lib/python3.13/site-packages (from stack_data->ipython>=6.1.0->ipywidgets->-r requirements.txt (line 16)) (3.0.0)\n",
      "Requirement already satisfied: pure-eval in ./.venv/lib/python3.13/site-packages (from stack_data->ipython>=6.1.0->ipywidgets->-r requirements.txt (line 16)) (0.2.3)\n",
      "Note: you may need to restart the kernel to use updated packages.\n"
     ]
    }
   ],
   "source": [
    "# %pip install -U -r requirements.txt"
   ]
  },
  {
   "cell_type": "code",
   "execution_count": 2,
   "metadata": {
    "execution": {
     "iopub.execute_input": "2024-10-15T15:38:01.296923Z",
     "iopub.status.busy": "2024-10-15T15:38:01.296830Z",
     "iopub.status.idle": "2024-10-15T15:38:01.614055Z",
     "shell.execute_reply": "2024-10-15T15:38:01.613777Z"
    }
   },
   "outputs": [],
   "source": [
    "import matplotlib\n",
    "matplotlib.__version__\n",
    "import matplotlib.gridspec as gs\n",
    "\n",
    "import numpy as np\n"
   ]
  },
  {
   "cell_type": "code",
   "execution_count": 3,
   "metadata": {
    "execution": {
     "iopub.execute_input": "2024-10-15T15:38:01.615708Z",
     "iopub.status.busy": "2024-10-15T15:38:01.615588Z",
     "iopub.status.idle": "2024-10-15T15:38:01.701968Z",
     "shell.execute_reply": "2024-10-15T15:38:01.701730Z"
    }
   },
   "outputs": [
    {
     "data": {
      "text/plain": [
       "'2024-10-07_caustique-bands'"
      ]
     },
     "execution_count": 3,
     "metadata": {},
     "output_type": "execute_result"
    }
   ],
   "source": [
    "import os \n",
    "from IPython import get_ipython\n",
    "ip = get_ipython()\n",
    "# print(ip.user_ns)\n",
    "study_name = None\n",
    "if '__vsc_ipynb_file__' in ip.user_ns:\n",
    "    # https://github.com/msm1089/ipynbname/issues/17\n",
    "    study_name = os.path.split(os.path.basename(ip.user_ns['__vsc_ipynb_file__']))[1]\n",
    "elif '__file__' in ip.user_ns:\n",
    "    study_name = ip.user_ns['__file__']\n",
    "else:\n",
    "    import ipynbname\n",
    "    study_name = ipynbname.name()\n",
    "study_name = study_name.replace('.ipynb', '')\n",
    "study_name"
   ]
  },
  {
   "cell_type": "code",
   "execution_count": 4,
   "metadata": {
    "execution": {
     "iopub.execute_input": "2024-10-15T15:38:01.720808Z",
     "iopub.status.busy": "2024-10-15T15:38:01.720684Z",
     "iopub.status.idle": "2024-10-15T15:38:01.843538Z",
     "shell.execute_reply": "2024-10-15T15:38:01.843277Z"
    }
   },
   "outputs": [],
   "source": [
    "import os\n",
    "import numpy as np\n",
    "# import imageio\n",
    "import cv2\n",
    "\n",
    "# the higher PRECISION, the bigger the file\n",
    "PRECISION = 4  # debugging\n",
    "PRECISION = 10 # medium quality\n",
    "PRECISION = 12 # good quality\n",
    "# PRECISION = 14 # very good quality\n",
    "# PRECISION = 15 # for production\n",
    "\n",
    "# https://docs.python.org/3/library/dataclasses.html?highlight=dataclass#module-dataclasses\n",
    "from dataclasses import dataclass\n",
    "\n",
    "@dataclass\n",
    "class init:\n",
    "    figpath: str = study_name # Folder to store images\n",
    "    # phi: float = 1.61803 # beauty is gold\n",
    "    tag: str = 'caustique' # Tag\n",
    "    ext: str = 'png' # Extension for output\n",
    "    nx: int = 13*2**PRECISION # number of pixels (vertical)\n",
    "    ny: int = 1*2**PRECISION # number of pixels (horizontal)\n",
    "    nframe: int = 1 # number of frames\n",
    "    bin_dens: int = 2 # relative bin density\n",
    "    bin_spectrum: int = 1 # bin spacing in spectrum (lower is more CPU)\n",
    "    seed: int = 2024 # seed for RNG\n",
    "    H: float = 20.0 # depth of the pool\n",
    "    variation: float = .20 # variation of diffraction index: http://www.philiplaven.com/p20.html 1.40 at 400 nm and 1.37 at 700nm makes a 2% variation\n",
    "    scale: float = .95*2**PRECISION # period in pixels\n",
    "    B_sf: float = 1.00 # bandwidth in sf\n",
    "    V_Y: float = 0.3 # horizontal speed\n",
    "    V_X: float = 0.3 # vertical speed\n",
    "    B_V: float = 1.0 # bandwidth in speed\n",
    "    zmin: float = 0.10 # relative minimal value of wave height at the top to generate a gradient (set to 1. to have no gradient)\n",
    "    # theta: float = 2*np.pi*(2-1.61803) # angle with the horizontal\n",
    "    theta: float = np.pi/2 # angle with the horizontal\n",
    "    B_theta: float = 60*np.pi/180 # bandwidth in theta\n",
    "    min_lum: float = .01 # global diffusion level for the rendering giving the pedestal value\n",
    "    n_bits: int = 16 # bits to save images\n",
    "    gamma: float = 3. # Gamma exponant to convert luminosity to luminance\n",
    "    fps: float = 18 # frames per second\n",
    "    multispectral: bool = True # Compute caustics on the full spectrogram.\n",
    "    do_cache: bool = True # Cache intermediate output.\n",
    "    verbose: bool = False # Displays more verbose output.\n",
    "    do_display: bool = False # Displays images in notebook.\n",
    "    do_recompute: bool = False # Restart each computation    "
   ]
  },
  {
   "cell_type": "code",
   "execution_count": 5,
   "metadata": {
    "execution": {
     "iopub.execute_input": "2024-10-15T15:38:01.845156Z",
     "iopub.status.busy": "2024-10-15T15:38:01.845063Z",
     "iopub.status.idle": "2024-10-15T15:38:01.846870Z",
     "shell.execute_reply": "2024-10-15T15:38:01.846665Z"
    }
   },
   "outputs": [
    {
     "name": "stdout",
     "output_type": "stream",
     "text": [
      "Saving our simulations in=2024-10-07_caustique-bands\n"
     ]
    }
   ],
   "source": [
    "opt = init()\n",
    "print(f'Saving our simulations in={opt.figpath}')"
   ]
  },
  {
   "cell_type": "code",
   "execution_count": 6,
   "metadata": {
    "execution": {
     "iopub.execute_input": "2024-10-15T15:38:01.848069Z",
     "iopub.status.busy": "2024-10-15T15:38:01.847985Z",
     "iopub.status.idle": "2024-10-15T15:38:01.849424Z",
     "shell.execute_reply": "2024-10-15T15:38:01.849187Z"
    }
   },
   "outputs": [],
   "source": [
    "# if opt.nframe==1: opt.ext = 'png'"
   ]
  },
  {
   "cell_type": "code",
   "execution_count": 7,
   "metadata": {
    "execution": {
     "iopub.execute_input": "2024-10-15T15:38:01.850586Z",
     "iopub.status.busy": "2024-10-15T15:38:01.850504Z",
     "iopub.status.idle": "2024-10-15T15:38:01.852189Z",
     "shell.execute_reply": "2024-10-15T15:38:01.851988Z"
    },
    "tags": []
   },
   "outputs": [
    {
     "name": "stdout",
     "output_type": "stream",
     "text": [
      "init(figpath='2024-10-07_caustique-bands',\n",
      "     tag='caustique',\n",
      "     ext='png',\n",
      "     nx=53248,\n",
      "     ny=4096,\n",
      "     nframe=1,\n",
      "     bin_dens=2,\n",
      "     bin_spectrum=1,\n",
      "     seed=2024,\n",
      "     H=20.0,\n",
      "     variation=0.2,\n",
      "     scale=3891.2,\n",
      "     B_sf=1.0,\n",
      "     V_Y=0.3,\n",
      "     V_X=0.3,\n",
      "     B_V=1.0,\n",
      "     zmin=0.1,\n",
      "     theta=1.5707963267948966,\n",
      "     B_theta=1.0471975511965976,\n",
      "     min_lum=0.01,\n",
      "     n_bits=16,\n",
      "     gamma=3.0,\n",
      "     fps=18,\n",
      "     multispectral=True,\n",
      "     do_cache=True,\n",
      "     verbose=False,\n",
      "     do_display=False,\n",
      "     do_recompute=False)\n"
     ]
    }
   ],
   "source": [
    "from pprint import pprint\n",
    "pprint(opt)"
   ]
  },
  {
   "cell_type": "code",
   "execution_count": 8,
   "metadata": {
    "execution": {
     "iopub.execute_input": "2024-10-15T15:38:01.853331Z",
     "iopub.status.busy": "2024-10-15T15:38:01.853245Z",
     "iopub.status.idle": "2024-10-15T15:38:01.854881Z",
     "shell.execute_reply": "2024-10-15T15:38:01.854661Z"
    }
   },
   "outputs": [
    {
     "name": "stdout",
     "output_type": "stream",
     "text": [
      "Screen size=100cm=39.370in, dpi=676dpi\n"
     ]
    }
   ],
   "source": [
    "screen_size_cm = 100 # cm\n",
    "cm_by_inch = 2.54\n",
    "screen_size_in = screen_size_cm/cm_by_inch\n",
    "dpi = (opt.nx // opt.bin_dens) / screen_size_in\n",
    "print(f'Screen size={screen_size_cm}cm={screen_size_in:.3f}in, dpi={dpi:.0f}dpi')"
   ]
  },
  {
   "cell_type": "markdown",
   "metadata": {},
   "source": [
    "## utilities\n",
    "\n",
    "Transfoming a sequence of PNG frames into gif or mp4:"
   ]
  },
  {
   "cell_type": "code",
   "execution_count": 9,
   "metadata": {
    "execution": {
     "iopub.execute_input": "2024-10-15T15:38:01.856397Z",
     "iopub.status.busy": "2024-10-15T15:38:01.856293Z",
     "iopub.status.idle": "2024-10-15T15:38:01.858624Z",
     "shell.execute_reply": "2024-10-15T15:38:01.858406Z"
    }
   },
   "outputs": [],
   "source": [
    "def make_gif(gifname, fnames, fps, do_delete=True):\n",
    "    with imageio.get_writer(gifname, mode='I', fps=fps) as writer:\n",
    "        for fname in fnames:\n",
    "            writer.append_data(imageio.imread(fname))\n",
    "\n",
    "    from pygifsicle import optimize\n",
    "    optimize(str(gifname))\n",
    "    if do_delete: \n",
    "        for fname in fnames: os.remove(fname)\n",
    "    return gifname\n",
    "\n",
    "# https://moviepy.readthedocs.io/en/latest/getting_started/videoclips.html#imagesequenceclip\n",
    "def make_mp4(mp4name, fnames, fps, do_delete=True):\n",
    "    import moviepy.editor as mpy\n",
    "    clip = mpy.ImageSequenceClip(fnames, fps=fps)\n",
    "    clip.write_videofile(mp4name, fps=fps, codec='libx264', verbose=False, logger=None)\n",
    "    if do_delete: \n",
    "        for fname in fnames: os.remove(fname)\n",
    "    return mp4name"
   ]
  },
  {
   "cell_type": "markdown",
   "metadata": {},
   "source": [
    "\n",
    "Utilities to compute the spectrum of the blue sky and convert them later to RGB values (check out https://laurentperrinet.github.io/sciblog/posts/2020-07-04-colors-of-the-sky.html for details)"
   ]
  },
  {
   "cell_type": "code",
   "execution_count": 10,
   "metadata": {
    "execution": {
     "iopub.execute_input": "2024-10-15T15:38:01.859909Z",
     "iopub.status.busy": "2024-10-15T15:38:01.859820Z",
     "iopub.status.idle": "2024-10-15T15:38:01.862863Z",
     "shell.execute_reply": "2024-10-15T15:38:01.862658Z"
    }
   },
   "outputs": [],
   "source": [
    "from lambda2color import Lambda2color, xyz_from_xy\n",
    "\n",
    "# borrowed from https://github.com/gummiks/gummiks.github.io/blob/master/scripts/astro/planck.py\n",
    "def planck(wav, T):\n",
    "    import scipy.constants as const\n",
    "    c = const.c # c = 3.0e+8\n",
    "    h = const.h # h = 6.626e-34\n",
    "    k = const.k # k = 1.38e-23\n",
    "    a = 2.0*h*c**2\n",
    "    b = h*c/(wav*k*T)\n",
    "    intensity = a / ( (wav**5) * (np.exp(b) - 1.0) )\n",
    "    return intensity\n",
    "\n",
    "def scattering(wav, a=0.005, p=1.3, b=0.45):\n",
    "    \"\"\"\n",
    "    b is  proportionate  to  the  column  density  of  aerosols\n",
    "    along  the  path  of  sunlight,  from  outside  the  atmosphere\n",
    "    to  the  point  of  observation\n",
    "    \n",
    "    see https://laurentperrinet.github.io/sciblog/posts/2020-07-04-colors-of-the-sky.html for more details\n",
    "\n",
    "    \"\"\"\n",
    "    # converting wav in µm:\n",
    "    intensity = np.exp(-a/((wav/1e-6)**4)) # Rayleigh extinction by nitrogen\n",
    "    intensity *= (wav/1e-6)**-4\n",
    "    intensity *= np.exp(-b/((wav/1e-6)**p)) # Aerosols\n",
    "    return intensity"
   ]
  },
  {
   "cell_type": "markdown",
   "metadata": {},
   "source": [
    "## computing the caustics"
   ]
  },
  {
   "cell_type": "code",
   "execution_count": 11,
   "metadata": {
    "execution": {
     "iopub.execute_input": "2024-10-15T15:38:01.864281Z",
     "iopub.status.busy": "2024-10-15T15:38:01.864195Z",
     "iopub.status.idle": "2024-10-15T15:38:02.030931Z",
     "shell.execute_reply": "2024-10-15T15:38:02.030589Z"
    }
   },
   "outputs": [
    {
     "name": "stderr",
     "output_type": "stream",
     "text": [
      "<>:198: SyntaxWarning: invalid escape sequence '\\>'\n",
      "<>:198: SyntaxWarning: invalid escape sequence '\\>'\n",
      "/tmp/ipykernel_24067/4028701564.py:198: SyntaxWarning: invalid escape sequence '\\>'\n",
      "  html = HTML(f'<video {opts} src=\"{output_filename}\" type=\"video/{self.opt.ext}\" width={width}\\>')\n"
     ]
    }
   ],
   "source": [
    "import matplotlib\n",
    "subplotpars = matplotlib.gridspec.SubplotParams(left=0., right=1., bottom=0., top=1., wspace=0., hspace=0.,)\n",
    "import matplotlib.pyplot as plt\n",
    "from tqdm import tqdm, trange\n",
    "import shutil\n",
    "import hashlib\n",
    "import MotionClouds as mc\n",
    "\n",
    "class Caustique:\n",
    "    def __init__(self, opt):\n",
    "        \"\"\"\n",
    "        Image coordinates follow 'ij' indexing, that is,\n",
    "        * their origin at the top left,\n",
    "        * the X axis is vertical and goes \"down\",\n",
    "        * the Y axis is horizontal and goes \"right\".\n",
    "\n",
    "        \"\"\"\n",
    "        self.mc = mc\n",
    "        self.ratio = opt.ny/opt.nx # ratio between height and width (>1 for portrait, <1 for landscape)\n",
    "        X = np.linspace(0, 1, opt.nx, endpoint=False) # vertical\n",
    "        Y = np.linspace(0, self.ratio, opt.ny, endpoint=False) # horizontal\n",
    "        self.xv, self.yv = np.meshgrid(X, Y, indexing='ij')\n",
    "        self.opt = opt\n",
    "        # https://stackoverflow.com/questions/16878315/what-is-the-right-way-to-treat-python-argparse-namespace-as-a-dictionary\n",
    "        self.d = vars(opt)\n",
    "        os.makedirs(self.opt.figpath, exist_ok=True)\n",
    "        self.cachepath = os.path.join('/tmp', self.opt.figpath)\n",
    "        if opt.verbose: print(f'{self.cachepath=}')\n",
    "        os.makedirs(self.cachepath, exist_ok=True)\n",
    "\n",
    "        # a standard white:\n",
    "        # illuminant_D65 = xyz_from_xy(0.3127, 0.3291), \n",
    "        illuminant_sun = xyz_from_xy(0.325998, 0.335354)\n",
    "        # color conversion class\n",
    "        self.cs_srgb = Lambda2color(red=xyz_from_xy(0.64, 0.33),\n",
    "                               green=xyz_from_xy(0.30, 0.60),\n",
    "                               blue=xyz_from_xy(0.15, 0.06),\n",
    "                               white=illuminant_sun)\n",
    "        self.wavelengths = self.cs_srgb.cmf[:, 0]*1e-9\n",
    "        self.N_wavelengths = len(self.wavelengths)\n",
    "        # multiply by the spectrum of the sky\n",
    "        intensity5800 = planck(self.wavelengths, 5800.)\n",
    "        scatter = scattering(self.wavelengths)\n",
    "        self.spectrum_sky = intensity5800 * scatter\n",
    "        self.spectrum_sky /= self.spectrum_sky.max()\n",
    "\n",
    "    def wave(self, do_cache=None):\n",
    "        filename = f'{self.cachepath}/{self.opt.tag}_wave.npy'\n",
    "        if do_cache is None: do_cache = self.opt.do_cache\n",
    "        if os.path.isfile(filename) and not(self.opt.do_recompute) and do_cache:\n",
    "            z = np.load(filename)\n",
    "        else:\n",
    "            # A simplistic model of a wave using https://github.com/NeuralEnsemble/MotionClouds\n",
    "            fx, fy, ft = mc.get_grids(self.opt.nx, self.opt.ny, self.opt.nframe)\n",
    "            env = mc.envelope_gabor(fx, fy, ft, V_X=self.opt.V_Y, V_Y=self.opt.V_X, B_V=self.opt.B_V,\n",
    "                                    sf_0=1./self.opt.scale, B_sf=self.opt.B_sf/self.opt.scale,\n",
    "                                    theta=self.opt.theta, B_theta=self.opt.B_theta)\n",
    "            z = mc.rectif(mc.random_cloud(env, seed=self.opt.seed))\n",
    "            if do_cache: np.save(filename, z)\n",
    "        return z * np.linspace(self.opt.zmin, 1., self.opt.nx)[:, None, None]\n",
    "\n",
    "    def transform(self, z_, modulation=1., edge_order=2):\n",
    "        xv, yv = self.xv.copy(), self.yv.copy()\n",
    "\n",
    "        # dzdx = z_ - np.roll(z_, 1, axis=0)\n",
    "        # dzdy = z_ - np.roll(z_, 1, axis=1)\n",
    "\n",
    "        # https://numpy.org/doc/stable/reference/generated/numpy.gradient.html\n",
    "        # dzdx = np.gradient(z_, axis=0, edge_order=edge_order)\n",
    "        # dzdy = np.gradient(z_, axis=1, edge_order=edge_order)\n",
    "        dzdx, dzdy = np.gradient(z_, edge_order=edge_order)\n",
    "\n",
    "        xv = xv + modulation * self.opt.H * dzdx\n",
    "        yv = yv + modulation * self.opt.H * dzdy\n",
    "\n",
    "        xv = np.mod(xv, 1)\n",
    "        yv = np.mod(yv, self.ratio)\n",
    "\n",
    "        return xv, yv\n",
    "\n",
    "    def get_filename(self):\n",
    "        # output filename        \n",
    "        md5 = hashlib.sha224((self.opt.figpath + self.opt.tag).encode()).hexdigest()[:8] # an unique identifier for future tagging\n",
    "        output_filename = f'{self.opt.figpath}/{self.opt.tag}_{md5}.{self.opt.ext}'\n",
    "        return output_filename\n",
    "\n",
    "    def plot(self, z, image=None, do_color=True, dpi=dpi):\n",
    "        \"\"\"\n",
    "        \n",
    "        dpi: output resolution - sets the figure size as we ensure there is a one to one correspondance between pixels in the data and the output image\n",
    "        \"\"\"\n",
    "\n",
    "        output_filename = self.get_filename()\n",
    "        if os.path.isfile(output_filename) and not(self.opt.do_recompute):\n",
    "            return output_filename\n",
    "        else:\n",
    "            # 1/ do the raytracing of image through z:\n",
    "            binsx, binsy = self.opt.nx//self.opt.bin_dens, self.opt.ny//self.opt.bin_dens\n",
    "\n",
    "            # a fixed image in degree of contrast (from 0=black to 1=white)\n",
    "            if image is None: image = np.ones((self.opt.nx, self.opt.ny))\n",
    "\n",
    "            #hist = self.do_raytracing(z)\n",
    "            binsx, binsy = self.opt.nx//self.opt.bin_dens, self.opt.ny//self.opt.bin_dens\n",
    "\n",
    "\n",
    "            if self.opt.multispectral:\n",
    "\n",
    "                #image_rgb = self.cs_srgb.spec_to_rgb(hist)\n",
    "                image_rgb = np.zeros((self.opt.nx//self.opt.bin_dens,  self.opt.ny//self.opt.bin_dens, 3, self.opt.nframe))\n",
    "                for i_frame in trange(self.opt.nframe):\n",
    "                    for i_wavelength in trange(self.opt.bin_spectrum//2, self.N_wavelengths, self.opt.bin_spectrum):\n",
    "                        modulation = 1. + self.opt.variation/2 - self.opt.variation*i_wavelength/self.N_wavelengths\n",
    "                        xv, yv = self.transform(z[:, :, i_frame], modulation=modulation)\n",
    "                        hist_, _, _ = np.histogram2d(xv.ravel(), yv.ravel(),\n",
    "                                                     bins=[binsx, binsy],\n",
    "                                                     weights=image.ravel(),\n",
    "                                                     range=[[0, 1], [0, self.ratio]],\n",
    "                                                     density=True)\n",
    "\n",
    "                        # we convert the spectrum into a color\n",
    "                        spec = np.zeros((self.N_wavelengths))\n",
    "                        spec[i_wavelength] = 1\n",
    "                        rgb = self.cs_srgb.spec_to_rgb(spec)\n",
    "                        rgb *= self.spectrum_sky[i_wavelength]\n",
    "                        # we add the color to the image\n",
    "                        image_rgb[:, :, :, i_frame] += hist_[:, :, None] * rgb[None, None, :]\n",
    "\n",
    "                image_rgb -= image_rgb.min()\n",
    "                image_rgb /= image_rgb.max()\n",
    "            else:\n",
    "                hist = np.zeros((binsx, binsy, self.opt.nframe))\n",
    "                for i_frame in trange(self.opt.nframe):\n",
    "                    xv, yv = self.transform(z[:, :, i_frame])\n",
    "                    hist_, _, _ = np.histogram2d(xv.ravel(), yv.ravel(),\n",
    "                                                        bins=[binsx, binsy],\n",
    "                                                        range=[[0, 1], [0, self.ratio]],\n",
    "                                                        density=True)\n",
    "                #hist /= hist.max()\n",
    "\n",
    "            # 2/ transform light into image:\n",
    "            fnames = []\n",
    "            for i_frame in trange(self.opt.nframe):\n",
    "                fig, ax = plt.subplots(figsize=(self.opt.ny/self.opt.bin_dens/dpi, self.opt.nx/self.opt.bin_dens/dpi), subplotpars=subplotpars)\n",
    "                if self.opt.multispectral:\n",
    "                    image_array = image_rgb[:, :, :, i_frame] ** (1/self.opt.gamma)\n",
    "                    ax.imshow(image_array, vmin=0, vmax=1)\n",
    "                else:\n",
    "                    if do_color:\n",
    "                        bluesky = np.array([0.268375, 0.283377]) # xyz\n",
    "                        sun = np.array([0.325998, 0.335354]) # xyz\n",
    "                        # ax.pcolormesh(edge_y, edge_x, hist[:, :, i_frame], vmin=0, vmax=1, cmap=plt.cm.Blues_r)\n",
    "                        # https://en.wikipedia.org/wiki/CIE_1931_color_space#Mixing_colors_specified_with_the_CIE_xy_chromaticity_diagram\n",
    "                        L1 = 1 - hist[:, :, i_frame]\n",
    "                        L2 = hist[:, :, i_frame]\n",
    "                        image_denom = L1 / bluesky[1] + L2 / sun[1]\n",
    "                        image_x = (L1 * bluesky[0] / bluesky[1] + L2 * sun[0] / sun[1]) / image_denom\n",
    "                        image_y = (L1 + L2) / image_denom \n",
    "                        image_xyz = np.dstack((image_x, image_y, 1 - image_x - image_y))\n",
    "                        image_rgb = self.cs_srgb.xyz_to_rgb(image_xyz)\n",
    "                        image_L = (self.opt.min_lum + (1-self.opt.min_lum)* L2) ** (1/self.opt.gamma)\n",
    "                        image_array = image_L[:, :, None]*image_rgb\n",
    "                        ax.imshow(image_array, vmin=0, vmax=1)\n",
    "                    else:\n",
    "                        ax.imshow(1-image_L, vmin=0, vmax=1)\n",
    "\n",
    "                fname = f'{self.cachepath}/{self.opt.tag}_frame_{i_frame:04d}.png'\n",
    "                \n",
    "                # fig.savefig(fname, dpi=dpi)\n",
    "                np_dtype = np.uint8 if self.opt.n_bits==8 else np.uint16\n",
    "                # imageio.imsave(fname, image_array.astype(np_dtype), dpi=dpi, extension=opt.ext)\n",
    "                cv2.imwrite(fname, (image_array*(2**self.opt.n_bits-1)).astype(np_dtype))\n",
    "                fnames.append(fname)\n",
    "                plt.close(fig)\n",
    "\n",
    "            if self.opt.nframe==1:\n",
    "                shutil.move(fname, output_filename)\n",
    "                return output_filename\n",
    "            else:\n",
    "                if self.opt.ext == 'gif':\n",
    "                    return make_gif(output_filename, fnames, fps=self.opt.fps)\n",
    "                else:\n",
    "                    return make_mp4(output_filename, fnames, fps=self.opt.fps)\n",
    "\n",
    "    def show(self, output_filename, width=1024):\n",
    "        from IPython.display import HTML, Image, display\n",
    "        if self.opt.nframe==1:\n",
    "            # display(Image(url=output_filename.replace(self.opt.ext, 'png'), width=width))\n",
    "            display(Image(url=output_filename, width=width))\n",
    "        else:\n",
    "            if self.opt.ext == 'gif':\n",
    "                return display(Image(url=output_filename, width=width))\n",
    "            else:\n",
    "                #import moviepy.editor as mpy\n",
    "                #return mpy.ipython_display(output_filename, width=width)\n",
    "                # https://github.com/NeuralEnsemble/MotionClouds/blob/master/MotionClouds/MotionClouds.py#L858\n",
    "                opts = ' loop=\"1\" autoplay=\"1\" controls '\n",
    "                html = HTML(f'<video {opts} src=\"{output_filename}\" type=\"video/{self.opt.ext}\" width={width}\\>')\n",
    "                html.reload()\n",
    "                return display(html)"
   ]
  },
  {
   "cell_type": "markdown",
   "metadata": {},
   "source": [
    "# a simple caustics"
   ]
  },
  {
   "cell_type": "markdown",
   "metadata": {
    "tags": []
   },
   "source": [
    "## generating the caustics"
   ]
  },
  {
   "cell_type": "code",
   "execution_count": 12,
   "metadata": {
    "execution": {
     "iopub.execute_input": "2024-10-15T15:38:02.032473Z",
     "iopub.status.busy": "2024-10-15T15:38:02.032378Z",
     "iopub.status.idle": "2024-10-15T15:38:03.203303Z",
     "shell.execute_reply": "2024-10-15T15:38:03.202951Z"
    }
   },
   "outputs": [
    {
     "data": {
      "text/plain": [
       "(53248, 4096, 1)"
      ]
     },
     "execution_count": 12,
     "metadata": {},
     "output_type": "execute_result"
    }
   ],
   "source": [
    "c = Caustique(opt)\n",
    "z = c.wave()\n",
    "z.shape"
   ]
  },
  {
   "cell_type": "code",
   "execution_count": 13,
   "metadata": {
    "execution": {
     "iopub.execute_input": "2024-10-15T15:38:03.204991Z",
     "iopub.status.busy": "2024-10-15T15:38:03.204873Z",
     "iopub.status.idle": "2024-10-15T15:38:03.206695Z",
     "shell.execute_reply": "2024-10-15T15:38:03.206442Z"
    }
   },
   "outputs": [],
   "source": [
    "type = 'grating'"
   ]
  },
  {
   "cell_type": "code",
   "execution_count": 14,
   "metadata": {
    "execution": {
     "iopub.execute_input": "2024-10-15T15:38:03.208074Z",
     "iopub.status.busy": "2024-10-15T15:38:03.207984Z",
     "iopub.status.idle": "2024-10-15T15:38:03.216762Z",
     "shell.execute_reply": "2024-10-15T15:38:03.216523Z"
    }
   },
   "outputs": [
    {
     "data": {
      "image/png": "[encoded data removed]",
      "text/plain": [
       "<Figure size 302.847x3937.01 with 1 Axes>"
      ]
     },
     "metadata": {},
     "output_type": "display_data"
    }
   ],
   "source": [
    "def generate_image(nx, ny, periods=.5, threshold=0.80, radius=.9):\n",
    "    Y, X = np.meshgrid(np.linspace(-1, 1, ny, endpoint=True), np.linspace(-1, 1, nx, endpoint=True))\n",
    "    image = (np.cos(2*np.pi*Y*periods) > threshold)*1.\n",
    "    # image += (np.cos(2*np.pi*Y*periods) > threshold)*1.\n",
    "    # image = (image>=1) * 1.\n",
    "    image *= (X**2 < radius**2) * (Y**2 < radius**2) * 1.\n",
    "    return image\n",
    "image = generate_image(nx=c.opt.nx, ny=c.opt.ny)\n",
    "\n",
    "fig, ax = plt.subplots(figsize=(opt.ny/opt.bin_dens/dpi, opt.nx/opt.bin_dens/dpi), subplotpars=subplotpars)\n",
    "\n",
    "ax.imshow(image, cmap='gray');"
   ]
  },
  {
   "cell_type": "code",
   "execution_count": 15,
   "metadata": {
    "execution": {
     "iopub.execute_input": "2024-10-15T15:38:03.218248Z",
     "iopub.status.busy": "2024-10-15T15:38:03.218161Z",
     "iopub.status.idle": "2024-10-15T15:38:04.342528Z",
     "shell.execute_reply": "2024-10-15T15:38:04.342105Z"
    }
   },
   "outputs": [
    {
     "name": "stderr",
     "output_type": "stream",
     "text": [
      "100%|██████████| 81/81 [14:31<00:00, 10.76s/it]\n",
      "100%|██████████| 1/1 [14:31<00:00, 871.22s/it]\n",
      "100%|██████████| 1/1 [00:02<00:00,  2.18s/it]\n"
     ]
    }
   ],
   "source": [
    "c = Caustique(opt)\n",
    "output_filename = c.plot(z, image)"
   ]
  },
  {
   "cell_type": "code",
   "execution_count": 16,
   "metadata": {
    "execution": {
     "iopub.execute_input": "2024-10-15T15:38:04.344459Z",
     "iopub.status.busy": "2024-10-15T15:38:04.344290Z",
     "iopub.status.idle": "2024-10-15T15:38:04.352770Z",
     "shell.execute_reply": "2024-10-15T15:38:04.352408Z"
    }
   },
   "outputs": [
    {
     "data": {
      "text/html": [
       "<img src=\"2024-10-07_caustique-bands/caustique_941a9f8c.png\" width=\"1024\"/>"
      ],
      "text/plain": [
       "<IPython.core.display.Image object>"
      ]
     },
     "metadata": {},
     "output_type": "display_data"
    }
   ],
   "source": [
    "c.show(output_filename)"
   ]
  },
  {
   "cell_type": "markdown",
   "metadata": {
    "tags": []
   },
   "source": [
    "# exploring parameters"
   ]
  },
  {
   "cell_type": "code",
   "execution_count": 17,
   "metadata": {
    "execution": {
     "iopub.execute_input": "2024-10-15T15:38:04.354822Z",
     "iopub.status.busy": "2024-10-15T15:38:04.354558Z",
     "iopub.status.idle": "2024-10-15T15:38:04.356368Z",
     "shell.execute_reply": "2024-10-15T15:38:04.356053Z"
    }
   },
   "outputs": [],
   "source": [
    "N_scan = 7\n",
    "base = 4"
   ]
  },
  {
   "cell_type": "markdown",
   "metadata": {
    "tags": []
   },
   "source": [
    "## water depth"
   ]
  },
  {
   "cell_type": "code",
   "execution_count": 18,
   "metadata": {
    "execution": {
     "iopub.execute_input": "2024-10-15T15:38:04.358090Z",
     "iopub.status.busy": "2024-10-15T15:38:04.357978Z",
     "iopub.status.idle": "2024-10-15T15:38:04.366070Z",
     "shell.execute_reply": "2024-10-15T15:38:04.365753Z"
    }
   },
   "outputs": [
    {
     "name": "stderr",
     "output_type": "stream",
     "text": [
      "100%|██████████| 81/81 [15:05<00:00, 11.18s/it]\n",
      "100%|██████████| 1/1 [15:05<00:00, 905.70s/it]\n",
      "100%|██████████| 1/1 [00:02<00:00,  2.25s/it]\n"
     ]
    },
    {
     "name": "stdout",
     "output_type": "stream",
     "text": [
      "H = 5.000 -> output_filename='2024-10-07_caustique-bands/caustique_H_5.000_2d6e250a.png' \n"
     ]
    },
    {
     "name": "stderr",
     "output_type": "stream",
     "text": [
      "100%|██████████| 81/81 [15:21<00:00, 11.37s/it]\n",
      "100%|██████████| 1/1 [15:21<00:00, 921.17s/it]\n",
      "100%|██████████| 1/1 [00:02<00:00,  2.30s/it]\n"
     ]
    },
    {
     "name": "stdout",
     "output_type": "stream",
     "text": [
      "H = 7.937 -> output_filename='2024-10-07_caustique-bands/caustique_H_7.937_07e86961.png' \n"
     ]
    },
    {
     "name": "stderr",
     "output_type": "stream",
     "text": [
      "100%|██████████| 81/81 [15:02<00:00, 11.14s/it]\n",
      "100%|██████████| 1/1 [15:02<00:00, 902.09s/it]\n",
      "100%|██████████| 1/1 [00:02<00:00,  2.29s/it]\n"
     ]
    },
    {
     "name": "stdout",
     "output_type": "stream",
     "text": [
      "H = 12.599 -> output_filename='2024-10-07_caustique-bands/caustique_H_12.599_bcaecb61.png' \n"
     ]
    },
    {
     "name": "stderr",
     "output_type": "stream",
     "text": [
      "100%|██████████| 81/81 [14:48<00:00, 10.97s/it]\n",
      "100%|██████████| 1/1 [14:48<00:00, 888.68s/it]\n",
      "100%|██████████| 1/1 [00:02<00:00,  2.15s/it]\n"
     ]
    },
    {
     "name": "stdout",
     "output_type": "stream",
     "text": [
      "H = 20.000 -> output_filename='2024-10-07_caustique-bands/caustique_H_20.000_653704ed.png' \n"
     ]
    },
    {
     "name": "stderr",
     "output_type": "stream",
     "text": [
      "100%|██████████| 81/81 [14:24<00:00, 10.67s/it]\n",
      "100%|██████████| 1/1 [14:24<00:00, 864.09s/it]\n",
      "100%|██████████| 1/1 [00:02<00:00,  2.18s/it]\n"
     ]
    },
    {
     "name": "stdout",
     "output_type": "stream",
     "text": [
      "H = 31.748 -> output_filename='2024-10-07_caustique-bands/caustique_H_31.748_9eead4c4.png' \n"
     ]
    },
    {
     "name": "stderr",
     "output_type": "stream",
     "text": [
      "100%|██████████| 81/81 [14:35<00:00, 10.81s/it]\n",
      "100%|██████████| 1/1 [14:35<00:00, 875.73s/it]\n",
      "100%|██████████| 1/1 [00:02<00:00,  2.23s/it]\n"
     ]
    },
    {
     "name": "stdout",
     "output_type": "stream",
     "text": [
      "H = 50.397 -> output_filename='2024-10-07_caustique-bands/caustique_H_50.397_8b2d43b8.png' \n"
     ]
    },
    {
     "name": "stderr",
     "output_type": "stream",
     "text": [
      "100%|██████████| 81/81 [14:50<00:00, 10.99s/it]\n",
      "100%|██████████| 1/1 [14:50<00:00, 890.29s/it]\n",
      "100%|██████████| 1/1 [00:02<00:00,  2.38s/it]"
     ]
    },
    {
     "name": "stdout",
     "output_type": "stream",
     "text": [
      "H = 80.000 -> output_filename='2024-10-07_caustique-bands/caustique_H_80.000_e4b575d3.png' \n"
     ]
    },
    {
     "name": "stderr",
     "output_type": "stream",
     "text": [
      "\n"
     ]
    }
   ],
   "source": [
    "for H_ in c.opt.H*np.logspace(-1, 1, N_scan, base=base):\n",
    "    opt = init()\n",
    "    c = Caustique(opt)\n",
    "    c.opt.H = H_\n",
    "    c.opt.tag = f'{c.opt.tag}_H_{H_:.3f}'\n",
    "    \n",
    "    output_filename = c.plot(z, image)\n",
    "    print(f'H = {H_:.3f} -> {output_filename=} ')\n",
    "    if c.opt.do_display: c.show(output_filename)"
   ]
  },
  {
   "cell_type": "markdown",
   "metadata": {
    "tags": []
   },
   "source": [
    "## refraction index variation"
   ]
  },
  {
   "cell_type": "code",
   "execution_count": 19,
   "metadata": {
    "execution": {
     "iopub.execute_input": "2024-10-15T15:38:04.367765Z",
     "iopub.status.busy": "2024-10-15T15:38:04.367647Z",
     "iopub.status.idle": "2024-10-15T15:38:05.173708Z",
     "shell.execute_reply": "2024-10-15T15:38:05.173367Z"
    }
   },
   "outputs": [
    {
     "name": "stderr",
     "output_type": "stream",
     "text": [
      "100%|██████████| 81/81 [14:12<00:00, 10.53s/it]\n",
      "100%|██████████| 1/1 [14:12<00:00, 852.90s/it]\n",
      "100%|██████████| 1/1 [00:02<00:00,  2.16s/it]\n"
     ]
    },
    {
     "name": "stdout",
     "output_type": "stream",
     "text": [
      "variation = 0.010  -> output_filename='2024-10-07_caustique-bands/caustique_variation_0.010_ca5c510d.png'\n"
     ]
    },
    {
     "name": "stderr",
     "output_type": "stream",
     "text": [
      "100%|██████████| 81/81 [14:14<00:00, 10.55s/it]\n",
      "100%|██████████| 1/1 [14:14<00:00, 854.74s/it]\n",
      "100%|██████████| 1/1 [00:02<00:00,  2.15s/it]\n"
     ]
    },
    {
     "name": "stdout",
     "output_type": "stream",
     "text": [
      "variation = 0.019  -> output_filename='2024-10-07_caustique-bands/caustique_variation_0.019_0272594e.png'\n"
     ]
    },
    {
     "name": "stderr",
     "output_type": "stream",
     "text": [
      "100%|██████████| 81/81 [14:13<00:00, 10.54s/it]\n",
      "100%|██████████| 1/1 [14:13<00:00, 853.90s/it]\n",
      "100%|██████████| 1/1 [00:02<00:00,  2.14s/it]\n"
     ]
    },
    {
     "name": "stdout",
     "output_type": "stream",
     "text": [
      "variation = 0.037  -> output_filename='2024-10-07_caustique-bands/caustique_variation_0.037_4c38ebad.png'\n"
     ]
    },
    {
     "name": "stderr",
     "output_type": "stream",
     "text": [
      "100%|██████████| 81/81 [14:12<00:00, 10.52s/it]\n",
      "100%|██████████| 1/1 [14:12<00:00, 852.24s/it]\n",
      "100%|██████████| 1/1 [00:02<00:00,  2.15s/it]\n"
     ]
    },
    {
     "name": "stdout",
     "output_type": "stream",
     "text": [
      "variation = 0.072  -> output_filename='2024-10-07_caustique-bands/caustique_variation_0.072_2aff644b.png'\n"
     ]
    },
    {
     "name": "stderr",
     "output_type": "stream",
     "text": [
      "100%|██████████| 81/81 [14:15<00:00, 10.56s/it]\n",
      "100%|██████████| 1/1 [14:15<00:00, 855.03s/it]\n",
      "100%|██████████| 1/1 [00:02<00:00,  2.16s/it]\n"
     ]
    },
    {
     "name": "stdout",
     "output_type": "stream",
     "text": [
      "variation = 0.139  -> output_filename='2024-10-07_caustique-bands/caustique_variation_0.139_ba4a1ff8.png'\n"
     ]
    },
    {
     "name": "stderr",
     "output_type": "stream",
     "text": [
      "100%|██████████| 81/81 [14:14<00:00, 10.55s/it]\n",
      "100%|██████████| 1/1 [14:14<00:00, 854.21s/it]\n",
      "100%|██████████| 1/1 [00:02<00:00,  2.17s/it]\n"
     ]
    },
    {
     "name": "stdout",
     "output_type": "stream",
     "text": [
      "variation = 0.268  -> output_filename='2024-10-07_caustique-bands/caustique_variation_0.268_3f08fa81.png'\n"
     ]
    },
    {
     "name": "stderr",
     "output_type": "stream",
     "text": [
      "100%|██████████| 81/81 [14:13<00:00, 10.54s/it]\n",
      "100%|██████████| 1/1 [14:13<00:00, 853.81s/it]\n",
      "100%|██████████| 1/1 [00:02<00:00,  2.17s/it]"
     ]
    },
    {
     "name": "stdout",
     "output_type": "stream",
     "text": [
      "variation = 0.518  -> output_filename='2024-10-07_caustique-bands/caustique_variation_0.518_910d3fe1.png'\n"
     ]
    },
    {
     "name": "stderr",
     "output_type": "stream",
     "text": [
      "\n"
     ]
    }
   ],
   "source": [
    "for variation_ in np.logspace(-2, 0, N_scan, base=10, endpoint=False):\n",
    "    opt = init()\n",
    "    c = Caustique(opt)\n",
    "    c.opt.variation = variation_\n",
    "    c.opt.tag = f'{opt.tag}_variation_{variation_:.3f}'\n",
    "\n",
    "    output_filename = c.plot(z, image)\n",
    "    print(f'variation = {variation_:.3f}  -> {output_filename=}')\n",
    "    if c.opt.do_display: c.show(output_filename)"
   ]
  },
  {
   "cell_type": "markdown",
   "metadata": {},
   "source": [
    "## post-processing"
   ]
  },
  {
   "cell_type": "code",
   "execution_count": 20,
   "metadata": {
    "execution": {
     "iopub.execute_input": "2024-10-15T15:38:05.175577Z",
     "iopub.status.busy": "2024-10-15T15:38:05.175459Z",
     "iopub.status.idle": "2024-10-15T15:38:05.883949Z",
     "shell.execute_reply": "2024-10-15T15:38:05.883520Z"
    }
   },
   "outputs": [
    {
     "name": "stdout",
     "output_type": "stream",
     "text": [
      "======gamma======\n"
     ]
    },
    {
     "name": "stderr",
     "output_type": "stream",
     "text": [
      "100%|██████████| 81/81 [14:15<00:00, 10.56s/it]\n",
      "100%|██████████| 1/1 [14:15<00:00, 855.68s/it]\n",
      "100%|██████████| 1/1 [00:02<00:00,  2.04s/it]\n"
     ]
    },
    {
     "name": "stdout",
     "output_type": "stream",
     "text": [
      "gamma=gamma(default)*0.250=7.500E-01 -> output_filename='2024-10-07_caustique-bands/caustique_gamma_modul_0.250_cda9494d.png'\n"
     ]
    },
    {
     "name": "stderr",
     "output_type": "stream",
     "text": [
      "100%|██████████| 81/81 [14:15<00:00, 10.56s/it]\n",
      "100%|██████████| 1/1 [14:15<00:00, 855.37s/it]\n",
      "100%|██████████| 1/1 [00:02<00:00,  2.16s/it]\n"
     ]
    },
    {
     "name": "stdout",
     "output_type": "stream",
     "text": [
      "gamma=gamma(default)*0.397=1.191E+00 -> output_filename='2024-10-07_caustique-bands/caustique_gamma_modul_0.397_db6ec9ec.png'\n"
     ]
    },
    {
     "name": "stderr",
     "output_type": "stream",
     "text": [
      "100%|██████████| 81/81 [14:13<00:00, 10.54s/it]\n",
      "100%|██████████| 1/1 [14:13<00:00, 853.91s/it]\n",
      "100%|██████████| 1/1 [00:02<00:00,  2.16s/it]\n"
     ]
    },
    {
     "name": "stdout",
     "output_type": "stream",
     "text": [
      "gamma=gamma(default)*0.630=1.890E+00 -> output_filename='2024-10-07_caustique-bands/caustique_gamma_modul_0.630_69bce8bf.png'\n"
     ]
    },
    {
     "name": "stderr",
     "output_type": "stream",
     "text": [
      "100%|██████████| 81/81 [14:14<00:00, 10.55s/it]\n",
      "100%|██████████| 1/1 [14:14<00:00, 854.67s/it]\n",
      "100%|██████████| 1/1 [00:02<00:00,  2.17s/it]\n"
     ]
    },
    {
     "name": "stdout",
     "output_type": "stream",
     "text": [
      "gamma=gamma(default)*1.000=3.000E+00 -> output_filename='2024-10-07_caustique-bands/caustique_gamma_modul_1.000_1809f229.png'\n"
     ]
    },
    {
     "name": "stderr",
     "output_type": "stream",
     "text": [
      "100%|██████████| 81/81 [14:14<00:00, 10.55s/it]\n",
      "100%|██████████| 1/1 [14:14<00:00, 854.76s/it]\n",
      "100%|██████████| 1/1 [00:02<00:00,  2.15s/it]\n"
     ]
    },
    {
     "name": "stdout",
     "output_type": "stream",
     "text": [
      "gamma=gamma(default)*1.587=4.762E+00 -> output_filename='2024-10-07_caustique-bands/caustique_gamma_modul_1.587_f9ca17ff.png'\n"
     ]
    },
    {
     "name": "stderr",
     "output_type": "stream",
     "text": [
      "100%|██████████| 81/81 [14:14<00:00, 10.55s/it]\n",
      "100%|██████████| 1/1 [14:14<00:00, 854.47s/it]\n",
      "100%|██████████| 1/1 [00:02<00:00,  2.15s/it]\n"
     ]
    },
    {
     "name": "stdout",
     "output_type": "stream",
     "text": [
      "gamma=gamma(default)*2.520=7.560E+00 -> output_filename='2024-10-07_caustique-bands/caustique_gamma_modul_2.520_1b8157d2.png'\n"
     ]
    },
    {
     "name": "stderr",
     "output_type": "stream",
     "text": [
      "100%|██████████| 81/81 [14:13<00:00, 10.53s/it]\n",
      "100%|██████████| 1/1 [14:13<00:00, 853.33s/it]\n",
      "100%|██████████| 1/1 [00:02<00:00,  2.15s/it]\n"
     ]
    },
    {
     "name": "stdout",
     "output_type": "stream",
     "text": [
      "gamma=gamma(default)*4.000=1.200E+01 -> output_filename='2024-10-07_caustique-bands/caustique_gamma_modul_4.000_ce6a3712.png'\n",
      "======min_lum======\n"
     ]
    },
    {
     "name": "stderr",
     "output_type": "stream",
     "text": [
      "100%|██████████| 81/81 [14:14<00:00, 10.55s/it]\n",
      "100%|██████████| 1/1 [14:14<00:00, 854.54s/it]\n",
      "100%|██████████| 1/1 [00:02<00:00,  2.15s/it]\n"
     ]
    },
    {
     "name": "stdout",
     "output_type": "stream",
     "text": [
      "min_lum=min_lum(default)*0.250=2.500E-03 -> output_filename='2024-10-07_caustique-bands/caustique_min_lum_modul_0.250_6e85f09a.png'\n"
     ]
    },
    {
     "name": "stderr",
     "output_type": "stream",
     "text": [
      "100%|██████████| 81/81 [14:14<00:00, 10.55s/it]\n",
      "100%|██████████| 1/1 [14:14<00:00, 854.65s/it]\n",
      "100%|██████████| 1/1 [00:02<00:00,  2.16s/it]\n"
     ]
    },
    {
     "name": "stdout",
     "output_type": "stream",
     "text": [
      "min_lum=min_lum(default)*0.397=3.969E-03 -> output_filename='2024-10-07_caustique-bands/caustique_min_lum_modul_0.397_b0dc09a3.png'\n"
     ]
    },
    {
     "name": "stderr",
     "output_type": "stream",
     "text": [
      "100%|██████████| 81/81 [14:16<00:00, 10.57s/it]\n",
      "100%|██████████| 1/1 [14:16<00:00, 856.17s/it]\n",
      "100%|██████████| 1/1 [00:02<00:00,  2.15s/it]\n"
     ]
    },
    {
     "name": "stdout",
     "output_type": "stream",
     "text": [
      "min_lum=min_lum(default)*0.630=6.300E-03 -> output_filename='2024-10-07_caustique-bands/caustique_min_lum_modul_0.630_ce1dda16.png'\n"
     ]
    },
    {
     "name": "stderr",
     "output_type": "stream",
     "text": [
      "100%|██████████| 81/81 [14:14<00:00, 10.55s/it]\n",
      "100%|██████████| 1/1 [14:14<00:00, 854.41s/it]\n",
      "100%|██████████| 1/1 [00:02<00:00,  2.17s/it]\n"
     ]
    },
    {
     "name": "stdout",
     "output_type": "stream",
     "text": [
      "min_lum=min_lum(default)*1.000=1.000E-02 -> output_filename='2024-10-07_caustique-bands/caustique_min_lum_modul_1.000_403a1c35.png'\n"
     ]
    },
    {
     "name": "stderr",
     "output_type": "stream",
     "text": [
      "100%|██████████| 81/81 [14:15<00:00, 10.56s/it]\n",
      "100%|██████████| 1/1 [14:15<00:00, 855.29s/it]\n",
      "100%|██████████| 1/1 [00:02<00:00,  2.15s/it]\n"
     ]
    },
    {
     "name": "stdout",
     "output_type": "stream",
     "text": [
      "min_lum=min_lum(default)*1.587=1.587E-02 -> output_filename='2024-10-07_caustique-bands/caustique_min_lum_modul_1.587_510e80bc.png'\n"
     ]
    },
    {
     "name": "stderr",
     "output_type": "stream",
     "text": [
      "100%|██████████| 81/81 [14:14<00:00, 10.54s/it]\n",
      "100%|██████████| 1/1 [14:14<00:00, 854.09s/it]\n",
      "100%|██████████| 1/1 [00:02<00:00,  2.16s/it]\n"
     ]
    },
    {
     "name": "stdout",
     "output_type": "stream",
     "text": [
      "min_lum=min_lum(default)*2.520=2.520E-02 -> output_filename='2024-10-07_caustique-bands/caustique_min_lum_modul_2.520_39ad885f.png'\n"
     ]
    },
    {
     "name": "stderr",
     "output_type": "stream",
     "text": [
      "100%|██████████| 81/81 [14:17<00:00, 10.59s/it]\n",
      "100%|██████████| 1/1 [14:17<00:00, 857.42s/it]\n",
      "100%|██████████| 1/1 [00:02<00:00,  2.16s/it]"
     ]
    },
    {
     "name": "stdout",
     "output_type": "stream",
     "text": [
      "min_lum=min_lum(default)*4.000=4.000E-02 -> output_filename='2024-10-07_caustique-bands/caustique_min_lum_modul_4.000_48dea967.png'\n"
     ]
    },
    {
     "name": "stderr",
     "output_type": "stream",
     "text": [
      "\n"
     ]
    }
   ],
   "source": [
    "for variable in ['gamma', 'min_lum']: \n",
    "    print(f'======{variable}======')\n",
    "    for modul in np.logspace(-1, 1, N_scan, base=base):\n",
    "        opt = init()\n",
    "        c = Caustique(opt)\n",
    "        c.d[variable] *= modul\n",
    "        c.opt.tag = f'{c.opt.tag}_{variable}_modul_{modul:.3f}'\n",
    "        \n",
    "        output_filename = c.plot(z, image)\n",
    "        print(f'{variable}={variable}(default)*{modul:.3f}={c.d[variable]:.3E} -> {output_filename=}')\n",
    "        if c.opt.do_display: c.show(output_filename)"
   ]
  },
  {
   "cell_type": "markdown",
   "metadata": {
    "tags": []
   },
   "source": [
    "## other instances of the wave"
   ]
  },
  {
   "cell_type": "code",
   "execution_count": 21,
   "metadata": {
    "execution": {
     "iopub.execute_input": "2024-10-15T15:38:05.885977Z",
     "iopub.status.busy": "2024-10-15T15:38:05.885800Z",
     "iopub.status.idle": "2024-10-15T15:38:06.772733Z",
     "shell.execute_reply": "2024-10-15T15:38:06.772340Z"
    }
   },
   "outputs": [
    {
     "name": "stderr",
     "output_type": "stream",
     "text": [
      "100%|██████████| 81/81 [14:14<00:00, 10.54s/it]\n",
      "100%|██████████| 1/1 [14:14<00:00, 854.05s/it]\n",
      "100%|██████████| 1/1 [00:02<00:00,  2.08s/it]\n"
     ]
    },
    {
     "name": "stdout",
     "output_type": "stream",
     "text": [
      "seed=2024 -> output_filename='2024-10-07_caustique-bands/caustique_seed_2024_8a635f7f.png'\n"
     ]
    },
    {
     "name": "stderr",
     "output_type": "stream",
     "text": [
      "100%|██████████| 81/81 [14:21<00:00, 10.64s/it]\n",
      "100%|██████████| 1/1 [14:21<00:00, 861.76s/it]\n",
      "100%|██████████| 1/1 [00:02<00:00,  2.18s/it]\n"
     ]
    },
    {
     "name": "stdout",
     "output_type": "stream",
     "text": [
      "seed=2025 -> output_filename='2024-10-07_caustique-bands/caustique_seed_2025_0c2bdff7.png'\n"
     ]
    },
    {
     "name": "stderr",
     "output_type": "stream",
     "text": [
      "100%|██████████| 81/81 [14:14<00:00, 10.55s/it]\n",
      "100%|██████████| 1/1 [14:14<00:00, 854.88s/it]\n",
      "100%|██████████| 1/1 [00:02<00:00,  2.10s/it]\n"
     ]
    },
    {
     "name": "stdout",
     "output_type": "stream",
     "text": [
      "seed=2026 -> output_filename='2024-10-07_caustique-bands/caustique_seed_2026_3ba653f2.png'\n"
     ]
    },
    {
     "name": "stderr",
     "output_type": "stream",
     "text": [
      "100%|██████████| 81/81 [14:13<00:00, 10.53s/it]\n",
      "100%|██████████| 1/1 [14:13<00:00, 853.13s/it]\n",
      "100%|██████████| 1/1 [00:02<00:00,  2.15s/it]\n"
     ]
    },
    {
     "name": "stdout",
     "output_type": "stream",
     "text": [
      "seed=2027 -> output_filename='2024-10-07_caustique-bands/caustique_seed_2027_e06e5d26.png'\n"
     ]
    },
    {
     "name": "stderr",
     "output_type": "stream",
     "text": [
      "100%|██████████| 81/81 [14:14<00:00, 10.55s/it]\n",
      "100%|██████████| 1/1 [14:14<00:00, 854.18s/it]\n",
      "100%|██████████| 1/1 [00:02<00:00,  2.16s/it]\n"
     ]
    },
    {
     "name": "stdout",
     "output_type": "stream",
     "text": [
      "seed=2028 -> output_filename='2024-10-07_caustique-bands/caustique_seed_2028_16ce89a1.png'\n"
     ]
    },
    {
     "name": "stderr",
     "output_type": "stream",
     "text": [
      "100%|██████████| 81/81 [14:16<00:00, 10.57s/it]\n",
      "100%|██████████| 1/1 [14:16<00:00, 856.36s/it]\n",
      "100%|██████████| 1/1 [00:02<00:00,  2.15s/it]\n"
     ]
    },
    {
     "name": "stdout",
     "output_type": "stream",
     "text": [
      "seed=2029 -> output_filename='2024-10-07_caustique-bands/caustique_seed_2029_f60965dc.png'\n"
     ]
    },
    {
     "name": "stderr",
     "output_type": "stream",
     "text": [
      "100%|██████████| 81/81 [14:19<00:00, 10.61s/it]\n",
      "100%|██████████| 1/1 [14:19<00:00, 859.56s/it]\n",
      "100%|██████████| 1/1 [00:02<00:00,  2.17s/it]\n"
     ]
    },
    {
     "name": "stdout",
     "output_type": "stream",
     "text": [
      "seed=2030 -> output_filename='2024-10-07_caustique-bands/caustique_seed_2030_62cc00ce.png'\n"
     ]
    },
    {
     "name": "stderr",
     "output_type": "stream",
     "text": [
      "100%|██████████| 81/81 [14:14<00:00, 10.55s/it]\n",
      "100%|██████████| 1/1 [14:14<00:00, 854.26s/it]\n",
      "100%|██████████| 1/1 [00:02<00:00,  2.14s/it]\n"
     ]
    },
    {
     "name": "stdout",
     "output_type": "stream",
     "text": [
      "seed=2031 -> output_filename='2024-10-07_caustique-bands/caustique_seed_2031_390a49d4.png'\n"
     ]
    },
    {
     "name": "stderr",
     "output_type": "stream",
     "text": [
      "100%|██████████| 81/81 [14:21<00:00, 10.63s/it]\n",
      "100%|██████████| 1/1 [14:21<00:00, 861.34s/it]\n",
      "100%|██████████| 1/1 [00:02<00:00,  2.14s/it]\n"
     ]
    },
    {
     "name": "stdout",
     "output_type": "stream",
     "text": [
      "seed=2032 -> output_filename='2024-10-07_caustique-bands/caustique_seed_2032_c0e1b115.png'\n"
     ]
    },
    {
     "name": "stderr",
     "output_type": "stream",
     "text": [
      "100%|██████████| 81/81 [14:20<00:00, 10.63s/it]\n",
      "100%|██████████| 1/1 [14:20<00:00, 860.97s/it]\n",
      "100%|██████████| 1/1 [00:02<00:00,  2.16s/it]"
     ]
    },
    {
     "name": "stdout",
     "output_type": "stream",
     "text": [
      "seed=2033 -> output_filename='2024-10-07_caustique-bands/caustique_seed_2033_4695784e.png'\n"
     ]
    },
    {
     "name": "stderr",
     "output_type": "stream",
     "text": [
      "\n"
     ]
    }
   ],
   "source": [
    "for seed_increment in range(10):\n",
    "    opt = init()\n",
    "    c = Caustique(opt)\n",
    "    c.d['seed'] = c.d['seed'] + seed_increment\n",
    "    c.opt.tag = f'{c.opt.tag}_seed_{c.d['seed']}'\n",
    "    \n",
    "    z = c.wave()\n",
    "    output_filename = c.plot(z, image)\n",
    "    print(f'seed={c.d['seed']} -> {output_filename=}')\n",
    "    if c.opt.do_display: c.show(output_filename)"
   ]
  },
  {
   "cell_type": "markdown",
   "metadata": {},
   "source": [
    "## other variables on the wave"
   ]
  },
  {
   "cell_type": "code",
   "execution_count": 22,
   "metadata": {
    "execution": {
     "iopub.execute_input": "2024-10-15T15:38:06.774641Z",
     "iopub.status.busy": "2024-10-15T15:38:06.774490Z",
     "iopub.status.idle": "2024-10-15T15:38:07.204080Z",
     "shell.execute_reply": "2024-10-15T15:38:07.203720Z"
    },
    "tags": []
   },
   "outputs": [
    {
     "name": "stdout",
     "output_type": "stream",
     "text": [
      "======scale======\n",
      "scale=scale(default)*0.250=9.728E+02 -> output_filename='2024-10-07_caustique-bands/caustique_scale_modul_0.250_348bc94c.png'\n",
      "scale=scale(default)*0.397=1.544E+03 -> output_filename='2024-10-07_caustique-bands/caustique_scale_modul_0.397_734677a9.png'\n",
      "scale=scale(default)*0.630=2.451E+03 -> output_filename='2024-10-07_caustique-bands/caustique_scale_modul_0.630_cdd8e29e.png'\n",
      "scale=scale(default)*1.000=3.891E+03 -> output_filename='2024-10-07_caustique-bands/caustique_scale_modul_1.000_ea9920e5.png'\n",
      "scale=scale(default)*1.587=6.177E+03 -> output_filename='2024-10-07_caustique-bands/caustique_scale_modul_1.587_7c2e8f1f.png'\n",
      "scale=scale(default)*2.520=9.805E+03 -> output_filename='2024-10-07_caustique-bands/caustique_scale_modul_2.520_5f51613d.png'\n",
      "scale=scale(default)*4.000=1.556E+04 -> output_filename='2024-10-07_caustique-bands/caustique_scale_modul_4.000_a8c09d48.png'\n",
      "======B_sf======\n",
      "B_sf=B_sf(default)*0.250=2.500E-01 -> output_filename='2024-10-07_caustique-bands/caustique_B_sf_modul_0.250_e57ead10.png'\n",
      "B_sf=B_sf(default)*0.397=3.969E-01 -> output_filename='2024-10-07_caustique-bands/caustique_B_sf_modul_0.397_4a604984.png'\n",
      "B_sf=B_sf(default)*0.630=6.300E-01 -> output_filename='2024-10-07_caustique-bands/caustique_B_sf_modul_0.630_f5461c92.png'\n",
      "B_sf=B_sf(default)*1.000=1.000E+00 -> output_filename='2024-10-07_caustique-bands/caustique_B_sf_modul_1.000_a661a52e.png'\n",
      "B_sf=B_sf(default)*1.587=1.587E+00 -> output_filename='2024-10-07_caustique-bands/caustique_B_sf_modul_1.587_a218b0d6.png'\n",
      "B_sf=B_sf(default)*2.520=2.520E+00 -> output_filename='2024-10-07_caustique-bands/caustique_B_sf_modul_2.520_0c8de871.png'\n",
      "B_sf=B_sf(default)*4.000=4.000E+00 -> output_filename='2024-10-07_caustique-bands/caustique_B_sf_modul_4.000_86ea3faf.png'\n",
      "======theta======\n",
      "theta=theta(default)*0.250=3.927E-01 -> output_filename='2024-10-07_caustique-bands/caustique_theta_modul_0.250_81afb82b.png'\n",
      "theta=theta(default)*0.397=6.234E-01 -> output_filename='2024-10-07_caustique-bands/caustique_theta_modul_0.397_30f94d25.png'\n",
      "theta=theta(default)*0.630=9.895E-01 -> output_filename='2024-10-07_caustique-bands/caustique_theta_modul_0.630_66df7a62.png'\n",
      "theta=theta(default)*1.000=1.571E+00 -> output_filename='2024-10-07_caustique-bands/caustique_theta_modul_1.000_7a6ba4a2.png'\n",
      "theta=theta(default)*1.587=2.493E+00 -> output_filename='2024-10-07_caustique-bands/caustique_theta_modul_1.587_54d35875.png'\n",
      "theta=theta(default)*2.520=3.958E+00 -> output_filename='2024-10-07_caustique-bands/caustique_theta_modul_2.520_1399553f.png'\n",
      "theta=theta(default)*4.000=6.283E+00 -> output_filename='2024-10-07_caustique-bands/caustique_theta_modul_4.000_62376974.png'\n",
      "======B_theta======\n",
      "B_theta=B_theta(default)*0.250=2.618E-01 -> output_filename='2024-10-07_caustique-bands/caustique_B_theta_modul_0.250_06e8b02e.png'\n",
      "B_theta=B_theta(default)*0.397=4.156E-01 -> output_filename='2024-10-07_caustique-bands/caustique_B_theta_modul_0.397_00bdd4a6.png'\n",
      "B_theta=B_theta(default)*0.630=6.597E-01 -> output_filename='2024-10-07_caustique-bands/caustique_B_theta_modul_0.630_d9cf1128.png'\n",
      "B_theta=B_theta(default)*1.000=1.047E+00 -> output_filename='2024-10-07_caustique-bands/caustique_B_theta_modul_1.000_c6a29862.png'\n",
      "B_theta=B_theta(default)*1.587=1.662E+00 -> output_filename='2024-10-07_caustique-bands/caustique_B_theta_modul_1.587_a6ebfa6b.png'\n",
      "B_theta=B_theta(default)*2.520=2.639E+00 -> output_filename='2024-10-07_caustique-bands/caustique_B_theta_modul_2.520_b63b53bd.png'\n",
      "B_theta=B_theta(default)*4.000=4.189E+00 -> output_filename='2024-10-07_caustique-bands/caustique_B_theta_modul_4.000_c3098889.png'\n",
      "======zmin======\n",
      "zmin=zmin(default)*0.250=2.500E-02 -> output_filename='2024-10-07_caustique-bands/caustique_zmin_modul_0.250_db37e98a.png'\n",
      "zmin=zmin(default)*0.397=3.969E-02 -> output_filename='2024-10-07_caustique-bands/caustique_zmin_modul_0.397_23d4cd4b.png'\n",
      "zmin=zmin(default)*0.630=6.300E-02 -> output_filename='2024-10-07_caustique-bands/caustique_zmin_modul_0.630_01f62ac4.png'\n",
      "zmin=zmin(default)*1.000=1.000E-01 -> output_filename='2024-10-07_caustique-bands/caustique_zmin_modul_1.000_7e66bff3.png'\n",
      "zmin=zmin(default)*1.587=1.587E-01 -> output_filename='2024-10-07_caustique-bands/caustique_zmin_modul_1.587_5b1e5f2d.png'\n",
      "zmin=zmin(default)*2.520=2.520E-01 -> output_filename='2024-10-07_caustique-bands/caustique_zmin_modul_2.520_f725a573.png'\n",
      "zmin=zmin(default)*4.000=4.000E-01 -> output_filename='2024-10-07_caustique-bands/caustique_zmin_modul_4.000_ddb1a9eb.png'\n"
     ]
    }
   ],
   "source": [
    "for variable in ['scale', 'B_sf', 'theta',  'B_theta', 'zmin']: #  'V_Y', 'V_X', 'B_V', \n",
    "    print(f'======{variable}======')\n",
    "    for modul in np.logspace(-1, 1, N_scan, base=base):\n",
    "        opt = init()\n",
    "        c = Caustique(opt)\n",
    "        c.d[variable] *= modul\n",
    "        c.opt.tag = f'{c.opt.tag}_{variable}_modul_{modul:.3f}'\n",
    "        \n",
    "        output_filename = c.get_filename()\n",
    "        if os.path.isfile(output_filename) and not(c.opt.do_recompute):            \n",
    "            z = c.wave(do_cache=False)\n",
    "            output_filename_ = c.plot(z, image)\n",
    "            assert(output_filename == output_filename_)\n",
    "        print(f'{variable}={variable}(default)*{modul:.3f}={c.d[variable]:.3E} -> {output_filename=}')\n",
    "        if c.opt.do_display: c.show(output_filename)"
   ]
  },
  {
   "cell_type": "markdown",
   "metadata": {},
   "source": [
    "## shining a grating image to the wave"
   ]
  },
  {
   "cell_type": "code",
   "execution_count": 23,
   "metadata": {
    "execution": {
     "iopub.execute_input": "2024-10-15T15:38:07.206130Z",
     "iopub.status.busy": "2024-10-15T15:38:07.206005Z",
     "iopub.status.idle": "2024-10-15T15:38:07.931838Z",
     "shell.execute_reply": "2024-10-15T15:38:07.931500Z"
    }
   },
   "outputs": [
    {
     "name": "stderr",
     "output_type": "stream",
     "text": [
      "100%|██████████| 81/81 [14:22<00:00, 10.65s/it]\n",
      "100%|██████████| 1/1 [14:22<00:00, 862.64s/it]\n",
      "100%|██████████| 1/1 [00:02<00:00,  2.18s/it]\n"
     ]
    },
    {
     "data": {
      "text/html": [
       "<img src=\"2024-10-07_caustique-bands/caustique_grating-image_e3fdfb5a.png\" width=\"1024\"/>"
      ],
      "text/plain": [
       "<IPython.core.display.Image object>"
      ]
     },
     "metadata": {},
     "output_type": "display_data"
    }
   ],
   "source": [
    "c = Caustique(init())\n",
    "c.opt.tag = f'{c.opt.tag}_{type}-image'\n",
    "output_filename = c.plot(z, image)\n",
    "c.show(output_filename)"
   ]
  },
  {
   "cell_type": "code",
   "execution_count": 24,
   "metadata": {
    "execution": {
     "iopub.execute_input": "2024-10-15T15:38:07.933699Z",
     "iopub.status.busy": "2024-10-15T15:38:07.933559Z",
     "iopub.status.idle": "2024-10-15T15:38:08.081038Z",
     "shell.execute_reply": "2024-10-15T15:38:08.080721Z"
    }
   },
   "outputs": [
    {
     "name": "stderr",
     "output_type": "stream",
     "text": [
      "100%|██████████| 81/81 [14:01<00:00, 10.39s/it]\n",
      "100%|██████████| 1/1 [14:01<00:00, 841.94s/it]\n",
      "100%|██████████| 1/1 [00:02<00:00,  2.18s/it]\n"
     ]
    },
    {
     "name": "stdout",
     "output_type": "stream",
     "text": [
      "H = 5.000 -> output_filename='2024-10-07_caustique-bands/caustique_grating-image_H_5.000_7fc6bfa2.png' \n"
     ]
    },
    {
     "name": "stderr",
     "output_type": "stream",
     "text": [
      "100%|██████████| 81/81 [14:07<00:00, 10.46s/it]\n",
      "100%|██████████| 1/1 [14:07<00:00, 847.55s/it]\n",
      "100%|██████████| 1/1 [00:02<00:00,  2.15s/it]\n"
     ]
    },
    {
     "name": "stdout",
     "output_type": "stream",
     "text": [
      "H = 7.937 -> output_filename='2024-10-07_caustique-bands/caustique_grating-image_H_7.937_aef823b0.png' \n"
     ]
    },
    {
     "name": "stderr",
     "output_type": "stream",
     "text": [
      "100%|██████████| 81/81 [14:13<00:00, 10.53s/it]\n",
      "100%|██████████| 1/1 [14:13<00:00, 853.32s/it]\n",
      "100%|██████████| 1/1 [00:02<00:00,  2.16s/it]\n"
     ]
    },
    {
     "name": "stdout",
     "output_type": "stream",
     "text": [
      "H = 12.599 -> output_filename='2024-10-07_caustique-bands/caustique_grating-image_H_12.599_c3479b74.png' \n"
     ]
    },
    {
     "name": "stderr",
     "output_type": "stream",
     "text": [
      "100%|██████████| 81/81 [14:21<00:00, 10.64s/it]\n",
      "100%|██████████| 1/1 [14:21<00:00, 861.52s/it]\n",
      "100%|██████████| 1/1 [00:02<00:00,  2.18s/it]\n"
     ]
    },
    {
     "name": "stdout",
     "output_type": "stream",
     "text": [
      "H = 20.000 -> output_filename='2024-10-07_caustique-bands/caustique_grating-image_H_20.000_0c10eef2.png' \n"
     ]
    },
    {
     "name": "stderr",
     "output_type": "stream",
     "text": [
      "100%|██████████| 81/81 [14:34<00:00, 10.79s/it]\n",
      "100%|██████████| 1/1 [14:34<00:00, 874.13s/it]\n",
      "100%|██████████| 1/1 [00:02<00:00,  2.22s/it]\n"
     ]
    },
    {
     "name": "stdout",
     "output_type": "stream",
     "text": [
      "H = 31.748 -> output_filename='2024-10-07_caustique-bands/caustique_grating-image_H_31.748_ec73fb83.png' \n"
     ]
    },
    {
     "name": "stderr",
     "output_type": "stream",
     "text": [
      "100%|██████████| 81/81 [14:51<00:00, 11.01s/it]\n",
      "100%|██████████| 1/1 [14:51<00:00, 891.99s/it]\n",
      "100%|██████████| 1/1 [00:02<00:00,  2.35s/it]\n"
     ]
    },
    {
     "name": "stdout",
     "output_type": "stream",
     "text": [
      "H = 50.397 -> output_filename='2024-10-07_caustique-bands/caustique_grating-image_H_50.397_2fddb771.png' \n"
     ]
    },
    {
     "name": "stderr",
     "output_type": "stream",
     "text": [
      "100%|██████████| 81/81 [15:07<00:00, 11.21s/it]\n",
      "100%|██████████| 1/1 [15:07<00:00, 907.77s/it]\n",
      "100%|██████████| 1/1 [00:02<00:00,  2.60s/it]"
     ]
    },
    {
     "name": "stdout",
     "output_type": "stream",
     "text": [
      "H = 80.000 -> output_filename='2024-10-07_caustique-bands/caustique_grating-image_H_80.000_118596f1.png' \n"
     ]
    },
    {
     "name": "stderr",
     "output_type": "stream",
     "text": [
      "\n"
     ]
    }
   ],
   "source": [
    "for H_ in c.opt.H*np.logspace(-1, 1, N_scan, base=base):\n",
    "    opt = init()\n",
    "    c = Caustique(opt)\n",
    "    c.opt.H = H_\n",
    "    c.opt.tag = f'{c.opt.tag}_{type}-image_H_{H_:.3f}'\n",
    "    \n",
    "    output_filename = c.plot(z, image)\n",
    "    print(f'H = {H_:.3f} -> {output_filename=} ')\n",
    "    if c.opt.do_display: c.show(output_filename)"
   ]
  },
  {
   "cell_type": "code",
   "execution_count": 25,
   "metadata": {
    "execution": {
     "iopub.execute_input": "2024-10-15T15:38:08.082687Z",
     "iopub.status.busy": "2024-10-15T15:38:08.082482Z",
     "iopub.status.idle": "2024-10-15T15:38:08.375853Z",
     "shell.execute_reply": "2024-10-15T15:38:08.375430Z"
    }
   },
   "outputs": [
    {
     "name": "stderr",
     "output_type": "stream",
     "text": [
      "100%|██████████| 81/81 [14:21<00:00, 10.63s/it]\n",
      "100%|██████████| 1/1 [14:21<00:00, 861.42s/it]\n",
      "100%|██████████| 1/1 [00:02<00:00,  2.70s/it]\n"
     ]
    },
    {
     "name": "stdout",
     "output_type": "stream",
     "text": [
      "0.125 -> output_filename='2024-10-07_caustique-bands/caustique_grating-image_threshold=0.125_88e078ca.png' \n"
     ]
    },
    {
     "name": "stderr",
     "output_type": "stream",
     "text": [
      "100%|██████████| 81/81 [14:22<00:00, 10.65s/it]\n",
      "100%|██████████| 1/1 [14:22<00:00, 862.36s/it]\n",
      "100%|██████████| 1/1 [00:02<00:00,  2.59s/it]\n"
     ]
    },
    {
     "name": "stdout",
     "output_type": "stream",
     "text": [
      "0.250 -> output_filename='2024-10-07_caustique-bands/caustique_grating-image_threshold=0.250_fd3598b8.png' \n"
     ]
    },
    {
     "name": "stderr",
     "output_type": "stream",
     "text": [
      "100%|██████████| 81/81 [14:21<00:00, 10.64s/it]\n",
      "100%|██████████| 1/1 [14:21<00:00, 861.68s/it]\n",
      "100%|██████████| 1/1 [00:02<00:00,  2.54s/it]\n"
     ]
    },
    {
     "name": "stdout",
     "output_type": "stream",
     "text": [
      "0.375 -> output_filename='2024-10-07_caustique-bands/caustique_grating-image_threshold=0.375_b23439dc.png' \n"
     ]
    },
    {
     "name": "stderr",
     "output_type": "stream",
     "text": [
      "100%|██████████| 81/81 [14:23<00:00, 10.67s/it]\n",
      "100%|██████████| 1/1 [14:23<00:00, 863.90s/it]\n",
      "100%|██████████| 1/1 [00:02<00:00,  2.44s/it]\n"
     ]
    },
    {
     "name": "stdout",
     "output_type": "stream",
     "text": [
      "0.500 -> output_filename='2024-10-07_caustique-bands/caustique_grating-image_threshold=0.500_708072a6.png' \n"
     ]
    },
    {
     "name": "stderr",
     "output_type": "stream",
     "text": [
      "100%|██████████| 81/81 [14:21<00:00, 10.63s/it]\n",
      "100%|██████████| 1/1 [14:21<00:00, 861.42s/it]\n",
      "100%|██████████| 1/1 [00:02<00:00,  2.33s/it]\n"
     ]
    },
    {
     "name": "stdout",
     "output_type": "stream",
     "text": [
      "0.625 -> output_filename='2024-10-07_caustique-bands/caustique_grating-image_threshold=0.625_4deed9b3.png' \n"
     ]
    },
    {
     "name": "stderr",
     "output_type": "stream",
     "text": [
      "100%|██████████| 81/81 [14:18<00:00, 10.60s/it]\n",
      "100%|██████████| 1/1 [14:18<00:00, 858.27s/it]\n",
      "100%|██████████| 1/1 [00:02<00:00,  2.22s/it]\n"
     ]
    },
    {
     "name": "stdout",
     "output_type": "stream",
     "text": [
      "0.750 -> output_filename='2024-10-07_caustique-bands/caustique_grating-image_threshold=0.750_52e315cb.png' \n"
     ]
    },
    {
     "name": "stderr",
     "output_type": "stream",
     "text": [
      "100%|██████████| 81/81 [14:22<00:00, 10.65s/it]\n",
      "100%|██████████| 1/1 [14:22<00:00, 862.39s/it]\n",
      "100%|██████████| 1/1 [00:02<00:00,  2.00s/it]"
     ]
    },
    {
     "name": "stdout",
     "output_type": "stream",
     "text": [
      "0.875 -> output_filename='2024-10-07_caustique-bands/caustique_grating-image_threshold=0.875_15c26694.png' \n"
     ]
    },
    {
     "name": "stderr",
     "output_type": "stream",
     "text": [
      "\n"
     ]
    }
   ],
   "source": [
    "for threshold in np.linspace(0, 1, N_scan+2, endpoint=True)[1:-1]:\n",
    "    opt = init()\n",
    "    c = Caustique(opt)\n",
    "\n",
    "    c.opt.tag = f'{c.opt.tag}_{type}-image_{threshold=:.3f}'\n",
    "    image = generate_image(nx=c.opt.nx, ny=c.opt.ny, threshold=threshold)\n",
    "    output_filename = c.plot(z, image)\n",
    "    print(f'{threshold:.3f} -> {output_filename=} ')\n",
    "    if c.opt.do_display: c.show(output_filename)"
   ]
  },
  {
   "cell_type": "code",
   "execution_count": 26,
   "metadata": {
    "execution": {
     "iopub.execute_input": "2024-10-15T15:38:08.377742Z",
     "iopub.status.busy": "2024-10-15T15:38:08.377620Z",
     "iopub.status.idle": "2024-10-15T15:38:09.181015Z",
     "shell.execute_reply": "2024-10-15T15:38:09.180560Z"
    }
   },
   "outputs": [
    {
     "name": "stderr",
     "output_type": "stream",
     "text": [
      "100%|██████████| 81/81 [14:22<00:00, 10.65s/it]\n",
      "100%|██████████| 1/1 [14:22<00:00, 862.73s/it]\n",
      "100%|██████████| 1/1 [00:01<00:00,  1.68s/it]\n"
     ]
    },
    {
     "name": "stdout",
     "output_type": "stream",
     "text": [
      "radius=0.143 -> output_filename='2024-10-07_caustique-bands/caustique_grating-image_radius=0.143_5ac8826c.png' \n"
     ]
    },
    {
     "name": "stderr",
     "output_type": "stream",
     "text": [
      "100%|██████████| 81/81 [14:24<00:00, 10.67s/it]\n",
      "100%|██████████| 1/1 [14:24<00:00, 864.60s/it]\n",
      "100%|██████████| 1/1 [00:01<00:00,  1.75s/it]\n"
     ]
    },
    {
     "name": "stdout",
     "output_type": "stream",
     "text": [
      "radius=0.286 -> output_filename='2024-10-07_caustique-bands/caustique_grating-image_radius=0.286_2cf35ab3.png' \n"
     ]
    },
    {
     "name": "stderr",
     "output_type": "stream",
     "text": [
      "100%|██████████| 81/81 [14:21<00:00, 10.64s/it]\n",
      "100%|██████████| 1/1 [14:21<00:00, 861.52s/it]\n",
      "100%|██████████| 1/1 [00:01<00:00,  1.88s/it]\n"
     ]
    },
    {
     "name": "stdout",
     "output_type": "stream",
     "text": [
      "radius=0.429 -> output_filename='2024-10-07_caustique-bands/caustique_grating-image_radius=0.429_1bcb1677.png' \n"
     ]
    },
    {
     "name": "stderr",
     "output_type": "stream",
     "text": [
      "100%|██████████| 81/81 [14:20<00:00, 10.62s/it]\n",
      "100%|██████████| 1/1 [14:20<00:00, 860.55s/it]\n",
      "100%|██████████| 1/1 [00:01<00:00,  1.97s/it]\n"
     ]
    },
    {
     "name": "stdout",
     "output_type": "stream",
     "text": [
      "radius=0.571 -> output_filename='2024-10-07_caustique-bands/caustique_grating-image_radius=0.571_2c2ae87b.png' \n"
     ]
    },
    {
     "name": "stderr",
     "output_type": "stream",
     "text": [
      "100%|██████████| 81/81 [14:20<00:00, 10.63s/it]\n",
      "100%|██████████| 1/1 [14:20<00:00, 860.90s/it]\n",
      "100%|██████████| 1/1 [00:02<00:00,  2.07s/it]\n"
     ]
    },
    {
     "name": "stdout",
     "output_type": "stream",
     "text": [
      "radius=0.714 -> output_filename='2024-10-07_caustique-bands/caustique_grating-image_radius=0.714_dc6b28b7.png' \n"
     ]
    },
    {
     "name": "stderr",
     "output_type": "stream",
     "text": [
      "100%|██████████| 81/81 [14:21<00:00, 10.63s/it]\n",
      "100%|██████████| 1/1 [14:21<00:00, 861.42s/it]\n",
      "100%|██████████| 1/1 [00:02<00:00,  2.13s/it]\n"
     ]
    },
    {
     "name": "stdout",
     "output_type": "stream",
     "text": [
      "radius=0.857 -> output_filename='2024-10-07_caustique-bands/caustique_grating-image_radius=0.857_6fb4079b.png' \n"
     ]
    },
    {
     "name": "stderr",
     "output_type": "stream",
     "text": [
      "100%|██████████| 81/81 [14:21<00:00, 10.63s/it]\n",
      "100%|██████████| 1/1 [14:21<00:00, 861.39s/it]\n",
      "100%|██████████| 1/1 [00:02<00:00,  2.25s/it]"
     ]
    },
    {
     "name": "stdout",
     "output_type": "stream",
     "text": [
      "radius=1.000 -> output_filename='2024-10-07_caustique-bands/caustique_grating-image_radius=1.000_57c235d8.png' \n"
     ]
    },
    {
     "name": "stderr",
     "output_type": "stream",
     "text": [
      "\n"
     ]
    }
   ],
   "source": [
    "for radius in np.linspace(0, 1, N_scan+1)[1:]:\n",
    "    opt = init()\n",
    "    c = Caustique(opt)\n",
    "\n",
    "    c.opt.tag = f'{c.opt.tag}_{type}-image_{radius=:.3f}'\n",
    "    image = generate_image(nx=c.opt.nx, ny=c.opt.ny, radius=radius)\n",
    "    output_filename = c.plot(z, image)\n",
    "    print(f'{radius=:.3f} -> {output_filename=} ')\n",
    "    if c.opt.do_display: c.show(output_filename)"
   ]
  },
  {
   "cell_type": "code",
   "execution_count": 27,
   "metadata": {
    "execution": {
     "iopub.execute_input": "2024-10-15T15:38:09.183153Z",
     "iopub.status.busy": "2024-10-15T15:38:09.183020Z",
     "iopub.status.idle": "2024-10-15T15:38:10.030457Z",
     "shell.execute_reply": "2024-10-15T15:38:10.030180Z"
    }
   },
   "outputs": [
    {
     "name": "stderr",
     "output_type": "stream",
     "text": [
      "100%|██████████| 81/81 [14:20<00:00, 10.63s/it]\n",
      "100%|██████████| 1/1 [14:20<00:00, 860.88s/it]\n",
      "100%|██████████| 1/1 [00:01<00:00,  1.95s/it]\n"
     ]
    },
    {
     "name": "stdout",
     "output_type": "stream",
     "text": [
      "periods=1.000 -> output_filename='2024-10-07_caustique-bands/caustique_grating-image_periods=1.00e+00_739fbe5c.png' \n"
     ]
    },
    {
     "name": "stderr",
     "output_type": "stream",
     "text": [
      "100%|██████████| 81/81 [14:22<00:00, 10.65s/it]\n",
      "100%|██████████| 1/1 [14:22<00:00, 862.31s/it]\n",
      "100%|██████████| 1/1 [00:02<00:00,  2.27s/it]\n"
     ]
    },
    {
     "name": "stdout",
     "output_type": "stream",
     "text": [
      "periods=1.468 -> output_filename='2024-10-07_caustique-bands/caustique_grating-image_periods=1.47e+00_69b7f0df.png' \n"
     ]
    },
    {
     "name": "stderr",
     "output_type": "stream",
     "text": [
      "100%|██████████| 81/81 [14:21<00:00, 10.64s/it]\n",
      "100%|██████████| 1/1 [14:21<00:00, 861.96s/it]\n",
      "100%|██████████| 1/1 [00:02<00:00,  2.16s/it]\n"
     ]
    },
    {
     "name": "stdout",
     "output_type": "stream",
     "text": [
      "periods=2.154 -> output_filename='2024-10-07_caustique-bands/caustique_grating-image_periods=2.15e+00_27992bd3.png' \n"
     ]
    },
    {
     "name": "stderr",
     "output_type": "stream",
     "text": [
      "100%|██████████| 81/81 [14:22<00:00, 10.65s/it]\n",
      "100%|██████████| 1/1 [14:22<00:00, 862.58s/it]\n",
      "100%|██████████| 1/1 [00:02<00:00,  2.15s/it]\n"
     ]
    },
    {
     "name": "stdout",
     "output_type": "stream",
     "text": [
      "periods=3.162 -> output_filename='2024-10-07_caustique-bands/caustique_grating-image_periods=3.16e+00_58420fd5.png' \n"
     ]
    },
    {
     "name": "stderr",
     "output_type": "stream",
     "text": [
      "100%|██████████| 81/81 [14:21<00:00, 10.64s/it]\n",
      "100%|██████████| 1/1 [14:21<00:00, 861.82s/it]\n",
      "100%|██████████| 1/1 [00:02<00:00,  2.24s/it]\n"
     ]
    },
    {
     "name": "stdout",
     "output_type": "stream",
     "text": [
      "periods=4.642 -> output_filename='2024-10-07_caustique-bands/caustique_grating-image_periods=4.64e+00_e8aa972d.png' \n"
     ]
    },
    {
     "name": "stderr",
     "output_type": "stream",
     "text": [
      "100%|██████████| 81/81 [14:22<00:00, 10.65s/it]\n",
      "100%|██████████| 1/1 [14:22<00:00, 862.42s/it]\n",
      "100%|██████████| 1/1 [00:02<00:00,  2.28s/it]\n"
     ]
    },
    {
     "name": "stdout",
     "output_type": "stream",
     "text": [
      "periods=6.813 -> output_filename='2024-10-07_caustique-bands/caustique_grating-image_periods=6.81e+00_7b777f26.png' \n"
     ]
    },
    {
     "name": "stderr",
     "output_type": "stream",
     "text": [
      "100%|██████████| 81/81 [14:21<00:00, 10.64s/it]\n",
      "100%|██████████| 1/1 [14:21<00:00, 861.82s/it]\n",
      "100%|██████████| 1/1 [00:02<00:00,  2.45s/it]"
     ]
    },
    {
     "name": "stdout",
     "output_type": "stream",
     "text": [
      "periods=10.000 -> output_filename='2024-10-07_caustique-bands/caustique_grating-image_periods=1.00e+01_617a9825.png' \n"
     ]
    },
    {
     "name": "stderr",
     "output_type": "stream",
     "text": [
      "\n"
     ]
    }
   ],
   "source": [
    "for periods in np.logspace(0, 1, N_scan, base=10):\n",
    "    opt = init()\n",
    "    c = Caustique(opt)\n",
    "\n",
    "    c.opt.tag = f'{c.opt.tag}_{type}-image_{periods=:.2e}'\n",
    "    image = generate_image(nx=c.opt.nx, ny=c.opt.ny, periods=periods)\n",
    "    output_filename = c.plot(z, image)\n",
    "    print(f'{periods=:.3f} -> {output_filename=} ')\n",
    "    if c.opt.do_display: c.show(output_filename)"
   ]
  },
  {
   "cell_type": "code",
   "execution_count": 28,
   "metadata": {
    "execution": {
     "iopub.execute_input": "2024-10-15T15:38:10.033070Z",
     "iopub.status.busy": "2024-10-15T15:38:10.032954Z",
     "iopub.status.idle": "2024-10-15T15:38:11.026248Z",
     "shell.execute_reply": "2024-10-15T15:38:11.025983Z"
    }
   },
   "outputs": [
    {
     "name": "stdout",
     "output_type": "stream",
     "text": [
      "======scale======\n",
      "The history saving thread hit an unexpected error (OperationalError('attempt to write a readonly database')).History will not be written to the database.\n"
     ]
    },
    {
     "name": "stderr",
     "output_type": "stream",
     "text": [
      "100%|██████████| 81/81 [16:17<00:00, 12.07s/it]\n",
      "100%|██████████| 1/1 [16:17<00:00, 977.91s/it]\n",
      "100%|██████████| 1/1 [00:03<00:00,  3.24s/it]\n"
     ]
    },
    {
     "name": "stdout",
     "output_type": "stream",
     "text": [
      "scale=scale(default)*0.250=9.728E+02 -> output_filename='2024-10-07_caustique-bands/caustique_scale_modul_0.250_348bc94c.png'\n"
     ]
    },
    {
     "name": "stderr",
     "output_type": "stream",
     "text": [
      "100%|██████████| 81/81 [15:27<00:00, 11.45s/it]\n",
      "100%|██████████| 1/1 [15:27<00:00, 927.67s/it]\n",
      "100%|██████████| 1/1 [00:02<00:00,  2.58s/it]\n"
     ]
    },
    {
     "name": "stdout",
     "output_type": "stream",
     "text": [
      "scale=scale(default)*0.397=1.544E+03 -> output_filename='2024-10-07_caustique-bands/caustique_scale_modul_0.397_734677a9.png'\n"
     ]
    },
    {
     "name": "stderr",
     "output_type": "stream",
     "text": [
      "100%|██████████| 81/81 [14:44<00:00, 10.92s/it]\n",
      "100%|██████████| 1/1 [14:44<00:00, 884.44s/it]\n",
      "100%|██████████| 1/1 [00:02<00:00,  2.24s/it]\n"
     ]
    },
    {
     "name": "stdout",
     "output_type": "stream",
     "text": [
      "scale=scale(default)*0.630=2.451E+03 -> output_filename='2024-10-07_caustique-bands/caustique_scale_modul_0.630_cdd8e29e.png'\n"
     ]
    },
    {
     "name": "stderr",
     "output_type": "stream",
     "text": [
      "100%|██████████| 81/81 [14:15<00:00, 10.56s/it]\n",
      "100%|██████████| 1/1 [14:15<00:00, 855.15s/it]\n",
      "100%|██████████| 1/1 [00:02<00:00,  2.15s/it]\n"
     ]
    },
    {
     "name": "stdout",
     "output_type": "stream",
     "text": [
      "scale=scale(default)*1.000=3.891E+03 -> output_filename='2024-10-07_caustique-bands/caustique_scale_modul_1.000_ea9920e5.png'\n"
     ]
    },
    {
     "name": "stderr",
     "output_type": "stream",
     "text": [
      "100%|██████████| 81/81 [14:03<00:00, 10.41s/it]\n",
      "100%|██████████| 1/1 [14:03<00:00, 843.45s/it]\n",
      "100%|██████████| 1/1 [00:02<00:00,  2.16s/it]\n"
     ]
    },
    {
     "name": "stdout",
     "output_type": "stream",
     "text": [
      "scale=scale(default)*1.587=6.177E+03 -> output_filename='2024-10-07_caustique-bands/caustique_scale_modul_1.587_7c2e8f1f.png'\n"
     ]
    },
    {
     "name": "stderr",
     "output_type": "stream",
     "text": [
      "100%|██████████| 81/81 [13:53<00:00, 10.29s/it]\n",
      "100%|██████████| 1/1 [13:53<00:00, 833.86s/it]\n",
      "100%|██████████| 1/1 [00:02<00:00,  2.13s/it]\n"
     ]
    },
    {
     "name": "stdout",
     "output_type": "stream",
     "text": [
      "scale=scale(default)*2.520=9.805E+03 -> output_filename='2024-10-07_caustique-bands/caustique_scale_modul_2.520_5f51613d.png'\n"
     ]
    },
    {
     "name": "stderr",
     "output_type": "stream",
     "text": [
      "100%|██████████| 81/81 [13:46<00:00, 10.21s/it]\n",
      "100%|██████████| 1/1 [13:46<00:00, 826.61s/it]\n",
      "100%|██████████| 1/1 [00:02<00:00,  2.13s/it]\n"
     ]
    },
    {
     "name": "stdout",
     "output_type": "stream",
     "text": [
      "scale=scale(default)*4.000=1.556E+04 -> output_filename='2024-10-07_caustique-bands/caustique_scale_modul_4.000_a8c09d48.png'\n",
      "======B_sf======\n"
     ]
    },
    {
     "name": "stderr",
     "output_type": "stream",
     "text": [
      "100%|██████████| 81/81 [14:01<00:00, 10.39s/it]\n",
      "100%|██████████| 1/1 [14:01<00:00, 841.58s/it]\n",
      "100%|██████████| 1/1 [00:02<00:00,  2.13s/it]\n"
     ]
    },
    {
     "name": "stdout",
     "output_type": "stream",
     "text": [
      "B_sf=B_sf(default)*0.250=2.500E-01 -> output_filename='2024-10-07_caustique-bands/caustique_B_sf_modul_0.250_e57ead10.png'\n"
     ]
    },
    {
     "name": "stderr",
     "output_type": "stream",
     "text": [
      "100%|██████████| 81/81 [14:04<00:00, 10.43s/it]\n",
      "100%|██████████| 1/1 [14:04<00:00, 844.87s/it]\n",
      "100%|██████████| 1/1 [00:02<00:00,  2.12s/it]\n"
     ]
    },
    {
     "name": "stdout",
     "output_type": "stream",
     "text": [
      "B_sf=B_sf(default)*0.397=3.969E-01 -> output_filename='2024-10-07_caustique-bands/caustique_B_sf_modul_0.397_4a604984.png'\n"
     ]
    },
    {
     "name": "stderr",
     "output_type": "stream",
     "text": [
      "100%|██████████| 81/81 [14:07<00:00, 10.46s/it]\n",
      "100%|██████████| 1/1 [14:07<00:00, 847.33s/it]\n",
      "100%|██████████| 1/1 [00:02<00:00,  2.14s/it]\n"
     ]
    },
    {
     "name": "stdout",
     "output_type": "stream",
     "text": [
      "B_sf=B_sf(default)*0.630=6.300E-01 -> output_filename='2024-10-07_caustique-bands/caustique_B_sf_modul_0.630_f5461c92.png'\n"
     ]
    },
    {
     "name": "stderr",
     "output_type": "stream",
     "text": [
      "100%|██████████| 81/81 [14:14<00:00, 10.55s/it]\n",
      "100%|██████████| 1/1 [14:14<00:00, 854.30s/it]\n",
      "100%|██████████| 1/1 [00:02<00:00,  2.17s/it]\n"
     ]
    },
    {
     "name": "stdout",
     "output_type": "stream",
     "text": [
      "B_sf=B_sf(default)*1.000=1.000E+00 -> output_filename='2024-10-07_caustique-bands/caustique_B_sf_modul_1.000_a661a52e.png'\n"
     ]
    },
    {
     "name": "stderr",
     "output_type": "stream",
     "text": [
      "100%|██████████| 81/81 [14:44<00:00, 10.92s/it]\n",
      "100%|██████████| 1/1 [14:44<00:00, 884.83s/it]\n",
      "100%|██████████| 1/1 [00:02<00:00,  2.22s/it]\n"
     ]
    },
    {
     "name": "stdout",
     "output_type": "stream",
     "text": [
      "B_sf=B_sf(default)*1.587=1.587E+00 -> output_filename='2024-10-07_caustique-bands/caustique_B_sf_modul_1.587_a218b0d6.png'\n"
     ]
    },
    {
     "name": "stderr",
     "output_type": "stream",
     "text": [
      "100%|██████████| 81/81 [16:26<00:00, 12.18s/it]\n",
      "100%|██████████| 1/1 [16:26<00:00, 986.88s/it]\n",
      "100%|██████████| 1/1 [00:02<00:00,  2.48s/it]\n"
     ]
    },
    {
     "name": "stdout",
     "output_type": "stream",
     "text": [
      "B_sf=B_sf(default)*2.520=2.520E+00 -> output_filename='2024-10-07_caustique-bands/caustique_B_sf_modul_2.520_0c8de871.png'\n"
     ]
    },
    {
     "name": "stderr",
     "output_type": "stream",
     "text": [
      "100%|██████████| 81/81 [22:22<00:00, 16.58s/it]\n",
      "100%|██████████| 1/1 [22:22<00:00, 1342.82s/it]\n",
      "100%|██████████| 1/1 [00:03<00:00,  3.13s/it]\n"
     ]
    },
    {
     "name": "stdout",
     "output_type": "stream",
     "text": [
      "B_sf=B_sf(default)*4.000=4.000E+00 -> output_filename='2024-10-07_caustique-bands/caustique_B_sf_modul_4.000_86ea3faf.png'\n",
      "======theta======\n"
     ]
    },
    {
     "name": "stderr",
     "output_type": "stream",
     "text": [
      "100%|██████████| 81/81 [14:11<00:00, 10.51s/it]\n",
      "100%|██████████| 1/1 [14:11<00:00, 851.18s/it]\n",
      "100%|██████████| 1/1 [00:02<00:00,  2.14s/it]\n"
     ]
    },
    {
     "name": "stdout",
     "output_type": "stream",
     "text": [
      "theta=theta(default)*0.250=3.927E-01 -> output_filename='2024-10-07_caustique-bands/caustique_theta_modul_0.250_81afb82b.png'\n"
     ]
    },
    {
     "name": "stderr",
     "output_type": "stream",
     "text": [
      "100%|██████████| 81/81 [14:12<00:00, 10.52s/it]\n",
      "100%|██████████| 1/1 [14:12<00:00, 852.10s/it]\n",
      "100%|██████████| 1/1 [00:02<00:00,  2.14s/it]\n"
     ]
    },
    {
     "name": "stdout",
     "output_type": "stream",
     "text": [
      "theta=theta(default)*0.397=6.234E-01 -> output_filename='2024-10-07_caustique-bands/caustique_theta_modul_0.397_30f94d25.png'\n"
     ]
    },
    {
     "name": "stderr",
     "output_type": "stream",
     "text": [
      "100%|██████████| 81/81 [14:13<00:00, 10.54s/it]\n",
      "100%|██████████| 1/1 [14:13<00:00, 853.47s/it]\n",
      "100%|██████████| 1/1 [00:02<00:00,  2.15s/it]\n"
     ]
    },
    {
     "name": "stdout",
     "output_type": "stream",
     "text": [
      "theta=theta(default)*0.630=9.895E-01 -> output_filename='2024-10-07_caustique-bands/caustique_theta_modul_0.630_66df7a62.png'\n"
     ]
    },
    {
     "name": "stderr",
     "output_type": "stream",
     "text": [
      "100%|██████████| 81/81 [14:16<00:00, 10.57s/it]\n",
      "100%|██████████| 1/1 [14:16<00:00, 856.18s/it]\n",
      "100%|██████████| 1/1 [00:02<00:00,  2.14s/it]\n"
     ]
    },
    {
     "name": "stdout",
     "output_type": "stream",
     "text": [
      "theta=theta(default)*1.000=1.571E+00 -> output_filename='2024-10-07_caustique-bands/caustique_theta_modul_1.000_7a6ba4a2.png'\n"
     ]
    },
    {
     "name": "stderr",
     "output_type": "stream",
     "text": [
      "100%|██████████| 81/81 [14:12<00:00, 10.52s/it]\n",
      "100%|██████████| 1/1 [14:12<00:00, 852.14s/it]\n",
      "100%|██████████| 1/1 [00:02<00:00,  2.19s/it]\n"
     ]
    },
    {
     "name": "stdout",
     "output_type": "stream",
     "text": [
      "theta=theta(default)*1.587=2.493E+00 -> output_filename='2024-10-07_caustique-bands/caustique_theta_modul_1.587_54d35875.png'\n"
     ]
    },
    {
     "name": "stderr",
     "output_type": "stream",
     "text": [
      "100%|██████████| 81/81 [14:13<00:00, 10.53s/it]\n",
      "100%|██████████| 1/1 [14:13<00:00, 853.14s/it]\n",
      "100%|██████████| 1/1 [00:02<00:00,  2.17s/it]\n"
     ]
    },
    {
     "name": "stdout",
     "output_type": "stream",
     "text": [
      "theta=theta(default)*2.520=3.958E+00 -> output_filename='2024-10-07_caustique-bands/caustique_theta_modul_2.520_1399553f.png'\n"
     ]
    },
    {
     "name": "stderr",
     "output_type": "stream",
     "text": [
      "100%|██████████| 81/81 [14:09<00:00, 10.49s/it]\n",
      "100%|██████████| 1/1 [14:09<00:00, 849.88s/it]\n",
      "100%|██████████| 1/1 [00:02<00:00,  2.15s/it]\n"
     ]
    },
    {
     "name": "stdout",
     "output_type": "stream",
     "text": [
      "theta=theta(default)*4.000=6.283E+00 -> output_filename='2024-10-07_caustique-bands/caustique_theta_modul_4.000_62376974.png'\n",
      "======B_theta======\n"
     ]
    },
    {
     "name": "stderr",
     "output_type": "stream",
     "text": [
      "100%|██████████| 81/81 [14:20<00:00, 10.63s/it]\n",
      "100%|██████████| 1/1 [14:20<00:00, 860.76s/it]\n",
      "100%|██████████| 1/1 [00:02<00:00,  2.17s/it]\n"
     ]
    },
    {
     "name": "stdout",
     "output_type": "stream",
     "text": [
      "B_theta=B_theta(default)*0.250=2.618E-01 -> output_filename='2024-10-07_caustique-bands/caustique_B_theta_modul_0.250_06e8b02e.png'\n"
     ]
    },
    {
     "name": "stderr",
     "output_type": "stream",
     "text": [
      "100%|██████████| 81/81 [14:21<00:00, 10.63s/it]\n",
      "100%|██████████| 1/1 [14:21<00:00, 861.26s/it]\n",
      "100%|██████████| 1/1 [00:02<00:00,  2.17s/it]\n"
     ]
    },
    {
     "name": "stdout",
     "output_type": "stream",
     "text": [
      "B_theta=B_theta(default)*0.397=4.156E-01 -> output_filename='2024-10-07_caustique-bands/caustique_B_theta_modul_0.397_00bdd4a6.png'\n"
     ]
    },
    {
     "name": "stderr",
     "output_type": "stream",
     "text": [
      "100%|██████████| 81/81 [14:20<00:00, 10.63s/it]\n",
      "100%|██████████| 1/1 [14:20<00:00, 860.70s/it]\n",
      "100%|██████████| 1/1 [00:02<00:00,  2.17s/it]\n"
     ]
    },
    {
     "name": "stdout",
     "output_type": "stream",
     "text": [
      "B_theta=B_theta(default)*0.630=6.597E-01 -> output_filename='2024-10-07_caustique-bands/caustique_B_theta_modul_0.630_d9cf1128.png'\n"
     ]
    },
    {
     "name": "stderr",
     "output_type": "stream",
     "text": [
      "100%|██████████| 81/81 [14:14<00:00, 10.55s/it]\n",
      "100%|██████████| 1/1 [14:14<00:00, 854.26s/it]\n",
      "100%|██████████| 1/1 [00:02<00:00,  2.15s/it]\n"
     ]
    },
    {
     "name": "stdout",
     "output_type": "stream",
     "text": [
      "B_theta=B_theta(default)*1.000=1.047E+00 -> output_filename='2024-10-07_caustique-bands/caustique_B_theta_modul_1.000_c6a29862.png'\n"
     ]
    },
    {
     "name": "stderr",
     "output_type": "stream",
     "text": [
      "100%|██████████| 81/81 [14:14<00:00, 10.54s/it]\n",
      "100%|██████████| 1/1 [14:14<00:00, 854.03s/it]\n",
      "100%|██████████| 1/1 [00:02<00:00,  2.17s/it]\n"
     ]
    },
    {
     "name": "stdout",
     "output_type": "stream",
     "text": [
      "B_theta=B_theta(default)*1.587=1.662E+00 -> output_filename='2024-10-07_caustique-bands/caustique_B_theta_modul_1.587_a6ebfa6b.png'\n"
     ]
    },
    {
     "name": "stderr",
     "output_type": "stream",
     "text": [
      "100%|██████████| 81/81 [14:12<00:00, 10.52s/it]\n",
      "100%|██████████| 1/1 [14:12<00:00, 852.39s/it]\n",
      "100%|██████████| 1/1 [00:02<00:00,  2.16s/it]\n"
     ]
    },
    {
     "name": "stdout",
     "output_type": "stream",
     "text": [
      "B_theta=B_theta(default)*2.520=2.639E+00 -> output_filename='2024-10-07_caustique-bands/caustique_B_theta_modul_2.520_b63b53bd.png'\n"
     ]
    },
    {
     "name": "stderr",
     "output_type": "stream",
     "text": [
      "100%|██████████| 81/81 [14:12<00:00, 10.52s/it]\n",
      "100%|██████████| 1/1 [14:12<00:00, 852.04s/it]\n",
      "100%|██████████| 1/1 [00:02<00:00,  2.14s/it]\n"
     ]
    },
    {
     "name": "stdout",
     "output_type": "stream",
     "text": [
      "B_theta=B_theta(default)*4.000=4.189E+00 -> output_filename='2024-10-07_caustique-bands/caustique_B_theta_modul_4.000_c3098889.png'\n",
      "======gamma======\n",
      "gamma=gamma(default)*0.250=7.500E-01 -> output_filename='2024-10-07_caustique-bands/caustique_gamma_modul_0.250_cda9494d.png'\n",
      "gamma=gamma(default)*0.397=1.191E+00 -> output_filename='2024-10-07_caustique-bands/caustique_gamma_modul_0.397_db6ec9ec.png'\n",
      "gamma=gamma(default)*0.630=1.890E+00 -> output_filename='2024-10-07_caustique-bands/caustique_gamma_modul_0.630_69bce8bf.png'\n",
      "gamma=gamma(default)*1.000=3.000E+00 -> output_filename='2024-10-07_caustique-bands/caustique_gamma_modul_1.000_1809f229.png'\n",
      "gamma=gamma(default)*1.587=4.762E+00 -> output_filename='2024-10-07_caustique-bands/caustique_gamma_modul_1.587_f9ca17ff.png'\n",
      "gamma=gamma(default)*2.520=7.560E+00 -> output_filename='2024-10-07_caustique-bands/caustique_gamma_modul_2.520_1b8157d2.png'\n",
      "gamma=gamma(default)*4.000=1.200E+01 -> output_filename='2024-10-07_caustique-bands/caustique_gamma_modul_4.000_ce6a3712.png'\n",
      "======min_lum======\n",
      "min_lum=min_lum(default)*0.250=2.500E-03 -> output_filename='2024-10-07_caustique-bands/caustique_min_lum_modul_0.250_6e85f09a.png'\n",
      "min_lum=min_lum(default)*0.397=3.969E-03 -> output_filename='2024-10-07_caustique-bands/caustique_min_lum_modul_0.397_b0dc09a3.png'\n",
      "min_lum=min_lum(default)*0.630=6.300E-03 -> output_filename='2024-10-07_caustique-bands/caustique_min_lum_modul_0.630_ce1dda16.png'\n",
      "min_lum=min_lum(default)*1.000=1.000E-02 -> output_filename='2024-10-07_caustique-bands/caustique_min_lum_modul_1.000_403a1c35.png'\n",
      "min_lum=min_lum(default)*1.587=1.587E-02 -> output_filename='2024-10-07_caustique-bands/caustique_min_lum_modul_1.587_510e80bc.png'\n",
      "min_lum=min_lum(default)*2.520=2.520E-02 -> output_filename='2024-10-07_caustique-bands/caustique_min_lum_modul_2.520_39ad885f.png'\n",
      "min_lum=min_lum(default)*4.000=4.000E-02 -> output_filename='2024-10-07_caustique-bands/caustique_min_lum_modul_4.000_48dea967.png'\n",
      "======zmin======\n"
     ]
    },
    {
     "name": "stderr",
     "output_type": "stream",
     "text": [
      "100%|██████████| 81/81 [14:12<00:00, 10.53s/it]\n",
      "100%|██████████| 1/1 [14:12<00:00, 852.76s/it]\n",
      "100%|██████████| 1/1 [00:02<00:00,  2.15s/it]\n"
     ]
    },
    {
     "name": "stdout",
     "output_type": "stream",
     "text": [
      "zmin=zmin(default)*0.250=2.500E-02 -> output_filename='2024-10-07_caustique-bands/caustique_zmin_modul_0.250_db37e98a.png'\n"
     ]
    },
    {
     "name": "stderr",
     "output_type": "stream",
     "text": [
      "100%|██████████| 81/81 [14:13<00:00, 10.54s/it]\n",
      "100%|██████████| 1/1 [14:13<00:00, 853.63s/it]\n",
      "100%|██████████| 1/1 [00:02<00:00,  2.15s/it]\n"
     ]
    },
    {
     "name": "stdout",
     "output_type": "stream",
     "text": [
      "zmin=zmin(default)*0.397=3.969E-02 -> output_filename='2024-10-07_caustique-bands/caustique_zmin_modul_0.397_23d4cd4b.png'\n"
     ]
    },
    {
     "name": "stderr",
     "output_type": "stream",
     "text": [
      "100%|██████████| 81/81 [14:13<00:00, 10.53s/it]\n",
      "100%|██████████| 1/1 [14:13<00:00, 853.02s/it]\n",
      "100%|██████████| 1/1 [00:02<00:00,  2.17s/it]\n"
     ]
    },
    {
     "name": "stdout",
     "output_type": "stream",
     "text": [
      "zmin=zmin(default)*0.630=6.300E-02 -> output_filename='2024-10-07_caustique-bands/caustique_zmin_modul_0.630_01f62ac4.png'\n"
     ]
    },
    {
     "name": "stderr",
     "output_type": "stream",
     "text": [
      "100%|██████████| 81/81 [14:12<00:00, 10.53s/it]\n",
      "100%|██████████| 1/1 [14:12<00:00, 852.71s/it]\n",
      "100%|██████████| 1/1 [00:02<00:00,  2.34s/it]\n"
     ]
    },
    {
     "name": "stdout",
     "output_type": "stream",
     "text": [
      "zmin=zmin(default)*1.000=1.000E-01 -> output_filename='2024-10-07_caustique-bands/caustique_zmin_modul_1.000_7e66bff3.png'\n"
     ]
    },
    {
     "name": "stderr",
     "output_type": "stream",
     "text": [
      "100%|██████████| 81/81 [14:14<00:00, 10.55s/it]\n",
      "100%|██████████| 1/1 [14:14<00:00, 854.79s/it]\n",
      "100%|██████████| 1/1 [00:02<00:00,  2.17s/it]\n"
     ]
    },
    {
     "name": "stdout",
     "output_type": "stream",
     "text": [
      "zmin=zmin(default)*1.587=1.587E-01 -> output_filename='2024-10-07_caustique-bands/caustique_zmin_modul_1.587_5b1e5f2d.png'\n"
     ]
    },
    {
     "name": "stderr",
     "output_type": "stream",
     "text": [
      "100%|██████████| 81/81 [14:15<00:00, 10.56s/it]\n",
      "100%|██████████| 1/1 [14:15<00:00, 855.54s/it]\n",
      "100%|██████████| 1/1 [00:02<00:00,  2.36s/it]\n"
     ]
    },
    {
     "name": "stdout",
     "output_type": "stream",
     "text": [
      "zmin=zmin(default)*2.520=2.520E-01 -> output_filename='2024-10-07_caustique-bands/caustique_zmin_modul_2.520_f725a573.png'\n"
     ]
    },
    {
     "name": "stderr",
     "output_type": "stream",
     "text": [
      "100%|██████████| 81/81 [14:18<00:00, 10.60s/it]\n",
      "100%|██████████| 1/1 [14:18<00:00, 858.49s/it]\n",
      "100%|██████████| 1/1 [00:02<00:00,  2.37s/it]"
     ]
    },
    {
     "name": "stdout",
     "output_type": "stream",
     "text": [
      "zmin=zmin(default)*4.000=4.000E-01 -> output_filename='2024-10-07_caustique-bands/caustique_zmin_modul_4.000_ddb1a9eb.png'\n"
     ]
    },
    {
     "name": "stderr",
     "output_type": "stream",
     "text": [
      "\n"
     ]
    }
   ],
   "source": [
    "for variable in ['scale', 'B_sf', 'theta',  'B_theta', 'gamma', 'min_lum', 'zmin']: #  'V_Y', 'V_X', 'B_V', \n",
    "    print(f'======{variable}======')\n",
    "    for modul in np.logspace(-1, 1, N_scan, base=base):\n",
    "        opt = init()\n",
    "        c = Caustique(opt)\n",
    "        c.d[variable] *= modul\n",
    "        c.opt.tag = f'{c.opt.tag}_{variable}_modul_{modul:.3f}'\n",
    "        z = c.wave(do_cache=False)\n",
    "        image = generate_image(nx=c.opt.nx, ny=c.opt.ny)\n",
    "        output_filename = c.plot(z, image)\n",
    "        print(f'{variable}={variable}(default)*{modul:.3f}={c.d[variable]:.3E} -> {output_filename=}')\n",
    "        if c.opt.do_display: c.show(output_filename)"
   ]
  }
 ],
 "metadata": {
  "kernelspec": {
   "display_name": ".venv",
   "language": "python",
   "name": "python3"
  },
  "language_info": {
   "codemirror_mode": {
    "name": "ipython",
    "version": 3
   },
   "file_extension": ".py",
   "mimetype": "text/x-python",
   "name": "python",
   "nbconvert_exporter": "python",
   "pygments_lexer": "ipython3",
   "version": "3.13.3"
  },
  "nteract": {
   "version": "0.28.0"
  },
  "widgets": {
   "application/vnd.jupyter.widget-state+json": {
    "state": {
     "035ab33361e7432caecc80ca2a176575": {
      "model_module": "@jupyter-widgets/controls",
      "model_module_version": "2.0.0",
      "model_name": "FloatProgressModel",
      "state": {
       "_dom_classes": [],
       "_model_module": "@jupyter-widgets/controls",
       "_model_module_version": "2.0.0",
       "_model_name": "FloatProgressModel",
       "_view_count": null,
       "_view_module": "@jupyter-widgets/controls",
       "_view_module_version": "2.0.0",
       "_view_name": "ProgressView",
       "bar_style": "success",
       "description": "",
       "description_allow_html": false,
       "layout": "IPY_MODEL_77f9a290f7dd4b219ba4f735555140e1",
       "max": 256,
       "min": 0,
       "orientation": "horizontal",
       "style": "IPY_MODEL_84e6789a386f4cc3b967f7880483983c",
       "tabbable": null,
       "tooltip": null,
       "value": 256
      }
     },
     "0b73ffb834c2419c973499fdf717431d": {
      "model_module": "@jupyter-widgets/base",
      "model_module_version": "2.0.0",
      "model_name": "LayoutModel",
      "state": {
       "_model_module": "@jupyter-widgets/base",
       "_model_module_version": "2.0.0",
       "_model_name": "LayoutModel",
       "_view_count": null,
       "_view_module": "@jupyter-widgets/base",
       "_view_module_version": "2.0.0",
       "_view_name": "LayoutView",
       "align_content": null,
       "align_items": null,
       "align_self": null,
       "border_bottom": null,
       "border_left": null,
       "border_right": null,
       "border_top": null,
       "bottom": null,
       "display": null,
       "flex": null,
       "flex_flow": null,
       "grid_area": null,
       "grid_auto_columns": null,
       "grid_auto_flow": null,
       "grid_auto_rows": null,
       "grid_column": null,
       "grid_gap": null,
       "grid_row": null,
       "grid_template_areas": null,
       "grid_template_columns": null,
       "grid_template_rows": null,
       "height": null,
       "justify_content": null,
       "justify_items": null,
       "left": null,
       "margin": null,
       "max_height": null,
       "max_width": null,
       "min_height": null,
       "min_width": null,
       "object_fit": null,
       "object_position": null,
       "order": null,
       "overflow": null,
       "padding": null,
       "right": null,
       "top": null,
       "visibility": null,
       "width": null
      }
     },
     "11ae0a75f5b344f396d64dc0adfc23d4": {
      "model_module": "@jupyter-widgets/controls",
      "model_module_version": "2.0.0",
      "model_name": "HTMLStyleModel",
      "state": {
       "_model_module": "@jupyter-widgets/controls",
       "_model_module_version": "2.0.0",
       "_model_name": "HTMLStyleModel",
       "_view_count": null,
       "_view_module": "@jupyter-widgets/base",
       "_view_module_version": "2.0.0",
       "_view_name": "StyleView",
       "background": null,
       "description_width": "",
       "font_size": null,
       "text_color": null
      }
     },
     "1216f0c7b01543ab9e1c4767e78ec994": {
      "model_module": "@jupyter-widgets/base",
      "model_module_version": "2.0.0",
      "model_name": "LayoutModel",
      "state": {
       "_model_module": "@jupyter-widgets/base",
       "_model_module_version": "2.0.0",
       "_model_name": "LayoutModel",
       "_view_count": null,
       "_view_module": "@jupyter-widgets/base",
       "_view_module_version": "2.0.0",
       "_view_name": "LayoutView",
       "align_content": null,
       "align_items": null,
       "align_self": null,
       "border_bottom": null,
       "border_left": null,
       "border_right": null,
       "border_top": null,
       "bottom": null,
       "display": null,
       "flex": null,
       "flex_flow": null,
       "grid_area": null,
       "grid_auto_columns": null,
       "grid_auto_flow": null,
       "grid_auto_rows": null,
       "grid_column": null,
       "grid_gap": null,
       "grid_row": null,
       "grid_template_areas": null,
       "grid_template_columns": null,
       "grid_template_rows": null,
       "height": null,
       "justify_content": null,
       "justify_items": null,
       "left": null,
       "margin": null,
       "max_height": null,
       "max_width": null,
       "min_height": null,
       "min_width": null,
       "object_fit": null,
       "object_position": null,
       "order": null,
       "overflow": null,
       "padding": null,
       "right": null,
       "top": null,
       "visibility": null,
       "width": null
      }
     },
     "17ebce389fa846d99920f6c9c3a1210c": {
      "model_module": "@jupyter-widgets/controls",
      "model_module_version": "2.0.0",
      "model_name": "HTMLModel",
      "state": {
       "_dom_classes": [],
       "_model_module": "@jupyter-widgets/controls",
       "_model_module_version": "2.0.0",
       "_model_name": "HTMLModel",
       "_view_count": null,
       "_view_module": "@jupyter-widgets/controls",
       "_view_module_version": "2.0.0",
       "_view_name": "HTMLView",
       "description": "",
       "description_allow_html": false,
       "layout": "IPY_MODEL_c078cae24ae7430bace625a76b1cb988",
       "placeholder": "​",
       "style": "IPY_MODEL_f16c0a10ddef42d883635f671bda9653",
       "tabbable": null,
       "tooltip": null,
       "value": "100%"
      }
     },
     "190c5912ea914b8bb29e2203e0c9d745": {
      "model_module": "@jupyter-widgets/controls",
      "model_module_version": "2.0.0",
      "model_name": "FloatProgressModel",
      "state": {
       "_dom_classes": [],
       "_model_module": "@jupyter-widgets/controls",
       "_model_module_version": "2.0.0",
       "_model_name": "FloatProgressModel",
       "_view_count": null,
       "_view_module": "@jupyter-widgets/controls",
       "_view_module_version": "2.0.0",
       "_view_name": "ProgressView",
       "bar_style": "success",
       "description": "",
       "description_allow_html": false,
       "layout": "IPY_MODEL_d2044911f735442cbe3dc75e7249db0f",
       "max": 256,
       "min": 0,
       "orientation": "horizontal",
       "style": "IPY_MODEL_cd112c61118142adadc1ffdc3d4fd7dc",
       "tabbable": null,
       "tooltip": null,
       "value": 256
      }
     },
     "19f777cef46a4e6980ab4469675293a5": {
      "model_module": "@jupyter-widgets/controls",
      "model_module_version": "2.0.0",
      "model_name": "FloatProgressModel",
      "state": {
       "_dom_classes": [],
       "_model_module": "@jupyter-widgets/controls",
       "_model_module_version": "2.0.0",
       "_model_name": "FloatProgressModel",
       "_view_count": null,
       "_view_module": "@jupyter-widgets/controls",
       "_view_module_version": "2.0.0",
       "_view_name": "ProgressView",
       "bar_style": "success",
       "description": "",
       "description_allow_html": false,
       "layout": "IPY_MODEL_4a9c13ffbb134906a5773a04df09a848",
       "max": 256,
       "min": 0,
       "orientation": "horizontal",
       "style": "IPY_MODEL_408b9a2d642145409181ce414bf5f650",
       "tabbable": null,
       "tooltip": null,
       "value": 256
      }
     },
     "1e646c9ebcb840a28822c80b583c341d": {
      "model_module": "@jupyter-widgets/controls",
      "model_module_version": "2.0.0",
      "model_name": "FloatProgressModel",
      "state": {
       "_dom_classes": [],
       "_model_module": "@jupyter-widgets/controls",
       "_model_module_version": "2.0.0",
       "_model_name": "FloatProgressModel",
       "_view_count": null,
       "_view_module": "@jupyter-widgets/controls",
       "_view_module_version": "2.0.0",
       "_view_name": "ProgressView",
       "bar_style": "success",
       "description": "",
       "description_allow_html": false,
       "layout": "IPY_MODEL_231d8780a5db46418e5778863597aac4",
       "max": 256,
       "min": 0,
       "orientation": "horizontal",
       "style": "IPY_MODEL_cc8031db1bd442d1a481d859e4f8c3d1",
       "tabbable": null,
       "tooltip": null,
       "value": 256
      }
     },
     "231d8780a5db46418e5778863597aac4": {
      "model_module": "@jupyter-widgets/base",
      "model_module_version": "2.0.0",
      "model_name": "LayoutModel",
      "state": {
       "_model_module": "@jupyter-widgets/base",
       "_model_module_version": "2.0.0",
       "_model_name": "LayoutModel",
       "_view_count": null,
       "_view_module": "@jupyter-widgets/base",
       "_view_module_version": "2.0.0",
       "_view_name": "LayoutView",
       "align_content": null,
       "align_items": null,
       "align_self": null,
       "border_bottom": null,
       "border_left": null,
       "border_right": null,
       "border_top": null,
       "bottom": null,
       "display": null,
       "flex": null,
       "flex_flow": null,
       "grid_area": null,
       "grid_auto_columns": null,
       "grid_auto_flow": null,
       "grid_auto_rows": null,
       "grid_column": null,
       "grid_gap": null,
       "grid_row": null,
       "grid_template_areas": null,
       "grid_template_columns": null,
       "grid_template_rows": null,
       "height": null,
       "justify_content": null,
       "justify_items": null,
       "left": null,
       "margin": null,
       "max_height": null,
       "max_width": null,
       "min_height": null,
       "min_width": null,
       "object_fit": null,
       "object_position": null,
       "order": null,
       "overflow": null,
       "padding": null,
       "right": null,
       "top": null,
       "visibility": null,
       "width": null
      }
     },
     "2410a91c9a7a4826b7d3c14d541ff69d": {
      "model_module": "@jupyter-widgets/base",
      "model_module_version": "2.0.0",
      "model_name": "LayoutModel",
      "state": {
       "_model_module": "@jupyter-widgets/base",
       "_model_module_version": "2.0.0",
       "_model_name": "LayoutModel",
       "_view_count": null,
       "_view_module": "@jupyter-widgets/base",
       "_view_module_version": "2.0.0",
       "_view_name": "LayoutView",
       "align_content": null,
       "align_items": null,
       "align_self": null,
       "border_bottom": null,
       "border_left": null,
       "border_right": null,
       "border_top": null,
       "bottom": null,
       "display": null,
       "flex": null,
       "flex_flow": null,
       "grid_area": null,
       "grid_auto_columns": null,
       "grid_auto_flow": null,
       "grid_auto_rows": null,
       "grid_column": null,
       "grid_gap": null,
       "grid_row": null,
       "grid_template_areas": null,
       "grid_template_columns": null,
       "grid_template_rows": null,
       "height": null,
       "justify_content": null,
       "justify_items": null,
       "left": null,
       "margin": null,
       "max_height": null,
       "max_width": null,
       "min_height": null,
       "min_width": null,
       "object_fit": null,
       "object_position": null,
       "order": null,
       "overflow": null,
       "padding": null,
       "right": null,
       "top": null,
       "visibility": null,
       "width": null
      }
     },
     "2b93a83bd14041d0bf240a1e8ed105da": {
      "model_module": "@jupyter-widgets/controls",
      "model_module_version": "2.0.0",
      "model_name": "HBoxModel",
      "state": {
       "_dom_classes": [],
       "_model_module": "@jupyter-widgets/controls",
       "_model_module_version": "2.0.0",
       "_model_name": "HBoxModel",
       "_view_count": null,
       "_view_module": "@jupyter-widgets/controls",
       "_view_module_version": "2.0.0",
       "_view_name": "HBoxView",
       "box_style": "",
       "children": [
        "IPY_MODEL_17ebce389fa846d99920f6c9c3a1210c",
        "IPY_MODEL_190c5912ea914b8bb29e2203e0c9d745",
        "IPY_MODEL_d0069e861bec45358c5749eb8eb64139"
       ],
       "layout": "IPY_MODEL_391312d9ce614c36bd1c1339c4c1d3fa",
       "tabbable": null,
       "tooltip": null
      }
     },
     "33722c82ab7341d5ab4b56bce068d1e0": {
      "model_module": "@jupyter-widgets/controls",
      "model_module_version": "2.0.0",
      "model_name": "HBoxModel",
      "state": {
       "_dom_classes": [],
       "_model_module": "@jupyter-widgets/controls",
       "_model_module_version": "2.0.0",
       "_model_name": "HBoxModel",
       "_view_count": null,
       "_view_module": "@jupyter-widgets/controls",
       "_view_module_version": "2.0.0",
       "_view_name": "HBoxView",
       "box_style": "",
       "children": [
        "IPY_MODEL_34fc442a740f453aa8eb4733a00b33ee",
        "IPY_MODEL_19f777cef46a4e6980ab4469675293a5",
        "IPY_MODEL_466bad0aef824176a0778b38af7f0cc8"
       ],
       "layout": "IPY_MODEL_1216f0c7b01543ab9e1c4767e78ec994",
       "tabbable": null,
       "tooltip": null
      }
     },
     "34fc442a740f453aa8eb4733a00b33ee": {
      "model_module": "@jupyter-widgets/controls",
      "model_module_version": "2.0.0",
      "model_name": "HTMLModel",
      "state": {
       "_dom_classes": [],
       "_model_module": "@jupyter-widgets/controls",
       "_model_module_version": "2.0.0",
       "_model_name": "HTMLModel",
       "_view_count": null,
       "_view_module": "@jupyter-widgets/controls",
       "_view_module_version": "2.0.0",
       "_view_name": "HTMLView",
       "description": "",
       "description_allow_html": false,
       "layout": "IPY_MODEL_c26548a3142c45f1adfa8abc1815ac5f",
       "placeholder": "​",
       "style": "IPY_MODEL_11ae0a75f5b344f396d64dc0adfc23d4",
       "tabbable": null,
       "tooltip": null,
       "value": "100%"
      }
     },
     "372ec21d55b140a3b2f2485311a94b90": {
      "model_module": "@jupyter-widgets/controls",
      "model_module_version": "2.0.0",
      "model_name": "HTMLStyleModel",
      "state": {
       "_model_module": "@jupyter-widgets/controls",
       "_model_module_version": "2.0.0",
       "_model_name": "HTMLStyleModel",
       "_view_count": null,
       "_view_module": "@jupyter-widgets/base",
       "_view_module_version": "2.0.0",
       "_view_name": "StyleView",
       "background": null,
       "description_width": "",
       "font_size": null,
       "text_color": null
      }
     },
     "38a8e734f8a54c31bea5268b58557a88": {
      "model_module": "@jupyter-widgets/controls",
      "model_module_version": "2.0.0",
      "model_name": "HBoxModel",
      "state": {
       "_dom_classes": [],
       "_model_module": "@jupyter-widgets/controls",
       "_model_module_version": "2.0.0",
       "_model_name": "HBoxModel",
       "_view_count": null,
       "_view_module": "@jupyter-widgets/controls",
       "_view_module_version": "2.0.0",
       "_view_name": "HBoxView",
       "box_style": "",
       "children": [
        "IPY_MODEL_b8499c15522745cd9981166aa85f493d",
        "IPY_MODEL_7e3049db598142689e39c20322342839",
        "IPY_MODEL_4b89e27ea7dd4ad2848898a2e945d660"
       ],
       "layout": "IPY_MODEL_d69c4d7c0ffd4195b09a98ea697a7a77",
       "tabbable": null,
       "tooltip": null
      }
     },
     "391312d9ce614c36bd1c1339c4c1d3fa": {
      "model_module": "@jupyter-widgets/base",
      "model_module_version": "2.0.0",
      "model_name": "LayoutModel",
      "state": {
       "_model_module": "@jupyter-widgets/base",
       "_model_module_version": "2.0.0",
       "_model_name": "LayoutModel",
       "_view_count": null,
       "_view_module": "@jupyter-widgets/base",
       "_view_module_version": "2.0.0",
       "_view_name": "LayoutView",
       "align_content": null,
       "align_items": null,
       "align_self": null,
       "border_bottom": null,
       "border_left": null,
       "border_right": null,
       "border_top": null,
       "bottom": null,
       "display": null,
       "flex": null,
       "flex_flow": null,
       "grid_area": null,
       "grid_auto_columns": null,
       "grid_auto_flow": null,
       "grid_auto_rows": null,
       "grid_column": null,
       "grid_gap": null,
       "grid_row": null,
       "grid_template_areas": null,
       "grid_template_columns": null,
       "grid_template_rows": null,
       "height": null,
       "justify_content": null,
       "justify_items": null,
       "left": null,
       "margin": null,
       "max_height": null,
       "max_width": null,
       "min_height": null,
       "min_width": null,
       "object_fit": null,
       "object_position": null,
       "order": null,
       "overflow": null,
       "padding": null,
       "right": null,
       "top": null,
       "visibility": null,
       "width": null
      }
     },
     "408b9a2d642145409181ce414bf5f650": {
      "model_module": "@jupyter-widgets/controls",
      "model_module_version": "2.0.0",
      "model_name": "ProgressStyleModel",
      "state": {
       "_model_module": "@jupyter-widgets/controls",
       "_model_module_version": "2.0.0",
       "_model_name": "ProgressStyleModel",
       "_view_count": null,
       "_view_module": "@jupyter-widgets/base",
       "_view_module_version": "2.0.0",
       "_view_name": "StyleView",
       "bar_color": null,
       "description_width": ""
      }
     },
     "40e490736bdb4e9b91ecc29d8ebfcb9a": {
      "model_module": "@jupyter-widgets/controls",
      "model_module_version": "2.0.0",
      "model_name": "HTMLModel",
      "state": {
       "_dom_classes": [],
       "_model_module": "@jupyter-widgets/controls",
       "_model_module_version": "2.0.0",
       "_model_name": "HTMLModel",
       "_view_count": null,
       "_view_module": "@jupyter-widgets/controls",
       "_view_module_version": "2.0.0",
       "_view_name": "HTMLView",
       "description": "",
       "description_allow_html": false,
       "layout": "IPY_MODEL_0b73ffb834c2419c973499fdf717431d",
       "placeholder": "​",
       "style": "IPY_MODEL_92ddbe5f71f340e09a33f004c0f625c0",
       "tabbable": null,
       "tooltip": null,
       "value": "100%"
      }
     },
     "41c8f627da6e4adda218239203e2aaca": {
      "model_module": "@jupyter-widgets/base",
      "model_module_version": "2.0.0",
      "model_name": "LayoutModel",
      "state": {
       "_model_module": "@jupyter-widgets/base",
       "_model_module_version": "2.0.0",
       "_model_name": "LayoutModel",
       "_view_count": null,
       "_view_module": "@jupyter-widgets/base",
       "_view_module_version": "2.0.0",
       "_view_name": "LayoutView",
       "align_content": null,
       "align_items": null,
       "align_self": null,
       "border_bottom": null,
       "border_left": null,
       "border_right": null,
       "border_top": null,
       "bottom": null,
       "display": null,
       "flex": null,
       "flex_flow": null,
       "grid_area": null,
       "grid_auto_columns": null,
       "grid_auto_flow": null,
       "grid_auto_rows": null,
       "grid_column": null,
       "grid_gap": null,
       "grid_row": null,
       "grid_template_areas": null,
       "grid_template_columns": null,
       "grid_template_rows": null,
       "height": null,
       "justify_content": null,
       "justify_items": null,
       "left": null,
       "margin": null,
       "max_height": null,
       "max_width": null,
       "min_height": null,
       "min_width": null,
       "object_fit": null,
       "object_position": null,
       "order": null,
       "overflow": null,
       "padding": null,
       "right": null,
       "top": null,
       "visibility": null,
       "width": null
      }
     },
     "466bad0aef824176a0778b38af7f0cc8": {
      "model_module": "@jupyter-widgets/controls",
      "model_module_version": "2.0.0",
      "model_name": "HTMLModel",
      "state": {
       "_dom_classes": [],
       "_model_module": "@jupyter-widgets/controls",
       "_model_module_version": "2.0.0",
       "_model_name": "HTMLModel",
       "_view_count": null,
       "_view_module": "@jupyter-widgets/controls",
       "_view_module_version": "2.0.0",
       "_view_name": "HTMLView",
       "description": "",
       "description_allow_html": false,
       "layout": "IPY_MODEL_fd94337716a24629bbbf38eb2d910e17",
       "placeholder": "​",
       "style": "IPY_MODEL_62eaeb24301b45bdbed6f793ae2a80d3",
       "tabbable": null,
       "tooltip": null,
       "value": " 256/256 [28:51&lt;00:00,  6.95s/it]"
      }
     },
     "4a9c13ffbb134906a5773a04df09a848": {
      "model_module": "@jupyter-widgets/base",
      "model_module_version": "2.0.0",
      "model_name": "LayoutModel",
      "state": {
       "_model_module": "@jupyter-widgets/base",
       "_model_module_version": "2.0.0",
       "_model_name": "LayoutModel",
       "_view_count": null,
       "_view_module": "@jupyter-widgets/base",
       "_view_module_version": "2.0.0",
       "_view_name": "LayoutView",
       "align_content": null,
       "align_items": null,
       "align_self": null,
       "border_bottom": null,
       "border_left": null,
       "border_right": null,
       "border_top": null,
       "bottom": null,
       "display": null,
       "flex": null,
       "flex_flow": null,
       "grid_area": null,
       "grid_auto_columns": null,
       "grid_auto_flow": null,
       "grid_auto_rows": null,
       "grid_column": null,
       "grid_gap": null,
       "grid_row": null,
       "grid_template_areas": null,
       "grid_template_columns": null,
       "grid_template_rows": null,
       "height": null,
       "justify_content": null,
       "justify_items": null,
       "left": null,
       "margin": null,
       "max_height": null,
       "max_width": null,
       "min_height": null,
       "min_width": null,
       "object_fit": null,
       "object_position": null,
       "order": null,
       "overflow": null,
       "padding": null,
       "right": null,
       "top": null,
       "visibility": null,
       "width": null
      }
     },
     "4b89e27ea7dd4ad2848898a2e945d660": {
      "model_module": "@jupyter-widgets/controls",
      "model_module_version": "2.0.0",
      "model_name": "HTMLModel",
      "state": {
       "_dom_classes": [],
       "_model_module": "@jupyter-widgets/controls",
       "_model_module_version": "2.0.0",
       "_model_name": "HTMLModel",
       "_view_count": null,
       "_view_module": "@jupyter-widgets/controls",
       "_view_module_version": "2.0.0",
       "_view_name": "HTMLView",
       "description": "",
       "description_allow_html": false,
       "layout": "IPY_MODEL_6842b6809a9e45cfb0e702de8bc33a4a",
       "placeholder": "​",
       "style": "IPY_MODEL_c59fd60c9cf0495b922c74febebcfd99",
       "tabbable": null,
       "tooltip": null,
       "value": " 256/256 [27:26&lt;00:00,  6.35s/it]"
      }
     },
     "4bc5b7e763bd41efb3f51b7faf6b2553": {
      "model_module": "@jupyter-widgets/base",
      "model_module_version": "2.0.0",
      "model_name": "LayoutModel",
      "state": {
       "_model_module": "@jupyter-widgets/base",
       "_model_module_version": "2.0.0",
       "_model_name": "LayoutModel",
       "_view_count": null,
       "_view_module": "@jupyter-widgets/base",
       "_view_module_version": "2.0.0",
       "_view_name": "LayoutView",
       "align_content": null,
       "align_items": null,
       "align_self": null,
       "border_bottom": null,
       "border_left": null,
       "border_right": null,
       "border_top": null,
       "bottom": null,
       "display": null,
       "flex": null,
       "flex_flow": null,
       "grid_area": null,
       "grid_auto_columns": null,
       "grid_auto_flow": null,
       "grid_auto_rows": null,
       "grid_column": null,
       "grid_gap": null,
       "grid_row": null,
       "grid_template_areas": null,
       "grid_template_columns": null,
       "grid_template_rows": null,
       "height": null,
       "justify_content": null,
       "justify_items": null,
       "left": null,
       "margin": null,
       "max_height": null,
       "max_width": null,
       "min_height": null,
       "min_width": null,
       "object_fit": null,
       "object_position": null,
       "order": null,
       "overflow": null,
       "padding": null,
       "right": null,
       "top": null,
       "visibility": null,
       "width": null
      }
     },
     "623cfb29c2674e3e8afa956617fee28d": {
      "model_module": "@jupyter-widgets/controls",
      "model_module_version": "2.0.0",
      "model_name": "HTMLModel",
      "state": {
       "_dom_classes": [],
       "_model_module": "@jupyter-widgets/controls",
       "_model_module_version": "2.0.0",
       "_model_name": "HTMLModel",
       "_view_count": null,
       "_view_module": "@jupyter-widgets/controls",
       "_view_module_version": "2.0.0",
       "_view_name": "HTMLView",
       "description": "",
       "description_allow_html": false,
       "layout": "IPY_MODEL_d22ead2504ee49e6bdda108317f45ac1",
       "placeholder": "​",
       "style": "IPY_MODEL_7d93c028c6b249fbbb05b7bb576f6e14",
       "tabbable": null,
       "tooltip": null,
       "value": " 256/256 [29:09&lt;00:00,  6.42s/it]"
      }
     },
     "62eaeb24301b45bdbed6f793ae2a80d3": {
      "model_module": "@jupyter-widgets/controls",
      "model_module_version": "2.0.0",
      "model_name": "HTMLStyleModel",
      "state": {
       "_model_module": "@jupyter-widgets/controls",
       "_model_module_version": "2.0.0",
       "_model_name": "HTMLStyleModel",
       "_view_count": null,
       "_view_module": "@jupyter-widgets/base",
       "_view_module_version": "2.0.0",
       "_view_name": "StyleView",
       "background": null,
       "description_width": "",
       "font_size": null,
       "text_color": null
      }
     },
     "6589ece8f1bd4f259fa2daee94834cee": {
      "model_module": "@jupyter-widgets/base",
      "model_module_version": "2.0.0",
      "model_name": "LayoutModel",
      "state": {
       "_model_module": "@jupyter-widgets/base",
       "_model_module_version": "2.0.0",
       "_model_name": "LayoutModel",
       "_view_count": null,
       "_view_module": "@jupyter-widgets/base",
       "_view_module_version": "2.0.0",
       "_view_name": "LayoutView",
       "align_content": null,
       "align_items": null,
       "align_self": null,
       "border_bottom": null,
       "border_left": null,
       "border_right": null,
       "border_top": null,
       "bottom": null,
       "display": null,
       "flex": null,
       "flex_flow": null,
       "grid_area": null,
       "grid_auto_columns": null,
       "grid_auto_flow": null,
       "grid_auto_rows": null,
       "grid_column": null,
       "grid_gap": null,
       "grid_row": null,
       "grid_template_areas": null,
       "grid_template_columns": null,
       "grid_template_rows": null,
       "height": null,
       "justify_content": null,
       "justify_items": null,
       "left": null,
       "margin": null,
       "max_height": null,
       "max_width": null,
       "min_height": null,
       "min_width": null,
       "object_fit": null,
       "object_position": null,
       "order": null,
       "overflow": null,
       "padding": null,
       "right": null,
       "top": null,
       "visibility": null,
       "width": null
      }
     },
     "6842b6809a9e45cfb0e702de8bc33a4a": {
      "model_module": "@jupyter-widgets/base",
      "model_module_version": "2.0.0",
      "model_name": "LayoutModel",
      "state": {
       "_model_module": "@jupyter-widgets/base",
       "_model_module_version": "2.0.0",
       "_model_name": "LayoutModel",
       "_view_count": null,
       "_view_module": "@jupyter-widgets/base",
       "_view_module_version": "2.0.0",
       "_view_name": "LayoutView",
       "align_content": null,
       "align_items": null,
       "align_self": null,
       "border_bottom": null,
       "border_left": null,
       "border_right": null,
       "border_top": null,
       "bottom": null,
       "display": null,
       "flex": null,
       "flex_flow": null,
       "grid_area": null,
       "grid_auto_columns": null,
       "grid_auto_flow": null,
       "grid_auto_rows": null,
       "grid_column": null,
       "grid_gap": null,
       "grid_row": null,
       "grid_template_areas": null,
       "grid_template_columns": null,
       "grid_template_rows": null,
       "height": null,
       "justify_content": null,
       "justify_items": null,
       "left": null,
       "margin": null,
       "max_height": null,
       "max_width": null,
       "min_height": null,
       "min_width": null,
       "object_fit": null,
       "object_position": null,
       "order": null,
       "overflow": null,
       "padding": null,
       "right": null,
       "top": null,
       "visibility": null,
       "width": null
      }
     },
     "69223a6848db4101aa62cbe286345231": {
      "model_module": "@jupyter-widgets/controls",
      "model_module_version": "2.0.0",
      "model_name": "HBoxModel",
      "state": {
       "_dom_classes": [],
       "_model_module": "@jupyter-widgets/controls",
       "_model_module_version": "2.0.0",
       "_model_name": "HBoxModel",
       "_view_count": null,
       "_view_module": "@jupyter-widgets/controls",
       "_view_module_version": "2.0.0",
       "_view_name": "HBoxView",
       "box_style": "",
       "children": [
        "IPY_MODEL_fbcf6af361ec40ffba104e09c0d7eb15",
        "IPY_MODEL_035ab33361e7432caecc80ca2a176575",
        "IPY_MODEL_9ae4138d5c6040ff8f31487f21120a6e"
       ],
       "layout": "IPY_MODEL_937ce84eb341402aac3fa07fed6cafd0",
       "tabbable": null,
       "tooltip": null
      }
     },
     "7279d281d2c34657bff252e8df63f4c5": {
      "model_module": "@jupyter-widgets/controls",
      "model_module_version": "2.0.0",
      "model_name": "HTMLStyleModel",
      "state": {
       "_model_module": "@jupyter-widgets/controls",
       "_model_module_version": "2.0.0",
       "_model_name": "HTMLStyleModel",
       "_view_count": null,
       "_view_module": "@jupyter-widgets/base",
       "_view_module_version": "2.0.0",
       "_view_name": "StyleView",
       "background": null,
       "description_width": "",
       "font_size": null,
       "text_color": null
      }
     },
     "77f9a290f7dd4b219ba4f735555140e1": {
      "model_module": "@jupyter-widgets/base",
      "model_module_version": "2.0.0",
      "model_name": "LayoutModel",
      "state": {
       "_model_module": "@jupyter-widgets/base",
       "_model_module_version": "2.0.0",
       "_model_name": "LayoutModel",
       "_view_count": null,
       "_view_module": "@jupyter-widgets/base",
       "_view_module_version": "2.0.0",
       "_view_name": "LayoutView",
       "align_content": null,
       "align_items": null,
       "align_self": null,
       "border_bottom": null,
       "border_left": null,
       "border_right": null,
       "border_top": null,
       "bottom": null,
       "display": null,
       "flex": null,
       "flex_flow": null,
       "grid_area": null,
       "grid_auto_columns": null,
       "grid_auto_flow": null,
       "grid_auto_rows": null,
       "grid_column": null,
       "grid_gap": null,
       "grid_row": null,
       "grid_template_areas": null,
       "grid_template_columns": null,
       "grid_template_rows": null,
       "height": null,
       "justify_content": null,
       "justify_items": null,
       "left": null,
       "margin": null,
       "max_height": null,
       "max_width": null,
       "min_height": null,
       "min_width": null,
       "object_fit": null,
       "object_position": null,
       "order": null,
       "overflow": null,
       "padding": null,
       "right": null,
       "top": null,
       "visibility": null,
       "width": null
      }
     },
     "7d93c028c6b249fbbb05b7bb576f6e14": {
      "model_module": "@jupyter-widgets/controls",
      "model_module_version": "2.0.0",
      "model_name": "HTMLStyleModel",
      "state": {
       "_model_module": "@jupyter-widgets/controls",
       "_model_module_version": "2.0.0",
       "_model_name": "HTMLStyleModel",
       "_view_count": null,
       "_view_module": "@jupyter-widgets/base",
       "_view_module_version": "2.0.0",
       "_view_name": "StyleView",
       "background": null,
       "description_width": "",
       "font_size": null,
       "text_color": null
      }
     },
     "7e3049db598142689e39c20322342839": {
      "model_module": "@jupyter-widgets/controls",
      "model_module_version": "2.0.0",
      "model_name": "FloatProgressModel",
      "state": {
       "_dom_classes": [],
       "_model_module": "@jupyter-widgets/controls",
       "_model_module_version": "2.0.0",
       "_model_name": "FloatProgressModel",
       "_view_count": null,
       "_view_module": "@jupyter-widgets/controls",
       "_view_module_version": "2.0.0",
       "_view_name": "ProgressView",
       "bar_style": "success",
       "description": "",
       "description_allow_html": false,
       "layout": "IPY_MODEL_6589ece8f1bd4f259fa2daee94834cee",
       "max": 256,
       "min": 0,
       "orientation": "horizontal",
       "style": "IPY_MODEL_bd094cda8b3c4855a4ed1300edf3f2c3",
       "tabbable": null,
       "tooltip": null,
       "value": 256
      }
     },
     "84e6789a386f4cc3b967f7880483983c": {
      "model_module": "@jupyter-widgets/controls",
      "model_module_version": "2.0.0",
      "model_name": "ProgressStyleModel",
      "state": {
       "_model_module": "@jupyter-widgets/controls",
       "_model_module_version": "2.0.0",
       "_model_name": "ProgressStyleModel",
       "_view_count": null,
       "_view_module": "@jupyter-widgets/base",
       "_view_module_version": "2.0.0",
       "_view_name": "StyleView",
       "bar_color": null,
       "description_width": ""
      }
     },
     "92ddbe5f71f340e09a33f004c0f625c0": {
      "model_module": "@jupyter-widgets/controls",
      "model_module_version": "2.0.0",
      "model_name": "HTMLStyleModel",
      "state": {
       "_model_module": "@jupyter-widgets/controls",
       "_model_module_version": "2.0.0",
       "_model_name": "HTMLStyleModel",
       "_view_count": null,
       "_view_module": "@jupyter-widgets/base",
       "_view_module_version": "2.0.0",
       "_view_name": "StyleView",
       "background": null,
       "description_width": "",
       "font_size": null,
       "text_color": null
      }
     },
     "937ce84eb341402aac3fa07fed6cafd0": {
      "model_module": "@jupyter-widgets/base",
      "model_module_version": "2.0.0",
      "model_name": "LayoutModel",
      "state": {
       "_model_module": "@jupyter-widgets/base",
       "_model_module_version": "2.0.0",
       "_model_name": "LayoutModel",
       "_view_count": null,
       "_view_module": "@jupyter-widgets/base",
       "_view_module_version": "2.0.0",
       "_view_name": "LayoutView",
       "align_content": null,
       "align_items": null,
       "align_self": null,
       "border_bottom": null,
       "border_left": null,
       "border_right": null,
       "border_top": null,
       "bottom": null,
       "display": null,
       "flex": null,
       "flex_flow": null,
       "grid_area": null,
       "grid_auto_columns": null,
       "grid_auto_flow": null,
       "grid_auto_rows": null,
       "grid_column": null,
       "grid_gap": null,
       "grid_row": null,
       "grid_template_areas": null,
       "grid_template_columns": null,
       "grid_template_rows": null,
       "height": null,
       "justify_content": null,
       "justify_items": null,
       "left": null,
       "margin": null,
       "max_height": null,
       "max_width": null,
       "min_height": null,
       "min_width": null,
       "object_fit": null,
       "object_position": null,
       "order": null,
       "overflow": null,
       "padding": null,
       "right": null,
       "top": null,
       "visibility": null,
       "width": null
      }
     },
     "9650fef1b09348cb8cff5a63a56850b7": {
      "model_module": "@jupyter-widgets/base",
      "model_module_version": "2.0.0",
      "model_name": "LayoutModel",
      "state": {
       "_model_module": "@jupyter-widgets/base",
       "_model_module_version": "2.0.0",
       "_model_name": "LayoutModel",
       "_view_count": null,
       "_view_module": "@jupyter-widgets/base",
       "_view_module_version": "2.0.0",
       "_view_name": "LayoutView",
       "align_content": null,
       "align_items": null,
       "align_self": null,
       "border_bottom": null,
       "border_left": null,
       "border_right": null,
       "border_top": null,
       "bottom": null,
       "display": null,
       "flex": null,
       "flex_flow": null,
       "grid_area": null,
       "grid_auto_columns": null,
       "grid_auto_flow": null,
       "grid_auto_rows": null,
       "grid_column": null,
       "grid_gap": null,
       "grid_row": null,
       "grid_template_areas": null,
       "grid_template_columns": null,
       "grid_template_rows": null,
       "height": null,
       "justify_content": null,
       "justify_items": null,
       "left": null,
       "margin": null,
       "max_height": null,
       "max_width": null,
       "min_height": null,
       "min_width": null,
       "object_fit": null,
       "object_position": null,
       "order": null,
       "overflow": null,
       "padding": null,
       "right": null,
       "top": null,
       "visibility": null,
       "width": null
      }
     },
     "9a36404c5a734fb38c2b22c9878a5745": {
      "model_module": "@jupyter-widgets/controls",
      "model_module_version": "2.0.0",
      "model_name": "HBoxModel",
      "state": {
       "_dom_classes": [],
       "_model_module": "@jupyter-widgets/controls",
       "_model_module_version": "2.0.0",
       "_model_name": "HBoxModel",
       "_view_count": null,
       "_view_module": "@jupyter-widgets/controls",
       "_view_module_version": "2.0.0",
       "_view_name": "HBoxView",
       "box_style": "",
       "children": [
        "IPY_MODEL_40e490736bdb4e9b91ecc29d8ebfcb9a",
        "IPY_MODEL_1e646c9ebcb840a28822c80b583c341d",
        "IPY_MODEL_623cfb29c2674e3e8afa956617fee28d"
       ],
       "layout": "IPY_MODEL_41c8f627da6e4adda218239203e2aaca",
       "tabbable": null,
       "tooltip": null
      }
     },
     "9ae4138d5c6040ff8f31487f21120a6e": {
      "model_module": "@jupyter-widgets/controls",
      "model_module_version": "2.0.0",
      "model_name": "HTMLModel",
      "state": {
       "_dom_classes": [],
       "_model_module": "@jupyter-widgets/controls",
       "_model_module_version": "2.0.0",
       "_model_name": "HTMLModel",
       "_view_count": null,
       "_view_module": "@jupyter-widgets/controls",
       "_view_module_version": "2.0.0",
       "_view_name": "HTMLView",
       "description": "",
       "description_allow_html": false,
       "layout": "IPY_MODEL_ff03739d18014246817c21e4dbf0a84a",
       "placeholder": "​",
       "style": "IPY_MODEL_e36bde94baa0470b804d73c4cc83a922",
       "tabbable": null,
       "tooltip": null,
       "value": " 256/256 [27:36&lt;00:00,  6.62s/it]"
      }
     },
     "b8499c15522745cd9981166aa85f493d": {
      "model_module": "@jupyter-widgets/controls",
      "model_module_version": "2.0.0",
      "model_name": "HTMLModel",
      "state": {
       "_dom_classes": [],
       "_model_module": "@jupyter-widgets/controls",
       "_model_module_version": "2.0.0",
       "_model_name": "HTMLModel",
       "_view_count": null,
       "_view_module": "@jupyter-widgets/controls",
       "_view_module_version": "2.0.0",
       "_view_name": "HTMLView",
       "description": "",
       "description_allow_html": false,
       "layout": "IPY_MODEL_2410a91c9a7a4826b7d3c14d541ff69d",
       "placeholder": "​",
       "style": "IPY_MODEL_bdbc8bdcb94f49e29847dd9b22e6add5",
       "tabbable": null,
       "tooltip": null,
       "value": "100%"
      }
     },
     "bd094cda8b3c4855a4ed1300edf3f2c3": {
      "model_module": "@jupyter-widgets/controls",
      "model_module_version": "2.0.0",
      "model_name": "ProgressStyleModel",
      "state": {
       "_model_module": "@jupyter-widgets/controls",
       "_model_module_version": "2.0.0",
       "_model_name": "ProgressStyleModel",
       "_view_count": null,
       "_view_module": "@jupyter-widgets/base",
       "_view_module_version": "2.0.0",
       "_view_name": "StyleView",
       "bar_color": null,
       "description_width": ""
      }
     },
     "bdbc8bdcb94f49e29847dd9b22e6add5": {
      "model_module": "@jupyter-widgets/controls",
      "model_module_version": "2.0.0",
      "model_name": "HTMLStyleModel",
      "state": {
       "_model_module": "@jupyter-widgets/controls",
       "_model_module_version": "2.0.0",
       "_model_name": "HTMLStyleModel",
       "_view_count": null,
       "_view_module": "@jupyter-widgets/base",
       "_view_module_version": "2.0.0",
       "_view_name": "StyleView",
       "background": null,
       "description_width": "",
       "font_size": null,
       "text_color": null
      }
     },
     "c078cae24ae7430bace625a76b1cb988": {
      "model_module": "@jupyter-widgets/base",
      "model_module_version": "2.0.0",
      "model_name": "LayoutModel",
      "state": {
       "_model_module": "@jupyter-widgets/base",
       "_model_module_version": "2.0.0",
       "_model_name": "LayoutModel",
       "_view_count": null,
       "_view_module": "@jupyter-widgets/base",
       "_view_module_version": "2.0.0",
       "_view_name": "LayoutView",
       "align_content": null,
       "align_items": null,
       "align_self": null,
       "border_bottom": null,
       "border_left": null,
       "border_right": null,
       "border_top": null,
       "bottom": null,
       "display": null,
       "flex": null,
       "flex_flow": null,
       "grid_area": null,
       "grid_auto_columns": null,
       "grid_auto_flow": null,
       "grid_auto_rows": null,
       "grid_column": null,
       "grid_gap": null,
       "grid_row": null,
       "grid_template_areas": null,
       "grid_template_columns": null,
       "grid_template_rows": null,
       "height": null,
       "justify_content": null,
       "justify_items": null,
       "left": null,
       "margin": null,
       "max_height": null,
       "max_width": null,
       "min_height": null,
       "min_width": null,
       "object_fit": null,
       "object_position": null,
       "order": null,
       "overflow": null,
       "padding": null,
       "right": null,
       "top": null,
       "visibility": null,
       "width": null
      }
     },
     "c26548a3142c45f1adfa8abc1815ac5f": {
      "model_module": "@jupyter-widgets/base",
      "model_module_version": "2.0.0",
      "model_name": "LayoutModel",
      "state": {
       "_model_module": "@jupyter-widgets/base",
       "_model_module_version": "2.0.0",
       "_model_name": "LayoutModel",
       "_view_count": null,
       "_view_module": "@jupyter-widgets/base",
       "_view_module_version": "2.0.0",
       "_view_name": "LayoutView",
       "align_content": null,
       "align_items": null,
       "align_self": null,
       "border_bottom": null,
       "border_left": null,
       "border_right": null,
       "border_top": null,
       "bottom": null,
       "display": null,
       "flex": null,
       "flex_flow": null,
       "grid_area": null,
       "grid_auto_columns": null,
       "grid_auto_flow": null,
       "grid_auto_rows": null,
       "grid_column": null,
       "grid_gap": null,
       "grid_row": null,
       "grid_template_areas": null,
       "grid_template_columns": null,
       "grid_template_rows": null,
       "height": null,
       "justify_content": null,
       "justify_items": null,
       "left": null,
       "margin": null,
       "max_height": null,
       "max_width": null,
       "min_height": null,
       "min_width": null,
       "object_fit": null,
       "object_position": null,
       "order": null,
       "overflow": null,
       "padding": null,
       "right": null,
       "top": null,
       "visibility": null,
       "width": null
      }
     },
     "c59fd60c9cf0495b922c74febebcfd99": {
      "model_module": "@jupyter-widgets/controls",
      "model_module_version": "2.0.0",
      "model_name": "HTMLStyleModel",
      "state": {
       "_model_module": "@jupyter-widgets/controls",
       "_model_module_version": "2.0.0",
       "_model_name": "HTMLStyleModel",
       "_view_count": null,
       "_view_module": "@jupyter-widgets/base",
       "_view_module_version": "2.0.0",
       "_view_name": "StyleView",
       "background": null,
       "description_width": "",
       "font_size": null,
       "text_color": null
      }
     },
     "cc8031db1bd442d1a481d859e4f8c3d1": {
      "model_module": "@jupyter-widgets/controls",
      "model_module_version": "2.0.0",
      "model_name": "ProgressStyleModel",
      "state": {
       "_model_module": "@jupyter-widgets/controls",
       "_model_module_version": "2.0.0",
       "_model_name": "ProgressStyleModel",
       "_view_count": null,
       "_view_module": "@jupyter-widgets/base",
       "_view_module_version": "2.0.0",
       "_view_name": "StyleView",
       "bar_color": null,
       "description_width": ""
      }
     },
     "cd112c61118142adadc1ffdc3d4fd7dc": {
      "model_module": "@jupyter-widgets/controls",
      "model_module_version": "2.0.0",
      "model_name": "ProgressStyleModel",
      "state": {
       "_model_module": "@jupyter-widgets/controls",
       "_model_module_version": "2.0.0",
       "_model_name": "ProgressStyleModel",
       "_view_count": null,
       "_view_module": "@jupyter-widgets/base",
       "_view_module_version": "2.0.0",
       "_view_name": "StyleView",
       "bar_color": null,
       "description_width": ""
      }
     },
     "d0069e861bec45358c5749eb8eb64139": {
      "model_module": "@jupyter-widgets/controls",
      "model_module_version": "2.0.0",
      "model_name": "HTMLModel",
      "state": {
       "_dom_classes": [],
       "_model_module": "@jupyter-widgets/controls",
       "_model_module_version": "2.0.0",
       "_model_name": "HTMLModel",
       "_view_count": null,
       "_view_module": "@jupyter-widgets/controls",
       "_view_module_version": "2.0.0",
       "_view_name": "HTMLView",
       "description": "",
       "description_allow_html": false,
       "layout": "IPY_MODEL_4bc5b7e763bd41efb3f51b7faf6b2553",
       "placeholder": "​",
       "style": "IPY_MODEL_372ec21d55b140a3b2f2485311a94b90",
       "tabbable": null,
       "tooltip": null,
       "value": " 256/256 [27:19&lt;00:00,  6.44s/it]"
      }
     },
     "d2044911f735442cbe3dc75e7249db0f": {
      "model_module": "@jupyter-widgets/base",
      "model_module_version": "2.0.0",
      "model_name": "LayoutModel",
      "state": {
       "_model_module": "@jupyter-widgets/base",
       "_model_module_version": "2.0.0",
       "_model_name": "LayoutModel",
       "_view_count": null,
       "_view_module": "@jupyter-widgets/base",
       "_view_module_version": "2.0.0",
       "_view_name": "LayoutView",
       "align_content": null,
       "align_items": null,
       "align_self": null,
       "border_bottom": null,
       "border_left": null,
       "border_right": null,
       "border_top": null,
       "bottom": null,
       "display": null,
       "flex": null,
       "flex_flow": null,
       "grid_area": null,
       "grid_auto_columns": null,
       "grid_auto_flow": null,
       "grid_auto_rows": null,
       "grid_column": null,
       "grid_gap": null,
       "grid_row": null,
       "grid_template_areas": null,
       "grid_template_columns": null,
       "grid_template_rows": null,
       "height": null,
       "justify_content": null,
       "justify_items": null,
       "left": null,
       "margin": null,
       "max_height": null,
       "max_width": null,
       "min_height": null,
       "min_width": null,
       "object_fit": null,
       "object_position": null,
       "order": null,
       "overflow": null,
       "padding": null,
       "right": null,
       "top": null,
       "visibility": null,
       "width": null
      }
     },
     "d22ead2504ee49e6bdda108317f45ac1": {
      "model_module": "@jupyter-widgets/base",
      "model_module_version": "2.0.0",
      "model_name": "LayoutModel",
      "state": {
       "_model_module": "@jupyter-widgets/base",
       "_model_module_version": "2.0.0",
       "_model_name": "LayoutModel",
       "_view_count": null,
       "_view_module": "@jupyter-widgets/base",
       "_view_module_version": "2.0.0",
       "_view_name": "LayoutView",
       "align_content": null,
       "align_items": null,
       "align_self": null,
       "border_bottom": null,
       "border_left": null,
       "border_right": null,
       "border_top": null,
       "bottom": null,
       "display": null,
       "flex": null,
       "flex_flow": null,
       "grid_area": null,
       "grid_auto_columns": null,
       "grid_auto_flow": null,
       "grid_auto_rows": null,
       "grid_column": null,
       "grid_gap": null,
       "grid_row": null,
       "grid_template_areas": null,
       "grid_template_columns": null,
       "grid_template_rows": null,
       "height": null,
       "justify_content": null,
       "justify_items": null,
       "left": null,
       "margin": null,
       "max_height": null,
       "max_width": null,
       "min_height": null,
       "min_width": null,
       "object_fit": null,
       "object_position": null,
       "order": null,
       "overflow": null,
       "padding": null,
       "right": null,
       "top": null,
       "visibility": null,
       "width": null
      }
     },
     "d69c4d7c0ffd4195b09a98ea697a7a77": {
      "model_module": "@jupyter-widgets/base",
      "model_module_version": "2.0.0",
      "model_name": "LayoutModel",
      "state": {
       "_model_module": "@jupyter-widgets/base",
       "_model_module_version": "2.0.0",
       "_model_name": "LayoutModel",
       "_view_count": null,
       "_view_module": "@jupyter-widgets/base",
       "_view_module_version": "2.0.0",
       "_view_name": "LayoutView",
       "align_content": null,
       "align_items": null,
       "align_self": null,
       "border_bottom": null,
       "border_left": null,
       "border_right": null,
       "border_top": null,
       "bottom": null,
       "display": null,
       "flex": null,
       "flex_flow": null,
       "grid_area": null,
       "grid_auto_columns": null,
       "grid_auto_flow": null,
       "grid_auto_rows": null,
       "grid_column": null,
       "grid_gap": null,
       "grid_row": null,
       "grid_template_areas": null,
       "grid_template_columns": null,
       "grid_template_rows": null,
       "height": null,
       "justify_content": null,
       "justify_items": null,
       "left": null,
       "margin": null,
       "max_height": null,
       "max_width": null,
       "min_height": null,
       "min_width": null,
       "object_fit": null,
       "object_position": null,
       "order": null,
       "overflow": null,
       "padding": null,
       "right": null,
       "top": null,
       "visibility": null,
       "width": null
      }
     },
     "e36bde94baa0470b804d73c4cc83a922": {
      "model_module": "@jupyter-widgets/controls",
      "model_module_version": "2.0.0",
      "model_name": "HTMLStyleModel",
      "state": {
       "_model_module": "@jupyter-widgets/controls",
       "_model_module_version": "2.0.0",
       "_model_name": "HTMLStyleModel",
       "_view_count": null,
       "_view_module": "@jupyter-widgets/base",
       "_view_module_version": "2.0.0",
       "_view_name": "StyleView",
       "background": null,
       "description_width": "",
       "font_size": null,
       "text_color": null
      }
     },
     "f16c0a10ddef42d883635f671bda9653": {
      "model_module": "@jupyter-widgets/controls",
      "model_module_version": "2.0.0",
      "model_name": "HTMLStyleModel",
      "state": {
       "_model_module": "@jupyter-widgets/controls",
       "_model_module_version": "2.0.0",
       "_model_name": "HTMLStyleModel",
       "_view_count": null,
       "_view_module": "@jupyter-widgets/base",
       "_view_module_version": "2.0.0",
       "_view_name": "StyleView",
       "background": null,
       "description_width": "",
       "font_size": null,
       "text_color": null
      }
     },
     "fbcf6af361ec40ffba104e09c0d7eb15": {
      "model_module": "@jupyter-widgets/controls",
      "model_module_version": "2.0.0",
      "model_name": "HTMLModel",
      "state": {
       "_dom_classes": [],
       "_model_module": "@jupyter-widgets/controls",
       "_model_module_version": "2.0.0",
       "_model_name": "HTMLModel",
       "_view_count": null,
       "_view_module": "@jupyter-widgets/controls",
       "_view_module_version": "2.0.0",
       "_view_name": "HTMLView",
       "description": "",
       "description_allow_html": false,
       "layout": "IPY_MODEL_9650fef1b09348cb8cff5a63a56850b7",
       "placeholder": "​",
       "style": "IPY_MODEL_7279d281d2c34657bff252e8df63f4c5",
       "tabbable": null,
       "tooltip": null,
       "value": "100%"
      }
     },
     "fd94337716a24629bbbf38eb2d910e17": {
      "model_module": "@jupyter-widgets/base",
      "model_module_version": "2.0.0",
      "model_name": "LayoutModel",
      "state": {
       "_model_module": "@jupyter-widgets/base",
       "_model_module_version": "2.0.0",
       "_model_name": "LayoutModel",
       "_view_count": null,
       "_view_module": "@jupyter-widgets/base",
       "_view_module_version": "2.0.0",
       "_view_name": "LayoutView",
       "align_content": null,
       "align_items": null,
       "align_self": null,
       "border_bottom": null,
       "border_left": null,
       "border_right": null,
       "border_top": null,
       "bottom": null,
       "display": null,
       "flex": null,
       "flex_flow": null,
       "grid_area": null,
       "grid_auto_columns": null,
       "grid_auto_flow": null,
       "grid_auto_rows": null,
       "grid_column": null,
       "grid_gap": null,
       "grid_row": null,
       "grid_template_areas": null,
       "grid_template_columns": null,
       "grid_template_rows": null,
       "height": null,
       "justify_content": null,
       "justify_items": null,
       "left": null,
       "margin": null,
       "max_height": null,
       "max_width": null,
       "min_height": null,
       "min_width": null,
       "object_fit": null,
       "object_position": null,
       "order": null,
       "overflow": null,
       "padding": null,
       "right": null,
       "top": null,
       "visibility": null,
       "width": null
      }
     },
     "ff03739d18014246817c21e4dbf0a84a": {
      "model_module": "@jupyter-widgets/base",
      "model_module_version": "2.0.0",
      "model_name": "LayoutModel",
      "state": {
       "_model_module": "@jupyter-widgets/base",
       "_model_module_version": "2.0.0",
       "_model_name": "LayoutModel",
       "_view_count": null,
       "_view_module": "@jupyter-widgets/base",
       "_view_module_version": "2.0.0",
       "_view_name": "LayoutView",
       "align_content": null,
       "align_items": null,
       "align_self": null,
       "border_bottom": null,
       "border_left": null,
       "border_right": null,
       "border_top": null,
       "bottom": null,
       "display": null,
       "flex": null,
       "flex_flow": null,
       "grid_area": null,
       "grid_auto_columns": null,
       "grid_auto_flow": null,
       "grid_auto_rows": null,
       "grid_column": null,
       "grid_gap": null,
       "grid_row": null,
       "grid_template_areas": null,
       "grid_template_columns": null,
       "grid_template_rows": null,
       "height": null,
       "justify_content": null,
       "justify_items": null,
       "left": null,
       "margin": null,
       "max_height": null,
       "max_width": null,
       "min_height": null,
       "min_width": null,
       "object_fit": null,
       "object_position": null,
       "order": null,
       "overflow": null,
       "padding": null,
       "right": null,
       "top": null,
       "visibility": null,
       "width": null
      }
     }
    },
    "version_major": 2,
    "version_minor": 0
   }
  }
 },
 "nbformat": 4,
 "nbformat_minor": 4
}
