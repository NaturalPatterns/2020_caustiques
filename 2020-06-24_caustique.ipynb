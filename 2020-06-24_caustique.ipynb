{
 "cells": [
  {
   "cell_type": "markdown",
   "metadata": {},
   "source": [
    "# caustique d'onde"
   ]
  },
  {
   "cell_type": "code",
   "execution_count": 1,
   "metadata": {},
   "outputs": [],
   "source": [
    "import os\n",
    "import numpy as np\n",
    "import MotionClouds as mc\n",
    "from caustique import init, Caustique"
   ]
  },
  {
   "cell_type": "code",
   "execution_count": 2,
   "metadata": {},
   "outputs": [],
   "source": [
    "from IPython.display import Image, display\n",
    "width = 1024"
   ]
  },
  {
   "cell_type": "code",
   "execution_count": 3,
   "metadata": {},
   "outputs": [
    {
     "name": "stdout",
     "output_type": "stream",
     "text": [
      "Saving our simulations in=/tmp/2020-08-11_caustique\n"
     ]
    }
   ],
   "source": [
    "import datetime\n",
    "date = datetime.datetime.now().date().isoformat()\n",
    "figpath = f'{date}_caustique'\n",
    "figpath = '/tmp/2020-08-11_caustique'\n",
    "print(f'Saving our simulations in={figpath}')"
   ]
  },
  {
   "cell_type": "code",
   "execution_count": 4,
   "metadata": {},
   "outputs": [],
   "source": [
    "opt = init()\n",
    "opt.figpath = figpath"
   ]
  },
  {
   "cell_type": "code",
   "execution_count": 5,
   "metadata": {},
   "outputs": [
    {
     "data": {
      "text/plain": [
       "Namespace(B_V=2.0, B_sf=0.002, B_theta=0.2617993877991494, H=20.0, V_X=0.3, V_Y=0.3, bin_dens=4, cache=True, figpath='/tmp/2020-08-11_caustique', fps=18, min_lum=0.5, nframe=128, nx=1280, ny=2048, seed=42, sf_0=0.004, tag='caustique', theta=2.399988291783386, verbose=False)"
      ]
     },
     "execution_count": 5,
     "metadata": {},
     "output_type": "execute_result"
    }
   ],
   "source": [
    "opt"
   ]
  },
  {
   "cell_type": "markdown",
   "metadata": {},
   "source": [
    "# une simple caustique"
   ]
  },
  {
   "cell_type": "code",
   "execution_count": 6,
   "metadata": {},
   "outputs": [
    {
     "name": "stdout",
     "output_type": "stream",
     "text": [
      "Doing /tmp/2020-08-11_caustique/caustique.mp4\n"
     ]
    },
    {
     "data": {
      "text/html": [
       "\n",
       "            <center><table border=none width=100% height=100%>\n",
       "            <tr> <td width=100%><center><video  loop=\"1\" autoplay=\"1\" controls  src=\"/tmp/2020-08-11_caustique/caustique.mp4\" type=\"video/mp4\"  width=100%\\>\n",
       "            </td></tr></table></center>"
      ],
      "text/plain": [
       "<IPython.core.display.HTML object>"
      ]
     },
     "metadata": {},
     "output_type": "display_data"
    }
   ],
   "source": [
    "if not os.path.isfile(f'{opt.figpath}/{opt.tag}{mc.vext}'):\n",
    "    print('Doing', f'{opt.figpath}/{opt.tag}{mc.vext}')\n",
    "    c = Caustique(opt)\n",
    "    z = c.wave()\n",
    "    mc.anim_save(z.swapaxes(0, 1), f'{opt.figpath}/{opt.tag}')\n",
    "mc.in_show_video(f'{opt.tag}', figpath=opt.figpath)"
   ]
  },
  {
   "cell_type": "code",
   "execution_count": 7,
   "metadata": {},
   "outputs": [
    {
     "data": {
      "text/html": [
       "<img src=\"/tmp/2020-08-11_caustique/caustique.gif\" width=\"1024\"/>"
      ],
      "text/plain": [
       "<IPython.core.display.Image object>"
      ]
     },
     "metadata": {},
     "output_type": "display_data"
    }
   ],
   "source": [
    "gifname = f'{opt.figpath}/{opt.tag}.gif'\n",
    "if not os.path.isfile(gifname):\n",
    "    c = Caustique(opt)\n",
    "    z = c.wave()\n",
    "    gifname = c.plot(z)\n",
    "display(Image(url=gifname, width=width))"
   ]
  },
  {
   "cell_type": "markdown",
   "metadata": {},
   "source": [
    "## exploring parameters"
   ]
  },
  {
   "cell_type": "code",
   "execution_count": 8,
   "metadata": {},
   "outputs": [],
   "source": [
    "N_scan = 9\n",
    "base = 2"
   ]
  },
  {
   "cell_type": "code",
   "execution_count": 9,
   "metadata": {},
   "outputs": [
    {
     "name": "stdout",
     "output_type": "stream",
     "text": [
      "H = 10.000\n"
     ]
    },
    {
     "data": {
      "text/html": [
       "<img src=\"/tmp/2020-08-11_caustique/caustique_H_10.000.gif\" width=\"1024\"/>"
      ],
      "text/plain": [
       "<IPython.core.display.Image object>"
      ]
     },
     "metadata": {},
     "output_type": "display_data"
    },
    {
     "name": "stdout",
     "output_type": "stream",
     "text": [
      "H = 11.892\n"
     ]
    },
    {
     "data": {
      "text/html": [
       "<img src=\"/tmp/2020-08-11_caustique/caustique_H_10.000_H_11.892.gif\" width=\"1024\"/>"
      ],
      "text/plain": [
       "<IPython.core.display.Image object>"
      ]
     },
     "metadata": {},
     "output_type": "display_data"
    },
    {
     "name": "stdout",
     "output_type": "stream",
     "text": [
      "H = 14.142\n"
     ]
    },
    {
     "data": {
      "text/html": [
       "<img src=\"/tmp/2020-08-11_caustique/caustique_H_10.000_H_11.892_H_14.142.gif\" width=\"1024\"/>"
      ],
      "text/plain": [
       "<IPython.core.display.Image object>"
      ]
     },
     "metadata": {},
     "output_type": "display_data"
    },
    {
     "name": "stdout",
     "output_type": "stream",
     "text": [
      "H = 16.818\n"
     ]
    },
    {
     "data": {
      "text/html": [
       "<img src=\"/tmp/2020-08-11_caustique/caustique_H_10.000_H_11.892_H_14.142_H_16.818.gif\" width=\"1024\"/>"
      ],
      "text/plain": [
       "<IPython.core.display.Image object>"
      ]
     },
     "metadata": {},
     "output_type": "display_data"
    },
    {
     "name": "stdout",
     "output_type": "stream",
     "text": [
      "H = 20.000\n"
     ]
    },
    {
     "data": {
      "text/html": [
       "<img src=\"/tmp/2020-08-11_caustique/caustique_H_10.000_H_11.892_H_14.142_H_16.818_H_20.000.gif\" width=\"1024\"/>"
      ],
      "text/plain": [
       "<IPython.core.display.Image object>"
      ]
     },
     "metadata": {},
     "output_type": "display_data"
    },
    {
     "name": "stdout",
     "output_type": "stream",
     "text": [
      "H = 23.784\n"
     ]
    },
    {
     "data": {
      "text/html": [
       "<img src=\"/tmp/2020-08-11_caustique/caustique_H_10.000_H_11.892_H_14.142_H_16.818_H_20.000_H_23.784.gif\" width=\"1024\"/>"
      ],
      "text/plain": [
       "<IPython.core.display.Image object>"
      ]
     },
     "metadata": {},
     "output_type": "display_data"
    },
    {
     "name": "stdout",
     "output_type": "stream",
     "text": [
      "H = 28.284\n"
     ]
    },
    {
     "data": {
      "text/html": [
       "<img src=\"/tmp/2020-08-11_caustique/caustique_H_10.000_H_11.892_H_14.142_H_16.818_H_20.000_H_23.784_H_28.284.gif\" width=\"1024\"/>"
      ],
      "text/plain": [
       "<IPython.core.display.Image object>"
      ]
     },
     "metadata": {},
     "output_type": "display_data"
    },
    {
     "name": "stdout",
     "output_type": "stream",
     "text": [
      "H = 33.636\n"
     ]
    },
    {
     "data": {
      "text/html": [
       "<img src=\"/tmp/2020-08-11_caustique/caustique_H_10.000_H_11.892_H_14.142_H_16.818_H_20.000_H_23.784_H_28.284_H_33.636.gif\" width=\"1024\"/>"
      ],
      "text/plain": [
       "<IPython.core.display.Image object>"
      ]
     },
     "metadata": {},
     "output_type": "display_data"
    },
    {
     "name": "stdout",
     "output_type": "stream",
     "text": [
      "H = 40.000\n"
     ]
    },
    {
     "data": {
      "text/html": [
       "<img src=\"/tmp/2020-08-11_caustique/caustique_H_10.000_H_11.892_H_14.142_H_16.818_H_20.000_H_23.784_H_28.284_H_33.636_H_40.000.gif\" width=\"1024\"/>"
      ],
      "text/plain": [
       "<IPython.core.display.Image object>"
      ]
     },
     "metadata": {},
     "output_type": "display_data"
    }
   ],
   "source": [
    "opt = init()\n",
    "opt.figpath = figpath\n",
    "\n",
    "c = Caustique(opt)\n",
    "z = None\n",
    "for H_ in c.opt.H*np.logspace(-1, 1, N_scan, base=base):\n",
    "    print(f'H = {H_:.3f}')\n",
    "    c.opt.H = H_\n",
    "    c.opt.tag = f'{opt.tag}_H_{H_:.3f}'\n",
    "    gifname = f'{opt.figpath}/{c.opt.tag}.gif'\n",
    "    if not os.path.isfile(gifname):\n",
    "        if z is None: # compute just once\n",
    "            z = c.wave()\n",
    "        url=c.plot(z, gifname=gifname)\n",
    "    display(Image(url=gifname, width=width))"
   ]
  },
  {
   "cell_type": "code",
   "execution_count": 10,
   "metadata": {},
   "outputs": [
    {
     "name": "stdout",
     "output_type": "stream",
     "text": [
      "======sf_0======\n",
      "sf_0=sf_0(default)*0.500=2.000E-03\n",
      "Doing  /tmp/2020-08-11_caustique/caustique_sf_0_modul_0.500.gif\n",
      "Doing  /tmp/2020-08-11_caustique/caustique_sf_0_modul_0.500.mp4\n"
     ]
    },
    {
     "data": {
      "text/html": [
       "<img src=\"/tmp/2020-08-11_caustique/caustique_sf_0_modul_0.500.gif\" width=\"1024\"/>"
      ],
      "text/plain": [
       "<IPython.core.display.Image object>"
      ]
     },
     "metadata": {},
     "output_type": "display_data"
    },
    {
     "name": "stdout",
     "output_type": "stream",
     "text": [
      "sf_0=sf_0(default)*0.595=2.378E-03\n",
      "Doing  /tmp/2020-08-11_caustique/caustique_sf_0_modul_0.595.gif\n",
      "Doing  /tmp/2020-08-11_caustique/caustique_sf_0_modul_0.595.mp4\n"
     ]
    },
    {
     "data": {
      "text/html": [
       "<img src=\"/tmp/2020-08-11_caustique/caustique_sf_0_modul_0.595.gif\" width=\"1024\"/>"
      ],
      "text/plain": [
       "<IPython.core.display.Image object>"
      ]
     },
     "metadata": {},
     "output_type": "display_data"
    },
    {
     "name": "stdout",
     "output_type": "stream",
     "text": [
      "sf_0=sf_0(default)*0.707=2.828E-03\n",
      "Doing  /tmp/2020-08-11_caustique/caustique_sf_0_modul_0.707.gif\n",
      "Doing  /tmp/2020-08-11_caustique/caustique_sf_0_modul_0.707.mp4\n"
     ]
    },
    {
     "data": {
      "text/html": [
       "<img src=\"/tmp/2020-08-11_caustique/caustique_sf_0_modul_0.707.gif\" width=\"1024\"/>"
      ],
      "text/plain": [
       "<IPython.core.display.Image object>"
      ]
     },
     "metadata": {},
     "output_type": "display_data"
    },
    {
     "name": "stdout",
     "output_type": "stream",
     "text": [
      "sf_0=sf_0(default)*0.841=3.364E-03\n",
      "Doing  /tmp/2020-08-11_caustique/caustique_sf_0_modul_0.841.gif\n",
      "Doing  /tmp/2020-08-11_caustique/caustique_sf_0_modul_0.841.mp4\n"
     ]
    },
    {
     "data": {
      "text/html": [
       "<img src=\"/tmp/2020-08-11_caustique/caustique_sf_0_modul_0.841.gif\" width=\"1024\"/>"
      ],
      "text/plain": [
       "<IPython.core.display.Image object>"
      ]
     },
     "metadata": {},
     "output_type": "display_data"
    },
    {
     "name": "stdout",
     "output_type": "stream",
     "text": [
      "sf_0=sf_0(default)*1.000=4.000E-03\n",
      "Doing  /tmp/2020-08-11_caustique/caustique_sf_0_modul_1.000.gif\n",
      "Doing  /tmp/2020-08-11_caustique/caustique_sf_0_modul_1.000.mp4\n"
     ]
    },
    {
     "data": {
      "text/html": [
       "<img src=\"/tmp/2020-08-11_caustique/caustique_sf_0_modul_1.000.gif\" width=\"1024\"/>"
      ],
      "text/plain": [
       "<IPython.core.display.Image object>"
      ]
     },
     "metadata": {},
     "output_type": "display_data"
    },
    {
     "name": "stdout",
     "output_type": "stream",
     "text": [
      "sf_0=sf_0(default)*1.189=4.757E-03\n",
      "Doing  /tmp/2020-08-11_caustique/caustique_sf_0_modul_1.189.gif\n",
      "Doing  /tmp/2020-08-11_caustique/caustique_sf_0_modul_1.189.mp4\n"
     ]
    },
    {
     "data": {
      "text/html": [
       "<img src=\"/tmp/2020-08-11_caustique/caustique_sf_0_modul_1.189.gif\" width=\"1024\"/>"
      ],
      "text/plain": [
       "<IPython.core.display.Image object>"
      ]
     },
     "metadata": {},
     "output_type": "display_data"
    },
    {
     "name": "stdout",
     "output_type": "stream",
     "text": [
      "sf_0=sf_0(default)*1.414=5.657E-03\n",
      "Doing  /tmp/2020-08-11_caustique/caustique_sf_0_modul_1.414.gif\n",
      "Doing  /tmp/2020-08-11_caustique/caustique_sf_0_modul_1.414.mp4\n"
     ]
    },
    {
     "data": {
      "text/html": [
       "<img src=\"/tmp/2020-08-11_caustique/caustique_sf_0_modul_1.414.gif\" width=\"1024\"/>"
      ],
      "text/plain": [
       "<IPython.core.display.Image object>"
      ]
     },
     "metadata": {},
     "output_type": "display_data"
    },
    {
     "name": "stdout",
     "output_type": "stream",
     "text": [
      "sf_0=sf_0(default)*1.682=6.727E-03\n",
      "Doing  /tmp/2020-08-11_caustique/caustique_sf_0_modul_1.682.gif\n",
      "Doing  /tmp/2020-08-11_caustique/caustique_sf_0_modul_1.682.mp4\n"
     ]
    },
    {
     "data": {
      "text/html": [
       "<img src=\"/tmp/2020-08-11_caustique/caustique_sf_0_modul_1.682.gif\" width=\"1024\"/>"
      ],
      "text/plain": [
       "<IPython.core.display.Image object>"
      ]
     },
     "metadata": {},
     "output_type": "display_data"
    },
    {
     "name": "stdout",
     "output_type": "stream",
     "text": [
      "sf_0=sf_0(default)*2.000=8.000E-03\n",
      "Doing  /tmp/2020-08-11_caustique/caustique_sf_0_modul_2.000.gif\n",
      "Doing  /tmp/2020-08-11_caustique/caustique_sf_0_modul_2.000.mp4\n"
     ]
    },
    {
     "data": {
      "text/html": [
       "<img src=\"/tmp/2020-08-11_caustique/caustique_sf_0_modul_2.000.gif\" width=\"1024\"/>"
      ],
      "text/plain": [
       "<IPython.core.display.Image object>"
      ]
     },
     "metadata": {},
     "output_type": "display_data"
    },
    {
     "name": "stdout",
     "output_type": "stream",
     "text": [
      "======B_sf======\n",
      "B_sf=B_sf(default)*0.500=1.000E-03\n",
      "Doing  /tmp/2020-08-11_caustique/caustique_B_sf_modul_0.500.gif\n",
      "Doing  /tmp/2020-08-11_caustique/caustique_B_sf_modul_0.500.mp4\n"
     ]
    },
    {
     "data": {
      "text/html": [
       "<img src=\"/tmp/2020-08-11_caustique/caustique_B_sf_modul_0.500.gif\" width=\"1024\"/>"
      ],
      "text/plain": [
       "<IPython.core.display.Image object>"
      ]
     },
     "metadata": {},
     "output_type": "display_data"
    },
    {
     "name": "stdout",
     "output_type": "stream",
     "text": [
      "B_sf=B_sf(default)*0.595=1.189E-03\n",
      "Doing  /tmp/2020-08-11_caustique/caustique_B_sf_modul_0.595.gif\n",
      "Doing  /tmp/2020-08-11_caustique/caustique_B_sf_modul_0.595.mp4\n"
     ]
    },
    {
     "data": {
      "text/html": [
       "<img src=\"/tmp/2020-08-11_caustique/caustique_B_sf_modul_0.595.gif\" width=\"1024\"/>"
      ],
      "text/plain": [
       "<IPython.core.display.Image object>"
      ]
     },
     "metadata": {},
     "output_type": "display_data"
    },
    {
     "name": "stdout",
     "output_type": "stream",
     "text": [
      "B_sf=B_sf(default)*0.707=1.414E-03\n",
      "Doing  /tmp/2020-08-11_caustique/caustique_B_sf_modul_0.707.gif\n",
      "Doing  /tmp/2020-08-11_caustique/caustique_B_sf_modul_0.707.mp4\n"
     ]
    },
    {
     "data": {
      "text/html": [
       "<img src=\"/tmp/2020-08-11_caustique/caustique_B_sf_modul_0.707.gif\" width=\"1024\"/>"
      ],
      "text/plain": [
       "<IPython.core.display.Image object>"
      ]
     },
     "metadata": {},
     "output_type": "display_data"
    },
    {
     "name": "stdout",
     "output_type": "stream",
     "text": [
      "B_sf=B_sf(default)*0.841=1.682E-03\n",
      "Doing  /tmp/2020-08-11_caustique/caustique_B_sf_modul_0.841.gif\n",
      "Doing  /tmp/2020-08-11_caustique/caustique_B_sf_modul_0.841.mp4\n"
     ]
    },
    {
     "data": {
      "text/html": [
       "<img src=\"/tmp/2020-08-11_caustique/caustique_B_sf_modul_0.841.gif\" width=\"1024\"/>"
      ],
      "text/plain": [
       "<IPython.core.display.Image object>"
      ]
     },
     "metadata": {},
     "output_type": "display_data"
    },
    {
     "name": "stdout",
     "output_type": "stream",
     "text": [
      "B_sf=B_sf(default)*1.000=2.000E-03\n",
      "Doing  /tmp/2020-08-11_caustique/caustique_B_sf_modul_1.000.gif\n",
      "Doing  /tmp/2020-08-11_caustique/caustique_B_sf_modul_1.000.mp4\n"
     ]
    },
    {
     "data": {
      "text/html": [
       "<img src=\"/tmp/2020-08-11_caustique/caustique_B_sf_modul_1.000.gif\" width=\"1024\"/>"
      ],
      "text/plain": [
       "<IPython.core.display.Image object>"
      ]
     },
     "metadata": {},
     "output_type": "display_data"
    },
    {
     "name": "stdout",
     "output_type": "stream",
     "text": [
      "B_sf=B_sf(default)*1.189=2.378E-03\n",
      "Doing  /tmp/2020-08-11_caustique/caustique_B_sf_modul_1.189.gif\n",
      "Doing  /tmp/2020-08-11_caustique/caustique_B_sf_modul_1.189.mp4\n"
     ]
    },
    {
     "data": {
      "text/html": [
       "<img src=\"/tmp/2020-08-11_caustique/caustique_B_sf_modul_1.189.gif\" width=\"1024\"/>"
      ],
      "text/plain": [
       "<IPython.core.display.Image object>"
      ]
     },
     "metadata": {},
     "output_type": "display_data"
    },
    {
     "name": "stdout",
     "output_type": "stream",
     "text": [
      "B_sf=B_sf(default)*1.414=2.828E-03\n",
      "Doing  /tmp/2020-08-11_caustique/caustique_B_sf_modul_1.414.gif\n",
      "Doing  /tmp/2020-08-11_caustique/caustique_B_sf_modul_1.414.mp4\n"
     ]
    },
    {
     "data": {
      "text/html": [
       "<img src=\"/tmp/2020-08-11_caustique/caustique_B_sf_modul_1.414.gif\" width=\"1024\"/>"
      ],
      "text/plain": [
       "<IPython.core.display.Image object>"
      ]
     },
     "metadata": {},
     "output_type": "display_data"
    },
    {
     "name": "stdout",
     "output_type": "stream",
     "text": [
      "B_sf=B_sf(default)*1.682=3.364E-03\n",
      "Doing  /tmp/2020-08-11_caustique/caustique_B_sf_modul_1.682.gif\n",
      "Doing  /tmp/2020-08-11_caustique/caustique_B_sf_modul_1.682.mp4\n"
     ]
    },
    {
     "data": {
      "text/html": [
       "<img src=\"/tmp/2020-08-11_caustique/caustique_B_sf_modul_1.682.gif\" width=\"1024\"/>"
      ],
      "text/plain": [
       "<IPython.core.display.Image object>"
      ]
     },
     "metadata": {},
     "output_type": "display_data"
    },
    {
     "name": "stdout",
     "output_type": "stream",
     "text": [
      "B_sf=B_sf(default)*2.000=4.000E-03\n",
      "Doing  /tmp/2020-08-11_caustique/caustique_B_sf_modul_2.000.gif\n",
      "Doing  /tmp/2020-08-11_caustique/caustique_B_sf_modul_2.000.mp4\n"
     ]
    },
    {
     "data": {
      "text/html": [
       "<img src=\"/tmp/2020-08-11_caustique/caustique_B_sf_modul_2.000.gif\" width=\"1024\"/>"
      ],
      "text/plain": [
       "<IPython.core.display.Image object>"
      ]
     },
     "metadata": {},
     "output_type": "display_data"
    },
    {
     "name": "stdout",
     "output_type": "stream",
     "text": [
      "======theta======\n",
      "theta=theta(default)*0.500=1.200E+00\n",
      "Doing  /tmp/2020-08-11_caustique/caustique_theta_modul_0.500.gif\n",
      "Doing  /tmp/2020-08-11_caustique/caustique_theta_modul_0.500.mp4\n"
     ]
    },
    {
     "data": {
      "text/html": [
       "<img src=\"/tmp/2020-08-11_caustique/caustique_theta_modul_0.500.gif\" width=\"1024\"/>"
      ],
      "text/plain": [
       "<IPython.core.display.Image object>"
      ]
     },
     "metadata": {},
     "output_type": "display_data"
    },
    {
     "name": "stdout",
     "output_type": "stream",
     "text": [
      "theta=theta(default)*0.595=1.427E+00\n",
      "Doing  /tmp/2020-08-11_caustique/caustique_theta_modul_0.595.gif\n",
      "Doing  /tmp/2020-08-11_caustique/caustique_theta_modul_0.595.mp4\n"
     ]
    },
    {
     "data": {
      "text/html": [
       "<img src=\"/tmp/2020-08-11_caustique/caustique_theta_modul_0.595.gif\" width=\"1024\"/>"
      ],
      "text/plain": [
       "<IPython.core.display.Image object>"
      ]
     },
     "metadata": {},
     "output_type": "display_data"
    },
    {
     "name": "stdout",
     "output_type": "stream",
     "text": [
      "theta=theta(default)*0.707=1.697E+00\n",
      "Doing  /tmp/2020-08-11_caustique/caustique_theta_modul_0.707.gif\n",
      "Doing  /tmp/2020-08-11_caustique/caustique_theta_modul_0.707.mp4\n"
     ]
    },
    {
     "data": {
      "text/html": [
       "<img src=\"/tmp/2020-08-11_caustique/caustique_theta_modul_0.707.gif\" width=\"1024\"/>"
      ],
      "text/plain": [
       "<IPython.core.display.Image object>"
      ]
     },
     "metadata": {},
     "output_type": "display_data"
    },
    {
     "name": "stdout",
     "output_type": "stream",
     "text": [
      "theta=theta(default)*0.841=2.018E+00\n",
      "Doing  /tmp/2020-08-11_caustique/caustique_theta_modul_0.841.gif\n",
      "Doing  /tmp/2020-08-11_caustique/caustique_theta_modul_0.841.mp4\n"
     ]
    },
    {
     "data": {
      "text/html": [
       "<img src=\"/tmp/2020-08-11_caustique/caustique_theta_modul_0.841.gif\" width=\"1024\"/>"
      ],
      "text/plain": [
       "<IPython.core.display.Image object>"
      ]
     },
     "metadata": {},
     "output_type": "display_data"
    },
    {
     "name": "stdout",
     "output_type": "stream",
     "text": [
      "theta=theta(default)*1.000=2.400E+00\n",
      "Doing  /tmp/2020-08-11_caustique/caustique_theta_modul_1.000.gif\n",
      "Doing  /tmp/2020-08-11_caustique/caustique_theta_modul_1.000.mp4\n"
     ]
    },
    {
     "data": {
      "text/html": [
       "<img src=\"/tmp/2020-08-11_caustique/caustique_theta_modul_1.000.gif\" width=\"1024\"/>"
      ],
      "text/plain": [
       "<IPython.core.display.Image object>"
      ]
     },
     "metadata": {},
     "output_type": "display_data"
    },
    {
     "name": "stdout",
     "output_type": "stream",
     "text": [
      "theta=theta(default)*1.189=2.854E+00\n",
      "Doing  /tmp/2020-08-11_caustique/caustique_theta_modul_1.189.gif\n",
      "Doing  /tmp/2020-08-11_caustique/caustique_theta_modul_1.189.mp4\n"
     ]
    },
    {
     "data": {
      "text/html": [
       "<img src=\"/tmp/2020-08-11_caustique/caustique_theta_modul_1.189.gif\" width=\"1024\"/>"
      ],
      "text/plain": [
       "<IPython.core.display.Image object>"
      ]
     },
     "metadata": {},
     "output_type": "display_data"
    },
    {
     "name": "stdout",
     "output_type": "stream",
     "text": [
      "theta=theta(default)*1.414=3.394E+00\n",
      "Doing  /tmp/2020-08-11_caustique/caustique_theta_modul_1.414.gif\n",
      "Doing  /tmp/2020-08-11_caustique/caustique_theta_modul_1.414.mp4\n"
     ]
    },
    {
     "data": {
      "text/html": [
       "<img src=\"/tmp/2020-08-11_caustique/caustique_theta_modul_1.414.gif\" width=\"1024\"/>"
      ],
      "text/plain": [
       "<IPython.core.display.Image object>"
      ]
     },
     "metadata": {},
     "output_type": "display_data"
    },
    {
     "name": "stdout",
     "output_type": "stream",
     "text": [
      "theta=theta(default)*1.682=4.036E+00\n",
      "Doing  /tmp/2020-08-11_caustique/caustique_theta_modul_1.682.gif\n",
      "Doing  /tmp/2020-08-11_caustique/caustique_theta_modul_1.682.mp4\n"
     ]
    },
    {
     "data": {
      "text/html": [
       "<img src=\"/tmp/2020-08-11_caustique/caustique_theta_modul_1.682.gif\" width=\"1024\"/>"
      ],
      "text/plain": [
       "<IPython.core.display.Image object>"
      ]
     },
     "metadata": {},
     "output_type": "display_data"
    },
    {
     "name": "stdout",
     "output_type": "stream",
     "text": [
      "theta=theta(default)*2.000=4.800E+00\n",
      "Doing  /tmp/2020-08-11_caustique/caustique_theta_modul_2.000.gif\n",
      "Doing  /tmp/2020-08-11_caustique/caustique_theta_modul_2.000.mp4\n"
     ]
    },
    {
     "data": {
      "text/html": [
       "<img src=\"/tmp/2020-08-11_caustique/caustique_theta_modul_2.000.gif\" width=\"1024\"/>"
      ],
      "text/plain": [
       "<IPython.core.display.Image object>"
      ]
     },
     "metadata": {},
     "output_type": "display_data"
    },
    {
     "name": "stdout",
     "output_type": "stream",
     "text": [
      "======B_theta======\n",
      "B_theta=B_theta(default)*0.500=1.309E-01\n",
      "Doing  /tmp/2020-08-11_caustique/caustique_B_theta_modul_0.500.gif\n",
      "Doing  /tmp/2020-08-11_caustique/caustique_B_theta_modul_0.500.mp4\n"
     ]
    },
    {
     "data": {
      "text/html": [
       "<img src=\"/tmp/2020-08-11_caustique/caustique_B_theta_modul_0.500.gif\" width=\"1024\"/>"
      ],
      "text/plain": [
       "<IPython.core.display.Image object>"
      ]
     },
     "metadata": {},
     "output_type": "display_data"
    },
    {
     "name": "stdout",
     "output_type": "stream",
     "text": [
      "B_theta=B_theta(default)*0.595=1.557E-01\n",
      "Doing  /tmp/2020-08-11_caustique/caustique_B_theta_modul_0.595.gif\n",
      "Doing  /tmp/2020-08-11_caustique/caustique_B_theta_modul_0.595.mp4\n"
     ]
    },
    {
     "data": {
      "text/html": [
       "<img src=\"/tmp/2020-08-11_caustique/caustique_B_theta_modul_0.595.gif\" width=\"1024\"/>"
      ],
      "text/plain": [
       "<IPython.core.display.Image object>"
      ]
     },
     "metadata": {},
     "output_type": "display_data"
    },
    {
     "name": "stdout",
     "output_type": "stream",
     "text": [
      "B_theta=B_theta(default)*0.707=1.851E-01\n",
      "Doing  /tmp/2020-08-11_caustique/caustique_B_theta_modul_0.707.gif\n",
      "Doing  /tmp/2020-08-11_caustique/caustique_B_theta_modul_0.707.mp4\n"
     ]
    },
    {
     "data": {
      "text/html": [
       "<img src=\"/tmp/2020-08-11_caustique/caustique_B_theta_modul_0.707.gif\" width=\"1024\"/>"
      ],
      "text/plain": [
       "<IPython.core.display.Image object>"
      ]
     },
     "metadata": {},
     "output_type": "display_data"
    },
    {
     "name": "stdout",
     "output_type": "stream",
     "text": [
      "B_theta=B_theta(default)*0.841=2.201E-01\n",
      "Doing  /tmp/2020-08-11_caustique/caustique_B_theta_modul_0.841.gif\n",
      "Doing  /tmp/2020-08-11_caustique/caustique_B_theta_modul_0.841.mp4\n"
     ]
    },
    {
     "data": {
      "text/html": [
       "<img src=\"/tmp/2020-08-11_caustique/caustique_B_theta_modul_0.841.gif\" width=\"1024\"/>"
      ],
      "text/plain": [
       "<IPython.core.display.Image object>"
      ]
     },
     "metadata": {},
     "output_type": "display_data"
    },
    {
     "name": "stdout",
     "output_type": "stream",
     "text": [
      "B_theta=B_theta(default)*1.000=2.618E-01\n",
      "Doing  /tmp/2020-08-11_caustique/caustique_B_theta_modul_1.000.gif\n",
      "Doing  /tmp/2020-08-11_caustique/caustique_B_theta_modul_1.000.mp4\n"
     ]
    },
    {
     "data": {
      "text/html": [
       "<img src=\"/tmp/2020-08-11_caustique/caustique_B_theta_modul_1.000.gif\" width=\"1024\"/>"
      ],
      "text/plain": [
       "<IPython.core.display.Image object>"
      ]
     },
     "metadata": {},
     "output_type": "display_data"
    },
    {
     "name": "stdout",
     "output_type": "stream",
     "text": [
      "B_theta=B_theta(default)*1.189=3.113E-01\n",
      "Doing  /tmp/2020-08-11_caustique/caustique_B_theta_modul_1.189.gif\n",
      "Doing  /tmp/2020-08-11_caustique/caustique_B_theta_modul_1.189.mp4\n"
     ]
    },
    {
     "data": {
      "text/html": [
       "<img src=\"/tmp/2020-08-11_caustique/caustique_B_theta_modul_1.189.gif\" width=\"1024\"/>"
      ],
      "text/plain": [
       "<IPython.core.display.Image object>"
      ]
     },
     "metadata": {},
     "output_type": "display_data"
    },
    {
     "name": "stdout",
     "output_type": "stream",
     "text": [
      "B_theta=B_theta(default)*1.414=3.702E-01\n",
      "Doing  /tmp/2020-08-11_caustique/caustique_B_theta_modul_1.414.gif\n",
      "Doing  /tmp/2020-08-11_caustique/caustique_B_theta_modul_1.414.mp4\n"
     ]
    },
    {
     "data": {
      "text/html": [
       "<img src=\"/tmp/2020-08-11_caustique/caustique_B_theta_modul_1.414.gif\" width=\"1024\"/>"
      ],
      "text/plain": [
       "<IPython.core.display.Image object>"
      ]
     },
     "metadata": {},
     "output_type": "display_data"
    },
    {
     "name": "stdout",
     "output_type": "stream",
     "text": [
      "B_theta=B_theta(default)*1.682=4.403E-01\n",
      "Doing  /tmp/2020-08-11_caustique/caustique_B_theta_modul_1.682.gif\n",
      "Doing  /tmp/2020-08-11_caustique/caustique_B_theta_modul_1.682.mp4\n"
     ]
    },
    {
     "data": {
      "text/html": [
       "<img src=\"/tmp/2020-08-11_caustique/caustique_B_theta_modul_1.682.gif\" width=\"1024\"/>"
      ],
      "text/plain": [
       "<IPython.core.display.Image object>"
      ]
     },
     "metadata": {},
     "output_type": "display_data"
    },
    {
     "name": "stdout",
     "output_type": "stream",
     "text": [
      "B_theta=B_theta(default)*2.000=5.236E-01\n",
      "Doing  /tmp/2020-08-11_caustique/caustique_B_theta_modul_2.000.gif\n",
      "Doing  /tmp/2020-08-11_caustique/caustique_B_theta_modul_2.000.mp4\n"
     ]
    },
    {
     "data": {
      "text/html": [
       "<img src=\"/tmp/2020-08-11_caustique/caustique_B_theta_modul_2.000.gif\" width=\"1024\"/>"
      ],
      "text/plain": [
       "<IPython.core.display.Image object>"
      ]
     },
     "metadata": {},
     "output_type": "display_data"
    },
    {
     "name": "stdout",
     "output_type": "stream",
     "text": [
      "======V_X======\n",
      "V_X=V_X(default)*0.500=1.500E-01\n",
      "Doing  /tmp/2020-08-11_caustique/caustique_V_X_modul_0.500.gif\n",
      "Doing  /tmp/2020-08-11_caustique/caustique_V_X_modul_0.500.mp4\n"
     ]
    },
    {
     "data": {
      "text/html": [
       "<img src=\"/tmp/2020-08-11_caustique/caustique_V_X_modul_0.500.gif\" width=\"1024\"/>"
      ],
      "text/plain": [
       "<IPython.core.display.Image object>"
      ]
     },
     "metadata": {},
     "output_type": "display_data"
    },
    {
     "name": "stdout",
     "output_type": "stream",
     "text": [
      "V_X=V_X(default)*0.595=1.784E-01\n",
      "Doing  /tmp/2020-08-11_caustique/caustique_V_X_modul_0.595.gif\n",
      "Doing  /tmp/2020-08-11_caustique/caustique_V_X_modul_0.595.mp4\n"
     ]
    },
    {
     "data": {
      "text/html": [
       "<img src=\"/tmp/2020-08-11_caustique/caustique_V_X_modul_0.595.gif\" width=\"1024\"/>"
      ],
      "text/plain": [
       "<IPython.core.display.Image object>"
      ]
     },
     "metadata": {},
     "output_type": "display_data"
    },
    {
     "name": "stdout",
     "output_type": "stream",
     "text": [
      "V_X=V_X(default)*0.707=2.121E-01\n",
      "Doing  /tmp/2020-08-11_caustique/caustique_V_X_modul_0.707.gif\n",
      "Doing  /tmp/2020-08-11_caustique/caustique_V_X_modul_0.707.mp4\n"
     ]
    },
    {
     "data": {
      "text/html": [
       "<img src=\"/tmp/2020-08-11_caustique/caustique_V_X_modul_0.707.gif\" width=\"1024\"/>"
      ],
      "text/plain": [
       "<IPython.core.display.Image object>"
      ]
     },
     "metadata": {},
     "output_type": "display_data"
    },
    {
     "name": "stdout",
     "output_type": "stream",
     "text": [
      "V_X=V_X(default)*0.841=2.523E-01\n",
      "Doing  /tmp/2020-08-11_caustique/caustique_V_X_modul_0.841.gif\n",
      "Doing  /tmp/2020-08-11_caustique/caustique_V_X_modul_0.841.mp4\n"
     ]
    },
    {
     "data": {
      "text/html": [
       "<img src=\"/tmp/2020-08-11_caustique/caustique_V_X_modul_0.841.gif\" width=\"1024\"/>"
      ],
      "text/plain": [
       "<IPython.core.display.Image object>"
      ]
     },
     "metadata": {},
     "output_type": "display_data"
    },
    {
     "name": "stdout",
     "output_type": "stream",
     "text": [
      "V_X=V_X(default)*1.000=3.000E-01\n",
      "Doing  /tmp/2020-08-11_caustique/caustique_V_X_modul_1.000.gif\n",
      "Doing  /tmp/2020-08-11_caustique/caustique_V_X_modul_1.000.mp4\n"
     ]
    },
    {
     "data": {
      "text/html": [
       "<img src=\"/tmp/2020-08-11_caustique/caustique_V_X_modul_1.000.gif\" width=\"1024\"/>"
      ],
      "text/plain": [
       "<IPython.core.display.Image object>"
      ]
     },
     "metadata": {},
     "output_type": "display_data"
    },
    {
     "name": "stdout",
     "output_type": "stream",
     "text": [
      "V_X=V_X(default)*1.189=3.568E-01\n",
      "Doing  /tmp/2020-08-11_caustique/caustique_V_X_modul_1.189.gif\n",
      "Doing  /tmp/2020-08-11_caustique/caustique_V_X_modul_1.189.mp4\n"
     ]
    },
    {
     "data": {
      "text/html": [
       "<img src=\"/tmp/2020-08-11_caustique/caustique_V_X_modul_1.189.gif\" width=\"1024\"/>"
      ],
      "text/plain": [
       "<IPython.core.display.Image object>"
      ]
     },
     "metadata": {},
     "output_type": "display_data"
    },
    {
     "name": "stdout",
     "output_type": "stream",
     "text": [
      "V_X=V_X(default)*1.414=4.243E-01\n",
      "Doing  /tmp/2020-08-11_caustique/caustique_V_X_modul_1.414.gif\n",
      "Doing  /tmp/2020-08-11_caustique/caustique_V_X_modul_1.414.mp4\n"
     ]
    },
    {
     "data": {
      "text/html": [
       "<img src=\"/tmp/2020-08-11_caustique/caustique_V_X_modul_1.414.gif\" width=\"1024\"/>"
      ],
      "text/plain": [
       "<IPython.core.display.Image object>"
      ]
     },
     "metadata": {},
     "output_type": "display_data"
    },
    {
     "name": "stdout",
     "output_type": "stream",
     "text": [
      "V_X=V_X(default)*1.682=5.045E-01\n",
      "Doing  /tmp/2020-08-11_caustique/caustique_V_X_modul_1.682.gif\n",
      "Doing  /tmp/2020-08-11_caustique/caustique_V_X_modul_1.682.mp4\n"
     ]
    },
    {
     "data": {
      "text/html": [
       "<img src=\"/tmp/2020-08-11_caustique/caustique_V_X_modul_1.682.gif\" width=\"1024\"/>"
      ],
      "text/plain": [
       "<IPython.core.display.Image object>"
      ]
     },
     "metadata": {},
     "output_type": "display_data"
    },
    {
     "name": "stdout",
     "output_type": "stream",
     "text": [
      "V_X=V_X(default)*2.000=6.000E-01\n",
      "Doing  /tmp/2020-08-11_caustique/caustique_V_X_modul_2.000.gif\n"
     ]
    },
    {
     "ename": "OSError",
     "evalue": "335544320 requested and 29463040 written",
     "output_type": "error",
     "traceback": [
      "\u001b[0;31m---------------------------------------------------------------------------\u001b[0m",
      "\u001b[0;31mOSError\u001b[0m                                   Traceback (most recent call last)",
      "\u001b[0;32m<ipython-input-10-309516730502>\u001b[0m in \u001b[0;36m<module>\u001b[0;34m\u001b[0m\n\u001b[1;32m     13\u001b[0m         \u001b[0;32mif\u001b[0m \u001b[0;32mnot\u001b[0m \u001b[0mos\u001b[0m\u001b[0;34m.\u001b[0m\u001b[0mpath\u001b[0m\u001b[0;34m.\u001b[0m\u001b[0misfile\u001b[0m\u001b[0;34m(\u001b[0m\u001b[0mgifname\u001b[0m\u001b[0;34m)\u001b[0m\u001b[0;34m:\u001b[0m\u001b[0;34m\u001b[0m\u001b[0;34m\u001b[0m\u001b[0m\n\u001b[1;32m     14\u001b[0m             \u001b[0mprint\u001b[0m\u001b[0;34m(\u001b[0m\u001b[0;34m'Doing '\u001b[0m\u001b[0;34m,\u001b[0m \u001b[0mgifname\u001b[0m\u001b[0;34m)\u001b[0m\u001b[0;34m\u001b[0m\u001b[0;34m\u001b[0m\u001b[0m\n\u001b[0;32m---> 15\u001b[0;31m             \u001b[0mz\u001b[0m \u001b[0;34m=\u001b[0m \u001b[0mc\u001b[0m\u001b[0;34m.\u001b[0m\u001b[0mwave\u001b[0m\u001b[0;34m(\u001b[0m\u001b[0;34m)\u001b[0m\u001b[0;34m\u001b[0m\u001b[0;34m\u001b[0m\u001b[0m\n\u001b[0m\u001b[1;32m     16\u001b[0m             \u001b[0mmcname\u001b[0m \u001b[0;34m=\u001b[0m \u001b[0;34mf'{opt.figpath}/{c.opt.tag}'\u001b[0m\u001b[0;34m\u001b[0m\u001b[0;34m\u001b[0m\u001b[0m\n\u001b[1;32m     17\u001b[0m             \u001b[0;32mif\u001b[0m \u001b[0;32mnot\u001b[0m \u001b[0mos\u001b[0m\u001b[0;34m.\u001b[0m\u001b[0mpath\u001b[0m\u001b[0;34m.\u001b[0m\u001b[0misfile\u001b[0m\u001b[0;34m(\u001b[0m\u001b[0;34mf'{mcname}{mc.vext}'\u001b[0m\u001b[0;34m)\u001b[0m\u001b[0;34m:\u001b[0m\u001b[0;34m\u001b[0m\u001b[0;34m\u001b[0m\u001b[0m\n",
      "\u001b[0;32m~/quantic/EtienneRey/2020_caustiques/caustique.py\u001b[0m in \u001b[0;36mwave\u001b[0;34m(self)\u001b[0m\n\u001b[1;32m     79\u001b[0m                                     theta=self.opt.theta, B_theta=self.opt.B_theta)\n\u001b[1;32m     80\u001b[0m             \u001b[0mz\u001b[0m \u001b[0;34m=\u001b[0m \u001b[0mmc\u001b[0m\u001b[0;34m.\u001b[0m\u001b[0mrectif\u001b[0m\u001b[0;34m(\u001b[0m\u001b[0mmc\u001b[0m\u001b[0;34m.\u001b[0m\u001b[0mrandom_cloud\u001b[0m\u001b[0;34m(\u001b[0m\u001b[0menv\u001b[0m\u001b[0;34m,\u001b[0m \u001b[0mseed\u001b[0m\u001b[0;34m=\u001b[0m\u001b[0mself\u001b[0m\u001b[0;34m.\u001b[0m\u001b[0mopt\u001b[0m\u001b[0;34m.\u001b[0m\u001b[0mseed\u001b[0m\u001b[0;34m)\u001b[0m\u001b[0;34m)\u001b[0m\u001b[0;34m\u001b[0m\u001b[0;34m\u001b[0m\u001b[0m\n\u001b[0;32m---> 81\u001b[0;31m             \u001b[0;32mif\u001b[0m \u001b[0mself\u001b[0m\u001b[0;34m.\u001b[0m\u001b[0mopt\u001b[0m\u001b[0;34m.\u001b[0m\u001b[0mcache\u001b[0m\u001b[0;34m:\u001b[0m \u001b[0mnp\u001b[0m\u001b[0;34m.\u001b[0m\u001b[0msave\u001b[0m\u001b[0;34m(\u001b[0m\u001b[0mfilename\u001b[0m\u001b[0;34m,\u001b[0m \u001b[0mz\u001b[0m\u001b[0;34m)\u001b[0m\u001b[0;34m\u001b[0m\u001b[0;34m\u001b[0m\u001b[0m\n\u001b[0m\u001b[1;32m     82\u001b[0m         \u001b[0;32mreturn\u001b[0m \u001b[0mz\u001b[0m\u001b[0;34m\u001b[0m\u001b[0;34m\u001b[0m\u001b[0m\n\u001b[1;32m     83\u001b[0m \u001b[0;34m\u001b[0m\u001b[0m\n",
      "\u001b[0;32m<__array_function__ internals>\u001b[0m in \u001b[0;36msave\u001b[0;34m(*args, **kwargs)\u001b[0m\n",
      "\u001b[0;32m/usr/local/lib/python3.8/site-packages/numpy/lib/npyio.py\u001b[0m in \u001b[0;36msave\u001b[0;34m(file, arr, allow_pickle, fix_imports)\u001b[0m\n\u001b[1;32m    527\u001b[0m     \u001b[0;32mwith\u001b[0m \u001b[0mfile_ctx\u001b[0m \u001b[0;32mas\u001b[0m \u001b[0mfid\u001b[0m\u001b[0;34m:\u001b[0m\u001b[0;34m\u001b[0m\u001b[0;34m\u001b[0m\u001b[0m\n\u001b[1;32m    528\u001b[0m         \u001b[0marr\u001b[0m \u001b[0;34m=\u001b[0m \u001b[0mnp\u001b[0m\u001b[0;34m.\u001b[0m\u001b[0masanyarray\u001b[0m\u001b[0;34m(\u001b[0m\u001b[0marr\u001b[0m\u001b[0;34m)\u001b[0m\u001b[0;34m\u001b[0m\u001b[0;34m\u001b[0m\u001b[0m\n\u001b[0;32m--> 529\u001b[0;31m         format.write_array(fid, arr, allow_pickle=allow_pickle,\n\u001b[0m\u001b[1;32m    530\u001b[0m                            pickle_kwargs=dict(fix_imports=fix_imports))\n\u001b[1;32m    531\u001b[0m \u001b[0;34m\u001b[0m\u001b[0m\n",
      "\u001b[0;32m/usr/local/lib/python3.8/site-packages/numpy/lib/format.py\u001b[0m in \u001b[0;36mwrite_array\u001b[0;34m(fp, array, version, allow_pickle, pickle_kwargs)\u001b[0m\n\u001b[1;32m    685\u001b[0m     \u001b[0;32melse\u001b[0m\u001b[0;34m:\u001b[0m\u001b[0;34m\u001b[0m\u001b[0;34m\u001b[0m\u001b[0m\n\u001b[1;32m    686\u001b[0m         \u001b[0;32mif\u001b[0m \u001b[0misfileobj\u001b[0m\u001b[0;34m(\u001b[0m\u001b[0mfp\u001b[0m\u001b[0;34m)\u001b[0m\u001b[0;34m:\u001b[0m\u001b[0;34m\u001b[0m\u001b[0;34m\u001b[0m\u001b[0m\n\u001b[0;32m--> 687\u001b[0;31m             \u001b[0marray\u001b[0m\u001b[0;34m.\u001b[0m\u001b[0mtofile\u001b[0m\u001b[0;34m(\u001b[0m\u001b[0mfp\u001b[0m\u001b[0;34m)\u001b[0m\u001b[0;34m\u001b[0m\u001b[0;34m\u001b[0m\u001b[0m\n\u001b[0m\u001b[1;32m    688\u001b[0m         \u001b[0;32melse\u001b[0m\u001b[0;34m:\u001b[0m\u001b[0;34m\u001b[0m\u001b[0;34m\u001b[0m\u001b[0m\n\u001b[1;32m    689\u001b[0m             for chunk in numpy.nditer(\n",
      "\u001b[0;31mOSError\u001b[0m: 335544320 requested and 29463040 written"
     ]
    }
   ],
   "source": [
    "for variable in ['sf_0', 'B_sf', 'theta', 'B_theta', 'V_X', 'V_Y', 'B_V']:\n",
    "    print(f'======{variable}======')\n",
    "    for modul in np.logspace(-1, 1, N_scan, base=base):\n",
    "        opt = init()\n",
    "        opt.figpath = figpath\n",
    "\n",
    "        c = Caustique(opt)\n",
    "        c.d[variable] *= modul\n",
    "        c.opt.tag = f'{opt.tag}_{variable}_modul_{modul:.3f}'\n",
    "        gifname = f'{opt.figpath}/{c.opt.tag}.gif'\n",
    "\n",
    "        print(f'{variable}={variable}(default)*{modul:.3f}={c.d[variable]:.3E}')\n",
    "        if not os.path.isfile(gifname):\n",
    "            print('Doing ', gifname)\n",
    "            z = c.wave()\n",
    "            mcname = f'{opt.figpath}/{c.opt.tag}'\n",
    "            if not os.path.isfile(f'{mcname}{mc.vext}'): \n",
    "                print('Doing ', f'{mcname}{mc.vext}')\n",
    "                mc.anim_save(z.swapaxes(0, 1), f'{mcname}')\n",
    "            url=c.plot(z, gifname=gifname)\n",
    "        display(Image(url=gifname, width=width))"
   ]
  },
  {
   "cell_type": "code",
   "execution_count": null,
   "metadata": {},
   "outputs": [],
   "source": []
  },
  {
   "cell_type": "code",
   "execution_count": null,
   "metadata": {},
   "outputs": [],
   "source": []
  }
 ],
 "metadata": {
  "kernelspec": {
   "display_name": "Python 3",
   "language": "python",
   "name": "python3"
  },
  "language_info": {
   "codemirror_mode": {
    "name": "ipython",
    "version": 3
   },
   "file_extension": ".py",
   "mimetype": "text/x-python",
   "name": "python",
   "nbconvert_exporter": "python",
   "pygments_lexer": "ipython3",
   "version": "3.8.5"
  }
 },
 "nbformat": 4,
 "nbformat_minor": 4
}
