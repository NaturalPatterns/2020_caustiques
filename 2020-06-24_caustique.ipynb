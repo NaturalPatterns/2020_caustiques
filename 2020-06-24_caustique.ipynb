{
 "cells": [
  {
   "cell_type": "markdown",
   "metadata": {},
   "source": [
    "# caustique d'onde"
   ]
  },
  {
   "cell_type": "code",
   "execution_count": 1,
   "metadata": {},
   "outputs": [],
   "source": [
    "import os\n",
    "import numpy as np\n",
    "import MotionClouds as mc\n",
    "from caustique import init, Caustique"
   ]
  },
  {
   "cell_type": "code",
   "execution_count": 2,
   "metadata": {},
   "outputs": [],
   "source": [
    "from IPython.display import Image, display\n",
    "width = 1024"
   ]
  },
  {
   "cell_type": "code",
   "execution_count": 3,
   "metadata": {},
   "outputs": [
    {
     "name": "stdout",
     "output_type": "stream",
     "text": [
      "Saving our simulations in=2020-08-11_caustique\n"
     ]
    }
   ],
   "source": [
    "import datetime\n",
    "date = datetime.datetime.now().date().isoformat()\n",
    "figpath = f'{date}_caustique'\n",
    "figpath = '2020-08-11_caustique'\n",
    "print(f'Saving our simulations in={figpath}')"
   ]
  },
  {
   "cell_type": "code",
   "execution_count": 4,
   "metadata": {},
   "outputs": [],
   "source": [
    "opt = init()\n",
    "opt.figpath = figpath"
   ]
  },
  {
   "cell_type": "code",
   "execution_count": 5,
   "metadata": {},
   "outputs": [
    {
     "data": {
      "text/plain": [
       "Namespace(B_V=4.0, B_sf=0.002, B_theta=0.39269908169872414, H=10.0, V_X=0.3, V_Y=0.3, bin_dens=4, cache=True, figpath='2020-08-11_caustique', fps=18, min_lum=0.2, nframe=128, nx=1280, ny=2048, seed=42, sf_0=0.004, tag='caustique', theta=2.399988291783386, verbose=False)"
      ]
     },
     "execution_count": 5,
     "metadata": {},
     "output_type": "execute_result"
    }
   ],
   "source": [
    "opt"
   ]
  },
  {
   "cell_type": "markdown",
   "metadata": {},
   "source": [
    "# une simple caustique"
   ]
  },
  {
   "cell_type": "code",
   "execution_count": 6,
   "metadata": {},
   "outputs": [
    {
     "name": "stdout",
     "output_type": "stream",
     "text": [
      "Doing 2020-08-11_caustique/caustique.mp4\n"
     ]
    },
    {
     "data": {
      "text/html": [
       "\n",
       "            <center><table border=none width=100% height=100%>\n",
       "            <tr> <td width=100%><center><video  loop=\"1\" autoplay=\"1\" controls  src=\"2020-08-11_caustique/caustique.mp4\" type=\"video/mp4\"  width=100%\\>\n",
       "            </td></tr></table></center>"
      ],
      "text/plain": [
       "<IPython.core.display.HTML object>"
      ]
     },
     "metadata": {},
     "output_type": "display_data"
    }
   ],
   "source": [
    "if not os.path.isfile(f'{opt.figpath}/{opt.tag}{mc.vext}'):\n",
    "    print('Doing', f'{opt.figpath}/{opt.tag}{mc.vext}')\n",
    "    c = Caustique(opt)\n",
    "    z = c.wave()\n",
    "    mc.anim_save(z.swapaxes(0, 1), f'{opt.figpath}/{opt.tag}')\n",
    "mc.in_show_video(f'{opt.tag}', figpath=opt.figpath)"
   ]
  },
  {
   "cell_type": "code",
   "execution_count": 7,
   "metadata": {},
   "outputs": [
    {
     "data": {
      "text/html": [
       "<img src=\"2020-08-11_caustique/caustique.gif\" width=\"1024\"/>"
      ],
      "text/plain": [
       "<IPython.core.display.Image object>"
      ]
     },
     "metadata": {},
     "output_type": "display_data"
    }
   ],
   "source": [
    "gifname = f'{opt.figpath}/{opt.tag}.gif'\n",
    "if True:# not os.path.isfile(gifname):\n",
    "    c = Caustique(opt)\n",
    "    z = c.wave()\n",
    "    \n",
    "    gifname = c.plot(z)\n",
    "    \n",
    "display(Image(url=gifname, width=width))"
   ]
  },
  {
   "cell_type": "markdown",
   "metadata": {},
   "source": [
    "## exploring parameters"
   ]
  },
  {
   "cell_type": "code",
   "execution_count": 8,
   "metadata": {},
   "outputs": [],
   "source": [
    "N_scan = 9\n",
    "base = 2"
   ]
  },
  {
   "cell_type": "code",
   "execution_count": 9,
   "metadata": {},
   "outputs": [
    {
     "name": "stdout",
     "output_type": "stream",
     "text": [
      "H = 5.000\n"
     ]
    },
    {
     "data": {
      "text/html": [
       "<img src=\"2020-08-11_caustique/caustique_H_5.000.gif\" width=\"1024\"/>"
      ],
      "text/plain": [
       "<IPython.core.display.Image object>"
      ]
     },
     "metadata": {},
     "output_type": "display_data"
    },
    {
     "name": "stdout",
     "output_type": "stream",
     "text": [
      "H = 5.946\n"
     ]
    },
    {
     "data": {
      "text/html": [
       "<img src=\"2020-08-11_caustique/caustique_H_5.946.gif\" width=\"1024\"/>"
      ],
      "text/plain": [
       "<IPython.core.display.Image object>"
      ]
     },
     "metadata": {},
     "output_type": "display_data"
    },
    {
     "name": "stdout",
     "output_type": "stream",
     "text": [
      "H = 7.071\n"
     ]
    },
    {
     "data": {
      "text/html": [
       "<img src=\"2020-08-11_caustique/caustique_H_7.071.gif\" width=\"1024\"/>"
      ],
      "text/plain": [
       "<IPython.core.display.Image object>"
      ]
     },
     "metadata": {},
     "output_type": "display_data"
    },
    {
     "name": "stdout",
     "output_type": "stream",
     "text": [
      "H = 8.409\n"
     ]
    },
    {
     "data": {
      "text/html": [
       "<img src=\"2020-08-11_caustique/caustique_H_8.409.gif\" width=\"1024\"/>"
      ],
      "text/plain": [
       "<IPython.core.display.Image object>"
      ]
     },
     "metadata": {},
     "output_type": "display_data"
    },
    {
     "name": "stdout",
     "output_type": "stream",
     "text": [
      "H = 10.000\n"
     ]
    },
    {
     "data": {
      "text/html": [
       "<img src=\"2020-08-11_caustique/caustique_H_10.000.gif\" width=\"1024\"/>"
      ],
      "text/plain": [
       "<IPython.core.display.Image object>"
      ]
     },
     "metadata": {},
     "output_type": "display_data"
    },
    {
     "name": "stdout",
     "output_type": "stream",
     "text": [
      "H = 11.892\n"
     ]
    },
    {
     "data": {
      "text/html": [
       "<img src=\"2020-08-11_caustique/caustique_H_11.892.gif\" width=\"1024\"/>"
      ],
      "text/plain": [
       "<IPython.core.display.Image object>"
      ]
     },
     "metadata": {},
     "output_type": "display_data"
    },
    {
     "name": "stdout",
     "output_type": "stream",
     "text": [
      "H = 14.142\n"
     ]
    },
    {
     "data": {
      "text/html": [
       "<img src=\"2020-08-11_caustique/caustique_H_14.142.gif\" width=\"1024\"/>"
      ],
      "text/plain": [
       "<IPython.core.display.Image object>"
      ]
     },
     "metadata": {},
     "output_type": "display_data"
    },
    {
     "name": "stdout",
     "output_type": "stream",
     "text": [
      "H = 16.818\n"
     ]
    },
    {
     "data": {
      "text/html": [
       "<img src=\"2020-08-11_caustique/caustique_H_16.818.gif\" width=\"1024\"/>"
      ],
      "text/plain": [
       "<IPython.core.display.Image object>"
      ]
     },
     "metadata": {},
     "output_type": "display_data"
    },
    {
     "name": "stdout",
     "output_type": "stream",
     "text": [
      "H = 20.000\n"
     ]
    },
    {
     "data": {
      "text/html": [
       "<img src=\"2020-08-11_caustique/caustique_H_20.000.gif\" width=\"1024\"/>"
      ],
      "text/plain": [
       "<IPython.core.display.Image object>"
      ]
     },
     "metadata": {},
     "output_type": "display_data"
    }
   ],
   "source": [
    "opt = init()\n",
    "opt.figpath = figpath\n",
    "\n",
    "c = Caustique(opt)\n",
    "# compute just once\n",
    "z = c.wave()\n",
    "\n",
    "for H_ in c.opt.H*np.logspace(-1, 1, N_scan, base=base):\n",
    "    opt = init()\n",
    "    opt.figpath = figpath\n",
    "    c = Caustique(opt)\n",
    "\n",
    "    print(f'H = {H_:.3f}')\n",
    "    c.opt.H = H_\n",
    "    c.opt.tag = f'{opt.tag}_H_{H_:.3f}'\n",
    "    gifname = f'{opt.figpath}/{c.opt.tag}.gif'\n",
    "    if not os.path.isfile(gifname):\n",
    "        url=c.plot(z, gifname=gifname)\n",
    "    display(Image(url=gifname, width=width))"
   ]
  },
  {
   "cell_type": "code",
   "execution_count": 10,
   "metadata": {},
   "outputs": [
    {
     "name": "stdout",
     "output_type": "stream",
     "text": [
      "======sf_0======\n",
      "sf_0=sf_0(default)*0.500=2.000E-03\n",
      "Doing  2020-08-11_caustique/caustique_sf_0_modul_0.500.gif\n",
      "Doing  2020-08-11_caustique/caustique_sf_0_modul_0.500.mp4\n"
     ]
    },
    {
     "data": {
      "text/html": [
       "<img src=\"2020-08-11_caustique/caustique_sf_0_modul_0.500.gif\" width=\"1024\"/>"
      ],
      "text/plain": [
       "<IPython.core.display.Image object>"
      ]
     },
     "metadata": {},
     "output_type": "display_data"
    },
    {
     "name": "stdout",
     "output_type": "stream",
     "text": [
      "sf_0=sf_0(default)*0.595=2.378E-03\n",
      "Doing  2020-08-11_caustique/caustique_sf_0_modul_0.595.gif\n",
      "Doing  2020-08-11_caustique/caustique_sf_0_modul_0.595.mp4\n"
     ]
    },
    {
     "data": {
      "text/html": [
       "<img src=\"2020-08-11_caustique/caustique_sf_0_modul_0.595.gif\" width=\"1024\"/>"
      ],
      "text/plain": [
       "<IPython.core.display.Image object>"
      ]
     },
     "metadata": {},
     "output_type": "display_data"
    },
    {
     "name": "stdout",
     "output_type": "stream",
     "text": [
      "sf_0=sf_0(default)*0.707=2.828E-03\n",
      "Doing  2020-08-11_caustique/caustique_sf_0_modul_0.707.gif\n",
      "Doing  2020-08-11_caustique/caustique_sf_0_modul_0.707.mp4\n"
     ]
    },
    {
     "data": {
      "text/html": [
       "<img src=\"2020-08-11_caustique/caustique_sf_0_modul_0.707.gif\" width=\"1024\"/>"
      ],
      "text/plain": [
       "<IPython.core.display.Image object>"
      ]
     },
     "metadata": {},
     "output_type": "display_data"
    },
    {
     "name": "stdout",
     "output_type": "stream",
     "text": [
      "sf_0=sf_0(default)*0.841=3.364E-03\n",
      "Doing  2020-08-11_caustique/caustique_sf_0_modul_0.841.gif\n",
      "Doing  2020-08-11_caustique/caustique_sf_0_modul_0.841.mp4\n"
     ]
    },
    {
     "data": {
      "text/html": [
       "<img src=\"2020-08-11_caustique/caustique_sf_0_modul_0.841.gif\" width=\"1024\"/>"
      ],
      "text/plain": [
       "<IPython.core.display.Image object>"
      ]
     },
     "metadata": {},
     "output_type": "display_data"
    },
    {
     "name": "stdout",
     "output_type": "stream",
     "text": [
      "sf_0=sf_0(default)*1.000=4.000E-03\n",
      "Doing  2020-08-11_caustique/caustique_sf_0_modul_1.000.gif\n",
      "Doing  2020-08-11_caustique/caustique_sf_0_modul_1.000.mp4\n"
     ]
    },
    {
     "data": {
      "text/html": [
       "<img src=\"2020-08-11_caustique/caustique_sf_0_modul_1.000.gif\" width=\"1024\"/>"
      ],
      "text/plain": [
       "<IPython.core.display.Image object>"
      ]
     },
     "metadata": {},
     "output_type": "display_data"
    },
    {
     "name": "stdout",
     "output_type": "stream",
     "text": [
      "sf_0=sf_0(default)*1.189=4.757E-03\n",
      "Doing  2020-08-11_caustique/caustique_sf_0_modul_1.189.gif\n",
      "Doing  2020-08-11_caustique/caustique_sf_0_modul_1.189.mp4\n"
     ]
    },
    {
     "data": {
      "text/html": [
       "<img src=\"2020-08-11_caustique/caustique_sf_0_modul_1.189.gif\" width=\"1024\"/>"
      ],
      "text/plain": [
       "<IPython.core.display.Image object>"
      ]
     },
     "metadata": {},
     "output_type": "display_data"
    },
    {
     "name": "stdout",
     "output_type": "stream",
     "text": [
      "sf_0=sf_0(default)*1.414=5.657E-03\n",
      "Doing  2020-08-11_caustique/caustique_sf_0_modul_1.414.gif\n",
      "Doing  2020-08-11_caustique/caustique_sf_0_modul_1.414.mp4\n"
     ]
    },
    {
     "data": {
      "text/html": [
       "<img src=\"2020-08-11_caustique/caustique_sf_0_modul_1.414.gif\" width=\"1024\"/>"
      ],
      "text/plain": [
       "<IPython.core.display.Image object>"
      ]
     },
     "metadata": {},
     "output_type": "display_data"
    },
    {
     "name": "stdout",
     "output_type": "stream",
     "text": [
      "sf_0=sf_0(default)*1.682=6.727E-03\n",
      "Doing  2020-08-11_caustique/caustique_sf_0_modul_1.682.gif\n",
      "Doing  2020-08-11_caustique/caustique_sf_0_modul_1.682.mp4\n"
     ]
    },
    {
     "data": {
      "text/html": [
       "<img src=\"2020-08-11_caustique/caustique_sf_0_modul_1.682.gif\" width=\"1024\"/>"
      ],
      "text/plain": [
       "<IPython.core.display.Image object>"
      ]
     },
     "metadata": {},
     "output_type": "display_data"
    },
    {
     "name": "stdout",
     "output_type": "stream",
     "text": [
      "sf_0=sf_0(default)*2.000=8.000E-03\n",
      "Doing  2020-08-11_caustique/caustique_sf_0_modul_2.000.gif\n",
      "Doing  2020-08-11_caustique/caustique_sf_0_modul_2.000.mp4\n"
     ]
    },
    {
     "data": {
      "text/html": [
       "<img src=\"2020-08-11_caustique/caustique_sf_0_modul_2.000.gif\" width=\"1024\"/>"
      ],
      "text/plain": [
       "<IPython.core.display.Image object>"
      ]
     },
     "metadata": {},
     "output_type": "display_data"
    },
    {
     "name": "stdout",
     "output_type": "stream",
     "text": [
      "======B_sf======\n",
      "B_sf=B_sf(default)*0.500=1.000E-03\n",
      "Doing  2020-08-11_caustique/caustique_B_sf_modul_0.500.gif\n",
      "Doing  2020-08-11_caustique/caustique_B_sf_modul_0.500.mp4\n"
     ]
    },
    {
     "data": {
      "text/html": [
       "<img src=\"2020-08-11_caustique/caustique_B_sf_modul_0.500.gif\" width=\"1024\"/>"
      ],
      "text/plain": [
       "<IPython.core.display.Image object>"
      ]
     },
     "metadata": {},
     "output_type": "display_data"
    },
    {
     "name": "stdout",
     "output_type": "stream",
     "text": [
      "B_sf=B_sf(default)*0.595=1.189E-03\n",
      "Doing  2020-08-11_caustique/caustique_B_sf_modul_0.595.gif\n",
      "Doing  2020-08-11_caustique/caustique_B_sf_modul_0.595.mp4\n"
     ]
    },
    {
     "data": {
      "text/html": [
       "<img src=\"2020-08-11_caustique/caustique_B_sf_modul_0.595.gif\" width=\"1024\"/>"
      ],
      "text/plain": [
       "<IPython.core.display.Image object>"
      ]
     },
     "metadata": {},
     "output_type": "display_data"
    },
    {
     "name": "stdout",
     "output_type": "stream",
     "text": [
      "B_sf=B_sf(default)*0.707=1.414E-03\n",
      "Doing  2020-08-11_caustique/caustique_B_sf_modul_0.707.gif\n",
      "Doing  2020-08-11_caustique/caustique_B_sf_modul_0.707.mp4\n"
     ]
    },
    {
     "data": {
      "text/html": [
       "<img src=\"2020-08-11_caustique/caustique_B_sf_modul_0.707.gif\" width=\"1024\"/>"
      ],
      "text/plain": [
       "<IPython.core.display.Image object>"
      ]
     },
     "metadata": {},
     "output_type": "display_data"
    },
    {
     "name": "stdout",
     "output_type": "stream",
     "text": [
      "B_sf=B_sf(default)*0.841=1.682E-03\n",
      "Doing  2020-08-11_caustique/caustique_B_sf_modul_0.841.gif\n",
      "Doing  2020-08-11_caustique/caustique_B_sf_modul_0.841.mp4\n"
     ]
    },
    {
     "data": {
      "text/html": [
       "<img src=\"2020-08-11_caustique/caustique_B_sf_modul_0.841.gif\" width=\"1024\"/>"
      ],
      "text/plain": [
       "<IPython.core.display.Image object>"
      ]
     },
     "metadata": {},
     "output_type": "display_data"
    },
    {
     "name": "stdout",
     "output_type": "stream",
     "text": [
      "B_sf=B_sf(default)*1.000=2.000E-03\n",
      "Doing  2020-08-11_caustique/caustique_B_sf_modul_1.000.gif\n",
      "Doing  2020-08-11_caustique/caustique_B_sf_modul_1.000.mp4\n"
     ]
    },
    {
     "data": {
      "text/html": [
       "<img src=\"2020-08-11_caustique/caustique_B_sf_modul_1.000.gif\" width=\"1024\"/>"
      ],
      "text/plain": [
       "<IPython.core.display.Image object>"
      ]
     },
     "metadata": {},
     "output_type": "display_data"
    },
    {
     "name": "stdout",
     "output_type": "stream",
     "text": [
      "B_sf=B_sf(default)*1.189=2.378E-03\n",
      "Doing  2020-08-11_caustique/caustique_B_sf_modul_1.189.gif\n",
      "Doing  2020-08-11_caustique/caustique_B_sf_modul_1.189.mp4\n"
     ]
    },
    {
     "data": {
      "text/html": [
       "<img src=\"2020-08-11_caustique/caustique_B_sf_modul_1.189.gif\" width=\"1024\"/>"
      ],
      "text/plain": [
       "<IPython.core.display.Image object>"
      ]
     },
     "metadata": {},
     "output_type": "display_data"
    },
    {
     "name": "stdout",
     "output_type": "stream",
     "text": [
      "B_sf=B_sf(default)*1.414=2.828E-03\n",
      "Doing  2020-08-11_caustique/caustique_B_sf_modul_1.414.gif\n",
      "Doing  2020-08-11_caustique/caustique_B_sf_modul_1.414.mp4\n"
     ]
    },
    {
     "data": {
      "text/html": [
       "<img src=\"2020-08-11_caustique/caustique_B_sf_modul_1.414.gif\" width=\"1024\"/>"
      ],
      "text/plain": [
       "<IPython.core.display.Image object>"
      ]
     },
     "metadata": {},
     "output_type": "display_data"
    },
    {
     "name": "stdout",
     "output_type": "stream",
     "text": [
      "B_sf=B_sf(default)*1.682=3.364E-03\n",
      "Doing  2020-08-11_caustique/caustique_B_sf_modul_1.682.gif\n",
      "Doing  2020-08-11_caustique/caustique_B_sf_modul_1.682.mp4\n"
     ]
    },
    {
     "data": {
      "text/html": [
       "<img src=\"2020-08-11_caustique/caustique_B_sf_modul_1.682.gif\" width=\"1024\"/>"
      ],
      "text/plain": [
       "<IPython.core.display.Image object>"
      ]
     },
     "metadata": {},
     "output_type": "display_data"
    },
    {
     "name": "stdout",
     "output_type": "stream",
     "text": [
      "B_sf=B_sf(default)*2.000=4.000E-03\n",
      "Doing  2020-08-11_caustique/caustique_B_sf_modul_2.000.gif\n",
      "Doing  2020-08-11_caustique/caustique_B_sf_modul_2.000.mp4\n"
     ]
    },
    {
     "data": {
      "text/html": [
       "<img src=\"2020-08-11_caustique/caustique_B_sf_modul_2.000.gif\" width=\"1024\"/>"
      ],
      "text/plain": [
       "<IPython.core.display.Image object>"
      ]
     },
     "metadata": {},
     "output_type": "display_data"
    },
    {
     "name": "stdout",
     "output_type": "stream",
     "text": [
      "======theta======\n",
      "theta=theta(default)*0.500=1.200E+00\n",
      "Doing  2020-08-11_caustique/caustique_theta_modul_0.500.gif\n",
      "Doing  2020-08-11_caustique/caustique_theta_modul_0.500.mp4\n"
     ]
    },
    {
     "data": {
      "text/html": [
       "<img src=\"2020-08-11_caustique/caustique_theta_modul_0.500.gif\" width=\"1024\"/>"
      ],
      "text/plain": [
       "<IPython.core.display.Image object>"
      ]
     },
     "metadata": {},
     "output_type": "display_data"
    },
    {
     "name": "stdout",
     "output_type": "stream",
     "text": [
      "theta=theta(default)*0.595=1.427E+00\n",
      "Doing  2020-08-11_caustique/caustique_theta_modul_0.595.gif\n",
      "Doing  2020-08-11_caustique/caustique_theta_modul_0.595.mp4\n"
     ]
    },
    {
     "data": {
      "text/html": [
       "<img src=\"2020-08-11_caustique/caustique_theta_modul_0.595.gif\" width=\"1024\"/>"
      ],
      "text/plain": [
       "<IPython.core.display.Image object>"
      ]
     },
     "metadata": {},
     "output_type": "display_data"
    },
    {
     "name": "stdout",
     "output_type": "stream",
     "text": [
      "theta=theta(default)*0.707=1.697E+00\n",
      "Doing  2020-08-11_caustique/caustique_theta_modul_0.707.gif\n",
      "Doing  2020-08-11_caustique/caustique_theta_modul_0.707.mp4\n"
     ]
    },
    {
     "data": {
      "text/html": [
       "<img src=\"2020-08-11_caustique/caustique_theta_modul_0.707.gif\" width=\"1024\"/>"
      ],
      "text/plain": [
       "<IPython.core.display.Image object>"
      ]
     },
     "metadata": {},
     "output_type": "display_data"
    },
    {
     "name": "stdout",
     "output_type": "stream",
     "text": [
      "theta=theta(default)*0.841=2.018E+00\n",
      "Doing  2020-08-11_caustique/caustique_theta_modul_0.841.gif\n",
      "Doing  2020-08-11_caustique/caustique_theta_modul_0.841.mp4\n"
     ]
    },
    {
     "data": {
      "text/html": [
       "<img src=\"2020-08-11_caustique/caustique_theta_modul_0.841.gif\" width=\"1024\"/>"
      ],
      "text/plain": [
       "<IPython.core.display.Image object>"
      ]
     },
     "metadata": {},
     "output_type": "display_data"
    },
    {
     "name": "stdout",
     "output_type": "stream",
     "text": [
      "theta=theta(default)*1.000=2.400E+00\n",
      "Doing  2020-08-11_caustique/caustique_theta_modul_1.000.gif\n",
      "Doing  2020-08-11_caustique/caustique_theta_modul_1.000.mp4\n"
     ]
    },
    {
     "data": {
      "text/html": [
       "<img src=\"2020-08-11_caustique/caustique_theta_modul_1.000.gif\" width=\"1024\"/>"
      ],
      "text/plain": [
       "<IPython.core.display.Image object>"
      ]
     },
     "metadata": {},
     "output_type": "display_data"
    },
    {
     "name": "stdout",
     "output_type": "stream",
     "text": [
      "theta=theta(default)*1.189=2.854E+00\n",
      "Doing  2020-08-11_caustique/caustique_theta_modul_1.189.gif\n",
      "Doing  2020-08-11_caustique/caustique_theta_modul_1.189.mp4\n"
     ]
    },
    {
     "data": {
      "text/html": [
       "<img src=\"2020-08-11_caustique/caustique_theta_modul_1.189.gif\" width=\"1024\"/>"
      ],
      "text/plain": [
       "<IPython.core.display.Image object>"
      ]
     },
     "metadata": {},
     "output_type": "display_data"
    },
    {
     "name": "stdout",
     "output_type": "stream",
     "text": [
      "theta=theta(default)*1.414=3.394E+00\n",
      "Doing  2020-08-11_caustique/caustique_theta_modul_1.414.gif\n",
      "Doing  2020-08-11_caustique/caustique_theta_modul_1.414.mp4\n"
     ]
    },
    {
     "data": {
      "text/html": [
       "<img src=\"2020-08-11_caustique/caustique_theta_modul_1.414.gif\" width=\"1024\"/>"
      ],
      "text/plain": [
       "<IPython.core.display.Image object>"
      ]
     },
     "metadata": {},
     "output_type": "display_data"
    },
    {
     "name": "stdout",
     "output_type": "stream",
     "text": [
      "theta=theta(default)*1.682=4.036E+00\n",
      "Doing  2020-08-11_caustique/caustique_theta_modul_1.682.gif\n",
      "Doing  2020-08-11_caustique/caustique_theta_modul_1.682.mp4\n"
     ]
    },
    {
     "data": {
      "text/html": [
       "<img src=\"2020-08-11_caustique/caustique_theta_modul_1.682.gif\" width=\"1024\"/>"
      ],
      "text/plain": [
       "<IPython.core.display.Image object>"
      ]
     },
     "metadata": {},
     "output_type": "display_data"
    },
    {
     "name": "stdout",
     "output_type": "stream",
     "text": [
      "theta=theta(default)*2.000=4.800E+00\n",
      "Doing  2020-08-11_caustique/caustique_theta_modul_2.000.gif\n",
      "Doing  2020-08-11_caustique/caustique_theta_modul_2.000.mp4\n"
     ]
    },
    {
     "data": {
      "text/html": [
       "<img src=\"2020-08-11_caustique/caustique_theta_modul_2.000.gif\" width=\"1024\"/>"
      ],
      "text/plain": [
       "<IPython.core.display.Image object>"
      ]
     },
     "metadata": {},
     "output_type": "display_data"
    },
    {
     "name": "stdout",
     "output_type": "stream",
     "text": [
      "======B_theta======\n",
      "B_theta=B_theta(default)*0.500=1.963E-01\n",
      "Doing  2020-08-11_caustique/caustique_B_theta_modul_0.500.gif\n",
      "Doing  2020-08-11_caustique/caustique_B_theta_modul_0.500.mp4\n"
     ]
    },
    {
     "data": {
      "text/html": [
       "<img src=\"2020-08-11_caustique/caustique_B_theta_modul_0.500.gif\" width=\"1024\"/>"
      ],
      "text/plain": [
       "<IPython.core.display.Image object>"
      ]
     },
     "metadata": {},
     "output_type": "display_data"
    },
    {
     "name": "stdout",
     "output_type": "stream",
     "text": [
      "B_theta=B_theta(default)*0.595=2.335E-01\n",
      "Doing  2020-08-11_caustique/caustique_B_theta_modul_0.595.gif\n",
      "Doing  2020-08-11_caustique/caustique_B_theta_modul_0.595.mp4\n"
     ]
    },
    {
     "data": {
      "text/html": [
       "<img src=\"2020-08-11_caustique/caustique_B_theta_modul_0.595.gif\" width=\"1024\"/>"
      ],
      "text/plain": [
       "<IPython.core.display.Image object>"
      ]
     },
     "metadata": {},
     "output_type": "display_data"
    },
    {
     "name": "stdout",
     "output_type": "stream",
     "text": [
      "B_theta=B_theta(default)*0.707=2.777E-01\n",
      "Doing  2020-08-11_caustique/caustique_B_theta_modul_0.707.gif\n",
      "Doing  2020-08-11_caustique/caustique_B_theta_modul_0.707.mp4\n"
     ]
    },
    {
     "data": {
      "text/html": [
       "<img src=\"2020-08-11_caustique/caustique_B_theta_modul_0.707.gif\" width=\"1024\"/>"
      ],
      "text/plain": [
       "<IPython.core.display.Image object>"
      ]
     },
     "metadata": {},
     "output_type": "display_data"
    },
    {
     "name": "stdout",
     "output_type": "stream",
     "text": [
      "B_theta=B_theta(default)*0.841=3.302E-01\n",
      "Doing  2020-08-11_caustique/caustique_B_theta_modul_0.841.gif\n",
      "Doing  2020-08-11_caustique/caustique_B_theta_modul_0.841.mp4\n"
     ]
    },
    {
     "data": {
      "text/html": [
       "<img src=\"2020-08-11_caustique/caustique_B_theta_modul_0.841.gif\" width=\"1024\"/>"
      ],
      "text/plain": [
       "<IPython.core.display.Image object>"
      ]
     },
     "metadata": {},
     "output_type": "display_data"
    },
    {
     "name": "stdout",
     "output_type": "stream",
     "text": [
      "B_theta=B_theta(default)*1.000=3.927E-01\n",
      "Doing  2020-08-11_caustique/caustique_B_theta_modul_1.000.gif\n",
      "Doing  2020-08-11_caustique/caustique_B_theta_modul_1.000.mp4\n"
     ]
    },
    {
     "data": {
      "text/html": [
       "<img src=\"2020-08-11_caustique/caustique_B_theta_modul_1.000.gif\" width=\"1024\"/>"
      ],
      "text/plain": [
       "<IPython.core.display.Image object>"
      ]
     },
     "metadata": {},
     "output_type": "display_data"
    },
    {
     "name": "stdout",
     "output_type": "stream",
     "text": [
      "B_theta=B_theta(default)*1.189=4.670E-01\n",
      "Doing  2020-08-11_caustique/caustique_B_theta_modul_1.189.gif\n",
      "Doing  2020-08-11_caustique/caustique_B_theta_modul_1.189.mp4\n"
     ]
    },
    {
     "data": {
      "text/html": [
       "<img src=\"2020-08-11_caustique/caustique_B_theta_modul_1.189.gif\" width=\"1024\"/>"
      ],
      "text/plain": [
       "<IPython.core.display.Image object>"
      ]
     },
     "metadata": {},
     "output_type": "display_data"
    },
    {
     "name": "stdout",
     "output_type": "stream",
     "text": [
      "B_theta=B_theta(default)*1.414=5.554E-01\n",
      "Doing  2020-08-11_caustique/caustique_B_theta_modul_1.414.gif\n",
      "Doing  2020-08-11_caustique/caustique_B_theta_modul_1.414.mp4\n"
     ]
    },
    {
     "data": {
      "text/html": [
       "<img src=\"2020-08-11_caustique/caustique_B_theta_modul_1.414.gif\" width=\"1024\"/>"
      ],
      "text/plain": [
       "<IPython.core.display.Image object>"
      ]
     },
     "metadata": {},
     "output_type": "display_data"
    },
    {
     "name": "stdout",
     "output_type": "stream",
     "text": [
      "B_theta=B_theta(default)*1.682=6.604E-01\n",
      "Doing  2020-08-11_caustique/caustique_B_theta_modul_1.682.gif\n",
      "Doing  2020-08-11_caustique/caustique_B_theta_modul_1.682.mp4\n"
     ]
    },
    {
     "data": {
      "text/html": [
       "<img src=\"2020-08-11_caustique/caustique_B_theta_modul_1.682.gif\" width=\"1024\"/>"
      ],
      "text/plain": [
       "<IPython.core.display.Image object>"
      ]
     },
     "metadata": {},
     "output_type": "display_data"
    },
    {
     "name": "stdout",
     "output_type": "stream",
     "text": [
      "B_theta=B_theta(default)*2.000=7.854E-01\n",
      "Doing  2020-08-11_caustique/caustique_B_theta_modul_2.000.gif\n",
      "Doing  2020-08-11_caustique/caustique_B_theta_modul_2.000.mp4\n"
     ]
    },
    {
     "data": {
      "text/html": [
       "<img src=\"2020-08-11_caustique/caustique_B_theta_modul_2.000.gif\" width=\"1024\"/>"
      ],
      "text/plain": [
       "<IPython.core.display.Image object>"
      ]
     },
     "metadata": {},
     "output_type": "display_data"
    },
    {
     "name": "stdout",
     "output_type": "stream",
     "text": [
      "======V_X======\n",
      "V_X=V_X(default)*0.500=1.500E-01\n",
      "Doing  2020-08-11_caustique/caustique_V_X_modul_0.500.gif\n",
      "Doing  2020-08-11_caustique/caustique_V_X_modul_0.500.mp4\n"
     ]
    },
    {
     "data": {
      "text/html": [
       "<img src=\"2020-08-11_caustique/caustique_V_X_modul_0.500.gif\" width=\"1024\"/>"
      ],
      "text/plain": [
       "<IPython.core.display.Image object>"
      ]
     },
     "metadata": {},
     "output_type": "display_data"
    },
    {
     "name": "stdout",
     "output_type": "stream",
     "text": [
      "V_X=V_X(default)*0.595=1.784E-01\n",
      "Doing  2020-08-11_caustique/caustique_V_X_modul_0.595.gif\n",
      "Doing  2020-08-11_caustique/caustique_V_X_modul_0.595.mp4\n"
     ]
    },
    {
     "data": {
      "text/html": [
       "<img src=\"2020-08-11_caustique/caustique_V_X_modul_0.595.gif\" width=\"1024\"/>"
      ],
      "text/plain": [
       "<IPython.core.display.Image object>"
      ]
     },
     "metadata": {},
     "output_type": "display_data"
    },
    {
     "name": "stdout",
     "output_type": "stream",
     "text": [
      "V_X=V_X(default)*0.707=2.121E-01\n",
      "Doing  2020-08-11_caustique/caustique_V_X_modul_0.707.gif\n",
      "Doing  2020-08-11_caustique/caustique_V_X_modul_0.707.mp4\n"
     ]
    },
    {
     "data": {
      "text/html": [
       "<img src=\"2020-08-11_caustique/caustique_V_X_modul_0.707.gif\" width=\"1024\"/>"
      ],
      "text/plain": [
       "<IPython.core.display.Image object>"
      ]
     },
     "metadata": {},
     "output_type": "display_data"
    },
    {
     "name": "stdout",
     "output_type": "stream",
     "text": [
      "V_X=V_X(default)*0.841=2.523E-01\n",
      "Doing  2020-08-11_caustique/caustique_V_X_modul_0.841.gif\n",
      "Doing  2020-08-11_caustique/caustique_V_X_modul_0.841.mp4\n"
     ]
    },
    {
     "data": {
      "text/html": [
       "<img src=\"2020-08-11_caustique/caustique_V_X_modul_0.841.gif\" width=\"1024\"/>"
      ],
      "text/plain": [
       "<IPython.core.display.Image object>"
      ]
     },
     "metadata": {},
     "output_type": "display_data"
    },
    {
     "name": "stdout",
     "output_type": "stream",
     "text": [
      "V_X=V_X(default)*1.000=3.000E-01\n",
      "Doing  2020-08-11_caustique/caustique_V_X_modul_1.000.gif\n",
      "Doing  2020-08-11_caustique/caustique_V_X_modul_1.000.mp4\n"
     ]
    },
    {
     "data": {
      "text/html": [
       "<img src=\"2020-08-11_caustique/caustique_V_X_modul_1.000.gif\" width=\"1024\"/>"
      ],
      "text/plain": [
       "<IPython.core.display.Image object>"
      ]
     },
     "metadata": {},
     "output_type": "display_data"
    },
    {
     "name": "stdout",
     "output_type": "stream",
     "text": [
      "V_X=V_X(default)*1.189=3.568E-01\n",
      "Doing  2020-08-11_caustique/caustique_V_X_modul_1.189.gif\n",
      "Doing  2020-08-11_caustique/caustique_V_X_modul_1.189.mp4\n"
     ]
    },
    {
     "data": {
      "text/html": [
       "<img src=\"2020-08-11_caustique/caustique_V_X_modul_1.189.gif\" width=\"1024\"/>"
      ],
      "text/plain": [
       "<IPython.core.display.Image object>"
      ]
     },
     "metadata": {},
     "output_type": "display_data"
    },
    {
     "name": "stdout",
     "output_type": "stream",
     "text": [
      "V_X=V_X(default)*1.414=4.243E-01\n",
      "Doing  2020-08-11_caustique/caustique_V_X_modul_1.414.gif\n",
      "Doing  2020-08-11_caustique/caustique_V_X_modul_1.414.mp4\n"
     ]
    },
    {
     "data": {
      "text/html": [
       "<img src=\"2020-08-11_caustique/caustique_V_X_modul_1.414.gif\" width=\"1024\"/>"
      ],
      "text/plain": [
       "<IPython.core.display.Image object>"
      ]
     },
     "metadata": {},
     "output_type": "display_data"
    },
    {
     "name": "stdout",
     "output_type": "stream",
     "text": [
      "V_X=V_X(default)*1.682=5.045E-01\n",
      "Doing  2020-08-11_caustique/caustique_V_X_modul_1.682.gif\n",
      "Doing  2020-08-11_caustique/caustique_V_X_modul_1.682.mp4\n"
     ]
    },
    {
     "data": {
      "text/html": [
       "<img src=\"2020-08-11_caustique/caustique_V_X_modul_1.682.gif\" width=\"1024\"/>"
      ],
      "text/plain": [
       "<IPython.core.display.Image object>"
      ]
     },
     "metadata": {},
     "output_type": "display_data"
    },
    {
     "name": "stdout",
     "output_type": "stream",
     "text": [
      "V_X=V_X(default)*2.000=6.000E-01\n",
      "Doing  2020-08-11_caustique/caustique_V_X_modul_2.000.gif\n",
      "Doing  2020-08-11_caustique/caustique_V_X_modul_2.000.mp4\n"
     ]
    },
    {
     "data": {
      "text/html": [
       "<img src=\"2020-08-11_caustique/caustique_V_X_modul_2.000.gif\" width=\"1024\"/>"
      ],
      "text/plain": [
       "<IPython.core.display.Image object>"
      ]
     },
     "metadata": {},
     "output_type": "display_data"
    },
    {
     "name": "stdout",
     "output_type": "stream",
     "text": [
      "======V_Y======\n",
      "V_Y=V_Y(default)*0.500=1.500E-01\n",
      "Doing  2020-08-11_caustique/caustique_V_Y_modul_0.500.gif\n",
      "Doing  2020-08-11_caustique/caustique_V_Y_modul_0.500.mp4\n"
     ]
    },
    {
     "data": {
      "text/html": [
       "<img src=\"2020-08-11_caustique/caustique_V_Y_modul_0.500.gif\" width=\"1024\"/>"
      ],
      "text/plain": [
       "<IPython.core.display.Image object>"
      ]
     },
     "metadata": {},
     "output_type": "display_data"
    },
    {
     "name": "stdout",
     "output_type": "stream",
     "text": [
      "V_Y=V_Y(default)*0.595=1.784E-01\n",
      "Doing  2020-08-11_caustique/caustique_V_Y_modul_0.595.gif\n",
      "Doing  2020-08-11_caustique/caustique_V_Y_modul_0.595.mp4\n"
     ]
    },
    {
     "data": {
      "text/html": [
       "<img src=\"2020-08-11_caustique/caustique_V_Y_modul_0.595.gif\" width=\"1024\"/>"
      ],
      "text/plain": [
       "<IPython.core.display.Image object>"
      ]
     },
     "metadata": {},
     "output_type": "display_data"
    },
    {
     "name": "stdout",
     "output_type": "stream",
     "text": [
      "V_Y=V_Y(default)*0.707=2.121E-01\n",
      "Doing  2020-08-11_caustique/caustique_V_Y_modul_0.707.gif\n",
      "Doing  2020-08-11_caustique/caustique_V_Y_modul_0.707.mp4\n"
     ]
    },
    {
     "data": {
      "text/html": [
       "<img src=\"2020-08-11_caustique/caustique_V_Y_modul_0.707.gif\" width=\"1024\"/>"
      ],
      "text/plain": [
       "<IPython.core.display.Image object>"
      ]
     },
     "metadata": {},
     "output_type": "display_data"
    },
    {
     "name": "stdout",
     "output_type": "stream",
     "text": [
      "V_Y=V_Y(default)*0.841=2.523E-01\n",
      "Doing  2020-08-11_caustique/caustique_V_Y_modul_0.841.gif\n",
      "Doing  2020-08-11_caustique/caustique_V_Y_modul_0.841.mp4\n"
     ]
    },
    {
     "data": {
      "text/html": [
       "<img src=\"2020-08-11_caustique/caustique_V_Y_modul_0.841.gif\" width=\"1024\"/>"
      ],
      "text/plain": [
       "<IPython.core.display.Image object>"
      ]
     },
     "metadata": {},
     "output_type": "display_data"
    },
    {
     "name": "stdout",
     "output_type": "stream",
     "text": [
      "V_Y=V_Y(default)*1.000=3.000E-01\n",
      "Doing  2020-08-11_caustique/caustique_V_Y_modul_1.000.gif\n",
      "Doing  2020-08-11_caustique/caustique_V_Y_modul_1.000.mp4\n"
     ]
    },
    {
     "data": {
      "text/html": [
       "<img src=\"2020-08-11_caustique/caustique_V_Y_modul_1.000.gif\" width=\"1024\"/>"
      ],
      "text/plain": [
       "<IPython.core.display.Image object>"
      ]
     },
     "metadata": {},
     "output_type": "display_data"
    },
    {
     "name": "stdout",
     "output_type": "stream",
     "text": [
      "V_Y=V_Y(default)*1.189=3.568E-01\n",
      "Doing  2020-08-11_caustique/caustique_V_Y_modul_1.189.gif\n",
      "Doing  2020-08-11_caustique/caustique_V_Y_modul_1.189.mp4\n"
     ]
    },
    {
     "data": {
      "text/html": [
       "<img src=\"2020-08-11_caustique/caustique_V_Y_modul_1.189.gif\" width=\"1024\"/>"
      ],
      "text/plain": [
       "<IPython.core.display.Image object>"
      ]
     },
     "metadata": {},
     "output_type": "display_data"
    },
    {
     "name": "stdout",
     "output_type": "stream",
     "text": [
      "V_Y=V_Y(default)*1.414=4.243E-01\n",
      "Doing  2020-08-11_caustique/caustique_V_Y_modul_1.414.gif\n",
      "Doing  2020-08-11_caustique/caustique_V_Y_modul_1.414.mp4\n"
     ]
    },
    {
     "data": {
      "text/html": [
       "<img src=\"2020-08-11_caustique/caustique_V_Y_modul_1.414.gif\" width=\"1024\"/>"
      ],
      "text/plain": [
       "<IPython.core.display.Image object>"
      ]
     },
     "metadata": {},
     "output_type": "display_data"
    },
    {
     "name": "stdout",
     "output_type": "stream",
     "text": [
      "V_Y=V_Y(default)*1.682=5.045E-01\n",
      "Doing  2020-08-11_caustique/caustique_V_Y_modul_1.682.gif\n",
      "Doing  2020-08-11_caustique/caustique_V_Y_modul_1.682.mp4\n"
     ]
    },
    {
     "data": {
      "text/html": [
       "<img src=\"2020-08-11_caustique/caustique_V_Y_modul_1.682.gif\" width=\"1024\"/>"
      ],
      "text/plain": [
       "<IPython.core.display.Image object>"
      ]
     },
     "metadata": {},
     "output_type": "display_data"
    },
    {
     "name": "stdout",
     "output_type": "stream",
     "text": [
      "V_Y=V_Y(default)*2.000=6.000E-01\n",
      "Doing  2020-08-11_caustique/caustique_V_Y_modul_2.000.gif\n",
      "Doing  2020-08-11_caustique/caustique_V_Y_modul_2.000.mp4\n"
     ]
    },
    {
     "data": {
      "text/html": [
       "<img src=\"2020-08-11_caustique/caustique_V_Y_modul_2.000.gif\" width=\"1024\"/>"
      ],
      "text/plain": [
       "<IPython.core.display.Image object>"
      ]
     },
     "metadata": {},
     "output_type": "display_data"
    },
    {
     "name": "stdout",
     "output_type": "stream",
     "text": [
      "======B_V======\n",
      "B_V=B_V(default)*0.500=2.000E+00\n",
      "Doing  2020-08-11_caustique/caustique_B_V_modul_0.500.gif\n",
      "Doing  2020-08-11_caustique/caustique_B_V_modul_0.500.mp4\n"
     ]
    },
    {
     "data": {
      "text/html": [
       "<img src=\"2020-08-11_caustique/caustique_B_V_modul_0.500.gif\" width=\"1024\"/>"
      ],
      "text/plain": [
       "<IPython.core.display.Image object>"
      ]
     },
     "metadata": {},
     "output_type": "display_data"
    },
    {
     "name": "stdout",
     "output_type": "stream",
     "text": [
      "B_V=B_V(default)*0.595=2.378E+00\n",
      "Doing  2020-08-11_caustique/caustique_B_V_modul_0.595.gif\n",
      "Doing  2020-08-11_caustique/caustique_B_V_modul_0.595.mp4\n"
     ]
    },
    {
     "data": {
      "text/html": [
       "<img src=\"2020-08-11_caustique/caustique_B_V_modul_0.595.gif\" width=\"1024\"/>"
      ],
      "text/plain": [
       "<IPython.core.display.Image object>"
      ]
     },
     "metadata": {},
     "output_type": "display_data"
    },
    {
     "name": "stdout",
     "output_type": "stream",
     "text": [
      "B_V=B_V(default)*0.707=2.828E+00\n",
      "Doing  2020-08-11_caustique/caustique_B_V_modul_0.707.gif\n",
      "Doing  2020-08-11_caustique/caustique_B_V_modul_0.707.mp4\n"
     ]
    },
    {
     "data": {
      "text/html": [
       "<img src=\"2020-08-11_caustique/caustique_B_V_modul_0.707.gif\" width=\"1024\"/>"
      ],
      "text/plain": [
       "<IPython.core.display.Image object>"
      ]
     },
     "metadata": {},
     "output_type": "display_data"
    },
    {
     "name": "stdout",
     "output_type": "stream",
     "text": [
      "B_V=B_V(default)*0.841=3.364E+00\n",
      "Doing  2020-08-11_caustique/caustique_B_V_modul_0.841.gif\n",
      "Doing  2020-08-11_caustique/caustique_B_V_modul_0.841.mp4\n"
     ]
    },
    {
     "data": {
      "text/html": [
       "<img src=\"2020-08-11_caustique/caustique_B_V_modul_0.841.gif\" width=\"1024\"/>"
      ],
      "text/plain": [
       "<IPython.core.display.Image object>"
      ]
     },
     "metadata": {},
     "output_type": "display_data"
    },
    {
     "name": "stdout",
     "output_type": "stream",
     "text": [
      "B_V=B_V(default)*1.000=4.000E+00\n",
      "Doing  2020-08-11_caustique/caustique_B_V_modul_1.000.gif\n",
      "Doing  2020-08-11_caustique/caustique_B_V_modul_1.000.mp4\n"
     ]
    },
    {
     "data": {
      "text/html": [
       "<img src=\"2020-08-11_caustique/caustique_B_V_modul_1.000.gif\" width=\"1024\"/>"
      ],
      "text/plain": [
       "<IPython.core.display.Image object>"
      ]
     },
     "metadata": {},
     "output_type": "display_data"
    },
    {
     "name": "stdout",
     "output_type": "stream",
     "text": [
      "B_V=B_V(default)*1.189=4.757E+00\n",
      "Doing  2020-08-11_caustique/caustique_B_V_modul_1.189.gif\n",
      "Doing  2020-08-11_caustique/caustique_B_V_modul_1.189.mp4\n"
     ]
    },
    {
     "data": {
      "text/html": [
       "<img src=\"2020-08-11_caustique/caustique_B_V_modul_1.189.gif\" width=\"1024\"/>"
      ],
      "text/plain": [
       "<IPython.core.display.Image object>"
      ]
     },
     "metadata": {},
     "output_type": "display_data"
    },
    {
     "name": "stdout",
     "output_type": "stream",
     "text": [
      "B_V=B_V(default)*1.414=5.657E+00\n",
      "Doing  2020-08-11_caustique/caustique_B_V_modul_1.414.gif\n",
      "Doing  2020-08-11_caustique/caustique_B_V_modul_1.414.mp4\n"
     ]
    },
    {
     "data": {
      "text/html": [
       "<img src=\"2020-08-11_caustique/caustique_B_V_modul_1.414.gif\" width=\"1024\"/>"
      ],
      "text/plain": [
       "<IPython.core.display.Image object>"
      ]
     },
     "metadata": {},
     "output_type": "display_data"
    },
    {
     "name": "stdout",
     "output_type": "stream",
     "text": [
      "B_V=B_V(default)*1.682=6.727E+00\n",
      "Doing  2020-08-11_caustique/caustique_B_V_modul_1.682.gif\n",
      "Doing  2020-08-11_caustique/caustique_B_V_modul_1.682.mp4\n"
     ]
    },
    {
     "data": {
      "text/html": [
       "<img src=\"2020-08-11_caustique/caustique_B_V_modul_1.682.gif\" width=\"1024\"/>"
      ],
      "text/plain": [
       "<IPython.core.display.Image object>"
      ]
     },
     "metadata": {},
     "output_type": "display_data"
    },
    {
     "name": "stdout",
     "output_type": "stream",
     "text": [
      "B_V=B_V(default)*2.000=8.000E+00\n",
      "Doing  2020-08-11_caustique/caustique_B_V_modul_2.000.gif\n",
      "Doing  2020-08-11_caustique/caustique_B_V_modul_2.000.mp4\n"
     ]
    },
    {
     "data": {
      "text/html": [
       "<img src=\"2020-08-11_caustique/caustique_B_V_modul_2.000.gif\" width=\"1024\"/>"
      ],
      "text/plain": [
       "<IPython.core.display.Image object>"
      ]
     },
     "metadata": {},
     "output_type": "display_data"
    }
   ],
   "source": [
    "for variable in ['sf_0', 'B_sf', 'theta', 'B_theta', 'V_X', 'V_Y', 'B_V']:\n",
    "    print(f'======{variable}======')\n",
    "    for modul in np.logspace(-1, 1, N_scan, base=base):\n",
    "        opt = init()\n",
    "        opt.figpath = figpath\n",
    "\n",
    "        c = Caustique(opt)\n",
    "        c.d[variable] *= modul\n",
    "        c.opt.tag = f'{opt.tag}_{variable}_modul_{modul:.3f}'\n",
    "        gifname = f'{opt.figpath}/{c.opt.tag}.gif'\n",
    "\n",
    "        print(f'{variable}={variable}(default)*{modul:.3f}={c.d[variable]:.3E}')\n",
    "        if not os.path.isfile(gifname):\n",
    "            print('Doing ', gifname)\n",
    "            z = c.wave()\n",
    "            mcname = f'{opt.figpath}/{c.opt.tag}'\n",
    "            if not os.path.isfile(f'{mcname}{mc.vext}'): \n",
    "                print('Doing ', f'{mcname}{mc.vext}')\n",
    "                mc.anim_save(z.swapaxes(0, 1), f'{mcname}')\n",
    "            url=c.plot(z, gifname=gifname)\n",
    "        display(Image(url=gifname, width=width))"
   ]
  }
 ],
 "metadata": {
  "kernelspec": {
   "display_name": "Python 3",
   "language": "python",
   "name": "python3"
  },
  "language_info": {
   "codemirror_mode": {
    "name": "ipython",
    "version": 3
   },
   "file_extension": ".py",
   "mimetype": "text/x-python",
   "name": "python",
   "nbconvert_exporter": "python",
   "pygments_lexer": "ipython3",
   "version": "3.9.1"
  }
 },
 "nbformat": 4,
 "nbformat_minor": 4
}
