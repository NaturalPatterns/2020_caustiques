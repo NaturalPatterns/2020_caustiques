{
 "cells": [
  {
   "cell_type": "markdown",
   "metadata": {},
   "source": [
    "# Caustiques"
   ]
  },
  {
   "cell_type": "code",
   "execution_count": 1,
   "metadata": {
    "execution": {
     "iopub.execute_input": "2024-10-16T09:43:02.983382Z",
     "iopub.status.busy": "2024-10-16T09:43:02.983225Z",
     "iopub.status.idle": "2024-10-16T09:43:02.985631Z",
     "shell.execute_reply": "2024-10-16T09:43:02.985393Z"
    }
   },
   "outputs": [
    {
     "name": "stdout",
     "output_type": "stream",
     "text": [
      "Note: you may need to restart the kernel to use updated packages.\n"
     ]
    }
   ],
   "source": [
    "%pip install -q -U -r requirements.txt"
   ]
  },
  {
   "cell_type": "code",
   "execution_count": 2,
   "metadata": {},
   "outputs": [
    {
     "data": {
      "text/plain": [
       "'3.10.7'"
      ]
     },
     "execution_count": 2,
     "metadata": {},
     "output_type": "execute_result"
    }
   ],
   "source": [
    "import numpy as np\n",
    "import cv2\n",
    "from tqdm.auto import trange, tqdm\n",
    "import matplotlib\n",
    "# import matplotlib.gridspec as gs\n",
    "from matplotlib.gridspec import SubplotParams\n",
    "import numpy as np\n",
    "matplotlib.__version__"
   ]
  },
  {
   "cell_type": "code",
   "execution_count": 3,
   "metadata": {},
   "outputs": [
    {
     "data": {
      "text/plain": [
       "'2025-10-24_caustique-transition'"
      ]
     },
     "execution_count": 3,
     "metadata": {},
     "output_type": "execute_result"
    }
   ],
   "source": [
    "import os \n",
    "from IPython import get_ipython\n",
    "ip = get_ipython()\n",
    "# print(ip.user_ns)\n",
    "study_name = None\n",
    "if '__vsc_ipynb_file__' in ip.user_ns:\n",
    "    # https://github.com/msm1089/ipynbname/issues/17\n",
    "    study_name = os.path.split(os.path.basename(ip.user_ns['__vsc_ipynb_file__']))[1]\n",
    "elif '__file__' in ip.user_ns:\n",
    "    study_name = ip.user_ns['__file__']\n",
    "else:\n",
    "    import ipynbname\n",
    "    study_name = ipynbname.name()\n",
    "study_name = study_name.replace('.ipynb', '')\n",
    "study_name"
   ]
  },
  {
   "cell_type": "code",
   "execution_count": 4,
   "metadata": {},
   "outputs": [],
   "source": [
    "# the higher PRECISION, the bigger the file\n",
    "PRECISION = 4  # debugging\n",
    "PRECISION = 8 # low quality\n",
    "PRECISION = 10 # medium quality\n",
    "# PRECISION = 12 # good quality\n",
    "# PRECISION = 14 # very good quality\n",
    "# PRECISION = 15 # for production\n",
    "\n",
    "# https://docs.python.org/3/library/dataclasses.html?highlight=dataclass#module-dataclasses\n",
    "from dataclasses import dataclass\n",
    "\n",
    "@dataclass\n",
    "class init:\n",
    "    figpath: str = study_name # Folder to store images\n",
    "    phi: float = 1.61803 # beauty is gold\n",
    "    tag: str = 'caustique' # Tag\n",
    "    ext: str = 'mp4' # Extension for output\n",
    "    nx: int = 1*2**PRECISION # number of pixels (vertical)\n",
    "    ny: int = 1*2**PRECISION # number of pixels (horizontal)\n",
    "    nframe: int = 24*4 # number of frames for each chunk\n",
    "    bin_dens: int = 1 # relative bin density\n",
    "    bin_spectrum: int = 4 # bin spacing in spectrum (lower is more CPU)\n",
    "    seed: int = 2025 # seed for RNG\n",
    "    H: float = 3.0 # depth of the pool\n",
    "    variation: float = .20 # variation of diffraction index: http://www.philiplaven.com/p20.html 1.40 at 400 nm and 1.37 at 700nm makes a 2% variation\n",
    "    scale: float = .618*nx # period in pixels\n",
    "    B_sf: float = 1.61 # bandwidth in sf\n",
    "    V_Y: float = 0.3 # horizontal speed\n",
    "    V_X: float = 0.3 # vertical speed\n",
    "    B_V: float = 1.0 # bandwidth in speed\n",
    "    zmin: float = 1.0 # relative minimal value of wave height at the top to generate a gradient (set to 1. to have no gradient)\n",
    "    # theta: float = 2*np.pi*(2-1.61803) # angle with the horizontal\n",
    "    theta: float = np.pi/2 # angle with the horizontal\n",
    "    B_theta: float = 60*np.pi/180 # bandwidth in theta\n",
    "    min_lum: float = .01 # global diffusion level for the rendering giving the pedestal value\n",
    "    n_bits: int = 8 # bits to save images\n",
    "    gamma: float = 4. # Gamma exponant to convert luminosity to luminance\n",
    "    fps: float = 24 # frames per second\n",
    "    do_cache: bool = True # Cache intermediate output.\n",
    "    verbose: bool = False # Displays more verbose output.\n",
    "    do_display: bool = False # Displays images in notebook.\n",
    "    do_recompute: bool = False # Restart each computation    "
   ]
  },
  {
   "cell_type": "code",
   "execution_count": 5,
   "metadata": {
    "execution": {
     "iopub.execute_input": "2024-10-16T09:43:06.036410Z",
     "iopub.status.busy": "2024-10-16T09:43:06.035954Z",
     "iopub.status.idle": "2024-10-16T09:43:06.041319Z",
     "shell.execute_reply": "2024-10-16T09:43:06.039924Z"
    }
   },
   "outputs": [
    {
     "name": "stdout",
     "output_type": "stream",
     "text": [
      "Saving our simulations in=2025-10-24_caustique-transition\n"
     ]
    }
   ],
   "source": [
    "opt = init()\n",
    "print(f'Saving our simulations in={opt.figpath}')"
   ]
  },
  {
   "cell_type": "code",
   "execution_count": 6,
   "metadata": {
    "execution": {
     "iopub.execute_input": "2024-10-16T09:43:06.045705Z",
     "iopub.status.busy": "2024-10-16T09:43:06.045222Z",
     "iopub.status.idle": "2024-10-16T09:43:06.051391Z",
     "shell.execute_reply": "2024-10-16T09:43:06.050527Z"
    }
   },
   "outputs": [],
   "source": [
    "# if opt.nframe==1: opt.ext = 'png'"
   ]
  },
  {
   "cell_type": "code",
   "execution_count": 7,
   "metadata": {
    "execution": {
     "iopub.execute_input": "2024-10-16T09:43:06.055776Z",
     "iopub.status.busy": "2024-10-16T09:43:06.055017Z",
     "iopub.status.idle": "2024-10-16T09:43:06.060659Z",
     "shell.execute_reply": "2024-10-16T09:43:06.059448Z"
    },
    "tags": []
   },
   "outputs": [
    {
     "name": "stdout",
     "output_type": "stream",
     "text": [
      "init(figpath='2025-10-24_caustique-transition',\n",
      "     phi=1.61803,\n",
      "     tag='caustique',\n",
      "     ext='mp4',\n",
      "     nx=1024,\n",
      "     ny=1024,\n",
      "     nframe=96,\n",
      "     bin_dens=1,\n",
      "     bin_spectrum=4,\n",
      "     seed=2025,\n",
      "     H=3.0,\n",
      "     variation=0.2,\n",
      "     scale=632.832,\n",
      "     B_sf=1.61,\n",
      "     V_Y=0.3,\n",
      "     V_X=0.3,\n",
      "     B_V=1.0,\n",
      "     zmin=1.0,\n",
      "     theta=1.5707963267948966,\n",
      "     B_theta=1.0471975511965976,\n",
      "     min_lum=0.01,\n",
      "     n_bits=8,\n",
      "     gamma=4.0,\n",
      "     fps=24,\n",
      "     do_cache=True,\n",
      "     verbose=False,\n",
      "     do_display=False,\n",
      "     do_recompute=False)\n"
     ]
    }
   ],
   "source": [
    "from pprint import pprint\n",
    "pprint(opt)"
   ]
  },
  {
   "cell_type": "code",
   "execution_count": 8,
   "metadata": {
    "execution": {
     "iopub.execute_input": "2024-10-16T09:43:06.064918Z",
     "iopub.status.busy": "2024-10-16T09:43:06.064509Z",
     "iopub.status.idle": "2024-10-16T09:43:06.069370Z",
     "shell.execute_reply": "2024-10-16T09:43:06.068172Z"
    }
   },
   "outputs": [
    {
     "name": "stdout",
     "output_type": "stream",
     "text": [
      "Screen size=100cm=39.370in, dpi=26dpi\n"
     ]
    }
   ],
   "source": [
    "screen_size_cm = 100 # cm\n",
    "CM_BY_INCH = 2.54 # this is a constant\n",
    "screen_size_in = screen_size_cm/CM_BY_INCH\n",
    "dpi = (opt.nx // opt.bin_dens) / screen_size_in\n",
    "print(f'Screen size={screen_size_cm}cm={screen_size_in:.3f}in, dpi={dpi:.0f}dpi')"
   ]
  },
  {
   "cell_type": "markdown",
   "metadata": {},
   "source": [
    "## utilitaires\n",
    "\n",
    "Transformation d'une matrice numpy en mp4:\n"
   ]
  },
  {
   "cell_type": "code",
   "execution_count": 9,
   "metadata": {
    "execution": {
     "iopub.execute_input": "2024-10-16T09:43:06.073052Z",
     "iopub.status.busy": "2024-10-16T09:43:06.072374Z",
     "iopub.status.idle": "2024-10-16T09:43:06.078119Z",
     "shell.execute_reply": "2024-10-16T09:43:06.077358Z"
    }
   },
   "outputs": [],
   "source": [
    "import imageio\n",
    "# def make_gif(gifname, fnames, fps, do_delete=True):\n",
    "#     with imageio.get_writer(gifname, mode='I', fps=fps) as writer:\n",
    "#         for fname in fnames:\n",
    "#             writer.append_data(imageio.imread(fname))\n",
    "\n",
    "#     from pygifsicle import optimize\n",
    "#     optimize(str(gifname))\n",
    "#     if do_delete: \n",
    "#         for fname in fnames: os.remove(fname)\n",
    "#     return gifname\n",
    "\n",
    "# https://moviepy.readthedocs.io/en/latest/getting_started/videoclips.html#imagesequenceclip\n",
    "# def make_mp4(mkvname, fnames, fps, do_delete=True):\n",
    "#     import moviepy.editor as mpy\n",
    "#     clip = mpy.ImageSequenceClip(fnames, fps=fps)\n",
    "#     clip.write_videofile(mkvname, fps=fps, codec='libx264', verbose=False, logger=None)\n",
    "#     if do_delete: \n",
    "#         for fname in fnames: os.remove(fname)\n",
    "#     return mkvname \n",
    "\n",
    "# from tqdm import tqdm\n",
    "# from tqdm.notebook import tqdm\n",
    "# def make_mp4(moviename, fnames, fps):\n",
    "#     \"\"\"Create an mkv video from a sequence of image files.\n",
    "\n",
    "#     Args:\n",
    "#         moviename (str): Path to the output video file.\n",
    "#         fnames (list): List of paths to input image files.\n",
    "#         fps (int): Frames per second for the output video.\n",
    "\n",
    "#     Returns:\n",
    "#         str: Path to the created video file.\n",
    "#     \"\"\"\n",
    "#     ffmpeg_params = [\n",
    "#         \"-c:v\", \"ffv1\",                # codec (ffv1 = lossless intra‑frame)\n",
    "#         \"-level\", \"3\",                # highest ffv1 quality level\n",
    "#         \"-pix_fmt\", \"rgb48le\",          # 16‑bit pixel format     pix_fmt: str = \"gray16le\",   # 16‑bit grayscale, change to \"rgb48le\" for color\n",
    "#         \"-preset\", \"veryslow\",        # optional – best compression, slower\n",
    "#     ]\n",
    "#     with imageio.v2.get_writer(\n",
    "#         moviename,\n",
    "#         fps=fps,\n",
    "#         macro_block_size=1,\n",
    "#         ffmpeg_log_level=\"error\",   # keep the console tidy\n",
    "#         # ffmpeg_params=ffmpeg_params,\n",
    "#     ) as writer:    \n",
    "#         for fname in tqdm(fnames, desc=\"Creating video\"):\n",
    "#             print('>>>', fname)\n",
    "#             frame = imageio.v2.imread(fname, pilmode='I;16')\n",
    "#             print('bip')\n",
    "#             frame = frame.astype(np.uint16)\n",
    "#             writer.append_data(frame)\n",
    "#     return moviename\n",
    "\n",
    "def make_mp4(moviename, frames, fps):\n",
    "    with imageio.v2.get_writer(\n",
    "        moviename,\n",
    "        format='FFmpeg', \n",
    "        mode='I',\n",
    "        # format='av', \n",
    "        fps=fps,\n",
    "        # pixelformat=pix_fmt\n",
    "        # codec='ffv1',  # Use FFV1 for lossless compression\n",
    "        ) as writer:\n",
    "        for i_frame in range(frames.shape[-1]):\n",
    "            # Append the frame to the video writer\n",
    "            writer.append_data(frames[..., i_frame])\n",
    "    return moviename\n",
    "\n",
    "# import imageio.v3 as iio\n",
    "# def make_mp4(mkvname, frames, fps):\n",
    "#     pix_fmt = 'rgb48le' if frames.ndim==3 else 'gray16le'\n",
    "#     iio.imwrite(\n",
    "#         mkvname,\n",
    "#         np.moveaxis(frames, -1, 0),\n",
    "#         plugin='pyav',\n",
    "#         codec='ffv1',\n",
    "#         fps=fps,\n",
    "#         in_pixel_format=pix_fmt,\n",
    "#         out_pixel_format=pix_fmt\n",
    "#     )\n",
    "#     return mkvname\n",
    "\n",
    "\n",
    "# make_mp4(\"test_video.mp4\", np.random.randint(0, 2**8-1, (480, 640, 3, 30), dtype=np.uint8), fps=24)"
   ]
  },
  {
   "cell_type": "markdown",
   "metadata": {},
   "source": [
    "\n",
    "Utilities to compute the spectrum of the blue sky and convert them later to RGB values (check out https://laurentperrinet.github.io/sciblog/posts/2020-07-04-colors-of-the-sky.html for details)"
   ]
  },
  {
   "cell_type": "code",
   "execution_count": 10,
   "metadata": {
    "execution": {
     "iopub.execute_input": "2024-10-16T09:43:06.082021Z",
     "iopub.status.busy": "2024-10-16T09:43:06.081270Z",
     "iopub.status.idle": "2024-10-16T09:43:06.089061Z",
     "shell.execute_reply": "2024-10-16T09:43:06.088191Z"
    }
   },
   "outputs": [],
   "source": [
    "from lambda2color import Lambda2color, xyz_from_xy\n",
    "\n",
    "# borrowed from https://github.com/gummiks/gummiks.github.io/blob/master/scripts/astro/planck.py\n",
    "def planck(wav, T):\n",
    "    import scipy.constants as const\n",
    "    c = const.c # c = 3.0e+8\n",
    "    h = const.h # h = 6.626e-34\n",
    "    k = const.k # k = 1.38e-23\n",
    "    a = 2.0*h*c**2\n",
    "    b = h*c/(wav*k*T)\n",
    "    intensity = a / ( (wav**5) * (np.exp(b) - 1.0) )\n",
    "    return intensity\n",
    "\n",
    "def scattering(wav, a=0.005, p=1.3, b=0.45):\n",
    "    \"\"\"\n",
    "    b is  proportionate  to  the  column  density  of  aerosols\n",
    "    along  the  path  of  sunlight,  from  outside  the  atmosphere\n",
    "    to  the  point  of  observation\n",
    "    \n",
    "    see https://laurentperrinet.github.io/sciblog/posts/2020-07-04-colors-of-the-sky.html for more details\n",
    "\n",
    "    \"\"\"\n",
    "    # converting wav in µm:\n",
    "    intensity = np.exp(-a/((wav/1e-6)**4)) # Rayleigh extinction by nitrogen\n",
    "    intensity *= (wav/1e-6)**-4\n",
    "    intensity *= np.exp(-b/((wav/1e-6)**p)) # Aerosols\n",
    "    return intensity"
   ]
  },
  {
   "cell_type": "markdown",
   "metadata": {},
   "source": [
    "## calcul des caustiques\n"
   ]
  },
  {
   "cell_type": "code",
   "execution_count": 11,
   "metadata": {
    "execution": {
     "iopub.execute_input": "2024-10-16T09:43:06.094058Z",
     "iopub.status.busy": "2024-10-16T09:43:06.093441Z",
     "iopub.status.idle": "2024-10-16T09:43:06.297325Z",
     "shell.execute_reply": "2024-10-16T09:43:06.297072Z"
    }
   },
   "outputs": [
    {
     "name": "stderr",
     "output_type": "stream",
     "text": [
      "<>:145: SyntaxWarning: invalid escape sequence '\\>'\n",
      "<>:145: SyntaxWarning: invalid escape sequence '\\>'\n",
      "/var/folders/3p/m0g52j9j69z3gj8ktpgg1dm00000gn/T/ipykernel_77222/2349853433.py:145: SyntaxWarning: invalid escape sequence '\\>'\n",
      "  html = HTML(f'<video {opts} src=\"{output_filename}\" type=\"video/{self.opt.ext}\" width={width}\\>')\n"
     ]
    }
   ],
   "source": [
    "import matplotlib\n",
    "subplotpars = SubplotParams(left=0., right=1., bottom=0., top=1., wspace=0., hspace=0.)\n",
    "import matplotlib.pyplot as plt\n",
    "import shutil\n",
    "import hashlib\n",
    "import MotionClouds as mc\n",
    "\n",
    "class Caustique:\n",
    "    def __init__(self, opt):\n",
    "        \"\"\"\n",
    "        Image coordinates follow 'ij' indexing, that is,\n",
    "        * their origin at the top left,\n",
    "        * the X axis is vertical and goes \"down\",\n",
    "        * the Y axis is horizontal and goes \"right\".\n",
    "\n",
    "        \"\"\"\n",
    "        self.mc = mc\n",
    "        self.ratio = opt.ny/opt.nx # ratio between height and width (>1 for portrait, <1 for landscape)\n",
    "        X = np.linspace(0, 1, opt.nx, endpoint=False) # vertical\n",
    "        Y = np.linspace(0, self.ratio, opt.ny, endpoint=False) # horizontal\n",
    "        self.xv, self.yv = np.meshgrid(X, Y, indexing='ij')\n",
    "        self.opt = opt\n",
    "        # https://stackoverflow.com/questions/16878315/what-is-the-right-way-to-treat-python-argparse-namespace-as-a-dictionary\n",
    "        self.d = vars(opt)\n",
    "        os.makedirs(self.opt.figpath, exist_ok=True)\n",
    "        self.cachepath = os.path.join('/tmp', self.opt.figpath)\n",
    "        if opt.verbose: print(f'{self.cachepath=}')\n",
    "        os.makedirs(self.cachepath, exist_ok=True)\n",
    "        self.np_dtype = np.uint8 if opt.n_bits==8 else np.uint16\n",
    "        \n",
    "        illuminant = xyz_from_xy(0.3127, 0.3291) # a standard white\n",
    "        # illuminant = xyz_from_xy(0.268375 0.283377) # sky\n",
    "        # illuminant = xyz_from_xy(0.325998, 0.335354) # sun\n",
    "\n",
    "        # color conversion class\n",
    "        self.cs_srgb = Lambda2color(red=xyz_from_xy(0.64, 0.33),\n",
    "                                    green=xyz_from_xy(0.30, 0.60),\n",
    "                                    blue=xyz_from_xy(0.15, 0.06),\n",
    "                                    white=illuminant)\n",
    "        \n",
    "        self.wavelengths = self.cs_srgb.cmf[:, 0]*1e-9\n",
    "        self.N_wavelengths = len(self.wavelengths)\n",
    "        # multiply by the spectrum of the sky\n",
    "        intensity5800 = planck(self.wavelengths, 5800.)\n",
    "        scatter = scattering(self.wavelengths)\n",
    "        self.spectrum_sky = intensity5800 * scatter\n",
    "        self.spectrum_sky /= self.spectrum_sky.max()\n",
    "\n",
    "    def wave(self, do_cache=None):\n",
    "        if do_cache is None: do_cache = self.opt.do_cache\n",
    "        if do_cache: filename = f'{self.cachepath}/{self.opt.tag}_wave.npy'\n",
    "        if do_cache and os.path.isfile(filename) and not(self.opt.do_recompute):\n",
    "                z = np.load(filename)\n",
    "        else:\n",
    "            # A simplistic model of a wave using https://github.com/NeuralEnsemble/MotionClouds\n",
    "            fx, fy, ft = mc.get_grids(self.opt.nx, self.opt.ny, self.opt.nframe)\n",
    "            env = mc.envelope_gabor(fx, fy, ft, V_X=self.opt.V_Y, V_Y=self.opt.V_X, B_V=self.opt.B_V,\n",
    "                                    sf_0=1./self.opt.scale, B_sf=self.opt.B_sf/self.opt.scale,\n",
    "                                    theta=self.opt.theta, B_theta=self.opt.B_theta)\n",
    "            z = mc.random_cloud(env, seed=self.opt.seed)\n",
    "            if np.max(np.abs(z))>0: z = mc.rectif(z)\n",
    "            z *= np.linspace(self.opt.zmin, 1., self.opt.nx)[:, None, None] # [optional] vertical gradient\n",
    "            if do_cache: np.save(filename, z)\n",
    "        return z\n",
    "\n",
    "    def transform(self, z_frame, modulation=1., edge_order=2):\n",
    "        xv, yv = self.xv.copy(), self.yv.copy()\n",
    "\n",
    "        # https://numpy.org/doc/stable/reference/generated/numpy.gradient.html\n",
    "        dzdx, dzdy = np.gradient(z_frame, edge_order=edge_order)\n",
    "\n",
    "        xv = xv + modulation * self.opt.H * dzdx\n",
    "        yv = yv + modulation * self.opt.H * dzdy\n",
    "\n",
    "        xv = np.mod(xv, 1)\n",
    "        yv = np.mod(yv, self.ratio)\n",
    "\n",
    "        return xv, yv\n",
    "\n",
    "    def get_filename(self):\n",
    "        # output filename        \n",
    "        md5 = hashlib.sha224((self.opt.figpath + self.opt.tag).encode()).hexdigest()[:8] # an unique identifier for future tagging\n",
    "        output_filename = f'{self.opt.figpath}/{self.opt.tag}_{md5}.{self.opt.ext}'\n",
    "        return output_filename\n",
    "   \n",
    "    def plot(self, z, image=None, do_color=True, dpi=dpi):\n",
    "        \"\"\"\n",
    "        \n",
    "        dpi: output resolution - sets the figure size as we ensure there is a one to one correspondance between pixels in the data and the output image\n",
    "        \"\"\"\n",
    "\n",
    "        output_filename = self.get_filename()\n",
    "        if os.path.isfile(output_filename) and not(self.opt.do_recompute):\n",
    "            return output_filename\n",
    "        else:\n",
    "            # 1/ do the raytracing of image through z:\n",
    "            binsx, binsy = self.opt.nx//self.opt.bin_dens, self.opt.ny//self.opt.bin_dens\n",
    "            _, _, nframe = z.shape\n",
    "\n",
    "            # if not specified, use a full image with full contrast (from 0=black to 1=white)\n",
    "            if image is None: image = np.ones((self.opt.nx, self.opt.ny))\n",
    "\n",
    "            #image_rgb = self.cs_srgb.spec_to_rgb(hist)\n",
    "            image_rgb = np.zeros((self.opt.nx//self.opt.bin_dens,  self.opt.ny//self.opt.bin_dens, 3, nframe))\n",
    "            for i_frame in trange(nframe, desc='Scanning time', position=1, leave=True):\n",
    "                for i_wavelength in trange(self.opt.bin_spectrum//2, self.N_wavelengths, self.opt.bin_spectrum, desc='Scanning spectrum', position=0, leave=False):\n",
    "                    modulation = 1. + self.opt.variation/2 - self.opt.variation*i_wavelength/self.N_wavelengths\n",
    "                    xv, yv = self.transform(z[:, :, i_frame], modulation=modulation)\n",
    "                    hist_, _, _ = np.histogram2d(xv.ravel(), yv.ravel(),\n",
    "                                                    bins=[binsx, binsy],\n",
    "                                                    weights=image.ravel(),\n",
    "                                                    range=[[0, 1], [0, self.ratio]],\n",
    "                                                    density=True)\n",
    "\n",
    "                    # we convert the spectrum into a color\n",
    "                    spec = np.zeros((self.N_wavelengths))\n",
    "                    spec[i_wavelength] = 1\n",
    "                    rgb = self.cs_srgb.spec_to_rgb(spec)\n",
    "                    rgb *= self.spectrum_sky[i_wavelength]\n",
    "                    # we add the monochromatique color to the image\n",
    "                    image_rgb[:, :, :, i_frame] += hist_[:, :, None] * rgb[None, None, :]\n",
    "\n",
    "            image_rgb -= image_rgb.min() # HACK\n",
    "            image_rgb /= image_rgb.max()\n",
    "\n",
    "            image_rgb = image_rgb ** (1/self.opt.gamma)\n",
    "\n",
    "            # 2/ transform light into image:\n",
    "            output_filename = make_mp4(output_filename, (image_rgb*(2**self.opt.n_bits-1)).astype(self.np_dtype), fps=self.opt.fps)\n",
    "            return output_filename\n",
    "\n",
    "    def show(self, output_filename, width=1024):\n",
    "        from IPython.display import HTML, Image, display\n",
    "        if self.opt.nframe==1:\n",
    "            # display(Image(url=output_filename.replace(self.opt.ext, 'png'), width=width))\n",
    "            display(Image(url=output_filename, width=width))\n",
    "        else:\n",
    "            if self.opt.ext == 'gif':\n",
    "                return display(Image(url=output_filename, width=width))\n",
    "            else:\n",
    "                #import moviepy.editor as mpy\n",
    "                #return mpy.ipython_display(output_filename, width=width)\n",
    "                # https://github.com/NeuralEnsemble/MotionClouds/blob/master/MotionClouds/MotionClouds.py#L858\n",
    "                opts = ' loop=\"1\" autoplay=\"1\" controls '\n",
    "                html = HTML(f'<video {opts} src=\"{output_filename}\" type=\"video/{self.opt.ext}\" width={width}\\>')\n",
    "                html.reload()\n",
    "                return display(html)"
   ]
  },
  {
   "cell_type": "markdown",
   "metadata": {},
   "source": [
    "# une simple caustique\n",
    "## génération de l'illumination\n"
   ]
  },
  {
   "cell_type": "code",
   "execution_count": 12,
   "metadata": {
    "execution": {
     "iopub.execute_input": "2024-10-16T09:43:06.298834Z",
     "iopub.status.busy": "2024-10-16T09:43:06.298734Z",
     "iopub.status.idle": "2024-10-16T09:43:07.259909Z",
     "shell.execute_reply": "2024-10-16T09:43:07.259495Z"
    }
   },
   "outputs": [],
   "source": [
    "opt = init()\n",
    "c = Caustique(opt)"
   ]
  },
  {
   "cell_type": "code",
   "execution_count": 13,
   "metadata": {},
   "outputs": [
    {
     "data": {
      "text/plain": [
       "((1024, 1024, 96),\n",
       " np.float64(0.026722913402910775),\n",
       " np.float64(0.49999999999999806),\n",
       " np.float64(1.0))"
      ]
     },
     "execution_count": 13,
     "metadata": {},
     "output_type": "execute_result"
    }
   ],
   "source": [
    "z = c.wave()\n",
    "z.shape, z.min(), z.mean(), z.max()"
   ]
  },
  {
   "cell_type": "code",
   "execution_count": 14,
   "metadata": {},
   "outputs": [
    {
     "name": "stdout",
     "output_type": "stream",
     "text": [
      "Variable         Type                   Data/Info\n",
      "-------------------------------------------------\n",
      "CM_BY_INCH       float                  2.54\n",
      "Caustique        type                   <class '__main__.Caustique'>\n",
      "Lambda2color     type                   <class 'lambda2color.Lambda2color'>\n",
      "PRECISION        int                    10\n",
      "SubplotParams    type                   <class 'matplotlib.gridspec.SubplotParams'>\n",
      "c                Caustique              <__main__.Caustique object at 0x1300d0980>\n",
      "cv2              module                 <module 'cv2' from '/User<...>ackages/cv2/__init__.py'>\n",
      "dataclass        function               <function dataclass at 0x10f70a840>\n",
      "dpi              float                  26.0096\n",
      "get_ipython      function               <function get_ipython at 0x1100dc0e0>\n",
      "hashlib          module                 <module 'hashlib' from '/<...>b/python3.13/hashlib.py'>\n",
      "imageio          module                 <module 'imageio' from '/<...>ges/imageio/__init__.py'>\n",
      "init             type                   <class '__main__.init'>\n",
      "ip               ZMQInteractiveShell    <ipykernel.zmqshell.ZMQIn<...>ll object at 0x1115f7380>\n",
      "make_mp4         function               <function make_mp4 at 0x130093740>\n",
      "matplotlib       module                 <module 'matplotlib' from<...>/matplotlib/__init__.py'>\n",
      "mc               module                 <module 'MotionClouds' fr<...>ackages/MotionClouds.py'>\n",
      "np               module                 <module 'numpy' from '/Us<...>kages/numpy/__init__.py'>\n",
      "opt              init                   init(figpath='2025-10-24_<...>alse, do_recompute=False)\n",
      "os               module                 <module 'os' (frozen)>\n",
      "planck           function               <function planck at 0x1301659e0>\n",
      "plt              module                 <module 'matplotlib.pyplo<...>es/matplotlib/pyplot.py'>\n",
      "pprint           function               <function pprint at 0x10f708c20>\n",
      "scattering       function               <function scattering at 0x130165940>\n",
      "screen_size_cm   int                    100\n",
      "screen_size_in   float                  39.37007874015748\n",
      "shutil           module                 <module 'shutil' from '/u<...>ib/python3.13/shutil.py'>\n",
      "study_name       str                    2025-10-24_caustique-transition\n",
      "subplotpars      SubplotParams          <matplotlib.gridspec.Subp<...>ms object at 0x1300d2270>\n",
      "tqdm             type                   <class 'tqdm.auto.tqdm'>\n",
      "trange           function               <function trange at 0x12dc945e0>\n",
      "xyz_from_xy      function               <function xyz_from_xy at 0x130165a80>\n",
      "z                ndarray                1024x1024x96: 100663296 elems, type `float64`, 805306368 bytes (768.0 Mb)\n"
     ]
    }
   ],
   "source": [
    "%whos"
   ]
  },
  {
   "cell_type": "code",
   "execution_count": 15,
   "metadata": {
    "execution": {
     "iopub.execute_input": "2024-10-16T09:43:07.265091Z",
     "iopub.status.busy": "2024-10-16T09:43:07.264969Z",
     "iopub.status.idle": "2024-10-16T09:43:27.244503Z",
     "shell.execute_reply": "2024-10-16T09:43:27.243869Z"
    }
   },
   "outputs": [
    {
     "data": {
      "image/png": "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",
      "text/plain": [
       "<Figure size 3937.01x3937.01 with 1 Axes>"
      ]
     },
     "metadata": {},
     "output_type": "display_data"
    }
   ],
   "source": [
    "def generate_image(nx, ny, radius_in=.15, radius_out=.4):\n",
    "    Y, X = np.meshgrid(np.linspace(-1, 1, ny, endpoint=True), np.linspace(-1, 1, nx, endpoint=True))\n",
    "    image = (X**2 > radius_in**2)  # the horizontal band outside radius_in\n",
    "    image *= (Y**2 < radius_out**2) # the vertical band inside radius_out\n",
    "    image *= (X**2 < radius_out**2)  # the horizontal band inside radius_out\n",
    "    return image*1.\n",
    "\n",
    "image = generate_image(nx=c.opt.nx, ny=c.opt.ny)\n",
    "\n",
    "fig, ax = plt.subplots(figsize=(opt.ny/opt.bin_dens/dpi, opt.nx/opt.bin_dens/dpi), subplotpars=subplotpars)\n",
    "\n",
    "ax.imshow(image, cmap='gray');"
   ]
  },
  {
   "cell_type": "code",
   "execution_count": 16,
   "metadata": {},
   "outputs": [
    {
     "data": {
      "text/plain": [
       "(np.float64(0.0), np.float64(1.0), 1024, 1024)"
      ]
     },
     "execution_count": 16,
     "metadata": {},
     "output_type": "execute_result"
    }
   ],
   "source": [
    "image.min(), image.max(), c.opt.nx, c.opt.ny"
   ]
  },
  {
   "cell_type": "markdown",
   "metadata": {},
   "source": [
    "## génération de la caustique\n"
   ]
  },
  {
   "cell_type": "code",
   "execution_count": 17,
   "metadata": {
    "execution": {
     "iopub.execute_input": "2024-10-16T09:43:27.248311Z",
     "iopub.status.busy": "2024-10-16T09:43:27.248044Z",
     "iopub.status.idle": "2024-10-16T09:43:27.675906Z",
     "shell.execute_reply": "2024-10-16T09:43:27.675663Z"
    }
   },
   "outputs": [
    {
     "data": {
      "application/vnd.jupyter.widget-view+json": {
       "model_id": "cf37fd9d87404ebbb2d6d67a8698c623",
       "version_major": 2,
       "version_minor": 0
      },
      "text/plain": [
       "Scanning time:   0%|          | 0/96 [00:00<?, ?it/s]"
      ]
     },
     "metadata": {},
     "output_type": "display_data"
    },
    {
     "data": {
      "application/vnd.jupyter.widget-view+json": {
       "model_id": "3f20623ff555494eb86795928278a706",
       "version_major": 2,
       "version_minor": 0
      },
      "text/plain": [
       "Scanning spectrum:   0%|          | 0/20 [00:00<?, ?it/s]"
      ]
     },
     "metadata": {},
     "output_type": "display_data"
    },
    {
     "data": {
      "application/vnd.jupyter.widget-view+json": {
       "model_id": "59dfbfc723cd4ee19e1c6b280fd7c3de",
       "version_major": 2,
       "version_minor": 0
      },
      "text/plain": [
       "Scanning spectrum:   0%|          | 0/20 [00:00<?, ?it/s]"
      ]
     },
     "metadata": {},
     "output_type": "display_data"
    },
    {
     "data": {
      "application/vnd.jupyter.widget-view+json": {
       "model_id": "caf9ee753c194548b32e995b68219a53",
       "version_major": 2,
       "version_minor": 0
      },
      "text/plain": [
       "Scanning spectrum:   0%|          | 0/20 [00:00<?, ?it/s]"
      ]
     },
     "metadata": {},
     "output_type": "display_data"
    },
    {
     "data": {
      "application/vnd.jupyter.widget-view+json": {
       "model_id": "f9ab8edcdaf748bea0692bb14986ac5d",
       "version_major": 2,
       "version_minor": 0
      },
      "text/plain": [
       "Scanning spectrum:   0%|          | 0/20 [00:00<?, ?it/s]"
      ]
     },
     "metadata": {},
     "output_type": "display_data"
    },
    {
     "data": {
      "application/vnd.jupyter.widget-view+json": {
       "model_id": "5e6d83d8f8bd485ba373f3ef05ca7b0c",
       "version_major": 2,
       "version_minor": 0
      },
      "text/plain": [
       "Scanning spectrum:   0%|          | 0/20 [00:00<?, ?it/s]"
      ]
     },
     "metadata": {},
     "output_type": "display_data"
    },
    {
     "data": {
      "application/vnd.jupyter.widget-view+json": {
       "model_id": "ee7c0fe34aa042f380655861b76f87b2",
       "version_major": 2,
       "version_minor": 0
      },
      "text/plain": [
       "Scanning spectrum:   0%|          | 0/20 [00:00<?, ?it/s]"
      ]
     },
     "metadata": {},
     "output_type": "display_data"
    },
    {
     "data": {
      "application/vnd.jupyter.widget-view+json": {
       "model_id": "414d176925684b3c8402309d33eb1749",
       "version_major": 2,
       "version_minor": 0
      },
      "text/plain": [
       "Scanning spectrum:   0%|          | 0/20 [00:00<?, ?it/s]"
      ]
     },
     "metadata": {},
     "output_type": "display_data"
    },
    {
     "data": {
      "application/vnd.jupyter.widget-view+json": {
       "model_id": "2d31d02b0355498bbf4e5c536a8f0a0d",
       "version_major": 2,
       "version_minor": 0
      },
      "text/plain": [
       "Scanning spectrum:   0%|          | 0/20 [00:00<?, ?it/s]"
      ]
     },
     "metadata": {},
     "output_type": "display_data"
    },
    {
     "data": {
      "application/vnd.jupyter.widget-view+json": {
       "model_id": "79f0b2088e13495f9550081471499ea3",
       "version_major": 2,
       "version_minor": 0
      },
      "text/plain": [
       "Scanning spectrum:   0%|          | 0/20 [00:00<?, ?it/s]"
      ]
     },
     "metadata": {},
     "output_type": "display_data"
    },
    {
     "data": {
      "application/vnd.jupyter.widget-view+json": {
       "model_id": "9bc8d62e824d48fd95777a9fa4151098",
       "version_major": 2,
       "version_minor": 0
      },
      "text/plain": [
       "Scanning spectrum:   0%|          | 0/20 [00:00<?, ?it/s]"
      ]
     },
     "metadata": {},
     "output_type": "display_data"
    },
    {
     "data": {
      "application/vnd.jupyter.widget-view+json": {
       "model_id": "8ca3b23451d143a4b55c957868762e71",
       "version_major": 2,
       "version_minor": 0
      },
      "text/plain": [
       "Scanning spectrum:   0%|          | 0/20 [00:00<?, ?it/s]"
      ]
     },
     "metadata": {},
     "output_type": "display_data"
    },
    {
     "data": {
      "application/vnd.jupyter.widget-view+json": {
       "model_id": "fa926c9629b1497e967c967f739f1597",
       "version_major": 2,
       "version_minor": 0
      },
      "text/plain": [
       "Scanning spectrum:   0%|          | 0/20 [00:00<?, ?it/s]"
      ]
     },
     "metadata": {},
     "output_type": "display_data"
    },
    {
     "data": {
      "application/vnd.jupyter.widget-view+json": {
       "model_id": "7911b76357f3408098a1dfc12bb693ce",
       "version_major": 2,
       "version_minor": 0
      },
      "text/plain": [
       "Scanning spectrum:   0%|          | 0/20 [00:00<?, ?it/s]"
      ]
     },
     "metadata": {},
     "output_type": "display_data"
    },
    {
     "data": {
      "application/vnd.jupyter.widget-view+json": {
       "model_id": "be85523a63374c8d945352097b635bf2",
       "version_major": 2,
       "version_minor": 0
      },
      "text/plain": [
       "Scanning spectrum:   0%|          | 0/20 [00:00<?, ?it/s]"
      ]
     },
     "metadata": {},
     "output_type": "display_data"
    },
    {
     "data": {
      "application/vnd.jupyter.widget-view+json": {
       "model_id": "c9ec07f8879e43789983d3151ed0fb17",
       "version_major": 2,
       "version_minor": 0
      },
      "text/plain": [
       "Scanning spectrum:   0%|          | 0/20 [00:00<?, ?it/s]"
      ]
     },
     "metadata": {},
     "output_type": "display_data"
    },
    {
     "data": {
      "application/vnd.jupyter.widget-view+json": {
       "model_id": "e93dfbb2efa149f99882bbe786eaf99b",
       "version_major": 2,
       "version_minor": 0
      },
      "text/plain": [
       "Scanning spectrum:   0%|          | 0/20 [00:00<?, ?it/s]"
      ]
     },
     "metadata": {},
     "output_type": "display_data"
    },
    {
     "data": {
      "application/vnd.jupyter.widget-view+json": {
       "model_id": "2192db3a1bdb4300927b73138bb5b7d2",
       "version_major": 2,
       "version_minor": 0
      },
      "text/plain": [
       "Scanning spectrum:   0%|          | 0/20 [00:00<?, ?it/s]"
      ]
     },
     "metadata": {},
     "output_type": "display_data"
    },
    {
     "data": {
      "application/vnd.jupyter.widget-view+json": {
       "model_id": "eb55210793494a9cbbad3e2f64f87760",
       "version_major": 2,
       "version_minor": 0
      },
      "text/plain": [
       "Scanning spectrum:   0%|          | 0/20 [00:00<?, ?it/s]"
      ]
     },
     "metadata": {},
     "output_type": "display_data"
    },
    {
     "data": {
      "application/vnd.jupyter.widget-view+json": {
       "model_id": "ef55a04f59604960967b7d5f26c061ed",
       "version_major": 2,
       "version_minor": 0
      },
      "text/plain": [
       "Scanning spectrum:   0%|          | 0/20 [00:00<?, ?it/s]"
      ]
     },
     "metadata": {},
     "output_type": "display_data"
    },
    {
     "data": {
      "application/vnd.jupyter.widget-view+json": {
       "model_id": "70e39674b3b541e3a7fe3f46175e965a",
       "version_major": 2,
       "version_minor": 0
      },
      "text/plain": [
       "Scanning spectrum:   0%|          | 0/20 [00:00<?, ?it/s]"
      ]
     },
     "metadata": {},
     "output_type": "display_data"
    },
    {
     "data": {
      "application/vnd.jupyter.widget-view+json": {
       "model_id": "82276a9b6f6f4d90859b4f9430982492",
       "version_major": 2,
       "version_minor": 0
      },
      "text/plain": [
       "Scanning spectrum:   0%|          | 0/20 [00:00<?, ?it/s]"
      ]
     },
     "metadata": {},
     "output_type": "display_data"
    },
    {
     "data": {
      "application/vnd.jupyter.widget-view+json": {
       "model_id": "9426be10f9bf494f8a0d99ca05f64e59",
       "version_major": 2,
       "version_minor": 0
      },
      "text/plain": [
       "Scanning spectrum:   0%|          | 0/20 [00:00<?, ?it/s]"
      ]
     },
     "metadata": {},
     "output_type": "display_data"
    },
    {
     "data": {
      "application/vnd.jupyter.widget-view+json": {
       "model_id": "2f98dfefecbd459381c6b596693cddd6",
       "version_major": 2,
       "version_minor": 0
      },
      "text/plain": [
       "Scanning spectrum:   0%|          | 0/20 [00:00<?, ?it/s]"
      ]
     },
     "metadata": {},
     "output_type": "display_data"
    },
    {
     "data": {
      "application/vnd.jupyter.widget-view+json": {
       "model_id": "1075466484ad46adb7c96c4cbac7873f",
       "version_major": 2,
       "version_minor": 0
      },
      "text/plain": [
       "Scanning spectrum:   0%|          | 0/20 [00:00<?, ?it/s]"
      ]
     },
     "metadata": {},
     "output_type": "display_data"
    },
    {
     "data": {
      "application/vnd.jupyter.widget-view+json": {
       "model_id": "29a764f85e7b4ef7937ab3b9db38a082",
       "version_major": 2,
       "version_minor": 0
      },
      "text/plain": [
       "Scanning spectrum:   0%|          | 0/20 [00:00<?, ?it/s]"
      ]
     },
     "metadata": {},
     "output_type": "display_data"
    },
    {
     "data": {
      "application/vnd.jupyter.widget-view+json": {
       "model_id": "299f6ebf5c4340a5b8348d06530c13d9",
       "version_major": 2,
       "version_minor": 0
      },
      "text/plain": [
       "Scanning spectrum:   0%|          | 0/20 [00:00<?, ?it/s]"
      ]
     },
     "metadata": {},
     "output_type": "display_data"
    },
    {
     "data": {
      "application/vnd.jupyter.widget-view+json": {
       "model_id": "08123f4e14704cf1b0b4a08a8fc58038",
       "version_major": 2,
       "version_minor": 0
      },
      "text/plain": [
       "Scanning spectrum:   0%|          | 0/20 [00:00<?, ?it/s]"
      ]
     },
     "metadata": {},
     "output_type": "display_data"
    },
    {
     "data": {
      "application/vnd.jupyter.widget-view+json": {
       "model_id": "3b107ee0210a4cd585153da15d2f61c6",
       "version_major": 2,
       "version_minor": 0
      },
      "text/plain": [
       "Scanning spectrum:   0%|          | 0/20 [00:00<?, ?it/s]"
      ]
     },
     "metadata": {},
     "output_type": "display_data"
    },
    {
     "data": {
      "application/vnd.jupyter.widget-view+json": {
       "model_id": "aa5c886332044445a3fbe3ffb2cffc96",
       "version_major": 2,
       "version_minor": 0
      },
      "text/plain": [
       "Scanning spectrum:   0%|          | 0/20 [00:00<?, ?it/s]"
      ]
     },
     "metadata": {},
     "output_type": "display_data"
    },
    {
     "data": {
      "application/vnd.jupyter.widget-view+json": {
       "model_id": "b9f5878a1262463894d59f337217ac66",
       "version_major": 2,
       "version_minor": 0
      },
      "text/plain": [
       "Scanning spectrum:   0%|          | 0/20 [00:00<?, ?it/s]"
      ]
     },
     "metadata": {},
     "output_type": "display_data"
    },
    {
     "data": {
      "application/vnd.jupyter.widget-view+json": {
       "model_id": "12bdfc73c1f649be8f2e3e4b833da92a",
       "version_major": 2,
       "version_minor": 0
      },
      "text/plain": [
       "Scanning spectrum:   0%|          | 0/20 [00:00<?, ?it/s]"
      ]
     },
     "metadata": {},
     "output_type": "display_data"
    },
    {
     "data": {
      "application/vnd.jupyter.widget-view+json": {
       "model_id": "1138b5a091df4d9aa8089b88e387797d",
       "version_major": 2,
       "version_minor": 0
      },
      "text/plain": [
       "Scanning spectrum:   0%|          | 0/20 [00:00<?, ?it/s]"
      ]
     },
     "metadata": {},
     "output_type": "display_data"
    },
    {
     "data": {
      "application/vnd.jupyter.widget-view+json": {
       "model_id": "d453f01745804ba795b85419d53867df",
       "version_major": 2,
       "version_minor": 0
      },
      "text/plain": [
       "Scanning spectrum:   0%|          | 0/20 [00:00<?, ?it/s]"
      ]
     },
     "metadata": {},
     "output_type": "display_data"
    },
    {
     "data": {
      "application/vnd.jupyter.widget-view+json": {
       "model_id": "dc14ca505e8a4f138837abdf41363bfc",
       "version_major": 2,
       "version_minor": 0
      },
      "text/plain": [
       "Scanning spectrum:   0%|          | 0/20 [00:00<?, ?it/s]"
      ]
     },
     "metadata": {},
     "output_type": "display_data"
    },
    {
     "data": {
      "application/vnd.jupyter.widget-view+json": {
       "model_id": "4c91abd6f7974574b9fa15e7a213d8ee",
       "version_major": 2,
       "version_minor": 0
      },
      "text/plain": [
       "Scanning spectrum:   0%|          | 0/20 [00:00<?, ?it/s]"
      ]
     },
     "metadata": {},
     "output_type": "display_data"
    },
    {
     "data": {
      "application/vnd.jupyter.widget-view+json": {
       "model_id": "bae8ccde379f4a74a3769cefa0bb279a",
       "version_major": 2,
       "version_minor": 0
      },
      "text/plain": [
       "Scanning spectrum:   0%|          | 0/20 [00:00<?, ?it/s]"
      ]
     },
     "metadata": {},
     "output_type": "display_data"
    },
    {
     "data": {
      "application/vnd.jupyter.widget-view+json": {
       "model_id": "75ac33ef7d044fc6a8e5da777473573b",
       "version_major": 2,
       "version_minor": 0
      },
      "text/plain": [
       "Scanning spectrum:   0%|          | 0/20 [00:00<?, ?it/s]"
      ]
     },
     "metadata": {},
     "output_type": "display_data"
    },
    {
     "data": {
      "application/vnd.jupyter.widget-view+json": {
       "model_id": "372bea313deb46c59f0b6b980e759aa7",
       "version_major": 2,
       "version_minor": 0
      },
      "text/plain": [
       "Scanning spectrum:   0%|          | 0/20 [00:00<?, ?it/s]"
      ]
     },
     "metadata": {},
     "output_type": "display_data"
    },
    {
     "data": {
      "application/vnd.jupyter.widget-view+json": {
       "model_id": "df95b94d889b4c8099dfbd7a1d2c3e74",
       "version_major": 2,
       "version_minor": 0
      },
      "text/plain": [
       "Scanning spectrum:   0%|          | 0/20 [00:00<?, ?it/s]"
      ]
     },
     "metadata": {},
     "output_type": "display_data"
    },
    {
     "data": {
      "application/vnd.jupyter.widget-view+json": {
       "model_id": "1340585169b5417797d5682d8e9a16d7",
       "version_major": 2,
       "version_minor": 0
      },
      "text/plain": [
       "Scanning spectrum:   0%|          | 0/20 [00:00<?, ?it/s]"
      ]
     },
     "metadata": {},
     "output_type": "display_data"
    },
    {
     "data": {
      "application/vnd.jupyter.widget-view+json": {
       "model_id": "d176b475e1114c5d8aa8739e822e4bd6",
       "version_major": 2,
       "version_minor": 0
      },
      "text/plain": [
       "Scanning spectrum:   0%|          | 0/20 [00:00<?, ?it/s]"
      ]
     },
     "metadata": {},
     "output_type": "display_data"
    },
    {
     "data": {
      "application/vnd.jupyter.widget-view+json": {
       "model_id": "49da1e3038b84ac388a542882439048f",
       "version_major": 2,
       "version_minor": 0
      },
      "text/plain": [
       "Scanning spectrum:   0%|          | 0/20 [00:00<?, ?it/s]"
      ]
     },
     "metadata": {},
     "output_type": "display_data"
    },
    {
     "data": {
      "application/vnd.jupyter.widget-view+json": {
       "model_id": "f69723c142704323866be09ba2c7b8bf",
       "version_major": 2,
       "version_minor": 0
      },
      "text/plain": [
       "Scanning spectrum:   0%|          | 0/20 [00:00<?, ?it/s]"
      ]
     },
     "metadata": {},
     "output_type": "display_data"
    },
    {
     "data": {
      "application/vnd.jupyter.widget-view+json": {
       "model_id": "7a54b788a4444599bdfa9507448cf1ff",
       "version_major": 2,
       "version_minor": 0
      },
      "text/plain": [
       "Scanning spectrum:   0%|          | 0/20 [00:00<?, ?it/s]"
      ]
     },
     "metadata": {},
     "output_type": "display_data"
    },
    {
     "data": {
      "application/vnd.jupyter.widget-view+json": {
       "model_id": "8745cb3190c24be4b1910b9ee0912592",
       "version_major": 2,
       "version_minor": 0
      },
      "text/plain": [
       "Scanning spectrum:   0%|          | 0/20 [00:00<?, ?it/s]"
      ]
     },
     "metadata": {},
     "output_type": "display_data"
    },
    {
     "data": {
      "application/vnd.jupyter.widget-view+json": {
       "model_id": "c36985d74f0b44cd85035537c2fb7956",
       "version_major": 2,
       "version_minor": 0
      },
      "text/plain": [
       "Scanning spectrum:   0%|          | 0/20 [00:00<?, ?it/s]"
      ]
     },
     "metadata": {},
     "output_type": "display_data"
    },
    {
     "data": {
      "application/vnd.jupyter.widget-view+json": {
       "model_id": "ed02feac99b3400e82a7485b9415cac5",
       "version_major": 2,
       "version_minor": 0
      },
      "text/plain": [
       "Scanning spectrum:   0%|          | 0/20 [00:00<?, ?it/s]"
      ]
     },
     "metadata": {},
     "output_type": "display_data"
    },
    {
     "data": {
      "application/vnd.jupyter.widget-view+json": {
       "model_id": "cc12a123346c473e8ba3fab27fb5a2cd",
       "version_major": 2,
       "version_minor": 0
      },
      "text/plain": [
       "Scanning spectrum:   0%|          | 0/20 [00:00<?, ?it/s]"
      ]
     },
     "metadata": {},
     "output_type": "display_data"
    },
    {
     "data": {
      "application/vnd.jupyter.widget-view+json": {
       "model_id": "a8edf6225a5741179829fcca48d1be5d",
       "version_major": 2,
       "version_minor": 0
      },
      "text/plain": [
       "Scanning spectrum:   0%|          | 0/20 [00:00<?, ?it/s]"
      ]
     },
     "metadata": {},
     "output_type": "display_data"
    },
    {
     "data": {
      "application/vnd.jupyter.widget-view+json": {
       "model_id": "8d737e50ac4c403684b4772bcca1dfde",
       "version_major": 2,
       "version_minor": 0
      },
      "text/plain": [
       "Scanning spectrum:   0%|          | 0/20 [00:00<?, ?it/s]"
      ]
     },
     "metadata": {},
     "output_type": "display_data"
    },
    {
     "data": {
      "application/vnd.jupyter.widget-view+json": {
       "model_id": "1b3b14352c8941f88e217e6c93fff694",
       "version_major": 2,
       "version_minor": 0
      },
      "text/plain": [
       "Scanning spectrum:   0%|          | 0/20 [00:00<?, ?it/s]"
      ]
     },
     "metadata": {},
     "output_type": "display_data"
    },
    {
     "data": {
      "application/vnd.jupyter.widget-view+json": {
       "model_id": "f64ac05791af4a5c832da8dfd20066a6",
       "version_major": 2,
       "version_minor": 0
      },
      "text/plain": [
       "Scanning spectrum:   0%|          | 0/20 [00:00<?, ?it/s]"
      ]
     },
     "metadata": {},
     "output_type": "display_data"
    },
    {
     "data": {
      "application/vnd.jupyter.widget-view+json": {
       "model_id": "754968ba5d8845abbab11275fcd162b9",
       "version_major": 2,
       "version_minor": 0
      },
      "text/plain": [
       "Scanning spectrum:   0%|          | 0/20 [00:00<?, ?it/s]"
      ]
     },
     "metadata": {},
     "output_type": "display_data"
    },
    {
     "data": {
      "application/vnd.jupyter.widget-view+json": {
       "model_id": "f792938197104f7c954dd8a997df4fc4",
       "version_major": 2,
       "version_minor": 0
      },
      "text/plain": [
       "Scanning spectrum:   0%|          | 0/20 [00:00<?, ?it/s]"
      ]
     },
     "metadata": {},
     "output_type": "display_data"
    },
    {
     "data": {
      "application/vnd.jupyter.widget-view+json": {
       "model_id": "ac00b8cbf7cf429e9c1aefafced55040",
       "version_major": 2,
       "version_minor": 0
      },
      "text/plain": [
       "Scanning spectrum:   0%|          | 0/20 [00:00<?, ?it/s]"
      ]
     },
     "metadata": {},
     "output_type": "display_data"
    },
    {
     "data": {
      "application/vnd.jupyter.widget-view+json": {
       "model_id": "ee141980cc74434ba1fe71c849a1f3a0",
       "version_major": 2,
       "version_minor": 0
      },
      "text/plain": [
       "Scanning spectrum:   0%|          | 0/20 [00:00<?, ?it/s]"
      ]
     },
     "metadata": {},
     "output_type": "display_data"
    },
    {
     "data": {
      "application/vnd.jupyter.widget-view+json": {
       "model_id": "5fa9cf5ab7994ffaae84c2402a9caf6b",
       "version_major": 2,
       "version_minor": 0
      },
      "text/plain": [
       "Scanning spectrum:   0%|          | 0/20 [00:00<?, ?it/s]"
      ]
     },
     "metadata": {},
     "output_type": "display_data"
    },
    {
     "data": {
      "application/vnd.jupyter.widget-view+json": {
       "model_id": "f0815e84236b4ac5a91440eae13fc900",
       "version_major": 2,
       "version_minor": 0
      },
      "text/plain": [
       "Scanning spectrum:   0%|          | 0/20 [00:00<?, ?it/s]"
      ]
     },
     "metadata": {},
     "output_type": "display_data"
    },
    {
     "data": {
      "application/vnd.jupyter.widget-view+json": {
       "model_id": "1a2d3e9812eb48d5be9c6a806a8e4eb0",
       "version_major": 2,
       "version_minor": 0
      },
      "text/plain": [
       "Scanning spectrum:   0%|          | 0/20 [00:00<?, ?it/s]"
      ]
     },
     "metadata": {},
     "output_type": "display_data"
    },
    {
     "data": {
      "application/vnd.jupyter.widget-view+json": {
       "model_id": "e3341b69ff2c40bbbd6b6a2ca0d10203",
       "version_major": 2,
       "version_minor": 0
      },
      "text/plain": [
       "Scanning spectrum:   0%|          | 0/20 [00:00<?, ?it/s]"
      ]
     },
     "metadata": {},
     "output_type": "display_data"
    },
    {
     "data": {
      "application/vnd.jupyter.widget-view+json": {
       "model_id": "9baad5a351d349eba34170a6ca0a4e5f",
       "version_major": 2,
       "version_minor": 0
      },
      "text/plain": [
       "Scanning spectrum:   0%|          | 0/20 [00:00<?, ?it/s]"
      ]
     },
     "metadata": {},
     "output_type": "display_data"
    },
    {
     "data": {
      "application/vnd.jupyter.widget-view+json": {
       "model_id": "b4ca723c14464073bce4bed3a803c8d1",
       "version_major": 2,
       "version_minor": 0
      },
      "text/plain": [
       "Scanning spectrum:   0%|          | 0/20 [00:00<?, ?it/s]"
      ]
     },
     "metadata": {},
     "output_type": "display_data"
    },
    {
     "data": {
      "application/vnd.jupyter.widget-view+json": {
       "model_id": "25f15b1252744798bb3241ac10debfe5",
       "version_major": 2,
       "version_minor": 0
      },
      "text/plain": [
       "Scanning spectrum:   0%|          | 0/20 [00:00<?, ?it/s]"
      ]
     },
     "metadata": {},
     "output_type": "display_data"
    },
    {
     "data": {
      "application/vnd.jupyter.widget-view+json": {
       "model_id": "ddfc806dd9c642b0a30ed7ff96a9326c",
       "version_major": 2,
       "version_minor": 0
      },
      "text/plain": [
       "Scanning spectrum:   0%|          | 0/20 [00:00<?, ?it/s]"
      ]
     },
     "metadata": {},
     "output_type": "display_data"
    },
    {
     "data": {
      "application/vnd.jupyter.widget-view+json": {
       "model_id": "277a6c66d0574b0fb9a78cb2d4048df2",
       "version_major": 2,
       "version_minor": 0
      },
      "text/plain": [
       "Scanning spectrum:   0%|          | 0/20 [00:00<?, ?it/s]"
      ]
     },
     "metadata": {},
     "output_type": "display_data"
    },
    {
     "data": {
      "application/vnd.jupyter.widget-view+json": {
       "model_id": "3b18ed1194a54ac0a489b0e45f9b014d",
       "version_major": 2,
       "version_minor": 0
      },
      "text/plain": [
       "Scanning spectrum:   0%|          | 0/20 [00:00<?, ?it/s]"
      ]
     },
     "metadata": {},
     "output_type": "display_data"
    },
    {
     "data": {
      "application/vnd.jupyter.widget-view+json": {
       "model_id": "dc0ec3a4c61e45ee922af9f2adf3d543",
       "version_major": 2,
       "version_minor": 0
      },
      "text/plain": [
       "Scanning spectrum:   0%|          | 0/20 [00:00<?, ?it/s]"
      ]
     },
     "metadata": {},
     "output_type": "display_data"
    },
    {
     "data": {
      "application/vnd.jupyter.widget-view+json": {
       "model_id": "03c7298d9db64d2f8afb1fc198f84f57",
       "version_major": 2,
       "version_minor": 0
      },
      "text/plain": [
       "Scanning spectrum:   0%|          | 0/20 [00:00<?, ?it/s]"
      ]
     },
     "metadata": {},
     "output_type": "display_data"
    },
    {
     "data": {
      "application/vnd.jupyter.widget-view+json": {
       "model_id": "f449e4091e794c03a9a584a10da0ef2b",
       "version_major": 2,
       "version_minor": 0
      },
      "text/plain": [
       "Scanning spectrum:   0%|          | 0/20 [00:00<?, ?it/s]"
      ]
     },
     "metadata": {},
     "output_type": "display_data"
    },
    {
     "data": {
      "application/vnd.jupyter.widget-view+json": {
       "model_id": "99bf707cbde3487eb6990bf86f6f59b0",
       "version_major": 2,
       "version_minor": 0
      },
      "text/plain": [
       "Scanning spectrum:   0%|          | 0/20 [00:00<?, ?it/s]"
      ]
     },
     "metadata": {},
     "output_type": "display_data"
    },
    {
     "data": {
      "application/vnd.jupyter.widget-view+json": {
       "model_id": "201c000b0204465b873aeed876dda751",
       "version_major": 2,
       "version_minor": 0
      },
      "text/plain": [
       "Scanning spectrum:   0%|          | 0/20 [00:00<?, ?it/s]"
      ]
     },
     "metadata": {},
     "output_type": "display_data"
    },
    {
     "data": {
      "application/vnd.jupyter.widget-view+json": {
       "model_id": "c2f9bf03ea14441b98548c9b03f1e17d",
       "version_major": 2,
       "version_minor": 0
      },
      "text/plain": [
       "Scanning spectrum:   0%|          | 0/20 [00:00<?, ?it/s]"
      ]
     },
     "metadata": {},
     "output_type": "display_data"
    },
    {
     "data": {
      "application/vnd.jupyter.widget-view+json": {
       "model_id": "79e5cb24b2ed461aace98f649edbc18f",
       "version_major": 2,
       "version_minor": 0
      },
      "text/plain": [
       "Scanning spectrum:   0%|          | 0/20 [00:00<?, ?it/s]"
      ]
     },
     "metadata": {},
     "output_type": "display_data"
    },
    {
     "data": {
      "application/vnd.jupyter.widget-view+json": {
       "model_id": "1fd49b3e27d2444cbbd6b8a8f3591fba",
       "version_major": 2,
       "version_minor": 0
      },
      "text/plain": [
       "Scanning spectrum:   0%|          | 0/20 [00:00<?, ?it/s]"
      ]
     },
     "metadata": {},
     "output_type": "display_data"
    },
    {
     "data": {
      "application/vnd.jupyter.widget-view+json": {
       "model_id": "9e8fcd98309e40bb8d7fd337a6ca0aa4",
       "version_major": 2,
       "version_minor": 0
      },
      "text/plain": [
       "Scanning spectrum:   0%|          | 0/20 [00:00<?, ?it/s]"
      ]
     },
     "metadata": {},
     "output_type": "display_data"
    },
    {
     "data": {
      "application/vnd.jupyter.widget-view+json": {
       "model_id": "6c3a3c66efbe4917a95782c84b1b03d6",
       "version_major": 2,
       "version_minor": 0
      },
      "text/plain": [
       "Scanning spectrum:   0%|          | 0/20 [00:00<?, ?it/s]"
      ]
     },
     "metadata": {},
     "output_type": "display_data"
    },
    {
     "data": {
      "application/vnd.jupyter.widget-view+json": {
       "model_id": "b0826ea1ca0f4374944eb076b245318f",
       "version_major": 2,
       "version_minor": 0
      },
      "text/plain": [
       "Scanning spectrum:   0%|          | 0/20 [00:00<?, ?it/s]"
      ]
     },
     "metadata": {},
     "output_type": "display_data"
    },
    {
     "data": {
      "application/vnd.jupyter.widget-view+json": {
       "model_id": "038888404ffc4416befa71ef2df10bd5",
       "version_major": 2,
       "version_minor": 0
      },
      "text/plain": [
       "Scanning spectrum:   0%|          | 0/20 [00:00<?, ?it/s]"
      ]
     },
     "metadata": {},
     "output_type": "display_data"
    },
    {
     "data": {
      "application/vnd.jupyter.widget-view+json": {
       "model_id": "94174e1fdfaa4ac7922827ea2951fa37",
       "version_major": 2,
       "version_minor": 0
      },
      "text/plain": [
       "Scanning spectrum:   0%|          | 0/20 [00:00<?, ?it/s]"
      ]
     },
     "metadata": {},
     "output_type": "display_data"
    },
    {
     "data": {
      "application/vnd.jupyter.widget-view+json": {
       "model_id": "ca322df45ff34ca69bcb9d3867513341",
       "version_major": 2,
       "version_minor": 0
      },
      "text/plain": [
       "Scanning spectrum:   0%|          | 0/20 [00:00<?, ?it/s]"
      ]
     },
     "metadata": {},
     "output_type": "display_data"
    },
    {
     "data": {
      "application/vnd.jupyter.widget-view+json": {
       "model_id": "262977435b45411397b122d838b1ccc7",
       "version_major": 2,
       "version_minor": 0
      },
      "text/plain": [
       "Scanning spectrum:   0%|          | 0/20 [00:00<?, ?it/s]"
      ]
     },
     "metadata": {},
     "output_type": "display_data"
    },
    {
     "data": {
      "application/vnd.jupyter.widget-view+json": {
       "model_id": "dfafb0a0bb5548f3a9cc41fc812ea794",
       "version_major": 2,
       "version_minor": 0
      },
      "text/plain": [
       "Scanning spectrum:   0%|          | 0/20 [00:00<?, ?it/s]"
      ]
     },
     "metadata": {},
     "output_type": "display_data"
    },
    {
     "data": {
      "application/vnd.jupyter.widget-view+json": {
       "model_id": "e1a6a8c69c124331936441c03d2a8970",
       "version_major": 2,
       "version_minor": 0
      },
      "text/plain": [
       "Scanning spectrum:   0%|          | 0/20 [00:00<?, ?it/s]"
      ]
     },
     "metadata": {},
     "output_type": "display_data"
    },
    {
     "data": {
      "application/vnd.jupyter.widget-view+json": {
       "model_id": "2ba46611c8ec432e9421ec43447fe945",
       "version_major": 2,
       "version_minor": 0
      },
      "text/plain": [
       "Scanning spectrum:   0%|          | 0/20 [00:00<?, ?it/s]"
      ]
     },
     "metadata": {},
     "output_type": "display_data"
    },
    {
     "data": {
      "application/vnd.jupyter.widget-view+json": {
       "model_id": "080fe5250e1648be836dc2ba025c72e6",
       "version_major": 2,
       "version_minor": 0
      },
      "text/plain": [
       "Scanning spectrum:   0%|          | 0/20 [00:00<?, ?it/s]"
      ]
     },
     "metadata": {},
     "output_type": "display_data"
    },
    {
     "data": {
      "application/vnd.jupyter.widget-view+json": {
       "model_id": "351afdef92e34161a5b4b192b97eace5",
       "version_major": 2,
       "version_minor": 0
      },
      "text/plain": [
       "Scanning spectrum:   0%|          | 0/20 [00:00<?, ?it/s]"
      ]
     },
     "metadata": {},
     "output_type": "display_data"
    },
    {
     "data": {
      "application/vnd.jupyter.widget-view+json": {
       "model_id": "e860dad71aa84964b98b1c465fd7e864",
       "version_major": 2,
       "version_minor": 0
      },
      "text/plain": [
       "Scanning spectrum:   0%|          | 0/20 [00:00<?, ?it/s]"
      ]
     },
     "metadata": {},
     "output_type": "display_data"
    },
    {
     "data": {
      "application/vnd.jupyter.widget-view+json": {
       "model_id": "5eddaa97603547f3803e1783106749c0",
       "version_major": 2,
       "version_minor": 0
      },
      "text/plain": [
       "Scanning spectrum:   0%|          | 0/20 [00:00<?, ?it/s]"
      ]
     },
     "metadata": {},
     "output_type": "display_data"
    },
    {
     "data": {
      "application/vnd.jupyter.widget-view+json": {
       "model_id": "69cda3f599aa4b7f904b4e1d0f71fbcf",
       "version_major": 2,
       "version_minor": 0
      },
      "text/plain": [
       "Scanning spectrum:   0%|          | 0/20 [00:00<?, ?it/s]"
      ]
     },
     "metadata": {},
     "output_type": "display_data"
    },
    {
     "data": {
      "application/vnd.jupyter.widget-view+json": {
       "model_id": "d4b558220726448c9265274a1dcab333",
       "version_major": 2,
       "version_minor": 0
      },
      "text/plain": [
       "Scanning spectrum:   0%|          | 0/20 [00:00<?, ?it/s]"
      ]
     },
     "metadata": {},
     "output_type": "display_data"
    },
    {
     "data": {
      "application/vnd.jupyter.widget-view+json": {
       "model_id": "65265a965f314969abbcf7676ad44ab4",
       "version_major": 2,
       "version_minor": 0
      },
      "text/plain": [
       "Scanning spectrum:   0%|          | 0/20 [00:00<?, ?it/s]"
      ]
     },
     "metadata": {},
     "output_type": "display_data"
    },
    {
     "data": {
      "application/vnd.jupyter.widget-view+json": {
       "model_id": "7e00c3a974cd41f286e31d5b0555f3ea",
       "version_major": 2,
       "version_minor": 0
      },
      "text/plain": [
       "Scanning spectrum:   0%|          | 0/20 [00:00<?, ?it/s]"
      ]
     },
     "metadata": {},
     "output_type": "display_data"
    },
    {
     "data": {
      "application/vnd.jupyter.widget-view+json": {
       "model_id": "56f34591bca94dca9e9068d9ac5ac602",
       "version_major": 2,
       "version_minor": 0
      },
      "text/plain": [
       "Scanning spectrum:   0%|          | 0/20 [00:00<?, ?it/s]"
      ]
     },
     "metadata": {},
     "output_type": "display_data"
    },
    {
     "data": {
      "application/vnd.jupyter.widget-view+json": {
       "model_id": "88421cc3053b4e31becb3c292e20c568",
       "version_major": 2,
       "version_minor": 0
      },
      "text/plain": [
       "Scanning spectrum:   0%|          | 0/20 [00:00<?, ?it/s]"
      ]
     },
     "metadata": {},
     "output_type": "display_data"
    },
    {
     "data": {
      "application/vnd.jupyter.widget-view+json": {
       "model_id": "b824cd436bac4a5993478ec6e7c36dcb",
       "version_major": 2,
       "version_minor": 0
      },
      "text/plain": [
       "Scanning spectrum:   0%|          | 0/20 [00:00<?, ?it/s]"
      ]
     },
     "metadata": {},
     "output_type": "display_data"
    },
    {
     "data": {
      "application/vnd.jupyter.widget-view+json": {
       "model_id": "394775d29a27446592a60fed745ad7ef",
       "version_major": 2,
       "version_minor": 0
      },
      "text/plain": [
       "Scanning spectrum:   0%|          | 0/20 [00:00<?, ?it/s]"
      ]
     },
     "metadata": {},
     "output_type": "display_data"
    }
   ],
   "source": [
    "opt = init(tag='caustique')\n",
    "c = Caustique(opt)\n",
    "output_filename = c.plot(z, image)"
   ]
  },
  {
   "cell_type": "code",
   "execution_count": 18,
   "metadata": {
    "execution": {
     "iopub.execute_input": "2024-10-16T09:43:27.677589Z",
     "iopub.status.busy": "2024-10-16T09:43:27.677500Z",
     "iopub.status.idle": "2024-10-16T09:43:27.679800Z",
     "shell.execute_reply": "2024-10-16T09:43:27.679552Z"
    }
   },
   "outputs": [
    {
     "data": {
      "text/html": [
       "<video  loop=\"1\" autoplay=\"1\" controls  src=\"2025-10-24_caustique-transition/caustique_ae47ed71.mp4\" type=\"video/mp4\" width=1024\\>"
      ],
      "text/plain": [
       "<IPython.core.display.HTML object>"
      ]
     },
     "metadata": {},
     "output_type": "display_data"
    }
   ],
   "source": [
    "c.show(output_filename)"
   ]
  },
  {
   "cell_type": "markdown",
   "metadata": {
    "tags": []
   },
   "source": [
    "# exploration des paramètres\n"
   ]
  },
  {
   "cell_type": "code",
   "execution_count": 19,
   "metadata": {
    "execution": {
     "iopub.execute_input": "2024-10-16T09:43:27.681057Z",
     "iopub.status.busy": "2024-10-16T09:43:27.680980Z",
     "iopub.status.idle": "2024-10-16T09:43:27.682344Z",
     "shell.execute_reply": "2024-10-16T09:43:27.682143Z"
    }
   },
   "outputs": [],
   "source": [
    "N_scan = 0\n",
    "base = 2"
   ]
  },
  {
   "cell_type": "markdown",
   "metadata": {
    "tags": []
   },
   "source": [
    "## profondeur d'eau\n"
   ]
  },
  {
   "cell_type": "code",
   "execution_count": 20,
   "metadata": {
    "execution": {
     "iopub.execute_input": "2024-10-16T09:43:27.683507Z",
     "iopub.status.busy": "2024-10-16T09:43:27.683435Z",
     "iopub.status.idle": "2024-10-16T09:43:31.221238Z",
     "shell.execute_reply": "2024-10-16T09:43:31.220945Z"
    }
   },
   "outputs": [],
   "source": [
    "for H_ in opt.H*np.logspace(-1, 1, N_scan, base=base):    \n",
    "    c = Caustique(init(tag=f'{opt.tag}_H_{H_:.3f}', H = H_))\n",
    "    output_filename = c.plot(z, image)\n",
    "    print(f'H = {H_:.3f} -> {output_filename=} ')\n",
    "    if c.opt.do_display: c.show(output_filename)"
   ]
  },
  {
   "cell_type": "markdown",
   "metadata": {
    "tags": []
   },
   "source": [
    "## variation de l'indice de réfraction\n"
   ]
  },
  {
   "cell_type": "code",
   "execution_count": 21,
   "metadata": {
    "execution": {
     "iopub.execute_input": "2024-10-16T09:43:31.223035Z",
     "iopub.status.busy": "2024-10-16T09:43:31.222910Z",
     "iopub.status.idle": "2024-10-16T09:43:33.903735Z",
     "shell.execute_reply": "2024-10-16T09:43:33.903270Z"
    }
   },
   "outputs": [],
   "source": [
    "# for variation_ in np.logspace(-2, 0, N_scan, base=10, endpoint=False):\n",
    "#     opt = init()\n",
    "#     c = Caustique(opt)\n",
    "#     c.opt.variation = variation_\n",
    "#     c.opt.tag = f'{opt.tag}_variation_{variation_:.3f}'\n",
    "\n",
    "#     output_filename = c.plot(z, image)\n",
    "#     print(f'variation = {variation_:.3f}  -> {output_filename=}')\n",
    "#     if c.opt.do_display: c.show(output_filename)"
   ]
  },
  {
   "cell_type": "markdown",
   "metadata": {},
   "source": [
    "## post-processing"
   ]
  },
  {
   "cell_type": "code",
   "execution_count": 22,
   "metadata": {
    "execution": {
     "iopub.execute_input": "2024-10-16T09:43:33.905319Z",
     "iopub.status.busy": "2024-10-16T09:43:33.905216Z",
     "iopub.status.idle": "2024-10-16T09:43:39.369292Z",
     "shell.execute_reply": "2024-10-16T09:43:39.369027Z"
    }
   },
   "outputs": [
    {
     "name": "stdout",
     "output_type": "stream",
     "text": [
      "======gamma======\n"
     ]
    }
   ],
   "source": [
    "# for variable in ['gamma', 'min_lum']: \n",
    "for variable in ['gamma']: \n",
    "    print(f'======{variable}======')\n",
    "    for modul in np.logspace(-1, 1, N_scan, base=base):\n",
    "        c = Caustique(init(tag = f'{opt.tag}_{variable}_modul_{modul:.3f}'))\n",
    "        c.d[variable] *= modul\n",
    "        \n",
    "        output_filename = c.plot(z, image)\n",
    "        print(f'{variable}={variable}(default)*{modul:.3f}={c.d[variable]:.3E} -> {output_filename=}')\n",
    "        if c.opt.do_display: c.show(output_filename)"
   ]
  },
  {
   "cell_type": "markdown",
   "metadata": {},
   "source": [
    "\n",
    "## paramètres de l'ouverture\n"
   ]
  },
  {
   "cell_type": "code",
   "execution_count": 23,
   "metadata": {
    "execution": {
     "iopub.execute_input": "2024-10-16T10:39:19.059775Z",
     "iopub.status.busy": "2024-10-16T10:39:19.059592Z",
     "iopub.status.idle": "2024-10-16T10:43:57.657865Z",
     "shell.execute_reply": "2024-10-16T10:43:57.655454Z"
    }
   },
   "outputs": [],
   "source": [
    "for radius_in in np.linspace(0, .4, N_scan+1)[1:]:\n",
    "    c = Caustique(init(tag = f'{opt.tag}_image_{radius_in=:.3f}'))\n",
    "\n",
    "    output_filename = c.plot(z, generate_image(nx=c.opt.nx, ny=c.opt.ny, radius_in=radius_in))\n",
    "    print(f'{radius_in=:.3f} -> {output_filename=} ')\n",
    "    if c.opt.do_display: c.show(output_filename)"
   ]
  },
  {
   "cell_type": "code",
   "execution_count": 24,
   "metadata": {},
   "outputs": [],
   "source": [
    "for radius_out in np.linspace(.15, 1, N_scan+1)[1:]:\n",
    "    c = Caustique(init(tag = f'{opt.tag}_image_{radius_out=:.3f}'))\n",
    "\n",
    "    output_filename = c.plot(z, generate_image(nx=c.opt.nx, ny=c.opt.ny, radius_out=radius_out))\n",
    "    print(f'{radius_out=:.3f} -> {output_filename=} ')\n",
    "    if c.opt.do_display: c.show(output_filename)"
   ]
  },
  {
   "cell_type": "markdown",
   "metadata": {
    "tags": []
   },
   "source": [
    "## autres instances de l'onde\n"
   ]
  },
  {
   "cell_type": "code",
   "execution_count": 25,
   "metadata": {
    "execution": {
     "iopub.execute_input": "2024-10-16T09:43:39.371388Z",
     "iopub.status.busy": "2024-10-16T09:43:39.371265Z",
     "iopub.status.idle": "2024-10-16T09:43:59.766666Z",
     "shell.execute_reply": "2024-10-16T09:43:59.765977Z"
    }
   },
   "outputs": [],
   "source": [
    "image = generate_image(nx=c.opt.nx, ny=c.opt.ny)\n",
    "\n",
    "for seed_increment in range(N_scan):\n",
    "    c = Caustique(init(tag = f'{opt.tag}_seed_{c.d['seed']}'))\n",
    "    c.d['seed'] = c.d['seed'] + seed_increment\n",
    "    output_filename = c.plot(c.wave(do_cache=False), image)\n",
    "    print(f'seed={c.d['seed']} -> {output_filename=}')\n",
    "    if c.opt.do_display: c.show(output_filename)"
   ]
  },
  {
   "cell_type": "markdown",
   "metadata": {},
   "source": [
    "## autres variables sur l'onde\n"
   ]
  },
  {
   "cell_type": "code",
   "execution_count": 26,
   "metadata": {},
   "outputs": [
    {
     "name": "stdout",
     "output_type": "stream",
     "text": [
      "======scale======\n",
      "======B_sf======\n",
      "======theta======\n",
      "======B_theta======\n",
      "======zmin======\n"
     ]
    }
   ],
   "source": [
    "opt = init()\n",
    "for variable in ['scale', 'B_sf', 'theta',  'B_theta', 'zmin']: #  'V_Y', 'V_X', 'B_V', \n",
    "    print(f'======{variable}======')\n",
    "    for modul in np.logspace(-1, 1, N_scan, base=base):\n",
    "        # del z\n",
    "        # print(opt.tag, variable, modul, f'{opt.tag}_{variable}_modul_{modul:.3f}')\n",
    "        c = Caustique(init(tag=f'{opt.tag}_{variable}_modul_{modul:.3f}'))\n",
    "        c.d[variable] *= modul\n",
    "        \n",
    "        output_filename = c.get_filename()\n",
    "        if not(os.path.isfile(output_filename) or c.opt.do_recompute):\n",
    "            z = c.wave(do_cache=False)\n",
    "            print(z.shape, z.min(), z.mean(), z.max())\n",
    "            output_filename = c.plot(z, image)\n",
    "            print(z.shape, z.min(), z.mean(), z.max())\n",
    "            # assert(output_filename == output_filename_)\n",
    "        print(f'{variable}={variable}(default)*{modul:.3f}={c.d[variable]:.3E} -> {output_filename=}')\n",
    "        if c.opt.do_display: c.show(output_filename)"
   ]
  },
  {
   "cell_type": "markdown",
   "metadata": {},
   "source": [
    "## une longue vague\n"
   ]
  },
  {
   "cell_type": "code",
   "execution_count": 27,
   "metadata": {},
   "outputs": [
    {
     "name": "stdout",
     "output_type": "stream",
     "text": [
      "====== long wave ======\n"
     ]
    },
    {
     "data": {
      "text/plain": [
       "init(figpath='2025-10-24_caustique-transition', phi=1.61803, tag='longue_vague', ext='mp4', nx=1024, ny=1024, nframe=96, bin_dens=1, bin_spectrum=4, seed=2025, H=3.0, variation=0.2, scale=632.832, B_sf=1.61, V_Y=0.3, V_X=0.3, B_V=1.0, zmin=1.0, theta=1.5707963267948966, B_theta=1.0471975511965976, min_lum=0.01, n_bits=8, gamma=4.0, fps=24, do_cache=True, verbose=False, do_display=False, do_recompute=False)"
      ]
     },
     "execution_count": 27,
     "metadata": {},
     "output_type": "execute_result"
    }
   ],
   "source": [
    "print('====== long wave ======')\n",
    "c = Caustique(init(tag = 'longue_vague'))\n",
    "c.opt\n"
   ]
  },
  {
   "cell_type": "code",
   "execution_count": 28,
   "metadata": {},
   "outputs": [],
   "source": [
    "filename = f'{c.cachepath}/{c.opt.tag}.npy'\n",
    "if os.path.isfile(filename) and not(c.opt.do_recompute):\n",
    "    z = np.load(filename)\n",
    "else:        \n",
    "    # N_wave = 4 * PRECISION\n",
    "    N_wave = 5\n",
    "    N_wave = 50\n",
    "    N_wave = 25\n",
    "    amplitude = 1 - np.linspace(-1, 1, N_wave+2)[1:-1]**2 \n",
    "    B_theta = c.opt.B_theta / ( 1 + np.exp(-.5 * (np.linspace(0, 1, N_wave)-.25)**2 / .25**2 ) ) # TODO : use von mises\n",
    "    scale = c.opt.scale / ( 1 + np.exp(-.5 * (np.linspace(0, 1, N_wave)-.75)**2 / .25**2 ) )\n",
    "    B_sf = c.opt.B_sf / scale * ( 1 + np.exp(-.5 * (np.linspace(0, 1, N_wave)-.5)**2 / .25**2 ) )\n",
    "\n",
    "    fx, fy, ft = mc.get_grids(opt.nx, opt.ny, opt.nframe)\n",
    "    smooth = (ft - ft.min())/(ft.max() - ft.min()) # smoothly progress from 0. to 1.\n",
    "    \n",
    "    opt = init()\n",
    "    c = Caustique(opt)\n",
    "    c.opt.do_cache = False\n",
    "    i_wave = -1\n",
    "    c.opt.B_sf = B_sf[i_wave]\n",
    "    c.opt.B_theta = B_theta[i_wave]\n",
    "    c.opt.scale = scale[i_wave]\n",
    "    c.opt.seed = opt.seed + N_wave-1\n",
    "    z_update = amplitude[i_wave] * c.wave(do_cache=False)\n",
    "\n",
    "    z = z_update.copy()\n",
    "    z_old = z_update.copy()\n",
    "    \n",
    "    for i_wave in range(N_wave):\n",
    "        opt = init()\n",
    "        c = Caustique(opt)\n",
    "        c.opt.do_cache = False\n",
    "        c.opt.B_sf = B_sf[i_wave]\n",
    "        c.opt.B_theta = B_theta[i_wave]\n",
    "        c.opt.scale = scale[i_wave]\n",
    "        c.opt.seed = opt.seed + i_wave\n",
    "\n",
    "        print(f'chunk {i_wave+1}/{N_wave}\\t {amplitude[i_wave]=:.3f}\\t {c.opt.B_sf=:.3f}\\t {c.opt.B_theta=:.3f}\\t {c.opt.scale=:.3f}\\t {c.opt.seed=}')\n",
    "\n",
    "        z_update = amplitude[i_wave] * c.wave(do_cache=False)\n",
    "\n",
    "        z = np.concatenate((z, (1.-smooth)*z_old+smooth*z_update), axis=-1)\n",
    "        z_old = z_update.copy()\n",
    "        # print(z.shape, z_update.shape)\n",
    "\n",
    "    np.save(filename, z)\n",
    "    del z_old \n",
    "    del z_update\n"
   ]
  },
  {
   "cell_type": "code",
   "execution_count": 29,
   "metadata": {},
   "outputs": [
    {
     "name": "stdout",
     "output_type": "stream",
     "text": [
      "<__main__.Caustique object at 0x131243250>\n"
     ]
    }
   ],
   "source": [
    "print(c)"
   ]
  },
  {
   "cell_type": "code",
   "execution_count": 30,
   "metadata": {},
   "outputs": [
    {
     "data": {
      "text/plain": [
       "((1024, 1024, 2496),\n",
       " np.float64(0.0),\n",
       " np.float64(0.2975648611743208),\n",
       " np.float64(0.9985693475244645))"
      ]
     },
     "execution_count": 30,
     "metadata": {},
     "output_type": "execute_result"
    }
   ],
   "source": [
    "z.shape, z.min(), z.mean(), z.max()"
   ]
  },
  {
   "cell_type": "code",
   "execution_count": 31,
   "metadata": {},
   "outputs": [
    {
     "name": "stdout",
     "output_type": "stream",
     "text": [
      "Variable          Type                   Data/Info\n",
      "--------------------------------------------------\n",
      "CM_BY_INCH        float                  2.54\n",
      "Caustique         type                   <class '__main__.Caustique'>\n",
      "Lambda2color      type                   <class 'lambda2color.Lambda2color'>\n",
      "N_scan            int                    0\n",
      "PRECISION         int                    10\n",
      "SubplotParams     type                   <class 'matplotlib.gridspec.SubplotParams'>\n",
      "ax                Axes                   Axes(0,0;1x1)\n",
      "base              int                    2\n",
      "c                 Caustique              <__main__.Caustique object at 0x131243250>\n",
      "cv2               module                 <module 'cv2' from '/User<...>ackages/cv2/__init__.py'>\n",
      "dataclass         function               <function dataclass at 0x10f70a840>\n",
      "dpi               float                  26.0096\n",
      "fig               Figure                 Figure(3937.01x3937.01)\n",
      "filename          str                    /tmp/2025-10-24_caustique<...>ansition/longue_vague.npy\n",
      "generate_image    function               <function generate_image at 0x1310349a0>\n",
      "get_ipython       function               <function get_ipython at 0x1100dc0e0>\n",
      "hashlib           module                 <module 'hashlib' from '/<...>b/python3.13/hashlib.py'>\n",
      "image             ndarray                1024x1024: 1048576 elems, type `float64`, 8388608 bytes (8.0 Mb)\n",
      "imageio           module                 <module 'imageio' from '/<...>ges/imageio/__init__.py'>\n",
      "init              type                   <class '__main__.init'>\n",
      "ip                ZMQInteractiveShell    <ipykernel.zmqshell.ZMQIn<...>ll object at 0x1115f7380>\n",
      "make_mp4          function               <function make_mp4 at 0x130093740>\n",
      "matplotlib        module                 <module 'matplotlib' from<...>/matplotlib/__init__.py'>\n",
      "mc                module                 <module 'MotionClouds' fr<...>ackages/MotionClouds.py'>\n",
      "np                module                 <module 'numpy' from '/Us<...>kages/numpy/__init__.py'>\n",
      "opt               init                   init(figpath='2025-10-24_<...>alse, do_recompute=False)\n",
      "os                module                 <module 'os' (frozen)>\n",
      "output_filename   str                    2025-10-24_caustique-tran<...>on/caustique_ae47ed71.mp4\n",
      "planck            function               <function planck at 0x1301659e0>\n",
      "plt               module                 <module 'matplotlib.pyplo<...>es/matplotlib/pyplot.py'>\n",
      "pprint            function               <function pprint at 0x10f708c20>\n",
      "scattering        function               <function scattering at 0x130165940>\n",
      "screen_size_cm    int                    100\n",
      "screen_size_in    float                  39.37007874015748\n",
      "shutil            module                 <module 'shutil' from '/u<...>ib/python3.13/shutil.py'>\n",
      "study_name        str                    2025-10-24_caustique-transition\n",
      "subplotpars       SubplotParams          <matplotlib.gridspec.Subp<...>ms object at 0x1300d2270>\n",
      "tqdm              type                   <class 'tqdm.auto.tqdm'>\n",
      "trange            function               <function trange at 0x12dc945e0>\n",
      "variable          str                    zmin\n",
      "xyz_from_xy       function               <function xyz_from_xy at 0x130165a80>\n",
      "z                 ndarray                1024x1024x2496: 2617245696 elems, type `float64`, 20937965568 bytes (19968.0 Mb)\n"
     ]
    }
   ],
   "source": [
    "%whos"
   ]
  },
  {
   "cell_type": "code",
   "execution_count": 32,
   "metadata": {},
   "outputs": [
    {
     "data": {
      "text/html": [
       "<video  loop=\"1\" autoplay=\"1\" controls  src=\"2025-10-24_caustique-transition/longue_vague_afa0abda.mp4\" type=\"video/mp4\" width=1024\\>"
      ],
      "text/plain": [
       "<IPython.core.display.HTML object>"
      ]
     },
     "metadata": {},
     "output_type": "display_data"
    }
   ],
   "source": [
    "output_filename = c.get_filename()\n",
    "if not(os.path.isfile(filename)) or c.opt.do_recompute:\n",
    "    z_q = (z*(2**c.opt.n_bits-1)).astype(c.np_dtype)\n",
    "    print(z_q.shape, z_q.min(), z_q.mean(), z_q.max())\n",
    "    output_filename = make_mp4(output_filename, z_q, fps=opt.fps)\n",
    "    del z_q\n",
    "c.show(output_filename)"
   ]
  },
  {
   "cell_type": "markdown",
   "metadata": {},
   "source": [
    "## la caustique de la longue vague\n"
   ]
  },
  {
   "cell_type": "code",
   "execution_count": null,
   "metadata": {},
   "outputs": [
    {
     "data": {
      "application/vnd.jupyter.widget-view+json": {
       "model_id": "40b93f1c8db1460f8e2e799151a5fd37",
       "version_major": 2,
       "version_minor": 0
      },
      "text/plain": [
       "Scanning time:   0%|          | 0/2496 [00:00<?, ?it/s]"
      ]
     },
     "metadata": {},
     "output_type": "display_data"
    },
    {
     "data": {
      "application/vnd.jupyter.widget-view+json": {
       "model_id": "ae57e4966e5d4a85b572504a0a17b44f",
       "version_major": 2,
       "version_minor": 0
      },
      "text/plain": [
       "Scanning spectrum:   0%|          | 0/20 [00:00<?, ?it/s]"
      ]
     },
     "metadata": {},
     "output_type": "display_data"
    },
    {
     "data": {
      "application/vnd.jupyter.widget-view+json": {
       "model_id": "2fb6696425464fbbad130ec2d070272d",
       "version_major": 2,
       "version_minor": 0
      },
      "text/plain": [
       "Scanning spectrum:   0%|          | 0/20 [00:00<?, ?it/s]"
      ]
     },
     "metadata": {},
     "output_type": "display_data"
    },
    {
     "data": {
      "application/vnd.jupyter.widget-view+json": {
       "model_id": "8b13f6be705e40149924490c5f36ad4d",
       "version_major": 2,
       "version_minor": 0
      },
      "text/plain": [
       "Scanning spectrum:   0%|          | 0/20 [00:00<?, ?it/s]"
      ]
     },
     "metadata": {},
     "output_type": "display_data"
    },
    {
     "data": {
      "application/vnd.jupyter.widget-view+json": {
       "model_id": "e186b19f502346cc944232397320ebcf",
       "version_major": 2,
       "version_minor": 0
      },
      "text/plain": [
       "Scanning spectrum:   0%|          | 0/20 [00:00<?, ?it/s]"
      ]
     },
     "metadata": {},
     "output_type": "display_data"
    },
    {
     "data": {
      "application/vnd.jupyter.widget-view+json": {
       "model_id": "b66d457d5bda4a8499c09002e2608357",
       "version_major": 2,
       "version_minor": 0
      },
      "text/plain": [
       "Scanning spectrum:   0%|          | 0/20 [00:00<?, ?it/s]"
      ]
     },
     "metadata": {},
     "output_type": "display_data"
    },
    {
     "data": {
      "application/vnd.jupyter.widget-view+json": {
       "model_id": "e3004b9c6dc44344b9ff4b755a8d2819",
       "version_major": 2,
       "version_minor": 0
      },
      "text/plain": [
       "Scanning spectrum:   0%|          | 0/20 [00:00<?, ?it/s]"
      ]
     },
     "metadata": {},
     "output_type": "display_data"
    },
    {
     "data": {
      "application/vnd.jupyter.widget-view+json": {
       "model_id": "6fa5ecc3a4a94e2e81e279fa537082a4",
       "version_major": 2,
       "version_minor": 0
      },
      "text/plain": [
       "Scanning spectrum:   0%|          | 0/20 [00:00<?, ?it/s]"
      ]
     },
     "metadata": {},
     "output_type": "display_data"
    },
    {
     "data": {
      "application/vnd.jupyter.widget-view+json": {
       "model_id": "922510c318154d2c892682211a5c659c",
       "version_major": 2,
       "version_minor": 0
      },
      "text/plain": [
       "Scanning spectrum:   0%|          | 0/20 [00:00<?, ?it/s]"
      ]
     },
     "metadata": {},
     "output_type": "display_data"
    },
    {
     "data": {
      "application/vnd.jupyter.widget-view+json": {
       "model_id": "5c84ee87bfb84726bf21cd5553d4b95a",
       "version_major": 2,
       "version_minor": 0
      },
      "text/plain": [
       "Scanning spectrum:   0%|          | 0/20 [00:00<?, ?it/s]"
      ]
     },
     "metadata": {},
     "output_type": "display_data"
    },
    {
     "data": {
      "application/vnd.jupyter.widget-view+json": {
       "model_id": "3e4d74581fe846aba755a567eb49dbe7",
       "version_major": 2,
       "version_minor": 0
      },
      "text/plain": [
       "Scanning spectrum:   0%|          | 0/20 [00:00<?, ?it/s]"
      ]
     },
     "metadata": {},
     "output_type": "display_data"
    },
    {
     "data": {
      "application/vnd.jupyter.widget-view+json": {
       "model_id": "7dd80117964249e3baa53cb5444a7ce2",
       "version_major": 2,
       "version_minor": 0
      },
      "text/plain": [
       "Scanning spectrum:   0%|          | 0/20 [00:00<?, ?it/s]"
      ]
     },
     "metadata": {},
     "output_type": "display_data"
    },
    {
     "data": {
      "application/vnd.jupyter.widget-view+json": {
       "model_id": "62c8400a78db41b4b7c3b968a70d540e",
       "version_major": 2,
       "version_minor": 0
      },
      "text/plain": [
       "Scanning spectrum:   0%|          | 0/20 [00:00<?, ?it/s]"
      ]
     },
     "metadata": {},
     "output_type": "display_data"
    },
    {
     "data": {
      "application/vnd.jupyter.widget-view+json": {
       "model_id": "3bf5428c7eb34184b932fe9ecc361e68",
       "version_major": 2,
       "version_minor": 0
      },
      "text/plain": [
       "Scanning spectrum:   0%|          | 0/20 [00:00<?, ?it/s]"
      ]
     },
     "metadata": {},
     "output_type": "display_data"
    },
    {
     "data": {
      "application/vnd.jupyter.widget-view+json": {
       "model_id": "2bf7bb57b3574726a0bfc1ffe11e7890",
       "version_major": 2,
       "version_minor": 0
      },
      "text/plain": [
       "Scanning spectrum:   0%|          | 0/20 [00:00<?, ?it/s]"
      ]
     },
     "metadata": {},
     "output_type": "display_data"
    },
    {
     "data": {
      "application/vnd.jupyter.widget-view+json": {
       "model_id": "80d6a2ad1eda4f59bfe7b378e05fd8b3",
       "version_major": 2,
       "version_minor": 0
      },
      "text/plain": [
       "Scanning spectrum:   0%|          | 0/20 [00:00<?, ?it/s]"
      ]
     },
     "metadata": {},
     "output_type": "display_data"
    },
    {
     "data": {
      "application/vnd.jupyter.widget-view+json": {
       "model_id": "5674720847b845feb1df963a42a6d52b",
       "version_major": 2,
       "version_minor": 0
      },
      "text/plain": [
       "Scanning spectrum:   0%|          | 0/20 [00:00<?, ?it/s]"
      ]
     },
     "metadata": {},
     "output_type": "display_data"
    },
    {
     "data": {
      "application/vnd.jupyter.widget-view+json": {
       "model_id": "9b7e5875e55b4bc69eaeb36fcddcc962",
       "version_major": 2,
       "version_minor": 0
      },
      "text/plain": [
       "Scanning spectrum:   0%|          | 0/20 [00:00<?, ?it/s]"
      ]
     },
     "metadata": {},
     "output_type": "display_data"
    },
    {
     "data": {
      "application/vnd.jupyter.widget-view+json": {
       "model_id": "d5a61720db6c44079410d8cb5109055c",
       "version_major": 2,
       "version_minor": 0
      },
      "text/plain": [
       "Scanning spectrum:   0%|          | 0/20 [00:00<?, ?it/s]"
      ]
     },
     "metadata": {},
     "output_type": "display_data"
    },
    {
     "data": {
      "application/vnd.jupyter.widget-view+json": {
       "model_id": "ca177dc9099940cc8aabe2bd4e04f080",
       "version_major": 2,
       "version_minor": 0
      },
      "text/plain": [
       "Scanning spectrum:   0%|          | 0/20 [00:00<?, ?it/s]"
      ]
     },
     "metadata": {},
     "output_type": "display_data"
    },
    {
     "data": {
      "application/vnd.jupyter.widget-view+json": {
       "model_id": "a1aca88cbffe4a7a965ea29d6a2c1a56",
       "version_major": 2,
       "version_minor": 0
      },
      "text/plain": [
       "Scanning spectrum:   0%|          | 0/20 [00:00<?, ?it/s]"
      ]
     },
     "metadata": {},
     "output_type": "display_data"
    },
    {
     "data": {
      "application/vnd.jupyter.widget-view+json": {
       "model_id": "53c4ca35d3614623a8d01071688b098b",
       "version_major": 2,
       "version_minor": 0
      },
      "text/plain": [
       "Scanning spectrum:   0%|          | 0/20 [00:00<?, ?it/s]"
      ]
     },
     "metadata": {},
     "output_type": "display_data"
    },
    {
     "data": {
      "application/vnd.jupyter.widget-view+json": {
       "model_id": "03ab6380ab4846469194ca0d024a312c",
       "version_major": 2,
       "version_minor": 0
      },
      "text/plain": [
       "Scanning spectrum:   0%|          | 0/20 [00:00<?, ?it/s]"
      ]
     },
     "metadata": {},
     "output_type": "display_data"
    },
    {
     "data": {
      "application/vnd.jupyter.widget-view+json": {
       "model_id": "2a805e9374e64c6ca7f261878234fd74",
       "version_major": 2,
       "version_minor": 0
      },
      "text/plain": [
       "Scanning spectrum:   0%|          | 0/20 [00:00<?, ?it/s]"
      ]
     },
     "metadata": {},
     "output_type": "display_data"
    },
    {
     "data": {
      "application/vnd.jupyter.widget-view+json": {
       "model_id": "38c4ce8c887447b69c2de34a90d0d62b",
       "version_major": 2,
       "version_minor": 0
      },
      "text/plain": [
       "Scanning spectrum:   0%|          | 0/20 [00:00<?, ?it/s]"
      ]
     },
     "metadata": {},
     "output_type": "display_data"
    },
    {
     "data": {
      "application/vnd.jupyter.widget-view+json": {
       "model_id": "a31c83d1c6bb478bbadcbf2f062f2e42",
       "version_major": 2,
       "version_minor": 0
      },
      "text/plain": [
       "Scanning spectrum:   0%|          | 0/20 [00:00<?, ?it/s]"
      ]
     },
     "metadata": {},
     "output_type": "display_data"
    },
    {
     "data": {
      "application/vnd.jupyter.widget-view+json": {
       "model_id": "1349e585df4b41debc5b0b6bf2dfae7b",
       "version_major": 2,
       "version_minor": 0
      },
      "text/plain": [
       "Scanning spectrum:   0%|          | 0/20 [00:00<?, ?it/s]"
      ]
     },
     "metadata": {},
     "output_type": "display_data"
    },
    {
     "data": {
      "application/vnd.jupyter.widget-view+json": {
       "model_id": "490d8382dc6c4bf68078d77720169e3c",
       "version_major": 2,
       "version_minor": 0
      },
      "text/plain": [
       "Scanning spectrum:   0%|          | 0/20 [00:00<?, ?it/s]"
      ]
     },
     "metadata": {},
     "output_type": "display_data"
    },
    {
     "data": {
      "application/vnd.jupyter.widget-view+json": {
       "model_id": "5e82197500b948afa769326eaabe9494",
       "version_major": 2,
       "version_minor": 0
      },
      "text/plain": [
       "Scanning spectrum:   0%|          | 0/20 [00:00<?, ?it/s]"
      ]
     },
     "metadata": {},
     "output_type": "display_data"
    },
    {
     "data": {
      "application/vnd.jupyter.widget-view+json": {
       "model_id": "d89b3f7c9c2f426f80f1b5f4998946ed",
       "version_major": 2,
       "version_minor": 0
      },
      "text/plain": [
       "Scanning spectrum:   0%|          | 0/20 [00:00<?, ?it/s]"
      ]
     },
     "metadata": {},
     "output_type": "display_data"
    },
    {
     "data": {
      "application/vnd.jupyter.widget-view+json": {
       "model_id": "48bf4cb990ee44d895dcccc28c090d52",
       "version_major": 2,
       "version_minor": 0
      },
      "text/plain": [
       "Scanning spectrum:   0%|          | 0/20 [00:00<?, ?it/s]"
      ]
     },
     "metadata": {},
     "output_type": "display_data"
    },
    {
     "data": {
      "application/vnd.jupyter.widget-view+json": {
       "model_id": "fe914e58460145ee90d23f6b92b3fa12",
       "version_major": 2,
       "version_minor": 0
      },
      "text/plain": [
       "Scanning spectrum:   0%|          | 0/20 [00:00<?, ?it/s]"
      ]
     },
     "metadata": {},
     "output_type": "display_data"
    },
    {
     "data": {
      "application/vnd.jupyter.widget-view+json": {
       "model_id": "c1dd52acce9b483ca311e50a15e3b51a",
       "version_major": 2,
       "version_minor": 0
      },
      "text/plain": [
       "Scanning spectrum:   0%|          | 0/20 [00:00<?, ?it/s]"
      ]
     },
     "metadata": {},
     "output_type": "display_data"
    },
    {
     "data": {
      "application/vnd.jupyter.widget-view+json": {
       "model_id": "26a6a2f346064fbea455dfae0e94f79a",
       "version_major": 2,
       "version_minor": 0
      },
      "text/plain": [
       "Scanning spectrum:   0%|          | 0/20 [00:00<?, ?it/s]"
      ]
     },
     "metadata": {},
     "output_type": "display_data"
    },
    {
     "data": {
      "application/vnd.jupyter.widget-view+json": {
       "model_id": "53fcd5349c204eb2bbd4173b9eff9e5f",
       "version_major": 2,
       "version_minor": 0
      },
      "text/plain": [
       "Scanning spectrum:   0%|          | 0/20 [00:00<?, ?it/s]"
      ]
     },
     "metadata": {},
     "output_type": "display_data"
    },
    {
     "data": {
      "application/vnd.jupyter.widget-view+json": {
       "model_id": "dac521a9130f4c22848db04aeaef3bf1",
       "version_major": 2,
       "version_minor": 0
      },
      "text/plain": [
       "Scanning spectrum:   0%|          | 0/20 [00:00<?, ?it/s]"
      ]
     },
     "metadata": {},
     "output_type": "display_data"
    },
    {
     "data": {
      "application/vnd.jupyter.widget-view+json": {
       "model_id": "1c0cb415960543d1ac631ede85abbfcb",
       "version_major": 2,
       "version_minor": 0
      },
      "text/plain": [
       "Scanning spectrum:   0%|          | 0/20 [00:00<?, ?it/s]"
      ]
     },
     "metadata": {},
     "output_type": "display_data"
    },
    {
     "data": {
      "application/vnd.jupyter.widget-view+json": {
       "model_id": "1735c8ef77204aa4bd1982bad7e20c07",
       "version_major": 2,
       "version_minor": 0
      },
      "text/plain": [
       "Scanning spectrum:   0%|          | 0/20 [00:00<?, ?it/s]"
      ]
     },
     "metadata": {},
     "output_type": "display_data"
    },
    {
     "data": {
      "application/vnd.jupyter.widget-view+json": {
       "model_id": "f6c0f0c4135443ea8b9015596d239e03",
       "version_major": 2,
       "version_minor": 0
      },
      "text/plain": [
       "Scanning spectrum:   0%|          | 0/20 [00:00<?, ?it/s]"
      ]
     },
     "metadata": {},
     "output_type": "display_data"
    },
    {
     "data": {
      "application/vnd.jupyter.widget-view+json": {
       "model_id": "c76ec1e6a4544ee78b2c436aa484f4f7",
       "version_major": 2,
       "version_minor": 0
      },
      "text/plain": [
       "Scanning spectrum:   0%|          | 0/20 [00:00<?, ?it/s]"
      ]
     },
     "metadata": {},
     "output_type": "display_data"
    },
    {
     "data": {
      "application/vnd.jupyter.widget-view+json": {
       "model_id": "d54c3d2a078a4c07adbf461f2747276c",
       "version_major": 2,
       "version_minor": 0
      },
      "text/plain": [
       "Scanning spectrum:   0%|          | 0/20 [00:00<?, ?it/s]"
      ]
     },
     "metadata": {},
     "output_type": "display_data"
    },
    {
     "data": {
      "application/vnd.jupyter.widget-view+json": {
       "model_id": "fc8642edba8a4da693e511af38f47dad",
       "version_major": 2,
       "version_minor": 0
      },
      "text/plain": [
       "Scanning spectrum:   0%|          | 0/20 [00:00<?, ?it/s]"
      ]
     },
     "metadata": {},
     "output_type": "display_data"
    },
    {
     "data": {
      "application/vnd.jupyter.widget-view+json": {
       "model_id": "6a717e86980f4562bd4f3a317a98a031",
       "version_major": 2,
       "version_minor": 0
      },
      "text/plain": [
       "Scanning spectrum:   0%|          | 0/20 [00:00<?, ?it/s]"
      ]
     },
     "metadata": {},
     "output_type": "display_data"
    },
    {
     "data": {
      "application/vnd.jupyter.widget-view+json": {
       "model_id": "d3ea5e5fea034a5794a2492572ae0867",
       "version_major": 2,
       "version_minor": 0
      },
      "text/plain": [
       "Scanning spectrum:   0%|          | 0/20 [00:00<?, ?it/s]"
      ]
     },
     "metadata": {},
     "output_type": "display_data"
    },
    {
     "data": {
      "application/vnd.jupyter.widget-view+json": {
       "model_id": "0663d88ffcaa4231b1d3d44cd279b07b",
       "version_major": 2,
       "version_minor": 0
      },
      "text/plain": [
       "Scanning spectrum:   0%|          | 0/20 [00:00<?, ?it/s]"
      ]
     },
     "metadata": {},
     "output_type": "display_data"
    },
    {
     "data": {
      "application/vnd.jupyter.widget-view+json": {
       "model_id": "e508e7a5dd23470dbce1c7589301fff8",
       "version_major": 2,
       "version_minor": 0
      },
      "text/plain": [
       "Scanning spectrum:   0%|          | 0/20 [00:00<?, ?it/s]"
      ]
     },
     "metadata": {},
     "output_type": "display_data"
    },
    {
     "data": {
      "application/vnd.jupyter.widget-view+json": {
       "model_id": "10b289c635974948b5f2f5353b90e761",
       "version_major": 2,
       "version_minor": 0
      },
      "text/plain": [
       "Scanning spectrum:   0%|          | 0/20 [00:00<?, ?it/s]"
      ]
     },
     "metadata": {},
     "output_type": "display_data"
    },
    {
     "data": {
      "application/vnd.jupyter.widget-view+json": {
       "model_id": "94ef8884fb244a86bbd7c97962d53430",
       "version_major": 2,
       "version_minor": 0
      },
      "text/plain": [
       "Scanning spectrum:   0%|          | 0/20 [00:00<?, ?it/s]"
      ]
     },
     "metadata": {},
     "output_type": "display_data"
    },
    {
     "data": {
      "application/vnd.jupyter.widget-view+json": {
       "model_id": "b1ade4f533b545908e2cd43cb54a4593",
       "version_major": 2,
       "version_minor": 0
      },
      "text/plain": [
       "Scanning spectrum:   0%|          | 0/20 [00:00<?, ?it/s]"
      ]
     },
     "metadata": {},
     "output_type": "display_data"
    },
    {
     "data": {
      "application/vnd.jupyter.widget-view+json": {
       "model_id": "995a2e0075ad43be9ddfbdec54bfb1b9",
       "version_major": 2,
       "version_minor": 0
      },
      "text/plain": [
       "Scanning spectrum:   0%|          | 0/20 [00:00<?, ?it/s]"
      ]
     },
     "metadata": {},
     "output_type": "display_data"
    },
    {
     "data": {
      "application/vnd.jupyter.widget-view+json": {
       "model_id": "320aaee5942d48a699d0705f1aef22c4",
       "version_major": 2,
       "version_minor": 0
      },
      "text/plain": [
       "Scanning spectrum:   0%|          | 0/20 [00:00<?, ?it/s]"
      ]
     },
     "metadata": {},
     "output_type": "display_data"
    },
    {
     "data": {
      "application/vnd.jupyter.widget-view+json": {
       "model_id": "743c1bf05f3b48779f3aef3d19ee2c1d",
       "version_major": 2,
       "version_minor": 0
      },
      "text/plain": [
       "Scanning spectrum:   0%|          | 0/20 [00:00<?, ?it/s]"
      ]
     },
     "metadata": {},
     "output_type": "display_data"
    },
    {
     "data": {
      "application/vnd.jupyter.widget-view+json": {
       "model_id": "62ca526f4b5a4a9c8d2056beab07ceee",
       "version_major": 2,
       "version_minor": 0
      },
      "text/plain": [
       "Scanning spectrum:   0%|          | 0/20 [00:00<?, ?it/s]"
      ]
     },
     "metadata": {},
     "output_type": "display_data"
    },
    {
     "data": {
      "application/vnd.jupyter.widget-view+json": {
       "model_id": "2f5dd5446c4242dc8d17d3207c0d778d",
       "version_major": 2,
       "version_minor": 0
      },
      "text/plain": [
       "Scanning spectrum:   0%|          | 0/20 [00:00<?, ?it/s]"
      ]
     },
     "metadata": {},
     "output_type": "display_data"
    },
    {
     "data": {
      "application/vnd.jupyter.widget-view+json": {
       "model_id": "e70c4783fdad4366867f9461391ea54f",
       "version_major": 2,
       "version_minor": 0
      },
      "text/plain": [
       "Scanning spectrum:   0%|          | 0/20 [00:00<?, ?it/s]"
      ]
     },
     "metadata": {},
     "output_type": "display_data"
    },
    {
     "data": {
      "application/vnd.jupyter.widget-view+json": {
       "model_id": "9394e3f11daa4edf9c8daa4942f9bd0c",
       "version_major": 2,
       "version_minor": 0
      },
      "text/plain": [
       "Scanning spectrum:   0%|          | 0/20 [00:00<?, ?it/s]"
      ]
     },
     "metadata": {},
     "output_type": "display_data"
    },
    {
     "data": {
      "application/vnd.jupyter.widget-view+json": {
       "model_id": "221a1fed5c5c4bb58e74ea6441309530",
       "version_major": 2,
       "version_minor": 0
      },
      "text/plain": [
       "Scanning spectrum:   0%|          | 0/20 [00:00<?, ?it/s]"
      ]
     },
     "metadata": {},
     "output_type": "display_data"
    },
    {
     "data": {
      "application/vnd.jupyter.widget-view+json": {
       "model_id": "8f4a3a5bcf284567947b149ae3211dcf",
       "version_major": 2,
       "version_minor": 0
      },
      "text/plain": [
       "Scanning spectrum:   0%|          | 0/20 [00:00<?, ?it/s]"
      ]
     },
     "metadata": {},
     "output_type": "display_data"
    },
    {
     "data": {
      "application/vnd.jupyter.widget-view+json": {
       "model_id": "2472a21b206943cfb6c8282033ac820b",
       "version_major": 2,
       "version_minor": 0
      },
      "text/plain": [
       "Scanning spectrum:   0%|          | 0/20 [00:00<?, ?it/s]"
      ]
     },
     "metadata": {},
     "output_type": "display_data"
    },
    {
     "data": {
      "application/vnd.jupyter.widget-view+json": {
       "model_id": "932c7a425e014fef9d73ee93e3780c23",
       "version_major": 2,
       "version_minor": 0
      },
      "text/plain": [
       "Scanning spectrum:   0%|          | 0/20 [00:00<?, ?it/s]"
      ]
     },
     "metadata": {},
     "output_type": "display_data"
    },
    {
     "data": {
      "application/vnd.jupyter.widget-view+json": {
       "model_id": "4a70397666a44fa48d1c6fe8bf93b42b",
       "version_major": 2,
       "version_minor": 0
      },
      "text/plain": [
       "Scanning spectrum:   0%|          | 0/20 [00:00<?, ?it/s]"
      ]
     },
     "metadata": {},
     "output_type": "display_data"
    },
    {
     "data": {
      "application/vnd.jupyter.widget-view+json": {
       "model_id": "eb554c43ae094ab39f76cd451fb7d455",
       "version_major": 2,
       "version_minor": 0
      },
      "text/plain": [
       "Scanning spectrum:   0%|          | 0/20 [00:00<?, ?it/s]"
      ]
     },
     "metadata": {},
     "output_type": "display_data"
    },
    {
     "data": {
      "application/vnd.jupyter.widget-view+json": {
       "model_id": "f2e0f198cf334e2293ec7a7b9d2a8c81",
       "version_major": 2,
       "version_minor": 0
      },
      "text/plain": [
       "Scanning spectrum:   0%|          | 0/20 [00:00<?, ?it/s]"
      ]
     },
     "metadata": {},
     "output_type": "display_data"
    },
    {
     "data": {
      "application/vnd.jupyter.widget-view+json": {
       "model_id": "24f441a54212414596941116bf0e18e3",
       "version_major": 2,
       "version_minor": 0
      },
      "text/plain": [
       "Scanning spectrum:   0%|          | 0/20 [00:00<?, ?it/s]"
      ]
     },
     "metadata": {},
     "output_type": "display_data"
    },
    {
     "data": {
      "application/vnd.jupyter.widget-view+json": {
       "model_id": "20ac0053d5324efbaf1a8562e7b741ba",
       "version_major": 2,
       "version_minor": 0
      },
      "text/plain": [
       "Scanning spectrum:   0%|          | 0/20 [00:00<?, ?it/s]"
      ]
     },
     "metadata": {},
     "output_type": "display_data"
    },
    {
     "data": {
      "application/vnd.jupyter.widget-view+json": {
       "model_id": "9016936d566743b3bb4f7af1cfe4ab46",
       "version_major": 2,
       "version_minor": 0
      },
      "text/plain": [
       "Scanning spectrum:   0%|          | 0/20 [00:00<?, ?it/s]"
      ]
     },
     "metadata": {},
     "output_type": "display_data"
    },
    {
     "data": {
      "application/vnd.jupyter.widget-view+json": {
       "model_id": "1f35c257fba044b8bd33f4d947369339",
       "version_major": 2,
       "version_minor": 0
      },
      "text/plain": [
       "Scanning spectrum:   0%|          | 0/20 [00:00<?, ?it/s]"
      ]
     },
     "metadata": {},
     "output_type": "display_data"
    },
    {
     "data": {
      "application/vnd.jupyter.widget-view+json": {
       "model_id": "4c9edbff5e724c4b88043d52e633b36a",
       "version_major": 2,
       "version_minor": 0
      },
      "text/plain": [
       "Scanning spectrum:   0%|          | 0/20 [00:00<?, ?it/s]"
      ]
     },
     "metadata": {},
     "output_type": "display_data"
    },
    {
     "data": {
      "application/vnd.jupyter.widget-view+json": {
       "model_id": "49d5df41344246aab379c6b22ee2b0cb",
       "version_major": 2,
       "version_minor": 0
      },
      "text/plain": [
       "Scanning spectrum:   0%|          | 0/20 [00:00<?, ?it/s]"
      ]
     },
     "metadata": {},
     "output_type": "display_data"
    },
    {
     "data": {
      "application/vnd.jupyter.widget-view+json": {
       "model_id": "3675654ccda44568af94df047b60d83b",
       "version_major": 2,
       "version_minor": 0
      },
      "text/plain": [
       "Scanning spectrum:   0%|          | 0/20 [00:00<?, ?it/s]"
      ]
     },
     "metadata": {},
     "output_type": "display_data"
    },
    {
     "data": {
      "application/vnd.jupyter.widget-view+json": {
       "model_id": "482d2d8febb9431b910f71568d99651f",
       "version_major": 2,
       "version_minor": 0
      },
      "text/plain": [
       "Scanning spectrum:   0%|          | 0/20 [00:00<?, ?it/s]"
      ]
     },
     "metadata": {},
     "output_type": "display_data"
    },
    {
     "data": {
      "application/vnd.jupyter.widget-view+json": {
       "model_id": "c92de0dbe27440ffa196a2f5f388fcb4",
       "version_major": 2,
       "version_minor": 0
      },
      "text/plain": [
       "Scanning spectrum:   0%|          | 0/20 [00:00<?, ?it/s]"
      ]
     },
     "metadata": {},
     "output_type": "display_data"
    },
    {
     "data": {
      "application/vnd.jupyter.widget-view+json": {
       "model_id": "df5792e2d66d4149857292b147f74b6f",
       "version_major": 2,
       "version_minor": 0
      },
      "text/plain": [
       "Scanning spectrum:   0%|          | 0/20 [00:00<?, ?it/s]"
      ]
     },
     "metadata": {},
     "output_type": "display_data"
    },
    {
     "data": {
      "application/vnd.jupyter.widget-view+json": {
       "model_id": "3fd8cb3c5c254538895c8414a750649d",
       "version_major": 2,
       "version_minor": 0
      },
      "text/plain": [
       "Scanning spectrum:   0%|          | 0/20 [00:00<?, ?it/s]"
      ]
     },
     "metadata": {},
     "output_type": "display_data"
    },
    {
     "data": {
      "application/vnd.jupyter.widget-view+json": {
       "model_id": "d8f2f90ddfed4211b754382eb5686175",
       "version_major": 2,
       "version_minor": 0
      },
      "text/plain": [
       "Scanning spectrum:   0%|          | 0/20 [00:00<?, ?it/s]"
      ]
     },
     "metadata": {},
     "output_type": "display_data"
    },
    {
     "data": {
      "application/vnd.jupyter.widget-view+json": {
       "model_id": "fc8aab1e6c24452fa1bb8229d0c75192",
       "version_major": 2,
       "version_minor": 0
      },
      "text/plain": [
       "Scanning spectrum:   0%|          | 0/20 [00:00<?, ?it/s]"
      ]
     },
     "metadata": {},
     "output_type": "display_data"
    },
    {
     "data": {
      "application/vnd.jupyter.widget-view+json": {
       "model_id": "02dfedd1656449d5bd9c041007f7c8cd",
       "version_major": 2,
       "version_minor": 0
      },
      "text/plain": [
       "Scanning spectrum:   0%|          | 0/20 [00:00<?, ?it/s]"
      ]
     },
     "metadata": {},
     "output_type": "display_data"
    },
    {
     "data": {
      "application/vnd.jupyter.widget-view+json": {
       "model_id": "a9363a742e9b4b72a1886e48987ea154",
       "version_major": 2,
       "version_minor": 0
      },
      "text/plain": [
       "Scanning spectrum:   0%|          | 0/20 [00:00<?, ?it/s]"
      ]
     },
     "metadata": {},
     "output_type": "display_data"
    },
    {
     "data": {
      "application/vnd.jupyter.widget-view+json": {
       "model_id": "c73171204be641fe932858be00d66b7c",
       "version_major": 2,
       "version_minor": 0
      },
      "text/plain": [
       "Scanning spectrum:   0%|          | 0/20 [00:00<?, ?it/s]"
      ]
     },
     "metadata": {},
     "output_type": "display_data"
    },
    {
     "data": {
      "application/vnd.jupyter.widget-view+json": {
       "model_id": "fd589171c7904b76b643b13274bc8162",
       "version_major": 2,
       "version_minor": 0
      },
      "text/plain": [
       "Scanning spectrum:   0%|          | 0/20 [00:00<?, ?it/s]"
      ]
     },
     "metadata": {},
     "output_type": "display_data"
    },
    {
     "data": {
      "application/vnd.jupyter.widget-view+json": {
       "model_id": "409e7245bdb345199ef7762d0208d0e2",
       "version_major": 2,
       "version_minor": 0
      },
      "text/plain": [
       "Scanning spectrum:   0%|          | 0/20 [00:00<?, ?it/s]"
      ]
     },
     "metadata": {},
     "output_type": "display_data"
    },
    {
     "data": {
      "application/vnd.jupyter.widget-view+json": {
       "model_id": "909ca8bc034a4450b21ea68e33901db5",
       "version_major": 2,
       "version_minor": 0
      },
      "text/plain": [
       "Scanning spectrum:   0%|          | 0/20 [00:00<?, ?it/s]"
      ]
     },
     "metadata": {},
     "output_type": "display_data"
    },
    {
     "data": {
      "application/vnd.jupyter.widget-view+json": {
       "model_id": "2a455a8405fa4ccd83051e30c3d9a8a2",
       "version_major": 2,
       "version_minor": 0
      },
      "text/plain": [
       "Scanning spectrum:   0%|          | 0/20 [00:00<?, ?it/s]"
      ]
     },
     "metadata": {},
     "output_type": "display_data"
    },
    {
     "data": {
      "application/vnd.jupyter.widget-view+json": {
       "model_id": "8f0d935bb85d478a9f96bd90bae00ec0",
       "version_major": 2,
       "version_minor": 0
      },
      "text/plain": [
       "Scanning spectrum:   0%|          | 0/20 [00:00<?, ?it/s]"
      ]
     },
     "metadata": {},
     "output_type": "display_data"
    },
    {
     "data": {
      "application/vnd.jupyter.widget-view+json": {
       "model_id": "f2ca68dc4deb4ff48bd8f079f7946e83",
       "version_major": 2,
       "version_minor": 0
      },
      "text/plain": [
       "Scanning spectrum:   0%|          | 0/20 [00:00<?, ?it/s]"
      ]
     },
     "metadata": {},
     "output_type": "display_data"
    },
    {
     "data": {
      "application/vnd.jupyter.widget-view+json": {
       "model_id": "dd8dfb3c9074421e8abeea9ae17fc7a5",
       "version_major": 2,
       "version_minor": 0
      },
      "text/plain": [
       "Scanning spectrum:   0%|          | 0/20 [00:00<?, ?it/s]"
      ]
     },
     "metadata": {},
     "output_type": "display_data"
    },
    {
     "data": {
      "application/vnd.jupyter.widget-view+json": {
       "model_id": "87766c0091bc46fe82cae9289d6e76a0",
       "version_major": 2,
       "version_minor": 0
      },
      "text/plain": [
       "Scanning spectrum:   0%|          | 0/20 [00:00<?, ?it/s]"
      ]
     },
     "metadata": {},
     "output_type": "display_data"
    },
    {
     "data": {
      "application/vnd.jupyter.widget-view+json": {
       "model_id": "5f402aa6f7fa4ec6863a4edaa50c1097",
       "version_major": 2,
       "version_minor": 0
      },
      "text/plain": [
       "Scanning spectrum:   0%|          | 0/20 [00:00<?, ?it/s]"
      ]
     },
     "metadata": {},
     "output_type": "display_data"
    },
    {
     "data": {
      "application/vnd.jupyter.widget-view+json": {
       "model_id": "1b98e1ebf2d5436d8ff6572158c8085f",
       "version_major": 2,
       "version_minor": 0
      },
      "text/plain": [
       "Scanning spectrum:   0%|          | 0/20 [00:00<?, ?it/s]"
      ]
     },
     "metadata": {},
     "output_type": "display_data"
    },
    {
     "data": {
      "application/vnd.jupyter.widget-view+json": {
       "model_id": "cc4791e97b714d14b46bf7b95a6d0908",
       "version_major": 2,
       "version_minor": 0
      },
      "text/plain": [
       "Scanning spectrum:   0%|          | 0/20 [00:00<?, ?it/s]"
      ]
     },
     "metadata": {},
     "output_type": "display_data"
    },
    {
     "data": {
      "application/vnd.jupyter.widget-view+json": {
       "model_id": "edaf19f97c4a421f9c6251bac1cc0f5d",
       "version_major": 2,
       "version_minor": 0
      },
      "text/plain": [
       "Scanning spectrum:   0%|          | 0/20 [00:00<?, ?it/s]"
      ]
     },
     "metadata": {},
     "output_type": "display_data"
    },
    {
     "data": {
      "application/vnd.jupyter.widget-view+json": {
       "model_id": "d0b42d8fff1d42d3bb2e98bcbcf627d0",
       "version_major": 2,
       "version_minor": 0
      },
      "text/plain": [
       "Scanning spectrum:   0%|          | 0/20 [00:00<?, ?it/s]"
      ]
     },
     "metadata": {},
     "output_type": "display_data"
    },
    {
     "data": {
      "application/vnd.jupyter.widget-view+json": {
       "model_id": "1648921a834a49eea841a996925fe6bd",
       "version_major": 2,
       "version_minor": 0
      },
      "text/plain": [
       "Scanning spectrum:   0%|          | 0/20 [00:00<?, ?it/s]"
      ]
     },
     "metadata": {},
     "output_type": "display_data"
    },
    {
     "data": {
      "application/vnd.jupyter.widget-view+json": {
       "model_id": "6d0b40c70e1143a8a7eea0c214e27025",
       "version_major": 2,
       "version_minor": 0
      },
      "text/plain": [
       "Scanning spectrum:   0%|          | 0/20 [00:00<?, ?it/s]"
      ]
     },
     "metadata": {},
     "output_type": "display_data"
    },
    {
     "data": {
      "application/vnd.jupyter.widget-view+json": {
       "model_id": "9e39e6fd36ae426d908ec71dcbb3013d",
       "version_major": 2,
       "version_minor": 0
      },
      "text/plain": [
       "Scanning spectrum:   0%|          | 0/20 [00:00<?, ?it/s]"
      ]
     },
     "metadata": {},
     "output_type": "display_data"
    },
    {
     "data": {
      "application/vnd.jupyter.widget-view+json": {
       "model_id": "13187c10e72249a6823833b857f73ac6",
       "version_major": 2,
       "version_minor": 0
      },
      "text/plain": [
       "Scanning spectrum:   0%|          | 0/20 [00:00<?, ?it/s]"
      ]
     },
     "metadata": {},
     "output_type": "display_data"
    },
    {
     "data": {
      "application/vnd.jupyter.widget-view+json": {
       "model_id": "3d198c3268ce4580bec8212f7596da87",
       "version_major": 2,
       "version_minor": 0
      },
      "text/plain": [
       "Scanning spectrum:   0%|          | 0/20 [00:00<?, ?it/s]"
      ]
     },
     "metadata": {},
     "output_type": "display_data"
    },
    {
     "data": {
      "application/vnd.jupyter.widget-view+json": {
       "model_id": "a0fc85914a764f1da11fe547f8f135db",
       "version_major": 2,
       "version_minor": 0
      },
      "text/plain": [
       "Scanning spectrum:   0%|          | 0/20 [00:00<?, ?it/s]"
      ]
     },
     "metadata": {},
     "output_type": "display_data"
    },
    {
     "data": {
      "application/vnd.jupyter.widget-view+json": {
       "model_id": "f0d7fc8c96194119ac9c12681f2c3332",
       "version_major": 2,
       "version_minor": 0
      },
      "text/plain": [
       "Scanning spectrum:   0%|          | 0/20 [00:00<?, ?it/s]"
      ]
     },
     "metadata": {},
     "output_type": "display_data"
    },
    {
     "data": {
      "application/vnd.jupyter.widget-view+json": {
       "model_id": "c9bc1e0f809642afa104be9f25751ec5",
       "version_major": 2,
       "version_minor": 0
      },
      "text/plain": [
       "Scanning spectrum:   0%|          | 0/20 [00:00<?, ?it/s]"
      ]
     },
     "metadata": {},
     "output_type": "display_data"
    },
    {
     "data": {
      "application/vnd.jupyter.widget-view+json": {
       "model_id": "978844916184491f923c6bccd6ea41cd",
       "version_major": 2,
       "version_minor": 0
      },
      "text/plain": [
       "Scanning spectrum:   0%|          | 0/20 [00:00<?, ?it/s]"
      ]
     },
     "metadata": {},
     "output_type": "display_data"
    },
    {
     "data": {
      "application/vnd.jupyter.widget-view+json": {
       "model_id": "616614b89913427dbcbdc29b4e9760e8",
       "version_major": 2,
       "version_minor": 0
      },
      "text/plain": [
       "Scanning spectrum:   0%|          | 0/20 [00:00<?, ?it/s]"
      ]
     },
     "metadata": {},
     "output_type": "display_data"
    },
    {
     "data": {
      "application/vnd.jupyter.widget-view+json": {
       "model_id": "3719be874881411cb3c7dae92bd57d42",
       "version_major": 2,
       "version_minor": 0
      },
      "text/plain": [
       "Scanning spectrum:   0%|          | 0/20 [00:00<?, ?it/s]"
      ]
     },
     "metadata": {},
     "output_type": "display_data"
    },
    {
     "data": {
      "application/vnd.jupyter.widget-view+json": {
       "model_id": "2677723482e748f1a364e724cacc9b9a",
       "version_major": 2,
       "version_minor": 0
      },
      "text/plain": [
       "Scanning spectrum:   0%|          | 0/20 [00:00<?, ?it/s]"
      ]
     },
     "metadata": {},
     "output_type": "display_data"
    },
    {
     "data": {
      "application/vnd.jupyter.widget-view+json": {
       "model_id": "a42e8f68848941d3970ce590fe45d726",
       "version_major": 2,
       "version_minor": 0
      },
      "text/plain": [
       "Scanning spectrum:   0%|          | 0/20 [00:00<?, ?it/s]"
      ]
     },
     "metadata": {},
     "output_type": "display_data"
    },
    {
     "data": {
      "application/vnd.jupyter.widget-view+json": {
       "model_id": "da3df64aa3fe43fea0bb08ea3243a6ca",
       "version_major": 2,
       "version_minor": 0
      },
      "text/plain": [
       "Scanning spectrum:   0%|          | 0/20 [00:00<?, ?it/s]"
      ]
     },
     "metadata": {},
     "output_type": "display_data"
    },
    {
     "data": {
      "application/vnd.jupyter.widget-view+json": {
       "model_id": "ddd95f4257724ee0a03435134d586e70",
       "version_major": 2,
       "version_minor": 0
      },
      "text/plain": [
       "Scanning spectrum:   0%|          | 0/20 [00:00<?, ?it/s]"
      ]
     },
     "metadata": {},
     "output_type": "display_data"
    },
    {
     "data": {
      "application/vnd.jupyter.widget-view+json": {
       "model_id": "bad05ffb09734c6a888ed4bfe8c45144",
       "version_major": 2,
       "version_minor": 0
      },
      "text/plain": [
       "Scanning spectrum:   0%|          | 0/20 [00:00<?, ?it/s]"
      ]
     },
     "metadata": {},
     "output_type": "display_data"
    },
    {
     "data": {
      "application/vnd.jupyter.widget-view+json": {
       "model_id": "7602d771cf5e4995b30ca317eeed1c68",
       "version_major": 2,
       "version_minor": 0
      },
      "text/plain": [
       "Scanning spectrum:   0%|          | 0/20 [00:00<?, ?it/s]"
      ]
     },
     "metadata": {},
     "output_type": "display_data"
    },
    {
     "data": {
      "application/vnd.jupyter.widget-view+json": {
       "model_id": "eb0b6dc3f772476db3bb0442562e26c0",
       "version_major": 2,
       "version_minor": 0
      },
      "text/plain": [
       "Scanning spectrum:   0%|          | 0/20 [00:00<?, ?it/s]"
      ]
     },
     "metadata": {},
     "output_type": "display_data"
    },
    {
     "data": {
      "application/vnd.jupyter.widget-view+json": {
       "model_id": "4889889bfefa4bd988fd8c8f99a3da9b",
       "version_major": 2,
       "version_minor": 0
      },
      "text/plain": [
       "Scanning spectrum:   0%|          | 0/20 [00:00<?, ?it/s]"
      ]
     },
     "metadata": {},
     "output_type": "display_data"
    },
    {
     "data": {
      "application/vnd.jupyter.widget-view+json": {
       "model_id": "822731f0226846ce98a8990b06b1d4dd",
       "version_major": 2,
       "version_minor": 0
      },
      "text/plain": [
       "Scanning spectrum:   0%|          | 0/20 [00:00<?, ?it/s]"
      ]
     },
     "metadata": {},
     "output_type": "display_data"
    },
    {
     "data": {
      "application/vnd.jupyter.widget-view+json": {
       "model_id": "7dce2e5991664081a04c263de9d3b866",
       "version_major": 2,
       "version_minor": 0
      },
      "text/plain": [
       "Scanning spectrum:   0%|          | 0/20 [00:00<?, ?it/s]"
      ]
     },
     "metadata": {},
     "output_type": "display_data"
    },
    {
     "data": {
      "application/vnd.jupyter.widget-view+json": {
       "model_id": "15ed667fb1f245ffa25e41af535a9773",
       "version_major": 2,
       "version_minor": 0
      },
      "text/plain": [
       "Scanning spectrum:   0%|          | 0/20 [00:00<?, ?it/s]"
      ]
     },
     "metadata": {},
     "output_type": "display_data"
    },
    {
     "data": {
      "application/vnd.jupyter.widget-view+json": {
       "model_id": "70e28c9b50064a5995f13b8f3a3d09f1",
       "version_major": 2,
       "version_minor": 0
      },
      "text/plain": [
       "Scanning spectrum:   0%|          | 0/20 [00:00<?, ?it/s]"
      ]
     },
     "metadata": {},
     "output_type": "display_data"
    },
    {
     "data": {
      "application/vnd.jupyter.widget-view+json": {
       "model_id": "f276cebba9d4470aa7df3a09736c45bf",
       "version_major": 2,
       "version_minor": 0
      },
      "text/plain": [
       "Scanning spectrum:   0%|          | 0/20 [00:00<?, ?it/s]"
      ]
     },
     "metadata": {},
     "output_type": "display_data"
    },
    {
     "data": {
      "application/vnd.jupyter.widget-view+json": {
       "model_id": "274953c93df24f5297d2ca2533671320",
       "version_major": 2,
       "version_minor": 0
      },
      "text/plain": [
       "Scanning spectrum:   0%|          | 0/20 [00:00<?, ?it/s]"
      ]
     },
     "metadata": {},
     "output_type": "display_data"
    },
    {
     "data": {
      "application/vnd.jupyter.widget-view+json": {
       "model_id": "f1d7868b9a804c038d0db8b765f0176e",
       "version_major": 2,
       "version_minor": 0
      },
      "text/plain": [
       "Scanning spectrum:   0%|          | 0/20 [00:00<?, ?it/s]"
      ]
     },
     "metadata": {},
     "output_type": "display_data"
    },
    {
     "data": {
      "application/vnd.jupyter.widget-view+json": {
       "model_id": "2d6de8b33eec49e899c83a3a271a40db",
       "version_major": 2,
       "version_minor": 0
      },
      "text/plain": [
       "Scanning spectrum:   0%|          | 0/20 [00:00<?, ?it/s]"
      ]
     },
     "metadata": {},
     "output_type": "display_data"
    },
    {
     "data": {
      "application/vnd.jupyter.widget-view+json": {
       "model_id": "8b1f1fbefc9741cfaed4816c326aa0b5",
       "version_major": 2,
       "version_minor": 0
      },
      "text/plain": [
       "Scanning spectrum:   0%|          | 0/20 [00:00<?, ?it/s]"
      ]
     },
     "metadata": {},
     "output_type": "display_data"
    },
    {
     "data": {
      "application/vnd.jupyter.widget-view+json": {
       "model_id": "e9edaa6a6ba44424beb1681b1be2d18a",
       "version_major": 2,
       "version_minor": 0
      },
      "text/plain": [
       "Scanning spectrum:   0%|          | 0/20 [00:00<?, ?it/s]"
      ]
     },
     "metadata": {},
     "output_type": "display_data"
    },
    {
     "data": {
      "application/vnd.jupyter.widget-view+json": {
       "model_id": "34bad3c907d34c69ba0d86f67a6bc228",
       "version_major": 2,
       "version_minor": 0
      },
      "text/plain": [
       "Scanning spectrum:   0%|          | 0/20 [00:00<?, ?it/s]"
      ]
     },
     "metadata": {},
     "output_type": "display_data"
    },
    {
     "data": {
      "application/vnd.jupyter.widget-view+json": {
       "model_id": "95397bf2ad534b399c85acd17debc113",
       "version_major": 2,
       "version_minor": 0
      },
      "text/plain": [
       "Scanning spectrum:   0%|          | 0/20 [00:00<?, ?it/s]"
      ]
     },
     "metadata": {},
     "output_type": "display_data"
    },
    {
     "data": {
      "application/vnd.jupyter.widget-view+json": {
       "model_id": "5bc8c291a6bd4c16b4fcf530b95dfdf2",
       "version_major": 2,
       "version_minor": 0
      },
      "text/plain": [
       "Scanning spectrum:   0%|          | 0/20 [00:00<?, ?it/s]"
      ]
     },
     "metadata": {},
     "output_type": "display_data"
    },
    {
     "data": {
      "application/vnd.jupyter.widget-view+json": {
       "model_id": "df766d80b1fa4ce58bed2ebb35e6c61c",
       "version_major": 2,
       "version_minor": 0
      },
      "text/plain": [
       "Scanning spectrum:   0%|          | 0/20 [00:00<?, ?it/s]"
      ]
     },
     "metadata": {},
     "output_type": "display_data"
    },
    {
     "data": {
      "application/vnd.jupyter.widget-view+json": {
       "model_id": "b84eb2c081f84c5ab614d3e209a46693",
       "version_major": 2,
       "version_minor": 0
      },
      "text/plain": [
       "Scanning spectrum:   0%|          | 0/20 [00:00<?, ?it/s]"
      ]
     },
     "metadata": {},
     "output_type": "display_data"
    },
    {
     "data": {
      "application/vnd.jupyter.widget-view+json": {
       "model_id": "a020703fe2fb4ab1b37908d5837c7c09",
       "version_major": 2,
       "version_minor": 0
      },
      "text/plain": [
       "Scanning spectrum:   0%|          | 0/20 [00:00<?, ?it/s]"
      ]
     },
     "metadata": {},
     "output_type": "display_data"
    },
    {
     "data": {
      "application/vnd.jupyter.widget-view+json": {
       "model_id": "13373e73fc8240d486f3d84278626dd5",
       "version_major": 2,
       "version_minor": 0
      },
      "text/plain": [
       "Scanning spectrum:   0%|          | 0/20 [00:00<?, ?it/s]"
      ]
     },
     "metadata": {},
     "output_type": "display_data"
    },
    {
     "data": {
      "application/vnd.jupyter.widget-view+json": {
       "model_id": "7e21bfb1c68847a7b40630c601540ea7",
       "version_major": 2,
       "version_minor": 0
      },
      "text/plain": [
       "Scanning spectrum:   0%|          | 0/20 [00:00<?, ?it/s]"
      ]
     },
     "metadata": {},
     "output_type": "display_data"
    },
    {
     "data": {
      "application/vnd.jupyter.widget-view+json": {
       "model_id": "2803045274a44a2d8952806dba293ec6",
       "version_major": 2,
       "version_minor": 0
      },
      "text/plain": [
       "Scanning spectrum:   0%|          | 0/20 [00:00<?, ?it/s]"
      ]
     },
     "metadata": {},
     "output_type": "display_data"
    },
    {
     "data": {
      "application/vnd.jupyter.widget-view+json": {
       "model_id": "4869a0b9ea854667a4649d74ff7f1146",
       "version_major": 2,
       "version_minor": 0
      },
      "text/plain": [
       "Scanning spectrum:   0%|          | 0/20 [00:00<?, ?it/s]"
      ]
     },
     "metadata": {},
     "output_type": "display_data"
    },
    {
     "data": {
      "application/vnd.jupyter.widget-view+json": {
       "model_id": "2689f48ca686488c8bd3db34cfb2800a",
       "version_major": 2,
       "version_minor": 0
      },
      "text/plain": [
       "Scanning spectrum:   0%|          | 0/20 [00:00<?, ?it/s]"
      ]
     },
     "metadata": {},
     "output_type": "display_data"
    },
    {
     "data": {
      "application/vnd.jupyter.widget-view+json": {
       "model_id": "4368a71919314b45acf89bebed6de7f0",
       "version_major": 2,
       "version_minor": 0
      },
      "text/plain": [
       "Scanning spectrum:   0%|          | 0/20 [00:00<?, ?it/s]"
      ]
     },
     "metadata": {},
     "output_type": "display_data"
    },
    {
     "data": {
      "application/vnd.jupyter.widget-view+json": {
       "model_id": "38c6e11582a24cc2a73a8bdc00e689db",
       "version_major": 2,
       "version_minor": 0
      },
      "text/plain": [
       "Scanning spectrum:   0%|          | 0/20 [00:00<?, ?it/s]"
      ]
     },
     "metadata": {},
     "output_type": "display_data"
    },
    {
     "data": {
      "application/vnd.jupyter.widget-view+json": {
       "model_id": "2d1269f4f7d74ea0af8079ff64bcbf83",
       "version_major": 2,
       "version_minor": 0
      },
      "text/plain": [
       "Scanning spectrum:   0%|          | 0/20 [00:00<?, ?it/s]"
      ]
     },
     "metadata": {},
     "output_type": "display_data"
    },
    {
     "data": {
      "application/vnd.jupyter.widget-view+json": {
       "model_id": "f23c0bcc18f4412db13b0fb923ad29e4",
       "version_major": 2,
       "version_minor": 0
      },
      "text/plain": [
       "Scanning spectrum:   0%|          | 0/20 [00:00<?, ?it/s]"
      ]
     },
     "metadata": {},
     "output_type": "display_data"
    },
    {
     "data": {
      "application/vnd.jupyter.widget-view+json": {
       "model_id": "2f8d82d8766046239713aeb589dcbecb",
       "version_major": 2,
       "version_minor": 0
      },
      "text/plain": [
       "Scanning spectrum:   0%|          | 0/20 [00:00<?, ?it/s]"
      ]
     },
     "metadata": {},
     "output_type": "display_data"
    },
    {
     "data": {
      "application/vnd.jupyter.widget-view+json": {
       "model_id": "c0eecddb96f9402c803b14fb7fac327a",
       "version_major": 2,
       "version_minor": 0
      },
      "text/plain": [
       "Scanning spectrum:   0%|          | 0/20 [00:00<?, ?it/s]"
      ]
     },
     "metadata": {},
     "output_type": "display_data"
    },
    {
     "data": {
      "application/vnd.jupyter.widget-view+json": {
       "model_id": "d4bf28af81004d37b768c005dd7cac9e",
       "version_major": 2,
       "version_minor": 0
      },
      "text/plain": [
       "Scanning spectrum:   0%|          | 0/20 [00:00<?, ?it/s]"
      ]
     },
     "metadata": {},
     "output_type": "display_data"
    },
    {
     "data": {
      "application/vnd.jupyter.widget-view+json": {
       "model_id": "a1ad0cf130d5431a9437e0638247be3a",
       "version_major": 2,
       "version_minor": 0
      },
      "text/plain": [
       "Scanning spectrum:   0%|          | 0/20 [00:00<?, ?it/s]"
      ]
     },
     "metadata": {},
     "output_type": "display_data"
    },
    {
     "data": {
      "application/vnd.jupyter.widget-view+json": {
       "model_id": "8d9563ba415d4465af4a084324cf092a",
       "version_major": 2,
       "version_minor": 0
      },
      "text/plain": [
       "Scanning spectrum:   0%|          | 0/20 [00:00<?, ?it/s]"
      ]
     },
     "metadata": {},
     "output_type": "display_data"
    },
    {
     "data": {
      "application/vnd.jupyter.widget-view+json": {
       "model_id": "dff5cb1871d94f5caa94c5d7fb24d059",
       "version_major": 2,
       "version_minor": 0
      },
      "text/plain": [
       "Scanning spectrum:   0%|          | 0/20 [00:00<?, ?it/s]"
      ]
     },
     "metadata": {},
     "output_type": "display_data"
    },
    {
     "data": {
      "application/vnd.jupyter.widget-view+json": {
       "model_id": "b9b59ced162e419a85539c81c7c3a360",
       "version_major": 2,
       "version_minor": 0
      },
      "text/plain": [
       "Scanning spectrum:   0%|          | 0/20 [00:00<?, ?it/s]"
      ]
     },
     "metadata": {},
     "output_type": "display_data"
    },
    {
     "data": {
      "application/vnd.jupyter.widget-view+json": {
       "model_id": "b8542289c2fd4bbfa760c22dbe846e8f",
       "version_major": 2,
       "version_minor": 0
      },
      "text/plain": [
       "Scanning spectrum:   0%|          | 0/20 [00:00<?, ?it/s]"
      ]
     },
     "metadata": {},
     "output_type": "display_data"
    },
    {
     "data": {
      "application/vnd.jupyter.widget-view+json": {
       "model_id": "27c7dbe598dc405bad967cab63ab0247",
       "version_major": 2,
       "version_minor": 0
      },
      "text/plain": [
       "Scanning spectrum:   0%|          | 0/20 [00:00<?, ?it/s]"
      ]
     },
     "metadata": {},
     "output_type": "display_data"
    },
    {
     "data": {
      "application/vnd.jupyter.widget-view+json": {
       "model_id": "b0a4f9ca572d40ffa5e2036c2dd2df8c",
       "version_major": 2,
       "version_minor": 0
      },
      "text/plain": [
       "Scanning spectrum:   0%|          | 0/20 [00:00<?, ?it/s]"
      ]
     },
     "metadata": {},
     "output_type": "display_data"
    },
    {
     "data": {
      "application/vnd.jupyter.widget-view+json": {
       "model_id": "7e71d1b1f1754e17920e662d2841d061",
       "version_major": 2,
       "version_minor": 0
      },
      "text/plain": [
       "Scanning spectrum:   0%|          | 0/20 [00:00<?, ?it/s]"
      ]
     },
     "metadata": {},
     "output_type": "display_data"
    },
    {
     "data": {
      "application/vnd.jupyter.widget-view+json": {
       "model_id": "0057e0985b85484e90699dd8a58d4df1",
       "version_major": 2,
       "version_minor": 0
      },
      "text/plain": [
       "Scanning spectrum:   0%|          | 0/20 [00:00<?, ?it/s]"
      ]
     },
     "metadata": {},
     "output_type": "display_data"
    },
    {
     "data": {
      "application/vnd.jupyter.widget-view+json": {
       "model_id": "4fe23e25705b458a901e51cf129c4774",
       "version_major": 2,
       "version_minor": 0
      },
      "text/plain": [
       "Scanning spectrum:   0%|          | 0/20 [00:00<?, ?it/s]"
      ]
     },
     "metadata": {},
     "output_type": "display_data"
    },
    {
     "data": {
      "application/vnd.jupyter.widget-view+json": {
       "model_id": "6ba2a9e4c66745cf86b9e0befd6cbf2d",
       "version_major": 2,
       "version_minor": 0
      },
      "text/plain": [
       "Scanning spectrum:   0%|          | 0/20 [00:00<?, ?it/s]"
      ]
     },
     "metadata": {},
     "output_type": "display_data"
    },
    {
     "data": {
      "application/vnd.jupyter.widget-view+json": {
       "model_id": "a32bde443e7748b78a1afd3d9d5523f1",
       "version_major": 2,
       "version_minor": 0
      },
      "text/plain": [
       "Scanning spectrum:   0%|          | 0/20 [00:00<?, ?it/s]"
      ]
     },
     "metadata": {},
     "output_type": "display_data"
    },
    {
     "data": {
      "application/vnd.jupyter.widget-view+json": {
       "model_id": "8d748063a4b7469898a5775d0878ec2f",
       "version_major": 2,
       "version_minor": 0
      },
      "text/plain": [
       "Scanning spectrum:   0%|          | 0/20 [00:00<?, ?it/s]"
      ]
     },
     "metadata": {},
     "output_type": "display_data"
    },
    {
     "data": {
      "application/vnd.jupyter.widget-view+json": {
       "model_id": "0bbc9221701e432fa213d52935eca44d",
       "version_major": 2,
       "version_minor": 0
      },
      "text/plain": [
       "Scanning spectrum:   0%|          | 0/20 [00:00<?, ?it/s]"
      ]
     },
     "metadata": {},
     "output_type": "display_data"
    },
    {
     "data": {
      "application/vnd.jupyter.widget-view+json": {
       "model_id": "d7fa120774ad4c72b7fbe23cc1e5d6f9",
       "version_major": 2,
       "version_minor": 0
      },
      "text/plain": [
       "Scanning spectrum:   0%|          | 0/20 [00:00<?, ?it/s]"
      ]
     },
     "metadata": {},
     "output_type": "display_data"
    },
    {
     "data": {
      "application/vnd.jupyter.widget-view+json": {
       "model_id": "3f8cb48ba67945f2b104e775c9aa56b4",
       "version_major": 2,
       "version_minor": 0
      },
      "text/plain": [
       "Scanning spectrum:   0%|          | 0/20 [00:00<?, ?it/s]"
      ]
     },
     "metadata": {},
     "output_type": "display_data"
    },
    {
     "data": {
      "application/vnd.jupyter.widget-view+json": {
       "model_id": "7b039933181b4c789ea588988ff986d4",
       "version_major": 2,
       "version_minor": 0
      },
      "text/plain": [
       "Scanning spectrum:   0%|          | 0/20 [00:00<?, ?it/s]"
      ]
     },
     "metadata": {},
     "output_type": "display_data"
    },
    {
     "data": {
      "application/vnd.jupyter.widget-view+json": {
       "model_id": "2262c9f1dac44625b57f3800c93f02eb",
       "version_major": 2,
       "version_minor": 0
      },
      "text/plain": [
       "Scanning spectrum:   0%|          | 0/20 [00:00<?, ?it/s]"
      ]
     },
     "metadata": {},
     "output_type": "display_data"
    },
    {
     "data": {
      "application/vnd.jupyter.widget-view+json": {
       "model_id": "95bde650e183466f9c82d44b4e202f20",
       "version_major": 2,
       "version_minor": 0
      },
      "text/plain": [
       "Scanning spectrum:   0%|          | 0/20 [00:00<?, ?it/s]"
      ]
     },
     "metadata": {},
     "output_type": "display_data"
    },
    {
     "data": {
      "application/vnd.jupyter.widget-view+json": {
       "model_id": "9e207017fe9348a195e20c3ab4367cc7",
       "version_major": 2,
       "version_minor": 0
      },
      "text/plain": [
       "Scanning spectrum:   0%|          | 0/20 [00:00<?, ?it/s]"
      ]
     },
     "metadata": {},
     "output_type": "display_data"
    },
    {
     "data": {
      "application/vnd.jupyter.widget-view+json": {
       "model_id": "04cdf66152c742898812fbab85b09a6d",
       "version_major": 2,
       "version_minor": 0
      },
      "text/plain": [
       "Scanning spectrum:   0%|          | 0/20 [00:00<?, ?it/s]"
      ]
     },
     "metadata": {},
     "output_type": "display_data"
    },
    {
     "data": {
      "application/vnd.jupyter.widget-view+json": {
       "model_id": "7404140989784bcabd3ecadb08739643",
       "version_major": 2,
       "version_minor": 0
      },
      "text/plain": [
       "Scanning spectrum:   0%|          | 0/20 [00:00<?, ?it/s]"
      ]
     },
     "metadata": {},
     "output_type": "display_data"
    },
    {
     "data": {
      "application/vnd.jupyter.widget-view+json": {
       "model_id": "72ccb1e25aef4aaf97bfba1210183fec",
       "version_major": 2,
       "version_minor": 0
      },
      "text/plain": [
       "Scanning spectrum:   0%|          | 0/20 [00:00<?, ?it/s]"
      ]
     },
     "metadata": {},
     "output_type": "display_data"
    },
    {
     "data": {
      "application/vnd.jupyter.widget-view+json": {
       "model_id": "4fc1e5549cbd42b4b3f8bb0c70dda05a",
       "version_major": 2,
       "version_minor": 0
      },
      "text/plain": [
       "Scanning spectrum:   0%|          | 0/20 [00:00<?, ?it/s]"
      ]
     },
     "metadata": {},
     "output_type": "display_data"
    },
    {
     "data": {
      "application/vnd.jupyter.widget-view+json": {
       "model_id": "8eb62b204971422fb48f20abca6ccfea",
       "version_major": 2,
       "version_minor": 0
      },
      "text/plain": [
       "Scanning spectrum:   0%|          | 0/20 [00:00<?, ?it/s]"
      ]
     },
     "metadata": {},
     "output_type": "display_data"
    },
    {
     "data": {
      "application/vnd.jupyter.widget-view+json": {
       "model_id": "af92edb4a5ba419fbb7ea25a07724075",
       "version_major": 2,
       "version_minor": 0
      },
      "text/plain": [
       "Scanning spectrum:   0%|          | 0/20 [00:00<?, ?it/s]"
      ]
     },
     "metadata": {},
     "output_type": "display_data"
    },
    {
     "data": {
      "application/vnd.jupyter.widget-view+json": {
       "model_id": "b44276838f85489584d69f489fbe341e",
       "version_major": 2,
       "version_minor": 0
      },
      "text/plain": [
       "Scanning spectrum:   0%|          | 0/20 [00:00<?, ?it/s]"
      ]
     },
     "metadata": {},
     "output_type": "display_data"
    },
    {
     "data": {
      "application/vnd.jupyter.widget-view+json": {
       "model_id": "2fefbb223ea8420bb34c5553500a5332",
       "version_major": 2,
       "version_minor": 0
      },
      "text/plain": [
       "Scanning spectrum:   0%|          | 0/20 [00:00<?, ?it/s]"
      ]
     },
     "metadata": {},
     "output_type": "display_data"
    },
    {
     "data": {
      "application/vnd.jupyter.widget-view+json": {
       "model_id": "5bf871f49ea942019484fe8445b7d92c",
       "version_major": 2,
       "version_minor": 0
      },
      "text/plain": [
       "Scanning spectrum:   0%|          | 0/20 [00:00<?, ?it/s]"
      ]
     },
     "metadata": {},
     "output_type": "display_data"
    },
    {
     "data": {
      "application/vnd.jupyter.widget-view+json": {
       "model_id": "d8fe55d9ca1349078a218d6bc5d78061",
       "version_major": 2,
       "version_minor": 0
      },
      "text/plain": [
       "Scanning spectrum:   0%|          | 0/20 [00:00<?, ?it/s]"
      ]
     },
     "metadata": {},
     "output_type": "display_data"
    },
    {
     "data": {
      "application/vnd.jupyter.widget-view+json": {
       "model_id": "89d45f0ca4dc48daad7ae9b75adeb29a",
       "version_major": 2,
       "version_minor": 0
      },
      "text/plain": [
       "Scanning spectrum:   0%|          | 0/20 [00:00<?, ?it/s]"
      ]
     },
     "metadata": {},
     "output_type": "display_data"
    },
    {
     "data": {
      "application/vnd.jupyter.widget-view+json": {
       "model_id": "f8c65366477547d69963d1b486e39247",
       "version_major": 2,
       "version_minor": 0
      },
      "text/plain": [
       "Scanning spectrum:   0%|          | 0/20 [00:00<?, ?it/s]"
      ]
     },
     "metadata": {},
     "output_type": "display_data"
    },
    {
     "data": {
      "application/vnd.jupyter.widget-view+json": {
       "model_id": "0662e0b9691a4a9c8d57a1b4f2e081e9",
       "version_major": 2,
       "version_minor": 0
      },
      "text/plain": [
       "Scanning spectrum:   0%|          | 0/20 [00:00<?, ?it/s]"
      ]
     },
     "metadata": {},
     "output_type": "display_data"
    },
    {
     "data": {
      "application/vnd.jupyter.widget-view+json": {
       "model_id": "6b1dc4de782449c3b086f83fbdcc07d5",
       "version_major": 2,
       "version_minor": 0
      },
      "text/plain": [
       "Scanning spectrum:   0%|          | 0/20 [00:00<?, ?it/s]"
      ]
     },
     "metadata": {},
     "output_type": "display_data"
    },
    {
     "data": {
      "application/vnd.jupyter.widget-view+json": {
       "model_id": "5ea86a60dcbc411b89a23ac3ff334e8f",
       "version_major": 2,
       "version_minor": 0
      },
      "text/plain": [
       "Scanning spectrum:   0%|          | 0/20 [00:00<?, ?it/s]"
      ]
     },
     "metadata": {},
     "output_type": "display_data"
    },
    {
     "data": {
      "application/vnd.jupyter.widget-view+json": {
       "model_id": "e8433c7bc3d3472fbcff242838819e2c",
       "version_major": 2,
       "version_minor": 0
      },
      "text/plain": [
       "Scanning spectrum:   0%|          | 0/20 [00:00<?, ?it/s]"
      ]
     },
     "metadata": {},
     "output_type": "display_data"
    },
    {
     "data": {
      "application/vnd.jupyter.widget-view+json": {
       "model_id": "235428a674e247138201de5e1e99680a",
       "version_major": 2,
       "version_minor": 0
      },
      "text/plain": [
       "Scanning spectrum:   0%|          | 0/20 [00:00<?, ?it/s]"
      ]
     },
     "metadata": {},
     "output_type": "display_data"
    },
    {
     "data": {
      "application/vnd.jupyter.widget-view+json": {
       "model_id": "174901bf201d41339f25114989785d85",
       "version_major": 2,
       "version_minor": 0
      },
      "text/plain": [
       "Scanning spectrum:   0%|          | 0/20 [00:00<?, ?it/s]"
      ]
     },
     "metadata": {},
     "output_type": "display_data"
    },
    {
     "data": {
      "application/vnd.jupyter.widget-view+json": {
       "model_id": "1bc70584575746c99ccf4cf383fecc78",
       "version_major": 2,
       "version_minor": 0
      },
      "text/plain": [
       "Scanning spectrum:   0%|          | 0/20 [00:00<?, ?it/s]"
      ]
     },
     "metadata": {},
     "output_type": "display_data"
    },
    {
     "data": {
      "application/vnd.jupyter.widget-view+json": {
       "model_id": "f469f2f421a64ecfb26a84a4129c95b4",
       "version_major": 2,
       "version_minor": 0
      },
      "text/plain": [
       "Scanning spectrum:   0%|          | 0/20 [00:00<?, ?it/s]"
      ]
     },
     "metadata": {},
     "output_type": "display_data"
    },
    {
     "data": {
      "application/vnd.jupyter.widget-view+json": {
       "model_id": "439b0f0502174b9a8920c06b4eda5260",
       "version_major": 2,
       "version_minor": 0
      },
      "text/plain": [
       "Scanning spectrum:   0%|          | 0/20 [00:00<?, ?it/s]"
      ]
     },
     "metadata": {},
     "output_type": "display_data"
    },
    {
     "data": {
      "application/vnd.jupyter.widget-view+json": {
       "model_id": "5012e4cec61944abbaaa433a23776cf1",
       "version_major": 2,
       "version_minor": 0
      },
      "text/plain": [
       "Scanning spectrum:   0%|          | 0/20 [00:00<?, ?it/s]"
      ]
     },
     "metadata": {},
     "output_type": "display_data"
    },
    {
     "data": {
      "application/vnd.jupyter.widget-view+json": {
       "model_id": "2a63c0269c09475faafb4cbc22cb5356",
       "version_major": 2,
       "version_minor": 0
      },
      "text/plain": [
       "Scanning spectrum:   0%|          | 0/20 [00:00<?, ?it/s]"
      ]
     },
     "metadata": {},
     "output_type": "display_data"
    },
    {
     "data": {
      "application/vnd.jupyter.widget-view+json": {
       "model_id": "061903c0b49f43518ce617b710c8a708",
       "version_major": 2,
       "version_minor": 0
      },
      "text/plain": [
       "Scanning spectrum:   0%|          | 0/20 [00:00<?, ?it/s]"
      ]
     },
     "metadata": {},
     "output_type": "display_data"
    },
    {
     "data": {
      "application/vnd.jupyter.widget-view+json": {
       "model_id": "38111f4e1c984c75a874abb2a991c680",
       "version_major": 2,
       "version_minor": 0
      },
      "text/plain": [
       "Scanning spectrum:   0%|          | 0/20 [00:00<?, ?it/s]"
      ]
     },
     "metadata": {},
     "output_type": "display_data"
    },
    {
     "data": {
      "application/vnd.jupyter.widget-view+json": {
       "model_id": "caa0d1d3650e4b038a8ec2ab9671c912",
       "version_major": 2,
       "version_minor": 0
      },
      "text/plain": [
       "Scanning spectrum:   0%|          | 0/20 [00:00<?, ?it/s]"
      ]
     },
     "metadata": {},
     "output_type": "display_data"
    },
    {
     "data": {
      "application/vnd.jupyter.widget-view+json": {
       "model_id": "882128da714e4c2292ecf42feecab740",
       "version_major": 2,
       "version_minor": 0
      },
      "text/plain": [
       "Scanning spectrum:   0%|          | 0/20 [00:00<?, ?it/s]"
      ]
     },
     "metadata": {},
     "output_type": "display_data"
    },
    {
     "data": {
      "application/vnd.jupyter.widget-view+json": {
       "model_id": "65a05c922f644e738773c90e4e8c354f",
       "version_major": 2,
       "version_minor": 0
      },
      "text/plain": [
       "Scanning spectrum:   0%|          | 0/20 [00:00<?, ?it/s]"
      ]
     },
     "metadata": {},
     "output_type": "display_data"
    },
    {
     "data": {
      "application/vnd.jupyter.widget-view+json": {
       "model_id": "9acd8454f082436fb078864b9f49178c",
       "version_major": 2,
       "version_minor": 0
      },
      "text/plain": [
       "Scanning spectrum:   0%|          | 0/20 [00:00<?, ?it/s]"
      ]
     },
     "metadata": {},
     "output_type": "display_data"
    },
    {
     "data": {
      "application/vnd.jupyter.widget-view+json": {
       "model_id": "e07b1f56b7f34383ad63cf63f84d5f7e",
       "version_major": 2,
       "version_minor": 0
      },
      "text/plain": [
       "Scanning spectrum:   0%|          | 0/20 [00:00<?, ?it/s]"
      ]
     },
     "metadata": {},
     "output_type": "display_data"
    },
    {
     "data": {
      "application/vnd.jupyter.widget-view+json": {
       "model_id": "cb83a118572546699d47b3076862c3c5",
       "version_major": 2,
       "version_minor": 0
      },
      "text/plain": [
       "Scanning spectrum:   0%|          | 0/20 [00:00<?, ?it/s]"
      ]
     },
     "metadata": {},
     "output_type": "display_data"
    },
    {
     "data": {
      "application/vnd.jupyter.widget-view+json": {
       "model_id": "4165522dce6847c489f95dbe7773bc2d",
       "version_major": 2,
       "version_minor": 0
      },
      "text/plain": [
       "Scanning spectrum:   0%|          | 0/20 [00:00<?, ?it/s]"
      ]
     },
     "metadata": {},
     "output_type": "display_data"
    },
    {
     "data": {
      "application/vnd.jupyter.widget-view+json": {
       "model_id": "826a909b6813427faceca4d730cbf785",
       "version_major": 2,
       "version_minor": 0
      },
      "text/plain": [
       "Scanning spectrum:   0%|          | 0/20 [00:00<?, ?it/s]"
      ]
     },
     "metadata": {},
     "output_type": "display_data"
    },
    {
     "data": {
      "application/vnd.jupyter.widget-view+json": {
       "model_id": "2a0a5c1f8c4b4cbb9c73052e788e44db",
       "version_major": 2,
       "version_minor": 0
      },
      "text/plain": [
       "Scanning spectrum:   0%|          | 0/20 [00:00<?, ?it/s]"
      ]
     },
     "metadata": {},
     "output_type": "display_data"
    },
    {
     "data": {
      "application/vnd.jupyter.widget-view+json": {
       "model_id": "5594ecfd96af4d7c997df69d36ef5dae",
       "version_major": 2,
       "version_minor": 0
      },
      "text/plain": [
       "Scanning spectrum:   0%|          | 0/20 [00:00<?, ?it/s]"
      ]
     },
     "metadata": {},
     "output_type": "display_data"
    },
    {
     "data": {
      "application/vnd.jupyter.widget-view+json": {
       "model_id": "c5ef3c3f6e014693aaf08f57eae850b7",
       "version_major": 2,
       "version_minor": 0
      },
      "text/plain": [
       "Scanning spectrum:   0%|          | 0/20 [00:00<?, ?it/s]"
      ]
     },
     "metadata": {},
     "output_type": "display_data"
    },
    {
     "data": {
      "application/vnd.jupyter.widget-view+json": {
       "model_id": "659c5c09eb01473ea20c80dcb2f72e3e",
       "version_major": 2,
       "version_minor": 0
      },
      "text/plain": [
       "Scanning spectrum:   0%|          | 0/20 [00:00<?, ?it/s]"
      ]
     },
     "metadata": {},
     "output_type": "display_data"
    },
    {
     "data": {
      "application/vnd.jupyter.widget-view+json": {
       "model_id": "0d88abfa3b2f48da837ead079b751d9e",
       "version_major": 2,
       "version_minor": 0
      },
      "text/plain": [
       "Scanning spectrum:   0%|          | 0/20 [00:00<?, ?it/s]"
      ]
     },
     "metadata": {},
     "output_type": "display_data"
    },
    {
     "data": {
      "application/vnd.jupyter.widget-view+json": {
       "model_id": "ab47e3b54d534a8f90ef393fc38f7dee",
       "version_major": 2,
       "version_minor": 0
      },
      "text/plain": [
       "Scanning spectrum:   0%|          | 0/20 [00:00<?, ?it/s]"
      ]
     },
     "metadata": {},
     "output_type": "display_data"
    },
    {
     "data": {
      "application/vnd.jupyter.widget-view+json": {
       "model_id": "6309f751b4ca4ddda424ca0a2a478aed",
       "version_major": 2,
       "version_minor": 0
      },
      "text/plain": [
       "Scanning spectrum:   0%|          | 0/20 [00:00<?, ?it/s]"
      ]
     },
     "metadata": {},
     "output_type": "display_data"
    },
    {
     "data": {
      "application/vnd.jupyter.widget-view+json": {
       "model_id": "ef26b5c9697146d3aaa57bc63d70926e",
       "version_major": 2,
       "version_minor": 0
      },
      "text/plain": [
       "Scanning spectrum:   0%|          | 0/20 [00:00<?, ?it/s]"
      ]
     },
     "metadata": {},
     "output_type": "display_data"
    },
    {
     "data": {
      "application/vnd.jupyter.widget-view+json": {
       "model_id": "486db2f2bc7c4508bda4524f9da251a8",
       "version_major": 2,
       "version_minor": 0
      },
      "text/plain": [
       "Scanning spectrum:   0%|          | 0/20 [00:00<?, ?it/s]"
      ]
     },
     "metadata": {},
     "output_type": "display_data"
    },
    {
     "data": {
      "application/vnd.jupyter.widget-view+json": {
       "model_id": "610dbebce9bf438ba8d6ab5eb8bc0b11",
       "version_major": 2,
       "version_minor": 0
      },
      "text/plain": [
       "Scanning spectrum:   0%|          | 0/20 [00:00<?, ?it/s]"
      ]
     },
     "metadata": {},
     "output_type": "display_data"
    },
    {
     "data": {
      "application/vnd.jupyter.widget-view+json": {
       "model_id": "3fe153a093bc4b749fd098be4ac0871f",
       "version_major": 2,
       "version_minor": 0
      },
      "text/plain": [
       "Scanning spectrum:   0%|          | 0/20 [00:00<?, ?it/s]"
      ]
     },
     "metadata": {},
     "output_type": "display_data"
    },
    {
     "data": {
      "application/vnd.jupyter.widget-view+json": {
       "model_id": "82b955efbf254226987313efbdd8c8c3",
       "version_major": 2,
       "version_minor": 0
      },
      "text/plain": [
       "Scanning spectrum:   0%|          | 0/20 [00:00<?, ?it/s]"
      ]
     },
     "metadata": {},
     "output_type": "display_data"
    },
    {
     "data": {
      "application/vnd.jupyter.widget-view+json": {
       "model_id": "23e646a9f73b46c3a704df211c3a9e6f",
       "version_major": 2,
       "version_minor": 0
      },
      "text/plain": [
       "Scanning spectrum:   0%|          | 0/20 [00:00<?, ?it/s]"
      ]
     },
     "metadata": {},
     "output_type": "display_data"
    },
    {
     "data": {
      "application/vnd.jupyter.widget-view+json": {
       "model_id": "331f498ac6274c02a9b0a0dc5ad5cf6b",
       "version_major": 2,
       "version_minor": 0
      },
      "text/plain": [
       "Scanning spectrum:   0%|          | 0/20 [00:00<?, ?it/s]"
      ]
     },
     "metadata": {},
     "output_type": "display_data"
    },
    {
     "data": {
      "application/vnd.jupyter.widget-view+json": {
       "model_id": "8af32b178c364bcdbfe75e10df58c2ad",
       "version_major": 2,
       "version_minor": 0
      },
      "text/plain": [
       "Scanning spectrum:   0%|          | 0/20 [00:00<?, ?it/s]"
      ]
     },
     "metadata": {},
     "output_type": "display_data"
    },
    {
     "data": {
      "application/vnd.jupyter.widget-view+json": {
       "model_id": "94d750c544cb4a4f9ba1adc2a05867b9",
       "version_major": 2,
       "version_minor": 0
      },
      "text/plain": [
       "Scanning spectrum:   0%|          | 0/20 [00:00<?, ?it/s]"
      ]
     },
     "metadata": {},
     "output_type": "display_data"
    },
    {
     "data": {
      "application/vnd.jupyter.widget-view+json": {
       "model_id": "cf34e44035be4f26b4404ef3d9b163db",
       "version_major": 2,
       "version_minor": 0
      },
      "text/plain": [
       "Scanning spectrum:   0%|          | 0/20 [00:00<?, ?it/s]"
      ]
     },
     "metadata": {},
     "output_type": "display_data"
    },
    {
     "data": {
      "application/vnd.jupyter.widget-view+json": {
       "model_id": "b1d2d7939a5943cfae1e8577d62e859d",
       "version_major": 2,
       "version_minor": 0
      },
      "text/plain": [
       "Scanning spectrum:   0%|          | 0/20 [00:00<?, ?it/s]"
      ]
     },
     "metadata": {},
     "output_type": "display_data"
    },
    {
     "data": {
      "application/vnd.jupyter.widget-view+json": {
       "model_id": "91e265143eff4f99bf211c9d6a7edff7",
       "version_major": 2,
       "version_minor": 0
      },
      "text/plain": [
       "Scanning spectrum:   0%|          | 0/20 [00:00<?, ?it/s]"
      ]
     },
     "metadata": {},
     "output_type": "display_data"
    },
    {
     "data": {
      "application/vnd.jupyter.widget-view+json": {
       "model_id": "e95cd73351bb461e9ded366501f2d236",
       "version_major": 2,
       "version_minor": 0
      },
      "text/plain": [
       "Scanning spectrum:   0%|          | 0/20 [00:00<?, ?it/s]"
      ]
     },
     "metadata": {},
     "output_type": "display_data"
    },
    {
     "data": {
      "application/vnd.jupyter.widget-view+json": {
       "model_id": "5d9eae34276c498c960d6230c411dffc",
       "version_major": 2,
       "version_minor": 0
      },
      "text/plain": [
       "Scanning spectrum:   0%|          | 0/20 [00:00<?, ?it/s]"
      ]
     },
     "metadata": {},
     "output_type": "display_data"
    },
    {
     "data": {
      "application/vnd.jupyter.widget-view+json": {
       "model_id": "66df096a33f24008a222b8dd53ebfa83",
       "version_major": 2,
       "version_minor": 0
      },
      "text/plain": [
       "Scanning spectrum:   0%|          | 0/20 [00:00<?, ?it/s]"
      ]
     },
     "metadata": {},
     "output_type": "display_data"
    },
    {
     "data": {
      "application/vnd.jupyter.widget-view+json": {
       "model_id": "5992c7a86180457990b3d4343dc7c4cc",
       "version_major": 2,
       "version_minor": 0
      },
      "text/plain": [
       "Scanning spectrum:   0%|          | 0/20 [00:00<?, ?it/s]"
      ]
     },
     "metadata": {},
     "output_type": "display_data"
    },
    {
     "data": {
      "application/vnd.jupyter.widget-view+json": {
       "model_id": "e5edb89ecfd14ea081a1fd7666b8e5e3",
       "version_major": 2,
       "version_minor": 0
      },
      "text/plain": [
       "Scanning spectrum:   0%|          | 0/20 [00:00<?, ?it/s]"
      ]
     },
     "metadata": {},
     "output_type": "display_data"
    },
    {
     "data": {
      "application/vnd.jupyter.widget-view+json": {
       "model_id": "c3d3243c71d34c8786afa3a0392c3e7d",
       "version_major": 2,
       "version_minor": 0
      },
      "text/plain": [
       "Scanning spectrum:   0%|          | 0/20 [00:00<?, ?it/s]"
      ]
     },
     "metadata": {},
     "output_type": "display_data"
    },
    {
     "data": {
      "application/vnd.jupyter.widget-view+json": {
       "model_id": "8a77bd1d86db452289b196c1a0227765",
       "version_major": 2,
       "version_minor": 0
      },
      "text/plain": [
       "Scanning spectrum:   0%|          | 0/20 [00:00<?, ?it/s]"
      ]
     },
     "metadata": {},
     "output_type": "display_data"
    },
    {
     "data": {
      "application/vnd.jupyter.widget-view+json": {
       "model_id": "f62dd85384594a26a19ee07225ce6c36",
       "version_major": 2,
       "version_minor": 0
      },
      "text/plain": [
       "Scanning spectrum:   0%|          | 0/20 [00:00<?, ?it/s]"
      ]
     },
     "metadata": {},
     "output_type": "display_data"
    },
    {
     "data": {
      "application/vnd.jupyter.widget-view+json": {
       "model_id": "e08a71d85d024cb1b029129d749389ea",
       "version_major": 2,
       "version_minor": 0
      },
      "text/plain": [
       "Scanning spectrum:   0%|          | 0/20 [00:00<?, ?it/s]"
      ]
     },
     "metadata": {},
     "output_type": "display_data"
    },
    {
     "data": {
      "application/vnd.jupyter.widget-view+json": {
       "model_id": "fe40b63c9e524be7b74c5ee331cdcdf6",
       "version_major": 2,
       "version_minor": 0
      },
      "text/plain": [
       "Scanning spectrum:   0%|          | 0/20 [00:00<?, ?it/s]"
      ]
     },
     "metadata": {},
     "output_type": "display_data"
    },
    {
     "data": {
      "application/vnd.jupyter.widget-view+json": {
       "model_id": "a8b0cb8a145b472d8b0bc6ee14207465",
       "version_major": 2,
       "version_minor": 0
      },
      "text/plain": [
       "Scanning spectrum:   0%|          | 0/20 [00:00<?, ?it/s]"
      ]
     },
     "metadata": {},
     "output_type": "display_data"
    },
    {
     "data": {
      "application/vnd.jupyter.widget-view+json": {
       "model_id": "f6450bb6b87b4586a0c5419293a31320",
       "version_major": 2,
       "version_minor": 0
      },
      "text/plain": [
       "Scanning spectrum:   0%|          | 0/20 [00:00<?, ?it/s]"
      ]
     },
     "metadata": {},
     "output_type": "display_data"
    },
    {
     "data": {
      "application/vnd.jupyter.widget-view+json": {
       "model_id": "9c75869b0e2e4516b6092ff85c379f8d",
       "version_major": 2,
       "version_minor": 0
      },
      "text/plain": [
       "Scanning spectrum:   0%|          | 0/20 [00:00<?, ?it/s]"
      ]
     },
     "metadata": {},
     "output_type": "display_data"
    },
    {
     "data": {
      "application/vnd.jupyter.widget-view+json": {
       "model_id": "a513e671700b4d90b1e834cf81352d18",
       "version_major": 2,
       "version_minor": 0
      },
      "text/plain": [
       "Scanning spectrum:   0%|          | 0/20 [00:00<?, ?it/s]"
      ]
     },
     "metadata": {},
     "output_type": "display_data"
    },
    {
     "data": {
      "application/vnd.jupyter.widget-view+json": {
       "model_id": "771a9b63dbf444acb11beb676d84a660",
       "version_major": 2,
       "version_minor": 0
      },
      "text/plain": [
       "Scanning spectrum:   0%|          | 0/20 [00:00<?, ?it/s]"
      ]
     },
     "metadata": {},
     "output_type": "display_data"
    },
    {
     "data": {
      "application/vnd.jupyter.widget-view+json": {
       "model_id": "549421cb48f9456db2f7b7166fc5169b",
       "version_major": 2,
       "version_minor": 0
      },
      "text/plain": [
       "Scanning spectrum:   0%|          | 0/20 [00:00<?, ?it/s]"
      ]
     },
     "metadata": {},
     "output_type": "display_data"
    },
    {
     "data": {
      "application/vnd.jupyter.widget-view+json": {
       "model_id": "a3673eb7da2d47e688c37459cad09d9c",
       "version_major": 2,
       "version_minor": 0
      },
      "text/plain": [
       "Scanning spectrum:   0%|          | 0/20 [00:00<?, ?it/s]"
      ]
     },
     "metadata": {},
     "output_type": "display_data"
    },
    {
     "data": {
      "application/vnd.jupyter.widget-view+json": {
       "model_id": "0da126ac74564908affdf68619f5304b",
       "version_major": 2,
       "version_minor": 0
      },
      "text/plain": [
       "Scanning spectrum:   0%|          | 0/20 [00:00<?, ?it/s]"
      ]
     },
     "metadata": {},
     "output_type": "display_data"
    },
    {
     "data": {
      "application/vnd.jupyter.widget-view+json": {
       "model_id": "6eabffbe68dd464d933857f04f3000e5",
       "version_major": 2,
       "version_minor": 0
      },
      "text/plain": [
       "Scanning spectrum:   0%|          | 0/20 [00:00<?, ?it/s]"
      ]
     },
     "metadata": {},
     "output_type": "display_data"
    },
    {
     "data": {
      "application/vnd.jupyter.widget-view+json": {
       "model_id": "86e53d806f37469a8446f607ad263eb4",
       "version_major": 2,
       "version_minor": 0
      },
      "text/plain": [
       "Scanning spectrum:   0%|          | 0/20 [00:00<?, ?it/s]"
      ]
     },
     "metadata": {},
     "output_type": "display_data"
    },
    {
     "data": {
      "application/vnd.jupyter.widget-view+json": {
       "model_id": "5efebf1817704bd8a5add0583d6d59ae",
       "version_major": 2,
       "version_minor": 0
      },
      "text/plain": [
       "Scanning spectrum:   0%|          | 0/20 [00:00<?, ?it/s]"
      ]
     },
     "metadata": {},
     "output_type": "display_data"
    },
    {
     "data": {
      "application/vnd.jupyter.widget-view+json": {
       "model_id": "e62fcf4378f24fb29373bd3d1deebc7f",
       "version_major": 2,
       "version_minor": 0
      },
      "text/plain": [
       "Scanning spectrum:   0%|          | 0/20 [00:00<?, ?it/s]"
      ]
     },
     "metadata": {},
     "output_type": "display_data"
    },
    {
     "data": {
      "application/vnd.jupyter.widget-view+json": {
       "model_id": "d32d2c1dd61d4110a6584b6868fdfb40",
       "version_major": 2,
       "version_minor": 0
      },
      "text/plain": [
       "Scanning spectrum:   0%|          | 0/20 [00:00<?, ?it/s]"
      ]
     },
     "metadata": {},
     "output_type": "display_data"
    },
    {
     "data": {
      "application/vnd.jupyter.widget-view+json": {
       "model_id": "a3ffd44779594e90b6ec2b3aad8ca9eb",
       "version_major": 2,
       "version_minor": 0
      },
      "text/plain": [
       "Scanning spectrum:   0%|          | 0/20 [00:00<?, ?it/s]"
      ]
     },
     "metadata": {},
     "output_type": "display_data"
    },
    {
     "data": {
      "application/vnd.jupyter.widget-view+json": {
       "model_id": "5e0f64e994bd4003be2fa3ba7b1bbdeb",
       "version_major": 2,
       "version_minor": 0
      },
      "text/plain": [
       "Scanning spectrum:   0%|          | 0/20 [00:00<?, ?it/s]"
      ]
     },
     "metadata": {},
     "output_type": "display_data"
    },
    {
     "data": {
      "application/vnd.jupyter.widget-view+json": {
       "model_id": "b6ef3746ecaf4139a07e36176ae63613",
       "version_major": 2,
       "version_minor": 0
      },
      "text/plain": [
       "Scanning spectrum:   0%|          | 0/20 [00:00<?, ?it/s]"
      ]
     },
     "metadata": {},
     "output_type": "display_data"
    },
    {
     "data": {
      "application/vnd.jupyter.widget-view+json": {
       "model_id": "f563ce31d4564a3cba5051102c366a54",
       "version_major": 2,
       "version_minor": 0
      },
      "text/plain": [
       "Scanning spectrum:   0%|          | 0/20 [00:00<?, ?it/s]"
      ]
     },
     "metadata": {},
     "output_type": "display_data"
    },
    {
     "data": {
      "application/vnd.jupyter.widget-view+json": {
       "model_id": "db9073c871034c4d8c13eb2d4c320721",
       "version_major": 2,
       "version_minor": 0
      },
      "text/plain": [
       "Scanning spectrum:   0%|          | 0/20 [00:00<?, ?it/s]"
      ]
     },
     "metadata": {},
     "output_type": "display_data"
    },
    {
     "data": {
      "application/vnd.jupyter.widget-view+json": {
       "model_id": "e215614556504545b1223a5356fa0802",
       "version_major": 2,
       "version_minor": 0
      },
      "text/plain": [
       "Scanning spectrum:   0%|          | 0/20 [00:00<?, ?it/s]"
      ]
     },
     "metadata": {},
     "output_type": "display_data"
    },
    {
     "data": {
      "application/vnd.jupyter.widget-view+json": {
       "model_id": "799590816c094fb59adb3c6e81b9af2e",
       "version_major": 2,
       "version_minor": 0
      },
      "text/plain": [
       "Scanning spectrum:   0%|          | 0/20 [00:00<?, ?it/s]"
      ]
     },
     "metadata": {},
     "output_type": "display_data"
    },
    {
     "data": {
      "application/vnd.jupyter.widget-view+json": {
       "model_id": "e03201dc4a2e4eb086710ded05773dfe",
       "version_major": 2,
       "version_minor": 0
      },
      "text/plain": [
       "Scanning spectrum:   0%|          | 0/20 [00:00<?, ?it/s]"
      ]
     },
     "metadata": {},
     "output_type": "display_data"
    },
    {
     "data": {
      "application/vnd.jupyter.widget-view+json": {
       "model_id": "f514c626b0de4a75b8d58561e785aa2f",
       "version_major": 2,
       "version_minor": 0
      },
      "text/plain": [
       "Scanning spectrum:   0%|          | 0/20 [00:00<?, ?it/s]"
      ]
     },
     "metadata": {},
     "output_type": "display_data"
    },
    {
     "data": {
      "application/vnd.jupyter.widget-view+json": {
       "model_id": "26b2c31596df453ba2e36bd897905668",
       "version_major": 2,
       "version_minor": 0
      },
      "text/plain": [
       "Scanning spectrum:   0%|          | 0/20 [00:00<?, ?it/s]"
      ]
     },
     "metadata": {},
     "output_type": "display_data"
    },
    {
     "data": {
      "application/vnd.jupyter.widget-view+json": {
       "model_id": "671a05a348914d2db294f5ccc849e5be",
       "version_major": 2,
       "version_minor": 0
      },
      "text/plain": [
       "Scanning spectrum:   0%|          | 0/20 [00:00<?, ?it/s]"
      ]
     },
     "metadata": {},
     "output_type": "display_data"
    },
    {
     "data": {
      "application/vnd.jupyter.widget-view+json": {
       "model_id": "d4ff7f442acf4543a7ac6ccc80b51dbd",
       "version_major": 2,
       "version_minor": 0
      },
      "text/plain": [
       "Scanning spectrum:   0%|          | 0/20 [00:00<?, ?it/s]"
      ]
     },
     "metadata": {},
     "output_type": "display_data"
    },
    {
     "data": {
      "application/vnd.jupyter.widget-view+json": {
       "model_id": "efa6c07083e14c28b1718ae90df99968",
       "version_major": 2,
       "version_minor": 0
      },
      "text/plain": [
       "Scanning spectrum:   0%|          | 0/20 [00:00<?, ?it/s]"
      ]
     },
     "metadata": {},
     "output_type": "display_data"
    },
    {
     "data": {
      "application/vnd.jupyter.widget-view+json": {
       "model_id": "5ad7577c76c54f72a1470a4809628838",
       "version_major": 2,
       "version_minor": 0
      },
      "text/plain": [
       "Scanning spectrum:   0%|          | 0/20 [00:00<?, ?it/s]"
      ]
     },
     "metadata": {},
     "output_type": "display_data"
    },
    {
     "data": {
      "application/vnd.jupyter.widget-view+json": {
       "model_id": "7f7ef94a0d224f9cabe32386a5a45939",
       "version_major": 2,
       "version_minor": 0
      },
      "text/plain": [
       "Scanning spectrum:   0%|          | 0/20 [00:00<?, ?it/s]"
      ]
     },
     "metadata": {},
     "output_type": "display_data"
    },
    {
     "data": {
      "application/vnd.jupyter.widget-view+json": {
       "model_id": "65084f76044848bead9fdc696bbaf439",
       "version_major": 2,
       "version_minor": 0
      },
      "text/plain": [
       "Scanning spectrum:   0%|          | 0/20 [00:00<?, ?it/s]"
      ]
     },
     "metadata": {},
     "output_type": "display_data"
    },
    {
     "data": {
      "application/vnd.jupyter.widget-view+json": {
       "model_id": "4a3f00cdbc8641f690bce9289afc821a",
       "version_major": 2,
       "version_minor": 0
      },
      "text/plain": [
       "Scanning spectrum:   0%|          | 0/20 [00:00<?, ?it/s]"
      ]
     },
     "metadata": {},
     "output_type": "display_data"
    },
    {
     "data": {
      "application/vnd.jupyter.widget-view+json": {
       "model_id": "3800947868ed465d819ddcb5dbebedbb",
       "version_major": 2,
       "version_minor": 0
      },
      "text/plain": [
       "Scanning spectrum:   0%|          | 0/20 [00:00<?, ?it/s]"
      ]
     },
     "metadata": {},
     "output_type": "display_data"
    },
    {
     "data": {
      "application/vnd.jupyter.widget-view+json": {
       "model_id": "1bb97ac99e69481dbdfc521bf7091d81",
       "version_major": 2,
       "version_minor": 0
      },
      "text/plain": [
       "Scanning spectrum:   0%|          | 0/20 [00:00<?, ?it/s]"
      ]
     },
     "metadata": {},
     "output_type": "display_data"
    },
    {
     "data": {
      "application/vnd.jupyter.widget-view+json": {
       "model_id": "098dd2c489a14f89bf5b5ced88f86f8a",
       "version_major": 2,
       "version_minor": 0
      },
      "text/plain": [
       "Scanning spectrum:   0%|          | 0/20 [00:00<?, ?it/s]"
      ]
     },
     "metadata": {},
     "output_type": "display_data"
    },
    {
     "data": {
      "application/vnd.jupyter.widget-view+json": {
       "model_id": "476fc13ef07e402d958042e8f989c58f",
       "version_major": 2,
       "version_minor": 0
      },
      "text/plain": [
       "Scanning spectrum:   0%|          | 0/20 [00:00<?, ?it/s]"
      ]
     },
     "metadata": {},
     "output_type": "display_data"
    },
    {
     "data": {
      "application/vnd.jupyter.widget-view+json": {
       "model_id": "825966d4a7e04beb80e4ec8ba893852e",
       "version_major": 2,
       "version_minor": 0
      },
      "text/plain": [
       "Scanning spectrum:   0%|          | 0/20 [00:00<?, ?it/s]"
      ]
     },
     "metadata": {},
     "output_type": "display_data"
    },
    {
     "data": {
      "application/vnd.jupyter.widget-view+json": {
       "model_id": "c98eb891b14f4acab817494bc8274018",
       "version_major": 2,
       "version_minor": 0
      },
      "text/plain": [
       "Scanning spectrum:   0%|          | 0/20 [00:00<?, ?it/s]"
      ]
     },
     "metadata": {},
     "output_type": "display_data"
    },
    {
     "data": {
      "application/vnd.jupyter.widget-view+json": {
       "model_id": "f087de1070554ff497b6516073beaeb4",
       "version_major": 2,
       "version_minor": 0
      },
      "text/plain": [
       "Scanning spectrum:   0%|          | 0/20 [00:00<?, ?it/s]"
      ]
     },
     "metadata": {},
     "output_type": "display_data"
    },
    {
     "data": {
      "application/vnd.jupyter.widget-view+json": {
       "model_id": "31ef8446201e49efbade382f826f759f",
       "version_major": 2,
       "version_minor": 0
      },
      "text/plain": [
       "Scanning spectrum:   0%|          | 0/20 [00:00<?, ?it/s]"
      ]
     },
     "metadata": {},
     "output_type": "display_data"
    },
    {
     "data": {
      "application/vnd.jupyter.widget-view+json": {
       "model_id": "86674e83951a449a8747bfe880a3afb1",
       "version_major": 2,
       "version_minor": 0
      },
      "text/plain": [
       "Scanning spectrum:   0%|          | 0/20 [00:00<?, ?it/s]"
      ]
     },
     "metadata": {},
     "output_type": "display_data"
    },
    {
     "data": {
      "application/vnd.jupyter.widget-view+json": {
       "model_id": "bdbcb3b34fbe4f5bb457a8f6aa2e1fb7",
       "version_major": 2,
       "version_minor": 0
      },
      "text/plain": [
       "Scanning spectrum:   0%|          | 0/20 [00:00<?, ?it/s]"
      ]
     },
     "metadata": {},
     "output_type": "display_data"
    },
    {
     "data": {
      "application/vnd.jupyter.widget-view+json": {
       "model_id": "c04ae61389a04cc881f63262a10846b2",
       "version_major": 2,
       "version_minor": 0
      },
      "text/plain": [
       "Scanning spectrum:   0%|          | 0/20 [00:00<?, ?it/s]"
      ]
     },
     "metadata": {},
     "output_type": "display_data"
    },
    {
     "data": {
      "application/vnd.jupyter.widget-view+json": {
       "model_id": "6d9d743f76f74b6ebc05d132970f0565",
       "version_major": 2,
       "version_minor": 0
      },
      "text/plain": [
       "Scanning spectrum:   0%|          | 0/20 [00:00<?, ?it/s]"
      ]
     },
     "metadata": {},
     "output_type": "display_data"
    },
    {
     "data": {
      "application/vnd.jupyter.widget-view+json": {
       "model_id": "63d0bd69dd294a8a9acf8580df0f0b54",
       "version_major": 2,
       "version_minor": 0
      },
      "text/plain": [
       "Scanning spectrum:   0%|          | 0/20 [00:00<?, ?it/s]"
      ]
     },
     "metadata": {},
     "output_type": "display_data"
    },
    {
     "data": {
      "application/vnd.jupyter.widget-view+json": {
       "model_id": "33965f00300044dfbc1453144a69c6da",
       "version_major": 2,
       "version_minor": 0
      },
      "text/plain": [
       "Scanning spectrum:   0%|          | 0/20 [00:00<?, ?it/s]"
      ]
     },
     "metadata": {},
     "output_type": "display_data"
    },
    {
     "data": {
      "application/vnd.jupyter.widget-view+json": {
       "model_id": "6486d6568fcc44efa1b2acb18556bf3e",
       "version_major": 2,
       "version_minor": 0
      },
      "text/plain": [
       "Scanning spectrum:   0%|          | 0/20 [00:00<?, ?it/s]"
      ]
     },
     "metadata": {},
     "output_type": "display_data"
    },
    {
     "data": {
      "application/vnd.jupyter.widget-view+json": {
       "model_id": "8fa1f278f0a843918526b379e0a8d5a2",
       "version_major": 2,
       "version_minor": 0
      },
      "text/plain": [
       "Scanning spectrum:   0%|          | 0/20 [00:00<?, ?it/s]"
      ]
     },
     "metadata": {},
     "output_type": "display_data"
    },
    {
     "data": {
      "application/vnd.jupyter.widget-view+json": {
       "model_id": "e20e2738f02c48579bc4b496c2e4632b",
       "version_major": 2,
       "version_minor": 0
      },
      "text/plain": [
       "Scanning spectrum:   0%|          | 0/20 [00:00<?, ?it/s]"
      ]
     },
     "metadata": {},
     "output_type": "display_data"
    },
    {
     "data": {
      "application/vnd.jupyter.widget-view+json": {
       "model_id": "2d6e839ed5314bef94acd00af1b5dd4e",
       "version_major": 2,
       "version_minor": 0
      },
      "text/plain": [
       "Scanning spectrum:   0%|          | 0/20 [00:00<?, ?it/s]"
      ]
     },
     "metadata": {},
     "output_type": "display_data"
    },
    {
     "data": {
      "application/vnd.jupyter.widget-view+json": {
       "model_id": "f85f540668f1451fbcee962e250f2473",
       "version_major": 2,
       "version_minor": 0
      },
      "text/plain": [
       "Scanning spectrum:   0%|          | 0/20 [00:00<?, ?it/s]"
      ]
     },
     "metadata": {},
     "output_type": "display_data"
    },
    {
     "data": {
      "application/vnd.jupyter.widget-view+json": {
       "model_id": "62bfd8b0ec6c4802935e8ef5c86deebb",
       "version_major": 2,
       "version_minor": 0
      },
      "text/plain": [
       "Scanning spectrum:   0%|          | 0/20 [00:00<?, ?it/s]"
      ]
     },
     "metadata": {},
     "output_type": "display_data"
    },
    {
     "data": {
      "application/vnd.jupyter.widget-view+json": {
       "model_id": "f1ef390908d543e6923d1ee3398a8835",
       "version_major": 2,
       "version_minor": 0
      },
      "text/plain": [
       "Scanning spectrum:   0%|          | 0/20 [00:00<?, ?it/s]"
      ]
     },
     "metadata": {},
     "output_type": "display_data"
    },
    {
     "data": {
      "application/vnd.jupyter.widget-view+json": {
       "model_id": "f8f1040b2a3b4a818b90fe557f2a0efb",
       "version_major": 2,
       "version_minor": 0
      },
      "text/plain": [
       "Scanning spectrum:   0%|          | 0/20 [00:00<?, ?it/s]"
      ]
     },
     "metadata": {},
     "output_type": "display_data"
    },
    {
     "data": {
      "application/vnd.jupyter.widget-view+json": {
       "model_id": "6b27ae3799ee46969adced2f16651c67",
       "version_major": 2,
       "version_minor": 0
      },
      "text/plain": [
       "Scanning spectrum:   0%|          | 0/20 [00:00<?, ?it/s]"
      ]
     },
     "metadata": {},
     "output_type": "display_data"
    },
    {
     "data": {
      "application/vnd.jupyter.widget-view+json": {
       "model_id": "f920f37447f04d379f445438414a3675",
       "version_major": 2,
       "version_minor": 0
      },
      "text/plain": [
       "Scanning spectrum:   0%|          | 0/20 [00:00<?, ?it/s]"
      ]
     },
     "metadata": {},
     "output_type": "display_data"
    },
    {
     "data": {
      "application/vnd.jupyter.widget-view+json": {
       "model_id": "a461c3339ef94ffca0166de1bad75c8d",
       "version_major": 2,
       "version_minor": 0
      },
      "text/plain": [
       "Scanning spectrum:   0%|          | 0/20 [00:00<?, ?it/s]"
      ]
     },
     "metadata": {},
     "output_type": "display_data"
    },
    {
     "data": {
      "application/vnd.jupyter.widget-view+json": {
       "model_id": "29b062f943614ac7880f78e86e71f7c2",
       "version_major": 2,
       "version_minor": 0
      },
      "text/plain": [
       "Scanning spectrum:   0%|          | 0/20 [00:00<?, ?it/s]"
      ]
     },
     "metadata": {},
     "output_type": "display_data"
    },
    {
     "data": {
      "application/vnd.jupyter.widget-view+json": {
       "model_id": "78a61aaa6d294e26ac3d60a1c5c1ecc0",
       "version_major": 2,
       "version_minor": 0
      },
      "text/plain": [
       "Scanning spectrum:   0%|          | 0/20 [00:00<?, ?it/s]"
      ]
     },
     "metadata": {},
     "output_type": "display_data"
    },
    {
     "data": {
      "application/vnd.jupyter.widget-view+json": {
       "model_id": "0e3f0273e2bd4cc1baf98a8fdfa62b99",
       "version_major": 2,
       "version_minor": 0
      },
      "text/plain": [
       "Scanning spectrum:   0%|          | 0/20 [00:00<?, ?it/s]"
      ]
     },
     "metadata": {},
     "output_type": "display_data"
    },
    {
     "data": {
      "application/vnd.jupyter.widget-view+json": {
       "model_id": "83bf03fc1aec4d32887cbe5c928a5cc9",
       "version_major": 2,
       "version_minor": 0
      },
      "text/plain": [
       "Scanning spectrum:   0%|          | 0/20 [00:00<?, ?it/s]"
      ]
     },
     "metadata": {},
     "output_type": "display_data"
    },
    {
     "data": {
      "application/vnd.jupyter.widget-view+json": {
       "model_id": "89cea098525848c4aaa0bf67a58a6b67",
       "version_major": 2,
       "version_minor": 0
      },
      "text/plain": [
       "Scanning spectrum:   0%|          | 0/20 [00:00<?, ?it/s]"
      ]
     },
     "metadata": {},
     "output_type": "display_data"
    },
    {
     "data": {
      "application/vnd.jupyter.widget-view+json": {
       "model_id": "b9f7d5d32fbe49ad8a5f2640040422e3",
       "version_major": 2,
       "version_minor": 0
      },
      "text/plain": [
       "Scanning spectrum:   0%|          | 0/20 [00:00<?, ?it/s]"
      ]
     },
     "metadata": {},
     "output_type": "display_data"
    },
    {
     "data": {
      "application/vnd.jupyter.widget-view+json": {
       "model_id": "ee387431ccf044b0929d3b10147b857b",
       "version_major": 2,
       "version_minor": 0
      },
      "text/plain": [
       "Scanning spectrum:   0%|          | 0/20 [00:00<?, ?it/s]"
      ]
     },
     "metadata": {},
     "output_type": "display_data"
    },
    {
     "data": {
      "application/vnd.jupyter.widget-view+json": {
       "model_id": "d3ec73400d0745b6a25e0789b2b3e117",
       "version_major": 2,
       "version_minor": 0
      },
      "text/plain": [
       "Scanning spectrum:   0%|          | 0/20 [00:00<?, ?it/s]"
      ]
     },
     "metadata": {},
     "output_type": "display_data"
    },
    {
     "data": {
      "application/vnd.jupyter.widget-view+json": {
       "model_id": "9fe140571b9041f2a12692c4d4a214ae",
       "version_major": 2,
       "version_minor": 0
      },
      "text/plain": [
       "Scanning spectrum:   0%|          | 0/20 [00:00<?, ?it/s]"
      ]
     },
     "metadata": {},
     "output_type": "display_data"
    },
    {
     "data": {
      "application/vnd.jupyter.widget-view+json": {
       "model_id": "cc76ad9ff15644d5b64ec7907f5baa0c",
       "version_major": 2,
       "version_minor": 0
      },
      "text/plain": [
       "Scanning spectrum:   0%|          | 0/20 [00:00<?, ?it/s]"
      ]
     },
     "metadata": {},
     "output_type": "display_data"
    },
    {
     "data": {
      "application/vnd.jupyter.widget-view+json": {
       "model_id": "092023b7bf4c472b898d3e0438107339",
       "version_major": 2,
       "version_minor": 0
      },
      "text/plain": [
       "Scanning spectrum:   0%|          | 0/20 [00:00<?, ?it/s]"
      ]
     },
     "metadata": {},
     "output_type": "display_data"
    },
    {
     "data": {
      "application/vnd.jupyter.widget-view+json": {
       "model_id": "0d2b6acb5c9a496fa71ff8a7b48dcd64",
       "version_major": 2,
       "version_minor": 0
      },
      "text/plain": [
       "Scanning spectrum:   0%|          | 0/20 [00:00<?, ?it/s]"
      ]
     },
     "metadata": {},
     "output_type": "display_data"
    },
    {
     "data": {
      "application/vnd.jupyter.widget-view+json": {
       "model_id": "cea7301d28ac46928da1332cebc0a39c",
       "version_major": 2,
       "version_minor": 0
      },
      "text/plain": [
       "Scanning spectrum:   0%|          | 0/20 [00:00<?, ?it/s]"
      ]
     },
     "metadata": {},
     "output_type": "display_data"
    },
    {
     "data": {
      "application/vnd.jupyter.widget-view+json": {
       "model_id": "6afbd557726943138ad601dd12008af0",
       "version_major": 2,
       "version_minor": 0
      },
      "text/plain": [
       "Scanning spectrum:   0%|          | 0/20 [00:00<?, ?it/s]"
      ]
     },
     "metadata": {},
     "output_type": "display_data"
    },
    {
     "data": {
      "application/vnd.jupyter.widget-view+json": {
       "model_id": "c1b1bb25eeda41c29c0e83a53848cfbe",
       "version_major": 2,
       "version_minor": 0
      },
      "text/plain": [
       "Scanning spectrum:   0%|          | 0/20 [00:00<?, ?it/s]"
      ]
     },
     "metadata": {},
     "output_type": "display_data"
    },
    {
     "data": {
      "application/vnd.jupyter.widget-view+json": {
       "model_id": "0aba9db3a3d9464c8493e2dfe529b556",
       "version_major": 2,
       "version_minor": 0
      },
      "text/plain": [
       "Scanning spectrum:   0%|          | 0/20 [00:00<?, ?it/s]"
      ]
     },
     "metadata": {},
     "output_type": "display_data"
    },
    {
     "data": {
      "application/vnd.jupyter.widget-view+json": {
       "model_id": "5b4d8a9d5fac4240b9f3ac69f6572a96",
       "version_major": 2,
       "version_minor": 0
      },
      "text/plain": [
       "Scanning spectrum:   0%|          | 0/20 [00:00<?, ?it/s]"
      ]
     },
     "metadata": {},
     "output_type": "display_data"
    },
    {
     "data": {
      "application/vnd.jupyter.widget-view+json": {
       "model_id": "cc1e4f9137184b15a8658371c592798b",
       "version_major": 2,
       "version_minor": 0
      },
      "text/plain": [
       "Scanning spectrum:   0%|          | 0/20 [00:00<?, ?it/s]"
      ]
     },
     "metadata": {},
     "output_type": "display_data"
    },
    {
     "data": {
      "application/vnd.jupyter.widget-view+json": {
       "model_id": "1d32bd38d35b47a0982d6ed8aca03c70",
       "version_major": 2,
       "version_minor": 0
      },
      "text/plain": [
       "Scanning spectrum:   0%|          | 0/20 [00:00<?, ?it/s]"
      ]
     },
     "metadata": {},
     "output_type": "display_data"
    },
    {
     "data": {
      "application/vnd.jupyter.widget-view+json": {
       "model_id": "5d2a015b47ee48eaa484fb0fccf3cf9b",
       "version_major": 2,
       "version_minor": 0
      },
      "text/plain": [
       "Scanning spectrum:   0%|          | 0/20 [00:00<?, ?it/s]"
      ]
     },
     "metadata": {},
     "output_type": "display_data"
    },
    {
     "data": {
      "application/vnd.jupyter.widget-view+json": {
       "model_id": "dee23c188e9948999e7d1649d41c6979",
       "version_major": 2,
       "version_minor": 0
      },
      "text/plain": [
       "Scanning spectrum:   0%|          | 0/20 [00:00<?, ?it/s]"
      ]
     },
     "metadata": {},
     "output_type": "display_data"
    },
    {
     "data": {
      "application/vnd.jupyter.widget-view+json": {
       "model_id": "9f599c86d68545e795e147405b3cc291",
       "version_major": 2,
       "version_minor": 0
      },
      "text/plain": [
       "Scanning spectrum:   0%|          | 0/20 [00:00<?, ?it/s]"
      ]
     },
     "metadata": {},
     "output_type": "display_data"
    },
    {
     "data": {
      "application/vnd.jupyter.widget-view+json": {
       "model_id": "71ac64685b8e426fb370632715db3bf6",
       "version_major": 2,
       "version_minor": 0
      },
      "text/plain": [
       "Scanning spectrum:   0%|          | 0/20 [00:00<?, ?it/s]"
      ]
     },
     "metadata": {},
     "output_type": "display_data"
    },
    {
     "data": {
      "application/vnd.jupyter.widget-view+json": {
       "model_id": "51ee10074b1b45049eb9d82350dea88b",
       "version_major": 2,
       "version_minor": 0
      },
      "text/plain": [
       "Scanning spectrum:   0%|          | 0/20 [00:00<?, ?it/s]"
      ]
     },
     "metadata": {},
     "output_type": "display_data"
    },
    {
     "data": {
      "application/vnd.jupyter.widget-view+json": {
       "model_id": "dd4b0f814d5f456f80379840240aa16d",
       "version_major": 2,
       "version_minor": 0
      },
      "text/plain": [
       "Scanning spectrum:   0%|          | 0/20 [00:00<?, ?it/s]"
      ]
     },
     "metadata": {},
     "output_type": "display_data"
    },
    {
     "data": {
      "application/vnd.jupyter.widget-view+json": {
       "model_id": "3bfbc47c7ea740378e5de4ce30a68b05",
       "version_major": 2,
       "version_minor": 0
      },
      "text/plain": [
       "Scanning spectrum:   0%|          | 0/20 [00:00<?, ?it/s]"
      ]
     },
     "metadata": {},
     "output_type": "display_data"
    },
    {
     "data": {
      "application/vnd.jupyter.widget-view+json": {
       "model_id": "b21a097e48a64a16b6b5fd29b98c4136",
       "version_major": 2,
       "version_minor": 0
      },
      "text/plain": [
       "Scanning spectrum:   0%|          | 0/20 [00:00<?, ?it/s]"
      ]
     },
     "metadata": {},
     "output_type": "display_data"
    },
    {
     "data": {
      "application/vnd.jupyter.widget-view+json": {
       "model_id": "3d8534f1271e442fb92e8ccded65b8e8",
       "version_major": 2,
       "version_minor": 0
      },
      "text/plain": [
       "Scanning spectrum:   0%|          | 0/20 [00:00<?, ?it/s]"
      ]
     },
     "metadata": {},
     "output_type": "display_data"
    },
    {
     "data": {
      "application/vnd.jupyter.widget-view+json": {
       "model_id": "87d38f179281416d8bb73e9ddf143361",
       "version_major": 2,
       "version_minor": 0
      },
      "text/plain": [
       "Scanning spectrum:   0%|          | 0/20 [00:00<?, ?it/s]"
      ]
     },
     "metadata": {},
     "output_type": "display_data"
    },
    {
     "data": {
      "application/vnd.jupyter.widget-view+json": {
       "model_id": "00e0d5f9a1e94e29b0138259f62aecff",
       "version_major": 2,
       "version_minor": 0
      },
      "text/plain": [
       "Scanning spectrum:   0%|          | 0/20 [00:00<?, ?it/s]"
      ]
     },
     "metadata": {},
     "output_type": "display_data"
    },
    {
     "data": {
      "application/vnd.jupyter.widget-view+json": {
       "model_id": "c21681e4a0e04cb7ad899674bed241c4",
       "version_major": 2,
       "version_minor": 0
      },
      "text/plain": [
       "Scanning spectrum:   0%|          | 0/20 [00:00<?, ?it/s]"
      ]
     },
     "metadata": {},
     "output_type": "display_data"
    },
    {
     "data": {
      "application/vnd.jupyter.widget-view+json": {
       "model_id": "62a9c46a81b5484e890900fb3caca6ab",
       "version_major": 2,
       "version_minor": 0
      },
      "text/plain": [
       "Scanning spectrum:   0%|          | 0/20 [00:00<?, ?it/s]"
      ]
     },
     "metadata": {},
     "output_type": "display_data"
    },
    {
     "data": {
      "application/vnd.jupyter.widget-view+json": {
       "model_id": "36e49b3c570b42be9b642004967c495c",
       "version_major": 2,
       "version_minor": 0
      },
      "text/plain": [
       "Scanning spectrum:   0%|          | 0/20 [00:00<?, ?it/s]"
      ]
     },
     "metadata": {},
     "output_type": "display_data"
    },
    {
     "data": {
      "application/vnd.jupyter.widget-view+json": {
       "model_id": "6129176d025645e98ea0848a197e57e7",
       "version_major": 2,
       "version_minor": 0
      },
      "text/plain": [
       "Scanning spectrum:   0%|          | 0/20 [00:00<?, ?it/s]"
      ]
     },
     "metadata": {},
     "output_type": "display_data"
    },
    {
     "data": {
      "application/vnd.jupyter.widget-view+json": {
       "model_id": "99468ae1bb8c4937ada350fdf11124fd",
       "version_major": 2,
       "version_minor": 0
      },
      "text/plain": [
       "Scanning spectrum:   0%|          | 0/20 [00:00<?, ?it/s]"
      ]
     },
     "metadata": {},
     "output_type": "display_data"
    },
    {
     "data": {
      "application/vnd.jupyter.widget-view+json": {
       "model_id": "0db27483f757433795a376f2a1a38080",
       "version_major": 2,
       "version_minor": 0
      },
      "text/plain": [
       "Scanning spectrum:   0%|          | 0/20 [00:00<?, ?it/s]"
      ]
     },
     "metadata": {},
     "output_type": "display_data"
    },
    {
     "data": {
      "application/vnd.jupyter.widget-view+json": {
       "model_id": "bee0524aba754ab6aefb23433df2cba7",
       "version_major": 2,
       "version_minor": 0
      },
      "text/plain": [
       "Scanning spectrum:   0%|          | 0/20 [00:00<?, ?it/s]"
      ]
     },
     "metadata": {},
     "output_type": "display_data"
    },
    {
     "data": {
      "application/vnd.jupyter.widget-view+json": {
       "model_id": "d8eae6fbcee04b1581629a3e63621883",
       "version_major": 2,
       "version_minor": 0
      },
      "text/plain": [
       "Scanning spectrum:   0%|          | 0/20 [00:00<?, ?it/s]"
      ]
     },
     "metadata": {},
     "output_type": "display_data"
    },
    {
     "data": {
      "application/vnd.jupyter.widget-view+json": {
       "model_id": "36c6ef365d8843f6a0513593cc646473",
       "version_major": 2,
       "version_minor": 0
      },
      "text/plain": [
       "Scanning spectrum:   0%|          | 0/20 [00:00<?, ?it/s]"
      ]
     },
     "metadata": {},
     "output_type": "display_data"
    },
    {
     "data": {
      "application/vnd.jupyter.widget-view+json": {
       "model_id": "48a46370447f44da948277b2db045bc8",
       "version_major": 2,
       "version_minor": 0
      },
      "text/plain": [
       "Scanning spectrum:   0%|          | 0/20 [00:00<?, ?it/s]"
      ]
     },
     "metadata": {},
     "output_type": "display_data"
    },
    {
     "data": {
      "application/vnd.jupyter.widget-view+json": {
       "model_id": "d7c53e2130a6421bb8eee8c8844491c1",
       "version_major": 2,
       "version_minor": 0
      },
      "text/plain": [
       "Scanning spectrum:   0%|          | 0/20 [00:00<?, ?it/s]"
      ]
     },
     "metadata": {},
     "output_type": "display_data"
    },
    {
     "data": {
      "application/vnd.jupyter.widget-view+json": {
       "model_id": "d9f7b6c43ee745a5925213c24d610075",
       "version_major": 2,
       "version_minor": 0
      },
      "text/plain": [
       "Scanning spectrum:   0%|          | 0/20 [00:00<?, ?it/s]"
      ]
     },
     "metadata": {},
     "output_type": "display_data"
    },
    {
     "data": {
      "application/vnd.jupyter.widget-view+json": {
       "model_id": "b5b08ed6f7f5461298ba4bc5ffee1b66",
       "version_major": 2,
       "version_minor": 0
      },
      "text/plain": [
       "Scanning spectrum:   0%|          | 0/20 [00:00<?, ?it/s]"
      ]
     },
     "metadata": {},
     "output_type": "display_data"
    },
    {
     "data": {
      "application/vnd.jupyter.widget-view+json": {
       "model_id": "8df1686e2c264e7da097cb62f5ad5c75",
       "version_major": 2,
       "version_minor": 0
      },
      "text/plain": [
       "Scanning spectrum:   0%|          | 0/20 [00:00<?, ?it/s]"
      ]
     },
     "metadata": {},
     "output_type": "display_data"
    },
    {
     "data": {
      "application/vnd.jupyter.widget-view+json": {
       "model_id": "a50c78fd53934fc9803956eecce6b338",
       "version_major": 2,
       "version_minor": 0
      },
      "text/plain": [
       "Scanning spectrum:   0%|          | 0/20 [00:00<?, ?it/s]"
      ]
     },
     "metadata": {},
     "output_type": "display_data"
    },
    {
     "data": {
      "application/vnd.jupyter.widget-view+json": {
       "model_id": "0b48c79d71f849419a6d9b0cc2746736",
       "version_major": 2,
       "version_minor": 0
      },
      "text/plain": [
       "Scanning spectrum:   0%|          | 0/20 [00:00<?, ?it/s]"
      ]
     },
     "metadata": {},
     "output_type": "display_data"
    },
    {
     "data": {
      "application/vnd.jupyter.widget-view+json": {
       "model_id": "78b703be69944489b82b78798618de8f",
       "version_major": 2,
       "version_minor": 0
      },
      "text/plain": [
       "Scanning spectrum:   0%|          | 0/20 [00:00<?, ?it/s]"
      ]
     },
     "metadata": {},
     "output_type": "display_data"
    },
    {
     "data": {
      "application/vnd.jupyter.widget-view+json": {
       "model_id": "167101e90cc1427280153759eddff820",
       "version_major": 2,
       "version_minor": 0
      },
      "text/plain": [
       "Scanning spectrum:   0%|          | 0/20 [00:00<?, ?it/s]"
      ]
     },
     "metadata": {},
     "output_type": "display_data"
    },
    {
     "data": {
      "application/vnd.jupyter.widget-view+json": {
       "model_id": "9d6543c47f2b4292a93d0fe74bb3fb27",
       "version_major": 2,
       "version_minor": 0
      },
      "text/plain": [
       "Scanning spectrum:   0%|          | 0/20 [00:00<?, ?it/s]"
      ]
     },
     "metadata": {},
     "output_type": "display_data"
    },
    {
     "data": {
      "application/vnd.jupyter.widget-view+json": {
       "model_id": "1aef68e00e0b4c57bf97a4ac5de0c173",
       "version_major": 2,
       "version_minor": 0
      },
      "text/plain": [
       "Scanning spectrum:   0%|          | 0/20 [00:00<?, ?it/s]"
      ]
     },
     "metadata": {},
     "output_type": "display_data"
    },
    {
     "data": {
      "application/vnd.jupyter.widget-view+json": {
       "model_id": "b1d4f73ad36b4495a9aba47768b4cccd",
       "version_major": 2,
       "version_minor": 0
      },
      "text/plain": [
       "Scanning spectrum:   0%|          | 0/20 [00:00<?, ?it/s]"
      ]
     },
     "metadata": {},
     "output_type": "display_data"
    },
    {
     "data": {
      "application/vnd.jupyter.widget-view+json": {
       "model_id": "751a139f78ce4c3f9b15897787994cf8",
       "version_major": 2,
       "version_minor": 0
      },
      "text/plain": [
       "Scanning spectrum:   0%|          | 0/20 [00:00<?, ?it/s]"
      ]
     },
     "metadata": {},
     "output_type": "display_data"
    },
    {
     "data": {
      "application/vnd.jupyter.widget-view+json": {
       "model_id": "fafda3f6e6894c3fb0f7acfb8d534533",
       "version_major": 2,
       "version_minor": 0
      },
      "text/plain": [
       "Scanning spectrum:   0%|          | 0/20 [00:00<?, ?it/s]"
      ]
     },
     "metadata": {},
     "output_type": "display_data"
    },
    {
     "data": {
      "application/vnd.jupyter.widget-view+json": {
       "model_id": "c239b62cbb69441b8bd0394f139203c0",
       "version_major": 2,
       "version_minor": 0
      },
      "text/plain": [
       "Scanning spectrum:   0%|          | 0/20 [00:00<?, ?it/s]"
      ]
     },
     "metadata": {},
     "output_type": "display_data"
    },
    {
     "data": {
      "application/vnd.jupyter.widget-view+json": {
       "model_id": "8b6311ae1a6b411cb869b53a983dc3fa",
       "version_major": 2,
       "version_minor": 0
      },
      "text/plain": [
       "Scanning spectrum:   0%|          | 0/20 [00:00<?, ?it/s]"
      ]
     },
     "metadata": {},
     "output_type": "display_data"
    },
    {
     "data": {
      "application/vnd.jupyter.widget-view+json": {
       "model_id": "e3844fe2cb754e669310e22e654e0165",
       "version_major": 2,
       "version_minor": 0
      },
      "text/plain": [
       "Scanning spectrum:   0%|          | 0/20 [00:00<?, ?it/s]"
      ]
     },
     "metadata": {},
     "output_type": "display_data"
    },
    {
     "data": {
      "application/vnd.jupyter.widget-view+json": {
       "model_id": "45dfaa0351174982873445b628e89a68",
       "version_major": 2,
       "version_minor": 0
      },
      "text/plain": [
       "Scanning spectrum:   0%|          | 0/20 [00:00<?, ?it/s]"
      ]
     },
     "metadata": {},
     "output_type": "display_data"
    },
    {
     "data": {
      "application/vnd.jupyter.widget-view+json": {
       "model_id": "3157e02bc0b0416f82ecfabbce043b1e",
       "version_major": 2,
       "version_minor": 0
      },
      "text/plain": [
       "Scanning spectrum:   0%|          | 0/20 [00:00<?, ?it/s]"
      ]
     },
     "metadata": {},
     "output_type": "display_data"
    },
    {
     "data": {
      "application/vnd.jupyter.widget-view+json": {
       "model_id": "c8f49802736346a5be026fcaded3c11e",
       "version_major": 2,
       "version_minor": 0
      },
      "text/plain": [
       "Scanning spectrum:   0%|          | 0/20 [00:00<?, ?it/s]"
      ]
     },
     "metadata": {},
     "output_type": "display_data"
    },
    {
     "data": {
      "application/vnd.jupyter.widget-view+json": {
       "model_id": "611ae33902a6475eb75982f99f76b6f5",
       "version_major": 2,
       "version_minor": 0
      },
      "text/plain": [
       "Scanning spectrum:   0%|          | 0/20 [00:00<?, ?it/s]"
      ]
     },
     "metadata": {},
     "output_type": "display_data"
    },
    {
     "data": {
      "application/vnd.jupyter.widget-view+json": {
       "model_id": "582dc8a82e7a4df2bdc932cbd9494dd2",
       "version_major": 2,
       "version_minor": 0
      },
      "text/plain": [
       "Scanning spectrum:   0%|          | 0/20 [00:00<?, ?it/s]"
      ]
     },
     "metadata": {},
     "output_type": "display_data"
    },
    {
     "data": {
      "application/vnd.jupyter.widget-view+json": {
       "model_id": "7f1117fa1fb4492daf8d82b413c66a0b",
       "version_major": 2,
       "version_minor": 0
      },
      "text/plain": [
       "Scanning spectrum:   0%|          | 0/20 [00:00<?, ?it/s]"
      ]
     },
     "metadata": {},
     "output_type": "display_data"
    },
    {
     "data": {
      "application/vnd.jupyter.widget-view+json": {
       "model_id": "6a8a82a9b07347bfbf8e9bb5d1f0f707",
       "version_major": 2,
       "version_minor": 0
      },
      "text/plain": [
       "Scanning spectrum:   0%|          | 0/20 [00:00<?, ?it/s]"
      ]
     },
     "metadata": {},
     "output_type": "display_data"
    },
    {
     "data": {
      "application/vnd.jupyter.widget-view+json": {
       "model_id": "8586198acda34f13a2c1591fa6e16206",
       "version_major": 2,
       "version_minor": 0
      },
      "text/plain": [
       "Scanning spectrum:   0%|          | 0/20 [00:00<?, ?it/s]"
      ]
     },
     "metadata": {},
     "output_type": "display_data"
    },
    {
     "data": {
      "application/vnd.jupyter.widget-view+json": {
       "model_id": "beaedd01353e400baed707b2243f7632",
       "version_major": 2,
       "version_minor": 0
      },
      "text/plain": [
       "Scanning spectrum:   0%|          | 0/20 [00:00<?, ?it/s]"
      ]
     },
     "metadata": {},
     "output_type": "display_data"
    },
    {
     "data": {
      "application/vnd.jupyter.widget-view+json": {
       "model_id": "a5369fe022484fa288349e9dd23081f6",
       "version_major": 2,
       "version_minor": 0
      },
      "text/plain": [
       "Scanning spectrum:   0%|          | 0/20 [00:00<?, ?it/s]"
      ]
     },
     "metadata": {},
     "output_type": "display_data"
    },
    {
     "data": {
      "application/vnd.jupyter.widget-view+json": {
       "model_id": "184c87cb27834d3d9327b21da0481f96",
       "version_major": 2,
       "version_minor": 0
      },
      "text/plain": [
       "Scanning spectrum:   0%|          | 0/20 [00:00<?, ?it/s]"
      ]
     },
     "metadata": {},
     "output_type": "display_data"
    },
    {
     "data": {
      "application/vnd.jupyter.widget-view+json": {
       "model_id": "f6295316f4f04ccd84d6d37e95fe54f5",
       "version_major": 2,
       "version_minor": 0
      },
      "text/plain": [
       "Scanning spectrum:   0%|          | 0/20 [00:00<?, ?it/s]"
      ]
     },
     "metadata": {},
     "output_type": "display_data"
    },
    {
     "data": {
      "application/vnd.jupyter.widget-view+json": {
       "model_id": "8ba31002f923488192c7c1c911ee27b2",
       "version_major": 2,
       "version_minor": 0
      },
      "text/plain": [
       "Scanning spectrum:   0%|          | 0/20 [00:00<?, ?it/s]"
      ]
     },
     "metadata": {},
     "output_type": "display_data"
    },
    {
     "data": {
      "application/vnd.jupyter.widget-view+json": {
       "model_id": "4d44ec6edc2d4225befbb712638fddbd",
       "version_major": 2,
       "version_minor": 0
      },
      "text/plain": [
       "Scanning spectrum:   0%|          | 0/20 [00:00<?, ?it/s]"
      ]
     },
     "metadata": {},
     "output_type": "display_data"
    },
    {
     "data": {
      "application/vnd.jupyter.widget-view+json": {
       "model_id": "b1ef082b96e44fa19433195a2edfb4cd",
       "version_major": 2,
       "version_minor": 0
      },
      "text/plain": [
       "Scanning spectrum:   0%|          | 0/20 [00:00<?, ?it/s]"
      ]
     },
     "metadata": {},
     "output_type": "display_data"
    },
    {
     "data": {
      "application/vnd.jupyter.widget-view+json": {
       "model_id": "45ec6bb41ce7407c87c4ffdb2a2c8f42",
       "version_major": 2,
       "version_minor": 0
      },
      "text/plain": [
       "Scanning spectrum:   0%|          | 0/20 [00:00<?, ?it/s]"
      ]
     },
     "metadata": {},
     "output_type": "display_data"
    },
    {
     "data": {
      "application/vnd.jupyter.widget-view+json": {
       "model_id": "7a94f1a048da4122ad3ed925df3cecae",
       "version_major": 2,
       "version_minor": 0
      },
      "text/plain": [
       "Scanning spectrum:   0%|          | 0/20 [00:00<?, ?it/s]"
      ]
     },
     "metadata": {},
     "output_type": "display_data"
    },
    {
     "data": {
      "application/vnd.jupyter.widget-view+json": {
       "model_id": "913410a208984280a7be28e2ccb85168",
       "version_major": 2,
       "version_minor": 0
      },
      "text/plain": [
       "Scanning spectrum:   0%|          | 0/20 [00:00<?, ?it/s]"
      ]
     },
     "metadata": {},
     "output_type": "display_data"
    },
    {
     "data": {
      "application/vnd.jupyter.widget-view+json": {
       "model_id": "cce84ee7153443a5b48ac03172e23a0c",
       "version_major": 2,
       "version_minor": 0
      },
      "text/plain": [
       "Scanning spectrum:   0%|          | 0/20 [00:00<?, ?it/s]"
      ]
     },
     "metadata": {},
     "output_type": "display_data"
    },
    {
     "data": {
      "application/vnd.jupyter.widget-view+json": {
       "model_id": "00b724b47b5441f7a8f0f3ff97ed35a7",
       "version_major": 2,
       "version_minor": 0
      },
      "text/plain": [
       "Scanning spectrum:   0%|          | 0/20 [00:00<?, ?it/s]"
      ]
     },
     "metadata": {},
     "output_type": "display_data"
    },
    {
     "data": {
      "application/vnd.jupyter.widget-view+json": {
       "model_id": "b0db4f370fb2422ebd65069566124750",
       "version_major": 2,
       "version_minor": 0
      },
      "text/plain": [
       "Scanning spectrum:   0%|          | 0/20 [00:00<?, ?it/s]"
      ]
     },
     "metadata": {},
     "output_type": "display_data"
    },
    {
     "data": {
      "application/vnd.jupyter.widget-view+json": {
       "model_id": "1e212074ed7d46c8a9aa7b3be2e6565c",
       "version_major": 2,
       "version_minor": 0
      },
      "text/plain": [
       "Scanning spectrum:   0%|          | 0/20 [00:00<?, ?it/s]"
      ]
     },
     "metadata": {},
     "output_type": "display_data"
    },
    {
     "data": {
      "application/vnd.jupyter.widget-view+json": {
       "model_id": "fb9c820f7cb94b71a96231623d45e415",
       "version_major": 2,
       "version_minor": 0
      },
      "text/plain": [
       "Scanning spectrum:   0%|          | 0/20 [00:00<?, ?it/s]"
      ]
     },
     "metadata": {},
     "output_type": "display_data"
    },
    {
     "data": {
      "application/vnd.jupyter.widget-view+json": {
       "model_id": "7232cdef354c46b2afe68a121b79f5a3",
       "version_major": 2,
       "version_minor": 0
      },
      "text/plain": [
       "Scanning spectrum:   0%|          | 0/20 [00:00<?, ?it/s]"
      ]
     },
     "metadata": {},
     "output_type": "display_data"
    },
    {
     "data": {
      "application/vnd.jupyter.widget-view+json": {
       "model_id": "a16a47a3a86243b7a342d054ef7fae01",
       "version_major": 2,
       "version_minor": 0
      },
      "text/plain": [
       "Scanning spectrum:   0%|          | 0/20 [00:00<?, ?it/s]"
      ]
     },
     "metadata": {},
     "output_type": "display_data"
    },
    {
     "data": {
      "application/vnd.jupyter.widget-view+json": {
       "model_id": "0eae6c01903e4db1a1e71362a9ea1a59",
       "version_major": 2,
       "version_minor": 0
      },
      "text/plain": [
       "Scanning spectrum:   0%|          | 0/20 [00:00<?, ?it/s]"
      ]
     },
     "metadata": {},
     "output_type": "display_data"
    },
    {
     "data": {
      "application/vnd.jupyter.widget-view+json": {
       "model_id": "87e0606ee49f45f6b8397ac91fd9a96f",
       "version_major": 2,
       "version_minor": 0
      },
      "text/plain": [
       "Scanning spectrum:   0%|          | 0/20 [00:00<?, ?it/s]"
      ]
     },
     "metadata": {},
     "output_type": "display_data"
    },
    {
     "data": {
      "application/vnd.jupyter.widget-view+json": {
       "model_id": "f34ea915189f4c78b03497fb2a823709",
       "version_major": 2,
       "version_minor": 0
      },
      "text/plain": [
       "Scanning spectrum:   0%|          | 0/20 [00:00<?, ?it/s]"
      ]
     },
     "metadata": {},
     "output_type": "display_data"
    },
    {
     "data": {
      "application/vnd.jupyter.widget-view+json": {
       "model_id": "88c03298c0084f2e9737d983ce556bc5",
       "version_major": 2,
       "version_minor": 0
      },
      "text/plain": [
       "Scanning spectrum:   0%|          | 0/20 [00:00<?, ?it/s]"
      ]
     },
     "metadata": {},
     "output_type": "display_data"
    },
    {
     "data": {
      "application/vnd.jupyter.widget-view+json": {
       "model_id": "2eb2bcd42f87446eb7cc95e8e145df32",
       "version_major": 2,
       "version_minor": 0
      },
      "text/plain": [
       "Scanning spectrum:   0%|          | 0/20 [00:00<?, ?it/s]"
      ]
     },
     "metadata": {},
     "output_type": "display_data"
    },
    {
     "data": {
      "application/vnd.jupyter.widget-view+json": {
       "model_id": "52906d1868464785a907040f2638634c",
       "version_major": 2,
       "version_minor": 0
      },
      "text/plain": [
       "Scanning spectrum:   0%|          | 0/20 [00:00<?, ?it/s]"
      ]
     },
     "metadata": {},
     "output_type": "display_data"
    },
    {
     "data": {
      "application/vnd.jupyter.widget-view+json": {
       "model_id": "4fcf91c50c3145fd94bf2466bcbcb91e",
       "version_major": 2,
       "version_minor": 0
      },
      "text/plain": [
       "Scanning spectrum:   0%|          | 0/20 [00:00<?, ?it/s]"
      ]
     },
     "metadata": {},
     "output_type": "display_data"
    },
    {
     "data": {
      "application/vnd.jupyter.widget-view+json": {
       "model_id": "d814438f5bf045fca4404ca02d1d4db0",
       "version_major": 2,
       "version_minor": 0
      },
      "text/plain": [
       "Scanning spectrum:   0%|          | 0/20 [00:00<?, ?it/s]"
      ]
     },
     "metadata": {},
     "output_type": "display_data"
    },
    {
     "data": {
      "application/vnd.jupyter.widget-view+json": {
       "model_id": "628c210ecde54eb68833fc29787252b9",
       "version_major": 2,
       "version_minor": 0
      },
      "text/plain": [
       "Scanning spectrum:   0%|          | 0/20 [00:00<?, ?it/s]"
      ]
     },
     "metadata": {},
     "output_type": "display_data"
    },
    {
     "data": {
      "application/vnd.jupyter.widget-view+json": {
       "model_id": "b01f8d2d450d443782dda922ad4527f6",
       "version_major": 2,
       "version_minor": 0
      },
      "text/plain": [
       "Scanning spectrum:   0%|          | 0/20 [00:00<?, ?it/s]"
      ]
     },
     "metadata": {},
     "output_type": "display_data"
    },
    {
     "data": {
      "application/vnd.jupyter.widget-view+json": {
       "model_id": "acd0499a41724851a84823884656f5f8",
       "version_major": 2,
       "version_minor": 0
      },
      "text/plain": [
       "Scanning spectrum:   0%|          | 0/20 [00:00<?, ?it/s]"
      ]
     },
     "metadata": {},
     "output_type": "display_data"
    },
    {
     "data": {
      "application/vnd.jupyter.widget-view+json": {
       "model_id": "2a69966797aa490c9b7f376e28f8c543",
       "version_major": 2,
       "version_minor": 0
      },
      "text/plain": [
       "Scanning spectrum:   0%|          | 0/20 [00:00<?, ?it/s]"
      ]
     },
     "metadata": {},
     "output_type": "display_data"
    },
    {
     "data": {
      "application/vnd.jupyter.widget-view+json": {
       "model_id": "633c755e30804791909f7673ea64c8f8",
       "version_major": 2,
       "version_minor": 0
      },
      "text/plain": [
       "Scanning spectrum:   0%|          | 0/20 [00:00<?, ?it/s]"
      ]
     },
     "metadata": {},
     "output_type": "display_data"
    },
    {
     "data": {
      "application/vnd.jupyter.widget-view+json": {
       "model_id": "ea6c4aed327443dca15cdfc4e43e7640",
       "version_major": 2,
       "version_minor": 0
      },
      "text/plain": [
       "Scanning spectrum:   0%|          | 0/20 [00:00<?, ?it/s]"
      ]
     },
     "metadata": {},
     "output_type": "display_data"
    },
    {
     "data": {
      "application/vnd.jupyter.widget-view+json": {
       "model_id": "b4de3a567056435291589bf95cc6d827",
       "version_major": 2,
       "version_minor": 0
      },
      "text/plain": [
       "Scanning spectrum:   0%|          | 0/20 [00:00<?, ?it/s]"
      ]
     },
     "metadata": {},
     "output_type": "display_data"
    },
    {
     "data": {
      "application/vnd.jupyter.widget-view+json": {
       "model_id": "ccc53a9a349b402cac7574a5fa285b6d",
       "version_major": 2,
       "version_minor": 0
      },
      "text/plain": [
       "Scanning spectrum:   0%|          | 0/20 [00:00<?, ?it/s]"
      ]
     },
     "metadata": {},
     "output_type": "display_data"
    },
    {
     "data": {
      "application/vnd.jupyter.widget-view+json": {
       "model_id": "b651a73f66784a25b5616aa1a89cd57b",
       "version_major": 2,
       "version_minor": 0
      },
      "text/plain": [
       "Scanning spectrum:   0%|          | 0/20 [00:00<?, ?it/s]"
      ]
     },
     "metadata": {},
     "output_type": "display_data"
    },
    {
     "data": {
      "application/vnd.jupyter.widget-view+json": {
       "model_id": "36222aa7951b48ffb89c0fc58ae26f45",
       "version_major": 2,
       "version_minor": 0
      },
      "text/plain": [
       "Scanning spectrum:   0%|          | 0/20 [00:00<?, ?it/s]"
      ]
     },
     "metadata": {},
     "output_type": "display_data"
    },
    {
     "data": {
      "application/vnd.jupyter.widget-view+json": {
       "model_id": "0a4d520bbb274f529c63f3ca63a1eda6",
       "version_major": 2,
       "version_minor": 0
      },
      "text/plain": [
       "Scanning spectrum:   0%|          | 0/20 [00:00<?, ?it/s]"
      ]
     },
     "metadata": {},
     "output_type": "display_data"
    },
    {
     "data": {
      "application/vnd.jupyter.widget-view+json": {
       "model_id": "777f61cfb49d47aca2e83838e5ae65c3",
       "version_major": 2,
       "version_minor": 0
      },
      "text/plain": [
       "Scanning spectrum:   0%|          | 0/20 [00:00<?, ?it/s]"
      ]
     },
     "metadata": {},
     "output_type": "display_data"
    },
    {
     "data": {
      "application/vnd.jupyter.widget-view+json": {
       "model_id": "8f3ab7eb8d0642ae9e4238e8627187e9",
       "version_major": 2,
       "version_minor": 0
      },
      "text/plain": [
       "Scanning spectrum:   0%|          | 0/20 [00:00<?, ?it/s]"
      ]
     },
     "metadata": {},
     "output_type": "display_data"
    },
    {
     "data": {
      "application/vnd.jupyter.widget-view+json": {
       "model_id": "29583cae04074626b8499dfafae194f6",
       "version_major": 2,
       "version_minor": 0
      },
      "text/plain": [
       "Scanning spectrum:   0%|          | 0/20 [00:00<?, ?it/s]"
      ]
     },
     "metadata": {},
     "output_type": "display_data"
    },
    {
     "data": {
      "application/vnd.jupyter.widget-view+json": {
       "model_id": "865c6d9f536c4e509cc7f84068fcfe82",
       "version_major": 2,
       "version_minor": 0
      },
      "text/plain": [
       "Scanning spectrum:   0%|          | 0/20 [00:00<?, ?it/s]"
      ]
     },
     "metadata": {},
     "output_type": "display_data"
    },
    {
     "data": {
      "application/vnd.jupyter.widget-view+json": {
       "model_id": "251f7bc100804916898bec4ce852ad9a",
       "version_major": 2,
       "version_minor": 0
      },
      "text/plain": [
       "Scanning spectrum:   0%|          | 0/20 [00:00<?, ?it/s]"
      ]
     },
     "metadata": {},
     "output_type": "display_data"
    },
    {
     "data": {
      "application/vnd.jupyter.widget-view+json": {
       "model_id": "20752c7fbeba47c79f402c5b9c7c9f07",
       "version_major": 2,
       "version_minor": 0
      },
      "text/plain": [
       "Scanning spectrum:   0%|          | 0/20 [00:00<?, ?it/s]"
      ]
     },
     "metadata": {},
     "output_type": "display_data"
    },
    {
     "data": {
      "application/vnd.jupyter.widget-view+json": {
       "model_id": "87fbc9c6d719402cb612af53d563878c",
       "version_major": 2,
       "version_minor": 0
      },
      "text/plain": [
       "Scanning spectrum:   0%|          | 0/20 [00:00<?, ?it/s]"
      ]
     },
     "metadata": {},
     "output_type": "display_data"
    },
    {
     "data": {
      "application/vnd.jupyter.widget-view+json": {
       "model_id": "7c25763f43bb4078ab1f92f2a941d2ba",
       "version_major": 2,
       "version_minor": 0
      },
      "text/plain": [
       "Scanning spectrum:   0%|          | 0/20 [00:00<?, ?it/s]"
      ]
     },
     "metadata": {},
     "output_type": "display_data"
    },
    {
     "data": {
      "application/vnd.jupyter.widget-view+json": {
       "model_id": "8f2c26b564cf4212be68edfe2c5ce5d2",
       "version_major": 2,
       "version_minor": 0
      },
      "text/plain": [
       "Scanning spectrum:   0%|          | 0/20 [00:00<?, ?it/s]"
      ]
     },
     "metadata": {},
     "output_type": "display_data"
    },
    {
     "data": {
      "application/vnd.jupyter.widget-view+json": {
       "model_id": "e9bcfee984394b488b29d42b607361f5",
       "version_major": 2,
       "version_minor": 0
      },
      "text/plain": [
       "Scanning spectrum:   0%|          | 0/20 [00:00<?, ?it/s]"
      ]
     },
     "metadata": {},
     "output_type": "display_data"
    },
    {
     "data": {
      "application/vnd.jupyter.widget-view+json": {
       "model_id": "ee8b25386e964aac8c2855c105589fed",
       "version_major": 2,
       "version_minor": 0
      },
      "text/plain": [
       "Scanning spectrum:   0%|          | 0/20 [00:00<?, ?it/s]"
      ]
     },
     "metadata": {},
     "output_type": "display_data"
    },
    {
     "data": {
      "application/vnd.jupyter.widget-view+json": {
       "model_id": "8a194baef04a4d2d96a54510afb3a6eb",
       "version_major": 2,
       "version_minor": 0
      },
      "text/plain": [
       "Scanning spectrum:   0%|          | 0/20 [00:00<?, ?it/s]"
      ]
     },
     "metadata": {},
     "output_type": "display_data"
    },
    {
     "data": {
      "application/vnd.jupyter.widget-view+json": {
       "model_id": "c4359e9d0b7a4188bb69af2277cf7ed0",
       "version_major": 2,
       "version_minor": 0
      },
      "text/plain": [
       "Scanning spectrum:   0%|          | 0/20 [00:00<?, ?it/s]"
      ]
     },
     "metadata": {},
     "output_type": "display_data"
    },
    {
     "data": {
      "application/vnd.jupyter.widget-view+json": {
       "model_id": "83843cc9a934499b86c593922a12224c",
       "version_major": 2,
       "version_minor": 0
      },
      "text/plain": [
       "Scanning spectrum:   0%|          | 0/20 [00:00<?, ?it/s]"
      ]
     },
     "metadata": {},
     "output_type": "display_data"
    },
    {
     "data": {
      "application/vnd.jupyter.widget-view+json": {
       "model_id": "5171abb60a58484e95c8e07f21467c90",
       "version_major": 2,
       "version_minor": 0
      },
      "text/plain": [
       "Scanning spectrum:   0%|          | 0/20 [00:00<?, ?it/s]"
      ]
     },
     "metadata": {},
     "output_type": "display_data"
    },
    {
     "data": {
      "application/vnd.jupyter.widget-view+json": {
       "model_id": "73b30b42ea7e4811a59c2369771560d6",
       "version_major": 2,
       "version_minor": 0
      },
      "text/plain": [
       "Scanning spectrum:   0%|          | 0/20 [00:00<?, ?it/s]"
      ]
     },
     "metadata": {},
     "output_type": "display_data"
    },
    {
     "data": {
      "application/vnd.jupyter.widget-view+json": {
       "model_id": "aa8e382a2247441ea4a879ec26feb155",
       "version_major": 2,
       "version_minor": 0
      },
      "text/plain": [
       "Scanning spectrum:   0%|          | 0/20 [00:00<?, ?it/s]"
      ]
     },
     "metadata": {},
     "output_type": "display_data"
    },
    {
     "data": {
      "application/vnd.jupyter.widget-view+json": {
       "model_id": "77e89f5628a64496ba8b02c404273e09",
       "version_major": 2,
       "version_minor": 0
      },
      "text/plain": [
       "Scanning spectrum:   0%|          | 0/20 [00:00<?, ?it/s]"
      ]
     },
     "metadata": {},
     "output_type": "display_data"
    },
    {
     "data": {
      "application/vnd.jupyter.widget-view+json": {
       "model_id": "9279d5f63a9c4cfdbf81c35af69ff455",
       "version_major": 2,
       "version_minor": 0
      },
      "text/plain": [
       "Scanning spectrum:   0%|          | 0/20 [00:00<?, ?it/s]"
      ]
     },
     "metadata": {},
     "output_type": "display_data"
    },
    {
     "data": {
      "application/vnd.jupyter.widget-view+json": {
       "model_id": "8d3b89d0bb254b458f7f14050002d552",
       "version_major": 2,
       "version_minor": 0
      },
      "text/plain": [
       "Scanning spectrum:   0%|          | 0/20 [00:00<?, ?it/s]"
      ]
     },
     "metadata": {},
     "output_type": "display_data"
    },
    {
     "data": {
      "application/vnd.jupyter.widget-view+json": {
       "model_id": "c484b25c8aab430497d9a9f3128a0d53",
       "version_major": 2,
       "version_minor": 0
      },
      "text/plain": [
       "Scanning spectrum:   0%|          | 0/20 [00:00<?, ?it/s]"
      ]
     },
     "metadata": {},
     "output_type": "display_data"
    },
    {
     "data": {
      "application/vnd.jupyter.widget-view+json": {
       "model_id": "8253169b07f8460eb845d7c42eba631e",
       "version_major": 2,
       "version_minor": 0
      },
      "text/plain": [
       "Scanning spectrum:   0%|          | 0/20 [00:00<?, ?it/s]"
      ]
     },
     "metadata": {},
     "output_type": "display_data"
    },
    {
     "data": {
      "application/vnd.jupyter.widget-view+json": {
       "model_id": "2a19380f79824c3da35866bafa14eb35",
       "version_major": 2,
       "version_minor": 0
      },
      "text/plain": [
       "Scanning spectrum:   0%|          | 0/20 [00:00<?, ?it/s]"
      ]
     },
     "metadata": {},
     "output_type": "display_data"
    },
    {
     "data": {
      "application/vnd.jupyter.widget-view+json": {
       "model_id": "53769af144c24e17ad2e9f3fc291607c",
       "version_major": 2,
       "version_minor": 0
      },
      "text/plain": [
       "Scanning spectrum:   0%|          | 0/20 [00:00<?, ?it/s]"
      ]
     },
     "metadata": {},
     "output_type": "display_data"
    },
    {
     "data": {
      "application/vnd.jupyter.widget-view+json": {
       "model_id": "b283f0a53a964d709bf8883dd4ee6adc",
       "version_major": 2,
       "version_minor": 0
      },
      "text/plain": [
       "Scanning spectrum:   0%|          | 0/20 [00:00<?, ?it/s]"
      ]
     },
     "metadata": {},
     "output_type": "display_data"
    },
    {
     "data": {
      "application/vnd.jupyter.widget-view+json": {
       "model_id": "72dc465534e64193a8423e3968b64cf2",
       "version_major": 2,
       "version_minor": 0
      },
      "text/plain": [
       "Scanning spectrum:   0%|          | 0/20 [00:00<?, ?it/s]"
      ]
     },
     "metadata": {},
     "output_type": "display_data"
    },
    {
     "data": {
      "application/vnd.jupyter.widget-view+json": {
       "model_id": "77cf2ad7f8284dbb9a23a0d138ddce96",
       "version_major": 2,
       "version_minor": 0
      },
      "text/plain": [
       "Scanning spectrum:   0%|          | 0/20 [00:00<?, ?it/s]"
      ]
     },
     "metadata": {},
     "output_type": "display_data"
    },
    {
     "data": {
      "application/vnd.jupyter.widget-view+json": {
       "model_id": "21bbae572e714a03a87eb5add0fcc13f",
       "version_major": 2,
       "version_minor": 0
      },
      "text/plain": [
       "Scanning spectrum:   0%|          | 0/20 [00:00<?, ?it/s]"
      ]
     },
     "metadata": {},
     "output_type": "display_data"
    },
    {
     "data": {
      "application/vnd.jupyter.widget-view+json": {
       "model_id": "f3752d294e5441e8be2afa0375f8f38a",
       "version_major": 2,
       "version_minor": 0
      },
      "text/plain": [
       "Scanning spectrum:   0%|          | 0/20 [00:00<?, ?it/s]"
      ]
     },
     "metadata": {},
     "output_type": "display_data"
    },
    {
     "data": {
      "application/vnd.jupyter.widget-view+json": {
       "model_id": "f720a4108932418a9264c2668d501463",
       "version_major": 2,
       "version_minor": 0
      },
      "text/plain": [
       "Scanning spectrum:   0%|          | 0/20 [00:00<?, ?it/s]"
      ]
     },
     "metadata": {},
     "output_type": "display_data"
    },
    {
     "data": {
      "application/vnd.jupyter.widget-view+json": {
       "model_id": "421a141c616f418082cc0d3c9ac9799a",
       "version_major": 2,
       "version_minor": 0
      },
      "text/plain": [
       "Scanning spectrum:   0%|          | 0/20 [00:00<?, ?it/s]"
      ]
     },
     "metadata": {},
     "output_type": "display_data"
    },
    {
     "data": {
      "application/vnd.jupyter.widget-view+json": {
       "model_id": "ea9025f97bca485b81562dd028f7e49f",
       "version_major": 2,
       "version_minor": 0
      },
      "text/plain": [
       "Scanning spectrum:   0%|          | 0/20 [00:00<?, ?it/s]"
      ]
     },
     "metadata": {},
     "output_type": "display_data"
    },
    {
     "data": {
      "application/vnd.jupyter.widget-view+json": {
       "model_id": "d3a05ffb4f064575ba7cfea5b74ace98",
       "version_major": 2,
       "version_minor": 0
      },
      "text/plain": [
       "Scanning spectrum:   0%|          | 0/20 [00:00<?, ?it/s]"
      ]
     },
     "metadata": {},
     "output_type": "display_data"
    },
    {
     "data": {
      "application/vnd.jupyter.widget-view+json": {
       "model_id": "d3ecf9251aac452180dce08fa7625a9b",
       "version_major": 2,
       "version_minor": 0
      },
      "text/plain": [
       "Scanning spectrum:   0%|          | 0/20 [00:00<?, ?it/s]"
      ]
     },
     "metadata": {},
     "output_type": "display_data"
    },
    {
     "data": {
      "application/vnd.jupyter.widget-view+json": {
       "model_id": "1c0fd755ee004f158eb6351e7e412e33",
       "version_major": 2,
       "version_minor": 0
      },
      "text/plain": [
       "Scanning spectrum:   0%|          | 0/20 [00:00<?, ?it/s]"
      ]
     },
     "metadata": {},
     "output_type": "display_data"
    },
    {
     "data": {
      "application/vnd.jupyter.widget-view+json": {
       "model_id": "32e3ceb143424b3ba3e74efd5fff2ce4",
       "version_major": 2,
       "version_minor": 0
      },
      "text/plain": [
       "Scanning spectrum:   0%|          | 0/20 [00:00<?, ?it/s]"
      ]
     },
     "metadata": {},
     "output_type": "display_data"
    },
    {
     "data": {
      "application/vnd.jupyter.widget-view+json": {
       "model_id": "6154ded432c2489286d6916b0680d0a3",
       "version_major": 2,
       "version_minor": 0
      },
      "text/plain": [
       "Scanning spectrum:   0%|          | 0/20 [00:00<?, ?it/s]"
      ]
     },
     "metadata": {},
     "output_type": "display_data"
    },
    {
     "data": {
      "application/vnd.jupyter.widget-view+json": {
       "model_id": "6553d23b43e64354850eba5988ce3e26",
       "version_major": 2,
       "version_minor": 0
      },
      "text/plain": [
       "Scanning spectrum:   0%|          | 0/20 [00:00<?, ?it/s]"
      ]
     },
     "metadata": {},
     "output_type": "display_data"
    },
    {
     "data": {
      "application/vnd.jupyter.widget-view+json": {
       "model_id": "70e38a4491f843a29311a8addeff5f98",
       "version_major": 2,
       "version_minor": 0
      },
      "text/plain": [
       "Scanning spectrum:   0%|          | 0/20 [00:00<?, ?it/s]"
      ]
     },
     "metadata": {},
     "output_type": "display_data"
    },
    {
     "data": {
      "application/vnd.jupyter.widget-view+json": {
       "model_id": "fce109cb851a4ef7a790c08e841f5656",
       "version_major": 2,
       "version_minor": 0
      },
      "text/plain": [
       "Scanning spectrum:   0%|          | 0/20 [00:00<?, ?it/s]"
      ]
     },
     "metadata": {},
     "output_type": "display_data"
    },
    {
     "data": {
      "application/vnd.jupyter.widget-view+json": {
       "model_id": "2dada39098ce4d6fb017ae3995ea8da1",
       "version_major": 2,
       "version_minor": 0
      },
      "text/plain": [
       "Scanning spectrum:   0%|          | 0/20 [00:00<?, ?it/s]"
      ]
     },
     "metadata": {},
     "output_type": "display_data"
    },
    {
     "data": {
      "application/vnd.jupyter.widget-view+json": {
       "model_id": "5052e6b279e647e6b61c37c43f631b84",
       "version_major": 2,
       "version_minor": 0
      },
      "text/plain": [
       "Scanning spectrum:   0%|          | 0/20 [00:00<?, ?it/s]"
      ]
     },
     "metadata": {},
     "output_type": "display_data"
    },
    {
     "data": {
      "application/vnd.jupyter.widget-view+json": {
       "model_id": "cd1d9a51d4654cdda2ad6adabd807119",
       "version_major": 2,
       "version_minor": 0
      },
      "text/plain": [
       "Scanning spectrum:   0%|          | 0/20 [00:00<?, ?it/s]"
      ]
     },
     "metadata": {},
     "output_type": "display_data"
    },
    {
     "data": {
      "application/vnd.jupyter.widget-view+json": {
       "model_id": "3595657276984d44bb86486fe5c7fe6e",
       "version_major": 2,
       "version_minor": 0
      },
      "text/plain": [
       "Scanning spectrum:   0%|          | 0/20 [00:00<?, ?it/s]"
      ]
     },
     "metadata": {},
     "output_type": "display_data"
    },
    {
     "data": {
      "application/vnd.jupyter.widget-view+json": {
       "model_id": "5b04ba0eadb4452aab82d43275ba421c",
       "version_major": 2,
       "version_minor": 0
      },
      "text/plain": [
       "Scanning spectrum:   0%|          | 0/20 [00:00<?, ?it/s]"
      ]
     },
     "metadata": {},
     "output_type": "display_data"
    },
    {
     "data": {
      "application/vnd.jupyter.widget-view+json": {
       "model_id": "8b2e953d60564d30989dcd7a52c9a20c",
       "version_major": 2,
       "version_minor": 0
      },
      "text/plain": [
       "Scanning spectrum:   0%|          | 0/20 [00:00<?, ?it/s]"
      ]
     },
     "metadata": {},
     "output_type": "display_data"
    },
    {
     "data": {
      "application/vnd.jupyter.widget-view+json": {
       "model_id": "6465f8f6b1da4e8693b11eb7dcd2d190",
       "version_major": 2,
       "version_minor": 0
      },
      "text/plain": [
       "Scanning spectrum:   0%|          | 0/20 [00:00<?, ?it/s]"
      ]
     },
     "metadata": {},
     "output_type": "display_data"
    },
    {
     "data": {
      "application/vnd.jupyter.widget-view+json": {
       "model_id": "8d93efaa30124d80ba27bbd377f1c3dd",
       "version_major": 2,
       "version_minor": 0
      },
      "text/plain": [
       "Scanning spectrum:   0%|          | 0/20 [00:00<?, ?it/s]"
      ]
     },
     "metadata": {},
     "output_type": "display_data"
    },
    {
     "data": {
      "application/vnd.jupyter.widget-view+json": {
       "model_id": "27600041ca094e65b857247c78e23400",
       "version_major": 2,
       "version_minor": 0
      },
      "text/plain": [
       "Scanning spectrum:   0%|          | 0/20 [00:00<?, ?it/s]"
      ]
     },
     "metadata": {},
     "output_type": "display_data"
    },
    {
     "data": {
      "application/vnd.jupyter.widget-view+json": {
       "model_id": "390132e7ce364b5099d847e3074c4ebc",
       "version_major": 2,
       "version_minor": 0
      },
      "text/plain": [
       "Scanning spectrum:   0%|          | 0/20 [00:00<?, ?it/s]"
      ]
     },
     "metadata": {},
     "output_type": "display_data"
    },
    {
     "data": {
      "application/vnd.jupyter.widget-view+json": {
       "model_id": "9b2b57e9285b48dc93b3f49776b24ead",
       "version_major": 2,
       "version_minor": 0
      },
      "text/plain": [
       "Scanning spectrum:   0%|          | 0/20 [00:00<?, ?it/s]"
      ]
     },
     "metadata": {},
     "output_type": "display_data"
    },
    {
     "data": {
      "application/vnd.jupyter.widget-view+json": {
       "model_id": "064628143f0546528477276c9cf9c7bd",
       "version_major": 2,
       "version_minor": 0
      },
      "text/plain": [
       "Scanning spectrum:   0%|          | 0/20 [00:00<?, ?it/s]"
      ]
     },
     "metadata": {},
     "output_type": "display_data"
    },
    {
     "data": {
      "application/vnd.jupyter.widget-view+json": {
       "model_id": "a3bdfa3d0c3c41fe9f8918b40dac406a",
       "version_major": 2,
       "version_minor": 0
      },
      "text/plain": [
       "Scanning spectrum:   0%|          | 0/20 [00:00<?, ?it/s]"
      ]
     },
     "metadata": {},
     "output_type": "display_data"
    },
    {
     "data": {
      "application/vnd.jupyter.widget-view+json": {
       "model_id": "50fb2b7a3ae64e15951b074eaf1d1b6b",
       "version_major": 2,
       "version_minor": 0
      },
      "text/plain": [
       "Scanning spectrum:   0%|          | 0/20 [00:00<?, ?it/s]"
      ]
     },
     "metadata": {},
     "output_type": "display_data"
    },
    {
     "data": {
      "application/vnd.jupyter.widget-view+json": {
       "model_id": "207a3ac296be47238a15b0292059c170",
       "version_major": 2,
       "version_minor": 0
      },
      "text/plain": [
       "Scanning spectrum:   0%|          | 0/20 [00:00<?, ?it/s]"
      ]
     },
     "metadata": {},
     "output_type": "display_data"
    },
    {
     "data": {
      "application/vnd.jupyter.widget-view+json": {
       "model_id": "a9f05e1727ca40f79f0dac340e4d9e96",
       "version_major": 2,
       "version_minor": 0
      },
      "text/plain": [
       "Scanning spectrum:   0%|          | 0/20 [00:00<?, ?it/s]"
      ]
     },
     "metadata": {},
     "output_type": "display_data"
    },
    {
     "data": {
      "application/vnd.jupyter.widget-view+json": {
       "model_id": "71195885c48e4b15a8d4d3113549bf18",
       "version_major": 2,
       "version_minor": 0
      },
      "text/plain": [
       "Scanning spectrum:   0%|          | 0/20 [00:00<?, ?it/s]"
      ]
     },
     "metadata": {},
     "output_type": "display_data"
    },
    {
     "data": {
      "application/vnd.jupyter.widget-view+json": {
       "model_id": "221c5cb1c1af404a9ded8912223c97e5",
       "version_major": 2,
       "version_minor": 0
      },
      "text/plain": [
       "Scanning spectrum:   0%|          | 0/20 [00:00<?, ?it/s]"
      ]
     },
     "metadata": {},
     "output_type": "display_data"
    },
    {
     "data": {
      "application/vnd.jupyter.widget-view+json": {
       "model_id": "4938374fb80e4c118d8b1b39f80e66ff",
       "version_major": 2,
       "version_minor": 0
      },
      "text/plain": [
       "Scanning spectrum:   0%|          | 0/20 [00:00<?, ?it/s]"
      ]
     },
     "metadata": {},
     "output_type": "display_data"
    },
    {
     "data": {
      "application/vnd.jupyter.widget-view+json": {
       "model_id": "68a0e773e01a478396edf5380f6d2d98",
       "version_major": 2,
       "version_minor": 0
      },
      "text/plain": [
       "Scanning spectrum:   0%|          | 0/20 [00:00<?, ?it/s]"
      ]
     },
     "metadata": {},
     "output_type": "display_data"
    },
    {
     "data": {
      "application/vnd.jupyter.widget-view+json": {
       "model_id": "08e5d090e6f146dd8d3a3b63356f694a",
       "version_major": 2,
       "version_minor": 0
      },
      "text/plain": [
       "Scanning spectrum:   0%|          | 0/20 [00:00<?, ?it/s]"
      ]
     },
     "metadata": {},
     "output_type": "display_data"
    }
   ],
   "source": [
    "image = generate_image(nx=c.opt.nx, ny=c.opt.ny)\n",
    "\n",
    "c = Caustique(opt)\n",
    "c.opt.tag = 'longue_caustique'\n",
    "image = generate_image(nx=c.opt.nx, ny=c.opt.ny)\n",
    "output_filename = c.plot(z, image)\n",
    "print(output_filename)"
   ]
  },
  {
   "cell_type": "code",
   "execution_count": null,
   "metadata": {},
   "outputs": [],
   "source": [
    "c.show(output_filename)"
   ]
  },
  {
   "cell_type": "code",
   "execution_count": null,
   "metadata": {},
   "outputs": [],
   "source": [
    "print(output_filename)"
   ]
  }
 ],
 "metadata": {
  "kernelspec": {
   "display_name": ".venv",
   "language": "python",
   "name": "python3"
  },
  "language_info": {
   "codemirror_mode": {
    "name": "ipython",
    "version": 3
   },
   "file_extension": ".py",
   "mimetype": "text/x-python",
   "name": "python",
   "nbconvert_exporter": "python",
   "pygments_lexer": "ipython3",
   "version": "3.13.9"
  },
  "nteract": {
   "version": "0.28.0"
  },
  "widgets": {
   "application/vnd.jupyter.widget-state+json": {
    "state": {
     "035ab33361e7432caecc80ca2a176575": {
      "model_module": "@jupyter-widgets/controls",
      "model_module_version": "2.0.0",
      "model_name": "FloatProgressModel",
      "state": {
       "_dom_classes": [],
       "_model_module": "@jupyter-widgets/controls",
       "_model_module_version": "2.0.0",
       "_model_name": "FloatProgressModel",
       "_view_count": null,
       "_view_module": "@jupyter-widgets/controls",
       "_view_module_version": "2.0.0",
       "_view_name": "ProgressView",
       "bar_style": "success",
       "description": "",
       "description_allow_html": false,
       "layout": "IPY_MODEL_77f9a290f7dd4b219ba4f735555140e1",
       "max": 256,
       "min": 0,
       "orientation": "horizontal",
       "style": "IPY_MODEL_84e6789a386f4cc3b967f7880483983c",
       "tabbable": null,
       "tooltip": null,
       "value": 256
      }
     },
     "0b73ffb834c2419c973499fdf717431d": {
      "model_module": "@jupyter-widgets/base",
      "model_module_version": "2.0.0",
      "model_name": "LayoutModel",
      "state": {
       "_model_module": "@jupyter-widgets/base",
       "_model_module_version": "2.0.0",
       "_model_name": "LayoutModel",
       "_view_count": null,
       "_view_module": "@jupyter-widgets/base",
       "_view_module_version": "2.0.0",
       "_view_name": "LayoutView",
       "align_content": null,
       "align_items": null,
       "align_self": null,
       "border_bottom": null,
       "border_left": null,
       "border_right": null,
       "border_top": null,
       "bottom": null,
       "display": null,
       "flex": null,
       "flex_flow": null,
       "grid_area": null,
       "grid_auto_columns": null,
       "grid_auto_flow": null,
       "grid_auto_rows": null,
       "grid_column": null,
       "grid_gap": null,
       "grid_row": null,
       "grid_template_areas": null,
       "grid_template_columns": null,
       "grid_template_rows": null,
       "height": null,
       "justify_content": null,
       "justify_items": null,
       "left": null,
       "margin": null,
       "max_height": null,
       "max_width": null,
       "min_height": null,
       "min_width": null,
       "object_fit": null,
       "object_position": null,
       "order": null,
       "overflow": null,
       "padding": null,
       "right": null,
       "top": null,
       "visibility": null,
       "width": null
      }
     },
     "11ae0a75f5b344f396d64dc0adfc23d4": {
      "model_module": "@jupyter-widgets/controls",
      "model_module_version": "2.0.0",
      "model_name": "HTMLStyleModel",
      "state": {
       "_model_module": "@jupyter-widgets/controls",
       "_model_module_version": "2.0.0",
       "_model_name": "HTMLStyleModel",
       "_view_count": null,
       "_view_module": "@jupyter-widgets/base",
       "_view_module_version": "2.0.0",
       "_view_name": "StyleView",
       "background": null,
       "description_width": "",
       "font_size": null,
       "text_color": null
      }
     },
     "1216f0c7b01543ab9e1c4767e78ec994": {
      "model_module": "@jupyter-widgets/base",
      "model_module_version": "2.0.0",
      "model_name": "LayoutModel",
      "state": {
       "_model_module": "@jupyter-widgets/base",
       "_model_module_version": "2.0.0",
       "_model_name": "LayoutModel",
       "_view_count": null,
       "_view_module": "@jupyter-widgets/base",
       "_view_module_version": "2.0.0",
       "_view_name": "LayoutView",
       "align_content": null,
       "align_items": null,
       "align_self": null,
       "border_bottom": null,
       "border_left": null,
       "border_right": null,
       "border_top": null,
       "bottom": null,
       "display": null,
       "flex": null,
       "flex_flow": null,
       "grid_area": null,
       "grid_auto_columns": null,
       "grid_auto_flow": null,
       "grid_auto_rows": null,
       "grid_column": null,
       "grid_gap": null,
       "grid_row": null,
       "grid_template_areas": null,
       "grid_template_columns": null,
       "grid_template_rows": null,
       "height": null,
       "justify_content": null,
       "justify_items": null,
       "left": null,
       "margin": null,
       "max_height": null,
       "max_width": null,
       "min_height": null,
       "min_width": null,
       "object_fit": null,
       "object_position": null,
       "order": null,
       "overflow": null,
       "padding": null,
       "right": null,
       "top": null,
       "visibility": null,
       "width": null
      }
     },
     "17ebce389fa846d99920f6c9c3a1210c": {
      "model_module": "@jupyter-widgets/controls",
      "model_module_version": "2.0.0",
      "model_name": "HTMLModel",
      "state": {
       "_dom_classes": [],
       "_model_module": "@jupyter-widgets/controls",
       "_model_module_version": "2.0.0",
       "_model_name": "HTMLModel",
       "_view_count": null,
       "_view_module": "@jupyter-widgets/controls",
       "_view_module_version": "2.0.0",
       "_view_name": "HTMLView",
       "description": "",
       "description_allow_html": false,
       "layout": "IPY_MODEL_c078cae24ae7430bace625a76b1cb988",
       "placeholder": "​",
       "style": "IPY_MODEL_f16c0a10ddef42d883635f671bda9653",
       "tabbable": null,
       "tooltip": null,
       "value": "100%"
      }
     },
     "190c5912ea914b8bb29e2203e0c9d745": {
      "model_module": "@jupyter-widgets/controls",
      "model_module_version": "2.0.0",
      "model_name": "FloatProgressModel",
      "state": {
       "_dom_classes": [],
       "_model_module": "@jupyter-widgets/controls",
       "_model_module_version": "2.0.0",
       "_model_name": "FloatProgressModel",
       "_view_count": null,
       "_view_module": "@jupyter-widgets/controls",
       "_view_module_version": "2.0.0",
       "_view_name": "ProgressView",
       "bar_style": "success",
       "description": "",
       "description_allow_html": false,
       "layout": "IPY_MODEL_d2044911f735442cbe3dc75e7249db0f",
       "max": 256,
       "min": 0,
       "orientation": "horizontal",
       "style": "IPY_MODEL_cd112c61118142adadc1ffdc3d4fd7dc",
       "tabbable": null,
       "tooltip": null,
       "value": 256
      }
     },
     "19f777cef46a4e6980ab4469675293a5": {
      "model_module": "@jupyter-widgets/controls",
      "model_module_version": "2.0.0",
      "model_name": "FloatProgressModel",
      "state": {
       "_dom_classes": [],
       "_model_module": "@jupyter-widgets/controls",
       "_model_module_version": "2.0.0",
       "_model_name": "FloatProgressModel",
       "_view_count": null,
       "_view_module": "@jupyter-widgets/controls",
       "_view_module_version": "2.0.0",
       "_view_name": "ProgressView",
       "bar_style": "success",
       "description": "",
       "description_allow_html": false,
       "layout": "IPY_MODEL_4a9c13ffbb134906a5773a04df09a848",
       "max": 256,
       "min": 0,
       "orientation": "horizontal",
       "style": "IPY_MODEL_408b9a2d642145409181ce414bf5f650",
       "tabbable": null,
       "tooltip": null,
       "value": 256
      }
     },
     "1e646c9ebcb840a28822c80b583c341d": {
      "model_module": "@jupyter-widgets/controls",
      "model_module_version": "2.0.0",
      "model_name": "FloatProgressModel",
      "state": {
       "_dom_classes": [],
       "_model_module": "@jupyter-widgets/controls",
       "_model_module_version": "2.0.0",
       "_model_name": "FloatProgressModel",
       "_view_count": null,
       "_view_module": "@jupyter-widgets/controls",
       "_view_module_version": "2.0.0",
       "_view_name": "ProgressView",
       "bar_style": "success",
       "description": "",
       "description_allow_html": false,
       "layout": "IPY_MODEL_231d8780a5db46418e5778863597aac4",
       "max": 256,
       "min": 0,
       "orientation": "horizontal",
       "style": "IPY_MODEL_cc8031db1bd442d1a481d859e4f8c3d1",
       "tabbable": null,
       "tooltip": null,
       "value": 256
      }
     },
     "231d8780a5db46418e5778863597aac4": {
      "model_module": "@jupyter-widgets/base",
      "model_module_version": "2.0.0",
      "model_name": "LayoutModel",
      "state": {
       "_model_module": "@jupyter-widgets/base",
       "_model_module_version": "2.0.0",
       "_model_name": "LayoutModel",
       "_view_count": null,
       "_view_module": "@jupyter-widgets/base",
       "_view_module_version": "2.0.0",
       "_view_name": "LayoutView",
       "align_content": null,
       "align_items": null,
       "align_self": null,
       "border_bottom": null,
       "border_left": null,
       "border_right": null,
       "border_top": null,
       "bottom": null,
       "display": null,
       "flex": null,
       "flex_flow": null,
       "grid_area": null,
       "grid_auto_columns": null,
       "grid_auto_flow": null,
       "grid_auto_rows": null,
       "grid_column": null,
       "grid_gap": null,
       "grid_row": null,
       "grid_template_areas": null,
       "grid_template_columns": null,
       "grid_template_rows": null,
       "height": null,
       "justify_content": null,
       "justify_items": null,
       "left": null,
       "margin": null,
       "max_height": null,
       "max_width": null,
       "min_height": null,
       "min_width": null,
       "object_fit": null,
       "object_position": null,
       "order": null,
       "overflow": null,
       "padding": null,
       "right": null,
       "top": null,
       "visibility": null,
       "width": null
      }
     },
     "2410a91c9a7a4826b7d3c14d541ff69d": {
      "model_module": "@jupyter-widgets/base",
      "model_module_version": "2.0.0",
      "model_name": "LayoutModel",
      "state": {
       "_model_module": "@jupyter-widgets/base",
       "_model_module_version": "2.0.0",
       "_model_name": "LayoutModel",
       "_view_count": null,
       "_view_module": "@jupyter-widgets/base",
       "_view_module_version": "2.0.0",
       "_view_name": "LayoutView",
       "align_content": null,
       "align_items": null,
       "align_self": null,
       "border_bottom": null,
       "border_left": null,
       "border_right": null,
       "border_top": null,
       "bottom": null,
       "display": null,
       "flex": null,
       "flex_flow": null,
       "grid_area": null,
       "grid_auto_columns": null,
       "grid_auto_flow": null,
       "grid_auto_rows": null,
       "grid_column": null,
       "grid_gap": null,
       "grid_row": null,
       "grid_template_areas": null,
       "grid_template_columns": null,
       "grid_template_rows": null,
       "height": null,
       "justify_content": null,
       "justify_items": null,
       "left": null,
       "margin": null,
       "max_height": null,
       "max_width": null,
       "min_height": null,
       "min_width": null,
       "object_fit": null,
       "object_position": null,
       "order": null,
       "overflow": null,
       "padding": null,
       "right": null,
       "top": null,
       "visibility": null,
       "width": null
      }
     },
     "2b93a83bd14041d0bf240a1e8ed105da": {
      "model_module": "@jupyter-widgets/controls",
      "model_module_version": "2.0.0",
      "model_name": "HBoxModel",
      "state": {
       "_dom_classes": [],
       "_model_module": "@jupyter-widgets/controls",
       "_model_module_version": "2.0.0",
       "_model_name": "HBoxModel",
       "_view_count": null,
       "_view_module": "@jupyter-widgets/controls",
       "_view_module_version": "2.0.0",
       "_view_name": "HBoxView",
       "box_style": "",
       "children": [
        "IPY_MODEL_17ebce389fa846d99920f6c9c3a1210c",
        "IPY_MODEL_190c5912ea914b8bb29e2203e0c9d745",
        "IPY_MODEL_d0069e861bec45358c5749eb8eb64139"
       ],
       "layout": "IPY_MODEL_391312d9ce614c36bd1c1339c4c1d3fa",
       "tabbable": null,
       "tooltip": null
      }
     },
     "33722c82ab7341d5ab4b56bce068d1e0": {
      "model_module": "@jupyter-widgets/controls",
      "model_module_version": "2.0.0",
      "model_name": "HBoxModel",
      "state": {
       "_dom_classes": [],
       "_model_module": "@jupyter-widgets/controls",
       "_model_module_version": "2.0.0",
       "_model_name": "HBoxModel",
       "_view_count": null,
       "_view_module": "@jupyter-widgets/controls",
       "_view_module_version": "2.0.0",
       "_view_name": "HBoxView",
       "box_style": "",
       "children": [
        "IPY_MODEL_34fc442a740f453aa8eb4733a00b33ee",
        "IPY_MODEL_19f777cef46a4e6980ab4469675293a5",
        "IPY_MODEL_466bad0aef824176a0778b38af7f0cc8"
       ],
       "layout": "IPY_MODEL_1216f0c7b01543ab9e1c4767e78ec994",
       "tabbable": null,
       "tooltip": null
      }
     },
     "34fc442a740f453aa8eb4733a00b33ee": {
      "model_module": "@jupyter-widgets/controls",
      "model_module_version": "2.0.0",
      "model_name": "HTMLModel",
      "state": {
       "_dom_classes": [],
       "_model_module": "@jupyter-widgets/controls",
       "_model_module_version": "2.0.0",
       "_model_name": "HTMLModel",
       "_view_count": null,
       "_view_module": "@jupyter-widgets/controls",
       "_view_module_version": "2.0.0",
       "_view_name": "HTMLView",
       "description": "",
       "description_allow_html": false,
       "layout": "IPY_MODEL_c26548a3142c45f1adfa8abc1815ac5f",
       "placeholder": "​",
       "style": "IPY_MODEL_11ae0a75f5b344f396d64dc0adfc23d4",
       "tabbable": null,
       "tooltip": null,
       "value": "100%"
      }
     },
     "372ec21d55b140a3b2f2485311a94b90": {
      "model_module": "@jupyter-widgets/controls",
      "model_module_version": "2.0.0",
      "model_name": "HTMLStyleModel",
      "state": {
       "_model_module": "@jupyter-widgets/controls",
       "_model_module_version": "2.0.0",
       "_model_name": "HTMLStyleModel",
       "_view_count": null,
       "_view_module": "@jupyter-widgets/base",
       "_view_module_version": "2.0.0",
       "_view_name": "StyleView",
       "background": null,
       "description_width": "",
       "font_size": null,
       "text_color": null
      }
     },
     "38a8e734f8a54c31bea5268b58557a88": {
      "model_module": "@jupyter-widgets/controls",
      "model_module_version": "2.0.0",
      "model_name": "HBoxModel",
      "state": {
       "_dom_classes": [],
       "_model_module": "@jupyter-widgets/controls",
       "_model_module_version": "2.0.0",
       "_model_name": "HBoxModel",
       "_view_count": null,
       "_view_module": "@jupyter-widgets/controls",
       "_view_module_version": "2.0.0",
       "_view_name": "HBoxView",
       "box_style": "",
       "children": [
        "IPY_MODEL_b8499c15522745cd9981166aa85f493d",
        "IPY_MODEL_7e3049db598142689e39c20322342839",
        "IPY_MODEL_4b89e27ea7dd4ad2848898a2e945d660"
       ],
       "layout": "IPY_MODEL_d69c4d7c0ffd4195b09a98ea697a7a77",
       "tabbable": null,
       "tooltip": null
      }
     },
     "391312d9ce614c36bd1c1339c4c1d3fa": {
      "model_module": "@jupyter-widgets/base",
      "model_module_version": "2.0.0",
      "model_name": "LayoutModel",
      "state": {
       "_model_module": "@jupyter-widgets/base",
       "_model_module_version": "2.0.0",
       "_model_name": "LayoutModel",
       "_view_count": null,
       "_view_module": "@jupyter-widgets/base",
       "_view_module_version": "2.0.0",
       "_view_name": "LayoutView",
       "align_content": null,
       "align_items": null,
       "align_self": null,
       "border_bottom": null,
       "border_left": null,
       "border_right": null,
       "border_top": null,
       "bottom": null,
       "display": null,
       "flex": null,
       "flex_flow": null,
       "grid_area": null,
       "grid_auto_columns": null,
       "grid_auto_flow": null,
       "grid_auto_rows": null,
       "grid_column": null,
       "grid_gap": null,
       "grid_row": null,
       "grid_template_areas": null,
       "grid_template_columns": null,
       "grid_template_rows": null,
       "height": null,
       "justify_content": null,
       "justify_items": null,
       "left": null,
       "margin": null,
       "max_height": null,
       "max_width": null,
       "min_height": null,
       "min_width": null,
       "object_fit": null,
       "object_position": null,
       "order": null,
       "overflow": null,
       "padding": null,
       "right": null,
       "top": null,
       "visibility": null,
       "width": null
      }
     },
     "408b9a2d642145409181ce414bf5f650": {
      "model_module": "@jupyter-widgets/controls",
      "model_module_version": "2.0.0",
      "model_name": "ProgressStyleModel",
      "state": {
       "_model_module": "@jupyter-widgets/controls",
       "_model_module_version": "2.0.0",
       "_model_name": "ProgressStyleModel",
       "_view_count": null,
       "_view_module": "@jupyter-widgets/base",
       "_view_module_version": "2.0.0",
       "_view_name": "StyleView",
       "bar_color": null,
       "description_width": ""
      }
     },
     "40e490736bdb4e9b91ecc29d8ebfcb9a": {
      "model_module": "@jupyter-widgets/controls",
      "model_module_version": "2.0.0",
      "model_name": "HTMLModel",
      "state": {
       "_dom_classes": [],
       "_model_module": "@jupyter-widgets/controls",
       "_model_module_version": "2.0.0",
       "_model_name": "HTMLModel",
       "_view_count": null,
       "_view_module": "@jupyter-widgets/controls",
       "_view_module_version": "2.0.0",
       "_view_name": "HTMLView",
       "description": "",
       "description_allow_html": false,
       "layout": "IPY_MODEL_0b73ffb834c2419c973499fdf717431d",
       "placeholder": "​",
       "style": "IPY_MODEL_92ddbe5f71f340e09a33f004c0f625c0",
       "tabbable": null,
       "tooltip": null,
       "value": "100%"
      }
     },
     "41c8f627da6e4adda218239203e2aaca": {
      "model_module": "@jupyter-widgets/base",
      "model_module_version": "2.0.0",
      "model_name": "LayoutModel",
      "state": {
       "_model_module": "@jupyter-widgets/base",
       "_model_module_version": "2.0.0",
       "_model_name": "LayoutModel",
       "_view_count": null,
       "_view_module": "@jupyter-widgets/base",
       "_view_module_version": "2.0.0",
       "_view_name": "LayoutView",
       "align_content": null,
       "align_items": null,
       "align_self": null,
       "border_bottom": null,
       "border_left": null,
       "border_right": null,
       "border_top": null,
       "bottom": null,
       "display": null,
       "flex": null,
       "flex_flow": null,
       "grid_area": null,
       "grid_auto_columns": null,
       "grid_auto_flow": null,
       "grid_auto_rows": null,
       "grid_column": null,
       "grid_gap": null,
       "grid_row": null,
       "grid_template_areas": null,
       "grid_template_columns": null,
       "grid_template_rows": null,
       "height": null,
       "justify_content": null,
       "justify_items": null,
       "left": null,
       "margin": null,
       "max_height": null,
       "max_width": null,
       "min_height": null,
       "min_width": null,
       "object_fit": null,
       "object_position": null,
       "order": null,
       "overflow": null,
       "padding": null,
       "right": null,
       "top": null,
       "visibility": null,
       "width": null
      }
     },
     "466bad0aef824176a0778b38af7f0cc8": {
      "model_module": "@jupyter-widgets/controls",
      "model_module_version": "2.0.0",
      "model_name": "HTMLModel",
      "state": {
       "_dom_classes": [],
       "_model_module": "@jupyter-widgets/controls",
       "_model_module_version": "2.0.0",
       "_model_name": "HTMLModel",
       "_view_count": null,
       "_view_module": "@jupyter-widgets/controls",
       "_view_module_version": "2.0.0",
       "_view_name": "HTMLView",
       "description": "",
       "description_allow_html": false,
       "layout": "IPY_MODEL_fd94337716a24629bbbf38eb2d910e17",
       "placeholder": "​",
       "style": "IPY_MODEL_62eaeb24301b45bdbed6f793ae2a80d3",
       "tabbable": null,
       "tooltip": null,
       "value": " 256/256 [28:51&lt;00:00,  6.95s/it]"
      }
     },
     "4a9c13ffbb134906a5773a04df09a848": {
      "model_module": "@jupyter-widgets/base",
      "model_module_version": "2.0.0",
      "model_name": "LayoutModel",
      "state": {
       "_model_module": "@jupyter-widgets/base",
       "_model_module_version": "2.0.0",
       "_model_name": "LayoutModel",
       "_view_count": null,
       "_view_module": "@jupyter-widgets/base",
       "_view_module_version": "2.0.0",
       "_view_name": "LayoutView",
       "align_content": null,
       "align_items": null,
       "align_self": null,
       "border_bottom": null,
       "border_left": null,
       "border_right": null,
       "border_top": null,
       "bottom": null,
       "display": null,
       "flex": null,
       "flex_flow": null,
       "grid_area": null,
       "grid_auto_columns": null,
       "grid_auto_flow": null,
       "grid_auto_rows": null,
       "grid_column": null,
       "grid_gap": null,
       "grid_row": null,
       "grid_template_areas": null,
       "grid_template_columns": null,
       "grid_template_rows": null,
       "height": null,
       "justify_content": null,
       "justify_items": null,
       "left": null,
       "margin": null,
       "max_height": null,
       "max_width": null,
       "min_height": null,
       "min_width": null,
       "object_fit": null,
       "object_position": null,
       "order": null,
       "overflow": null,
       "padding": null,
       "right": null,
       "top": null,
       "visibility": null,
       "width": null
      }
     },
     "4b89e27ea7dd4ad2848898a2e945d660": {
      "model_module": "@jupyter-widgets/controls",
      "model_module_version": "2.0.0",
      "model_name": "HTMLModel",
      "state": {
       "_dom_classes": [],
       "_model_module": "@jupyter-widgets/controls",
       "_model_module_version": "2.0.0",
       "_model_name": "HTMLModel",
       "_view_count": null,
       "_view_module": "@jupyter-widgets/controls",
       "_view_module_version": "2.0.0",
       "_view_name": "HTMLView",
       "description": "",
       "description_allow_html": false,
       "layout": "IPY_MODEL_6842b6809a9e45cfb0e702de8bc33a4a",
       "placeholder": "​",
       "style": "IPY_MODEL_c59fd60c9cf0495b922c74febebcfd99",
       "tabbable": null,
       "tooltip": null,
       "value": " 256/256 [27:26&lt;00:00,  6.35s/it]"
      }
     },
     "4bc5b7e763bd41efb3f51b7faf6b2553": {
      "model_module": "@jupyter-widgets/base",
      "model_module_version": "2.0.0",
      "model_name": "LayoutModel",
      "state": {
       "_model_module": "@jupyter-widgets/base",
       "_model_module_version": "2.0.0",
       "_model_name": "LayoutModel",
       "_view_count": null,
       "_view_module": "@jupyter-widgets/base",
       "_view_module_version": "2.0.0",
       "_view_name": "LayoutView",
       "align_content": null,
       "align_items": null,
       "align_self": null,
       "border_bottom": null,
       "border_left": null,
       "border_right": null,
       "border_top": null,
       "bottom": null,
       "display": null,
       "flex": null,
       "flex_flow": null,
       "grid_area": null,
       "grid_auto_columns": null,
       "grid_auto_flow": null,
       "grid_auto_rows": null,
       "grid_column": null,
       "grid_gap": null,
       "grid_row": null,
       "grid_template_areas": null,
       "grid_template_columns": null,
       "grid_template_rows": null,
       "height": null,
       "justify_content": null,
       "justify_items": null,
       "left": null,
       "margin": null,
       "max_height": null,
       "max_width": null,
       "min_height": null,
       "min_width": null,
       "object_fit": null,
       "object_position": null,
       "order": null,
       "overflow": null,
       "padding": null,
       "right": null,
       "top": null,
       "visibility": null,
       "width": null
      }
     },
     "623cfb29c2674e3e8afa956617fee28d": {
      "model_module": "@jupyter-widgets/controls",
      "model_module_version": "2.0.0",
      "model_name": "HTMLModel",
      "state": {
       "_dom_classes": [],
       "_model_module": "@jupyter-widgets/controls",
       "_model_module_version": "2.0.0",
       "_model_name": "HTMLModel",
       "_view_count": null,
       "_view_module": "@jupyter-widgets/controls",
       "_view_module_version": "2.0.0",
       "_view_name": "HTMLView",
       "description": "",
       "description_allow_html": false,
       "layout": "IPY_MODEL_d22ead2504ee49e6bdda108317f45ac1",
       "placeholder": "​",
       "style": "IPY_MODEL_7d93c028c6b249fbbb05b7bb576f6e14",
       "tabbable": null,
       "tooltip": null,
       "value": " 256/256 [29:09&lt;00:00,  6.42s/it]"
      }
     },
     "62eaeb24301b45bdbed6f793ae2a80d3": {
      "model_module": "@jupyter-widgets/controls",
      "model_module_version": "2.0.0",
      "model_name": "HTMLStyleModel",
      "state": {
       "_model_module": "@jupyter-widgets/controls",
       "_model_module_version": "2.0.0",
       "_model_name": "HTMLStyleModel",
       "_view_count": null,
       "_view_module": "@jupyter-widgets/base",
       "_view_module_version": "2.0.0",
       "_view_name": "StyleView",
       "background": null,
       "description_width": "",
       "font_size": null,
       "text_color": null
      }
     },
     "6589ece8f1bd4f259fa2daee94834cee": {
      "model_module": "@jupyter-widgets/base",
      "model_module_version": "2.0.0",
      "model_name": "LayoutModel",
      "state": {
       "_model_module": "@jupyter-widgets/base",
       "_model_module_version": "2.0.0",
       "_model_name": "LayoutModel",
       "_view_count": null,
       "_view_module": "@jupyter-widgets/base",
       "_view_module_version": "2.0.0",
       "_view_name": "LayoutView",
       "align_content": null,
       "align_items": null,
       "align_self": null,
       "border_bottom": null,
       "border_left": null,
       "border_right": null,
       "border_top": null,
       "bottom": null,
       "display": null,
       "flex": null,
       "flex_flow": null,
       "grid_area": null,
       "grid_auto_columns": null,
       "grid_auto_flow": null,
       "grid_auto_rows": null,
       "grid_column": null,
       "grid_gap": null,
       "grid_row": null,
       "grid_template_areas": null,
       "grid_template_columns": null,
       "grid_template_rows": null,
       "height": null,
       "justify_content": null,
       "justify_items": null,
       "left": null,
       "margin": null,
       "max_height": null,
       "max_width": null,
       "min_height": null,
       "min_width": null,
       "object_fit": null,
       "object_position": null,
       "order": null,
       "overflow": null,
       "padding": null,
       "right": null,
       "top": null,
       "visibility": null,
       "width": null
      }
     },
     "6842b6809a9e45cfb0e702de8bc33a4a": {
      "model_module": "@jupyter-widgets/base",
      "model_module_version": "2.0.0",
      "model_name": "LayoutModel",
      "state": {
       "_model_module": "@jupyter-widgets/base",
       "_model_module_version": "2.0.0",
       "_model_name": "LayoutModel",
       "_view_count": null,
       "_view_module": "@jupyter-widgets/base",
       "_view_module_version": "2.0.0",
       "_view_name": "LayoutView",
       "align_content": null,
       "align_items": null,
       "align_self": null,
       "border_bottom": null,
       "border_left": null,
       "border_right": null,
       "border_top": null,
       "bottom": null,
       "display": null,
       "flex": null,
       "flex_flow": null,
       "grid_area": null,
       "grid_auto_columns": null,
       "grid_auto_flow": null,
       "grid_auto_rows": null,
       "grid_column": null,
       "grid_gap": null,
       "grid_row": null,
       "grid_template_areas": null,
       "grid_template_columns": null,
       "grid_template_rows": null,
       "height": null,
       "justify_content": null,
       "justify_items": null,
       "left": null,
       "margin": null,
       "max_height": null,
       "max_width": null,
       "min_height": null,
       "min_width": null,
       "object_fit": null,
       "object_position": null,
       "order": null,
       "overflow": null,
       "padding": null,
       "right": null,
       "top": null,
       "visibility": null,
       "width": null
      }
     },
     "69223a6848db4101aa62cbe286345231": {
      "model_module": "@jupyter-widgets/controls",
      "model_module_version": "2.0.0",
      "model_name": "HBoxModel",
      "state": {
       "_dom_classes": [],
       "_model_module": "@jupyter-widgets/controls",
       "_model_module_version": "2.0.0",
       "_model_name": "HBoxModel",
       "_view_count": null,
       "_view_module": "@jupyter-widgets/controls",
       "_view_module_version": "2.0.0",
       "_view_name": "HBoxView",
       "box_style": "",
       "children": [
        "IPY_MODEL_fbcf6af361ec40ffba104e09c0d7eb15",
        "IPY_MODEL_035ab33361e7432caecc80ca2a176575",
        "IPY_MODEL_9ae4138d5c6040ff8f31487f21120a6e"
       ],
       "layout": "IPY_MODEL_937ce84eb341402aac3fa07fed6cafd0",
       "tabbable": null,
       "tooltip": null
      }
     },
     "7279d281d2c34657bff252e8df63f4c5": {
      "model_module": "@jupyter-widgets/controls",
      "model_module_version": "2.0.0",
      "model_name": "HTMLStyleModel",
      "state": {
       "_model_module": "@jupyter-widgets/controls",
       "_model_module_version": "2.0.0",
       "_model_name": "HTMLStyleModel",
       "_view_count": null,
       "_view_module": "@jupyter-widgets/base",
       "_view_module_version": "2.0.0",
       "_view_name": "StyleView",
       "background": null,
       "description_width": "",
       "font_size": null,
       "text_color": null
      }
     },
     "77f9a290f7dd4b219ba4f735555140e1": {
      "model_module": "@jupyter-widgets/base",
      "model_module_version": "2.0.0",
      "model_name": "LayoutModel",
      "state": {
       "_model_module": "@jupyter-widgets/base",
       "_model_module_version": "2.0.0",
       "_model_name": "LayoutModel",
       "_view_count": null,
       "_view_module": "@jupyter-widgets/base",
       "_view_module_version": "2.0.0",
       "_view_name": "LayoutView",
       "align_content": null,
       "align_items": null,
       "align_self": null,
       "border_bottom": null,
       "border_left": null,
       "border_right": null,
       "border_top": null,
       "bottom": null,
       "display": null,
       "flex": null,
       "flex_flow": null,
       "grid_area": null,
       "grid_auto_columns": null,
       "grid_auto_flow": null,
       "grid_auto_rows": null,
       "grid_column": null,
       "grid_gap": null,
       "grid_row": null,
       "grid_template_areas": null,
       "grid_template_columns": null,
       "grid_template_rows": null,
       "height": null,
       "justify_content": null,
       "justify_items": null,
       "left": null,
       "margin": null,
       "max_height": null,
       "max_width": null,
       "min_height": null,
       "min_width": null,
       "object_fit": null,
       "object_position": null,
       "order": null,
       "overflow": null,
       "padding": null,
       "right": null,
       "top": null,
       "visibility": null,
       "width": null
      }
     },
     "7d93c028c6b249fbbb05b7bb576f6e14": {
      "model_module": "@jupyter-widgets/controls",
      "model_module_version": "2.0.0",
      "model_name": "HTMLStyleModel",
      "state": {
       "_model_module": "@jupyter-widgets/controls",
       "_model_module_version": "2.0.0",
       "_model_name": "HTMLStyleModel",
       "_view_count": null,
       "_view_module": "@jupyter-widgets/base",
       "_view_module_version": "2.0.0",
       "_view_name": "StyleView",
       "background": null,
       "description_width": "",
       "font_size": null,
       "text_color": null
      }
     },
     "7e3049db598142689e39c20322342839": {
      "model_module": "@jupyter-widgets/controls",
      "model_module_version": "2.0.0",
      "model_name": "FloatProgressModel",
      "state": {
       "_dom_classes": [],
       "_model_module": "@jupyter-widgets/controls",
       "_model_module_version": "2.0.0",
       "_model_name": "FloatProgressModel",
       "_view_count": null,
       "_view_module": "@jupyter-widgets/controls",
       "_view_module_version": "2.0.0",
       "_view_name": "ProgressView",
       "bar_style": "success",
       "description": "",
       "description_allow_html": false,
       "layout": "IPY_MODEL_6589ece8f1bd4f259fa2daee94834cee",
       "max": 256,
       "min": 0,
       "orientation": "horizontal",
       "style": "IPY_MODEL_bd094cda8b3c4855a4ed1300edf3f2c3",
       "tabbable": null,
       "tooltip": null,
       "value": 256
      }
     },
     "84e6789a386f4cc3b967f7880483983c": {
      "model_module": "@jupyter-widgets/controls",
      "model_module_version": "2.0.0",
      "model_name": "ProgressStyleModel",
      "state": {
       "_model_module": "@jupyter-widgets/controls",
       "_model_module_version": "2.0.0",
       "_model_name": "ProgressStyleModel",
       "_view_count": null,
       "_view_module": "@jupyter-widgets/base",
       "_view_module_version": "2.0.0",
       "_view_name": "StyleView",
       "bar_color": null,
       "description_width": ""
      }
     },
     "92ddbe5f71f340e09a33f004c0f625c0": {
      "model_module": "@jupyter-widgets/controls",
      "model_module_version": "2.0.0",
      "model_name": "HTMLStyleModel",
      "state": {
       "_model_module": "@jupyter-widgets/controls",
       "_model_module_version": "2.0.0",
       "_model_name": "HTMLStyleModel",
       "_view_count": null,
       "_view_module": "@jupyter-widgets/base",
       "_view_module_version": "2.0.0",
       "_view_name": "StyleView",
       "background": null,
       "description_width": "",
       "font_size": null,
       "text_color": null
      }
     },
     "937ce84eb341402aac3fa07fed6cafd0": {
      "model_module": "@jupyter-widgets/base",
      "model_module_version": "2.0.0",
      "model_name": "LayoutModel",
      "state": {
       "_model_module": "@jupyter-widgets/base",
       "_model_module_version": "2.0.0",
       "_model_name": "LayoutModel",
       "_view_count": null,
       "_view_module": "@jupyter-widgets/base",
       "_view_module_version": "2.0.0",
       "_view_name": "LayoutView",
       "align_content": null,
       "align_items": null,
       "align_self": null,
       "border_bottom": null,
       "border_left": null,
       "border_right": null,
       "border_top": null,
       "bottom": null,
       "display": null,
       "flex": null,
       "flex_flow": null,
       "grid_area": null,
       "grid_auto_columns": null,
       "grid_auto_flow": null,
       "grid_auto_rows": null,
       "grid_column": null,
       "grid_gap": null,
       "grid_row": null,
       "grid_template_areas": null,
       "grid_template_columns": null,
       "grid_template_rows": null,
       "height": null,
       "justify_content": null,
       "justify_items": null,
       "left": null,
       "margin": null,
       "max_height": null,
       "max_width": null,
       "min_height": null,
       "min_width": null,
       "object_fit": null,
       "object_position": null,
       "order": null,
       "overflow": null,
       "padding": null,
       "right": null,
       "top": null,
       "visibility": null,
       "width": null
      }
     },
     "9650fef1b09348cb8cff5a63a56850b7": {
      "model_module": "@jupyter-widgets/base",
      "model_module_version": "2.0.0",
      "model_name": "LayoutModel",
      "state": {
       "_model_module": "@jupyter-widgets/base",
       "_model_module_version": "2.0.0",
       "_model_name": "LayoutModel",
       "_view_count": null,
       "_view_module": "@jupyter-widgets/base",
       "_view_module_version": "2.0.0",
       "_view_name": "LayoutView",
       "align_content": null,
       "align_items": null,
       "align_self": null,
       "border_bottom": null,
       "border_left": null,
       "border_right": null,
       "border_top": null,
       "bottom": null,
       "display": null,
       "flex": null,
       "flex_flow": null,
       "grid_area": null,
       "grid_auto_columns": null,
       "grid_auto_flow": null,
       "grid_auto_rows": null,
       "grid_column": null,
       "grid_gap": null,
       "grid_row": null,
       "grid_template_areas": null,
       "grid_template_columns": null,
       "grid_template_rows": null,
       "height": null,
       "justify_content": null,
       "justify_items": null,
       "left": null,
       "margin": null,
       "max_height": null,
       "max_width": null,
       "min_height": null,
       "min_width": null,
       "object_fit": null,
       "object_position": null,
       "order": null,
       "overflow": null,
       "padding": null,
       "right": null,
       "top": null,
       "visibility": null,
       "width": null
      }
     },
     "9a36404c5a734fb38c2b22c9878a5745": {
      "model_module": "@jupyter-widgets/controls",
      "model_module_version": "2.0.0",
      "model_name": "HBoxModel",
      "state": {
       "_dom_classes": [],
       "_model_module": "@jupyter-widgets/controls",
       "_model_module_version": "2.0.0",
       "_model_name": "HBoxModel",
       "_view_count": null,
       "_view_module": "@jupyter-widgets/controls",
       "_view_module_version": "2.0.0",
       "_view_name": "HBoxView",
       "box_style": "",
       "children": [
        "IPY_MODEL_40e490736bdb4e9b91ecc29d8ebfcb9a",
        "IPY_MODEL_1e646c9ebcb840a28822c80b583c341d",
        "IPY_MODEL_623cfb29c2674e3e8afa956617fee28d"
       ],
       "layout": "IPY_MODEL_41c8f627da6e4adda218239203e2aaca",
       "tabbable": null,
       "tooltip": null
      }
     },
     "9ae4138d5c6040ff8f31487f21120a6e": {
      "model_module": "@jupyter-widgets/controls",
      "model_module_version": "2.0.0",
      "model_name": "HTMLModel",
      "state": {
       "_dom_classes": [],
       "_model_module": "@jupyter-widgets/controls",
       "_model_module_version": "2.0.0",
       "_model_name": "HTMLModel",
       "_view_count": null,
       "_view_module": "@jupyter-widgets/controls",
       "_view_module_version": "2.0.0",
       "_view_name": "HTMLView",
       "description": "",
       "description_allow_html": false,
       "layout": "IPY_MODEL_ff03739d18014246817c21e4dbf0a84a",
       "placeholder": "​",
       "style": "IPY_MODEL_e36bde94baa0470b804d73c4cc83a922",
       "tabbable": null,
       "tooltip": null,
       "value": " 256/256 [27:36&lt;00:00,  6.62s/it]"
      }
     },
     "b8499c15522745cd9981166aa85f493d": {
      "model_module": "@jupyter-widgets/controls",
      "model_module_version": "2.0.0",
      "model_name": "HTMLModel",
      "state": {
       "_dom_classes": [],
       "_model_module": "@jupyter-widgets/controls",
       "_model_module_version": "2.0.0",
       "_model_name": "HTMLModel",
       "_view_count": null,
       "_view_module": "@jupyter-widgets/controls",
       "_view_module_version": "2.0.0",
       "_view_name": "HTMLView",
       "description": "",
       "description_allow_html": false,
       "layout": "IPY_MODEL_2410a91c9a7a4826b7d3c14d541ff69d",
       "placeholder": "​",
       "style": "IPY_MODEL_bdbc8bdcb94f49e29847dd9b22e6add5",
       "tabbable": null,
       "tooltip": null,
       "value": "100%"
      }
     },
     "bd094cda8b3c4855a4ed1300edf3f2c3": {
      "model_module": "@jupyter-widgets/controls",
      "model_module_version": "2.0.0",
      "model_name": "ProgressStyleModel",
      "state": {
       "_model_module": "@jupyter-widgets/controls",
       "_model_module_version": "2.0.0",
       "_model_name": "ProgressStyleModel",
       "_view_count": null,
       "_view_module": "@jupyter-widgets/base",
       "_view_module_version": "2.0.0",
       "_view_name": "StyleView",
       "bar_color": null,
       "description_width": ""
      }
     },
     "bdbc8bdcb94f49e29847dd9b22e6add5": {
      "model_module": "@jupyter-widgets/controls",
      "model_module_version": "2.0.0",
      "model_name": "HTMLStyleModel",
      "state": {
       "_model_module": "@jupyter-widgets/controls",
       "_model_module_version": "2.0.0",
       "_model_name": "HTMLStyleModel",
       "_view_count": null,
       "_view_module": "@jupyter-widgets/base",
       "_view_module_version": "2.0.0",
       "_view_name": "StyleView",
       "background": null,
       "description_width": "",
       "font_size": null,
       "text_color": null
      }
     },
     "c078cae24ae7430bace625a76b1cb988": {
      "model_module": "@jupyter-widgets/base",
      "model_module_version": "2.0.0",
      "model_name": "LayoutModel",
      "state": {
       "_model_module": "@jupyter-widgets/base",
       "_model_module_version": "2.0.0",
       "_model_name": "LayoutModel",
       "_view_count": null,
       "_view_module": "@jupyter-widgets/base",
       "_view_module_version": "2.0.0",
       "_view_name": "LayoutView",
       "align_content": null,
       "align_items": null,
       "align_self": null,
       "border_bottom": null,
       "border_left": null,
       "border_right": null,
       "border_top": null,
       "bottom": null,
       "display": null,
       "flex": null,
       "flex_flow": null,
       "grid_area": null,
       "grid_auto_columns": null,
       "grid_auto_flow": null,
       "grid_auto_rows": null,
       "grid_column": null,
       "grid_gap": null,
       "grid_row": null,
       "grid_template_areas": null,
       "grid_template_columns": null,
       "grid_template_rows": null,
       "height": null,
       "justify_content": null,
       "justify_items": null,
       "left": null,
       "margin": null,
       "max_height": null,
       "max_width": null,
       "min_height": null,
       "min_width": null,
       "object_fit": null,
       "object_position": null,
       "order": null,
       "overflow": null,
       "padding": null,
       "right": null,
       "top": null,
       "visibility": null,
       "width": null
      }
     },
     "c26548a3142c45f1adfa8abc1815ac5f": {
      "model_module": "@jupyter-widgets/base",
      "model_module_version": "2.0.0",
      "model_name": "LayoutModel",
      "state": {
       "_model_module": "@jupyter-widgets/base",
       "_model_module_version": "2.0.0",
       "_model_name": "LayoutModel",
       "_view_count": null,
       "_view_module": "@jupyter-widgets/base",
       "_view_module_version": "2.0.0",
       "_view_name": "LayoutView",
       "align_content": null,
       "align_items": null,
       "align_self": null,
       "border_bottom": null,
       "border_left": null,
       "border_right": null,
       "border_top": null,
       "bottom": null,
       "display": null,
       "flex": null,
       "flex_flow": null,
       "grid_area": null,
       "grid_auto_columns": null,
       "grid_auto_flow": null,
       "grid_auto_rows": null,
       "grid_column": null,
       "grid_gap": null,
       "grid_row": null,
       "grid_template_areas": null,
       "grid_template_columns": null,
       "grid_template_rows": null,
       "height": null,
       "justify_content": null,
       "justify_items": null,
       "left": null,
       "margin": null,
       "max_height": null,
       "max_width": null,
       "min_height": null,
       "min_width": null,
       "object_fit": null,
       "object_position": null,
       "order": null,
       "overflow": null,
       "padding": null,
       "right": null,
       "top": null,
       "visibility": null,
       "width": null
      }
     },
     "c59fd60c9cf0495b922c74febebcfd99": {
      "model_module": "@jupyter-widgets/controls",
      "model_module_version": "2.0.0",
      "model_name": "HTMLStyleModel",
      "state": {
       "_model_module": "@jupyter-widgets/controls",
       "_model_module_version": "2.0.0",
       "_model_name": "HTMLStyleModel",
       "_view_count": null,
       "_view_module": "@jupyter-widgets/base",
       "_view_module_version": "2.0.0",
       "_view_name": "StyleView",
       "background": null,
       "description_width": "",
       "font_size": null,
       "text_color": null
      }
     },
     "cc8031db1bd442d1a481d859e4f8c3d1": {
      "model_module": "@jupyter-widgets/controls",
      "model_module_version": "2.0.0",
      "model_name": "ProgressStyleModel",
      "state": {
       "_model_module": "@jupyter-widgets/controls",
       "_model_module_version": "2.0.0",
       "_model_name": "ProgressStyleModel",
       "_view_count": null,
       "_view_module": "@jupyter-widgets/base",
       "_view_module_version": "2.0.0",
       "_view_name": "StyleView",
       "bar_color": null,
       "description_width": ""
      }
     },
     "cd112c61118142adadc1ffdc3d4fd7dc": {
      "model_module": "@jupyter-widgets/controls",
      "model_module_version": "2.0.0",
      "model_name": "ProgressStyleModel",
      "state": {
       "_model_module": "@jupyter-widgets/controls",
       "_model_module_version": "2.0.0",
       "_model_name": "ProgressStyleModel",
       "_view_count": null,
       "_view_module": "@jupyter-widgets/base",
       "_view_module_version": "2.0.0",
       "_view_name": "StyleView",
       "bar_color": null,
       "description_width": ""
      }
     },
     "d0069e861bec45358c5749eb8eb64139": {
      "model_module": "@jupyter-widgets/controls",
      "model_module_version": "2.0.0",
      "model_name": "HTMLModel",
      "state": {
       "_dom_classes": [],
       "_model_module": "@jupyter-widgets/controls",
       "_model_module_version": "2.0.0",
       "_model_name": "HTMLModel",
       "_view_count": null,
       "_view_module": "@jupyter-widgets/controls",
       "_view_module_version": "2.0.0",
       "_view_name": "HTMLView",
       "description": "",
       "description_allow_html": false,
       "layout": "IPY_MODEL_4bc5b7e763bd41efb3f51b7faf6b2553",
       "placeholder": "​",
       "style": "IPY_MODEL_372ec21d55b140a3b2f2485311a94b90",
       "tabbable": null,
       "tooltip": null,
       "value": " 256/256 [27:19&lt;00:00,  6.44s/it]"
      }
     },
     "d2044911f735442cbe3dc75e7249db0f": {
      "model_module": "@jupyter-widgets/base",
      "model_module_version": "2.0.0",
      "model_name": "LayoutModel",
      "state": {
       "_model_module": "@jupyter-widgets/base",
       "_model_module_version": "2.0.0",
       "_model_name": "LayoutModel",
       "_view_count": null,
       "_view_module": "@jupyter-widgets/base",
       "_view_module_version": "2.0.0",
       "_view_name": "LayoutView",
       "align_content": null,
       "align_items": null,
       "align_self": null,
       "border_bottom": null,
       "border_left": null,
       "border_right": null,
       "border_top": null,
       "bottom": null,
       "display": null,
       "flex": null,
       "flex_flow": null,
       "grid_area": null,
       "grid_auto_columns": null,
       "grid_auto_flow": null,
       "grid_auto_rows": null,
       "grid_column": null,
       "grid_gap": null,
       "grid_row": null,
       "grid_template_areas": null,
       "grid_template_columns": null,
       "grid_template_rows": null,
       "height": null,
       "justify_content": null,
       "justify_items": null,
       "left": null,
       "margin": null,
       "max_height": null,
       "max_width": null,
       "min_height": null,
       "min_width": null,
       "object_fit": null,
       "object_position": null,
       "order": null,
       "overflow": null,
       "padding": null,
       "right": null,
       "top": null,
       "visibility": null,
       "width": null
      }
     },
     "d22ead2504ee49e6bdda108317f45ac1": {
      "model_module": "@jupyter-widgets/base",
      "model_module_version": "2.0.0",
      "model_name": "LayoutModel",
      "state": {
       "_model_module": "@jupyter-widgets/base",
       "_model_module_version": "2.0.0",
       "_model_name": "LayoutModel",
       "_view_count": null,
       "_view_module": "@jupyter-widgets/base",
       "_view_module_version": "2.0.0",
       "_view_name": "LayoutView",
       "align_content": null,
       "align_items": null,
       "align_self": null,
       "border_bottom": null,
       "border_left": null,
       "border_right": null,
       "border_top": null,
       "bottom": null,
       "display": null,
       "flex": null,
       "flex_flow": null,
       "grid_area": null,
       "grid_auto_columns": null,
       "grid_auto_flow": null,
       "grid_auto_rows": null,
       "grid_column": null,
       "grid_gap": null,
       "grid_row": null,
       "grid_template_areas": null,
       "grid_template_columns": null,
       "grid_template_rows": null,
       "height": null,
       "justify_content": null,
       "justify_items": null,
       "left": null,
       "margin": null,
       "max_height": null,
       "max_width": null,
       "min_height": null,
       "min_width": null,
       "object_fit": null,
       "object_position": null,
       "order": null,
       "overflow": null,
       "padding": null,
       "right": null,
       "top": null,
       "visibility": null,
       "width": null
      }
     },
     "d69c4d7c0ffd4195b09a98ea697a7a77": {
      "model_module": "@jupyter-widgets/base",
      "model_module_version": "2.0.0",
      "model_name": "LayoutModel",
      "state": {
       "_model_module": "@jupyter-widgets/base",
       "_model_module_version": "2.0.0",
       "_model_name": "LayoutModel",
       "_view_count": null,
       "_view_module": "@jupyter-widgets/base",
       "_view_module_version": "2.0.0",
       "_view_name": "LayoutView",
       "align_content": null,
       "align_items": null,
       "align_self": null,
       "border_bottom": null,
       "border_left": null,
       "border_right": null,
       "border_top": null,
       "bottom": null,
       "display": null,
       "flex": null,
       "flex_flow": null,
       "grid_area": null,
       "grid_auto_columns": null,
       "grid_auto_flow": null,
       "grid_auto_rows": null,
       "grid_column": null,
       "grid_gap": null,
       "grid_row": null,
       "grid_template_areas": null,
       "grid_template_columns": null,
       "grid_template_rows": null,
       "height": null,
       "justify_content": null,
       "justify_items": null,
       "left": null,
       "margin": null,
       "max_height": null,
       "max_width": null,
       "min_height": null,
       "min_width": null,
       "object_fit": null,
       "object_position": null,
       "order": null,
       "overflow": null,
       "padding": null,
       "right": null,
       "top": null,
       "visibility": null,
       "width": null
      }
     },
     "e36bde94baa0470b804d73c4cc83a922": {
      "model_module": "@jupyter-widgets/controls",
      "model_module_version": "2.0.0",
      "model_name": "HTMLStyleModel",
      "state": {
       "_model_module": "@jupyter-widgets/controls",
       "_model_module_version": "2.0.0",
       "_model_name": "HTMLStyleModel",
       "_view_count": null,
       "_view_module": "@jupyter-widgets/base",
       "_view_module_version": "2.0.0",
       "_view_name": "StyleView",
       "background": null,
       "description_width": "",
       "font_size": null,
       "text_color": null
      }
     },
     "f16c0a10ddef42d883635f671bda9653": {
      "model_module": "@jupyter-widgets/controls",
      "model_module_version": "2.0.0",
      "model_name": "HTMLStyleModel",
      "state": {
       "_model_module": "@jupyter-widgets/controls",
       "_model_module_version": "2.0.0",
       "_model_name": "HTMLStyleModel",
       "_view_count": null,
       "_view_module": "@jupyter-widgets/base",
       "_view_module_version": "2.0.0",
       "_view_name": "StyleView",
       "background": null,
       "description_width": "",
       "font_size": null,
       "text_color": null
      }
     },
     "fbcf6af361ec40ffba104e09c0d7eb15": {
      "model_module": "@jupyter-widgets/controls",
      "model_module_version": "2.0.0",
      "model_name": "HTMLModel",
      "state": {
       "_dom_classes": [],
       "_model_module": "@jupyter-widgets/controls",
       "_model_module_version": "2.0.0",
       "_model_name": "HTMLModel",
       "_view_count": null,
       "_view_module": "@jupyter-widgets/controls",
       "_view_module_version": "2.0.0",
       "_view_name": "HTMLView",
       "description": "",
       "description_allow_html": false,
       "layout": "IPY_MODEL_9650fef1b09348cb8cff5a63a56850b7",
       "placeholder": "​",
       "style": "IPY_MODEL_7279d281d2c34657bff252e8df63f4c5",
       "tabbable": null,
       "tooltip": null,
       "value": "100%"
      }
     },
     "fd94337716a24629bbbf38eb2d910e17": {
      "model_module": "@jupyter-widgets/base",
      "model_module_version": "2.0.0",
      "model_name": "LayoutModel",
      "state": {
       "_model_module": "@jupyter-widgets/base",
       "_model_module_version": "2.0.0",
       "_model_name": "LayoutModel",
       "_view_count": null,
       "_view_module": "@jupyter-widgets/base",
       "_view_module_version": "2.0.0",
       "_view_name": "LayoutView",
       "align_content": null,
       "align_items": null,
       "align_self": null,
       "border_bottom": null,
       "border_left": null,
       "border_right": null,
       "border_top": null,
       "bottom": null,
       "display": null,
       "flex": null,
       "flex_flow": null,
       "grid_area": null,
       "grid_auto_columns": null,
       "grid_auto_flow": null,
       "grid_auto_rows": null,
       "grid_column": null,
       "grid_gap": null,
       "grid_row": null,
       "grid_template_areas": null,
       "grid_template_columns": null,
       "grid_template_rows": null,
       "height": null,
       "justify_content": null,
       "justify_items": null,
       "left": null,
       "margin": null,
       "max_height": null,
       "max_width": null,
       "min_height": null,
       "min_width": null,
       "object_fit": null,
       "object_position": null,
       "order": null,
       "overflow": null,
       "padding": null,
       "right": null,
       "top": null,
       "visibility": null,
       "width": null
      }
     },
     "ff03739d18014246817c21e4dbf0a84a": {
      "model_module": "@jupyter-widgets/base",
      "model_module_version": "2.0.0",
      "model_name": "LayoutModel",
      "state": {
       "_model_module": "@jupyter-widgets/base",
       "_model_module_version": "2.0.0",
       "_model_name": "LayoutModel",
       "_view_count": null,
       "_view_module": "@jupyter-widgets/base",
       "_view_module_version": "2.0.0",
       "_view_name": "LayoutView",
       "align_content": null,
       "align_items": null,
       "align_self": null,
       "border_bottom": null,
       "border_left": null,
       "border_right": null,
       "border_top": null,
       "bottom": null,
       "display": null,
       "flex": null,
       "flex_flow": null,
       "grid_area": null,
       "grid_auto_columns": null,
       "grid_auto_flow": null,
       "grid_auto_rows": null,
       "grid_column": null,
       "grid_gap": null,
       "grid_row": null,
       "grid_template_areas": null,
       "grid_template_columns": null,
       "grid_template_rows": null,
       "height": null,
       "justify_content": null,
       "justify_items": null,
       "left": null,
       "margin": null,
       "max_height": null,
       "max_width": null,
       "min_height": null,
       "m