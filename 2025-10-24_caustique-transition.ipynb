{
 "cells": [
  {
   "cell_type": "markdown",
   "metadata": {},
   "source": [
    "# Caustiques"
   ]
  },
  {
   "cell_type": "code",
   "execution_count": 1,
   "metadata": {
    "execution": {
     "iopub.execute_input": "2024-10-16T09:43:02.983382Z",
     "iopub.status.busy": "2024-10-16T09:43:02.983225Z",
     "iopub.status.idle": "2024-10-16T09:43:02.985631Z",
     "shell.execute_reply": "2024-10-16T09:43:02.985393Z"
    }
   },
   "outputs": [
    {
     "name": "stdout",
     "output_type": "stream",
     "text": [
      "Note: you may need to restart the kernel to use updated packages.\n"
     ]
    }
   ],
   "source": [
    "%pip install -q -U -r requirements.txt"
   ]
  },
  {
   "cell_type": "code",
   "execution_count": 2,
   "metadata": {},
   "outputs": [
    {
     "data": {
      "text/plain": [
       "'3.10.7'"
      ]
     },
     "execution_count": 2,
     "metadata": {},
     "output_type": "execute_result"
    }
   ],
   "source": [
    "import numpy as np\n",
    "import cv2\n",
    "from tqdm.auto import trange, tqdm\n",
    "import matplotlib\n",
    "# import matplotlib.gridspec as gs\n",
    "from matplotlib.gridspec import SubplotParams\n",
    "import numpy as np\n",
    "matplotlib.__version__"
   ]
  },
  {
   "cell_type": "code",
   "execution_count": 3,
   "metadata": {},
   "outputs": [
    {
     "data": {
      "text/plain": [
       "'2025-10-24_caustique-transition'"
      ]
     },
     "execution_count": 3,
     "metadata": {},
     "output_type": "execute_result"
    }
   ],
   "source": [
    "import os \n",
    "from IPython import get_ipython\n",
    "ip = get_ipython()\n",
    "# print(ip.user_ns)\n",
    "study_name = None\n",
    "if '__vsc_ipynb_file__' in ip.user_ns:\n",
    "    # https://github.com/msm1089/ipynbname/issues/17\n",
    "    study_name = os.path.split(os.path.basename(ip.user_ns['__vsc_ipynb_file__']))[1]\n",
    "elif '__file__' in ip.user_ns:\n",
    "    study_name = ip.user_ns['__file__']\n",
    "else:\n",
    "    import ipynbname\n",
    "    study_name = ipynbname.name()\n",
    "study_name = study_name.replace('.ipynb', '')\n",
    "study_name"
   ]
  },
  {
   "cell_type": "code",
   "execution_count": 4,
   "metadata": {},
   "outputs": [],
   "source": [
    "# the higher PRECISION, the bigger the file\n",
    "PRECISION = 4  # debugging\n",
    "PRECISION = 8 # low quality\n",
    "PRECISION = 10 # medium quality\n",
    "# PRECISION = 12 # good quality\n",
    "# PRECISION = 14 # very good quality\n",
    "# PRECISION = 15 # for production\n",
    "\n",
    "# https://docs.python.org/3/library/dataclasses.html?highlight=dataclass#module-dataclasses\n",
    "from dataclasses import dataclass\n",
    "\n",
    "@dataclass\n",
    "class init:\n",
    "    figpath: str = study_name # Folder to store images\n",
    "    phi: float = 1.61803 # beauty is gold\n",
    "    tag: str = 'caustique' # Tag\n",
    "    ext: str = 'mp4' # Extension for output\n",
    "    nx: int = 1*2**PRECISION # number of pixels (vertical)\n",
    "    ny: int = 1*2**PRECISION # number of pixels (horizontal)\n",
    "    nframe: int = 24*4 # number of frames for each chunk\n",
    "    bin_dens: int = 1 # relative bin density\n",
    "    bin_spectrum: int = 4 # bin spacing in spectrum (lower is more CPU)\n",
    "    seed: int = 2025 # seed for RNG\n",
    "    H: float = 3.0 # depth of the pool\n",
    "    variation: float = .20 # variation of diffraction index: http://www.philiplaven.com/p20.html 1.40 at 400 nm and 1.37 at 700nm makes a 2% variation\n",
    "    scale: float = .618*nx # period in pixels\n",
    "    B_sf: float = 1.61 # bandwidth in sf\n",
    "    V_Y: float = 0.3 # horizontal speed\n",
    "    V_X: float = 0.3 # vertical speed\n",
    "    B_V: float = 1.0 # bandwidth in speed\n",
    "    zmin: float = 1.0 # relative minimal value of wave height at the top to generate a gradient (set to 1. to have no gradient)\n",
    "    # theta: float = 2*np.pi*(2-1.61803) # angle with the horizontal\n",
    "    theta: float = np.pi/2 # angle with the horizontal\n",
    "    B_theta: float = 60*np.pi/180 # bandwidth in theta\n",
    "    min_lum: float = .01 # global diffusion level for the rendering giving the pedestal value\n",
    "    n_bits: int = 8 # bits to save images\n",
    "    gamma: float = 4. # Gamma exponant to convert luminosity to luminance\n",
    "    fps: float = 24 # frames per second\n",
    "    do_cache: bool = True # Cache intermediate output.\n",
    "    verbose: bool = False # Displays more verbose output.\n",
    "    do_display: bool = False # Displays images in notebook.\n",
    "    do_recompute: bool = False # Restart each computation    "
   ]
  },
  {
   "cell_type": "code",
   "execution_count": 5,
   "metadata": {
    "execution": {
     "iopub.execute_input": "2024-10-16T09:43:06.036410Z",
     "iopub.status.busy": "2024-10-16T09:43:06.035954Z",
     "iopub.status.idle": "2024-10-16T09:43:06.041319Z",
     "shell.execute_reply": "2024-10-16T09:43:06.039924Z"
    }
   },
   "outputs": [
    {
     "name": "stdout",
     "output_type": "stream",
     "text": [
      "Saving our simulations in=2025-10-24_caustique-transition\n"
     ]
    }
   ],
   "source": [
    "opt = init()\n",
    "print(f'Saving our simulations in={opt.figpath}')"
   ]
  },
  {
   "cell_type": "code",
   "execution_count": 6,
   "metadata": {
    "execution": {
     "iopub.execute_input": "2024-10-16T09:43:06.045705Z",
     "iopub.status.busy": "2024-10-16T09:43:06.045222Z",
     "iopub.status.idle": "2024-10-16T09:43:06.051391Z",
     "shell.execute_reply": "2024-10-16T09:43:06.050527Z"
    }
   },
   "outputs": [],
   "source": [
    "# if opt.nframe==1: opt.ext = 'png'"
   ]
  },
  {
   "cell_type": "code",
   "execution_count": 7,
   "metadata": {
    "execution": {
     "iopub.execute_input": "2024-10-16T09:43:06.055776Z",
     "iopub.status.busy": "2024-10-16T09:43:06.055017Z",
     "iopub.status.idle": "2024-10-16T09:43:06.060659Z",
     "shell.execute_reply": "2024-10-16T09:43:06.059448Z"
    },
    "tags": []
   },
   "outputs": [
    {
     "name": "stdout",
     "output_type": "stream",
     "text": [
      "init(figpath='2025-10-24_caustique-transition',\n",
      "     phi=1.61803,\n",
      "     tag='caustique',\n",
      "     ext='mp4',\n",
      "     nx=1024,\n",
      "     ny=1024,\n",
      "     nframe=96,\n",
      "     bin_dens=1,\n",
      "     bin_spectrum=4,\n",
      "     seed=2025,\n",
      "     H=3.0,\n",
      "     variation=0.2,\n",
      "     scale=632.832,\n",
      "     B_sf=1.61,\n",
      "     V_Y=0.3,\n",
      "     V_X=0.3,\n",
      "     B_V=1.0,\n",
      "     zmin=1.0,\n",
      "     theta=1.5707963267948966,\n",
      "     B_theta=1.0471975511965976,\n",
      "     min_lum=0.01,\n",
      "     n_bits=8,\n",
      "     gamma=4.0,\n",
      "     fps=24,\n",
      "     do_cache=True,\n",
      "     verbose=False,\n",
      "     do_display=False,\n",
      "     do_recompute=False)\n"
     ]
    }
   ],
   "source": [
    "from pprint import pprint\n",
    "pprint(opt)"
   ]
  },
  {
   "cell_type": "code",
   "execution_count": 8,
   "metadata": {
    "execution": {
     "iopub.execute_input": "2024-10-16T09:43:06.064918Z",
     "iopub.status.busy": "2024-10-16T09:43:06.064509Z",
     "iopub.status.idle": "2024-10-16T09:43:06.069370Z",
     "shell.execute_reply": "2024-10-16T09:43:06.068172Z"
    }
   },
   "outputs": [
    {
     "name": "stdout",
     "output_type": "stream",
     "text": [
      "Screen size=100cm=39.370in, dpi=26dpi\n"
     ]
    }
   ],
   "source": [
    "screen_size_cm = 100 # cm\n",
    "CM_BY_INCH = 2.54 # this is a constant\n",
    "screen_size_in = screen_size_cm/CM_BY_INCH\n",
    "dpi = (opt.nx // opt.bin_dens) / screen_size_in\n",
    "print(f'Screen size={screen_size_cm}cm={screen_size_in:.3f}in, dpi={dpi:.0f}dpi')"
   ]
  },
  {
   "cell_type": "markdown",
   "metadata": {},
   "source": [
    "## utilitaires\n",
    "\n",
    "Transformation d'une matrice numpy en mp4:\n"
   ]
  },
  {
   "cell_type": "code",
   "execution_count": 9,
   "metadata": {
    "execution": {
     "iopub.execute_input": "2024-10-16T09:43:06.073052Z",
     "iopub.status.busy": "2024-10-16T09:43:06.072374Z",
     "iopub.status.idle": "2024-10-16T09:43:06.078119Z",
     "shell.execute_reply": "2024-10-16T09:43:06.077358Z"
    }
   },
   "outputs": [],
   "source": [
    "import imageio\n",
    "# def make_gif(gifname, fnames, fps, do_delete=True):\n",
    "#     with imageio.get_writer(gifname, mode='I', fps=fps) as writer:\n",
    "#         for fname in fnames:\n",
    "#             writer.append_data(imageio.imread(fname))\n",
    "\n",
    "#     from pygifsicle import optimize\n",
    "#     optimize(str(gifname))\n",
    "#     if do_delete: \n",
    "#         for fname in fnames: os.remove(fname)\n",
    "#     return gifname\n",
    "\n",
    "# https://moviepy.readthedocs.io/en/latest/getting_started/videoclips.html#imagesequenceclip\n",
    "# def make_mp4(mkvname, fnames, fps, do_delete=True):\n",
    "#     import moviepy.editor as mpy\n",
    "#     clip = mpy.ImageSequenceClip(fnames, fps=fps)\n",
    "#     clip.write_videofile(mkvname, fps=fps, codec='libx264', verbose=False, logger=None)\n",
    "#     if do_delete: \n",
    "#         for fname in fnames: os.remove(fname)\n",
    "#     return mkvname \n",
    "\n",
    "# from tqdm import tqdm\n",
    "# from tqdm.notebook import tqdm\n",
    "# def make_mp4(moviename, fnames, fps):\n",
    "#     \"\"\"Create an mkv video from a sequence of image files.\n",
    "\n",
    "#     Args:\n",
    "#         moviename (str): Path to the output video file.\n",
    "#         fnames (list): List of paths to input image files.\n",
    "#         fps (int): Frames per second for the output video.\n",
    "\n",
    "#     Returns:\n",
    "#         str: Path to the created video file.\n",
    "#     \"\"\"\n",
    "#     ffmpeg_params = [\n",
    "#         \"-c:v\", \"ffv1\",                # codec (ffv1 = lossless intra‑frame)\n",
    "#         \"-level\", \"3\",                # highest ffv1 quality level\n",
    "#         \"-pix_fmt\", \"rgb48le\",          # 16‑bit pixel format     pix_fmt: str = \"gray16le\",   # 16‑bit grayscale, change to \"rgb48le\" for color\n",
    "#         \"-preset\", \"veryslow\",        # optional – best compression, slower\n",
    "#     ]\n",
    "#     with imageio.v2.get_writer(\n",
    "#         moviename,\n",
    "#         fps=fps,\n",
    "#         macro_block_size=1,\n",
    "#         ffmpeg_log_level=\"error\",   # keep the console tidy\n",
    "#         # ffmpeg_params=ffmpeg_params,\n",
    "#     ) as writer:    \n",
    "#         for fname in tqdm(fnames, desc=\"Creating video\"):\n",
    "#             print('>>>', fname)\n",
    "#             frame = imageio.v2.imread(fname, pilmode='I;16')\n",
    "#             print('bip')\n",
    "#             frame = frame.astype(np.uint16)\n",
    "#             writer.append_data(frame)\n",
    "#     return moviename\n",
    "\n",
    "def make_mp4(moviename, frames, fps):\n",
    "    with imageio.v2.get_writer(\n",
    "        moviename,\n",
    "        format='FFmpeg', \n",
    "        mode='I',\n",
    "        # format='av', \n",
    "        fps=fps,\n",
    "        # pixelformat=pix_fmt\n",
    "        # codec='ffv1',  # Use FFV1 for lossless compression\n",
    "        ) as writer:\n",
    "        for i_frame in range(frames.shape[-1]):\n",
    "            # Append the frame to the video writer\n",
    "            writer.append_data(frames[..., i_frame])\n",
    "    return moviename\n",
    "\n",
    "# import imageio.v3 as iio\n",
    "# def make_mp4(mkvname, frames, fps):\n",
    "#     pix_fmt = 'rgb48le' if frames.ndim==3 else 'gray16le'\n",
    "#     iio.imwrite(\n",
    "#         mkvname,\n",
    "#         np.moveaxis(frames, -1, 0),\n",
    "#         plugin='pyav',\n",
    "#         codec='ffv1',\n",
    "#         fps=fps,\n",
    "#         in_pixel_format=pix_fmt,\n",
    "#         out_pixel_format=pix_fmt\n",
    "#     )\n",
    "#     return mkvname\n",
    "\n",
    "\n",
    "# make_mp4(\"test_video.mp4\", np.random.randint(0, 2**8-1, (480, 640, 3, 30), dtype=np.uint8), fps=24)"
   ]
  },
  {
   "cell_type": "markdown",
   "metadata": {},
   "source": [
    "\n",
    "Utilities to compute the spectrum of the blue sky and convert them later to RGB values (check out https://laurentperrinet.github.io/sciblog/posts/2020-07-04-colors-of-the-sky.html for details)"
   ]
  },
  {
   "cell_type": "code",
   "execution_count": 10,
   "metadata": {
    "execution": {
     "iopub.execute_input": "2024-10-16T09:43:06.082021Z",
     "iopub.status.busy": "2024-10-16T09:43:06.081270Z",
     "iopub.status.idle": "2024-10-16T09:43:06.089061Z",
     "shell.execute_reply": "2024-10-16T09:43:06.088191Z"
    }
   },
   "outputs": [],
   "source": [
    "from lambda2color import Lambda2color, xyz_from_xy\n",
    "\n",
    "# borrowed from https://github.com/gummiks/gummiks.github.io/blob/master/scripts/astro/planck.py\n",
    "def planck(wav, T):\n",
    "    import scipy.constants as const\n",
    "    c = const.c # c = 3.0e+8\n",
    "    h = const.h # h = 6.626e-34\n",
    "    k = const.k # k = 1.38e-23\n",
    "    a = 2.0*h*c**2\n",
    "    b = h*c/(wav*k*T)\n",
    "    intensity = a / ( (wav**5) * (np.exp(b) - 1.0) )\n",
    "    return intensity\n",
    "\n",
    "def scattering(wav, a=0.005, p=1.3, b=0.45):\n",
    "    \"\"\"\n",
    "    b is  proportionate  to  the  column  density  of  aerosols\n",
    "    along  the  path  of  sunlight,  from  outside  the  atmosphere\n",
    "    to  the  point  of  observation\n",
    "    \n",
    "    see https://laurentperrinet.github.io/sciblog/posts/2020-07-04-colors-of-the-sky.html for more details\n",
    "\n",
    "    \"\"\"\n",
    "    # converting wav in µm:\n",
    "    intensity = np.exp(-a/((wav/1e-6)**4)) # Rayleigh extinction by nitrogen\n",
    "    intensity *= (wav/1e-6)**-4\n",
    "    intensity *= np.exp(-b/((wav/1e-6)**p)) # Aerosols\n",
    "    return intensity"
   ]
  },
  {
   "cell_type": "markdown",
   "metadata": {},
   "source": [
    "## calcul des caustiques\n"
   ]
  },
  {
   "cell_type": "code",
   "execution_count": 11,
   "metadata": {
    "execution": {
     "iopub.execute_input": "2024-10-16T09:43:06.094058Z",
     "iopub.status.busy": "2024-10-16T09:43:06.093441Z",
     "iopub.status.idle": "2024-10-16T09:43:06.297325Z",
     "shell.execute_reply": "2024-10-16T09:43:06.297072Z"
    }
   },
   "outputs": [
    {
     "name": "stderr",
     "output_type": "stream",
     "text": [
      "<>:145: SyntaxWarning: invalid escape sequence '\\>'\n",
      "<>:145: SyntaxWarning: invalid escape sequence '\\>'\n",
      "/var/folders/3p/m0g52j9j69z3gj8ktpgg1dm00000gn/T/ipykernel_77222/2349853433.py:145: SyntaxWarning: invalid escape sequence '\\>'\n",
      "  html = HTML(f'<video {opts} src=\"{output_filename}\" type=\"video/{self.opt.ext}\" width={width}\\>')\n"
     ]
    }
   ],
   "source": [
    "import matplotlib\n",
    "subplotpars = SubplotParams(left=0., right=1., bottom=0., top=1., wspace=0., hspace=0.)\n",
    "import matplotlib.pyplot as plt\n",
    "import shutil\n",
    "import hashlib\n",
    "import MotionClouds as mc\n",
    "\n",
    "class Caustique:\n",
    "    def __init__(self, opt):\n",
    "        \"\"\"\n",
    "        Image coordinates follow 'ij' indexing, that is,\n",
    "        * their origin at the top left,\n",
    "        * the X axis is vertical and goes \"down\",\n",
    "        * the Y axis is horizontal and goes \"right\".\n",
    "\n",
    "        \"\"\"\n",
    "        self.mc = mc\n",
    "        self.ratio = opt.ny/opt.nx # ratio between height and width (>1 for portrait, <1 for landscape)\n",
    "        X = np.linspace(0, 1, opt.nx, endpoint=False) # vertical\n",
    "        Y = np.linspace(0, self.ratio, opt.ny, endpoint=False) # horizontal\n",
    "        self.xv, self.yv = np.meshgrid(X, Y, indexing='ij')\n",
    "        self.opt = opt\n",
    "        # https://stackoverflow.com/questions/16878315/what-is-the-right-way-to-treat-python-argparse-namespace-as-a-dictionary\n",
    "        self.d = vars(opt)\n",
    "        os.makedirs(self.opt.figpath, exist_ok=True)\n",
    "        self.cachepath = os.path.join('/tmp', self.opt.figpath)\n",
    "        if opt.verbose: print(f'{self.cachepath=}')\n",
    "        os.makedirs(self.cachepath, exist_ok=True)\n",
    "        self.np_dtype = np.uint8 if opt.n_bits==8 else np.uint16\n",
    "        \n",
    "        illuminant = xyz_from_xy(0.3127, 0.3291) # a standard white\n",
    "        # illuminant = xyz_from_xy(0.268375 0.283377) # sky\n",
    "        # illuminant = xyz_from_xy(0.325998, 0.335354) # sun\n",
    "\n",
    "        # color conversion class\n",
    "        self.cs_srgb = Lambda2color(red=xyz_from_xy(0.64, 0.33),\n",
    "                                    green=xyz_from_xy(0.30, 0.60),\n",
    "                                    blue=xyz_from_xy(0.15, 0.06),\n",
    "                                    white=illuminant)\n",
    "        \n",
    "        self.wavelengths = self.cs_srgb.cmf[:, 0]*1e-9\n",
    "        self.N_wavelengths = len(self.wavelengths)\n",
    "        # multiply by the spectrum of the sky\n",
    "        intensity5800 = planck(self.wavelengths, 5800.)\n",
    "        scatter = scattering(self.wavelengths)\n",
    "        self.spectrum_sky = intensity5800 * scatter\n",
    "        self.spectrum_sky /= self.spectrum_sky.max()\n",
    "\n",
    "    def wave(self, do_cache=None):\n",
    "        if do_cache is None: do_cache = self.opt.do_cache\n",
    "        if do_cache: filename = f'{self.cachepath}/{self.opt.tag}_wave.npy'\n",
    "        if do_cache and os.path.isfile(filename) and not(self.opt.do_recompute):\n",
    "                z = np.load(filename)\n",
    "        else:\n",
    "            # A simplistic model of a wave using https://github.com/NeuralEnsemble/MotionClouds\n",
    "            fx, fy, ft = mc.get_grids(self.opt.nx, self.opt.ny, self.opt.nframe)\n",
    "            env = mc.envelope_gabor(fx, fy, ft, V_X=self.opt.V_Y, V_Y=self.opt.V_X, B_V=self.opt.B_V,\n",
    "                                    sf_0=1./self.opt.scale, B_sf=self.opt.B_sf/self.opt.scale,\n",
    "                                    theta=self.opt.theta, B_theta=self.opt.B_theta)\n",
    "            z = mc.random_cloud(env, seed=self.opt.seed)\n",
    "            if np.max(np.abs(z))>0: z = mc.rectif(z)\n",
    "            z *= np.linspace(self.opt.zmin, 1., self.opt.nx)[:, None, None] # [optional] vertical gradient\n",
    "            if do_cache: np.save(filename, z)\n",
    "        return z\n",
    "\n",
    "    def transform(self, z_frame, modulation=1., edge_order=2):\n",
    "        xv, yv = self.xv.copy(), self.yv.copy()\n",
    "\n",
    "        # https://numpy.org/doc/stable/reference/generated/numpy.gradient.html\n",
    "        dzdx, dzdy = np.gradient(z_frame, edge_order=edge_order)\n",
    "\n",
    "        xv = xv + modulation * self.opt.H * dzdx\n",
    "        yv = yv + modulation * self.opt.H * dzdy\n",
    "\n",
    "        xv = np.mod(xv, 1)\n",
    "        yv = np.mod(yv, self.ratio)\n",
    "\n",
    "        return xv, yv\n",
    "\n",
    "    def get_filename(self):\n",
    "        # output filename        \n",
    "        md5 = hashlib.sha224((self.opt.figpath + self.opt.tag).encode()).hexdigest()[:8] # an unique identifier for future tagging\n",
    "        output_filename = f'{self.opt.figpath}/{self.opt.tag}_{md5}.{self.opt.ext}'\n",
    "        return output_filename\n",
    "   \n",
    "    def plot(self, z, image=None, do_color=True, dpi=dpi):\n",
    "        \"\"\"\n",
    "        \n",
    "        dpi: output resolution - sets the figure size as we ensure there is a one to one correspondance between pixels in the data and the output image\n",
    "        \"\"\"\n",
    "\n",
    "        output_filename = self.get_filename()\n",
    "        if os.path.isfile(output_filename) and not(self.opt.do_recompute):\n",
    "            return output_filename\n",
    "        else:\n",
    "            # 1/ do the raytracing of image through z:\n",
    "            binsx, binsy = self.opt.nx//self.opt.bin_dens, self.opt.ny//self.opt.bin_dens\n",
    "            _, _, nframe = z.shape\n",
    "\n",
    "            # if not specified, use a full image with full contrast (from 0=black to 1=white)\n",
    "            if image is None: image = np.ones((self.opt.nx, self.opt.ny))\n",
    "\n",
    "            #image_rgb = self.cs_srgb.spec_to_rgb(hist)\n",
    "            image_rgb = np.zeros((self.opt.nx//self.opt.bin_dens,  self.opt.ny//self.opt.bin_dens, 3, nframe))\n",
    "            for i_frame in trange(nframe, desc='Scanning time', position=1, leave=True):\n",
    "                for i_wavelength in trange(self.opt.bin_spectrum//2, self.N_wavelengths, self.opt.bin_spectrum, desc='Scanning spectrum', position=0, leave=False):\n",
    "                    modulation = 1. + self.opt.variation/2 - self.opt.variation*i_wavelength/self.N_wavelengths\n",
    "                    xv, yv = self.transform(z[:, :, i_frame], modulation=modulation)\n",
    "                    hist_, _, _ = np.histogram2d(xv.ravel(), yv.ravel(),\n",
    "                                                    bins=[binsx, binsy],\n",
    "                                                    weights=image.ravel(),\n",
    "                                                    range=[[0, 1], [0, self.ratio]],\n",
    "                                                    density=True)\n",
    "\n",
    "                    # we convert the spectrum into a color\n",
    "                    spec = np.zeros((self.N_wavelengths))\n",
    "                    spec[i_wavelength] = 1\n",
    "                    rgb = self.cs_srgb.spec_to_rgb(spec)\n",
    "                    rgb *= self.spectrum_sky[i_wavelength]\n",
    "                    # we add the monochromatique color to the image\n",
    "                    image_rgb[:, :, :, i_frame] += hist_[:, :, None] * rgb[None, None, :]\n",
    "\n",
    "            image_rgb -= image_rgb.min() # HACK\n",
    "            image_rgb /= image_rgb.max()\n",
    "\n",
    "            image_rgb = image_rgb ** (1/self.opt.gamma)\n",
    "\n",
    "            # 2/ transform light into image:\n",
    "            output_filename = make_mp4(output_filename, (image_rgb*(2**self.opt.n_bits-1)).astype(self.np_dtype), fps=self.opt.fps)\n",
    "            return output_filename\n",
    "\n",
    "    def show(self, output_filename, width=1024):\n",
    "        from IPython.display import HTML, Image, display\n",
    "        if self.opt.nframe==1:\n",
    "            # display(Image(url=output_filename.replace(self.opt.ext, 'png'), width=width))\n",
    "            display(Image(url=output_filename, width=width))\n",
    "        else:\n",
    "            if self.opt.ext == 'gif':\n",
    "                return display(Image(url=output_filename, width=width))\n",
    "            else:\n",
    "                #import moviepy.editor as mpy\n",
    "                #return mpy.ipython_display(output_filename, width=width)\n",
    "                # https://github.com/NeuralEnsemble/MotionClouds/blob/master/MotionClouds/MotionClouds.py#L858\n",
    "                opts = ' loop=\"1\" autoplay=\"1\" controls '\n",
    "                html = HTML(f'<video {opts} src=\"{output_filename}\" type=\"video/{self.opt.ext}\" width={width}\\>')\n",
    "                html.reload()\n",
    "                return display(html)"
   ]
  },
  {
   "cell_type": "markdown",
   "metadata": {},
   "source": [
    "# une simple caustique\n",
    "## génération de l'illumination\n"
   ]
  },
  {
   "cell_type": "code",
   "execution_count": 12,
   "metadata": {
    "execution": {
     "iopub.execute_input": "2024-10-16T09:43:06.298834Z",
     "iopub.status.busy": "2024-10-16T09:43:06.298734Z",
     "iopub.status.idle": "2024-10-16T09:43:07.259909Z",
     "shell.execute_reply": "2024-10-16T09:43:07.259495Z"
    }
   },
   "outputs": [],
   "source": [
    "opt = init()\n",
    "c = Caustique(opt)"
   ]
  },
  {
   "cell_type": "code",
   "execution_count": 13,
   "metadata": {},
   "outputs": [
    {
     "data": {
      "text/plain": [
       "((1024, 1024, 96),\n",
       " np.float64(0.026722913402910775),\n",
       " np.float64(0.49999999999999806),\n",
       " np.float64(1.0))"
      ]
     },
     "execution_count": 13,
     "metadata": {},
     "output_type": "execute_result"
    }
   ],
   "source": [
    "z = c.wave()\n",
    "z.shape, z.min(), z.mean(), z.max()"
   ]
  },
  {
   "cell_type": "code",
   "execution_count": 14,
   "metadata": {},
   "outputs": [
    {
     "name": "stdout",
     "output_type": "stream",
     "text": [
      "Variable         Type                   Data/Info\n",
      "-------------------------------------------------\n",
      "CM_BY_INCH       float                  2.54\n",
      "Caustique        type                   <class '__main__.Caustique'>\n",
      "Lambda2color     type                   <class 'lambda2color.Lambda2color'>\n",
      "PRECISION        int                    10\n",
      "SubplotParams    type                   <class 'matplotlib.gridspec.SubplotParams'>\n",
      "c                Caustique              <__main__.Caustique object at 0x1300d0980>\n",
      "cv2              module                 <module 'cv2' from '/User<...>ackages/cv2/__init__.py'>\n",
      "dataclass        function               <function dataclass at 0x10f70a840>\n",
      "dpi              float                  26.0096\n",
      "get_ipython      function               <function get_ipython at 0x1100dc0e0>\n",
      "hashlib          module                 <module 'hashlib' from '/<...>b/python3.13/hashlib.py'>\n",
      "imageio          module                 <module 'imageio' from '/<...>ges/imageio/__init__.py'>\n",
      "init             type                   <class '__main__.init'>\n",
      "ip               ZMQInteractiveShell    <ipykernel.zmqshell.ZMQIn<...>ll object at 0x1115f7380>\n",
      "make_mp4         function               <function make_mp4 at 0x130093740>\n",
      "matplotlib       module                 <module 'matplotlib' from<...>/matplotlib/__init__.py'>\n",
      "mc               module                 <module 'MotionClouds' fr<...>ackages/MotionClouds.py'>\n",
      "np               module                 <module 'numpy' from '/Us<...>kages/numpy/__init__.py'>\n",
      "opt              init                   init(figpath='2025-10-24_<...>alse, do_recompute=False)\n",
      "os               module                 <module 'os' (frozen)>\n",
      "planck           function               <function planck at 0x1301659e0>\n",
      "plt              module                 <module 'matplotlib.pyplo<...>es/matplotlib/pyplot.py'>\n",
      "pprint           function               <function pprint at 0x10f708c20>\n",
      "scattering       function               <function scattering at 0x130165940>\n",
      "screen_size_cm   int                    100\n",
      "screen_size_in   float                  39.37007874015748\n",
      "shutil           module                 <module 'shutil' from '/u<...>ib/python3.13/shutil.py'>\n",
      "study_name       str                    2025-10-24_caustique-transition\n",
      "subplotpars      SubplotParams          <matplotlib.gridspec.Subp<...>ms object at 0x1300d2270>\n",
      "tqdm             type                   <class 'tqdm.auto.tqdm'>\n",
      "trange           function               <function trange at 0x12dc945e0>\n",
      "xyz_from_xy      function               <function xyz_from_xy at 0x130165a80>\n",
      "z                ndarray                1024x1024x96: 100663296 elems, type `float64`, 805306368 bytes (768.0 Mb)\n"
     ]
    }
   ],
   "source": [
    "%whos"
   ]
  },
  {
   "cell_type": "code",
   "execution_count": 15,
   "metadata": {
    "execution": {
     "iopub.execute_input": "2024-10-16T09:43:07.265091Z",
     "iopub.status.busy": "2024-10-16T09:43:07.264969Z",
     "iopub.status.idle": "2024-10-16T09:43:27.244503Z",
     "shell.execute_reply": "2024-10-16T09:43:27.243869Z"
    }
   },
   "outputs": [
    {
     "data": {
      "image/png": "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",
      "text/plain": [
       "<Figure size 3937.01x3937.01 with 1 Axes>"
      ]
     },
     "metadata": {},
     "output_type": "display_data"
    }
   ],
   "source": [
    "def generate_image(nx, ny, radius_in=.15, radius_out=.4):\n",
    "    Y, X = np.meshgrid(np.linspace(-1, 1, ny, endpoint=True), np.linspace(-1, 1, nx, endpoint=True))\n",
    "    image = (X**2 > radius_in**2)  # the horizontal band outside radius_in\n",
    "    image *= (Y**2 < radius_out**2) # the vertical band inside radius_out\n",
    "    image *= (X**2 < radius_out**2)  # the horizontal band inside radius_out\n",
    "    return image*1.\n",
    "\n",
    "image = generate_image(nx=c.opt.nx, ny=c.opt.ny)\n",
    "\n",
    "fig, ax = plt.subplots(figsize=(opt.ny/opt.bin_dens/dpi, opt.nx/opt.bin_dens/dpi), subplotpars=subplotpars)\n",
    "\n",
    "ax.imshow(image, cmap='gray');"
   ]
  },
  {
   "cell_type": "code",
   "execution_count": 16,
   "metadata": {},
   "outputs": [
    {
     "data": {
      "text/plain": [
       "(np.float64(0.0), np.float64(1.0), 1024, 1024)"
      ]
     },
     "execution_count": 16,
     "metadata": {},
     "output_type": "execute_result"
    }
   ],
   "source": [
    "image.min(), image.max(), c.opt.nx, c.opt.ny"
   ]
  },
  {
   "cell_type": "markdown",
   "metadata": {},
   "source": [
    "## génération de la caustique\n"
   ]
  },
  {
   "cell_type": "code",
   "execution_count": 17,
   "metadata": {
    "execution": {
     "iopub.execute_input": "2024-10-16T09:43:27.248311Z",
     "iopub.status.busy": "2024-10-16T09:43:27.248044Z",
     "iopub.status.idle": "2024-10-16T09:43:27.675906Z",
     "shell.execute_reply": "2024-10-16T09:43:27.675663Z"
    }
   },
   "outputs": [
    {
     "data": {
      "application/vnd.jupyter.widget-view+json": {
       "model_id": "cf37fd9d87404ebbb2d6d67a8698c623",
       "version_major": 2,
       "version_minor": 0
      },
      "text/plain": [
       "Scanning time:   0%|          | 0/96 [00:00<?, ?it/s]"
      ]
     },
     "metadata": {},
     "output_type": "display_data"
    },
    {
     "data": {
      "application/vnd.jupyter.widget-view+json": {
       "model_id": "3f20623ff555494eb86795928278a706",
       "version_major": 2,
       "version_minor": 0
      },
      "text/plain": [
       "Scanning spectrum:   0%|          | 0/20 [00:00<?, ?it/s]"
      ]
     },
     "metadata": {},
     "output_type": "display_data"
    },
    {
     "data": {
      "application/vnd.jupyter.widget-view+json": {
       "model_id": "59dfbfc723cd4ee19e1c6b280fd7c3de",
       "version_major": 2,
       "version_minor": 0
      },
      "text/plain": [
       "Scanning spectrum:   0%|          | 0/20 [00:00<?, ?it/s]"
      ]
     },
     "metadata": {},
     "output_type": "display_data"
    },
    {
     "data": {
      "application/vnd.jupyter.widget-view+json": {
       "model_id": "caf9ee753c194548b32e995b68219a53",
       "version_major": 2,
       "version_minor": 0
      },
      "text/plain": [
       "Scanning spectrum:   0%|          | 0/20 [00:00<?, ?it/s]"
      ]
     },
     "metadata": {},
     "output_type": "display_data"
    },
    {
     "data": {
      "application/vnd.jupyter.widget-view+json": {
       "model_id": "f9ab8edcdaf748bea0692bb14986ac5d",
       "version_major": 2,
       "version_minor": 0
      },
      "text/plain": [
       "Scanning spectrum:   0%|          | 0/20 [00:00<?, ?it/s]"
      ]
     },
     "metadata": {},
     "output_type": "display_data"
    },
    {
     "data": {
      "application/vnd.jupyter.widget-view+json": {
       "model_id": "5e6d83d8f8bd485ba373f3ef05ca7b0c",
       "version_major": 2,
       "version_minor": 0
      },
      "text/plain": [
       "Scanning spectrum:   0%|          | 0/20 [00:00<?, ?it/s]"
      ]
     },
     "metadata": {},
     "output_type": "display_data"
    },
    {
     "data": {
      "application/vnd.jupyter.widget-view+json": {
       "model_id": "ee7c0fe34aa042f380655861b76f87b2",
       "version_major": 2,
       "version_minor": 0
      },
      "text/plain": [
       "Scanning spectrum:   0%|          | 0/20 [00:00<?, ?it/s]"
      ]
     },
     "metadata": {},
     "output_type": "display_data"
    },
    {
     "data": {
      "application/vnd.jupyter.widget-view+json": {
       "model_id": "414d176925684b3c8402309d33eb1749",
       "version_major": 2,
       "version_minor": 0
      },
      "text/plain": [
       "Scanning spectrum:   0%|          | 0/20 [00:00<?, ?it/s]"
      ]
     },
     "metadata": {},
     "output_type": "display_data"
    },
    {
     "data": {
      "application/vnd.jupyter.widget-view+json": {
       "model_id": "2d31d02b0355498bbf4e5c536a8f0a0d",
       "version_major": 2,
       "version_minor": 0
      },
      "text/plain": [
       "Scanning spectrum:   0%|          | 0/20 [00:00<?, ?it/s]"
      ]
     },
     "metadata": {},
     "output_type": "display_data"
    },
    {
     "data": {
      "application/vnd.jupyter.widget-view+json": {
       "model_id": "79f0b2088e13495f9550081471499ea3",
       "version_major": 2,
       "version_minor": 0
      },
      "text/plain": [
       "Scanning spectrum:   0%|          | 0/20 [00:00<?, ?it/s]"
      ]
     },
     "metadata": {},
     "output_type": "display_data"
    },
    {
     "data": {
      "application/vnd.jupyter.widget-view+json": {
       "model_id": "9bc8d62e824d48fd95777a9fa4151098",
       "version_major": 2,
       "version_minor": 0
      },
      "text/plain": [
       "Scanning spectrum:   0%|          | 0/20 [00:00<?, ?it/s]"
      ]
     },
     "metadata": {},
     "output_type": "display_data"
    },
    {
     "data": {
      "application/vnd.jupyter.widget-view+json": {
       "model_id": "8ca3b23451d143a4b55c957868762e71",
       "version_major": 2,
       "version_minor": 0
      },
      "text/plain": [
       "Scanning spectrum:   0%|          | 0/20 [00:00<?, ?it/s]"
      ]
     },
     "metadata": {},
     "output_type": "display_data"
    },
    {
     "data": {
      "application/vnd.jupyter.widget-view+json": {
       "model_id": "fa926c9629b1497e967c967f739f1597",
       "version_major": 2,
       "version_minor": 0
      },
      "text/plain": [
       "Scanning spectrum:   0%|          | 0/20 [00:00<?, ?it/s]"
      ]
     },
     "metadata": {},
     "output_type": "display_data"
    },
    {
     "data": {
      "application/vnd.jupyter.widget-view+json": {
       "model_id": "7911b76357f3408098a1dfc12bb693ce",
       "version_major": 2,
       "version_minor": 0
      },
      "text/plain": [
       "Scanning spectrum:   0%|          | 0/20 [00:00<?, ?it/s]"
      ]
     },
     "metadata": {},
     "output_type": "display_data"
    },
    {
     "data": {
      "application/vnd.jupyter.widget-view+json": {
       "model_id": "be85523a63374c8d945352097b635bf2",
       "version_major": 2,
       "version_minor": 0
      },
      "text/plain": [
       "Scanning spectrum:   0%|          | 0/20 [00:00<?, ?it/s]"
      ]
     },
     "metadata": {},
     "output_type": "display_data"
    },
    {
     "data": {
      "application/vnd.jupyter.widget-view+json": {
       "model_id": "c9ec07f8879e43789983d3151ed0fb17",
       "version_major": 2,
       "version_minor": 0
      },
      "text/plain": [
       "Scanning spectrum:   0%|          | 0/20 [00:00<?, ?it/s]"
      ]
     },
     "metadata": {},
     "output_type": "display_data"
    },
    {
     "data": {
      "application/vnd.jupyter.widget-view+json": {
       "model_id": "e93dfbb2efa149f99882bbe786eaf99b",
       "version_major": 2,
       "version_minor": 0
      },
      "text/plain": [
       "Scanning spectrum:   0%|          | 0/20 [00:00<?, ?it/s]"
      ]
     },
     "metadata": {},
     "output_type": "display_data"
    },
    {
     "data": {
      "application/vnd.jupyter.widget-view+json": {
       "model_id": "2192db3a1bdb4300927b73138bb5b7d2",
       "version_major": 2,
       "version_minor": 0
      },
      "text/plain": [
       "Scanning spectrum:   0%|          | 0/20 [00:00<?, ?it/s]"
      ]
     },
     "metadata": {},
     "output_type": "display_data"
    },
    {
     "data": {
      "application/vnd.jupyter.widget-view+json": {
       "model_id": "eb55210793494a9cbbad3e2f64f87760",
       "version_major": 2,
       "version_minor": 0
      },
      "text/plain": [
       "Scanning spectrum:   0%|          | 0/20 [00:00<?, ?it/s]"
      ]
     },
     "metadata": {},
     "output_type": "display_data"
    },
    {
     "data": {
      "application/vnd.jupyter.widget-view+json": {
       "model_id": "ef55a04f59604960967b7d5f26c061ed",
       "version_major": 2,
       "version_minor": 0
      },
      "text/plain": [
       "Scanning spectrum:   0%|          | 0/20 [00:00<?, ?it/s]"
      ]
     },
     "metadata": {},
     "output_type": "display_data"
    },
    {
     "data": {
      "application/vnd.jupyter.widget-view+json": {
       "model_id": "70e39674b3b541e3a7fe3f46175e965a",
       "version_major": 2,
       "version_minor": 0
      },
      "text/plain": [
       "Scanning spectrum:   0%|          | 0/20 [00:00<?, ?it/s]"
      ]
     },
     "metadata": {},
     "output_type": "display_data"
    },
    {
     "data": {
      "application/vnd.jupyter.widget-view+json": {
       "model_id": "82276a9b6f6f4d90859b4f9430982492",
       "version_major": 2,
       "version_minor": 0
      },
      "text/plain": [
       "Scanning spectrum:   0%|          | 0/20 [00:00<?, ?it/s]"
      ]
     },
     "metadata": {},
     "output_type": "display_data"
    },
    {
     "data": {
      "application/vnd.jupyter.widget-view+json": {
       "model_id": "9426be10f9bf494f8a0d99ca05f64e59",
       "version_major": 2,
       "version_minor": 0
      },
      "text/plain": [
       "Scanning spectrum:   0%|          | 0/20 [00:00<?, ?it/s]"
      ]
     },
     "metadata": {},
     "output_type": "display_data"
    },
    {
     "data": {
      "application/vnd.jupyter.widget-view+json": {
       "model_id": "2f98dfefecbd459381c6b596693cddd6",
       "version_major": 2,
       "version_minor": 0
      },
      "text/plain": [
       "Scanning spectrum:   0%|          | 0/20 [00:00<?, ?it/s]"
      ]
     },
     "metadata": {},
     "output_type": "display_data"
    },
    {
     "data": {
      "application/vnd.jupyter.widget-view+json": {
       "model_id": "1075466484ad46adb7c96c4cbac7873f",
       "version_major": 2,
       "version_minor": 0
      },
      "text/plain": [
       "Scanning spectrum:   0%|          | 0/20 [00:00<?, ?it/s]"
      ]
     },
     "metadata": {},
     "output_type": "display_data"
    },
    {
     "data": {
      "application/vnd.jupyter.widget-view+json": {
       "model_id": "29a764f85e7b4ef7937ab3b9db38a082",
       "version_major": 2,
       "version_minor": 0
      },
      "text/plain": [
       "Scanning spectrum:   0%|          | 0/20 [00:00<?, ?it/s]"
      ]
     },
     "metadata": {},
     "output_type": "display_data"
    },
    {
     "data": {
      "application/vnd.jupyter.widget-view+json": {
       "model_id": "299f6ebf5c4340a5b8348d06530c13d9",
       "version_major": 2,
       "version_minor": 0
      },
      "text/plain": [
       "Scanning spectrum:   0%|          | 0/20 [00:00<?, ?it/s]"
      ]
     },
     "metadata": {},
     "output_type": "display_data"
    },
    {
     "data": {
      "application/vnd.jupyter.widget-view+json": {
       "model_id": "08123f4e14704cf1b0b4a08a8fc58038",
       "version_major": 2,
       "version_minor": 0
      },
      "text/plain": [
       "Scanning spectrum:   0%|          | 0/20 [00:00<?, ?it/s]"
      ]
     },
     "metadata": {},
     "output_type": "display_data"
    },
    {
     "data": {
      "application/vnd.jupyter.widget-view+json": {
       "model_id": "3b107ee0210a4cd585153da15d2f61c6",
       "version_major": 2,
       "version_minor": 0
      },
      "text/plain": [
       "Scanning spectrum:   0%|          | 0/20 [00:00<?, ?it/s]"
      ]
     },
     "metadata": {},
     "output_type": "display_data"
    },
    {
     "data": {
      "application/vnd.jupyter.widget-view+json": {
       "model_id": "aa5c886332044445a3fbe3ffb2cffc96",
       "version_major": 2,
       "version_minor": 0
      },
      "text/plain": [
       "Scanning spectrum:   0%|          | 0/20 [00:00<?, ?it/s]"
      ]
     },
     "metadata": {},
     "output_type": "display_data"
    },
    {
     "data": {
      "application/vnd.jupyter.widget-view+json": {
       "model_id": "b9f5878a1262463894d59f337217ac66",
       "version_major": 2,
       "version_minor": 0
      },
      "text/plain": [
       "Scanning spectrum:   0%|          | 0/20 [00:00<?, ?it/s]"
      ]
     },
     "metadata": {},
     "output_type": "display_data"
    },
    {
     "data": {
      "application/vnd.jupyter.widget-view+json": {
       "model_id": "12bdfc73c1f649be8f2e3e4b833da92a",
       "version_major": 2,
       "version_minor": 0
      },
      "text/plain": [
       "Scanning spectrum:   0%|          | 0/20 [00:00<?, ?it/s]"
      ]
     },
     "metadata": {},
     "output_type": "display_data"
    },
    {
     "data": {
      "application/vnd.jupyter.widget-view+json": {
       "model_id": "1138b5a091df4d9aa8089b88e387797d",
       "version_major": 2,
       "version_minor": 0
      },
      "text/plain": [
       "Scanning spectrum:   0%|          | 0/20 [00:00<?, ?it/s]"
      ]
     },
     "metadata": {},
     "output_type": "display_data"
    },
    {
     "data": {
      "application/vnd.jupyter.widget-view+json": {
       "model_id": "d453f01745804ba795b85419d53867df",
       "version_major": 2,
       "version_minor": 0
      },
      "text/plain": [
       "Scanning spectrum:   0%|          | 0/20 [00:00<?, ?it/s]"
      ]
     },
     "metadata": {},
     "output_type": "display_data"
    },
    {
     "data": {
      "application/vnd.jupyter.widget-view+json": {
       "model_id": "dc14ca505e8a4f138837abdf41363bfc",
       "version_major": 2,
       "version_minor": 0
      },
      "text/plain": [
       "Scanning spectrum:   0%|          | 0/20 [00:00<?, ?it/s]"
      ]
     },
     "metadata": {},
     "output_type": "display_data"
    },
    {
     "data": {
      "application/vnd.jupyter.widget-view+json": {
       "model_id": "4c91abd6f7974574b9fa15e7a213d8ee",
       "version_major": 2,
       "version_minor": 0
      },
      "text/plain": [
       "Scanning spectrum:   0%|          | 0/20 [00:00<?, ?it/s]"
      ]
     },
     "metadata": {},
     "output_type": "display_data"
    },
    {
     "data": {
      "application/vnd.jupyter.widget-view+json": {
       "model_id": "bae8ccde379f4a74a3769cefa0bb279a",
       "version_major": 2,
       "version_minor": 0
      },
      "text/plain": [
       "Scanning spectrum:   0%|          | 0/20 [00:00<?, ?it/s]"
      ]
     },
     "metadata": {},
     "output_type": "display_data"
    },
    {
     "data": {
      "application/vnd.jupyter.widget-view+json": {
       "model_id": "75ac33ef7d044fc6a8e5da777473573b",
       "version_major": 2,
       "version_minor": 0
      },
      "text/plain": [
       "Scanning spectrum:   0%|          | 0/20 [00:00<?, ?it/s]"
      ]
     },
     "metadata": {},
     "output_type": "display_data"
    },
    {
     "data": {
      "application/vnd.jupyter.widget-view+json": {
       "model_id": "372bea313deb46c59f0b6b980e759aa7",
       "version_major": 2,
       "version_minor": 0
      },
      "text/plain": [
       "Scanning spectrum:   0%|          | 0/20 [00:00<?, ?it/s]"
      ]
     },
     "metadata": {},
     "output_type": "display_data"
    },
    {
     "data": {
      "application/vnd.jupyter.widget-view+json": {
       "model_id": "df95b94d889b4c8099dfbd7a1d2c3e74",
       "version_major": 2,
       "version_minor": 0
      },
      "text/plain": [
       "Scanning spectrum:   0%|          | 0/20 [00:00<?, ?it/s]"
      ]
     },
     "metadata": {},
     "output_type": "display_data"
    },
    {
     "data": {
      "application/vnd.jupyter.widget-view+json": {
       "model_id": "1340585169b5417797d5682d8e9a16d7",
       "version_major": 2,
       "version_minor": 0
      },
      "text/plain": [
       "Scanning spectrum:   0%|          | 0/20 [00:00<?, ?it/s]"
      ]
     },
     "metadata": {},
     "output_type": "display_data"
    },
    {
     "data": {
      "application/vnd.jupyter.widget-view+json": {
       "model_id": "d176b475e1114c5d8aa8739e822e4bd6",
       "version_major": 2,
       "version_minor": 0
      },
      "text/plain": [
       "Scanning spectrum:   0%|          | 0/20 [00:00<?, ?it/s]"
      ]
     },
     "metadata": {},
     "output_type": "display_data"
    },
    {
     "data": {
      "application/vnd.jupyter.widget-view+json": {
       "model_id": "49da1e3038b84ac388a542882439048f",
       "version_major": 2,
       "version_minor": 0
      },
      "text/plain": [
       "Scanning spectrum:   0%|          | 0/20 [00:00<?, ?it/s]"
      ]
     },
     "metadata": {},
     "output_type": "display_data"
    },
    {
     "data": {
      "application/vnd.jupyter.widget-view+json": {
       "model_id": "f69723c142704323866be09ba2c7b8bf",
       "version_major": 2,
       "version_minor": 0
      },
      "text/plain": [
       "Scanning spectrum:   0%|          | 0/20 [00:00<?, ?it/s]"
      ]
     },
     "metadata": {},
     "output_type": "display_data"
    },
    {
     "data": {
      "application/vnd.jupyter.widget-view+json": {
       "model_id": "7a54b788a4444599bdfa9507448cf1ff",
       "version_major": 2,
       "version_minor": 0
      },
      "text/plain": [
       "Scanning spectrum:   0%|          | 0/20 [00:00<?, ?it/s]"
      ]
     },
     "metadata": {},
     "output_type": "display_data"
    },
    {
     "data": {
      "application/vnd.jupyter.widget-view+json": {
       "model_id": "8745cb3190c24be4b1910b9ee0912592",
       "version_major": 2,
       "version_minor": 0
      },
      "text/plain": [
       "Scanning spectrum:   0%|          | 0/20 [00:00<?, ?it/s]"
      ]
     },
     "metadata": {},
     "output_type": "display_data"
    },
    {
     "data": {
      "application/vnd.jupyter.widget-view+json": {
       "model_id": "c36985d74f0b44cd85035537c2fb7956",
       "version_major": 2,
       "version_minor": 0
      },
      "text/plain": [
       "Scanning spectrum:   0%|          | 0/20 [00:00<?, ?it/s]"
      ]
     },
     "metadata": {},
     "output_type": "display_data"
    },
    {
     "data": {
      "application/vnd.jupyter.widget-view+json": {
       "model_id": "ed02feac99b3400e82a7485b9415cac5",
       "version_major": 2,
       "version_minor": 0
      },
      "text/plain": [
       "Scanning spectrum:   0%|          | 0/20 [00:00<?, ?it/s]"
      ]
     },
     "metadata": {},
     "output_type": "display_data"
    },
    {
     "data": {
      "application/vnd.jupyter.widget-view+json": {
       "model_id": "cc12a123346c473e8ba3fab27fb5a2cd",
       "version_major": 2,
       "version_minor": 0
      },
      "text/plain": [
       "Scanning spectrum:   0%|          | 0/20 [00:00<?, ?it/s]"
      ]
     },
     "metadata": {},
     "output_type": "display_data"
    },
    {
     "data": {
      "application/vnd.jupyter.widget-view+json": {
       "model_id": "a8edf6225a5741179829fcca48d1be5d",
       "version_major": 2,
       "version_minor": 0
      },
      "text/plain": [
       "Scanning spectrum:   0%|          | 0/20 [00:00<?, ?it/s]"
      ]
     },
     "metadata": {},
     "output_type": "display_data"
    },
    {
     "data": {
      "application/vnd.jupyter.widget-view+json": {
       "model_id": "8d737e50ac4c403684b4772bcca1dfde",
       "version_major": 2,
       "version_minor": 0
      },
      "text/plain": [
       "Scanning spectrum:   0%|          | 0/20 [00:00<?, ?it/s]"
      ]
     },
     "metadata": {},
     "output_type": "display_data"
    },
    {
     "data": {
      "application/vnd.jupyter.widget-view+json": {
       "model_id": "1b3b14352c8941f88e217e6c93fff694",
       "version_major": 2,
       "version_minor": 0
      },
      "text/plain": [
       "Scanning spectrum:   0%|          | 0/20 [00:00<?, ?it/s]"
      ]
     },
     "metadata": {},
     "output_type": "display_data"
    },
    {
     "data": {
      "application/vnd.jupyter.widget-view+json": {
       "model_id": "f64ac05791af4a5c832da8dfd20066a6",
       "version_major": 2,
       "version_minor": 0
      },
      "text/plain": [
       "Scanning spectrum:   0%|          | 0/20 [00:00<?, ?it/s]"
      ]
     },
     "metadata": {},
     "output_type": "display_data"
    },
    {
     "data": {
      "application/vnd.jupyter.widget-view+json": {
       "model_id": "754968ba5d8845abbab11275fcd162b9",
       "version_major": 2,
       "version_minor": 0
      },
      "text/plain": [
       "Scanning spectrum:   0%|          | 0/20 [00:00<?, ?it/s]"
      ]
     },
     "metadata": {},
     "output_type": "display_data"
    },
    {
     "data": {
      "application/vnd.jupyter.widget-view+json": {
       "model_id": "f792938197104f7c954dd8a997df4fc4",
       "version_major": 2,
       "version_minor": 0
      },
      "text/plain": [
       "Scanning spectrum:   0%|          | 0/20 [00:00<?, ?it/s]"
      ]
     },
     "metadata": {},
     "output_type": "display_data"
    },
    {
     "data": {
      "application/vnd.jupyter.widget-view+json": {
       "model_id": "ac00b8cbf7cf429e9c1aefafced55040",
       "version_major": 2,
       "version_minor": 0
      },
      "text/plain": [
       "Scanning spectrum:   0%|          | 0/20 [00:00<?, ?it/s]"
      ]
     },
     "metadata": {},
     "output_type": "display_data"
    },
    {
     "data": {
      "application/vnd.jupyter.widget-view+json": {
       "model_id": "ee141980cc74434ba1fe71c849a1f3a0",
       "version_major": 2,
       "version_minor": 0
      },
      "text/plain": [
       "Scanning spectrum:   0%|          | 0/20 [00:00<?, ?it/s]"
      ]
     },
     "metadata": {},
     "output_type": "display_data"
    },
    {
     "data": {
      "application/vnd.jupyter.widget-view+json": {
       "model_id": "5fa9cf5ab7994ffaae84c2402a9caf6b",
       "version_major": 2,
       "version_minor": 0
      },
      "text/plain": [
       "Scanning spectrum:   0%|          | 0/20 [00:00<?, ?it/s]"
      ]
     },
     "metadata": {},
     "output_type": "display_data"
    },
    {
     "data": {
      "application/vnd.jupyter.widget-view+json": {
       "model_id": "f0815e84236b4ac5a91440eae13fc900",
       "version_major": 2,
       "version_minor": 0
      },
      "text/plain": [
       "Scanning spectrum:   0%|          | 0/20 [00:00<?, ?it/s]"
      ]
     },
     "metadata": {},
     "output_type": "display_data"
    },
    {
     "data": {
      "application/vnd.jupyter.widget-view+json": {
       "model_id": "1a2d3e9812eb48d5be9c6a806a8e4eb0",
       "version_major": 2,
       "version_minor": 0
      },
      "text/plain": [
       "Scanning spectrum:   0%|          | 0/20 [00:00<?, ?it/s]"
      ]
     },
     "metadata": {},
     "output_type": "display_data"
    },
    {
     "data": {
      "application/vnd.jupyter.widget-view+json": {
       "model_id": "e3341b69ff2c40bbbd6b6a2ca0d10203",
       "version_major": 2,
       "version_minor": 0
      },
      "text/plain": [
       "Scanning spectrum:   0%|          | 0/20 [00:00<?, ?it/s]"
      ]
     },
     "metadata": {},
     "output_type": "display_data"
    },
    {
     "data": {
      "application/vnd.jupyter.widget-view+json": {
       "model_id": "9baad5a351d349eba34170a6ca0a4e5f",
       "version_major": 2,
       "version_minor": 0
      },
      "text/plain": [
       "Scanning spectrum:   0%|          | 0/20 [00:00<?, ?it/s]"
      ]
     },
     "metadata": {},
     "output_type": "display_data"
    },
    {
     "data": {
      "application/vnd.jupyter.widget-view+json": {
       "model_id": "b4ca723c14464073bce4bed3a803c8d1",
       "version_major": 2,
       "version_minor": 0
      },
      "text/plain": [
       "Scanning spectrum:   0%|          | 0/20 [00:00<?, ?it/s]"
      ]
     },
     "metadata": {},
     "output_type": "display_data"
    },
    {
     "data": {
      "application/vnd.jupyter.widget-view+json": {
       "model_id": "25f15b1252744798bb3241ac10debfe5",
       "version_major": 2,
       "version_minor": 0
      },
      "text/plain": [
       "Scanning spectrum:   0%|          | 0/20 [00:00<?, ?it/s]"
      ]
     },
     "metadata": {},
     "output_type": "display_data"
    },
    {
     "data": {
      "application/vnd.jupyter.widget-view+json": {
       "model_id": "ddfc806dd9c642b0a30ed7ff96a9326c",
       "version_major": 2,
       "version_minor": 0
      },
      "text/plain": [
       "Scanning spectrum:   0%|          | 0/20 [00:00<?, ?it/s]"
      ]
     },
     "metadata": {},
     "output_type": "display_data"
    },
    {
     "data": {
      "application/vnd.jupyter.widget-view+json": {
       "model_id": "277a6c66d0574b0fb9a78cb2d4048df2",
       "version_major": 2,
       "version_minor": 0
      },
      "text/plain": [
       "Scanning spectrum:   0%|          | 0/20 [00:00<?, ?it/s]"
      ]
     },
     "metadata": {},
     "output_type": "display_data"
    },
    {
     "data": {
      "application/vnd.jupyter.widget-view+json": {
       "model_id": "3b18ed1194a54ac0a489b0e45f9b014d",
       "version_major": 2,
       "version_minor": 0
      },
      "text/plain": [
       "Scanning spectrum:   0%|          | 0/20 [00:00<?, ?it/s]"
      ]
     },
     "metadata": {},
     "output_type": "display_data"
    },
    {
     "data": {
      "application/vnd.jupyter.widget-view+json": {
       "model_id": "dc0ec3a4c61e45ee922af9f2adf3d543",
       "version_major": 2,
       "version_minor": 0
      },
      "text/plain": [
       "Scanning spectrum:   0%|          | 0/20 [00:00<?, ?it/s]"
      ]
     },
     "metadata": {},
     "output_type": "display_data"
    },
    {
     "data": {
      "application/vnd.jupyter.widget-view+json": {
       "model_id": "03c7298d9db64d2f8afb1fc198f84f57",
       "version_major": 2,
       "version_minor": 0
      },
      "text/plain": [
       "Scanning spectrum:   0%|          | 0/20 [00:00<?, ?it/s]"
      ]
     },
     "metadata": {},
     "output_type": "display_data"
    },
    {
     "data": {
      "application/vnd.jupyter.widget-view+json": {
       "model_id": "f449e4091e794c03a9a584a10da0ef2b",
       "version_major": 2,
       "version_minor": 0
      },
      "text/plain": [
       "Scanning spectrum:   0%|          | 0/20 [00:00<?, ?it/s]"
      ]
     },
     "metadata": {},
     "output_type": "display_data"
    },
    {
     "data": {
      "application/vnd.jupyter.widget-view+json": {
       "model_id": "99bf707cbde3487eb6990bf86f6f59b0",
       "version_major": 2,
       "version_minor": 0
      },
      "text/plain": [
       "Scanning spectrum:   0%|          | 0/20 [00:00<?, ?it/s]"
      ]
     },
     "metadata": {},
     "output_type": "display_data"
    },
    {
     "data": {
      "application/vnd.jupyter.widget-view+json": {
       "model_id": "201c000b0204465b873aeed876dda751",
       "version_major": 2,
       "version_minor": 0
      },
      "text/plain": [
       "Scanning spectrum:   0%|          | 0/20 [00:00<?, ?it/s]"
      ]
     },
     "metadata": {},
     "output_type": "display_data"
    },
    {
     "data": {
      "application/vnd.jupyter.widget-view+json": {
       "model_id": "c2f9bf03ea14441b98548c9b03f1e17d",
       "version_major": 2,
       "version_minor": 0
      },
      "text/plain": [
       "Scanning spectrum:   0%|          | 0/20 [00:00<?, ?it/s]"
      ]
     },
     "metadata": {},
     "output_type": "display_data"
    },
    {
     "data": {
      "application/vnd.jupyter.widget-view+json": {
       "model_id": "79e5cb24b2ed461aace98f649edbc18f",
       "version_major": 2,
       "version_minor": 0
      },
      "text/plain": [
       "Scanning spectrum:   0%|          | 0/20 [00:00<?, ?it/s]"
      ]
     },
     "metadata": {},
     "output_type": "display_data"
    },
    {
     "data": {
      "application/vnd.jupyter.widget-view+json": {
       "model_id": "1fd49b3e27d2444cbbd6b8a8f3591fba",
       "version_major": 2,
       "version_minor": 0
      },
      "text/plain": [
       "Scanning spectrum:   0%|          | 0/20 [00:00<?, ?it/s]"
      ]
     },
     "metadata": {},
     "output_type": "display_data"
    },
    {
     "data": {
      "application/vnd.jupyter.widget-view+json": {
       "model_id": "9e8fcd98309e40bb8d7fd337a6ca0aa4",
       "version_major": 2,
       "version_minor": 0
      },
      "text/plain": [
       "Scanning spectrum:   0%|          | 0/20 [00:00<?, ?it/s]"
      ]
     },
     "metadata": {},
     "output_type": "display_data"
    },
    {
     "data": {
      "application/vnd.jupyter.widget-view+json": {
       "model_id": "6c3a3c66efbe4917a95782c84b1b03d6",
       "version_major": 2,
       "version_minor": 0
      },
      "text/plain": [
       "Scanning spectrum:   0%|          | 0/20 [00:00<?, ?it/s]"
      ]
     },
     "metadata": {},
     "output_type": "display_data"
    },
    {
     "data": {
      "application/vnd.jupyter.widget-view+json": {
       "model_id": "b0826ea1ca0f4374944eb076b245318f",
       "version_major": 2,
       "version_minor": 0
      },
      "text/plain": [
       "Scanning spectrum:   0%|          | 0/20 [00:00<?, ?it/s]"
      ]
     },
     "metadata": {},
     "output_type": "display_data"
    },
    {
     "data": {
      "application/vnd.jupyter.widget-view+json": {
       "model_id": "038888404ffc4416befa71ef2df10bd5",
       "version_major": 2,
       "version_minor": 0
      },
      "text/plain": [
       "Scanning spectrum:   0%|          | 0/20 [00:00<?, ?it/s]"
      ]
     },
     "metadata": {},
     "output_type": "display_data"
    },
    {
     "data": {
      "application/vnd.jupyter.widget-view+json": {
       "model_id": "94174e1fdfaa4ac7922827ea2951fa37",
       "version_major": 2,
       "version_minor": 0
      },
      "text/plain": [
       "Scanning spectrum:   0%|          | 0/20 [00:00<?, ?it/s]"
      ]
     },
     "metadata": {},
     "output_type": "display_data"
    },
    {
     "data": {
      "application/vnd.jupyter.widget-view+json": {
       "model_id": "ca322df45ff34ca69bcb9d3867513341",
       "version_major": 2,
       "version_minor": 0
      },
      "text/plain": [
       "Scanning spectrum:   0%|          | 0/20 [00:00<?, ?it/s]"
      ]
     },
     "metadata": {},
     "output_type": "display_data"
    },
    {
     "data": {
      "application/vnd.jupyter.widget-view+json": {
       "model_id": "262977435b45411397b122d838b1ccc7",
       "version_major": 2,
       "version_minor": 0
      },
      "text/plain": [
       "Scanning spectrum:   0%|          | 0/20 [00:00<?, ?it/s]"
      ]
     },
     "metadata": {},
     "output_type": "display_data"
    },
    {
     "data": {
      "application/vnd.jupyter.widget-view+json": {
       "model_id": "dfafb0a0bb5548f3a9cc41fc812ea794",
       "version_major": 2,
       "version_minor": 0
      },
      "text/plain": [
       "Scanning spectrum:   0%|          | 0/20 [00:00<?, ?it/s]"
      ]
     },
     "metadata": {},
     "output_type": "display_data"
    },
    {
     "data": {
      "application/vnd.jupyter.widget-view+json": {
       "model_id": "e1a6a8c69c124331936441c03d2a8970",
       "version_major": 2,
       "version_minor": 0
      },
      "text/plain": [
       "Scanning spectrum:   0%|          | 0/20 [00:00<?, ?it/s]"
      ]
     },
     "metadata": {},
     "output_type": "display_data"
    },
    {
     "data": {
      "application/vnd.jupyter.widget-view+json": {
       "model_id": "2ba46611c8ec432e9421ec43447fe945",
       "version_major": 2,
       "version_minor": 0
      },
      "text/plain": [
       "Scanning spectrum:   0%|          | 0/20 [00:00<?, ?it/s]"
      ]
     },
     "metadata": {},
     "output_type": "display_data"
    },
    {
     "data": {
      "application/vnd.jupyter.widget-view+json": {
       "model_id": "080fe5250e1648be836dc2ba025c72e6",
       "version_major": 2,
       "version_minor": 0
      },
      "text/plain": [
       "Scanning spectrum:   0%|          | 0/20 [00:00<?, ?it/s]"
      ]
     },
     "metadata": {},
     "output_type": "display_data"
    },
    {
     "data": {
      "application/vnd.jupyter.widget-view+json": {
       "model_id": "351afdef92e34161a5b4b192b97eace5",
       "version_major": 2,
       "version_minor": 0
      },
      "text/plain": [
       "Scanning spectrum:   0%|          | 0/20 [00:00<?, ?it/s]"
      ]
     },
     "metadata": {},
     "output_type": "display_data"
    },
    {
     "data": {
      "application/vnd.jupyter.widget-view+json": {
       "model_id": "e860dad71aa84964b98b1c465fd7e864",
       "version_major": 2,
       "version_minor": 0
      },
      "text/plain": [
       "Scanning spectrum:   0%|          | 0/20 [00:00<?, ?it/s]"
      ]
     },
     "metadata": {},
     "output_type": "display_data"
    },
    {
     "data": {
      "application/vnd.jupyter.widget-view+json": {
       "model_id": "5eddaa97603547f3803e1783106749c0",
       "version_major": 2,
       "version_minor": 0
      },
      "text/plain": [
       "Scanning spectrum:   0%|          | 0/20 [00:00<?, ?it/s]"
      ]
     },
     "metadata": {},
     "output_type": "display_data"
    },
    {
     "data": {
      "application/vnd.jupyter.widget-view+json": {
       "model_id": "69cda3f599aa4b7f904b4e1d0f71fbcf",
       "version_major": 2,
       "version_minor": 0
      },
      "text/plain": [
       "Scanning spectrum:   0%|          | 0/20 [00:00<?, ?it/s]"
      ]
     },
     "metadata": {},
     "output_type": "display_data"
    },
    {
     "data": {
      "application/vnd.jupyter.widget-view+json": {
       "model_id": "d4b558220726448c9265274a1dcab333",
       "version_major": 2,
       "version_minor": 0
      },
      "text/plain": [
       "Scanning spectrum:   0%|          | 0/20 [00:00<?, ?it/s]"
      ]
     },
     "metadata": {},
     "output_type": "display_data"
    },
    {
     "data": {
      "application/vnd.jupyter.widget-view+json": {
       "model_id": "65265a965f314969abbcf7676ad44ab4",
       "version_major": 2,
       "version_minor": 0
      },
      "text/plain": [
       "Scanning spectrum:   0%|          | 0/20 [00:00<?, ?it/s]"
      ]
     },
     "metadata": {},
     "output_type": "display_data"
    },
    {
     "data": {
      "application/vnd.jupyter.widget-view+json": {
       "model_id": "7e00c3a974cd41f286e31d5b0555f3ea",
       "version_major": 2,
       "version_minor": 0
      },
      "text/plain": [
       "Scanning spectrum:   0%|          | 0/20 [00:00<?, ?it/s]"
      ]
     },
     "metadata": {},
     "output_type": "display_data"
    },
    {
     "data": {
      "application/vnd.jupyter.widget-view+json": {
       "model_id": "56f34591bca94dca9e9068d9ac5ac602",
       "version_major": 2,
       "version_minor": 0
      },
      "text/plain": [
       "Scanning spectrum:   0%|          | 0/20 [00:00<?, ?it/s]"
      ]
     },
     "metadata": {},
     "output_type": "display_data"
    },
    {
     "data": {
      "application/vnd.jupyter.widget-view+json": {
       "model_id": "88421cc3053b4e31becb3c292e20c568",
       "version_major": 2,
       "version_minor": 0
      },
      "text/plain": [
       "Scanning spectrum:   0%|          | 0/20 [00:00<?, ?it/s]"
      ]
     },
     "metadata": {},
     "output_type": "display_data"
    },
    {
     "data": {
      "application/vnd.jupyter.widget-view+json": {
       "model_id": "b824cd436bac4a5993478ec6e7c36dcb",
       "version_major": 2,
       "version_minor": 0
      },
      "text/plain": [
       "Scanning spectrum:   0%|          | 0/20 [00:00<?, ?it/s]"
      ]
     },
     "metadata": {},
     "output_type": "display_data"
    },
    {
     "data": {
      "application/vnd.jupyter.widget-view+json": {
       "model_id": "394775d29a27446592a60fed745ad7ef",
       "version_major": 2,
       "version_minor": 0
      },
      "text/plain": [
       "Scanning spectrum:   0%|          | 0/20 [00:00<?, ?it/s]"
      ]
     },
     "metadata": {},
     "output_type": "display_data"
    }
   ],
   "source": [
    "opt = init(tag='caustique')\n",
    "c = Caustique(opt)\n",
    "output_filename = c.plot(z, image)"
   ]
  },
  {
   "cell_type": "code",
   "execution_count": 18,
   "metadata": {
    "execution": {
     "iopub.execute_input": "2024-10-16T09:43:27.677589Z",
     "iopub.status.busy": "2024-10-16T09:43:27.677500Z",
     "iopub.status.idle": "2024-10-16T09:43:27.679800Z",
     "shell.execute_reply": "2024-10-16T09:43:27.679552Z"
    }
   },
   "outputs": [
    {
     "data": {
      "text/html": [
       "<video  loop=\"1\" autoplay=\"1\" controls  src=\"2025-10-24_caustique-transition/caustique_ae47ed71.mp4\" type=\"video/mp4\" width=1024\\>"
      ],
      "text/plain": [
       "<IPython.core.display.HTML object>"
      ]
     },
     "metadata": {},
     "output_type": "display_data"
    }
   ],
   "source": [
    "c.show(output_filename)"
   ]
  },
  {
   "cell_type": "markdown",
   "metadata": {
    "tags": []
   },
   "source": [
    "# exploration des paramètres\n"
   ]
  },
  {
   "cell_type": "code",
   "execution_count": 19,
   "metadata": {
    "execution": {
     "iopub.execute_input": "2024-10-16T09:43:27.681057Z",
     "iopub.status.busy": "2024-10-16T09:43:27.680980Z",
     "iopub.status.idle": "2024-10-16T09:43:27.682344Z",
     "shell.execute_reply": "2024-10-16T09:43:27.682143Z"
    }
   },
   "outputs": [],
   "source": [
    "N_scan = 0\n",
    "base = 2"
   ]
  },
  {
   "cell_type": "markdown",
   "metadata": {
    "tags": []
   },
   "source": [
    "## profondeur d'eau\n"
   ]
  },
  {
   "cell_type": "code",
   "execution_count": 20,
   "metadata": {
    "execution": {
     "iopub.execute_input": "2024-10-16T09:43:27.683507Z",
     "iopub.status.busy": "2024-10-16T09:43:27.683435Z",
     "iopub.status.idle": "2024-10-16T09:43:31.221238Z",
     "shell.execute_reply": "2024-10-16T09:43:31.220945Z"
    }
   },
   "outputs": [],
   "source": [
    "for H_ in opt.H*np.logspace(-1, 1, N_scan, base=base):    \n",
    "    c = Caustique(init(tag=f'{opt.tag}_H_{H_:.3f}', H = H_))\n",
    "    output_filename = c.plot(z, image)\n",
    "    print(f'H = {H_:.3f} -> {output_filename=} ')\n",
    "    if c.opt.do_display: c.show(output_filename)"
   ]
  },
  {
   "cell_type": "markdown",
   "metadata": {
    "tags": []
   },
   "source": [
    "## variation de l'indice de réfraction\n"
   ]
  },
  {
   "cell_type": "code",
   "execution_count": 21,
   "metadata": {
    "execution": {
     "iopub.execute_input": "2024-10-16T09:43:31.223035Z",
     "iopub.status.busy": "2024-10-16T09:43:31.222910Z",
     "iopub.status.idle": "2024-10-16T09:43:33.903735Z",
     "shell.execute_reply": "2024-10-16T09:43:33.903270Z"
    }
   },
   "outputs": [],
   "source": [
    "# for variation_ in np.logspace(-2, 0, N_scan, base=10, endpoint=False):\n",
    "#     opt = init()\n",
    "#     c = Caustique(opt)\n",
    "#     c.opt.variation = variation_\n",
    "#     c.opt.tag = f'{opt.tag}_variation_{variation_:.3f}'\n",
    "\n",
    "#     output_filename = c.plot(z, image)\n",
    "#     print(f'variation = {variation_:.3f}  -> {output_filename=}')\n",
    "#     if c.opt.do_display: c.show(output_filename)"
   ]
  },
  {
   "cell_type": "markdown",
   "metadata": {},
   "source": [
    "## post-processing"
   ]
  },
  {
   "cell_type": "code",
   "execution_count": 22,
   "metadata": {
    "execution": {
     "iopub.execute_input": "2024-10-16T09:43:33.905319Z",
     "iopub.status.busy": "2024-10-16T09:43:33.905216Z",
     "iopub.status.idle": "2024-10-16T09:43:39.369292Z",
     "shell.execute_reply": "2024-10-16T09:43:39.369027Z"
    }
   },
   "outputs": [
    {
     "name": "stdout",
     "output_type": "stream",
     "text": [
      "======gamma======\n"
     ]
    }
   ],
   "source": [
    "# for variable in ['gamma', 'min_lum']: \n",
    "for variable in ['gamma']: \n",
    "    print(f'======{variable}======')\n",
    "    for modul in np.logspace(-1, 1, N_scan, base=base):\n",
    "        c = Caustique(init(tag = f'{opt.tag}_{variable}_modul_{modul:.3f}'))\n",
    "        c.d[variable] *= modul\n",
    "        \n",
    "        output_filename = c.plot(z, image)\n",
    "        print(f'{variable}={variable}(default)*{modul:.3f}={c.d[variable]:.3E} -> {output_filename=}')\n",
    "        if c.opt.do_display: c.show(output_filename)"
   ]
  },
  {
   "cell_type": "markdown",
   "metadata": {},
   "source": [
    "\n",
    "## paramètres de l'ouverture\n"
   ]
  },
  {
   "cell_type": "code",
   "execution_count": 23,
   "metadata": {
    "execution": {
     "iopub.execute_input": "2024-10-16T10:39:19.059775Z",
     "iopub.status.busy": "2024-10-16T10:39:19.059592Z",
     "iopub.status.idle": "2024-10-16T10:43:57.657865Z",
     "shell.execute_reply": "2024-10-16T10:43:57.655454Z"
    }
   },
   "outputs": [],
   "source": [
    "for radius_in in np.linspace(0, .4, N_scan+1)[1:]:\n",
    "    c = Caustique(init(tag = f'{opt.tag}_image_{radius_in=:.3f}'))\n",
    "\n",
    "    output_filename = c.plot(z, generate_image(nx=c.opt.nx, ny=c.opt.ny, radius_in=radius_in))\n",
    "    print(f'{radius_in=:.3f} -> {output_filename=} ')\n",
    "    if c.opt.do_display: c.show(output_filename)"
   ]
  },
  {
   "cell_type": "code",
   "execution_count": 24,
   "metadata": {},
   "outputs": [],
   "source": [
    "for radius_out in np.linspace(.15, 1, N_scan+1)[1:]:\n",
    "    c = Caustique(init(tag = f'{opt.tag}_image_{radius_out=:.3f}'))\n",
    "\n",
    "    output_filename = c.plot(z, generate_image(nx=c.opt.nx, ny=c.opt.ny, radius_out=radius_out))\n",
    "    print(f'{radius_out=:.3f} -> {output_filename=} ')\n",
    "    if c.opt.do_display: c.show(output_filename)"
   ]
  },
  {
   "cell_type": "markdown",
   "metadata": {
    "tags": []
   },
   "source": [
    "## autres instances de l'onde\n"
   ]
  },
  {
   "cell_type": "code",
   "execution_count": 25,
   "metadata": {
    "execution": {
     "iopub.execute_input": "2024-10-16T09:43:39.371388Z",
     "iopub.status.busy": "2024-10-16T09:43:39.371265Z",
     "iopub.status.idle": "2024-10-16T09:43:59.766666Z",
     "shell.execute_reply": "2024-10-16T09:43:59.765977Z"
    }
   },
   "outputs": [],
   "source": [
    "image = generate_image(nx=c.opt.nx, ny=c.opt.ny)\n",
    "\n",
    "for seed_increment in range(N_scan):\n",
    "    c = Caustique(init(tag = f'{opt.tag}_seed_{c.d['seed']}'))\n",
    "    c.d['seed'] = c.d['seed'] + seed_increment\n",
    "    output_filename = c.plot(c.wave(do_cache=False), image)\n",
    "    print(f'seed={c.d['seed']} -> {output_filename=}')\n",
    "    if c.opt.do_display: c.show(output_filename)"
   ]
  },
  {
   "cell_type": "markdown",
   "metadata": {},
   "source": [
    "## autres variables sur l'onde\n"
   ]
  },
  {
   "cell_type": "code",
   "execution_count": 26,
   "metadata": {},
   "outputs": [
    {
     "name": "stdout",
     "output_type": "stream",
     "text": [
      "======scale======\n",
      "======B_sf======\n",
      "======theta======\n",
      "======B_theta======\n",
      "======zmin======\n"
     ]
    }
   ],
   "source": [
    "opt = init()\n",
    "for variable in ['scale', 'B_sf', 'theta',  'B_theta', 'zmin']: #  'V_Y', 'V_X', 'B_V', \n",
    "    print(f'======{variable}======')\n",
    "    for modul in np.logspace(-1, 1, N_scan, base=base):\n",
    "        # del z\n",
    "        # print(opt.tag, variable, modul, f'{opt.tag}_{variable}_modul_{modul:.3f}')\n",
    "        c = Caustique(init(tag=f'{opt.tag}_{variable}_modul_{modul:.3f}'))\n",
    "        c.d[variable] *= modul\n",
    "        \n",
    "        output_filename = c.get_filename()\n",
    "        if not(os.path.isfile(output_filename) or c.opt.do_recompute):\n",
    "            z = c.wave(do_cache=False)\n",
    "            print(z.shape, z.min(), z.mean(), z.max())\n",
    "            output_filename = c.plot(z, image)\n",
    "            print(z.shape, z.min(), z.mean(), z.max())\n",
    "            # assert(output_filename == output_filename_)\n",
    "        print(f'{variable}={variable}(default)*{modul:.3f}={c.d[variable]:.3E} -> {output_filename=}')\n",
    "        if c.opt.do_display: c.show(output_filename)"
   ]
  },
  {
   "cell_type": "markdown",
   "metadata": {},
   "source": [
    "## une longue vague\n"
   ]
  },
  {
   "cell_type": "code",
   "execution_count": 27,
   "metadata": {},
   "outputs": [
    {
     "name": "stdout",
     "output_type": "stream",
     "text": [
      "====== long wave ======\n"
     ]
    },
    {
     "data": {
      "text/plain": [
       "init(figpath='2025-10-24_caustique-transition', phi=1.61803, tag='longue_vague', ext='mp4', nx=1024, ny=1024, nframe=96, bin_dens=1, bin_spectrum=4, seed=2025, H=3.0, variation=0.2, scale=632.832, B_sf=1.61, V_Y=0.3, V_X=0.3, B_V=1.0, zmin=1.0, theta=1.5707963267948966, B_theta=1.0471975511965976, min_lum=0.01, n_bits=8, gamma=4.0, fps=24, do_cache=True, verbose=False, do_display=False, do_recompute=False)"
      ]
     },
     "execution_count": 27,
     "metadata": {},
     "output_type": "execute_result"
    }
   ],
   "source": [
    "print('====== long wave ======')\n",
    "c = Caustique(init(tag = 'longue_vague'))\n",
    "c.opt\n"
   ]
  },
  {
   "cell_type": "code",
   "execution_count": 28,
   "metadata": {},
   "outputs": [],
   "source": [
    "filename = f'{c.cachepath}/{c.opt.tag}.npy'\n",
    "if os.path.isfile(filename) and not(c.opt.do_recompute):\n",
    "    z = np.load(filename)\n",
    "else:        \n",
    "    # N_wave = 4 * PRECISION\n",
    "    N_wave = 5\n",
    "    N_wave = 50\n",
    "    N_wave = 25\n",
    "    amplitude = 1 - np.linspace(-1, 1, N_wave+2)[1:-1]**2 \n",
    "    B_theta = c.opt.B_theta / ( 1 + np.exp(-.5 * (np.linspace(0, 1, N_wave)-.25)**2 / .25**2 ) ) # TODO : use von mises\n",
    "    scale = c.opt.scale / ( 1 + np.exp(-.5 * (np.linspace(0, 1, N_wave)-.75)**2 / .25**2 ) )\n",
    "    B_sf = c.opt.B_sf / scale * ( 1 + np.exp(-.5 * (np.linspace(0, 1, N_wave)-.5)**2 / .25**2 ) )\n",
    "\n",
    "    fx, fy, ft = mc.get_grids(opt.nx, opt.ny, opt.nframe)\n",
    "    smooth = (ft - ft.min())/(ft.max() - ft.min()) # smoothly progress from 0. to 1.\n",
    "    \n",
    "    opt = init()\n",
    "    c = Caustique(opt)\n",
    "    c.opt.do_cache = False\n",
    "    i_wave = -1\n",
    "    c.opt.B_sf = B_sf[i_wave]\n",
    "    c.opt.B_theta = B_theta[i_wave]\n",
    "    c.opt.scale = scale[i_wave]\n",
    "    c.opt.seed = opt.seed + N_wave-1\n",
    "    z_update = amplitude[i_wave] * c.wave(do_cache=False)\n",
    "\n",
    "    z = z_update.copy()\n",
    "    z_old = z_update.copy()\n",
    "    \n",
    "    for i_wave in range(N_wave):\n",
    "        opt = init()\n",
    "        c = Caustique(opt)\n",
    "        c.opt.do_cache = False\n",
    "        c.opt.B_sf = B_sf[i_wave]\n",
    "        c.opt.B_theta = B_theta[i_wave]\n",
    "        c.opt.scale = scale[i_wave]\n",
    "        c.opt.seed = opt.seed + i_wave\n",
    "\n",
    "        print(f'chunk {i_wave+1}/{N_wave}\\t {amplitude[i_wave]=:.3f}\\t {c.opt.B_sf=:.3f}\\t {c.opt.B_theta=:.3f}\\t {c.opt.scale=:.3f}\\t {c.opt.seed=}')\n",
    "\n",
    "        z_update = amplitude[i_wave] * c.wave(do_cache=False)\n",
    "\n",
    "        z = np.concatenate((z, (1.-smooth)*z_old+smooth*z_update), axis=-1)\n",
    "        z_old = z_update.copy()\n",
    "        # print(z.shape, z_update.shape)\n",
    "\n",
    "    np.save(filename, z)\n",
    "    del z_old \n",
    "    del z_update\n"
   ]
  },
  {
   "cell_type": "code",
   "execution_count": 29,
   "metadata": {},
   "outputs": [
    {
     "name": "stdout",
     "output_type": "stream",
     "text": [
      "<__main__.Caustique object at 0x131243250>\n"
     ]
    }
   ],
   "source": [
    "print(c)"
   ]
  },
  {
   "cell_type": "code",
   "execution_count": 30,
   "metadata": {},
   "outputs": [
    {
     "data": {
      "text/plain": [
       "((1024, 1024, 2496),\n",
       " np.float64(0.0),\n",
       " np.float64(0.2975648611743208),\n",
       " np.float64(0.9985693475244645))"
      ]
     },
     "execution_count": 30,
     "metadata": {},
     "output_type": "execute_result"
    }
   ],
   "source": [
    "z.shape, z.min(), z.mean(), z.max()"
   ]
  },
  {
   "cell_type": "code",
   "execution_count": 31,
   "metadata": {},
   "outputs": [
    {
     "name": "stdout",
     "output_type": "stream",
     "text": [
      "Variable          Type                   Data/Info\n",
      "--------------------------------------------------\n",
      "CM_BY_INCH        float                  2.54\n",
      "Caustique         type                   <class '__main__.Caustique'>\n",
      "Lambda2color      type                   <class 'lambda2color.Lambda2color'>\n",
      "N_scan            int                    0\n",
      "PRECISION         int                    10\n",
      "SubplotParams     type                   <class 'matplotlib.gridspec.SubplotParams'>\n",
      "ax                Axes                   Axes(0,0;1x1)\n",
      "base              int                    2\n",
      "c                 Caustique              <__main__.Caustique object at 0x131243250>\n",
      "cv2               module                 <module 'cv2' from '/User<...>ackages/cv2/__init__.py'>\n",
      "dataclass         function               <function dataclass at 0x10f70a840>\n",
      "dpi               float                  26.0096\n",
      "fig               Figure                 Figure(3937.01x3937.01)\n",
      "filename          str                    /tmp/2025-10-24_caustique<...>ansition/longue_vague.npy\n",
      "generate_image    function               <function generate_image at 0x1310349a0>\n",
      "get_ipython       function               <function get_ipython at 0x1100dc0e0>\n",
      "hashlib           module                 <module 'hashlib' from '/<...>b/python3.13/hashlib.py'>\n",
      "image             ndarray                1024x1024: 1048576 elems, type `float64`, 8388608 bytes (8.0 Mb)\n",
      "imageio           module                 <module 'imageio' from '/<...>ges/imageio/__init__.py'>\n",
      "init              type                   <class '__main__.init'>\n",
      "ip                ZMQInteractiveShell    <ipykernel.zmqshell.ZMQIn<...>ll object at 0x1115f7380>\n",
      "make_mp4          function               <function make_mp4 at 0x130093740>\n",
      "matplotlib        module                 <module 'matplotlib' from<...>/matplotlib/__init__.py'>\n",
      "mc                module                 <module 'MotionClouds' fr<...>ackages/MotionClouds.py'>\n",
      "np                module                 <module 'numpy' from '/Us<...>kages/numpy/__init__.py'>\n",
      "opt               init                   init(figpath='2025-10-24_<...>alse, do_recompute=False)\n",
      "os                module                 <module 'os' (frozen)>\n",
      "output_filename   str                    2025-10-24_caustique-tran<...>on/caustique_ae47ed71.mp4\n",
      "planck            function               <function planck at 0x1301659e0>\n",
      "plt               module                 <module 'matplotlib.pyplo<...>es/matplotlib/pyplot.py'>\n",
      "pprint            function               <function pprint at 0x10f708c20>\n",
      "scattering        function               <function scattering at 0x130165940>\n",
      "screen_size_cm    int                    100\n",
      "screen_size_in    float                  39.37007874015748\n",
      "shutil            module                 <module 'shutil' from '/u<...>ib/python3.13/shutil.py'>\n",
      "study_name        str                    2025-10-24_caustique-transition\n",
      "subplotpars       SubplotParams          <matplotlib.gridspec.Subp<...>ms object at 0x1300d2270>\n",
      "tqdm              type                   <class 'tqdm.auto.tqdm'>\n",
      "trange            function               <function trange at 0x12dc945e0>\n",
      "variable          str                    zmin\n",
      "xyz_from_xy       function               <function xyz_from_xy at 0x130165a80>\n",
      "z                 ndarray                1024x1024x2496: 2617245696 elems, type `float64`, 20937965568 bytes (19968.0 Mb)\n"
     ]
    }
   ],
   "source": [
    "%whos"
   ]
  },
  {
   "cell_type": "code",
   "execution_count": 32,
   "metadata": {},
   "outputs": [
    {
     "data": {
      "text/html": [
       "<video  loop=\"1\" autoplay=\"1\" controls  src=\"2025-10-24_caustique-transition/longue_vague_afa0abda.mp4\" type=\"video/mp4\" width=1024\\>"
      ],
      "text/plain": [
       "<IPython.core.display.HTML object>"
      ]
     },
     "metadata": {},
     "output_type": "display_data"
    }
   ],
   "source": [
    "output_filename = c.get_filename()\n",
    "if not(os.path.isfile(filename)) or c.opt.do_recompute:\n",
    "    z_q = (z*(2**c.opt.n_bits-1)).astype(c.np_dtype)\n",
    "    print(z_q.shape, z_q.min(), z_q.mean(), z_q.max())\n",
    "    output_filename = make_mp4(output_filename, z_q, fps=opt.fps)\n",
    "    del z_q\n",
    "c.show(output_filename)"
   ]
  },
  {
   "cell_type": "markdown",
   "metadata": {},
   "source": [
    "## la caustique de la longue vague\n"
   ]
  },
  {
   "cell_type": "code",
   "execution_count": null,
   "metadata": {},
   "outputs": [
    {
     "data": {
      "application/vnd.jupyter.widget-view+json": {
       "model_id": "40b93f1c8db1460f8e2e799151a5fd37",
       "version_major": 2,
       "version_minor": 0
      },
      "text/plain": [
       "Scanning time:   0%|          | 0/2496 [00:00<?, ?it/s]"
      ]
     },
     "metadata": {},
     "output_type": "display_data"
    },
    {
     "data": {
      "application/vnd.jupyter.widget-view+json": {
       "model_id": "ae57e4966e5d4a85b572504a0a17b44f",
       "version_major": 2,
       "version_minor": 0
      },
      "text/plain": [
       "Scanning spectrum:   0%|          | 0/20 [00:00<?, ?it/s]"
      ]
     },
     "metadata": {},
     "output_type": "display_data"
    },
    {
     "data": {
      "application/vnd.jupyter.widget-view+json": {
       "model_id": "2fb6696425464fbbad130ec2d070272d",
       "version_major": 2,
       "version_minor": 0
      },
      "text/plain": [
       "Scanning spectrum:   0%|          | 0/20 [00:00<?, ?it/s]"
      ]
     },
     "metadata": {},
     "output_type": "display_data"
    },
    {
     "data": {
      "application/vnd.jupyter.widget-view+json": {
       "model_id": "8b13f6be705e40149924490c5f36ad4d",
       "version_major": 2,
       "version_minor": 0
      },
      "text/plain": [
       "Scanning spectrum:   0%|          | 0/20 [00:00<?, ?it/s]"
      ]
     },
     "metadata": {},
     "output_type": "display_data"
    },
    {
     "data": {
      "application/vnd.jupyter.widget-view+json": {
       "model_id": "e186b19f502346cc944232397320ebcf",
       "version_major": 2,
       "version_minor": 0
      },
      "text/plain": [
       "Scanning spectrum:   0%|          | 0/20 [00:00<?, ?it/s]"
      ]
     },
     "metadata": {},
     "output_type": "display_data"
    },
    {
     "data": {
      "application/vnd.jupyter.widget-view+json": {
       "model_id": "b66d457d5bda4a8499c09002e2608357",
       "version_major": 2,
       "version_minor": 0
      },
      "text/plain": [
       "Scanning spectrum:   0%|          | 0/20 [00:00<?, ?it/s]"
      ]
     },
     "metadata": {},
     "output_type": "display_data"
    },
    {
     "data": {
      "application/vnd.jupyter.widget-view+json": {
       "model_id": "e3004b9c6dc44344b9ff4b755a8d2819",
       "version_major": 2,
       "version_minor": 0
      },
      "text/plain": [
       "Scanning spectrum:   0%|          | 0/20 [00:00<?, ?it/s]"
      ]
     },
     "metadata": {},
     "output_type": "display_data"
    },
    {
     "data": {
      "application/vnd.jupyter.widget-view+json": {
       "model_id": "6fa5ecc3a4a94e2e81e279fa537082a4",
       "version_major": 2,
       "version_minor": 0
      },
      "text/plain": [
       "Scanning spectrum:   0%|          | 0/20 [00:00<?, ?it/s]"
      ]
     },
     "metadata": {},
     "output_type": "display_data"
    },
    {
     "data": {
      "application/vnd.jupyter.widget-view+json": {
       "model_id": "922510c318154d2c892682211a5c659c",
       "version_major": 2,
       "version_minor": 0
      },
      "text/plain": [
       "Scanning spectrum:   0%|          | 0/20 [00:00<?, ?it/s]"
      ]
     },
     "metadata": {},
     "output_type": "display_data"
    },
    {
     "data": {
      "application/vnd.jupyter.widget-view+json": {
       "model_id": "5c84ee87bfb84726bf21cd5553d4b95a",
       "version_major": 2,
       "version_minor": 0
      },
      "text/plain": [
       "Scanning spectrum:   0%|          | 0/20 [00:00<?, ?it/s]"
      ]
     },
     "metadata": {},
     "output_type": "display_data"
    },
    {
     "data": {
      "application/vnd.jupyter.widget-view+json": {
       "model_id": "3e4d74581fe846aba755a567eb49dbe7",
       "version_major": 2,
       "version_minor": 0
      },
      "text/plain": [
       "Scanning spectrum:   0%|          | 0/20 [00:00<?, ?it/s]"
      ]
     },
     "metadata": {},
     "output_type": "display_data"
    },
    {
     "data": {
      "application/vnd.jupyter.widget-view+json": {
       "model_id": "7dd80117964249e3baa53cb5444a7ce2",
       "version_major": 2,
       "version_minor": 0
      },
      "text/plain": [
       "Scanning spectrum:   0%|          | 0/20 [00:00<?, ?it/s]"
      ]
     },
     "metadata": {},
     "output_type": "display_data"
    },
    {
     "data": {
      "application/vnd.jupyter.widget-view+json": {
       "model_id": "62c8400a78db41b4b7c3b968a70d540e",
       "version_major": 2,
       "version_minor": 0
      },
      "text/plain": [
       "Scanning spectrum:   0%|          | 0/20 [00:00<?, ?it/s]"
      ]
     },
     "metadata": {},
     "output_type": "display_data"
    },
    {
     "data": {
      "application/vnd.jupyter.widget-view+json": {
       "model_id": "3bf5428c7eb34184b932fe9ecc361e68",
       "version_major": 2,
       "version_minor": 0
      },
      "text/plain": [
       "Scanning spectrum:   0%|          | 0/20 [00:00<?, ?it/s]"
      ]
     },
     "metadata": {},
     "output_type": "display_data"
    },
    {
     "data": {
      "application/vnd.jupyter.widget-view+json": {
       "model_id": "2bf7bb57b3574726a0bfc1ffe11e7890",
       "version_major": 2,
       "version_minor": 0
      },
      "text/plain": [
       "Scanning spectrum:   0%|          | 0/20 [00:00<?, ?it/s]"
      ]
     },
     "metadata": {},
     "output_type": "display_data"
    },
    {
     "data": {
      "application/vnd.jupyter.widget-view+json": {
       "model_id": "80d6a2ad1eda4f59bfe7b378e05fd8b3",
       "version_major": 2,
       "version_minor": 0
      },
      "text/plain": [
       "Scanning spectrum:   0%|          | 0/20 [00:00<?, ?it/s]"
      ]
     },
     "metadata": {},
     "output_type": "display_data"
    },
    {
     "data": {
      "application/vnd.jupyter.widget-view+json": {
       "model_id": "5674720847b845feb1df963a42a6d52b",
       "version_major": 2,
       "version_minor": 0
      },
      "text/plain": [
       "Scanning spectrum:   0%|          | 0/20 [00:00<?, ?it/s]"
      ]
     },
     "metadata": {},
     "output_type": "display_data"
    },
    {
     "data": {
      "application/vnd.jupyter.widget-view+json": {
       "model_id": "9b7e5875e55b4bc69eaeb36fcddcc962",
       "version_major": 2,
       "version_minor": 0
      },
      "text/plain": [
       "Scanning spectrum:   0%|          | 0/20 [00:00<?, ?it/s]"
      ]
     },
     "metadata": {},
     "output_type": "display_data"
    },
    {
     "data": {
      "application/vnd.jupyter.widget-view+json": {
       "model_id": "d5a61720db6c44079410d8cb5109055c",
       "version_major": 2,
       "version_minor": 0
      },
      "text/plain": [
       "Scanning spectrum:   0%|          | 0/20 [00:00<?, ?it/s]"
      ]
     },
     "metadata": {},
     "output_type": "display_data"
    },
    {
     "data": {
      "application/vnd.jupyter.widget-view+json": {
       "model_id": "ca177dc9099940cc8aabe2bd4e04f080",
       "version_major": 2,
       "version_minor": 0
      },
      "text/plain": [
       "Scanning spectrum:   0%|          | 0/20 [00:00<?, ?it/s]"
      ]
     },
     "metadata": {},
     "output_type": "display_data"
    },
    {
     "data": {
      "application/vnd.jupyter.widget-view+json": {
       "model_id": "a1aca88cbffe4a7a965ea29d6a2c1a56",
       "version_major": 2,
       "version_minor": 0
      },
      "text/plain": [
       "Scanning spectrum:   0%|          | 0/20 [00:00<?, ?it/s]"
      ]
     },
     "metadata": {},
     "output_type": "display_data"
    },
    {
     "data": {
      "application/vnd.jupyter.widget-view+json": {
       "model_id": "53c4ca35d3614623a8d01071688b098b",
       "version_major": 2,
       "version_minor": 0
      },
      "text/plain": [
       "Scanning spectrum:   0%|          | 0/20 [00:00<?, ?it/s]"
      ]
     },
     "metadata": {},
     "output_type": "display_data"
    },
    {
     "data": {
      "application/vnd.jupyter.widget-view+json": {
       "model_id": "03ab6380ab4846469194ca0d024a312c",
       "version_major": 2,
       "version_minor": 0
      },
      "text/plain": [
       "Scanning spectrum:   0%|          | 0/20 [00:00<?, ?it/s]"
      ]
     },
     "metadata": {},
     "output_type": "display_data"
    },
    {
     "data": {
      "application/vnd.jupyter.widget-view+json": {
       "model_id": "2a805e9374e64c6ca7f261878234fd74",
       "version_major": 2,
       "version_minor": 0
      },
      "text/plain": [
       "Scanning spectrum:   0%|          | 0/20 [00:00<?, ?it/s]"
      ]
     },
     "metadata": {},
     "output_type": "display_data"
    },
    {
     "data": {
      "application/vnd.jupyter.widget-view+json": {
       "model_id": "38c4ce8c887447b69c2de34a90d0d62b",
       "version_major": 2,
       "version_minor": 0
      },
      "text/plain": [
       "Scanning spectrum:   0%|          | 0/20 [00:00<?, ?it/s]"
      ]
     },
     "metadata": {},
     "output_type": "display_data"
    },
    {
     "data": {
      "application/vnd.jupyter.widget-view+json": {
       "model_id": "a31c83d1c6bb478bbadcbf2f062f2e42",
       "version_major": 2,
       "version_minor": 0
      },
      "text/plain": [
       "Scanning spectrum:   0%|          | 0/20 [00:00<?, ?it/s]"
      ]
     },
     "metadata": {},
     "output_type": "display_data"
    },
    {
     "data": {
      "application/vnd.jupyter.widget-view+json": {
       "model_id": "1349e585df4b41debc5b0b6bf2dfae7b",
       "version_major": 2,
       "version_minor": 0
      },
      "text/plain": [
       "Scanning spectrum:   0%|          | 0/20 [00:00<?, ?it/s]"
      ]
     },
     "metadata": {},
     "output_type": "display_data"
    },
    {
     "data": {
      "application/vnd.jupyter.widget-view+json": {
       "model_id": "490d8382dc6c4bf68078d77720169e3c",
       "version_major": 2,
       "version_minor": 0
      },
      "text/plain": [
       "Scanning spectrum:   0%|          | 0/20 [00:00<?, ?it/s]"
      ]
     },
     "metadata": {},
     "output_type": "display_data"
    },
    {
     "data": {
      "application/vnd.jupyter.widget-view+json": {
       "model_id": "5e82197500b948afa769326eaabe9494",
       "version_major": 2,
       "version_minor": 0
      },
      "text/plain": [
       "Scanning spectrum:   0%|          | 0/20 [00:00<?, ?it/s]"
      ]
     },
     "metadata": {},
     "output_type": "display_data"
    },
    {
     "data": {
      "application/vnd.jupyter.widget-view+json": {
       "model_id": "d89b3f7c9c2f426f80f1b5f4998946ed",
       "version_major": 2,
       "version_minor": 0
      },
      "text/plain": [
       "Scanning spectrum:   0%|          | 0/20 [00:00<?, ?it/s]"
      ]
     },
     "metadata": {},
     "output_type": "display_data"
    },
    {
     "data": {
      "application/vnd.jupyter.widget-view+json": {
       "model_id": "48bf4cb990ee44d895dcccc28c090d52",
       "version_major": 2,
       "version_minor": 0
      },
      "text/plain": [
       "Scanning spectrum:   0%|          | 0/20 [00:00<?, ?it/s]"
      ]
     },
     "metadata": {},
     "output_type": "display_data"
    },
    {
     "data": {
      "application/vnd.jupyter.widget-view+json": {
       "model_id": "fe914e58460145ee90d23f6b92b3fa12",
       "version_major": 2,
       "version_minor": 0
      },
      "text/plain": [
       "Scanning spectrum:   0%|          | 0/20 [00:00<?, ?it/s]"
      ]
     },
     "metadata": {},
     "output_type": "display_data"
    },
    {
     "data": {
      "application/vnd.jupyter.widget-view+json": {
       "model_id": "c1dd52acce9b483ca311e50a15e3b51a",
       "version_major": 2,
       "version_minor": 0
      },
      "text/plain": [
       "Scanning spectrum:   0%|          | 0/20 [00:00<?, ?it/s]"
      ]
     },
     "metadata": {},
     "output_type": "display_data"
    },
    {
     "data": {
      "application/vnd.jupyter.widget-view+json": {
       "model_id": "26a6a2f346064fbea455dfae0e94f79a",
       "version_major": 2,
       "version_minor": 0
      },
      "text/plain": [
       "Scanning spectrum:   0%|          | 0/20 [00:00<?, ?it/s]"
      ]
     },
     "metadata": {},
     "output_type": "display_data"
    },
    {
     "data": {
      "application/vnd.jupyter.widget-view+json": {
       "model_id": "53fcd5349c204eb2bbd4173b9eff9e5f",
       "version_major": 2,
       "version_minor": 0
      },
      "text/plain": [
       "Scanning spectrum:   0%|          | 0/20 [00:00<?, ?it/s]"
      ]
     },
     "metadata": {},
     "output_type": "display_data"
    },
    {
     "data": {
      "application/vnd.jupyter.widget-view+json": {
       "model_id": "dac521a9130f4c22848db04aeaef3bf1",
       "version_major": 2,
       "version_minor": 0
      },
      "text/plain": [
       "Scanning spectrum:   0%|          | 0/20 [00:00<?, ?it/s]"
      ]
     },
     "metadata": {},
     "output_type": "display_data"
    },
    {
     "data": {
      "application/vnd.jupyter.widget-view+json": {
       "model_id": "1c0cb415960543d1ac631ede85abbfcb",
       "version_major": 2,
       "version_minor": 0
      },
      "text/plain": [
       "Scanning spectrum:   0%|          | 0/20 [00:00<?, ?it/s]"
      ]
     },
     "metadata": {},
     "output_type": "display_data"
    },
    {
     "data": {
      "application/vnd.jupyter.widget-view+json": {
       "model_id": "1735c8ef77204aa4bd1982bad7e20c07",
       "version_major": 2,
       "version_minor": 0
      },
      "text/plain": [
       "Scanning spectrum:   0%|          | 0/20 [00:00<?, ?it/s]"
      ]
     },
     "metadata": {},
     "output_type": "display_data"
    },
    {
     "data": {
      "application/vnd.jupyter.widget-view+json": {
       "model_id": "f6c0f0c4135443ea8b9015596d239e03",
       "version_major": 2,
       "version_minor": 0
      },
      "text/plain": [
       "Scanning spectrum:   0%|          | 0/20 [00:00<?, ?it/s]"
      ]
     },
     "metadata": {},
     "output_type": "display_data"
    },
    {
     "data": {
      "application/vnd.jupyter.widget-view+json": {
       "model_id": "c76ec1e6a4544ee78b2c436aa484f4f7",
       "version_major": 2,
       "version_minor": 0
      },
      "text/plain": [
       "Scanning spectrum:   0%|          | 0/20 [00:00<?, ?it/s]"
      ]
     },
     "metadata": {},
     "output_type": "display_data"
    },
    {
     "data": {
      "application/vnd.jupyter.widget-view+json": {
       "model_id": "d54c3d2a078a4c07adbf461f2747276c",
       "version_major": 2,
       "version_minor": 0
      },
      "text/plain": [
       "Scanning spectrum:   0%|          | 0/20 [00:00<?, ?it/s]"
      ]
     },
     "metadata": {},
     "output_type": "display_data"
    },
    {
     "data": {
      "application/vnd.jupyter.widget-view+json": {
       "model_id": "fc8642edba8a4da693e511af38f47dad",
       "version_major": 2,
       "version_minor": 0
      },
      "text/plain": [
       "Scanning spectrum:   0%|          | 0/20 [00:00<?, ?it/s]"
      ]
     },
     "metadata": {},
     "output_type": "display_data"
    },
    {
     "data": {
      "application/vnd.jupyter.widget-view+json": {
       "model_id": "6a717e86980f4562bd4f3a317a98a031",
       "version_major": 2,
       "version_minor": 0
      },
      "text/plain": [
       "Scanning spectrum:   0%|          | 0/20 [00:00<?, ?it/s]"
      ]
     },
     "metadata": {},
     "output_type": "display_data"
    },
    {
     "data": {
      "application/vnd.jupyter.widget-view+json": {
       "model_id": "d3ea5e5fea034a5794a2492572ae0867",
       "version_major": 2,
       "version_minor": 0
      },
      "text/plain": [
       "Scanning spectrum:   0%|          | 0/20 [00:00<?, ?it/s]"
      ]
     },
     "metadata": {},
     "output_type": "display_data"
    },
    {
     "data": {
      "application/vnd.jupyter.widget-view+json": {
       "model_id": "0663d88ffcaa4231b1d3d44cd279b07b",
       "version_major": 2,
       "version_minor": 0
      },
      "text/plain": [
       "Scanning spectrum:   0%|          | 0/20 [00:00<?, ?it/s]"
      ]
     },
     "metadata": {},
     "output_type": "display_data"
    },
    {
     "data": {
      "application/vnd.jupyter.widget-view+json": {
       "model_id": "e508e7a5dd23470dbce1c7589301fff8",
       "version_major": 2,
       "version_minor": 0
      },
      "text/plain": [
       "Scanning spectrum:   0%|          | 0/20 [00:00<?, ?it/s]"
      ]
     },
     "metadata": {},
     "output_type": "display_data"
    },
    {
     "data": {
      "application/vnd.jupyter.widget-view+json": {
       "model_id": "10b289c635974948b5f2f5353b90e761",
       "version_major": 2,
       "version_minor": 0
      },
      "text/plain": [
       "Scanning spectrum:   0%|          | 0/20 [00:00<?, ?it/s]"
      ]
     },
     "metadata": {},
     "output_type": "display_data"
    },
    {
     "data": {
      "application/vnd.jupyter.widget-view+json": {
       "model_id": "94ef8884fb244a86bbd7c97962d53430",
       "version_major": 2,
       "version_minor": 0
      },
      "text/plain": [
       "Scanning spectrum:   0%|          | 0/20 [00:00<?, ?it/s]"
      ]
     },
     "metadata": {},
     "output_type": "display_data"
    },
    {
     "data": {
      "application/vnd.jupyter.widget-view+json": {
       "model_id": "b1ade4f533b545908e2cd43cb54a4593",
       "version_major": 2,
       "version_minor": 0
      },
      "text/plain": [
       "Scanning spectrum:   0%|          | 0/20 [00:00<?, ?it/s]"
      ]
     },
     "metadata": {},
     "output_type": "display_data"
    },
    {
     "data": {
      "application/vnd.jupyter.widget-view+json": {
       "model_id": "995a2e0075ad43be9ddfbdec54bfb1b9",
       "version_major": 2,
       "version_minor": 0
      },
      "text/plain": [
       "Scanning spectrum:   0%|          | 0/20 [00:00<?, ?it/s]"
      ]
     },
     "metadata": {},
     "output_type": "display_data"
    },
    {
     "data": {
      "application/vnd.jupyter.widget-view+json": {
       "model_id": "320aaee5942d48a699d0705f1aef22c4",
       "version_major": 2,
       "version_minor": 0
      },
      "text/plain": [
       "Scanning spectrum:   0%|          | 0/20 [00:00<?, ?it/s]"
      ]
     },
     "metadata": {},
     "output_type": "display_data"
    },
    {
     "data": {
      "application/vnd.jupyter.widget-view+json": {
       "model_id": "743c1bf05f3b48779f3aef3d19ee2c1d",
       "version_major": 2,
       "version_minor": 0
      },
      "text/plain": [
       "Scanning spectrum:   0%|          | 0/20 [00:00<?, ?it/s]"
      ]
     },
     "metadata": {},
     "output_type": "display_data"
    },
    {
     "data": {
      "application/vnd.jupyter.widget-view+json": {
       "model_id": "62ca526f4b5a4a9c8d2056beab07ceee",
       "version_major": 2,
       "version_minor": 0
      },
      "text/plain": [
       "Scanning spectrum:   0%|          | 0/20 [00:00<?, ?it/s]"
      ]
     },
     "metadata": {},
     "output_type": "display_data"
    },
    {
     "data": {
      "application/vnd.jupyter.widget-view+json": {
       "model_id": "2f5dd5446c4242dc8d17d3207c0d778d",
       "version_major": 2,
       "version_minor": 0
      },
      "text/plain": [
       "Scanning spectrum:   0%|          | 0/20 [00:00<?, ?it/s]"
      ]
     },
     "metadata": {},
     "output_type": "display_data"
    },
    {
     "data": {
      "application/vnd.jupyter.widget-view+json": {
       "model_id": "e70c4783fdad4366867f9461391ea54f",
       "version_major": 2,
       "version_minor": 0
      },
      "text/plain": [
       "Scanning spectrum:   0%|          | 0/20 [00:00<?, ?it/s]"
      ]
     },
     "metadata": {},
     "output_type": "display_data"
    },
    {
     "data": {
      "application/vnd.jupyter.widget-view+json": {
       "model_id": "9394e3f11daa4edf9c8daa4942f9bd0c",
       "version_major": 2,
       "version_minor": 0
      },
      "text/plain": [
       "Scanning spectrum:   0%|          | 0/20 [00:00<?, ?it/s]"
      ]
     },
     "metadata": {},
     "output_type": "display_data"
    },
    {
     "data": {
      "application/vnd.jupyter.widget-view+json": {
       "model_id": "221a1fed5c5c4bb58e74ea6441309530",
       "version_major": 2,
       "version_minor": 0
      },
      "text/plain": [
       "Scanning spectrum:   0%|          | 0/20 [00:00<?, ?it/s]"
      ]
     },
     "metadata": {},
     "output_type": "display_data"
    },
    {
     "data": {
      "application/vnd.jupyter.widget-view+json": {
       "model_id": "8f4a3a5bcf284567947b149ae3211dcf",
       "version_major": 2,
       "version_minor": 0
      },
      "text/plain": [
       "Scanning spectrum:   0%|          | 0/20 [00:00<?, ?it/s]"
      ]
     },
     "metadata": {},
     "output_type": "display_data"
    },
    {
     "data": {
      "application/vnd.jupyter.widget-view+json": {
       "model_id": "2472a21b206943cfb6c8282033ac820b",
       "version_major": 2,
       "version_minor": 0
      },
      "text/plain": [
       "Scanning spectrum:   0%|          | 0/20 [00:00<?, ?it/s]"
      ]
     },
     "metadata": {},
     "output_type": "display_data"
    },
    {
     "data": {
      "application/vnd.jupyter.widget-view+json": {
       "model_id": "932c7a425e014fef9d73ee93e3780c23",
       "version_major": 2,
       "version_minor": 0
      },
      "text/plain": [
       "Scanning spectrum:   0%|          | 0/20 [00:00<?, ?it/s]"
      ]
     },
     "metadata": {},
     "output_type": "display_data"
    },
    {
     "data": {
      "application/vnd.jupyter.widget-view+json": {
       "model_id": "4a70397666a44fa48d1c6fe8bf93b42b",
       "version_major": 2,
       "version_minor": 0
      },
      "text/plain": [
       "Scanning spectrum:   0%|          | 0/20 [00:00<?, ?it/s]"
      ]
     },
     "metadata": {},
     "output_type": "display_data"
    },
    {
     "data": {
      "application/vnd.jupyter.widget-view+json": {
       "model_id": "eb554c43ae094ab39f76cd451fb7d455",
       "version_major": 2,
       "version_minor": 0
      },
      "text/plain": [
       "Scanning spectrum:   0%|          | 0/20 [00:00<?, ?it/s]"
      ]
     },
     "metadata": {},
     "output_type": "display_data"
    },
    {
     "data": {
      "application/vnd.jupyter.widget-view+json": {
       "model_id": "f2e0f198cf334e2293ec7a7b9d2a8c81",
       "version_major": 2,
       "version_minor": 0
      },
      "text/plain": [
       "Scanning spectrum:   0%|          | 0/20 [00:00<?, ?it/s]"
      ]
     },
     "metadata": {},
     "output_type": "display_data"
    },
    {
     "data": {
      "application/vnd.jupyter.widget-view+json": {
       "model_id": "24f441a54212414596941116bf0e18e3",
       "version_major": 2,
       "version_minor": 0
      },
      "text/plain": [
       "Scanning spectrum:   0%|          | 0/20 [00:00<?, ?it/s]"
      ]
     },
     "metadata": {},
     "output_type": "display_data"
    },
    {
     "data": {
      "application/vnd.jupyter.widget-view+json": {
       "model_id": "20ac0053d5324efbaf1a8562e7b741ba",
       "version_major": 2,
       "version_minor": 0
      },
      "text/plain": [
       "Scanning spectrum:   0%|          | 0/20 [00:00<?, ?it/s]"
      ]
     },
     "metadata": {},
     "output_type": "display_data"
    },
    {
     "data": {
      "application/vnd.jupyter.widget-view+json": {
       "model_id": "9016936d566743b3bb4f7af1cfe4ab46",
       "version_major": 2,
       "version_minor": 0
      },
      "text/plain": [
       "Scanning spectrum:   0%|          | 0/20 [00:00<?, ?it/s]"
      ]
     },
     "metadata": {},
     "output_type": "display_data"
    },
    {
     "data": {
      "application/vnd.jupyter.widget-view+json": {
       "model_id": "1f35c257fba044b8bd33f4d947369339",
       "version_major": 2,
       "version_minor": 0
      },
      "text/plain": [
       "Scanning spectrum:   0%|          | 0/20 [00:00<?, ?it/s]"
      ]
     },
     "metadata": {},
     "output_type": "display_data"
    },
    {
     "data": {
      "application/vnd.jupyter.widget-view+json": {
       "model_id": "4c9edbff5e724c4b88043d52e633b36a",
       "version_major": 2,
       "version_minor": 0
      },
      "text/plain": [
       "Scanning spectrum:   0%|          | 0/20 [00:00<?, ?it/s]"
      ]
     },
     "metadata": {},
     "output_type": "display_data"
    },
    {
     "data": {
      "application/vnd.jupyter.widget-view+json": {
       "model_id": "49d5df41344246aab379c6b22ee2b0cb",
       "version_major": 2,
       "version_minor": 0
      },
      "text/plain": [
       "Scanning spectrum:   0%|          | 0/20 [00:00<?, ?it/s]"
      ]
     },
     "metadata": {},
     "output_type": "display_data"
    },
    {
     "data": {
      "application/vnd.jupyter.widget-view+json": {
       "model_id": "3675654ccda44568af94df047b60d83b",
       "version_major": 2,
       "version_minor": 0
      },
      "text/plain": [
       "Scanning spectrum:   0%|          | 0/20 [00:00<?, ?it/s]"
      ]
     },
     "metadata": {},
     "output_type": "display_data"
    },
    {
     "data": {
      "application/vnd.jupyter.widget-view+json": {
       "model_id": "482d2d8febb9431b910f71568d99651f",
       "version_major": 2,
       "version_minor": 0
      },
      "text/plain": [
       "Scanning spectrum:   0%|          | 0/20 [00:00<?, ?it/s]"
      ]
     },
     "metadata": {},
     "output_type": "display_data"
    },
    {
     "data": {
      "application/vnd.jupyter.widget-view+json": {
       "model_id": "c92de0dbe27440ffa196a2f5f388fcb4",
       "version_major": 2,
       "version_minor": 0
      },
      "text/plain": [
       "Scanning spectrum:   0%|          | 0/20 [00:00<?, ?it/s]"
      ]
     },
     "metadata": {},
     "output_type": "display_data"
    },
    {
     "data": {
      "application/vnd.jupyter.widget-view+json": {
       "model_id": "df5792e2d66d4149857292b147f74b6f",
       "version_major": 2,
       "version_minor": 0
      },
      "text/plain": [
       "Scanning spectrum:   0%|          | 0/20 [00:00<?, ?it/s]"
      ]
     },
     "metadata": {},
     "output_type": "display_data"
    },
    {
     "data": {
      "application/vnd.jupyter.widget-view+json": {
       "model_id": "3fd8cb3c5c254538895c8414a750649d",
       "version_major": 2,
       "version_minor": 0
      },
      "text/plain": [
       "Scanning spectrum:   0%|          | 0/20 [00:00<?, ?it/s]"
      ]
     },
     "metadata": {},
     "output_type": "display_data"
    },
    {
     "data": {
      "application/vnd.jupyter.widget-view+json": {
       "model_id": "d8f2f90ddfed4211b754382eb5686175",
       "version_major": 2,
       "version_minor": 0
      },
      "text/plain": [
       "Scanning spectrum:   0%|          | 0/20 [00:00<?, ?it/s]"
      ]
     },
     "metadata": {},
     "output_type": "display_data"
    },
    {
     "data": {
      "application/vnd.jupyter.widget-view+json": {
       "model_id": "fc8aab1e6c24452fa1bb8229d0c75192",
       "version_major": 2,
       "version_minor": 0
      },
      "text/plain": [
       "Scanning spectrum:   0%|          | 0/20 [00:00<?, ?it/s]"
      ]
     },
     "metadata": {},
     "output_type": "display_data"
    },
    {
     "data": {
      "application/vnd.jupyter.widget-view+json": {
       "model_id": "02dfedd1656449d5bd9c041007f7c8cd",
       "version_major": 2,
       "version_minor": 0
      },
      "text/plain": [
       "Scanning spectrum:   0%|          | 0/20 [00:00<?, ?it/s]"
      ]
     },
     "metadata": {},
     "output_type": "display_data"
    },
    {
     "data": {
      "application/vnd.jupyter.widget-view+json": {
       "model_id": "a9363a742e9b4b72a1886e48987ea154",
       "version_major": 2,
       "version_minor": 0
      },
      "text/plain": [
       "Scanning spectrum:   0%|          | 0/20 [00:00<?, ?it/s]"
      ]
     },
     "metadata": {},
     "output_type": "display_data"
    },
    {
     "data": {
      "application/vnd.jupyter.widget-view+json": {
       "model_id": "c73171204be641fe932858be00d66b7c",
       "version_major": 2,
       "version_minor": 0
      },
      "text/plain": [
       "Scanning spectrum:   0%|          | 0/20 [00:00<?, ?it/s]"
      ]
     },
     "metadata": {},
     "output_type": "display_data"
    },
    {
     "data": {
      "application/vnd.jupyter.widget-view+json": {
       "model_id": "fd589171c7904b76b643b13274bc8162",
       "version_major": 2,
       "version_minor": 0
      },
      "text/plain": [
       "Scanning spectrum:   0%|          | 0/20 [00:00<?, ?it/s]"
      ]
     },
     "metadata": {},
     "output_type": "display_data"
    },
    {
     "data": {
      "application/vnd.jupyter.widget-view+json": {
       "model_id": "409e7245bdb345199ef7762d0208d0e2",
       "version_major": 2,
       "version_minor": 0
      },
      "text/plain": [
       "Scanning spectrum:   0%|          | 0/20 [00:00<?, ?it/s]"
      ]
     },
     "metadata": {},
     "output_type": "display_data"
    },
    {
     "data": {
      "application/vnd.jupyter.widget-view+json": {
       "model_id": "909ca8bc034a4450b21ea68e33901db5",
       "version_major": 2,
       "version_minor": 0
      },
      "text/plain": [
       "Scanning spectrum:   0%|          | 0/20 [00:00<?, ?it/s]"
      ]
     },
     "metadata": {},
     "output_type": "display_data"
    },
    {
     "data": {
      "application/vnd.jupyter.widget-view+json": {
       "model_id": "2a455a8405fa4ccd83051e30c3d9a8a2",
       "version_major": 2,
       "version_minor": 0
      },
      "text/plain": [
       "Scanning spectrum:   0%|          | 0/20 [00:00<?, ?it/s]"
      ]
     },
     "metadata": {},
     "output_type": "display_data"
    },
    {
     "data": {
      "application/vnd.jupyter.widget-view+json": {
       "model_id": "8f0d935bb85d478a9f96bd90bae00ec0",
       "version_major": 2,
       "version_minor": 0
      },
      "text/plain": [
       "Scanning spectrum:   0%|          | 0/20 [00:00<?, ?it/s]"
      ]
     },
     "metadata": {},
     "output_type": "display_data"
    },
    {
     "data": {
      "application/vnd.jupyter.widget-view+json": {
       "model_id": "f2ca68dc4deb4ff48bd8f079f7946e83",
       "version_major": 2,
       "version_minor": 0
      },
      "text/plain": [
       "Scanning spectrum:   0%|          | 0/20 [00:00<?, ?it/s]"
      ]
     },
     "metadata": {},
     "output_type": "display_data"
    },
    {
     "data": {
      "application/vnd.jupyter.widget-view+json": {
       "model_id": "dd8dfb3c9074421e8abeea9ae17fc7a5",
       "version_major": 2,
       "version_minor": 0
      },
      "text/plain": [
       "Scanning spectrum:   0%|          | 0/20 [00:00<?, ?it/s]"
      ]
     },
     "metadata": {},
     "output_type": "display_data"
    },
    {
     "data": {
      "application/vnd.jupyter.widget-view+json": {
       "model_id": "87766c0091bc46fe82cae9289d6e76a0",
       "version_major": 2,
       "version_minor": 0
      },
      "text/plain": [
       "Scanning spectrum:   0%|          | 0/20 [00:00<?, ?it/s]"
      ]
     },
     "metadata": {},
     "output_type": "display_data"
    },
    {
     "data": {
      "application/vnd.jupyter.widget-view+json": {
       "model_id": "5f402aa6f7fa4ec6863a4edaa50c1097",
       "version_major": 2,
       "version_minor": 0
      },
      "text/plain": [
       "Scanning spectrum:   0%|          | 0/20 [00:00<?, ?it/s]"
      ]
     },
     "metadata": {},
     "output_type": "display_data"
    },
    {
     "data": {
      "application/vnd.jupyter.widget-view+json": {
       "model_id": "1b98e1ebf2d5436d8ff6572158c8085f",
       "version_major": 2,
       "version_minor": 0
      },
      "text/plain": [
       "Scanning spectrum:   0%|          | 0/20 [00:00<?, ?it/s]"
      ]
     },
     "metadata": {},
     "output_type": "display_data"
    },
    {
     "data": {
      "application/vnd.jupyter.widget-view+json": {
       "model_id": "cc4791e97b714d14b46bf7b95a6d0908",
       "version_major": 2,
       "version_minor": 0
      },
      "text/plain": [
       "Scanning spectrum:   0%|          | 0/20 [00:00<?, ?it/s]"
      ]
     },
     "metadata": {},
     "output_type": "display_data"
    },
    {
     "data": {
      "application/vnd.jupyter.widget-view+json": {
       "model_id": "edaf19f97c4a421f9c6251bac1cc0f5d",
       "version_major": 2,
       "version_minor": 0
      },
      "text/plain": [
       "Scanning spectrum:   0%|          | 0/20 [00:00<?, ?it/s]"
      ]
     },
     "metadata": {},
     "output_type": "display_data"
    },
    {
     "data": {
      "application/vnd.jupyter.widget-view+json": {
       "model_id": "d0b42d8fff1d42d3bb2e98bcbcf627d0",
       "version_major": 2,
       "version_minor": 0
      },
      "text/plain": [
       "Scanning spectrum:   0%|          | 0/20 [00:00<?, ?it/s]"
      ]
     },
     "metadata": {},
     "output_type": "display_data"
    },
    {
     "data": {
      "application/vnd.jupyter.widget-view+json": {
       "model_id": "1648921a834a49eea841a996925fe6bd",
       "version_major": 2,
       "version_minor": 0
      },
      "text/plain": [
       "Scanning spectrum:   0%|          | 0/20 [00:00<?, ?it/s]"
      ]
     },
     "metadata": {},
     "output_type": "display_data"
    },
    {
     "data": {
      "application/vnd.jupyter.widget-view+json": {
       "model_id": "6d0b40c70e1143a8a7eea0c214e27025",
       "version_major": 2,
       "version_minor": 0
      },
      "text/plain": [
       "Scanning spectrum:   0%|          | 0/20 [00:00<?, ?it/s]"
      ]
     },
     "metadata": {},
     "output_type": "display_data"
    },
    {
     "data": {
      "application/vnd.jupyter.widget-view+json": {
       "model_id": "9e39e6fd36ae426d908ec71dcbb3013d",
       "version_major": 2,
       "version_minor": 0
      },
      "text/plain": [
       "Scanning spectrum:   0%|          | 0/20 [00:00<?, ?it/s]"
      ]
     },
     "metadata": {},
     "output_type": "display_data"
    },
    {
     "data": {
      "application/vnd.jupyter.widget-view+json": {
       "model_id": "13187c10e72249a6823833b857f73ac6",
       "version_major": 2,
       "version_minor": 0
      },
      "text/plain": [
       "Scanning spectrum:   0%|          | 0/20 [00:00<?, ?it/s]"
      ]
     },
     "metadata": {},
     "output_type": "display_data"
    },
    {
     "data": {
      "application/vnd.jupyter.widget-view+json": {
       "model_id": "3d198c3268ce4580bec8212f7596da87",
       "version_major": 2,
       "version_minor": 0
      },
      "text/plain": [
       "Scanning spectrum:   0%|          | 0/20 [00:00<?, ?it/s]"
      ]
     },
     "metadata": {},
     "output_type": "display_data"
    },
    {
     "data": {
      "application/vnd.jupyter.widget-view+json": {
       "model_id": "a0fc85914a764f1da11fe547f8f135db",
       "version_major": 2,
       "version_minor": 0
      },
      "text/plain": [
       "Scanning spectrum:   0%|          | 0/20 [00:00<?, ?it/s]"
      ]
     },
     "metadata": {},
     "output_type": "display_data"
    },
    {
     "data": {
      "application/vnd.jupyter.widget-view+json": {
       "model_id": "f0d7fc8c96194119ac9c12681f2c3332",
       "version_major": 2,
       "version_minor": 0
      },
      "text/plain": [
       "Scanning spectrum:   0%|          | 0/20 [00:00<?, ?it/s]"
      ]
     },
     "metadata": {},
     "output_type": "display_data"
    },
    {
     "data": {
      "application/vnd.jupyter.widget-view+json": {
       "model_id": "c9bc1e0f809642afa104be9f25751ec5",
       "version_major": 2,
       "version_minor": 0
      },
      "text/plain": [
       "Scanning spectrum:   0%|          | 0/20 [00:00<?, ?it/s]"
      ]
     },
     "metadata": {},
     "output_type": "display_data"
    },
    {
     "data": {
      "application/vnd.jupyter.widget-view+json": {
       "model_id": "978844916184491f923c6bccd6ea41cd",
       "version_major": 2,
       "version_minor": 0
      },
      "text/plain": [
       "Scanning spectrum:   0%|          | 0/20 [00:00<?, ?it/s]"
      ]
     },
     "metadata": {},
     "output_type": "display_data"
    },
    {
     "data": {
      "application/vnd.jupyter.widget-view+json": {
       "model_id": "616614b89913427dbcbdc29b4e9760e8",
       "version_major": 2,
       "version_minor": 0
      },
      "text/plain": [
       "Scanning spectrum:   0%|          | 0/20 [00:00<?, ?it/s]"
      ]
     },
     "metadata": {},
     "output_type": "display_data"
    },
    {
     "data": {
      "application/vnd.jupyter.widget-view+json": {
       "model_id": "3719be874881411cb3c7dae92bd57d42",
       "version_major": 2,
       "version_minor": 0
      },
      "text/plain": [
       "Scanning spectrum:   0%|          | 0/20 [00:00<?, ?it/s]"
      ]
     },
     "metadata": {},
     "output_type": "display_data"
    },
    {
     "data": {
      "application/vnd.jupyter.widget-view+json": {
       "model_id": "2677723482e748f1a364e724cacc9b9a",
       "version_major": 2,
       "version_minor": 0
      },
      "text/plain": [
       "Scanning spectrum:   0%|          | 0/20 [00:00<?, ?it/s]"
      ]
     },
     "metadata": {},
     "output_type": "display_data"
    },
    {
     "data": {
      "application/vnd.jupyter.widget-view+json": {
       "model_id": "a42e8f68848941d3970ce590fe45d726",
       "version_major": 2,
       "version_minor": 0
      },
      "text/plain": [
       "Scanning spectrum:   0%|          | 0/20 [00:00<?, ?it/s]"
      ]
     },
     "metadata": {},
     "output_type": "display_data"
    },
    {
     "data": {
      "application/vnd.jupyter.widget-view+json": {
       "model_id": "da3df64aa3fe43fea0bb08ea3243a6ca",
       "version_major": 2,
       "version_minor": 0
      },
      "text/plain": [
       "Scanning spectrum:   0%|          | 0/20 [00:00<?, ?it/s]"
      ]
     },
     "metadata": {},
     "output_type": "display_data"
    },
    {
     "data": {
      "application/vnd.jupyter.widget-view+json": {
       "model_id": "ddd95f4257724ee0a03435134d586e70",
       "version_major": 2,
       "version_minor": 0
      },
      "text/plain": [
       "Scanning spectrum:   0%|          | 0/20 [00:00<?, ?it/s]"
      ]
     },
     "metadata": {},
     "output_type": "display_data"
    },
    {
     "data": {
      "application/vnd.jupyter.widget-view+json": {
       "model_id": "bad05ffb09734c6a888ed4bfe8c45144",
       "version_major": 2,
       "version_minor": 0
      },
      "text/plain": [
       "Scanning spectrum:   0%|          | 0/20 [00:00<?, ?it/s]"
      ]
     },
     "metadata": {},
     "output_type": "display_data"
    },
    {
     "data": {
      "application/vnd.jupyter.widget-view+json": {
       "model_id": "7602d771cf5e4995b30ca317eeed1c68",
       "version_major": 2,
       "version_minor": 0
      },
      "text/plain": [
       "Scanning spectrum:   0%|          | 0/20 [00:00<?, ?it/s]"
      ]
     },
     "metadata": {},
     "output_type": "display_data"
    },
    {
     "data": {
      "application/vnd.jupyter.widget-view+json": {
       "model_id": "eb0b6dc3f772476db3bb0442562e26c0",
       "version_major": 2,
       "version_minor": 0
      },
      "text/plain": [
       "Scanning spectrum:   0%|          | 0/20 [00:00<?, ?it/s]"
      ]
     },
     "metadata": {},
     "output_type": "display_data"
    },
    {
     "data": {
      "application/vnd.jupyter.widget-view+json": {
       "model_id": "4889889bfefa4bd988fd8c8f99a3da9b",
       "version_major": 2,
       "version_minor": 0
      },
      "text/plain": [
       "Scanning spectrum:   0%|          | 0/20 [00:00<?, ?it/s]"
      ]
     },
     "metadata": {},
     "output_type": "display_data"
    },
    {
     "data": {
      "application/vnd.jupyter.widget-view+json": {
       "model_id": "822731f0226846ce98a8990b06b1d4dd",
       "version_major": 2,
       "version_minor": 0
      },
      "text/plain": [
       "Scanning spectrum:   0%|          | 0/20 [00:00<?, ?it/s]"
      ]
     },
     "metadata": {},
     "output_type": "display_data"
    },
    {
     "data": {
      "application/vnd.jupyter.widget-view+json": {
       "model_id": "7dce2e5991664081a04c263de9d3b866",
       "version_major": 2,
       "version_minor": 0
      },
      "text/plain": [
       "Scanning spectrum:   0%|          | 0/20 [00:00<?, ?it/s]"
      ]
     },
     "metadata": {},
     "output_type": "display_data"
    },
    {
     "data": {
      "application/vnd.jupyter.widget-view+json": {
       "model_id": "15ed667fb1f245ffa25e41af535a9773",
       "version_major": 2,
       "version_minor": 0
      },
      "text/plain": [
       "Scanning spectrum:   0%|          | 0/20 [00:00<?, ?it/s]"
      ]
     },
     "metadata": {},
     "output_type": "display_data"
    },
    {
     "data": {
      "application/vnd.jupyter.widget-view+json": {
       "model_id": "70e28c9b50064a5995f13b8f3a3d09f1",
       "version_major": 2,
       "version_minor": 0
      },
      "text/plain": [
       "Scanning spectrum:   0%|          | 0/20 [00:00<?, ?it/s]"
      ]
     },
     "metadata": {},
     "output_type": "display_data"
    },
    {
     "data": {
      "application/vnd.jupyter.widget-view+json": {
       "model_id": "f276cebba9d4470aa7df3a09736c45bf",
       "version_major": 2,
       "version_minor": 0
      },
      "text/plain": [
       "Scanning spectrum:   0%|          | 0/20 [00:00<?, ?it/s]"
      ]
     },
     "metadata": {},
     "output_type": "display_data"
    },
    {
     "data": {
      "application/vnd.jupyter.widget-view+json": {
       "model_id": "274953c93df24f5297d2ca2533671320",
       "version_major": 2,
       "version_minor": 0
      },
      "text/plain": [
       "Scanning spectrum:   0%|          | 0/20 [00:00<?, ?it/s]"
      ]
     },
     "metadata": {},
     "output_type": "display_data"
    },
    {
     "data": {
      "application/vnd.jupyter.widget-view+json": {
       "model_id": "f1d7868b9a804c038d0db8b765f0176e",
       "version_major": 2,
       "version_minor": 0
      },
      "text/plain": [
       "Scanning spectrum:   0%|          | 0/20 [00:00<?, ?it/s]"
      ]
     },
     "metadata": {},
     "output_type": "display_data"
    },
    {
     "data": {
      "application/vnd.jupyter.widget-view+json": {
       "model_id": "2d6de8b33eec49e899c83a3a271a40db",
       "version_major": 2,
       "version_minor": 0
      },
      "text/plain": [
       "Scanning spectrum:   0%|          | 0/20 [00:00<?, ?it/s]"
      ]
     },
     "metadata": {},
     "output_type": "display_data"
    },
    {
     "data": {
      "application/vnd.jupyter.widget-view+json": {
       "model_id": "8b1f1fbefc9741cfaed4816c326aa0b5",
       "version_major": 2,
       "version_minor": 0
      },
      "text/plain": [
       "Scanning spectrum:   0%|          | 0/20 [00:00<?, ?it/s]"
      ]
     },
     "metadata": {},
     "output_type": "display_data"
    },
    {
     "data": {
      "application/vnd.jupyter.widget-view+json": {
       "model_id": "e9edaa6a6ba44424beb1681b1be2d18a",
       "version_major": 2,
       "version_minor": 0
      },
      "text/plain": [
       "Scanning spectrum:   0%|          | 0/20 [00:00<?, ?it/s]"
      ]
     },
     "metadata": {},
     "output_type": "display_data"
    },
    {
     "data": {
      "application/vnd.jupyter.widget-view+json": {
       "model_id": "34bad3c907d34c69ba0d86f67a6bc228",
       "version_major": 2,
       "version_minor": 0
      },
      "text/plain": [
       "Scanning spectrum:   0%|          | 0/20 [00:00<?, ?it/s]"
      ]
     },
     "metadata": {},
     "output_type": "display_data"
    },
    {
     "data": {
      "application/vnd.jupyter.widget-view+json": {
       "model_id": "95397bf2ad534b399c85acd17debc113",
       "version_major": 2,
       "version_minor": 0
      },
      "text/plain": [
       "Scanning spectrum:   0%|          | 0/20 [00:00<?, ?it/s]"
      ]
     },
     "metadata": {},
     "output_type": "display_data"
    },
    {
     "data": {
      "application/vnd.jupyter.widget-view+json": {
       "model_id": "5bc8c291a6bd4c16b4fcf530b95dfdf2",
       "version_major": 2,
       "version_minor": 0
      },
      "text/plain": [
       "Scanning spectrum:   0%|          | 0/20 [00:00<?, ?it/s]"
      ]
     },
     "metadata": {},
     "output_type": "display_data"
    },
    {
     "data": {
      "application/vnd.jupyter.widget-view+json": {
       "model_id": "df766d80b1fa4ce58bed2ebb35e6c61c",
       "version_major": 2,
       "version_minor": 0
      },
      "text/plain": [
       "Scanning spectrum:   0%|          | 0/20 [00:00<?, ?it/s]"
      ]
     },
     "metadata": {},
     "output_type": "display_data"
    },
    {
     "data": {
      "application/vnd.jupyter.widget-view+json": {
       "model_id": "b84eb2c081f84c5ab614d3e209a46693",
       "version_major": 2,
       "version_minor": 0
      },
      "text/plain": [
       "Scanning spectrum:   0%|          | 0/20 [00:00<?, ?it/s]"
      ]
     },
     "metadata": {},
     "output_type": "display_data"
    },
    {
     "data": {
      "application/vnd.jupyter.widget-view+json": {
       "model_id": "a020703fe2fb4ab1b37908d5837c7c09",
       "version_major": 2,
       "version_minor": 0
      },
      "text/plain": [
       "Scanning spectrum:   0%|          | 0/20 [00:00<?, ?it/s]"
      ]
     },
     "metadata": {},
     "output_type": "display_data"
    },
    {
     "data": {
      "application/vnd.jupyter.widget-view+json": {
       "model_id": "13373e73fc8240d486f3d84278626dd5",
       "version_major": 2,
       "version_minor": 0
      },
      "text/plain": [
       "Scanning spectrum:   0%|          | 0/20 [00:00<?, ?it/s]"
      ]
     },
     "metadata": {},
     "output_type": "display_data"
    },
    {
     "data": {
      "application/vnd.jupyter.widget-view+json": {
       "model_id": "7e21bfb1c68847a7b40630c601540ea7",
       "version_major": 2,
       "version_minor": 0
      },
      "text/plain": [
       "Scanning spectrum:   0%|          | 0/20 [00:00<?, ?it/s]"
      ]
     },
     "metadata": {},
     "output_type": "display_data"
    },
    {
     "data": {
      "application/vnd.jupyter.widget-view+json": {
       "model_id": "2803045274a44a2d8952806dba293ec6",
       "version_major": 2,
       "version_minor": 0
      },
      "text/plain": [
       "Scanning spectrum:   0%|          | 0/20 [00:00<?, ?it/s]"
      ]
     },
     "metadata": {},
     "output_type": "display_data"
    },
    {
     "data": {
      "application/vnd.jupyter.widget-view+json": {
       "model_id": "4869a0b9ea854667a4649d74ff7f1146",
       "version_major": 2,
       "version_minor": 0
      },
      "text/plain": [
       "Scanning spectrum:   0%|          | 0/20 [00:00<?, ?it/s]"
      ]
     },
     "metadata": {},
     "output_type": "display_data"
    },
    {
     "data": {
      "application/vnd.jupyter.widget-view+json": {
       "model_id": "2689f48ca686488c8bd3db34cfb2800a",
       "version_major": 2,
       "version_minor": 0
      },
      "text/plain": [
       "Scanning spectrum:   0%|          | 0/20 [00:00<?, ?it/s]"
      ]
     },
     "metadata": {},
     "output_type": "display_data"
    },
    {
     "data": {
      "application/vnd.jupyter.widget-view+json": {
       "model_id": "4368a71919314b45acf89bebed6de7f0",
       "version_major": 2,
       "version_minor": 0
      },
      "text/plain": [
       "Scanning spectrum:   0%|          | 0/20 [00:00<?, ?it/s]"
      ]
     },
     "metadata": {},
     "output_type": "display_data"
    },
    {
     "data": {
      "application/vnd.jupyter.widget-view+json": {
       "model_id": "38c6e11582a24cc2a73a8bdc00e689db",
       "version_major": 2,
       "version_minor": 0
      },
      "text/plain": [
       "Scanning spectrum:   0%|          | 0/20 [00:00<?, ?it/s]"
      ]
     },
     "metadata": {},
     "output_type": "display_data"
    },
    {
     "data": {
      "application/vnd.jupyter.widget-view+json": {
       "model_id": "2d1269f4f7d74ea0af8079ff64bcbf83",
       "version_major": 2,
       "version_minor": 0
      },
      "text/plain": [
       "Scanning spectrum:   0%|          | 0/20 [00:00<?, ?it/s]"
      ]
     },
     "metadata": {},
     "output_type": "display_data"
    },
    {
     "data": {
      "application/vnd.jupyter.widget-view+json": {
       "model_id": "f23c0bcc18f4412db13b0fb923ad29e4",
       "version_major": 2,
       "version_minor": 0
      },
      "text/plain": [
       "Scanning spectrum:   0%|          | 0/20 [00:00<?, ?it/s]"
      ]
     },
     "metadata": {},
     "output_type": "display_data"
    },
    {
     "data": {
      "application/vnd.jupyter.widget-view+json": {
       "model_id": "2f8d82d8766046239713aeb589dcbecb",
       "version_major": 2,
       "version_minor": 0
      },
      "text/plain": [
       "Scanning spectrum:   0%|          | 0/20 [00:00<?, ?it/s]"
      ]
     },
     "metadata": {},
     "output_type": "display_data"
    },
    {
     "data": {
      "application/vnd.jupyter.widget-view+json": {
       "model_id": "c0eecddb96f9402c803b14fb7fac327a",
       "version_major": 2,
       "version_minor": 0
      },
      "text/plain": [
       "Scanning spectrum:   0%|          | 0/20 [00:00<?, ?it/s]"
      ]
     },
     "metadata": {},
     "output_type": "display_data"
    },
    {
     "data": {
      "application/vnd.jupyter.widget-view+json": {
       "model_id": "d4bf28af81004d37b768c005dd7cac9e",
       "version_major": 2,
       "version_minor": 0
      },
      "text/plain": [
       "Scanning spectrum:   0%|          | 0/20 [00:00<?, ?it/s]"
      ]
     },
     "metadata": {},
     "output_type": "display_data"
    },
    {
     "data": {
      "application/vnd.jupyter.widget-view+json": {
       "model_id": "a1ad0cf130d5431a9437e0638247be3a",
       "version_major": 2,
       "version_minor": 0
      },
      "text/plain": [
       "Scanning spectrum:   0%|          | 0/20 [00:00<?, ?it/s]"
      ]
     },
     "metadata": {},
     "output_type": "display_data"
    },
    {
     "data": {
      "application/vnd.jupyter.widget-view+json": {
       "model_id": "8d9563ba415d4465af4a084324cf092a",
       "version_major": 2,
       "version_minor": 0
      },
      "text/plain": [
       "Scanning spectrum:   0%|          | 0/20 [00:00<?, ?it/s]"
      ]
     },
     "metadata": {},
     "output_type": "display_data"
    },
    {
     "data": {
      "application/vnd.jupyter.widget-view+json": {
       "model_id": "dff5cb1871d94f5caa94c5d7fb24d059",
       "version_major": 2,
       "version_minor": 0
      },
      "text/plain": [
       "Scanning spectrum:   0%|          | 0/20 [00:00<?, ?it/s]"
      ]
     },
     "metadata": {},
     "output_type": "display_data"
    },
    {
     "data": {
      "application/vnd.jupyter.widget-view+json": {
       "model_id": "b9b59ced162e419a85539c81c7c3a360",
       "version_major": 2,
       "version_minor": 0
      },
      "text/plain": [
       "Scanning spectrum:   0%|          | 0/20 [00:00<?, ?it/s]"
      ]
     },
     "metadata": {},
     "output_type": "display_data"
    },
    {
     "data": {
      "application/vnd.jupyter.widget-view+json": {
       "model_id": "b8542289c2fd4bbfa760c22dbe846e8f",
       "version_major": 2,
       "version_minor": 0
      },
      "text/plain": [
       "Scanning spectrum:   0%|          | 0/20 [00:00<?, ?it/s]"
      ]
     },
     "metadata": {},
     "output_type": "display_data"
    },
    {
     "data": {
      "application/vnd.jupyter.widget-view+json": {
       "model_id": "27c7dbe598dc405bad967cab63ab0247",
       "version_major": 2,
       "version_minor": 0
      },
      "text/plain": [
       "Scanning spectrum:   0%|          | 0/20 [00:00<?, ?it/s]"
      ]
     },
     "metadata": {},
     "output_type": "display_data"
    },
    {
     "data": {
      "application/vnd.jupyter.widget-view+json": {
       "model_id": "b0a4f9ca572d40ffa5e2036c2dd2df8c",
       "version_major": 2,
       "version_minor": 0
      },
      "text/plain": [
       "Scanning spectrum:   0%|          | 0/20 [00:00<?, ?it/s]"
      ]
     },
     "metadata": {},
     "output_type": "display_data"
    },
    {
     "data": {
      "application/vnd.jupyter.widget-view+json": {
       "model_id": "7e71d1b1f1754e17920e662d2841d061",
       "version_major": 2,
       "version_minor": 0
      },
      "text/plain": [
       "Scanning spectrum:   0%|          | 0/20 [00:00<?, ?it/s]"
      ]
     },
     "metadata": {},
     "output_type": "display_data"
    },
    {
     "data": {
      "application/vnd.jupyter.widget-view+json": {
       "model_id": "0057e0985b85484e90699dd8a58d4df1",
       "version_major": 2,
       "version_minor": 0
      },
      "text/plain": [
       "Scanning spectrum:   0%|          | 0/20 [00:00<?, ?it/s]"
      ]
     },
     "metadata": {},
     "output_type": "display_data"
    },
    {
     "data": {
      "application/vnd.jupyter.widget-view+json": {
       "model_id": "4fe23e25705b458a901e51cf129c4774",
       "version_major": 2,
       "version_minor": 0
      },
      "text/plain": [
       "Scanning spectrum:   0%|          | 0/20 [00:00<?, ?it/s]"
      ]
     },
     "metadata": {},
     "output_type": "display_data"
    },
    {
     "data": {
      "application/vnd.jupyter.widget-view+json": {
       "model_id": "6ba2a9e4c66745cf86b9e0befd6cbf2d",
       "version_major": 2,
       "version_minor": 0
      },
      "text/plain": [
       "Scanning spectrum:   0%|          | 0/20 [00:00<?, ?it/s]"
      ]
     },
     "metadata": {},
     "output_type": "display_data"
    },
    {
     "data": {
      "application/vnd.jupyter.widget-view+json": {
       "model_id": "a32bde443e7748b78a1afd3d9d5523f1",
       "version_major": 2,
       "version_minor": 0
      },
      "text/plain": [
       "Scanning spectrum:   0%|          | 0/20 [00:00<?, ?it/s]"
      ]
     },
     "metadata": {},
     "output_type": "display_data"
    },
    {
     "data": {
      "application/vnd.jupyter.widget-view+json": {
       "model_id": "8d748063a4b7469898a5775d0878ec2f",
       "version_major": 2,
       "version_minor": 0
      },
      "text/plain": [
       "Scanning spectrum:   0%|          | 0/20 [00:00<?, ?it/s]"
      ]
     },
     "metadata": {},
     "output_type": "display_data"
    },
    {
     "data": {
      "application/vnd.jupyter.widget-view+json": {
       "model_id": "0bbc9221701e432fa213d52935eca44d",
       "version_major": 2,
       "version_minor": 0
      },
      "text/plain": [
       "Scanning spectrum:   0%|          | 0/20 [00:00<?, ?it/s]"
      ]
     },
     "metadata": {},
     "output_type": "display_data"
    },
    {
     "data": {
      "application/vnd.jupyter.widget-view+json": {
       "model_id": "d7fa120774ad4c72b7fbe23cc1e5d6f9",
       "version_major": 2,
       "version_minor": 0
      },
      "text/plain": [
       "Scanning spectrum:   0%|          | 0/20 [00:00<?, ?it/s]"
      ]
     },
     "metadata": {},
     "output_type": "display_data"
    },
    {
     "data": {
      "application/vnd.jupyter.widget-view+json": {
       "model_id": "3f8cb48ba67945f2b104e775c9aa56b4",
       "version_major": 2,
       "version_minor": 0
      },
      "text/plain": [
       "Scanning spectrum:   0%|          | 0/20 [00:00<?, ?it/s]"
      ]
     },
     "metadata": {},
     "output_type": "display_data"
    },
    {
     "data": {
      "application/vnd.jupyter.widget-view+json": {
       "model_id": "7b039933181b4c789ea588988ff986d4",
       "version_major": 2,
       "version_minor": 0
      },
      "text/plain": [
       "Scanning spectrum:   0%|          | 0/20 [00:00<?, ?it/s]"
      ]
     },
     "metadata": {},
     "output_type": "display_data"
    },
    {
     "data": {
      "application/vnd.jupyter.widget-view+json": {
       "model_id": "2262c9f1dac44625b57f3800c93f02eb",
       "version_major": 2,
       "version_minor": 0
      },
      "text/plain": [
       "Scanning spectrum:   0%|          | 0/20 [00:00<?, ?it/s]"
      ]
     },
     "metadata": {},
     "output_type": "display_data"
    },
    {
     "data": {
      "application/vnd.jupyter.widget-view+json": {
       "model_id": "95bde650e183466f9c82d44b4e202f20",
       "version_major": 2,
       "version_minor": 0
      },
      "text/plain": [
       "Scanning spectrum:   0%|          | 0/20 [00:00<?, ?it/s]"
      ]
     },
     "metadata": {},
     "output_type": "display_data"
    },
    {
     "data": {
      "application/vnd.jupyter.widget-view+json": {
       "model_id": "9e207017fe9348a195e20c3ab4367cc7",
       "version_major": 2,
       "version_minor": 0
      },
      "text/plain": [
       "Scanning spectrum:   0%|          | 0/20 [00:00<?, ?it/s]"
      ]
     },
     "metadata": {},
     "output_type": "display_data"
    },
    {
     "data": {
      "application/vnd.jupyter.widget-view+json": {
       "model_id": "04cdf66152c742898812fbab85b09a6d",
       "version_major": 2,
       "version_minor": 0
      },
      "text/plain": [
       "Scanning spectrum:   0%|          | 0/20 [00:00<?, ?it/s]"
      ]
     },
     "metadata": {},
     "output_type": "display_data"
    },
    {
     "data": {
      "application/vnd.jupyter.widget-view+json": {
       "model_id": "7404140989784bcabd3ecadb08739643",
       "version_major": 2,
       "version_minor": 0
      },
      "text/plain": [
       "Scanning spectrum:   0%|          | 0/20 [00:00<?, ?it/s]"
      ]
     },
     "metadata": {},
     "output_type": "display_data"
    },
    {
     "data": {
      "application/vnd.jupyter.widget-view+json": {
       "model_id": "72ccb1e25aef4aaf97bfba1210183fec",
       "version_major": 2,
       "version_minor": 0
      },
      "text/plain": [
       "Scanning spectrum:   0%|          | 0/20 [00:00<?, ?it/s]"
      ]
     },
     "metadata": {},
     "output_type": "display_data"
    },
    {
     "data": {
      "application/vnd.jupyter.widget-view+json": {
       "model_id": "4fc1e5549cbd42b4b3f8bb0c70dda05a",
       "version_major": 2,
       "version_minor": 0
      },
      "text/plain": [
       "Scanning spectrum:   0%|          | 0/20 [00:00<?, ?it/s]"
      ]
     },
     "metadata": {},
     "output_type": "display_data"
    },
    {
     "data": {
      "application/vnd.jupyter.widget-view+json": {
       "model_id": "8eb62b204971422fb48f20abca6ccfea",
       "version_major": 2,
       "version_minor": 0
      },
      "text/plain": [
       "Scanning spectrum:   0%|          | 0/20 [00:00<?, ?it/s]"
      ]
     },
     "metadata": {},
     "output_type": "display_data"
    },
    {
     "data": {
      "application/vnd.jupyter.widget-view+json": {
       "model_id": "af92edb4a5ba419fbb7ea25a07724075",
       "version_major": 2,
       "version_minor": 0
      },
      "text/plain": [
       "Scanning spectrum:   0%|          | 0/20 [00:00<?, ?it/s]"
      ]
     },
     "metadata": {},
     "output_type": "display_data"
    },
    {
     "data": {
      "application/vnd.jupyter.widget-view+json": {
       "model_id": "b44276838f85489584d69f489fbe341e",
       "version_major": 2,
       "version_minor": 0
      },
      "text/plain": [
       "Scanning spectrum:   0%|          | 0/20 [00:00<?, ?it/s]"
      ]
     },
     "metadata": {},
     "output_type": "display_data"
    },
    {
     "data": {
      "application/vnd.jupyter.widget-view+json": {
       "model_id": "2fefbb223ea8420bb34c5553500a5332",
       "version_major": 2,
       "version_minor": 0
      },
      "text/plain": [
       "Scanning spectrum:   0%|          | 0/20 [00:00<?, ?it/s]"
      ]
     },
     "metadata": {},
     "output_type": "display_data"
    },
    {
     "data": {
      "application/vnd.jupyter.widget-view+json": {
       "model_id": "5bf871f49ea942019484fe8445b7d92c",
       "version_major": 2,
       "version_minor": 0
      },
      "text/plain": [
       "Scanning spectrum:   0%|          | 0/20 [00:00<?, ?it/s]"
      ]
     },
     "metadata": {},
     "output_type": "display_data"
    },
    {
     "data": {
      "application/vnd.jupyter.widget-view+json": {
       "model_id": "d8fe55d9ca1349078a218d6bc5d78061",
       "version_major": 2,
       "version_minor": 0
      },
      "text/plain": [
       "Scanning spectrum:   0%|          | 0/20 [00:00<?, ?it/s]"
      ]
     },
     "metadata": {},
     "output_type": "display_data"
    },
    {
     "data": {
      "application/vnd.jupyter.widget-view+json": {
       "model_id": "89d45f0ca4dc48daad7ae9b75adeb29a",
       "version_major": 2,
       "version_minor": 0
      },
      "text/plain": [
       "Scanning spectrum:   0%|          | 0/20 [00:00<?, ?it/s]"
      ]
     },
     "metadata": {},
     "output_type": "display_data"
    },
    {
     "data": {
      "application/vnd.jupyter.widget-view+json": {
       "model_id": "f8c65366477547d69963d1b486e39247",
       "version_major": 2,
       "version_minor": 0
      },
      "text/plain": [
       "Scanning spectrum:   0%|          | 0/20 [00:00<?, ?it/s]"
      ]
     },
     "metadata": {},
     "output_type": "display_data"
    },
    {
     "data": {
      "application/vnd.jupyter.widget-view+json": {
       "model_id": "0662e0b9691a4a9c8d57a1b4f2e081e9",
       "version_major": 2,
       "version_minor": 0
      },
      "text/plain": [
       "Scanning spectrum:   0%|          | 0/20 [00:00<?, ?it/s]"
      ]
     },
     "metadata": {},
     "output_type": "display_data"
    },
    {
     "data": {
      "application/vnd.jupyter.widget-view+json": {
       "model_id": "6b1dc4de782449c3b086f83fbdcc07d5",
       "version_major": 2,
       "version_minor": 0
      },
      "text/plain": [
       "Scanning spectrum:   0%|          | 0/20 [00:00<?, ?it/s]"
      ]
     },
     "metadata": {},
     "output_type": "display_data"
    },
    {
     "data": {
      "application/vnd.jupyter.widget-view+json": {
       "model_id": "5ea86a60dcbc411b89a23ac3ff334e8f",
       "version_major": 2,
       "version_minor": 0
      },
      "text/plain": [
       "Scanning spectrum:   0%|          | 0/20 [00:00<?, ?it/s]"
      ]
     },
     "metadata": {},
     "output_type": "display_data"
    },
    {
     "data": {
      "application/vnd.jupyter.widget-view+json": {
       "model_id": "e8433c7bc3d3472fbcff242838819e2c",
       "version_major": 2,
       "version_minor": 0
      },
      "text/plain": [
       "Scanning spectrum:   0%|          | 0/20 [00:00<?, ?it/s]"
      ]
     },
     "metadata": {},
     "output_type": "display_data"
    },
    {
     "data": {
      "application/vnd.jupyter.widget-view+json": {
       "model_id": "235428a674e247138201de5e1e99680a",
       "version_major": 2,
       "version_minor": 0
      },
      "text/plain": [
       "Scanning spectrum:   0%|          | 0/20 [00:00<?, ?it/s]"
      ]
     },
     "metadata": {},
     "output_type": "display_data"
    },
    {
     "data": {
      "application/vnd.jupyter.widget-view+json": {
       "model_id": "174901bf201d41339f25114989785d85",
       "version_major": 2,
       "version_minor": 0
      },
      "text/plain": [
       "Scanning spectrum:   0%|          | 0/20 [00:00<?, ?it/s]"
      ]
     },
     "metadata": {},
     "output_type": "display_data"
    },
    {
     "data": {
      "application/vnd.jupyter.widget-view+json": {
       "model_id": "1bc70584575746c99ccf4cf383fecc78",
       "version_major": 2,
       "version_minor": 0
      },
      "text/plain": [
       "Scanning spectrum:   0%|          | 0/20 [00:00<?, ?it/s]"
      ]
     },
     "metadata": {},
     "output_type": "display_data"
    },
    {
     "data": {
      "application/vnd.jupyter.widget-view+json": {
       "model_id": "f469f2f421a64ecfb26a84a4129c95b4",
       "version_major": 2,
       "version_minor": 0
      },
      "text/plain": [
       "Scanning spectrum:   0%|          | 0/20 [00:00<?, ?it/s]"
      ]
     },
     "metadata": {},
     "output_type": "display_data"
    },
    {
     "data": {
      "application/vnd.jupyter.widget-view+json": {
       "model_id": "439b0f0502174b9a8920c06b4eda5260",
       "version_major": 2,
       "version_minor": 0
      },
      "text/plain": [
       "Scanning spectrum:   0%|          | 0/20 [00:00<?, ?it/s]"
      ]
     },
     "metadata": {},
     "output_type": "display_data"
    },
    {
     "data": {
      "application/vnd.jupyter.widget-view+json": {
       "model_id": "5012e4cec61944abbaaa433a23776cf1",
       "version_major": 2,
       "version_minor": 0
      },
      "text/plain": [
       "Scanning spectrum:   0%|          | 0/20 [00:00<?, ?it/s]"
      ]
     },
     "metadata": {},
     "output_type": "display_data"
    },
    {
     "data": {
      "application/vnd.jupyter.widget-view+json": {
       "model_id": "2a63c0269c09475faafb4cbc22cb5356",
       "version_major": 2,
       "version_minor": 0
      },
      "text/plain": [
       "Scanning spectrum:   0%|          | 0/20 [00:00<?, ?it/s]"
      ]
     },
     "metadata": {},
     "output_type": "display_data"
    },
    {
     "data": {
      "application/vnd.jupyter.widget-view+json": {
       "model_id": "061903c0b49f43518ce617b710c8a708",
       "version_major": 2,
       "version_minor": 0
      },
      "text/plain": [
       "Scanning spectrum:   0%|          | 0/20 [00:00<?, ?it/s]"
      ]
     },
     "metadata": {},
     "output_type": "display_data"
    },
    {
     "data": {
      "application/vnd.jupyter.widget-view+json": {
       "model_id": "38111f4e1c984c75a874abb2a991c680",
       "version_major": 2,
       "version_minor": 0
      },
      "text/plain": [
       "Scanning spectrum:   0%|          | 0/20 [00:00<?, ?it/s]"
      ]
     },
     "metadata": {},
     "output_type": "display_data"
    },
    {
     "data": {
      "application/vnd.jupyter.widget-view+json": {
       "model_id": "caa0d1d3650e4b038a8ec2ab9671c912",
       "version_major": 2,
       "version_minor": 0
      },
      "text/plain": [
       "Scanning spectrum:   0%|          | 0/20 [00:00<?, ?it/s]"
      ]
     },
     "metadata": {},
     "output_type": "display_data"
    },
    {
     "data": {
      "application/vnd.jupyter.widget-view+json": {
       "model_id": "882128da714e4c2292ecf42feecab740",
       "version_major": 2,
       "version_minor": 0
      },
      "text/plain": [
       "Scanning spectrum:   0%|          | 0/20 [00:00<?, ?it/s]"
      ]
     },
     "metadata": {},
     "output_type": "display_data"
    },
    {
     "data": {
      "application/vnd.jupyter.widget-view+json": {
       "model_id": "65a05c922f644e738773c90e4e8c354f",
       "version_major": 2,
       "version_minor": 0
      },
      "text/plain": [
       "Scanning spectrum:   0%|          | 0/20 [00:00<?, ?it/s]"
      ]
     },
     "metadata": {},
     "output_type": "display_data"
    },
    {
     "data": {
      "application/vnd.jupyter.widget-view+json": {
       "model_id": "9acd8454f082436fb078864b9f49178c",
       "version_major": 2,
       "version_minor": 0
      },
      "text/plain": [
       "Scanning spectrum:   0%|          | 0/20 [00:00<?, ?it/s]"
      ]
     },
     "metadata": {},
     "output_type": "display_data"
    },
    {
     "data": {
      "application/vnd.jupyter.widget-view+json": {
       "model_id": "e07b1f56b7f34383ad63cf63f84d5f7e",
       "version_major": 2,
       "version_minor": 0
      },
      "text/plain": [
       "Scanning spectrum:   0%|          | 0/20 [00:00<?, ?it/s]"
      ]
     },
     "metadata": {},
     "output_type": "display_data"
    },
    {
     "data": {
      "application/vnd.jupyter.widget-view+json": {
       "model_id": "cb83a118572546699d47b3076862c3c5",
       "version_major": 2,
       "version_minor": 0
      },
      "text/plain": [
       "Scanning spectrum:   0%|          | 0/20 [00:00<?, ?it/s]"
      ]
     },
     "metadata": {},
     "output_type": "display_data"
    },
    {
     "data": {
      "application/vnd.jupyter.widget-view+json": {
       "model_id": "4165522dce6847c489f95dbe7773bc2d",
       "version_major": 2,
       "version_minor": 0
      },
      "text/plain": [
       "Scanning spectrum:   0%|          | 0/20 [00:00<?, ?it/s]"
      ]
     },
     "metadata": {},
     "output_type": "display_data"
    },
    {
     "data": {
      "application/vnd.jupyter.widget-view+json": {
       "model_id": "826a909b6813427faceca4d730cbf785",
       "version_major": 2,
       "version_minor": 0
      },
      "text/plain": [
       "Scanning spectrum:   0%|          | 0/20 [00:00<?, ?it/s]"
      ]
     },
     "metadata": {},
     "output_type": "display_data"
    },
    {
     "data": {
      "application/vnd.jupyter.widget-view+json": {
       "model_id": "2a0a5c1f8c4b4cbb9c73052e788e44db",
       "version_major": 2,
       "version_minor": 0
      },
      "text/plain": [
       "Scanning spectrum:   0%|          | 0/20 [00:00<?, ?it/s]"
      ]
     },
     "metadata": {},
     "output_type": "display_data"
    },
    {
     "data": {
      "application/vnd.jupyter.widget-view+json": {
       "model_id": "5594ecfd96af4d7c997df69d36ef5dae",
       "version_major": 2,
       "version_minor": 0
      },
      "text/plain": [
       "Scanning spectrum:   0%|          | 0/20 [00:00<?, ?it/s]"
      ]
     },
     "metadata": {},
     "output_type": "display_data"
    },
    {
     "data": {
      "application/vnd.jupyter.widget-view+json": {
       "model_id": "c5ef3c3f6e014693aaf08f57eae850b7",
       "version_major": 2,
       "version_minor": 0
      },
      "text/plain": [
       "Scanning spectrum:   0%|          | 0/20 [00:00<?, ?it/s]"
      ]
     },
     "metadata": {},
     "output_type": "display_data"
    },
    {
     "data": {
      "application/vnd.jupyter.widget-view+json": {
       "model_id": "659c5c09eb01473ea20c80dcb2f72e3e",
       "version_major": 2,
       "version_minor": 0
      },
      "text/plain": [
       "Scanning spectrum:   0%|          | 0/20 [00:00<?, ?it/s]"
      ]
     },
     "metadata": {},
     "output_type": "display_data"
    },
    {
     "data": {
      "application/vnd.jupyter.widget-view+json": {
       "model_id": "0d88abfa3b2f48da837ead079b751d9e",
       "version_major": 2,
       "version_minor": 0
      },
      "text/plain": [
       "Scanning spectrum:   0%|          | 0/20 [00:00<?, ?it/s]"
      ]
     },
     "metadata": {},
     "output_type": "display_data"
    },
    {
     "data": {
      "application/vnd.jupyter.widget-view+json": {
       "model_id": "ab47e3b54d534a8f90ef393fc38f7dee",
       "version_major": 2,
       "version_minor": 0
      },
      "text/plain": [
       "Scanning spectrum:   0%|          | 0/20 [00:00<?, ?it/s]"
      ]
     },
     "metadata": {},
     "output_type": "display_data"
    },
    {
     "data": {
      "application/vnd.jupyter.widget-view+json": {
       "model_id": "6309f751b4ca4ddda424ca0a2a478aed",
       "version_major": 2,
       "version_minor": 0
      },
      "text/plain": [
       "Scanning spectrum:   0%|          | 0/20 [00:00<?, ?it/s]"
      ]
     },
     "metadata": {},
     "output_type": "display_data"
    },
    {
     "data": {
      "application/vnd.jupyter.widget-view+json": {
       "model_id": "ef26b5c9697146d3aaa57bc63d70926e",
       "version_major": 2,
       "version_minor": 0
      },
      "text/plain": [
       "Scanning spectrum:   0%|          | 0/20 [00:00<?, ?it/s]"
      ]
     },
     "metadata": {},
     "output_type": "display_data"
    },
    {
     "data": {
      "application/vnd.jupyter.widget-view+json": {
       "model_id": "486db2f2bc7c4508bda4524f9da251a8",
       "version_major": 2,
       "version_minor": 0
      },
      "text/plain": [
       "Scanning spectrum:   0%|          | 0/20 [00:00<?, ?it/s]"
      ]
     },
     "metadata": {},
     "output_type": "display_data"
    },
    {
     "data": {
      "application/vnd.jupyter.widget-view+json": {
       "model_id": "610dbebce9bf438ba8d6ab5eb8bc0b11",
       "version_major": 2,
       "version_minor": 0
      },
      "text/plain": [
       "Scanning spectrum:   0%|          | 0/20 [00:00<?, ?it/s]"
      ]
     },
     "metadata": {},
     "output_type": "display_data"
    },
    {
     "data": {
      "application/vnd.jupyter.widget-view+json": {
       "model_id": "3fe153a093bc4b749fd098be4ac0871f",
       "version_major": 2,
       "version_minor": 0
      },
      "text/plain": [
       "Scanning spectrum:   0%|          | 0/20 [00:00<?, ?it/s]"
      ]
     },
     "metadata": {},
     "output_type": "display_data"
    },
    {
     "data": {
      "application/vnd.jupyter.widget-view+json": {
       "model_id": "82b955efbf254226987313efbdd8c8c3",
       "version_major": 2,
       "version_minor": 0
      },
      "text/plain": [
       "Scanning spectrum:   0%|          | 0/20 [00:00<?, ?it/s]"
      ]
     },
     "metadata": {},
     "output_type": "display_data"
    },
    {
     "data": {
      "application/vnd.jupyter.widget-view+json": {
       "model_id": "23e646a9f73b46c3a704df211c3a9e6f",
       "version_major": 2,
       "version_minor": 0
      },
      "text/plain": [
       "Scanning spectrum:   0%|          | 0/20 [00:00<?, ?it/s]"
      ]
     },
     "metadata": {},
     "output_type": "display_data"
    },
    {
     "data": {
      "application/vnd.jupyter.widget-view+json": {
       "model_id": "331f498ac6274c02a9b0a0dc5ad5cf6b",
       "version_major": 2,
       "version_minor": 0
      },
      "text/plain": [
       "Scanning spectrum:   0%|          | 0/20 [00:00<?, ?it/s]"
      ]
     },
     "metadata": {},
     "output_type": "display_data"
    },
    {
     "data": {
      "application/vnd.jupyter.widget-view+json": {
       "model_id": "8af32b178c364bcdbfe75e10df58c2ad",
       "version_major": 2,
       "version_minor": 0
      },
      "text/plain": [
       "Scanning spectrum:   0%|          | 0/20 [00:00<?, ?it/s]"
      ]
     },
     "metadata": {},
     "output_type": "display_data"
    },
    {
     "data": {
      "application/vnd.jupyter.widget-view+json": {
       "model_id": "94d750c544cb4a4f9ba1adc2a05867b9",
       "version_major": 2,
       "version_minor": 0
      },
      "text/plain": [
       "Scanning spectrum:   0%|          | 0/20 [00:00<?, ?it/s]"
      ]
     },
     "metadata": {},
     "output_type": "display_data"
    },
    {
     "data": {
      "application/vnd.jupyter.widget-view+json": {
       "model_id": "cf34e44035be4f26b4404ef3d9b163db",
       "version_major": 2,
       "version_minor": 0
      },
      "text/plain": [
       "Scanning spectrum:   0%|          | 0/20 [00:00<?, ?it/s]"
      ]
     },
     "metadata": {},
     "output_type": "display_data"
    },
    {
     "data": {
      "application/vnd.jupyter.widget-view+json": {
       "model_id": "b1d2d7939a5943cfae1e8577d62e859d",
       "version_major": 2,
       "version_minor": 0
      },
      "text/plain": [
       "Scanning spectrum:   0%|          | 0/20 [00:00<?, ?it/s]"
      ]
     },
     "metadata": {},
     "output_type": "display_data"
    },
    {
     "data": {
      "application/vnd.jupyter.widget-view+json": {
       "model_id": "91e265143eff4f99bf211c9d6a7edff7",
       "version_major": 2,
       "version_minor": 0
      },
      "text/plain": [
       "Scanning spectrum:   0%|          | 0/20 [00:00<?, ?it/s]"
      ]
     },
     "metadata": {},
     "output_type": "display_data"
    },
    {
     "data": {
      "application/vnd.jupyter.widget-view+json": {
       "model_id": "e95cd73351bb461e9ded366501f2d236",
       "version_major": 2,
       "version_minor": 0
      },
      "text/plain": [
       "Scanning spectrum:   0%|          | 0/20 [00:00<?, ?it/s]"
      ]
     },
     "metadata": {},
     "output_type": "display_data"
    },
    {
     "data": {
      "application/vnd.jupyter.widget-view+json": {
       "model_id": "5d9eae34276c498c960d6230c411dffc",
       "version_major": 2,
       "version_minor": 0
      },
      "text/plain": [
       "Scanning spectrum:   0%|          | 0/20 [00:00<?, ?it/s]"
      ]
     },
     "metadata": {},
     "output_type": "display_data"
    },
    {
     "data": {
      "application/vnd.jupyter.widget-view+json": {
       "model_id": "66df096a33f24008a222b8dd53ebfa83",
       "version_major": 2,
       "version_minor": 0
      },
      "text/plain": [
       "Scanning spectrum:   0%|          | 0/20 [00:00<?, ?it/s]"
      ]
     },
     "metadata": {},
     "output_type": "display_data"
    },
    {
     "data": {
      "application/vnd.jupyter.widget-view+json": {
       "model_id": "5992c7a86180457990b3d4343dc7c4cc",
       "version_major": 2,
       "version_minor": 0
      },
      "text/plain": [
       "Scanning spectrum:   0%|          | 0/20 [00:00<?, ?it/s]"
      ]
     },
     "metadata": {},
     "output_type": "display_data"
    },
    {
     "data": {
      "application/vnd.jupyter.widget-view+json": {
       "model_id": "e5edb89ecfd14ea081a1fd7666b8e5e3",
       "version_major": 2,
       "version_minor": 0
      },
      "text/plain": [
       "Scanning spectrum:   0%|          | 0/20 [00:00<?, ?it/s]"
      ]
     },
     "metadata": {},
     "output_type": "display_data"
    },
    {
     "data": {
      "application/vnd.jupyter.widget-view+json": {
       "model_id": "c3d3243c71d34c8786afa3a0392c3e7d",
       "version_major": 2,
       "version_minor": 0
      },
      "text/plain": [
       "Scanning spectrum:   0%|          | 0/20 [00:00<?, ?it/s]"
      ]
     },
     "metadata": {},
     "output_type": "display_data"
    },
    {
     "data": {
      "application/vnd.jupyter.widget-view+json": {
       "model_id": "8a77bd1d86db452289b196c1a0227765",
       "version_major": 2,
       "version_minor": 0
      },
      "text/plain": [
       "Scanning spectrum:   0%|          | 0/20 [00:00<?, ?it/s]"
      ]
     },
     "metadata": {},
     "output_type": "display_data"
    },
    {
     "data": {
      "application/vnd.jupyter.widget-view+json": {
       "model_id": "f62dd85384594a26a19ee07225ce6c36",
       "version_major": 2,
       "version_minor": 0
      },
      "text/plain": [
       "Scanning spectrum:   0%|          | 0/20 [00:00<?, ?it/s]"
      ]
     },
     "metadata": {},
     "output_type": "display_data"
    },
    {
     "data": {
      "application/vnd.jupyter.widget-view+json": {
       "model_id": "e08a71d85d024cb1b029129d749389ea",
       "version_major": 2,
       "version_minor": 0
      },
      "text/plain": [
       "Scanning spectrum:   0%|          | 0/20 [00:00<?, ?it/s]"
      ]
     },
     "metadata": {},
     "output_type": "display_data"
    },
    {
     "data": {
      "application/vnd.jupyter.widget-view+json": {
       "model_id": "fe40b63c9e524be7b74c5ee331cdcdf6",
       "version_major": 2,
       "version_minor": 0
      },
      "text/plain": [
       "Scanning spectrum:   0%|          | 0/20 [00:00<?, ?it/s]"
      ]
     },
     "metadata": {},
     "output_type": "display_data"
    },
    {
     "data": {
      "application/vnd.jupyter.widget-view+json": {
       "model_id": "a8b0cb8a145b472d8b0bc6ee14207465",
       "version_major": 2,
       "version_minor": 0
      },
      "text/plain": [
       "Scanning spectrum:   0%|          | 0/20 [00:00<?, ?it/s]"
      ]
     },
     "metadata": {},
     "output_type": "display_data"
    },
    {
     "data": {
      "application/vnd.jupyter.widget-view+json": {
       "model_id": "f6450bb6b87b4586a0c5419293a31320",
       "version_major": 2,
       "version_minor": 0
      },
      "text/plain": [
       "Scanning spectrum:   0%|          | 0/20 [00:00<?, ?it/s]"
      ]
     },
     "metadata": {},
     "output_type": "display_data"
    },
    {
     "data": {
      "application/vnd.jupyter.widget-view+json": {
       "model_id": "9c75869b0e2e4516b6092ff85c379f8d",
       "version_major": 2,
       "version_minor": 0
      },
      "text/plain": [
       "Scanning spectrum:   0%|          | 0/20 [00:00<?, ?it/s]"
      ]
     },
     "metadata": {},
     "output_type": "display_data"
    },
    {
     "data": {
      "application/vnd.jupyter.widget-view+json": {
       "model_id": "a513e671700b4d90b1e834cf81352d18",
       "version_major": 2,
       "version_minor": 0
      },
      "text/plain": [
       "Scanning spectrum:   0%|          | 0/20 [00:00<?, ?it/s]"
      ]
     },
     "metadata": {},
     "output_type": "display_data"
    },
    {
     "data": {
      "application/vnd.jupyter.widget-view+json": {
       "model_id": "771a9b63dbf444acb11beb676d84a660",
       "version_major": 2,
       "version_minor": 0
      },
      "text/plain": [
       "Scanning spectrum:   0%|          | 0/20 [00:00<?, ?it/s]"
      ]
     },
     "metadata": {},
     "output_type": "display_data"
    },
    {
     "data": {
      "application/vnd.jupyter.widget-view+json": {
       "model_id": "549421cb48f9456db2f7b7166fc5169b",
       "version_major": 2,
       "version_minor": 0
      },
      "text/plain": [
       "Scanning spectrum:   0%|          | 0/20 [00:00<?, ?it/s]"
      ]
     },
     "metadata": {},
     "output_type": "display_data"
    },
    {
     "data": {
      "application/vnd.jupyter.widget-view+json": {
       "model_id": "a3673eb7da2d47e688c37459cad09d9c",
       "version_major": 2,
       "version_minor": 0
      },
      "text/plain": [
       "Scanning spectrum:   0%|          | 0/20 [00:00<?, ?it/s]"
      ]
     },
     "metadata": {},
     "output_type": "display_data"
    },
    {
     "data": {
      "application/vnd.jupyter.widget-view+json": {
       "model_id": "0da126ac74564908affdf68619f5304b",
       "version_major": 2,
       "version_minor": 0
      },
      "text/plain": [
       "Scanning spectrum:   0%|          | 0/20 [00:00<?, ?it/s]"
      ]
     },
     "metadata": {},
     "output_type": "display_data"
    },
    {
     "data": {
      "application/vnd.jupyter.widget-view+json": {
       "model_id": "6eabffbe68dd464d933857f04f3000e5",
       "version_major": 2,
       "version_minor": 0
      },
      "text/plain": [
       "Scanning spectrum:   0%|          | 0/20 [00:00<?, ?it/s]"
      ]
     },
     "metadata": {},
     "output_type": "display_data"
    },
    {
     "data": {
      "application/vnd.jupyter.widget-view+json": {
       "model_id": "86e53d806f37469a8446f607ad263eb4",
       "version_major": 2,
       "version_minor": 0
      },
      "text/plain": [
       "Scanning spectrum:   0%|          | 0/20 [00:00<?, ?it/s]"
      ]
     },
     "metadata": {},
     "output_type": "display_data"
    },
    {
     "data": {
      "application/vnd.jupyter.widget-view+json": {
       "model_id": "5efebf1817704bd8a5add0583d6d59ae",
       "version_major": 2,
       "version_minor": 0
      },
      "text/plain": [
       "Scanning spectrum:   0%|          | 0/20 [00:00<?, ?it/s]"
      ]
     },
     "metadata": {},
     "output_type": "display_data"
    },
    {
     "data": {
      "application/vnd.jupyter.widget-view+json": {
       "model_id": "e62fcf4378f24fb29373bd3d1deebc7f",
       "version_major": 2,
       "version_minor": 0
      },
      "text/plain": [
       "Scanning spectrum:   0%|          | 0/20 [00:00<?, ?it/s]"
      ]
     },
     "metadata": {},
     "output_type": "display_data"
    },
    {
     "data": {
      "application/vnd.jupyter.widget-view+json": {
       "model_id": "d32d2c1dd61d4110a6584b6868fdfb40",
       "version_major": 2,
       "version_minor": 0
      },
      "text/plain": [
       "Scanning spectrum:   0%|          | 0/20 [00:00<?, ?it/s]"
      ]
     },
     "metadata": {},
     "output_type": "display_data"
    },
    {
     "data": {
      "application/vnd.jupyter.widget-view+json": {
       "model_id": "a3ffd44779594e90b6ec2b3aad8ca9eb",
       "version_major": 2,
       "version_minor": 0
      },
      "text/plain": [
       "Scanning spectrum:   0%|          | 0/20 [00:00<?, ?it/s]"
      ]
     },
     "metadata": {},
     "output_type": "display_data"
    },
    {
     "data": {
      "application/vnd.jupyter.widget-view+json": {
       "model_id": "5e0f64e994bd4003be2fa3ba7b1bbdeb",
       "version_major": 2,
       "version_minor": 0
      },
      "text/plain": [
       "Scanning spectrum:   0%|          | 0/20 [00:00<?, ?it/s]"
      ]
     },
     "metadata": {},
     "output_type": "display_data"
    },
    {
     "data": {
      "application/vnd.jupyter.widget-view+json": {
       "model_id": "b6ef3746ecaf4139a07e36176ae63613",
       "version_major": 2,
       "version_minor": 0
      },
      "text/plain": [
       "Scanning spectrum:   0%|          | 0/20 [00:00<?, ?it/s]"
      ]
     },
     "metadata": {},
     "output_type": "display_data"
    },
    {
     "data": {
      "application/vnd.jupyter.widget-view+json": {
       "model_id": "f563ce31d4564a3cba5051102c366a54",
       "version_major": 2,
       "version_minor": 0
      },
      "text/plain": [
       "Scanning spectrum:   0%|          | 0/20 [00:00<?, ?it/s]"
      ]
     },
     "metadata": {},
     "output_type": "display_data"
    },
    {
     "data": {
      "application/vnd.jupyter.widget-view+json": {
       "model_id": "db9073c871034c4d8c13eb2d4c320721",
       "version_major": 2,
       "version_minor": 0
      },
      "text/plain": [
       "Scanning spectrum:   0%|          | 0/20 [00:00<?, ?it/s]"
      ]
     },
     "metadata": {},
     "output_type": "display_data"
    },
    {
     "data": {
      "application/vnd.jupyter.widget-view+json": {
       "model_id": "e215614556504545b1223a5356fa0802",
       "version_major": 2,
       "version_minor": 0
      },
      "text/plain": [
       "Scanning spectrum:   0%|          | 0/20 [00:00<?, ?it/s]"
      ]
     },
     "metadata": {},
     "output_type": "display_data"
    },
    {
     "data": {
      "application/vnd.jupyter.widget-view+json": {
       "model_id": "799590816c094fb59adb3c6e81b9af2e",
       "version_major": 2,
       "version_minor": 0
      },
      "text/plain": [
       "Scanning spectrum:   0%|          | 0/20 [00:00<?, ?it/s]"
      ]
     },
     "metadata": {},
     "output_type": "display_data"
    },
    {
     "data": {
      "application/vnd.jupyter.widget-view+json": {
       "model_id": "e03201dc4a2e4eb086710ded05773dfe",
       "version_major": 2,
       "version_minor": 0
      },
      "text/plain": [
       "Scanning spectrum:   0%|          | 0/20 [00:00<?, ?it/s]"
      ]
     },
     "metadata": {},
     "output_type": "display_data"
    },
    {
     "data": {
      "application/vnd.jupyter.widget-view+json": {
       "model_id": "f514c626b0de4a75b8d58561e785aa2f",
       "version_major": 2,
       "version_minor": 0
      },
      "text/plain": [
       "Scanning spectrum:   0%|          | 0/20 [00:00<?, ?it/s]"
      ]
     },
     "metadata": {},
     "output_type": "display_data"
    },
    {
     "data": {
      "application/vnd.jupyter.widget-view+json": {
       "model_id": "26b2c31596df453ba2e36bd897905668",
       "version_major": 2,
       "version_minor": 0
      },
      "text/plain": [
       "Scanning spectrum:   0%|          | 0/20 [00:00<?, ?it/s]"
      ]
     },
     "metadata": {},
     "output_type": "display_data"
    },
    {
     "data": {
      "application/vnd.jupyter.widget-view+json": {
       "model_id": "671a05a348914d2db294f5ccc849e5be",
       "version_major": 2,
       "version_minor": 0
      },
      "text/plain": [
       "Scanning spectrum:   0%|          | 0/20 [00:00<?, ?it/s]"
      ]
     },
     "metadata": {},
     "output_type": "display_data"
    },
    {
     "data": {
      "application/vnd.jupyter.widget-view+json": {
       "model_id": "d4ff7f442acf4543a7ac6ccc80b51dbd",
       "version_major": 2,
       "version_minor": 0
      },
      "text/plain": [
       "Scanning spectrum:   0%|          | 0/20 [00:00<?, ?it/s]"
      ]
     },
     "metadata": {},
     "output_type": "display_data"
    },
    {
     "data": {
      "application/vnd.jupyter.widget-view+json": {
       "model_id": "efa6c07083e14c28b1718ae90df99968",
       "version_major": 2,
       "version_minor": 0
      },
      "text/plain": [
       "Scanning spectrum:   0%|          | 0/20 [00:00<?, ?it/s]"
      ]
     },
     "metadata": {},
     "output_type": "display_data"
    },
    {
     "data": {
      "application/vnd.jupyter.widget-view+json": {
       "model_id": "5ad7577c76c54f72a1470a4809628838",
       "version_major": 2,
       "version_minor": 0
      },
      "text/plain": [
       "Scanning spectrum:   0%|          | 0/20 [00:00<?, ?it/s]"
      ]
     },
     "metadata": {},
     "output_type": "display_data"
    },
    {
     "data": {
      "application/vnd.jupyter.widget-view+json": {
       "model_id": "7f7ef94a0d224f9cabe32386a5a45939",
       "version_major": 2,
       "version_minor": 0
      },
      "text/plain": [
       "Scanning spectrum:   0%|          | 0/20 [00:00<?, ?it/s]"
      ]
     },
     "metadata": {},
     "output_type": "display_data"
    },
    {
     "data": {
      "application/vnd.jupyter.widget-view+json": {
       "model_id": "65084f76044848bead9fdc696bbaf439",
       "version_major": 2,
       "version_minor": 0
      },
      "text/plain": [
       "Scanning spectrum:   0%|          | 0/20 [00:00<?, ?it/s]"
      ]
     },
     "metadata": {},
     "output_type": "display_data"
    },
    {
     "data": {
      "application/vnd.jupyter.widget-view+json": {
       "model_id": "4a3f00cdbc8641f690bce9289afc821a",
       "version_major": 2,
       "version_minor": 0
      },
      "text/plain": [
       "Scanning spectrum:   0%|          | 0/20 [00:00<?, ?it/s]"
      ]
     },
     "metadata": {},
     "output_type": "display_data"
    },
    {
     "data": {
      "application/vnd.jupyter.widget-view+json": {
       "model_id": "3800947868ed465d819ddcb5dbebedbb",
       "version_major": 2,
       "version_minor": 0
      },
      "text/plain": [
       "Scanning spectrum:   0%|          | 0/20 [00:00<?, ?it/s]"
      ]
     },
     "metadata": {},
     "output_type": "display_data"
    },
    {
     "data": {
      "application/vnd.jupyter.widget-view+json": {
       "model_id": "1bb97ac99e69481dbdfc521bf7091d81",
       "version_major": 2,
       "version_minor": 0
      },
      "text/plain": [
       "Scanning spectrum:   0%|          | 0/20 [00:00<?, ?it/s]"
      ]
     },
     "metadata": {},
     "output_type": "display_data"
    },
    {
     "data": {
      "application/vnd.jupyter.widget-view+json": {
       "model_id": "098dd2c489a14f89bf5b5ced88f86f8a",
       "version_major": 2,
       "version_minor": 0
      },
      "text/plain": [
       "Scanning spectrum:   0%|          | 0/20 [00:00<?, ?it/s]"
      ]
     },
     "metadata": {},
     "output_type": "display_data"
    },
    {
     "data": {
      "application/vnd.jupyter.widget-view+json": {
       "model_id": "476fc13ef07e402d958042e8f989c58f",
       "version_major": 2,
       "version_minor": 0
      },
      "text/plain": [
       "Scanning spectrum:   0%|          | 0/20 [00:00<?, ?it/s]"
      ]
     },
     "metadata": {},
     "output_type": "display_data"
    },
    {
     "data": {
      "application/vnd.jupyter.widget-view+json": {
       "model_id": "825966d4a7e04beb80e4ec8ba893852e",
       "version_major": 2,
       "version_minor": 0
      },
      "text/plain": [
       "Scanning spectrum:   0%|          | 0/20 [00:00<?, ?it/s]"
      ]
     },
     "metadata": {},
     "output_type": "display_data"
    },
    {
     "data": {
      "application/vnd.jupyter.widget-view+json": {
       "model_id": "c98eb891b14f4acab817494bc8274018",
       "version_major": 2,
       "version_minor": 0
      },
      "text/plain": [
       "Scanning spectrum:   0%|          | 0/20 [00:00<?, ?it/s]"
      ]
     },
     "metadata": {},
     "output_type": "display_data"
    },
    {
     "data": {
      "application/vnd.jupyter.widget-view+json": {
       "model_id": "f087de1070554ff497b6516073beaeb4",
       "version_major": 2,
       "version_minor": 0
      },
      "text/plain": [
       "Scanning spectrum:   0%|          | 0/20 [00:00<?, ?it/s]"
      ]
     },
     "metadata": {},
     "output_type": "display_data"
    },
    {
     "data": {
      "application/vnd.jupyter.widget-view+json": {
       "model_id": "31ef8446201e49efbade382f826f759f",
       "version_major": 2,
       "version_minor": 0
      },
      "text/plain": [
       "Scanning spectrum:   0%|          | 0/20 [00:00<?, ?it/s]"
      ]
     },
     "metadata": {},
     "output_type": "display_data"
    },
    {
     "data": {
      "application/vnd.jupyter.widget-view+json": {
       "model_id": "86674e83951a449a8747bfe880a3afb1",
       "version_major": 2,
       "version_minor": 0
      },
      "text/plain": [
       "Scanning spectrum:   0%|          | 0/20 [00:00<?, ?it/s]"
      ]
     },
     "metadata": {},
     "output_type": "display_data"
    },
    {
     "data": {
      "application/vnd.jupyter.widget-view+json": {
       "model_id": "bdbcb3b34fbe4f5bb457a8f6aa2e1fb7",
       "version_major": 2,
       "version_minor": 0
      },
      "text/plain": [
       "Scanning spectrum:   0%|          | 0/20 [00:00<?, ?it/s]"
      ]
     },
     "metadata": {},
     "output_type": "display_data"
    },
    {
     "data": {
      "application/vnd.jupyter.widget-view+json": {
       "model_id": "c04ae61389a04cc881f63262a10846b2",
       "version_major": 2,
       "version_minor": 0
      },
      "text/plain": [
       "Scanning spectrum:   0%|          | 0/20 [00:00<?, ?it/s]"
      ]
     },
     "metadata": {},
     "output_type": "display_data"
    },
    {
     "data": {
      "application/vnd.jupyter.widget-view+json": {
       "model_id": "6d9d743f76f74b6ebc05d132970f0565",
       "version_major": 2,
       "version_minor": 0
      },
      "text/plain": [
       "Scanning spectrum:   0%|          | 0/20 [00:00<?, ?it/s]"
      ]
     },
     "metadata": {},
     "output_type": "display_data"
    },
    {
     "data": {
      "application/vnd.jupyter.widget-view+json": {
       "model_id": "63d0bd69dd294a8a9acf8580df0f0b54",
       "version_major": 2,
       "version_minor": 0
      },
      "text/plain": [
       "Scanning spectrum:   0%|          | 0/20 [00:00<?, ?it/s]"
      ]
     },
     "metadata": {},
     "output_type": "display_data"
    },
    {
     "data": {
      "application/vnd.jupyter.widget-view+json": {
       "model_id": "33965f00300044dfbc1453144a69c6da",
       "version_major": 2,
       "version_minor": 0
      },
      "text/plain": [
       "Scanning spectrum:   0%|          | 0/20 [00:00<?, ?it/s]"
      ]
     },
     "metadata": {},
     "output_type": "display_data"
    },
    {
     "data": {
      "application/vnd.jupyter.widget-view+json": {
       "model_id": "6486d6568fcc44efa1b2acb18556bf3e",
       "version_major": 2,
       "version_minor": 0
      },
      "text/plain": [
       "Scanning spectrum:   0%|          | 0/20 [00:00<?, ?it/s]"
      ]
     },
     "metadata": {},
     "output_type": "display_data"
    },
    {
     "data": {
      "application/vnd.jupyter.widget-view+json": {
       "model_id": "8fa1f278f0a843918526b379e0a8d5a2",
       "version_major": 2,
       "version_minor": 0
      },
      "text/plain": [
       "Scanning spectrum:   0%|          | 0/20 [00:00<?, ?it/s]"
      ]
     },
     "metadata": {},
     "output_type": "display_data"
    },
    {
     "data": {
      "application/vnd.jupyter.widget-view+json": {
       "model_id": "e20e2738f02c48579bc4b496c2e4632b",
       "version_major": 2,
       "version_minor": 0
      },
      "text/plain": [
       "Scanning spectrum:   0%|          | 0/20 [00:00<?, ?it/s]"
      ]
     },
     "metadata": {},
     "output_type": "display_data"
    },
    {
     "data": {
      "application/vnd.jupyter.widget-view+json": {
       "model_id": "2d6e839ed5314bef94acd00af1b5dd4e",
       "version_major": 2,
       "version_minor": 0
      },
      "text/plain": [
       "Scanning spectrum:   0%|          | 0/20 [00:00<?, ?it/s]"
      ]
     },
     "metadata": {},
     "output_type": "display_data"
    },
    {
     "data": {
      "application/vnd.jupyter.widget-view+json": {
       "model_id": "f85f540668f1451fbcee962e250f2473",
       "version_major": 2,
       "version_minor": 0
      },
      "text/plain": [
       "Scanning spectrum:   0%|          | 0/20 [00:00<?, ?it/s]"
      ]
     },
     "metadata": {},
     "output_type": "display_data"
    },
    {
     "data": {
      "application/vnd.jupyter.widget-view+json": {
       "model_id": "62bfd8b0ec6c4802935e8ef5c86deebb",
       "version_major": 2,
       "version_minor": 0
      },
      "text/plain": [
       "Scanning spectrum:   0%|          | 0/20 [00:00<?, ?it/s]"
      ]
     },
     "metadata": {},
     "output_type": "display_data"
    },
    {
     "data": {
      "application/vnd.jupyter.widget-view+json": {
       "model_id": "f1ef390908d543e6923d1ee3398a8835",
       "version_major": 2,
       "version_minor": 0
      },
      "text/plain": [
       "Scanning spectrum:   0%|          | 0/20 [00:00<?, ?it/s]"
      ]
     },
     "metadata": {},
     "output_type": "display_data"
    },
    {
     "data": {
      "application/vnd.jupyter.widget-view+json": {
       "model_id": "f8f1040b2a3b4a818b90fe557f2a0efb",
       "version_major": 2,
       "version_minor": 0
      },
      "text/plain": [
       "Scanning spectrum:   0%|          | 0/20 [00:00<?, ?it/s]"
      ]
     },
     "metadata": {},
     "output_type": "display_data"
    },
    {
     "data": {
      "application/vnd.jupyter.widget-view+json": {
       "model_id": "6b27ae3799ee46969adced2f16651c67",
       "version_major": 2,
       "version_minor": 0
      },
      "text/plain": [
       "Scanning spectrum:   0%|          | 0/20 [00:00<?, ?it/s]"
      ]
     },
     "metadata": {},
     "output_type": "display_data"
    },
    {
     "data": {
      "application/vnd.jupyter.widget-view+json": {
       "model_id": "f920f37447f04d379f445438414a3675",
       "version_major": 2,
       "version_minor": 0
      },
      "text/plain": [
       "Scanning spectrum:   0%|          | 0/20 [00:00<?, ?it/s]"
      ]
     },
     "metadata": {},
     "output_type": "display_data"
    },
    {
     "data": {
      "application/vnd.jupyter.widget-view+json": {
       "model_id": "a461c3339ef94ffca0166de1bad75c8d",
       "version_major": 2,
       "version_minor": 0
      },
      "text/plain": [
       "Scanning spectrum:   0%|          | 0/20 [00:00<?, ?it/s]"
      ]
     },
     "metadata": {},
     "output_type": "display_data"
    },
    {
     "data": {
      "application/vnd.jupyter.widget-view+json": {
       "model_id": "29b062f943614ac7880f78e86e71f7c2",
       "version_major": 2,
       "version_minor": 0
      },
      "text/plain": [
       "Scanning spectrum:   0%|          | 0/20 [00:00<?, ?it/s]"
      ]
     },
     "metadata": {},
     "output_type": "display_data"
    },
    {
     "data": {
      "application/vnd.jupyter.widget-view+json": {
       "model_id": "78a61aaa6d294e26ac3d60a1c5c1ecc0",
       "version_major": 2,
       "version_minor": 0
      },
      "text/plain": [
       "Scanning spectrum:   0%|          | 0/20 [00:00<?, ?it/s]"
      ]
     },
     "metadata": {},
     "output_type": "display_data"
    },
    {
     "data": {
      "application/vnd.jupyter.widget-view+json": {
       "model_id": "0e3f0273e2bd4cc1baf98a8fdfa62b99",
       "version_major": 2,
       "version_minor": 0
      },
      "text/plain": [
       "Scanning spectrum:   0%|          | 0/20 [00:00<?, ?it/s]"
      ]
     },
     "metadata": {},
     "output_type": "display_data"
    },
    {
     "data": {
      "application/vnd.jupyter.widget-view+json": {
       "model_id": "83bf03fc1aec4d32887cbe5c928a5cc9",
       "version_major": 2,
       "version_minor": 0
      },
      "text/plain": [
       "Scanning spectrum:   0%|          | 0/20 [00:00<?, ?it/s]"
      ]
     },
     "metadata": {},
     "output_type": "display_data"
    },
    {
     "data": {
      "application/vnd.jupyter.widget-view+json": {
       "model_id": "89cea098525848c4aaa0bf67a58a6b67",
       "version_major": 2,
       "version_minor": 0
      },
      "text/plain": [
       "Scanning spectrum:   0%|          | 0/20 [00:00<?, ?it/s]"
      ]
     },
     "metadata": {},
     "output_type": "display_data"
    },
    {
     "data": {
      "application/vnd.jupyter.widget-view+json": {
       "model_id": "b9f7d5d32fbe49ad8a5f2640040422e3",
       "version_major": 2,
       "version_minor": 0
      },
      "text/plain": [
       "Scanning spectrum:   0%|          | 0/20 [00:00<?, ?it/s]"
      ]
     },
     "metadata": {},
     "output_type": "display_data"
    },
    {
     "data": {
      "application/vnd.jupyter.widget-view+json": {
       "model_id": "ee387431ccf044b0929d3b10147b857b",
       "version_major": 2,
       "version_minor": 0
      },
      "text/plain": [
       "Scanning spectrum:   0%|          | 0/20 [00:00<?, ?it/s]"
      ]
     },
     "metadata": {},
     "output_type": "display_data"
    },
    {
     "data": {
      "application/vnd.jupyter.widget-view+json": {
       "model_id": "d3ec73400d0745b6a25e0789b2b3e117",
       "version_major": 2,
       "version_minor": 0
      },
      "text/plain": [
       "Scanning spectrum:   0%|          | 0/20 [00:00<?, ?it/s]"
      ]
     },
     "metadata": {},
     "output_type": "display_data"
    },
    {
     "data": {
      "application/vnd.jupyter.widget-view+json": {
       "model_id": "9fe140571b9041f2a12692c4d4a214ae",
       "version_major": 2,
       "version_minor": 0
      },
      "text/plain": [
       "Scanning spectrum:   0%|          | 0/20 [00:00<?, ?it/s]"
      ]
     },
     "metadata": {},
     "output_type": "display_data"
    },
    {
     "data": {
      "application/vnd.jupyter.widget-view+json": {
       "model_id": "cc76ad9ff15644d5b64ec7907f5baa0c",
       "version_major": 2,
       "version_minor": 0
      },
      "text/plain": [
       "Scanning spectrum:   0%|          | 0/20 [00:00<?, ?it/s]"
      ]
     },
     "metadata": {},
     "output_type": "display_data"
    },
    {
     "data": {
      "application/vnd.jupyter.widget-view+json": {
       "model_id": "092023b7bf4c472b898d3e0438107339",
       "version_major": 2,
       "version_minor": 0
      },
      "text/plain": [
       "Scanning spectrum:   0%|          | 0/20 [00:00<?, ?it/s]"
      ]
     },
     "metadata": {},
     "output_type": "display_data"
    },
    {
     "data": {
      "application/vnd.jupyter.widget-view+json": {
       "model_id": "0d2b6acb5c9a496fa71ff8a7b48dcd64",
       "version_major": 2,
       "version_minor": 0
      },
      "text/plain": [
       "Scanning spectrum:   0%|          | 0/20 [00:00<?, ?it/s]"
      ]
     },
     "metadata": {},
     "output_type": "display_data"
    },
    {
     "data": {
      "application/vnd.jupyter.widget-view+json": {
       "model_id": "cea7301d28ac46928da1332cebc0a39c",
       "version_major": 2,
       "version_minor": 0
      },
      "text/plain": [
       "Scanning spectrum:   0%|          | 0/20 [00:00<?, ?it/s]"
      ]
     },
     "metadata": {},
     "output_type": "display_data"
    },
    {
     "data": {
      "application/vnd.jupyter.widget-view+json": {
       "model_id": "6afbd557726943138ad601dd12008af0",
       "version_major": 2,
       "version_minor": 0
      },
      "text/plain": [
       "Scanning spectrum:   0%|          | 0/20 [00:00<?, ?it/s]"
      ]
     },
     "metadata": {},
     "output_type": "display_data"
    },
    {
     "data": {
      "application/vnd.jupyter.widget-view+json": {
       "model_id": "c1b1bb25eeda41c29c0e83a53848cfbe",
       "version_major": 2,
       "version_minor": 0
      },
      "text/plain": [
       "Scanning spectrum:   0%|          | 0/20 [00:00<?, ?it/s]"
      ]
     },
     "metadata": {},
     "output_type": "display_data"
    },
    {
     "data": {
      "application/vnd.jupyter.widget-view+json": {
       "model_id": "0aba9db3a3d9464c8493e2dfe529b556",
       "version_major": 2,
       "version_minor": 0
      },
      "text/plain": [
       "Scanning spectrum:   0%|          | 0/20 [00:00<?, ?it/s]"
      ]
     },
     "metadata": {},
     "output_type": "display_data"
    },
    {
     "data": {
      "application/vnd.jupyter.widget-view+json": {
       "model_id": "5b4d8a9d5fac4240b9f3ac69f6572a96",
       "version_major": 2,
       "version_minor": 0
      },
      "text/plain": [
       "Scanning spectrum:   0%|          | 0/20 [00:00<?, ?it/s]"
      ]
     },
     "metadata": {},
     "output_type": "display_data"
    },
    {
     "data": {
      "application/vnd.jupyter.widget-view+json": {
       "model_id": "cc1e4f9137184b15a8658371c592798b",
       "version_major": 2,
       "version_minor": 0
      },
      "text/plain": [
       "Scanning spectrum:   0%|          | 0/20 [00:00<?, ?it/s]"
      ]
     },
     "metadata": {},
     "output_type": "display_data"
    },
    {
     "data": {
      "application/vnd.jupyter.widget-view+json": {
       "model_id": "1d32bd38d35b47a0982d6ed8aca03c70",
       "version_major": 2,
       "version_minor": 0
      },
      "text/plain": [
       "Scanning spectrum:   0%|          | 0/20 [00:00<?, ?it/s]"
      ]
     },
     "metadata": {},
     "output_type": "display_data"
    },
    {
     "data": {
      "application/vnd.jupyter.widget-view+json": {
       "model_id": "5d2a015b47ee48eaa484fb0fccf3cf9b",
       "version_major": 2,
       "version_minor": 0
      },
      "text/plain": [
       "Scanning spectrum:   0%|          | 0/20 [00:00<?, ?it/s]"
      ]
     },
     "metadata": {},
     "output_type": "display_data"
    },
    {
     "data": {
      "application/vnd.jupyter.widget-view+json": {
       "model_id": "dee23c188e9948999e7d1649d41c6979",
       "version_major": 2,
       "version_minor": 0
      },
      "text/plain": [
       "Scanning spectrum:   0%|          | 0/20 [00:00<?, ?it/s]"
      ]
     },
     "metadata": {},
     "output_type": "display_data"
    },
    {
     "data": {
      "application/vnd.jupyter.widget-view+json": {
       "model_id": "9f599c86d68545e795e147405b3cc291",
       "version_major": 2,
       "version_minor": 0
      },
      "text/plain": [
       "Scanning spectrum:   0%|          | 0/20 [00:00<?, ?it/s]"
      ]
     },
     "metadata": {},
     "output_type": "display_data"
    },
    {
     "data": {
      "application/vnd.jupyter.widget-view+json": {
       "model_id": "71ac64685b8e426fb370632715db3bf6",
       "version_major": 2,
       "version_minor": 0
      },
      "text/plain": [
       "Scanning spectrum:   0%|          | 0/20 [00:00<?, ?it/s]"
      ]
     },
     "metadata": {},
     "output_type": "display_data"
    },
    {
     "data": {
      "application/vnd.jupyter.widget-view+json": {
       "model_id": "51ee10074b1b45049eb9d82350dea88b",
       "version_major": 2,
       "version_minor": 0
      },
      "text/plain": [
       "Scanning spectrum:   0%|          | 0/20 [00:00<?, ?it/s]"
      ]
     },
     "metadata": {},
     "output_type": "display_data"
    },
    {
     "data": {
      "application/vnd.jupyter.widget-view+json": {
       "model_id": "dd4b0f814d5f456f80379840240aa16d",
       "version_major": 2,
       "version_minor": 0
      },
      "text/plain": [
       "Scanning spectrum:   0%|          | 0/20 [00:00<?, ?it/s]"
      ]
     },
     "metadata": {},
     "output_type": "display_data"
    },
    {
     "data": {
      "application/vnd.jupyter.widget-view+json": {
       "model_id": "3bfbc47c7ea740378e5de4ce30a68b05",
       "version_major": 2,
       "version_minor": 0
      },
      "text/plain": [
       "Scanning spectrum:   0%|          | 0/20 [00:00<?, ?it/s]"
      ]
     },
     "metadata": {},
     "output_type": "display_data"
    },
    {
     "data": {
      "application/vnd.jupyter.widget-view+json": {
       "model_id": "b21a097e48a64a16b6b5fd29b98c4136",
       "version_major": 2,
       "version_minor": 0
      },
      "text/plain": [
       "Scanning spectrum:   0%|          | 0/20 [00:00<?, ?it/s]"
      ]
     },
     "metadata": {},
     "output_type": "display_data"
    },
    {
     "data": {
      "application/vnd.jupyter.widget-view+json": {
       "model_id": "3d8534f1271e442fb92e8ccded65b8e8",
       "version_major": 2,
       "version_minor": 0
      },
      "text/plain": [
       "Scanning spectrum:   0%|          | 0/20 [00:00<?, ?it/s]"
      ]
     },
     "metadata": {},
     "output_type": "display_data"
    },
    {
     "data": {
      "application/vnd.jupyter.widget-view+json": {
       "model_id": "87d38f179281416d8bb73e9ddf143361",
       "version_major": 2,
       "version_minor": 0
      },
      "text/plain": [
       "Scanning spectrum:   0%|          | 0/20 [00:00<?, ?it/s]"
      ]
     },
     "metadata": {},
     "output_type": "display_data"
    },
    {
     "data": {
      "application/vnd.jupyter.widget-view+json": {
       "model_id": "00e0d5f9a1e94e29b0138259f62aecff",
       "version_major": 2,
       "version_minor": 0
      },
      "text/plain": [
       "Scanning spectrum:   0%|          | 0/20 [00:00<?, ?it/s]"
      ]
     },
     "metadata": {},
     "output_type": "display_data"
    },
    {
     "data": {
      "application/vnd.jupyter.widget-view+json": {
       "model_id": "c21681e4a0e04cb7ad899674bed241c4",
       "version_major": 2,
       "version_minor": 0
      },
      "text/plain": [
       "Scanning spectrum:   0%|          | 0/20 [00:00<?, ?it/s]"
      ]
     },
     "metadata": {},
     "output_type": "display_data"
    },
    {
     "data": {
      "application/vnd.jupyter.widget-view+json": {
       "model_id": "62a9c46a81b5484e890900fb3caca6ab",
       "version_major": 2,
       "version_minor": 0
      },
      "text/plain": [
       "Scanning spectrum:   0%|          | 0/20 [00:00<?, ?it/s]"
      ]
     },
     "metadata": {},
     "output_type": "display_data"
    },
    {
     "data": {
      "application/vnd.jupyter.widget-view+json": {
       "model_id": "36e49b3c570b42be9b642004967c495c",
       "version_major": 2,
       "version_minor": 0
      },
      "text/plain": [
       "Scanning spectrum:   0%|          | 0/20 [00:00<?, ?it/s]"
      ]
     },
     "metadata": {},
     "output_type": "display_data"
    },
    {
     "data": {
      "application/vnd.jupyter.widget-view+json": {
       "model_id": "6129176d025645e98ea0848a197e57e7",
       "version_major": 2,
       "version_minor": 0
      },
      "text/plain": [
       "Scanning spectrum:   0%|          | 0/20 [00:00<?, ?it/s]"
      ]
     },
     "metadata": {},
     "output_type": "display_data"
    },
    {
     "data": {
      "application/vnd.jupyter.widget-view+json": {
       "model_id": "99468ae1bb8c4937ada350fdf11124fd",
       "version_major": 2,
       "version_minor": 0
      },
      "text/plain": [
       "Scanning spectrum:   0%|          | 0/20 [00:00<?, ?it/s]"
      ]
     },
     "metadata": {},
     "output_type": "display_data"
    },
    {
     "data": {
      "application/vnd.jupyter.widget-view+json": {
       "model_id": "0db27483f757433795a376f2a1a38080",
       "version_major": 2,
       "version_minor": 0
      },
      "text/plain": [
       "Scanning spectrum:   0%|          | 0/20 [00:00<?, ?it/s]"
      ]
     },
     "metadata": {},
     "output_type": "display_data"
    },
    {
     "data": {
      "application/vnd.jupyter.widget-view+json": {
       "model_id": "bee0524aba754ab6aefb23433df2cba7",
       "version_major": 2,
       "version_minor": 0
      },
      "text/plain": [
       "Scanning spectrum:   0%|          | 0/20 [00:00<?, ?it/s]"
      ]
     },
     "metadata": {},
     "output_type": "display_data"
    },
    {
     "data": {
      "application/vnd.jupyter.widget-view+json": {
       "model_id": "d8eae6fbcee04b1581629a3e63621883",
       "version_major": 2,
       "version_minor": 0
      },
      "text/plain": [
       "Scanning spectrum:   0%|          | 0/20 [00:00<?, ?it/s]"
      ]
     },
     "metadata": {},
     "output_type": "display_data"
    },
    {
     "data": {
      "application/vnd.jupyter.widget-view+json": {
       "model_id": "36c6ef365d8843f6a0513593cc646473",
       "version_major": 2,
       "version_minor": 0
      },
      "text/plain": [
       "Scanning spectrum:   0%|          | 0/20 [00:00<?, ?it/s]"
      ]
     },
     "metadata": {},
     "output_type": "display_data"
    },
    {
     "data": {
      "application/vnd.jupyter.widget-view+json": {
       "model_id": "48a46370447f44da948277b2db045bc8",
       "version_major": 2,
       "version_minor": 0
      },
      "text/plain": [
       "Scanning spectrum:   0%|          | 0/20 [00:00<?, ?it/s]"
      ]
     },
     "metadata": {},
     "output_type": "display_data"
    },
    {
     "data": {
      "application/vnd.jupyter.widget-view+json": {
       "model_id": "d7c53e2130a6421bb8eee8c8844491c1",
       "version_major": 2,
       "version_minor": 0
      },
      "text/plain": [
       "Scanning spectrum:   0%|          | 0/20 [00:00<?, ?it/s]"
      ]
     },
     "metadata": {},
     "output_type": "display_data"
    },
    {
     "data": {
      "application/vnd.jupyter.widget-view+json": {
       "model_id": "d9f7b6c43ee745a5925213c24d610075",
       "version_major": 2,
       "version_minor": 0
      },
      "text/plain": [
       "Scanning spectrum:   0%|          | 0/20 [00:00<?, ?it/s]"
      ]
     },
     "metadata": {},
     "output_type": "display_data"
    },
    {
     "data": {
      "application/vnd.jupyter.widget-view+json": {
       "model_id": "b5b08ed6f7f5461298ba4bc5ffee1b66",
       "version_major": 2,
       "version_minor": 0
      },
      "text/plain": [
       "Scanning spectrum:   0%|          | 0/20 [00:00<?, ?it/s]"
      ]
     },
     "metadata": {},
     "output_type": "display_data"
    },
    {
     "data": {
      "application/vnd.jupyter.widget-view+json": {
       "model_id": "8df1686e2c264e7da097cb62f5ad5c75",
       "version_major": 2,
       "version_minor": 0
      },
      "text/plain": [
       "Scanning spectrum:   0%|          | 0/20 [00:00<?, ?it/s]"
      ]
     },
     "metadata": {},
     "output_type": "display_data"
    },
    {
     "data": {
      "application/vnd.jupyter.widget-view+json": {
       "model_id": "a50c78fd53934fc9803956eecce6b338",
       "version_major": 2,
       "version_minor": 0
      },
      "text/plain": [
       "Scanning spectrum:   0%|          | 0/20 [00:00<?, ?it/s]"
      ]
     },
     "metadata": {},
     "output_type": "display_data"
    },
    {
     "data": {
      "application/vnd.jupyter.widget-view+json": {
       "model_id": "0b48c79d71f849419a6d9b0cc2746736",
       "version_major": 2,
       "version_minor": 0
      },
      "text/plain": [
       "Scanning spectrum:   0%|          | 0/20 [00:00<?, ?it/s]"
      ]
     },
     "metadata": {},
     "output_type": "display_data"
    },
    {
     "data": {
      "application/vnd.jupyter.widget-view+json": {
       "model_id": "78b703be69944489b82b78798618de8f",
       "version_major": 2,
       "version_minor": 0
      },
      "text/plain": [
       "Scanning spectrum:   0%|          | 0/20 [00:00<?, ?it/s]"
      ]
     },
     "metadata": {},
     "output_type": "display_data"
    },
    {
     "data": {
      "application/vnd.jupyter.widget-view+json": {
       "model_id": "167101e90cc1427280153759eddff820",
       "version_major": 2,
       "version_minor": 0
      },
      "text/plain": [
       "Scanning spectrum:   0%|          | 0/20 [00:00<?, ?it/s]"
      ]
     },
     "metadata": {},
     "output_type": "display_data"
    },
    {
     "data": {
      "application/vnd.jupyter.widget-view+json": {
       "model_id": "9d6543c47f2b4292a93d0fe74bb3fb27",
       "version_major": 2,
       "version_minor": 0
      },
      "text/plain": [
       "Scanning spectrum:   0%|          | 0/20 [00:00<?, ?it/s]"
      ]
     },
     "metadata": {},
     "output_type": "display_data"
    },
    {
     "data": {
      "application/vnd.jupyter.widget-view+json": {
       "model_id": "1aef68e00e0b4c57bf97a4ac5de0c173",
       "version_major": 2,
       "version_minor": 0
      },
      "text/plain": [
       "Scanning spectrum:   0%|          | 0/20 [00:00<?, ?it/s]"
      ]
     },
     "metadata": {},
     "output_type": "display_data"
    },
    {
     "data": {
      "application/vnd.jupyter.widget-view+json": {
       "model_id": "b1d4f73ad36b4495a9aba47768b4cccd",
       "version_major": 2,
       "version_minor": 0
      },
      "text/plain": [
       "Scanning spectrum:   0%|          | 0/20 [00:00<?, ?it/s]"
      ]
     },
     "metadata": {},
     "output_type": "display_data"
    },
    {
     "data": {
      "application/vnd.jupyter.widget-view+json": {
       "model_id": "751a139f78ce4c3f9b15897787994cf8",
       "version_major": 2,
       "version_minor": 0
      },
      "text/plain": [
       "Scanning spectrum:   0%|          | 0/20 [00:00<?, ?it/s]"
      ]
     },
     "metadata": {},
     "output_type": "display_data"
    },
    {
     "data": {
      "application/vnd.jupyter.widget-view+json": {
       "model_id": "fafda3f6e6894c3fb0f7acfb8d534533",
       "version_major": 2,
       "version_minor": 0
      },
      "text/plain": [
       "Scanning spectrum:   0%|          | 0/20 [00:00<?, ?it/s]"
      ]
     },
     "metadata": {},
     "output_type": "display_data"
    },
    {
     "data": {
      "application/vnd.jupyter.widget-view+json": {
       "model_id": "c239b62cbb69441b8bd0394f139203c0",
       "version_major": 2,
       "version_minor": 0
      },
      "text/plain": [
       "Scanning spectrum:   0%|          | 0/20 [00:00<?, ?it/s]"
      ]
     },
     "metadata": {},
     "output_type": "display_data"
    },
    {
     "data": {
      "application/vnd.jupyter.widget-view+json": {
       "model_id": "8b6311ae1a6b411cb869b53a983dc3fa",
       "version_major": 2,
       "version_minor": 0
      },
      "text/plain": [
       "Scanning spectrum:   0%|          | 0/20 [00:00<?, ?it/s]"
      ]
     },
     "metadata": {},
     "output_type": "display_data"
    },
    {
     "data": {
      "application/vnd.jupyter.widget-view+json": {
       "model_id": "e3844fe2cb754e669310e22e654e0165",
       "version_major": 2,
       "version_minor": 0
      },
      "text/plain": [
       "Scanning spectrum:   0%|          | 0/20 [00:00<?, ?it/s]"
      ]
     },
     "metadata": {},
     "output_type": "display_data"
    },
    {
     "data": {
      "application/vnd.jupyter.widget-view+json": {
       "model_id": "45dfaa0351174982873445b628e89a68",
       "version_major": 2,
       "version_minor": 0
      },
      "text/plain": [
       "Scanning spectrum:   0%|          | 0/20 [00:00<?, ?it/s]"
      ]
     },
     "metadata": {},
     "output_type": "display_data"
    },
    {
     "data": {
      "application/vnd.jupyter.widget-view+json": {
       "model_id": "3157e02bc0b0416f82ecfabbce043b1e",
       "version_major": 2,
       "version_minor": 0
      },
      "text/plain": [
       "Scanning spectrum:   0%|          | 0/20 [00:00<?, ?it/s]"
      ]
     },
     "metadata": {},
     "output_type": "display_data"
    },
    {
     "data": {
      "application/vnd.jupyter.widget-view+json": {
       "model_id": "c8f49802736346a5be026fcaded3c11e",
       "version_major": 2,
       "version_minor": 0
      },
      "text/plain": [
       "Scanning spectrum:   0%|          | 0/20 [00:00<?, ?it/s]"
      ]
     },
     "metadata": {},
     "output_type": "display_data"
    },
    {
     "data": {
      "application/vnd.jupyter.widget-view+json": {
       "model_id": "611ae33902a6475eb75982f99f76b6f5",
       "version_major": 2,
       "version_minor": 0
      },
      "text/plain": [
       "Scanning spectrum:   0%|          | 0/20 [00:00<?, ?it/s]"
      ]
     },
     "metadata": {},
     "output_type": "display_data"
    },
    {
     "data": {
      "application/vnd.jupyter.widget-view+json": {
       "model_id": "582dc8a82e7a4df2bdc932cbd9494dd2",
       "version_major": 2,
       "version_minor": 0
      },
      "text/plain": [
       "Scanning spectrum:   0%|          | 0/20 [00:00<?, ?it/s]"
      ]
     },
     "metadata": {},
     "output_type": "display_data"
    },
    {
     "data": {
      "application/vnd.jupyter.widget-view+json": {
       "model_id": "7f1117fa1fb4492daf8d82b413c66a0b",
       "version_major": 2,
       "version_minor": 0
      },
      "text/plain": [
       "Scanning spectrum:   0%|          | 0/20 [00:00<?, ?it/s]"
      ]
     },
     "metadata": {},
     "output_type": "display_data"
    },
    {
     "data": {
      "application/vnd.jupyter.widget-view+json": {
       "model_id": "6a8a82a9b07347bfbf8e9bb5d1f0f707",
       "version_major": 2,
       "version_minor": 0
      },
      "text/plain": [
       "Scanning spectrum:   0%|          | 0/20 [00:00<?, ?it/s]"
      ]
     },
     "metadata": {},
     "output_type": "display_data"
    },
    {
     "data": {
      "application/vnd.jupyter.widget-view+json": {
       "model_id": "8586198acda34f13a2c1591fa6e16206",
       "version_major": 2,
       "version_minor": 0
      },
      "text/plain": [
       "Scanning spectrum:   0%|          | 0/20 [00:00<?, ?it/s]"
      ]
     },
     "metadata": {},
     "output_type": "display_data"
    },
    {
     "data": {
      "application/vnd.jupyter.widget-view+json": {
       "model_id": "beaedd01353e400baed707b2243f7632",
       "version_major": 2,
       "version_minor": 0
      },
      "text/plain": [
       "Scanning spectrum:   0%|          | 0/20 [00:00<?, ?it/s]"
      ]
     },
     "metadata": {},
     "output_type": "display_data"
    },
    {
     "data": {
      "application/vnd.jupyter.widget-view+json": {
       "model_id": "a5369fe022484fa288349e9dd23081f6",
       "version_major": 2,
       "version_minor": 0
      },
      "text/plain": [
       "Scanning spectrum:   0%|          | 0/20 [00:00<?, ?it/s]"
      ]
     },
     "metadata": {},
     "output_type": "display_data"
    },
    {
     "data": {
      "application/vnd.jupyter.widget-view+json": {
       "model_id": "184c87cb27834d3d9327b21da0481f96",
       "version_major": 2,
       "version_minor": 0
      },
      "text/plain": [
       "Scanning spectrum:   0%|          | 0/20 [00:00<?, ?it/s]"
      ]
     },
     "metadata": {},
     "output_type": "display_data"
    },
    {
     "data": {
      "application/vnd.jupyter.widget-view+json": {
       "model_id": "f6295316f4f04ccd84d6d37e95fe54f5",
       "version_major": 2,
       "version_minor": 0
      },
      "text/plain": [
       "Scanning spectrum:   0%|          | 0/20 [00:00<?, ?it/s]"
      ]
     },
     "metadata": {},
     "output_type": "display_data"
    },
    {
     "data": {
      "application/vnd.jupyter.widget-view+json": {
       "model_id": "8ba31002f923488192c7c1c911ee27b2",
       "version_major": 2,
       "version_minor": 0
      },
      "text/plain": [
       "Scanning spectrum:   0%|          | 0/20 [00:00<?, ?it/s]"
      ]
     },
     "metadata": {},
     "output_type": "display_data"
    },
    {
     "data": {
      "application/vnd.jupyter.widget-view+json": {
       "model_id": "4d44ec6edc2d4225befbb712638fddbd",
       "version_major": 2,
       "version_minor": 0
      },
      "text/plain": [
       "Scanning spectrum:   0%|          | 0/20 [00:00<?, ?it/s]"
      ]
     },
     "metadata": {},
     "output_type": "display_data"
    },
    {
     "data": {
      "application/vnd.jupyter.widget-view+json": {
       "model_id": "b1ef082b96e44fa19433195a2edfb4cd",
       "version_major": 2,
       "version_minor": 0
      },
      "text/plain": [
       "Scanning spectrum:   0%|          | 0/20 [00:00<?, ?it/s]"
      ]
     },
     "metadata": {},
     "output_type": "display_data"
    },
    {
     "data": {
      "application/vnd.jupyter.widget-view+json": {
       "model_id": "45ec6bb41ce7407c87c4ffdb2a2c8f42",
       "version_major": 2,
       "version_minor": 0
      },
      "text/plain": [
       "Scanning spectrum:   0%|          | 0/20 [00:00<?, ?it/s]"
      ]
     },
     "metadata": {},
     "output_type": "display_data"
    },
    {
     "data": {
      "application/vnd.jupyter.widget-view+json": {
       "model_id": "7a94f1a048da4122ad3ed925df3cecae",
       "version_major": 2,
       "version_minor": 0
      },
      "text/plain": [
       "Scanning spectrum:   0%|          | 0/20 [00:00<?, ?it/s]"
      ]
     },
     "metadata": {},
     "output_type": "display_data"
    },
    {
     "data": {
      "application/vnd.jupyter.widget-view+json": {
       "model_id": "913410a208984280a7be28e2ccb85168",
       "version_major": 2,
       "version_minor": 0
      },
      "text/plain": [
       "Scanning spectrum:   0%|          | 0/20 [00:00<?, ?it/s]"
      ]
     },
     "metadata": {},
     "output_type": "display_data"
    },
    {
     "data": {
      "application/vnd.jupyter.widget-view+json": {
       "model_id": "cce84ee7153443a5b48ac03172e23a0c",
       "version_major": 2,
       "version_minor": 0
      },
      "text/plain": [
       "Scanning spectrum:   0%|          | 0/20 [00:00<?, ?it/s]"
      ]
     },
     "metadata": {},
     "output_type": "display_data"
    },
    {
     "data": {
      "application/vnd.jupyter.widget-view+json": {
       "model_id": "00b724b47b5441f7a8f0f3ff97ed35a7",
       "version_major": 2,
       "version_minor": 0
      },
      "text/plain": [
       "Scanning spectrum:   0%|          | 0/20 [00:00<?, ?it/s]"
      ]
     },
     "metadata": {},
     "output_type": "display_data"
    },
    {
     "data": {
      "application/vnd.jupyter.widget-view+json": {
       "model_id": "b0db4f370fb2422ebd65069566124750",
       "version_major": 2,
       "version_minor": 0
      },
      "text/plain": [
       "Scanning spectrum:   0%|          | 0/20 [00:00<?, ?it/s]"
      ]
     },
     "metadata": {},
     "output_type": "display_data"
    },
    {
     "data": {
      "application/vnd.jupyter.widget-view+json": {
       "model_id": "1e212074ed7d46c8a9aa7b3be2e6565c",
       "version_major": 2,
       "version_minor": 0
      },
      "text/plain": [
       "Scanning spectrum:   0%|          | 0/20 [00:00<?, ?it/s]"
      ]
     },
     "metadata": {},
     "output_type": "display_data"
    },
    {
     "data": {
      "application/vnd.jupyter.widget-view+json": {
       "model_id": "fb9c820f7cb94b71a96231623d45e415",
       "version_major": 2,
       "version_minor": 0
      },
      "text/plain": [
       "Scanning spectrum:   0%|          | 0/20 [00:00<?, ?it/s]"
      ]
     },
     "metadata": {},
     "output_type": "display_data"
    },
    {
     "data": {
      "application/vnd.jupyter.widget-view+json": {
       "model_id": "7232cdef354c46b2afe68a121b79f5a3",
       "version_major": 2,
       "version_minor": 0
      },
      "text/plain": [
       "Scanning spectrum:   0%|          | 0/20 [00:00<?, ?it/s]"
      ]
     },
     "metadata": {},
     "output_type": "display_data"
    },
    {
     "data": {
      "application/vnd.jupyter.widget-view+json": {
       "model_id": "a16a47a3a86243b7a342d054ef7fae01",
       "version_major": 2,
       "version_minor": 0
      },
      "text/plain": [
       "Scanning spectrum:   0%|          | 0/20 [00:00<?, ?it/s]"
      ]
     },
     "metadata": {},
     "output_type": "display_data"
    },
    {
     "data": {
      "application/vnd.jupyter.widget-view+json": {
       "model_id": "0eae6c01903e4db1a1e71362a9ea1a59",
       "version_major": 2,
       "version_minor": 0
      },
      "text/plain": [
       "Scanning spectrum:   0%|          | 0/20 [00:00<?, ?it/s]"
      ]
     },
     "metadata": {},
     "output_type": "display_data"
    },
    {
     "data": {
      "application/vnd.jupyter.widget-view+json": {
       "model_id": "87e0606ee49f45f6b8397ac91fd9a96f",
       "version_major": 2,
       "version_minor": 0
      },
      "text/plain": [
       "Scanning spectrum:   0%|          | 0/20 [00:00<?, ?it/s]"
      ]
     },
     "metadata": {},
     "output_type": "display_data"
    },
    {
     "data": {
      "application/vnd.jupyter.widget-view+json": {
       "model_id": "f34ea915189f4c78b03497fb2a823709",
       "version_major": 2,
       "version_minor": 0
      },
      "text/plain": [
       "Scanning spectrum:   0%|          | 0/20 [00:00<?, ?it/s]"
      ]
     },
     "metadata": {},
     "output_type": "display_data"
    },
    {
     "data": {
      "application/vnd.jupyter.widget-view+json": {
       "model_id": "88c03298c0084f2e9737d983ce556bc5",
       "version_major": 2,
       "version_minor": 0
      },
      "text/plain": [
       "Scanning spectrum:   0%|          | 0/20 [00:00<?, ?it/s]"
      ]
     },
     "metadata": {},
     "output_type": "display_data"
    },
    {
     "data": {
      "application/vnd.jupyter.widget-view+json": {
       "model_id": "2eb2bcd42f87446eb7cc95e8e145df32",
       "version_major": 2,
       "version_minor": 0
      },
      "text/plain": [
       "Scanning spectrum:   0%|          | 0/20 [00:00<?, ?it/s]"
      ]
     },
     "metadata": {},
     "output_type": "display_data"
    },
    {
     "data": {
      "application/vnd.jupyter.widget-view+json": {
       "model_id": "52906d1868464785a907040f2638634c",
       "version_major": 2,
       "version_minor": 0
      },
      "text/plain": [
       "Scanning spectrum:   0%|          | 0/20 [00:00<?, ?it/s]"
      ]
     },
     "metadata": {},
     "output_type": "display_data"
    },
    {
     "data": {
      "application/vnd.jupyter.widget-view+json": {
       "model_id": "4fcf91c50c3145fd94bf2466bcbcb91e",
       "version_major": 2,
       "version_minor": 0
      },
      "text/plain": [
       "Scanning spectrum:   0%|          | 0/20 [00:00<?, ?it/s]"
      ]
     },
     "metadata": {},
     "output_type": "display_data"
    },
    {
     "data": {
      "application/vnd.jupyter.widget-view+json": {
       "model_id": "d814438f5bf045fca4404ca02d1d4db0",
       "version_major": 2,
       "version_minor": 0
      },
      "text/plain": [
       "Scanning spectrum:   0%|          | 0/20 [00:00<?, ?it/s]"
      ]
     },
     "metadata": {},
     "output_type": "display_data"
    },
    {
     "data": {
      "application/vnd.jupyter.widget-view+json": {
       "model_id": "628c210ecde54eb68833fc29787252b9",
       "version_major": 2,
       "version_minor": 0
      },
      "text/plain": [
       "Scanning spectrum:   0%|          | 0/20 [00:00<?, ?it/s]"
      ]
     },
     "metadata": {},
     "output_type": "display_data"
    },
    {
     "data": {
      "application/vnd.jupyter.widget-view+json": {
       "model_id": "b01f8d2d450d443782dda922ad4527f6",
       "version_major": 2,
       "version_minor": 0
      },
      "text/plain": [
       "Scanning spectrum:   0%|          | 0/20 [00:00<?, ?it/s]"
      ]
     },
     "metadata": {},
     "output_type": "display_data"
    },
    {
     "data": {
      "application/vnd.jupyter.widget-view+json": {
       "model_id": "acd0499a41724851a84823884656f5f8",
       "version_major": 2,
       "version_minor": 0
      },
      "text/plain": [
       "Scanning spectrum:   0%|          | 0/20 [00:00<?, ?it/s]"
      ]
     },
     "metadata": {},
     "output_type": "display_data"
    },
    {
     "data": {
      "application/vnd.jupyter.widget-view+json": {
       "model_id": "2a69966797aa490c9b7f376e28f8c543",
       "version_major": 2,
       "version_minor": 0
      },
      "text/plain": [
       "Scanning spectrum:   0%|          | 0/20 [00:00<?, ?it/s]"
      ]
     },
     "metadata": {},
     "output_type": "display_data"
    },
    {
     "data": {
      "application/vnd.jupyter.widget-view+json": {
       "model_id": "633c755e30804791909f7673ea64c8f8",
       "version_major": 2,
       "version_minor": 0
      },
      "text/plain": [
       "Scanning spectrum:   0%|          | 0/20 [00:00<?, ?it/s]"
      ]
     },
     "metadata": {},
     "output_type": "display_data"
    },
    {
     "data": {
      "application/vnd.jupyter.widget-view+json": {
       "model_id": "ea6c4aed327443dca15cdfc4e43e7640",
       "version_major": 2,
       "version_minor": 0
      },
      "text/plain": [
       "Scanning spectrum:   0%|          | 0/20 [00:00<?, ?it/s]"
      ]
     },
     "metadata": {},
     "output_type": "display_data"
    },
    {
     "data": {
      "application/vnd.jupyter.widget-view+json": {
       "model_id": "b4de3a567056435291589bf95cc6d827",
       "version_major": 2,
       "version_minor": 0
      },
      "text/plain": [
       "Scanning spectrum:   0%|          | 0/20 [00:00<?, ?it/s]"
      ]
     },
     "metadata": {},
     "output_type": "display_data"
    },
    {
     "data": {
      "application/vnd.jupyter.widget-view+json": {
       "model_id": "ccc53a9a349b402cac7574a5fa285b6d",
       "version_major": 2,
       "version_minor": 0
      },
      "text/plain": [
       "Scanning spectrum:   0%|          | 0/20 [00:00<?, ?it/s]"
      ]
     },
     "metadata": {},
     "output_type": "display_data"
    },
    {
     "data": {
      "application/vnd.jupyter.widget-view+json": {
       "model_id": "b651a73f66784a25b5616aa1a89cd57b",
       "version_major": 2,
       "version_minor": 0
      },
      "text/plain": [
       "Scanning spectrum:   0%|          | 0/20 [00:00<?, ?it/s]"
      ]
     },
     "metadata": {},
     "output_type": "display_data"
    },
    {
     "data": {
      "application/vnd.jupyter.widget-view+json": {
       "model_id": "36222aa7951b48ffb89c0fc58ae26f45",
       "version_major": 2,
       "version_minor": 0
      },
      "text/plain": [
       "Scanning spectrum:   0%|          | 0/20 [00:00<?, ?it/s]"
      ]
     },
     "metadata": {},
     "output_type": "display_data"
    },
    {
     "data": {
      "application/vnd.jupyter.widget-view+json": {
       "model_id": "0a4d520bbb274f529c63f3ca63a1eda6",
       "version_major": 2,
       "version_minor": 0
      },
      "text/plain": [
       "Scanning spectrum:   0%|          | 0/20 [00:00<?, ?it/s]"
      ]
     },
     "metadata": {},
     "output_type": "display_data"
    },
    {
     "data": {
      "application/vnd.jupyter.widget-view+json": {
       "model_id": "777f61cfb49d47aca2e83838e5ae65c3",
       "version_major": 2,
       "version_minor": 0
      },
      "text/plain": [
       "Scanning spectrum:   0%|          | 0/20 [00:00<?, ?it/s]"
      ]
     },
     "metadata": {},
     "output_type": "display_data"
    },
    {
     "data": {
      "application/vnd.jupyter.widget-view+json": {
       "model_id": "8f3ab7eb8d0642ae9e4238e8627187e9",
       "version_major": 2,
       "version_minor": 0
      },
      "text/plain": [
       "Scanning spectrum:   0%|          | 0/20 [00:00<?, ?it/s]"
      ]
     },
     "metadata": {},
     "output_type": "display_data"
    },
    {
     "data": {
      "application/vnd.jupyter.widget-view+json": {
       "model_id": "29583cae04074626b8499dfafae194f6",
       "version_major": 2,
       "version_minor": 0
      },
      "text/plain": [
       "Scanning spectrum:   0%|          | 0/20 [00:00<?, ?it/s]"
      ]
     },
     "metadata": {},
     "output_type": "display_data"
    },
    {
     "data": {
      "application/vnd.jupyter.widget-view+json": {
       "model_id": "865c6d9f536c4e509cc7f84068fcfe82",
       "version_major": 2,
       "version_minor": 0
      },
      "text/plain": [
       "Scanning spectrum:   0%|          | 0/20 [00:00<?, ?it/s]"
      ]
     },
     "metadata": {},
     "output_type": "display_data"
    },
    {
     "data": {
      "application/vnd.jupyter.widget-view+json": {
       "model_id": "251f7bc100804916898bec4ce852ad9a",
       "version_major": 2,
       "version_minor": 0
      },
      "text/plain": [
       "Scanning spectrum:   0%|          | 0/20 [00:00<?, ?it/s]"
      ]
     },
     "metadata": {},
     "output_type": "display_data"
    },
    {
     "data": {
      "application/vnd.jupyter.widget-view+json": {
       "model_id": "20752c7fbeba47c79f402c5b9c7c9f07",
       "version_major": 2,
       "version_minor": 0
      },
      "text/plain": [
       "Scanning spectrum:   0%|          | 0/20 [00:00<?, ?it/s]"
      ]
     },
     "metadata": {},
     "output_type": "display_data"
    },
    {
     "data": {
      "application/vnd.jupyter.widget-view+json": {
       "model_id": "87fbc9c6d719402cb612af53d563878c",
       "version_major": 2,
       "version_minor": 0
      },
      "text/plain": [
       "Scanning spectrum:   0%|          | 0/20 [00:00<?, ?it/s]"
      ]
     },
     "metadata": {},
     "output_type": "display_data"
    },
    {
     "data": {
      "application/vnd.jupyter.widget-view+json": {
       "model_id": "7c25763f43bb4078ab1f92f2a941d2ba",
       "version_major": 2,
       "version_minor": 0
      },
      "text/plain": [
       "Scanning spectrum:   0%|          | 0/20 [00:00<?, ?it/s]"
      ]
     },
     "metadata": {},
     "output_type": "display_data"
    },
    {
     "data": {
      "application/vnd.jupyter.widget-view+json": {
       "model_id": "8f2c26b564cf4212be68edfe2c5ce5d2",
       "version_major": 2,
       "version_minor": 0
      },
      "text/plain": [
       "Scanning spectrum:   0%|          | 0/20 [00:00<?, ?it/s]"
      ]
     },
     "metadata": {},
     "output_type": "display_data"
    },
    {
     "data": {
      "application/vnd.jupyter.widget-view+json": {
       "model_id": "e9bcfee984394b488b29d42b607361f5",
       "version_major": 2,
       "version_minor": 0
      },
      "text/plain": [
       "Scanning spectrum:   0%|          | 0/20 [00:00<?, ?it/s]"
      ]
     },
     "metadata": {},
     "output_type": "display_data"
    },
    {
     "data": {
      "application/vnd.jupyter.widget-view+json": {
       "model_id": "ee8b25386e964aac8c2855c105589fed",
       "version_major": 2,
       "version_minor": 0
      },
      "text/plain": [
       "Scanning spectrum:   0%|          | 0/20 [00:00<?, ?it/s]"
      ]
     },
     "metadata": {},
     "output_type": "display_data"
    },
    {
     "data": {
      "application/vnd.jupyter.widget-view+json": {
       "model_id": "8a194baef04a4d2d96a54510afb3a6eb",
       "version_major": 2,
       "version_minor": 0
      },
      "text/plain": [
       "Scanning spectrum:   0%|          | 0/20 [00:00<?, ?it/s]"
      ]
     },
     "metadata": {},
     "output_type": "display_data"
    },
    {
     "data": {
      "application/vnd.jupyter.widget-view+json": {
       "model_id": "c4359e9d0b7a4188bb69af2277cf7ed0",
       "version_major": 2,
       "version_minor": 0
      },
      "text/plain": [
       "Scanning spectrum:   0%|          | 0/20 [00:00<?, ?it/s]"
      ]
     },
     "metadata": {},
     "output_type": "display_data"
    },
    {
     "data": {
      "application/vnd.jupyter.widget-view+json": {
       "model_id": "83843cc9a934499b86c593922a12224c",
       "version_major": 2,
       "version_minor": 0
      },
      "text/plain": [
       "Scanning spectrum:   0%|          | 0/20 [00:00<?, ?it/s]"
      ]
     },
     "metadata": {},
     "output_type": "display_data"
    },
    {
     "data": {
      "application/vnd.jupyter.widget-view+json": {
       "model_id": "5171abb60a58484e95c8e07f21467c90",
       "version_major": 2,
       "version_minor": 0
      },
      "text/plain": [
       "Scanning spectrum:   0%|          | 0/20 [00:00<?, ?it/s]"
      ]
     },
     "metadata": {},
     "output_type": "display_data"
    },
    {
     "data": {
      "application/vnd.jupyter.widget-view+json": {
       "model_id": "73b30b42ea7e4811a59c2369771560d6",
       "version_major": 2,
       "version_minor": 0
      },
      "text/plain": [
       "Scanning spectrum:   0%|          | 0/20 [00:00<?, ?it/s]"
      ]
     },
     "metadata": {},
     "output_type": "display_data"
    },
    {
     "data": {
      "application/vnd.jupyter.widget-view+json": {
       "model_id": "aa8e382a2247441ea4a879ec26feb155",
       "version_major": 2,
       "version_minor": 0
      },
      "text/plain": [
       "Scanning spectrum:   0%|          | 0/20 [00:00<?, ?it/s]"
      ]
     },
     "metadata": {},
     "output_type": "display_data"
    },
    {
     "data": {
      "application/vnd.jupyter.widget-view+json": {
       "model_id": "77e89f5628a64496ba8b02c404273e09",
       "version_major": 2,
       "version_minor": 0
      },
      "text/plain": [
       "Scanning spectrum:   0%|          | 0/20 [00:00<?, ?it/s]"
      ]
     },
     "metadata": {},
     "output_type": "display_data"
    },
    {
     "data": {
      "application/vnd.jupyter.widget-view+json": {
       "model_id": "9279d5f63a9c4cfdbf81c35af69ff455",
       "version_major": 2,
       "version_minor": 0
      },
      "text/plain": [
       "Scanning spectrum:   0%|          | 0/20 [00:00<?, ?it/s]"
      ]
     },
     "metadata": {},
     "output_type": "display_data"
    },
    {
     "data": {
      "application/vnd.jupyter.widget-view+json": {
       "model_id": "8d3b89d0bb254b458f7f14050002d552",
       "version_major": 2,
       "version_minor": 0
      },
      "text/plain": [
       "Scanning spectrum:   0%|          | 0/20 [00:00<?, ?it/s]"
      ]
     },
     "metadata": {},
     "output_type": "display_data"
    },
    {
     "data": {
      "application/vnd.jupyter.widget-view+json": {
       "model_id": "c484b25c8aab430497d9a9f3128a0d53",
       "version_major": 2,
       "version_minor": 0
      },
      "text/plain": [
       "Scanning spectrum:   0%|          | 0/20 [00:00<?, ?it/s]"
      ]
     },
     "metadata": {},
     "output_type": "display_data"
    },
    {
     "data": {
      "application/vnd.jupyter.widget-view+json": {
       "model_id": "8253169b07f8460eb845d7c42eba631e",
       "version_major": 2,
       "version_minor": 0
      },
      "text/plain": [
       "Scanning spectrum:   0%|          | 0/20 [00:00<?, ?it/s]"
      ]
     },
     "metadata": {},
     "output_type": "display_data"
    },
    {
     "data": {
      "application/vnd.jupyter.widget-view+json": {
       "model_id": "2a19380f79824c3da35866bafa14eb35",
       "version_major": 2,
       "version_minor": 0
      },
      "text/plain": [
       "Scanning spectrum:   0%|          | 0/20 [00:00<?, ?it/s]"
      ]
     },
     "metadata": {},
     "output_type": "display_data"
    },
    {
     "data": {
      "application/vnd.jupyter.widget-view+json": {
       "model_id": "53769af144c24e17ad2e9f3fc291607c",
       "version_major": 2,
       "version_minor": 0
      },
      "text/plain": [
       "Scanning spectrum:   0%|          | 0/20 [00:00<?, ?it/s]"
      ]
     },
     "metadata": {},
     "output_type": "display_data"
    },
    {
     "data": {
      "application/vnd.jupyter.widget-view+json": {
       "model_id": "b283f0a53a964d709bf8883dd4ee6adc",
       "version_major": 2,
       "version_minor": 0
      },
      "text/plain": [
       "Scanning spectrum:   0%|          | 0/20 [00:00<?, ?it/s]"
      ]
     },
     "metadata": {},
     "output_type": "display_data"
    },
    {
     "data": {
      "application/vnd.jupyter.widget-view+json": {
       "model_id": "72dc465534e64193a8423e3968b64cf2",
       "version_major": 2,
       "version_minor": 0
      },
      "text/plain": [
       "Scanning spectrum:   0%|          | 0/20 [00:00<?, ?it/s]"
      ]
     },
     "metadata": {},
     "output_type": "display_data"
    },
    {
     "data": {
      "application/vnd.jupyter.widget-view+json": {
       "model_id": "77cf2ad7f8284dbb9a23a0d138ddce96",
       "version_major": 2,
       "version_minor": 0
      },
      "text/plain": [
       "Scanning spectrum:   0%|          | 0/20 [00:00<?, ?it/s]"
      ]
     },
     "metadata": {},
     "output_type": "display_data"
    },
    {
     "data": {
      "application/vnd.jupyter.widget-view+json": {
       "model_id": "21bbae572e714a03a87eb5add0fcc13f",
       "version_major": 2,
       "version_minor": 0
      },
      "text/plain": [
       "Scanning spectrum:   0%|          | 0/20 [00:00<?, ?it/s]"
      ]
     },
     "metadata": {},
     "output_type": "display_data"
    },
    {
     "data": {
      "application/vnd.jupyter.widget-view+json": {
       "model_id": "f3752d294e5441e8be2afa0375f8f38a",
       "version_major": 2,
       "version_minor": 0
      },
      "text/plain": [
       "Scanning spectrum:   0%|          | 0/20 [00:00<?, ?it/s]"
      ]
     },
     "metadata": {},
     "output_type": "display_data"
    },
    {
     "data": {
      "application/vnd.jupyter.widget-view+json": {
       "model_id": "f720a4108932418a9264c2668d501463",
       "version_major": 2,
       "version_minor": 0
      },
      "text/plain": [
       "Scanning spectrum:   0%|          | 0/20 [00:00<?, ?it/s]"
      ]
     },
     "metadata": {},
     "output_type": "display_data"
    },
    {
     "data": {
      "application/vnd.jupyter.widget-view+json": {
       "model_id": "421a141c616f418082cc0d3c9ac9799a",
       "version_major": 2,
       "version_minor": 0
      },
      "text/plain": [
       "Scanning spectrum:   0%|          | 0/20 [00:00<?, ?it/s]"
      ]
     },
     "metadata": {},
     "output_type": "display_data"
    },
    {
     "data": {
      "application/vnd.jupyter.widget-view+json": {
       "model_id": "ea9025f97bca485b81562dd028f7e49f",
       "version_major": 2,
       "version_minor": 0
      },
      "text/plain": [
       "Scanning spectrum:   0%|          | 0/20 [00:00<?, ?it/s]"
      ]
     },
     "metadata": {},
     "output_type": "display_data"
    },
    {
     "data": {
      "application/vnd.jupyter.widget-view+json": {
       "model_id": "d3a05ffb4f064575ba7cfea5b74ace98",
       "version_major": 2,
       "version_minor": 0
      },
      "text/plain": [
       "Scanning spectrum:   0%|          | 0/20 [00:00<?, ?it/s]"
      ]
     },
     "metadata": {},
     "output_type": "display_data"
    },
    {
     "data": {
      "application/vnd.jupyter.widget-view+json": {
       "model_id": "d3ecf9251aac452180dce08fa7625a9b",
       "version_major": 2,
       "version_minor": 0
      },
      "text/plain": [
       "Scanning spectrum:   0%|          | 0/20 [00:00<?, ?it/s]"
      ]
     },
     "metadata": {},
     "output_type": "display_data"
    },
    {
     "data": {
      "application/vnd.jupyter.widget-view+json": {
       "model_id": "1c0fd755ee004f158eb6351e7e412e33",
       "version_major": 2,
       "version_minor": 0
      },
      "text/plain": [
       "Scanning spectrum:   0%|          | 0/20 [00:00<?, ?it/s]"
      ]
     },
     "metadata": {},
     "output_type": "display_data"
    },
    {
     "data": {
      "application/vnd.jupyter.widget-view+json": {
       "model_id": "32e3ceb143424b3ba3e74efd5fff2ce4",
       "version_major": 2,
       "version_minor": 0
      },
      "text/plain": [
       "Scanning spectrum:   0%|          | 0/20 [00:00<?, ?it/s]"
      ]
     },
     "metadata": {},
     "output_type": "display_data"
    },
    {
     "data": {
      "application/vnd.jupyter.widget-view+json": {
       "model_id": "6154ded432c2489286d6916b0680d0a3",
       "version_major": 2,
       "version_minor": 0
      },
      "text/plain": [
       "Scanning spectrum:   0%|          | 0/20 [00:00<?, ?it/s]"
      ]
     },
     "metadata": {},
     "output_type": "display_data"
    },
    {
     "data": {
      "application/vnd.jupyter.widget-view+json": {
       "model_id": "6553d23b43e64354850eba5988ce3e26",
       "version_major": 2,
       "version_minor": 0
      },
      "text/plain": [
       "Scanning spectrum:   0%|          | 0/20 [00:00<?, ?it/s]"
      ]
     },
     "metadata": {},
     "output_type": "display_data"
    },
    {
     "data": {
      "application/vnd.jupyter.widget-view+json": {
       "model_id": "70e38a4491f843a29311a8addeff5f98",
       "version_major": 2,
       "version_minor": 0
      },
      "text/plain": [
       "Scanning spectrum:   0%|          | 0/20 [00:00<?, ?it/s]"
      ]
     },
     "metadata": {},
     "output_type": "display_data"
    },
    {
     "data": {
      "application/vnd.jupyter.widget-view+json": {
       "model_id": "fce109cb851a4ef7a790c08e841f5656",
       "version_major": 2,
       "version_minor": 0
      },
      "text/plain": [
       "Scanning spectrum:   0%|          | 0/20 [00:00<?, ?it/s]"
      ]
     },
     "metadata": {},
     "output_type": "display_data"
    },
    {
     "data": {
      "application/vnd.jupyter.widget-view+json": {
       "model_id": "2dada39098ce4d6fb017ae3995ea8da1",
       "version_major": 2,
       "version_minor": 0
      },
      "text/plain": [
       "Scanning spectrum:   0%|          | 0/20 [00:00<?, ?it/s]"
      ]
     },
     "metadata": {},
     "output_type": "display_data"
    },
    {
     "data": {
      "application/vnd.jupyter.widget-view+json": {
       "model_id": "5052e6b279e647e6b61c37c43f631b84",
       "version_major": 2,
       "version_minor": 0
      },
      "text/plain": [
       "Scanning spectrum:   0%|          | 0/20 [00:00<?, ?it/s]"
      ]
     },
     "metadata": {},
     "output_type": "display_data"
    },
    {
     "data": {
      "application/vnd.jupyter.widget-view+json": {
       "model_id": "cd1d9a51d4654cdda2ad6adabd807119",
       "version_major": 2,
       "version_minor": 0
      },
      "text/plain": [
       "Scanning spectrum:   0%|          | 0/20 [00:00<?, ?it/s]"
      ]
     },
     "metadata": {},
     "output_type": "display_data"
    },
    {
     "data": {
      "application/vnd.jupyter.widget-view+json": {
       "model_id": "3595657276984d44bb86486fe5c7fe6e",
       "version_major": 2,
       "version_minor": 0
      },
      "text/plain": [
       "Scanning spectrum:   0%|          | 0/20 [00:00<?, ?it/s]"
      ]
     },
     "metadata": {},
     "output_type": "display_data"
    },
    {
     "data": {
      "application/vnd.jupyter.widget-view+json": {
       "model_id": "5b04ba0eadb4452aab82d43275ba421c",
       "version_major": 2,
       "version_minor": 0
      },
      "text/plain": [
       "Scanning spectrum:   0%|          | 0/20 [00:00<?, ?it/s]"
      ]
     },
     "metadata": {},
     "output_type": "display_data"
    },
    {
     "data": {
      "application/vnd.jupyter.widget-view+json": {
       "model_id": "8b2e953d60564d30989dcd7a52c9a20c",
       "version_major": 2,
       "version_minor": 0
      },
      "text/plain": [
       "Scanning spectrum:   0%|          | 0/20 [00:00<?, ?it/s]"
      ]
     },
     "metadata": {},
     "output_type": "display_data"
    },
    {
     "data": {
      "application/vnd.jupyter.widget-view+json": {
       "model_id": "6465f8f6b1da4e8693b11eb7dcd2d190",
       "version_major": 2,
       "version_minor": 0
      },
      "text/plain": [
       "Scanning spectrum:   0%|          | 0/20 [00:00<?, ?it/s]"
      ]
     },
     "metadata": {},
     "output_type": "display_data"
    },
    {
     "data": {
      "application/vnd.jupyter.widget-view+json": {
       "model_id": "8d93efaa30124d80ba27bbd377f1c3dd",
       "version_major": 2,
       "version_minor": 0
      },
      "text/plain": [
       "Scanning spectrum:   0%|          | 0/20 [00:00<?, ?it/s]"
      ]
     },
     "metadata": {},
     "output_type": "display_data"
    },
    {
     "data": {
      "application/vnd.jupyter.widget-view+json": {
       "model_id": "27600041ca094e65b857247c78e23400",
       "version_major": 2,
       "version_minor": 0
      },
      "text/plain": [
       "Scanning spectrum:   0%|          | 0/20 [00:00<?, ?it/s]"
      ]
     },
     "metadata": {},
     "output_type": "display_data"
    },
    {
     "data": {
      "application/vnd.jupyter.widget-view+json": {
       "model_id": "390132e7ce364b5099d847e3074c4ebc",
       "version_major": 2,
       "version_minor": 0
      },
      "text/plain": [
       "Scanning spectrum:   0%|          | 0/20 [00:00<?, ?it/s]"
      ]
     },
     "metadata": {},
     "output_type": "display_data"
    },
    {
     "data": {
      "application/vnd.jupyter.widget-view+json": {
       "model_id": "9b2b57e9285b48dc93b3f49776b24ead",
       "version_major": 2,
       "version_minor": 0
      },
      "text/plain": [
       "Scanning spectrum:   0%|          | 0/20 [00:00<?, ?it/s]"
      ]
     },
     "metadata": {},
     "output_type": "display_data"
    },
    {
     "data": {
      "application/vnd.jupyter.widget-view+json": {
       "model_id": "064628143f0546528477276c9cf9c7bd",
       "version_major": 2,
       "version_minor": 0
      },
      "text/plain": [
       "Scanning spectrum:   0%|          | 0/20 [00:00<?, ?it/s]"
      ]
     },
     "metadata": {},
     "output_type": "display_data"
    },
    {
     "data": {
      "application/vnd.jupyter.widget-view+json": {
       "model_id": "a3bdfa3d0c3c41fe9f8918b40dac406a",
       "version_major": 2,
       "version_minor": 0
      },
      "text/plain": [
       "Scanning spectrum:   0%|          | 0/20 [00:00<?, ?it/s]"
      ]
     },
     "metadata": {},
     "output_type": "display_data"
    },
    {
     "data": {
      "application/vnd.jupyter.widget-view+json": {
       "model_id": "50fb2b7a3ae64e15951b074eaf1d1b6b",
       "version_major": 2,
       "version_minor": 0
      },
      "text/plain": [
       "Scanning spectrum:   0%|          | 0/20 [00:00<?, ?it/s]"
      ]
     },
     "metadata": {},
     "output_type": "display_data"
    },
    {
     "data": {
      "application/vnd.jupyter.widget-view+json": {
       "model_id": "207a3ac296be47238a15b0292059c170",
       "version_major": 2,
       "version_minor": 0
      },
      "text/plain": [
       "Scanning spectrum:   0%|          | 0/20 [00:00<?, ?it/s]"
      ]
     },
     "metadata": {},
     "output_type": "display_data"
    },
    {
     "data": {
      "application/vnd.jupyter.widget-view+json": {
       "model_id": "a9f05e1727ca40f79f0dac340e4d9e96",
       "version_major": 2,
       "version_minor": 0
      },
      "text/plain": [
       "Scanning spectrum:   0%|          | 0/20 [00:00<?, ?it/s]"
      ]
     },
     "metadata": {},
     "output_type": "display_data"
    },
    {
     "data": {
      "application/vnd.jupyter.widget-view+json": {
       "model_id": "71195885c48e4b15a8d4d3113549bf18",
       "version_major": 2,
       "version_minor": 0
      },
      "text/plain": [
       "Scanning spectrum:   0%|          | 0/20 [00:00<?, ?it/s]"
      ]
     },
     "metadata": {},
     "output_type": "display_data"
    },
    {
     "data": {
      "application/vnd.jupyter.widget-view+json": {
       "model_id": "221c5cb1c1af404a9ded8912223c97e5",
       "version_major": 2,
       "version_minor": 0
      },
      "text/plain": [
       "Scanning spectrum:   0%|          | 0/20 [00:00<?, ?it/s]"
      ]
     },
     "metadata": {},
     "output_type": "display_data"
    },
    {
     "data": {
      "application/vnd.jupyter.widget-view+json": {
       "model_id": "4938374fb80e4c118d8b1b39f80e66ff",
       "version_major": 2,
       "version_minor": 0
      },
      "text/plain": [
       "Scanning spectrum:   0%|          | 0/20 [00:00<?, ?it/s]"
      ]
     },
     "metadata": {},
     "output_type": "display_data"
    },
    {
     "data": {
      "application/vnd.jupyter.widget-view+json": {
       "model_id": "68a0e773e01a478396edf5380f6d2d98",
       "version_major": 2,
       "version_minor": 0
      },
      "text/plain": [
       "Scanning spectrum:   0%|          | 0/20 [00:00<?, ?it/s]"
      ]
     },
     "metadata": {},
     "output_type": "display_data"
    },
    {
     "data": {
      "application/vnd.jupyter.widget-view+json": {
       "model_id": "08e5d090e6f146dd8d3a3b63356f694a",
       "version_major": 2,
       "version_minor": 0
      },
      "text/plain": [
       "Scanning spectrum:   0%|          | 0/20 [00:00<?, ?it/s]"
      ]
     },
     "metadata": {},
     "output_type": "display_data"
    },
    {
     "data": {
      "application/vnd.jupyter.widget-view+json": {
       "model_id": "12dd9f268fd64a438f76c9386526e596",
       "version_major": 2,
       "version_minor": 0
      },
      "text/plain": [
       "Scanning spectrum:   0%|          | 0/20 [00:00<?, ?it/s]"
      ]
     },
     "metadata": {},
     "output_type": "display_data"
    },
    {
     "data": {
      "application/vnd.jupyter.widget-view+json": {
       "model_id": "f0caca9995504b8da25b698a930306d1",
       "version_major": 2,
       "version_minor": 0
      },
      "text/plain": [
       "Scanning spectrum:   0%|          | 0/20 [00:00<?, ?it/s]"
      ]
     },
     "metadata": {},
     "output_type": "display_data"
    },
    {
     "data": {
      "application/vnd.jupyter.widget-view+json": {
       "model_id": "2bd16f0c08074bec9548605d35b051d9",
       "version_major": 2,
       "version_minor": 0
      },
      "text/plain": [
       "Scanning spectrum:   0%|          | 0/20 [00:00<?, ?it/s]"
      ]
     },
     "metadata": {},
     "output_type": "display_data"
    },
    {
     "data": {
      "application/vnd.jupyter.widget-view+json": {
       "model_id": "5865a42b9bb149a39dc45bf17751d1d1",
       "version_major": 2,
       "version_minor": 0
      },
      "text/plain": [
       "Scanning spectrum:   0%|          | 0/20 [00:00<?, ?it/s]"
      ]
     },
     "metadata": {},
     "output_type": "display_data"
    },
    {
     "data": {
      "application/vnd.jupyter.widget-view+json": {
       "model_id": "6620d75bb4b94c5a822309f750b419f8",
       "version_major": 2,
       "version_minor": 0
      },
      "text/plain": [
       "Scanning spectrum:   0%|          | 0/20 [00:00<?, ?it/s]"
      ]
     },
     "metadata": {},
     "output_type": "display_data"
    },
    {
     "data": {
      "application/vnd.jupyter.widget-view+json": {
       "model_id": "f18641aded614c70958cb1f911aa3317",
       "version_major": 2,
       "version_minor": 0
      },
      "text/plain": [
       "Scanning spectrum:   0%|          | 0/20 [00:00<?, ?it/s]"
      ]
     },
     "metadata": {},
     "output_type": "display_data"
    },
    {
     "data": {
      "application/vnd.jupyter.widget-view+json": {
       "model_id": "b7fbb68f4c274e66a46cbc603f115892",
       "version_major": 2,
       "version_minor": 0
      },
      "text/plain": [
       "Scanning spectrum:   0%|          | 0/20 [00:00<?, ?it/s]"
      ]
     },
     "metadata": {},
     "output_type": "display_data"
    },
    {
     "data": {
      "application/vnd.jupyter.widget-view+json": {
       "model_id": "997030455c4d4849b083fcf1fef8d459",
       "version_major": 2,
       "version_minor": 0
      },
      "text/plain": [
       "Scanning spectrum:   0%|          | 0/20 [00:00<?, ?it/s]"
      ]
     },
     "metadata": {},
     "output_type": "display_data"
    },
    {
     "data": {
      "application/vnd.jupyter.widget-view+json": {
       "model_id": "c31d19a150e541328c9b2f519f7b3d62",
       "version_major": 2,
       "version_minor": 0
      },
      "text/plain": [
       "Scanning spectrum:   0%|          | 0/20 [00:00<?, ?it/s]"
      ]
     },
     "metadata": {},
     "output_type": "display_data"
    },
    {
     "data": {
      "application/vnd.jupyter.widget-view+json": {
       "model_id": "893537c259064724bda8aa9e4a55c3ac",
       "version_major": 2,
       "version_minor": 0
      },
      "text/plain": [
       "Scanning spectrum:   0%|          | 0/20 [00:00<?, ?it/s]"
      ]
     },
     "metadata": {},
     "output_type": "display_data"
    },
    {
     "data": {
      "application/vnd.jupyter.widget-view+json": {
       "model_id": "dfb7512d19484324b802bbde496011cb",
       "version_major": 2,
       "version_minor": 0
      },
      "text/plain": [
       "Scanning spectrum:   0%|          | 0/20 [00:00<?, ?it/s]"
      ]
     },
     "metadata": {},
     "output_type": "display_data"
    },
    {
     "data": {
      "application/vnd.jupyter.widget-view+json": {
       "model_id": "14629764ca0a4539b708774787acf992",
       "version_major": 2,
       "version_minor": 0
      },
      "text/plain": [
       "Scanning spectrum:   0%|          | 0/20 [00:00<?, ?it/s]"
      ]
     },
     "metadata": {},
     "output_type": "display_data"
    },
    {
     "data": {
      "application/vnd.jupyter.widget-view+json": {
       "model_id": "7eb6b77564ce4e8c9b111789a1f5db1b",
       "version_major": 2,
       "version_minor": 0
      },
      "text/plain": [
       "Scanning spectrum:   0%|          | 0/20 [00:00<?, ?it/s]"
      ]
     },
     "metadata": {},
     "output_type": "display_data"
    },
    {
     "data": {
      "application/vnd.jupyter.widget-view+json": {
       "model_id": "b504b3d04eaf44a3ab5961aef0423e39",
       "version_major": 2,
       "version_minor": 0
      },
      "text/plain": [
       "Scanning spectrum:   0%|          | 0/20 [00:00<?, ?it/s]"
      ]
     },
     "metadata": {},
     "output_type": "display_data"
    },
    {
     "data": {
      "application/vnd.jupyter.widget-view+json": {
       "model_id": "b3394a1f55984a63a5f648ef0c547922",
       "version_major": 2,
       "version_minor": 0
      },
      "text/plain": [
       "Scanning spectrum:   0%|          | 0/20 [00:00<?, ?it/s]"
      ]
     },
     "metadata": {},
     "output_type": "display_data"
    },
    {
     "data": {
      "application/vnd.jupyter.widget-view+json": {
       "model_id": "41775b466365406f8c6dd0bbe68e91fa",
       "version_major": 2,
       "version_minor": 0
      },
      "text/plain": [
       "Scanning spectrum:   0%|          | 0/20 [00:00<?, ?it/s]"
      ]
     },
     "metadata": {},
     "output_type": "display_data"
    },
    {
     "data": {
      "application/vnd.jupyter.widget-view+json": {
       "model_id": "1f9cc6b003f341dbb4bb109886839307",
       "version_major": 2,
       "version_minor": 0
      },
      "text/plain": [
       "Scanning spectrum:   0%|          | 0/20 [00:00<?, ?it/s]"
      ]
     },
     "metadata": {},
     "output_type": "display_data"
    },
    {
     "data": {
      "application/vnd.jupyter.widget-view+json": {
       "model_id": "cb3dd3c6adac47c18c61ffed688a3a2b",
       "version_major": 2,
       "version_minor": 0
      },
      "text/plain": [
       "Scanning spectrum:   0%|          | 0/20 [00:00<?, ?it/s]"
      ]
     },
     "metadata": {},
     "output_type": "display_data"
    },
    {
     "data": {
      "application/vnd.jupyter.widget-view+json": {
       "model_id": "11666c39bc424394aa8448025be9e609",
       "version_major": 2,
       "version_minor": 0
      },
      "text/plain": [
       "Scanning spectrum:   0%|          | 0/20 [00:00<?, ?it/s]"
      ]
     },
     "metadata": {},
     "output_type": "display_data"
    },
    {
     "data": {
      "application/vnd.jupyter.widget-view+json": {
       "model_id": "162fde24091649df84994dce1d7e1e0a",
       "version_major": 2,
       "version_minor": 0
      },
      "text/plain": [
       "Scanning spectrum:   0%|          | 0/20 [00:00<?, ?it/s]"
      ]
     },
     "metadata": {},
     "output_type": "display_data"
    },
    {
     "data": {
      "application/vnd.jupyter.widget-view+json": {
       "model_id": "1f33cb9812f042afa9b61473d15f521b",
       "version_major": 2,
       "version_minor": 0
      },
      "text/plain": [
       "Scanning spectrum:   0%|          | 0/20 [00:00<?, ?it/s]"
      ]
     },
     "metadata": {},
     "output_type": "display_data"
    },
    {
     "data": {
      "application/vnd.jupyter.widget-view+json": {
       "model_id": "acac1facc4924fd487926d5169d04dc0",
       "version_major": 2,
       "version_minor": 0
      },
      "text/plain": [
       "Scanning spectrum:   0%|          | 0/20 [00:00<?, ?it/s]"
      ]
     },
     "metadata": {},
     "output_type": "display_data"
    },
    {
     "data": {
      "application/vnd.jupyter.widget-view+json": {
       "model_id": "3ec14bdfac4a4e69a5e4735b4c1b04b5",
       "version_major": 2,
       "version_minor": 0
      },
      "text/plain": [
       "Scanning spectrum:   0%|          | 0/20 [00:00<?, ?it/s]"
      ]
     },
     "metadata": {},
     "output_type": "display_data"
    },
    {
     "data": {
      "application/vnd.jupyter.widget-view+json": {
       "model_id": "218fbddef510469f88cf60189775393e",
       "version_major": 2,
       "version_minor": 0
      },
      "text/plain": [
       "Scanning spectrum:   0%|          | 0/20 [00:00<?, ?it/s]"
      ]
     },
     "metadata": {},
     "output_type": "display_data"
    },
    {
     "data": {
      "application/vnd.jupyter.widget-view+json": {
       "model_id": "d5895753afbb4ceda73a5e209acf6919",
       "version_major": 2,
       "version_minor": 0
      },
      "text/plain": [
       "Scanning spectrum:   0%|          | 0/20 [00:00<?, ?it/s]"
      ]
     },
     "metadata": {},
     "output_type": "display_data"
    },
    {
     "data": {
      "application/vnd.jupyter.widget-view+json": {
       "model_id": "efed5823c3f4472598417f4c67c4830c",
       "version_major": 2,
       "version_minor": 0
      },
      "text/plain": [
       "Scanning spectrum:   0%|          | 0/20 [00:00<?, ?it/s]"
      ]
     },
     "metadata": {},
     "output_type": "display_data"
    },
    {
     "data": {
      "application/vnd.jupyter.widget-view+json": {
       "model_id": "f8851aa1003644c881ef9210b85255e2",
       "version_major": 2,
       "version_minor": 0
      },
      "text/plain": [
       "Scanning spectrum:   0%|          | 0/20 [00:00<?, ?it/s]"
      ]
     },
     "metadata": {},
     "output_type": "display_data"
    },
    {
     "data": {
      "application/vnd.jupyter.widget-view+json": {
       "model_id": "6890303087b0472dba9bd0d2f301e8fe",
       "version_major": 2,
       "version_minor": 0
      },
      "text/plain": [
       "Scanning spectrum:   0%|          | 0/20 [00:00<?, ?it/s]"
      ]
     },
     "metadata": {},
     "output_type": "display_data"
    },
    {
     "data": {
      "application/vnd.jupyter.widget-view+json": {
       "model_id": "cb3a8192414f4a5abe945a6a2f70f2b0",
       "version_major": 2,
       "version_minor": 0
      },
      "text/plain": [
       "Scanning spectrum:   0%|          | 0/20 [00:00<?, ?it/s]"
      ]
     },
     "metadata": {},
     "output_type": "display_data"
    },
    {
     "data": {
      "application/vnd.jupyter.widget-view+json": {
       "model_id": "aed0993c65064adf8b75e2048c649235",
       "version_major": 2,
       "version_minor": 0
      },
      "text/plain": [
       "Scanning spectrum:   0%|          | 0/20 [00:00<?, ?it/s]"
      ]
     },
     "metadata": {},
     "output_type": "display_data"
    },
    {
     "data": {
      "application/vnd.jupyter.widget-view+json": {
       "model_id": "27852384fa1b44299062ef4c20a474b6",
       "version_major": 2,
       "version_minor": 0
      },
      "text/plain": [
       "Scanning spectrum:   0%|          | 0/20 [00:00<?, ?it/s]"
      ]
     },
     "metadata": {},
     "output_type": "display_data"
    },
    {
     "data": {
      "application/vnd.jupyter.widget-view+json": {
       "model_id": "42092cd70cb042e7bd85588715599c8c",
       "version_major": 2,
       "version_minor": 0
      },
      "text/plain": [
       "Scanning spectrum:   0%|          | 0/20 [00:00<?, ?it/s]"
      ]
     },
     "metadata": {},
     "output_type": "display_data"
    },
    {
     "data": {
      "application/vnd.jupyter.widget-view+json": {
       "model_id": "dd0abfe34dba4fa786fca8467b494505",
       "version_major": 2,
       "version_minor": 0
      },
      "text/plain": [
       "Scanning spectrum:   0%|          | 0/20 [00:00<?, ?it/s]"
      ]
     },
     "metadata": {},
     "output_type": "display_data"
    },
    {
     "data": {
      "application/vnd.jupyter.widget-view+json": {
       "model_id": "86934ca425b347e9890042f6f0d190a3",
       "version_major": 2,
       "version_minor": 0
      },
      "text/plain": [
       "Scanning spectrum:   0%|          | 0/20 [00:00<?, ?it/s]"
      ]
     },
     "metadata": {},
     "output_type": "display_data"
    },
    {
     "data": {
      "application/vnd.jupyter.widget-view+json": {
       "model_id": "f04bb7b7cef144109c42f399e47e5f61",
       "version_major": 2,
       "version_minor": 0
      },
      "text/plain": [
       "Scanning spectrum:   0%|          | 0/20 [00:00<?, ?it/s]"
      ]
     },
     "metadata": {},
     "output_type": "display_data"
    },
    {
     "data": {
      "application/vnd.jupyter.widget-view+json": {
       "model_id": "26ba88ae1799401daa6612f1978f34b1",
       "version_major": 2,
       "version_minor": 0
      },
      "text/plain": [
       "Scanning spectrum:   0%|          | 0/20 [00:00<?, ?it/s]"
      ]
     },
     "metadata": {},
     "output_type": "display_data"
    },
    {
     "data": {
      "application/vnd.jupyter.widget-view+json": {
       "model_id": "c552fefeebba4c9684df6803fea87893",
       "version_major": 2,
       "version_minor": 0
      },
      "text/plain": [
       "Scanning spectrum:   0%|          | 0/20 [00:00<?, ?it/s]"
      ]
     },
     "metadata": {},
     "output_type": "display_data"
    },
    {
     "data": {
      "application/vnd.jupyter.widget-view+json": {
       "model_id": "ecb184cf16144fa3becaf73fd7cdf919",
       "version_major": 2,
       "version_minor": 0
      },
      "text/plain": [
       "Scanning spectrum:   0%|          | 0/20 [00:00<?, ?it/s]"
      ]
     },
     "metadata": {},
     "output_type": "display_data"
    },
    {
     "data": {
      "application/vnd.jupyter.widget-view+json": {
       "model_id": "315cc0ca8244481d845c860a8a646abc",
       "version_major": 2,
       "version_minor": 0
      },
      "text/plain": [
       "Scanning spectrum:   0%|          | 0/20 [00:00<?, ?it/s]"
      ]
     },
     "metadata": {},
     "output_type": "display_data"
    },
    {
     "data": {
      "application/vnd.jupyter.widget-view+json": {
       "model_id": "ee8351fda09b46728ebed329d8d74790",
       "version_major": 2,
       "version_minor": 0
      },
      "text/plain": [
       "Scanning spectrum:   0%|          | 0/20 [00:00<?, ?it/s]"
      ]
     },
     "metadata": {},
     "output_type": "display_data"
    },
    {
     "data": {
      "application/vnd.jupyter.widget-view+json": {
       "model_id": "af35cde31e054b5cad957660a7693a81",
       "version_major": 2,
       "version_minor": 0
      },
      "text/plain": [
       "Scanning spectrum:   0%|          | 0/20 [00:00<?, ?it/s]"
      ]
     },
     "metadata": {},
     "output_type": "display_data"
    },
    {
     "data": {
      "application/vnd.jupyter.widget-view+json": {
       "model_id": "f7db9d2f33494e95ae629c512d7544c4",
       "version_major": 2,
       "version_minor": 0
      },
      "text/plain": [
       "Scanning spectrum:   0%|          | 0/20 [00:00<?, ?it/s]"
      ]
     },
     "metadata": {},
     "output_type": "display_data"
    },
    {
     "data": {
      "application/vnd.jupyter.widget-view+json": {
       "model_id": "58a54df9885c4f80975ae68fcb1a6a79",
       "version_major": 2,
       "version_minor": 0
      },
      "text/plain": [
       "Scanning spectrum:   0%|          | 0/20 [00:00<?, ?it/s]"
      ]
     },
     "metadata": {},
     "output_type": "display_data"
    },
    {
     "data": {
      "application/vnd.jupyter.widget-view+json": {
       "model_id": "948b0e771b7947b0bc0f977158875f9c",
       "version_major": 2,
       "version_minor": 0
      },
      "text/plain": [
       "Scanning spectrum:   0%|          | 0/20 [00:00<?, ?it/s]"
      ]
     },
     "metadata": {},
     "output_type": "display_data"
    },
    {
     "data": {
      "application/vnd.jupyter.widget-view+json": {
       "model_id": "639fa44daa8148b99dbee1758447804b",
       "version_major": 2,
       "version_minor": 0
      },
      "text/plain": [
       "Scanning spectrum:   0%|          | 0/20 [00:00<?, ?it/s]"
      ]
     },
     "metadata": {},
     "output_type": "display_data"
    },
    {
     "data": {
      "application/vnd.jupyter.widget-view+json": {
       "model_id": "8708b94cc40a4d58ae0d54913bd3501d",
       "version_major": 2,
       "version_minor": 0
      },
      "text/plain": [
       "Scanning spectrum:   0%|          | 0/20 [00:00<?, ?it/s]"
      ]
     },
     "metadata": {},
     "output_type": "display_data"
    },
    {
     "data": {
      "application/vnd.jupyter.widget-view+json": {
       "model_id": "a85868809bc842a5b03159be8f6eaebf",
       "version_major": 2,
       "version_minor": 0
      },
      "text/plain": [
       "Scanning spectrum:   0%|          | 0/20 [00:00<?, ?it/s]"
      ]
     },
     "metadata": {},
     "output_type": "display_data"
    },
    {
     "data": {
      "application/vnd.jupyter.widget-view+json": {
       "model_id": "38b829a900aa44da80bd9fc567e2706a",
       "version_major": 2,
       "version_minor": 0
      },
      "text/plain": [
       "Scanning spectrum:   0%|          | 0/20 [00:00<?, ?it/s]"
      ]
     },
     "metadata": {},
     "output_type": "display_data"
    },
    {
     "data": {
      "application/vnd.jupyter.widget-view+json": {
       "model_id": "8fd4d7ca8a7c4de087a656e4b418d5a3",
       "version_major": 2,
       "version_minor": 0
      },
      "text/plain": [
       "Scanning spectrum:   0%|          | 0/20 [00:00<?, ?it/s]"
      ]
     },
     "metadata": {},
     "output_type": "display_data"
    },
    {
     "data": {
      "application/vnd.jupyter.widget-view+json": {
       "model_id": "e772407a81fc4e759fa8dd548da422e5",
       "version_major": 2,
       "version_minor": 0
      },
      "text/plain": [
       "Scanning spectrum:   0%|          | 0/20 [00:00<?, ?it/s]"
      ]
     },
     "metadata": {},
     "output_type": "display_data"
    },
    {
     "data": {
      "application/vnd.jupyter.widget-view+json": {
       "model_id": "1c17737e934d425d95a73170f83fef71",
       "version_major": 2,
       "version_minor": 0
      },
      "text/plain": [
       "Scanning spectrum:   0%|          | 0/20 [00:00<?, ?it/s]"
      ]
     },
     "metadata": {},
     "output_type": "display_data"
    },
    {
     "data": {
      "application/vnd.jupyter.widget-view+json": {
       "model_id": "974940463b4d49ba9c0f6d25e69ff02f",
       "version_major": 2,
       "version_minor": 0
      },
      "text/plain": [
       "Scanning spectrum:   0%|          | 0/20 [00:00<?, ?it/s]"
      ]
     },
     "metadata": {},
     "output_type": "display_data"
    },
    {
     "data": {
      "application/vnd.jupyter.widget-view+json": {
       "model_id": "8414a62daa214ccdbcf464397b3caaa8",
       "version_major": 2,
       "version_minor": 0
      },
      "text/plain": [
       "Scanning spectrum:   0%|          | 0/20 [00:00<?, ?it/s]"
      ]
     },
     "metadata": {},
     "output_type": "display_data"
    },
    {
     "data": {
      "application/vnd.jupyter.widget-view+json": {
       "model_id": "0c6f2c0347944ce0966a9a03ab63b4f8",
       "version_major": 2,
       "version_minor": 0
      },
      "text/plain": [
       "Scanning spectrum:   0%|          | 0/20 [00:00<?, ?it/s]"
      ]
     },
     "metadata": {},
     "output_type": "display_data"
    },
    {
     "data": {
      "application/vnd.jupyter.widget-view+json": {
       "model_id": "fcbf76f5c00140a8ad54a634c065ea40",
       "version_major": 2,
       "version_minor": 0
      },
      "text/plain": [
       "Scanning spectrum:   0%|          | 0/20 [00:00<?, ?it/s]"
      ]
     },
     "metadata": {},
     "output_type": "display_data"
    },
    {
     "data": {
      "application/vnd.jupyter.widget-view+json": {
       "model_id": "f71c01033c0b49f1aeb457d102874567",
       "version_major": 2,
       "version_minor": 0
      },
      "text/plain": [
       "Scanning spectrum:   0%|          | 0/20 [00:00<?, ?it/s]"
      ]
     },
     "metadata": {},
     "output_type": "display_data"
    },
    {
     "data": {
      "application/vnd.jupyter.widget-view+json": {
       "model_id": "7edbb9f3010c43c68d1ffb69eda7c519",
       "version_major": 2,
       "version_minor": 0
      },
      "text/plain": [
       "Scanning spectrum:   0%|          | 0/20 [00:00<?, ?it/s]"
      ]
     },
     "metadata": {},
     "output_type": "display_data"
    },
    {
     "data": {
      "application/vnd.jupyter.widget-view+json": {
       "model_id": "935009c040b64b0dacd0896f3da4b7f5",
       "version_major": 2,
       "version_minor": 0
      },
      "text/plain": [
       "Scanning spectrum:   0%|          | 0/20 [00:00<?, ?it/s]"
      ]
     },
     "metadata": {},
     "output_type": "display_data"
    },
    {
     "data": {
      "application/vnd.jupyter.widget-view+json": {
       "model_id": "503966dc430e4904ac523810090be13b",
       "version_major": 2,
       "version_minor": 0
      },
      "text/plain": [
       "Scanning spectrum:   0%|          | 0/20 [00:00<?, ?it/s]"
      ]
     },
     "metadata": {},
     "output_type": "display_data"
    },
    {
     "data": {
      "application/vnd.jupyter.widget-view+json": {
       "model_id": "9f754ac78de64859ba7e1d4e1a3a5984",
       "version_major": 2,
       "version_minor": 0
      },
      "text/plain": [
       "Scanning spectrum:   0%|          | 0/20 [00:00<?, ?it/s]"
      ]
     },
     "metadata": {},
     "output_type": "display_data"
    },
    {
     "data": {
      "application/vnd.jupyter.widget-view+json": {
       "model_id": "e0911a306d5f4f459cbb78a2cf9903e2",
       "version_major": 2,
       "version_minor": 0
      },
      "text/plain": [
       "Scanning spectrum:   0%|          | 0/20 [00:00<?, ?it/s]"
      ]
     },
     "metadata": {},
     "output_type": "display_data"
    },
    {
     "data": {
      "application/vnd.jupyter.widget-view+json": {
       "model_id": "cbcfe6ed852e4a4a93c88f975e751459",
       "version_major": 2,
       "version_minor": 0
      },
      "text/plain": [
       "Scanning spectrum:   0%|          | 0/20 [00:00<?, ?it/s]"
      ]
     },
     "metadata": {},
     "output_type": "display_data"
    },
    {
     "data": {
      "application/vnd.jupyter.widget-view+json": {
       "model_id": "b86041dc738a41c0b690986fcd961f0f",
       "version_major": 2,
       "version_minor": 0
      },
      "text/plain": [
       "Scanning spectrum:   0%|          | 0/20 [00:00<?, ?it/s]"
      ]
     },
     "metadata": {},
     "output_type": "display_data"
    },
    {
     "data": {
      "application/vnd.jupyter.widget-view+json": {
       "model_id": "ff554617f3c142a38c711edbfee30208",
       "version_major": 2,
       "version_minor": 0
      },
      "text/plain": [
       "Scanning spectrum:   0%|          | 0/20 [00:00<?, ?it/s]"
      ]
     },
     "metadata": {},
     "output_type": "display_data"
    },
    {
     "data": {
      "application/vnd.jupyter.widget-view+json": {
       "model_id": "9dad656a93ae439bb4350db8bf11a298",
       "version_major": 2,
       "version_minor": 0
      },
      "text/plain": [
       "Scanning spectrum:   0%|          | 0/20 [00:00<?, ?it/s]"
      ]
     },
     "metadata": {},
     "output_type": "display_data"
    },
    {
     "data": {
      "application/vnd.jupyter.widget-view+json": {
       "model_id": "b4a5db0b732c4004baf0e83c92102649",
       "version_major": 2,
       "version_minor": 0
      },
      "text/plain": [
       "Scanning spectrum:   0%|          | 0/20 [00:00<?, ?it/s]"
      ]
     },
     "metadata": {},
     "output_type": "display_data"
    },
    {
     "data": {
      "application/vnd.jupyter.widget-view+json": {
       "model_id": "6c0bb2511df94d138c182998c57212de",
       "version_major": 2,
       "version_minor": 0
      },
      "text/plain": [
       "Scanning spectrum:   0%|          | 0/20 [00:00<?, ?it/s]"
      ]
     },
     "metadata": {},
     "output_type": "display_data"
    },
    {
     "data": {
      "application/vnd.jupyter.widget-view+json": {
       "model_id": "67ba4e76fd6f410988d97f4593b95293",
       "version_major": 2,
       "version_minor": 0
      },
      "text/plain": [
       "Scanning spectrum:   0%|          | 0/20 [00:00<?, ?it/s]"
      ]
     },
     "metadata": {},
     "output_type": "display_data"
    },
    {
     "data": {
      "application/vnd.jupyter.widget-view+json": {
       "model_id": "40b86cf7679b4768bc644ecaa32dee56",
       "version_major": 2,
       "version_minor": 0
      },
      "text/plain": [
       "Scanning spectrum:   0%|          | 0/20 [00:00<?, ?it/s]"
      ]
     },
     "metadata": {},
     "output_type": "display_data"
    },
    {
     "data": {
      "application/vnd.jupyter.widget-view+json": {
       "model_id": "a7f1c35784dc4c7ab17c3aa18629e89a",
       "version_major": 2,
       "version_minor": 0
      },
      "text/plain": [
       "Scanning spectrum:   0%|          | 0/20 [00:00<?, ?it/s]"
      ]
     },
     "metadata": {},
     "output_type": "display_data"
    },
    {
     "data": {
      "application/vnd.jupyter.widget-view+json": {
       "model_id": "adc6d050c6fd49e3ae1aa5b404c0793c",
       "version_major": 2,
       "version_minor": 0
      },
      "text/plain": [
       "Scanning spectrum:   0%|          | 0/20 [00:00<?, ?it/s]"
      ]
     },
     "metadata": {},
     "output_type": "display_data"
    },
    {
     "data": {
      "application/vnd.jupyter.widget-view+json": {
       "model_id": "e0166f2dbbcd4d84bd47cc8c905a6ab5",
       "version_major": 2,
       "version_minor": 0
      },
      "text/plain": [
       "Scanning spectrum:   0%|          | 0/20 [00:00<?, ?it/s]"
      ]
     },
     "metadata": {},
     "output_type": "display_data"
    },
    {
     "data": {
      "application/vnd.jupyter.widget-view+json": {
       "model_id": "cfc663d12294492dab1f1db14d2e9ba0",
       "version_major": 2,
       "version_minor": 0
      },
      "text/plain": [
       "Scanning spectrum:   0%|          | 0/20 [00:00<?, ?it/s]"
      ]
     },
     "metadata": {},
     "output_type": "display_data"
    },
    {
     "data": {
      "application/vnd.jupyter.widget-view+json": {
       "model_id": "2116036b82bb4cafbf492159d98e629d",
       "version_major": 2,
       "version_minor": 0
      },
      "text/plain": [
       "Scanning spectrum:   0%|          | 0/20 [00:00<?, ?it/s]"
      ]
     },
     "metadata": {},
     "output_type": "display_data"
    },
    {
     "data": {
      "application/vnd.jupyter.widget-view+json": {
       "model_id": "b89000a6cc26439d8367fa4723db3a86",
       "version_major": 2,
       "version_minor": 0
      },
      "text/plain": [
       "Scanning spectrum:   0%|          | 0/20 [00:00<?, ?it/s]"
      ]
     },
     "metadata": {},
     "output_type": "display_data"
    },
    {
     "data": {
      "application/vnd.jupyter.widget-view+json": {
       "model_id": "3598de136b514546ad7e7c9ea72f10e0",
       "version_major": 2,
       "version_minor": 0
      },
      "text/plain": [
       "Scanning spectrum:   0%|          | 0/20 [00:00<?, ?it/s]"
      ]
     },
     "metadata": {},
     "output_type": "display_data"
    },
    {
     "data": {
      "application/vnd.jupyter.widget-view+json": {
       "model_id": "0c4b94f8301a47d8a4652d09dabc6cd2",
       "version_major": 2,
       "version_minor": 0
      },
      "text/plain": [
       "Scanning spectrum:   0%|          | 0/20 [00:00<?, ?it/s]"
      ]
     },
     "metadata": {},
     "output_type": "display_data"
    },
    {
     "data": {
      "application/vnd.jupyter.widget-view+json": {
       "model_id": "2e6ddcf83cf04dcdb27c37f5f0429530",
       "version_major": 2,
       "version_minor": 0
      },
      "text/plain": [
       "Scanning spectrum:   0%|          | 0/20 [00:00<?, ?it/s]"
      ]
     },
     "metadata": {},
     "output_type": "display_data"
    },
    {
     "data": {
      "application/vnd.jupyter.widget-view+json": {
       "model_id": "f856498efda44bccb4f811e44807b31b",
       "version_major": 2,
       "version_minor": 0
      },
      "text/plain": [
       "Scanning spectrum:   0%|          | 0/20 [00:00<?, ?it/s]"
      ]
     },
     "metadata": {},
     "output_type": "display_data"
    },
    {
     "data": {
      "application/vnd.jupyter.widget-view+json": {
       "model_id": "e89a30340d7948e8b806ebed0c6450bd",
       "version_major": 2,
       "version_minor": 0
      },
      "text/plain": [
       "Scanning spectrum:   0%|          | 0/20 [00:00<?, ?it/s]"
      ]
     },
     "metadata": {},
     "output_type": "display_data"
    },
    {
     "data": {
      "application/vnd.jupyter.widget-view+json": {
       "model_id": "80ad4cba20e44a07b988182bad445555",
       "version_major": 2,
       "version_minor": 0
      },
      "text/plain": [
       "Scanning spectrum:   0%|          | 0/20 [00:00<?, ?it/s]"
      ]
     },
     "metadata": {},
     "output_type": "display_data"
    },
    {
     "data": {
      "application/vnd.jupyter.widget-view+json": {
       "model_id": "915619cf06e045d19fc28f95db3eece3",
       "version_major": 2,
       "version_minor": 0
      },
      "text/plain": [
       "Scanning spectrum:   0%|          | 0/20 [00:00<?, ?it/s]"
      ]
     },
     "metadata": {},
     "output_type": "display_data"
    },
    {
     "data": {
      "application/vnd.jupyter.widget-view+json": {
       "model_id": "6ea908fc876a4020885287273d71330a",
       "version_major": 2,
       "version_minor": 0
      },
      "text/plain": [
       "Scanning spectrum:   0%|          | 0/20 [00:00<?, ?it/s]"
      ]
     },
     "metadata": {},
     "output_type": "display_data"
    },
    {
     "data": {
      "application/vnd.jupyter.widget-view+json": {
       "model_id": "f685d767e9a5474894331a106d83a188",
       "version_major": 2,
       "version_minor": 0
      },
      "text/plain": [
       "Scanning spectrum:   0%|          | 0/20 [00:00<?, ?it/s]"
      ]
     },
     "metadata": {},
     "output_type": "display_data"
    },
    {
     "data": {
      "application/vnd.jupyter.widget-view+json": {
       "model_id": "30988c389d154ee98b7136a68cff65b2",
       "version_major": 2,
       "version_minor": 0
      },
      "text/plain": [
       "Scanning spectrum:   0%|          | 0/20 [00:00<?, ?it/s]"
      ]
     },
     "metadata": {},
     "output_type": "display_data"
    },
    {
     "data": {
      "application/vnd.jupyter.widget-view+json": {
       "model_id": "97b45f94b04a41ada479b831c5f0b914",
       "version_major": 2,
       "version_minor": 0
      },
      "text/plain": [
       "Scanning spectrum:   0%|          | 0/20 [00:00<?, ?it/s]"
      ]
     },
     "metadata": {},
     "output_type": "display_data"
    },
    {
     "data": {
      "application/vnd.jupyter.widget-view+json": {
       "model_id": "1a67a15d20b64213b067ada5cdaf8b99",
       "version_major": 2,
       "version_minor": 0
      },
      "text/plain": [
       "Scanning spectrum:   0%|          | 0/20 [00:00<?, ?it/s]"
      ]
     },
     "metadata": {},
     "output_type": "display_data"
    },
    {
     "data": {
      "application/vnd.jupyter.widget-view+json": {
       "model_id": "a60173f821c8448fa8107129e34b1d2a",
       "version_major": 2,
       "version_minor": 0
      },
      "text/plain": [
       "Scanning spectrum:   0%|          | 0/20 [00:00<?, ?it/s]"
      ]
     },
     "metadata": {},
     "output_type": "display_data"
    },
    {
     "data": {
      "application/vnd.jupyter.widget-view+json": {
       "model_id": "18f7a4a6cadc439587693f3502125751",
       "version_major": 2,
       "version_minor": 0
      },
      "text/plain": [
       "Scanning spectrum:   0%|          | 0/20 [00:00<?, ?it/s]"
      ]
     },
     "metadata": {},
     "output_type": "display_data"
    },
    {
     "data": {
      "application/vnd.jupyter.widget-view+json": {
       "model_id": "78846b26c8f74a759dfa095f9944513b",
       "version_major": 2,
       "version_minor": 0
      },
      "text/plain": [
       "Scanning spectrum:   0%|          | 0/20 [00:00<?, ?it/s]"
      ]
     },
     "metadata": {},
     "output_type": "display_data"
    },
    {
     "data": {
      "application/vnd.jupyter.widget-view+json": {
       "model_id": "e59fdb63c38d4238a87e248376bd4cea",
       "version_major": 2,
       "version_minor": 0
      },
      "text/plain": [
       "Scanning spectrum:   0%|          | 0/20 [00:00<?, ?it/s]"
      ]
     },
     "metadata": {},
     "output_type": "display_data"
    },
    {
     "data": {
      "application/vnd.jupyter.widget-view+json": {
       "model_id": "0957b0edde8c4556aa620b1066061127",
       "version_major": 2,
       "version_minor": 0
      },
      "text/plain": [
       "Scanning spectrum:   0%|          | 0/20 [00:00<?, ?it/s]"
      ]
     },
     "metadata": {},
     "output_type": "display_data"
    },
    {
     "data": {
      "application/vnd.jupyter.widget-view+json": {
       "model_id": "0ade554cbc0d45c5b33c63c63b3adbd6",
       "version_major": 2,
       "version_minor": 0
      },
      "text/plain": [
       "Scanning spectrum:   0%|          | 0/20 [00:00<?, ?it/s]"
      ]
     },
     "metadata": {},
     "output_type": "display_data"
    },
    {
     "data": {
      "application/vnd.jupyter.widget-view+json": {
       "model_id": "f2563d8778a245389b391db8587d5179",
       "version_major": 2,
       "version_minor": 0
      },
      "text/plain": [
       "Scanning spectrum:   0%|          | 0/20 [00:00<?, ?it/s]"
      ]
     },
     "metadata": {},
     "output_type": "display_data"
    },
    {
     "data": {
      "application/vnd.jupyter.widget-view+json": {
       "model_id": "7a2a6dcf1c164e79beb5517b89978390",
       "version_major": 2,
       "version_minor": 0
      },
      "text/plain": [
       "Scanning spectrum:   0%|          | 0/20 [00:00<?, ?it/s]"
      ]
     },
     "metadata": {},
     "output_type": "display_data"
    },
    {
     "data": {
      "application/vnd.jupyter.widget-view+json": {
       "model_id": "61f2311dfb1241ce8dbe1519b836c2e3",
       "version_major": 2,
       "version_minor": 0
      },
      "text/plain": [
       "Scanning spectrum:   0%|          | 0/20 [00:00<?, ?it/s]"
      ]
     },
     "metadata": {},
     "output_type": "display_data"
    },
    {
     "data": {
      "application/vnd.jupyter.widget-view+json": {
       "model_id": "dd283abb51134a87a84f3138bad13082",
       "version_major": 2,
       "version_minor": 0
      },
      "text/plain": [
       "Scanning spectrum:   0%|          | 0/20 [00:00<?, ?it/s]"
      ]
     },
     "metadata": {},
     "output_type": "display_data"
    },
    {
     "data": {
      "application/vnd.jupyter.widget-view+json": {
       "model_id": "64867fd1bc174998b7e6f8a09894564a",
       "version_major": 2,
       "version_minor": 0
      },
      "text/plain": [
       "Scanning spectrum:   0%|          | 0/20 [00:00<?, ?it/s]"
      ]
     },
     "metadata": {},
     "output_type": "display_data"
    },
    {
     "data": {
      "application/vnd.jupyter.widget-view+json": {
       "model_id": "31a09d6be0e347189cd01c0fa7fb10d2",
       "version_major": 2,
       "version_minor": 0
      },
      "text/plain": [
       "Scanning spectrum:   0%|          | 0/20 [00:00<?, ?it/s]"
      ]
     },
     "metadata": {},
     "output_type": "display_data"
    },
    {
     "data": {
      "application/vnd.jupyter.widget-view+json": {
       "model_id": "71bf07dffd47456f8c8249ba60a048d5",
       "version_major": 2,
       "version_minor": 0
      },
      "text/plain": [
       "Scanning spectrum:   0%|          | 0/20 [00:00<?, ?it/s]"
      ]
     },
     "metadata": {},
     "output_type": "display_data"
    },
    {
     "data": {
      "application/vnd.jupyter.widget-view+json": {
       "model_id": "fef266cd16da4464982c7e330de60822",
       "version_major": 2,
       "version_minor": 0
      },
      "text/plain": [
       "Scanning spectrum:   0%|          | 0/20 [00:00<?, ?it/s]"
      ]
     },
     "metadata": {},
     "output_type": "display_data"
    },
    {
     "data": {
      "application/vnd.jupyter.widget-view+json": {
       "model_id": "a0c50ab8751f403da08bc3a2da16ee13",
       "version_major": 2,
       "version_minor": 0
      },
      "text/plain": [
       "Scanning spectrum:   0%|          | 0/20 [00:00<?, ?it/s]"
      ]
     },
     "metadata": {},
     "output_type": "display_data"
    },
    {
     "data": {
      "application/vnd.jupyter.widget-view+json": {
       "model_id": "f4e5830b497d49aab0a190e8069a1b35",
       "version_major": 2,
       "version_minor": 0
      },
      "text/plain": [
       "Scanning spectrum:   0%|          | 0/20 [00:00<?, ?it/s]"
      ]
     },
     "metadata": {},
     "output_type": "display_data"
    },
    {
     "data": {
      "application/vnd.jupyter.widget-view+json": {
       "model_id": "63c1c7b9dd984ba2a6f23700aaa954aa",
       "version_major": 2,
       "version_minor": 0
      },
      "text/plain": [
       "Scanning spectrum:   0%|          | 0/20 [00:00<?, ?it/s]"
      ]
     },
     "metadata": {},
     "output_type": "display_data"
    },
    {
     "data": {
      "application/vnd.jupyter.widget-view+json": {
       "model_id": "ee18351fc50749889883acc133bffead",
       "version_major": 2,
       "version_minor": 0
      },
      "text/plain": [
       "Scanning spectrum:   0%|          | 0/20 [00:00<?, ?it/s]"
      ]
     },
     "metadata": {},
     "output_type": "display_data"
    },
    {
     "data": {
      "application/vnd.jupyter.widget-view+json": {
       "model_id": "6b6c9ab568664010b0834a19ee44bb6e",
       "version_major": 2,
       "version_minor": 0
      },
      "text/plain": [
       "Scanning spectrum:   0%|          | 0/20 [00:00<?, ?it/s]"
      ]
     },
     "metadata": {},
     "output_type": "display_data"
    },
    {
     "data": {
      "application/vnd.jupyter.widget-view+json": {
       "model_id": "b6b667ab67c14d48bb69417de3fced10",
       "version_major": 2,
       "version_minor": 0
      },
      "text/plain": [
       "Scanning spectrum:   0%|          | 0/20 [00:00<?, ?it/s]"
      ]
     },
     "metadata": {},
     "output_type": "display_data"
    },
    {
     "data": {
      "application/vnd.jupyter.widget-view+json": {
       "model_id": "5250f886ec5f489e862b58e441581f6e",
       "version_major": 2,
       "version_minor": 0
      },
      "text/plain": [
       "Scanning spectrum:   0%|          | 0/20 [00:00<?, ?it/s]"
      ]
     },
     "metadata": {},
     "output_type": "display_data"
    },
    {
     "data": {
      "application/vnd.jupyter.widget-view+json": {
       "model_id": "b0dffb6be2664bbeab18c9afa75fbc33",
       "version_major": 2,
       "version_minor": 0
      },
      "text/plain": [
       "Scanning spectrum:   0%|          | 0/20 [00:00<?, ?it/s]"
      ]
     },
     "metadata": {},
     "output_type": "display_data"
    },
    {
     "data": {
      "application/vnd.jupyter.widget-view+json": {
       "model_id": "2b549d343e3345dcb9880e561912bc7c",
       "version_major": 2,
       "version_minor": 0
      },
      "text/plain": [
       "Scanning spectrum:   0%|          | 0/20 [00:00<?, ?it/s]"
      ]
     },
     "metadata": {},
     "output_type": "display_data"
    },
    {
     "data": {
      "application/vnd.jupyter.widget-view+json": {
       "model_id": "0692434308fa4917a5a897c2539d2733",
       "version_major": 2,
       "version_minor": 0
      },
      "text/plain": [
       "Scanning spectrum:   0%|          | 0/20 [00:00<?, ?it/s]"
      ]
     },
     "metadata": {},
     "output_type": "display_data"
    },
    {
     "data": {
      "application/vnd.jupyter.widget-view+json": {
       "model_id": "cdbe5711f775422abc31dcf121e7c947",
       "version_major": 2,
       "version_minor": 0
      },
      "text/plain": [
       "Scanning spectrum:   0%|          | 0/20 [00:00<?, ?it/s]"
      ]
     },
     "metadata": {},
     "output_type": "display_data"
    },
    {
     "data": {
      "application/vnd.jupyter.widget-view+json": {
       "model_id": "6734f93c00354139a45f13081a3d31fc",
       "version_major": 2,
       "version_minor": 0
      },
      "text/plain": [
       "Scanning spectrum:   0%|          | 0/20 [00:00<?, ?it/s]"
      ]
     },
     "metadata": {},
     "output_type": "display_data"
    },
    {
     "data": {
      "application/vnd.jupyter.widget-view+json": {
       "model_id": "3af7d1ba6f8d4b2a97e34ab9fcaf1d1d",
       "version_major": 2,
       "version_minor": 0
      },
      "text/plain": [
       "Scanning spectrum:   0%|          | 0/20 [00:00<?, ?it/s]"
      ]
     },
     "metadata": {},
     "output_type": "display_data"
    },
    {
     "data": {
      "application/vnd.jupyter.widget-view+json": {
       "model_id": "77dee0dc327847b3bf4aaf858a53f6df",
       "version_major": 2,
       "version_minor": 0
      },
      "text/plain": [
       "Scanning spectrum:   0%|          | 0/20 [00:00<?, ?it/s]"
      ]
     },
     "metadata": {},
     "output_type": "display_data"
    },
    {
     "data": {
      "application/vnd.jupyter.widget-view+json": {
       "model_id": "f4b1c4f8d5774338a7c51bc9dd625d43",
       "version_major": 2,
       "version_minor": 0
      },
      "text/plain": [
       "Scanning spectrum:   0%|          | 0/20 [00:00<?, ?it/s]"
      ]
     },
     "metadata": {},
     "output_type": "display_data"
    },
    {
     "data": {
      "application/vnd.jupyter.widget-view+json": {
       "model_id": "87555890fba64ec9a8ff426599103587",
       "version_major": 2,
       "version_minor": 0
      },
      "text/plain": [
       "Scanning spectrum:   0%|          | 0/20 [00:00<?, ?it/s]"
      ]
     },
     "metadata": {},
     "output_type": "display_data"
    },
    {
     "data": {
      "application/vnd.jupyter.widget-view+json": {
       "model_id": "3f21265b956848838a5f182773ad0784",
       "version_major": 2,
       "version_minor": 0
      },
      "text/plain": [
       "Scanning spectrum:   0%|          | 0/20 [00:00<?, ?it/s]"
      ]
     },
     "metadata": {},
     "output_type": "display_data"
    },
    {
     "data": {
      "application/vnd.jupyter.widget-view+json": {
       "model_id": "375cc87171c94c10a5c261cf224870d6",
       "version_major": 2,
       "version_minor": 0
      },
      "text/plain": [
       "Scanning spectrum:   0%|          | 0/20 [00:00<?, ?it/s]"
      ]
     },
     "metadata": {},
     "output_type": "display_data"
    },
    {
     "data": {
      "application/vnd.jupyter.widget-view+json": {
       "model_id": "ef9be9c8038f45a780960595e13b5048",
       "version_major": 2,
       "version_minor": 0
      },
      "text/plain": [
       "Scanning spectrum:   0%|          | 0/20 [00:00<?, ?it/s]"
      ]
     },
     "metadata": {},
     "output_type": "display_data"
    },
    {
     "data": {
      "application/vnd.jupyter.widget-view+json": {
       "model_id": "e777811f8a7d4e2e947ab44258f225be",
       "version_major": 2,
       "version_minor": 0
      },
      "text/plain": [
       "Scanning spectrum:   0%|          | 0/20 [00:00<?, ?it/s]"
      ]
     },
     "metadata": {},
     "output_type": "display_data"
    },
    {
     "data": {
      "application/vnd.jupyter.widget-view+json": {
       "model_id": "442846cccfe64b7496ee5035eb6ec4da",
       "version_major": 2,
       "version_minor": 0
      },
      "text/plain": [
       "Scanning spectrum:   0%|          | 0/20 [00:00<?, ?it/s]"
      ]
     },
     "metadata": {},
     "output_type": "display_data"
    },
    {
     "data": {
      "application/vnd.jupyter.widget-view+json": {
       "model_id": "a940dff67a9d4c408680b9ec9fd13075",
       "version_major": 2,
       "version_minor": 0
      },
      "text/plain": [
       "Scanning spectrum:   0%|          | 0/20 [00:00<?, ?it/s]"
      ]
     },
     "metadata": {},
     "output_type": "display_data"
    },
    {
     "data": {
      "application/vnd.jupyter.widget-view+json": {
       "model_id": "f81ce2e981cf4f8a827b4ad0b1ad3a4c",
       "version_major": 2,
       "version_minor": 0
      },
      "text/plain": [
       "Scanning spectrum:   0%|          | 0/20 [00:00<?, ?it/s]"
      ]
     },
     "metadata": {},
     "output_type": "display_data"
    },
    {
     "data": {
      "application/vnd.jupyter.widget-view+json": {
       "model_id": "37eb7f777dda4c368ac0380f078a85e7",
       "version_major": 2,
       "version_minor": 0
      },
      "text/plain": [
       "Scanning spectrum:   0%|          | 0/20 [00:00<?, ?it/s]"
      ]
     },
     "metadata": {},
     "output_type": "display_data"
    },
    {
     "data": {
      "application/vnd.jupyter.widget-view+json": {
       "model_id": "53e8d6b4425b478e802fb75f52d8512f",
       "version_major": 2,
       "version_minor": 0
      },
      "text/plain": [
       "Scanning spectrum:   0%|          | 0/20 [00:00<?, ?it/s]"
      ]
     },
     "metadata": {},
     "output_type": "display_data"
    },
    {
     "data": {
      "application/vnd.jupyter.widget-view+json": {
       "model_id": "5cd9e4fa74f742ae99d3d7a98e47a4e2",
       "version_major": 2,
       "version_minor": 0
      },
      "text/plain": [
       "Scanning spectrum:   0%|          | 0/20 [00:00<?, ?it/s]"
      ]
     },
     "metadata": {},
     "output_type": "display_data"
    },
    {
     "data": {
      "application/vnd.jupyter.widget-view+json": {
       "model_id": "c6f609eb255e4e00958aa388052a2260",
       "version_major": 2,
       "version_minor": 0
      },
      "text/plain": [
       "Scanning spectrum:   0%|          | 0/20 [00:00<?, ?it/s]"
      ]
     },
     "metadata": {},
     "output_type": "display_data"
    },
    {
     "data": {
      "application/vnd.jupyter.widget-view+json": {
       "model_id": "61ec0b58d6de4e489d2992e829030cf8",
       "version_major": 2,
       "version_minor": 0
      },
      "text/plain": [
       "Scanning spectrum:   0%|          | 0/20 [00:00<?, ?it/s]"
      ]
     },
     "metadata": {},
     "output_type": "display_data"
    },
    {
     "data": {
      "application/vnd.jupyter.widget-view+json": {
       "model_id": "4c3f40e7213042e49180fdfede5b6aca",
       "version_major": 2,
       "version_minor": 0
      },
      "text/plain": [
       "Scanning spectrum:   0%|          | 0/20 [00:00<?, ?it/s]"
      ]
     },
     "metadata": {},
     "output_type": "display_data"
    },
    {
     "data": {
      "application/vnd.jupyter.widget-view+json": {
       "model_id": "050ae5bf2dce41a0bcbead812f602a45",
       "version_major": 2,
       "version_minor": 0
      },
      "text/plain": [
       "Scanning spectrum:   0%|          | 0/20 [00:00<?, ?it/s]"
      ]
     },
     "metadata": {},
     "output_type": "display_data"
    },
    {
     "data": {
      "application/vnd.jupyter.widget-view+json": {
       "model_id": "09883d14ae124bbabf190ebd29278aa7",
       "version_major": 2,
       "version_minor": 0
      },
      "text/plain": [
       "Scanning spectrum:   0%|          | 0/20 [00:00<?, ?it/s]"
      ]
     },
     "metadata": {},
     "output_type": "display_data"
    },
    {
     "data": {
      "application/vnd.jupyter.widget-view+json": {
       "model_id": "974cf50fb2f747c09fc176160b5f8b2a",
       "version_major": 2,
       "version_minor": 0
      },
      "text/plain": [
       "Scanning spectrum:   0%|          | 0/20 [00:00<?, ?it/s]"
      ]
     },
     "metadata": {},
     "output_type": "display_data"
    },
    {
     "data": {
      "application/vnd.jupyter.widget-view+json": {
       "model_id": "edfb57ff24374ae480c5c19089e3390e",
       "version_major": 2,
       "version_minor": 0
      },
      "text/plain": [
       "Scanning spectrum:   0%|          | 0/20 [00:00<?, ?it/s]"
      ]
     },
     "metadata": {},
     "output_type": "display_data"
    },
    {
     "data": {
      "application/vnd.jupyter.widget-view+json": {
       "model_id": "34202f182f9642ba8432f77ae1a507d4",
       "version_major": 2,
       "version_minor": 0
      },
      "text/plain": [
       "Scanning spectrum:   0%|          | 0/20 [00:00<?, ?it/s]"
      ]
     },
     "metadata": {},
     "output_type": "display_data"
    },
    {
     "data": {
      "application/vnd.jupyter.widget-view+json": {
       "model_id": "b11fa04cc7814dbab62091e98f9bcf82",
       "version_major": 2,
       "version_minor": 0
      },
      "text/plain": [
       "Scanning spectrum:   0%|          | 0/20 [00:00<?, ?it/s]"
      ]
     },
     "metadata": {},
     "output_type": "display_data"
    },
    {
     "data": {
      "application/vnd.jupyter.widget-view+json": {
       "model_id": "8b8c884d7dc4411d9f137bea08ef4bb9",
       "version_major": 2,
       "version_minor": 0
      },
      "text/plain": [
       "Scanning spectrum:   0%|          | 0/20 [00:00<?, ?it/s]"
      ]
     },
     "metadata": {},
     "output_type": "display_data"
    },
    {
     "data": {
      "application/vnd.jupyter.widget-view+json": {
       "model_id": "7a01dfb00bb144a08ac2aca6e9872dec",
       "version_major": 2,
       "version_minor": 0
      },
      "text/plain": [
       "Scanning spectrum:   0%|          | 0/20 [00:00<?, ?it/s]"
      ]
     },
     "metadata": {},
     "output_type": "display_data"
    },
    {
     "data": {
      "application/vnd.jupyter.widget-view+json": {
       "model_id": "f83b5b4f1b9645f38640acd44c74d611",
       "version_major": 2,
       "version_minor": 0
      },
      "text/plain": [
       "Scanning spectrum:   0%|          | 0/20 [00:00<?, ?it/s]"
      ]
     },
     "metadata": {},
     "output_type": "display_data"
    },
    {
     "data": {
      "application/vnd.jupyter.widget-view+json": {
       "model_id": "4e12476886694cf9aabe436a047ea087",
       "version_major": 2,
       "version_minor": 0
      },
      "text/plain": [
       "Scanning spectrum:   0%|          | 0/20 [00:00<?, ?it/s]"
      ]
     },
     "metadata": {},
     "output_type": "display_data"
    },
    {
     "data": {
      "application/vnd.jupyter.widget-view+json": {
       "model_id": "b198202c4ec34fb98cb74b0a3a23b177",
       "version_major": 2,
       "version_minor": 0
      },
      "text/plain": [
       "Scanning spectrum:   0%|          | 0/20 [00:00<?, ?it/s]"
      ]
     },
     "metadata": {},
     "output_type": "display_data"
    },
    {
     "data": {
      "application/vnd.jupyter.widget-view+json": {
       "model_id": "2e24d2b0d662445994a2a4e430217948",
       "version_major": 2,
       "version_minor": 0
      },
      "text/plain": [
       "Scanning spectrum:   0%|          | 0/20 [00:00<?, ?it/s]"
      ]
     },
     "metadata": {},
     "output_type": "display_data"
    },
    {
     "data": {
      "application/vnd.jupyter.widget-view+json": {
       "model_id": "aae2654fb65f4fe1ab195ae0e8fef8ec",
       "version_major": 2,
       "version_minor": 0
      },
      "text/plain": [
       "Scanning spectrum:   0%|          | 0/20 [00:00<?, ?it/s]"
      ]
     },
     "metadata": {},
     "output_type": "display_data"
    },
    {
     "data": {
      "application/vnd.jupyter.widget-view+json": {
       "model_id": "54e88a431e164b5e905497de1b5e8b4c",
       "version_major": 2,
       "version_minor": 0
      },
      "text/plain": [
       "Scanning spectrum:   0%|          | 0/20 [00:00<?, ?it/s]"
      ]
     },
     "metadata": {},
     "output_type": "display_data"
    },
    {
     "data": {
      "application/vnd.jupyter.widget-view+json": {
       "model_id": "8881c9ca5540481eb2bceec3ba3e8501",
       "version_major": 2,
       "version_minor": 0
      },
      "text/plain": [
       "Scanning spectrum:   0%|          | 0/20 [00:00<?, ?it/s]"
      ]
     },
     "metadata": {},
     "output_type": "display_data"
    },
    {
     "data": {
      "application/vnd.jupyter.widget-view+json": {
       "model_id": "4c5dce7673ce42b6a38b936743ed8528",
       "version_major": 2,
       "version_minor": 0
      },
      "text/plain": [
       "Scanning spectrum:   0%|          | 0/20 [00:00<?, ?it/s]"
      ]
     },
     "metadata": {},
     "output_type": "display_data"
    },
    {
     "data": {
      "application/vnd.jupyter.widget-view+json": {
       "model_id": "e2ad2127f4c44a60b990465382ec66b5",
       "version_major": 2,
       "version_minor": 0
      },
      "text/plain": [
       "Scanning spectrum:   0%|          | 0/20 [00:00<?, ?it/s]"
      ]
     },
     "metadata": {},
     "output_type": "display_data"
    },
    {
     "data": {
      "application/vnd.jupyter.widget-view+json": {
       "model_id": "1285b015608e4196a1363fb61f02e60d",
       "version_major": 2,
       "version_minor": 0
      },
      "text/plain": [
       "Scanning spectrum:   0%|          | 0/20 [00:00<?, ?it/s]"
      ]
     },
     "metadata": {},
     "output_type": "display_data"
    },
    {
     "data": {
      "application/vnd.jupyter.widget-view+json": {
       "model_id": "9dc8051b56344048967a4fbe6d591657",
       "version_major": 2,
       "version_minor": 0
      },
      "text/plain": [
       "Scanning spectrum:   0%|          | 0/20 [00:00<?, ?it/s]"
      ]
     },
     "metadata": {},
     "output_type": "display_data"
    },
    {
     "data": {
      "application/vnd.jupyter.widget-view+json": {
       "model_id": "998870fbcbd5475b9ad494305d0e918b",
       "version_major": 2,
       "version_minor": 0
      },
      "text/plain": [
       "Scanning spectrum:   0%|          | 0/20 [00:00<?, ?it/s]"
      ]
     },
     "metadata": {},
     "output_type": "display_data"
    },
    {
     "data": {
      "application/vnd.jupyter.widget-view+json": {
       "model_id": "bf50af51441a477d8cbbe4bab06589a5",
       "version_major": 2,
       "version_minor": 0
      },
      "text/plain": [
       "Scanning spectrum:   0%|          | 0/20 [00:00<?, ?it/s]"
      ]
     },
     "metadata": {},
     "output_type": "display_data"
    },
    {
     "data": {
      "application/vnd.jupyter.widget-view+json": {
       "model_id": "9de3187e561344ae908b805d19f474af",
       "version_major": 2,
       "version_minor": 0
      },
      "text/plain": [
       "Scanning spectrum:   0%|          | 0/20 [00:00<?, ?it/s]"
      ]
     },
     "metadata": {},
     "output_type": "display_data"
    },
    {
     "data": {
      "application/vnd.jupyter.widget-view+json": {
       "model_id": "4608614a434e495aa0bc7344d1ed81f8",
       "version_major": 2,
       "version_minor": 0
      },
      "text/plain": [
       "Scanning spectrum:   0%|          | 0/20 [00:00<?, ?it/s]"
      ]
     },
     "metadata": {},
     "output_type": "display_data"
    },
    {
     "data": {
      "application/vnd.jupyter.widget-view+json": {
       "model_id": "6471cfa40e134e68a65558af8254c356",
       "version_major": 2,
       "version_minor": 0
      },
      "text/plain": [
       "Scanning spectrum:   0%|          | 0/20 [00:00<?, ?it/s]"
      ]
     },
     "metadata": {},
     "output_type": "display_data"
    },
    {
     "data": {
      "application/vnd.jupyter.widget-view+json": {
       "model_id": "db24191850f9479baca1d0e4b955b429",
       "version_major": 2,
       "version_minor": 0
      },
      "text/plain": [
       "Scanning spectrum:   0%|          | 0/20 [00:00<?, ?it/s]"
      ]
     },
     "metadata": {},
     "output_type": "display_data"
    },
    {
     "data": {
      "application/vnd.jupyter.widget-view+json": {
       "model_id": "435a6346d34e47f1863ca35242d846b1",
       "version_major": 2,
       "version_minor": 0
      },
      "text/plain": [
       "Scanning spectrum:   0%|          | 0/20 [00:00<?, ?it/s]"
      ]
     },
     "metadata": {},
     "output_type": "display_data"
    },
    {
     "data": {
      "application/vnd.jupyter.widget-view+json": {
       "model_id": "16f7b4eb861544369f31e05ffad8775e",
       "version_major": 2,
       "version_minor": 0
      },
      "text/plain": [
       "Scanning spectrum:   0%|          | 0/20 [00:00<?, ?it/s]"
      ]
     },
     "metadata": {},
     "output_type": "display_data"
    },
    {
     "data": {
      "application/vnd.jupyter.widget-view+json": {
       "model_id": "86e61296079a4a979de6f380316577e0",
       "version_major": 2,
       "version_minor": 0
      },
      "text/plain": [
       "Scanning spectrum:   0%|          | 0/20 [00:00<?, ?it/s]"
      ]
     },
     "metadata": {},
     "output_type": "display_data"
    },
    {
     "data": {
      "application/vnd.jupyter.widget-view+json": {
       "model_id": "7d2d44b331f54d9cb4ee68ac964b945b",
       "version_major": 2,
       "version_minor": 0
      },
      "text/plain": [
       "Scanning spectrum:   0%|          | 0/20 [00:00<?, ?it/s]"
      ]
     },
     "metadata": {},
     "output_type": "display_data"
    },
    {
     "data": {
      "application/vnd.jupyter.widget-view+json": {
       "model_id": "319394e7cb9248619b27e16ae7e9d5e1",
       "version_major": 2,
       "version_minor": 0
      },
      "text/plain": [
       "Scanning spectrum:   0%|          | 0/20 [00:00<?, ?it/s]"
      ]
     },
     "metadata": {},
     "output_type": "display_data"
    },
    {
     "data": {
      "application/vnd.jupyter.widget-view+json": {
       "model_id": "3d165d969f934ea6bc943b61f1322fb7",
       "version_major": 2,
       "version_minor": 0
      },
      "text/plain": [
       "Scanning spectrum:   0%|          | 0/20 [00:00<?, ?it/s]"
      ]
     },
     "metadata": {},
     "output_type": "display_data"
    },
    {
     "data": {
      "application/vnd.jupyter.widget-view+json": {
       "model_id": "d730e8267afd441e963653c182ebb465",
       "version_major": 2,
       "version_minor": 0
      },
      "text/plain": [
       "Scanning spectrum:   0%|          | 0/20 [00:00<?, ?it/s]"
      ]
     },
     "metadata": {},
     "output_type": "display_data"
    },
    {
     "data": {
      "application/vnd.jupyter.widget-view+json": {
       "model_id": "76505fac09b94be0a205e2601ce2804b",
       "version_major": 2,
       "version_minor": 0
      },
      "text/plain": [
       "Scanning spectrum:   0%|          | 0/20 [00:00<?, ?it/s]"
      ]
     },
     "metadata": {},
     "output_type": "display_data"
    },
    {
     "data": {
      "application/vnd.jupyter.widget-view+json": {
       "model_id": "07d4e607df65469ca29488b7de8db1df",
       "version_major": 2,
       "version_minor": 0
      },
      "text/plain": [
       "Scanning spectrum:   0%|          | 0/20 [00:00<?, ?it/s]"
      ]
     },
     "metadata": {},
     "output_type": "display_data"
    },
    {
     "data": {
      "application/vnd.jupyter.widget-view+json": {
       "model_id": "48a4e978392c48f8bf7fafe8672cadc8",
       "version_major": 2,
       "version_minor": 0
      },
      "text/plain": [
       "Scanning spectrum:   0%|          | 0/20 [00:00<?, ?it/s]"
      ]
     },
     "metadata": {},
     "output_type": "display_data"
    },
    {
     "data": {
      "application/vnd.jupyter.widget-view+json": {
       "model_id": "e6f833ece3d74ba59cce01dc0cf9116c",
       "version_major": 2,
       "version_minor": 0
      },
      "text/plain": [
       "Scanning spectrum:   0%|          | 0/20 [00:00<?, ?it/s]"
      ]
     },
     "metadata": {},
     "output_type": "display_data"
    },
    {
     "data": {
      "application/vnd.jupyter.widget-view+json": {
       "model_id": "47021a2481c244a48b59c8a1087f6bfd",
       "version_major": 2,
       "version_minor": 0
      },
      "text/plain": [
       "Scanning spectrum:   0%|          | 0/20 [00:00<?, ?it/s]"
      ]
     },
     "metadata": {},
     "output_type": "display_data"
    },
    {
     "data": {
      "application/vnd.jupyter.widget-view+json": {
       "model_id": "5d1c42fd3ac2414f90f01a339442474f",
       "version_major": 2,
       "version_minor": 0
      },
      "text/plain": [
       "Scanning spectrum:   0%|          | 0/20 [00:00<?, ?it/s]"
      ]
     },
     "metadata": {},
     "output_type": "display_data"
    },
    {
     "data": {
      "application/vnd.jupyter.widget-view+json": {
       "model_id": "db7f28d08d34485f9ac3521276ee73e8",
       "version_major": 2,
       "version_minor": 0
      },
      "text/plain": [
       "Scanning spectrum:   0%|          | 0/20 [00:00<?, ?it/s]"
      ]
     },
     "metadata": {},
     "output_type": "display_data"
    },
    {
     "data": {
      "application/vnd.jupyter.widget-view+json": {
       "model_id": "add865af4a9840d8b3f7c8d92cfcdb93",
       "version_major": 2,
       "version_minor": 0
      },
      "text/plain": [
       "Scanning spectrum:   0%|          | 0/20 [00:00<?, ?it/s]"
      ]
     },
     "metadata": {},
     "output_type": "display_data"
    },
    {
     "data": {
      "application/vnd.jupyter.widget-view+json": {
       "model_id": "09347d00560f4b4e84f9b9cacdfb4fd3",
       "version_major": 2,
       "version_minor": 0
      },
      "text/plain": [
       "Scanning spectrum:   0%|          | 0/20 [00:00<?, ?it/s]"
      ]
     },
     "metadata": {},
     "output_type": "display_data"
    },
    {
     "data": {
      "application/vnd.jupyter.widget-view+json": {
       "model_id": "9ca5021a65874c5fad3f1b1f10ef1b22",
       "version_major": 2,
       "version_minor": 0
      },
      "text/plain": [
       "Scanning spectrum:   0%|          | 0/20 [00:00<?, ?it/s]"
      ]
     },
     "metadata": {},
     "output_type": "display_data"
    },
    {
     "data": {
      "application/vnd.jupyter.widget-view+json": {
       "model_id": "176ab7c0b22a423aa9e7ed77d7595fcf",
       "version_major": 2,
       "version_minor": 0
      },
      "text/plain": [
       "Scanning spectrum:   0%|          | 0/20 [00:00<?, ?it/s]"
      ]
     },
     "metadata": {},
     "output_type": "display_data"
    },
    {
     "data": {
      "application/vnd.jupyter.widget-view+json": {
       "model_id": "df8a3dcf5a4a4f339f4adec4023e5535",
       "version_major": 2,
       "version_minor": 0
      },
      "text/plain": [
       "Scanning spectrum:   0%|          | 0/20 [00:00<?, ?it/s]"
      ]
     },
     "metadata": {},
     "output_type": "display_data"
    },
    {
     "data": {
      "application/vnd.jupyter.widget-view+json": {
       "model_id": "f3c8078fdeae4aa78fc2a9e14682e112",
       "version_major": 2,
       "version_minor": 0
      },
      "text/plain": [
       "Scanning spectrum:   0%|          | 0/20 [00:00<?, ?it/s]"
      ]
     },
     "metadata": {},
     "output_type": "display_data"
    },
    {
     "data": {
      "application/vnd.jupyter.widget-view+json": {
       "model_id": "260e5c2bedf74651bd8b6240ea690ff5",
       "version_major": 2,
       "version_minor": 0
      },
      "text/plain": [
       "Scanning spectrum:   0%|          | 0/20 [00:00<?, ?it/s]"
      ]
     },
     "metadata": {},
     "output_type": "display_data"
    },
    {
     "data": {
      "application/vnd.jupyter.widget-view+json": {
       "model_id": "ad41a4dff0a2484ab082661c86247ce8",
       "version_major": 2,
       "version_minor": 0
      },
      "text/plain": [
       "Scanning spectrum:   0%|          | 0/20 [00:00<?, ?it/s]"
      ]
     },
     "metadata": {},
     "output_type": "display_data"
    },
    {
     "data": {
      "application/vnd.jupyter.widget-view+json": {
       "model_id": "764d6895e4864ca9b15678d0d1dc8cc3",
       "version_major": 2,
       "version_minor": 0
      },
      "text/plain": [
       "Scanning spectrum:   0%|          | 0/20 [00:00<?, ?it/s]"
      ]
     },
     "metadata": {},
     "output_type": "display_data"
    },
    {
     "data": {
      "application/vnd.jupyter.widget-view+json": {
       "model_id": "c6d0e10f28e94e2d9df22e595671ba49",
       "version_major": 2,
       "version_minor": 0
      },
      "text/plain": [
       "Scanning spectrum:   0%|          | 0/20 [00:00<?, ?it/s]"
      ]
     },
     "metadata": {},
     "output_type": "display_data"
    },
    {
     "data": {
      "application/vnd.jupyter.widget-view+json": {
       "model_id": "000fe1d337ee4fe9b43823155892e540",
       "version_major": 2,
       "version_minor": 0
      },
      "text/plain": [
       "Scanning spectrum:   0%|          | 0/20 [00:00<?, ?it/s]"
      ]
     },
     "metadata": {},
     "output_type": "display_data"
    },
    {
     "data": {
      "application/vnd.jupyter.widget-view+json": {
       "model_id": "4f4792468d8a4a45981ef08bf3fde8a8",
       "version_major": 2,
       "version_minor": 0
      },
      "text/plain": [
       "Scanning spectrum:   0%|          | 0/20 [00:00<?, ?it/s]"
      ]
     },
     "metadata": {},
     "output_type": "display_data"
    },
    {
     "data": {
      "application/vnd.jupyter.widget-view+json": {
       "model_id": "5b3f91c12573414588ef7c1078875960",
       "version_major": 2,
       "version_minor": 0
      },
      "text/plain": [
       "Scanning spectrum:   0%|          | 0/20 [00:00<?, ?it/s]"
      ]
     },
     "metadata": {},
     "output_type": "display_data"
    },
    {
     "data": {
      "application/vnd.jupyter.widget-view+json": {
       "model_id": "52dc2446022c4f0d8a8fd5dc961bdb29",
       "version_major": 2,
       "version_minor": 0
      },
      "text/plain": [
       "Scanning spectrum:   0%|          | 0/20 [00:00<?, ?it/s]"
      ]
     },
     "metadata": {},
     "output_type": "display_data"
    },
    {
     "data": {
      "application/vnd.jupyter.widget-view+json": {
       "model_id": "e7977bd30da6442e950ed53a09c143a8",
       "version_major": 2,
       "version_minor": 0
      },
      "text/plain": [
       "Scanning spectrum:   0%|          | 0/20 [00:00<?, ?it/s]"
      ]
     },
     "metadata": {},
     "output_type": "display_data"
    },
    {
     "data": {
      "application/vnd.jupyter.widget-view+json": {
       "model_id": "99495bf88edc4c07a1835f9b4e72bde5",
       "version_major": 2,
       "version_minor": 0
      },
      "text/plain": [
       "Scanning spectrum:   0%|          | 0/20 [00:00<?, ?it/s]"
      ]
     },
     "metadata": {},
     "output_type": "display_data"
    },
    {
     "data": {
      "application/vnd.jupyter.widget-view+json": {
       "model_id": "3ca80849e2554bba910420d44460598c",
       "version_major": 2,
       "version_minor": 0
      },
      "text/plain": [
       "Scanning spectrum:   0%|          | 0/20 [00:00<?, ?it/s]"
      ]
     },
     "metadata": {},
     "output_type": "display_data"
    },
    {
     "data": {
      "application/vnd.jupyter.widget-view+json": {
       "model_id": "17bda3357bd64b5580d768f172b5630d",
       "version_major": 2,
       "version_minor": 0
      },
      "text/plain": [
       "Scanning spectrum:   0%|          | 0/20 [00:00<?, ?it/s]"
      ]
     },
     "metadata": {},
     "output_type": "display_data"
    },
    {
     "data": {
      "application/vnd.jupyter.widget-view+json": {
       "model_id": "8ad8c789d7284d3597d8e8ad6da0569c",
       "version_major": 2,
       "version_minor": 0
      },
      "text/plain": [
       "Scanning spectrum:   0%|          | 0/20 [00:00<?, ?it/s]"
      ]
     },
     "metadata": {},
     "output_type": "display_data"
    },
    {
     "data": {
      "application/vnd.jupyter.widget-view+json": {
       "model_id": "a39acef55afe437ca3ba64fb798659e5",
       "version_major": 2,
       "version_minor": 0
      },
      "text/plain": [
       "Scanning spectrum:   0%|          | 0/20 [00:00<?, ?it/s]"
      ]
     },
     "metadata": {},
     "output_type": "display_data"
    },
    {
     "data": {
      "application/vnd.jupyter.widget-view+json": {
       "model_id": "68d2195a5ca74236a03e6dfd24166a72",
       "version_major": 2,
       "version_minor": 0
      },
      "text/plain": [
       "Scanning spectrum:   0%|          | 0/20 [00:00<?, ?it/s]"
      ]
     },
     "metadata": {},
     "output_type": "display_data"
    },
    {
     "data": {
      "application/vnd.jupyter.widget-view+json": {
       "model_id": "efdbab4bfa244e86a857bc8db727786b",
       "version_major": 2,
       "version_minor": 0
      },
      "text/plain": [
       "Scanning spectrum:   0%|          | 0/20 [00:00<?, ?it/s]"
      ]
     },
     "metadata": {},
     "output_type": "display_data"
    },
    {
     "data": {
      "application/vnd.jupyter.widget-view+json": {
       "model_id": "0860498bbc27424a9b8587784c5f93ee",
       "version_major": 2,
       "version_minor": 0
      },
      "text/plain": [
       "Scanning spectrum:   0%|          | 0/20 [00:00<?, ?it/s]"
      ]
     },
     "metadata": {},
     "output_type": "display_data"
    },
    {
     "data": {
      "application/vnd.jupyter.widget-view+json": {
       "model_id": "967646f006174036af676aab250cc037",
       "version_major": 2,
       "version_minor": 0
      },
      "text/plain": [
       "Scanning spectrum:   0%|          | 0/20 [00:00<?, ?it/s]"
      ]
     },
     "metadata": {},
     "output_type": "display_data"
    },
    {
     "data": {
      "application/vnd.jupyter.widget-view+json": {
       "model_id": "519cce37f5434d8cad0a123aa6d39528",
       "version_major": 2,
       "version_minor": 0
      },
      "text/plain": [
       "Scanning spectrum:   0%|          | 0/20 [00:00<?, ?it/s]"
      ]
     },
     "metadata": {},
     "output_type": "display_data"
    },
    {
     "data": {
      "application/vnd.jupyter.widget-view+json": {
       "model_id": "438ae76306f04ef7b01832c6f940b795",
       "version_major": 2,
       "version_minor": 0
      },
      "text/plain": [
       "Scanning spectrum:   0%|          | 0/20 [00:00<?, ?it/s]"
      ]
     },
     "metadata": {},
     "output_type": "display_data"
    },
    {
     "data": {
      "application/vnd.jupyter.widget-view+json": {
       "model_id": "f5e05ac5f92943b3a46eb3c86dd308f7",
       "version_major": 2,
       "version_minor": 0
      },
      "text/plain": [
       "Scanning spectrum:   0%|          | 0/20 [00:00<?, ?it/s]"
      ]
     },
     "metadata": {},
     "output_type": "display_data"
    },
    {
     "data": {
      "application/vnd.jupyter.widget-view+json": {
       "model_id": "c2ba972b2eba404a844e9cde788f7fb0",
       "version_major": 2,
       "version_minor": 0
      },
      "text/plain": [
       "Scanning spectrum:   0%|          | 0/20 [00:00<?, ?it/s]"
      ]
     },
     "metadata": {},
     "output_type": "display_data"
    },
    {
     "data": {
      "application/vnd.jupyter.widget-view+json": {
       "model_id": "8c5d083eda8c47ad8c688ec0ea5b6012",
       "version_major": 2,
       "version_minor": 0
      },
      "text/plain": [
       "Scanning spectrum:   0%|          | 0/20 [00:00<?, ?it/s]"
      ]
     },
     "metadata": {},
     "output_type": "display_data"
    },
    {
     "data": {
      "application/vnd.jupyter.widget-view+json": {
       "model_id": "6bd2eb625fd3494daf887c107f675f82",
       "version_major": 2,
       "version_minor": 0
      },
      "text/plain": [
       "Scanning spectrum:   0%|          | 0/20 [00:00<?, ?it/s]"
      ]
     },
     "metadata": {},
     "output_type": "display_data"
    },
    {
     "data": {
      "application/vnd.jupyter.widget-view+json": {
       "model_id": "f7513c428cf842d9801b0614299bff50",
       "version_major": 2,
       "version_minor": 0
      },
      "text/plain": [
       "Scanning spectrum:   0%|          | 0/20 [00:00<?, ?it/s]"
      ]
     },
     "metadata": {},
     "output_type": "display_data"
    },
    {
     "data": {
      "application/vnd.jupyter.widget-view+json": {
       "model_id": "7d331f3ea8194954ab4bdc98708aac95",
       "version_major": 2,
       "version_minor": 0
      },
      "text/plain": [
       "Scanning spectrum:   0%|          | 0/20 [00:00<?, ?it/s]"
      ]
     },
     "metadata": {},
     "output_type": "display_data"
    },
    {
     "data": {
      "application/vnd.jupyter.widget-view+json": {
       "model_id": "ad6475caaeb44280b1696113021a6411",
       "version_major": 2,
       "version_minor": 0
      },
      "text/plain": [
       "Scanning spectrum:   0%|          | 0/20 [00:00<?, ?it/s]"
      ]
     },
     "metadata": {},
     "output_type": "display_data"
    },
    {
     "data": {
      "application/vnd.jupyter.widget-view+json": {
       "model_id": "810e2f79d0644680908056c537e561f5",
       "version_major": 2,
       "version_minor": 0
      },
      "text/plain": [
       "Scanning spectrum:   0%|          | 0/20 [00:00<?, ?it/s]"
      ]
     },
     "metadata": {},
     "output_type": "display_data"
    },
    {
     "data": {
      "application/vnd.jupyter.widget-view+json": {
       "model_id": "c046c31cd7254016be144add5b4e4271",
       "version_major": 2,
       "version_minor": 0
      },
      "text/plain": [
       "Scanning spectrum:   0%|          | 0/20 [00:00<?, ?it/s]"
      ]
     },
     "metadata": {},
     "output_type": "display_data"
    },
    {
     "data": {
      "application/vnd.jupyter.widget-view+json": {
       "model_id": "218df96c87f84ef6be99f3670a2c6958",
       "version_major": 2,
       "version_minor": 0
      },
      "text/plain": [
       "Scanning spectrum:   0%|          | 0/20 [00:00<?, ?it/s]"
      ]
     },
     "metadata": {},
     "output_type": "display_data"
    },
    {
     "data": {
      "application/vnd.jupyter.widget-view+json": {
       "model_id": "e83d5c7aee794b2d9256c50e34de47f1",
       "version_major": 2,
       "version_minor": 0
      },
      "text/plain": [
       "Scanning spectrum:   0%|          | 0/20 [00:00<?, ?it/s]"
      ]
     },
     "metadata": {},
     "output_type": "display_data"
    },
    {
     "data": {
      "application/vnd.jupyter.widget-view+json": {
       "model_id": "7e191bb9e565402583fd6bc05f564cbd",
       "version_major": 2,
       "version_minor": 0
      },
      "text/plain": [
       "Scanning spectrum:   0%|          | 0/20 [00:00<?, ?it/s]"
      ]
     },
     "metadata": {},
     "output_type": "display_data"
    },
    {
     "data": {
      "application/vnd.jupyter.widget-view+json": {
       "model_id": "ac79ec7d3bed4027a062f2db02ef0189",
       "version_major": 2,
       "version_minor": 0
      },
      "text/plain": [
       "Scanning spectrum:   0%|          | 0/20 [00:00<?, ?it/s]"
      ]
     },
     "metadata": {},
     "output_type": "display_data"
    },
    {
     "data": {
      "application/vnd.jupyter.widget-view+json": {
       "model_id": "ce0ebb7569c94e2882982877eb39a496",
       "version_major": 2,
       "version_minor": 0
      },
      "text/plain": [
       "Scanning spectrum:   0%|          | 0/20 [00:00<?, ?it/s]"
      ]
     },
     "metadata": {},
     "output_type": "display_data"
    },
    {
     "data": {
      "application/vnd.jupyter.widget-view+json": {
       "model_id": "813bb0e96ee44041b773864722993392",
       "version_major": 2,
       "version_minor": 0
      },
      "text/plain": [
       "Scanning spectrum:   0%|          | 0/20 [00:00<?, ?it/s]"
      ]
     },
     "metadata": {},
     "output_type": "display_data"
    },
    {
     "data": {
      "application/vnd.jupyter.widget-view+json": {
       "model_id": "f5d4bf60fc2742bd945340c402e38deb",
       "version_major": 2,
       "version_minor": 0
      },
      "text/plain": [
       "Scanning spectrum:   0%|          | 0/20 [00:00<?, ?it/s]"
      ]
     },
     "metadata": {},
     "output_type": "display_data"
    },
    {
     "data": {
      "application/vnd.jupyter.widget-view+json": {
       "model_id": "ca4fe625763c4548b05144995f18330f",
       "version_major": 2,
       "version_minor": 0
      },
      "text/plain": [
       "Scanning spectrum:   0%|          | 0/20 [00:00<?, ?it/s]"
      ]
     },
     "metadata": {},
     "output_type": "display_data"
    },
    {
     "data": {
      "application/vnd.jupyter.widget-view+json": {
       "model_id": "e1871ea117094a4d9b8d8e9424d33446",
       "version_major": 2,
       "version_minor": 0
      },
      "text/plain": [
       "Scanning spectrum:   0%|          | 0/20 [00:00<?, ?it/s]"
      ]
     },
     "metadata": {},
     "output_type": "display_data"
    },
    {
     "data": {
      "application/vnd.jupyter.widget-view+json": {
       "model_id": "9af9b2e6595246b784c81da3b40bb647",
       "version_major": 2,
       "version_minor": 0
      },
      "text/plain": [
       "Scanning spectrum:   0%|          | 0/20 [00:00<?, ?it/s]"
      ]
     },
     "metadata": {},
     "output_type": "display_data"
    },
    {
     "data": {
      "application/vnd.jupyter.widget-view+json": {
       "model_id": "54217fa205b84df893f0be050c1ef28b",
       "version_major": 2,
       "version_minor": 0
      },
      "text/plain": [
       "Scanning spectrum:   0%|          | 0/20 [00:00<?, ?it/s]"
      ]
     },
     "metadata": {},
     "output_type": "display_data"
    },
    {
     "data": {
      "application/vnd.jupyter.widget-view+json": {
       "model_id": "806c5887fb5f4382a438d9f11c77976a",
       "version_major": 2,
       "version_minor": 0
      },
      "text/plain": [
       "Scanning spectrum:   0%|          | 0/20 [00:00<?, ?it/s]"
      ]
     },
     "metadata": {},
     "output_type": "display_data"
    },
    {
     "data": {
      "application/vnd.jupyter.widget-view+json": {
       "model_id": "84b5c73a8f8043798b303c970013d558",
       "version_major": 2,
       "version_minor": 0
      },
      "text/plain": [
       "Scanning spectrum:   0%|          | 0/20 [00:00<?, ?it/s]"
      ]
     },
     "metadata": {},
     "output_type": "display_data"
    },
    {
     "data": {
      "application/vnd.jupyter.widget-view+json": {
       "model_id": "8b53d5aeb6384170acbc3ad576b8677b",
       "version_major": 2,
       "version_minor": 0
      },
      "text/plain": [
       "Scanning spectrum:   0%|          | 0/20 [00:00<?, ?it/s]"
      ]
     },
     "metadata": {},
     "output_type": "display_data"
    },
    {
     "data": {
      "application/vnd.jupyter.widget-view+json": {
       "model_id": "513a1c495a014dcda3d6241fa5bdf4b4",
       "version_major": 2,
       "version_minor": 0
      },
      "text/plain": [
       "Scanning spectrum:   0%|          | 0/20 [00:00<?, ?it/s]"
      ]
     },
     "metadata": {},
     "output_type": "display_data"
    },
    {
     "data": {
      "application/vnd.jupyter.widget-view+json": {
       "model_id": "e365c38a537d49788269b1428be3381d",
       "version_major": 2,
       "version_minor": 0
      },
      "text/plain": [
       "Scanning spectrum:   0%|          | 0/20 [00:00<?, ?it/s]"
      ]
     },
     "metadata": {},
     "output_type": "display_data"
    },
    {
     "data": {
      "application/vnd.jupyter.widget-view+json": {
       "model_id": "a333a1e2d1c64884a9f6528c15d0c8bb",
       "version_major": 2,
       "version_minor": 0
      },
      "text/plain": [
       "Scanning spectrum:   0%|          | 0/20 [00:00<?, ?it/s]"
      ]
     },
     "metadata": {},
     "output_type": "display_data"
    },
    {
     "data": {
      "application/vnd.jupyter.widget-view+json": {
       "model_id": "f702b83f48fc4542a01df9b36aa791a1",
       "version_major": 2,
       "version_minor": 0
      },
      "text/plain": [
       "Scanning spectrum:   0%|          | 0/20 [00:00<?, ?it/s]"
      ]
     },
     "metadata": {},
     "output_type": "display_data"
    },
    {
     "data": {
      "application/vnd.jupyter.widget-view+json": {
       "model_id": "e7648608080d4cd6bf7e8fe7af4342da",
       "version_major": 2,
       "version_minor": 0
      },
      "text/plain": [
       "Scanning spectrum:   0%|          | 0/20 [00:00<?, ?it/s]"
      ]
     },
     "metadata": {},
     "output_type": "display_data"
    },
    {
     "data": {
      "application/vnd.jupyter.widget-view+json": {
       "model_id": "4f1ff497845242b3bf8729f2c73dfefb",
       "version_major": 2,
       "version_minor": 0
      },
      "text/plain": [
       "Scanning spectrum:   0%|          | 0/20 [00:00<?, ?it/s]"
      ]
     },
     "metadata": {},
     "output_type": "display_data"
    },
    {
     "data": {
      "application/vnd.jupyter.widget-view+json": {
       "model_id": "a3220636bac04360a7fd42ac917f68d3",
       "version_major": 2,
       "version_minor": 0
      },
      "text/plain": [
       "Scanning spectrum:   0%|          | 0/20 [00:00<?, ?it/s]"
      ]
     },
     "metadata": {},
     "output_type": "display_data"
    },
    {
     "data": {
      "application/vnd.jupyter.widget-view+json": {
       "model_id": "779522e66ea74928b6fc38172e967585",
       "version_major": 2,
       "version_minor": 0
      },
      "text/plain": [
       "Scanning spectrum:   0%|          | 0/20 [00:00<?, ?it/s]"
      ]
     },
     "metadata": {},
     "output_type": "display_data"
    },
    {
     "data": {
      "application/vnd.jupyter.widget-view+json": {
       "model_id": "f0c3ed99ea134ed0bb2328debe273108",
       "version_major": 2,
       "version_minor": 0
      },
      "text/plain": [
       "Scanning spectrum:   0%|          | 0/20 [00:00<?, ?it/s]"
      ]
     },
     "metadata": {},
     "output_type": "display_data"
    },
    {
     "data": {
      "application/vnd.jupyter.widget-view+json": {
       "model_id": "f75793ddc3fa4de9870893cd00073dc4",
       "version_major": 2,
       "version_minor": 0
      },
      "text/plain": [
       "Scanning spectrum:   0%|          | 0/20 [00:00<?, ?it/s]"
      ]
     },
     "metadata": {},
     "output_type": "display_data"
    },
    {
     "data": {
      "application/vnd.jupyter.widget-view+json": {
       "model_id": "f0e775a928154686a78a2bf3eb108105",
       "version_major": 2,
       "version_minor": 0
      },
      "text/plain": [
       "Scanning spectrum:   0%|          | 0/20 [00:00<?, ?it/s]"
      ]
     },
     "metadata": {},
     "output_type": "display_data"
    },
    {
     "data": {
      "application/vnd.jupyter.widget-view+json": {
       "model_id": "0908159da639410ebcab3630c752559c",
       "version_major": 2,
       "version_minor": 0
      },
      "text/plain": [
       "Scanning spectrum:   0%|          | 0/20 [00:00<?, ?it/s]"
      ]
     },
     "metadata": {},
     "output_type": "display_data"
    },
    {
     "data": {
      "application/vnd.jupyter.widget-view+json": {
       "model_id": "a634bd27b72e4e71b8083fec4cc8c41a",
       "version_major": 2,
       "version_minor": 0
      },
      "text/plain": [
       "Scanning spectrum:   0%|          | 0/20 [00:00<?, ?it/s]"
      ]
     },
     "metadata": {},
     "output_type": "display_data"
    },
    {
     "data": {
      "application/vnd.jupyter.widget-view+json": {
       "model_id": "a906653361c44e91bdc1f3ff06139cce",
       "version_major": 2,
       "version_minor": 0
      },
      "text/plain": [
       "Scanning spectrum:   0%|          | 0/20 [00:00<?, ?it/s]"
      ]
     },
     "metadata": {},
     "output_type": "display_data"
    },
    {
     "data": {
      "application/vnd.jupyter.widget-view+json": {
       "model_id": "c5c96cf0e3af4af5a60a51d4ed00039d",
       "version_major": 2,
       "version_minor": 0
      },
      "text/plain": [
       "Scanning spectrum:   0%|          | 0/20 [00:00<?, ?it/s]"
      ]
     },
     "metadata": {},
     "output_type": "display_data"
    },
    {
     "data": {
      "application/vnd.jupyter.widget-view+json": {
       "model_id": "fee629b0a55d4c4988eee91ae0870744",
       "version_major": 2,
       "version_minor": 0
      },
      "text/plain": [
       "Scanning spectrum:   0%|          | 0/20 [00:00<?, ?it/s]"
      ]
     },
     "metadata": {},
     "output_type": "display_data"
    },
    {
     "data": {
      "application/vnd.jupyter.widget-view+json": {
       "model_id": "5c136f5b82524732993ba858d900905f",
       "version_major": 2,
       "version_minor": 0
      },
      "text/plain": [
       "Scanning spectrum:   0%|          | 0/20 [00:00<?, ?it/s]"
      ]
     },
     "metadata": {},
     "output_type": "display_data"
    },
    {
     "data": {
      "application/vnd.jupyter.widget-view+json": {
       "model_id": "8e4eed253a99415d9dc2e8cdc1806366",
       "version_major": 2,
       "version_minor": 0
      },
      "text/plain": [
       "Scanning spectrum:   0%|          | 0/20 [00:00<?, ?it/s]"
      ]
     },
     "metadata": {},
     "output_type": "display_data"
    },
    {
     "data": {
      "application/vnd.jupyter.widget-view+json": {
       "model_id": "bd78925c1a5143d4a123cb297ffd17d5",
       "version_major": 2,
       "version_minor": 0
      },
      "text/plain": [
       "Scanning spectrum:   0%|          | 0/20 [00:00<?, ?it/s]"
      ]
     },
     "metadata": {},
     "output_type": "display_data"
    },
    {
     "data": {
      "application/vnd.jupyter.widget-view+json": {
       "model_id": "2f5d0ca5b91749a4b0fbf8ca907dfebe",
       "version_major": 2,
       "version_minor": 0
      },
      "text/plain": [
       "Scanning spectrum:   0%|          | 0/20 [00:00<?, ?it/s]"
      ]
     },
     "metadata": {},
     "output_type": "display_data"
    },
    {
     "data": {
      "application/vnd.jupyter.widget-view+json": {
       "model_id": "26a23c853b734009b72a316889e40fd0",
       "version_major": 2,
       "version_minor": 0
      },
      "text/plain": [
       "Scanning spectrum:   0%|          | 0/20 [00:00<?, ?it/s]"
      ]
     },
     "metadata": {},
     "output_type": "display_data"
    },
    {
     "data": {
      "application/vnd.jupyter.widget-view+json": {
       "model_id": "2937ef0c12324b16adef8fc411d652a4",
       "version_major": 2,
       "version_minor": 0
      },
      "text/plain": [
       "Scanning spectrum:   0%|          | 0/20 [00:00<?, ?it/s]"
      ]
     },
     "metadata": {},
     "output_type": "display_data"
    },
    {
     "data": {
      "application/vnd.jupyter.widget-view+json": {
       "model_id": "aa8749e2fb9548a08e554b69af867b2b",
       "version_major": 2,
       "version_minor": 0
      },
      "text/plain": [
       "Scanning spectrum:   0%|          | 0/20 [00:00<?, ?it/s]"
      ]
     },
     "metadata": {},
     "output_type": "display_data"
    },
    {
     "data": {
      "application/vnd.jupyter.widget-view+json": {
       "model_id": "b19dfcd1073d48739ed4dbf02ff33401",
       "version_major": 2,
       "version_minor": 0
      },
      "text/plain": [
       "Scanning spectrum:   0%|          | 0/20 [00:00<?, ?it/s]"
      ]
     },
     "metadata": {},
     "output_type": "display_data"
    },
    {
     "data": {
      "application/vnd.jupyter.widget-view+json": {
       "model_id": "bf937c89226e442da6444009daad4f29",
       "version_major": 2,
       "version_minor": 0
      },
      "text/plain": [
       "Scanning spectrum:   0%|          | 0/20 [00:00<?, ?it/s]"
      ]
     },
     "metadata": {},
     "output_type": "display_data"
    },
    {
     "data": {
      "application/vnd.jupyter.widget-view+json": {
       "model_id": "817585c9ab1d49f59b717f34ea2df5ad",
       "version_major": 2,
       "version_minor": 0
      },
      "text/plain": [
       "Scanning spectrum:   0%|          | 0/20 [00:00<?, ?it/s]"
      ]
     },
     "metadata": {},
     "output_type": "display_data"
    },
    {
     "data": {
      "application/vnd.jupyter.widget-view+json": {
       "model_id": "54102de60f0946cd9b9634c2fefd1978",
       "version_major": 2,
       "version_minor": 0
      },
      "text/plain": [
       "Scanning spectrum:   0%|          | 0/20 [00:00<?, ?it/s]"
      ]
     },
     "metadata": {},
     "output_type": "display_data"
    },
    {
     "data": {
      "application/vnd.jupyter.widget-view+json": {
       "model_id": "de9ad4cf946f4faf9344da761d4f14a0",
       "version_major": 2,
       "version_minor": 0
      },
      "text/plain": [
       "Scanning spectrum:   0%|          | 0/20 [00:00<?, ?it/s]"
      ]
     },
     "metadata": {},
     "output_type": "display_data"
    },
    {
     "data": {
      "application/vnd.jupyter.widget-view+json": {
       "model_id": "a77964c189ac4abfaeccd85e1b5da9bb",
       "version_major": 2,
       "version_minor": 0
      },
      "text/plain": [
       "Scanning spectrum:   0%|          | 0/20 [00:00<?, ?it/s]"
      ]
     },
     "metadata": {},
     "output_type": "display_data"
    },
    {
     "data": {
      "application/vnd.jupyter.widget-view+json": {
       "model_id": "eb87033ce89f47519fa6d482112b6e66",
       "version_major": 2,
       "version_minor": 0
      },
      "text/plain": [
       "Scanning spectrum:   0%|          | 0/20 [00:00<?, ?it/s]"
      ]
     },
     "metadata": {},
     "output_type": "display_data"
    },
    {
     "data": {
      "application/vnd.jupyter.widget-view+json": {
       "model_id": "3e0fb606494e440ebafaacdb69eb48ad",
       "version_major": 2,
       "version_minor": 0
      },
      "text/plain": [
       "Scanning spectrum:   0%|          | 0/20 [00:00<?, ?it/s]"
      ]
     },
     "metadata": {},
     "output_type": "display_data"
    },
    {
     "data": {
      "application/vnd.jupyter.widget-view+json": {
       "model_id": "750bf64b753a428481937a6003fade36",
       "version_major": 2,
       "version_minor": 0
      },
      "text/plain": [
       "Scanning spectrum:   0%|          | 0/20 [00:00<?, ?it/s]"
      ]
     },
     "metadata": {},
     "output_type": "display_data"
    },
    {
     "data": {
      "application/vnd.jupyter.widget-view+json": {
       "model_id": "348b4c379b904f489fb1810f8ba70606",
       "version_major": 2,
       "version_minor": 0
      },
      "text/plain": [
       "Scanning spectrum:   0%|          | 0/20 [00:00<?, ?it/s]"
      ]
     },
     "metadata": {},
     "output_type": "display_data"
    },
    {
     "data": {
      "application/vnd.jupyter.widget-view+json": {
       "model_id": "637f5cefded545e4b33ba3dc07d31e7a",
       "version_major": 2,
       "version_minor": 0
      },
      "text/plain": [
       "Scanning spectrum:   0%|          | 0/20 [00:00<?, ?it/s]"
      ]
     },
     "metadata": {},
     "output_type": "display_data"
    },
    {
     "data": {
      "application/vnd.jupyter.widget-view+json": {
       "model_id": "6879b5c63db640dab1db53ba6497e99e",
       "version_major": 2,
       "version_minor": 0
      },
      "text/plain": [
       "Scanning spectrum:   0%|          | 0/20 [00:00<?, ?it/s]"
      ]
     },
     "metadata": {},
     "output_type": "display_data"
    },
    {
     "data": {
      "application/vnd.jupyter.widget-view+json": {
       "model_id": "8a1cdffc9bff41ffbcbcdcffc720abe0",
       "version_major": 2,
       "version_minor": 0
      },
      "text/plain": [
       "Scanning spectrum:   0%|          | 0/20 [00:00<?, ?it/s]"
      ]
     },
     "metadata": {},
     "output_type": "display_data"
    },
    {
     "data": {
      "application/vnd.jupyter.widget-view+json": {
       "model_id": "fb99662d864c47b5b9b159995cd98d9e",
       "version_major": 2,
       "version_minor": 0
      },
      "text/plain": [
       "Scanning spectrum:   0%|          | 0/20 [00:00<?, ?it/s]"
      ]
     },
     "metadata": {},
     "output_type": "display_data"
    },
    {
     "data": {
      "application/vnd.jupyter.widget-view+json": {
       "model_id": "517d375616584acea5439ffb2746d28c",
       "version_major": 2,
       "version_minor": 0
      },
      "text/plain": [
       "Scanning spectrum:   0%|          | 0/20 [00:00<?, ?it/s]"
      ]
     },
     "metadata": {},
     "output_type": "display_data"
    },
    {
     "data": {
      "application/vnd.jupyter.widget-view+json": {
       "model_id": "7784a7b966e3455db6cc39e91766da30",
       "version_major": 2,
       "version_minor": 0
      },
      "text/plain": [
       "Scanning spectrum:   0%|          | 0/20 [00:00<?, ?it/s]"
      ]
     },
     "metadata": {},
     "output_type": "display_data"
    },
    {
     "data": {
      "application/vnd.jupyter.widget-view+json": {
       "model_id": "d2b2621b91a946fd89403bdfd9b06518",
       "version_major": 2,
       "version_minor": 0
      },
      "text/plain": [
       "Scanning spectrum:   0%|          | 0/20 [00:00<?, ?it/s]"
      ]
     },
     "metadata": {},
     "output_type": "display_data"
    },
    {
     "data": {
      "application/vnd.jupyter.widget-view+json": {
       "model_id": "e4ea7eed3d094d42bcc9bdd4961a889f",
       "version_major": 2,
       "version_minor": 0
      },
      "text/plain": [
       "Scanning spectrum:   0%|          | 0/20 [00:00<?, ?it/s]"
      ]
     },
     "metadata": {},
     "output_type": "display_data"
    },
    {
     "data": {
      "application/vnd.jupyter.widget-view+json": {
       "model_id": "9e7c080e93754594b4b352bfaf08f46f",
       "version_major": 2,
       "version_minor": 0
      },
      "text/plain": [
       "Scanning spectrum:   0%|          | 0/20 [00:00<?, ?it/s]"
      ]
     },
     "metadata": {},
     "output_type": "display_data"
    },
    {
     "data": {
      "application/vnd.jupyter.widget-view+json": {
       "model_id": "c3226ab50b4048cb91d389105b10f033",
       "version_major": 2,
       "version_minor": 0
      },
      "text/plain": [
       "Scanning spectrum:   0%|          | 0/20 [00:00<?, ?it/s]"
      ]
     },
     "metadata": {},
     "output_type": "display_data"
    },
    {
     "data": {
      "application/vnd.jupyter.widget-view+json": {
       "model_id": "0081f87b6c55412d87636eb90aafa70a",
       "version_major": 2,
       "version_minor": 0
      },
      "text/plain": [
       "Scanning spectrum:   0%|          | 0/20 [00:00<?, ?it/s]"
      ]
     },
     "metadata": {},
     "output_type": "display_data"
    },
    {
     "data": {
      "application/vnd.jupyter.widget-view+json": {
       "model_id": "45359141ddd54fcfbcd63d084cd87eb9",
       "version_major": 2,
       "version_minor": 0
      },
      "text/plain": [
       "Scanning spectrum:   0%|          | 0/20 [00:00<?, ?it/s]"
      ]
     },
     "metadata": {},
     "output_type": "display_data"
    },
    {
     "data": {
      "application/vnd.jupyter.widget-view+json": {
       "model_id": "07a3bd1059f14595b6714061148a3e09",
       "version_major": 2,
       "version_minor": 0
      },
      "text/plain": [
       "Scanning spectrum:   0%|          | 0/20 [00:00<?, ?it/s]"
      ]
     },
     "metadata": {},
     "output_type": "display_data"
    },
    {
     "data": {
      "application/vnd.jupyter.widget-view+json": {
       "model_id": "2bf643ddc3864a0a86ea26e5166aefba",
       "version_major": 2,
       "version_minor": 0
      },
      "text/plain": [
       "Scanning spectrum:   0%|          | 0/20 [00:00<?, ?it/s]"
      ]
     },
     "metadata": {},
     "output_type": "display_data"
    },
    {
     "data": {
      "application/vnd.jupyter.widget-view+json": {
       "model_id": "558ae21651c6401995d58f0cc92dacc0",
       "version_major": 2,
       "version_minor": 0
      },
      "text/plain": [
       "Scanning spectrum:   0%|          | 0/20 [00:00<?, ?it/s]"
      ]
     },
     "metadata": {},
     "output_type": "display_data"
    },
    {
     "data": {
      "application/vnd.jupyter.widget-view+json": {
       "model_id": "476430c9cec441a79b5603409ea06355",
       "version_major": 2,
       "version_minor": 0
      },
      "text/plain": [
       "Scanning spectrum:   0%|          | 0/20 [00:00<?, ?it/s]"
      ]
     },
     "metadata": {},
     "output_type": "display_data"
    },
    {
     "data": {
      "application/vnd.jupyter.widget-view+json": {
       "model_id": "aa63935378794ce6bf8f3489f61da850",
       "version_major": 2,
       "version_minor": 0
      },
      "text/plain": [
       "Scanning spectrum:   0%|          | 0/20 [00:00<?, ?it/s]"
      ]
     },
     "metadata": {},
     "output_type": "display_data"
    },
    {
     "data": {
      "application/vnd.jupyter.widget-view+json": {
       "model_id": "fa41316908d54060b36fe677a1d7eb44",
       "version_major": 2,
       "version_minor": 0
      },
      "text/plain": [
       "Scanning spectrum:   0%|          | 0/20 [00:00<?, ?it/s]"
      ]
     },
     "metadata": {},
     "output_type": "display_data"
    },
    {
     "data": {
      "application/vnd.jupyter.widget-view+json": {
       "model_id": "2449f2f03574470581bb1add7924877e",
       "version_major": 2,
       "version_minor": 0
      },
      "text/plain": [
       "Scanning spectrum:   0%|          | 0/20 [00:00<?, ?it/s]"
      ]
     },
     "metadata": {},
     "output_type": "display_data"
    },
    {
     "data": {
      "application/vnd.jupyter.widget-view+json": {
       "model_id": "0c7ef506c46d4480860e308db3c8f1cc",
       "version_major": 2,
       "version_minor": 0
      },
      "text/plain": [
       "Scanning spectrum:   0%|          | 0/20 [00:00<?, ?it/s]"
      ]
     },
     "metadata": {},
     "output_type": "display_data"
    },
    {
     "data": {
      "application/vnd.jupyter.widget-view+json": {
       "model_id": "f0a8cb566f054c078b0a78b29aac9395",
       "version_major": 2,
       "version_minor": 0
      },
      "text/plain": [
       "Scanning spectrum:   0%|          | 0/20 [00:00<?, ?it/s]"
      ]
     },
     "metadata": {},
     "output_type": "display_data"
    },
    {
     "data": {
      "application/vnd.jupyter.widget-view+json": {
       "model_id": "e4a5b1f9b36f48e6b37811a73be3cdaf",
       "version_major": 2,
       "version_minor": 0
      },
      "text/plain": [
       "Scanning spectrum:   0%|          | 0/20 [00:00<?, ?it/s]"
      ]
     },
     "metadata": {},
     "output_type": "display_data"
    },
    {
     "data": {
      "application/vnd.jupyter.widget-view+json": {
       "model_id": "c7adb08a530847e2b0a4c0798ecf901f",
       "version_major": 2,
       "version_minor": 0
      },
      "text/plain": [
       "Scanning spectrum:   0%|          | 0/20 [00:00<?, ?it/s]"
      ]
     },
     "metadata": {},
     "output_type": "display_data"
    },
    {
     "data": {
      "application/vnd.jupyter.widget-view+json": {
       "model_id": "17589506fc5d4b84a1f50ec673f7f812",
       "version_major": 2,
       "version_minor": 0
      },
      "text/plain": [
       "Scanning spectrum:   0%|          | 0/20 [00:00<?, ?it/s]"
      ]
     },
     "metadata": {},
     "output_type": "display_data"
    },
    {
     "data": {
      "application/vnd.jupyter.widget-view+json": {
       "model_id": "fef13ef8e39a49aaab8a467d721fead3",
       "version_major": 2,
       "version_minor": 0
      },
      "text/plain": [
       "Scanning spectrum:   0%|          | 0/20 [00:00<?, ?it/s]"
      ]
     },
     "metadata": {},
     "output_type": "display_data"
    },
    {
     "data": {
      "application/vnd.jupyter.widget-view+json": {
       "model_id": "d6ed504bac484419a6e25b3459c5de62",
       "version_major": 2,
       "version_minor": 0
      },
      "text/plain": [
       "Scanning spectrum:   0%|          | 0/20 [00:00<?, ?it/s]"
      ]
     },
     "metadata": {},
     "output_type": "display_data"
    },
    {
     "data": {
      "application/vnd.jupyter.widget-view+json": {
       "model_id": "7fb1af3a65b542799b99d3e0ecef41cf",
       "version_major": 2,
       "version_minor": 0
      },
      "text/plain": [
       "Scanning spectrum:   0%|          | 0/20 [00:00<?, ?it/s]"
      ]
     },
     "metadata": {},
     "output_type": "display_data"
    },
    {
     "data": {
      "application/vnd.jupyter.widget-view+json": {
       "model_id": "f4d85bfb778c4eb78dbc9eb7d812018d",
       "version_major": 2,
       "version_minor": 0
      },
      "text/plain": [
       "Scanning spectrum:   0%|          | 0/20 [00:00<?, ?it/s]"
      ]
     },
     "metadata": {},
     "output_type": "display_data"
    },
    {
     "data": {
      "application/vnd.jupyter.widget-view+json": {
       "model_id": "6cee055a6ab04f79a27de045ada5794e",
       "version_major": 2,
       "version_minor": 0
      },
      "text/plain": [
       "Scanning spectrum:   0%|          | 0/20 [00:00<?, ?it/s]"
      ]
     },
     "metadata": {},
     "output_type": "display_data"
    },
    {
     "data": {
      "application/vnd.jupyter.widget-view+json": {
       "model_id": "2fc3df00e04940aba07f8cc8b611bd8a",
       "version_major": 2,
       "version_minor": 0
      },
      "text/plain": [
       "Scanning spectrum:   0%|          | 0/20 [00:00<?, ?it/s]"
      ]
     },
     "metadata": {},
     "output_type": "display_data"
    },
    {
     "data": {
      "application/vnd.jupyter.widget-view+json": {
       "model_id": "4a1c87462b544b72bc967eb9f02c3cb1",
       "version_major": 2,
       "version_minor": 0
      },
      "text/plain": [
       "Scanning spectrum:   0%|          | 0/20 [00:00<?, ?it/s]"
      ]
     },
     "metadata": {},
     "output_type": "display_data"
    },
    {
     "data": {
      "application/vnd.jupyter.widget-view+json": {
       "model_id": "2ac05c7eccd944e69f80ced3c189245c",
       "version_major": 2,
       "version_minor": 0
      },
      "text/plain": [
       "Scanning spectrum:   0%|          | 0/20 [00:00<?, ?it/s]"
      ]
     },
     "metadata": {},
     "output_type": "display_data"
    },
    {
     "data": {
      "application/vnd.jupyter.widget-view+json": {
       "model_id": "cb2b9a4983064dd78e208da22f3b92a3",
       "version_major": 2,
       "version_minor": 0
      },
      "text/plain": [
       "Scanning spectrum:   0%|          | 0/20 [00:00<?, ?it/s]"
      ]
     },
     "metadata": {},
     "output_type": "display_data"
    },
    {
     "data": {
      "application/vnd.jupyter.widget-view+json": {
       "model_id": "0ab1317d80ac4352a5bb5a520d70f781",
       "version_major": 2,
       "version_minor": 0
      },
      "text/plain": [
       "Scanning spectrum:   0%|          | 0/20 [00:00<?, ?it/s]"
      ]
     },
     "metadata": {},
     "output_type": "display_data"
    },
    {
     "data": {
      "application/vnd.jupyter.widget-view+json": {
       "model_id": "f47e7a7ef8194c47864e9d42f8958d79",
       "version_major": 2,
       "version_minor": 0
      },
      "text/plain": [
       "Scanning spectrum:   0%|          | 0/20 [00:00<?, ?it/s]"
      ]
     },
     "metadata": {},
     "output_type": "display_data"
    },
    {
     "data": {
      "application/vnd.jupyter.widget-view+json": {
       "model_id": "f601f4c00340481393f97b69dd50a114",
       "version_major": 2,
       "version_minor": 0
      },
      "text/plain": [
       "Scanning spectrum:   0%|          | 0/20 [00:00<?, ?it/s]"
      ]
     },
     "metadata": {},
     "output_type": "display_data"
    },
    {
     "data": {
      "application/vnd.jupyter.widget-view+json": {
       "model_id": "d57dd67a421048cc97e697323a6fa5e8",
       "version_major": 2,
       "version_minor": 0
      },
      "text/plain": [
       "Scanning spectrum:   0%|          | 0/20 [00:00<?, ?it/s]"
      ]
     },
     "metadata": {},
     "output_type": "display_data"
    },
    {
     "data": {
      "application/vnd.jupyter.widget-view+json": {
       "model_id": "4805e8759a954943929c279e22c0c279",
       "version_major": 2,
       "version_minor": 0
      },
      "text/plain": [
       "Scanning spectrum:   0%|          | 0/20 [00:00<?, ?it/s]"
      ]
     },
     "metadata": {},
     "output_type": "display_data"
    },
    {
     "data": {
      "application/vnd.jupyter.widget-view+json": {
       "model_id": "c8bccac912ce463cac37c4d69becf207",
       "version_major": 2,
       "version_minor": 0
      },
      "text/plain": [
       "Scanning spectrum:   0%|          | 0/20 [00:00<?, ?it/s]"
      ]
     },
     "metadata": {},
     "output_type": "display_data"
    },
    {
     "data": {
      "application/vnd.jupyter.widget-view+json": {
       "model_id": "29ec39aa6db24aa7902f55c62b737e51",
       "version_major": 2,
       "version_minor": 0
      },
      "text/plain": [
       "Scanning spectrum:   0%|          | 0/20 [00:00<?, ?it/s]"
      ]
     },
     "metadata": {},
     "output_type": "display_data"
    },
    {
     "data": {
      "application/vnd.jupyter.widget-view+json": {
       "model_id": "81a23482f408447f926a04e2be0d431d",
       "version_major": 2,
       "version_minor": 0
      },
      "text/plain": [
       "Scanning spectrum:   0%|          | 0/20 [00:00<?, ?it/s]"
      ]
     },
     "metadata": {},
     "output_type": "display_data"
    },
    {
     "data": {
      "application/vnd.jupyter.widget-view+json": {
       "model_id": "cd6b1d0a30404e40b9b94c5eb417efcd",
       "version_major": 2,
       "version_minor": 0
      },
      "text/plain": [
       "Scanning spectrum:   0%|          | 0/20 [00:00<?, ?it/s]"
      ]
     },
     "metadata": {},
     "output_type": "display_data"
    },
    {
     "data": {
      "application/vnd.jupyter.widget-view+json": {
       "model_id": "a262519b23b54c38bff414d6e347b947",
       "version_major": 2,
       "version_minor": 0
      },
      "text/plain": [
       "Scanning spectrum:   0%|          | 0/20 [00:00<?, ?it/s]"
      ]
     },
     "metadata": {},
     "output_type": "display_data"
    },
    {
     "data": {
      "application/vnd.jupyter.widget-view+json": {
       "model_id": "3bb3c5c070f84f5583d47289f2b40585",
       "version_major": 2,
       "version_minor": 0
      },
      "text/plain": [
       "Scanning spectrum:   0%|          | 0/20 [00:00<?, ?it/s]"
      ]
     },
     "metadata": {},
     "output_type": "display_data"
    },
    {
     "data": {
      "application/vnd.jupyter.widget-view+json": {
       "model_id": "b851a673ed3043f583b623403134d610",
       "version_major": 2,
       "version_minor": 0
      },
      "text/plain": [
       "Scanning spectrum:   0%|          | 0/20 [00:00<?, ?it/s]"
      ]
     },
     "metadata": {},
     "output_type": "display_data"
    },
    {
     "data": {
      "application/vnd.jupyter.widget-view+json": {
       "model_id": "4860644bca204bc6a1e173cc1c806467",
       "version_major": 2,
       "version_minor": 0
      },
      "text/plain": [
       "Scanning spectrum:   0%|          | 0/20 [00:00<?, ?it/s]"
      ]
     },
     "metadata": {},
     "output_type": "display_data"
    },
    {
     "data": {
      "application/vnd.jupyter.widget-view+json": {
       "model_id": "323c0e6be8124a1eadf99d75b2568cec",
       "version_major": 2,
       "version_minor": 0
      },
      "text/plain": [
       "Scanning spectrum:   0%|          | 0/20 [00:00<?, ?it/s]"
      ]
     },
     "metadata": {},
     "output_type": "display_data"
    },
    {
     "data": {
      "application/vnd.jupyter.widget-view+json": {
       "model_id": "ff04cff1d828449bba1765d11b5e076c",
       "version_major": 2,
       "version_minor": 0
      },
      "text/plain": [
       "Scanning spectrum:   0%|          | 0/20 [00:00<?, ?it/s]"
      ]
     },
     "metadata": {},
     "output_type": "display_data"
    },
    {
     "data": {
      "application/vnd.jupyter.widget-view+json": {
       "model_id": "80db19e0c8e3482ab89b1c9c877a9f7a",
       "version_major": 2,
       "version_minor": 0
      },
      "text/plain": [
       "Scanning spectrum:   0%|          | 0/20 [00:00<?, ?it/s]"
      ]
     },
     "metadata": {},
     "output_type": "display_data"
    },
    {
     "data": {
      "application/vnd.jupyter.widget-view+json": {
       "model_id": "3c98b8f44edd4f21b66750b3f30a921f",
       "version_major": 2,
       "version_minor": 0
      },
      "text/plain": [
       "Scanning spectrum:   0%|          | 0/20 [00:00<?, ?it/s]"
      ]
     },
     "metadata": {},
     "output_type": "display_data"
    },
    {
     "data": {
      "application/vnd.jupyter.widget-view+json": {
       "model_id": "9717d554f65349f7871ff6c13f9d5d69",
       "version_major": 2,
       "version_minor": 0
      },
      "text/plain": [
       "Scanning spectrum:   0%|          | 0/20 [00:00<?, ?it/s]"
      ]
     },
     "metadata": {},
     "output_type": "display_data"
    },
    {
     "data": {
      "application/vnd.jupyter.widget-view+json": {
       "model_id": "4503de5175bd4f79a6a2aa3d6516d478",
       "version_major": 2,
       "version_minor": 0
      },
      "text/plain": [
       "Scanning spectrum:   0%|          | 0/20 [00:00<?, ?it/s]"
      ]
     },
     "metadata": {},
     "output_type": "display_data"
    },
    {
     "data": {
      "application/vnd.jupyter.widget-view+json": {
       "model_id": "348d0e72f7244e6a87a159d1b5e2c5a0",
       "version_major": 2,
       "version_minor": 0
      },
      "text/plain": [
       "Scanning spectrum:   0%|          | 0/20 [00:00<?, ?it/s]"
      ]
     },
     "metadata": {},
     "output_type": "display_data"
    },
    {
     "data": {
      "application/vnd.jupyter.widget-view+json": {
       "model_id": "275e72ca155d431086ec6828b67d071a",
       "version_major": 2,
       "version_minor": 0
      },
      "text/plain": [
       "Scanning spectrum:   0%|          | 0/20 [00:00<?, ?it/s]"
      ]
     },
     "metadata": {},
     "output_type": "display_data"
    },
    {
     "data": {
      "application/vnd.jupyter.widget-view+json": {
       "model_id": "4a65fbf9dc45437695be3f100b5565b6",
       "version_major": 2,
       "version_minor": 0
      },
      "text/plain": [
       "Scanning spectrum:   0%|          | 0/20 [00:00<?, ?it/s]"
      ]
     },
     "metadata": {},
     "output_type": "display_data"
    },
    {
     "data": {
      "application/vnd.jupyter.widget-view+json": {
       "model_id": "657008e49d2d422f8b2c20b97a8c577a",
       "version_major": 2,
       "version_minor": 0
      },
      "text/plain": [
       "Scanning spectrum:   0%|          | 0/20 [00:00<?, ?it/s]"
      ]
     },
     "metadata": {},
     "output_type": "display_data"
    },
    {
     "data": {
      "application/vnd.jupyter.widget-view+json": {
       "model_id": "e4549f6edc4e42e3901f124d92409d62",
       "version_major": 2,
       "version_minor": 0
      },
      "text/plain": [
       "Scanning spectrum:   0%|          | 0/20 [00:00<?, ?it/s]"
      ]
     },
     "metadata": {},
     "output_type": "display_data"
    },
    {
     "data": {
      "application/vnd.jupyter.widget-view+json": {
       "model_id": "8bf5f0e3abc940e0ad178f7a71e17de4",
       "version_major": 2,
       "version_minor": 0
      },
      "text/plain": [
       "Scanning spectrum:   0%|          | 0/20 [00:00<?, ?it/s]"
      ]
     },
     "metadata": {},
     "output_type": "display_data"
    },
    {
     "data": {
      "application/vnd.jupyter.widget-view+json": {
       "model_id": "f219dd58ddf34c669ae447f756961ebe",
       "version_major": 2,
       "version_minor": 0
      },
      "text/plain": [
       "Scanning spectrum:   0%|          | 0/20 [00:00<?, ?it/s]"
      ]
     },
     "metadata": {},
     "output_type": "display_data"
    },
    {
     "data": {
      "application/vnd.jupyter.widget-view+json": {
       "model_id": "854b6494ca184f70a8608a6d1618328b",
       "version_major": 2,
       "version_minor": 0
      },
      "text/plain": [
       "Scanning spectrum:   0%|          | 0/20 [00:00<?, ?it/s]"
      ]
     },
     "metadata": {},
     "output_type": "display_data"
    },
    {
     "data": {
      "application/vnd.jupyter.widget-view+json": {
       "model_id": "9522b3f6435b4cd8a23c7186a1ab5932",
       "version_major": 2,
       "version_minor": 0
      },
      "text/plain": [
       "Scanning spectrum:   0%|          | 0/20 [00:00<?, ?it/s]"
      ]
     },
     "metadata": {},
     "output_type": "display_data"
    },
    {
     "data": {
      "application/vnd.jupyter.widget-view+json": {
       "model_id": "f8cb7dc7cd2e44c1b8aec0091c6ac91a",
       "version_major": 2,
       "version_minor": 0
      },
      "text/plain": [
       "Scanning spectrum:   0%|          | 0/20 [00:00<?, ?it/s]"
      ]
     },
     "metadata": {},
     "output_type": "display_data"
    },
    {
     "data": {
      "application/vnd.jupyter.widget-view+json": {
       "model_id": "c9d1298bb9d943d2b05f6fce12d35729",
       "version_major": 2,
       "version_minor": 0
      },
      "text/plain": [
       "Scanning spectrum:   0%|          | 0/20 [00:00<?, ?it/s]"
      ]
     },
     "metadata": {},
     "output_type": "display_data"
    },
    {
     "data": {
      "application/vnd.jupyter.widget-view+json": {
       "model_id": "6fe60de44fad4418b027dfcbf688a5cb",
       "version_major": 2,
       "version_minor": 0
      },
      "text/plain": [
       "Scanning spectrum:   0%|          | 0/20 [00:00<?, ?it/s]"
      ]
     },
     "metadata": {},
     "output_type": "display_data"
    },
    {
     "data": {
      "application/vnd.jupyter.widget-view+json": {
       "model_id": "eb982346b924431b86b2cb6a190d6cd7",
       "version_major": 2,
       "version_minor": 0
      },
      "text/plain": [
       "Scanning spectrum:   0%|          | 0/20 [00:00<?, ?it/s]"
      ]
     },
     "metadata": {},
     "output_type": "display_data"
    },
    {
     "data": {
      "application/vnd.jupyter.widget-view+json": {
       "model_id": "b37f7694031f4009bef26669b5641ed5",
       "version_major": 2,
       "version_minor": 0
      },
      "text/plain": [
       "Scanning spectrum:   0%|          | 0/20 [00:00<?, ?it/s]"
      ]
     },
     "metadata": {},
     "output_type": "display_data"
    },
    {
     "data": {
      "application/vnd.jupyter.widget-view+json": {
       "model_id": "1dd24d8cc9fd4cbfbce881dca093d7db",
       "version_major": 2,
       "version_minor": 0
      },
      "text/plain": [
       "Scanning spectrum:   0%|          | 0/20 [00:00<?, ?it/s]"
      ]
     },
     "metadata": {},
     "output_type": "display_data"
    },
    {
     "data": {
      "application/vnd.jupyter.widget-view+json": {
       "model_id": "3a4ef484ec4b44b2bdded77d2f7e38a1",
       "version_major": 2,
       "version_minor": 0
      },
      "text/plain": [
       "Scanning spectrum:   0%|          | 0/20 [00:00<?, ?it/s]"
      ]
     },
     "metadata": {},
     "output_type": "display_data"
    },
    {
     "data": {
      "application/vnd.jupyter.widget-view+json": {
       "model_id": "2594323d7032496f94c381b2492e7c90",
       "version_major": 2,
       "version_minor": 0
      },
      "text/plain": [
       "Scanning spectrum:   0%|          | 0/20 [00:00<?, ?it/s]"
      ]
     },
     "metadata": {},
     "output_type": "display_data"
    },
    {
     "data": {
      "application/vnd.jupyter.widget-view+json": {
       "model_id": "7ff44a73dc574794b34388200ea1ca2b",
       "version_major": 2,
       "version_minor": 0
      },
      "text/plain": [
       "Scanning spectrum:   0%|          | 0/20 [00:00<?, ?it/s]"
      ]
     },
     "metadata": {},
     "output_type": "display_data"
    },
    {
     "data": {
      "application/vnd.jupyter.widget-view+json": {
       "model_id": "1baacdc7946446b6802f13a624898627",
       "version_major": 2,
       "version_minor": 0
      },
      "text/plain": [
       "Scanning spectrum:   0%|          | 0/20 [00:00<?, ?it/s]"
      ]
     },
     "metadata": {},
     "output_type": "display_data"
    },
    {
     "data": {
      "application/vnd.jupyter.widget-view+json": {
       "model_id": "ec651ae585874c2c9bc0a649c4b291ab",
       "version_major": 2,
       "version_minor": 0
      },
      "text/plain": [
       "Scanning spectrum:   0%|          | 0/20 [00:00<?, ?it/s]"
      ]
     },
     "metadata": {},
     "output_type": "display_data"
    },
    {
     "data": {
      "application/vnd.jupyter.widget-view+json": {
       "model_id": "7ddd05a6621d4f8aad0a56c09e01865c",
       "version_major": 2,
       "version_minor": 0
      },
      "text/plain": [
       "Scanning spectrum:   0%|          | 0/20 [00:00<?, ?it/s]"
      ]
     },
     "metadata": {},
     "output_type": "display_data"
    },
    {
     "data": {
      "application/vnd.jupyter.widget-view+json": {
       "model_id": "e8daedfee0f646649c18eabe2facfaa5",
       "version_major": 2,
       "version_minor": 0
      },
      "text/plain": [
       "Scanning spectrum:   0%|          | 0/20 [00:00<?, ?it/s]"
      ]
     },
     "metadata": {},
     "output_type": "display_data"
    },
    {
     "data": {
      "application/vnd.jupyter.widget-view+json": {
       "model_id": "86abadbd04ff41a4ab477a01092dd972",
       "version_major": 2,
       "version_minor": 0
      },
      "text/plain": [
       "Scanning spectrum:   0%|          | 0/20 [00:00<?, ?it/s]"
      ]
     },
     "metadata": {},
     "output_type": "display_data"
    },
    {
     "data": {
      "application/vnd.jupyter.widget-view+json": {
       "model_id": "11f3a7f73ac6414782e92f552365f7e2",
       "version_major": 2,
       "version_minor": 0
      },
      "text/plain": [
       "Scanning spectrum:   0%|          | 0/20 [00:00<?, ?it/s]"
      ]
     },
     "metadata": {},
     "output_type": "display_data"
    },
    {
     "data": {
      "application/vnd.jupyter.widget-view+json": {
       "model_id": "9261edb2ff5c4fcc945eda7395da0d62",
       "version_major": 2,
       "version_minor": 0
      },
      "text/plain": [
       "Scanning spectrum:   0%|          | 0/20 [00:00<?, ?it/s]"
      ]
     },
     "metadata": {},
     "output_type": "display_data"
    },
    {
     "data": {
      "application/vnd.jupyter.widget-view+json": {
       "model_id": "0a14e2d852a2410dac27a2260f9fc648",
       "version_major": 2,
       "version_minor": 0
      },
      "text/plain": [
       "Scanning spectrum:   0%|          | 0/20 [00:00<?, ?it/s]"
      ]
     },
     "metadata": {},
     "output_type": "display_data"
    },
    {
     "data": {
      "application/vnd.jupyter.widget-view+json": {
       "model_id": "0d4a4363b1e9414a87a2437158dacc01",
       "version_major": 2,
       "version_minor": 0
      },
      "text/plain": [
       "Scanning spectrum:   0%|          | 0/20 [00:00<?, ?it/s]"
      ]
     },
     "metadata": {},
     "output_type": "display_data"
    },
    {
     "data": {
      "application/vnd.jupyter.widget-view+json": {
       "model_id": "f390fc5f4090484bb22174f6deafe422",
       "version_major": 2,
       "version_minor": 0
      },
      "text/plain": [
       "Scanning spectrum:   0%|          | 0/20 [00:00<?, ?it/s]"
      ]
     },
     "metadata": {},
     "output_type": "display_data"
    },
    {
     "data": {
      "application/vnd.jupyter.widget-view+json": {
       "model_id": "44e3f18b2d484881aca1861ad2412007",
       "version_major": 2,
       "version_minor": 0
      },
      "text/plain": [
       "Scanning spectrum:   0%|          | 0/20 [00:00<?, ?it/s]"
      ]
     },
     "metadata": {},
     "output_type": "display_data"
    },
    {
     "data": {
      "application/vnd.jupyter.widget-view+json": {
       "model_id": "2fe795033d744b56ba3bde4ac084306b",
       "version_major": 2,
       "version_minor": 0
      },
      "text/plain": [
       "Scanning spectrum:   0%|          | 0/20 [00:00<?, ?it/s]"
      ]
     },
     "metadata": {},
     "output_type": "display_data"
    },
    {
     "data": {
      "application/vnd.jupyter.widget-view+json": {
       "model_id": "9cef3f5fa83b4c6e8b35c5826dd4d44c",
       "version_major": 2,
       "version_minor": 0
      },
      "text/plain": [
       "Scanning spectrum:   0%|          | 0/20 [00:00<?, ?it/s]"
      ]
     },
     "metadata": {},
     "output_type": "display_data"
    },
    {
     "data": {
      "application/vnd.jupyter.widget-view+json": {
       "model_id": "2a4eaca49c014b31b2e1f9758574f20d",
       "version_major": 2,
       "version_minor": 0
      },
      "text/plain": [
       "Scanning spectrum:   0%|          | 0/20 [00:00<?, ?it/s]"
      ]
     },
     "metadata": {},
     "output_type": "display_data"
    },
    {
     "data": {
      "application/vnd.jupyter.widget-view+json": {
       "model_id": "5a06b1827377411c9d56147e47ed703e",
       "version_major": 2,
       "version_minor": 0
      },
      "text/plain": [
       "Scanning spectrum:   0%|          | 0/20 [00:00<?, ?it/s]"
      ]
     },
     "metadata": {},
     "output_type": "display_data"
    },
    {
     "data": {
      "application/vnd.jupyter.widget-view+json": {
       "model_id": "2e04e2ed2d364f308f4f873e534e53cd",
       "version_major": 2,
       "version_minor": 0
      },
      "text/plain": [
       "Scanning spectrum:   0%|          | 0/20 [00:00<?, ?it/s]"
      ]
     },
     "metadata": {},
     "output_type": "display_data"
    },
    {
     "data": {
      "application/vnd.jupyter.widget-view+json": {
       "model_id": "85757277030c405e95a82a824db5ecee",
       "version_major": 2,
       "version_minor": 0
      },
      "text/plain": [
       "Scanning spectrum:   0%|          | 0/20 [00:00<?, ?it/s]"
      ]
     },
     "metadata": {},
     "output_type": "display_data"
    },
    {
     "data": {
      "application/vnd.jupyter.widget-view+json": {
       "model_id": "65c0eb1619ae4a69b560ca217e9b9075",
       "version_major": 2,
       "version_minor": 0
      },
      "text/plain": [
       "Scanning spectrum:   0%|          | 0/20 [00:00<?, ?it/s]"
      ]
     },
     "metadata": {},
     "output_type": "display_data"
    },
    {
     "data": {
      "application/vnd.jupyter.widget-view+json": {
       "model_id": "ecea829860564ab68139c7dc3f6c1140",
       "version_major": 2,
       "version_minor": 0
      },
      "text/plain": [
       "Scanning spectrum:   0%|          | 0/20 [00:00<?, ?it/s]"
      ]
     },
     "metadata": {},
     "output_type": "display_data"
    },
    {
     "data": {
      "application/vnd.jupyter.widget-view+json": {
       "model_id": "c6285b272b214a6a91fac997091c4dfe",
       "version_major": 2,
       "version_minor": 0
      },
      "text/plain": [
       "Scanning spectrum:   0%|          | 0/20 [00:00<?, ?it/s]"
      ]
     },
     "metadata": {},
     "output_type": "display_data"
    },
    {
     "data": {
      "application/vnd.jupyter.widget-view+json": {
       "model_id": "c6208ab0b93648c48c31daa13c905236",
       "version_major": 2,
       "version_minor": 0
      },
      "text/plain": [
       "Scanning spectrum:   0%|          | 0/20 [00:00<?, ?it/s]"
      ]
     },
     "metadata": {},
     "output_type": "display_data"
    },
    {
     "data": {
      "application/vnd.jupyter.widget-view+json": {
       "model_id": "2e2e1fdf07ab4fa9b4828d62e43da8ea",
       "version_major": 2,
       "version_minor": 0
      },
      "text/plain": [
       "Scanning spectrum:   0%|          | 0/20 [00:00<?, ?it/s]"
      ]
     },
     "metadata": {},
     "output_type": "display_data"
    },
    {
     "data": {
      "application/vnd.jupyter.widget-view+json": {
       "model_id": "f521b57762b341da963eecad6b77c692",
       "version_major": 2,
       "version_minor": 0
      },
      "text/plain": [
       "Scanning spectrum:   0%|          | 0/20 [00:00<?, ?it/s]"
      ]
     },
     "metadata": {},
     "output_type": "display_data"
    },
    {
     "data": {
      "application/vnd.jupyter.widget-view+json": {
       "model_id": "374a39fc92f44ef7894c5dd27f691394",
       "version_major": 2,
       "version_minor": 0
      },
      "text/plain": [
       "Scanning spectrum:   0%|          | 0/20 [00:00<?, ?it/s]"
      ]
     },
     "metadata": {},
     "output_type": "display_data"
    },
    {
     "data": {
      "application/vnd.jupyter.widget-view+json": {
       "model_id": "7954984eac8f4e7f91a9401be65a1915",
       "version_major": 2,
       "version_minor": 0
      },
      "text/plain": [
       "Scanning spectrum:   0%|          | 0/20 [00:00<?, ?it/s]"
      ]
     },
     "metadata": {},
     "output_type": "display_data"
    },
    {
     "data": {
      "application/vnd.jupyter.widget-view+json": {
       "model_id": "a6a1d40390524844b6fb87f45687fd81",
       "version_major": 2,
       "version_minor": 0
      },
      "text/plain": [
       "Scanning spectrum:   0%|          | 0/20 [00:00<?, ?it/s]"
      ]
     },
     "metadata": {},
     "output_type": "display_data"
    },
    {
     "data": {
      "application/vnd.jupyter.widget-view+json": {
       "model_id": "52d51e2220b24d83875a248d7f3c4544",
       "version_major": 2,
       "version_minor": 0
      },
      "text/plain": [
       "Scanning spectrum:   0%|          | 0/20 [00:00<?, ?it/s]"
      ]
     },
     "metadata": {},
     "output_type": "display_data"
    },
    {
     "data": {
      "application/vnd.jupyter.widget-view+json": {
       "model_id": "8411e7b9c12141e0beba220f21567f8d",
       "version_major": 2,
       "version_minor": 0
      },
      "text/plain": [
       "Scanning spectrum:   0%|          | 0/20 [00:00<?, ?it/s]"
      ]
     },
     "metadata": {},
     "output_type": "display_data"
    },
    {
     "data": {
      "application/vnd.jupyter.widget-view+json": {
       "model_id": "ea8899c7299a463097a9a720d9cfb2cc",
       "version_major": 2,
       "version_minor": 0
      },
      "text/plain": [
       "Scanning spectrum:   0%|          | 0/20 [00:00<?, ?it/s]"
      ]
     },
     "metadata": {},
     "output_type": "display_data"
    },
    {
     "data": {
      "application/vnd.jupyter.widget-view+json": {
       "model_id": "4695e14a6ffc43cbb9e9ad968f4aecdd",
       "version_major": 2,
       "version_minor": 0
      },
      "text/plain": [
       "Scanning spectrum:   0%|          | 0/20 [00:00<?, ?it/s]"
      ]
     },
     "metadata": {},
     "output_type": "display_data"
    },
    {
     "data": {
      "application/vnd.jupyter.widget-view+json": {
       "model_id": "add7182f89a4429ea6e3d5c00b81ee7e",
       "version_major": 2,
       "version_minor": 0
      },
      "text/plain": [
       "Scanning spectrum:   0%|          | 0/20 [00:00<?, ?it/s]"
      ]
     },
     "metadata": {},
     "output_type": "display_data"
    },
    {
     "data": {
      "application/vnd.jupyter.widget-view+json": {
       "model_id": "d4504063ec8a41928742f8a434c21788",
       "version_major": 2,
       "version_minor": 0
      },
      "text/plain": [
       "Scanning spectrum:   0%|          | 0/20 [00:00<?, ?it/s]"
      ]
     },
     "metadata": {},
     "output_type": "display_data"
    },
    {
     "data": {
      "application/vnd.jupyter.widget-view+json": {
       "model_id": "49bffca3b77941f4b0764331ad2c740d",
       "version_major": 2,
       "version_minor": 0
      },
      "text/plain": [
       "Scanning spectrum:   0%|          | 0/20 [00:00<?, ?it/s]"
      ]
     },
     "metadata": {},
     "output_type": "display_data"
    },
    {
     "data": {
      "application/vnd.jupyter.widget-view+json": {
       "model_id": "bd7cbe1305ea4721bfaf41f943328e87",
       "version_major": 2,
       "version_minor": 0
      },
      "text/plain": [
       "Scanning spectrum:   0%|          | 0/20 [00:00<?, ?it/s]"
      ]
     },
     "metadata": {},
     "output_type": "display_data"
    },
    {
     "data": {
      "application/vnd.jupyter.widget-view+json": {
       "model_id": "3a22a59bd70e4407a31f5051cb13b692",
       "version_major": 2,
       "version_minor": 0
      },
      "text/plain": [
       "Scanning spectrum:   0%|          | 0/20 [00:00<?, ?it/s]"
      ]
     },
     "metadata": {},
     "output_type": "display_data"
    },
    {
     "data": {
      "application/vnd.jupyter.widget-view+json": {
       "model_id": "5f52b1e078f742d4943975666d46773f",
       "version_major": 2,
       "version_minor": 0
      },
      "text/plain": [
       "Scanning spectrum:   0%|          | 0/20 [00:00<?, ?it/s]"
      ]
     },
     "metadata": {},
     "output_type": "display_data"
    },
    {
     "data": {
      "application/vnd.jupyter.widget-view+json": {
       "model_id": "cd5adf30210d4df99eb8512f00ce707d",
       "version_major": 2,
       "version_minor": 0
      },
      "text/plain": [
       "Scanning spectrum:   0%|          | 0/20 [00:00<?, ?it/s]"
      ]
     },
     "metadata": {},
     "output_type": "display_data"
    },
    {
     "data": {
      "application/vnd.jupyter.widget-view+json": {
       "model_id": "63066634ce91413191d7f7d6cfef8ca3",
       "version_major": 2,
       "version_minor": 0
      },
      "text/plain": [
       "Scanning spectrum:   0%|          | 0/20 [00:00<?, ?it/s]"
      ]
     },
     "metadata": {},
     "output_type": "display_data"
    },
    {
     "data": {
      "application/vnd.jupyter.widget-view+json": {
       "model_id": "39d0d81552a948b18f48d282626557e4",
       "version_major": 2,
       "version_minor": 0
      },
      "text/plain": [
       "Scanning spectrum:   0%|          | 0/20 [00:00<?, ?it/s]"
      ]
     },
     "metadata": {},
     "output_type": "display_data"
    },
    {
     "data": {
      "application/vnd.jupyter.widget-view+json": {
       "model_id": "a2f9acb15f484fd2a4912b495a94627f",
       "version_major": 2,
       "version_minor": 0
      },
      "text/plain": [
       "Scanning spectrum:   0%|          | 0/20 [00:00<?, ?it/s]"
      ]
     },
     "metadata": {},
     "output_type": "display_data"
    },
    {
     "data": {
      "application/vnd.jupyter.widget-view+json": {
       "model_id": "af644c345a3e4904a94f64f55c8c74c5",
       "version_major": 2,
       "version_minor": 0
      },
      "text/plain": [
       "Scanning spectrum:   0%|          | 0/20 [00:00<?, ?it/s]"
      ]
     },
     "metadata": {},
     "output_type": "display_data"
    },
    {
     "data": {
      "application/vnd.jupyter.widget-view+json": {
       "model_id": "37336782d6734fd5977371698a5e8efe",
       "version_major": 2,
       "version_minor": 0
      },
      "text/plain": [
       "Scanning spectrum:   0%|          | 0/20 [00:00<?, ?it/s]"
      ]
     },
     "metadata": {},
     "output_type": "display_data"
    },
    {
     "data": {
      "application/vnd.jupyter.widget-view+json": {
       "model_id": "0ad26fd9d3c34c1e86ce2c36262f9e9a",
       "version_major": 2,
       "version_minor": 0
      },
      "text/plain": [
       "Scanning spectrum:   0%|          | 0/20 [00:00<?, ?it/s]"
      ]
     },
     "metadata": {},
     "output_type": "display_data"
    },
    {
     "data": {
      "application/vnd.jupyter.widget-view+json": {
       "model_id": "49880cf865824de397ef46604466778f",
       "version_major": 2,
       "version_minor": 0
      },
      "text/plain": [
       "Scanning spectrum:   0%|          | 0/20 [00:00<?, ?it/s]"
      ]
     },
     "metadata": {},
     "output_type": "display_data"
    },
    {
     "data": {
      "application/vnd.jupyter.widget-view+json": {
       "model_id": "90d6cd77c8d5497b997b9a9a00beb884",
       "version_major": 2,
       "version_minor": 0
      },
      "text/plain": [
       "Scanning spectrum:   0%|          | 0/20 [00:00<?, ?it/s]"
      ]
     },
     "metadata": {},
     "output_type": "display_data"
    },
    {
     "data": {
      "application/vnd.jupyter.widget-view+json": {
       "model_id": "9c9d6a036cc64c6bb3034a3733f24556",
       "version_major": 2,
       "version_minor": 0
      },
      "text/plain": [
       "Scanning spectrum:   0%|          | 0/20 [00:00<?, ?it/s]"
      ]
     },
     "metadata": {},
     "output_type": "display_data"
    },
    {
     "data": {
      "application/vnd.jupyter.widget-view+json": {
       "model_id": "5b820cdde44c4a28bbe3512c7ea64fab",
       "version_major": 2,
       "version_minor": 0
      },
      "text/plain": [
       "Scanning spectrum:   0%|          | 0/20 [00:00<?, ?it/s]"
      ]
     },
     "metadata": {},
     "output_type": "display_data"
    },
    {
     "data": {
      "application/vnd.jupyter.widget-view+json": {
       "model_id": "21e4d640694a41b990433d4c68e8b0dd",
       "version_major": 2,
       "version_minor": 0
      },
      "text/plain": [
       "Scanning spectrum:   0%|          | 0/20 [00:00<?, ?it/s]"
      ]
     },
     "metadata": {},
     "output_type": "display_data"
    },
    {
     "data": {
      "application/vnd.jupyter.widget-view+json": {
       "model_id": "421fb0dfed644259b7b729899e32c9d6",
       "version_major": 2,
       "version_minor": 0
      },
      "text/plain": [
       "Scanning spectrum:   0%|          | 0/20 [00:00<?, ?it/s]"
      ]
     },
     "metadata": {},
     "output_type": "display_data"
    },
    {
     "data": {
      "application/vnd.jupyter.widget-view+json": {
       "model_id": "efd8b7bdd9454f4e8dfdae77194d2c6e",
       "version_major": 2,
       "version_minor": 0
      },
      "text/plain": [
       "Scanning spectrum:   0%|          | 0/20 [00:00<?, ?it/s]"
      ]
     },
     "metadata": {},
     "output_type": "display_data"
    },
    {
     "data": {
      "application/vnd.jupyter.widget-view+json": {
       "model_id": "c3811f17649c40568f0c373bee8f52b1",
       "version_major": 2,
       "version_minor": 0
      },
      "text/plain": [
       "Scanning spectrum:   0%|          | 0/20 [00:00<?, ?it/s]"
      ]
     },
     "metadata": {},
     "output_type": "display_data"
    },
    {
     "data": {
      "application/vnd.jupyter.widget-view+json": {
       "model_id": "83af0234f2fd405c8a44df1e476cfbb3",
       "version_major": 2,
       "version_minor": 0
      },
      "text/plain": [
       "Scanning spectrum:   0%|          | 0/20 [00:00<?, ?it/s]"
      ]
     },
     "metadata": {},
     "output_type": "display_data"
    },
    {
     "data": {
      "application/vnd.jupyter.widget-view+json": {
       "model_id": "63cbb02014fb44ddb13afdcd8e16eebe",
       "version_major": 2,
       "version_minor": 0
      },
      "text/plain": [
       "Scanning spectrum:   0%|          | 0/20 [00:00<?, ?it/s]"
      ]
     },
     "metadata": {},
     "output_type": "display_data"
    },
    {
     "data": {
      "application/vnd.jupyter.widget-view+json": {
       "model_id": "35affb883c6447cc9191c04b64cdb466",
       "version_major": 2,
       "version_minor": 0
      },
      "text/plain": [
       "Scanning spectrum:   0%|          | 0/20 [00:00<?, ?it/s]"
      ]
     },
     "metadata": {},
     "output_type": "display_data"
    },
    {
     "data": {
      "application/vnd.jupyter.widget-view+json": {
       "model_id": "a12e22bd6e8746448d2f254f5fa972ea",
       "version_major": 2,
       "version_minor": 0
      },
      "text/plain": [
       "Scanning spectrum:   0%|          | 0/20 [00:00<?, ?it/s]"
      ]
     },
     "metadata": {},
     "output_type": "display_data"
    },
    {
     "data": {
      "application/vnd.jupyter.widget-view+json": {
       "model_id": "6048325dec1d44b5a05776b44ecba669",
       "version_major": 2,
       "version_minor": 0
      },
      "text/plain": [
       "Scanning spectrum:   0%|          | 0/20 [00:00<?, ?it/s]"
      ]
     },
     "metadata": {},
     "output_type": "display_data"
    },
    {
     "data": {
      "application/vnd.jupyter.widget-view+json": {
       "model_id": "5a63c8435f1445c4892bc1a3c2cd59ed",
       "version_major": 2,
       "version_minor": 0
      },
      "text/plain": [
       "Scanning spectrum:   0%|          | 0/20 [00:00<?, ?it/s]"
      ]
     },
     "metadata": {},
     "output_type": "display_data"
    },
    {
     "data": {
      "application/vnd.jupyter.widget-view+json": {
       "model_id": "f2e0a6c1fad84d659166cce69fa68108",
       "version_major": 2,
       "version_minor": 0
      },
      "text/plain": [
       "Scanning spectrum:   0%|          | 0/20 [00:00<?, ?it/s]"
      ]
     },
     "metadata": {},
     "output_type": "display_data"
    },
    {
     "data": {
      "application/vnd.jupyter.widget-view+json": {
       "model_id": "cbd768cb282449e7a00f81f05df7c803",
       "version_major": 2,
       "version_minor": 0
      },
      "text/plain": [
       "Scanning spectrum:   0%|          | 0/20 [00:00<?, ?it/s]"
      ]
     },
     "metadata": {},
     "output_type": "display_data"
    },
    {
     "data": {
      "application/vnd.jupyter.widget-view+json": {
       "model_id": "a10cfdd001fa4b098cb6fcb739e4f9cd",
       "version_major": 2,
       "version_minor": 0
      },
      "text/plain": [
       "Scanning spectrum:   0%|          | 0/20 [00:00<?, ?it/s]"
      ]
     },
     "metadata": {},
     "output_type": "display_data"
    },
    {
     "data": {
      "application/vnd.jupyter.widget-view+json": {
       "model_id": "31676f316b5c47b4af1b40503aeb1750",
       "version_major": 2,
       "version_minor": 0
      },
      "text/plain": [
       "Scanning spectrum:   0%|          | 0/20 [00:00<?, ?it/s]"
      ]
     },
     "metadata": {},
     "output_type": "display_data"
    },
    {
     "data": {
      "application/vnd.jupyter.widget-view+json": {
       "model_id": "20a3788434be4a38b7ef729f5211b977",
       "version_major": 2,
       "version_minor": 0
      },
      "text/plain": [
       "Scanning spectrum:   0%|          | 0/20 [00:00<?, ?it/s]"
      ]
     },
     "metadata": {},
     "output_type": "display_data"
    },
    {
     "data": {
      "application/vnd.jupyter.widget-view+json": {
       "model_id": "4910b82d79c84686866db41ed3bd5734",
       "version_major": 2,
       "version_minor": 0
      },
      "text/plain": [
       "Scanning spectrum:   0%|          | 0/20 [00:00<?, ?it/s]"
      ]
     },
     "metadata": {},
     "output_type": "display_data"
    },
    {
     "data": {
      "application/vnd.jupyter.widget-view+json": {
       "model_id": "46198a237be94f24a3a5ec258ff58638",
       "version_major": 2,
       "version_minor": 0
      },
      "text/plain": [
       "Scanning spectrum:   0%|          | 0/20 [00:00<?, ?it/s]"
      ]
     },
     "metadata": {},
     "output_type": "display_data"
    },
    {
     "data": {
      "application/vnd.jupyter.widget-view+json": {
       "model_id": "46a0fefb21614b309c41c8ec09546728",
       "version_major": 2,
       "version_minor": 0
      },
      "text/plain": [
       "Scanning spectrum:   0%|          | 0/20 [00:00<?, ?it/s]"
      ]
     },
     "metadata": {},
     "output_type": "display_data"
    },
    {
     "data": {
      "application/vnd.jupyter.widget-view+json": {
       "model_id": "4662a196dbc84c1d920ecab0058fac66",
       "version_major": 2,
       "version_minor": 0
      },
      "text/plain": [
       "Scanning spectrum:   0%|          | 0/20 [00:00<?, ?it/s]"
      ]
     },
     "metadata": {},
     "output_type": "display_data"
    },
    {
     "data": {
      "application/vnd.jupyter.widget-view+json": {
       "model_id": "76d99882a56241d9bd0bb4d499f27443",
       "version_major": 2,
       "version_minor": 0
      },
      "text/plain": [
       "Scanning spectrum:   0%|          | 0/20 [00:00<?, ?it/s]"
      ]
     },
     "metadata": {},
     "output_type": "display_data"
    },
    {
     "data": {
      "application/vnd.jupyter.widget-view+json": {
       "model_id": "b9123d4cdd5c478cbf2e34af68787676",
       "version_major": 2,
       "version_minor": 0
      },
      "text/plain": [
       "Scanning spectrum:   0%|          | 0/20 [00:00<?, ?it/s]"
      ]
     },
     "metadata": {},
     "output_type": "display_data"
    },
    {
     "data": {
      "application/vnd.jupyter.widget-view+json": {
       "model_id": "42c1dee8452d42b0b4bcfbe21b5c2b92",
       "version_major": 2,
       "version_minor": 0
      },
      "text/plain": [
       "Scanning spectrum:   0%|          | 0/20 [00:00<?, ?it/s]"
      ]
     },
     "metadata": {},
     "output_type": "display_data"
    },
    {
     "data": {
      "application/vnd.jupyter.widget-view+json": {
       "model_id": "40ce0be51b73458599ca3db736d8a999",
       "version_major": 2,
       "version_minor": 0
      },
      "text/plain": [
       "Scanning spectrum:   0%|          | 0/20 [00:00<?, ?it/s]"
      ]
     },
     "metadata": {},
     "output_type": "display_data"
    },
    {
     "data": {
      "application/vnd.jupyter.widget-view+json": {
       "model_id": "eae8973d47eb45feb1f3fdb9bfbaf1db",
       "version_major": 2,
       "version_minor": 0
      },
      "text/plain": [
       "Scanning spectrum:   0%|          | 0/20 [00:00<?, ?it/s]"
      ]
     },
     "metadata": {},
     "output_type": "display_data"
    },
    {
     "data": {
      "application/vnd.jupyter.widget-view+json": {
       "model_id": "6cc9dc32a200449e86020866596ea41c",
       "version_major": 2,
       "version_minor": 0
      },
      "text/plain": [
       "Scanning spectrum:   0%|          | 0/20 [00:00<?, ?it/s]"
      ]
     },
     "metadata": {},
     "output_type": "display_data"
    },
    {
     "data": {
      "application/vnd.jupyter.widget-view+json": {
       "model_id": "c58331f24b8f444fabf9f78fdf86be8f",
       "version_major": 2,
       "version_minor": 0
      },
      "text/plain": [
       "Scanning spectrum:   0%|          | 0/20 [00:00<?, ?it/s]"
      ]
     },
     "metadata": {},
     "output_type": "display_data"
    },
    {
     "data": {
      "application/vnd.jupyter.widget-view+json": {
       "model_id": "e823f50605684cfba457d521137c0416",
       "version_major": 2,
       "version_minor": 0
      },
      "text/plain": [
       "Scanning spectrum:   0%|          | 0/20 [00:00<?, ?it/s]"
      ]
     },
     "metadata": {},
     "output_type": "display_data"
    },
    {
     "data": {
      "application/vnd.jupyter.widget-view+json": {
       "model_id": "e734df81fbb042de8d2c7945dbf08cca",
       "version_major": 2,
       "version_minor": 0
      },
      "text/plain": [
       "Scanning spectrum:   0%|          | 0/20 [00:00<?, ?it/s]"
      ]
     },
     "metadata": {},
     "output_type": "display_data"
    },
    {
     "data": {
      "application/vnd.jupyter.widget-view+json": {
       "model_id": "03447f63d54e4d2793d87867bb8a133c",
       "version_major": 2,
       "version_minor": 0
      },
      "text/plain": [
       "Scanning spectrum:   0%|          | 0/20 [00:00<?, ?it/s]"
      ]
     },
     "metadata": {},
     "output_type": "display_data"
    },
    {
     "data": {
      "application/vnd.jupyter.widget-view+json": {
       "model_id": "7377386279c3464888df26e3b32f2509",
       "version_major": 2,
       "version_minor": 0
      },
      "text/plain": [
       "Scanning spectrum:   0%|          | 0/20 [00:00<?, ?it/s]"
      ]
     },
     "metadata": {},
     "output_type": "display_data"
    },
    {
     "data": {
      "application/vnd.jupyter.widget-view+json": {
       "model_id": "5c4c22debec541c194f1d817173e6e61",
       "version_major": 2,
       "version_minor": 0
      },
      "text/plain": [
       "Scanning spectrum:   0%|          | 0/20 [00:00<?, ?it/s]"
      ]
     },
     "metadata": {},
     "output_type": "display_data"
    },
    {
     "data": {
      "application/vnd.jupyter.widget-view+json": {
       "model_id": "1b5795d2b2f34a53b39a769b584e6830",
       "version_major": 2,
       "version_minor": 0
      },
      "text/plain": [
       "Scanning spectrum:   0%|          | 0/20 [00:00<?, ?it/s]"
      ]
     },
     "metadata": {},
     "output_type": "display_data"
    },
    {
     "data": {
      "application/vnd.jupyter.widget-view+json": {
       "model_id": "2ee9a4f7421d41c5a5b4eb445b038317",
       "version_major": 2,
       "version_minor": 0
      },
      "text/plain": [
       "Scanning spectrum:   0%|          | 0/20 [00:00<?, ?it/s]"
      ]
     },
     "metadata": {},
     "output_type": "display_data"
    },
    {
     "data": {
      "application/vnd.jupyter.widget-view+json": {
       "model_id": "bf4d8011567145119a19b4feb0c0a0c3",
       "version_major": 2,
       "version_minor": 0
      },
      "text/plain": [
       "Scanning spectrum:   0%|          | 0/20 [00:00<?, ?it/s]"
      ]
     },
     "metadata": {},
     "output_type": "display_data"
    },
    {
     "data": {
      "application/vnd.jupyter.widget-view+json": {
       "model_id": "b55e193b24d0432192b279d860747ead",
       "version_major": 2,
       "version_minor": 0
      },
      "text/plain": [
       "Scanning spectrum:   0%|          | 0/20 [00:00<?, ?it/s]"
      ]
     },
     "metadata": {},
     "output_type": "display_data"
    },
    {
     "data": {
      "application/vnd.jupyter.widget-view+json": {
       "model_id": "238da1b0424a4cc5a48d4fdbe5858d86",
       "version_major": 2,
       "version_minor": 0
      },
      "text/plain": [
       "Scanning spectrum:   0%|          | 0/20 [00:00<?, ?it/s]"
      ]
     },
     "metadata": {},
     "output_type": "display_data"
    },
    {
     "data": {
      "application/vnd.jupyter.widget-view+json": {
       "model_id": "b9b61562c7cb49e89c90e797e07f4bf4",
       "version_major": 2,
       "version_minor": 0
      },
      "text/plain": [
       "Scanning spectrum:   0%|          | 0/20 [00:00<?, ?it/s]"
      ]
     },
     "metadata": {},
     "output_type": "display_data"
    },
    {
     "data": {
      "application/vnd.jupyter.widget-view+json": {
       "model_id": "fe57b4dd726842628cb76a609946780f",
       "version_major": 2,
       "version_minor": 0
      },
      "text/plain": [
       "Scanning spectrum:   0%|          | 0/20 [00:00<?, ?it/s]"
      ]
     },
     "metadata": {},
     "output_type": "display_data"
    },
    {
     "data": {
      "application/vnd.jupyter.widget-view+json": {
       "model_id": "42682d18ca584b56a18cf3f7fac52533",
       "version_major": 2,
       "version_minor": 0
      },
      "text/plain": [
       "Scanning spectrum:   0%|          | 0/20 [00:00<?, ?it/s]"
      ]
     },
     "metadata": {},
     "output_type": "display_data"
    },
    {
     "data": {
      "application/vnd.jupyter.widget-view+json": {
       "model_id": "8587b7df52aa417e9efaf1911d6f4f7f",
       "version_major": 2,
       "version_minor": 0
      },
      "text/plain": [
       "Scanning spectrum:   0%|          | 0/20 [00:00<?, ?it/s]"
      ]
     },
     "metadata": {},
     "output_type": "display_data"
    },
    {
     "data": {
      "application/vnd.jupyter.widget-view+json": {
       "model_id": "1734e47dd82c4756aa72e1c3676059b6",
       "version_major": 2,
       "version_minor": 0
      },
      "text/plain": [
       "Scanning spectrum:   0%|          | 0/20 [00:00<?, ?it/s]"
      ]
     },
     "metadata": {},
     "output_type": "display_data"
    },
    {
     "data": {
      "application/vnd.jupyter.widget-view+json": {
       "model_id": "6670016ba61345b9aa9c232ac5356e80",
       "version_major": 2,
       "version_minor": 0
      },
      "text/plain": [
       "Scanning spectrum:   0%|          | 0/20 [00:00<?, ?it/s]"
      ]
     },
     "metadata": {},
     "output_type": "display_data"
    },
    {
     "data": {
      "application/vnd.jupyter.widget-view+json": {
       "model_id": "335c981ed2d14d00b4a3ad1f085d1cf2",
       "version_major": 2,
       "version_minor": 0
      },
      "text/plain": [
       "Scanning spectrum:   0%|          | 0/20 [00:00<?, ?it/s]"
      ]
     },
     "metadata": {},
     "output_type": "display_data"
    },
    {
     "data": {
      "application/vnd.jupyter.widget-view+json": {
       "model_id": "0d3b99c7aa0740f18e16f4182ea9bffe",
       "version_major": 2,
       "version_minor": 0
      },
      "text/plain": [
       "Scanning spectrum:   0%|          | 0/20 [00:00<?, ?it/s]"
      ]
     },
     "metadata": {},
     "output_type": "display_data"
    },
    {
     "data": {
      "application/vnd.jupyter.widget-view+json": {
       "model_id": "f8153cd8f7934e86a6e5eeb2ea4b29a0",
       "version_major": 2,
       "version_minor": 0
      },
      "text/plain": [
       "Scanning spectrum:   0%|          | 0/20 [00:00<?, ?it/s]"
      ]
     },
     "metadata": {},
     "output_type": "display_data"
    },
    {
     "data": {
      "application/vnd.jupyter.widget-view+json": {
       "model_id": "d659ad8ac9f74589b43902bfdc3a6d5b",
       "version_major": 2,
       "version_minor": 0
      },
      "text/plain": [
       "Scanning spectrum:   0%|          | 0/20 [00:00<?, ?it/s]"
      ]
     },
     "metadata": {},
     "output_type": "display_data"
    },
    {
     "data": {
      "application/vnd.jupyter.widget-view+json": {
       "model_id": "fa52f86c522d40819f4eacb3a3a6191a",
       "version_major": 2,
       "version_minor": 0
      },
      "text/plain": [
       "Scanning spectrum:   0%|          | 0/20 [00:00<?, ?it/s]"
      ]
     },
     "metadata": {},
     "output_type": "display_data"
    },
    {
     "data": {
      "application/vnd.jupyter.widget-view+json": {
       "model_id": "0a8ecef829a44aa9bec2dcf566f3896a",
       "version_major": 2,
       "version_minor": 0
      },
      "text/plain": [
       "Scanning spectrum:   0%|          | 0/20 [00:00<?, ?it/s]"
      ]
     },
     "metadata": {},
     "output_type": "display_data"
    },
    {
     "data": {
      "application/vnd.jupyter.widget-view+json": {
       "model_id": "c9d5af355f4c47a491e9b246f5dd1c9a",
       "version_major": 2,
       "version_minor": 0
      },
      "text/plain": [
       "Scanning spectrum:   0%|          | 0/20 [00:00<?, ?it/s]"
      ]
     },
     "metadata": {},
     "output_type": "display_data"
    },
    {
     "data": {
      "application/vnd.jupyter.widget-view+json": {
       "model_id": "f504df1b0b8f4e41afcd5d24bfc681c5",
       "version_major": 2,
       "version_minor": 0
      },
      "text/plain": [
       "Scanning spectrum:   0%|          | 0/20 [00:00<?, ?it/s]"
      ]
     },
     "metadata": {},
     "output_type": "display_data"
    },
    {
     "data": {
      "application/vnd.jupyter.widget-view+json": {
       "model_id": "7ff0087176f042ec8fc92e0e5ffa7ba5",
       "version_major": 2,
       "version_minor": 0
      },
      "text/plain": [
       "Scanning spectrum:   0%|          | 0/20 [00:00<?, ?it/s]"
      ]
     },
     "metadata": {},
     "output_type": "display_data"
    },
    {
     "data": {
      "application/vnd.jupyter.widget-view+json": {
       "model_id": "3b21905ba34b4f31b2202fd5a4fd54c5",
       "version_major": 2,
       "version_minor": 0
      },
      "text/plain": [
       "Scanning spectrum:   0%|          | 0/20 [00:00<?, ?it/s]"
      ]
     },
     "metadata": {},
     "output_type": "display_data"
    },
    {
     "data": {
      "application/vnd.jupyter.widget-view+json": {
       "model_id": "4b973b85a51542bc9f004c72859054c7",
       "version_major": 2,
       "version_minor": 0
      },
      "text/plain": [
       "Scanning spectrum:   0%|          | 0/20 [00:00<?, ?it/s]"
      ]
     },
     "metadata": {},
     "output_type": "display_data"
    },
    {
     "data": {
      "application/vnd.jupyter.widget-view+json": {
       "model_id": "415dde6408db4c6f8373364706a71650",
       "version_major": 2,
       "version_minor": 0
      },
      "text/plain": [
       "Scanning spectrum:   0%|          | 0/20 [00:00<?, ?it/s]"
      ]
     },
     "metadata": {},
     "output_type": "display_data"
    },
    {
     "data": {
      "application/vnd.jupyter.widget-view+json": {
       "model_id": "d87696f34ac641319b627fe0593e32d2",
       "version_major": 2,
       "version_minor": 0
      },
      "text/plain": [
       "Scanning spectrum:   0%|          | 0/20 [00:00<?, ?it/s]"
      ]
     },
     "metadata": {},
     "output_type": "display_data"
    },
    {
     "data": {
      "application/vnd.jupyter.widget-view+json": {
       "model_id": "09e57bc7807746d7b5881e8ec69c554c",
       "version_major": 2,
       "version_minor": 0
      },
      "text/plain": [
       "Scanning spectrum:   0%|          | 0/20 [00:00<?, ?it/s]"
      ]
     },
     "metadata": {},
     "output_type": "display_data"
    },
    {
     "data": {
      "application/vnd.jupyter.widget-view+json": {
       "model_id": "c0e04c263213425ca1952a705755717d",
       "version_major": 2,
       "version_minor": 0
      },
      "text/plain": [
       "Scanning spectrum:   0%|          | 0/20 [00:00<?, ?it/s]"
      ]
     },
     "metadata": {},
     "output_type": "display_data"
    },
    {
     "data": {
      "application/vnd.jupyter.widget-view+json": {
       "model_id": "36d855c9b4064c69b08911a6c597e6d2",
       "version_major": 2,
       "version_minor": 0
      },
      "text/plain": [
       "Scanning spectrum:   0%|          | 0/20 [00:00<?, ?it/s]"
      ]
     },
     "metadata": {},
     "output_type": "display_data"
    },
    {
     "data": {
      "application/vnd.jupyter.widget-view+json": {
       "model_id": "154cc9b0e7e344508e6aefb8158281a3",
       "version_major": 2,
       "version_minor": 0
      },
      "text/plain": [
       "Scanning spectrum:   0%|          | 0/20 [00:00<?, ?it/s]"
      ]
     },
     "metadata": {},
     "output_type": "display_data"
    },
    {
     "data": {
      "application/vnd.jupyter.widget-view+json": {
       "model_id": "b5f43b06b75849b6a2a2800f79bd7218",
       "version_major": 2,
       "version_minor": 0
      },
      "text/plain": [
       "Scanning spectrum:   0%|          | 0/20 [00:00<?, ?it/s]"
      ]
     },
     "metadata": {},
     "output_type": "display_data"
    },
    {
     "data": {
      "application/vnd.jupyter.widget-view+json": {
       "model_id": "4c43d57143c54b2eb765243034afdf6a",
       "version_major": 2,
       "version_minor": 0
      },
      "text/plain": [
       "Scanning spectrum:   0%|          | 0/20 [00:00<?, ?it/s]"
      ]
     },
     "metadata": {},
     "output_type": "display_data"
    },
    {
     "data": {
      "application/vnd.jupyter.widget-view+json": {
       "model_id": "cfa8fb7a63e84e7e8a78a0f910c36aaf",
       "version_major": 2,
       "version_minor": 0
      },
      "text/plain": [
       "Scanning spectrum:   0%|          | 0/20 [00:00<?, ?it/s]"
      ]
     },
     "metadata": {},
     "output_type": "display_data"
    },
    {
     "data": {
      "application/vnd.jupyter.widget-view+json": {
       "model_id": "fd3b123d14ee4851a12058661f7301e4",
       "version_major": 2,
       "version_minor": 0
      },
      "text/plain": [
       "Scanning spectrum:   0%|          | 0/20 [00:00<?, ?it/s]"
      ]
     },
     "metadata": {},
     "output_type": "display_data"
    },
    {
     "data": {
      "application/vnd.jupyter.widget-view+json": {
       "model_id": "fdc4b35016ea4160b94f1c47266a21a8",
       "version_major": 2,
       "version_minor": 0
      },
      "text/plain": [
       "Scanning spectrum:   0%|          | 0/20 [00:00<?, ?it/s]"
      ]
     },
     "metadata": {},
     "output_type": "display_data"
    },
    {
     "data": {
      "application/vnd.jupyter.widget-view+json": {
       "model_id": "893cb8f5601444a59199756a4aa3485c",
       "version_major": 2,
       "version_minor": 0
      },
      "text/plain": [
       "Scanning spectrum:   0%|          | 0/20 [00:00<?, ?it/s]"
      ]
     },
     "metadata": {},
     "output_type": "display_data"
    },
    {
     "data": {
      "application/vnd.jupyter.widget-view+json": {
       "model_id": "b9fd839e299e4d6694b5c2fc4dec60a8",
       "version_major": 2,
       "version_minor": 0
      },
      "text/plain": [
       "Scanning spectrum:   0%|          | 0/20 [00:00<?, ?it/s]"
      ]
     },
     "metadata": {},
     "output_type": "display_data"
    },
    {
     "data": {
      "application/vnd.jupyter.widget-view+json": {
       "model_id": "662fcb8dcbe1410199d82a6e5622cfb9",
       "version_major": 2,
       "version_minor": 0
      },
      "text/plain": [
       "Scanning spectrum:   0%|          | 0/20 [00:00<?, ?it/s]"
      ]
     },
     "metadata": {},
     "output_type": "display_data"
    },
    {
     "data": {
      "application/vnd.jupyter.widget-view+json": {
       "model_id": "018a104b444e433da7e0e3cbf22dfc3a",
       "version_major": 2,
       "version_minor": 0
      },
      "text/plain": [
       "Scanning spectrum:   0%|          | 0/20 [00:00<?, ?it/s]"
      ]
     },
     "metadata": {},
     "output_type": "display_data"
    },
    {
     "data": {
      "application/vnd.jupyter.widget-view+json": {
       "model_id": "20b360cd1368482fb46b96abe5d77365",
       "version_major": 2,
       "version_minor": 0
      },
      "text/plain": [
       "Scanning spectrum:   0%|          | 0/20 [00:00<?, ?it/s]"
      ]
     },
     "metadata": {},
     "output_type": "display_data"
    },
    {
     "data": {
      "application/vnd.jupyter.widget-view+json": {
       "model_id": "50aa0d4a65b3402096853e32bd11fd5e",
       "version_major": 2,
       "version_minor": 0
      },
      "text/plain": [
       "Scanning spectrum:   0%|          | 0/20 [00:00<?, ?it/s]"
      ]
     },
     "metadata": {},
     "output_type": "display_data"
    },
    {
     "data": {
      "application/vnd.jupyter.widget-view+json": {
       "model_id": "c6c1db10662b47369519ac5c0c19169d",
       "version_major": 2,
       "version_minor": 0
      },
      "text/plain": [
       "Scanning spectrum:   0%|          | 0/20 [00:00<?, ?it/s]"
      ]
     },
     "metadata": {},
     "output_type": "display_data"
    },
    {
     "data": {
      "application/vnd.jupyter.widget-view+json": {
       "model_id": "fe567d07b7cb4b47b7315e5fc579430d",
       "version_major": 2,
       "version_minor": 0
      },
      "text/plain": [
       "Scanning spectrum:   0%|          | 0/20 [00:00<?, ?it/s]"
      ]
     },
     "metadata": {},
     "output_type": "display_data"
    },
    {
     "data": {
      "application/vnd.jupyter.widget-view+json": {
       "model_id": "b47cd23ccd864d1d8e4dcd6f958e4cd5",
       "version_major": 2,
       "version_minor": 0
      },
      "text/plain": [
       "Scanning spectrum:   0%|          | 0/20 [00:00<?, ?it/s]"
      ]
     },
     "metadata": {},
     "output_type": "display_data"
    },
    {
     "data": {
      "application/vnd.jupyter.widget-view+json": {
       "model_id": "ea95f9e4ccdb4e01bf2a04ee208d496f",
       "version_major": 2,
       "version_minor": 0
      },
      "text/plain": [
       "Scanning spectrum:   0%|          | 0/20 [00:00<?, ?it/s]"
      ]
     },
     "metadata": {},
     "output_type": "display_data"
    },
    {
     "data": {
      "application/vnd.jupyter.widget-view+json": {
       "model_id": "58fc7857892f41eda7539ad18988f82f",
       "version_major": 2,
       "version_minor": 0
      },
      "text/plain": [
       "Scanning spectrum:   0%|          | 0/20 [00:00<?, ?it/s]"
      ]
     },
     "metadata": {},
     "output_type": "display_data"
    },
    {
     "data": {
      "application/vnd.jupyter.widget-view+json": {
       "model_id": "4ff7d471f9554598a2cf84bddb78c438",
       "version_major": 2,
       "version_minor": 0
      },
      "text/plain": [
       "Scanning spectrum:   0%|          | 0/20 [00:00<?, ?it/s]"
      ]
     },
     "metadata": {},
     "output_type": "display_data"
    },
    {
     "data": {
      "application/vnd.jupyter.widget-view+json": {
       "model_id": "d6c042e020a14e869da4f02d7a656088",
       "version_major": 2,
       "version_minor": 0
      },
      "text/plain": [
       "Scanning spectrum:   0%|          | 0/20 [00:00<?, ?it/s]"
      ]
     },
     "metadata": {},
     "output_type": "display_data"
    },
    {
     "data": {
      "application/vnd.jupyter.widget-view+json": {
       "model_id": "9b5520a710b0427382cc27efd77112ee",
       "version_major": 2,
       "version_minor": 0
      },
      "text/plain": [
       "Scanning spectrum:   0%|          | 0/20 [00:00<?, ?it/s]"
      ]
     },
     "metadata": {},
     "output_type": "display_data"
    },
    {
     "data": {
      "application/vnd.jupyter.widget-view+json": {
       "model_id": "d51eedd3be7a40d38546eed54ab6790a",
       "version_major": 2,
       "version_minor": 0
      },
      "text/plain": [
       "Scanning spectrum:   0%|          | 0/20 [00:00<?, ?it/s]"
      ]
     },
     "metadata": {},
     "output_type": "display_data"
    },
    {
     "data": {
      "application/vnd.jupyter.widget-view+json": {
       "model_id": "75d4392f8cde431789247b82e3a91019",
       "version_major": 2,
       "version_minor": 0
      },
      "text/plain": [
       "Scanning spectrum:   0%|          | 0/20 [00:00<?, ?it/s]"
      ]
     },
     "metadata": {},
     "output_type": "display_data"
    },
    {
     "data": {
      "application/vnd.jupyter.widget-view+json": {
       "model_id": "a5498626561a474b97dbf52432c15725",
       "version_major": 2,
       "version_minor": 0
      },
      "text/plain": [
       "Scanning spectrum:   0%|          | 0/20 [00:00<?, ?it/s]"
      ]
     },
     "metadata": {},
     "output_type": "display_data"
    },
    {
     "data": {
      "application/vnd.jupyter.widget-view+json": {
       "model_id": "b3d3ed7fe4f845459a4b67944f23faa2",
       "version_major": 2,
       "version_minor": 0
      },
      "text/plain": [
       "Scanning spectrum:   0%|          | 0/20 [00:00<?, ?it/s]"
      ]
     },
     "metadata": {},
     "output_type": "display_data"
    },
    {
     "data": {
      "application/vnd.jupyter.widget-view+json": {
       "model_id": "c5711605e52f45859d64996e507c913d",
       "version_major": 2,
       "version_minor": 0
      },
      "text/plain": [
       "Scanning spectrum:   0%|          | 0/20 [00:00<?, ?it/s]"
      ]
     },
     "metadata": {},
     "output_type": "display_data"
    },
    {
     "data": {
      "application/vnd.jupyter.widget-view+json": {
       "model_id": "8ea46ebd2f2f443a9f33e520c2fe8ff8",
       "version_major": 2,
       "version_minor": 0
      },
      "text/plain": [
       "Scanning spectrum:   0%|          | 0/20 [00:00<?, ?it/s]"
      ]
     },
     "metadata": {},
     "output_type": "display_data"
    },
    {
     "data": {
      "application/vnd.jupyter.widget-view+json": {
       "model_id": "08e0ca9bfab544459d0a93fd0e675f22",
       "version_major": 2,
       "version_minor": 0
      },
      "text/plain": [
       "Scanning spectrum:   0%|          | 0/20 [00:00<?, ?it/s]"
      ]
     },
     "metadata": {},
     "output_type": "display_data"
    },
    {
     "data": {
      "application/vnd.jupyter.widget-view+json": {
       "model_id": "d3d37e42b6704ac1bb20decb9475254f",
       "version_major": 2,
       "version_minor": 0
      },
      "text/plain": [
       "Scanning spectrum:   0%|          | 0/20 [00:00<?, ?it/s]"
      ]
     },
     "metadata": {},
     "output_type": "display_data"
    },
    {
     "data": {
      "application/vnd.jupyter.widget-view+json": {
       "model_id": "0ab5a654f27d4885955af015668671a6",
       "version_major": 2,
       "version_minor": 0
      },
      "text/plain": [
       "Scanning spectrum:   0%|          | 0/20 [00:00<?, ?it/s]"
      ]
     },
     "metadata": {},
     "output_type": "display_data"
    },
    {
     "data": {
      "application/vnd.jupyter.widget-view+json": {
       "model_id": "a6d405b53a834c349848efd579b45e53",
       "version_major": 2,
       "version_minor": 0
      },
      "text/plain": [
       "Scanning spectrum:   0%|          | 0/20 [00:00<?, ?it/s]"
      ]
     },
     "metadata": {},
     "output_type": "display_data"
    },
    {
     "data": {
      "application/vnd.jupyter.widget-view+json": {
       "model_id": "f407bf4cb98f45f0b49ff6626943c197",
       "version_major": 2,
       "version_minor": 0
      },
      "text/plain": [
       "Scanning spectrum:   0%|          | 0/20 [00:00<?, ?it/s]"
      ]
     },
     "metadata": {},
     "output_type": "display_data"
    },
    {
     "data": {
      "application/vnd.jupyter.widget-view+json": {
       "model_id": "fdb63238b17d4c03aec2874221ba4ee4",
       "version_major": 2,
       "version_minor": 0
      },
      "text/plain": [
       "Scanning spectrum:   0%|          | 0/20 [00:00<?, ?it/s]"
      ]
     },
     "metadata": {},
     "output_type": "display_data"
    },
    {
     "data": {
      "application/vnd.jupyter.widget-view+json": {
       "model_id": "cb4acaa4d026449388c245c5d10c24ca",
       "version_major": 2,
       "version_minor": 0
      },
      "text/plain": [
       "Scanning spectrum:   0%|          | 0/20 [00:00<?, ?it/s]"
      ]
     },
     "metadata": {},
     "output_type": "display_data"
    },
    {
     "data": {
      "application/vnd.jupyter.widget-view+json": {
       "model_id": "6219a8709978497392108e97d21e0b14",
       "version_major": 2,
       "version_minor": 0
      },
      "text/plain": [
       "Scanning spectrum:   0%|          | 0/20 [00:00<?, ?it/s]"
      ]
     },
     "metadata": {},
     "output_type": "display_data"
    },
    {
     "data": {
      "application/vnd.jupyter.widget-view+json": {
       "model_id": "c82cdfb89595400789309da4e666060a",
       "version_major": 2,
       "version_minor": 0
      },
      "text/plain": [
       "Scanning spectrum:   0%|          | 0/20 [00:00<?, ?it/s]"
      ]
     },
     "metadata": {},
     "output_type": "display_data"
    },
    {
     "data": {
      "application/vnd.jupyter.widget-view+json": {
       "model_id": "90435116c48049d4a3c249b9841eb22a",
       "version_major": 2,
       "version_minor": 0
      },
      "text/plain": [
       "Scanning spectrum:   0%|          | 0/20 [00:00<?, ?it/s]"
      ]
     },
     "metadata": {},
     "output_type": "display_data"
    },
    {
     "data": {
      "application/vnd.jupyter.widget-view+json": {
       "model_id": "764b469e23df4d6e992bc94f9132c9f7",
       "version_major": 2,
       "version_minor": 0
      },
      "text/plain": [
       "Scanning spectrum:   0%|          | 0/20 [00:00<?, ?it/s]"
      ]
     },
     "metadata": {},
     "output_type": "display_data"
    },
    {
     "data": {
      "application/vnd.jupyter.widget-view+json": {
       "model_id": "6f2f9a779f784b93886414635c366206",
       "version_major": 2,
       "version_minor": 0
      },
      "text/plain": [
       "Scanning spectrum:   0%|          | 0/20 [00:00<?, ?it/s]"
      ]
     },
     "metadata": {},
     "output_type": "display_data"
    },
    {
     "data": {
      "application/vnd.jupyter.widget-view+json": {
       "model_id": "c9abb6efc76a427788e4ea48f6cf7740",
       "version_major": 2,
       "version_minor": 0
      },
      "text/plain": [
       "Scanning spectrum:   0%|          | 0/20 [00:00<?, ?it/s]"
      ]
     },
     "metadata": {},
     "output_type": "display_data"
    },
    {
     "data": {
      "application/vnd.jupyter.widget-view+json": {
       "model_id": "6ab045431d364bfb964999c93c2833a5",
       "version_major": 2,
       "version_minor": 0
      },
      "text/plain": [
       "Scanning spectrum:   0%|          | 0/20 [00:00<?, ?it/s]"
      ]
     },
     "metadata": {},
     "output_type": "display_data"
    },
    {
     "data": {
      "application/vnd.jupyter.widget-view+json": {
       "model_id": "c4b1bdd33d7a44dfa7b86603d068798d",
       "version_major": 2,
       "version_minor": 0
      },
      "text/plain": [
       "Scanning spectrum:   0%|          | 0/20 [00:00<?, ?it/s]"
      ]
     },
     "metadata": {},
     "output_type": "display_data"
    },
    {
     "data": {
      "application/vnd.jupyter.widget-view+json": {
       "model_id": "3f214a8cca644cc69cb85ce30f753bdb",
       "version_major": 2,
       "version_minor": 0
      },
      "text/plain": [
       "Scanning spectrum:   0%|          | 0/20 [00:00<?, ?it/s]"
      ]
     },
     "metadata": {},
     "output_type": "display_data"
    },
    {
     "data": {
      "application/vnd.jupyter.widget-view+json": {
       "model_id": "a74fd1f989de4dc596e80a90fcdeb9d8",
       "version_major": 2,
       "version_minor": 0
      },
      "text/plain": [
       "Scanning spectrum:   0%|          | 0/20 [00:00<?, ?it/s]"
      ]
     },
     "metadata": {},
     "output_type": "display_data"
    },
    {
     "data": {
      "application/vnd.jupyter.widget-view+json": {
       "model_id": "78f74f2eac714228a65b454241f73790",
       "version_major": 2,
       "version_minor": 0
      },
      "text/plain": [
       "Scanning spectrum:   0%|          | 0/20 [00:00<?, ?it/s]"
      ]
     },
     "metadata": {},
     "output_type": "display_data"
    },
    {
     "data": {
      "application/vnd.jupyter.widget-view+json": {
       "model_id": "4a883487fd7547749c4c42eb0d3338cb",
       "version_major": 2,
       "version_minor": 0
      },
      "text/plain": [
       "Scanning spectrum:   0%|          | 0/20 [00:00<?, ?it/s]"
      ]
     },
     "metadata": {},
     "output_type": "display_data"
    },
    {
     "data": {
      "application/vnd.jupyter.widget-view+json": {
       "model_id": "6aa2b28b10b44893af6fad687ee61257",
       "version_major": 2,
       "version_minor": 0
      },
      "text/plain": [
       "Scanning spectrum:   0%|          | 0/20 [00:00<?, ?it/s]"
      ]
     },
     "metadata": {},
     "output_type": "display_data"
    },
    {
     "data": {
      "application/vnd.jupyter.widget-view+json": {
       "model_id": "bfc9c33a646a420c9cbfa45e6eb695a6",
       "version_major": 2,
       "version_minor": 0
      },
      "text/plain": [
       "Scanning spectrum:   0%|          | 0/20 [00:00<?, ?it/s]"
      ]
     },
     "metadata": {},
     "output_type": "display_data"
    },
    {
     "data": {
      "application/vnd.jupyter.widget-view+json": {
       "model_id": "fe99b0c23822463d8c068c122f3789ce",
       "version_major": 2,
       "version_minor": 0
      },
      "text/plain": [
       "Scanning spectrum:   0%|          | 0/20 [00:00<?, ?it/s]"
      ]
     },
     "metadata": {},
     "output_type": "display_data"
    },
    {
     "data": {
      "application/vnd.jupyter.widget-view+json": {
       "model_id": "a72c1aaf684b4d27abaf9ff059f7fbc1",
       "version_major": 2,
       "version_minor": 0
      },
      "text/plain": [
       "Scanning spectrum:   0%|          | 0/20 [00:00<?, ?it/s]"
      ]
     },
     "metadata": {},
     "output_type": "display_data"
    },
    {
     "data": {
      "application/vnd.jupyter.widget-view+json": {
       "model_id": "dac17794f66d4cdfb8390b740db2ca4c",
       "version_major": 2,
       "version_minor": 0
      },
      "text/plain": [
       "Scanning spectrum:   0%|          | 0/20 [00:00<?, ?it/s]"
      ]
     },
     "metadata": {},
     "output_type": "display_data"
    },
    {
     "data": {
      "application/vnd.jupyter.widget-view+json": {
       "model_id": "834450e6c51b4ff9ace0b351450a8c20",
       "version_major": 2,
       "version_minor": 0
      },
      "text/plain": [
       "Scanning spectrum:   0%|          | 0/20 [00:00<?, ?it/s]"
      ]
     },
     "metadata": {},
     "output_type": "display_data"
    },
    {
     "data": {
      "application/vnd.jupyter.widget-view+json": {
       "model_id": "3886d10fb72c4dfbb426d31d8f25010e",
       "version_major": 2,
       "version_minor": 0
      },
      "text/plain": [
       "Scanning spectrum:   0%|          | 0/20 [00:00<?, ?it/s]"
      ]
     },
     "metadata": {},
     "output_type": "display_data"
    },
    {
     "data": {
      "application/vnd.jupyter.widget-view+json": {
       "model_id": "bf3cfdf74e7241468f9857a6907f5a19",
       "version_major": 2,
       "version_minor": 0
      },
      "text/plain": [
       "Scanning spectrum:   0%|          | 0/20 [00:00<?, ?it/s]"
      ]
     },
     "metadata": {},
     "output_type": "display_data"
    },
    {
     "data": {
      "application/vnd.jupyter.widget-view+json": {
       "model_id": "d5f5be05e0334e3d9c3836f31a04f9e1",
       "version_major": 2,
       "version_minor": 0
      },
      "text/plain": [
       "Scanning spectrum:   0%|          | 0/20 [00:00<?, ?it/s]"
      ]
     },
     "metadata": {},
     "output_type": "display_data"
    },
    {
     "data": {
      "application/vnd.jupyter.widget-view+json": {
       "model_id": "54ea7e2efc1742f4a544696a7525808c",
       "version_major": 2,
       "version_minor": 0
      },
      "text/plain": [
       "Scanning spectrum:   0%|          | 0/20 [00:00<?, ?it/s]"
      ]
     },
     "metadata": {},
     "output_type": "display_data"
    },
    {
     "data": {
      "application/vnd.jupyter.widget-view+json": {
       "model_id": "25e51bb1405643858188aca794a258bb",
       "version_major": 2,
       "version_minor": 0
      },
      "text/plain": [
       "Scanning spectrum:   0%|          | 0/20 [00:00<?, ?it/s]"
      ]
     },
     "metadata": {},
     "output_type": "display_data"
    },
    {
     "data": {
      "application/vnd.jupyter.widget-view+json": {
       "model_id": "3a7dace09c3f44428082d4961c07bd04",
       "version_major": 2,
       "version_minor": 0
      },
      "text/plain": [
       "Scanning spectrum:   0%|          | 0/20 [00:00<?, ?it/s]"
      ]
     },
     "metadata": {},
     "output_type": "display_data"
    },
    {
     "data": {
      "application/vnd.jupyter.widget-view+json": {
       "model_id": "1ab3d70e4f814ab2a084e491f295d8d7",
       "version_major": 2,
       "version_minor": 0
      },
      "text/plain": [
       "Scanning spectrum:   0%|          | 0/20 [00:00<?, ?it/s]"
      ]
     },
     "metadata": {},
     "output_type": "display_data"
    },
    {
     "data": {
      "application/vnd.jupyter.widget-view+json": {
       "model_id": "5e62aa6c5d5548bc8876f9e2f23b6de2",
       "version_major": 2,
       "version_minor": 0
      },
      "text/plain": [
       "Scanning spectrum:   0%|          | 0/20 [00:00<?, ?it/s]"
      ]
     },
     "metadata": {},
     "output_type": "display_data"
    },
    {
     "data": {
      "application/vnd.jupyter.widget-view+json": {
       "model_id": "dedf1476adef4063aab228428abaae4f",
       "version_major": 2,
       "version_minor": 0
      },
      "text/plain": [
       "Scanning spectrum:   0%|          | 0/20 [00:00<?, ?it/s]"
      ]
     },
     "metadata": {},
     "output_type": "display_data"
    },
    {
     "data": {
      "application/vnd.jupyter.widget-view+json": {
       "model_id": "62130782c79f4ad6b6b7f33b9375bc05",
       "version_major": 2,
       "version_minor": 0
      },
      "text/plain": [
       "Scanning spectrum:   0%|          | 0/20 [00:00<?, ?it/s]"
      ]
     },
     "metadata": {},
     "output_type": "display_data"
    },
    {
     "data": {
      "application/vnd.jupyter.widget-view+json": {
       "model_id": "7459f796deed449da63c4ca723670cd5",
       "version_major": 2,
       "version_minor": 0
      },
      "text/plain": [
       "Scanning spectrum:   0%|          | 0/20 [00:00<?, ?it/s]"
      ]
     },
     "metadata": {},
     "output_type": "display_data"
    },
    {
     "data": {
      "application/vnd.jupyter.widget-view+json": {
       "model_id": "bd07c8bc61054a35a7ea9aaab0cc1b9d",
       "version_major": 2,
       "version_minor": 0
      },
      "text/plain": [
       "Scanning spectrum:   0%|          | 0/20 [00:00<?, ?it/s]"
      ]
     },
     "metadata": {},
     "output_type": "display_data"
    },
    {
     "data": {
      "application/vnd.jupyter.widget-view+json": {
       "model_id": "5d58a5406b8d4012a09be18a97780b81",
       "version_major": 2,
       "version_minor": 0
      },
      "text/plain": [
       "Scanning spectrum:   0%|          | 0/20 [00:00<?, ?it/s]"
      ]
     },
     "metadata": {},
     "output_type": "display_data"
    },
    {
     "data": {
      "application/vnd.jupyter.widget-view+json": {
       "model_id": "91ee77eaab1a47f1bb9468e0fcd8ccd4",
       "version_major": 2,
       "version_minor": 0
      },
      "text/plain": [
       "Scanning spectrum:   0%|          | 0/20 [00:00<?, ?it/s]"
      ]
     },
     "metadata": {},
     "output_type": "display_data"
    },
    {
     "data": {
      "application/vnd.jupyter.widget-view+json": {
       "model_id": "8e9c300af6f24656b648f27cf50c4268",
       "version_major": 2,
       "version_minor": 0
      },
      "text/plain": [
       "Scanning spectrum:   0%|          | 0/20 [00:00<?, ?it/s]"
      ]
     },
     "metadata": {},
     "output_type": "display_data"
    },
    {
     "data": {
      "application/vnd.jupyter.widget-view+json": {
       "model_id": "2cff3c76854f4e898b46a0576c86169f",
       "version_major": 2,
       "version_minor": 0
      },
      "text/plain": [
       "Scanning spectrum:   0%|          | 0/20 [00:00<?, ?it/s]"
      ]
     },
     "metadata": {},
     "output_type": "display_data"
    },
    {
     "data": {
      "application/vnd.jupyter.widget-view+json": {
       "model_id": "ff67386252204b81b102df95f2ee3091",
       "version_major": 2,
       "version_minor": 0
      },
      "text/plain": [
       "Scanning spectrum:   0%|          | 0/20 [00:00<?, ?it/s]"
      ]
     },
     "metadata": {},
     "output_type": "display_data"
    },
    {
     "data": {
      "application/vnd.jupyter.widget-view+json": {
       "model_id": "ecc69f1121b34f9eb3fae0c581ab753a",
       "version_major": 2,
       "version_minor": 0
      },
      "text/plain": [
       "Scanning spectrum:   0%|          | 0/20 [00:00<?, ?it/s]"
      ]
     },
     "metadata": {},
     "output_type": "display_data"
    },
    {
     "data": {
      "application/vnd.jupyter.widget-view+json": {
       "model_id": "44f358816d0b4d4b93d9442f3e6dbe9a",
       "version_major": 2,
       "version_minor": 0
      },
      "text/plain": [
       "Scanning spectrum:   0%|          | 0/20 [00:00<?, ?it/s]"
      ]
     },
     "metadata": {},
     "output_type": "display_data"
    },
    {
     "data": {
      "application/vnd.jupyter.widget-view+json": {
       "model_id": "54b7385eb4b34964a4b05edfdd210994",
       "version_major": 2,
       "version_minor": 0
      },
      "text/plain": [
       "Scanning spectrum:   0%|          | 0/20 [00:00<?, ?it/s]"
      ]
     },
     "metadata": {},
     "output_type": "display_data"
    },
    {
     "data": {
      "application/vnd.jupyter.widget-view+json": {
       "model_id": "688f7dac64ee426bb76c58377196cce5",
       "version_major": 2,
       "version_minor": 0
      },
      "text/plain": [
       "Scanning spectrum:   0%|          | 0/20 [00:00<?, ?it/s]"
      ]
     },
     "metadata": {},
     "output_type": "display_data"
    },
    {
     "data": {
      "application/vnd.jupyter.widget-view+json": {
       "model_id": "11e967a5ca1645c4ad284f3f9ca9cdb0",
       "version_major": 2,
       "version_minor": 0
      },
      "text/plain": [
       "Scanning spectrum:   0%|          | 0/20 [00:00<?, ?it/s]"
      ]
     },
     "metadata": {},
     "output_type": "display_data"
    },
    {
     "data": {
      "application/vnd.jupyter.widget-view+json": {
       "model_id": "c5ad13a90190436382f3a90e52536115",
       "version_major": 2,
       "version_minor": 0
      },
      "text/plain": [
       "Scanning spectrum:   0%|          | 0/20 [00:00<?, ?it/s]"
      ]
     },
     "metadata": {},
     "output_type": "display_data"
    },
    {
     "data": {
      "application/vnd.jupyter.widget-view+json": {
       "model_id": "100bd5fef4f44665bdce8c612b12d3af",
       "version_major": 2,
       "version_minor": 0
      },
      "text/plain": [
       "Scanning spectrum:   0%|          | 0/20 [00:00<?, ?it/s]"
      ]
     },
     "metadata": {},
     "output_type": "display_data"
    },
    {
     "data": {
      "application/vnd.jupyter.widget-view+json": {
       "model_id": "707a02ee564b473c9a4d47c27b7f922b",
       "version_major": 2,
       "version_minor": 0
      },
      "text/plain": [
       "Scanning spectrum:   0%|          | 0/20 [00:00<?, ?it/s]"
      ]
     },
     "metadata": {},
     "output_type": "display_data"
    },
    {
     "data": {
      "application/vnd.jupyter.widget-view+json": {
       "model_id": "7c49046729b3414a9a7ac950d36ad566",
       "version_major": 2,
       "version_minor": 0
      },
      "text/plain": [
       "Scanning spectrum:   0%|          | 0/20 [00:00<?, ?it/s]"
      ]
     },
     "metadata": {},
     "output_type": "display_data"
    },
    {
     "data": {
      "application/vnd.jupyter.widget-view+json": {
       "model_id": "4848d105ff56485983afac97a8b5749a",
       "version_major": 2,
       "version_minor": 0
      },
      "text/plain": [
       "Scanning spectrum:   0%|          | 0/20 [00:00<?, ?it/s]"
      ]
     },
     "metadata": {},
     "output_type": "display_data"
    },
    {
     "data": {
      "application/vnd.jupyter.widget-view+json": {
       "model_id": "4ea553065fd941d8b8323c9a970e67fd",
       "version_major": 2,
       "version_minor": 0
      },
      "text/plain": [
       "Scanning spectrum:   0%|          | 0/20 [00:00<?, ?it/s]"
      ]
     },
     "metadata": {},
     "output_type": "display_data"
    },
    {
     "data": {
      "application/vnd.jupyter.widget-view+json": {
       "model_id": "bfe9d275665a48b2b8e32b739375f95b",
       "version_major": 2,
       "version_minor": 0
      },
      "text/plain": [
       "Scanning spectrum:   0%|          | 0/20 [00:00<?, ?it/s]"
      ]
     },
     "metadata": {},
     "output_type": "display_data"
    },
    {
     "data": {
      "application/vnd.jupyter.widget-view+json": {
       "model_id": "0dddcaf72c9042c39770e184de32a99b",
       "version_major": 2,
       "version_minor": 0
      },
      "text/plain": [
       "Scanning spectrum:   0%|          | 0/20 [00:00<?, ?it/s]"
      ]
     },
     "metadata": {},
     "output_type": "display_data"
    },
    {
     "data": {
      "application/vnd.jupyter.widget-view+json": {
       "model_id": "461b539d9c044b40b07af1b174af107a",
       "version_major": 2,
       "version_minor": 0
      },
      "text/plain": [
       "Scanning spectrum:   0%|          | 0/20 [00:00<?, ?it/s]"
      ]
     },
     "metadata": {},
     "output_type": "display_data"
    },
    {
     "data": {
      "application/vnd.jupyter.widget-view+json": {
       "model_id": "198921ac43844b33949bc68ca9571ae1",
       "version_major": 2,
       "version_minor": 0
      },
      "text/plain": [
       "Scanning spectrum:   0%|          | 0/20 [00:00<?, ?it/s]"
      ]
     },
     "metadata": {},
     "output_type": "display_data"
    },
    {
     "data": {
      "application/vnd.jupyter.widget-view+json": {
       "model_id": "c4b5f72ce45844e89dc2b21835640986",
       "version_major": 2,
       "version_minor": 0
      },
      "text/plain": [
       "Scanning spectrum:   0%|          | 0/20 [00:00<?, ?it/s]"
      ]
     },
     "metadata": {},
     "output_type": "display_data"
    },
    {
     "data": {
      "application/vnd.jupyter.widget-view+json": {
       "model_id": "22df76de8a45459dacbcf4fb91deadc3",
       "version_major": 2,
       "version_minor": 0
      },
      "text/plain": [
       "Scanning spectrum:   0%|          | 0/20 [00:00<?, ?it/s]"
      ]
     },
     "metadata": {},
     "output_type": "display_data"
    },
    {
     "data": {
      "application/vnd.jupyter.widget-view+json": {
       "model_id": "d0300ea6fd29492fa805d8e3537e6460",
       "version_major": 2,
       "version_minor": 0
      },
      "text/plain": [
       "Scanning spectrum:   0%|          | 0/20 [00:00<?, ?it/s]"
      ]
     },
     "metadata": {},
     "output_type": "display_data"
    },
    {
     "data": {
      "application/vnd.jupyter.widget-view+json": {
       "model_id": "b0faebb65bf44621ad0f6b753f4152a5",
       "version_major": 2,
       "version_minor": 0
      },
      "text/plain": [
       "Scanning spectrum:   0%|          | 0/20 [00:00<?, ?it/s]"
      ]
     },
     "metadata": {},
     "output_type": "display_data"
    },
    {
     "data": {
      "application/vnd.jupyter.widget-view+json": {
       "model_id": "a3fd29c0c5ba49a59e0ec6015a7b31fc",
       "version_major": 2,
       "version_minor": 0
      },
      "text/plain": [
       "Scanning spectrum:   0%|          | 0/20 [00:00<?, ?it/s]"
      ]
     },
     "metadata": {},
     "output_type": "display_data"
    },
    {
     "data": {
      "application/vnd.jupyter.widget-view+json": {
       "model_id": "d3a18d07e47c4f0ea4e4073b57d2b656",
       "version_major": 2,
       "version_minor": 0
      },
      "text/plain": [
       "Scanning spectrum:   0%|          | 0/20 [00:00<?, ?it/s]"
      ]
     },
     "metadata": {},
     "output_type": "display_data"
    },
    {
     "data": {
      "application/vnd.jupyter.widget-view+json": {
       "model_id": "65f70c64536d440aadfa9fd8d697059c",
       "version_major": 2,
       "version_minor": 0
      },
      "text/plain": [
       "Scanning spectrum:   0%|          | 0/20 [00:00<?, ?it/s]"
      ]
     },
     "metadata": {},
     "output_type": "display_data"
    },
    {
     "data": {
      "application/vnd.jupyter.widget-view+json": {
       "model_id": "87c7eac80ed94476bcb974a47048e163",
       "version_major": 2,
       "version_minor": 0
      },
      "text/plain": [
       "Scanning spectrum:   0%|          | 0/20 [00:00<?, ?it/s]"
      ]
     },
     "metadata": {},
     "output_type": "display_data"
    },
    {
     "data": {
      "application/vnd.jupyter.widget-view+json": {
       "model_id": "9fe817f98515415f8645d695fd3375c1",
       "version_major": 2,
       "version_minor": 0
      },
      "text/plain": [
       "Scanning spectrum:   0%|          | 0/20 [00:00<?, ?it/s]"
      ]
     },
     "metadata": {},
     "output_type": "display_data"
    },
    {
     "data": {
      "application/vnd.jupyter.widget-view+json": {
       "model_id": "2935f65782c041398eb9053bbeac32c9",
       "version_major": 2,
       "version_minor": 0
      },
      "text/plain": [
       "Scanning spectrum:   0%|          | 0/20 [00:00<?, ?it/s]"
      ]
     },
     "metadata": {},
     "output_type": "display_data"
    },
    {
     "data": {
      "application/vnd.jupyter.widget-view+json": {
       "model_id": "56c947948c324eb39980b90c7b955a45",
       "version_major": 2,
       "version_minor": 0
      },
      "text/plain": [
       "Scanning spectrum:   0%|          | 0/20 [00:00<?, ?it/s]"
      ]
     },
     "metadata": {},
     "output_type": "display_data"
    },
    {
     "data": {
      "application/vnd.jupyter.widget-view+json": {
       "model_id": "40282a0b7f1042e5b71123398d9a8409",
       "version_major": 2,
       "version_minor": 0
      },
      "text/plain": [
       "Scanning spectrum:   0%|          | 0/20 [00:00<?, ?it/s]"
      ]
     },
     "metadata": {},
     "output_type": "display_data"
    },
    {
     "data": {
      "application/vnd.jupyter.widget-view+json": {
       "model_id": "9c531dfdc2ce4796b4e8af3e80264855",
       "version_major": 2,
       "version_minor": 0
      },
      "text/plain": [
       "Scanning spectrum:   0%|          | 0/20 [00:00<?, ?it/s]"
      ]
     },
     "metadata": {},
     "output_type": "display_data"
    },
    {
     "data": {
      "application/vnd.jupyter.widget-view+json": {
       "model_id": "f7d3806812fe42b3a4dbe61de991b431",
       "version_major": 2,
       "version_minor": 0
      },
      "text/plain": [
       "Scanning spectrum:   0%|          | 0/20 [00:00<?, ?it/s]"
      ]
     },
     "metadata": {},
     "output_type": "display_data"
    },
    {
     "data": {
      "application/vnd.jupyter.widget-view+json": {
       "model_id": "28adcabd037a455198dd728425822cb2",
       "version_major": 2,
       "version_minor": 0
      },
      "text/plain": [
       "Scanning spectrum:   0%|          | 0/20 [00:00<?, ?it/s]"
      ]
     },
     "metadata": {},
     "output_type": "display_data"
    },
    {
     "data": {
      "application/vnd.jupyter.widget-view+json": {
       "model_id": "183476b35da442e09478fc35ea67bdc2",
       "version_major": 2,
       "version_minor": 0
      },
      "text/plain": [
       "Scanning spectrum:   0%|          | 0/20 [00:00<?, ?it/s]"
      ]
     },
     "metadata": {},
     "output_type": "display_data"
    },
    {
     "data": {
      "application/vnd.jupyter.widget-view+json": {
       "model_id": "366e824a55484c0d98d17050a5d54486",
       "version_major": 2,
       "version_minor": 0
      },
      "text/plain": [
       "Scanning spectrum:   0%|          | 0/20 [00:00<?, ?it/s]"
      ]
     },
     "metadata": {},
     "output_type": "display_data"
    },
    {
     "data": {
      "application/vnd.jupyter.widget-view+json": {
       "model_id": "768678d3c10b4087b52ee708fe33515d",
       "version_major": 2,
       "version_minor": 0
      },
      "text/plain": [
       "Scanning spectrum:   0%|          | 0/20 [00:00<?, ?it/s]"
      ]
     },
     "metadata": {},
     "output_type": "display_data"
    },
    {
     "data": {
      "application/vnd.jupyter.widget-view+json": {
       "model_id": "b4fcc4c6c03d45e4a61b2188bb307d2f",
       "version_major": 2,
       "version_minor": 0
      },
      "text/plain": [
       "Scanning spectrum:   0%|          | 0/20 [00:00<?, ?it/s]"
      ]
     },
     "metadata": {},
     "output_type": "display_data"
    },
    {
     "data": {
      "application/vnd.jupyter.widget-view+json": {
       "model_id": "f96bbeb5039546eeafe33db2f5d5d46d",
       "version_major": 2,
       "version_minor": 0
      },
      "text/plain": [
       "Scanning spectrum:   0%|          | 0/20 [00:00<?, ?it/s]"
      ]
     },
     "metadata": {},
     "output_type": "display_data"
    },
    {
     "data": {
      "application/vnd.jupyter.widget-view+json": {
       "model_id": "e621b6d76e7f4c8180f65ca4a2c7d933",
       "version_major": 2,
       "version_minor": 0
      },
      "text/plain": [
       "Scanning spectrum:   0%|          | 0/20 [00:00<?, ?it/s]"
      ]
     },
     "metadata": {},
     "output_type": "display_data"
    },
    {
     "data": {
      "application/vnd.jupyter.widget-view+json": {
       "model_id": "2d8ff2e4388e4360947c7dbe11d6fa8b",
       "version_major": 2,
       "version_minor": 0
      },
      "text/plain": [
       "Scanning spectrum:   0%|          | 0/20 [00:00<?, ?it/s]"
      ]
     },
     "metadata": {},
     "output_type": "display_data"
    },
    {
     "data": {
      "application/vnd.jupyter.widget-view+json": {
       "model_id": "bf189c8906064763969e31237e99c494",
       "version_major": 2,
       "version_minor": 0
      },
      "text/plain": [
       "Scanning spectrum:   0%|          | 0/20 [00:00<?, ?it/s]"
      ]
     },
     "metadata": {},
     "output_type": "display_data"
    },
    {
     "data": {
      "application/vnd.jupyter.widget-view+json": {
       "model_id": "53c6f45ba072483699c2aa3fd72ae445",
       "version_major": 2,
       "version_minor": 0
      },
      "text/plain": [
       "Scanning spectrum:   0%|          | 0/20 [00:00<?, ?it/s]"
      ]
     },
     "metadata": {},
     "output_type": "display_data"
    },
    {
     "data": {
      "application/vnd.jupyter.widget-view+json": {
       "model_id": "50ccd73f05a340458be5e160c628cb89",
       "version_major": 2,
       "version_minor": 0
      },
      "text/plain": [
       "Scanning spectrum:   0%|          | 0/20 [00:00<?, ?it/s]"
      ]
     },
     "metadata": {},
     "output_type": "display_data"
    },
    {
     "data": {
      "application/vnd.jupyter.widget-view+json": {
       "model_id": "acdb1d6dfbfa4af6b34129097e409065",
       "version_major": 2,
       "version_minor": 0
      },
      "text/plain": [
       "Scanning spectrum:   0%|          | 0/20 [00:00<?, ?it/s]"
      ]
     },
     "metadata": {},
     "output_type": "display_data"
    },
    {
     "data": {
      "application/vnd.jupyter.widget-view+json": {
       "model_id": "4c5e8a65db3e4ac188334a381ea54b86",
       "version_major": 2,
       "version_minor": 0
      },
      "text/plain": [
       "Scanning spectrum:   0%|          | 0/20 [00:00<?, ?it/s]"
      ]
     },
     "metadata": {},
     "output_type": "display_data"
    },
    {
     "data": {
      "application/vnd.jupyter.widget-view+json": {
       "model_id": "1f8db02666fa418e85d0d98611a8e7c3",
       "version_major": 2,
       "version_minor": 0
      },
      "text/plain": [
       "Scanning spectrum:   0%|          | 0/20 [00:00<?, ?it/s]"
      ]
     },
     "metadata": {},
     "output_type": "display_data"
    },
    {
     "data": {
      "application/vnd.jupyter.widget-view+json": {
       "model_id": "09d54df91e4040baab3abd3de1058a9d",
       "version_major": 2,
       "version_minor": 0
      },
      "text/plain": [
       "Scanning spectrum:   0%|          | 0/20 [00:00<?, ?it/s]"
      ]
     },
     "metadata": {},
     "output_type": "display_data"
    },
    {
     "data": {
      "application/vnd.jupyter.widget-view+json": {
       "model_id": "5c138ada97f4496885c55bfed59bc352",
       "version_major": 2,
       "version_minor": 0
      },
      "text/plain": [
       "Scanning spectrum:   0%|          | 0/20 [00:00<?, ?it/s]"
      ]
     },
     "metadata": {},
     "output_type": "display_data"
    },
    {
     "data": {
      "application/vnd.jupyter.widget-view+json": {
       "model_id": "2096197880d348ea92c26a80ae90307a",
       "version_major": 2,
       "version_minor": 0
      },
      "text/plain": [
       "Scanning spectrum:   0%|          | 0/20 [00:00<?, ?it/s]"
      ]
     },
     "metadata": {},
     "output_type": "display_data"
    },
    {
     "data": {
      "application/vnd.jupyter.widget-view+json": {
       "model_id": "0ada55837c454853992d21fa41d168d7",
       "version_major": 2,
       "version_minor": 0
      },
      "text/plain": [
       "Scanning spectrum:   0%|          | 0/20 [00:00<?, ?it/s]"
      ]
     },
     "metadata": {},
     "output_type": "display_data"
    },
    {
     "data": {
      "application/vnd.jupyter.widget-view+json": {
       "model_id": "130e5cd762724084bcf8be512835db74",
       "version_major": 2,
       "version_minor": 0
      },
      "text/plain": [
       "Scanning spectrum:   0%|          | 0/20 [00:00<?, ?it/s]"
      ]
     },
     "metadata": {},
     "output_type": "display_data"
    },
    {
     "data": {
      "application/vnd.jupyter.widget-view+json": {
       "model_id": "6ac7cbdbb11a4561bf7acccba233058b",
       "version_major": 2,
       "version_minor": 0
      },
      "text/plain": [
       "Scanning spectrum:   0%|          | 0/20 [00:00<?, ?it/s]"
      ]
     },
     "metadata": {},
     "output_type": "display_data"
    },
    {
     "data": {
      "application/vnd.jupyter.widget-view+json": {
       "model_id": "50b7159924a54094b7ca5a10030468a1",
       "version_major": 2,
       "version_minor": 0
      },
      "text/plain": [
       "Scanning spectrum:   0%|          | 0/20 [00:00<?, ?it/s]"
      ]
     },
     "metadata": {},
     "output_type": "display_data"
    },
    {
     "data": {
      "application/vnd.jupyter.widget-view+json": {
       "model_id": "c7ad4c07012b4e38824ed53eb4919d6a",
       "version_major": 2,
       "version_minor": 0
      },
      "text/plain": [
       "Scanning spectrum:   0%|          | 0/20 [00:00<?, ?it/s]"
      ]
     },
     "metadata": {},
     "output_type": "display_data"
    },
    {
     "data": {
      "application/vnd.jupyter.widget-view+json": {
       "model_id": "ccc0c68fc39244e4861f48318eba13fd",
       "version_major": 2,
       "version_minor": 0
      },
      "text/plain": [
       "Scanning spectrum:   0%|          | 0/20 [00:00<?, ?it/s]"
      ]
     },
     "metadata": {},
     "output_type": "display_data"
    },
    {
     "data": {
      "application/vnd.jupyter.widget-view+json": {
       "model_id": "74a72b6b06284aadbf5be03b22860973",
       "version_major": 2,
       "version_minor": 0
      },
      "text/plain": [
       "Scanning spectrum:   0%|          | 0/20 [00:00<?, ?it/s]"
      ]
     },
     "metadata": {},
     "output_type": "display_data"
    },
    {
     "data": {
      "application/vnd.jupyter.widget-view+json": {
       "model_id": "3710f7dfb08147fcbf465753b73d248a",
       "version_major": 2,
       "version_minor": 0
      },
      "text/plain": [
       "Scanning spectrum:   0%|          | 0/20 [00:00<?, ?it/s]"
      ]
     },
     "metadata": {},
     "output_type": "display_data"
    },
    {
     "data": {
      "application/vnd.jupyter.widget-view+json": {
       "model_id": "27ca2fb021894bdea05dc82e4b15c929",
       "version_major": 2,
       "version_minor": 0
      },
      "text/plain": [
       "Scanning spectrum:   0%|          | 0/20 [00:00<?, ?it/s]"
      ]
     },
     "metadata": {},
     "output_type": "display_data"
    },
    {
     "data": {
      "application/vnd.jupyter.widget-view+json": {
       "model_id": "7c0f8e0b3ede4d7faff4b1517072c5a3",
       "version_major": 2,
       "version_minor": 0
      },
      "text/plain": [
       "Scanning spectrum:   0%|          | 0/20 [00:00<?, ?it/s]"
      ]
     },
     "metadata": {},
     "output_type": "display_data"
    },
    {
     "data": {
      "application/vnd.jupyter.widget-view+json": {
       "model_id": "5a26d373552f4af1a369dc22d1a02b45",
       "version_major": 2,
       "version_minor": 0
      },
      "text/plain": [
       "Scanning spectrum:   0%|          | 0/20 [00:00<?, ?it/s]"
      ]
     },
     "metadata": {},
     "output_type": "display_data"
    },
    {
     "data": {
      "application/vnd.jupyter.widget-view+json": {
       "model_id": "348cc66a2ba84c06bd462732b424906c",
       "version_major": 2,
       "version_minor": 0
      },
      "text/plain": [
       "Scanning spectrum:   0%|          | 0/20 [00:00<?, ?it/s]"
      ]
     },
     "metadata": {},
     "output_type": "display_data"
    },
    {
     "data": {
      "application/vnd.jupyter.widget-view+json": {
       "model_id": "eac34d527f824a8d9aa9642752711cc0",
       "version_major": 2,
       "version_minor": 0
      },
      "text/plain": [
       "Scanning spectrum:   0%|          | 0/20 [00:00<?, ?it/s]"
      ]
     },
     "metadata": {},
     "output_type": "display_data"
    },
    {
     "data": {
      "application/vnd.jupyter.widget-view+json": {
       "model_id": "793833cad16648119084f9292c0b423b",
       "version_major": 2,
       "version_minor": 0
      },
      "text/plain": [
       "Scanning spectrum:   0%|          | 0/20 [00:00<?, ?it/s]"
      ]
     },
     "metadata": {},
     "output_type": "display_data"
    },
    {
     "data": {
      "application/vnd.jupyter.widget-view+json": {
       "model_id": "40393bb98bee4202b7e27f1e7bdb2d8f",
       "version_major": 2,
       "version_minor": 0
      },
      "text/plain": [
       "Scanning spectrum:   0%|          | 0/20 [00:00<?, ?it/s]"
      ]
     },
     "metadata": {},
     "output_type": "display_data"
    },
    {
     "data": {
      "application/vnd.jupyter.widget-view+json": {
       "model_id": "ccee986e319943179a4ecc4c0062bb5b",
       "version_major": 2,
       "version_minor": 0
      },
      "text/plain": [
       "Scanning spectrum:   0%|          | 0/20 [00:00<?, ?it/s]"
      ]
     },
     "metadata": {},
     "output_type": "display_data"
    },
    {
     "data": {
      "application/vnd.jupyter.widget-view+json": {
       "model_id": "38d04980eb4d478299ef592e65934f8f",
       "version_major": 2,
       "version_minor": 0
      },
      "text/plain": [
       "Scanning spectrum:   0%|          | 0/20 [00:00<?, ?it/s]"
      ]
     },
     "metadata": {},
     "output_type": "display_data"
    },
    {
     "data": {
      "application/vnd.jupyter.widget-view+json": {
       "model_id": "47c677856fe846aea8ee2219d4dc5dd8",
       "version_major": 2,
       "version_minor": 0
      },
      "text/plain": [
       "Scanning spectrum:   0%|          | 0/20 [00:00<?, ?it/s]"
      ]
     },
     "metadata": {},
     "output_type": "display_data"
    },
    {
     "data": {
      "application/vnd.jupyter.widget-view+json": {
       "model_id": "05552422c6bd47c3a2076e30bcfe18b3",
       "version_major": 2,
       "version_minor": 0
      },
      "text/plain": [
       "Scanning spectrum:   0%|          | 0/20 [00:00<?, ?it/s]"
      ]
     },
     "metadata": {},
     "output_type": "display_data"
    },
    {
     "data": {
      "application/vnd.jupyter.widget-view+json": {
       "model_id": "0113d29b52844ac6ae38773548bc149a",
       "version_major": 2,
       "version_minor": 0
      },
      "text/plain": [
       "Scanning spectrum:   0%|          | 0/20 [00:00<?, ?it/s]"
      ]
     },
     "metadata": {},
     "output_type": "display_data"
    },
    {
     "data": {
      "application/vnd.jupyter.widget-view+json": {
       "model_id": "d8ee6ee5c3224125afd5ed6117d8c486",
       "version_major": 2,
       "version_minor": 0
      },
      "text/plain": [
       "Scanning spectrum:   0%|          | 0/20 [00:00<?, ?it/s]"
      ]
     },
     "metadata": {},
     "output_type": "display_data"
    },
    {
     "data": {
      "application/vnd.jupyter.widget-view+json": {
       "model_id": "5f9b3b3bf81344f99646d7567e4af081",
       "version_major": 2,
       "version_minor": 0
      },
      "text/plain": [
       "Scanning spectrum:   0%|          | 0/20 [00:00<?, ?it/s]"
      ]
     },
     "metadata": {},
     "output_type": "display_data"
    },
    {
     "data": {
      "application/vnd.jupyter.widget-view+json": {
       "model_id": "02cca5340c6342c08545c199b685d5fb",
       "version_major": 2,
       "version_minor": 0
      },
      "text/plain": [
       "Scanning spectrum:   0%|          | 0/20 [00:00<?, ?it/s]"
      ]
     },
     "metadata": {},
     "output_type": "display_data"
    },
    {
     "data": {
      "application/vnd.jupyter.widget-view+json": {
       "model_id": "8dbe08d736d34e56aa2d418c0e5e84da",
       "version_major": 2,
       "version_minor": 0
      },
      "text/plain": [
       "Scanning spectrum:   0%|          | 0/20 [00:00<?, ?it/s]"
      ]
     },
     "metadata": {},
     "output_type": "display_data"
    },
    {
     "data": {
      "application/vnd.jupyter.widget-view+json": {
       "model_id": "f68203fd6cc94428a3ab396d9e5fb6a7",
       "version_major": 2,
       "version_minor": 0
      },
      "text/plain": [
       "Scanning spectrum:   0%|          | 0/20 [00:00<?, ?it/s]"
      ]
     },
     "metadata": {},
     "output_type": "display_data"
    },
    {
     "data": {
      "application/vnd.jupyter.widget-view+json": {
       "model_id": "5dbb21c6fdf5412fbaea165c4038cbbb",
       "version_major": 2,
       "version_minor": 0
      },
      "text/plain": [
       "Scanning spectrum:   0%|          | 0/20 [00:00<?, ?it/s]"
      ]
     },
     "metadata": {},
     "output_type": "display_data"
    },
    {
     "data": {
      "application/vnd.jupyter.widget-view+json": {
       "model_id": "ff20c3c900ff4a749113761762fa2aad",
       "version_major": 2,
       "version_minor": 0
      },
      "text/plain": [
       "Scanning spectrum:   0%|          | 0/20 [00:00<?, ?it/s]"
      ]
     },
     "metadata": {},
     "output_type": "display_data"
    },
    {
     "data": {
      "application/vnd.jupyter.widget-view+json": {
       "model_id": "33cc27baf12143d980c37143cbcf7ed7",
       "version_major": 2,
       "version_minor": 0
      },
      "text/plain": [
       "Scanning spectrum:   0%|          | 0/20 [00:00<?, ?it/s]"
      ]
     },
     "metadata": {},
     "output_type": "display_data"
    },
    {
     "data": {
      "application/vnd.jupyter.widget-view+json": {
       "model_id": "68d8c9557ac44a2b955db5e1260e3b55",
       "version_major": 2,
       "version_minor": 0
      },
      "text/plain": [
       "Scanning spectrum:   0%|          | 0/20 [00:00<?, ?it/s]"
      ]
     },
     "metadata": {},
     "output_type": "display_data"
    },
    {
     "data": {
      "application/vnd.jupyter.widget-view+json": {
       "model_id": "b47e4fb3e67047f7932cd5a120a45f75",
       "version_major": 2,
       "version_minor": 0
      },
      "text/plain": [
       "Scanning spectrum:   0%|          | 0/20 [00:00<?, ?it/s]"
      ]
     },
     "metadata": {},
     "output_type": "display_data"
    },
    {
     "data": {
      "application/vnd.jupyter.widget-view+json": {
       "model_id": "28a95bffb08b41358db2d4bd04f3e8c8",
       "version_major": 2,
       "version_minor": 0
      },
      "text/plain": [
       "Scanning spectrum:   0%|          | 0/20 [00:00<?, ?it/s]"
      ]
     },
     "metadata": {},
     "output_type": "display_data"
    },
    {
     "data": {
      "application/vnd.jupyter.widget-view+json": {
       "model_id": "e7cf3b04d9ee4dd49ec283c9dd66eb0d",
       "version_major": 2,
       "version_minor": 0
      },
      "text/plain": [
       "Scanning spectrum:   0%|          | 0/20 [00:00<?, ?it/s]"
      ]
     },
     "metadata": {},
     "output_type": "display_data"
    },
    {
     "data": {
      "application/vnd.jupyter.widget-view+json": {
       "model_id": "b728575b287e4a00aa9bbbec827d16e3",
       "version_major": 2,
       "version_minor": 0
      },
      "text/plain": [
       "Scanning spectrum:   0%|          | 0/20 [00:00<?, ?it/s]"
      ]
     },
     "metadata": {},
     "output_type": "display_data"
    },
    {
     "data": {
      "application/vnd.jupyter.widget-view+json": {
       "model_id": "58fd1c5b5e7c4b38907c14706658cea2",
       "version_major": 2,
       "version_minor": 0
      },
      "text/plain": [
       "Scanning spectrum:   0%|          | 0/20 [00:00<?, ?it/s]"
      ]
     },
     "metadata": {},
     "output_type": "display_data"
    },
    {
     "data": {
      "application/vnd.jupyter.widget-view+json": {
       "model_id": "9a16561ef28a461bbabc36e3b8a2fb05",
       "version_major": 2,
       "version_minor": 0
      },
      "text/plain": [
       "Scanning spectrum:   0%|          | 0/20 [00:00<?, ?it/s]"
      ]
     },
     "metadata": {},
     "output_type": "display_data"
    },
    {
     "data": {
      "application/vnd.jupyter.widget-view+json": {
       "model_id": "1ac50d55c56545c3b0a006f56d233c0f",
       "version_major": 2,
       "version_minor": 0
      },
      "text/plain": [
       "Scanning spectrum:   0%|          | 0/20 [00:00<?, ?it/s]"
      ]
     },
     "metadata": {},
     "output_type": "display_data"
    },
    {
     "data": {
      "application/vnd.jupyter.widget-view+json": {
       "model_id": "9841f20bcbe34874894664ed52ef55d2",
       "version_major": 2,
       "version_minor": 0
      },
      "text/plain": [
       "Scanning spectrum:   0%|          | 0/20 [00:00<?, ?it/s]"
      ]
     },
     "metadata": {},
     "output_type": "display_data"
    },
    {
     "data": {
      "application/vnd.jupyter.widget-view+json": {
       "model_id": "5bce88b323674c1e915017aafbfb69a1",
       "version_major": 2,
       "version_minor": 0
      },
      "text/plain": [
       "Scanning spectrum:   0%|          | 0/20 [00:00<?, ?it/s]"
      ]
     },
     "metadata": {},
     "output_type": "display_data"
    },
    {
     "data": {
      "application/vnd.jupyter.widget-view+json": {
       "model_id": "33cf08f0412f4bdc974c939000aaa411",
       "version_major": 2,
       "version_minor": 0
      },
      "text/plain": [
       "Scanning spectrum:   0%|          | 0/20 [00:00<?, ?it/s]"
      ]
     },
     "metadata": {},
     "output_type": "display_data"
    },
    {
     "data": {
      "application/vnd.jupyter.widget-view+json": {
       "model_id": "f2ca74b20e8c4c71a915c019f6510783",
       "version_major": 2,
       "version_minor": 0
      },
      "text/plain": [
       "Scanning spectrum:   0%|          | 0/20 [00:00<?, ?it/s]"
      ]
     },
     "metadata": {},
     "output_type": "display_data"
    },
    {
     "data": {
      "application/vnd.jupyter.widget-view+json": {
       "model_id": "e61eb171cc4b4db09684bf1933aef843",
       "version_major": 2,
       "version_minor": 0
      },
      "text/plain": [
       "Scanning spectrum:   0%|          | 0/20 [00:00<?, ?it/s]"
      ]
     },
     "metadata": {},
     "output_type": "display_data"
    },
    {
     "data": {
      "application/vnd.jupyter.widget-view+json": {
       "model_id": "ebbc9ac827f34dbfa6a6d071e8a27c32",
       "version_major": 2,
       "version_minor": 0
      },
      "text/plain": [
       "Scanning spectrum:   0%|          | 0/20 [00:00<?, ?it/s]"
      ]
     },
     "metadata": {},
     "output_type": "display_data"
    },
    {
     "data": {
      "application/vnd.jupyter.widget-view+json": {
       "model_id": "916760a241924adf98b61e14eefa2377",
       "version_major": 2,
       "version_minor": 0
      },
      "text/plain": [
       "Scanning spectrum:   0%|          | 0/20 [00:00<?, ?it/s]"
      ]
     },
     "metadata": {},
     "output_type": "display_data"
    },
    {
     "data": {
      "application/vnd.jupyter.widget-view+json": {
       "model_id": "a93c99f85edd44879f6bfeef00f151cc",
       "version_major": 2,
       "version_minor": 0
      },
      "text/plain": [
       "Scanning spectrum:   0%|          | 0/20 [00:00<?, ?it/s]"
      ]
     },
     "metadata": {},
     "output_type": "display_data"
    },
    {
     "data": {
      "application/vnd.jupyter.widget-view+json": {
       "model_id": "3d58ee0493c243688be2a1e4ffcec79f",
       "version_major": 2,
       "version_minor": 0
      },
      "text/plain": [
       "Scanning spectrum:   0%|          | 0/20 [00:00<?, ?it/s]"
      ]
     },
     "metadata": {},
     "output_type": "display_data"
    },
    {
     "data": {
      "application/vnd.jupyter.widget-view+json": {
       "model_id": "c4c047f2d9104ef58511199536edd76c",
       "version_major": 2,
       "version_minor": 0
      },
      "text/plain": [
       "Scanning spectrum:   0%|          | 0/20 [00:00<?, ?it/s]"
      ]
     },
     "metadata": {},
     "output_type": "display_data"
    },
    {
     "data": {
      "application/vnd.jupyter.widget-view+json": {
       "model_id": "7dec820dbefe4b9e9a92aaf55a9af221",
       "version_major": 2,
       "version_minor": 0
      },
      "text/plain": [
       "Scanning spectrum:   0%|          | 0/20 [00:00<?, ?it/s]"
      ]
     },
     "metadata": {},
     "output_type": "display_data"
    },
    {
     "data": {
      "application/vnd.jupyter.widget-view+json": {
       "model_id": "3fd2f7cf44f343c2aceb3355cb4fca81",
       "version_major": 2,
       "version_minor": 0
      },
      "text/plain": [
       "Scanning spectrum:   0%|          | 0/20 [00:00<?, ?it/s]"
      ]
     },
     "metadata": {},
     "output_type": "display_data"
    },
    {
     "data": {
      "application/vnd.jupyter.widget-view+json": {
       "model_id": "7033aa551e304307ac5be961aa3c12f7",
       "version_major": 2,
       "version_minor": 0
      },
      "text/plain": [
       "Scanning spectrum:   0%|          | 0/20 [00:00<?, ?it/s]"
      ]
     },
     "metadata": {},
     "output_type": "display_data"
    },
    {
     "data": {
      "application/vnd.jupyter.widget-view+json": {
       "model_id": "d126298a12d64d8480401c432778dbea",
       "version_major": 2,
       "version_minor": 0
      },
      "text/plain": [
       "Scanning spectrum:   0%|          | 0/20 [00:00<?, ?it/s]"
      ]
     },
     "metadata": {},
     "output_type": "display_data"
    },
    {
     "data": {
      "application/vnd.jupyter.widget-view+json": {
       "model_id": "549626c503a04bf9bf7935914b6c3a9c",
       "version_major": 2,
       "version_minor": 0
      },
      "text/plain": [
       "Scanning spectrum:   0%|          | 0/20 [00:00<?, ?it/s]"
      ]
     },
     "metadata": {},
     "output_type": "display_data"
    },
    {
     "data": {
      "application/vnd.jupyter.widget-view+json": {
       "model_id": "164e408ed7fd4902b1252e41f53992a2",
       "version_major": 2,
       "version_minor": 0
      },
      "text/plain": [
       "Scanning spectrum:   0%|          | 0/20 [00:00<?, ?it/s]"
      ]
     },
     "metadata": {},
     "output_type": "display_data"
    },
    {
     "data": {
      "application/vnd.jupyter.widget-view+json": {
       "model_id": "5699b1eec0a346efb0023200c018677b",
       "version_major": 2,
       "version_minor": 0
      },
      "text/plain": [
       "Scanning spectrum:   0%|          | 0/20 [00:00<?, ?it/s]"
      ]
     },
     "metadata": {},
     "output_type": "display_data"
    },
    {
     "data": {
      "application/vnd.jupyter.widget-view+json": {
       "model_id": "049afba63cc94779a5e99f1af27924c0",
       "version_major": 2,
       "version_minor": 0
      },
      "text/plain": [
       "Scanning spectrum:   0%|          | 0/20 [00:00<?, ?it/s]"
      ]
     },
     "metadata": {},
     "output_type": "display_data"
    },
    {
     "data": {
      "application/vnd.jupyter.widget-view+json": {
       "model_id": "3ba2914a578b4fc289d0f85838f83e59",
       "version_major": 2,
       "version_minor": 0
      },
      "text/plain": [
       "Scanning spectrum:   0%|          | 0/20 [00:00<?, ?it/s]"
      ]
     },
     "metadata": {},
     "output_type": "display_data"
    },
    {
     "data": {
      "application/vnd.jupyter.widget-view+json": {
       "model_id": "fc37f8df7bbd4c6aba8b531ad49c301e",
       "version_major": 2,
       "version_minor": 0
      },
      "text/plain": [
       "Scanning spectrum:   0%|          | 0/20 [00:00<?, ?it/s]"
      ]
     },
     "metadata": {},
     "output_type": "display_data"
    },
    {
     "data": {
      "application/vnd.jupyter.widget-view+json": {
       "model_id": "882de2aca3b24461a222e4f7a2d28247",
       "version_major": 2,
       "version_minor": 0
      },
      "text/plain": [
       "Scanning spectrum:   0%|          | 0/20 [00:00<?, ?it/s]"
      ]
     },
     "metadata": {},
     "output_type": "display_data"
    },
    {
     "data": {
      "application/vnd.jupyter.widget-view+json": {
       "model_id": "9d140d850f6d4bc2bc321084e9a98eb1",
       "version_major": 2,
       "version_minor": 0
      },
      "text/plain": [
       "Scanning spectrum:   0%|          | 0/20 [00:00<?, ?it/s]"
      ]
     },
     "metadata": {},
     "output_type": "display_data"
    },
    {
     "data": {
      "application/vnd.jupyter.widget-view+json": {
       "model_id": "54950fe782b4432b9355e0ea2b98edc1",
       "version_major": 2,
       "version_minor": 0
      },
      "text/plain": [
       "Scanning spectrum:   0%|          | 0/20 [00:00<?, ?it/s]"
      ]
     },
     "metadata": {},
     "output_type": "display_data"
    },
    {
     "data": {
      "application/vnd.jupyter.widget-view+json": {
       "model_id": "fb01b11ece1e4ec1af43213291615d47",
       "version_major": 2,
       "version_minor": 0
      },
      "text/plain": [
       "Scanning spectrum:   0%|          | 0/20 [00:00<?, ?it/s]"
      ]
     },
     "metadata": {},
     "output_type": "display_data"
    },
    {
     "data": {
      "application/vnd.jupyter.widget-view+json": {
       "model_id": "388ffac37a0e4380b1f7bf0605690f3a",
       "version_major": 2,
       "version_minor": 0
      },
      "text/plain": [
       "Scanning spectrum:   0%|          | 0/20 [00:00<?, ?it/s]"
      ]
     },
     "metadata": {},
     "output_type": "display_data"
    },
    {
     "data": {
      "application/vnd.jupyter.widget-view+json": {
       "model_id": "2e494e1ef89747e18016c9ec52e9d2ae",
       "version_major": 2,
       "version_minor": 0
      },
      "text/plain": [
       "Scanning spectrum:   0%|          | 0/20 [00:00<?, ?it/s]"
      ]
     },
     "metadata": {},
     "output_type": "display_data"
    },
    {
     "data": {
      "application/vnd.jupyter.widget-view+json": {
       "model_id": "726e24b6994947268c5ca9098807190f",
       "version_major": 2,
       "version_minor": 0
      },
      "text/plain": [
       "Scanning spectrum:   0%|          | 0/20 [00:00<?, ?it/s]"
      ]
     },
     "metadata": {},
     "output_type": "display_data"
    }
   ],
   "source": [
    "image = generate_image(nx=c.opt.nx, ny=c.opt.ny)\n",
    "\n",
    "c = Caustique(opt)\n",
    "c.opt.tag = 'longue_caustique'\n",
    "image = generate_image(nx=c.opt.nx, ny=c.opt.ny)\n",
    "output_filename = c.plot(z, image)\n",
    "print(output_filename)"
   ]
  },
  {
   "cell_type": "code",
   "execution_count": null,
   "metadata": {},
   "outputs": [],
   "source": [
    "c.show(output_filename)"
   ]
  },
  {
   "cell_type": "code",
   "execution_count": null,
   "metadata": {},
   "outputs": [],
   "source": [
    "print(output_filename)"
   ]
  }
 ],
 "metadata": {
  "kernelspec": {
   "display_name": ".venv",
   "language": "python",
   "name": "python3"
  },
  "language_info": {
   "codemirror_mode": {
    "name": "ipython",
    "version": 3
   },
   "file_extension": ".py",
   "mimetype": "text/x-python",
   "name": "python",
   "nbconvert_exporter": "python",
   "pygments_lexer": "ipython3",
   "version": "3.13.9"
  },
  "nteract": {
   "version": "0.28.0"
  },
  "widgets": {
   "application/vnd.jupyter.widget-state+json": {
    "state": {
     "035ab33361e7432caecc80ca2a176575": {
      "model_module": "@jupyter-widgets/controls",
      "model_module_version": "2.0.0",
      "model_name": "FloatProgressModel",
      "state": {
       "_dom_classes": [],
       "_model_module": "@jupyter-widgets/controls",
       "_model_module_version": "2.0.0",
       "_model_name": "FloatProgressModel",
       "_view_count": null,
       "_view_module": "@jupyter-widgets/controls",
       "_view_module_version": "2.0.0",
       "_view_name": "ProgressView",
       "bar_style": "success",
       "description": "",
       "description_allow_html": false,
       "layout": "IPY_MODEL_77f9a290f7dd4b219ba4f735555140e1",
       "max": 256,
       "min": 0,
       "orientation": "horizontal",
       "style": "IPY_MODEL_84e6789a386f4cc3b967f7880483983c",
       "tabbable": null,
       "tooltip": null,
       "value": 256
      }
     },
     "0b73ffb834c2419c973499fdf717431d": {
      "model_module": "@jupyter-widgets/base",
      "model_module_version": "2.0.0",
      "model_name": "LayoutModel",
      "state": {
       "_model_module": "@jupyter-widgets/base",
       "_model_module_version": "2.0.0",
       "_model_name": "LayoutModel",
       "_view_count": null,
       "_view_module": "@jupyter-widgets/base",
       "_view_module_version": "2.0.0",
       "_view_name": "LayoutView",
       "align_content": null,
       "align_items": null,
       "align_self": null,
       "border_bottom": null,
       "border_left": null,
       "border_right": null,
       "border_top": null,
       "bottom": null,
       "display": null,
       "flex": null,
       "flex_flow": null,
       "grid_area": null,
       "grid_auto_columns": null,
       "grid_auto_flow": null,
       "grid_auto_rows": null,
       "grid_column": null,
       "grid_gap": null,
       "grid_row": null,
       "grid_template_areas": null,
       "grid_template_columns": null,
       "grid_template_rows": null,
       "height": null,
       "justify_content": null,
       "justify_items": null,
       "left": null,
       "margin": null,
       "max_height": null,
       "max_width": null,
       "min_height": null,
       "min_width": null,
       "object_fit": null,
       "object_position": null,
       "order": null,
       "overflow": null,
       "padding": null,
       "right": null,
       "top": null,
       "visibility": null,
       "width": null
      }
     },
     "11ae0a75f5b344f396d64dc0adfc23d4": {
      "model_module": "@jupyter-widgets/controls",
      "model_module_version": "2.0.0",
      "model_name": "HTMLStyleModel",
      "state": {
       "_model_module": "@jupyter-widgets/controls",
       "_model_module_version": "2.0.0",
       "_model_name": "HTMLStyleModel",
       "_view_count": null,
       "_view_module": "@jupyter-widgets/base",
       "_view_module_version": "2.0.0",
       "_view_name": "StyleView",
       "background": null,
       "description_width": "",
       "font_size": null,
       "text_color": null
      }
     },
     "1216f0c7b01543ab9e1c4767e78ec994": {
      "model_module": "@jupyter-widgets/base",
      "model_module_version": "2.0.0",
      "model_name": "LayoutModel",
      "state": {
       "_model_module": "@jupyter-widgets/base",
       "_model_module_version": "2.0.0",
       "_model_name": "LayoutModel",
       "_view_count": null,
       "_view_module": "@jupyter-widgets/base",
       "_view_module_version": "2.0.0",
       "_view_name": "LayoutView",
       "align_content": null,
       "align_items": null,
       "align_self": null,
       "border_bottom": null,
       "border_left": null,
       "border_right": null,
       "border_top": null,
       "bottom": null,
       "display": null,
       "flex": null,
       "flex_flow": null,
       "grid_area": null,
       "grid_auto_columns": null,
       "grid_auto_flow": null,
       "grid_auto_rows": null,
       "grid_column": null,
       "grid_gap": null,
       "grid_row": null,
       "grid_template_areas": null,
       "grid_template_columns": null,
       "grid_template_rows": null,
       "height": null,
       "justify_content": null,
       "justify_items": null,
       "left": null,
       "margin": null,
       "max_height": null,
       "max_width": null,
       "min_height": null,
       "min_width": null,
       "object_fit": null,
       "object_position": null,
       "order": null,
       "overflow": null,
       "padding": null,
       "right": null,
       "top": null,
       "visibility": null,
       "width": null
      }
     },
     "17ebce389fa846d99920f6c9c3a1210c": {
      "model_module": "@jupyter-widgets/controls",
      "model_module_version": "2.0.0",
      "model_name": "HTMLModel",
      "state": {
       "_dom_classes": [],
       "_model_module": "@jupyter-widgets/controls",
       "_model_module_version": "2.0.0",
       "_model_name": "HTMLModel",
       "_view_count": null,
       "_view_module": "@jupyter-widgets/controls",
       "_view_module_version": "2.0.0",
       "_view_name": "HTMLView",
       "description": "",
       "description_allow_html": false,
       "layout": "IPY_MODEL_c078cae24ae7430bace625a76b1cb988",
       "placeholder": "​",
       "style": "IPY_MODEL_f16c0a10ddef42d883635f671bda9653",
       "tabbable": null,
       "tooltip": null,
       "value": "100%"
      }
     },
     "190c5912ea914b8bb29e2203e0c9d745": {
      "model_module": "@jupyter-widgets/controls",
      "model_module_version": "2.0.0",
      "model_name": "FloatProgressModel",
      "state": {
       "_dom_classes": [],
       "_model_module": "@jupyter-widgets/controls",
       "_model_module_version": "2.0.0",
       "_model_name": "FloatProgressModel",
       "_view_count": null,
       "_view_module": "@jupyter-widgets/controls",
       "_view_module_version": "2.0.0",
       "_view_name": "ProgressView",
       "bar_style": "success",
       "description": "",
       "description_allow_html": false,
       "layout": "IPY_MODEL_d2044911f735442cbe3dc75e7249db0f",
       "max": 256,
       "min": 0,
       "orientation": "horizontal",
       "style": "IPY_MODEL_cd112c61118142adadc1ffdc3d4fd7dc",
       "tabbable": null,
       "tooltip": null,
       "value": 256
      }
     },
     "19f777cef46a4e6980ab4469675293a5": {
      "model_module": "@jupyter-widgets/controls",
      "model_module_version": "2.0.0",
      "model_name": "FloatProgressModel",
      "state": {
       "_dom_classes": [],
       "_model_module": "@jupyter-widgets/controls",
       "_model_module_version": "2.0.0",
       "_model_name": "FloatProgressModel",
       "_view_count": null,
       "_view_module": "@jupyter-widgets/controls",
       "_view_module_version": "2.0.0",
       "_view_name": "ProgressView",
       "bar_style": "success",
       "description": "",
       "description_allow_html": false,
       "layout": "IPY_MODEL_4a9c13ffbb134906a5773a04df09a848",
       "max": 256,
       "min": 0,
       "orientation": "horizontal",
       "style": "IPY_MODEL_408b9a2d642145409181ce414bf5f650",
       "tabbable": null,
       "tooltip": null,
       "value": 256
      }
     },
     "1e646c9ebcb840a28822c80b583c341d": {
      "model_module": "@jupyter-widgets/controls",
      "model_module_version": "2.0.0",
      "model_name": "FloatProgressModel",
      "state": {
       "_dom_classes": [],
       "_model_module": "@jupyter-widgets/controls",
       "_model_module_version": "2.0.0",
       "_model_name": "FloatProgressModel",
       "_view_count": null,
       "_view_module": "@jupyter-widgets/controls",
       "_view_module_version": "2.0.0",
       "_view_name": "ProgressView",
       "bar_style": "success",
       "description": "",
       "description_allow_html": false,
       "layout": "IPY_MODEL_231d8780a5db46418e5778863597aac4",
       "max": 256,
       "min": 0,
       "orientation": "horizontal",
       "style": "IPY_MODEL_cc8031db1bd442d1a481d859e4f8c3d1",
       "tabbable": null,
       "tooltip": null,
       "value": 256
      }
     },
     "231d8780a5db46418e5778863597aac4": {
      "model_module": "@jupyter-widgets/base",
      "model_module_version": "2.0.0",
      "model_name": "LayoutModel",
      "state": {
       "_model_module": "@jupyter-widgets/base",
       "_model_module_version": "2.0.0",
       "_model_name": "LayoutModel",
       "_view_count": null,
       "_view_module": "@jupyter-widgets/base",
       "_view_module_version": "2.0.0",
       "_view_name": "LayoutView",
       "align_content": null,
       "align_items": null,
       "align_self": null,
       "border_bottom": null,
       "border_left": null,
       "border_right": null,
       "border_top": null,
       "bottom": null,
       "display": null,
       "flex": null,
       "flex_flow": null,
       "grid_area": null,
       "grid_auto_columns": null,
       "grid_auto_flow": null,
       "grid_auto_rows": null,
       "grid_column": null,
       "grid_gap": null,
       "grid_row": null,
       "grid_template_areas": null,
       "grid_template_columns": null,
       "grid_template_rows": null,
       "height": null,
       "justify_content": null,
       "justify_items": null,
       "left": null,
       "margin": null,
       "max_height": null,
       "max_width": null,
       "min_height": null,
       "min_width": null,
       "object_fit": null,
       "object_position": null,
       "order": null,
       "overflow": null,
       "padding": null,
       "right": null,
       "top": null,
       "visibility": null,
       "width": null
      }
     },
     "2410a91c9a7a4826b7d3c14d541ff69d": {
      "model_module": "@jupyter-widgets/base",
      "model_module_version": "2.0.0",
      "model_name": "LayoutModel",
      "state": {
       "_model_module": "@jupyter-widgets/base",
       "_model_module_version": "2.0.0",
       "_model_name": "LayoutModel",
       "_view_count": null,
       "_view_module": "@jupyter-widgets/base",
       "_view_module_version": "2.0.0",
       "_view_name": "LayoutView",
       "align_content": null,
       "align_items": null,
       "align_self": null,
       "border_bottom": null,
       "border_left": null,
       "border_right": null,
       "border_top": null,
       "bottom": null,
       "display": null,
       "flex": null,
       "flex_flow": null,
       "grid_area": null,
       "grid_auto_columns": null,
       "grid_auto_flow": null,
       "grid_auto_rows": null,
       "grid_column": null,
       "grid_gap": null,
       "grid_row": null,
       "grid_template_areas": null,
       "grid_template_columns": null,
       "grid_template_rows": null,
       "height": null,
       "justify_content": null,
       "justify_items": null,
       "left": null,
       "margin": null,
       "max_height": null,
       "max_width": null,
       "min_height": null,
       "min_width": null,
       "object_fit": null,
       "object_position": null,
       "order": null,
       "overflow": null,
       "padding": null,
       "right": null,
       "top": null,
       "visibility": null,
       "width": null
      }
     },
     "2b93a83bd14041d0bf240a1e8ed105da": {
      "model_module": "@jupyter-widgets/controls",
      "model_module_version": "2.0.0",
      "model_name": "HBoxModel",
      "state": {
       "_dom_classes": [],
       "_model_module": "@jupyter-widgets/controls",
       "_model_module_version": "2.0.0",
       "_model_name": "HBoxModel",
       "_view_count": null,
       "_view_module": "@jupyter-widgets/controls",
       "_view_module_version": "2.0.0",
       "_view_name": "HBoxView",
       "box_style": "",
       "children": [
        "IPY_MODEL_17ebce389fa846d99920f6c9c3a1210c",
        "IPY_MODEL_190c5912ea914b8bb29e2203e0c9d745",
        "IPY_MODEL_d0069e861bec45358c5749eb8eb64139"
       ],
       "layout": "IPY_MODEL_391312d9ce614c36bd1c1339c4c1d3fa",
       "tabbable": null,
       "tooltip": null
      }
     },
     "33722c82ab7341d5ab4b56bce068d1e0": {
      "model_module": "@jupyter-widgets/controls",
      "model_module_version": "2.0.0",
      "model_name": "HBoxModel",
      "state": {
       "_dom_classes": [],
       "_model_module": "@jupyter-widgets/controls",
       "_model_module_version": "2.0.0",
       "_model_name": "HBoxModel",
       "_view_count": null,
       "_view_module": "@jupyter-widgets/controls",
       "_view_module_version": "2.0.0",
       "_view_name": "HBoxView",
       "box_style": "",
       "children": [
        "IPY_MODEL_34fc442a740f453aa8eb4733a00b33ee",
        "IPY_MODEL_19f777cef46a4e6980ab4469675293a5",
        "IPY_MODEL_466bad0aef824176a0778b38af7f0cc8"
       ],
       "layout": "IPY_MODEL_1216f0c7b01543ab9e1c4767e78ec994",
       "tabbable": null,
       "tooltip": null
      }
     },
     "34fc442a740f453aa8eb4733a00b33ee": {
      "model_module": "@jupyter-widgets/controls",
      "model_module_version": "2.0.0",
      "model_name": "HTMLModel",
      "state": {
       "_dom_classes": [],
       "_model_module": "@jupyter-widgets/controls",
       "_model_module_version": "2.0.0",
       "_model_name": "HTMLModel",
       "_view_count": null,
       "_view_module": "@jupyter-widgets/controls",
       "_view_module_version": "2.0.0",
       "_view_name": "HTMLView",
       "description": "",
       "description_allow_html": false,
       "layout": "IPY_MODEL_c26548a3142c45f1adfa8abc1815ac5f",
       "placeholder": "​",
       "style": "IPY_MODEL_11ae0a75f5b344f396d64dc0adfc23d4",
       "tabbable": null,
       "tooltip": null,
       "value": "100%"
      }
     },
     "372ec21d55b140a3b2f2485311a94b90": {
      "model_module": "@jupyter-widgets/controls",
      "model_module_version": "2.0.0",
      "model_name": "HTMLStyleModel",
      "state": {
       "_model_module": "@jupyter-widgets/controls",
       "_model_module_version": "2.0.0",
       "_model_name": "HTMLStyleModel",
       "_view_count": null,
       "_view_module": "@jupyter-widgets/base",
       "_view_module_version": "2.0.0",
       "_view_name": "StyleView",
       "background": null,
       "description_width": "",
       "font_size": null,
       "text_color": null
      }
     },
     "38a8e734f8a54c31bea5268b58557a88": {
      "model_module": "@jupyter-widgets/controls",
      "model_module_version": "2.0.0",
      "model_name": "HBoxModel",
      "state": {
       "_dom_classes": [],
       "_model_module": "@jupyter-widgets/controls",
       "_model_module_version": "2.0.0",
       "_model_name": "HBoxModel",
       "_view_count": null,
       "_view_module": "@jupyter-widgets/controls",
       "_view_module_version": "2.0.0",
       "_view_name": "HBoxView",
       "box_style": "",
       "children": [
        "IPY_MODEL_b8499c15522745cd9981166aa85f493d",
        "IPY_MODEL_7e3049db598142689e39c20322342839",
        "IPY_MODEL_4b89e27ea7dd4ad2848898a2e945d660"
       ],
       "layout": "IPY_MODEL_d69c4d7c0ffd4195b09a98ea697a7a77",
       "tabbable": null,
       "tooltip": null
      }
     },
     "391312d9ce614c36bd1c1339c4c1d3fa": {
      "model_module": "@jupyter-widgets/base",
      "model_module_version": "2.0.0",
      "model_name": "LayoutModel",
      "state": {
       "_model_module": "@jupyter-widgets/base",
       "_model_module_version": "2.0.0",
       "_model_name": "LayoutModel",
       "_view_count": null,
       "_view_module": "@jupyter-widgets/base",
       "_view_module_version": "2.0.0",
       "_view_name": "LayoutView",
       "align_content": null,
       "align_items": null,
       "align_self": null,
       "border_bottom": null,
       "border_left": null,
       "border_right": null,
       "border_top": null,
       "bottom": null,
       "display": null,
       "flex": null,
       "flex_flow": null,
       "grid_area": null,
       "grid_auto_columns": null,
       "grid_auto_flow": null,
       "grid_auto_rows": null,
       "grid_column": null,
       "grid_gap": null,
       "grid_row": null,
       "grid_template_areas": null,
       "grid_template_columns": null,
       "grid_template_rows": null,
       "height": null,
       "justify_content": null,
       "justify_items": null,
       "left": null,
       "margin": null,
       "max_height": null,
       "max_width": null,
       "min_height": null,
       "min_width": null,
       "object_fit": null,
       "object_position": null,
       "order": null,
       "overflow": null,
       "padding": null,
       "right": null,
       "top": null,
       "visibility": null,
       "width": null
      }
     },
     "408b9a2d642145409181ce414bf5f650": {
      "model_module": "@jupyter-widgets/controls",
      "model_module_version": "2.0.0",
      "model_name": "ProgressStyleModel",
      "state": {
       "_model_module": "@jupyter-widgets/controls",
       "_model_module_version": "2.0.0",
       "_model_name": "ProgressStyleModel",
       "_view_count": null,
       "_view_module": "@jupyter-widgets/base",
       "_view_module_version": "2.0.0",
       "_view_name": "StyleView",
       "bar_color": null,
       "description_width": ""
      }
     },
     "40e490736bdb4e9b91ecc29d8ebfcb9a": {
      "model_module": "@jupyter-widgets/controls",
      "model_module_version": "2.0.0",
      "model_name": "HTMLModel",
      "state": {
       "_dom_classes": [],
       "_model_module": "@jupyter-widgets/controls",
       "_model_module_version": "2.0.0",
       "_model_name": "HTMLModel",
       "_view_count": null,
       "_view_module": "@jupyter-widgets/controls",
       "_view_module_version": "2.0.0",
       "_view_name": "HTMLView",
       "description": "",
       "description_allow_html": false,
       "layout": "IPY_MODEL_0b73ffb834c2419c973499fdf717431d",
       "placeholder": "​",
       "style": "IPY_MODEL_92ddbe5f71f340e09a33f004c0f625c0",
       "tabbable": null,
       "tooltip": null,
       "value": "100%"
      }
     },
     "41c8f627da6e4adda218239203e2aaca": {
      "model_module": "@jupyter-widgets/base",
      "model_module_version": "2.0.0",
      "model_name": "LayoutModel",
      "state": {
       "_model_module": "@jupyter-widgets/base",
       "_model_module_version": "2.0.0",
       "_model_name": "LayoutModel",
       "_view_count": null,
       "_view_module": "@jupyter-widgets/base",
       "_view_module_version": "2.0.0",
       "_view_name": "LayoutView",
       "align_content": null,
       "align_items": null,
       "align_self": null,
       "border_bottom": null,
       "border_left": null,
       "border_right": null,
       "border_top": null,
       "bottom": null,
       "display": null,
       "flex": null,
       "flex_flow": null,
       "grid_area": null,
       "grid_auto_columns": null,
       "grid_auto_flow": null,
       "grid_auto_rows": null,
       "grid_column": null,
       "grid_gap": null,
       "grid_row": null,
       "grid_template_areas": null,
       "grid_template_columns": null,
       "grid_template_rows": null,
       "height": null,
       "justify_content": null,
       "justify_items": null,
       "left": null,
       "margin": null,
       "max_height": null,
       "max_width": null,
       "min_height": null,
       "min_width": null,
       "object_fit": null,
       "object_position": null,
       "order": null,
       "overflow": null,
       "padding": null,
       "right": null,
       "top": null,
       "visibility": null,
       "width": null
      }
     },
     "466bad0aef824176a0778b38af7f0cc8": {
      "model_module": "@jupyter-widgets/controls",
      "model_module_version": "2.0.0",
      "model_name": "HTMLModel",
      "state": {
       "_dom_classes": [],
       "_model_module": "@jupyter-widgets/controls",
       "_model_module_version": "2.0.0",
       "_model_name": "HTMLModel",
       "_view_count": null,
       "_view_module": "@jupyter-widgets/controls",
       "_view_module_version": "2.0.0",
       "_view_name": "HTMLView",
       "description": "",
       "description_allow_html": false,
       "layout": "IPY_MODEL_fd94337716a24629bbbf38eb2d910e17",
       "placeholder": "​",
       "style": "IPY_MODEL_62eaeb24301b45bdbed6f793ae2a80d3",
       "tabbable": null,
       "tooltip": null,
       "value": " 256/256 [28:51&lt;00:00,  6.95s/it]"
      }
     },
     "4a9c13ffbb134906a5773a04df09a848": {
      "model_module": "@jupyter-widgets/base",
      "model_module_version": "2.0.0",
      "model_name": "LayoutModel",
      "state": {
       "_model_module": "@jupyter-widgets/base",
       "_model_module_version": "2.0.0",
       "_model_name": "LayoutModel",
       "_view_count": null,
       "_view_module": "@jupyter-widgets/base",
       "_view_module_version": "2.0.0",
       "_view_name": "LayoutView",
       "align_content": null,
       "align_items": null,
       "align_self": null,
       "border_bottom": null,
       "border_left": null,
       "border_right": null,
       "border_top": null,
       "bottom": null,
       "display": null,
       "flex": null,
       "flex_flow": null,
       "grid_area": null,
       "grid_auto_columns": null,
       "grid_auto_flow": null,
       "grid_auto_rows": null,
       "grid_column": null,
       "grid_gap": null,
       "grid_row": null,
       "grid_template_areas": null,
       "grid_template_columns": null,
       "grid_template_rows": null,
       "height": null,
       "justify_content": null,
       "justify_items": null,
       "left": null,
       "margin": null,
       "max_height": null,
       "max_width": null,
       "min_height": null,
       "min_width": null,
       "object_fit": null,
       "object_position": null,
       "order": null,
       "overflow": null,
       "padding": null,
       "right": null,
       "top": null,
       "visibility": null,
       "width": null
      }
     },
     "4b89e27ea7dd4ad2848898a2e945d660": {
      "model_module": "@jupyter-widgets/controls",
      "model_module_version": "2.0.0",
      "model_name": "HTMLModel",
      "state": {
       "_dom_classes": [],
       "_model_module": "@jupyter-widgets/controls",
       "_model_module_version": "2.0.0",
       "_model_name": "HTMLModel",
       "_view_count": null,
       "_view_module": "@jupyter-widgets/controls",
       "_view_module_version": "2.0.0",
       "_view_name": "HTMLView",
       "description": "",
       "description_allow_html": false,
       "layout": "IPY_MODEL_6842b6809a9e45cfb0e702de8bc33a4a",
       "placeholder": "​",
       "style": "IPY_MODEL_c59fd60c9cf0495b922c74febebcfd99",
       "tabbable": null,
       "tooltip": null,
       "value": " 256/256 [27:26&lt;00:00,  6.35s/it]"
      }
     },
     "4bc5b7e763bd41efb3f51b7faf6b2553": {
      "model_module": "@jupyter-widgets/base",
      "model_module_version": "2.0.0",
      "model_name": "LayoutModel",
      "state": {
       "_model_module": "@jupyter-widgets/base",
       "_model_module_version": "2.0.0",
       "_model_name": "LayoutModel",
       "_view_count": null,
       "_view_module": "@jupyter-widgets/base",
       "_view_module_version": "2.0.0",
       "_view_name": "LayoutView",
       "align_content": null,
       "align_items": null,
       "align_self": null,
       "border_bottom": null,
       "border_left": null,
       "border_right": null,
       "border_top": null,
       "bottom": null,
       "display": null,
       "flex": null,
       "flex_flow": null,
       "grid_area": null,
       "grid_auto_columns": null,
       "grid_auto_flow": null,
       "grid_auto_rows": null,
       "grid_column": null,
       "grid_gap": null,
       "grid_row": null,
       "grid_template_areas": null,
       "grid_template_columns": null,
       "grid_template_rows": null,
       "height": null,
       "justify_content": null,
       "justify_items": null,
       "left": null,
       "margin": null,
       "max_height": null,
       "max_width": null,
       "min_height": null,
       "min_width": null,
       "object_fit": null,
       "object_position": null,
       "order": null,
       "overflow": null,
       "padding": null,
       "right": null,
       "top": null,
       "visibility": null,
       "width": null
      }
     },
     "623cfb29c2674e3e8afa956617fee28d": {
      "model_module": "@jupyter-widgets/controls",
      "model_module_version": "2.0.0",
      "model_name": "HTMLModel",
      "state": {
       "_dom_classes": [],
       "_model_module": "@jupyter-widgets/controls",
       "_model_module_version": "2.0.0",
       "_model_name": "HTMLModel",
       "_view_count": null,
       "_view_module": "@jupyter-widgets/controls",
       "_view_module_version": "2.0.0",
       "_view_name": "HTMLView",
       "description": "",
       "description_allow_html": false,
       "layout": "IPY_MODEL_d22ead2504ee49e6bdda108317f45ac1",
       "placeholder": "​",
       "style": "IPY_MODEL_7d93c028c6b249fbbb05b7bb576f6e14",
       "tabbable": null,
       "tooltip": null,
       "value": " 256/256 [29:09&lt;00:00,  6.42s/it]"
      }
     },
     "62eaeb24301b45bdbed6f793ae2a80d3": {
      "model_module": "@jupyter-widgets/controls",
      "model_module_version": "2.0.0",
      "model_name": "HTMLStyleModel",
      "state": {
       "_model_module": "@jupyter-widgets/controls",
       "_model_module_version": "2.0.0",
       "_model_name": "HTMLStyleModel",
       "_view_count": null,
       "_view_module": "@jupyter-widgets/base",
       "_view_module_version": "2.0.0",
       "_view_name": "StyleView",
       "background": null,
       "description_width": "",
       "font_size": null,
       "text_color": null
      }
     },
     "6589ece8f1bd4f259fa2daee94834cee": {
      "model_module": "@jupyter-widgets/base",
      "model_module_version": "2.0.0",
      "model_name": "LayoutModel",
      "state": {
       "_model_module": "@jupyter-widgets/base",
       "_model_module_version": "2.0.0",
       "_model_name": "LayoutModel",
       "_view_count": null,
       "_view_module": "@jupyter-widgets/base",
       "_view_module_version": "2.0.0",
       "_view_name": "LayoutView",
       "align_content": null,
       "align_items": null,
       "align_self": null,
       "border_bottom": null,
       "border_left": null,
       "border_right": null,
       "border_top": null,
       "bottom": null,
       "display": null,
       "flex": null,
       "flex_flow": null,
       "grid_area": null,
       "grid_auto_columns": null,
       "grid_auto_flow": null,
       "grid_auto_rows": null,
       "grid_column": null,
       "grid_gap": null,
       "grid_row": null,
       "grid_template_areas": null,
       "grid_template_columns": null,
       "grid_template_rows": null,
       "height": null,
       "justify_content": null,
       "justify_items": null,
       "left": null,
       "margin": null,
       "max_height": null,
       "max_width": null,
       "min_height": null,
       "min_width": null,
       "object_fit": null,
       "object_position": null,
       "order": null,
       "overflow": null,
       "padding": null,
       "right": null,
       "top": null,
       "visibility": null,
       "width": null
      }
     },
     "6842b6809a9e45cfb0e702de8bc33a4a": {
      "model_module": "@jupyter-widgets/base",
      "model_module_version": "2.0.0",
      "model_name": "LayoutModel",
      "state": {
       "_model_module": "@jupyter-widgets/base",
       "_model_module_version": "2.0.0",
       "_model_name": "LayoutModel",
       "_view_count": null,
       "_view_module": "@jupyter-widgets/base",
       "_view_module_version": "2.0.0",
       "_view_name": "LayoutView",
       "align_content": null,
       "align_items": null,
       "align_self": null,
       "border_bottom": null,
       "border_left": null,
       "border_right": null,
       "border_top": null,
       "bottom": null,
       "display": null,
       "flex": null,
       "flex_flow": null,
       "grid_area": null,
       "grid_auto_columns": null,
       "grid_auto_flow": null,
       "grid_auto_rows": null,
       "grid_column": null,
       "grid_gap": null,
       "grid_row": null,
       "grid_template_areas": null,
       "grid_template_columns": null,
       "grid_template_rows": null,
       "height": null,
       "justify_content": null,
       "justify_items": null,
       "left": null,
       "margin": null,
       "max_height": null,
       "max_width": null,
       "min_height": null,
       "min_width": null,
       "object_fit": null,
       "object_position": null,
       "order": null,
       "overflow": null,
       "padding": null,
       "right": null,
       "top": null,
       "visibility": null,
       "width": null
      }
     },
     "69223a6848db4101aa62cbe286345231": {
      "model_module": "@jupyter-widgets/controls",
      "model_module_version": "2.0.0",
      "model_name": "HBoxModel",
      "state": {
       "_dom_classes": [],
       "_model_module": "@jupyter-widgets/controls",
       "_model_module_version": "2.0.0",
       "_model_name": "HBoxModel",
       "_view_count": null,
       "_view_module": "@jupyter-widgets/controls",
       "_view_module_version": "2.0.0",
       "_view_name": "HBoxView",
       "box_style": "",
       "children": [
        "IPY_MODEL_fbcf6af361ec40ffba104e09c0d7eb15",
        "IPY_MODEL_035ab33361e7432caecc80ca2a176575",
        "IPY_MODEL_9ae4138d5c6040ff8f31487f21120a6e"
       ],
       "layout": "IPY_MODEL_937ce84eb341402aac3fa07fed6cafd0",
       "tabbable": null,
       "tooltip": null
      }
     },
     "7279d281d2c34657bff252e8df63f4c5": {
      "model_module": "@jupyter-widgets/controls",
      "model_module_version": "2.0.0",
      "model_name": "HTMLStyleModel",
      "state": {
       "_model_module": "@jupyter-widgets/controls",
       "_model_module_version": "2.0.0",
       "_model_name": "HTMLStyleModel",
       "_view_count": null,
       "_view_module": "@jupyter-widgets/base",
       "_view_module_version": "2.0.0",
       "_view_name": "StyleView",
       "background": null,
       "description_width": "",
       "font_size": null,
       "text_color": null
      }
     },
     "77f9a290f7dd4b219ba4f735555140e1": {
      "model_module": "@jupyter-widgets/base",
      "model_module_version": "2.0.0",
      "model_name": "LayoutModel",
      "state": {
       "_model_module": "@jupyter-widgets/base",
       "_model_module_version": "2.0.0",
       "_model_name": "LayoutModel",
       "_view_count": null,
       "_view_module": "@jupyter-widgets/base",
       "_view_module_version": "2.0.0",
       "_view_name": "LayoutView",
       "align_content": null,
       "align_items": null,
       "align_self": null,
       "border_bottom": null,
       "border_left": null,
       "border_right": null,
       "border_top": null,
       "bottom": null,
       "display": null,
       "flex": null,
       "flex_flow": null,
       "grid_area": null,
       "grid_auto_columns": null,
       "grid_auto_flow": null,
       "grid_auto_rows": null,
       "grid_column": null,
       "grid_gap": null,
       "grid_row": null,
       "grid_template_areas": null,
       "grid_template_columns": null,
       "grid_template_rows": null,
       "height": null,
       "justify_content": null,
       "justify_items": null,
       "left": null,
       "margin": null,
       "max_height": null,
       "max_width": null,
       "min_height": null,
       "min_width": null,
       "object_fit": null,
       "object_position": null,
       "order": null,
       "overflow": null,
       "padding": null,
       "right": null,
       "top": null,
       "visibility": null,
       "width": null
      }
     },
     "7d93c028c6b249fbbb05b7bb576f6e14": {
      "model_module": "@jupyter-widgets/controls",
      "model_module_version": "2.0.0",
      "model_name": "HTMLStyleModel",
      "state": {
       "_model_module": "@jupyter-widgets/controls",
       "_model_module_version": "2.0.0",
       "_model_name": "HTMLStyleModel",
       "_view_count": null,
       "_view_module": "@jupyter-widgets/base",
       "_view_module_version": "2.0.0",
       "_view_name": "StyleView",
       "background": null,
       "description_width": "",
       "font_size": null,
       "text_color": null
      }
     },
     "7e3049db598142689e39c20322342839": {
      "model_module": "@jupyter-widgets/controls",
      "model_module_version": "2.0.0",
      "model_name": "FloatProgressModel",
      "state": {
       "_dom_classes": [],
       "_model_module": "@jupyter-widgets/controls",
       "_model_module_version": "2.0.0",
       "_model_name": "FloatProgressModel",
       "_view_count": null,
       "_view_module": "@jupyter-widgets/controls",
       "_view_module_version": "2.0.0",
       "_view_name": "ProgressView",
       "bar_style": "success",
       "description": "",
       "description_allow_html": false,
       "layout": "IPY_MODEL_6589ece8f1bd4f259fa2daee94834cee",
       "max": 256,
       "min": 0,
       "orientation": "horizontal",
       "style": "IPY_MODEL_bd094cda8b3c4855a4ed1300edf3f2c3",
       "tabbable": null,
       "tooltip": null,
       "value": 256
      }
     },
     "84e6789a386f4cc3b967f7880483983c": {
      "model_module": "@jupyter-widgets/controls",
      "model_module_version": "2.0.0",
      "model_name": "ProgressStyleModel",
      "state": {
       "_model_module": "@jupyter-widgets/controls",
       "_model_module_version": "2.0.0",
       "_model_name": "ProgressStyleModel",
       "_view_count": null,
       "_view_module": "@jupyter-widgets/base",
       "_view_module_version": "2.0.0",
       "_view_name": "StyleView",
       "bar_color": null,
       "description_width": ""
      }
     },
     "92ddbe5f71f340e09a33f004c0f625c0": {
      "model_module": "@jupyter-widgets/controls",
      "model_module_version": "2.0.0",
      "model_name": "HTMLStyleModel",
      "state": {
       "_model_module": "@jupyter-widgets/controls",
       "_model_module_version": "2.0.0",
       "_model_name": "HTMLStyleModel",
       "_view_count": null,
       "_view_module": "@jupyter-widgets/base",
       "_view_module_version": "2.0.0",
       "_view_name": "StyleView",
       "background": null,
       "description_width": "",
       "font_size": null,
       "text_color": null
      }
     },
     "937ce84eb341402aac3fa07fed6cafd0": {
      "model_module": "@jupyter-widgets/base",
      "model_module_version": "2.0.0",
      "model_name": "LayoutModel",
      "state": {
       "_model_module": "@jupyter-widgets/base",
       "_model_module_version": "2.0.0",
       "_model_name": "LayoutModel",
       "_view_count": null,
       "_view_module": "@jupyter-widgets/base",
       "_view_module_version": "2.0.0",
       "_view_name": "LayoutView",
       "align_content": null,
       "align_items": null,
       "align_self": null,
       "border_bottom": null,
       "border_left": null,
       "border_right": null,
       "border_top": null,
       "bottom": null,
       "display": null,
       "flex": null,
       "flex_flow": null,
       "grid_area": null,
       "grid_auto_columns": null,
       "grid_auto_flow": null,
       "grid_auto_rows": null,
       "grid_column": null,
       "grid_gap": null,
       "grid_row": null,
       "grid_template_areas": null,
       "grid_template_columns": null,
       "grid_template_rows": null,
       "height": null,
       "justify_content": null,
       "justify_items": null,
       "left": null,
       "margin": null,
       "max_height": null,
       "max_width": null,
       "min_height": null,
       "min_width": null,
       "object_fit": null,
       "object_position": null,
       "order": null,
       "overflow": null,
       "padding": null,
       "right": null,
       "top": null,
       "visibility": null,
       "width": null
      }
     },
     "9650fef1b09348cb8cff5a63a56850b7": {
      "model_module": "@jupyter-widgets/base",
      "model_module_version": "2.0.0",
      "model_name": "LayoutModel",
      "state": {
       "_model_module": "@jupyter-widgets/base",
       "_model_module_version": "2.0.0",
       "_model_name": "LayoutModel",
       "_view_count": null,
       "_view_module": "@jupyter-widgets/base",
       "_view_module_version": "2.0.0",
       "_view_name": "LayoutView",
       "align_content": null,
       "align_items": null,
       "align_self": null,
       "border_bottom": null,
       "border_left": null,
       "border_right": null,
       "border_top": null,
       "bottom": null,
       "display": null,
       "flex": null,
       "flex_flow": null,
       "grid_area": null,
       "grid_auto_columns": null,
       "grid_auto_flow": null,
       "grid_auto_rows": null,
       "grid_column": null,
       "grid_gap": null,
       "grid_row": null,
       "grid_template_areas": null,
       "grid_template_columns": null,
       "grid_template_rows": null,
       "height": null,
       "justify_content": null,
       "justify_items": null,
       "left": null,
       "margin": null,
       "max_height": null,
       "max_width": null,
       "min_height": null,
       "min_width": null,
       "object_fit": null,
       "object_position": null,
       "order": null,
       "overflow": null,
       "padding": null,
       "right": null,
       "top": null,
       "visibility": null,
       "width": null
      }
     },
     "9a36404c5a734fb38c2b22c9878a5745": {
      "model_module": "@jupyter-widgets/controls",
      "model_module_version": "2.0.0",
      "model_name": "HBoxModel",
      "state": {
       "_dom_classes": [],
       "_model_module": "@jupyter-widgets/controls",
       "_model_module_version": "2.0.0",
       "_model_name": "HBoxModel",
       "_view_count": null,
       "_view_module": "@jupyter-widgets/controls",
       "_view_module_version": "2.0.0",
       "_view_name": "HBoxView",
       "box_style": "",
       "children": [
        "IPY_MODEL_40e490736bdb4e9b91ecc29d8ebfcb9a",
        "IPY_MODEL_1e646c9ebcb840a28822c80b583c341d",
        "IPY_MODEL_623cfb29c2674e3e8afa956617fee28d"
       ],
       "layout": "IPY_MODEL_41c8f627da6e4adda218239203e2aaca",
       "tabbable": null,
       "tooltip": null
      }
     },
     "9ae4138d5c6040ff8f31487f21120a6e": {
      "model_module": "@jupyter-widgets/controls",
      "model_module_version": "2.0.0",
      "model_name": "HTMLModel",
      "state": {
       "_dom_classes": [],
       "_model_module": "@jupyter-widgets/controls",
       "_model_module_version": "2.0.0",
       "_model_name": "HTMLModel",
       "_view_count": null,
       "_view_module": "@jupyter-widgets/controls",
       "_view_module_version": "2.0.0",
       "_view_name": "HTMLView",
       "description": "",
       "description_allow_html": false,
       "layout": "IPY_MODEL_ff03739d18014246817c21e4dbf0a84a",
       "placeholder": "​",
       "style": "IPY_MODEL_e36bde94baa0470b804d73c4cc83a922",
       "tabbable": null,
       "tooltip": null,
       "value": " 256/256 [27:36&lt;00:00,  6.62s/it]"
      }
     },
     "b8499c15522745cd9981166aa85f493d": {
      "model_module": "@jupyter-widgets/controls",
      "model_module_version": "2.0.0",
      "model_name": "HTMLModel",
      "state": {
       "_dom_classes": [],
       "_model_module": "@jupyter-widgets/controls",
       "_model_module_version": "2.0.0",
       "_model_name": "HTMLModel",
       "_view_count": null,
       "_view_module": "@jupyter-widgets/controls",
       "_view_module_version": "2.0.0",
       "_view_name": "HTMLView",
       "description": "",
       "description_allow_html": false,
       "layout": "IPY_MODEL_2410a91c9a7a4826b7d3c14d541ff69d",
       "placeholder": "​",
       "style": "IPY_MODEL_bdbc8bdcb94f49e29847dd9b22e6add5",
       "tabbable": null,
       "tooltip": null,
       "value": "100%"
      }
     },
     "bd094cda8b3c4855a4ed1300edf3f2c3": {
      "model_module": "@jupyter-widgets/controls",
      "model_module_version": "2.0.0",
      "model_name": "ProgressStyleModel",
      "state": {
       "_model_module": "@jupyter-widgets/controls",
       "_model_module_version": "2.0.0",
       "_model_name": "ProgressStyleModel",
       "_view_count": null,
       "_view_module": "@jupyter-widgets/base",
       "_view_module_version": "2.0.0",
       "_view_name": "StyleView",
       "bar_color": null,
       "description_width": ""
      }
     },
     "bdbc8bdcb94f49e29847dd9b22e6add5": {
      "model_module": "@jupyter-widgets/controls",
      "model_module_version": "2.0.0",
      "model_name": "HTMLStyleModel",
      "state": {
       "_model_module": "@jupyter-widgets/controls",
       "_model_module_version": "2.0.0",
       "_model_name": "HTMLStyleModel",
       "_view_count": null,
       "_view_module": "@jupyter-widgets/base",
       "_view_module_version": "2.0.0",
       "_view_name": "StyleView",
       "background": null,
       "description_width": "",
       "font_size": null,
       "text_color": null
      }
     },
     "c078cae24ae7430bace625a76b1cb988": {
      "model_module": "@jupyter-widgets/base",
      "model_module_version": "2.0.0",
      "model_name": "LayoutModel",
      "state": {
       "_model_module": "@jupyter-widgets/base",
       "_model_module_version": "2.0.0",
       "_model_name": "LayoutModel",
       "_view_count": null,
       "_view_module": "@jupyter-widgets/base",
       "_view_module_version": "2.0.0",
       "_view_name": "LayoutView",
       "align_content": null,
       "align_items": null,
       "align_self": null,
       "border_bottom": null,
       "border_left": null,
       "border_right": null,
       "border_top": null,
       "bottom": null,
       "display": null,
       "flex": null,
       "flex_flow": null,
       "grid_area": null,
       "grid_auto_columns": null,
       "grid_auto_flow": null,
       "grid_auto_rows": null,
       "grid_column": null,
       "grid_gap": null,
       "grid_row": null,
       "grid_template_areas": null,
       "grid_template_columns": null,
       "grid_template_rows": null,
       "height": null,
       "justify_content": null,
       "justify_items": null,
       "left": null,
       "margin": null,
       "max_height": null,
       "max_width": null,
       "min_height": null,
       "min_width": null,
       "object_fit": null,
       "object_position": null,
       "order": null,
       "overflow": null,
       "padding": null,
       "right": null,
       "top": null,
       "visibility": null,
       "width": null
      }
     },
     "c26548a3142c45f1adfa8abc1815ac5f": {
      "model_module": "@jupyter-widgets/base",
      "model_module_version": "2.0.0",
      "model_name": "LayoutModel",
      "state": {
       "_model_module": "@jupyter-widgets/base",
       "_model_module_version": "2.0.0",
       "_model_name": "LayoutModel",
       "_view_count": null,
       "_view_module": "@jupyter-widgets/base",
       "_view_module_version": "2.0.0",
       "_view_name": "LayoutView",
       "align_content": null,
       "align_items": null,
       "align_self": null,
       "border_bottom": null,
       "border_left": null,
       "border_right": null,
       "border_top": null,
       "bottom": null,
       "display": null,
       "flex": null,
       "flex_flow": null,
       "grid_area": null,
       "grid_auto_columns": null,
       "grid_auto_flow": null,
       "grid_auto_rows": null,
       "grid_column": null,
       "grid_gap": null,
       "grid_row": null,
       "grid_template_areas": null,
       "grid_template_columns": null,
       "grid_template_rows": null,
       "height": null,
       "justify_content": null,
       "justify_items": null,
       "left": null,
       "margin": null,
       "max_height": null,
       "max_width": null,
       "min_height": null,
       "min_width": null,
       "object_fit": null,
       "object_position": null,
       "order": null,
       "overflow": null,
       "padding": null,
       "right": null,
       "top": null,
       "visibility": null,
       "width": null
      }
     },
     "c59fd60c9cf0495b922c74febebcfd99": {
      "model_module": "@jupyter-widgets/controls",
      "model_module_version": "2.0.0",
      "model_name": "HTMLStyleModel",
      "state": {
       "_model_module": "@jupyter-widgets/controls",
       "_model_module_version": "2.0.0",
       "_model_name": "HTMLStyleModel",
       "_view_count": null,
       "_view_module": "@jupyter-widgets/base",
       "_view_module_version": "2.0.0",
       "_view_name": "StyleView",
       "background": null,
       "description_width": "",
       "font_size": null,
       "text_color": null
      }
     },
     "cc8031db1bd442d1a481d859e4f8c3d1": {
      "model_module": "@jupyter-widgets/controls",
      "model_module_version": "2.0.0",
      "model_name": "ProgressStyleModel",
      "state": {
       "_model_module": "@jupyter-widgets/controls",
       "_model_module_version": "2.0.0",
       "_model_name": "ProgressStyleModel",
       "_view_count": null,
       "_view_module": "@jupyter-widgets/base",
       "_view_module_version": "2.0.0",
       "_view_name": "StyleView",
       "bar_color": null,
       "description_width": ""
      }
     },
     "cd112c61118142adadc1ffdc3d4fd7dc": {
      "model_module": "@jupyter-widgets/controls",
      "model_module_version": "2.0.0",
      "model_name": "ProgressStyleModel",
      "state": {
       "_model_module": "@jupyter-widgets/controls",
       "_model_module_version": "2.0.0",
       "_model_name": "ProgressStyleModel",
       "_view_count": null,
       "_view_module": "@jupyter-widgets/base",
       "_view_module_version": "2.0.0",
       "_view_name": "StyleView",
       "bar_color": null,
       "description_width": ""
      }
     },
     "d0069e861bec45358c5749eb8eb64139": {
      "model_module": "@jupyter-widgets/controls",
      "model_module_version": "2.0.0",
      "model_name": "HTMLModel",
      "state": {
       "_dom_classes": [],
       "_model_module": "@jupyter-widgets/controls",
       "_model_module_version": "2.0.0",
       "_model_name": "HTMLModel",
       "_view_count": null,
       "_view_module": "@jupyter-widgets/controls",
       "_view_module_version": "2.0.0",
       "_view_name": "HTMLView",
       "description": "",
       "description_allow_html": false,
       "layout": "IPY_MODEL_4bc5b7e763bd41efb3f51b7faf6b2553",
       "placeholder": "​",
       "style": "IPY_MODEL_372ec21d55b140a3b2f2485311a94b90",
       "tabbable": null,
       "tooltip": null,
       "value": " 256/256 [27:19&lt;00:00,  6.44s/it]"
      }
     },
     "d2044911f735442cbe3dc75e7249db0f": {
      "model_module": "@jupyter-widgets/base",
      "model_module_version": "2.0.0",
      "model_name": "LayoutModel",
      "state": {
       "_model_module": "@jupyter-widgets/base",
       "_model_module_version": "2.0.0",
       "_model_name": "LayoutModel",
       "_view_count": null,
       "_view_module": "@jupyter-widgets/base",
       "_view_module_version": "2.0.0",
       "_view_name": "LayoutView",
       "align_content": null,
       "align_items": null,
       "align_self": null,
       "border_bottom": null,
       "border_left": null,
       "border_right": null,
       "border_top": null,
       "bottom": null,
       "display": null,
       "flex": null,
       "flex_flow": null,
       "grid_area": null,
       "grid_auto_columns": null,
       "grid_auto_flow": null,
       "grid_auto_rows": null,
       "grid_column": null,
       "grid_gap": null,
       "grid_row": null,
       "grid_template_areas": null,
       "grid_template_columns": null,
       "grid_template_rows": null,
       "height": null,
       "justify_content": null,
       "justify_items": null,
       "left": null,
       "margin": null,
       "max_height": null,
       "max_width": null,
       "min_height": null,
       "min_width": null,
       "object_fit": null,
       "object_position": null,
       "order": null,
       "overflow": null,
       "padding": null,
       "right": null,
       "top": null,
       "visibility": null,
       "width": null
      }
     },
     "d22ead2504ee49e6bdda108317f45ac1": {
      "model_module": "@jupyter-widgets/base",
      "model_module_version": "2.0.0",
      "model_name": "LayoutModel",
      "state": {
       "_model_module": "@jupyter-widgets/base",
       "_model_module_version": "2.0.0",
       "_model_name": "LayoutModel",
       "_view_count": null,
       "_view_module": "@jupyter-widgets/base",
       "_view_module_version": "2.0.0",
       "_view_name": "LayoutView",
       "align_content": null,
       "align_items": null,
       "align_self": null,
       "border_bottom": null,
       "border_left": null,
       "border_right": null,
       "border_top": null,
       "bottom": null,
       "display": null,
       "flex": null,
       "flex_flow": null,
       "grid_area": null,
       "grid_auto_columns": null,
       "grid_auto_flow": null,
       "grid_auto_rows": null,
       "grid_column": null,
       "grid_gap": null,
       "grid_row": null,
       "grid_template_areas": null,
       "grid_template_columns": null,
       "grid_template_rows": null,
       "height": null,
       "justify_content": null,
       "justify_items": null,
       "left": null,
       "margin": null,
       "max_height": null,
       "max_width": null,
       "min_height": null,
       "min_width": null,
       "object_fit": null,
       "object_position": null,
       "order": null,
       "overflow": null,
       "padding": null,
       "right": null,
       "top": null,
       "visibility": null,
       "width": null
      }
     },
     "d69c4d7c0ffd4195b09a98ea697a7a77": {
      "model_module": "@jupyter-widgets/base",
      "model_module_version": "2.0.0",
      "model_name": "LayoutModel",
      "state": {
       "_model_module": "@jupyter-widgets/base",
       "_model_module_version": "2.0.0",
       "_model_name": "LayoutModel",
       "_view_count": null,
       "_view_module": "@jupyter-widgets/base",
       "_view_module_version": "2.0.0",
       "_view_name": "LayoutView",
       "align_content": null,
       "align_items": null,
       "align_self": null,
       "border_bottom": null,
       "border_left": null,
       "border_right": null,
       "border_top": null,
       "bottom": null,
       "display": null,
       "flex": null,
       "flex_flow": null,
       "grid_area": null,
       "grid_auto_columns": null,
       "grid_auto_flow": null,
       "grid_auto_rows": null,
       "grid_column": null,
       "grid_gap": null,
       "grid_row": null,
       "grid_template_areas": null,
       "grid_template_columns": null,
       "grid_template_rows": null,
       "height": null,
       "justify_content": null,
       "justify_items": null,
       "left": null,
       "margin": null,
       "max_height": null,
       "max_width": null,
       "min_height": null,
       "min_width": null,
       "object_fit": null,
       "object_position": null,
       "order": null,
       "overflow": null,
       "padding": null,
       "right": null,
       "top": null,
       "visibility": null,
       "width": null
      }
     },
     "e36bde94baa0470b804d73c4cc83a922": {
      "model_module": "@jupyter-widgets/controls",
      "model_module_version": "2.0.0",
      "model_name": "HTMLStyleModel",
      "state": {
       "_model_module": "@jupyter-widgets/controls",
       "_model_module_version": "2.0.0",
       "_model_name": "HTMLStyleModel",
       "_view_count": null,
       "_view_module": "@jupyter-widgets/base",
       "_view_module_version": "2.0.0",
       "_view_name": "StyleView",
       "background": null,
       "description_width": "",
       "font_size": null,
       "text_color": null
      }
     },
     "f16c0a10ddef42d883635f671bda9653": {
      "model_module": "@jupyter-widgets/controls",
      "model_module_version": "2.0.0",
      "model_name": "HTMLStyleModel",
      "state": {
       "_model_module": "@jupyter-widgets/controls",
       "_model_module_version": "2.0.0",
       "_model_name": "HTMLStyleModel",
       "_view_count": null,
       "_view_module": "@jupyter-widgets/base",
       "_view_module_version": "2.0.0",
       "_view_name": "StyleView",
       "background": null,
       "description_width": "",
       "font_size": null,
       "text_color": null
      }
     },
     "fbcf6af361ec40ffba104e09c0d7eb15": {
      "model_module": "@jupyter-widgets/controls",
      "model_module_version": "2.0.0",
      "model_name": "HTMLModel",
      "state": {
       "_dom_classes": [],
       "_model_module": "@jupyter-widgets/controls",
       "_model_module_version": "2.0.0",
       "_model_name": "HTMLModel",
       "_view_count": null,
       "_view_module": "@jupyter-widgets/controls",
       "_view_module_version": "2.0.0",
       "_view_name": "HTMLView",
       "description": "",
       "description_allow_html": false,
       "layout": "IPY_MODEL_9650fef1b09348cb8cff5a63a56850b7",
       "placeholder": "​",
       "style": "IPY_MODEL_7279d281d2c34657bff252e8df63f4c5",
       "tabbable": null,
       "tooltip": null,
       "value": "100%"
      }
     },
     "fd94337716a24629bbbf38eb2d910e17": {
      "model_module": "@jupyter-widgets/base",
      "model_module_version": "2.0.0",
      "model_name": "LayoutModel",
      "state": {
       "_model_module": "@jupyter-widgets/base",
       "_model_module_version": "2.0.0",
       "_model_name": "LayoutModel",
       "_view_count": null,
       "_view_module": "@jupyter-widgets/base",
       "_view_module_version": "2.0.0",
       "_view_name": "LayoutView",
       "align_content": null,
       "align_items": null,
       "align_self": null,
       "border_bottom": null,
       "border_left": null,
       "border_right": null,
       "border_top": null,
       "bottom": null,
       "display": null,
       "flex": null,
       "flex_flow": null,
       "grid_area": null,
       "grid_auto_columns": null,
       "grid_auto_flow": null,
       "grid_auto_rows": null,
       "grid_column": null,
       "grid_gap": null,
       "grid_row": null,
       "grid_template_areas": null,
       "grid_template_columns": null,
       "grid_template_rows": null,
       "height": null,
       "justify_content": null,
       "justify_items": null,
       "left": null,
       "margin": null,
       "max_height": null,
       "max_width": null,
       "min_height": null,
       "min_width": null,
       "object_fit": null,
       "object_position": null,
       "order": null,
       "overflow": null,
       "padding": null,
       "right": null,
       "top": null,
       "visibility": null,
       "width": null
      }
     },
     "ff03739d18014246817c21e4dbf0a84a": {
      "model_module": "@jupyter-widgets/base",
      "model_module_version": "2.0.0",
      "model_name": "LayoutModel",
      "state": {
       "_model_module": "@jupyter-widgets/base",
       "_model_module_version": "2.0.0",
       "_model_name": "LayoutModel",
       "_view_count": null,
       "_view_module": "@jupyter-widgets/base",
       "_view_module_version": "2.0.0",
       "_view_name": "LayoutView",
       "align_content": null,
       "align_items": null,
       "align_self": null,
       "border_bottom": null,
       "border_left": null,
       "border_right": null,
       "border_top": null,
       "bottom": null,
       "display": null,
       "flex": null,
       "flex_flow": null,
       "grid_area": null,
       "grid_auto_columns": null,
       "grid_auto_flow": null,
       "grid_auto_rows": null,
       "grid_column": null,
       "grid_gap": null,
       "grid_row": null,
       "grid_template_areas": null,
       "grid_template_columns": null,
       "grid_template_rows": null,
       "height": null,
       "justify_content": null,
       "justify_items": null,
       "left": null,
       "margin": null,
       "max_height": null,
       "max_width": null,
       "min_height": null,
       "m