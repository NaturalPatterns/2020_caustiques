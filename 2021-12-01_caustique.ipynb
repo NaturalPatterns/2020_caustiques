{
 "cells": [
  {
   "cell_type": "markdown",
   "metadata": {
    "tags": []
   },
   "source": [
    "# caustique d'onde"
   ]
  },
  {
   "cell_type": "code",
   "execution_count": 1,
   "metadata": {},
   "outputs": [
    {
     "name": "stdout",
     "output_type": "stream",
     "text": [
      "\u001b[33mDEPRECATION: Configuring installation scheme with distutils config files is deprecated and will no longer work in the near future. If you are using a Homebrew or Linuxbrew Python, please see discussion at https://github.com/Homebrew/homebrew-core/issues/76621\u001b[0m\u001b[33m\n",
      "\u001b[0mRequirement already satisfied: matplotlib in /usr/local/lib/python3.9/site-packages (from -r requirements.txt (line 4)) (3.5.2)\n",
      "Requirement already satisfied: numpy in /usr/local/lib/python3.9/site-packages (from -r requirements.txt (line 5)) (1.23.1)\n",
      "Requirement already satisfied: MotionClouds in /usr/local/lib/python3.9/site-packages (from -r requirements.txt (line 6)) (20200212)\n",
      "Requirement already satisfied: imageio in /usr/local/lib/python3.9/site-packages (from -r requirements.txt (line 7)) (2.16.1)\n",
      "Requirement already satisfied: pygifsicle in /usr/local/lib/python3.9/site-packages (from -r requirements.txt (line 8)) (1.0.4)\n",
      "Requirement already satisfied: pillow>=6.2.0 in /usr/local/lib/python3.9/site-packages (from matplotlib->-r requirements.txt (line 4)) (9.0.1)\n",
      "Requirement already satisfied: fonttools>=4.22.0 in /usr/local/lib/python3.9/site-packages (from matplotlib->-r requirements.txt (line 4)) (4.30.0)\n",
      "Requirement already satisfied: packaging>=20.0 in /usr/local/lib/python3.9/site-packages (from matplotlib->-r requirements.txt (line 4)) (20.9)\n",
      "Requirement already satisfied: python-dateutil>=2.7 in /usr/local/lib/python3.9/site-packages (from matplotlib->-r requirements.txt (line 4)) (2.8.2)\n",
      "Requirement already satisfied: pyparsing>=2.2.1 in /usr/local/lib/python3.9/site-packages (from matplotlib->-r requirements.txt (line 4)) (2.4.7)\n",
      "Requirement already satisfied: kiwisolver>=1.0.1 in /usr/local/lib/python3.9/site-packages (from matplotlib->-r requirements.txt (line 4)) (1.3.1)\n",
      "Requirement already satisfied: cycler>=0.10 in /usr/local/lib/python3.9/site-packages (from matplotlib->-r requirements.txt (line 4)) (0.10.0)\n",
      "Requirement already satisfied: six in /usr/local/lib/python3.9/site-packages (from cycler>=0.10->matplotlib->-r requirements.txt (line 4)) (1.16.0)\n",
      "\u001b[33mDEPRECATION: Configuring installation scheme with distutils config files is deprecated and will no longer work in the near future. If you are using a Homebrew or Linuxbrew Python, please see discussion at https://github.com/Homebrew/homebrew-core/issues/76621\u001b[0m\u001b[33m\n",
      "\u001b[0mNote: you may need to restart the kernel to use updated packages.\n"
     ]
    }
   ],
   "source": [
    "%pip install -r requirements.txt"
   ]
  },
  {
   "cell_type": "code",
   "execution_count": 2,
   "metadata": {},
   "outputs": [],
   "source": [
    "import os\n",
    "import numpy as np\n",
    "import MotionClouds as mc\n",
    "from caustique import init, Caustique"
   ]
  },
  {
   "cell_type": "code",
   "execution_count": 3,
   "metadata": {},
   "outputs": [],
   "source": [
    "from IPython.display import Image, display\n",
    "width = 1024"
   ]
  },
  {
   "cell_type": "code",
   "execution_count": 4,
   "metadata": {},
   "outputs": [
    {
     "name": "stdout",
     "output_type": "stream",
     "text": [
      "Saving our simulations in=2021-12-01_caustique\n"
     ]
    }
   ],
   "source": [
    "import datetime\n",
    "date = datetime.datetime.now().date().isoformat()\n",
    "figpath = f'{date}_caustique'\n",
    "figpath = '2021-12-01_caustique'\n",
    "print(f'Saving our simulations in={figpath}')"
   ]
  },
  {
   "cell_type": "code",
   "execution_count": 5,
   "metadata": {},
   "outputs": [],
   "source": [
    "opt = init()\n",
    "opt.figpath = figpath"
   ]
  },
  {
   "cell_type": "code",
   "execution_count": 6,
   "metadata": {},
   "outputs": [
    {
     "data": {
      "text/plain": [
       "Namespace(tag='caustique', figpath='2021-12-01_caustique', nx=640, ny=1024, nframe=640, bin_dens=4, seed=42, H=10.0, sf_0=0.004, B_sf=0.002, V_Y=0.3, V_X=0.3, B_V=4.0, theta=2.399988291783386, B_theta=1.0471975511965976, min_lum=0.2, fps=18, multispectral=True, cache=True, verbose=False)"
      ]
     },
     "execution_count": 6,
     "metadata": {},
     "output_type": "execute_result"
    }
   ],
   "source": [
    "opt"
   ]
  },
  {
   "cell_type": "raw",
   "metadata": {},
   "source": [
    "%rm -fr {figpath}\n",
    "%rm -fr /tmp/{figpath} "
   ]
  },
  {
   "cell_type": "markdown",
   "metadata": {},
   "source": [
    "# une simple caustique"
   ]
  },
  {
   "cell_type": "markdown",
   "metadata": {
    "tags": []
   },
   "source": [
    "## a wave pattern"
   ]
  },
  {
   "cell_type": "code",
   "execution_count": 7,
   "metadata": {},
   "outputs": [],
   "source": [
    "if not os.path.isfile(f'{opt.figpath}/{opt.tag}{mc.vext}'):\n",
    "    print('Doing', f'{opt.figpath}/{opt.tag}{mc.vext}')\n",
    "    c = Caustique(opt)\n",
    "    z = c.wave()\n",
    "    mc.anim_save(z.swapaxes(0, 1), f'{opt.figpath}/{opt.tag}')\n",
    "# mc.in_show_video(f'{opt.tag}', figpath=opt.figpath)"
   ]
  },
  {
   "cell_type": "markdown",
   "metadata": {
    "tags": []
   },
   "source": [
    "## generating caustics"
   ]
  },
  {
   "cell_type": "code",
   "execution_count": 8,
   "metadata": {},
   "outputs": [
    {
     "data": {
      "text/plain": [
       "(640, 1024, 640)"
      ]
     },
     "execution_count": 8,
     "metadata": {},
     "output_type": "execute_result"
    }
   ],
   "source": [
    "c = Caustique(opt)\n",
    "z = c.wave()\n",
    "z.shape"
   ]
  },
  {
   "cell_type": "code",
   "execution_count": 9,
   "metadata": {},
   "outputs": [
    {
     "ename": "ValueError",
     "evalue": "operands could not be broadcast together with shapes (160,256,640) (160,256) (160,256,640) ",
     "output_type": "error",
     "traceback": [
      "\u001b[0;31m---------------------------------------------------------------------------\u001b[0m",
      "\u001b[0;31mValueError\u001b[0m                                Traceback (most recent call last)",
      "Input \u001b[0;32mIn [9]\u001b[0m, in \u001b[0;36m<cell line: 3>\u001b[0;34m()\u001b[0m\n\u001b[1;32m      3\u001b[0m     c \u001b[38;5;241m=\u001b[39m Caustique(opt)\n\u001b[1;32m      4\u001b[0m     z \u001b[38;5;241m=\u001b[39m c\u001b[38;5;241m.\u001b[39mwave()\n\u001b[0;32m----> 6\u001b[0m     gifname \u001b[38;5;241m=\u001b[39m \u001b[43mc\u001b[49m\u001b[38;5;241;43m.\u001b[39;49m\u001b[43mplot\u001b[49m\u001b[43m(\u001b[49m\u001b[43mz\u001b[49m\u001b[43m)\u001b[49m\n\u001b[1;32m      8\u001b[0m display(Image(url\u001b[38;5;241m=\u001b[39mgifname, width\u001b[38;5;241m=\u001b[39mwidth))\n",
      "File \u001b[0;32m~/quantic/EtienneRey/2020_caustiques/caustique.py:157\u001b[0m, in \u001b[0;36mCaustique.plot\u001b[0;34m(self, z, do_color, gifname, dpi)\u001b[0m\n\u001b[1;32m    153\u001b[0m subplotpars \u001b[38;5;241m=\u001b[39m matplotlib\u001b[38;5;241m.\u001b[39mfigure\u001b[38;5;241m.\u001b[39mSubplotParams(left\u001b[38;5;241m=\u001b[39m\u001b[38;5;241m0.\u001b[39m, right\u001b[38;5;241m=\u001b[39m\u001b[38;5;241m1.\u001b[39m, bottom\u001b[38;5;241m=\u001b[39m\u001b[38;5;241m0.\u001b[39m, top\u001b[38;5;241m=\u001b[39m\u001b[38;5;241m1.\u001b[39m, wspace\u001b[38;5;241m=\u001b[39m\u001b[38;5;241m0.\u001b[39m, hspace\u001b[38;5;241m=\u001b[39m\u001b[38;5;241m0.\u001b[39m,)\n\u001b[1;32m    155\u001b[0m \u001b[38;5;28;01mif\u001b[39;00m \u001b[38;5;28mself\u001b[39m\u001b[38;5;241m.\u001b[39mopt\u001b[38;5;241m.\u001b[39mmultispectral:\n\u001b[1;32m    156\u001b[0m     \u001b[38;5;66;03m# TODO : multiply by the spectrum of the sky \u001b[39;00m\n\u001b[0;32m--> 157\u001b[0m     hist \u001b[38;5;241m/\u001b[39m\u001b[38;5;241m=\u001b[39m hist\u001b[38;5;241m.\u001b[39mmax(axis\u001b[38;5;241m=\u001b[39m\u001b[38;5;241m2\u001b[39m)\n\u001b[1;32m    159\u001b[0m fnames \u001b[38;5;241m=\u001b[39m []\n\u001b[1;32m    160\u001b[0m \u001b[38;5;28;01mfor\u001b[39;00m i_frame \u001b[38;5;129;01min\u001b[39;00m \u001b[38;5;28mrange\u001b[39m(\u001b[38;5;28mself\u001b[39m\u001b[38;5;241m.\u001b[39mopt\u001b[38;5;241m.\u001b[39mnframe):\n",
      "\u001b[0;31mValueError\u001b[0m: operands could not be broadcast together with shapes (160,256,640) (160,256) (160,256,640) "
     ]
    }
   ],
   "source": [
    "gifname = f'{opt.figpath}/{opt.tag}.gif'\n",
    "if True:# not os.path.isfile(gifname):\n",
    "    c = Caustique(opt)\n",
    "    z = c.wave()\n",
    "    \n",
    "    gifname = c.plot(z)\n",
    "    \n",
    "display(Image(url=gifname, width=width))"
   ]
  },
  {
   "cell_type": "code",
   "execution_count": null,
   "metadata": {},
   "outputs": [],
   "source": [
    "z.shape"
   ]
  },
  {
   "cell_type": "markdown",
   "metadata": {
    "tags": []
   },
   "source": [
    "## exploring parameters"
   ]
  },
  {
   "cell_type": "code",
   "execution_count": null,
   "metadata": {},
   "outputs": [],
   "source": [
    "N_scan = 9\n",
    "base = 2"
   ]
  },
  {
   "cell_type": "code",
   "execution_count": null,
   "metadata": {},
   "outputs": [],
   "source": [
    "opt = init()\n",
    "opt.figpath = figpath\n",
    "\n",
    "c = Caustique(opt)\n",
    "# compute just once\n",
    "z = c.wave()\n",
    "\n",
    "for H_ in c.opt.H*np.logspace(-1, 1, N_scan, base=base):\n",
    "    opt = init()\n",
    "    opt.figpath = figpath\n",
    "    c = Caustique(opt)\n",
    "\n",
    "    print(f'H = {H_:.3f}')\n",
    "    c.opt.H = H_\n",
    "    c.opt.tag = f'{opt.tag}_H_{H_:.3f}'\n",
    "    gifname = f'{opt.figpath}/{c.opt.tag}.gif'\n",
    "    if not os.path.isfile(gifname):\n",
    "        url=c.plot(z, gifname=gifname)\n",
    "    display(Image(url=gifname, width=width))"
   ]
  },
  {
   "cell_type": "code",
   "execution_count": null,
   "metadata": {},
   "outputs": [],
   "source": [
    "for variable in ['sf_0', 'B_sf', 'theta', 'B_theta', 'V_X', 'V_Y', 'B_V']:\n",
    "    print(f'======{variable}======')\n",
    "    for modul in np.logspace(-1, 1, N_scan, base=base):\n",
    "        opt = init()\n",
    "        opt.figpath = figpath\n",
    "\n",
    "        c = Caustique(opt)\n",
    "        c.d[variable] *= modul\n",
    "        c.opt.tag = f'{opt.tag}_{variable}_modul_{modul:.3f}'\n",
    "        gifname = f'{opt.figpath}/{c.opt.tag}.gif'\n",
    "\n",
    "        print(f'{variable}={variable}(default)*{modul:.3f}={c.d[variable]:.3E}')\n",
    "        if not os.path.isfile(gifname):\n",
    "            print('Doing ', gifname)\n",
    "            z = c.wave()\n",
    "            mcname = f'{opt.figpath}/{c.opt.tag}'\n",
    "            if not os.path.isfile(f'{mcname}{mc.vext}'): \n",
    "                print('Doing ', f'{mcname}{mc.vext}')\n",
    "                mc.anim_save(z.swapaxes(0, 1), f'{mcname}')\n",
    "            url=c.plot(z, gifname=gifname)\n",
    "        display(Image(url=gifname, width=width))"
   ]
  }
 ],
 "metadata": {
  "kernelspec": {
   "display_name": "Python 3 (ipykernel)",
   "language": "python",
   "name": "python3"
  },
  "language_info": {
   "codemirror_mode": {
    "name": "ipython",
    "version": 3
   },
   "file_extension": ".py",
   "mimetype": "text/x-python",
   "name": "python",
   "nbconvert_exporter": "python",
   "pygments_lexer": "ipython3",
   "version": "3.9.13"
  }
 },
 "nbformat": 4,
 "nbformat_minor": 4
}
