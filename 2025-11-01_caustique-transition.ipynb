{
 "cells": [
  {
   "cell_type": "markdown",
   "metadata": {},
   "source": [
    "# Caustiques"
   ]
  },
  {
   "cell_type": "code",
   "execution_count": 1,
   "metadata": {
    "execution": {
     "iopub.execute_input": "2024-10-16T09:43:02.983382Z",
     "iopub.status.busy": "2024-10-16T09:43:02.983225Z",
     "iopub.status.idle": "2024-10-16T09:43:02.985631Z",
     "shell.execute_reply": "2024-10-16T09:43:02.985393Z"
    }
   },
   "outputs": [
    {
     "name": "stdout",
     "output_type": "stream",
     "text": [
      "Requirement already satisfied: pip in ./.venv/lib/python3.13/site-packages (from -r requirements.txt (line 4)) (25.3)\n",
      "Requirement already satisfied: matplotlib in ./.venv/lib/python3.13/site-packages (from -r requirements.txt (line 5)) (3.10.7)\n",
      "Requirement already satisfied: numpy in ./.venv/lib/python3.13/site-packages (from -r requirements.txt (line 6)) (2.2.6)\n",
      "Collecting numpy (from -r requirements.txt (line 6))\n",
      "  Using cached numpy-2.3.4-cp313-cp313-macosx_14_0_arm64.whl.metadata (62 kB)\n",
      "Requirement already satisfied: scipy in ./.venv/lib/python3.13/site-packages (from -r requirements.txt (line 7)) (1.16.3)\n",
      "Requirement already satisfied: joblib in ./.venv/lib/python3.13/site-packages (from -r requirements.txt (line 8)) (1.5.2)\n",
      "Requirement already satisfied: MotionClouds in ./.venv/lib/python3.13/site-packages (from -r requirements.txt (line 9)) (20220927)\n",
      "Requirement already satisfied: opencv-python in ./.venv/lib/python3.13/site-packages (from -r requirements.txt (line 11)) (4.12.0.88)\n",
      "Requirement already satisfied: pygifsicle in ./.venv/lib/python3.13/site-packages (from -r requirements.txt (line 13)) (1.1.0)\n",
      "Requirement already satisfied: lambda2color in ./.venv/lib/python3.13/site-packages (from -r requirements.txt (line 14)) (0.7)\n",
      "Requirement already satisfied: tqdm in ./.venv/lib/python3.13/site-packages (from -r requirements.txt (line 15)) (4.67.1)\n",
      "Requirement already satisfied: jupyter in ./.venv/lib/python3.13/site-packages (from -r requirements.txt (line 17)) (1.1.1)\n",
      "Requirement already satisfied: ipywidgets in ./.venv/lib/python3.13/site-packages (from -r requirements.txt (line 18)) (8.1.7)\n",
      "Requirement already satisfied: nbconvert in ./.venv/lib/python3.13/site-packages (from -r requirements.txt (line 19)) (7.16.6)\n",
      "Requirement already satisfied: moviepy in ./.venv/lib/python3.13/site-packages (from -r requirements.txt (line 20)) (2.2.1)\n",
      "Requirement already satisfied: ipynbname in ./.venv/lib/python3.13/site-packages (from -r requirements.txt (line 21)) (2025.8.0.0)\n",
      "Requirement already satisfied: imageio[pyav] in ./.venv/lib/python3.13/site-packages (from -r requirements.txt (line 10)) (2.37.0)\n",
      "Requirement already satisfied: contourpy>=1.0.1 in ./.venv/lib/python3.13/site-packages (from matplotlib->-r requirements.txt (line 5)) (1.3.3)\n",
      "Requirement already satisfied: cycler>=0.10 in ./.venv/lib/python3.13/site-packages (from matplotlib->-r requirements.txt (line 5)) (0.12.1)\n",
      "Requirement already satisfied: fonttools>=4.22.0 in ./.venv/lib/python3.13/site-packages (from matplotlib->-r requirements.txt (line 5)) (4.60.1)\n",
      "Requirement already satisfied: kiwisolver>=1.3.1 in ./.venv/lib/python3.13/site-packages (from matplotlib->-r requirements.txt (line 5)) (1.4.9)\n",
      "Requirement already satisfied: packaging>=20.0 in ./.venv/lib/python3.13/site-packages (from matplotlib->-r requirements.txt (line 5)) (25.0)\n",
      "Requirement already satisfied: pillow>=8 in ./.venv/lib/python3.13/site-packages (from matplotlib->-r requirements.txt (line 5)) (11.3.0)\n",
      "Requirement already satisfied: pyparsing>=3 in ./.venv/lib/python3.13/site-packages (from matplotlib->-r requirements.txt (line 5)) (3.2.5)\n",
      "Requirement already satisfied: python-dateutil>=2.7 in ./.venv/lib/python3.13/site-packages (from matplotlib->-r requirements.txt (line 5)) (2.9.0.post0)\n",
      "Requirement already satisfied: av in ./.venv/lib/python3.13/site-packages (from imageio[pyav]->-r requirements.txt (line 10)) (16.0.1)\n",
      "Requirement already satisfied: notebook in ./.venv/lib/python3.13/site-packages (from jupyter->-r requirements.txt (line 17)) (7.4.7)\n",
      "Requirement already satisfied: jupyter-console in ./.venv/lib/python3.13/site-packages (from jupyter->-r requirements.txt (line 17)) (6.6.3)\n",
      "Requirement already satisfied: ipykernel in ./.venv/lib/python3.13/site-packages (from jupyter->-r requirements.txt (line 17)) (7.0.1)\n",
      "Requirement already satisfied: jupyterlab in ./.venv/lib/python3.13/site-packages (from jupyter->-r requirements.txt (line 17)) (4.4.10)\n",
      "Requirement already satisfied: comm>=0.1.3 in ./.venv/lib/python3.13/site-packages (from ipywidgets->-r requirements.txt (line 18)) (0.2.3)\n",
      "Requirement already satisfied: ipython>=6.1.0 in ./.venv/lib/python3.13/site-packages (from ipywidgets->-r requirements.txt (line 18)) (9.6.0)\n",
      "Requirement already satisfied: traitlets>=4.3.1 in ./.venv/lib/python3.13/site-packages (from ipywidgets->-r requirements.txt (line 18)) (5.14.3)\n",
      "Requirement already satisfied: widgetsnbextension~=4.0.14 in ./.venv/lib/python3.13/site-packages (from ipywidgets->-r requirements.txt (line 18)) (4.0.14)\n",
      "Requirement already satisfied: jupyterlab_widgets~=3.0.15 in ./.venv/lib/python3.13/site-packages (from ipywidgets->-r requirements.txt (line 18)) (3.0.15)\n",
      "Requirement already satisfied: beautifulsoup4 in ./.venv/lib/python3.13/site-packages (from nbconvert->-r requirements.txt (line 19)) (4.14.2)\n",
      "Requirement already satisfied: bleach!=5.0.0 in ./.venv/lib/python3.13/site-packages (from bleach[css]!=5.0.0->nbconvert->-r requirements.txt (line 19)) (6.2.0)\n",
      "Requirement already satisfied: defusedxml in ./.venv/lib/python3.13/site-packages (from nbconvert->-r requirements.txt (line 19)) (0.7.1)\n",
      "Requirement already satisfied: jinja2>=3.0 in ./.venv/lib/python3.13/site-packages (from nbconvert->-r requirements.txt (line 19)) (3.1.6)\n",
      "Requirement already satisfied: jupyter-core>=4.7 in ./.venv/lib/python3.13/site-packages (from nbconvert->-r requirements.txt (line 19)) (5.9.1)\n",
      "Requirement already satisfied: jupyterlab-pygments in ./.venv/lib/python3.13/site-packages (from nbconvert->-r requirements.txt (line 19)) (0.3.0)\n",
      "Requirement already satisfied: markupsafe>=2.0 in ./.venv/lib/python3.13/site-packages (from nbconvert->-r requirements.txt (line 19)) (3.0.3)\n",
      "Requirement already satisfied: mistune<4,>=2.0.3 in ./.venv/lib/python3.13/site-packages (from nbconvert->-r requirements.txt (line 19)) (3.1.4)\n",
      "Requirement already satisfied: nbclient>=0.5.0 in ./.venv/lib/python3.13/site-packages (from nbconvert->-r requirements.txt (line 19)) (0.10.2)\n",
      "Requirement already satisfied: nbformat>=5.7 in ./.venv/lib/python3.13/site-packages (from nbconvert->-r requirements.txt (line 19)) (5.10.4)\n",
      "Requirement already satisfied: pandocfilters>=1.4.1 in ./.venv/lib/python3.13/site-packages (from nbconvert->-r requirements.txt (line 19)) (1.5.1)\n",
      "Requirement already satisfied: pygments>=2.4.1 in ./.venv/lib/python3.13/site-packages (from nbconvert->-r requirements.txt (line 19)) (2.19.2)\n",
      "Requirement already satisfied: decorator<6.0,>=4.0.2 in ./.venv/lib/python3.13/site-packages (from moviepy->-r requirements.txt (line 20)) (5.2.1)\n",
      "Requirement already satisfied: imageio_ffmpeg>=0.2.0 in ./.venv/lib/python3.13/site-packages (from moviepy->-r requirements.txt (line 20)) (0.6.0)\n",
      "Requirement already satisfied: proglog<=1.0.0 in ./.venv/lib/python3.13/site-packages (from moviepy->-r requirements.txt (line 20)) (0.1.12)\n",
      "Requirement already satisfied: python-dotenv>=0.10 in ./.venv/lib/python3.13/site-packages (from moviepy->-r requirements.txt (line 20)) (1.1.1)\n",
      "Requirement already satisfied: webencodings in ./.venv/lib/python3.13/site-packages (from bleach!=5.0.0->bleach[css]!=5.0.0->nbconvert->-r requirements.txt (line 19)) (0.5.1)\n",
      "Requirement already satisfied: tinycss2<1.5,>=1.1.0 in ./.venv/lib/python3.13/site-packages (from bleach[css]!=5.0.0->nbconvert->-r requirements.txt (line 19)) (1.4.0)\n",
      "Requirement already satisfied: ipython-pygments-lexers in ./.venv/lib/python3.13/site-packages (from ipython>=6.1.0->ipywidgets->-r requirements.txt (line 18)) (1.1.1)\n",
      "Requirement already satisfied: jedi>=0.16 in ./.venv/lib/python3.13/site-packages (from ipython>=6.1.0->ipywidgets->-r requirements.txt (line 18)) (0.19.2)\n",
      "Requirement already satisfied: matplotlib-inline in ./.venv/lib/python3.13/site-packages (from ipython>=6.1.0->ipywidgets->-r requirements.txt (line 18)) (0.2.1)\n",
      "Requirement already satisfied: pexpect>4.3 in ./.venv/lib/python3.13/site-packages (from ipython>=6.1.0->ipywidgets->-r requirements.txt (line 18)) (4.9.0)\n",
      "Requirement already satisfied: prompt_toolkit<3.1.0,>=3.0.41 in ./.venv/lib/python3.13/site-packages (from ipython>=6.1.0->ipywidgets->-r requirements.txt (line 18)) (3.0.52)\n",
      "Requirement already satisfied: stack_data in ./.venv/lib/python3.13/site-packages (from ipython>=6.1.0->ipywidgets->-r requirements.txt (line 18)) (0.6.3)\n",
      "Requirement already satisfied: wcwidth in ./.venv/lib/python3.13/site-packages (from prompt_toolkit<3.1.0,>=3.0.41->ipython>=6.1.0->ipywidgets->-r requirements.txt (line 18)) (0.2.14)\n",
      "Requirement already satisfied: parso<0.9.0,>=0.8.4 in ./.venv/lib/python3.13/site-packages (from jedi>=0.16->ipython>=6.1.0->ipywidgets->-r requirements.txt (line 18)) (0.8.5)\n",
      "Requirement already satisfied: platformdirs>=2.5 in ./.venv/lib/python3.13/site-packages (from jupyter-core>=4.7->nbconvert->-r requirements.txt (line 19)) (4.5.0)\n",
      "Requirement already satisfied: jupyter-client>=6.1.12 in ./.venv/lib/python3.13/site-packages (from nbclient>=0.5.0->nbconvert->-r requirements.txt (line 19)) (8.6.3)\n",
      "Requirement already satisfied: pyzmq>=23.0 in ./.venv/lib/python3.13/site-packages (from jupyter-client>=6.1.12->nbclient>=0.5.0->nbconvert->-r requirements.txt (line 19)) (27.1.0)\n",
      "Requirement already satisfied: tornado>=6.2 in ./.venv/lib/python3.13/site-packages (from jupyter-client>=6.1.12->nbclient>=0.5.0->nbconvert->-r requirements.txt (line 19)) (6.5.2)\n",
      "Requirement already satisfied: fastjsonschema>=2.15 in ./.venv/lib/python3.13/site-packages (from nbformat>=5.7->nbconvert->-r requirements.txt (line 19)) (2.21.2)\n",
      "Requirement already satisfied: jsonschema>=2.6 in ./.venv/lib/python3.13/site-packages (from nbformat>=5.7->nbconvert->-r requirements.txt (line 19)) (4.25.1)\n",
      "Requirement already satisfied: attrs>=22.2.0 in ./.venv/lib/python3.13/site-packages (from jsonschema>=2.6->nbformat>=5.7->nbconvert->-r requirements.txt (line 19)) (25.4.0)\n",
      "Requirement already satisfied: jsonschema-specifications>=2023.03.6 in ./.venv/lib/python3.13/site-packages (from jsonschema>=2.6->nbformat>=5.7->nbconvert->-r requirements.txt (line 19)) (2025.9.1)\n",
      "Requirement already satisfied: referencing>=0.28.4 in ./.venv/lib/python3.13/site-packages (from jsonschema>=2.6->nbformat>=5.7->nbconvert->-r requirements.txt (line 19)) (0.37.0)\n",
      "Requirement already satisfied: rpds-py>=0.7.1 in ./.venv/lib/python3.13/site-packages (from jsonschema>=2.6->nbformat>=5.7->nbconvert->-r requirements.txt (line 19)) (0.28.0)\n",
      "Requirement already satisfied: ptyprocess>=0.5 in ./.venv/lib/python3.13/site-packages (from pexpect>4.3->ipython>=6.1.0->ipywidgets->-r requirements.txt (line 18)) (0.7.0)\n",
      "Requirement already satisfied: six>=1.5 in ./.venv/lib/python3.13/site-packages (from python-dateutil>=2.7->matplotlib->-r requirements.txt (line 5)) (1.17.0)\n",
      "Requirement already satisfied: soupsieve>1.2 in ./.venv/lib/python3.13/site-packages (from beautifulsoup4->nbconvert->-r requirements.txt (line 19)) (2.8)\n",
      "Requirement already satisfied: typing-extensions>=4.0.0 in ./.venv/lib/python3.13/site-packages (from beautifulsoup4->nbconvert->-r requirements.txt (line 19)) (4.15.0)\n",
      "Requirement already satisfied: appnope>=0.1.2 in ./.venv/lib/python3.13/site-packages (from ipykernel->jupyter->-r requirements.txt (line 17)) (0.1.4)\n",
      "Requirement already satisfied: debugpy>=1.6.5 in ./.venv/lib/python3.13/site-packages (from ipykernel->jupyter->-r requirements.txt (line 17)) (1.8.17)\n",
      "Requirement already satisfied: nest-asyncio>=1.4 in ./.venv/lib/python3.13/site-packages (from ipykernel->jupyter->-r requirements.txt (line 17)) (1.6.0)\n",
      "Requirement already satisfied: psutil>=5.7 in ./.venv/lib/python3.13/site-packages (from ipykernel->jupyter->-r requirements.txt (line 17)) (7.1.1)\n",
      "Requirement already satisfied: async-lru>=1.0.0 in ./.venv/lib/python3.13/site-packages (from jupyterlab->jupyter->-r requirements.txt (line 17)) (2.0.5)\n",
      "Requirement already satisfied: httpx<1,>=0.25.0 in ./.venv/lib/python3.13/site-packages (from jupyterlab->jupyter->-r requirements.txt (line 17)) (0.28.1)\n",
      "Requirement already satisfied: jupyter-lsp>=2.0.0 in ./.venv/lib/python3.13/site-packages (from jupyterlab->jupyter->-r requirements.txt (line 17)) (2.3.0)\n",
      "Requirement already satisfied: jupyter-server<3,>=2.4.0 in ./.venv/lib/python3.13/site-packages (from jupyterlab->jupyter->-r requirements.txt (line 17)) (2.17.0)\n",
      "Requirement already satisfied: jupyterlab-server<3,>=2.27.1 in ./.venv/lib/python3.13/site-packages (from jupyterlab->jupyter->-r requirements.txt (line 17)) (2.28.0)\n",
      "Requirement already satisfied: notebook-shim>=0.2 in ./.venv/lib/python3.13/site-packages (from jupyterlab->jupyter->-r requirements.txt (line 17)) (0.2.4)\n",
      "Requirement already satisfied: setuptools>=41.1.0 in ./.venv/lib/python3.13/site-packages (from jupyterlab->jupyter->-r requirements.txt (line 17)) (80.9.0)\n",
      "Requirement already satisfied: anyio in ./.venv/lib/python3.13/site-packages (from httpx<1,>=0.25.0->jupyterlab->jupyter->-r requirements.txt (line 17)) (4.11.0)\n",
      "Requirement already satisfied: certifi in ./.venv/lib/python3.13/site-packages (from httpx<1,>=0.25.0->jupyterlab->jupyter->-r requirements.txt (line 17)) (2025.10.5)\n",
      "Requirement already satisfied: httpcore==1.* in ./.venv/lib/python3.13/site-packages (from httpx<1,>=0.25.0->jupyterlab->jupyter->-r requirements.txt (line 17)) (1.0.9)\n",
      "Requirement already satisfied: idna in ./.venv/lib/python3.13/site-packages (from httpx<1,>=0.25.0->jupyterlab->jupyter->-r requirements.txt (line 17)) (3.11)\n",
      "Requirement already satisfied: h11>=0.16 in ./.venv/lib/python3.13/site-packages (from httpcore==1.*->httpx<1,>=0.25.0->jupyterlab->jupyter->-r requirements.txt (line 17)) (0.16.0)\n",
      "Requirement already satisfied: argon2-cffi>=21.1 in ./.venv/lib/python3.13/site-packages (from jupyter-server<3,>=2.4.0->jupyterlab->jupyter->-r requirements.txt (line 17)) (25.1.0)\n",
      "Requirement already satisfied: jupyter-events>=0.11.0 in ./.venv/lib/python3.13/site-packages (from jupyter-server<3,>=2.4.0->jupyterlab->jupyter->-r requirements.txt (line 17)) (0.12.0)\n",
      "Requirement already satisfied: jupyter-server-terminals>=0.4.4 in ./.venv/lib/python3.13/site-packages (from jupyter-server<3,>=2.4.0->jupyterlab->jupyter->-r requirements.txt (line 17)) (0.5.3)\n",
      "Requirement already satisfied: prometheus-client>=0.9 in ./.venv/lib/python3.13/site-packages (from jupyter-server<3,>=2.4.0->jupyterlab->jupyter->-r requirements.txt (line 17)) (0.23.1)\n",
      "Requirement already satisfied: send2trash>=1.8.2 in ./.venv/lib/python3.13/site-packages (from jupyter-server<3,>=2.4.0->jupyterlab->jupyter->-r requirements.txt (line 17)) (1.8.3)\n",
      "Requirement already satisfied: terminado>=0.8.3 in ./.venv/lib/python3.13/site-packages (from jupyter-server<3,>=2.4.0->jupyterlab->jupyter->-r requirements.txt (line 17)) (0.18.1)\n",
      "Requirement already satisfied: websocket-client>=1.7 in ./.venv/lib/python3.13/site-packages (from jupyter-server<3,>=2.4.0->jupyterlab->jupyter->-r requirements.txt (line 17)) (1.9.0)\n",
      "Requirement already satisfied: babel>=2.10 in ./.venv/lib/python3.13/site-packages (from jupyterlab-server<3,>=2.27.1->jupyterlab->jupyter->-r requirements.txt (line 17)) (2.17.0)\n",
      "Requirement already satisfied: json5>=0.9.0 in ./.venv/lib/python3.13/site-packages (from jupyterlab-server<3,>=2.27.1->jupyterlab->jupyter->-r requirements.txt (line 17)) (0.12.1)\n",
      "Requirement already satisfied: requests>=2.31 in ./.venv/lib/python3.13/site-packages (from jupyterlab-server<3,>=2.27.1->jupyterlab->jupyter->-r requirements.txt (line 17)) (2.32.5)\n",
      "Requirement already satisfied: sniffio>=1.1 in ./.venv/lib/python3.13/site-packages (from anyio->httpx<1,>=0.25.0->jupyterlab->jupyter->-r requirements.txt (line 17)) (1.3.1)\n",
      "Requirement already satisfied: argon2-cffi-bindings in ./.venv/lib/python3.13/site-packages (from argon2-cffi>=21.1->jupyter-server<3,>=2.4.0->jupyterlab->jupyter->-r requirements.txt (line 17)) (25.1.0)\n",
      "Requirement already satisfied: python-json-logger>=2.0.4 in ./.venv/lib/python3.13/site-packages (from jupyter-events>=0.11.0->jupyter-server<3,>=2.4.0->jupyterlab->jupyter->-r requirements.txt (line 17)) (4.0.0)\n",
      "Requirement already satisfied: pyyaml>=5.3 in ./.venv/lib/python3.13/site-packages (from jupyter-events>=0.11.0->jupyter-server<3,>=2.4.0->jupyterlab->jupyter->-r requirements.txt (line 17)) (6.0.3)\n",
      "Requirement already satisfied: rfc3339-validator in ./.venv/lib/python3.13/site-packages (from jupyter-events>=0.11.0->jupyter-server<3,>=2.4.0->jupyterlab->jupyter->-r requirements.txt (line 17)) (0.1.4)\n",
      "Requirement already satisfied: rfc3986-validator>=0.1.1 in ./.venv/lib/python3.13/site-packages (from jupyter-events>=0.11.0->jupyter-server<3,>=2.4.0->jupyterlab->jupyter->-r requirements.txt (line 17)) (0.1.1)\n",
      "Requirement already satisfied: fqdn in ./.venv/lib/python3.13/site-packages (from jsonschema[format-nongpl]>=4.18.0->jupyter-events>=0.11.0->jupyter-server<3,>=2.4.0->jupyterlab->jupyter->-r requirements.txt (line 17)) (1.5.1)\n",
      "Requirement already satisfied: isoduration in ./.venv/lib/python3.13/site-packages (from jsonschema[format-nongpl]>=4.18.0->jupyter-events>=0.11.0->jupyter-server<3,>=2.4.0->jupyterlab->jupyter->-r requirements.txt (line 17)) (20.11.0)\n",
      "Requirement already satisfied: jsonpointer>1.13 in ./.venv/lib/python3.13/site-packages (from jsonschema[format-nongpl]>=4.18.0->jupyter-events>=0.11.0->jupyter-server<3,>=2.4.0->jupyterlab->jupyter->-r requirements.txt (line 17)) (3.0.0)\n",
      "Requirement already satisfied: rfc3987-syntax>=1.1.0 in ./.venv/lib/python3.13/site-packages (from jsonschema[format-nongpl]>=4.18.0->jupyter-events>=0.11.0->jupyter-server<3,>=2.4.0->jupyterlab->jupyter->-r requirements.txt (line 17)) (1.1.0)\n",
      "Requirement already satisfied: uri-template in ./.venv/lib/python3.13/site-packages (from jsonschema[format-nongpl]>=4.18.0->jupyter-events>=0.11.0->jupyter-server<3,>=2.4.0->jupyterlab->jupyter->-r requirements.txt (line 17)) (1.3.0)\n",
      "Requirement already satisfied: webcolors>=24.6.0 in ./.venv/lib/python3.13/site-packages (from jsonschema[format-nongpl]>=4.18.0->jupyter-events>=0.11.0->jupyter-server<3,>=2.4.0->jupyterlab->jupyter->-r requirements.txt (line 17)) (24.11.1)\n",
      "Requirement already satisfied: charset_normalizer<4,>=2 in ./.venv/lib/python3.13/site-packages (from requests>=2.31->jupyterlab-server<3,>=2.27.1->jupyterlab->jupyter->-r requirements.txt (line 17)) (3.4.4)\n",
      "Requirement already satisfied: urllib3<3,>=1.21.1 in ./.venv/lib/python3.13/site-packages (from requests>=2.31->jupyterlab-server<3,>=2.27.1->jupyterlab->jupyter->-r requirements.txt (line 17)) (2.5.0)\n",
      "Requirement already satisfied: lark>=1.2.2 in ./.venv/lib/python3.13/site-packages (from rfc3987-syntax>=1.1.0->jsonschema[format-nongpl]>=4.18.0->jupyter-events>=0.11.0->jupyter-server<3,>=2.4.0->jupyterlab->jupyter->-r requirements.txt (line 17)) (1.3.0)\n",
      "Requirement already satisfied: cffi>=1.0.1 in ./.venv/lib/python3.13/site-packages (from argon2-cffi-bindings->argon2-cffi>=21.1->jupyter-server<3,>=2.4.0->jupyterlab->jupyter->-r requirements.txt (line 17)) (2.0.0)\n",
      "Requirement already satisfied: pycparser in ./.venv/lib/python3.13/site-packages (from cffi>=1.0.1->argon2-cffi-bindings->argon2-cffi>=21.1->jupyter-server<3,>=2.4.0->jupyterlab->jupyter->-r requirements.txt (line 17)) (2.23)\n",
      "Requirement already satisfied: arrow>=0.15.0 in ./.venv/lib/python3.13/site-packages (from isoduration->jsonschema[format-nongpl]>=4.18.0->jupyter-events>=0.11.0->jupyter-server<3,>=2.4.0->jupyterlab->jupyter->-r requirements.txt (line 17)) (1.4.0)\n",
      "Requirement already satisfied: tzdata in ./.venv/lib/python3.13/site-packages (from arrow>=0.15.0->isoduration->jsonschema[format-nongpl]>=4.18.0->jupyter-events>=0.11.0->jupyter-server<3,>=2.4.0->jupyterlab->jupyter->-r requirements.txt (line 17)) (2025.2)\n",
      "Requirement already satisfied: executing>=1.2.0 in ./.venv/lib/python3.13/site-packages (from stack_data->ipython>=6.1.0->ipywidgets->-r requirements.txt (line 18)) (2.2.1)\n",
      "Requirement already satisfied: asttokens>=2.1.0 in ./.venv/lib/python3.13/site-packages (from stack_data->ipython>=6.1.0->ipywidgets->-r requirements.txt (line 18)) (3.0.0)\n",
      "Requirement already satisfied: pure-eval in ./.venv/lib/python3.13/site-packages (from stack_data->ipython>=6.1.0->ipywidgets->-r requirements.txt (line 18)) (0.2.3)\n",
      "Note: you may need to restart the kernel to use updated packages.\n"
     ]
    }
   ],
   "source": [
    "%pip install -U -r requirements.txt"
   ]
  },
  {
   "cell_type": "code",
   "execution_count": 2,
   "metadata": {},
   "outputs": [
    {
     "data": {
      "text/plain": [
       "'3.10.7'"
      ]
     },
     "execution_count": 2,
     "metadata": {},
     "output_type": "execute_result"
    }
   ],
   "source": [
    "import numpy as np\n",
    "# import cv2\n",
    "from tqdm.auto import trange, tqdm\n",
    "import matplotlib\n",
    "# import matplotlib.gridspec as gs\n",
    "from matplotlib.gridspec import SubplotParams\n",
    "import numpy as np\n",
    "from scipy import ndimage\n",
    "# from scipy.ndimage import zoom\n",
    "matplotlib.__version__"
   ]
  },
  {
   "cell_type": "code",
   "execution_count": 3,
   "metadata": {},
   "outputs": [
    {
     "data": {
      "text/plain": [
       "'2025-10-31_caustique-transition'"
      ]
     },
     "execution_count": 3,
     "metadata": {},
     "output_type": "execute_result"
    }
   ],
   "source": [
    "import os \n",
    "from IPython import get_ipython\n",
    "ip = get_ipython()\n",
    "# print(ip.user_ns)\n",
    "study_name = None\n",
    "if '__vsc_ipynb_file__' in ip.user_ns:\n",
    "    # https://github.com/msm1089/ipynbname/issues/17\n",
    "    study_name = os.path.split(os.path.basename(ip.user_ns['__vsc_ipynb_file__']))[1]\n",
    "elif '__file__' in ip.user_ns:\n",
    "    study_name = ip.user_ns['__file__']\n",
    "else:\n",
    "    import ipynbname\n",
    "    study_name = ipynbname.name()\n",
    "study_name = study_name.replace('.ipynb', '')\n",
    "study_name"
   ]
  },
  {
   "cell_type": "code",
   "execution_count": 4,
   "metadata": {},
   "outputs": [],
   "source": [
    "# %ls -lh {study_name}\n",
    "# %ls -lh /tmp/{study_name}"
   ]
  },
  {
   "cell_type": "code",
   "execution_count": 5,
   "metadata": {},
   "outputs": [],
   "source": [
    "# %rm -fr {study_name}\n",
    "# %rm -fr /tmp/{study_name}"
   ]
  },
  {
   "cell_type": "code",
   "execution_count": 6,
   "metadata": {},
   "outputs": [],
   "source": [
    "# the higher PRECISION, the bigger the file\n",
    "PRECISION = 4  # debugging\n",
    "PRECISION = 8 # low quality\n",
    "PRECISION = 10 # medium quality\n",
    "PRECISION = 11 # medium+ quality\n",
    "# PRECISION = 12 # good quality\n",
    "# PRECISION = 14 # very good quality\n",
    "# PRECISION = 15 # for production\n",
    "\n",
    "# https://docs.python.org/3/library/dataclasses.html?highlight=dataclass#module-dataclasses\n",
    "from dataclasses import dataclass\n",
    "\n",
    "@dataclass\n",
    "class init:\n",
    "    figpath: str = study_name # Folder to store images\n",
    "    phi: float = 1.61803 # beauty is gold\n",
    "    tag: str = 'caustique' # Tag\n",
    "    ext: str = 'mp4' # Extension for output\n",
    "    nx: int = 1*2**PRECISION # number of pixels (vertical)\n",
    "    ny: int = 1*2**PRECISION # number of pixels (horizontal)\n",
    "    nframe: int = 24*6 # number of frames for each chunk\n",
    "    bin_dens: int = 2 # relative bin density\n",
    "    bin_wave: int = 4 # downsamplig of the wave\n",
    "    bin_spectrum: int = 4 # bin spacing in spectrum (lower is more CPU)\n",
    "    seed: int = 2025 # seed for RNG\n",
    "    H: float = 80.0 # depth of the pool\n",
    "    variation: float = .20 # variation of diffraction index: http://www.philiplaven.com/p20.html 1.40 at 400 nm and 1.37 at 700nm makes a 2% variation\n",
    "    sigma: float = 1.0 # smoothing for the gradient\n",
    "    sf_0: float = 10./nx # frequency in cycles per pixels\n",
    "    B_sf: float = 1. # bandwidth in sf\n",
    "    V_Y: float = 0.1 # horizontal speed\n",
    "    V_X: float = -0.5 # vertical speed\n",
    "    B_V: float = 1-0.618 # bandwidth in speed\n",
    "    # zmin: float = 1.0 # relative minimal value of wave height at the top to generate a gradient (set to 1. to have no gradient)\n",
    "    # theta: float = 2*np.pi*(2-1.61803) # angle with the horizontal\n",
    "    theta: float = np.pi/2 # angle with the horizontal\n",
    "    B_theta: float = 45*np.pi/180 # bandwidth in theta\n",
    "    # min_lum: float = .01 # global diffusion level for the rendering giving the pedestal value\n",
    "    radius_in: float = .15\n",
    "    radius_out: float = .60 #\n",
    "    n_bits: int = 8 # bits to save images\n",
    "    n_jobs: int = 12 # number of jobs to run in parallel\n",
    "    gamma: float = 2.4 # Gamma exponant to convert luminosity to luminance\n",
    "    fps: float = 24 # frames per second\n",
    "    do_cache: bool = True # Cache intermediate output.\n",
    "    verbose: bool = False # Displays more verbose output.\n",
    "    do_display: bool = False # Displays images and videos in notebook.\n"
   ]
  },
  {
   "cell_type": "code",
   "execution_count": 7,
   "metadata": {
    "execution": {
     "iopub.execute_input": "2024-10-16T09:43:06.036410Z",
     "iopub.status.busy": "2024-10-16T09:43:06.035954Z",
     "iopub.status.idle": "2024-10-16T09:43:06.041319Z",
     "shell.execute_reply": "2024-10-16T09:43:06.039924Z"
    }
   },
   "outputs": [
    {
     "name": "stdout",
     "output_type": "stream",
     "text": [
      "Saving our simulations in=2025-10-31_caustique-transition\n"
     ]
    }
   ],
   "source": [
    "opt = init()\n",
    "print(f'Saving our simulations in={opt.figpath}')"
   ]
  },
  {
   "cell_type": "code",
   "execution_count": 8,
   "metadata": {
    "execution": {
     "iopub.execute_input": "2024-10-16T09:43:06.045705Z",
     "iopub.status.busy": "2024-10-16T09:43:06.045222Z",
     "iopub.status.idle": "2024-10-16T09:43:06.051391Z",
     "shell.execute_reply": "2024-10-16T09:43:06.050527Z"
    }
   },
   "outputs": [],
   "source": [
    "# if opt.nframe==1: opt.ext = 'png'"
   ]
  },
  {
   "cell_type": "code",
   "execution_count": 9,
   "metadata": {},
   "outputs": [],
   "source": [
    "if opt.n_jobs>1 or opt.n_jobs==-1:\n",
    "    from joblib import Parallel, delayed\n",
    "    # from tqdm_joblib import tqdm_joblib   #  pip install tqdm-joblib"
   ]
  },
  {
   "cell_type": "code",
   "execution_count": 10,
   "metadata": {
    "execution": {
     "iopub.execute_input": "2024-10-16T09:43:06.055776Z",
     "iopub.status.busy": "2024-10-16T09:43:06.055017Z",
     "iopub.status.idle": "2024-10-16T09:43:06.060659Z",
     "shell.execute_reply": "2024-10-16T09:43:06.059448Z"
    },
    "tags": []
   },
   "outputs": [
    {
     "name": "stdout",
     "output_type": "stream",
     "text": [
      "init(figpath='2025-10-31_caustique-transition',\n",
      "     phi=1.61803,\n",
      "     tag='caustique',\n",
      "     ext='mp4',\n",
      "     nx=2048,\n",
      "     ny=2048,\n",
      "     nframe=144,\n",
      "     bin_dens=2,\n",
      "     bin_wave=4,\n",
      "     bin_spectrum=4,\n",
      "     seed=2025,\n",
      "     H=80.0,\n",
      "     variation=0.2,\n",
      "     sigma=1.0,\n",
      "     sf_0=0.0048828125,\n",
      "     B_sf=1.0,\n",
      "     V_Y=0.1,\n",
      "     V_X=-0.5,\n",
      "     B_V=0.382,\n",
      "     theta=1.5707963267948966,\n",
      "     B_theta=0.7853981633974483,\n",
      "     radius_in=0.15,\n",
      "     radius_out=0.6,\n",
      "     n_bits=8,\n",
      "     n_jobs=12,\n",
      "     gamma=2.4,\n",
      "     fps=24,\n",
      "     do_cache=True,\n",
      "     verbose=False,\n",
      "     do_display=False)\n"
     ]
    }
   ],
   "source": [
    "from pprint import pprint\n",
    "pprint(opt)"
   ]
  },
  {
   "cell_type": "code",
   "execution_count": 11,
   "metadata": {
    "execution": {
     "iopub.execute_input": "2024-10-16T09:43:06.064918Z",
     "iopub.status.busy": "2024-10-16T09:43:06.064509Z",
     "iopub.status.idle": "2024-10-16T09:43:06.069370Z",
     "shell.execute_reply": "2024-10-16T09:43:06.068172Z"
    }
   },
   "outputs": [
    {
     "name": "stdout",
     "output_type": "stream",
     "text": [
      "Screen size=100cm=39.370in, dpi=26dpi\n"
     ]
    }
   ],
   "source": [
    "screen_size_cm = 100 # cm\n",
    "CM_BY_INCH = 2.54 # this is a constant\n",
    "screen_size_in = screen_size_cm/CM_BY_INCH\n",
    "dpi = (opt.nx // opt.bin_dens) / screen_size_in\n",
    "print(f'Screen size={screen_size_cm}cm={screen_size_in:.3f}in, dpi={dpi:.0f}dpi')"
   ]
  },
  {
   "cell_type": "markdown",
   "metadata": {},
   "source": [
    "## utilitaires\n",
    "\n",
    "Transformation d'une matrice numpy en mp4:\n"
   ]
  },
  {
   "cell_type": "code",
   "execution_count": 12,
   "metadata": {
    "execution": {
     "iopub.execute_input": "2024-10-16T09:43:06.073052Z",
     "iopub.status.busy": "2024-10-16T09:43:06.072374Z",
     "iopub.status.idle": "2024-10-16T09:43:06.078119Z",
     "shell.execute_reply": "2024-10-16T09:43:06.077358Z"
    }
   },
   "outputs": [],
   "source": [
    "import imageio\n",
    "# def make_gif(gifname, fnames, fps, do_delete=True):\n",
    "#     with imageio.get_writer(gifname, mode='I', fps=fps) as writer:\n",
    "#         for fname in fnames:\n",
    "#             writer.append_data(imageio.imread(fname))\n",
    "\n",
    "#     from pygifsicle import optimize\n",
    "#     optimize(str(gifname))\n",
    "#     if do_delete: \n",
    "#         for fname in fnames: os.remove(fname)\n",
    "#     return gifname\n",
    "\n",
    "# https://moviepy.readthedocs.io/en/latest/getting_started/videoclips.html#imagesequenceclip\n",
    "# def make_mp4(mkvname, fnames, fps, do_delete=True):\n",
    "#     import moviepy.editor as mpy\n",
    "#     clip = mpy.ImageSequenceClip(fnames, fps=fps)\n",
    "#     clip.write_videofile(mkvname, fps=fps, codec='libx264', verbose=False, logger=None)\n",
    "#     if do_delete: \n",
    "#         for fname in fnames: os.remove(fname)\n",
    "#     return mkvname \n",
    "\n",
    "# from tqdm import tqdm\n",
    "# from tqdm.notebook import tqdm\n",
    "# def make_mp4(moviename, fnames, fps):\n",
    "#     \"\"\"Create an mkv video from a sequence of image files.\n",
    "\n",
    "#     Args:\n",
    "#         moviename (str): Path to the output video file.\n",
    "#         fnames (list): List of paths to input image files.\n",
    "#         fps (int): Frames per second for the output video.\n",
    "\n",
    "#     Returns:\n",
    "#         str: Path to the created video file.\n",
    "#     \"\"\"\n",
    "#     ffmpeg_params = [\n",
    "#         \"-c:v\", \"ffv1\",                # codec (ffv1 = lossless intra‑frame)\n",
    "#         \"-level\", \"3\",                # highest ffv1 quality level\n",
    "#         \"-pix_fmt\", \"rgb48le\",          # 16‑bit pixel format     pix_fmt: str = \"gray16le\",   # 16‑bit grayscale, change to \"rgb48le\" for color\n",
    "#         \"-preset\", \"veryslow\",        # optional – best compression, slower\n",
    "#     ]\n",
    "#     with imageio.v2.get_writer(\n",
    "#         moviename,\n",
    "#         fps=fps,\n",
    "#         macro_block_size=1,\n",
    "#         ffmpeg_log_level=\"error\",   # keep the console tidy\n",
    "#         # ffmpeg_params=ffmpeg_params,\n",
    "#     ) as writer:    \n",
    "#         for fname in tqdm(fnames, desc=\"Creating video\"):\n",
    "#             print('>>>', fname)\n",
    "#             frame = imageio.v2.imread(fname, pilmode='I;16')\n",
    "#             print('bip')\n",
    "#             frame = frame.astype(np.uint16)\n",
    "#             writer.append_data(frame)\n",
    "#     return moviename\n",
    "\n",
    "def make_mp4(moviename, frames, fps):\n",
    "    with imageio.v2.get_writer(\n",
    "        moviename,\n",
    "        format='FFmpeg', \n",
    "        mode='I',\n",
    "        # format='av', \n",
    "        fps=fps,\n",
    "        # pixelformat=pix_fmt\n",
    "        # codec='ffv1',  # Use FFV1 for lossless compression\n",
    "        ) as writer:\n",
    "        for i_frame in trange(frames.shape[-1], desc='Generating movie'):\n",
    "            # Append the frame to the video writer\n",
    "            writer.append_data(frames[..., i_frame])\n",
    "    return moviename\n",
    "\n",
    "# def make_mp4_fromlist(moviename, list_of_frames, fps):\n",
    "#     with imageio.v2.get_writer(\n",
    "#         moviename,\n",
    "#         format='FFmpeg', \n",
    "#         mode='I',\n",
    "#         # format='av', \n",
    "#         fps=fps,\n",
    "#         # pixelformat=pix_fmt\n",
    "#         # codec='ffv1',  # Use FFV1 for lossless compression\n",
    "#         ) as writer:\n",
    "#         for frames in list_of_frames:\n",
    "#             for i_frame in range(frames.shape[-1]):\n",
    "#                 # Append the frame to the video writer\n",
    "#                 writer.append_data(frames[..., i_frame])\n",
    "#     return moviename\n",
    "\n",
    "# import imageio.v3 as iio\n",
    "# def make_mp4(mkvname, frames, fps):\n",
    "#     pix_fmt = 'rgb48le' if frames.ndim==3 else 'gray16le'\n",
    "#     iio.imwrite(\n",
    "#         mkvname,\n",
    "#         np.moveaxis(frames, -1, 0),\n",
    "#         plugin='pyav',\n",
    "#         codec='ffv1',\n",
    "#         fps=fps,\n",
    "#         in_pixel_format=pix_fmt,\n",
    "#         out_pixel_format=pix_fmt\n",
    "#     )\n",
    "#     return mkvname\n",
    "\n",
    "\n",
    "# make_mp4(\"test_video.mp4\", np.random.randint(0, 2**8-1, (480, 640, 3, 30), dtype=np.uint8), fps=24)"
   ]
  },
  {
   "cell_type": "markdown",
   "metadata": {},
   "source": [
    "\n",
    "Utilities to compute the spectrum of the blue sky and convert them later to RGB values (check out https://laurentperrinet.github.io/sciblog/posts/2020-07-04-colors-of-the-sky.html for details)"
   ]
  },
  {
   "cell_type": "code",
   "execution_count": 13,
   "metadata": {
    "execution": {
     "iopub.execute_input": "2024-10-16T09:43:06.082021Z",
     "iopub.status.busy": "2024-10-16T09:43:06.081270Z",
     "iopub.status.idle": "2024-10-16T09:43:06.089061Z",
     "shell.execute_reply": "2024-10-16T09:43:06.088191Z"
    }
   },
   "outputs": [],
   "source": [
    "from lambda2color import Lambda2color, xyz_from_xy\n",
    "\n",
    "# borrowed from https://github.com/gummiks/gummiks.github.io/blob/master/scripts/astro/planck.py\n",
    "def planck(wav, T):\n",
    "    import scipy.constants as const\n",
    "    c = const.c # c = 3.0e+8\n",
    "    h = const.h # h = 6.626e-34\n",
    "    k = const.k # k = 1.38e-23\n",
    "    a = 2.0*h*c**2\n",
    "    b = h*c/(wav*k*T)\n",
    "    intensity = a / ( (wav**5) * (np.exp(b) - 1.0) )\n",
    "    return intensity\n",
    "\n",
    "def scattering(wav, a=0.005, p=1.3, b=0.45):\n",
    "    \"\"\"\n",
    "    b is  proportionate  to  the  column  density  of  aerosols\n",
    "    along  the  path  of  sunlight,  from  outside  the  atmosphere\n",
    "    to  the  point  of  observation\n",
    "    \n",
    "    see https://laurentperrinet.github.io/sciblog/posts/2020-07-04-colors-of-the-sky.html for more details\n",
    "\n",
    "    \"\"\"\n",
    "    # converting wav in µm:\n",
    "    intensity = np.exp(-a/((wav/1e-6)**4)) # Rayleigh extinction by nitrogen\n",
    "    intensity *= (wav/1e-6)**-4\n",
    "    intensity *= np.exp(-b/((wav/1e-6)**p)) # Aerosols\n",
    "    return intensity"
   ]
  },
  {
   "cell_type": "markdown",
   "metadata": {},
   "source": [
    "## calcul des caustiques\n"
   ]
  },
  {
   "cell_type": "code",
   "execution_count": 14,
   "metadata": {
    "execution": {
     "iopub.execute_input": "2024-10-16T09:43:06.094058Z",
     "iopub.status.busy": "2024-10-16T09:43:06.093441Z",
     "iopub.status.idle": "2024-10-16T09:43:06.297325Z",
     "shell.execute_reply": "2024-10-16T09:43:06.297072Z"
    }
   },
   "outputs": [],
   "source": [
    "subplotpars = SubplotParams(left=0., right=1., bottom=0., top=1., wspace=0., hspace=0.)\n",
    "import matplotlib.pyplot as plt\n",
    "import hashlib\n",
    "import MotionClouds as mc\n",
    "\n",
    "class Caustique:\n",
    "    def __init__(self, opt):\n",
    "        \"\"\"\n",
    "        Image coordinates follow 'ij' indexing, that is,\n",
    "        * their origin at the top left,\n",
    "        * the X axis is vertical and goes \"down\",\n",
    "        * the Y axis is horizontal and goes \"right\".\n",
    "\n",
    "        \"\"\"\n",
    "        self.mc = mc\n",
    "        self.ratio = opt.ny/opt.nx # ratio between height and width (>1 for portrait, <1 for landscape)\n",
    "        X = np.linspace(0, 1, opt.nx, endpoint=False) # vertical\n",
    "        Y = np.linspace(0, self.ratio, opt.ny, endpoint=False) # horizontal\n",
    "        self.xv, self.yv = np.meshgrid(X, Y, indexing='ij')\n",
    "        self.opt = opt\n",
    "        # https://stackoverflow.com/questions/16878315/what-is-the-right-way-to-treat-python-argparse-namespace-as-a-dictionary\n",
    "        self.d = vars(opt)\n",
    "        os.makedirs(self.opt.figpath, exist_ok=True)\n",
    "        self.cachepath = os.path.join('/tmp', self.opt.figpath)\n",
    "        if opt.verbose: print(f'{self.cachepath=}')\n",
    "        os.makedirs(self.cachepath, exist_ok=True)\n",
    "        self.np_dtype = np.uint8 if opt.n_bits==8 else np.uint16\n",
    "        \n",
    "        illuminant = xyz_from_xy(0.3127, 0.3291) # a standard white\n",
    "        # illuminant = xyz_from_xy(0.268375 0.283377) # sky\n",
    "        # illuminant = xyz_from_xy(0.325998, 0.335354) # sun\n",
    "\n",
    "        # color conversion class\n",
    "        self.cs_srgb = Lambda2color(red=xyz_from_xy(0.64, 0.33),\n",
    "                                    green=xyz_from_xy(0.30, 0.60),\n",
    "                                    blue=xyz_from_xy(0.15, 0.06),\n",
    "                                    white=illuminant)\n",
    "        \n",
    "        self.wavelengths = self.cs_srgb.cmf[:, 0]*1e-9\n",
    "        self.N_wavelengths = len(self.wavelengths)\n",
    "        # multiply by the spectrum of the sky\n",
    "        intensity5800 = planck(self.wavelengths, 5800.)\n",
    "        scatter = scattering(self.wavelengths)\n",
    "        self.spectrum_sky = intensity5800 * scatter\n",
    "        self.spectrum_sky /= self.spectrum_sky.max()\n",
    "\n",
    "        self.rgbs = {}\n",
    "        for i_wavelength in range(self.opt.bin_spectrum//2, self.N_wavelengths, self.opt.bin_spectrum):\n",
    "            # we convert the spectrum into a color\n",
    "            spec = np.zeros((self.N_wavelengths))\n",
    "            spec[i_wavelength] = 1\n",
    "            rgb = self.cs_srgb.spec_to_rgb(spec)\n",
    "            rgb *= self.spectrum_sky[i_wavelength]\n",
    "            self.rgbs[i_wavelength] = rgb\n",
    "\n",
    "        self.fx, self.fy, self.ft = mc.get_grids(self.opt.nx//self.opt.bin_wave, self.opt.ny//self.opt.bin_wave, self.opt.nframe)\n",
    "\n",
    "    def wave(self, do_cache=None):\n",
    "        \n",
    "        if do_cache is None: do_cache = self.opt.do_cache\n",
    "        if do_cache: filename = f'{self.cachepath}/{self.opt.tag}_wave.npy'\n",
    "        if do_cache and os.path.isfile(filename):\n",
    "            z = np.load(filename)\n",
    "        else:\n",
    "            # A simplistic model of a wave using https://github.com/NeuralEnsemble/MotionClouds\n",
    "            env = mc.envelope_gabor(self.fx, self.fy, self.ft, V_X=self.opt.V_Y, V_Y=self.opt.V_X, B_V=self.opt.B_V,\n",
    "                                    sf_0=self.opt.sf_0, B_sf=self.opt.B_sf*self.opt.sf_0,\n",
    "                                    theta=self.opt.theta, B_theta=self.opt.B_theta)\n",
    "            # env /= env.mean()\n",
    "            z = mc.random_cloud(env, seed=self.opt.seed)\n",
    "            # print(z.max())\n",
    "            if np.abs(z).max() > 0: \n",
    "                z = mc.rectif(z)\n",
    "                # z = (.5* z/np.max(np.abs(z[:])) + .5)\n",
    "            # print(z.max())\n",
    "\n",
    "            # z *= np.linspace(self.opt.zmin, 1., self.opt.nx)[:, None, None] # [optional] vertical gradient\n",
    "            if do_cache: np.save(filename, z)\n",
    "\n",
    "        return z\n",
    "\n",
    "    def transform(self, z_frame, modulation=1., lag_x=0., lag_y=0.):\n",
    "        xv, yv = self.xv.copy(), self.yv.copy()\n",
    "\n",
    "        # coords = np.vstack([(yv + lag_y).ravel(), (xv + lag_x).ravel()])\n",
    "        # dzdx = ndimage.map_coordinates(dzdx, coords, order=1, mode='wrap').reshape(dzdx.shape)\n",
    "        # dzdy = ndimage.map_coordinates(dzdy, coords, order=1, mode='wrap').reshape(dzdy.shape)\n",
    "        \n",
    "\n",
    "        # https://numpy.org/doc/stable/reference/generated/numpy.gradient.html\n",
    "        # dzdx, dzdy = np.gradient(z_frame, edge_order=edge_order)\n",
    "\n",
    "        dzdx = ndimage.gaussian_filter(z_frame, self.opt.sigma, order=[1,0], mode='reflect')\n",
    "        dzdy = ndimage.gaussian_filter(z_frame, self.opt.sigma, order=[0,1], mode='reflect')\n",
    "\n",
    "        xv_warp = xv + modulation * self.opt.H * dzdx\n",
    "        yv_warp = yv + modulation * self.opt.H * dzdy\n",
    "        \n",
    "        xv_warp = np.mod(xv_warp, 1)\n",
    "        yv_warp = np.mod(yv_warp, self.ratio)\n",
    "\n",
    "        return xv_warp, yv_warp\n",
    "\n",
    "    def get_filename(self, note=''):\n",
    "        # output filename        \n",
    "        md5 = hashlib.sha224((self.opt.figpath + self.opt.tag + note).encode()).hexdigest()[:8] # an unique identifier for future tagging\n",
    "        output_filename = f'{self.opt.figpath}/{self.opt.tag}{note}_{md5}.{self.opt.ext}'\n",
    "        return output_filename\n",
    "\n",
    "    def get_caustics(self, z_frame, image_aperture, modulation, rgb):\n",
    "\n",
    "        xv, yv = self.transform(z_frame, modulation=modulation)\n",
    "\n",
    "        hist, _, _ = np.histogram2d(xv.ravel(), yv.ravel(),\n",
    "                                     bins=[self.opt.nx//self.opt.bin_dens, self.opt.ny//self.opt.bin_dens],\n",
    "                                     weights=image_aperture.ravel(),\n",
    "                                     range=[[0, 1], [0, self.ratio]],\n",
    "                                     density=True)\n",
    "        return hist[:, :, None] * rgb[None, None, :]\n",
    "\n",
    "\n",
    "    def compute(self, z, image_aperture=None):\n",
    "        \"\"\"\n",
    "        \n",
    "        dpi: output resolution - sets the figure size as we ensure there is a one to one correspondance between pixels in the data and the output image\n",
    "        \"\"\"\n",
    "\n",
    "        # 1/ do the raytracing of image through z:\n",
    "        _, _, nframe = z.shape\n",
    "\n",
    "        # if not specified, use a full image with full contrast (from 0=black to 1=white)\n",
    "        if image_aperture is None: image_aperture = np.ones((self.opt.nx, self.opt.ny))\n",
    "\n",
    "        #image_rgb = self.cs_srgb.spec_to_rgb(hist)\n",
    "        image_rgb = np.zeros((self.opt.nx//self.opt.bin_dens,  self.opt.ny//self.opt.bin_dens, 3, nframe))\n",
    "        for i_frame in trange(nframe, desc='Scanning time', position=1, leave=True):\n",
    "            z_frame = ndimage.zoom(z[:, :, i_frame], self.opt.bin_wave, order=2)\n",
    "\n",
    "            if self.opt.n_jobs==1:\n",
    "                # for i_i_wavelength, i_wavelength in enumerate(self.opt.bin_spectrum//2, self.N_wavelengths, self.opt.bin_spectrum):\n",
    "                for i_wavelength in trange(self.opt.bin_spectrum//2, self.N_wavelengths, self.opt.bin_spectrum, desc='Scanning spectrum', position=0, leave=False):\n",
    "                    modulation = 1. + self.opt.variation/2 - self.opt.variation*i_wavelength/self.N_wavelengths\n",
    "                    hist_frame = self.get_caustics(z_frame, image_aperture, modulation, self.rgbs[i_wavelength])\n",
    "                    # we add the monochromatique color to the image\n",
    "                    image_rgb[:, :, :, i_frame] += hist_frame\n",
    "\n",
    "            else:\n",
    "                # -----  parallel map ------------------------------------------------\n",
    "                wav_indices = range(self.opt.bin_spectrum//2, self.N_wavelengths, self.opt.bin_spectrum)\n",
    "                backend='multiprocessing'\n",
    "                backend='loky'\n",
    "                contributions = Parallel(n_jobs=opt.n_jobs,\n",
    "                                        backend=backend,\n",
    "                                        loky_backend_kwargs={'timeout': 600, 'max_nbytes': '256M'}\n",
    "                                        )(\n",
    "                                        delayed(self.get_caustics)(\n",
    "                                            z_frame    = z_frame,\n",
    "                                            image_aperture      = image_aperture,\n",
    "                                            modulation = 1. + self.opt.variation/2 - self.opt.variation*i_wavelength/self.N_wavelengths,\n",
    "                                            rgb          = self.rgbs[i_wavelength])\n",
    "                                        for i_wavelength in wav_indices)\n",
    "\n",
    "                # -----  accumulate the partial results -------------------------------\n",
    "                # contributions is a list of (H, W, 3) arrays → sum over the list\n",
    "                image_rgb[:, :, :, i_frame] = np.sum(contributions, axis=0)   # shape (H, W, 3)\n",
    "\n",
    "        return image_rgb\n",
    "\n",
    "    def plot(self, z, image_aperture=None):\n",
    "        output_filename = self.get_filename()\n",
    "        if not(os.path.isfile(output_filename)):\n",
    "            image_rgb = self.compute(z, image_aperture=image_aperture)\n",
    "                \n",
    "            # image_rgb -= image_rgb.min() # HACK\n",
    "            image_rgb /= image_rgb.max()\n",
    "\n",
    "            image_rgb = image_rgb ** (1/self.opt.gamma)\n",
    "\n",
    "            # 2/ transform light into image:\n",
    "            output_filename = make_mp4(output_filename, (image_rgb*(2**self.opt.n_bits-1)).astype(self.np_dtype), fps=self.opt.fps)\n",
    "        return output_filename\n",
    "\n",
    "    def show(self, output_filename, width=1024):\n",
    "        from IPython.display import HTML, Image, display\n",
    "        if self.opt.nframe==1:\n",
    "            # display(Image(url=output_filename.replace(self.opt.ext, 'png'), width=width))\n",
    "            display(Image(url=output_filename, width=width))\n",
    "        else:\n",
    "            if self.opt.ext == 'gif':\n",
    "                return display(Image(url=output_filename, width=width))\n",
    "            else:\n",
    "                #import moviepy.editor as mpy\n",
    "                #return mpy.ipython_display(output_filename, width=width)\n",
    "                # https://github.com/NeuralEnsemble/MotionClouds/blob/master/MotionClouds/MotionClouds.py#L858\n",
    "                opts = ' loop=\"1\" autoplay=\"1\" controls '\n",
    "                html = HTML(f'<video {opts} src=\"{output_filename}\" type=\"video/{self.opt.ext}\" width={width} >')\n",
    "                html.reload()\n",
    "                return display(html)"
   ]
  },
  {
   "cell_type": "markdown",
   "metadata": {},
   "source": [
    "# une simple caustique\n",
    "## génération de la vague\n"
   ]
  },
  {
   "cell_type": "code",
   "execution_count": 15,
   "metadata": {
    "execution": {
     "iopub.execute_input": "2024-10-16T09:43:06.298834Z",
     "iopub.status.busy": "2024-10-16T09:43:06.298734Z",
     "iopub.status.idle": "2024-10-16T09:43:07.259909Z",
     "shell.execute_reply": "2024-10-16T09:43:07.259495Z"
    }
   },
   "outputs": [],
   "source": [
    "c = Caustique(init())"
   ]
  },
  {
   "cell_type": "code",
   "execution_count": 16,
   "metadata": {},
   "outputs": [
    {
     "data": {
      "text/plain": [
       "((512, 512, 144),\n",
       " np.float64(0.1425898863204898),\n",
       " np.float64(0.4999999999999991),\n",
       " np.float64(1.0))"
      ]
     },
     "execution_count": 16,
     "metadata": {},
     "output_type": "execute_result"
    }
   ],
   "source": [
    "z = c.wave()\n",
    "z.shape, z.min(), z.mean(), z.max()"
   ]
  },
  {
   "cell_type": "code",
   "execution_count": 17,
   "metadata": {},
   "outputs": [
    {
     "name": "stdout",
     "output_type": "stream",
     "text": [
      "(512, 512, 144) 36 127.00004069010417 255\n"
     ]
    },
    {
     "data": {
      "application/vnd.jupyter.widget-view+json": {
       "model_id": "1ef1253f13ea401e864667cb3c691b66",
       "version_major": 2,
       "version_minor": 0
      },
      "text/plain": [
       "Generating movie:   0%|          | 0/144 [00:00<?, ?it/s]"
      ]
     },
     "metadata": {},
     "output_type": "display_data"
    },
    {
     "data": {
      "text/html": [
       "<video  loop=\"1\" autoplay=\"1\" controls  src=\"2025-10-31_caustique-transition/caustique_vague_d87f777e.mp4\" type=\"video/mp4\" width=1024 >"
      ],
      "text/plain": [
       "<IPython.core.display.HTML object>"
      ]
     },
     "metadata": {},
     "output_type": "display_data"
    }
   ],
   "source": [
    "output_filename = c.get_filename(note='_vague')\n",
    "if not(os.path.isfile(output_filename)):\n",
    "    z_q = (z*(2**opt.n_bits-1)).astype(c.np_dtype)\n",
    "    # z_q = ((z > 1)*(2**opt.n_bits-1)).astype(c.np_dtype)\n",
    "    print(z_q.shape, z_q.min(), z_q.mean(), z_q.max())\n",
    "    output_filename = make_mp4(output_filename, z_q, fps=opt.fps)\n",
    "    del z_q\n",
    "c.show(output_filename)"
   ]
  },
  {
   "cell_type": "code",
   "execution_count": 18,
   "metadata": {},
   "outputs": [
    {
     "name": "stdout",
     "output_type": "stream",
     "text": [
      "Variable          Type                   Data/Info\n",
      "--------------------------------------------------\n",
      "CM_BY_INCH        float                  2.54\n",
      "Caustique         type                   <class '__main__.Caustique'>\n",
      "Lambda2color      type                   <class 'lambda2color.Lambda2color'>\n",
      "PRECISION         int                    11\n",
      "Parallel          type                   <class 'joblib.parallel.Parallel'>\n",
      "SubplotParams     type                   <class 'matplotlib.gridspec.SubplotParams'>\n",
      "c                 Caustique              <__main__.Caustique object at 0x1108d56a0>\n",
      "dataclass         function               <function dataclass at 0x1062239c0>\n",
      "delayed           function               <function delayed at 0x11025a340>\n",
      "dpi               float                  26.0096\n",
      "get_ipython       function               <function get_ipython at 0x106b45760>\n",
      "hashlib           module                 <module 'hashlib' from '/<...>b/python3.13/hashlib.py'>\n",
      "imageio           module                 <module 'imageio' from '/<...>ges/imageio/__init__.py'>\n",
      "init              type                   <class '__main__.init'>\n",
      "ip                ZMQInteractiveShell    <ipykernel.zmqshell.ZMQIn<...>ll object at 0x107f9b380>\n",
      "make_mp4          function               <function make_mp4 at 0x11025aac0>\n",
      "matplotlib        module                 <module 'matplotlib' from<...>/matplotlib/__init__.py'>\n",
      "mc                module                 <module 'MotionClouds' fr<...>stiques/MotionClouds.py'>\n",
      "ndimage           module                 <module 'scipy.ndimage' f<...>ipy/ndimage/__init__.py'>\n",
      "np                module                 <module 'numpy' from '/Us<...>kages/numpy/__init__.py'>\n",
      "opt               init                   init(figpath='2025-10-31_<...>=False, do_display=False)\n",
      "os                module                 <module 'os' (frozen)>\n",
      "output_filename   str                    2025-10-31_caustique-tran<...>stique_vague_d87f777e.mp4\n",
      "planck            function               <function planck at 0x1102fd760>\n",
      "plt               module                 <module 'matplotlib.pyplo<...>es/matplotlib/pyplot.py'>\n",
      "pprint            function               <function pprint at 0x106221da0>\n",
      "scattering        function               <function scattering at 0x1102fd6c0>\n",
      "screen_size_cm    int                    100\n",
      "screen_size_in    float                  39.37007874015748\n",
      "study_name        str                    2025-10-31_caustique-transition\n",
      "subplotpars       SubplotParams          <matplotlib.gridspec.Subp<...>ms object at 0x110245be0>\n",
      "tqdm              type                   <class 'tqdm.auto.tqdm'>\n",
      "trange            function               <function trange at 0x10d838cc0>\n",
      "xyz_from_xy       function               <function xyz_from_xy at 0x1102fd800>\n",
      "z                 ndarray                512x512x144: 37748736 elems, type `float64`, 301989888 bytes (288.0 Mb)\n"
     ]
    }
   ],
   "source": [
    "%whos"
   ]
  },
  {
   "cell_type": "markdown",
   "metadata": {},
   "source": [
    "## génération de l'illumination\n"
   ]
  },
  {
   "cell_type": "code",
   "execution_count": 19,
   "metadata": {
    "execution": {
     "iopub.execute_input": "2024-10-16T09:43:07.265091Z",
     "iopub.status.busy": "2024-10-16T09:43:07.264969Z",
     "iopub.status.idle": "2024-10-16T09:43:27.244503Z",
     "shell.execute_reply": "2024-10-16T09:43:27.243869Z"
    }
   },
   "outputs": [
    {
     "data": {
      "image/png": "[encoded data removed]",
      "text/plain": [
       "<Figure size 3937.01x3937.01 with 1 Axes>"
      ]
     },
     "metadata": {},
     "output_type": "display_data"
    }
   ],
   "source": [
    "def generate_image(nx, ny, radius_in, radius_out):\n",
    "    Y, X = np.meshgrid(np.linspace(-1, 1, ny, endpoint=True), np.linspace(-1, 1, nx, endpoint=True))\n",
    "    image_aperture = (X**2 > radius_in**2)  # the horizontal band outside radius_in\n",
    "    image_aperture *= (Y**2 < radius_out**2) # the vertical band inside radius_out\n",
    "    image_aperture *= (X**2 < radius_out**2)  # the horizontal band inside radius_out\n",
    "    return image_aperture*1.\n",
    "\n",
    "image_aperture = generate_image(nx=opt.nx, ny=opt.ny, radius_in=opt.radius_in, radius_out=opt.radius_out)\n",
    "\n",
    "fig, ax = plt.subplots(figsize=(opt.ny/opt.bin_dens/dpi, opt.nx/opt.bin_dens/dpi), subplotpars=subplotpars)\n",
    "\n",
    "ax.imshow(image_aperture, cmap='gray');"
   ]
  },
  {
   "cell_type": "code",
   "execution_count": 20,
   "metadata": {},
   "outputs": [
    {
     "data": {
      "text/plain": [
       "(np.float64(0.0), np.float64(1.0), 2048, 2048)"
      ]
     },
     "execution_count": 20,
     "metadata": {},
     "output_type": "execute_result"
    }
   ],
   "source": [
    "image_aperture.min(), image_aperture.max(), opt.nx, opt.ny"
   ]
  },
  {
   "cell_type": "markdown",
   "metadata": {},
   "source": [
    "## génération de la caustique\n"
   ]
  },
  {
   "cell_type": "code",
   "execution_count": 21,
   "metadata": {},
   "outputs": [
    {
     "data": {
      "text/plain": [
       "(10, 10, 3)"
      ]
     },
     "execution_count": 21,
     "metadata": {},
     "output_type": "execute_result"
    }
   ],
   "source": [
    "import numpy as np\n",
    "# Example: list of (H, W, 3) arrays\n",
    "arrays = [np.random.rand(10, 10, 3) for _ in range(5)]  # Replace with your actual list of arrays\n",
    "\n",
    "# Sum all arrays in the list\n",
    "summed_array = np.sum(arrays, axis=0)\n",
    "summed_array.shape"
   ]
  },
  {
   "cell_type": "code",
   "execution_count": 22,
   "metadata": {
    "execution": {
     "iopub.execute_input": "2024-10-16T09:43:27.248311Z",
     "iopub.status.busy": "2024-10-16T09:43:27.248044Z",
     "iopub.status.idle": "2024-10-16T09:43:27.675906Z",
     "shell.execute_reply": "2024-10-16T09:43:27.675663Z"
    }
   },
   "outputs": [
    {
     "data": {
      "application/vnd.jupyter.widget-view+json": {
       "model_id": "d3040f8735294189ae21080ba897660c",
       "version_major": 2,
       "version_minor": 0
      },
      "text/plain": [
       "Scanning time:   0%|          | 0/144 [00:00<?, ?it/s]"
      ]
     },
     "metadata": {},
     "output_type": "display_data"
    },
    {
     "name": "stderr",
     "output_type": "stream",
     "text": [
      "/Users/laurentperrinet/app54-nextcloud/NaturalPatterns/2020_caustiques/.venv/lib/python3.13/site-packages/joblib/externals/loky/process_executor.py:782: UserWarning: A worker stopped while some jobs were given to the executor. This can be caused by a too short worker timeout or by a memory leak.\n",
      "  warnings.warn(\n"
     ]
    },
    {
     "data": {
      "application/vnd.jupyter.widget-view+json": {
       "model_id": "beecef0b0b3f411dabebbdb0cc9ce806",
       "version_major": 2,
       "version_minor": 0
      },
      "text/plain": [
       "Generating movie:   0%|          | 0/144 [00:00<?, ?it/s]"
      ]
     },
     "metadata": {},
     "output_type": "display_data"
    }
   ],
   "source": [
    "output_filename = c.plot(z, image_aperture)"
   ]
  },
  {
   "cell_type": "code",
   "execution_count": 23,
   "metadata": {
    "execution": {
     "iopub.execute_input": "2024-10-16T09:43:27.677589Z",
     "iopub.status.busy": "2024-10-16T09:43:27.677500Z",
     "iopub.status.idle": "2024-10-16T09:43:27.679800Z",
     "shell.execute_reply": "2024-10-16T09:43:27.679552Z"
    }
   },
   "outputs": [
    {
     "data": {
      "text/html": [
       "<video  loop=\"1\" autoplay=\"1\" controls  src=\"2025-10-31_caustique-transition/caustique_6c6c127e.mp4\" type=\"video/mp4\" width=1024 >"
      ],
      "text/plain": [
       "<IPython.core.display.HTML object>"
      ]
     },
     "metadata": {},
     "output_type": "display_data"
    }
   ],
   "source": [
    "c.show(output_filename)"
   ]
  },
  {
   "cell_type": "code",
   "execution_count": 24,
   "metadata": {},
   "outputs": [
    {
     "data": {
      "text/plain": [
       "20"
      ]
     },
     "execution_count": 24,
     "metadata": {},
     "output_type": "execute_result"
    }
   ],
   "source": [
    "len(c.rgbs)"
   ]
  },
  {
   "cell_type": "markdown",
   "metadata": {
    "tags": []
   },
   "source": [
    "# exploration des paramètres\n"
   ]
  },
  {
   "cell_type": "code",
   "execution_count": 25,
   "metadata": {
    "execution": {
     "iopub.execute_input": "2024-10-16T09:43:27.681057Z",
     "iopub.status.busy": "2024-10-16T09:43:27.680980Z",
     "iopub.status.idle": "2024-10-16T09:43:27.682344Z",
     "shell.execute_reply": "2024-10-16T09:43:27.682143Z"
    }
   },
   "outputs": [],
   "source": [
    "N_scan = 5\n",
    "base = 2"
   ]
  },
  {
   "cell_type": "markdown",
   "metadata": {
    "tags": []
   },
   "source": [
    "## profondeur d'eau\n"
   ]
  },
  {
   "cell_type": "code",
   "execution_count": 26,
   "metadata": {
    "execution": {
     "iopub.execute_input": "2024-10-16T09:43:27.683507Z",
     "iopub.status.busy": "2024-10-16T09:43:27.683435Z",
     "iopub.status.idle": "2024-10-16T09:43:31.221238Z",
     "shell.execute_reply": "2024-10-16T09:43:31.220945Z"
    }
   },
   "outputs": [
    {
     "data": {
      "application/vnd.jupyter.widget-view+json": {
       "model_id": "804dc1baa594479f8b056361ee36da03",
       "version_major": 2,
       "version_minor": 0
      },
      "text/plain": [
       "Scanning time:   0%|          | 0/144 [00:00<?, ?it/s]"
      ]
     },
     "metadata": {},
     "output_type": "display_data"
    },
    {
     "data": {
      "application/vnd.jupyter.widget-view+json": {
       "model_id": "a2aa07c1182841509cb6697813d89a5e",
       "version_major": 2,
       "version_minor": 0
      },
      "text/plain": [
       "Generating movie:   0%|          | 0/144 [00:00<?, ?it/s]"
      ]
     },
     "metadata": {},
     "output_type": "display_data"
    },
    {
     "name": "stdout",
     "output_type": "stream",
     "text": [
      "H = 40.000 -> output_filename='2025-10-31_caustique-transition/caustique_H_40.000_ff9633f3.mp4' \n"
     ]
    },
    {
     "data": {
      "application/vnd.jupyter.widget-view+json": {
       "model_id": "56833194f6a44d82b4e7aad1756ebd25",
       "version_major": 2,
       "version_minor": 0
      },
      "text/plain": [
       "Scanning time:   0%|          | 0/144 [00:00<?, ?it/s]"
      ]
     },
     "metadata": {},
     "output_type": "display_data"
    },
    {
     "data": {
      "application/vnd.jupyter.widget-view+json": {
       "model_id": "8e10f2f72cd0457092324a756ed5a150",
       "version_major": 2,
       "version_minor": 0
      },
      "text/plain": [
       "Generating movie:   0%|          | 0/144 [00:00<?, ?it/s]"
      ]
     },
     "metadata": {},
     "output_type": "display_data"
    },
    {
     "name": "stdout",
     "output_type": "stream",
     "text": [
      "H = 56.569 -> output_filename='2025-10-31_caustique-transition/caustique_H_56.569_da05764a.mp4' \n"
     ]
    },
    {
     "data": {
      "application/vnd.jupyter.widget-view+json": {
       "model_id": "07d12a586e5f470aaf18c70f9032a025",
       "version_major": 2,
       "version_minor": 0
      },
      "text/plain": [
       "Scanning time:   0%|          | 0/144 [00:00<?, ?it/s]"
      ]
     },
     "metadata": {},
     "output_type": "display_data"
    },
    {
     "data": {
      "application/vnd.jupyter.widget-view+json": {
       "model_id": "4172eacb66eb455baeae94814ad712e1",
       "version_major": 2,
       "version_minor": 0
      },
      "text/plain": [
       "Generating movie:   0%|          | 0/144 [00:00<?, ?it/s]"
      ]
     },
     "metadata": {},
     "output_type": "display_data"
    },
    {
     "name": "stdout",
     "output_type": "stream",
     "text": [
      "H = 80.000 -> output_filename='2025-10-31_caustique-transition/caustique_H_80.000_7d81277f.mp4' \n"
     ]
    },
    {
     "data": {
      "application/vnd.jupyter.widget-view+json": {
       "model_id": "26cc30e588374c7ba15f1974a47f2c6c",
       "version_major": 2,
       "version_minor": 0
      },
      "text/plain": [
       "Scanning time:   0%|          | 0/144 [00:00<?, ?it/s]"
      ]
     },
     "metadata": {},
     "output_type": "display_data"
    },
    {
     "data": {
      "application/vnd.jupyter.widget-view+json": {
       "model_id": "edfacebdde194d5bb0c52e10f4f6422c",
       "version_major": 2,
       "version_minor": 0
      },
      "text/plain": [
       "Generating movie:   0%|          | 0/144 [00:00<?, ?it/s]"
      ]
     },
     "metadata": {},
     "output_type": "display_data"
    },
    {
     "name": "stdout",
     "output_type": "stream",
     "text": [
      "H = 113.137 -> output_filename='2025-10-31_caustique-transition/caustique_H_113.137_5834e55e.mp4' \n"
     ]
    },
    {
     "data": {
      "application/vnd.jupyter.widget-view+json": {
       "model_id": "3cbfa2de48b54f918b4474fdbccb322b",
       "version_major": 2,
       "version_minor": 0
      },
      "text/plain": [
       "Scanning time:   0%|          | 0/144 [00:00<?, ?it/s]"
      ]
     },
     "metadata": {},
     "output_type": "display_data"
    },
    {
     "data": {
      "application/vnd.jupyter.widget-view+json": {
       "model_id": "4e8c2b129f154f2eb3cfc02e0af50582",
       "version_major": 2,
       "version_minor": 0
      },
      "text/plain": [
       "Generating movie:   0%|          | 0/144 [00:00<?, ?it/s]"
      ]
     },
     "metadata": {},
     "output_type": "display_data"
    },
    {
     "name": "stdout",
     "output_type": "stream",
     "text": [
      "H = 160.000 -> output_filename='2025-10-31_caustique-transition/caustique_H_160.000_7ab63f02.mp4' \n"
     ]
    }
   ],
   "source": [
    "for H_ in opt.H*np.logspace(-1, 1, N_scan, base=base):    \n",
    "    c = Caustique(init(tag=f'{opt.tag}_H_{H_:.3f}', H = H_))\n",
    "    output_filename = c.plot(z, image_aperture)\n",
    "    print(f'H = {H_:.3f} -> {output_filename=} ')\n",
    "    if opt.do_display: c.show(output_filename)"
   ]
  },
  {
   "cell_type": "markdown",
   "metadata": {
    "tags": []
   },
   "source": [
    "## variation de l'indice de réfraction\n"
   ]
  },
  {
   "cell_type": "code",
   "execution_count": 27,
   "metadata": {
    "execution": {
     "iopub.execute_input": "2024-10-16T09:43:31.223035Z",
     "iopub.status.busy": "2024-10-16T09:43:31.222910Z",
     "iopub.status.idle": "2024-10-16T09:43:33.903735Z",
     "shell.execute_reply": "2024-10-16T09:43:33.903270Z"
    }
   },
   "outputs": [],
   "source": [
    "# for variation_ in np.logspace(-2, 0, N_scan, base=10, endpoint=False):\n",
    "#     opt = init()\n",
    "#     c = Caustique(opt)\n",
    "#     opt.variation = variation_\n",
    "#     opt.tag = f'{opt.tag}_variation_{variation_:.3f}'\n",
    "\n",
    "#     output_filename = c.plot(z, image_aperture)\n",
    "#     print(f'variation = {variation_:.3f}  -> {output_filename=}')\n",
    "#     if opt.do_display: c.show(output_filename)"
   ]
  },
  {
   "cell_type": "markdown",
   "metadata": {},
   "source": [
    "## post-processing"
   ]
  },
  {
   "cell_type": "code",
   "execution_count": 28,
   "metadata": {
    "execution": {
     "iopub.execute_input": "2024-10-16T09:43:33.905319Z",
     "iopub.status.busy": "2024-10-16T09:43:33.905216Z",
     "iopub.status.idle": "2024-10-16T09:43:39.369292Z",
     "shell.execute_reply": "2024-10-16T09:43:39.369027Z"
    }
   },
   "outputs": [
    {
     "name": "stdout",
     "output_type": "stream",
     "text": [
      "======gamma======\n"
     ]
    },
    {
     "data": {
      "application/vnd.jupyter.widget-view+json": {
       "model_id": "1aee9b5f99ff48d6b7657669b20bb90b",
       "version_major": 2,
       "version_minor": 0
      },
      "text/plain": [
       "Scanning time:   0%|          | 0/144 [00:00<?, ?it/s]"
      ]
     },
     "metadata": {},
     "output_type": "display_data"
    },
    {
     "data": {
      "application/vnd.jupyter.widget-view+json": {
       "model_id": "7a8792b3918e46418801b3c5d4727e2b",
       "version_major": 2,
       "version_minor": 0
      },
      "text/plain": [
       "Generating movie:   0%|          | 0/144 [00:00<?, ?it/s]"
      ]
     },
     "metadata": {},
     "output_type": "display_data"
    },
    {
     "name": "stdout",
     "output_type": "stream",
     "text": [
      "gamma=gamma(default)*0.500=1.200E+00 -> output_filename='2025-10-31_caustique-transition/caustique_gamma_modul_0.500_c72f83d4.mp4'\n"
     ]
    },
    {
     "data": {
      "application/vnd.jupyter.widget-view+json": {
       "model_id": "8fd25789a8fe458cb92f036dfbc7dea2",
       "version_major": 2,
       "version_minor": 0
      },
      "text/plain": [
       "Scanning time:   0%|          | 0/144 [00:00<?, ?it/s]"
      ]
     },
     "metadata": {},
     "output_type": "display_data"
    },
    {
     "data": {
      "application/vnd.jupyter.widget-view+json": {
       "model_id": "8157cdbafed64328a1e025ed8f901cb8",
       "version_major": 2,
       "version_minor": 0
      },
      "text/plain": [
       "Generating movie:   0%|          | 0/144 [00:00<?, ?it/s]"
      ]
     },
     "metadata": {},
     "output_type": "display_data"
    },
    {
     "name": "stdout",
     "output_type": "stream",
     "text": [
      "gamma=gamma(default)*0.707=1.697E+00 -> output_filename='2025-10-31_caustique-transition/caustique_gamma_modul_0.707_57c86260.mp4'\n"
     ]
    },
    {
     "data": {
      "application/vnd.jupyter.widget-view+json": {
       "model_id": "309a318afbe34db3a52b6ad6d6200cf7",
       "version_major": 2,
       "version_minor": 0
      },
      "text/plain": [
       "Scanning time:   0%|          | 0/144 [00:00<?, ?it/s]"
      ]
     },
     "metadata": {},
     "output_type": "display_data"
    },
    {
     "data": {
      "application/vnd.jupyter.widget-view+json": {
       "model_id": "4072c1f1a32b401c9e8a0b5b699e6bc0",
       "version_major": 2,
       "version_minor": 0
      },
      "text/plain": [
       "Generating movie:   0%|          | 0/144 [00:00<?, ?it/s]"
      ]
     },
     "metadata": {},
     "output_type": "display_data"
    },
    {
     "name": "stdout",
     "output_type": "stream",
     "text": [
      "gamma=gamma(default)*1.000=2.400E+00 -> output_filename='2025-10-31_caustique-transition/caustique_gamma_modul_1.000_9be62103.mp4'\n"
     ]
    },
    {
     "data": {
      "application/vnd.jupyter.widget-view+json": {
       "model_id": "254f36e4002d4af2b3eecc2eccbbfce5",
       "version_major": 2,
       "version_minor": 0
      },
      "text/plain": [
       "Scanning time:   0%|          | 0/144 [00:00<?, ?it/s]"
      ]
     },
     "metadata": {},
     "output_type": "display_data"
    },
    {
     "data": {
      "application/vnd.jupyter.widget-view+json": {
       "model_id": "a60c8e77327048d4bf7691de1d17cccc",
       "version_major": 2,
       "version_minor": 0
      },
      "text/plain": [
       "Generating movie:   0%|          | 0/144 [00:00<?, ?it/s]"
      ]
     },
     "metadata": {},
     "output_type": "display_data"
    },
    {
     "name": "stdout",
     "output_type": "stream",
     "text": [
      "gamma=gamma(default)*1.414=3.394E+00 -> output_filename='2025-10-31_caustique-transition/caustique_gamma_modul_1.414_1d09ea42.mp4'\n"
     ]
    },
    {
     "data": {
      "application/vnd.jupyter.widget-view+json": {
       "model_id": "4f1bb835f3ae4209a1de62e82af8967a",
       "version_major": 2,
       "version_minor": 0
      },
      "text/plain": [
       "Scanning time:   0%|          | 0/144 [00:00<?, ?it/s]"
      ]
     },
     "metadata": {},
     "output_type": "display_data"
    },
    {
     "data": {
      "application/vnd.jupyter.widget-view+json": {
       "model_id": "694abb75fe2643bcbe57f208ad72dca9",
       "version_major": 2,
       "version_minor": 0
      },
      "text/plain": [
       "Generating movie:   0%|          | 0/144 [00:00<?, ?it/s]"
      ]
     },
     "metadata": {},
     "output_type": "display_data"
    },
    {
     "name": "stdout",
     "output_type": "stream",
     "text": [
      "gamma=gamma(default)*2.000=4.800E+00 -> output_filename='2025-10-31_caustique-transition/caustique_gamma_modul_2.000_d67eb7f7.mp4'\n"
     ]
    }
   ],
   "source": [
    "# for variable in ['gamma', 'min_lum', 'sigma']: \n",
    "for variable in ['gamma']: \n",
    "    print(f'======{variable}======')\n",
    "    for modul in np.logspace(-1, 1, N_scan, base=base):\n",
    "        c = Caustique(init(tag=f'{opt.tag}_{variable}_modul_{modul:.3f}'))\n",
    "        c.d[variable] *= modul\n",
    "        \n",
    "        output_filename = c.plot(z, image_aperture)\n",
    "        print(f'{variable}={variable}(default)*{modul:.3f}={c.d[variable]:.3E} -> {output_filename=}')\n",
    "        if opt.do_display: c.show(output_filename)"
   ]
  },
  {
   "cell_type": "markdown",
   "metadata": {},
   "source": [
    "\n",
    "## paramètres de l'ouverture\n"
   ]
  },
  {
   "cell_type": "code",
   "execution_count": 29,
   "metadata": {
    "execution": {
     "iopub.execute_input": "2024-10-16T10:39:19.059775Z",
     "iopub.status.busy": "2024-10-16T10:39:19.059592Z",
     "iopub.status.idle": "2024-10-16T10:43:57.657865Z",
     "shell.execute_reply": "2024-10-16T10:43:57.655454Z"
    }
   },
   "outputs": [
    {
     "data": {
      "application/vnd.jupyter.widget-view+json": {
       "model_id": "8584213510e8417fb4d8c2253df29cb4",
       "version_major": 2,
       "version_minor": 0
      },
      "text/plain": [
       "Scanning time:   0%|          | 0/144 [00:00<?, ?it/s]"
      ]
     },
     "metadata": {},
     "output_type": "display_data"
    },
    {
     "data": {
      "application/vnd.jupyter.widget-view+json": {
       "model_id": "855e40a9a60f4dea9c05261bf1848646",
       "version_major": 2,
       "version_minor": 0
      },
      "text/plain": [
       "Generating movie:   0%|          | 0/144 [00:00<?, ?it/s]"
      ]
     },
     "metadata": {},
     "output_type": "display_data"
    },
    {
     "name": "stdout",
     "output_type": "stream",
     "text": [
      "radius_in=0.000 -> output_filename='2025-10-31_caustique-transition/caustique_image_radius_in=0.000_bed4a249.mp4' \n"
     ]
    },
    {
     "data": {
      "application/vnd.jupyter.widget-view+json": {
       "model_id": "624220478b9648b1adde9093e550b858",
       "version_major": 2,
       "version_minor": 0
      },
      "text/plain": [
       "Scanning time:   0%|          | 0/144 [00:00<?, ?it/s]"
      ]
     },
     "metadata": {},
     "output_type": "display_data"
    },
    {
     "data": {
      "application/vnd.jupyter.widget-view+json": {
       "model_id": "d8902ad714e74d4a902ef495a565fb7b",
       "version_major": 2,
       "version_minor": 0
      },
      "text/plain": [
       "Generating movie:   0%|          | 0/144 [00:00<?, ?it/s]"
      ]
     },
     "metadata": {},
     "output_type": "display_data"
    },
    {
     "name": "stdout",
     "output_type": "stream",
     "text": [
      "radius_in=0.120 -> output_filename='2025-10-31_caustique-transition/caustique_image_radius_in=0.120_dcb463f4.mp4' \n"
     ]
    },
    {
     "data": {
      "application/vnd.jupyter.widget-view+json": {
       "model_id": "1acbe821963a4e638815251f865bebb8",
       "version_major": 2,
       "version_minor": 0
      },
      "text/plain": [
       "Scanning time:   0%|          | 0/144 [00:00<?, ?it/s]"
      ]
     },
     "metadata": {},
     "output_type": "display_data"
    },
    {
     "data": {
      "application/vnd.jupyter.widget-view+json": {
       "model_id": "a562b387fb6a4a47ab51d576731ba5da",
       "version_major": 2,
       "version_minor": 0
      },
      "text/plain": [
       "Generating movie:   0%|          | 0/144 [00:00<?, ?it/s]"
      ]
     },
     "metadata": {},
     "output_type": "display_data"
    },
    {
     "name": "stdout",
     "output_type": "stream",
     "text": [
      "radius_in=0.240 -> output_filename='2025-10-31_caustique-transition/caustique_image_radius_in=0.240_03d21a6c.mp4' \n"
     ]
    },
    {
     "data": {
      "application/vnd.jupyter.widget-view+json": {
       "model_id": "a0d1bd02da8e4128bd37141077c1dc28",
       "version_major": 2,
       "version_minor": 0
      },
      "text/plain": [
       "Scanning time:   0%|          | 0/144 [00:00<?, ?it/s]"
      ]
     },
     "metadata": {},
     "output_type": "display_data"
    },
    {
     "data": {
      "application/vnd.jupyter.widget-view+json": {
       "model_id": "2b3c339679ea48cb84e9bd146cc184ee",
       "version_major": 2,
       "version_minor": 0
      },
      "text/plain": [
       "Generating movie:   0%|          | 0/144 [00:00<?, ?it/s]"
      ]
     },
     "metadata": {},
     "output_type": "display_data"
    },
    {
     "name": "stdout",
     "output_type": "stream",
     "text": [
      "radius_in=0.360 -> output_filename='2025-10-31_caustique-transition/caustique_image_radius_in=0.360_5c662590.mp4' \n"
     ]
    },
    {
     "data": {
      "application/vnd.jupyter.widget-view+json": {
       "model_id": "e3aaac3e261c460ca5d036311b13c591",
       "version_major": 2,
       "version_minor": 0
      },
      "text/plain": [
       "Scanning time:   0%|          | 0/144 [00:00<?, ?it/s]"
      ]
     },
     "metadata": {},
     "output_type": "display_data"
    },
    {
     "data": {
      "application/vnd.jupyter.widget-view+json": {
       "model_id": "07a52694bc8e43cfaa469c849a327d3f",
       "version_major": 2,
       "version_minor": 0
      },
      "text/plain": [
       "Generating movie:   0%|          | 0/144 [00:00<?, ?it/s]"
      ]
     },
     "metadata": {},
     "output_type": "display_data"
    },
    {
     "name": "stdout",
     "output_type": "stream",
     "text": [
      "radius_in=0.480 -> output_filename='2025-10-31_caustique-transition/caustique_image_radius_in=0.480_f580558e.mp4' \n"
     ]
    }
   ],
   "source": [
    "for radius_in in np.linspace(0, opt.radius_out, N_scan+1)[:-1]:\n",
    "    c = Caustique(init(tag=f'{opt.tag}_image_{radius_in=:.3f}'))\n",
    "\n",
    "    output_filename = c.plot(z, generate_image(nx=opt.nx, ny=opt.ny, radius_in=radius_in, radius_out=opt.radius_out))\n",
    "    print(f'{radius_in=:.3f} -> {output_filename=} ')\n",
    "    if opt.do_display: c.show(output_filename)"
   ]
  },
  {
   "cell_type": "code",
   "execution_count": 30,
   "metadata": {},
   "outputs": [
    {
     "data": {
      "application/vnd.jupyter.widget-view+json": {
       "model_id": "26ceeee56e8f4dc89e9c1125f1059b08",
       "version_major": 2,
       "version_minor": 0
      },
      "text/plain": [
       "Scanning time:   0%|          | 0/144 [00:00<?, ?it/s]"
      ]
     },
     "metadata": {},
     "output_type": "display_data"
    },
    {
     "data": {
      "application/vnd.jupyter.widget-view+json": {
       "model_id": "d5971e223030498ca73e5b3a977166d9",
       "version_major": 2,
       "version_minor": 0
      },
      "text/plain": [
       "Generating movie:   0%|          | 0/144 [00:00<?, ?it/s]"
      ]
     },
     "metadata": {},
     "output_type": "display_data"
    },
    {
     "name": "stdout",
     "output_type": "stream",
     "text": [
      "radius_out=0.320 -> output_filename='2025-10-31_caustique-transition/caustique_image_radius_out=0.320_1015bddf.mp4' \n"
     ]
    },
    {
     "data": {
      "application/vnd.jupyter.widget-view+json": {
       "model_id": "507dda2ceaa44c96b7ad8648d6d91189",
       "version_major": 2,
       "version_minor": 0
      },
      "text/plain": [
       "Scanning time:   0%|          | 0/144 [00:00<?, ?it/s]"
      ]
     },
     "metadata": {},
     "output_type": "display_data"
    },
    {
     "data": {
      "application/vnd.jupyter.widget-view+json": {
       "model_id": "120a552e0eb34ccc9f71c087133235e4",
       "version_major": 2,
       "version_minor": 0
      },
      "text/plain": [
       "Generating movie:   0%|          | 0/144 [00:00<?, ?it/s]"
      ]
     },
     "metadata": {},
     "output_type": "display_data"
    },
    {
     "name": "stdout",
     "output_type": "stream",
     "text": [
      "radius_out=0.490 -> output_filename='2025-10-31_caustique-transition/caustique_image_radius_out=0.490_87af3c3c.mp4' \n"
     ]
    },
    {
     "data": {
      "application/vnd.jupyter.widget-view+json": {
       "model_id": "b9c31402b8394040b14831ebeb7487cb",
       "version_major": 2,
       "version_minor": 0
      },
      "text/plain": [
       "Scanning time:   0%|          | 0/144 [00:00<?, ?it/s]"
      ]
     },
     "metadata": {},
     "output_type": "display_data"
    },
    {
     "data": {
      "application/vnd.jupyter.widget-view+json": {
       "model_id": "30630210d0274b6ca5019f7276eb8c21",
       "version_major": 2,
       "version_minor": 0
      },
      "text/plain": [
       "Generating movie:   0%|          | 0/144 [00:00<?, ?it/s]"
      ]
     },
     "metadata": {},
     "output_type": "display_data"
    },
    {
     "name": "stdout",
     "output_type": "stream",
     "text": [
      "radius_out=0.660 -> output_filename='2025-10-31_caustique-transition/caustique_image_radius_out=0.660_5562bb3e.mp4' \n"
     ]
    },
    {
     "data": {
      "application/vnd.jupyter.widget-view+json": {
       "model_id": "3f7d387cc067476489ac9cc6a770f9a3",
       "version_major": 2,
       "version_minor": 0
      },
      "text/plain": [
       "Scanning time:   0%|          | 0/144 [00:00<?, ?it/s]"
      ]
     },
     "metadata": {},
     "output_type": "display_data"
    },
    {
     "data": {
      "application/vnd.jupyter.widget-view+json": {
       "model_id": "1d1e0e22c92c40279a80984f5efb955e",
       "version_major": 2,
       "version_minor": 0
      },
      "text/plain": [
       "Generating movie:   0%|          | 0/144 [00:00<?, ?it/s]"
      ]
     },
     "metadata": {},
     "output_type": "display_data"
    },
    {
     "name": "stdout",
     "output_type": "stream",
     "text": [
      "radius_out=0.830 -> output_filename='2025-10-31_caustique-transition/caustique_image_radius_out=0.830_16774b1d.mp4' \n"
     ]
    },
    {
     "data": {
      "application/vnd.jupyter.widget-view+json": {
       "model_id": "49af2d861d08418f99daf474b032b573",
       "version_major": 2,
       "version_minor": 0
      },
      "text/plain": [
       "Scanning time:   0%|          | 0/144 [00:00<?, ?it/s]"
      ]
     },
     "metadata": {},
     "output_type": "display_data"
    },
    {
     "data": {
      "application/vnd.jupyter.widget-view+json": {
       "model_id": "c3e86d133e8e4103956a74feba16a269",
       "version_major": 2,
       "version_minor": 0
      },
      "text/plain": [
       "Generating movie:   0%|          | 0/144 [00:00<?, ?it/s]"
      ]
     },
     "metadata": {},
     "output_type": "display_data"
    },
    {
     "name": "stdout",
     "output_type": "stream",
     "text": [
      "radius_out=1.000 -> output_filename='2025-10-31_caustique-transition/caustique_image_radius_out=1.000_7664ed83.mp4' \n"
     ]
    }
   ],
   "source": [
    "for radius_out in np.linspace(opt.radius_in, 1, N_scan+1)[1:]:\n",
    "    c = Caustique(init(tag=f'{opt.tag}_image_{radius_out=:.3f}'))\n",
    "\n",
    "    output_filename = c.plot(z, generate_image(nx=opt.nx, ny=opt.ny, radius_in=opt.radius_in, radius_out=radius_out))\n",
    "    print(f'{radius_out=:.3f} -> {output_filename=} ')\n",
    "    if opt.do_display: c.show(output_filename)"
   ]
  },
  {
   "cell_type": "markdown",
   "metadata": {
    "tags": []
   },
   "source": [
    "## autres instances de l'onde\n"
   ]
  },
  {
   "cell_type": "code",
   "execution_count": 31,
   "metadata": {
    "execution": {
     "iopub.execute_input": "2024-10-16T09:43:39.371388Z",
     "iopub.status.busy": "2024-10-16T09:43:39.371265Z",
     "iopub.status.idle": "2024-10-16T09:43:59.766666Z",
     "shell.execute_reply": "2024-10-16T09:43:59.765977Z"
    }
   },
   "outputs": [
    {
     "data": {
      "application/vnd.jupyter.widget-view+json": {
       "model_id": "002b7b844c7641d5bf1446b1aa21d399",
       "version_major": 2,
       "version_minor": 0
      },
      "text/plain": [
       "Scanning time:   0%|          | 0/144 [00:00<?, ?it/s]"
      ]
     },
     "metadata": {},
     "output_type": "display_data"
    },
    {
     "data": {
      "application/vnd.jupyter.widget-view+json": {
       "model_id": "95a9873d06844857b05d2c578c32013d",
       "version_major": 2,
       "version_minor": 0
      },
      "text/plain": [
       "Generating movie:   0%|          | 0/144 [00:00<?, ?it/s]"
      ]
     },
     "metadata": {},
     "output_type": "display_data"
    },
    {
     "name": "stdout",
     "output_type": "stream",
     "text": [
      "seed=2025 -> output_filename='2025-10-31_caustique-transition/caustique_seed_2025_f4bea520.mp4'\n",
      "seed=2026 -> output_filename='2025-10-31_caustique-transition/caustique_seed_2025_f4bea520.mp4'\n"
     ]
    },
    {
     "data": {
      "application/vnd.jupyter.widget-view+json": {
       "model_id": "efdcd62c3a8b4d4b9bb8e837245b54d9",
       "version_major": 2,
       "version_minor": 0
      },
      "text/plain": [
       "Scanning time:   0%|          | 0/144 [00:00<?, ?it/s]"
      ]
     },
     "metadata": {},
     "output_type": "display_data"
    },
    {
     "data": {
      "application/vnd.jupyter.widget-view+json": {
       "model_id": "b3b65637d3e74d6eb45fa5c797e2372f",
       "version_major": 2,
       "version_minor": 0
      },
      "text/plain": [
       "Generating movie:   0%|          | 0/144 [00:00<?, ?it/s]"
      ]
     },
     "metadata": {},
     "output_type": "display_data"
    },
    {
     "name": "stdout",
     "output_type": "stream",
     "text": [
      "seed=2027 -> output_filename='2025-10-31_caustique-transition/caustique_seed_2026_cdd7071f.mp4'\n"
     ]
    },
    {
     "data": {
      "application/vnd.jupyter.widget-view+json": {
       "model_id": "c8908033c86d4f689adca77f6922f5a5",
       "version_major": 2,
       "version_minor": 0
      },
      "text/plain": [
       "Scanning time:   0%|          | 0/144 [00:00<?, ?it/s]"
      ]
     },
     "metadata": {},
     "output_type": "display_data"
    },
    {
     "data": {
      "application/vnd.jupyter.widget-view+json": {
       "model_id": "4f540124216b436a81717420152256b5",
       "version_major": 2,
       "version_minor": 0
      },
      "text/plain": [
       "Generating movie:   0%|          | 0/144 [00:00<?, ?it/s]"
      ]
     },
     "metadata": {},
     "output_type": "display_data"
    },
    {
     "name": "stdout",
     "output_type": "stream",
     "text": [
      "seed=2028 -> output_filename='2025-10-31_caustique-transition/caustique_seed_2027_eb3039e7.mp4'\n"
     ]
    },
    {
     "data": {
      "application/vnd.jupyter.widget-view+json": {
       "model_id": "08d0acc35fd54c0094c66dca9c0b8435",
       "version_major": 2,
       "version_minor": 0
      },
      "text/plain": [
       "Scanning time:   0%|          | 0/144 [00:00<?, ?it/s]"
      ]
     },
     "metadata": {},
     "output_type": "display_data"
    },
    {
     "data": {
      "application/vnd.jupyter.widget-view+json": {
       "model_id": "31118b43a66040d7b6056dec7c94e3b7",
       "version_major": 2,
       "version_minor": 0
      },
      "text/plain": [
       "Generating movie:   0%|          | 0/144 [00:00<?, ?it/s]"
      ]
     },
     "metadata": {},
     "output_type": "display_data"
    },
    {
     "name": "stdout",
     "output_type": "stream",
     "text": [
      "seed=2029 -> output_filename='2025-10-31_caustique-transition/caustique_seed_2028_5636cad6.mp4'\n"
     ]
    }
   ],
   "source": [
    "for seed_increment in range(N_scan):\n",
    "    c = Caustique(init(tag=f'{opt.tag}_seed_{c.d['seed']}'))\n",
    "    c.d['seed'] = c.d['seed'] + seed_increment\n",
    "    output_filename = c.get_filename()\n",
    "    if not(os.path.isfile(output_filename)):\n",
    "        output_filename = c.plot(c.wave(do_cache=False), image_aperture)\n",
    "    print(f'seed={c.d['seed']} -> {output_filename=}')\n",
    "    if opt.do_display: c.show(output_filename)"
   ]
  },
  {
   "cell_type": "markdown",
   "metadata": {},
   "source": [
    "## autres variables sur l'onde\n"
   ]
  },
  {
   "cell_type": "code",
   "execution_count": 32,
   "metadata": {},
   "outputs": [
    {
     "name": "stdout",
     "output_type": "stream",
     "text": [
      "======theta======\n",
      "(512, 512, 144) 0.13127123597388374 0.5 1.0\n"
     ]
    },
    {
     "data": {
      "application/vnd.jupyter.widget-view+json": {
       "model_id": "3ca583eb871149f0b5b4c8f40d33eea7",
       "version_major": 2,
       "version_minor": 0
      },
      "text/plain": [
       "Scanning time:   0%|          | 0/144 [00:00<?, ?it/s]"
      ]
     },
     "metadata": {},
     "output_type": "display_data"
    },
    {
     "data": {
      "application/vnd.jupyter.widget-view+json": {
       "model_id": "2d12bfbc49234ea892d63053c2b3f934",
       "version_major": 2,
       "version_minor": 0
      },
      "text/plain": [
       "Generating movie:   0%|          | 0/144 [00:00<?, ?it/s]"
      ]
     },
     "metadata": {},
     "output_type": "display_data"
    },
    {
     "name": "stdout",
     "output_type": "stream",
     "text": [
      "(512, 512, 144) 0.13127123597388374 0.5 1.0\n",
      "theta=theta(default)*0.500=7.854E-01 -> output_filename='2025-10-31_caustique-transition/caustique_theta_modul_0.500_a122c101.mp4'\n",
      "(512, 512, 144) 0.15252686157701556 0.4999999999999997 1.0\n"
     ]
    },
    {
     "data": {
      "application/vnd.jupyter.widget-view+json": {
       "model_id": "6717eb30f40f4b40a216a2a294274959",
       "version_major": 2,
       "version_minor": 0
      },
      "text/plain": [
       "Scanning time:   0%|          | 0/144 [00:00<?, ?it/s]"
      ]
     },
     "metadata": {},
     "output_type": "display_data"
    },
    {
     "data": {
      "application/vnd.jupyter.widget-view+json": {
       "model_id": "559c6aaade5441f4bbb5c69f89fa8cf3",
       "version_major": 2,
       "version_minor": 0
      },
      "text/plain": [
       "Generating movie:   0%|          | 0/144 [00:00<?, ?it/s]"
      ]
     },
     "metadata": {},
     "output_type": "display_data"
    },
    {
     "name": "stdout",
     "output_type": "stream",
     "text": [
      "(512, 512, 144) 0.15252686157701556 0.4999999999999997 1.0\n",
      "theta=theta(default)*0.707=1.111E+00 -> output_filename='2025-10-31_caustique-transition/caustique_theta_modul_0.707_aa42fc7d.mp4'\n",
      "(512, 512, 144) 0.1425898863204898 0.4999999999999991 1.0\n"
     ]
    },
    {
     "data": {
      "application/vnd.jupyter.widget-view+json": {
       "model_id": "177bd7a298634e409d36c2e50118c7f8",
       "version_major": 2,
       "version_minor": 0
      },
      "text/plain": [
       "Scanning time:   0%|          | 0/144 [00:00<?, ?it/s]"
      ]
     },
     "metadata": {},
     "output_type": "display_data"
    },
    {
     "data": {
      "application/vnd.jupyter.widget-view+json": {
       "model_id": "ee99de30c89f46339a6da944ea09e0e8",
       "version_major": 2,
       "version_minor": 0
      },
      "text/plain": [
       "Generating movie:   0%|          | 0/144 [00:00<?, ?it/s]"
      ]
     },
     "metadata": {},
     "output_type": "display_data"
    },
    {
     "name": "stdout",
     "output_type": "stream",
     "text": [
      "(512, 512, 144) 0.1425898863204898 0.4999999999999991 1.0\n",
      "theta=theta(default)*1.000=1.571E+00 -> output_filename='2025-10-31_caustique-transition/caustique_theta_modul_1.000_83c49410.mp4'\n",
      "(512, 512, 144) 0.10970453092431026 0.4999999999999996 1.0\n"
     ]
    },
    {
     "data": {
      "application/vnd.jupyter.widget-view+json": {
       "model_id": "0ffc39c4e7b546e8954e49850cdf7295",
       "version_major": 2,
       "version_minor": 0
      },
      "text/plain": [
       "Scanning time:   0%|          | 0/144 [00:00<?, ?it/s]"
      ]
     },
     "metadata": {},
     "output_type": "display_data"
    },
    {
     "data": {
      "application/vnd.jupyter.widget-view+json": {
       "model_id": "40afade170fc436cbfed4c5678ed6c2a",
       "version_major": 2,
       "version_minor": 0
      },
      "text/plain": [
       "Generating movie:   0%|          | 0/144 [00:00<?, ?it/s]"
      ]
     },
     "metadata": {},
     "output_type": "display_data"
    },
    {
     "name": "stdout",
     "output_type": "stream",
     "text": [
      "(512, 512, 144) 0.10970453092431026 0.4999999999999996 1.0\n",
      "theta=theta(default)*1.414=2.221E+00 -> output_filename='2025-10-31_caustique-transition/caustique_theta_modul_1.414_e9c66f17.mp4'\n",
      "(512, 512, 144) 0.08612566422066265 0.5000000000000018 1.0\n"
     ]
    },
    {
     "data": {
      "application/vnd.jupyter.widget-view+json": {
       "model_id": "52891cbe51184d79a12c1c7ae512ce48",
       "version_major": 2,
       "version_minor": 0
      },
      "text/plain": [
       "Scanning time:   0%|          | 0/144 [00:00<?, ?it/s]"
      ]
     },
     "metadata": {},
     "output_type": "display_data"
    },
    {
     "data": {
      "application/vnd.jupyter.widget-view+json": {
       "model_id": "e845ccd9398b4fe1a78b8c1c1a90c31f",
       "version_major": 2,
       "version_minor": 0
      },
      "text/plain": [
       "Generating movie:   0%|          | 0/144 [00:00<?, ?it/s]"
      ]
     },
     "metadata": {},
     "output_type": "display_data"
    },
    {
     "name": "stdout",
     "output_type": "stream",
     "text": [
      "(512, 512, 144) 0.08612566422066265 0.5000000000000018 1.0\n",
      "theta=theta(default)*2.000=3.142E+00 -> output_filename='2025-10-31_caustique-transition/caustique_theta_modul_2.000_d6db5c39.mp4'\n",
      "======B_theta======\n",
      "(512, 512, 144) 0.0 0.5000000000000004 0.9852778756739493\n"
     ]
    },
    {
     "data": {
      "application/vnd.jupyter.widget-view+json": {
       "model_id": "8961d1ce59724ac9af2992b3309faa84",
       "version_major": 2,
       "version_minor": 0
      },
      "text/plain": [
       "Scanning time:   0%|          | 0/144 [00:00<?, ?it/s]"
      ]
     },
     "metadata": {},
     "output_type": "display_data"
    },
    {
     "data": {
      "application/vnd.jupyter.widget-view+json": {
       "model_id": "5173ab819cd44f5fbe27b8fca80319bb",
       "version_major": 2,
       "version_minor": 0
      },
      "text/plain": [
       "Generating movie:   0%|          | 0/144 [00:00<?, ?it/s]"
      ]
     },
     "metadata": {},
     "output_type": "display_data"
    },
    {
     "name": "stdout",
     "output_type": "stream",
     "text": [
      "(512, 512, 144) 0.0 0.5000000000000004 0.9852778756739493\n",
      "B_theta=B_theta(default)*0.500=3.927E-01 -> output_filename='2025-10-31_caustique-transition/caustique_B_theta_modul_0.500_611dad74.mp4'\n",
      "(512, 512, 144) 0.1481077876821143 0.4999999999999998 1.0\n"
     ]
    },
    {
     "data": {
      "application/vnd.jupyter.widget-view+json": {
       "model_id": "2dcda8f96c794aaba1ed24084c917619",
       "version_major": 2,
       "version_minor": 0
      },
      "text/plain": [
       "Scanning time:   0%|          | 0/144 [00:00<?, ?it/s]"
      ]
     },
     "metadata": {},
     "output_type": "display_data"
    },
    {
     "data": {
      "application/vnd.jupyter.widget-view+json": {
       "model_id": "d99c709b54394e5cbdb29fac7e8e3a69",
       "version_major": 2,
       "version_minor": 0
      },
      "text/plain": [
       "Generating movie:   0%|          | 0/144 [00:00<?, ?it/s]"
      ]
     },
     "metadata": {},
     "output_type": "display_data"
    },
    {
     "name": "stdout",
     "output_type": "stream",
     "text": [
      "(512, 512, 144) 0.1481077876821143 0.4999999999999998 1.0\n",
      "B_theta=B_theta(default)*0.707=5.554E-01 -> output_filename='2025-10-31_caustique-transition/caustique_B_theta_modul_0.707_0d7bcab3.mp4'\n",
      "(512, 512, 144) 0.1425898863204898 0.4999999999999991 1.0\n"
     ]
    },
    {
     "data": {
      "application/vnd.jupyter.widget-view+json": {
       "model_id": "449b0d8b3c6144aab60bd6cacff7c369",
       "version_major": 2,
       "version_minor": 0
      },
      "text/plain": [
       "Scanning time:   0%|          | 0/144 [00:00<?, ?it/s]"
      ]
     },
     "metadata": {},
     "output_type": "display_data"
    },
    {
     "data": {
      "application/vnd.jupyter.widget-view+json": {
       "model_id": "06a2aeef8139436a85119e7e6560bb1f",
       "version_major": 2,
       "version_minor": 0
      },
      "text/plain": [
       "Generating movie:   0%|          | 0/144 [00:00<?, ?it/s]"
      ]
     },
     "metadata": {},
     "output_type": "display_data"
    },
    {
     "name": "stdout",
     "output_type": "stream",
     "text": [
      "(512, 512, 144) 0.1425898863204898 0.4999999999999991 1.0\n",
      "B_theta=B_theta(default)*1.000=7.854E-01 -> output_filename='2025-10-31_caustique-transition/caustique_B_theta_modul_1.000_f1fd83d6.mp4'\n",
      "(512, 512, 144) 0.1330712159488115 0.5 1.0\n"
     ]
    },
    {
     "data": {
      "application/vnd.jupyter.widget-view+json": {
       "model_id": "a4f676c82bf14cbfb9ea87a040c56fb4",
       "version_major": 2,
       "version_minor": 0
      },
      "text/plain": [
       "Scanning time:   0%|          | 0/144 [00:00<?, ?it/s]"
      ]
     },
     "metadata": {},
     "output_type": "display_data"
    },
    {
     "data": {
      "application/vnd.jupyter.widget-view+json": {
       "model_id": "0eab1d2d8079423fb87eda44e25ad853",
       "version_major": 2,
       "version_minor": 0
      },
      "text/plain": [
       "Generating movie:   0%|          | 0/144 [00:00<?, ?it/s]"
      ]
     },
     "metadata": {},
     "output_type": "display_data"
    },
    {
     "name": "stdout",
     "output_type": "stream",
     "text": [
      "(512, 512, 144) 0.1330712159488115 0.5 1.0\n",
      "B_theta=B_theta(default)*1.414=1.111E+00 -> output_filename='2025-10-31_caustique-transition/caustique_B_theta_modul_1.414_7cb4df3d.mp4'\n",
      "(512, 512, 144) 0.12740197527582292 0.5 1.0\n"
     ]
    },
    {
     "data": {
      "application/vnd.jupyter.widget-view+json": {
       "model_id": "d61bc92298994802bbff1058b957cecf",
       "version_major": 2,
       "version_minor": 0
      },
      "text/plain": [
       "Scanning time:   0%|          | 0/144 [00:00<?, ?it/s]"
      ]
     },
     "metadata": {},
     "output_type": "display_data"
    },
    {
     "data": {
      "application/vnd.jupyter.widget-view+json": {
       "model_id": "8f8dfcc4c2cf4aaaa4d6b6e67edc0730",
       "version_major": 2,
       "version_minor": 0
      },
      "text/plain": [
       "Generating movie:   0%|          | 0/144 [00:00<?, ?it/s]"
      ]
     },
     "metadata": {},
     "output_type": "display_data"
    },
    {
     "name": "stdout",
     "output_type": "stream",
     "text": [
      "(512, 512, 144) 0.12740197527582292 0.5 1.0\n",
      "B_theta=B_theta(default)*2.000=1.571E+00 -> output_filename='2025-10-31_caustique-transition/caustique_B_theta_modul_2.000_b9c23251.mp4'\n",
      "======sf_0======\n",
      "(512, 512, 144) 0.15832915025067645 0.49999999999999845 1.0\n"
     ]
    },
    {
     "data": {
      "application/vnd.jupyter.widget-view+json": {
       "model_id": "246f14142f8f4f1088ab92968930e5f5",
       "version_major": 2,
       "version_minor": 0
      },
      "text/plain": [
       "Scanning time:   0%|          | 0/144 [00:00<?, ?it/s]"
      ]
     },
     "metadata": {},
     "output_type": "display_data"
    },
    {
     "data": {
      "application/vnd.jupyter.widget-view+json": {
       "model_id": "c38e894b26cc453ea1278d87b4e28543",
       "version_major": 2,
       "version_minor": 0
      },
      "text/plain": [
       "Generating movie:   0%|          | 0/144 [00:00<?, ?it/s]"
      ]
     },
     "metadata": {},
     "output_type": "display_data"
    },
    {
     "name": "stdout",
     "output_type": "stream",
     "text": [
      "(512, 512, 144) 0.15832915025067645 0.49999999999999845 1.0\n",
      "sf_0=sf_0(default)*0.500=2.441E-03 -> output_filename='2025-10-31_caustique-transition/caustique_sf_0_modul_0.500_02d56cf3.mp4'\n",
      "(512, 512, 144) 0.1693966148972439 0.5000000000000002 1.0\n"
     ]
    },
    {
     "data": {
      "application/vnd.jupyter.widget-view+json": {
       "model_id": "4af3e555f1c742ae92fa4bd92089aec1",
       "version_major": 2,
       "version_minor": 0
      },
      "text/plain": [
       "Scanning time:   0%|          | 0/144 [00:00<?, ?it/s]"
      ]
     },
     "metadata": {},
     "output_type": "display_data"
    },
    {
     "data": {
      "application/vnd.jupyter.widget-view+json": {
       "model_id": "9684fd75a90b4bb89e802ee8140cf302",
       "version_major": 2,
       "version_minor": 0
      },
      "text/plain": [
       "Generating movie:   0%|          | 0/144 [00:00<?, ?it/s]"
      ]
     },
     "metadata": {},
     "output_type": "display_data"
    },
    {
     "name": "stdout",
     "output_type": "stream",
     "text": [
      "(512, 512, 144) 0.1693966148972439 0.5000000000000002 1.0\n",
      "sf_0=sf_0(default)*0.707=3.453E-03 -> output_filename='2025-10-31_caustique-transition/caustique_sf_0_modul_0.707_27f275d5.mp4'\n",
      "(512, 512, 144) 0.1425898863204898 0.4999999999999991 1.0\n"
     ]
    },
    {
     "data": {
      "application/vnd.jupyter.widget-view+json": {
       "model_id": "ad550eb30069459ebd687390e2603e25",
       "version_major": 2,
       "version_minor": 0
      },
      "text/plain": [
       "Scanning time:   0%|          | 0/144 [00:00<?, ?it/s]"
      ]
     },
     "metadata": {},
     "output_type": "display_data"
    },
    {
     "data": {
      "application/vnd.jupyter.widget-view+json": {
       "model_id": "247d900d48e44a06b8338b297aa99c68",
       "version_major": 2,
       "version_minor": 0
      },
      "text/plain": [
       "Generating movie:   0%|          | 0/144 [00:00<?, ?it/s]"
      ]
     },
     "metadata": {},
     "output_type": "display_data"
    },
    {
     "name": "stdout",
     "output_type": "stream",
     "text": [
      "(512, 512, 144) 0.1425898863204898 0.4999999999999991 1.0\n",
      "sf_0=sf_0(default)*1.000=4.883E-03 -> output_filename='2025-10-31_caustique-transition/caustique_sf_0_modul_1.000_771f4e97.mp4'\n",
      "(512, 512, 144) 0.10158065155497026 0.499999999999998 1.0\n"
     ]
    },
    {
     "data": {
      "application/vnd.jupyter.widget-view+json": {
       "model_id": "5966cd8ec84b46d7a55a51e07cfea15f",
       "version_major": 2,
       "version_minor": 0
      },
      "text/plain": [
       "Scanning time:   0%|          | 0/144 [00:00<?, ?it/s]"
      ]
     },
     "metadata": {},
     "output_type": "display_data"
    },
    {
     "data": {
      "application/vnd.jupyter.widget-view+json": {
       "model_id": "5241a05144664151874b709601d75e96",
       "version_major": 2,
       "version_minor": 0
      },
      "text/plain": [
       "Generating movie:   0%|          | 0/144 [00:00<?, ?it/s]"
      ]
     },
     "metadata": {},
     "output_type": "display_data"
    },
    {
     "name": "stdout",
     "output_type": "stream",
     "text": [
      "(512, 512, 144) 0.10158065155497026 0.499999999999998 1.0\n",
      "sf_0=sf_0(default)*1.414=6.905E-03 -> output_filename='2025-10-31_caustique-transition/caustique_sf_0_modul_1.414_5e6a6af2.mp4'\n",
      "(512, 512, 144) 0.03214419396308338 0.5000000000000013 1.0\n"
     ]
    },
    {
     "data": {
      "application/vnd.jupyter.widget-view+json": {
       "model_id": "1e204221f81c4f5db4ce8a9c92dddb34",
       "version_major": 2,
       "version_minor": 0
      },
      "text/plain": [
       "Scanning time:   0%|          | 0/144 [00:00<?, ?it/s]"
      ]
     },
     "metadata": {},
     "output_type": "display_data"
    },
    {
     "data": {
      "application/vnd.jupyter.widget-view+json": {
       "model_id": "0d2cdedd92074d3f9211c8077c8d78cd",
       "version_major": 2,
       "version_minor": 0
      },
      "text/plain": [
       "Generating movie:   0%|          | 0/144 [00:00<?, ?it/s]"
      ]
     },
     "metadata": {},
     "output_type": "display_data"
    },
    {
     "name": "stdout",
     "output_type": "stream",
     "text": [
      "(512, 512, 144) 0.03214419396308338 0.5000000000000013 1.0\n",
      "sf_0=sf_0(default)*2.000=9.766E-03 -> output_filename='2025-10-31_caustique-transition/caustique_sf_0_modul_2.000_55cf3423.mp4'\n",
      "======B_V======\n",
      "(512, 512, 144) 0.05347559811432495 0.5 1.0\n"
     ]
    },
    {
     "data": {
      "application/vnd.jupyter.widget-view+json": {
       "model_id": "08cba1fd66c7441394e5d35d1bc766e2",
       "version_major": 2,
       "version_minor": 0
      },
      "text/plain": [
       "Scanning time:   0%|          | 0/144 [00:00<?, ?it/s]"
      ]
     },
     "metadata": {},
     "output_type": "display_data"
    },
    {
     "data": {
      "application/vnd.jupyter.widget-view+json": {
       "model_id": "cfa22928805f41e89b80444b438df788",
       "version_major": 2,
       "version_minor": 0
      },
      "text/plain": [
       "Generating movie:   0%|          | 0/144 [00:00<?, ?it/s]"
      ]
     },
     "metadata": {},
     "output_type": "display_data"
    },
    {
     "name": "stdout",
     "output_type": "stream",
     "text": [
      "(512, 512, 144) 0.05347559811432495 0.5 1.0\n",
      "B_V=B_V(default)*0.500=1.910E-01 -> output_filename='2025-10-31_caustique-transition/caustique_B_V_modul_0.500_cc28f185.mp4'\n",
      "(512, 512, 144) 0.12209846962571252 0.5000000000000013 1.0\n"
     ]
    },
    {
     "data": {
      "application/vnd.jupyter.widget-view+json": {
       "model_id": "10097d4584374d449c137ae8d12fb085",
       "version_major": 2,
       "version_minor": 0
      },
      "text/plain": [
       "Scanning time:   0%|          | 0/144 [00:00<?, ?it/s]"
      ]
     },
     "metadata": {},
     "output_type": "display_data"
    },
    {
     "data": {
      "application/vnd.jupyter.widget-view+json": {
       "model_id": "8d835837bc7c4a5db5e5f2c0ceb974cb",
       "version_major": 2,
       "version_minor": 0
      },
      "text/plain": [
       "Generating movie:   0%|          | 0/144 [00:00<?, ?it/s]"
      ]
     },
     "metadata": {},
     "output_type": "display_data"
    },
    {
     "name": "stdout",
     "output_type": "stream",
     "text": [
      "(512, 512, 144) 0.12209846962571252 0.5000000000000013 1.0\n",
      "B_V=B_V(default)*0.707=2.701E-01 -> output_filename='2025-10-31_caustique-transition/caustique_B_V_modul_0.707_6b13a88f.mp4'\n",
      "(512, 512, 144) 0.1425898863204898 0.4999999999999991 1.0\n"
     ]
    },
    {
     "data": {
      "application/vnd.jupyter.widget-view+json": {
       "model_id": "0f94e259941247e29def70c06fa497bb",
       "version_major": 2,
       "version_minor": 0
      },
      "text/plain": [
       "Scanning time:   0%|          | 0/144 [00:00<?, ?it/s]"
      ]
     },
     "metadata": {},
     "output_type": "display_data"
    },
    {
     "data": {
      "application/vnd.jupyter.widget-view+json": {
       "model_id": "23234e50e1f94f3089c1c234f9eb34de",
       "version_major": 2,
       "version_minor": 0
      },
      "text/plain": [
       "Generating movie:   0%|          | 0/144 [00:00<?, ?it/s]"
      ]
     },
     "metadata": {},
     "output_type": "display_data"
    },
    {
     "name": "stdout",
     "output_type": "stream",
     "text": [
      "(512, 512, 144) 0.1425898863204898 0.4999999999999991 1.0\n",
      "B_V=B_V(default)*1.000=3.820E-01 -> output_filename='2025-10-31_caustique-transition/caustique_B_V_modul_1.000_0cdb284a.mp4'\n",
      "(512, 512, 144) 0.15869841193217138 0.5000000000000018 1.0\n"
     ]
    },
    {
     "data": {
      "application/vnd.jupyter.widget-view+json": {
       "model_id": "085668d4509e4a9e877fd8d53cfbd720",
       "version_major": 2,
       "version_minor": 0
      },
      "text/plain": [
       "Scanning time:   0%|          | 0/144 [00:00<?, ?it/s]"
      ]
     },
     "metadata": {},
     "output_type": "display_data"
    },
    {
     "data": {
      "application/vnd.jupyter.widget-view+json": {
       "model_id": "5009a9a7160a4299a7859f4ce6452682",
       "version_major": 2,
       "version_minor": 0
      },
      "text/plain": [
       "Generating movie:   0%|          | 0/144 [00:00<?, ?it/s]"
      ]
     },
     "metadata": {},
     "output_type": "display_data"
    },
    {
     "name": "stdout",
     "output_type": "stream",
     "text": [
      "(512, 512, 144) 0.15869841193217138 0.5000000000000018 1.0\n",
      "B_V=B_V(default)*1.414=5.402E-01 -> output_filename='2025-10-31_caustique-transition/caustique_B_V_modul_1.414_3641d123.mp4'\n",
      "(512, 512, 144) 0.13546319600081375 0.5000000000000006 1.0\n"
     ]
    },
    {
     "data": {
      "application/vnd.jupyter.widget-view+json": {
       "model_id": "42312ac65f42428c8856fdbf0b27e87d",
       "version_major": 2,
       "version_minor": 0
      },
      "text/plain": [
       "Scanning time:   0%|          | 0/144 [00:00<?, ?it/s]"
      ]
     },
     "metadata": {},
     "output_type": "display_data"
    },
    {
     "data": {
      "application/vnd.jupyter.widget-view+json": {
       "model_id": "b76504f028c946aa8a2152fb664beaf8",
       "version_major": 2,
       "version_minor": 0
      },
      "text/plain": [
       "Generating movie:   0%|          | 0/144 [00:00<?, ?it/s]"
      ]
     },
     "metadata": {},
     "output_type": "display_data"
    },
    {
     "name": "stdout",
     "output_type": "stream",
     "text": [
      "(512, 512, 144) 0.13546319600081375 0.5000000000000006 1.0\n",
      "B_V=B_V(default)*2.000=7.640E-01 -> output_filename='2025-10-31_caustique-transition/caustique_B_V_modul_2.000_6c2012aa.mp4'\n",
      "======B_sf======\n",
      "(512, 512, 144) 0.11367428560009457 0.4999999999999991 1.0\n"
     ]
    },
    {
     "data": {
      "application/vnd.jupyter.widget-view+json": {
       "model_id": "3ef6a4028dd4457fa0006a21029da0ce",
       "version_major": 2,
       "version_minor": 0
      },
      "text/plain": [
       "Scanning time:   0%|          | 0/144 [00:00<?, ?it/s]"
      ]
     },
     "metadata": {},
     "output_type": "display_data"
    },
    {
     "data": {
      "application/vnd.jupyter.widget-view+json": {
       "model_id": "9b7b02a0356c43d0b8f7b9ee699f59f1",
       "version_major": 2,
       "version_minor": 0
      },
      "text/plain": [
       "Generating movie:   0%|          | 0/144 [00:00<?, ?it/s]"
      ]
     },
     "metadata": {},
     "output_type": "display_data"
    },
    {
     "name": "stdout",
     "output_type": "stream",
     "text": [
      "(512, 512, 144) 0.11367428560009457 0.4999999999999991 1.0\n",
      "B_sf=B_sf(default)*0.500=5.000E-01 -> output_filename='2025-10-31_caustique-transition/caustique_B_sf_modul_0.500_45ec05fa.mp4'\n",
      "(512, 512, 144) 0.13620583360515082 0.4999999999999994 1.0\n"
     ]
    },
    {
     "data": {
      "application/vnd.jupyter.widget-view+json": {
       "model_id": "89fe5d827f9f4ba4b51c5b700cecac26",
       "version_major": 2,
       "version_minor": 0
      },
      "text/plain": [
       "Scanning time:   0%|          | 0/144 [00:00<?, ?it/s]"
      ]
     },
     "metadata": {},
     "output_type": "display_data"
    },
    {
     "data": {
      "application/vnd.jupyter.widget-view+json": {
       "model_id": "553ac9b8d4404cd29ee57a0492b4c451",
       "version_major": 2,
       "version_minor": 0
      },
      "text/plain": [
       "Generating movie:   0%|          | 0/144 [00:00<?, ?it/s]"
      ]
     },
     "metadata": {},
     "output_type": "display_data"
    },
    {
     "name": "stdout",
     "output_type": "stream",
     "text": [
      "(512, 512, 144) 0.13620583360515082 0.4999999999999994 1.0\n",
      "B_sf=B_sf(default)*0.707=7.071E-01 -> output_filename='2025-10-31_caustique-transition/caustique_B_sf_modul_0.707_bb23ede2.mp4'\n",
      "(512, 512, 144) 0.1425898863204898 0.4999999999999991 1.0\n"
     ]
    },
    {
     "data": {
      "application/vnd.jupyter.widget-view+json": {
       "model_id": "9a72c320054244b49116dec2c645f6be",
       "version_major": 2,
       "version_minor": 0
      },
      "text/plain": [
       "Scanning time:   0%|          | 0/144 [00:00<?, ?it/s]"
      ]
     },
     "metadata": {},
     "output_type": "display_data"
    },
    {
     "data": {
      "application/vnd.jupyter.widget-view+json": {
       "model_id": "6e7c9579b5f54d618cf0f63dcab1c716",
       "version_major": 2,
       "version_minor": 0
      },
      "text/plain": [
       "Generating movie:   0%|          | 0/144 [00:00<?, ?it/s]"
      ]
     },
     "metadata": {},
     "output_type": "display_data"
    },
    {
     "name": "stdout",
     "output_type": "stream",
     "text": [
      "(512, 512, 144) 0.1425898863204898 0.4999999999999991 1.0\n",
      "B_sf=B_sf(default)*1.000=1.000E+00 -> output_filename='2025-10-31_caustique-transition/caustique_B_sf_modul_1.000_23d9676d.mp4'\n",
      "(512, 512, 144) 0.12173490287212452 0.5000000000000029 1.0\n"
     ]
    },
    {
     "data": {
      "application/vnd.jupyter.widget-view+json": {
       "model_id": "71b87cfe3cba4c10a0cf1e38dc4c8723",
       "version_major": 2,
       "version_minor": 0
      },
      "text/plain": [
       "Scanning time:   0%|          | 0/144 [00:00<?, ?it/s]"
      ]
     },
     "metadata": {},
     "output_type": "display_data"
    },
    {
     "data": {
      "application/vnd.jupyter.widget-view+json": {
       "model_id": "45d9dab49ab24586a60a23221bbcc64e",
       "version_major": 2,
       "version_minor": 0
      },
      "text/plain": [
       "Generating movie:   0%|          | 0/144 [00:00<?, ?it/s]"
      ]
     },
     "metadata": {},
     "output_type": "display_data"
    },
    {
     "name": "stdout",
     "output_type": "stream",
     "text": [
      "(512, 512, 144) 0.12173490287212452 0.5000000000000029 1.0\n",
      "B_sf=B_sf(default)*1.414=1.414E+00 -> output_filename='2025-10-31_caustique-transition/caustique_B_sf_modul_1.414_5e9907c6.mp4'\n",
      "(512, 512, 144) 0.09115296240078996 0.5000000000000013 1.0\n"
     ]
    },
    {
     "data": {
      "application/vnd.jupyter.widget-view+json": {
       "model_id": "6dcf43ce2ab847a7afb94364c6dc97c2",
       "version_major": 2,
       "version_minor": 0
      },
      "text/plain": [
       "Scanning time:   0%|          | 0/144 [00:00<?, ?it/s]"
      ]
     },
     "metadata": {},
     "output_type": "display_data"
    },
    {
     "data": {
      "application/vnd.jupyter.widget-view+json": {
       "model_id": "08d8edd7dffd48f7b952f348fb1738b9",
       "version_major": 2,
       "version_minor": 0
      },
      "text/plain": [
       "Generating movie:   0%|          | 0/144 [00:00<?, ?it/s]"
      ]
     },
     "metadata": {},
     "output_type": "display_data"
    },
    {
     "name": "stdout",
     "output_type": "stream",
     "text": [
      "(512, 512, 144) 0.09115296240078996 0.5000000000000013 1.0\n",
      "B_sf=B_sf(default)*2.000=2.000E+00 -> output_filename='2025-10-31_caustique-transition/caustique_B_sf_modul_2.000_db5c6943.mp4'\n"
     ]
    }
   ],
   "source": [
    "opt = init()\n",
    "for variable in ['theta',  'B_theta', 'sf_0', 'B_V', 'B_sf', ]: #  'V_Y', 'V_X', , 'zmin'\n",
    "    print(f'======{variable}======')\n",
    "    for modul in np.logspace(-1, 1, N_scan, base=base):\n",
    "        # del z\n",
    "        # print(opt.tag, variable, modul, f'{opt.tag}_{variable}_modul_{modul:.3f}')\n",
    "        c = Caustique(init(tag=f'{opt.tag}_{variable}_modul_{modul:.3f}'))\n",
    "        c.d[variable] *= modul\n",
    "        \n",
    "        output_filename = c.get_filename()\n",
    "        if not(os.path.isfile(output_filename)):\n",
    "            z = c.wave(do_cache=False)\n",
    "            print(z.shape, z.min(), z.mean(), z.max())\n",
    "            output_filename = c.plot(z, image_aperture)\n",
    "            print(z.shape, z.min(), z.mean(), z.max())\n",
    "            # assert(output_filename == output_filename_)\n",
    "        print(f'{variable}={variable}(default)*{modul:.3f}={c.d[variable]:.3E} -> {output_filename=}')\n",
    "        if opt.do_display: c.show(output_filename)"
   ]
  },
  {
   "cell_type": "markdown",
   "metadata": {},
   "source": [
    "## une longue vague\n"
   ]
  },
  {
   "cell_type": "code",
   "execution_count": 33,
   "metadata": {},
   "outputs": [],
   "source": [
    "# %ls -lh {study_name}/longue*\n",
    "# %ls -lh /tmp/{study_name}/longue*"
   ]
  },
  {
   "cell_type": "code",
   "execution_count": 34,
   "metadata": {},
   "outputs": [],
   "source": [
    "# %rm -fr {study_name}/longue*\n",
    "# %rm -fr /tmp/{study_name}/longue*"
   ]
  },
  {
   "cell_type": "code",
   "execution_count": 35,
   "metadata": {},
   "outputs": [
    {
     "name": "stdout",
     "output_type": "stream",
     "text": [
      "====== long wave ======\n"
     ]
    },
    {
     "data": {
      "text/plain": [
       "init(figpath='2025-10-31_caustique-transition', phi=1.61803, tag='longue', ext='mp4', nx=2048, ny=2048, nframe=144, bin_dens=2, bin_wave=4, bin_spectrum=4, seed=2025, H=80.0, variation=0.2, sigma=1.0, sf_0=0.0048828125, B_sf=1.0, V_Y=0.1, V_X=-0.5, B_V=0.382, theta=1.5707963267948966, B_theta=0.7853981633974483, radius_in=0.15, radius_out=0.6, n_bits=8, n_jobs=12, gamma=2.4, fps=24, do_cache=True, verbose=False, do_display=False)"
      ]
     },
     "execution_count": 35,
     "metadata": {},
     "output_type": "execute_result"
    }
   ],
   "source": [
    "print('====== long wave ======')\n",
    "c = Caustique(init(tag='longue'))\n",
    "c.opt\n"
   ]
  },
  {
   "cell_type": "code",
   "execution_count": 36,
   "metadata": {},
   "outputs": [],
   "source": [
    "# N_wave = 4 * PRECISION\n",
    "# N_wave = 5\n",
    "N_wave = 25\n",
    "N_wave = 50\n",
    "# N_wave = 75\n",
    "kappa = .5 # dispersion of the modulation\n",
    "amplitude = np.exp(kappa * (np.cos((np.linspace(0, 1, N_wave)-.50)*2*np.pi) -1) )\n",
    "modul = 0.5\n",
    "kappa = 2.5 # dispersion of the modulation\n",
    "B_Vs = c.opt.B_V * ( 1 + modul * np.exp(kappa * (np.cos((np.linspace(0, 1, N_wave)-.25)*2*np.pi) -1) ))\n",
    "B_sfs = c.opt.B_sf * ( 1 + modul * np.exp(kappa * (np.cos((np.linspace(0, 1, N_wave)-.50)*2*np.pi) -1) ))\n",
    "B_thetas = c.opt.B_theta / ( 1 + modul * np.exp(kappa * (np.cos((np.linspace(0, 1, N_wave)-.75)*2*np.pi) -1) ))\n",
    "# sf_0s = c.opt.sf_0 / ( 1 + modul * np.exp(kappa * (np.cos((np.linspace(0, 1, N_wave)-.75)*2*np.pi) ) ))\n"
   ]
  },
  {
   "cell_type": "code",
   "execution_count": 37,
   "metadata": {},
   "outputs": [
    {
     "data": {
      "image/png": "[encoded data removed]",
      "text/plain": [
       "<Figure size 800x800 with 4 Axes>"
      ]
     },
     "metadata": {},
     "output_type": "display_data"
    }
   ],
   "source": [
    "fig, ax = plt.subplots(4, 1, figsize=(8, 8))\n",
    "ax[0].plot(amplitude)\n",
    "ax[0].set_title('Amplitude')\n",
    "ax[0].set_xticks([])\n",
    "ax[1].plot(B_thetas)\n",
    "ax[1].set_title('B_theta')\n",
    "ax[1].set_xticks([])\n",
    "ax[2].plot(B_sfs)\n",
    "ax[2].set_title('B_sfs')\n",
    "ax[2].set_xticks([])\n",
    "ax[3].plot(B_Vs)\n",
    "ax[3].set_title('B_V')\n",
    "# ax[3].plot(sf_0s)\n",
    "# ax[3].set_title('sf_0')\n",
    "plt.show()"
   ]
  },
  {
   "cell_type": "code",
   "execution_count": 38,
   "metadata": {},
   "outputs": [
    {
     "name": "stdout",
     "output_type": "stream",
     "text": [
      "/tmp/2025-10-31_caustique-transition/longue_vague-smooth_0.npy\n",
      "Computing waves...\n"
     ]
    },
    {
     "data": {
      "application/vnd.jupyter.widget-view+json": {
       "model_id": "7b07b296803d40d08f65f182221ef26d",
       "version_major": 2,
       "version_minor": 0
      },
      "text/plain": [
       "  0%|          | 0/50 [00:00<?, ?it/s]"
      ]
     },
     "metadata": {},
     "output_type": "display_data"
    },
    {
     "data": {
      "application/vnd.jupyter.widget-view+json": {
       "model_id": "02e15797ee564fbfa837909a2a46882f",
       "version_major": 2,
       "version_minor": 0
      },
      "text/plain": [
       "  0%|          | 0/50 [00:00<?, ?it/s]"
      ]
     },
     "metadata": {},
     "output_type": "display_data"
    }
   ],
   "source": [
    "\n",
    "c_chunk = Caustique(init())\n",
    "print(f'{c.cachepath}/{c.opt.tag}_vague-smooth_0.npy')\n",
    "if not(os.path.isfile(f'{c.cachepath}/{c.opt.tag}_vague-smooth_0.npy')):\n",
    "    print('Computing waves...')\n",
    "    # z_updates = []\n",
    "    for i_wave in trange(N_wave):\n",
    "        fname = f'{c.cachepath}/{c.opt.tag}_vague_{i_wave}.npy'\n",
    "        if not(os.path.isfile(fname)):\n",
    "            #     z_update = np.load(fname)\n",
    "            # else:        \n",
    "            # c_chunk = Caustique(init())\n",
    "            c_chunk.opt.B_sf = B_sfs[i_wave]\n",
    "            c_chunk.opt.B_theta = B_thetas[i_wave]\n",
    "            # c_chunk.opt.sf_0 = sf_0s[i_wave]\n",
    "            c_chunk.opt.B_V = B_Vs[i_wave]\n",
    "            c_chunk.opt.seed = opt.seed + i_wave\n",
    "\n",
    "            z_update = amplitude[i_wave] * c_chunk.wave(do_cache=False)\n",
    "            np.save(fname, z_update)\n",
    "        # z_updates.append(z_update)\n",
    "\n",
    "smooth = (c_chunk.ft - c_chunk.ft.min())/(c_chunk.ft.max() - c_chunk.ft.min()) # smoothly progress from 0. to 1.\n",
    "del c_chunk\n",
    "# z = np.zeros((opt.nx, opt.ny, 0))\n",
    "for i_wave in trange(N_wave):\n",
    "    fname = f'{c.cachepath}/{c.opt.tag}_vague-smooth_{i_wave}.npy'\n",
    "\n",
    "    if not(os.path.isfile(fname)):\n",
    "        z_previous_update = np.load(f'{c.cachepath}/{c.opt.tag}_vague_{(i_wave-1) % N_wave}.npy')\n",
    "        z_update = np.load(f'{c.cachepath}/{c.opt.tag}_vague_{i_wave}.npy')\n",
    "        z_smooth = (1.-smooth)*z_previous_update + smooth*z_update\n",
    "        # z = np.concatenate((z, z_smooth), axis=-1)\n",
    "        np.save(fname, z_smooth)\n",
    "\n",
    "        del z_previous_update\n",
    "        del z_smooth\n",
    "        del z_update\n",
    "del smooth"
   ]
  },
  {
   "cell_type": "code",
   "execution_count": 39,
   "metadata": {},
   "outputs": [
    {
     "name": "stdout",
     "output_type": "stream",
     "text": [
      "init(figpath='2025-10-31_caustique-transition', phi=1.61803, tag='longue', ext='mp4', nx=2048, ny=2048, nframe=144, bin_dens=2, bin_wave=4, bin_spectrum=4, seed=2025, H=80.0, variation=0.2, sigma=1.0, sf_0=0.0048828125, B_sf=1.0, V_Y=0.1, V_X=-0.5, B_V=0.382, theta=1.5707963267948966, B_theta=0.7853981633974483, radius_in=0.15, radius_out=0.6, n_bits=8, n_jobs=12, gamma=2.4, fps=24, do_cache=True, verbose=False, do_display=False)\n"
     ]
    }
   ],
   "source": [
    "print(c.opt)"
   ]
  },
  {
   "cell_type": "code",
   "execution_count": 40,
   "metadata": {},
   "outputs": [],
   "source": [
    "# z.shape, z.min(), z.mean(), z.max()"
   ]
  },
  {
   "cell_type": "code",
   "execution_count": 41,
   "metadata": {},
   "outputs": [
    {
     "name": "stdout",
     "output_type": "stream",
     "text": [
      "Variable          Type                   Data/Info\n",
      "--------------------------------------------------\n",
      "B_Vs              ndarray                50: 50 elems, type `float64`, 400 bytes\n",
      "B_sfs             ndarray                50: 50 elems, type `float64`, 400 bytes\n",
      "B_thetas          ndarray                50: 50 elems, type `float64`, 400 bytes\n",
      "CM_BY_INCH        float                  2.54\n",
      "Caustique         type                   <class '__main__.Caustique'>\n",
      "H_                float64                160.0\n",
      "Lambda2color      type                   <class 'lambda2color.Lambda2color'>\n",
      "N_scan            int                    5\n",
      "N_wave            int                    50\n",
      "PRECISION         int                    11\n",
      "Parallel          type                   <class 'joblib.parallel.Parallel'>\n",
      "SubplotParams     type                   <class 'matplotlib.gridspec.SubplotParams'>\n",
      "amplitude         ndarray                50: 50 elems, type `float64`, 400 bytes\n",
      "arrays            list                   n=5\n",
      "ax                ndarray                4: 4 elems, type `object`, 32 bytes\n",
      "base              int                    2\n",
      "c                 Caustique              <__main__.Caustique object at 0x110b31550>\n",
      "dataclass         function               <function dataclass at 0x1062239c0>\n",
      "delayed           function               <function delayed at 0x11025a340>\n",
      "dpi               float                  26.0096\n",
      "fig               Figure                 Figure(800x800)\n",
      "fname             str                    /tmp/2025-10-31_caustique<...>ongue_vague-smooth_49.npy\n",
      "generate_image    function               <function generate_image at 0x1109b6980>\n",
      "get_ipython       function               <function get_ipython at 0x106b45760>\n",
      "hashlib           module                 <module 'hashlib' from '/<...>b/python3.13/hashlib.py'>\n",
      "i_wave            int                    49\n",
      "image_aperture    ndarray                2048x2048: 4194304 elems, type `float64`, 33554432 bytes (32.0 Mb)\n",
      "imageio           module                 <module 'imageio' from '/<...>ges/imageio/__init__.py'>\n",
      "init              type                   <class '__main__.init'>\n",
      "ip                ZMQInteractiveShell    <ipykernel.zmqshell.ZMQIn<...>ll object at 0x107f9b380>\n",
      "kappa             float                  2.5\n",
      "make_mp4          function               <function make_mp4 at 0x11025aac0>\n",
      "matplotlib        module                 <module 'matplotlib' from<...>/matplotlib/__init__.py'>\n",
      "mc                module                 <module 'MotionClouds' fr<...>stiques/MotionClouds.py'>\n",
      "modul             float                  0.5\n",
      "ndimage           module                 <module 'scipy.ndimage' f<...>ipy/ndimage/__init__.py'>\n",
      "np                module                 <module 'numpy' from '/Us<...>kages/numpy/__init__.py'>\n",
      "opt               init                   init(figpath='2025-10-31_<...>=False, do_display=False)\n",
      "os                module                 <module 'os' (frozen)>\n",
      "output_filename   str                    2025-10-31_caustique-tran<...>_modul_2.000_db5c6943.mp4\n",
      "planck            function               <function planck at 0x1102fd760>\n",
      "plt               module                 <module 'matplotlib.pyplo<...>es/matplotlib/pyplot.py'>\n",
      "pprint            function               <function pprint at 0x106221da0>\n",
      "radius_in         float64                0.48\n",
      "radius_out        float64                1.0\n",
      "scattering        function               <function scattering at 0x1102fd6c0>\n",
      "screen_size_cm    int                    100\n",
      "screen_size_in    float                  39.37007874015748\n",
      "seed_increment    int                    4\n",
      "study_name        str                    2025-10-31_caustique-transition\n",
      "subplotpars       SubplotParams          <matplotlib.gridspec.Subp<...>ms object at 0x110245be0>\n",
      "summed_array      ndarray                10x10x3: 300 elems, type `float64`, 2400 bytes\n",
      "tqdm              type                   <class 'tqdm.auto.tqdm'>\n",
      "trange            function               <function trange at 0x10d838cc0>\n",
      "variable          str                    B_sf\n",
      "xyz_from_xy       function               <function xyz_from_xy at 0x1102fd800>\n",
      "z                 ndarray                512x512x144: 37748736 elems, type `float64`, 301989888 bytes (288.0 Mb)\n"
     ]
    }
   ],
   "source": [
    "%whos"
   ]
  },
  {
   "cell_type": "code",
   "execution_count": 42,
   "metadata": {},
   "outputs": [
    {
     "data": {
      "application/vnd.jupyter.widget-view+json": {
       "model_id": "585ac3df09734a8a82a6ef43dec1d14b",
       "version_major": 2,
       "version_minor": 0
      },
      "text/plain": [
       "Generating movie:   0%|          | 0/50 [00:00<?, ?it/s]"
      ]
     },
     "metadata": {},
     "output_type": "display_data"
    },
    {
     "data": {
      "text/html": [
       "<video  loop=\"1\" autoplay=\"1\" controls  src=\"2025-10-31_caustique-transition/longue_vague_0e24587c.mp4\" type=\"video/mp4\" width=1024 >"
      ],
      "text/plain": [
       "<IPython.core.display.HTML object>"
      ]
     },
     "metadata": {},
     "output_type": "display_data"
    }
   ],
   "source": [
    "output_filename = c.get_filename(note='_vague')\n",
    "if not(os.path.isfile(output_filename)):\n",
    "\n",
    "    with imageio.v2.get_writer(\n",
    "        output_filename,\n",
    "        format='FFmpeg', \n",
    "        mode='I',\n",
    "        # format='av', \n",
    "        fps=opt.fps,\n",
    "        # pixelformat=pix_fmt\n",
    "        # codec='ffv1',  # Use FFV1 for lossless compression\n",
    "        ) as writer:\n",
    "\n",
    "        for i_wave in trange(N_wave, desc='Generating movie'):\n",
    "            z_smooth = np.load(f'{c.cachepath}/{c.opt.tag}_vague-smooth_{i_wave}.npy')\n",
    "    \n",
    "            for i_frame in range(z_smooth.shape[-1]):\n",
    "                # Append the frame to the video writer\n",
    "                writer.append_data((z_smooth[..., i_frame]*(2**c.opt.n_bits-1)).astype(c.np_dtype))\n",
    "\n",
    "            \n",
    "                \n",
    "    # z_q = (z*(2**c.opt.n_bits-1)).astype(c.np_dtype)\n",
    "    # print(z_q.shape, z_q.min(), z_q.mean(), z_q.max())\n",
    "    # output_filename = make_mp4(output_filename, z_q, fps=opt.fps)\n",
    "    del z_smooth\n",
    "# del z\n",
    "c.show(output_filename)"
   ]
  },
  {
   "cell_type": "code",
   "execution_count": 43,
   "metadata": {},
   "outputs": [],
   "source": [
    "# for i_wave in trange(N_wave):\n",
    "#     fname = f'{c.cachepath}/{c.opt.tag}_vague_{i_wave}.npy'\n",
    "#     os.remove(fname)"
   ]
  },
  {
   "cell_type": "markdown",
   "metadata": {},
   "source": [
    "## la caustique de la longue vague\n"
   ]
  },
  {
   "cell_type": "code",
   "execution_count": 44,
   "metadata": {},
   "outputs": [
    {
     "data": {
      "application/vnd.jupyter.widget-view+json": {
       "model_id": "79348989b3ac4864a8d7b2d0bd280082",
       "version_major": 2,
       "version_minor": 0
      },
      "text/plain": [
       "  0%|          | 0/50 [00:00<?, ?it/s]"
      ]
     },
     "metadata": {},
     "output_type": "display_data"
    },
    {
     "data": {
      "application/vnd.jupyter.widget-view+json": {
       "model_id": "8bdfe5c7925f4e6db45b3cf825d09aba",
       "version_major": 2,
       "version_minor": 0
      },
      "text/plain": [
       "Scanning time:   0%|          | 0/144 [00:00<?, ?it/s]"
      ]
     },
     "metadata": {},
     "output_type": "display_data"
    },
    {
     "data": {
      "application/vnd.jupyter.widget-view+json": {
       "model_id": "69d3b88ffc6d498abf203dcd196ebfe3",
       "version_major": 2,
       "version_minor": 0
      },
      "text/plain": [
       "Scanning time:   0%|          | 0/144 [00:00<?, ?it/s]"
      ]
     },
     "metadata": {},
     "output_type": "display_data"
    },
    {
     "data": {
      "application/vnd.jupyter.widget-view+json": {
       "model_id": "658b5cd273ea4629abaf3a6f6048de5c",
       "version_major": 2,
       "version_minor": 0
      },
      "text/plain": [
       "Scanning time:   0%|          | 0/144 [00:00<?, ?it/s]"
      ]
     },
     "metadata": {},
     "output_type": "display_data"
    },
    {
     "data": {
      "application/vnd.jupyter.widget-view+json": {
       "model_id": "a89c64501a5a49d088077508b47907b1",
       "version_major": 2,
       "version_minor": 0
      },
      "text/plain": [
       "Scanning time:   0%|          | 0/144 [00:00<?, ?it/s]"
      ]
     },
     "metadata": {},
     "output_type": "display_data"
    },
    {
     "data": {
      "application/vnd.jupyter.widget-view+json": {
       "model_id": "98dfe7cf52b7439fb5ad3cd24334b2de",
       "version_major": 2,
       "version_minor": 0
      },
      "text/plain": [
       "Scanning time:   0%|          | 0/144 [00:00<?, ?it/s]"
      ]
     },
     "metadata": {},
     "output_type": "display_data"
    },
    {
     "data": {
      "application/vnd.jupyter.widget-view+json": {
       "model_id": "14834984e85d4fe19dfe4a5eb3c77f51",
       "version_major": 2,
       "version_minor": 0
      },
      "text/plain": [
       "Scanning time:   0%|          | 0/144 [00:00<?, ?it/s]"
      ]
     },
     "metadata": {},
     "output_type": "display_data"
    },
    {
     "data": {
      "application/vnd.jupyter.widget-view+json": {
       "model_id": "7f898054ef6d42ab8220a3f596315567",
       "version_major": 2,
       "version_minor": 0
      },
      "text/plain": [
       "Scanning time:   0%|          | 0/144 [00:00<?, ?it/s]"
      ]
     },
     "metadata": {},
     "output_type": "display_data"
    },
    {
     "data": {
      "application/vnd.jupyter.widget-view+json": {
       "model_id": "d8de9d1330e44ffea4c3126f8205f3c8",
       "version_major": 2,
       "version_minor": 0
      },
      "text/plain": [
       "Scanning time:   0%|          | 0/144 [00:00<?, ?it/s]"
      ]
     },
     "metadata": {},
     "output_type": "display_data"
    },
    {
     "data": {
      "application/vnd.jupyter.widget-view+json": {
       "model_id": "103bac37bc5648dc9da5da6057674471",
       "version_major": 2,
       "version_minor": 0
      },
      "text/plain": [
       "Scanning time:   0%|          | 0/144 [00:00<?, ?it/s]"
      ]
     },
     "metadata": {},
     "output_type": "display_data"
    },
    {
     "data": {
      "application/vnd.jupyter.widget-view+json": {
       "model_id": "3308b236f0414f4d8ec2f434936b7944",
       "version_major": 2,
       "version_minor": 0
      },
      "text/plain": [
       "Scanning time:   0%|          | 0/144 [00:00<?, ?it/s]"
      ]
     },
     "metadata": {},
     "output_type": "display_data"
    },
    {
     "data": {
      "application/vnd.jupyter.widget-view+json": {
       "model_id": "b748a7326e284b40bc6f62b9ac906a6d",
       "version_major": 2,
       "version_minor": 0
      },
      "text/plain": [
       "Scanning time:   0%|          | 0/144 [00:00<?, ?it/s]"
      ]
     },
     "metadata": {},
     "output_type": "display_data"
    },
    {
     "data": {
      "application/vnd.jupyter.widget-view+json": {
       "model_id": "80db506486cf4cae9b959818ca2bdc4b",
       "version_major": 2,
       "version_minor": 0
      },
      "text/plain": [
       "Scanning time:   0%|          | 0/144 [00:00<?, ?it/s]"
      ]
     },
     "metadata": {},
     "output_type": "display_data"
    },
    {
     "data": {
      "application/vnd.jupyter.widget-view+json": {
       "model_id": "ad55195763504dea916492a243ffc4cf",
       "version_major": 2,
       "version_minor": 0
      },
      "text/plain": [
       "Scanning time:   0%|          | 0/144 [00:00<?, ?it/s]"
      ]
     },
     "metadata": {},
     "output_type": "display_data"
    },
    {
     "data": {
      "application/vnd.jupyter.widget-view+json": {
       "model_id": "51a398894afd47bd98f3a0c699a322a1",
       "version_major": 2,
       "version_minor": 0
      },
      "text/plain": [
       "Scanning time:   0%|          | 0/144 [00:00<?, ?it/s]"
      ]
     },
     "metadata": {},
     "output_type": "display_data"
    },
    {
     "data": {
      "application/vnd.jupyter.widget-view+json": {
       "model_id": "e511affa6bb84be0b76c211901059385",
       "version_major": 2,
       "version_minor": 0
      },
      "text/plain": [
       "Scanning time:   0%|          | 0/144 [00:00<?, ?it/s]"
      ]
     },
     "metadata": {},
     "output_type": "display_data"
    },
    {
     "data": {
      "application/vnd.jupyter.widget-view+json": {
       "model_id": "6b209bbc08d14b80bf6190e4b668fe1f",
       "version_major": 2,
       "version_minor": 0
      },
      "text/plain": [
       "Scanning time:   0%|          | 0/144 [00:00<?, ?it/s]"
      ]
     },
     "metadata": {},
     "output_type": "display_data"
    },
    {
     "data": {
      "application/vnd.jupyter.widget-view+json": {
       "model_id": "4e62ee217df44735a254984edb696b39",
       "version_major": 2,
       "version_minor": 0
      },
      "text/plain": [
       "Scanning time:   0%|          | 0/144 [00:00<?, ?it/s]"
      ]
     },
     "metadata": {},
     "output_type": "display_data"
    },
    {
     "data": {
      "application/vnd.jupyter.widget-view+json": {
       "model_id": "807812fd746547cba51ec3060ddd46ab",
       "version_major": 2,
       "version_minor": 0
      },
      "text/plain": [
       "Scanning time:   0%|          | 0/144 [00:00<?, ?it/s]"
      ]
     },
     "metadata": {},
     "output_type": "display_data"
    },
    {
     "data": {
      "application/vnd.jupyter.widget-view+json": {
       "model_id": "10376709aba04450a06492931f5585be",
       "version_major": 2,
       "version_minor": 0
      },
      "text/plain": [
       "Scanning time:   0%|          | 0/144 [00:00<?, ?it/s]"
      ]
     },
     "metadata": {},
     "output_type": "display_data"
    },
    {
     "data": {
      "application/vnd.jupyter.widget-view+json": {
       "model_id": "00354b3802ac4408a7d1fd1301182660",
       "version_major": 2,
       "version_minor": 0
      },
      "text/plain": [
       "Scanning time:   0%|          | 0/144 [00:00<?, ?it/s]"
      ]
     },
     "metadata": {},
     "output_type": "display_data"
    },
    {
     "data": {
      "application/vnd.jupyter.widget-view+json": {
       "model_id": "5289bcc83cff48d48f79738e42b1a9db",
       "version_major": 2,
       "version_minor": 0
      },
      "text/plain": [
       "Scanning time:   0%|          | 0/144 [00:00<?, ?it/s]"
      ]
     },
     "metadata": {},
     "output_type": "display_data"
    },
    {
     "data": {
      "application/vnd.jupyter.widget-view+json": {
       "model_id": "d482b4f5eda44063af4f7a767933461f",
       "version_major": 2,
       "version_minor": 0
      },
      "text/plain": [
       "Scanning time:   0%|          | 0/144 [00:00<?, ?it/s]"
      ]
     },
     "metadata": {},
     "output_type": "display_data"
    },
    {
     "data": {
      "application/vnd.jupyter.widget-view+json": {
       "model_id": "b46fe6fdcd0c428cb8cca1bef67269cb",
       "version_major": 2,
       "version_minor": 0
      },
      "text/plain": [
       "Scanning time:   0%|          | 0/144 [00:00<?, ?it/s]"
      ]
     },
     "metadata": {},
     "output_type": "display_data"
    },
    {
     "data": {
      "application/vnd.jupyter.widget-view+json": {
       "model_id": "77b7324fe8474807a661ce9b3af638a3",
       "version_major": 2,
       "version_minor": 0
      },
      "text/plain": [
       "Scanning time:   0%|          | 0/144 [00:00<?, ?it/s]"
      ]
     },
     "metadata": {},
     "output_type": "display_data"
    },
    {
     "data": {
      "application/vnd.jupyter.widget-view+json": {
       "model_id": "6cdf325722574a588dd2938bfc72401d",
       "version_major": 2,
       "version_minor": 0
      },
      "text/plain": [
       "Scanning time:   0%|          | 0/144 [00:00<?, ?it/s]"
      ]
     },
     "metadata": {},
     "output_type": "display_data"
    },
    {
     "data": {
      "application/vnd.jupyter.widget-view+json": {
       "model_id": "b8ea8ac6f6574acf80092d912b641638",
       "version_major": 2,
       "version_minor": 0
      },
      "text/plain": [
       "Scanning time:   0%|          | 0/144 [00:00<?, ?it/s]"
      ]
     },
     "metadata": {},
     "output_type": "display_data"
    },
    {
     "data": {
      "application/vnd.jupyter.widget-view+json": {
       "model_id": "f2e58d482be3446d875e6fc2b20ac301",
       "version_major": 2,
       "version_minor": 0
      },
      "text/plain": [
       "Scanning time:   0%|          | 0/144 [00:00<?, ?it/s]"
      ]
     },
     "metadata": {},
     "output_type": "display_data"
    },
    {
     "data": {
      "application/vnd.jupyter.widget-view+json": {
       "model_id": "ee45427eab574dd2976c3131107e8e75",
       "version_major": 2,
       "version_minor": 0
      },
      "text/plain": [
       "Scanning time:   0%|          | 0/144 [00:00<?, ?it/s]"
      ]
     },
     "metadata": {},
     "output_type": "display_data"
    },
    {
     "data": {
      "application/vnd.jupyter.widget-view+json": {
       "model_id": "8e61f20ef9d14155bd4c11a723068701",
       "version_major": 2,
       "version_minor": 0
      },
      "text/plain": [
       "Scanning time:   0%|          | 0/144 [00:00<?, ?it/s]"
      ]
     },
     "metadata": {},
     "output_type": "display_data"
    },
    {
     "data": {
      "application/vnd.jupyter.widget-view+json": {
       "model_id": "7d5f11ccb6d3448287f303f497837607",
       "version_major": 2,
       "version_minor": 0
      },
      "text/plain": [
       "Scanning time:   0%|          | 0/144 [00:00<?, ?it/s]"
      ]
     },
     "metadata": {},
     "output_type": "display_data"
    },
    {
     "data": {
      "application/vnd.jupyter.widget-view+json": {
       "model_id": "62fea5e9ee4643f6999b837572590631",
       "version_major": 2,
       "version_minor": 0
      },
      "text/plain": [
       "Scanning time:   0%|          | 0/144 [00:00<?, ?it/s]"
      ]
     },
     "metadata": {},
     "output_type": "display_data"
    },
    {
     "data": {
      "application/vnd.jupyter.widget-view+json": {
       "model_id": "10c282f360714fe9b13844aeac2f0423",
       "version_major": 2,
       "version_minor": 0
      },
      "text/plain": [
       "Scanning time:   0%|          | 0/144 [00:00<?, ?it/s]"
      ]
     },
     "metadata": {},
     "output_type": "display_data"
    },
    {
     "data": {
      "application/vnd.jupyter.widget-view+json": {
       "model_id": "cf2ca9a360224ac690258c9b9873d730",
       "version_major": 2,
       "version_minor": 0
      },
      "text/plain": [
       "Scanning time:   0%|          | 0/144 [00:00<?, ?it/s]"
      ]
     },
     "metadata": {},
     "output_type": "display_data"
    },
    {
     "data": {
      "application/vnd.jupyter.widget-view+json": {
       "model_id": "afe968bc7cce4fe6b8165c623362ba62",
       "version_major": 2,
       "version_minor": 0
      },
      "text/plain": [
       "Scanning time:   0%|          | 0/144 [00:00<?, ?it/s]"
      ]
     },
     "metadata": {},
     "output_type": "display_data"
    },
    {
     "data": {
      "application/vnd.jupyter.widget-view+json": {
       "model_id": "c794678d4a8a4ddd99f368b987cab814",
       "version_major": 2,
       "version_minor": 0
      },
      "text/plain": [
       "Scanning time:   0%|          | 0/144 [00:00<?, ?it/s]"
      ]
     },
     "metadata": {},
     "output_type": "display_data"
    },
    {
     "data": {
      "application/vnd.jupyter.widget-view+json": {
       "model_id": "320f99a24e384e258fe8909e00227fb9",
       "version_major": 2,
       "version_minor": 0
      },
      "text/plain": [
       "Scanning time:   0%|          | 0/144 [00:00<?, ?it/s]"
      ]
     },
     "metadata": {},
     "output_type": "display_data"
    },
    {
     "data": {
      "application/vnd.jupyter.widget-view+json": {
       "model_id": "c86c7d6aab684e61b20ee2fc410dea0e",
       "version_major": 2,
       "version_minor": 0
      },
      "text/plain": [
       "Scanning time:   0%|          | 0/144 [00:00<?, ?it/s]"
      ]
     },
     "metadata": {},
     "output_type": "display_data"
    },
    {
     "data": {
      "application/vnd.jupyter.widget-view+json": {
       "model_id": "34328a41d3414683b7e4eab226cfaece",
       "version_major": 2,
       "version_minor": 0
      },
      "text/plain": [
       "Scanning time:   0%|          | 0/144 [00:00<?, ?it/s]"
      ]
     },
     "metadata": {},
     "output_type": "display_data"
    },
    {
     "data": {
      "application/vnd.jupyter.widget-view+json": {
       "model_id": "e26f7dc99f4a4aaf800d4ca9091a8bad",
       "version_major": 2,
       "version_minor": 0
      },
      "text/plain": [
       "Scanning time:   0%|          | 0/144 [00:00<?, ?it/s]"
      ]
     },
     "metadata": {},
     "output_type": "display_data"
    },
    {
     "data": {
      "application/vnd.jupyter.widget-view+json": {
       "model_id": "bd6a9fd4f1884b06a00c34456c3f2237",
       "version_major": 2,
       "version_minor": 0
      },
      "text/plain": [
       "Scanning time:   0%|          | 0/144 [00:00<?, ?it/s]"
      ]
     },
     "metadata": {},
     "output_type": "display_data"
    },
    {
     "data": {
      "application/vnd.jupyter.widget-view+json": {
       "model_id": "7f88fbd68df044e0be37398e563fd8e7",
       "version_major": 2,
       "version_minor": 0
      },
      "text/plain": [
       "Scanning time:   0%|          | 0/144 [00:00<?, ?it/s]"
      ]
     },
     "metadata": {},
     "output_type": "display_data"
    },
    {
     "data": {
      "application/vnd.jupyter.widget-view+json": {
       "model_id": "b10a6fa97dd1426d9d5115e10a85365b",
       "version_major": 2,
       "version_minor": 0
      },
      "text/plain": [
       "Scanning time:   0%|          | 0/144 [00:00<?, ?it/s]"
      ]
     },
     "metadata": {},
     "output_type": "display_data"
    },
    {
     "data": {
      "application/vnd.jupyter.widget-view+json": {
       "model_id": "11526f7816cb4fddbef91dc63363c631",
       "version_major": 2,
       "version_minor": 0
      },
      "text/plain": [
       "Scanning time:   0%|          | 0/144 [00:00<?, ?it/s]"
      ]
     },
     "metadata": {},
     "output_type": "display_data"
    },
    {
     "data": {
      "application/vnd.jupyter.widget-view+json": {
       "model_id": "a10b4e4881764bfda5d608c833e84da6",
       "version_major": 2,
       "version_minor": 0
      },
      "text/plain": [
       "Scanning time:   0%|          | 0/144 [00:00<?, ?it/s]"
      ]
     },
     "metadata": {},
     "output_type": "display_data"
    },
    {
     "data": {
      "application/vnd.jupyter.widget-view+json": {
       "model_id": "0ea860f716674259879c5bbae2c18733",
       "version_major": 2,
       "version_minor": 0
      },
      "text/plain": [
       "Scanning time:   0%|          | 0/144 [00:00<?, ?it/s]"
      ]
     },
     "metadata": {},
     "output_type": "display_data"
    },
    {
     "data": {
      "application/vnd.jupyter.widget-view+json": {
       "model_id": "413ca6bd90ce4593be04135488ef9ce1",
       "version_major": 2,
       "version_minor": 0
      },
      "text/plain": [
       "Scanning time:   0%|          | 0/144 [00:00<?, ?it/s]"
      ]
     },
     "metadata": {},
     "output_type": "display_data"
    },
    {
     "data": {
      "application/vnd.jupyter.widget-view+json": {
       "model_id": "51ad4dc177ee4635b35ec1ebe7e1d351",
       "version_major": 2,
       "version_minor": 0
      },
      "text/plain": [
       "Scanning time:   0%|          | 0/144 [00:00<?, ?it/s]"
      ]
     },
     "metadata": {},
     "output_type": "display_data"
    },
    {
     "data": {
      "application/vnd.jupyter.widget-view+json": {
       "model_id": "ad532d27aff14923b84f127d2196bf82",
       "version_major": 2,
       "version_minor": 0
      },
      "text/plain": [
       "Scanning time:   0%|          | 0/144 [00:00<?, ?it/s]"
      ]
     },
     "metadata": {},
     "output_type": "display_data"
    },
    {
     "data": {
      "application/vnd.jupyter.widget-view+json": {
       "model_id": "7d582cb34374447e8b4a999e6bff02a3",
       "version_major": 2,
       "version_minor": 0
      },
      "text/plain": [
       "Scanning time:   0%|          | 0/144 [00:00<?, ?it/s]"
      ]
     },
     "metadata": {},
     "output_type": "display_data"
    },
    {
     "data": {
      "application/vnd.jupyter.widget-view+json": {
       "model_id": "d6d785cffecb4d8b91a1945d7d58fda8",
       "version_major": 2,
       "version_minor": 0
      },
      "text/plain": [
       "Scanning time:   0%|          | 0/144 [00:00<?, ?it/s]"
      ]
     },
     "metadata": {},
     "output_type": "display_data"
    },
    {
     "name": "stdout",
     "output_type": "stream",
     "text": [
      "image_rgb_max=np.float64(5705.102093082076)\n"
     ]
    }
   ],
   "source": [
    "image_rgb_max = 0.\n",
    "for i_wave in trange(N_wave):\n",
    "    fname = f'{c.cachepath}/{c.opt.tag}_caustique_{i_wave}.npy'\n",
    "    if os.path.isfile(fname):\n",
    "        image_update = np.load(fname)\n",
    "    else:\n",
    "        z_smooth = np.load(f'{c.cachepath}/{c.opt.tag}_vague-smooth_{i_wave}.npy')\n",
    "        image_update = c.compute(z_smooth, image_aperture)\n",
    "        np.save(fname, image_update)\n",
    "        del z_smooth \n",
    "    \n",
    "    image_rgb_max = max(image_rgb_max, image_update.max())    \n",
    "    del image_update\n",
    "print(f'{image_rgb_max=}')"
   ]
  },
  {
   "cell_type": "code",
   "execution_count": 45,
   "metadata": {},
   "outputs": [
    {
     "name": "stdout",
     "output_type": "stream",
     "text": [
      "Variable          Type                   Data/Info\n",
      "--------------------------------------------------\n",
      "B_Vs              ndarray                50: 50 elems, type `float64`, 400 bytes\n",
      "B_sfs             ndarray                50: 50 elems, type `float64`, 400 bytes\n",
      "B_thetas          ndarray                50: 50 elems, type `float64`, 400 bytes\n",
      "CM_BY_INCH        float                  2.54\n",
      "Caustique         type                   <class '__main__.Caustique'>\n",
      "H_                float64                160.0\n",
      "Lambda2color      type                   <class 'lambda2color.Lambda2color'>\n",
      "N_scan            int                    5\n",
      "N_wave            int                    50\n",
      "PRECISION         int                    11\n",
      "Parallel          type                   <class 'joblib.parallel.Parallel'>\n",
      "SubplotParams     type                   <class 'matplotlib.gridspec.SubplotParams'>\n",
      "amplitude         ndarray                50: 50 elems, type `float64`, 400 bytes\n",
      "arrays            list                   n=5\n",
      "ax                ndarray                4: 4 elems, type `object`, 32 bytes\n",
      "base              int                    2\n",
      "c                 Caustique              <__main__.Caustique object at 0x110b31550>\n",
      "dataclass         function               <function dataclass at 0x1062239c0>\n",
      "delayed           function               <function delayed at 0x11025a340>\n",
      "dpi               float                  26.0096\n",
      "fig               Figure                 Figure(800x800)\n",
      "fname             str                    /tmp/2025-10-31_caustique<...>n/longue_caustique_49.npy\n",
      "generate_image    function               <function generate_image at 0x1109b6980>\n",
      "get_ipython       function               <function get_ipython at 0x106b45760>\n",
      "hashlib           module                 <module 'hashlib' from '/<...>b/python3.13/hashlib.py'>\n",
      "i_frame           int                    143\n",
      "i_wave            int                    49\n",
      "image_aperture    ndarray                2048x2048: 4194304 elems, type `float64`, 33554432 bytes (32.0 Mb)\n",
      "image_rgb_max     float64                5705.102093082076\n",
      "imageio           module                 <module 'imageio' from '/<...>ges/imageio/__init__.py'>\n",
      "init              type                   <class '__main__.init'>\n",
      "ip                ZMQInteractiveShell    <ipykernel.zmqshell.ZMQIn<...>ll object at 0x107f9b380>\n",
      "kappa             float                  2.5\n",
      "make_mp4          function               <function make_mp4 at 0x11025aac0>\n",
      "matplotlib        module                 <module 'matplotlib' from<...>/matplotlib/__init__.py'>\n",
      "mc                module                 <module 'MotionClouds' fr<...>stiques/MotionClouds.py'>\n",
      "modul             float                  0.5\n",
      "ndimage           module                 <module 'scipy.ndimage' f<...>ipy/ndimage/__init__.py'>\n",
      "np                module                 <module 'numpy' from '/Us<...>kages/numpy/__init__.py'>\n",
      "opt               init                   init(figpath='2025-10-31_<...>=False, do_display=False)\n",
      "os                module                 <module 'os' (frozen)>\n",
      "output_filename   str                    2025-10-31_caustique-tran<...>longue_vague_0e24587c.mp4\n",
      "planck            function               <function planck at 0x1102fd760>\n",
      "plt               module                 <module 'matplotlib.pyplo<...>es/matplotlib/pyplot.py'>\n",
      "pprint            function               <function pprint at 0x106221da0>\n",
      "radius_in         float64                0.48\n",
      "radius_out        float64                1.0\n",
      "scattering        function               <function scattering at 0x1102fd6c0>\n",
      "screen_size_cm    int                    100\n",
      "screen_size_in    float                  39.37007874015748\n",
      "seed_increment    int                    4\n",
      "study_name        str                    2025-10-31_caustique-transition\n",
      "subplotpars       SubplotParams          <matplotlib.gridspec.Subp<...>ms object at 0x110245be0>\n",
      "summed_array      ndarray                10x10x3: 300 elems, type `float64`, 2400 bytes\n",
      "tqdm              type                   <class 'tqdm.auto.tqdm'>\n",
      "trange            function               <function trange at 0x10d838cc0>\n",
      "variable          str                    B_sf\n",
      "writer            Writer                 <imageio.plugins.ffmpeg.F<...>er object at 0x11156b750>\n",
      "xyz_from_xy       function               <function xyz_from_xy at 0x1102fd800>\n",
      "z                 ndarray                512x512x144: 37748736 elems, type `float64`, 301989888 bytes (288.0 Mb)\n"
     ]
    }
   ],
   "source": [
    "%whos"
   ]
  },
  {
   "cell_type": "code",
   "execution_count": 46,
   "metadata": {},
   "outputs": [
    {
     "data": {
      "application/vnd.jupyter.widget-view+json": {
       "model_id": "199f5d3c2a4f4d46b644a67d2d086cca",
       "version_major": 2,
       "version_minor": 0
      },
      "text/plain": [
       "Generating movie:   0%|          | 0/50 [00:00<?, ?it/s]"
      ]
     },
     "metadata": {},
     "output_type": "display_data"
    },
    {
     "data": {
      "text/html": [
       "<video  loop=\"1\" autoplay=\"1\" controls  src=\"2025-10-31_caustique-transition/longue_caustique_2763b490.mp4\" type=\"video/mp4\" width=1024 >"
      ],
      "text/plain": [
       "<IPython.core.display.HTML object>"
      ]
     },
     "metadata": {},
     "output_type": "display_data"
    }
   ],
   "source": [
    "output_filename = c.get_filename(note='_caustique')\n",
    "if not(os.path.isfile(output_filename)):\n",
    "\n",
    "    with imageio.v2.get_writer(\n",
    "        output_filename,\n",
    "        format='FFmpeg', \n",
    "        mode='I',\n",
    "        # format='av', \n",
    "        fps=opt.fps,\n",
    "        # pixelformat=pix_fmt\n",
    "        # codec='ffv1',  # Use FFV1 for lossless compression\n",
    "        ) as writer:\n",
    "\n",
    "        for i_wave in trange(N_wave, desc='Generating movie'):\n",
    "            fname = f'{c.cachepath}/{c.opt.tag}_caustique_{i_wave}.npy'\n",
    "            frames = np.load(fname)\n",
    "\n",
    "            frames /= image_rgb_max\n",
    "            frames = frames ** (1/opt.gamma)\n",
    "\n",
    "            for i_frame in range(frames.shape[-1]):\n",
    "                # Append the frame to the video writer\n",
    "                writer.append_data((frames[..., i_frame]*(2**c.opt.n_bits-1)).astype(c.np_dtype))\n",
    "\n",
    "c.show(output_filename)"
   ]
  },
  {
   "cell_type": "code",
   "execution_count": 47,
   "metadata": {},
   "outputs": [
    {
     "name": "stdout",
     "output_type": "stream",
     "text": [
      "2025-10-31_caustique-transition/longue_caustique_2763b490.mp4\n"
     ]
    }
   ],
   "source": [
    "print(output_filename)"
   ]
  }
 ],
 "metadata": {
  "kernelspec": {
   "display_name": ".venv",
   "language": "python",
   "name": "python3"
  },
  "language_info": {
   "codemirror_mode": {
    "name": "ipython",
    "version": 3
   },
   "file_extension": ".py",
   "mimetype": "text/x-python",
   "name": "python",
   "nbconvert_exporter": "python",
   "pygments_lexer": "ipython3",
   "version": "3.13.9"
  },
  "nteract": {
   "version": "0.28.0"
  },
  "widgets": {
   "application/vnd.jupyter.widget-state+json": {
    "state": {
     "035ab33361e7432caecc80ca2a176575": {
      "model_module": "@jupyter-widgets/controls",
      "model_module_version": "2.0.0",
      "model_name": "FloatProgressModel",
      "state": {
       "_dom_classes": [],
       "_model_module": "@jupyter-widgets/controls",
       "_model_module_version": "2.0.0",
       "_model_name": "FloatProgressModel",
       "_view_count": null,
       "_view_module": "@jupyter-widgets/controls",
       "_view_module_version": "2.0.0",
       "_view_name": "ProgressView",
       "bar_style": "success",
       "description": "",
       "description_allow_html": false,
       "layout": "IPY_MODEL_77f9a290f7dd4b219ba4f735555140e1",
       "max": 256,
       "min": 0,
       "orientation": "horizontal",
       "style": "IPY_MODEL_84e6789a386f4cc3b967f7880483983c",
       "tabbable": null,
       "tooltip": null,
       "value": 256
      }
     },
     "0b73ffb834c2419c973499fdf717431d": {
      "model_module": "@jupyter-widgets/base",
      "model_module_version": "2.0.0",
      "model_name": "LayoutModel",
      "state": {
       "_model_module": "@jupyter-widgets/base",
       "_model_module_version": "2.0.0",
       "_model_name": "LayoutModel",
       "_view_count": null,
       "_view_module": "@jupyter-widgets/base",
       "_view_module_version": "2.0.0",
       "_view_name": "LayoutView",
       "align_content": null,
       "align_items": null,
       "align_self": null,
       "border_bottom": null,
       "border_left": null,
       "border_right": null,
       "border_top": null,
       "bottom": null,
       "display": null,
       "flex": null,
       "flex_flow": null,
       "grid_area": null,
       "grid_auto_columns": null,
       "grid_auto_flow": null,
       "grid_auto_rows": null,
       "grid_column": null,
       "grid_gap": null,
       "grid_row": null,
       "grid_template_areas": null,
       "grid_template_columns": null,
       "grid_template_rows": null,
       "height": null,
       "justify_content": null,
       "justify_items": null,
       "left": null,
       "margin": null,
       "max_height": null,
       "max_width": null,
       "min_height": null,
       "min_width": null,
       "object_fit": null,
       "object_position": null,
       "order": null,
       "overflow": null,
       "padding": null,
       "right": null,
       "top": null,
       "visibility": null,
       "width": null
      }
     },
     "11ae0a75f5b344f396d64dc0adfc23d4": {
      "model_module": "@jupyter-widgets/controls",
      "model_module_version": "2.0.0",
      "model_name": "HTMLStyleModel",
      "state": {
       "_model_module": "@jupyter-widgets/controls",
       "_model_module_version": "2.0.0",
       "_model_name": "HTMLStyleModel",
       "_view_count": null,
       "_view_module": "@jupyter-widgets/base",
       "_view_module_version": "2.0.0",
       "_view_name": "StyleView",
       "background": null,
       "description_width": "",
       "font_size": null,
       "text_color": null
      }
     },
     "1216f0c7b01543ab9e1c4767e78ec994": {
      "model_module": "@jupyter-widgets/base",
      "model_module_version": "2.0.0",
      "model_name": "LayoutModel",
      "state": {
       "_model_module": "@jupyter-widgets/base",
       "_model_module_version": "2.0.0",
       "_model_name": "LayoutModel",
       "_view_count": null,
       "_view_module": "@jupyter-widgets/base",
       "_view_module_version": "2.0.0",
       "_view_name": "LayoutView",
       "align_content": null,
       "align_items": null,
       "align_self": null,
       "border_bottom": null,
       "border_left": null,
       "border_right": null,
       "border_top": null,
       "bottom": null,
       "display": null,
       "flex": null,
       "flex_flow": null,
       "grid_area": null,
       "grid_auto_columns": null,
       "grid_auto_flow": null,
       "grid_auto_rows": null,
       "grid_column": null,
       "grid_gap": null,
       "grid_row": null,
       "grid_template_areas": null,
       "grid_template_columns": null,
       "grid_template_rows": null,
       "height": null,
       "justify_content": null,
       "justify_items": null,
       "left": null,
       "margin": null,
       "max_height": null,
       "max_width": null,
       "min_height": null,
       "min_width": null,
       "object_fit": null,
       "object_position": null,
       "order": null,
       "overflow": null,
       "padding": null,
       "right": null,
       "top": null,
       "visibility": null,
       "width": null
      }
     },
     "17ebce389fa846d99920f6c9c3a1210c": {
      "model_module": "@jupyter-widgets/controls",
      "model_module_version": "2.0.0",
      "model_name": "HTMLModel",
      "state": {
       "_dom_classes": [],
       "_model_module": "@jupyter-widgets/controls",
       "_model_module_version": "2.0.0",
       "_model_name": "HTMLModel",
       "_view_count": null,
       "_view_module": "@jupyter-widgets/controls",
       "_view_module_version": "2.0.0",
       "_view_name": "HTMLView",
       "description": "",
       "description_allow_html": false,
       "layout": "IPY_MODEL_c078cae24ae7430bace625a76b1cb988",
       "placeholder": "​",
       "style": "IPY_MODEL_f16c0a10ddef42d883635f671bda9653",
       "tabbable": null,
       "tooltip": null,
       "value": "100%"
      }
     },
     "190c5912ea914b8bb29e2203e0c9d745": {
      "model_module": "@jupyter-widgets/controls",
      "model_module_version": "2.0.0",
      "model_name": "FloatProgressModel",
      "state": {
       "_dom_classes": [],
       "_model_module": "@jupyter-widgets/controls",
       "_model_module_version": "2.0.0",
       "_model_name": "FloatProgressModel",
       "_view_count": null,
       "_view_module": "@jupyter-widgets/controls",
       "_view_module_version": "2.0.0",
       "_view_name": "ProgressView",
       "bar_style": "success",
       "description": "",
       "description_allow_html": false,
       "layout": "IPY_MODEL_d2044911f735442cbe3dc75e7249db0f",
       "max": 256,
       "min": 0,
       "orientation": "horizontal",
       "style": "IPY_MODEL_cd112c61118142adadc1ffdc3d4fd7dc",
       "tabbable": null,
       "tooltip": null,
       "value": 256
      }
     },
     "19f777cef46a4e6980ab4469675293a5": {
      "model_module": "@jupyter-widgets/controls",
      "model_module_version": "2.0.0",
      "model_name": "FloatProgressModel",
      "state": {
       "_dom_classes": [],
       "_model_module": "@jupyter-widgets/controls",
       "_model_module_version": "2.0.0",
       "_model_name": "FloatProgressModel",
       "_view_count": null,
       "_view_module": "@jupyter-widgets/controls",
       "_view_module_version": "2.0.0",
       "_view_name": "ProgressView",
       "bar_style": "success",
       "description": "",
       "description_allow_html": false,
       "layout": "IPY_MODEL_4a9c13ffbb134906a5773a04df09a848",
       "max": 256,
       "min": 0,
       "orientation": "horizontal",
       "style": "IPY_MODEL_408b9a2d642145409181ce414bf5f650",
       "tabbable": null,
       "tooltip": null,
       "value": 256
      }
     },
     "1e646c9ebcb840a28822c80b583c341d": {
      "model_module": "@jupyter-widgets/controls",
      "model_module_version": "2.0.0",
      "model_name": "FloatProgressModel",
      "state": {
       "_dom_classes": [],
       "_model_module": "@jupyter-widgets/controls",
       "_model_module_version": "2.0.0",
       "_model_name": "FloatProgressModel",
       "_view_count": null,
       "_view_module": "@jupyter-widgets/controls",
       "_view_module_version": "2.0.0",
       "_view_name": "ProgressView",
       "bar_style": "success",
       "description": "",
       "description_allow_html": false,
       "layout": "IPY_MODEL_231d8780a5db46418e5778863597aac4",
       "max": 256,
       "min": 0,
       "orientation": "horizontal",
       "style": "IPY_MODEL_cc8031db1bd442d1a481d859e4f8c3d1",
       "tabbable": null,
       "tooltip": null,
       "value": 256
      }
     },
     "231d8780a5db46418e5778863597aac4": {
      "model_module": "@jupyter-widgets/base",
      "model_module_version": "2.0.0",
      "model_name": "LayoutModel",
      "state": {
       "_model_module": "@jupyter-widgets/base",
       "_model_module_version": "2.0.0",
       "_model_name": "LayoutModel",
       "_view_count": null,
       "_view_module": "@jupyter-widgets/base",
       "_view_module_version": "2.0.0",
       "_view_name": "LayoutView",
       "align_content": null,
       "align_items": null,
       "align_self": null,
       "border_bottom": null,
       "border_left": null,
       "border_right": null,
       "border_top": null,
       "bottom": null,
       "display": null,
       "flex": null,
       "flex_flow": null,
       "grid_area": null,
       "grid_auto_columns": null,
       "grid_auto_flow": null,
       "grid_auto_rows": null,
       "grid_column": null,
       "grid_gap": null,
       "grid_row": null,
       "grid_template_areas": null,
       "grid_template_columns": null,
       "grid_template_rows": null,
       "height": null,
       "justify_content": null,
       "justify_items": null,
       "left": null,
       "margin": null,
       "max_height": null,
       "max_width": null,
       "min_height": null,
       "min_width": null,
       "object_fit": null,
       "object_position": null,
       "order": null,
       "overflow": null,
       "padding": null,
       "right": null,
       "top": null,
       "visibility": null,
       "width": null
      }
     },
     "2410a91c9a7a4826b7d3c14d541ff69d": {
      "model_module": "@jupyter-widgets/base",
      "model_module_version": "2.0.0",
      "model_name": "LayoutModel",
      "state": {
       "_model_module": "@jupyter-widgets/base",
       "_model_module_version": "2.0.0",
       "_model_name": "LayoutModel",
       "_view_count": null,
       "_view_module": "@jupyter-widgets/base",
       "_view_module_version": "2.0.0",
       "_view_name": "LayoutView",
       "align_content": null,
       "align_items": null,
       "align_self": null,
       "border_bottom": null,
       "border_left": null,
       "border_right": null,
       "border_top": null,
       "bottom": null,
       "display": null,
       "flex": null,
       "flex_flow": null,
       "grid_area": null,
       "grid_auto_columns": null,
       "grid_auto_flow": null,
       "grid_auto_rows": null,
       "grid_column": null,
       "grid_gap": null,
       "grid_row": null,
       "grid_template_areas": null,
       "grid_template_columns": null,
       "grid_template_rows": null,
       "height": null,
       "justify_content": null,
       "justify_items": null,
       "left": null,
       "margin": null,
       "max_height": null,
       "max_width": null,
       "min_height": null,
       "min_width": null,
       "object_fit": null,
       "object_position": null,
       "order": null,
       "overflow": null,
       "padding": null,
       "right": null,
       "top": null,
       "visibility": null,
       "width": null
      }
     },
     "2b93a83bd14041d0bf240a1e8ed105da": {
      "model_module": "@jupyter-widgets/controls",
      "model_module_version": "2.0.0",
      "model_name": "HBoxModel",
      "state": {
       "_dom_classes": [],
       "_model_module": "@jupyter-widgets/controls",
       "_model_module_version": "2.0.0",
       "_model_name": "HBoxModel",
       "_view_count": null,
       "_view_module": "@jupyter-widgets/controls",
       "_view_module_version": "2.0.0",
       "_view_name": "HBoxView",
       "box_style": "",
       "children": [
        "IPY_MODEL_17ebce389fa846d99920f6c9c3a1210c",
        "IPY_MODEL_190c5912ea914b8bb29e2203e0c9d745",
        "IPY_MODEL_d0069e861bec45358c5749eb8eb64139"
       ],
       "layout": "IPY_MODEL_391312d9ce614c36bd1c1339c4c1d3fa",
       "tabbable": null,
       "tooltip": null
      }
     },
     "33722c82ab7341d5ab4b56bce068d1e0": {
      "model_module": "@jupyter-widgets/controls",
      "model_module_version": "2.0.0",
      "model_name": "HBoxModel",
      "state": {
       "_dom_classes": [],
       "_model_module": "@jupyter-widgets/controls",
       "_model_module_version": "2.0.0",
       "_model_name": "HBoxModel",
       "_view_count": null,
       "_view_module": "@jupyter-widgets/controls",
       "_view_module_version": "2.0.0",
       "_view_name": "HBoxView",
       "box_style": "",
       "children": [
        "IPY_MODEL_34fc442a740f453aa8eb4733a00b33ee",
        "IPY_MODEL_19f777cef46a4e6980ab4469675293a5",
        "IPY_MODEL_466bad0aef824176a0778b38af7f0cc8"
       ],
       "layout": "IPY_MODEL_1216f0c7b01543ab9e1c4767e78ec994",
       "tabbable": null,
       "tooltip": null
      }
     },
     "34fc442a740f453aa8eb4733a00b33ee": {
      "model_module": "@jupyter-widgets/controls",
      "model_module_version": "2.0.0",
      "model_name": "HTMLModel",
      "state": {
       "_dom_classes": [],
       "_model_module": "@jupyter-widgets/controls",
       "_model_module_version": "2.0.0",
       "_model_name": "HTMLModel",
       "_view_count": null,
       "_view_module": "@jupyter-widgets/controls",
       "_view_module_version": "2.0.0",
       "_view_name": "HTMLView",
       "description": "",
       "description_allow_html": false,
       "layout": "IPY_MODEL_c26548a3142c45f1adfa8abc1815ac5f",
       "placeholder": "​",
       "style": "IPY_MODEL_11ae0a75f5b344f396d64dc0adfc23d4",
       "tabbable": null,
       "tooltip": null,
       "value": "100%"
      }
     },
     "372ec21d55b140a3b2f2485311a94b90": {
      "model_module": "@jupyter-widgets/controls",
      "model_module_version": "2.0.0",
      "model_name": "HTMLStyleModel",
      "state": {
       "_model_module": "@jupyter-widgets/controls",
       "_model_module_version": "2.0.0",
       "_model_name": "HTMLStyleModel",
       "_view_count": null,
       "_view_module": "@jupyter-widgets/base",
       "_view_module_version": "2.0.0",
       "_view_name": "StyleView",
       "background": null,
       "description_width": "",
       "font_size": null,
       "text_color": null
      }
     },
     "38a8e734f8a54c31bea5268b58557a88": {
      "model_module": "@jupyter-widgets/controls",
      "model_module_version": "2.0.0",
      "model_name": "HBoxModel",
      "state": {
       "_dom_classes": [],
       "_model_module": "@jupyter-widgets/controls",
       "_model_module_version": "2.0.0",
       "_model_name": "HBoxModel",
       "_view_count": null,
       "_view_module": "@jupyter-widgets/controls",
       "_view_module_version": "2.0.0",
       "_view_name": "HBoxView",
       "box_style": "",
       "children": [
        "IPY_MODEL_b8499c15522745cd9981166aa85f493d",
        "IPY_MODEL_7e3049db598142689e39c20322342839",
        "IPY_MODEL_4b89e27ea7dd4ad2848898a2e945d660"
       ],
       "layout": "IPY_MODEL_d69c4d7c0ffd4195b09a98ea697a7a77",
       "tabbable": null,
       "tooltip": null
      }
     },
     "391312d9ce614c36bd1c1339c4c1d3fa": {
      "model_module": "@jupyter-widgets/base",
      "model_module_version": "2.0.0",
      "model_name": "LayoutModel",
      "state": {
       "_model_module": "@jupyter-widgets/base",
       "_model_module_version": "2.0.0",
       "_model_name": "LayoutModel",
       "_view_count": null,
       "_view_module": "@jupyter-widgets/base",
       "_view_module_version": "2.0.0",
       "_view_name": "LayoutView",
       "align_content": null,
       "align_items": null,
       "align_self": null,
       "border_bottom": null,
       "border_left": null,
       "border_right": null,
       "border_top": null,
       "bottom": null,
       "display": null,
       "flex": null,
       "flex_flow": null,
       "grid_area": null,
       "grid_auto_columns": null,
       "grid_auto_flow": null,
       "grid_auto_rows": null,
       "grid_column": null,
       "grid_gap": null,
       "grid_row": null,
       "grid_template_areas": null,
       "grid_template_columns": null,
       "grid_template_rows": null,
       "height": null,
       "justify_content": null,
       "justify_items": null,
       "left": null,
       "margin": null,
       "max_height": null,
       "max_width": null,
       "min_height": null,
       "min_width": null,
       "object_fit": null,
       "object_position": null,
       "order": null,
       "overflow": null,
       "padding": null,
       "right": null,
       "top": null,
       "visibility": null,
       "width": null
      }
     },
     "408b9a2d642145409181ce414bf5f650": {
      "model_module": "@jupyter-widgets/controls",
      "model_module_version": "2.0.0",
      "model_name": "ProgressStyleModel",
      "state": {
       "_model_module": "@jupyter-widgets/controls",
       "_model_module_version": "2.0.0",
       "_model_name": "ProgressStyleModel",
       "_view_count": null,
       "_view_module": "@jupyter-widgets/base",
       "_view_module_version": "2.0.0",
       "_view_name": "StyleView",
       "bar_color": null,
       "description_width": ""
      }
     },
     "40e490736bdb4e9b91ecc29d8ebfcb9a": {
      "model_module": "@jupyter-widgets/controls",
      "model_module_version": "2.0.0",
      "model_name": "HTMLModel",
      "state": {
       "_dom_classes": [],
       "_model_module": "@jupyter-widgets/controls",
       "_model_module_version": "2.0.0",
       "_model_name": "HTMLModel",
       "_view_count": null,
       "_view_module": "@jupyter-widgets/controls",
       "_view_module_version": "2.0.0",
       "_view_name": "HTMLView",
       "description": "",
       "description_allow_html": false,
       "layout": "IPY_MODEL_0b73ffb834c2419c973499fdf717431d",
       "placeholder": "​",
       "style": "IPY_MODEL_92ddbe5f71f340e09a33f004c0f625c0",
       "tabbable": null,
       "tooltip": null,
       "value": "100%"
      }
     },
     "41c8f627da6e4adda218239203e2aaca": {
      "model_module": "@jupyter-widgets/base",
      "model_module_version": "2.0.0",
      "model_name": "LayoutModel",
      "state": {
       "_model_module": "@jupyter-widgets/base",
       "_model_module_version": "2.0.0",
       "_model_name": "LayoutModel",
       "_view_count": null,
       "_view_module": "@jupyter-widgets/base",
       "_view_module_version": "2.0.0",
       "_view_name": "LayoutView",
       "align_content": null,
       "align_items": null,
       "align_self": null,
       "border_bottom": null,
       "border_left": null,
       "border_right": null,
       "border_top": null,
       "bottom": null,
       "display": null,
       "flex": null,
       "flex_flow": null,
       "grid_area": null,
       "grid_auto_columns": null,
       "grid_auto_flow": null,
       "grid_auto_rows": null,
       "grid_column": null,
       "grid_gap": null,
       "grid_row": null,
       "grid_template_areas": null,
       "grid_template_columns": null,
       "grid_template_rows": null,
       "height": null,
       "justify_content": null,
       "justify_items": null,
       "left": null,
       "margin": null,
       "max_height": null,
       "max_width": null,
       "min_height": null,
       "min_width": null,
       "object_fit": null,
       "object_position": null,
       "order": null,
       "overflow": null,
       "padding": null,
       "right": null,
       "top": null,
       "visibility": null,
       "width": null
      }
     },
     "466bad0aef824176a0778b38af7f0cc8": {
      "model_module": "@jupyter-widgets/controls",
      "model_module_version": "2.0.0",
      "model_name": "HTMLModel",
      "state": {
       "_dom_classes": [],
       "_model_module": "@jupyter-widgets/controls",
       "_model_module_version": "2.0.0",
       "_model_name": "HTMLModel",
       "_view_count": null,
       "_view_module": "@jupyter-widgets/controls",
       "_view_module_version": "2.0.0",
       "_view_name": "HTMLView",
       "description": "",
       "description_allow_html": false,
       "layout": "IPY_MODEL_fd94337716a24629bbbf38eb2d910e17",
       "placeholder": "​",
       "style": "IPY_MODEL_62eaeb24301b45bdbed6f793ae2a80d3",
       "tabbable": null,
       "tooltip": null,
       "value": " 256/256 [28:51&lt;00:00,  6.95s/it]"
      }
     },
     "4a9c13ffbb134906a5773a04df09a848": {
      "model_module": "@jupyter-widgets/base",
      "model_module_version": "2.0.0",
      "model_name": "LayoutModel",
      "state": {
       "_model_module": "@jupyter-widgets/base",
       "_model_module_version": "2.0.0",
       "_model_name": "LayoutModel",
       "_view_count": null,
       "_view_module": "@jupyter-widgets/base",
       "_view_module_version": "2.0.0",
       "_view_name": "LayoutView",
       "align_content": null,
       "align_items": null,
       "align_self": null,
       "border_bottom": null,
       "border_left": null,
       "border_right": null,
       "border_top": null,
       "bottom": null,
       "display": null,
       "flex": null,
       "flex_flow": null,
       "grid_area": null,
       "grid_auto_columns": null,
       "grid_auto_flow": null,
       "grid_auto_rows": null,
       "grid_column": null,
       "grid_gap": null,
       "grid_row": null,
       "grid_template_areas": null,
       "grid_template_columns": null,
       "grid_template_rows": null,
       "height": null,
       "justify_content": null,
       "justify_items": null,
       "left": null,
       "margin": null,
       "max_height": null,
       "max_width": null,
       "min_height": null,
       "min_width": null,
       "object_fit": null,
       "object_position": null,
       "order": null,
       "overflow": null,
       "padding": null,
       "right": null,
       "top": null,
       "visibility": null,
       "width": null
      }
     },
     "4b89e27ea7dd4ad2848898a2e945d660": {
      "model_module": "@jupyter-widgets/controls",
      "model_module_version": "2.0.0",
      "model_name": "HTMLModel",
      "state": {
       "_dom_classes": [],
       "_model_module": "@jupyter-widgets/controls",
       "_model_module_version": "2.0.0",
       "_model_name": "HTMLModel",
       "_view_count": null,
       "_view_module": "@jupyter-widgets/controls",
       "_view_module_version": "2.0.0",
       "_view_name": "HTMLView",
       "description": "",
       "description_allow_html": false,
       "layout": "IPY_MODEL_6842b6809a9e45cfb0e702de8bc33a4a",
       "placeholder": "​",
       "style": "IPY_MODEL_c59fd60c9cf0495b922c74febebcfd99",
       "tabbable": null,
       "tooltip": null,
       "value": " 256/256 [27:26&lt;00:00,  6.35s/it]"
      }
     },
     "4bc5b7e763bd41efb3f51b7faf6b2553": {
      "model_module": "@jupyter-widgets/base",
      "model_module_version": "2.0.0",
      "model_name": "LayoutModel",
      "state": {
       "_model_module": "@jupyter-widgets/base",
       "_model_module_version": "2.0.0",
       "_model_name": "LayoutModel",
       "_view_count": null,
       "_view_module": "@jupyter-widgets/base",
       "_view_module_version": "2.0.0",
       "_view_name": "LayoutView",
       "align_content": null,
       "align_items": null,
       "align_self": null,
       "border_bottom": null,
       "border_left": null,
       "border_right": null,
       "border_top": null,
       "bottom": null,
       "display": null,
       "flex": null,
       "flex_flow": null,
       "grid_area": null,
       "grid_auto_columns": null,
       "grid_auto_flow": null,
       "grid_auto_rows": null,
       "grid_column": null,
       "grid_gap": null,
       "grid_row": null,
       "grid_template_areas": null,
       "grid_template_columns": null,
       "grid_template_rows": null,
       "height": null,
       "justify_content": null,
       "justify_items": null,
       "left": null,
       "margin": null,
       "max_height": null,
       "max_width": null,
       "min_height": null,
       "min_width": null,
       "object_fit": null,
       "object_position": null,
       "order": null,
       "overflow": null,
       "padding": null,
       "right": null,
       "top": null,
       "visibility": null,
       "width": null
      }
     },
     "623cfb29c2674e3e8afa956617fee28d": {
      "model_module": "@jupyter-widgets/controls",
      "model_module_version": "2.0.0",
      "model_name": "HTMLModel",
      "state": {
       "_dom_classes": [],
       "_model_module": "@jupyter-widgets/controls",
       "_model_module_version": "2.0.0",
       "_model_name": "HTMLModel",
       "_view_count": null,
       "_view_module": "@jupyter-widgets/controls",
       "_view_module_version": "2.0.0",
       "_view_name": "HTMLView",
       "description": "",
       "description_allow_html": false,
       "layout": "IPY_MODEL_d22ead2504ee49e6bdda108317f45ac1",
       "placeholder": "​",
       "style": "IPY_MODEL_7d93c028c6b249fbbb05b7bb576f6e14",
       "tabbable": null,
       "tooltip": null,
       "value": " 256/256 [29:09&lt;00:00,  6.42s/it]"
      }
     },
     "62eaeb24301b45bdbed6f793ae2a80d3": {
      "model_module": "@jupyter-widgets/controls",
      "model_module_version": "2.0.0",
      "model_name": "HTMLStyleModel",
      "state": {
       "_model_module": "@jupyter-widgets/controls",
       "_model_module_version": "2.0.0",
       "_model_name": "HTMLStyleModel",
       "_view_count": null,
       "_view_module": "@jupyter-widgets/base",
       "_view_module_version": "2.0.0",
       "_view_name": "StyleView",
       "background": null,
       "description_width": "",
       "font_size": null,
       "text_color": null
      }
     },
     "6589ece8f1bd4f259fa2daee94834cee": {
      "model_module": "@jupyter-widgets/base",
      "model_module_version": "2.0.0",
      "model_name": "LayoutModel",
      "state": {
       "_model_module": "@jupyter-widgets/base",
       "_model_module_version": "2.0.0",
       "_model_name": "LayoutModel",
       "_view_count": null,
       "_view_module": "@jupyter-widgets/base",
       "_view_module_version": "2.0.0",
       "_view_name": "LayoutView",
       "align_content": null,
       "align_items": null,
       "align_self": null,
       "border_bottom": null,
       "border_left": null,
       "border_right": null,
       "border_top": null,
       "bottom": null,
       "display": null,
       "flex": null,
       "flex_flow": null,
       "grid_area": null,
       "grid_auto_columns": null,
       "grid_auto_flow": null,
       "grid_auto_rows": null,
       "grid_column": null,
       "grid_gap": null,
       "grid_row": null,
       "grid_template_areas": null,
       "grid_template_columns": null,
       "grid_template_rows": null,
       "height": null,
       "justify_content": null,
       "justify_items": null,
       "left": null,
       "margin": null,
       "max_height": null,
       "max_width": null,
       "min_height": null,
       "min_width": null,
       "object_fit": null,
       "object_position": null,
       "order": null,
       "overflow": null,
       "padding": null,
       "right": null,
       "top": null,
       "visibility": null,
       "width": null
      }
     },
     "6842b6809a9e45cfb0e702de8bc33a4a": {
      "model_module": "@jupyter-widgets/base",
      "model_module_version": "2.0.0",
      "model_name": "LayoutModel",
      "state": {
       "_model_module": "@jupyter-widgets/base",
       "_model_module_version": "2.0.0",
       "_model_name": "LayoutModel",
       "_view_count": null,
       "_view_module": "@jupyter-widgets/base",
       "_view_module_version": "2.0.0",
       "_view_name": "LayoutView",
       "align_content": null,
       "align_items": null,
       "align_self": null,
       "border_bottom": null,
       "border_left": null,
       "border_right": null,
       "border_top": null,
       "bottom": null,
       "display": null,
       "flex": null,
       "flex_flow": null,
       "grid_area": null,
       "grid_auto_columns": null,
       "grid_auto_flow": null,
       "grid_auto_rows": null,
       "grid_column": null,
       "grid_gap": null,
       "grid_row": null,
       "grid_template_areas": null,
       "grid_template_columns": null,
       "grid_template_rows": null,
       "height": null,
       "justify_content": null,
       "justify_items": null,
       "left": null,
       "margin": null,
       "max_height": null,
       "max_width": null,
       "min_height": null,
       "min_width": null,
       "object_fit": null,
       "object_position": null,
       "order": null,
       "overflow": null,
       "padding": null,
       "right": null,
       "top": null,
       "visibility": null,
       "width": null
      }
     },
     "69223a6848db4101aa62cbe286345231": {
      "model_module": "@jupyter-widgets/controls",
      "model_module_version": "2.0.0",
      "model_name": "HBoxModel",
      "state": {
       "_dom_classes": [],
       "_model_module": "@jupyter-widgets/controls",
       "_model_module_version": "2.0.0",
       "_model_name": "HBoxModel",
       "_view_count": null,
       "_view_module": "@jupyter-widgets/controls",
       "_view_module_version": "2.0.0",
       "_view_name": "HBoxView",
       "box_style": "",
       "children": [
        "IPY_MODEL_fbcf6af361ec40ffba104e09c0d7eb15",
        "IPY_MODEL_035ab33361e7432caecc80ca2a176575",
        "IPY_MODEL_9ae4138d5c6040ff8f31487f21120a6e"
       ],
       "layout": "IPY_MODEL_937ce84eb341402aac3fa07fed6cafd0",
       "tabbable": null,
       "tooltip": null
      }
     },
     "7279d281d2c34657bff252e8df63f4c5": {
      "model_module": "@jupyter-widgets/controls",
      "model_module_version": "2.0.0",
      "model_name": "HTMLStyleModel",
      "state": {
       "_model_module": "@jupyter-widgets/controls",
       "_model_module_version": "2.0.0",
       "_model_name": "HTMLStyleModel",
       "_view_count": null,
       "_view_module": "@jupyter-widgets/base",
       "_view_module_version": "2.0.0",
       "_view_name": "StyleView",
       "background": null,
       "description_width": "",
       "font_size": null,
       "text_color": null
      }
     },
     "77f9a290f7dd4b219ba4f735555140e1": {
      "model_module": "@jupyter-widgets/base",
      "model_module_version": "2.0.0",
      "model_name": "LayoutModel",
      "state": {
       "_model_module": "@jupyter-widgets/base",
       "_model_module_version": "2.0.0",
       "_model_name": "LayoutModel",
       "_view_count": null,
       "_view_module": "@jupyter-widgets/base",
       "_view_module_version": "2.0.0",
       "_view_name": "LayoutView",
       "align_content": null,
       "align_items": null,
       "align_self": null,
       "border_bottom": null,
       "border_left": null,
       "border_right": null,
       "border_top": null,
       "bottom": null,
       "display": null,
       "flex": null,
       "flex_flow": null,
       "grid_area": null,
       "grid_auto_columns": null,
       "grid_auto_flow": null,
       "grid_auto_rows": null,
       "grid_column": null,
       "grid_gap": null,
       "grid_row": null,
       "grid_template_areas": null,
       "grid_template_columns": null,
       "grid_template_rows": null,
       "height": null,
       "justify_content": null,
       "justify_items": null,
       "left": null,
       "margin": null,
       "max_height": null,
       "max_width": null,
       "min_height": null,
       "min_width": null,
       "object_fit": null,
       "object_position": null,
       "order": null,
       "overflow": null,
       "padding": null,
       "right": null,
       "top": null,
       "visibility": null,
       "width": null
      }
     },
     "7d93c028c6b249fbbb05b7bb576f6e14": {
      "model_module": "@jupyter-widgets/controls",
      "model_module_version": "2.0.0",
      "model_name": "HTMLStyleModel",
      "state": {
       "_model_module": "@jupyter-widgets/controls",
       "_model_module_version": "2.0.0",
       "_model_name": "HTMLStyleModel",
       "_view_count": null,
       "_view_module": "@jupyter-widgets/base",
       "_view_module_version": "2.0.0",
       "_view_name": "StyleView",
       "background": null,
       "description_width": "",
       "font_size": null,
       "text_color": null
      }
     },
     "7e3049db598142689e39c20322342839": {
      "model_module": "@jupyter-widgets/controls",
      "model_module_version": "2.0.0",
      "model_name": "FloatProgressModel",
      "state": {
       "_dom_classes": [],
       "_model_module": "@jupyter-widgets/controls",
       "_model_module_version": "2.0.0",
       "_model_name": "FloatProgressModel",
       "_view_count": null,
       "_view_module": "@jupyter-widgets/controls",
       "_view_module_version": "2.0.0",
       "_view_name": "ProgressView",
       "bar_style": "success",
       "description": "",
       "description_allow_html": false,
       "layout": "IPY_MODEL_6589ece8f1bd4f259fa2daee94834cee",
       "max": 256,
       "min": 0,
       "orientation": "horizontal",
       "style": "IPY_MODEL_bd094cda8b3c4855a4ed1300edf3f2c3",
       "tabbable": null,
       "tooltip": null,
       "value": 256
      }
     },
     "84e6789a386f4cc3b967f7880483983c": {
      "model_module": "@jupyter-widgets/controls",
      "model_module_version": "2.0.0",
      "model_name": "ProgressStyleModel",
      "state": {
       "_model_module": "@jupyter-widgets/controls",
       "_model_module_version": "2.0.0",
       "_model_name": "ProgressStyleModel",
       "_view_count": null,
       "_view_module": "@jupyter-widgets/base",
       "_view_module_version": "2.0.0",
       "_view_name": "StyleView",
       "bar_color": null,
       "description_width": ""
      }
     },
     "92ddbe5f71f340e09a33f004c0f625c0": {
      "model_module": "@jupyter-widgets/controls",
      "model_module_version": "2.0.0",
      "model_name": "HTMLStyleModel",
      "state": {
       "_model_module": "@jupyter-widgets/controls",
       "_model_module_version": "2.0.0",
       "_model_name": "HTMLStyleModel",
       "_view_count": null,
       "_view_module": "@jupyter-widgets/base",
       "_view_module_version": "2.0.0",
       "_view_name": "StyleView",
       "background": null,
       "description_width": "",
       "font_size": null,
       "text_color": null
      }
     },
     "937ce84eb341402aac3fa07fed6cafd0": {
      "model_module": "@jupyter-widgets/base",
      "model_module_version": "2.0.0",
      "model_name": "LayoutModel",
      "state": {
       "_model_module": "@jupyter-widgets/base",
       "_model_module_version": "2.0.0",
       "_model_name": "LayoutModel",
       "_view_count": null,
       "_view_module": "@jupyter-widgets/base",
       "_view_module_version": "2.0.0",
       "_view_name": "LayoutView",
       "align_content": null,
       "align_items": null,
       "align_self": null,
       "border_bottom": null,
       "border_left": null,
       "border_right": null,
       "border_top": null,
       "bottom": null,
       "display": null,
       "flex": null,
       "flex_flow": null,
       "grid_area": null,
       "grid_auto_columns": null,
       "grid_auto_flow": null,
       "grid_auto_rows": null,
       "grid_column": null,
       "grid_gap": null,
       "grid_row": null,
       "grid_template_areas": null,
       "grid_template_columns": null,
       "grid_template_rows": null,
       "height": null,
       "justify_content": null,
       "justify_items": null,
       "left": null,
       "margin": null,
       "max_height": null,
       "max_width": null,
       "min_height": null,
       "min_width": null,
       "object_fit": null,
       "object_position": null,
       "order": null,
       "overflow": null,
       "padding": null,
       "right": null,
       "top": null,
       "visibility": null,
       "width": null
      }
     },
     "9650fef1b09348cb8cff5a63a56850b7": {
      "model_module": "@jupyter-widgets/base",
      "model_module_version": "2.0.0",
      "model_name": "LayoutModel",
      "state": {
       "_model_module": "@jupyter-widgets/base",
       "_model_module_version": "2.0.0",
       "_model_name": "LayoutModel",
       "_view_count": null,
       "_view_module": "@jupyter-widgets/base",
       "_view_module_version": "2.0.0",
       "_view_name": "LayoutView",
       "align_content": null,
       "align_items": null,
       "align_self": null,
       "border_bottom": null,
       "border_left": null,
       "border_right": null,
       "border_top": null,
       "bottom": null,
       "display": null,
       "flex": null,
       "flex_flow": null,
       "grid_area": null,
       "grid_auto_columns": null,
       "grid_auto_flow": null,
       "grid_auto_rows": null,
       "grid_column": null,
       "grid_gap": null,
       "grid_row": null,
       "grid_template_areas": null,
       "grid_template_columns": null,
       "grid_template_rows": null,
       "height": null,
       "justify_content": null,
       "justify_items": null,
       "left": null,
       "margin": null,
       "max_height": null,
       "max_width": null,
       "min_height": null,
       "min_width": null,
       "object_fit": null,
       "object_position": null,
       "order": null,
       "overflow": null,
       "padding": null,
       "right": null,
       "top": null,
       "visibility": null,
       "width": null
      }
     },
     "9a36404c5a734fb38c2b22c9878a5745": {
      "model_module": "@jupyter-widgets/controls",
      "model_module_version": "2.0.0",
      "model_name": "HBoxModel",
      "state": {
       "_dom_classes": [],
       "_model_module": "@jupyter-widgets/controls",
       "_model_module_version": "2.0.0",
       "_model_name": "HBoxModel",
       "_view_count": null,
       "_view_module": "@jupyter-widgets/controls",
       "_view_module_version": "2.0.0",
       "_view_name": "HBoxView",
       "box_style": "",
       "children": [
        "IPY_MODEL_40e490736bdb4e9b91ecc29d8ebfcb9a",
        "IPY_MODEL_1e646c9ebcb840a28822c80b583c341d",
        "IPY_MODEL_623cfb29c2674e3e8afa956617fee28d"
       ],
       "layout": "IPY_MODEL_41c8f627da6e4adda218239203e2aaca",
       "tabbable": null,
       "tooltip": null
      }
     },
     "9ae4138d5c6040ff8f31487f21120a6e": {
      "model_module": "@jupyter-widgets/controls",
      "model_module_version": "2.0.0",
      "model_name": "HTMLModel",
      "state": {
       "_dom_classes": [],
       "_model_module": "@jupyter-widgets/controls",
       "_model_module_version": "2.0.0",
       "_model_name": "HTMLModel",
       "_view_count": null,
       "_view_module": "@jupyter-widgets/controls",
       "_view_module_version": "2.0.0",
       "_view_name": "HTMLView",
       "description": "",
       "description_allow_html": false,
       "layout": "IPY_MODEL_ff03739d18014246817c21e4dbf0a84a",
       "placeholder": "​",
       "style": "IPY_MODEL_e36bde94baa0470b804d73c4cc83a922",
       "tabbable": null,
       "tooltip": null,
       "value": " 256/256 [27:36&lt;00:00,  6.62s/it]"
      }
     },
     "b8499c15522745cd9981166aa85f493d": {
      "model_module": "@jupyter-widgets/controls",
      "model_module_version": "2.0.0",
      "model_name": "HTMLModel",
      "state": {
       "_dom_classes": [],
       "_model_module": "@jupyter-widgets/controls",
       "_model_module_version": "2.0.0",
       "_model_name": "HTMLModel",
       "_view_count": null,
       "_view_module": "@jupyter-widgets/controls",
       "_view_module_version": "2.0.0",
       "_view_name": "HTMLView",
       "description": "",
       "description_allow_html": false,
       "layout": "IPY_MODEL_2410a91c9a7a4826b7d3c14d541ff69d",
       "placeholder": "​",
       "style": "IPY_MODEL_bdbc8bdcb94f49e29847dd9b22e6add5",
       "tabbable": null,
       "tooltip": null,
       "value": "100%"
      }
     },
     "bd094cda8b3c4855a4ed1300edf3f2c3": {
      "model_module": "@jupyter-widgets/controls",
      "model_module_version": "2.0.0",
      "model_name": "ProgressStyleModel",
      "state": {
       "_model_module": "@jupyter-widgets/controls",
       "_model_module_version": "2.0.0",
       "_model_name": "ProgressStyleModel",
       "_view_count": null,
       "_view_module": "@jupyter-widgets/base",
       "_view_module_version": "2.0.0",
       "_view_name": "StyleView",
       "bar_color": null,
       "description_width": ""
      }
     },
     "bdbc8bdcb94f49e29847dd9b22e6add5": {
      "model_module": "@jupyter-widgets/controls",
      "model_module_version": "2.0.0",
      "model_name": "HTMLStyleModel",
      "state": {
       "_model_module": "@jupyter-widgets/controls",
       "_model_module_version": "2.0.0",
       "_model_name": "HTMLStyleModel",
       "_view_count": null,
       "_view_module": "@jupyter-widgets/base",
       "_view_module_version": "2.0.0",
       "_view_name": "StyleView",
       "background": null,
       "description_width": "",
       "font_size": null,
       "text_color": null
      }
     },
     "c078cae24ae7430bace625a76b1cb988": {
      "model_module": "@jupyter-widgets/base",
      "model_module_version": "2.0.0",
      "model_name": "LayoutModel",
      "state": {
       "_model_module": "@jupyter-widgets/base",
       "_model_module_version": "2.0.0",
       "_model_name": "LayoutModel",
       "_view_count": null,
       "_view_module": "@jupyter-widgets/base",
       "_view_module_version": "2.0.0",
       "_view_name": "LayoutView",
       "align_content": null,
       "align_items": null,
       "align_self": null,
       "border_bottom": null,
       "border_left": null,
       "border_right": null,
       "border_top": null,
       "bottom": null,
       "display": null,
       "flex": null,
       "flex_flow": null,
       "grid_area": null,
       "grid_auto_columns": null,
       "grid_auto_flow": null,
       "grid_auto_rows": null,
       "grid_column": null,
       "grid_gap": null,
       "grid_row": null,
       "grid_template_areas": null,
       "grid_template_columns": null,
       "grid_template_rows": null,
       "height": null,
       "justify_content": null,
       "justify_items": null,
       "left": null,
       "margin": null,
       "max_height": null,
       "max_width": null,
       "min_height": null,
       "min_width": null,
       "object_fit": null,
       "object_position": null,
       "order": null,
       "overflow": null,
       "padding": null,
       "right": null,
       "top": null,
       "visibility": null,
       "width": null
      }
     },
     "c26548a3142c45f1adfa8abc1815ac5f": {
      "model_module": "@jupyter-widgets/base",
      "model_module_version": "2.0.0",
      "model_name": "LayoutModel",
      "state": {
       "_model_module": "@jupyter-widgets/base",
       "_model_module_version": "2.0.0",
       "_model_name": "LayoutModel",
       "_view_count": null,
       "_view_module": "@jupyter-widgets/base",
       "_view_module_version": "2.0.0",
       "_view_name": "LayoutView",
       "align_content": null,
       "align_items": null,
       "align_self": null,
       "border_bottom": null,
       "border_left": null,
       "border_right": null,
       "border_top": null,
       "bottom": null,
       "display": null,
       "flex": null,
       "flex_flow": null,
       "grid_area": null,
       "grid_auto_columns": null,
       "grid_auto_flow": null,
       "grid_auto_rows": null,
       "grid_column": null,
       "grid_gap": null,
       "grid_row": null,
       "grid_template_areas": null,
       "grid_template_columns": null,
       "grid_template_rows": null,
       "height": null,
       "justify_content": null,
       "justify_items": null,
       "left": null,
       "margin": null,
       "max_height": null,
       "max_width": null,
       "min_height": null,
       "min_width": null,
       "object_fit": null,
       "object_position": null,
       "order": null,
       "overflow": null,
       "padding": null,
       "right": null,
       "top": null,
       "visibility": null,
       "width": null
      }
     },
     "c59fd60c9cf0495b922c74febebcfd99": {
      "model_module": "@jupyter-widgets/controls",
      "model_module_version": "2.0.0",
      "model_name": "HTMLStyleModel",
      "state": {
       "_model_module": "@jupyter-widgets/controls",
       "_model_module_version": "2.0.0",
       "_model_name": "HTMLStyleModel",
       "_view_count": null,
       "_view_module": "@jupyter-widgets/base",
       "_view_module_version": "2.0.0",
       "_view_name": "StyleView",
       "background": null,
       "description_width": "",
       "font_size": null,
       "text_color": null
      }
     },
     "cc8031db1bd442d1a481d859e4f8c3d1": {
      "model_module": "@jupyter-widgets/controls",
      "model_module_version": "2.0.0",
      "model_name": "ProgressStyleModel",
      "state": {
       "_model_module": "@jupyter-widgets/controls",
       "_model_module_version": "2.0.0",
       "_model_name": "ProgressStyleModel",
       "_view_count": null,
       "_view_module": "@jupyter-widgets/base",
       "_view_module_version": "2.0.0",
       "_view_name": "StyleView",
       "bar_color": null,
       "description_width": ""
      }
     },
     "cd112c61118142adadc1ffdc3d4fd7dc": {
      "model_module": "@jupyter-widgets/controls",
      "model_module_version": "2.0.0",
      "model_name": "ProgressStyleModel",
      "state": {
       "_model_module": "@jupyter-widgets/controls",
       "_model_module_version": "2.0.0",
       "_model_name": "ProgressStyleModel",
       "_view_count": null,
       "_view_module": "@jupyter-widgets/base",
       "_view_module_version": "2.0.0",
       "_view_name": "StyleView",
       "bar_color": null,
       "description_width": ""
      }
     },
     "d0069e861bec45358c5749eb8eb64139": {
      "model_module": "@jupyter-widgets/controls",
      "model_module_version": "2.0.0",
      "model_name": "HTMLModel",
      "state": {
       "_dom_classes": [],
       "_model_module": "@jupyter-widgets/controls",
       "_model_module_version": "2.0.0",
       "_model_name": "HTMLModel",
       "_view_count": null,
       "_view_module": "@jupyter-widgets/controls",
       "_view_module_version": "2.0.0",
       "_view_name": "HTMLView",
       "description": "",
       "description_allow_html": false,
       "layout": "IPY_MODEL_4bc5b7e763bd41efb3f51b7faf6b2553",
       "placeholder": "​",
       "style": "IPY_MODEL_372ec21d55b140a3b2f2485311a94b90",
       "tabbable": null,
       "tooltip": null,
       "value": " 256/256 [27:19&lt;00:00,  6.44s/it]"
      }
     },
     "d2044911f735442cbe3dc75e7249db0f": {
      "model_module": "@jupyter-widgets/base",
      "model_module_version": "2.0.0",
      "model_name": "LayoutModel",
      "state": {
       "_model_module": "@jupyter-widgets/base",
       "_model_module_version": "2.0.0",
       "_model_name": "LayoutModel",
       "_view_count": null,
       "_view_module": "@jupyter-widgets/base",
       "_view_module_version": "2.0.0",
       "_view_name": "LayoutView",
       "align_content": null,
       "align_items": null,
       "align_self": null,
       "border_bottom": null,
       "border_left": null,
       "border_right": null,
       "border_top": null,
       "bottom": null,
       "display": null,
       "flex": null,
       "flex_flow": null,
       "grid_area": null,
       "grid_auto_columns": null,
       "grid_auto_flow": null,
       "grid_auto_rows": null,
       "grid_column": null,
       "grid_gap": null,
       "grid_row": null,
       "grid_template_areas": null,
       "grid_template_columns": null,
       "grid_template_rows": null,
       "height": null,
       "justify_content": null,
       "justify_items": null,
       "left": null,
       "margin": null,
       "max_height": null,
       "max_width": null,
       "min_height": null,
       "min_width": null,
       "object_fit": null,
       "object_position": null,
       "order": null,
       "overflow": null,
       "padding": null,
       "right": null,
       "top": null,
       "visibility": null,
       "width": null
      }
     },
     "d22ead2504ee49e6bdda108317f45ac1": {
      "model_module": "@jupyter-widgets/base",
      "model_module_version": "2.0.0",
      "model_name": "LayoutModel",
      "state": {
       "_model_module": "@jupyter-widgets/base",
       "_model_module_version": "2.0.0",
       "_model_name": "LayoutModel",
       "_view_count": null,
       "_view_module": "@jupyter-widgets/base",
       "_view_module_version": "2.0.0",
       "_view_name": "LayoutView",
       "align_content": null,
       "align_items": null,
       "align_self": null,
       "border_bottom": null,
       "border_left": null,
       "border_right": null,
       "border_top": null,
       "bottom": null,
       "display": null,
       "flex": null,
       "flex_flow": null,
       "grid_area": null,
       "grid_auto_columns": null,
       "grid_auto_flow": null,
       "grid_auto_rows": null,
       "grid_column": null,
       "grid_gap": null,
       "grid_row": null,
       "grid_template_areas": null,
       "grid_template_columns": null,
       "grid_template_rows": null,
       "height": null,
       "justify_content": null,
       "justify_items": null,
       "left": null,
       "margin": null,
       "max_height": null,
       "max_width": null,
       "min_height": null,
       "min_width": null,
       "object_fit": null,
       "object_position": null,
       "order": null,
       "overflow": null,
       "padding": null,
       "right": null,
       "top": null,
       "visibility": null,
       "width": null
      }
     },
     "d69c4d7c0ffd4195b09a98ea697a7a77": {
      "model_module": "@jupyter-widgets/base",
      "model_module_version": "2.0.0",
      "model_name": "LayoutModel",
      "state": {
       "_model_module": "@jupyter-widgets/base",
       "_model_module_version": "2.0.0",
       "_model_name": "LayoutModel",
       "_view_count": null,
       "_view_module": "@jupyter-widgets/base",
       "_view_module_version": "2.0.0",
       "_view_name": "LayoutView",
       "align_content": null,
       "align_items": null,
       "align_self": null,
       "border_bottom": null,
       "border_left": null,
       "border_right": null,
       "border_top": null,
       "bottom": null,
       "display": null,
       "flex": null,
       "flex_flow": null,
       "grid_area": null,
       "grid_auto_columns": null,
       "grid_auto_flow": null,
       "grid_auto_rows": null,
       "grid_column": null,
       "grid_gap": null,
       "grid_row": null,
       "grid_template_areas": null,
       "grid_template_columns": null,
       "grid_template_rows": null,
       "height": null,
       "justify_content": null,
       "justify_items": null,
       "left": null,
       "margin": null,
       "max_height": null,
       "max_width": null,
       "min_height": null,
       "min_width": null,
       "object_fit": null,
       "object_position": null,
       "order": null,
       "overflow": null,
       "padding": null,
       "right": null,
       "top": null,
       "visibility": null,
       "width": null
      }
     },
     "e36bde94baa0470b804d73c4cc83a922": {
      "model_module": "@jupyter-widgets/controls",
      "model_module_version": "2.0.0",
      "model_name": "HTMLStyleModel",
      "state": {
       "_model_module": "@jupyter-widgets/controls",
       "_model_module_version": "2.0.0",
       "_model_name": "HTMLStyleModel",
       "_view_count": null,
       "_view_module": "@jupyter-widgets/base",
       "_view_module_version": "2.0.0",
       "_view_name": "StyleView",
       "background": null,
       "description_width": "",
       "font_size": null,
       "text_color": null
      }
     },
     "f16c0a10ddef42d883635f671bda9653": {
      "model_module": "@jupyter-widgets/controls",
      "model_module_version": "2.0.0",
      "model_name": "HTMLStyleModel",
      "state": {
       "_model_module": "@jupyter-widgets/controls",
       "_model_module_version": "2.0.0",
       "_model_name": "HTMLStyleModel",
       "_view_count": null,
       "_view_module": "@jupyter-widgets/base",
       "_view_module_version": "2.0.0",
       "_view_name": "StyleView",
       "background": null,
       "description_width": "",
       "font_size": null,
       "text_color": null
      }
     },
     "fbcf6af361ec40ffba104e09c0d7eb15": {
      "model_module": "@jupyter-widgets/controls",
      "model_module_version": "2.0.0",
      "model_name": "HTMLModel",
      "state": {
       "_dom_classes": [],
       "_model_module": "@jupyter-widgets/controls",
       "_model_module_version": "2.0.0",
       "_model_name": "HTMLModel",
       "_view_count": null,
       "_view_module": "@jupyter-widgets/controls",
       "_view_module_version": "2.0.0",
       "_view_name": "HTMLView",
       "description": "",
       "description_allow_html": false,
       "layout": "IPY_MODEL_9650fef1b09348cb8cff5a63a56850b7",
       "placeholder": "​",
       "style": "IPY_MODEL_7279d281d2c34657bff252e8df63f4c5",
       "tabbable": null,
       "tooltip": null,
       "value": "100%"
      }
     },
     "fd94337716a24629bbbf38eb2d910e17": {
      "model_module": "@jupyter-widgets/base",
      "model_module_version": "2.0.0",
      "model_name": "LayoutModel",
      "state": {
       "_model_module": "@jupyter-widgets/base",
       "_model_module_version": "2.0.0",
       "_model_name": "LayoutModel",
       "_view_count": null,
       "_view_module": "@jupyter-widgets/base",
       "_view_module_version": "2.0.0",
       "_view_name": "LayoutView",
       "align_content": null,
       "align_items": null,
       "align_self": null,
       "border_bottom": null,
       "border_left": null,
       "border_right": null,
       "border_top": null,
       "bottom": null,
       "display": null,
       "flex": null,
       "flex_flow": null,
       "grid_area": null,
       "grid_auto_columns": null,
       "grid_auto_flow": null,
       "grid_auto_rows": null,
       "grid_column": null,
       "grid_gap": null,
       "grid_row": null,
       "grid_template_areas": null,
       "grid_template_columns": null,
       "grid_template_rows": null,
       "height": null,
       "justify_content": null,
       "justify_items": null,
       "left": null,
       "margin": null,
       "max_height": null,
       "max_width": null,
       "min_height": null,
       "min_width": null,
       "object_fit": null,
       "object_position": null,
       "order": null,
       "overflow": null,
       "padding": null,
       "right": null,
       "top": null,
       "visibility": null,
       "width": null
      }
     },
     "ff03739d18014246817c21e4dbf0a84a": {
      "model_module": "@jupyter-widgets/base",
      "model_module_version": "2.0.0",
      "model_name": "LayoutModel",
      "state": {
       "_model_module": "@jupyter-widgets/base",
       "_model_module_version": "2.0.0",
       "_model_name": "LayoutModel",
       "_view_count": null,
       "_view_module": "@jupyter-widgets/base",
       "_view_module_version": "2.0.0",
       "_view_name": "LayoutView",
       "align_content": null,
       "align_items": null,
       "align_self": null,
       "border_bottom": null,
       "border_left": null,
       "border_right": null,
       "border_top": null,
       "bottom": null,
       "display": null,
       "flex": null,
       "flex_flow": null,
       "grid_area": null,
       "grid_auto_columns": null,
       "grid_auto_flow": null,
       "grid_auto_rows": null,
       "grid_column": null,
       "grid_gap": null,
       "grid_row": null,
       "grid_template_areas": null,
       "grid_template_columns": null,
       "grid_template_rows": null,
       "height": null,
       "justify_content": null,
       "justify_items": null,
       "left": null,
       "margin": null,
       "max_height": null,
       "max_width": null,
       "min_height": null,
       "min_width": null,
       "object_fit": null,
       "object_position": null,
       "order": null,
       "overflow": null,
       "padding": null,
       "right": null,
       "top": null,
       "visibility": null,
       "width": null
      }
     }
    },
    "version_major": 2,
    "version_minor": 0
   }
  }
 },
 "nbformat": 4,
 "nbformat_minor": 4
}
