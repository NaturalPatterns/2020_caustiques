{
 "cells": [
  {
   "cell_type": "markdown",
   "metadata": {},
   "source": [
    "# Caustics"
   ]
  },
  {
   "cell_type": "code",
   "execution_count": 1,
   "metadata": {
    "execution": {
     "iopub.execute_input": "2022-09-16T06:50:17.668239Z",
     "iopub.status.busy": "2022-09-16T06:50:17.667940Z",
     "iopub.status.idle": "2022-09-16T06:50:17.670759Z",
     "shell.execute_reply": "2022-09-16T06:50:17.670294Z"
    }
   },
   "outputs": [],
   "source": [
    "import os\n",
    "import numpy as np\n",
    "import imageio, cv2\n",
    "\n",
    "# the higher PRECISION, the bigger the file\n",
    "# PRECISION = 4  # debugging\n",
    "PRECISION = 10 # good quality\n",
    "# PRECISION = 12 # very good quality\n",
    "# PRECISION = 14 # for production\n",
    "\n",
    "# https://docs.python.org/3/library/dataclasses.html?highlight=dataclass#module-dataclasses\n",
    "from dataclasses import dataclass\n",
    "\n",
    "@dataclass\n",
    "class init:\n",
    "    figpath: str = '2024-07-24_caustique' # Folder to store images\n",
    "    phi: float = 1.61803 # beauty is gold\n",
    "    tag: str = 'caustique' # Tag\n",
    "    ext: str = 'png' # Extension for output\n",
    "    nx: int = 5*2**PRECISION # number of pixels (vertical)\n",
    "    ny: int = 5*2**PRECISION # number of pixels (horizontal)\n",
    "    nframe: int = 1 # number of frames\n",
    "    bin_dens: int = 2 # relative bin density\n",
    "    bin_spectrum: int = 1 # bin spacing in spectrum (lower is more CPU)\n",
    "    seed: int = 2024 # seed for RNG\n",
    "    H: float = 20.0 # depth of the pool\n",
    "    variation: float = .20 # variation of diffraction index: http://www.philiplaven.com/p20.html 1.40 at 400 nm and 1.37 at 700nm makes a 2% variation\n",
    "    scale: float = .85*2**PRECISION # period in pixels\n",
    "    B_sf: float = 1.25 # bandwidth in sf\n",
    "    V_Y: float = 0.3 # horizontal speed\n",
    "    V_X: float = 0.3 # vertical speed\n",
    "    B_V: float = 1.0 # bandwidth in speed\n",
    "    zmin: float = 0.2 # gradient of wave height\n",
    "    # theta: float = 2*np.pi*(2-1.61803) # angle with the horizontal\n",
    "    theta: float = np.pi/2 # angle with the horizontal\n",
    "    B_theta: float = 60*np.pi/180 # bandwidth in theta\n",
    "    min_lum: float = .1 # global diffusion level for the rendering giving the pedestal value\n",
    "    n_bits: int = 16 # bits to save images\n",
    "    gamma: float = 2.4 # Gamma exponant to convert luminosity to luminance\n",
    "    fps: float = 18 # frames per second\n",
    "    multispectral: bool = True # Compute caustics on the full spectrogram.\n",
    "    cache: bool = True # Cache intermediate output.\n",
    "    verbose: bool = False # Displays more verbose output.\n",
    "    do_display: bool = False # Displays images in notebook.\n",
    "    do_recompute: bool = False # Restart each computation    "
   ]
  },
  {
   "cell_type": "code",
   "execution_count": 2,
   "metadata": {
    "execution": {
     "iopub.execute_input": "2022-09-16T06:50:17.688713Z",
     "iopub.status.busy": "2022-09-16T06:50:17.688504Z",
     "iopub.status.idle": "2022-09-16T06:50:17.691583Z",
     "shell.execute_reply": "2022-09-16T06:50:17.691125Z"
    }
   },
   "outputs": [
    {
     "name": "stdout",
     "output_type": "stream",
     "text": [
      "Saving our simulations in=2024-07-24_caustique\n"
     ]
    }
   ],
   "source": [
    "opt = init()\n",
    "print(f'Saving our simulations in={opt.figpath}')"
   ]
  },
  {
   "cell_type": "code",
   "execution_count": 3,
   "metadata": {},
   "outputs": [],
   "source": [
    "# if opt.nframe==1: opt.ext = 'png'"
   ]
  },
  {
   "cell_type": "code",
   "execution_count": 4,
   "metadata": {
    "execution": {
     "iopub.execute_input": "2022-09-16T06:50:17.728359Z",
     "iopub.status.busy": "2022-09-16T06:50:17.728155Z",
     "iopub.status.idle": "2022-09-16T06:50:17.734829Z",
     "shell.execute_reply": "2022-09-16T06:50:17.734354Z"
    },
    "tags": []
   },
   "outputs": [
    {
     "name": "stdout",
     "output_type": "stream",
     "text": [
      "init(figpath='2024-07-24_caustique',\n",
      "     phi=1.61803,\n",
      "     tag='caustique',\n",
      "     ext='png',\n",
      "     nx=5120,\n",
      "     ny=5120,\n",
      "     nframe=1,\n",
      "     bin_dens=2,\n",
      "     bin_spectrum=1,\n",
      "     seed=2024,\n",
      "     H=20.0,\n",
      "     variation=0.2,\n",
      "     scale=870.4,\n",
      "     B_sf=1.25,\n",
      "     V_Y=0.3,\n",
      "     V_X=0.3,\n",
      "     B_V=1.0,\n",
      "     zmin=0.2,\n",
      "     theta=1.5707963267948966,\n",
      "     B_theta=1.0471975511965976,\n",
      "     min_lum=0.1,\n",
      "     n_bits=16,\n",
      "     gamma=2.4,\n",
      "     fps=18,\n",
      "     multispectral=True,\n",
      "     cache=True,\n",
      "     verbose=False,\n",
      "     do_display=False,\n",
      "     do_recompute=True)\n"
     ]
    }
   ],
   "source": [
    "from pprint import pprint\n",
    "pprint(opt)"
   ]
  },
  {
   "cell_type": "code",
   "execution_count": 5,
   "metadata": {},
   "outputs": [
    {
     "name": "stdout",
     "output_type": "stream",
     "text": [
      "Screen size=100cm, dpi=65dpi\n"
     ]
    }
   ],
   "source": [
    "screen_size = 100 # cm\n",
    "cm_by_inch = 2.54\n",
    "inches = screen_size/cm_by_inch\n",
    "dpi = opt.nx // opt.bin_dens / inches\n",
    "print(f'Screen size={screen_size}cm, dpi={dpi:.0f}dpi')"
   ]
  },
  {
   "cell_type": "markdown",
   "metadata": {},
   "source": [
    "## utilities\n",
    "\n",
    "Transfoming a sequence of PNG frames into gif or mp4:"
   ]
  },
  {
   "cell_type": "code",
   "execution_count": 6,
   "metadata": {
    "execution": {
     "iopub.execute_input": "2022-09-16T06:50:17.737334Z",
     "iopub.status.busy": "2022-09-16T06:50:17.737126Z",
     "iopub.status.idle": "2022-09-16T06:50:17.741165Z",
     "shell.execute_reply": "2022-09-16T06:50:17.740716Z"
    }
   },
   "outputs": [],
   "source": [
    "def make_gif(gifname, fnames, fps, do_delete=True):\n",
    "    with imageio.get_writer(gifname, mode='I', fps=fps) as writer:\n",
    "        for fname in fnames:\n",
    "            writer.append_data(imageio.imread(fname))\n",
    "\n",
    "    from pygifsicle import optimize\n",
    "    optimize(str(gifname))\n",
    "    if do_delete: \n",
    "        for fname in fnames: os.remove(fname)\n",
    "    return gifname\n",
    "\n",
    "# https://moviepy.readthedocs.io/en/latest/getting_started/videoclips.html#imagesequenceclip\n",
    "def make_mp4(mp4name, fnames, fps, do_delete=True):\n",
    "    import moviepy.editor as mpy\n",
    "    clip = mpy.ImageSequenceClip(fnames, fps=fps)\n",
    "    clip.write_videofile(mp4name, fps=fps, codec='libx264', verbose=False, logger=None)\n",
    "    if do_delete: \n",
    "        for fname in fnames: os.remove(fname)\n",
    "    return mp4name"
   ]
  },
  {
   "cell_type": "markdown",
   "metadata": {},
   "source": [
    "\n",
    "Utilities to compute the spectrum of the blue sky and convert them later to RGB values (check out https://laurentperrinet.github.io/sciblog/posts/2020-07-04-colors-of-the-sky.html for details)"
   ]
  },
  {
   "cell_type": "code",
   "execution_count": 7,
   "metadata": {
    "execution": {
     "iopub.execute_input": "2022-09-16T06:50:17.743669Z",
     "iopub.status.busy": "2022-09-16T06:50:17.743461Z",
     "iopub.status.idle": "2022-09-16T06:50:17.757701Z",
     "shell.execute_reply": "2022-09-16T06:50:17.757282Z"
    }
   },
   "outputs": [],
   "source": [
    "from lambda2color import Lambda2color, xyz_from_xy\n",
    "\n",
    "# borrowed from https://github.com/gummiks/gummiks.github.io/blob/master/scripts/astro/planck.py\n",
    "def planck(wav, T):\n",
    "    import scipy.constants as const\n",
    "    c = const.c # c = 3.0e+8\n",
    "    h = const.h # h = 6.626e-34\n",
    "    k = const.k # k = 1.38e-23\n",
    "    a = 2.0*h*c**2\n",
    "    b = h*c/(wav*k*T)\n",
    "    intensity = a / ( (wav**5) * (np.exp(b) - 1.0) )\n",
    "    return intensity\n",
    "\n",
    "def scattering(wav, a=0.005, p=1.3, b=0.45):\n",
    "    \"\"\"\n",
    "    b is  proportionate  to  the  column  density  of  aerosols\n",
    "    along  the  path  of  sunlight,  from  outside  the  atmosphere\n",
    "    to  the  point  of  observation\n",
    "    \n",
    "    see https://laurentperrinet.github.io/sciblog/posts/2020-07-04-colors-of-the-sky.html for more details\n",
    "\n",
    "    \"\"\"\n",
    "    # converting wav in µm:\n",
    "    intensity = np.exp(-a/((wav/1e-6)**4)) # Rayleigh extinction by nitrogen\n",
    "    intensity *= (wav/1e-6)**-4\n",
    "    intensity *= np.exp(-b/((wav/1e-6)**p)) # Aerosols\n",
    "    return intensity"
   ]
  },
  {
   "cell_type": "markdown",
   "metadata": {},
   "source": [
    "## computing the caustics"
   ]
  },
  {
   "cell_type": "code",
   "execution_count": 8,
   "metadata": {
    "execution": {
     "iopub.execute_input": "2022-09-16T06:50:17.012647Z",
     "iopub.status.busy": "2022-09-16T06:50:17.012413Z",
     "iopub.status.idle": "2022-09-16T06:50:17.665184Z",
     "shell.execute_reply": "2022-09-16T06:50:17.664652Z"
    }
   },
   "outputs": [
    {
     "name": "stderr",
     "output_type": "stream",
     "text": [
      "<>:193: SyntaxWarning: invalid escape sequence '\\>'\n",
      "<>:193: SyntaxWarning: invalid escape sequence '\\>'\n",
      "/var/folders/3p/m0g52j9j69z3gj8ktpgg1dm00000gn/T/ipykernel_21826/1923257970.py:193: SyntaxWarning: invalid escape sequence '\\>'\n",
      "  html = HTML(f'<video {opts} src=\"{output_filename}\" type=\"video/{self.opt.ext}\" width={width}\\>')\n"
     ]
    }
   ],
   "source": [
    "import matplotlib\n",
    "import matplotlib.pyplot as plt\n",
    "from tqdm import tqdm, trange\n",
    "import shutil\n",
    "import hashlib\n",
    "import MotionClouds as mc\n",
    "\n",
    "class Caustique:\n",
    "    def __init__(self, opt):\n",
    "        \"\"\"\n",
    "        Image coordinates follow 'ij' indexing, that is,\n",
    "        * their origin at the top left,\n",
    "        * the X axis is vertical and goes \"down\",\n",
    "        * the Y axis is horizontal and goes \"right\".\n",
    "\n",
    "        \"\"\"\n",
    "        self.mc = mc\n",
    "        self.ratio = opt.ny/opt.nx # ratio between height and width (>1 for portrait, <1 for landscape)\n",
    "        X = np.linspace(0, 1, opt.nx, endpoint=False) # vertical\n",
    "        Y = np.linspace(0, self.ratio, opt.ny, endpoint=False) # horizontal\n",
    "        self.xv, self.yv = np.meshgrid(X, Y, indexing='ij')\n",
    "        self.opt = opt\n",
    "        # https://stackoverflow.com/questions/16878315/what-is-the-right-way-to-treat-python-argparse-namespace-as-a-dictionary\n",
    "        self.d = vars(opt)\n",
    "        os.makedirs(self.opt.figpath, exist_ok=True)\n",
    "        self.cachepath = os.path.join('/tmp', self.opt.figpath)\n",
    "        if opt.verbose: print(f'{self.cachepath=}')\n",
    "        os.makedirs(self.cachepath, exist_ok=True)\n",
    "\n",
    "        # a standard white:\n",
    "        # illuminant_D65 = xyz_from_xy(0.3127, 0.3291), \n",
    "        illuminant_sun = xyz_from_xy(0.325998, 0.335354)\n",
    "        # color conversion class\n",
    "        self.cs_srgb = Lambda2color(red=xyz_from_xy(0.64, 0.33),\n",
    "                               green=xyz_from_xy(0.30, 0.60),\n",
    "                               blue=xyz_from_xy(0.15, 0.06),\n",
    "                               white=illuminant_sun)\n",
    "        self.wavelengths = self.cs_srgb.cmf[:, 0]*1e-9\n",
    "        self.N_wavelengths = len(self.wavelengths)\n",
    "        # multiply by the spectrum of the sky\n",
    "        intensity5800 = planck(self.wavelengths, 5800.)\n",
    "        scatter = scattering(self.wavelengths)\n",
    "        self.spectrum_sky = intensity5800 * scatter\n",
    "        self.spectrum_sky /= self.spectrum_sky.max()\n",
    "\n",
    "    def wave(self):\n",
    "        filename = f'{self.cachepath}/{self.opt.tag}_wave.npy'\n",
    "        if os.path.isfile(filename) and not(self.opt.do_recompute):\n",
    "            z = np.load(filename)\n",
    "        else:\n",
    "            # A simplistic model of a wave using https://github.com/NeuralEnsemble/MotionClouds\n",
    "            fx, fy, ft = mc.get_grids(self.opt.nx, self.opt.ny, self.opt.nframe)\n",
    "            env = mc.envelope_gabor(fx, fy, ft, V_X=self.opt.V_Y, V_Y=self.opt.V_X, B_V=self.opt.B_V,\n",
    "                                    sf_0=1./self.opt.scale, B_sf=self.opt.B_sf/self.opt.scale,\n",
    "                                    theta=self.opt.theta, B_theta=self.opt.B_theta)\n",
    "            z = mc.rectif(mc.random_cloud(env, seed=self.opt.seed))\n",
    "            if self.opt.cache: np.save(filename, z)\n",
    "        return z * np.linspace(self.opt.zmin, 1., self.opt.nx)[:, None, None]\n",
    "\n",
    "    def transform(self, z_, modulation=1., edge_order=2):\n",
    "        xv, yv = self.xv.copy(), self.yv.copy()\n",
    "\n",
    "        # dzdx = z_ - np.roll(z_, 1, axis=0)\n",
    "        # dzdy = z_ - np.roll(z_, 1, axis=1)\n",
    "\n",
    "        # https://numpy.org/doc/stable/reference/generated/numpy.gradient.html\n",
    "        # dzdx = np.gradient(z_, axis=0, edge_order=edge_order)\n",
    "        # dzdy = np.gradient(z_, axis=1, edge_order=edge_order)\n",
    "        dzdx, dzdy = np.gradient(z_, edge_order=edge_order)\n",
    "\n",
    "        xv = xv + modulation * self.opt.H * dzdx\n",
    "        yv = yv + modulation * self.opt.H * dzdy\n",
    "\n",
    "        xv = np.mod(xv, 1)\n",
    "        yv = np.mod(yv, self.ratio)\n",
    "\n",
    "        return xv, yv\n",
    "\n",
    "    def plot(self, z, image=None, do_color=True, dpi=dpi):\n",
    "        \"\"\"\n",
    "        \n",
    "        dpi: output resolution - sets the figure size as we ensure there is a one to one correspondance between pixels in the data and the output image\n",
    "        \"\"\"\n",
    "\n",
    "        # output filename        \n",
    "        md5 = hashlib.sha224((self.opt.figpath + self.opt.tag).encode()).hexdigest()[:8] # an unique identifier for future tagging\n",
    "        output_filename = f'{self.opt.figpath}/{self.opt.tag}_{md5}.{self.opt.ext}'\n",
    "        if os.path.isfile(output_filename) and not(self.opt.do_recompute):\n",
    "            return output_filename\n",
    "        else:\n",
    "            # 1/ do the raytracing of image through z:\n",
    "            binsx, binsy = self.opt.nx//self.opt.bin_dens, self.opt.ny//self.opt.bin_dens\n",
    "\n",
    "            # a fixed image in degree of contrast (from 0=black to 1=white)\n",
    "            if image is None: image = np.ones((self.opt.nx, self.opt.ny))\n",
    "\n",
    "            #hist = self.do_raytracing(z)\n",
    "            binsx, binsy = self.opt.nx//self.opt.bin_dens, self.opt.ny//self.opt.bin_dens\n",
    "\n",
    "            subplotpars = matplotlib.figure.SubplotParams(left=0., right=1., bottom=0., top=1., wspace=0., hspace=0.,)\n",
    "\n",
    "            if self.opt.multispectral:\n",
    "\n",
    "                #image_rgb = self.cs_srgb.spec_to_rgb(hist)\n",
    "                image_rgb = np.zeros((self.opt.nx//self.opt.bin_dens,  self.opt.ny//self.opt.bin_dens, 3, self.opt.nframe))\n",
    "                for i_frame in trange(self.opt.nframe):\n",
    "                    for i_wavelength in trange(self.opt.bin_spectrum//2, self.N_wavelengths, self.opt.bin_spectrum):\n",
    "                        modulation = 1. + self.opt.variation/2 - self.opt.variation*i_wavelength/self.N_wavelengths\n",
    "                        xv, yv = self.transform(z[:, :, i_frame], modulation=modulation)\n",
    "                        hist_, _, _ = np.histogram2d(xv.ravel(), yv.ravel(),\n",
    "                                                     bins=[binsx, binsy],\n",
    "                                                     weights=image.ravel(),\n",
    "                                                     range=[[0, 1], [0, self.ratio]],\n",
    "                                                     density=True)\n",
    "\n",
    "                        # we convert the spectrum into a color\n",
    "                        spec = np.zeros((self.N_wavelengths))\n",
    "                        spec[i_wavelength] = 1\n",
    "                        rgb = self.cs_srgb.spec_to_rgb(spec)\n",
    "                        rgb *= self.spectrum_sky[i_wavelength]\n",
    "                        # we add the color to the image\n",
    "                        image_rgb[:, :, :, i_frame] += hist_[:, :, None] * rgb[None, None, :]\n",
    "\n",
    "                image_rgb -= image_rgb.min()\n",
    "                image_rgb /= image_rgb.max()\n",
    "            else:\n",
    "                hist = np.zeros((binsx, binsy, self.opt.nframe))\n",
    "                for i_frame in trange(self.opt.nframe):\n",
    "                    xv, yv = self.transform(z[:, :, i_frame])\n",
    "                    hist_, _, _ = np.histogram2d(xv.ravel(), yv.ravel(),\n",
    "                                                        bins=[binsx, binsy],\n",
    "                                                        range=[[0, 1], [0, self.ratio]],\n",
    "                                                        density=True)\n",
    "                #hist /= hist.max()\n",
    "\n",
    "            # 2/ transform light into image:\n",
    "            fnames = []\n",
    "            for i_frame in trange(self.opt.nframe):\n",
    "                fig, ax = plt.subplots(figsize=(self.opt.ny/self.opt.bin_dens/dpi, self.opt.nx/self.opt.bin_dens/dpi), subplotpars=subplotpars)\n",
    "                if self.opt.multispectral:\n",
    "                    image_array = image_rgb[:, :, :, i_frame] ** (1/self.opt.gamma)\n",
    "                    ax.imshow(image_array, vmin=0, vmax=1)\n",
    "                else:\n",
    "                    if do_color:\n",
    "                        bluesky = np.array([0.268375, 0.283377]) # xyz\n",
    "                        sun = np.array([0.325998, 0.335354]) # xyz\n",
    "                        # ax.pcolormesh(edge_y, edge_x, hist[:, :, i_frame], vmin=0, vmax=1, cmap=plt.cm.Blues_r)\n",
    "                        # https://en.wikipedia.org/wiki/CIE_1931_color_space#Mixing_colors_specified_with_the_CIE_xy_chromaticity_diagram\n",
    "                        L1 = 1 - hist[:, :, i_frame]\n",
    "                        L2 = hist[:, :, i_frame]\n",
    "                        image_denom = L1 / bluesky[1] + L2 / sun[1]\n",
    "                        image_x = (L1 * bluesky[0] / bluesky[1] + L2 * sun[0] / sun[1]) / image_denom\n",
    "                        image_y = (L1 + L2) / image_denom \n",
    "                        image_xyz = np.dstack((image_x, image_y, 1 - image_x - image_y))\n",
    "                        image_rgb = self.cs_srgb.xyz_to_rgb(image_xyz)\n",
    "                        image_L = (self.opt.min_lum + (1-self.opt.min_lum)* L2) ** (1/self.opt.gamma)\n",
    "                        image_array = image_L[:, :, None]*image_rgb\n",
    "                        ax.imshow(image_array, vmin=0, vmax=1)\n",
    "                    else:\n",
    "                        ax.imshow(1-image_L, vmin=0, vmax=1)\n",
    "\n",
    "                fname = f'{self.cachepath}/{self.opt.tag}_frame_{i_frame:04d}.png'\n",
    "                \n",
    "                # fig.savefig(fname, dpi=dpi)\n",
    "                np_dtype = np.uint8 if self.opt.n_bits==8 else np.uint16\n",
    "                # imageio.imsave(fname, image_array.astype(np_dtype), dpi=dpi, extension=opt.ext)\n",
    "                cv2.imwrite(fname, (image_array*(2**self.opt.n_bits-1)).astype(np_dtype))\n",
    "                fnames.append(fname)\n",
    "                plt.close(fig)\n",
    "\n",
    "            if self.opt.nframe==1:\n",
    "                shutil.copyfile(fname, output_filename)\n",
    "                return output_filename\n",
    "            else:\n",
    "                if self.opt.ext == 'gif':\n",
    "                    return make_gif(output_filename, fnames, fps=self.opt.fps)\n",
    "                else:\n",
    "                    return make_mp4(output_filename, fnames, fps=self.opt.fps)\n",
    "\n",
    "    def show(self, output_filename, width=1024):\n",
    "        from IPython.display import HTML, Image, display\n",
    "        if self.opt.nframe==1:\n",
    "            # display(Image(url=output_filename.replace(self.opt.ext, 'png'), width=width))\n",
    "            display(Image(url=output_filename, width=width))\n",
    "        else:\n",
    "            if self.opt.ext == 'gif':\n",
    "                return display(Image(url=output_filename, width=width))\n",
    "            else:\n",
    "                #import moviepy.editor as mpy\n",
    "                #return mpy.ipython_display(output_filename, width=width)\n",
    "                # https://github.com/NeuralEnsemble/MotionClouds/blob/master/MotionClouds/MotionClouds.py#L858\n",
    "                opts = ' loop=\"1\" autoplay=\"1\" controls '\n",
    "                html = HTML(f'<video {opts} src=\"{output_filename}\" type=\"video/{self.opt.ext}\" width={width}\\>')\n",
    "                html.reload()\n",
    "                return display(html)"
   ]
  },
  {
   "cell_type": "markdown",
   "metadata": {},
   "source": [
    "# a simple caustics"
   ]
  },
  {
   "cell_type": "markdown",
   "metadata": {
    "tags": []
   },
   "source": [
    "## generating the caustics"
   ]
  },
  {
   "cell_type": "code",
   "execution_count": 9,
   "metadata": {
    "execution": {
     "iopub.execute_input": "2022-09-16T06:50:17.864888Z",
     "iopub.status.busy": "2022-09-16T06:50:17.864663Z",
     "iopub.status.idle": "2022-09-16T06:50:19.896847Z",
     "shell.execute_reply": "2022-09-16T06:50:19.896285Z"
    }
   },
   "outputs": [
    {
     "data": {
      "text/plain": [
       "(5120, 5120, 1)"
      ]
     },
     "execution_count": 9,
     "metadata": {},
     "output_type": "execute_result"
    }
   ],
   "source": [
    "c = Caustique(opt)\n",
    "z = c.wave()\n",
    "z.shape"
   ]
  },
  {
   "cell_type": "code",
   "execution_count": 10,
   "metadata": {},
   "outputs": [],
   "source": [
    "def generate_image(nx, ny, periods=6.25, threshold=0.45, radius=.9):\n",
    "    X, Y = np.meshgrid(np.linspace(-1, 1, nx, endpoint=True), np.linspace(-1, 1, ny, endpoint=True))\n",
    "    image = (np.cos(2*np.pi*X*periods) > threshold)*1.\n",
    "    # image += (np.cos(2*np.pi*Y*periods) > threshold)*1.\n",
    "    # image = (image>=1) * 1.\n",
    "    image *= (X**2 < radius**2) * (Y**2 < radius**2) * 1.\n",
    "    return image\n",
    "image = generate_image(nx=c.opt.nx, ny=c.opt.ny)"
   ]
  },
  {
   "cell_type": "code",
   "execution_count": 11,
   "metadata": {
    "execution": {
     "iopub.execute_input": "2022-09-16T06:50:19.899518Z",
     "iopub.status.busy": "2022-09-16T06:50:19.899287Z",
     "iopub.status.idle": "2022-09-16T06:50:19.902454Z",
     "shell.execute_reply": "2022-09-16T06:50:19.902008Z"
    }
   },
   "outputs": [
    {
     "name": "stderr",
     "output_type": "stream",
     "text": [
      "100%|██████████| 81/81 [03:21<00:00,  2.49s/it]\n",
      "100%|██████████| 1/1 [03:21<00:00, 201.80s/it]\n",
      "100%|██████████| 1/1 [00:00<00:00,  1.68it/s]\n"
     ]
    }
   ],
   "source": [
    "c = Caustique(opt)\n",
    "output_filename = c.plot(z, image)"
   ]
  },
  {
   "cell_type": "code",
   "execution_count": 12,
   "metadata": {
    "execution": {
     "iopub.execute_input": "2022-09-16T06:50:19.904998Z",
     "iopub.status.busy": "2022-09-16T06:50:19.904782Z",
     "iopub.status.idle": "2022-09-16T06:50:19.908171Z",
     "shell.execute_reply": "2022-09-16T06:50:19.907731Z"
    }
   },
   "outputs": [
    {
     "data": {
      "text/html": [
       "<img src=\"2024-07-24_caustique/caustique_bb52fe1f.png\" width=\"1024\"/>"
      ],
      "text/plain": [
       "<IPython.core.display.Image object>"
      ]
     },
     "metadata": {},
     "output_type": "display_data"
    }
   ],
   "source": [
    "c.show(output_filename)"
   ]
  },
  {
   "cell_type": "markdown",
   "metadata": {
    "tags": []
   },
   "source": [
    "# exploring parameters"
   ]
  },
  {
   "cell_type": "code",
   "execution_count": 13,
   "metadata": {
    "execution": {
     "iopub.execute_input": "2022-09-16T06:50:19.910794Z",
     "iopub.status.busy": "2022-09-16T06:50:19.910587Z",
     "iopub.status.idle": "2022-09-16T06:50:19.913072Z",
     "shell.execute_reply": "2022-09-16T06:50:19.912580Z"
    }
   },
   "outputs": [],
   "source": [
    "N_scan = 9\n",
    "base = 2"
   ]
  },
  {
   "cell_type": "markdown",
   "metadata": {
    "tags": []
   },
   "source": [
    "## water depth"
   ]
  },
  {
   "cell_type": "code",
   "execution_count": 14,
   "metadata": {
    "execution": {
     "iopub.execute_input": "2022-09-16T06:50:19.915420Z",
     "iopub.status.busy": "2022-09-16T06:50:19.915215Z",
     "iopub.status.idle": "2022-09-16T06:50:21.641723Z",
     "shell.execute_reply": "2022-09-16T06:50:21.641154Z"
    }
   },
   "outputs": [
    {
     "name": "stderr",
     "output_type": "stream",
     "text": [
      "100%|██████████| 81/81 [03:13<00:00,  2.39s/it]\n",
      "100%|██████████| 1/1 [03:13<00:00, 193.86s/it]\n",
      "100%|██████████| 1/1 [00:00<00:00,  1.94it/s]\n"
     ]
    },
    {
     "name": "stdout",
     "output_type": "stream",
     "text": [
      "H = 10.000 -> output_filename='2024-07-24_caustique/caustique_H_10.000_f71b6441.png' \n"
     ]
    },
    {
     "name": "stderr",
     "output_type": "stream",
     "text": [
      "100%|██████████| 81/81 [03:15<00:00,  2.42s/it]\n",
      "100%|██████████| 1/1 [03:15<00:00, 195.63s/it]\n",
      "100%|██████████| 1/1 [00:00<00:00,  1.89it/s]\n"
     ]
    },
    {
     "name": "stdout",
     "output_type": "stream",
     "text": [
      "H = 11.892 -> output_filename='2024-07-24_caustique/caustique_H_11.892_7d5a54d5.png' \n"
     ]
    },
    {
     "name": "stderr",
     "output_type": "stream",
     "text": [
      "100%|██████████| 81/81 [03:15<00:00,  2.41s/it]\n",
      "100%|██████████| 1/1 [03:15<00:00, 195.07s/it]\n",
      "100%|██████████| 1/1 [00:00<00:00,  1.84it/s]\n"
     ]
    },
    {
     "name": "stdout",
     "output_type": "stream",
     "text": [
      "H = 14.142 -> output_filename='2024-07-24_caustique/caustique_H_14.142_1bf6c15d.png' \n"
     ]
    },
    {
     "name": "stderr",
     "output_type": "stream",
     "text": [
      "100%|██████████| 81/81 [03:16<00:00,  2.43s/it]\n",
      "100%|██████████| 1/1 [03:16<00:00, 196.53s/it]\n",
      "100%|██████████| 1/1 [00:00<00:00,  1.85it/s]\n"
     ]
    },
    {
     "name": "stdout",
     "output_type": "stream",
     "text": [
      "H = 16.818 -> output_filename='2024-07-24_caustique/caustique_H_16.818_1417ee42.png' \n"
     ]
    },
    {
     "name": "stderr",
     "output_type": "stream",
     "text": [
      "100%|██████████| 81/81 [03:16<00:00,  2.42s/it]\n",
      "100%|██████████| 1/1 [03:16<00:00, 196.24s/it]\n",
      "100%|██████████| 1/1 [00:00<00:00,  1.79it/s]\n"
     ]
    },
    {
     "name": "stdout",
     "output_type": "stream",
     "text": [
      "H = 20.000 -> output_filename='2024-07-24_caustique/caustique_H_20.000_ca9a3260.png' \n"
     ]
    },
    {
     "name": "stderr",
     "output_type": "stream",
     "text": [
      "100%|██████████| 81/81 [03:17<00:00,  2.44s/it]\n",
      "100%|██████████| 1/1 [03:17<00:00, 197.60s/it]\n",
      "100%|██████████| 1/1 [00:00<00:00,  1.67it/s]\n"
     ]
    },
    {
     "name": "stdout",
     "output_type": "stream",
     "text": [
      "H = 23.784 -> output_filename='2024-07-24_caustique/caustique_H_23.784_6025daa7.png' \n"
     ]
    },
    {
     "name": "stderr",
     "output_type": "stream",
     "text": [
      "100%|██████████| 81/81 [03:23<00:00,  2.51s/it]\n",
      "100%|██████████| 1/1 [03:23<00:00, 203.32s/it]\n",
      "100%|██████████| 1/1 [00:00<00:00,  1.51it/s]\n"
     ]
    },
    {
     "name": "stdout",
     "output_type": "stream",
     "text": [
      "H = 28.284 -> output_filename='2024-07-24_caustique/caustique_H_28.284_8aca5dce.png' \n"
     ]
    },
    {
     "name": "stderr",
     "output_type": "stream",
     "text": [
      "100%|██████████| 81/81 [03:26<00:00,  2.55s/it]\n",
      "100%|██████████| 1/1 [03:26<00:00, 206.34s/it]\n",
      "100%|██████████| 1/1 [00:00<00:00,  1.44it/s]\n"
     ]
    },
    {
     "name": "stdout",
     "output_type": "stream",
     "text": [
      "H = 33.636 -> output_filename='2024-07-24_caustique/caustique_H_33.636_1676bd58.png' \n"
     ]
    },
    {
     "name": "stderr",
     "output_type": "stream",
     "text": [
      "100%|██████████| 81/81 [03:28<00:00,  2.57s/it]\n",
      "100%|██████████| 1/1 [03:28<00:00, 208.37s/it]\n",
      "100%|██████████| 1/1 [00:00<00:00,  1.32it/s]"
     ]
    },
    {
     "name": "stdout",
     "output_type": "stream",
     "text": [
      "H = 40.000 -> output_filename='2024-07-24_caustique/caustique_H_40.000_14b4f753.png' \n"
     ]
    },
    {
     "name": "stderr",
     "output_type": "stream",
     "text": [
      "\n"
     ]
    }
   ],
   "source": [
    "for H_ in c.opt.H*np.logspace(-1, 1, N_scan, base=base):\n",
    "    opt = init()\n",
    "    c = Caustique(opt)\n",
    "    c.opt.H = H_\n",
    "    c.opt.tag = f'{c.opt.tag}_H_{H_:.3f}'\n",
    "    \n",
    "    output_filename = c.plot(z, image)\n",
    "    print(f'H = {H_:.3f} -> {output_filename=} ')\n",
    "    if c.opt.do_display: c.show(output_filename)"
   ]
  },
  {
   "cell_type": "markdown",
   "metadata": {
    "tags": []
   },
   "source": [
    "## refraction index variation"
   ]
  },
  {
   "cell_type": "code",
   "execution_count": 15,
   "metadata": {
    "execution": {
     "iopub.execute_input": "2022-09-16T06:50:21.644704Z",
     "iopub.status.busy": "2022-09-16T06:50:21.644457Z",
     "iopub.status.idle": "2022-09-16T06:50:23.391217Z",
     "shell.execute_reply": "2022-09-16T06:50:23.390608Z"
    }
   },
   "outputs": [
    {
     "name": "stderr",
     "output_type": "stream",
     "text": [
      "100%|██████████| 81/81 [03:20<00:00,  2.48s/it]\n",
      "100%|██████████| 1/1 [03:20<00:00, 200.79s/it]\n",
      "100%|██████████| 1/1 [00:00<00:00,  1.75it/s]\n"
     ]
    },
    {
     "name": "stdout",
     "output_type": "stream",
     "text": [
      "variation = 0.010  -> output_filename='2024-07-24_caustique/caustique_variation_0.010_3b7030f9.png'\n"
     ]
    },
    {
     "name": "stderr",
     "output_type": "stream",
     "text": [
      "100%|██████████| 81/81 [03:14<00:00,  2.40s/it]\n",
      "100%|██████████| 1/1 [03:14<00:00, 194.59s/it]\n",
      "100%|██████████| 1/1 [00:00<00:00,  1.90it/s]\n"
     ]
    },
    {
     "name": "stdout",
     "output_type": "stream",
     "text": [
      "variation = 0.017  -> output_filename='2024-07-24_caustique/caustique_variation_0.017_bdd57b3e.png'\n"
     ]
    },
    {
     "name": "stderr",
     "output_type": "stream",
     "text": [
      "100%|██████████| 81/81 [03:15<00:00,  2.41s/it]\n",
      "100%|██████████| 1/1 [03:15<00:00, 195.15s/it]\n",
      "100%|██████████| 1/1 [00:00<00:00,  1.87it/s]\n"
     ]
    },
    {
     "name": "stdout",
     "output_type": "stream",
     "text": [
      "variation = 0.028  -> output_filename='2024-07-24_caustique/caustique_variation_0.028_c7bf47b3.png'\n"
     ]
    },
    {
     "name": "stderr",
     "output_type": "stream",
     "text": [
      "100%|██████████| 81/81 [03:16<00:00,  2.42s/it]\n",
      "100%|██████████| 1/1 [03:16<00:00, 196.29s/it]\n",
      "100%|██████████| 1/1 [00:00<00:00,  1.84it/s]\n"
     ]
    },
    {
     "name": "stdout",
     "output_type": "stream",
     "text": [
      "variation = 0.046  -> output_filename='2024-07-24_caustique/caustique_variation_0.046_bbcb11bd.png'\n"
     ]
    },
    {
     "name": "stderr",
     "output_type": "stream",
     "text": [
      "100%|██████████| 81/81 [03:14<00:00,  2.41s/it]\n",
      "100%|██████████| 1/1 [03:14<00:00, 194.97s/it]\n",
      "100%|██████████| 1/1 [00:00<00:00,  1.82it/s]\n"
     ]
    },
    {
     "name": "stdout",
     "output_type": "stream",
     "text": [
      "variation = 0.077  -> output_filename='2024-07-24_caustique/caustique_variation_0.077_73aa2331.png'\n"
     ]
    },
    {
     "name": "stderr",
     "output_type": "stream",
     "text": [
      "100%|██████████| 81/81 [03:14<00:00,  2.40s/it]\n",
      "100%|██████████| 1/1 [03:14<00:00, 194.29s/it]\n",
      "100%|██████████| 1/1 [00:00<00:00,  1.84it/s]\n"
     ]
    },
    {
     "name": "stdout",
     "output_type": "stream",
     "text": [
      "variation = 0.129  -> output_filename='2024-07-24_caustique/caustique_variation_0.129_7ecd7924.png'\n"
     ]
    },
    {
     "name": "stderr",
     "output_type": "stream",
     "text": [
      "100%|██████████| 81/81 [03:14<00:00,  2.40s/it]\n",
      "100%|██████████| 1/1 [03:14<00:00, 194.78s/it]\n",
      "100%|██████████| 1/1 [00:00<00:00,  1.79it/s]\n"
     ]
    },
    {
     "name": "stdout",
     "output_type": "stream",
     "text": [
      "variation = 0.215  -> output_filename='2024-07-24_caustique/caustique_variation_0.215_992964a2.png'\n"
     ]
    },
    {
     "name": "stderr",
     "output_type": "stream",
     "text": [
      "100%|██████████| 81/81 [03:13<00:00,  2.39s/it]\n",
      "100%|██████████| 1/1 [03:13<00:00, 193.82s/it]\n",
      "100%|██████████| 1/1 [00:00<00:00,  1.76it/s]\n"
     ]
    },
    {
     "name": "stdout",
     "output_type": "stream",
     "text": [
      "variation = 0.359  -> output_filename='2024-07-24_caustique/caustique_variation_0.359_273fe732.png'\n"
     ]
    },
    {
     "name": "stderr",
     "output_type": "stream",
     "text": [
      "100%|██████████| 81/81 [03:13<00:00,  2.39s/it]\n",
      "100%|██████████| 1/1 [03:13<00:00, 193.84s/it]\n",
      "100%|██████████| 1/1 [00:00<00:00,  1.69it/s]"
     ]
    },
    {
     "name": "stdout",
     "output_type": "stream",
     "text": [
      "variation = 0.599  -> output_filename='2024-07-24_caustique/caustique_variation_0.599_4482c49c.png'\n"
     ]
    },
    {
     "name": "stderr",
     "output_type": "stream",
     "text": [
      "\n"
     ]
    }
   ],
   "source": [
    "for variation_ in np.logspace(-2, 0, N_scan, base=10, endpoint=False):\n",
    "    opt = init()\n",
    "    c = Caustique(opt)\n",
    "    c.opt.variation = variation_\n",
    "    c.opt.tag = f'{opt.tag}_variation_{variation_:.3f}'\n",
    "\n",
    "    output_filename = c.plot(z, image)\n",
    "    print(f'variation = {variation_:.3f}  -> {output_filename=}')\n",
    "    if c.opt.do_display: c.show(output_filename)"
   ]
  },
  {
   "cell_type": "markdown",
   "metadata": {
    "tags": []
   },
   "source": [
    "## other variables on the wave"
   ]
  },
  {
   "cell_type": "code",
   "execution_count": 16,
   "metadata": {
    "execution": {
     "iopub.execute_input": "2022-09-16T06:50:23.394466Z",
     "iopub.status.busy": "2022-09-16T06:50:23.394219Z",
     "iopub.status.idle": "2022-09-16T06:50:23.686162Z",
     "shell.execute_reply": "2022-09-16T06:50:23.685512Z"
    },
    "tags": []
   },
   "outputs": [
    {
     "name": "stdout",
     "output_type": "stream",
     "text": [
      "======scale======\n"
     ]
    },
    {
     "name": "stderr",
     "output_type": "stream",
     "text": [
      "100%|██████████| 81/81 [03:27<00:00,  2.57s/it]\n",
      "100%|██████████| 1/1 [03:27<00:00, 207.79s/it]\n",
      "100%|██████████| 1/1 [00:00<00:00,  1.20it/s]\n"
     ]
    },
    {
     "name": "stdout",
     "output_type": "stream",
     "text": [
      "scale=scale(default)*0.500=4.352E+02 -> output_filename='2024-07-24_caustique/caustique_scale_modul_0.500_a13a0f8e.png'\n"
     ]
    },
    {
     "name": "stderr",
     "output_type": "stream",
     "text": [
      "100%|██████████| 81/81 [03:24<00:00,  2.52s/it]\n",
      "100%|██████████| 1/1 [03:24<00:00, 204.51s/it]\n",
      "100%|██████████| 1/1 [00:00<00:00,  1.30it/s]\n"
     ]
    },
    {
     "name": "stdout",
     "output_type": "stream",
     "text": [
      "scale=scale(default)*0.595=5.175E+02 -> output_filename='2024-07-24_caustique/caustique_scale_modul_0.595_d13b1441.png'\n"
     ]
    },
    {
     "name": "stderr",
     "output_type": "stream",
     "text": [
      "100%|██████████| 81/81 [03:20<00:00,  2.47s/it]\n",
      "100%|██████████| 1/1 [03:20<00:00, 200.42s/it]\n",
      "100%|██████████| 1/1 [00:00<00:00,  1.46it/s]\n"
     ]
    },
    {
     "name": "stdout",
     "output_type": "stream",
     "text": [
      "scale=scale(default)*0.707=6.155E+02 -> output_filename='2024-07-24_caustique/caustique_scale_modul_0.707_7b95187e.png'\n"
     ]
    },
    {
     "name": "stderr",
     "output_type": "stream",
     "text": [
      "100%|██████████| 81/81 [03:17<00:00,  2.43s/it]\n",
      "100%|██████████| 1/1 [03:17<00:00, 197.02s/it]\n",
      "100%|██████████| 1/1 [00:00<00:00,  1.13it/s]\n"
     ]
    },
    {
     "name": "stdout",
     "output_type": "stream",
     "text": [
      "scale=scale(default)*0.841=7.319E+02 -> output_filename='2024-07-24_caustique/caustique_scale_modul_0.841_c7477141.png'\n"
     ]
    },
    {
     "name": "stderr",
     "output_type": "stream",
     "text": [
      "100%|██████████| 81/81 [03:13<00:00,  2.39s/it]\n",
      "100%|██████████| 1/1 [03:13<00:00, 193.46s/it]\n",
      "100%|██████████| 1/1 [00:00<00:00,  1.76it/s]\n"
     ]
    },
    {
     "name": "stdout",
     "output_type": "stream",
     "text": [
      "scale=scale(default)*1.000=8.704E+02 -> output_filename='2024-07-24_caustique/caustique_scale_modul_1.000_07eddf45.png'\n"
     ]
    },
    {
     "name": "stderr",
     "output_type": "stream",
     "text": [
      "100%|██████████| 81/81 [03:10<00:00,  2.36s/it]\n",
      "100%|██████████| 1/1 [03:10<00:00, 190.99s/it]\n",
      "100%|██████████| 1/1 [00:00<00:00,  1.86it/s]\n"
     ]
    },
    {
     "name": "stdout",
     "output_type": "stream",
     "text": [
      "scale=scale(default)*1.189=1.035E+03 -> output_filename='2024-07-24_caustique/caustique_scale_modul_1.189_91183d43.png'\n"
     ]
    },
    {
     "name": "stderr",
     "output_type": "stream",
     "text": [
      "100%|██████████| 81/81 [03:08<00:00,  2.33s/it]\n",
      "100%|██████████| 1/1 [03:08<00:00, 188.73s/it]\n",
      "100%|██████████| 1/1 [00:00<00:00,  2.00it/s]\n"
     ]
    },
    {
     "name": "stdout",
     "output_type": "stream",
     "text": [
      "scale=scale(default)*1.414=1.231E+03 -> output_filename='2024-07-24_caustique/caustique_scale_modul_1.414_7561f818.png'\n"
     ]
    },
    {
     "name": "stderr",
     "output_type": "stream",
     "text": [
      "100%|██████████| 81/81 [03:06<00:00,  2.30s/it]\n",
      "100%|██████████| 1/1 [03:06<00:00, 186.52s/it]\n",
      "100%|██████████| 1/1 [00:00<00:00,  1.98it/s]\n"
     ]
    },
    {
     "name": "stdout",
     "output_type": "stream",
     "text": [
      "scale=scale(default)*1.682=1.464E+03 -> output_filename='2024-07-24_caustique/caustique_scale_modul_1.682_d3a01cd1.png'\n"
     ]
    },
    {
     "name": "stderr",
     "output_type": "stream",
     "text": [
      "100%|██████████| 81/81 [03:05<00:00,  2.29s/it]\n",
      "100%|██████████| 1/1 [03:05<00:00, 185.20s/it]\n",
      "100%|██████████| 1/1 [00:00<00:00,  2.04it/s]\n"
     ]
    },
    {
     "name": "stdout",
     "output_type": "stream",
     "text": [
      "scale=scale(default)*2.000=1.741E+03 -> output_filename='2024-07-24_caustique/caustique_scale_modul_2.000_c38acc44.png'\n",
      "======B_sf======\n"
     ]
    },
    {
     "name": "stderr",
     "output_type": "stream",
     "text": [
      "100%|██████████| 81/81 [03:06<00:00,  2.31s/it]\n",
      "100%|██████████| 1/1 [03:06<00:00, 186.82s/it]\n",
      "100%|██████████| 1/1 [00:00<00:00,  1.98it/s]\n"
     ]
    },
    {
     "name": "stdout",
     "output_type": "stream",
     "text": [
      "B_sf=B_sf(default)*0.500=6.250E-01 -> output_filename='2024-07-24_caustique/caustique_B_sf_modul_0.500_2e25c9c6.png'\n"
     ]
    },
    {
     "name": "stderr",
     "output_type": "stream",
     "text": [
      "100%|██████████| 81/81 [03:08<00:00,  2.32s/it]\n",
      "100%|██████████| 1/1 [03:08<00:00, 188.12s/it]\n",
      "100%|██████████| 1/1 [00:00<00:00,  1.95it/s]\n"
     ]
    },
    {
     "name": "stdout",
     "output_type": "stream",
     "text": [
      "B_sf=B_sf(default)*0.595=7.433E-01 -> output_filename='2024-07-24_caustique/caustique_B_sf_modul_0.595_680311d9.png'\n"
     ]
    },
    {
     "name": "stderr",
     "output_type": "stream",
     "text": [
      "100%|██████████| 81/81 [03:09<00:00,  2.34s/it]\n",
      "100%|██████████| 1/1 [03:09<00:00, 189.60s/it]\n",
      "100%|██████████| 1/1 [00:00<00:00,  1.93it/s]\n"
     ]
    },
    {
     "name": "stdout",
     "output_type": "stream",
     "text": [
      "B_sf=B_sf(default)*0.707=8.839E-01 -> output_filename='2024-07-24_caustique/caustique_B_sf_modul_0.707_59ce4d32.png'\n"
     ]
    },
    {
     "name": "stderr",
     "output_type": "stream",
     "text": [
      "100%|██████████| 81/81 [03:11<00:00,  2.37s/it]\n",
      "100%|██████████| 1/1 [03:11<00:00, 191.65s/it]\n",
      "100%|██████████| 1/1 [00:00<00:00,  1.88it/s]\n"
     ]
    },
    {
     "name": "stdout",
     "output_type": "stream",
     "text": [
      "B_sf=B_sf(default)*0.841=1.051E+00 -> output_filename='2024-07-24_caustique/caustique_B_sf_modul_0.841_a3f5b12f.png'\n"
     ]
    },
    {
     "name": "stderr",
     "output_type": "stream",
     "text": [
      "100%|██████████| 81/81 [03:13<00:00,  2.39s/it]\n",
      "100%|██████████| 1/1 [03:13<00:00, 193.40s/it]\n",
      "100%|██████████| 1/1 [00:00<00:00,  1.83it/s]\n"
     ]
    },
    {
     "name": "stdout",
     "output_type": "stream",
     "text": [
      "B_sf=B_sf(default)*1.000=1.250E+00 -> output_filename='2024-07-24_caustique/caustique_B_sf_modul_1.000_5b595f4c.png'\n"
     ]
    },
    {
     "name": "stderr",
     "output_type": "stream",
     "text": [
      "100%|██████████| 81/81 [03:16<00:00,  2.43s/it]\n",
      "100%|██████████| 1/1 [03:16<00:00, 196.66s/it]\n",
      "100%|██████████| 1/1 [00:00<00:00,  1.67it/s]\n"
     ]
    },
    {
     "name": "stdout",
     "output_type": "stream",
     "text": [
      "B_sf=B_sf(default)*1.189=1.487E+00 -> output_filename='2024-07-24_caustique/caustique_B_sf_modul_1.189_f2cc2bb1.png'\n"
     ]
    },
    {
     "name": "stderr",
     "output_type": "stream",
     "text": [
      "100%|██████████| 81/81 [03:20<00:00,  2.47s/it]\n",
      "100%|██████████| 1/1 [03:20<00:00, 200.15s/it]\n",
      "100%|██████████| 1/1 [00:00<00:00,  1.53it/s]\n"
     ]
    },
    {
     "name": "stdout",
     "output_type": "stream",
     "text": [
      "B_sf=B_sf(default)*1.414=1.768E+00 -> output_filename='2024-07-24_caustique/caustique_B_sf_modul_1.414_df5a9ab1.png'\n"
     ]
    },
    {
     "name": "stderr",
     "output_type": "stream",
     "text": [
      "100%|██████████| 81/81 [03:24<00:00,  2.53s/it]\n",
      "100%|██████████| 1/1 [03:24<00:00, 204.91s/it]\n",
      "100%|██████████| 1/1 [00:00<00:00,  1.36it/s]\n"
     ]
    },
    {
     "name": "stdout",
     "output_type": "stream",
     "text": [
      "B_sf=B_sf(default)*1.682=2.102E+00 -> output_filename='2024-07-24_caustique/caustique_B_sf_modul_1.682_df7d7055.png'\n"
     ]
    },
    {
     "name": "stderr",
     "output_type": "stream",
     "text": [
      "100%|██████████| 81/81 [03:36<00:00,  2.67s/it]\n",
      "100%|██████████| 1/1 [03:36<00:00, 216.61s/it]\n",
      "100%|██████████| 1/1 [00:00<00:00,  1.26it/s]\n"
     ]
    },
    {
     "name": "stdout",
     "output_type": "stream",
     "text": [
      "B_sf=B_sf(default)*2.000=2.500E+00 -> output_filename='2024-07-24_caustique/caustique_B_sf_modul_2.000_46aa158d.png'\n",
      "======theta======\n"
     ]
    },
    {
     "name": "stderr",
     "output_type": "stream",
     "text": [
      "100%|██████████| 81/81 [03:09<00:00,  2.34s/it]\n",
      "100%|██████████| 1/1 [03:09<00:00, 189.17s/it]\n",
      "100%|██████████| 1/1 [00:00<00:00,  1.86it/s]\n"
     ]
    },
    {
     "name": "stdout",
     "output_type": "stream",
     "text": [
      "theta=theta(default)*0.500=7.854E-01 -> output_filename='2024-07-24_caustique/caustique_theta_modul_0.500_797ee560.png'\n"
     ]
    },
    {
     "name": "stderr",
     "output_type": "stream",
     "text": [
      "100%|██████████| 81/81 [03:09<00:00,  2.34s/it]\n",
      "100%|██████████| 1/1 [03:09<00:00, 189.51s/it]\n",
      "100%|██████████| 1/1 [00:00<00:00,  1.84it/s]\n"
     ]
    },
    {
     "name": "stdout",
     "output_type": "stream",
     "text": [
      "theta=theta(default)*0.595=9.340E-01 -> output_filename='2024-07-24_caustique/caustique_theta_modul_0.595_57ef1765.png'\n"
     ]
    },
    {
     "name": "stderr",
     "output_type": "stream",
     "text": [
      "100%|██████████| 81/81 [03:09<00:00,  2.34s/it]\n",
      "100%|██████████| 1/1 [03:09<00:00, 189.44s/it]\n",
      "100%|██████████| 1/1 [00:00<00:00,  1.84it/s]\n"
     ]
    },
    {
     "name": "stdout",
     "output_type": "stream",
     "text": [
      "theta=theta(default)*0.707=1.111E+00 -> output_filename='2024-07-24_caustique/caustique_theta_modul_0.707_c728cd2a.png'\n"
     ]
    },
    {
     "name": "stderr",
     "output_type": "stream",
     "text": [
      "100%|██████████| 81/81 [03:09<00:00,  2.34s/it]\n",
      "100%|██████████| 1/1 [03:09<00:00, 189.61s/it]\n",
      "100%|██████████| 1/1 [00:00<00:00,  1.84it/s]\n"
     ]
    },
    {
     "name": "stdout",
     "output_type": "stream",
     "text": [
      "theta=theta(default)*0.841=1.321E+00 -> output_filename='2024-07-24_caustique/caustique_theta_modul_0.841_f7950331.png'\n"
     ]
    },
    {
     "name": "stderr",
     "output_type": "stream",
     "text": [
      "100%|██████████| 81/81 [03:09<00:00,  2.34s/it]\n",
      "100%|██████████| 1/1 [03:09<00:00, 189.22s/it]\n",
      "100%|██████████| 1/1 [00:00<00:00,  1.86it/s]\n"
     ]
    },
    {
     "name": "stdout",
     "output_type": "stream",
     "text": [
      "theta=theta(default)*1.000=1.571E+00 -> output_filename='2024-07-24_caustique/caustique_theta_modul_1.000_9338e312.png'\n"
     ]
    },
    {
     "name": "stderr",
     "output_type": "stream",
     "text": [
      "100%|██████████| 81/81 [03:09<00:00,  2.34s/it]\n",
      "100%|██████████| 1/1 [03:09<00:00, 189.46s/it]\n",
      "100%|██████████| 1/1 [00:00<00:00,  1.82it/s]\n"
     ]
    },
    {
     "name": "stdout",
     "output_type": "stream",
     "text": [
      "theta=theta(default)*1.189=1.868E+00 -> output_filename='2024-07-24_caustique/caustique_theta_modul_1.189_6066711f.png'\n"
     ]
    },
    {
     "name": "stderr",
     "output_type": "stream",
     "text": [
      "100%|██████████| 81/81 [03:08<00:00,  2.33s/it]\n",
      "100%|██████████| 1/1 [03:08<00:00, 188.41s/it]\n",
      "100%|██████████| 1/1 [00:00<00:00,  1.83it/s]\n"
     ]
    },
    {
     "name": "stdout",
     "output_type": "stream",
     "text": [
      "theta=theta(default)*1.414=2.221E+00 -> output_filename='2024-07-24_caustique/caustique_theta_modul_1.414_0c6f7927.png'\n"
     ]
    },
    {
     "name": "stderr",
     "output_type": "stream",
     "text": [
      "100%|██████████| 81/81 [03:08<00:00,  2.33s/it]\n",
      "100%|██████████| 1/1 [03:08<00:00, 188.46s/it]\n",
      "100%|██████████| 1/1 [00:00<00:00,  1.85it/s]\n"
     ]
    },
    {
     "name": "stdout",
     "output_type": "stream",
     "text": [
      "theta=theta(default)*1.682=2.642E+00 -> output_filename='2024-07-24_caustique/caustique_theta_modul_1.682_fea7a4df.png'\n"
     ]
    },
    {
     "name": "stderr",
     "output_type": "stream",
     "text": [
      "100%|██████████| 81/81 [03:12<00:00,  2.38s/it]\n",
      "100%|██████████| 1/1 [03:12<00:00, 192.43s/it]\n",
      "100%|██████████| 1/1 [00:00<00:00,  1.70it/s]\n"
     ]
    },
    {
     "name": "stdout",
     "output_type": "stream",
     "text": [
      "theta=theta(default)*2.000=3.142E+00 -> output_filename='2024-07-24_caustique/caustique_theta_modul_2.000_cf5d5ab6.png'\n",
      "======B_theta======\n"
     ]
    },
    {
     "name": "stderr",
     "output_type": "stream",
     "text": [
      "100%|██████████| 81/81 [03:15<00:00,  2.42s/it]\n",
      "100%|██████████| 1/1 [03:15<00:00, 195.78s/it]\n",
      "100%|██████████| 1/1 [00:00<00:00,  1.78it/s]\n"
     ]
    },
    {
     "name": "stdout",
     "output_type": "stream",
     "text": [
      "B_theta=B_theta(default)*0.500=5.236E-01 -> output_filename='2024-07-24_caustique/caustique_B_theta_modul_0.500_c026242c.png'\n"
     ]
    },
    {
     "name": "stderr",
     "output_type": "stream",
     "text": [
      "100%|██████████| 81/81 [03:14<00:00,  2.41s/it]\n",
      "100%|██████████| 1/1 [03:14<00:00, 194.81s/it]\n",
      "100%|██████████| 1/1 [00:00<00:00,  1.79it/s]\n"
     ]
    },
    {
     "name": "stdout",
     "output_type": "stream",
     "text": [
      "B_theta=B_theta(default)*0.595=6.227E-01 -> output_filename='2024-07-24_caustique/caustique_B_theta_modul_0.595_5f1f01bc.png'\n"
     ]
    },
    {
     "name": "stderr",
     "output_type": "stream",
     "text": [
      "100%|██████████| 81/81 [03:14<00:00,  2.40s/it]\n",
      "100%|██████████| 1/1 [03:14<00:00, 194.41s/it]\n",
      "100%|██████████| 1/1 [00:00<00:00,  1.75it/s]\n"
     ]
    },
    {
     "name": "stdout",
     "output_type": "stream",
     "text": [
      "B_theta=B_theta(default)*0.707=7.405E-01 -> output_filename='2024-07-24_caustique/caustique_B_theta_modul_0.707_4f4ac9ea.png'\n"
     ]
    },
    {
     "name": "stderr",
     "output_type": "stream",
     "text": [
      "100%|██████████| 81/81 [03:10<00:00,  2.35s/it]\n",
      "100%|██████████| 1/1 [03:10<00:00, 190.64s/it]\n",
      "100%|██████████| 1/1 [00:00<00:00,  1.84it/s]\n"
     ]
    },
    {
     "name": "stdout",
     "output_type": "stream",
     "text": [
      "B_theta=B_theta(default)*0.841=8.806E-01 -> output_filename='2024-07-24_caustique/caustique_B_theta_modul_0.841_e219eec0.png'\n"
     ]
    },
    {
     "name": "stderr",
     "output_type": "stream",
     "text": [
      "100%|██████████| 81/81 [03:10<00:00,  2.35s/it]\n",
      "100%|██████████| 1/1 [03:10<00:00, 190.21s/it]\n",
      "100%|██████████| 1/1 [00:00<00:00,  1.82it/s]\n"
     ]
    },
    {
     "name": "stdout",
     "output_type": "stream",
     "text": [
      "B_theta=B_theta(default)*1.000=1.047E+00 -> output_filename='2024-07-24_caustique/caustique_B_theta_modul_1.000_363867b2.png'\n"
     ]
    },
    {
     "name": "stderr",
     "output_type": "stream",
     "text": [
      "100%|██████████| 81/81 [03:10<00:00,  2.35s/it]\n",
      "100%|██████████| 1/1 [03:10<00:00, 190.17s/it]\n",
      "100%|██████████| 1/1 [00:00<00:00,  1.81it/s]\n"
     ]
    },
    {
     "name": "stdout",
     "output_type": "stream",
     "text": [
      "B_theta=B_theta(default)*1.189=1.245E+00 -> output_filename='2024-07-24_caustique/caustique_B_theta_modul_1.189_ffe819cf.png'\n"
     ]
    },
    {
     "name": "stderr",
     "output_type": "stream",
     "text": [
      "100%|██████████| 81/81 [03:12<00:00,  2.38s/it]\n",
      "100%|██████████| 1/1 [03:12<00:00, 192.58s/it]\n",
      "100%|██████████| 1/1 [00:00<00:00,  1.88it/s]\n"
     ]
    },
    {
     "name": "stdout",
     "output_type": "stream",
     "text": [
      "B_theta=B_theta(default)*1.414=1.481E+00 -> output_filename='2024-07-24_caustique/caustique_B_theta_modul_1.414_828c9bbb.png'\n"
     ]
    },
    {
     "name": "stderr",
     "output_type": "stream",
     "text": [
      "100%|██████████| 81/81 [03:11<00:00,  2.36s/it]\n",
      "100%|██████████| 1/1 [03:11<00:00, 191.26s/it]\n",
      "100%|██████████| 1/1 [00:00<00:00,  1.81it/s]\n"
     ]
    },
    {
     "name": "stdout",
     "output_type": "stream",
     "text": [
      "B_theta=B_theta(default)*1.682=1.761E+00 -> output_filename='2024-07-24_caustique/caustique_B_theta_modul_1.682_4b40e085.png'\n"
     ]
    },
    {
     "name": "stderr",
     "output_type": "stream",
     "text": [
      "100%|██████████| 81/81 [03:09<00:00,  2.34s/it]\n",
      "100%|██████████| 1/1 [03:09<00:00, 189.39s/it]\n",
      "100%|██████████| 1/1 [00:00<00:00,  1.85it/s]\n"
     ]
    },
    {
     "name": "stdout",
     "output_type": "stream",
     "text": [
      "B_theta=B_theta(default)*2.000=2.094E+00 -> output_filename='2024-07-24_caustique/caustique_B_theta_modul_2.000_add66392.png'\n",
      "======gamma======\n"
     ]
    },
    {
     "name": "stderr",
     "output_type": "stream",
     "text": [
      "100%|██████████| 81/81 [03:09<00:00,  2.34s/it]\n",
      "100%|██████████| 1/1 [03:09<00:00, 189.71s/it]\n",
      "100%|██████████| 1/1 [00:00<00:00,  1.86it/s]\n"
     ]
    },
    {
     "name": "stdout",
     "output_type": "stream",
     "text": [
      "gamma=gamma(default)*0.500=1.200E+00 -> output_filename='2024-07-24_caustique/caustique_gamma_modul_0.500_49f79e4c.png'\n"
     ]
    },
    {
     "name": "stderr",
     "output_type": "stream",
     "text": [
      "100%|██████████| 81/81 [03:09<00:00,  2.34s/it]\n",
      "100%|██████████| 1/1 [03:09<00:00, 189.35s/it]\n",
      "100%|██████████| 1/1 [00:00<00:00,  1.82it/s]\n"
     ]
    },
    {
     "name": "stdout",
     "output_type": "stream",
     "text": [
      "gamma=gamma(default)*0.595=1.427E+00 -> output_filename='2024-07-24_caustique/caustique_gamma_modul_0.595_71396ff5.png'\n"
     ]
    },
    {
     "name": "stderr",
     "output_type": "stream",
     "text": [
      "100%|██████████| 81/81 [03:08<00:00,  2.33s/it]\n",
      "100%|██████████| 1/1 [03:08<00:00, 188.92s/it]\n",
      "100%|██████████| 1/1 [00:00<00:00,  1.84it/s]\n"
     ]
    },
    {
     "name": "stdout",
     "output_type": "stream",
     "text": [
      "gamma=gamma(default)*0.707=1.697E+00 -> output_filename='2024-07-24_caustique/caustique_gamma_modul_0.707_b6d698fb.png'\n"
     ]
    },
    {
     "name": "stderr",
     "output_type": "stream",
     "text": [
      "100%|██████████| 81/81 [03:09<00:00,  2.34s/it]\n",
      "100%|██████████| 1/1 [03:09<00:00, 189.28s/it]\n",
      "100%|██████████| 1/1 [00:00<00:00,  1.83it/s]\n"
     ]
    },
    {
     "name": "stdout",
     "output_type": "stream",
     "text": [
      "gamma=gamma(default)*0.841=2.018E+00 -> output_filename='2024-07-24_caustique/caustique_gamma_modul_0.841_2faf2034.png'\n"
     ]
    },
    {
     "name": "stderr",
     "output_type": "stream",
     "text": [
      "100%|██████████| 81/81 [03:09<00:00,  2.34s/it]\n",
      "100%|██████████| 1/1 [03:09<00:00, 189.21s/it]\n",
      "100%|██████████| 1/1 [00:00<00:00,  1.86it/s]\n"
     ]
    },
    {
     "name": "stdout",
     "output_type": "stream",
     "text": [
      "gamma=gamma(default)*1.000=2.400E+00 -> output_filename='2024-07-24_caustique/caustique_gamma_modul_1.000_a5a0d8ca.png'\n"
     ]
    },
    {
     "name": "stderr",
     "output_type": "stream",
     "text": [
      "100%|██████████| 81/81 [03:08<00:00,  2.33s/it]\n",
      "100%|██████████| 1/1 [03:08<00:00, 188.95s/it]\n",
      "100%|██████████| 1/1 [00:00<00:00,  1.83it/s]\n"
     ]
    },
    {
     "name": "stdout",
     "output_type": "stream",
     "text": [
      "gamma=gamma(default)*1.189=2.854E+00 -> output_filename='2024-07-24_caustique/caustique_gamma_modul_1.189_f658bd09.png'\n"
     ]
    },
    {
     "name": "stderr",
     "output_type": "stream",
     "text": [
      "100%|██████████| 81/81 [03:09<00:00,  2.33s/it]\n",
      "100%|██████████| 1/1 [03:09<00:00, 189.03s/it]\n",
      "100%|██████████| 1/1 [00:00<00:00,  1.83it/s]\n"
     ]
    },
    {
     "name": "stdout",
     "output_type": "stream",
     "text": [
      "gamma=gamma(default)*1.414=3.394E+00 -> output_filename='2024-07-24_caustique/caustique_gamma_modul_1.414_568cf5fe.png'\n"
     ]
    },
    {
     "name": "stderr",
     "output_type": "stream",
     "text": [
      "100%|██████████| 81/81 [03:09<00:00,  2.34s/it]\n",
      "100%|██████████| 1/1 [03:09<00:00, 189.37s/it]\n",
      "100%|██████████| 1/1 [00:00<00:00,  1.84it/s]\n"
     ]
    },
    {
     "name": "stdout",
     "output_type": "stream",
     "text": [
      "gamma=gamma(default)*1.682=4.036E+00 -> output_filename='2024-07-24_caustique/caustique_gamma_modul_1.682_af7134f6.png'\n"
     ]
    },
    {
     "name": "stderr",
     "output_type": "stream",
     "text": [
      "100%|██████████| 81/81 [03:09<00:00,  2.34s/it]\n",
      "100%|██████████| 1/1 [03:09<00:00, 189.72s/it]\n",
      "100%|██████████| 1/1 [00:00<00:00,  1.82it/s]\n"
     ]
    },
    {
     "name": "stdout",
     "output_type": "stream",
     "text": [
      "gamma=gamma(default)*2.000=4.800E+00 -> output_filename='2024-07-24_caustique/caustique_gamma_modul_2.000_ed8fc44b.png'\n",
      "======min_lum======\n"
     ]
    },
    {
     "name": "stderr",
     "output_type": "stream",
     "text": [
      "100%|██████████| 81/81 [03:09<00:00,  2.34s/it]\n",
      "100%|██████████| 1/1 [03:09<00:00, 189.55s/it]\n",
      "100%|██████████| 1/1 [00:00<00:00,  1.86it/s]\n"
     ]
    },
    {
     "name": "stdout",
     "output_type": "stream",
     "text": [
      "min_lum=min_lum(default)*0.500=5.000E-02 -> output_filename='2024-07-24_caustique/caustique_min_lum_modul_0.500_dbef85a5.png'\n"
     ]
    },
    {
     "name": "stderr",
     "output_type": "stream",
     "text": [
      "100%|██████████| 81/81 [03:09<00:00,  2.34s/it]\n",
      "100%|██████████| 1/1 [03:09<00:00, 189.79s/it]\n",
      "100%|██████████| 1/1 [00:00<00:00,  1.82it/s]\n"
     ]
    },
    {
     "name": "stdout",
     "output_type": "stream",
     "text": [
      "min_lum=min_lum(default)*0.595=5.946E-02 -> output_filename='2024-07-24_caustique/caustique_min_lum_modul_0.595_8e7ae54b.png'\n"
     ]
    },
    {
     "name": "stderr",
     "output_type": "stream",
     "text": [
      "100%|██████████| 81/81 [03:09<00:00,  2.34s/it]\n",
      "100%|██████████| 1/1 [03:09<00:00, 189.82s/it]\n",
      "100%|██████████| 1/1 [00:00<00:00,  1.65it/s]\n"
     ]
    },
    {
     "name": "stdout",
     "output_type": "stream",
     "text": [
      "min_lum=min_lum(default)*0.707=7.071E-02 -> output_filename='2024-07-24_caustique/caustique_min_lum_modul_0.707_aa550a41.png'\n"
     ]
    },
    {
     "name": "stderr",
     "output_type": "stream",
     "text": [
      "100%|██████████| 81/81 [03:09<00:00,  2.34s/it]\n",
      "100%|██████████| 1/1 [03:09<00:00, 189.63s/it]\n",
      "100%|██████████| 1/1 [00:00<00:00,  1.85it/s]\n"
     ]
    },
    {
     "name": "stdout",
     "output_type": "stream",
     "text": [
      "min_lum=min_lum(default)*0.841=8.409E-02 -> output_filename='2024-07-24_caustique/caustique_min_lum_modul_0.841_c29c6e37.png'\n"
     ]
    },
    {
     "name": "stderr",
     "output_type": "stream",
     "text": [
      "100%|██████████| 81/81 [03:09<00:00,  2.34s/it]\n",
      "100%|██████████| 1/1 [03:09<00:00, 189.74s/it]\n",
      "100%|██████████| 1/1 [00:00<00:00,  1.85it/s]\n"
     ]
    },
    {
     "name": "stdout",
     "output_type": "stream",
     "text": [
      "min_lum=min_lum(default)*1.000=1.000E-01 -> output_filename='2024-07-24_caustique/caustique_min_lum_modul_1.000_f1d0bdab.png'\n"
     ]
    },
    {
     "name": "stderr",
     "output_type": "stream",
     "text": [
      "100%|██████████| 81/81 [03:09<00:00,  2.34s/it]\n",
      "100%|██████████| 1/1 [03:09<00:00, 189.88s/it]\n",
      "100%|██████████| 1/1 [00:00<00:00,  1.83it/s]\n"
     ]
    },
    {
     "name": "stdout",
     "output_type": "stream",
     "text": [
      "min_lum=min_lum(default)*1.189=1.189E-01 -> output_filename='2024-07-24_caustique/caustique_min_lum_modul_1.189_5cd543a2.png'\n"
     ]
    },
    {
     "name": "stderr",
     "output_type": "stream",
     "text": [
      "100%|██████████| 81/81 [03:10<00:00,  2.35s/it]\n",
      "100%|██████████| 1/1 [03:10<00:00, 190.10s/it]\n",
      "100%|██████████| 1/1 [00:00<00:00,  1.84it/s]\n"
     ]
    },
    {
     "name": "stdout",
     "output_type": "stream",
     "text": [
      "min_lum=min_lum(default)*1.414=1.414E-01 -> output_filename='2024-07-24_caustique/caustique_min_lum_modul_1.414_88fc2b4a.png'\n"
     ]
    },
    {
     "name": "stderr",
     "output_type": "stream",
     "text": [
      "100%|██████████| 81/81 [03:09<00:00,  2.34s/it]\n",
      "100%|██████████| 1/1 [03:09<00:00, 189.42s/it]\n",
      "100%|██████████| 1/1 [00:00<00:00,  1.84it/s]\n"
     ]
    },
    {
     "name": "stdout",
     "output_type": "stream",
     "text": [
      "min_lum=min_lum(default)*1.682=1.682E-01 -> output_filename='2024-07-24_caustique/caustique_min_lum_modul_1.682_20ce93a6.png'\n"
     ]
    },
    {
     "name": "stderr",
     "output_type": "stream",
     "text": [
      "100%|██████████| 81/81 [03:10<00:00,  2.35s/it]\n",
      "100%|██████████| 1/1 [03:10<00:00, 190.37s/it]\n",
      "100%|██████████| 1/1 [00:00<00:00,  1.86it/s]\n"
     ]
    },
    {
     "name": "stdout",
     "output_type": "stream",
     "text": [
      "min_lum=min_lum(default)*2.000=2.000E-01 -> output_filename='2024-07-24_caustique/caustique_min_lum_modul_2.000_ecf47e0c.png'\n",
      "======zmin======\n"
     ]
    },
    {
     "name": "stderr",
     "output_type": "stream",
     "text": [
      "100%|██████████| 81/81 [03:09<00:00,  2.33s/it]\n",
      "100%|██████████| 1/1 [03:09<00:00, 189.09s/it]\n",
      "100%|██████████| 1/1 [00:00<00:00,  1.90it/s]\n"
     ]
    },
    {
     "name": "stdout",
     "output_type": "stream",
     "text": [
      "zmin=zmin(default)*0.500=1.000E-01 -> output_filename='2024-07-24_caustique/caustique_zmin_modul_0.500_fb8bb25a.png'\n"
     ]
    },
    {
     "name": "stderr",
     "output_type": "stream",
     "text": [
      "100%|██████████| 81/81 [03:09<00:00,  2.34s/it]\n",
      "100%|██████████| 1/1 [03:09<00:00, 189.17s/it]\n",
      "100%|██████████| 1/1 [00:00<00:00,  1.82it/s]\n"
     ]
    },
    {
     "name": "stdout",
     "output_type": "stream",
     "text": [
      "zmin=zmin(default)*0.595=1.189E-01 -> output_filename='2024-07-24_caustique/caustique_zmin_modul_0.595_3ca3d201.png'\n"
     ]
    },
    {
     "name": "stderr",
     "output_type": "stream",
     "text": [
      "100%|██████████| 81/81 [03:08<00:00,  2.33s/it]\n",
      "100%|██████████| 1/1 [03:08<00:00, 188.94s/it]\n",
      "100%|██████████| 1/1 [00:00<00:00,  1.86it/s]\n"
     ]
    },
    {
     "name": "stdout",
     "output_type": "stream",
     "text": [
      "zmin=zmin(default)*0.707=1.414E-01 -> output_filename='2024-07-24_caustique/caustique_zmin_modul_0.707_bf3c0e8d.png'\n"
     ]
    },
    {
     "name": "stderr",
     "output_type": "stream",
     "text": [
      "100%|██████████| 81/81 [03:09<00:00,  2.35s/it]\n",
      "100%|██████████| 1/1 [03:09<00:00, 189.96s/it]\n",
      "100%|██████████| 1/1 [00:00<00:00,  1.82it/s]\n"
     ]
    },
    {
     "name": "stdout",
     "output_type": "stream",
     "text": [
      "zmin=zmin(default)*0.841=1.682E-01 -> output_filename='2024-07-24_caustique/caustique_zmin_modul_0.841_f06ad317.png'\n"
     ]
    },
    {
     "name": "stderr",
     "output_type": "stream",
     "text": [
      "100%|██████████| 81/81 [03:11<00:00,  2.37s/it]\n",
      "100%|██████████| 1/1 [03:11<00:00, 191.81s/it]\n",
      "100%|██████████| 1/1 [00:00<00:00,  1.70it/s]\n"
     ]
    },
    {
     "name": "stdout",
     "output_type": "stream",
     "text": [
      "zmin=zmin(default)*1.000=2.000E-01 -> output_filename='2024-07-24_caustique/caustique_zmin_modul_1.000_5a2642d1.png'\n"
     ]
    },
    {
     "name": "stderr",
     "output_type": "stream",
     "text": [
      "100%|██████████| 81/81 [03:12<00:00,  2.37s/it]\n",
      "100%|██████████| 1/1 [03:12<00:00, 192.03s/it]\n",
      "100%|██████████| 1/1 [00:00<00:00,  1.82it/s]\n"
     ]
    },
    {
     "name": "stdout",
     "output_type": "stream",
     "text": [
      "zmin=zmin(default)*1.189=2.378E-01 -> output_filename='2024-07-24_caustique/caustique_zmin_modul_1.189_bf52ece1.png'\n"
     ]
    },
    {
     "name": "stderr",
     "output_type": "stream",
     "text": [
      "100%|██████████| 81/81 [03:10<00:00,  2.35s/it]\n",
      "100%|██████████| 1/1 [03:10<00:00, 190.51s/it]\n",
      "100%|██████████| 1/1 [00:00<00:00,  1.82it/s]\n"
     ]
    },
    {
     "name": "stdout",
     "output_type": "stream",
     "text": [
      "zmin=zmin(default)*1.414=2.828E-01 -> output_filename='2024-07-24_caustique/caustique_zmin_modul_1.414_5646fe1e.png'\n"
     ]
    },
    {
     "name": "stderr",
     "output_type": "stream",
     "text": [
      "100%|██████████| 81/81 [03:11<00:00,  2.36s/it]\n",
      "100%|██████████| 1/1 [03:11<00:00, 191.31s/it]\n",
      "100%|██████████| 1/1 [00:00<00:00,  1.78it/s]\n"
     ]
    },
    {
     "name": "stdout",
     "output_type": "stream",
     "text": [
      "zmin=zmin(default)*1.682=3.364E-01 -> output_filename='2024-07-24_caustique/caustique_zmin_modul_1.682_60a57eb1.png'\n"
     ]
    },
    {
     "name": "stderr",
     "output_type": "stream",
     "text": [
      "100%|██████████| 81/81 [03:11<00:00,  2.36s/it]\n",
      "100%|██████████| 1/1 [03:11<00:00, 191.54s/it]\n",
      "100%|██████████| 1/1 [00:00<00:00,  1.77it/s]"
     ]
    },
    {
     "name": "stdout",
     "output_type": "stream",
     "text": [
      "zmin=zmin(default)*2.000=4.000E-01 -> output_filename='2024-07-24_caustique/caustique_zmin_modul_2.000_1b0aa246.png'\n"
     ]
    },
    {
     "name": "stderr",
     "output_type": "stream",
     "text": [
      "\n"
     ]
    }
   ],
   "source": [
    "for variable in ['scale', 'B_sf', 'theta',  'B_theta', 'gamma', 'min_lum', 'zmin']: #  'V_Y', 'V_X', 'B_V', \n",
    "    print(f'======{variable}======')\n",
    "    for modul in np.logspace(-1, 1, N_scan, base=base):\n",
    "        opt = init()\n",
    "        c = Caustique(opt)\n",
    "        c.d[variable] *= modul\n",
    "        c.opt.tag = f'{c.opt.tag}_{variable}_modul_{modul:.3f}'\n",
    "        \n",
    "        z = c.wave()\n",
    "        output_filename = c.plot(z, image)\n",
    "        print(f'{variable}={variable}(default)*{modul:.3f}={c.d[variable]:.3E} -> {output_filename=}')\n",
    "        if c.opt.do_display: c.show(output_filename)"
   ]
  },
  {
   "cell_type": "markdown",
   "metadata": {},
   "source": [
    "## shining a grating image to the wave"
   ]
  },
  {
   "cell_type": "code",
   "execution_count": 17,
   "metadata": {},
   "outputs": [],
   "source": [
    "type = 'grating'"
   ]
  },
  {
   "cell_type": "code",
   "execution_count": 18,
   "metadata": {},
   "outputs": [
    {
     "data": {
      "image/png": "[encoded data removed]",
      "text/plain": [
       "<Figure size 640x480 with 1 Axes>"
      ]
     },
     "metadata": {},
     "output_type": "display_data"
    }
   ],
   "source": [
    "def generate_image(nx, ny, periods=6.25, threshold=0.45, radius=.9):\n",
    "    X, Y = np.meshgrid(np.linspace(-1, 1, nx, endpoint=True), np.linspace(-1, 1, ny, endpoint=True))\n",
    "    image = (np.cos(2*np.pi*X*periods) > threshold)*1.\n",
    "    # image += (np.cos(2*np.pi*Y*periods) > threshold)*1.\n",
    "    # image = (image>=1) * 1.\n",
    "    image *= (X**2 < radius**2) * (Y**2 < radius**2) * 1.\n",
    "    return image\n",
    "image = generate_image(nx=c.opt.nx, ny=c.opt.ny)\n",
    "plt.imshow(image, cmap='gray');"
   ]
  },
  {
   "cell_type": "code",
   "execution_count": 19,
   "metadata": {},
   "outputs": [
    {
     "name": "stderr",
     "output_type": "stream",
     "text": [
      "100%|██████████| 81/81 [03:12<00:00,  2.37s/it]\n",
      "100%|██████████| 1/1 [03:12<00:00, 192.18s/it]\n",
      "100%|██████████| 1/1 [00:00<00:00,  1.79it/s]\n"
     ]
    },
    {
     "data": {
      "text/html": [
       "<img src=\"2024-07-24_caustique/caustique_grating-image_d6c01183.png\" width=\"1024\"/>"
      ],
      "text/plain": [
       "<IPython.core.display.Image object>"
      ]
     },
     "metadata": {},
     "output_type": "display_data"
    }
   ],
   "source": [
    "c = Caustique(init())\n",
    "c.opt.tag = f'{c.opt.tag}_{type}-image'\n",
    "output_filename = c.plot(z, image)\n",
    "c.show(output_filename)"
   ]
  },
  {
   "cell_type": "code",
   "execution_count": 20,
   "metadata": {},
   "outputs": [
    {
     "name": "stderr",
     "output_type": "stream",
     "text": [
      "100%|██████████| 81/81 [03:06<00:00,  2.30s/it]\n",
      "100%|██████████| 1/1 [03:06<00:00, 186.29s/it]\n",
      "100%|██████████| 1/1 [00:00<00:00,  1.88it/s]\n"
     ]
    },
    {
     "name": "stdout",
     "output_type": "stream",
     "text": [
      "H = 10.000 -> output_filename='2024-07-24_caustique/caustique_grating-image_H_10.000_784a462c.png' \n"
     ]
    },
    {
     "name": "stderr",
     "output_type": "stream",
     "text": [
      "100%|██████████| 81/81 [03:07<00:00,  2.31s/it]\n",
      "100%|██████████| 1/1 [03:07<00:00, 187.32s/it]\n",
      "100%|██████████| 1/1 [00:00<00:00,  1.97it/s]\n"
     ]
    },
    {
     "name": "stdout",
     "output_type": "stream",
     "text": [
      "H = 11.892 -> output_filename='2024-07-24_caustique/caustique_grating-image_H_11.892_3909d292.png' \n"
     ]
    },
    {
     "name": "stderr",
     "output_type": "stream",
     "text": [
      "100%|██████████| 81/81 [03:08<00:00,  2.33s/it]\n",
      "100%|██████████| 1/1 [03:08<00:00, 188.89s/it]\n",
      "100%|██████████| 1/1 [00:00<00:00,  1.88it/s]\n"
     ]
    },
    {
     "name": "stdout",
     "output_type": "stream",
     "text": [
      "H = 14.142 -> output_filename='2024-07-24_caustique/caustique_grating-image_H_14.142_21227dce.png' \n"
     ]
    },
    {
     "name": "stderr",
     "output_type": "stream",
     "text": [
      "100%|██████████| 81/81 [03:09<00:00,  2.35s/it]\n",
      "100%|██████████| 1/1 [03:09<00:00, 190.00s/it]\n",
      "100%|██████████| 1/1 [00:00<00:00,  1.84it/s]\n"
     ]
    },
    {
     "name": "stdout",
     "output_type": "stream",
     "text": [
      "H = 16.818 -> output_filename='2024-07-24_caustique/caustique_grating-image_H_16.818_21319d52.png' \n"
     ]
    },
    {
     "name": "stderr",
     "output_type": "stream",
     "text": [
      "100%|██████████| 81/81 [03:11<00:00,  2.37s/it]\n",
      "100%|██████████| 1/1 [03:11<00:00, 191.81s/it]\n",
      "100%|██████████| 1/1 [00:00<00:00,  1.75it/s]\n"
     ]
    },
    {
     "name": "stdout",
     "output_type": "stream",
     "text": [
      "H = 20.000 -> output_filename='2024-07-24_caustique/caustique_grating-image_H_20.000_681cf358.png' \n"
     ]
    },
    {
     "name": "stderr",
     "output_type": "stream",
     "text": [
      "100%|██████████| 81/81 [03:13<00:00,  2.39s/it]\n",
      "100%|██████████| 1/1 [03:13<00:00, 193.32s/it]\n",
      "100%|██████████| 1/1 [00:00<00:00,  1.66it/s]\n"
     ]
    },
    {
     "name": "stdout",
     "output_type": "stream",
     "text": [
      "H = 23.784 -> output_filename='2024-07-24_caustique/caustique_grating-image_H_23.784_7b1090da.png' \n"
     ]
    },
    {
     "name": "stderr",
     "output_type": "stream",
     "text": [
      "100%|██████████| 81/81 [03:15<00:00,  2.41s/it]\n",
      "100%|██████████| 1/1 [03:15<00:00, 195.28s/it]\n",
      "100%|██████████| 1/1 [00:00<00:00,  1.53it/s]\n"
     ]
    },
    {
     "name": "stdout",
     "output_type": "stream",
     "text": [
      "H = 28.284 -> output_filename='2024-07-24_caustique/caustique_grating-image_H_28.284_e5f3e67e.png' \n"
     ]
    },
    {
     "name": "stderr",
     "output_type": "stream",
     "text": [
      "100%|██████████| 81/81 [03:17<00:00,  2.44s/it]\n",
      "100%|██████████| 1/1 [03:17<00:00, 197.35s/it]\n",
      "100%|██████████| 1/1 [00:00<00:00,  1.42it/s]\n"
     ]
    },
    {
     "name": "stdout",
     "output_type": "stream",
     "text": [
      "H = 33.636 -> output_filename='2024-07-24_caustique/caustique_grating-image_H_33.636_7561e551.png' \n"
     ]
    },
    {
     "name": "stderr",
     "output_type": "stream",
     "text": [
      "100%|██████████| 81/81 [03:18<00:00,  2.44s/it]\n",
      "100%|██████████| 1/1 [03:18<00:00, 198.03s/it]\n",
      "100%|██████████| 1/1 [00:00<00:00,  1.36it/s]"
     ]
    },
    {
     "name": "stdout",
     "output_type": "stream",
     "text": [
      "H = 40.000 -> output_filename='2024-07-24_caustique/caustique_grating-image_H_40.000_140204a8.png' \n"
     ]
    },
    {
     "name": "stderr",
     "output_type": "stream",
     "text": [
      "\n"
     ]
    }
   ],
   "source": [
    "for H_ in c.opt.H*np.logspace(-1, 1, N_scan, base=base):\n",
    "    opt = init()\n",
    "    c = Caustique(opt)\n",
    "    c.opt.H = H_\n",
    "    c.opt.tag = f'{c.opt.tag}_{type}-image_H_{H_:.3f}'\n",
    "    \n",
    "    output_filename = c.plot(z, image)\n",
    "    print(f'H = {H_:.3f} -> {output_filename=} ')\n",
    "    if c.opt.do_display: c.show(output_filename)"
   ]
  },
  {
   "cell_type": "code",
   "execution_count": 21,
   "metadata": {},
   "outputs": [
    {
     "name": "stderr",
     "output_type": "stream",
     "text": [
      "100%|██████████| 81/81 [03:11<00:00,  2.37s/it]\n",
      "100%|██████████| 1/1 [03:11<00:00, 191.89s/it]\n",
      "100%|██████████| 1/1 [00:00<00:00,  1.58it/s]\n"
     ]
    },
    {
     "name": "stdout",
     "output_type": "stream",
     "text": [
      "0.100 -> output_filename='2024-07-24_caustique/caustique_grating-image_threshold=0.100_ef4b472a.png' \n"
     ]
    },
    {
     "name": "stderr",
     "output_type": "stream",
     "text": [
      "100%|██████████| 81/81 [03:11<00:00,  2.37s/it]\n",
      "100%|██████████| 1/1 [03:11<00:00, 191.60s/it]\n",
      "100%|██████████| 1/1 [00:00<00:00,  1.63it/s]\n"
     ]
    },
    {
     "name": "stdout",
     "output_type": "stream",
     "text": [
      "0.200 -> output_filename='2024-07-24_caustique/caustique_grating-image_threshold=0.200_21b96c33.png' \n"
     ]
    },
    {
     "name": "stderr",
     "output_type": "stream",
     "text": [
      "100%|██████████| 81/81 [03:11<00:00,  2.37s/it]\n",
      "100%|██████████| 1/1 [03:11<00:00, 191.95s/it]\n",
      "100%|██████████| 1/1 [00:00<00:00,  1.68it/s]\n"
     ]
    },
    {
     "name": "stdout",
     "output_type": "stream",
     "text": [
      "0.300 -> output_filename='2024-07-24_caustique/caustique_grating-image_threshold=0.300_a930bec9.png' \n"
     ]
    },
    {
     "name": "stderr",
     "output_type": "stream",
     "text": [
      "100%|██████████| 81/81 [03:10<00:00,  2.36s/it]\n",
      "100%|██████████| 1/1 [03:10<00:00, 190.79s/it]\n",
      "100%|██████████| 1/1 [00:00<00:00,  1.74it/s]\n"
     ]
    },
    {
     "name": "stdout",
     "output_type": "stream",
     "text": [
      "0.400 -> output_filename='2024-07-24_caustique/caustique_grating-image_threshold=0.400_88a562f1.png' \n"
     ]
    },
    {
     "name": "stderr",
     "output_type": "stream",
     "text": [
      "100%|██████████| 81/81 [03:11<00:00,  2.37s/it]\n",
      "100%|██████████| 1/1 [03:11<00:00, 191.72s/it]\n",
      "100%|██████████| 1/1 [00:00<00:00,  1.78it/s]\n"
     ]
    },
    {
     "name": "stdout",
     "output_type": "stream",
     "text": [
      "0.500 -> output_filename='2024-07-24_caustique/caustique_grating-image_threshold=0.500_f999bcd2.png' \n"
     ]
    },
    {
     "name": "stderr",
     "output_type": "stream",
     "text": [
      "100%|██████████| 81/81 [03:11<00:00,  2.36s/it]\n",
      "100%|██████████| 1/1 [03:11<00:00, 191.24s/it]\n",
      "100%|██████████| 1/1 [00:00<00:00,  1.85it/s]\n"
     ]
    },
    {
     "name": "stdout",
     "output_type": "stream",
     "text": [
      "0.600 -> output_filename='2024-07-24_caustique/caustique_grating-image_threshold=0.600_db03f147.png' \n"
     ]
    },
    {
     "name": "stderr",
     "output_type": "stream",
     "text": [
      "100%|██████████| 81/81 [03:11<00:00,  2.37s/it]\n",
      "100%|██████████| 1/1 [03:11<00:00, 191.70s/it]\n",
      "100%|██████████| 1/1 [00:00<00:00,  1.97it/s]\n"
     ]
    },
    {
     "name": "stdout",
     "output_type": "stream",
     "text": [
      "0.700 -> output_filename='2024-07-24_caustique/caustique_grating-image_threshold=0.700_221fa8d7.png' \n"
     ]
    },
    {
     "name": "stderr",
     "output_type": "stream",
     "text": [
      "100%|██████████| 81/81 [03:11<00:00,  2.36s/it]\n",
      "100%|██████████| 1/1 [03:11<00:00, 191.17s/it]\n",
      "100%|██████████| 1/1 [00:00<00:00,  2.08it/s]\n"
     ]
    },
    {
     "name": "stdout",
     "output_type": "stream",
     "text": [
      "0.800 -> output_filename='2024-07-24_caustique/caustique_grating-image_threshold=0.800_02695f59.png' \n"
     ]
    },
    {
     "name": "stderr",
     "output_type": "stream",
     "text": [
      "100%|██████████| 81/81 [03:11<00:00,  2.37s/it]\n",
      "100%|██████████| 1/1 [03:11<00:00, 191.78s/it]\n",
      "100%|██████████| 1/1 [00:00<00:00,  2.30it/s]"
     ]
    },
    {
     "name": "stdout",
     "output_type": "stream",
     "text": [
      "0.900 -> output_filename='2024-07-24_caustique/caustique_grating-image_threshold=0.900_45da01db.png' \n"
     ]
    },
    {
     "name": "stderr",
     "output_type": "stream",
     "text": [
      "\n"
     ]
    }
   ],
   "source": [
    "for threshold in np.linspace(0, 1, N_scan+2, endpoint=True)[1:-1]:\n",
    "    opt = init()\n",
    "    c = Caustique(opt)\n",
    "\n",
    "    c.opt.tag = f'{c.opt.tag}_{type}-image_{threshold=:.3f}'\n",
    "    image = generate_image(nx=c.opt.nx, ny=c.opt.ny, threshold=threshold)\n",
    "    output_filename = c.plot(z, image)\n",
    "    print(f'{threshold:.3f} -> {output_filename=} ')\n",
    "    if c.opt.do_display: c.show(output_filename)"
   ]
  },
  {
   "cell_type": "code",
   "execution_count": 22,
   "metadata": {},
   "outputs": [
    {
     "name": "stderr",
     "output_type": "stream",
     "text": [
      "100%|██████████| 81/81 [03:11<00:00,  2.37s/it]\n",
      "100%|██████████| 1/1 [03:11<00:00, 191.61s/it]\n",
      "100%|██████████| 1/1 [00:00<00:00,  3.50it/s]\n"
     ]
    },
    {
     "name": "stdout",
     "output_type": "stream",
     "text": [
      "radius=0.111 -> output_filename='2024-07-24_caustique/caustique_grating-image_radius=0.111_4cabe6db.png' \n"
     ]
    },
    {
     "name": "stderr",
     "output_type": "stream",
     "text": [
      "100%|██████████| 81/81 [03:11<00:00,  2.37s/it]\n",
      "100%|██████████| 1/1 [03:11<00:00, 191.70s/it]\n",
      "100%|██████████| 1/1 [00:00<00:00,  3.35it/s]\n"
     ]
    },
    {
     "name": "stdout",
     "output_type": "stream",
     "text": [
      "radius=0.222 -> output_filename='2024-07-24_caustique/caustique_grating-image_radius=0.222_817fd394.png' \n"
     ]
    },
    {
     "name": "stderr",
     "output_type": "stream",
     "text": [
      "100%|██████████| 81/81 [03:11<00:00,  2.37s/it]\n",
      "100%|██████████| 1/1 [03:11<00:00, 191.65s/it]\n",
      "100%|██████████| 1/1 [00:00<00:00,  2.92it/s]\n"
     ]
    },
    {
     "name": "stdout",
     "output_type": "stream",
     "text": [
      "radius=0.333 -> output_filename='2024-07-24_caustique/caustique_grating-image_radius=0.333_a0510b84.png' \n"
     ]
    },
    {
     "name": "stderr",
     "output_type": "stream",
     "text": [
      "100%|██████████| 81/81 [03:11<00:00,  2.36s/it]\n",
      "100%|██████████| 1/1 [03:11<00:00, 191.54s/it]\n",
      "100%|██████████| 1/1 [00:00<00:00,  2.88it/s]\n"
     ]
    },
    {
     "name": "stdout",
     "output_type": "stream",
     "text": [
      "radius=0.444 -> output_filename='2024-07-24_caustique/caustique_grating-image_radius=0.444_62bfb655.png' \n"
     ]
    },
    {
     "name": "stderr",
     "output_type": "stream",
     "text": [
      "100%|██████████| 81/81 [03:12<00:00,  2.38s/it]\n",
      "100%|██████████| 1/1 [03:12<00:00, 192.38s/it]\n",
      "100%|██████████| 1/1 [00:00<00:00,  2.45it/s]\n"
     ]
    },
    {
     "name": "stdout",
     "output_type": "stream",
     "text": [
      "radius=0.556 -> output_filename='2024-07-24_caustique/caustique_grating-image_radius=0.556_01812285.png' \n"
     ]
    },
    {
     "name": "stderr",
     "output_type": "stream",
     "text": [
      "100%|██████████| 81/81 [03:11<00:00,  2.37s/it]\n",
      "100%|██████████| 1/1 [03:11<00:00, 191.72s/it]\n",
      "100%|██████████| 1/1 [00:00<00:00,  2.17it/s]\n"
     ]
    },
    {
     "name": "stdout",
     "output_type": "stream",
     "text": [
      "radius=0.667 -> output_filename='2024-07-24_caustique/caustique_grating-image_radius=0.667_1a5aada8.png' \n"
     ]
    },
    {
     "name": "stderr",
     "output_type": "stream",
     "text": [
      "100%|██████████| 81/81 [03:12<00:00,  2.38s/it]\n",
      "100%|██████████| 1/1 [03:12<00:00, 192.38s/it]\n",
      "100%|██████████| 1/1 [00:02<00:00,  2.04s/it]\n"
     ]
    },
    {
     "name": "stdout",
     "output_type": "stream",
     "text": [
      "radius=0.778 -> output_filename='2024-07-24_caustique/caustique_grating-image_radius=0.778_f66d93ed.png' \n"
     ]
    },
    {
     "name": "stderr",
     "output_type": "stream",
     "text": [
      "100%|██████████| 81/81 [03:12<00:00,  2.37s/it]\n",
      "100%|██████████| 1/1 [03:12<00:00, 192.17s/it]\n",
      "100%|██████████| 1/1 [00:00<00:00,  1.80it/s]\n"
     ]
    },
    {
     "name": "stdout",
     "output_type": "stream",
     "text": [
      "radius=0.889 -> output_filename='2024-07-24_caustique/caustique_grating-image_radius=0.889_a3f9a495.png' \n"
     ]
    },
    {
     "name": "stderr",
     "output_type": "stream",
     "text": [
      "100%|██████████| 81/81 [03:11<00:00,  2.37s/it]\n",
      "100%|██████████| 1/1 [03:11<00:00, 191.99s/it]\n",
      "100%|██████████| 1/1 [00:00<00:00,  1.50it/s]"
     ]
    },
    {
     "name": "stdout",
     "output_type": "stream",
     "text": [
      "radius=1.000 -> output_filename='2024-07-24_caustique/caustique_grating-image_radius=1.000_e76caea3.png' \n"
     ]
    },
    {
     "name": "stderr",
     "output_type": "stream",
     "text": [
      "\n"
     ]
    }
   ],
   "source": [
    "for radius in np.linspace(0, 1, N_scan+1)[1:]:\n",
    "    opt = init()\n",
    "    c = Caustique(opt)\n",
    "\n",
    "    c.opt.tag = f'{c.opt.tag}_{type}-image_{radius=:.3f}'\n",
    "    image = generate_image(nx=c.opt.nx, ny=c.opt.ny, radius=radius)\n",
    "    output_filename = c.plot(z, image)\n",
    "    print(f'{radius=:.3f} -> {output_filename=} ')\n",
    "    if c.opt.do_display: c.show(output_filename)"
   ]
  },
  {
   "cell_type": "code",
   "execution_count": 23,
   "metadata": {},
   "outputs": [
    {
     "name": "stderr",
     "output_type": "stream",
     "text": [
      "100%|██████████| 81/81 [03:11<00:00,  2.36s/it]\n",
      "100%|██████████| 1/1 [03:11<00:00, 191.45s/it]\n",
      "100%|██████████| 1/1 [00:00<00:00,  2.15it/s]\n"
     ]
    },
    {
     "name": "stdout",
     "output_type": "stream",
     "text": [
      "periods=1.000 -> output_filename='2024-07-24_caustique/caustique_grating-image_periods=1.00e+00_a8d80f2e.png' \n"
     ]
    },
    {
     "name": "stderr",
     "output_type": "stream",
     "text": [
      "100%|██████████| 81/81 [03:11<00:00,  2.36s/it]\n",
      "100%|██████████| 1/1 [03:11<00:00, 191.33s/it]\n",
      "100%|██████████| 1/1 [00:00<00:00,  1.70it/s]\n"
     ]
    },
    {
     "name": "stdout",
     "output_type": "stream",
     "text": [
      "periods=1.334 -> output_filename='2024-07-24_caustique/caustique_grating-image_periods=1.33e+00_c7ac651d.png' \n"
     ]
    },
    {
     "name": "stderr",
     "output_type": "stream",
     "text": [
      "100%|██████████| 81/81 [03:11<00:00,  2.36s/it]\n",
      "100%|██████████| 1/1 [03:11<00:00, 191.54s/it]\n",
      "100%|██████████| 1/1 [00:00<00:00,  1.98it/s]\n"
     ]
    },
    {
     "name": "stdout",
     "output_type": "stream",
     "text": [
      "periods=1.778 -> output_filename='2024-07-24_caustique/caustique_grating-image_periods=1.78e+00_204af4c1.png' \n"
     ]
    },
    {
     "name": "stderr",
     "output_type": "stream",
     "text": [
      "100%|██████████| 81/81 [03:11<00:00,  2.36s/it]\n",
      "100%|██████████| 1/1 [03:11<00:00, 191.21s/it]\n",
      "100%|██████████| 1/1 [00:00<00:00,  1.85it/s]\n"
     ]
    },
    {
     "name": "stdout",
     "output_type": "stream",
     "text": [
      "periods=2.371 -> output_filename='2024-07-24_caustique/caustique_grating-image_periods=2.37e+00_35298f76.png' \n"
     ]
    },
    {
     "name": "stderr",
     "output_type": "stream",
     "text": [
      "100%|██████████| 81/81 [03:12<00:00,  2.38s/it]\n",
      "100%|██████████| 1/1 [03:12<00:00, 192.95s/it]\n",
      "100%|██████████| 1/1 [00:00<00:00,  1.87it/s]\n"
     ]
    },
    {
     "name": "stdout",
     "output_type": "stream",
     "text": [
      "periods=3.162 -> output_filename='2024-07-24_caustique/caustique_grating-image_periods=3.16e+00_5dd1a7cd.png' \n"
     ]
    },
    {
     "name": "stderr",
     "output_type": "stream",
     "text": [
      "100%|██████████| 81/81 [03:13<00:00,  2.39s/it]\n",
      "100%|██████████| 1/1 [03:13<00:00, 193.77s/it]\n",
      "100%|██████████| 1/1 [00:00<00:00,  1.84it/s]\n"
     ]
    },
    {
     "name": "stdout",
     "output_type": "stream",
     "text": [
      "periods=4.217 -> output_filename='2024-07-24_caustique/caustique_grating-image_periods=4.22e+00_0801226e.png' \n"
     ]
    },
    {
     "name": "stderr",
     "output_type": "stream",
     "text": [
      "100%|██████████| 81/81 [03:11<00:00,  2.36s/it]\n",
      "100%|██████████| 1/1 [03:11<00:00, 191.44s/it]\n",
      "100%|██████████| 1/1 [00:00<00:00,  1.71it/s]\n"
     ]
    },
    {
     "name": "stdout",
     "output_type": "stream",
     "text": [
      "periods=5.623 -> output_filename='2024-07-24_caustique/caustique_grating-image_periods=5.62e+00_8c8e8a2a.png' \n"
     ]
    },
    {
     "name": "stderr",
     "output_type": "stream",
     "text": [
      "100%|██████████| 81/81 [03:11<00:00,  2.37s/it]\n",
      "100%|██████████| 1/1 [03:11<00:00, 191.68s/it]\n",
      "100%|██████████| 1/1 [00:00<00:00,  1.72it/s]\n"
     ]
    },
    {
     "name": "stdout",
     "output_type": "stream",
     "text": [
      "periods=7.499 -> output_filename='2024-07-24_caustique/caustique_grating-image_periods=7.50e+00_7e51e58c.png' \n"
     ]
    },
    {
     "name": "stderr",
     "output_type": "stream",
     "text": [
      "100%|██████████| 81/81 [03:11<00:00,  2.37s/it]\n",
      "100%|██████████| 1/1 [03:11<00:00, 191.88s/it]\n",
      "100%|██████████| 1/1 [00:00<00:00,  1.65it/s]"
     ]
    },
    {
     "name": "stdout",
     "output_type": "stream",
     "text": [
      "periods=10.000 -> output_filename='2024-07-24_caustique/caustique_grating-image_periods=1.00e+01_469dfca1.png' \n"
     ]
    },
    {
     "name": "stderr",
     "output_type": "stream",
     "text": [
      "\n"
     ]
    }
   ],
   "source": [
    "for periods in np.logspace(0, 1, N_scan, base=10):\n",
    "    opt = init()\n",
    "    c = Caustique(opt)\n",
    "\n",
    "    c.opt.tag = f'{c.opt.tag}_{type}-image_{periods=:.2e}'\n",
    "    image = generate_image(nx=c.opt.nx, ny=c.opt.ny, periods=periods)\n",
    "    output_filename = c.plot(z, image)\n",
    "    print(f'{periods=:.3f} -> {output_filename=} ')\n",
    "    if c.opt.do_display: c.show(output_filename)"
   ]
  },
  {
   "cell_type": "code",
   "execution_count": 24,
   "metadata": {},
   "outputs": [
    {
     "name": "stdout",
     "output_type": "stream",
     "text": [
      "======scale======\n"
     ]
    },
    {
     "name": "stderr",
     "output_type": "stream",
     "text": [
      "100%|██████████| 81/81 [03:23<00:00,  2.52s/it]\n",
      "100%|██████████| 1/1 [03:23<00:00, 203.77s/it]\n",
      "100%|██████████| 1/1 [00:00<00:00,  1.20it/s]\n"
     ]
    },
    {
     "name": "stdout",
     "output_type": "stream",
     "text": [
      "scale=scale(default)*0.500=4.352E+02 -> output_filename='2024-07-24_caustique/caustique_scale_modul_0.500_a13a0f8e.png'\n"
     ]
    },
    {
     "name": "stderr",
     "output_type": "stream",
     "text": [
      "100%|██████████| 81/81 [03:24<00:00,  2.52s/it]\n",
      "100%|██████████| 1/1 [03:24<00:00, 204.04s/it]\n",
      "100%|██████████| 1/1 [00:00<00:00,  1.36it/s]\n"
     ]
    },
    {
     "name": "stdout",
     "output_type": "stream",
     "text": [
      "scale=scale(default)*0.595=5.175E+02 -> output_filename='2024-07-24_caustique/caustique_scale_modul_0.595_d13b1441.png'\n"
     ]
    },
    {
     "name": "stderr",
     "output_type": "stream",
     "text": [
      "100%|██████████| 81/81 [03:20<00:00,  2.48s/it]\n",
      "100%|██████████| 1/1 [03:20<00:00, 200.62s/it]\n",
      "100%|██████████| 1/1 [00:00<00:00,  1.15it/s]\n"
     ]
    },
    {
     "name": "stdout",
     "output_type": "stream",
     "text": [
      "scale=scale(default)*0.707=6.155E+02 -> output_filename='2024-07-24_caustique/caustique_scale_modul_0.707_7b95187e.png'\n"
     ]
    },
    {
     "name": "stderr",
     "output_type": "stream",
     "text": [
      "100%|██████████| 81/81 [03:17<00:00,  2.43s/it]\n",
      "100%|██████████| 1/1 [03:17<00:00, 197.02s/it]\n",
      "100%|██████████| 1/1 [00:00<00:00,  1.67it/s]\n"
     ]
    },
    {
     "name": "stdout",
     "output_type": "stream",
     "text": [
      "scale=scale(default)*0.841=7.319E+02 -> output_filename='2024-07-24_caustique/caustique_scale_modul_0.841_c7477141.png'\n"
     ]
    },
    {
     "name": "stderr",
     "output_type": "stream",
     "text": [
      "100%|██████████| 81/81 [03:14<00:00,  2.40s/it]\n",
      "100%|██████████| 1/1 [03:14<00:00, 194.12s/it]\n",
      "100%|██████████| 1/1 [00:00<00:00,  1.84it/s]\n"
     ]
    },
    {
     "name": "stdout",
     "output_type": "stream",
     "text": [
      "scale=scale(default)*1.000=8.704E+02 -> output_filename='2024-07-24_caustique/caustique_scale_modul_1.000_07eddf45.png'\n"
     ]
    },
    {
     "name": "stderr",
     "output_type": "stream",
     "text": [
      "100%|██████████| 81/81 [03:11<00:00,  2.36s/it]\n",
      "100%|██████████| 1/1 [03:11<00:00, 191.14s/it]\n",
      "100%|██████████| 1/1 [00:00<00:00,  1.97it/s]\n"
     ]
    },
    {
     "name": "stdout",
     "output_type": "stream",
     "text": [
      "scale=scale(default)*1.189=1.035E+03 -> output_filename='2024-07-24_caustique/caustique_scale_modul_1.189_91183d43.png'\n"
     ]
    },
    {
     "name": "stderr",
     "output_type": "stream",
     "text": [
      "100%|██████████| 81/81 [03:09<00:00,  2.33s/it]\n",
      "100%|██████████| 1/1 [03:09<00:00, 189.06s/it]\n",
      "100%|██████████| 1/1 [00:00<00:00,  2.01it/s]\n"
     ]
    },
    {
     "name": "stdout",
     "output_type": "stream",
     "text": [
      "scale=scale(default)*1.414=1.231E+03 -> output_filename='2024-07-24_caustique/caustique_scale_modul_1.414_7561f818.png'\n"
     ]
    },
    {
     "name": "stderr",
     "output_type": "stream",
     "text": [
      "100%|██████████| 81/81 [03:07<00:00,  2.31s/it]\n",
      "100%|██████████| 1/1 [03:07<00:00, 187.34s/it]\n",
      "100%|██████████| 1/1 [00:00<00:00,  2.05it/s]\n"
     ]
    },
    {
     "name": "stdout",
     "output_type": "stream",
     "text": [
      "scale=scale(default)*1.682=1.464E+03 -> output_filename='2024-07-24_caustique/caustique_scale_modul_1.682_d3a01cd1.png'\n"
     ]
    },
    {
     "name": "stderr",
     "output_type": "stream",
     "text": [
      "100%|██████████| 81/81 [03:05<00:00,  2.30s/it]\n",
      "100%|██████████| 1/1 [03:05<00:00, 185.95s/it]\n",
      "100%|██████████| 1/1 [00:00<00:00,  2.05it/s]\n"
     ]
    },
    {
     "name": "stdout",
     "output_type": "stream",
     "text": [
      "scale=scale(default)*2.000=1.741E+03 -> output_filename='2024-07-24_caustique/caustique_scale_modul_2.000_c38acc44.png'\n",
      "======B_sf======\n"
     ]
    },
    {
     "name": "stderr",
     "output_type": "stream",
     "text": [
      "100%|██████████| 81/81 [03:07<00:00,  2.32s/it]\n",
      "100%|██████████| 1/1 [03:07<00:00, 187.59s/it]\n",
      "100%|██████████| 1/1 [00:00<00:00,  2.03it/s]\n"
     ]
    },
    {
     "name": "stdout",
     "output_type": "stream",
     "text": [
      "B_sf=B_sf(default)*0.500=6.250E-01 -> output_filename='2024-07-24_caustique/caustique_B_sf_modul_0.500_2e25c9c6.png'\n"
     ]
    },
    {
     "name": "stderr",
     "output_type": "stream",
     "text": [
      "100%|██████████| 81/81 [03:07<00:00,  2.32s/it]\n",
      "100%|██████████| 1/1 [03:07<00:00, 187.61s/it]\n",
      "100%|██████████| 1/1 [00:00<00:00,  2.01it/s]\n"
     ]
    },
    {
     "name": "stdout",
     "output_type": "stream",
     "text": [
      "B_sf=B_sf(default)*0.595=7.433E-01 -> output_filename='2024-07-24_caustique/caustique_B_sf_modul_0.595_680311d9.png'\n"
     ]
    },
    {
     "name": "stderr",
     "output_type": "stream",
     "text": [
      "100%|██████████| 81/81 [03:09<00:00,  2.34s/it]\n",
      "100%|██████████| 1/1 [03:09<00:00, 189.89s/it]\n",
      "100%|██████████| 1/1 [00:00<00:00,  1.97it/s]\n"
     ]
    },
    {
     "name": "stdout",
     "output_type": "stream",
     "text": [
      "B_sf=B_sf(default)*0.707=8.839E-01 -> output_filename='2024-07-24_caustique/caustique_B_sf_modul_0.707_59ce4d32.png'\n"
     ]
    },
    {
     "name": "stderr",
     "output_type": "stream",
     "text": [
      "100%|██████████| 81/81 [03:11<00:00,  2.36s/it]\n",
      "100%|██████████| 1/1 [03:11<00:00, 191.19s/it]\n",
      "100%|██████████| 1/1 [00:00<00:00,  1.95it/s]\n"
     ]
    },
    {
     "name": "stdout",
     "output_type": "stream",
     "text": [
      "B_sf=B_sf(default)*0.841=1.051E+00 -> output_filename='2024-07-24_caustique/caustique_B_sf_modul_0.841_a3f5b12f.png'\n"
     ]
    },
    {
     "name": "stderr",
     "output_type": "stream",
     "text": [
      "100%|██████████| 81/81 [03:12<00:00,  2.38s/it]\n",
      "100%|██████████| 1/1 [03:12<00:00, 192.98s/it]\n",
      "100%|██████████| 1/1 [00:00<00:00,  1.83it/s]\n"
     ]
    },
    {
     "name": "stdout",
     "output_type": "stream",
     "text": [
      "B_sf=B_sf(default)*1.000=1.250E+00 -> output_filename='2024-07-24_caustique/caustique_B_sf_modul_1.000_5b595f4c.png'\n"
     ]
    },
    {
     "name": "stderr",
     "output_type": "stream",
     "text": [
      "100%|██████████| 81/81 [03:16<00:00,  2.42s/it]\n",
      "100%|██████████| 1/1 [03:16<00:00, 196.08s/it]\n",
      "100%|██████████| 1/1 [00:00<00:00,  1.71it/s]\n"
     ]
    },
    {
     "name": "stdout",
     "output_type": "stream",
     "text": [
      "B_sf=B_sf(default)*1.189=1.487E+00 -> output_filename='2024-07-24_caustique/caustique_B_sf_modul_1.189_f2cc2bb1.png'\n"
     ]
    },
    {
     "name": "stderr",
     "output_type": "stream",
     "text": [
      "100%|██████████| 81/81 [03:21<00:00,  2.49s/it]\n",
      "100%|██████████| 1/1 [03:21<00:00, 201.58s/it]\n",
      "100%|██████████| 1/1 [00:00<00:00,  1.54it/s]\n"
     ]
    },
    {
     "name": "stdout",
     "output_type": "stream",
     "text": [
      "B_sf=B_sf(default)*1.414=1.768E+00 -> output_filename='2024-07-24_caustique/caustique_B_sf_modul_1.414_df5a9ab1.png'\n"
     ]
    },
    {
     "name": "stderr",
     "output_type": "stream",
     "text": [
      "100%|██████████| 81/81 [03:28<00:00,  2.58s/it]\n",
      "100%|██████████| 1/1 [03:28<00:00, 208.63s/it]\n",
      "100%|██████████| 1/1 [00:00<00:00,  1.39it/s]\n"
     ]
    },
    {
     "name": "stdout",
     "output_type": "stream",
     "text": [
      "B_sf=B_sf(default)*1.682=2.102E+00 -> output_filename='2024-07-24_caustique/caustique_B_sf_modul_1.682_df7d7055.png'\n"
     ]
    },
    {
     "name": "stderr",
     "output_type": "stream",
     "text": [
      "100%|██████████| 81/81 [03:40<00:00,  2.72s/it]\n",
      "100%|██████████| 1/1 [03:40<00:00, 220.08s/it]\n",
      "100%|██████████| 1/1 [00:00<00:00,  1.27it/s]\n"
     ]
    },
    {
     "name": "stdout",
     "output_type": "stream",
     "text": [
      "B_sf=B_sf(default)*2.000=2.500E+00 -> output_filename='2024-07-24_caustique/caustique_B_sf_modul_2.000_46aa158d.png'\n",
      "======theta======\n"
     ]
    },
    {
     "name": "stderr",
     "output_type": "stream",
     "text": [
      "100%|██████████| 81/81 [03:13<00:00,  2.39s/it]\n",
      "100%|██████████| 1/1 [03:13<00:00, 193.41s/it]\n",
      "100%|██████████| 1/1 [00:00<00:00,  1.87it/s]\n"
     ]
    },
    {
     "name": "stdout",
     "output_type": "stream",
     "text": [
      "theta=theta(default)*0.500=7.854E-01 -> output_filename='2024-07-24_caustique/caustique_theta_modul_0.500_797ee560.png'\n"
     ]
    },
    {
     "name": "stderr",
     "output_type": "stream",
     "text": [
      "100%|██████████| 81/81 [03:13<00:00,  2.38s/it]\n",
      "100%|██████████| 1/1 [03:13<00:00, 193.18s/it]\n",
      "100%|██████████| 1/1 [00:00<00:00,  1.88it/s]\n"
     ]
    },
    {
     "name": "stdout",
     "output_type": "stream",
     "text": [
      "theta=theta(default)*0.595=9.340E-01 -> output_filename='2024-07-24_caustique/caustique_theta_modul_0.595_57ef1765.png'\n"
     ]
    },
    {
     "name": "stderr",
     "output_type": "stream",
     "text": [
      "100%|██████████| 81/81 [03:12<00:00,  2.38s/it]\n",
      "100%|██████████| 1/1 [03:12<00:00, 192.56s/it]\n",
      "100%|██████████| 1/1 [00:00<00:00,  1.90it/s]\n"
     ]
    },
    {
     "name": "stdout",
     "output_type": "stream",
     "text": [
      "theta=theta(default)*0.707=1.111E+00 -> output_filename='2024-07-24_caustique/caustique_theta_modul_0.707_c728cd2a.png'\n"
     ]
    },
    {
     "name": "stderr",
     "output_type": "stream",
     "text": [
      "100%|██████████| 81/81 [03:09<00:00,  2.33s/it]\n",
      "100%|██████████| 1/1 [03:09<00:00, 189.12s/it]\n",
      "100%|██████████| 1/1 [00:00<00:00,  1.91it/s]\n"
     ]
    },
    {
     "name": "stdout",
     "output_type": "stream",
     "text": [
      "theta=theta(default)*0.841=1.321E+00 -> output_filename='2024-07-24_caustique/caustique_theta_modul_0.841_f7950331.png'\n"
     ]
    },
    {
     "name": "stderr",
     "output_type": "stream",
     "text": [
      "100%|██████████| 81/81 [03:09<00:00,  2.34s/it]\n",
      "100%|██████████| 1/1 [03:09<00:00, 189.56s/it]\n",
      "100%|██████████| 1/1 [00:00<00:00,  1.90it/s]\n"
     ]
    },
    {
     "name": "stdout",
     "output_type": "stream",
     "text": [
      "theta=theta(default)*1.000=1.571E+00 -> output_filename='2024-07-24_caustique/caustique_theta_modul_1.000_9338e312.png'\n"
     ]
    },
    {
     "name": "stderr",
     "output_type": "stream",
     "text": [
      "100%|██████████| 81/81 [03:09<00:00,  2.34s/it]\n",
      "100%|██████████| 1/1 [03:09<00:00, 189.47s/it]\n",
      "100%|██████████| 1/1 [00:00<00:00,  1.90it/s]\n"
     ]
    },
    {
     "name": "stdout",
     "output_type": "stream",
     "text": [
      "theta=theta(default)*1.189=1.868E+00 -> output_filename='2024-07-24_caustique/caustique_theta_modul_1.189_6066711f.png'\n"
     ]
    },
    {
     "name": "stderr",
     "output_type": "stream",
     "text": [
      "100%|██████████| 81/81 [03:09<00:00,  2.33s/it]\n",
      "100%|██████████| 1/1 [03:09<00:00, 189.02s/it]\n",
      "100%|██████████| 1/1 [00:00<00:00,  1.90it/s]\n"
     ]
    },
    {
     "name": "stdout",
     "output_type": "stream",
     "text": [
      "theta=theta(default)*1.414=2.221E+00 -> output_filename='2024-07-24_caustique/caustique_theta_modul_1.414_0c6f7927.png'\n"
     ]
    },
    {
     "name": "stderr",
     "output_type": "stream",
     "text": [
      "100%|██████████| 81/81 [03:07<00:00,  2.32s/it]\n",
      "100%|██████████| 1/1 [03:07<00:00, 187.86s/it]\n",
      "100%|██████████| 1/1 [00:00<00:00,  1.92it/s]\n"
     ]
    },
    {
     "name": "stdout",
     "output_type": "stream",
     "text": [
      "theta=theta(default)*1.682=2.642E+00 -> output_filename='2024-07-24_caustique/caustique_theta_modul_1.682_fea7a4df.png'\n"
     ]
    },
    {
     "name": "stderr",
     "output_type": "stream",
     "text": [
      "100%|██████████| 81/81 [03:07<00:00,  2.31s/it]\n",
      "100%|██████████| 1/1 [03:07<00:00, 187.46s/it]\n",
      "100%|██████████| 1/1 [00:00<00:00,  1.87it/s]\n"
     ]
    },
    {
     "name": "stdout",
     "output_type": "stream",
     "text": [
      "theta=theta(default)*2.000=3.142E+00 -> output_filename='2024-07-24_caustique/caustique_theta_modul_2.000_cf5d5ab6.png'\n",
      "======B_theta======\n"
     ]
    },
    {
     "name": "stderr",
     "output_type": "stream",
     "text": [
      "100%|██████████| 81/81 [03:10<00:00,  2.35s/it]\n",
      "100%|██████████| 1/1 [03:10<00:00, 190.72s/it]\n",
      "100%|██████████| 1/1 [00:00<00:00,  1.86it/s]\n"
     ]
    },
    {
     "name": "stdout",
     "output_type": "stream",
     "text": [
      "B_theta=B_theta(default)*0.500=5.236E-01 -> output_filename='2024-07-24_caustique/caustique_B_theta_modul_0.500_c026242c.png'\n"
     ]
    },
    {
     "name": "stderr",
     "output_type": "stream",
     "text": [
      "100%|██████████| 81/81 [03:10<00:00,  2.36s/it]\n",
      "100%|██████████| 1/1 [03:10<00:00, 190.87s/it]\n",
      "100%|██████████| 1/1 [00:00<00:00,  1.88it/s]\n"
     ]
    },
    {
     "name": "stdout",
     "output_type": "stream",
     "text": [
      "B_theta=B_theta(default)*0.595=6.227E-01 -> output_filename='2024-07-24_caustique/caustique_B_theta_modul_0.595_5f1f01bc.png'\n"
     ]
    },
    {
     "name": "stderr",
     "output_type": "stream",
     "text": [
      "100%|██████████| 81/81 [03:10<00:00,  2.35s/it]\n",
      "100%|██████████| 1/1 [03:10<00:00, 190.43s/it]\n",
      "100%|██████████| 1/1 [00:00<00:00,  1.89it/s]\n"
     ]
    },
    {
     "name": "stdout",
     "output_type": "stream",
     "text": [
      "B_theta=B_theta(default)*0.707=7.405E-01 -> output_filename='2024-07-24_caustique/caustique_B_theta_modul_0.707_4f4ac9ea.png'\n"
     ]
    },
    {
     "name": "stderr",
     "output_type": "stream",
     "text": [
      "100%|██████████| 81/81 [03:09<00:00,  2.34s/it]\n",
      "100%|██████████| 1/1 [03:09<00:00, 189.20s/it]\n",
      "100%|██████████| 1/1 [00:00<00:00,  1.86it/s]\n"
     ]
    },
    {
     "name": "stdout",
     "output_type": "stream",
     "text": [
      "B_theta=B_theta(default)*0.841=8.806E-01 -> output_filename='2024-07-24_caustique/caustique_B_theta_modul_0.841_e219eec0.png'\n"
     ]
    },
    {
     "name": "stderr",
     "output_type": "stream",
     "text": [
      "100%|██████████| 81/81 [03:09<00:00,  2.34s/it]\n",
      "100%|██████████| 1/1 [03:09<00:00, 189.16s/it]\n",
      "100%|██████████| 1/1 [00:00<00:00,  1.90it/s]\n"
     ]
    },
    {
     "name": "stdout",
     "output_type": "stream",
     "text": [
      "B_theta=B_theta(default)*1.000=1.047E+00 -> output_filename='2024-07-24_caustique/caustique_B_theta_modul_1.000_363867b2.png'\n"
     ]
    },
    {
     "name": "stderr",
     "output_type": "stream",
     "text": [
      "100%|██████████| 81/81 [03:12<00:00,  2.38s/it]\n",
      "100%|██████████| 1/1 [03:12<00:00, 192.92s/it]\n",
      "100%|██████████| 1/1 [00:00<00:00,  1.21it/s]\n"
     ]
    },
    {
     "name": "stdout",
     "output_type": "stream",
     "text": [
      "B_theta=B_theta(default)*1.189=1.245E+00 -> output_filename='2024-07-24_caustique/caustique_B_theta_modul_1.189_ffe819cf.png'\n"
     ]
    },
    {
     "name": "stderr",
     "output_type": "stream",
     "text": [
      "100%|██████████| 81/81 [03:10<00:00,  2.35s/it]\n",
      "100%|██████████| 1/1 [03:10<00:00, 190.30s/it]\n",
      "100%|██████████| 1/1 [00:00<00:00,  1.83it/s]\n"
     ]
    },
    {
     "name": "stdout",
     "output_type": "stream",
     "text": [
      "B_theta=B_theta(default)*1.414=1.481E+00 -> output_filename='2024-07-24_caustique/caustique_B_theta_modul_1.414_828c9bbb.png'\n"
     ]
    },
    {
     "name": "stderr",
     "output_type": "stream",
     "text": [
      "100%|██████████| 81/81 [03:09<00:00,  2.34s/it]\n",
      "100%|██████████| 1/1 [03:09<00:00, 189.68s/it]\n",
      "100%|██████████| 1/1 [00:00<00:00,  1.88it/s]\n"
     ]
    },
    {
     "name": "stdout",
     "output_type": "stream",
     "text": [
      "B_theta=B_theta(default)*1.682=1.761E+00 -> output_filename='2024-07-24_caustique/caustique_B_theta_modul_1.682_4b40e085.png'\n"
     ]
    },
    {
     "name": "stderr",
     "output_type": "stream",
     "text": [
      "100%|██████████| 81/81 [03:10<00:00,  2.35s/it]\n",
      "100%|██████████| 1/1 [03:10<00:00, 190.04s/it]\n",
      "100%|██████████| 1/1 [00:00<00:00,  1.86it/s]\n"
     ]
    },
    {
     "name": "stdout",
     "output_type": "stream",
     "text": [
      "B_theta=B_theta(default)*2.000=2.094E+00 -> output_filename='2024-07-24_caustique/caustique_B_theta_modul_2.000_add66392.png'\n",
      "======gamma======\n"
     ]
    },
    {
     "name": "stderr",
     "output_type": "stream",
     "text": [
      "100%|██████████| 81/81 [03:10<00:00,  2.35s/it]\n",
      "100%|██████████| 1/1 [03:10<00:00, 190.53s/it]\n",
      "100%|██████████| 1/1 [00:00<00:00,  1.89it/s]\n"
     ]
    },
    {
     "name": "stdout",
     "output_type": "stream",
     "text": [
      "gamma=gamma(default)*0.500=1.200E+00 -> output_filename='2024-07-24_caustique/caustique_gamma_modul_0.500_49f79e4c.png'\n"
     ]
    },
    {
     "name": "stderr",
     "output_type": "stream",
     "text": [
      "100%|██████████| 81/81 [03:10<00:00,  2.35s/it]\n",
      "100%|██████████| 1/1 [03:10<00:00, 190.27s/it]\n",
      "100%|██████████| 1/1 [00:00<00:00,  1.88it/s]\n"
     ]
    },
    {
     "name": "stdout",
     "output_type": "stream",
     "text": [
      "gamma=gamma(default)*0.595=1.427E+00 -> output_filename='2024-07-24_caustique/caustique_gamma_modul_0.595_71396ff5.png'\n"
     ]
    },
    {
     "name": "stderr",
     "output_type": "stream",
     "text": [
      "100%|██████████| 81/81 [03:09<00:00,  2.34s/it]\n",
      "100%|██████████| 1/1 [03:09<00:00, 189.87s/it]\n",
      "100%|██████████| 1/1 [00:00<00:00,  1.89it/s]\n"
     ]
    },
    {
     "name": "stdout",
     "output_type": "stream",
     "text": [
      "gamma=gamma(default)*0.707=1.697E+00 -> output_filename='2024-07-24_caustique/caustique_gamma_modul_0.707_b6d698fb.png'\n"
     ]
    },
    {
     "name": "stderr",
     "output_type": "stream",
     "text": [
      "100%|██████████| 81/81 [03:10<00:00,  2.35s/it]\n",
      "100%|██████████| 1/1 [03:10<00:00, 190.28s/it]\n",
      "100%|██████████| 1/1 [00:00<00:00,  1.93it/s]\n"
     ]
    },
    {
     "name": "stdout",
     "output_type": "stream",
     "text": [
      "gamma=gamma(default)*0.841=2.018E+00 -> output_filename='2024-07-24_caustique/caustique_gamma_modul_0.841_2faf2034.png'\n"
     ]
    },
    {
     "name": "stderr",
     "output_type": "stream",
     "text": [
      "100%|██████████| 81/81 [03:10<00:00,  2.35s/it]\n",
      "100%|██████████| 1/1 [03:10<00:00, 190.22s/it]\n",
      "100%|██████████| 1/1 [00:00<00:00,  1.90it/s]\n"
     ]
    },
    {
     "name": "stdout",
     "output_type": "stream",
     "text": [
      "gamma=gamma(default)*1.000=2.400E+00 -> output_filename='2024-07-24_caustique/caustique_gamma_modul_1.000_a5a0d8ca.png'\n"
     ]
    },
    {
     "name": "stderr",
     "output_type": "stream",
     "text": [
      "100%|██████████| 81/81 [03:09<00:00,  2.34s/it]\n",
      "100%|██████████| 1/1 [03:09<00:00, 189.72s/it]\n",
      "100%|██████████| 1/1 [00:00<00:00,  1.91it/s]\n"
     ]
    },
    {
     "name": "stdout",
     "output_type": "stream",
     "text": [
      "gamma=gamma(default)*1.189=2.854E+00 -> output_filename='2024-07-24_caustique/caustique_gamma_modul_1.189_f658bd09.png'\n"
     ]
    },
    {
     "name": "stderr",
     "output_type": "stream",
     "text": [
      "100%|██████████| 81/81 [03:09<00:00,  2.34s/it]\n",
      "100%|██████████| 1/1 [03:09<00:00, 189.52s/it]\n",
      "100%|██████████| 1/1 [00:00<00:00,  1.93it/s]\n"
     ]
    },
    {
     "name": "stdout",
     "output_type": "stream",
     "text": [
      "gamma=gamma(default)*1.414=3.394E+00 -> output_filename='2024-07-24_caustique/caustique_gamma_modul_1.414_568cf5fe.png'\n"
     ]
    },
    {
     "name": "stderr",
     "output_type": "stream",
     "text": [
      "100%|██████████| 81/81 [03:09<00:00,  2.34s/it]\n",
      "100%|██████████| 1/1 [03:09<00:00, 189.89s/it]\n",
      "100%|██████████| 1/1 [00:00<00:00,  1.89it/s]\n"
     ]
    },
    {
     "name": "stdout",
     "output_type": "stream",
     "text": [
      "gamma=gamma(default)*1.682=4.036E+00 -> output_filename='2024-07-24_caustique/caustique_gamma_modul_1.682_af7134f6.png'\n"
     ]
    },
    {
     "name": "stderr",
     "output_type": "stream",
     "text": [
      "100%|██████████| 81/81 [03:10<00:00,  2.35s/it]\n",
      "100%|██████████| 1/1 [03:10<00:00, 190.33s/it]\n",
      "100%|██████████| 1/1 [00:00<00:00,  1.88it/s]\n"
     ]
    },
    {
     "name": "stdout",
     "output_type": "stream",
     "text": [
      "gamma=gamma(default)*2.000=4.800E+00 -> output_filename='2024-07-24_caustique/caustique_gamma_modul_2.000_ed8fc44b.png'\n",
      "======min_lum======\n"
     ]
    },
    {
     "name": "stderr",
     "output_type": "stream",
     "text": [
      "100%|██████████| 81/81 [03:10<00:00,  2.35s/it]\n",
      "100%|██████████| 1/1 [03:10<00:00, 190.20s/it]\n",
      "100%|██████████| 1/1 [00:00<00:00,  1.93it/s]\n"
     ]
    },
    {
     "name": "stdout",
     "output_type": "stream",
     "text": [
      "min_lum=min_lum(default)*0.500=5.000E-02 -> output_filename='2024-07-24_caustique/caustique_min_lum_modul_0.500_dbef85a5.png'\n"
     ]
    },
    {
     "name": "stderr",
     "output_type": "stream",
     "text": [
      "100%|██████████| 81/81 [03:10<00:00,  2.35s/it]\n",
      "100%|██████████| 1/1 [03:10<00:00, 190.06s/it]\n",
      "100%|██████████| 1/1 [00:00<00:00,  1.90it/s]\n"
     ]
    },
    {
     "name": "stdout",
     "output_type": "stream",
     "text": [
      "min_lum=min_lum(default)*0.595=5.946E-02 -> output_filename='2024-07-24_caustique/caustique_min_lum_modul_0.595_8e7ae54b.png'\n"
     ]
    },
    {
     "name": "stderr",
     "output_type": "stream",
     "text": [
      "100%|██████████| 81/81 [03:10<00:00,  2.35s/it]\n",
      "100%|██████████| 1/1 [03:10<00:00, 190.05s/it]\n",
      "100%|██████████| 1/1 [00:00<00:00,  1.92it/s]\n"
     ]
    },
    {
     "name": "stdout",
     "output_type": "stream",
     "text": [
      "min_lum=min_lum(default)*0.707=7.071E-02 -> output_filename='2024-07-24_caustique/caustique_min_lum_modul_0.707_aa550a41.png'\n"
     ]
    },
    {
     "name": "stderr",
     "output_type": "stream",
     "text": [
      "100%|██████████| 81/81 [03:11<00:00,  2.37s/it]\n",
      "100%|██████████| 1/1 [03:11<00:00, 191.61s/it]\n",
      "100%|██████████| 1/1 [00:00<00:00,  1.83it/s]\n"
     ]
    },
    {
     "name": "stdout",
     "output_type": "stream",
     "text": [
      "min_lum=min_lum(default)*0.841=8.409E-02 -> output_filename='2024-07-24_caustique/caustique_min_lum_modul_0.841_c29c6e37.png'\n"
     ]
    },
    {
     "name": "stderr",
     "output_type": "stream",
     "text": [
      "100%|██████████| 81/81 [03:09<00:00,  2.34s/it]\n",
      "100%|██████████| 1/1 [03:09<00:00, 189.82s/it]\n",
      "100%|██████████| 1/1 [00:00<00:00,  1.92it/s]\n"
     ]
    },
    {
     "name": "stdout",
     "output_type": "stream",
     "text": [
      "min_lum=min_lum(default)*1.000=1.000E-01 -> output_filename='2024-07-24_caustique/caustique_min_lum_modul_1.000_f1d0bdab.png'\n"
     ]
    },
    {
     "name": "stderr",
     "output_type": "stream",
     "text": [
      "100%|██████████| 81/81 [03:09<00:00,  2.34s/it]\n",
      "100%|██████████| 1/1 [03:09<00:00, 189.93s/it]\n",
      "100%|██████████| 1/1 [00:00<00:00,  1.92it/s]\n"
     ]
    },
    {
     "name": "stdout",
     "output_type": "stream",
     "text": [
      "min_lum=min_lum(default)*1.189=1.189E-01 -> output_filename='2024-07-24_caustique/caustique_min_lum_modul_1.189_5cd543a2.png'\n"
     ]
    },
    {
     "name": "stderr",
     "output_type": "stream",
     "text": [
      "100%|██████████| 81/81 [03:09<00:00,  2.33s/it]\n",
      "100%|██████████| 1/1 [03:09<00:00, 189.10s/it]\n",
      "100%|██████████| 1/1 [00:00<00:00,  1.91it/s]\n"
     ]
    },
    {
     "name": "stdout",
     "output_type": "stream",
     "text": [
      "min_lum=min_lum(default)*1.414=1.414E-01 -> output_filename='2024-07-24_caustique/caustique_min_lum_modul_1.414_88fc2b4a.png'\n"
     ]
    },
    {
     "name": "stderr",
     "output_type": "stream",
     "text": [
      "100%|██████████| 81/81 [03:09<00:00,  2.34s/it]\n",
      "100%|██████████| 1/1 [03:09<00:00, 189.41s/it]\n",
      "100%|██████████| 1/1 [00:00<00:00,  1.88it/s]\n"
     ]
    },
    {
     "name": "stdout",
     "output_type": "stream",
     "text": [
      "min_lum=min_lum(default)*1.682=1.682E-01 -> output_filename='2024-07-24_caustique/caustique_min_lum_modul_1.682_20ce93a6.png'\n"
     ]
    },
    {
     "name": "stderr",
     "output_type": "stream",
     "text": [
      "100%|██████████| 81/81 [03:09<00:00,  2.33s/it]\n",
      "100%|██████████| 1/1 [03:09<00:00, 189.06s/it]\n",
      "100%|██████████| 1/1 [00:00<00:00,  1.91it/s]\n"
     ]
    },
    {
     "name": "stdout",
     "output_type": "stream",
     "text": [
      "min_lum=min_lum(default)*2.000=2.000E-01 -> output_filename='2024-07-24_caustique/caustique_min_lum_modul_2.000_ecf47e0c.png'\n",
      "======zmin======\n"
     ]
    },
    {
     "name": "stderr",
     "output_type": "stream",
     "text": [
      "100%|██████████| 81/81 [03:08<00:00,  2.32s/it]\n",
      "100%|██████████| 1/1 [03:08<00:00, 188.24s/it]\n",
      "100%|██████████| 1/1 [00:00<00:00,  1.89it/s]\n"
     ]
    },
    {
     "name": "stdout",
     "output_type": "stream",
     "text": [
      "zmin=zmin(default)*0.500=1.000E-01 -> output_filename='2024-07-24_caustique/caustique_zmin_modul_0.500_fb8bb25a.png'\n"
     ]
    },
    {
     "name": "stderr",
     "output_type": "stream",
     "text": [
      "100%|██████████| 81/81 [03:08<00:00,  2.33s/it]\n",
      "100%|██████████| 1/1 [03:08<00:00, 188.42s/it]\n",
      "100%|██████████| 1/1 [00:00<00:00,  1.81it/s]\n"
     ]
    },
    {
     "name": "stdout",
     "output_type": "stream",
     "text": [
      "zmin=zmin(default)*0.595=1.189E-01 -> output_filename='2024-07-24_caustique/caustique_zmin_modul_0.595_3ca3d201.png'\n"
     ]
    },
    {
     "name": "stderr",
     "output_type": "stream",
     "text": [
      "100%|██████████| 81/81 [03:08<00:00,  2.33s/it]\n",
      "100%|██████████| 1/1 [03:08<00:00, 188.89s/it]\n",
      "100%|██████████| 1/1 [00:00<00:00,  1.92it/s]\n"
     ]
    },
    {
     "name": "stdout",
     "output_type": "stream",
     "text": [
      "zmin=zmin(default)*0.707=1.414E-01 -> output_filename='2024-07-24_caustique/caustique_zmin_modul_0.707_bf3c0e8d.png'\n"
     ]
    },
    {
     "name": "stderr",
     "output_type": "stream",
     "text": [
      "100%|██████████| 81/81 [03:09<00:00,  2.34s/it]\n",
      "100%|██████████| 1/1 [03:09<00:00, 189.76s/it]\n",
      "100%|██████████| 1/1 [00:00<00:00,  1.90it/s]\n"
     ]
    },
    {
     "name": "stdout",
     "output_type": "stream",
     "text": [
      "zmin=zmin(default)*0.841=1.682E-01 -> output_filename='2024-07-24_caustique/caustique_zmin_modul_0.841_f06ad317.png'\n"
     ]
    },
    {
     "name": "stderr",
     "output_type": "stream",
     "text": [
      "100%|██████████| 81/81 [03:10<00:00,  2.35s/it]\n",
      "100%|██████████| 1/1 [03:10<00:00, 190.53s/it]\n",
      "100%|██████████| 1/1 [00:00<00:00,  1.86it/s]\n"
     ]
    },
    {
     "name": "stdout",
     "output_type": "stream",
     "text": [
      "zmin=zmin(default)*1.000=2.000E-01 -> output_filename='2024-07-24_caustique/caustique_zmin_modul_1.000_5a2642d1.png'\n"
     ]
    },
    {
     "name": "stderr",
     "output_type": "stream",
     "text": [
      "100%|██████████| 81/81 [03:10<00:00,  2.35s/it]\n",
      "100%|██████████| 1/1 [03:10<00:00, 190.73s/it]\n",
      "100%|██████████| 1/1 [00:00<00:00,  1.88it/s]\n"
     ]
    },
    {
     "name": "stdout",
     "output_type": "stream",
     "text": [
      "zmin=zmin(default)*1.189=2.378E-01 -> output_filename='2024-07-24_caustique/caustique_zmin_modul_1.189_bf52ece1.png'\n"
     ]
    },
    {
     "name": "stderr",
     "output_type": "stream",
     "text": [
      "100%|██████████| 81/81 [03:11<00:00,  2.36s/it]\n",
      "100%|██████████| 1/1 [03:11<00:00, 191.08s/it]\n",
      "100%|██████████| 1/1 [00:00<00:00,  1.87it/s]\n"
     ]
    },
    {
     "name": "stdout",
     "output_type": "stream",
     "text": [
      "zmin=zmin(default)*1.414=2.828E-01 -> output_filename='2024-07-24_caustique/caustique_zmin_modul_1.414_5646fe1e.png'\n"
     ]
    },
    {
     "name": "stderr",
     "output_type": "stream",
     "text": [
      "100%|██████████| 81/81 [03:12<00:00,  2.38s/it]\n",
      "100%|██████████| 1/1 [03:12<00:00, 192.96s/it]\n",
      "100%|██████████| 1/1 [00:00<00:00,  1.82it/s]\n"
     ]
    },
    {
     "name": "stdout",
     "output_type": "stream",
     "text": [
      "zmin=zmin(default)*1.682=3.364E-01 -> output_filename='2024-07-24_caustique/caustique_zmin_modul_1.682_60a57eb1.png'\n"
     ]
    },
    {
     "name": "stderr",
     "output_type": "stream",
     "text": [
      "100%|██████████| 81/81 [03:12<00:00,  2.38s/it]\n",
      "100%|██████████| 1/1 [03:12<00:00, 192.82s/it]\n",
      "100%|██████████| 1/1 [00:00<00:00,  1.84it/s]"
     ]
    },
    {
     "name": "stdout",
     "output_type": "stream",
     "text": [
      "zmin=zmin(default)*2.000=4.000E-01 -> output_filename='2024-07-24_caustique/caustique_zmin_modul_2.000_1b0aa246.png'\n"
     ]
    },
    {
     "name": "stderr",
     "output_type": "stream",
     "text": [
      "\n"
     ]
    }
   ],
   "source": [
    "for variable in ['scale', 'B_sf', 'theta',  'B_theta', 'gamma', 'min_lum', 'zmin']: #  'V_Y', 'V_X', 'B_V', \n",
    "    print(f'======{variable}======')\n",
    "    for modul in np.logspace(-1, 1, N_scan, base=base):\n",
    "        opt = init()\n",
    "        c = Caustique(opt)\n",
    "        c.d[variable] *= modul\n",
    "        c.opt.tag = f'{c.opt.tag}_{variable}_modul_{modul:.3f}'\n",
    "        z = c.wave()\n",
    "        image = generate_image(nx=c.opt.nx, ny=c.opt.ny)\n",
    "        output_filename = c.plot(z, image)\n",
    "        print(f'{variable}={variable}(default)*{modul:.3f}={c.d[variable]:.3E} -> {output_filename=}')\n",
    "        if c.opt.do_display: c.show(output_filename)"
   ]
  },
  {
   "cell_type": "markdown",
   "metadata": {
    "tags": []
   },
   "source": [
    "## shining a grid image to the wave"
   ]
  },
  {
   "cell_type": "code",
   "execution_count": 25,
   "metadata": {},
   "outputs": [],
   "source": [
    "type = 'grid'"
   ]
  },
  {
   "cell_type": "code",
   "execution_count": 26,
   "metadata": {},
   "outputs": [
    {
     "data": {
      "image/png": "[encoded data removed]",
      "text/plain": [
       "<Figure size 640x480 with 1 Axes>"
      ]
     },
     "metadata": {},
     "output_type": "display_data"
    }
   ],
   "source": [
    "def generate_image(nx, ny, periods=10, threshold=0.45, radius=.9):\n",
    "    X, Y = np.meshgrid(np.linspace(-1, 1, nx, endpoint=True), np.linspace(-1, 1, ny, endpoint=True))\n",
    "    image = (np.cos(2*np.pi*X*periods) > threshold)*1.\n",
    "    image += (np.cos(2*np.pi*Y*periods) > threshold)*1.\n",
    "    image = (image>=1) * 1.\n",
    "    image *= ((X**2 + Y**2) < radius**2) * 1.\n",
    "    return image\n",
    "    \n",
    "image = generate_image(nx=c.opt.nx, ny=c.opt.ny, periods=10, threshold=0.45, radius=.9)\n",
    "plt.imshow(image, cmap='gray');"
   ]
  },
  {
   "cell_type": "code",
   "execution_count": 27,
   "metadata": {},
   "outputs": [
    {
     "name": "stderr",
     "output_type": "stream",
     "text": [
      "100%|██████████| 81/81 [03:12<00:00,  2.38s/it]\n",
      "100%|██████████| 1/1 [03:12<00:00, 192.62s/it]\n",
      "100%|██████████| 1/1 [00:00<00:00,  1.57it/s]\n"
     ]
    },
    {
     "data": {
      "text/html": [
       "<img src=\"2024-07-24_caustique/caustique_grid-image_fbb3cbe7.png\" width=\"1024\"/>"
      ],
      "text/plain": [
       "<IPython.core.display.Image object>"
      ]
     },
     "metadata": {},
     "output_type": "display_data"
    }
   ],
   "source": [
    "c = Caustique(init())\n",
    "c.opt.tag = f'{c.opt.tag}_{type}-image'\n",
    "\n",
    "output_filename = c.plot(z, image)\n",
    "c.show(output_filename)"
   ]
  },
  {
   "cell_type": "code",
   "execution_count": 28,
   "metadata": {
    "execution": {
     "iopub.execute_input": "2022-09-16T06:50:19.915420Z",
     "iopub.status.busy": "2022-09-16T06:50:19.915215Z",
     "iopub.status.idle": "2022-09-16T06:50:21.641723Z",
     "shell.execute_reply": "2022-09-16T06:50:21.641154Z"
    }
   },
   "outputs": [
    {
     "name": "stderr",
     "output_type": "stream",
     "text": [
      "100%|██████████| 81/81 [03:11<00:00,  2.37s/it]\n",
      "100%|██████████| 1/1 [03:11<00:00, 191.87s/it]\n",
      "100%|██████████| 1/1 [00:00<00:00,  1.37it/s]\n"
     ]
    },
    {
     "name": "stdout",
     "output_type": "stream",
     "text": [
      "threshold=0.100 -> output_filename='2024-07-24_caustique/caustique_grid-image_threshold=0.100_742a7cfa.png' \n"
     ]
    },
    {
     "name": "stderr",
     "output_type": "stream",
     "text": [
      "100%|██████████| 81/81 [03:12<00:00,  2.38s/it]\n",
      "100%|██████████| 1/1 [03:12<00:00, 192.47s/it]\n",
      "100%|██████████| 1/1 [00:00<00:00,  1.45it/s]\n"
     ]
    },
    {
     "name": "stdout",
     "output_type": "stream",
     "text": [
      "threshold=0.200 -> output_filename='2024-07-24_caustique/caustique_grid-image_threshold=0.200_6718c7c4.png' \n"
     ]
    },
    {
     "name": "stderr",
     "output_type": "stream",
     "text": [
      "100%|██████████| 81/81 [03:11<00:00,  2.37s/it]\n",
      "100%|██████████| 1/1 [03:11<00:00, 191.84s/it]\n",
      "100%|██████████| 1/1 [00:00<00:00,  1.52it/s]\n"
     ]
    },
    {
     "name": "stdout",
     "output_type": "stream",
     "text": [
      "threshold=0.300 -> output_filename='2024-07-24_caustique/caustique_grid-image_threshold=0.300_2aec17f2.png' \n"
     ]
    },
    {
     "name": "stderr",
     "output_type": "stream",
     "text": [
      "100%|██████████| 81/81 [03:11<00:00,  2.37s/it]\n",
      "100%|██████████| 1/1 [03:11<00:00, 191.87s/it]\n",
      "100%|██████████| 1/1 [00:00<00:00,  1.56it/s]\n"
     ]
    },
    {
     "name": "stdout",
     "output_type": "stream",
     "text": [
      "threshold=0.400 -> output_filename='2024-07-24_caustique/caustique_grid-image_threshold=0.400_bd251189.png' \n"
     ]
    },
    {
     "name": "stderr",
     "output_type": "stream",
     "text": [
      "100%|██████████| 81/81 [03:14<00:00,  2.40s/it]\n",
      "100%|██████████| 1/1 [03:14<00:00, 194.47s/it]\n",
      "100%|██████████| 1/1 [00:00<00:00,  1.45it/s]\n"
     ]
    },
    {
     "name": "stdout",
     "output_type": "stream",
     "text": [
      "threshold=0.500 -> output_filename='2024-07-24_caustique/caustique_grid-image_threshold=0.500_7980c632.png' \n"
     ]
    },
    {
     "name": "stderr",
     "output_type": "stream",
     "text": [
      "100%|██████████| 81/81 [03:21<00:00,  2.49s/it]\n",
      "100%|██████████| 1/1 [03:21<00:00, 201.93s/it]\n",
      "100%|██████████| 1/1 [00:00<00:00,  1.56it/s]\n"
     ]
    },
    {
     "name": "stdout",
     "output_type": "stream",
     "text": [
      "threshold=0.600 -> output_filename='2024-07-24_caustique/caustique_grid-image_threshold=0.600_4baf1e26.png' \n"
     ]
    },
    {
     "name": "stderr",
     "output_type": "stream",
     "text": [
      "100%|██████████| 81/81 [03:15<00:00,  2.42s/it]\n",
      "100%|██████████| 1/1 [03:15<00:00, 195.92s/it]\n",
      "100%|██████████| 1/1 [00:00<00:00,  1.64it/s]\n"
     ]
    },
    {
     "name": "stdout",
     "output_type": "stream",
     "text": [
      "threshold=0.700 -> output_filename='2024-07-24_caustique/caustique_grid-image_threshold=0.700_a275ce74.png' \n"
     ]
    },
    {
     "name": "stderr",
     "output_type": "stream",
     "text": [
      "100%|██████████| 81/81 [03:13<00:00,  2.39s/it]\n",
      "100%|██████████| 1/1 [03:13<00:00, 193.73s/it]\n",
      "100%|██████████| 1/1 [00:00<00:00,  1.81it/s]\n"
     ]
    },
    {
     "name": "stdout",
     "output_type": "stream",
     "text": [
      "threshold=0.800 -> output_filename='2024-07-24_caustique/caustique_grid-image_threshold=0.800_0476fba4.png' \n"
     ]
    },
    {
     "name": "stderr",
     "output_type": "stream",
     "text": [
      "100%|██████████| 81/81 [03:13<00:00,  2.39s/it]\n",
      "100%|██████████| 1/1 [03:13<00:00, 193.24s/it]\n",
      "100%|██████████| 1/1 [00:00<00:00,  1.91it/s]"
     ]
    },
    {
     "name": "stdout",
     "output_type": "stream",
     "text": [
      "threshold=0.900 -> output_filename='2024-07-24_caustique/caustique_grid-image_threshold=0.900_835f0473.png' \n"
     ]
    },
    {
     "name": "stderr",
     "output_type": "stream",
     "text": [
      "\n"
     ]
    }
   ],
   "source": [
    "for threshold in np.linspace(0, 1, N_scan+2, endpoint=True)[1:-1]:\n",
    "    opt = init()\n",
    "    c = Caustique(opt)\n",
    "\n",
    "    c.opt.tag = f'{c.opt.tag}_{type}-image_{threshold=:.3f}'\n",
    "    image = generate_image(nx=c.opt.nx, ny=c.opt.ny, periods=10, threshold=threshold)\n",
    "    output_filename = c.plot(z, image)\n",
    "    print(f'{threshold=:.3f} -> {output_filename=} ')\n",
    "    if c.opt.do_display: c.show(output_filename)"
   ]
  },
  {
   "cell_type": "code",
   "execution_count": 29,
   "metadata": {
    "execution": {
     "iopub.execute_input": "2022-09-16T06:50:19.915420Z",
     "iopub.status.busy": "2022-09-16T06:50:19.915215Z",
     "iopub.status.idle": "2022-09-16T06:50:21.641723Z",
     "shell.execute_reply": "2022-09-16T06:50:21.641154Z"
    }
   },
   "outputs": [
    {
     "name": "stderr",
     "output_type": "stream",
     "text": [
      "100%|██████████| 81/81 [03:08<00:00,  2.33s/it]\n",
      "100%|██████████| 1/1 [03:08<00:00, 188.82s/it]\n",
      "100%|██████████| 1/1 [00:00<00:00,  2.27it/s]\n"
     ]
    },
    {
     "name": "stdout",
     "output_type": "stream",
     "text": [
      "H = 10.000 -> output_filename='2024-07-24_caustique/caustique_grid-image_H_10.000_e33721f7.png' \n"
     ]
    },
    {
     "name": "stderr",
     "output_type": "stream",
     "text": [
      "100%|██████████| 81/81 [03:09<00:00,  2.33s/it]\n",
      "100%|██████████| 1/1 [03:09<00:00, 189.08s/it]\n",
      "100%|██████████| 1/1 [00:01<00:00,  1.83s/it]\n"
     ]
    },
    {
     "name": "stdout",
     "output_type": "stream",
     "text": [
      "H = 11.892 -> output_filename='2024-07-24_caustique/caustique_grid-image_H_11.892_a7b4a0e7.png' \n"
     ]
    },
    {
     "name": "stderr",
     "output_type": "stream",
     "text": [
      "100%|██████████| 81/81 [03:11<00:00,  2.36s/it]\n",
      "100%|██████████| 1/1 [03:11<00:00, 191.02s/it]\n",
      "100%|██████████| 1/1 [00:00<00:00,  2.16it/s]\n"
     ]
    },
    {
     "name": "stdout",
     "output_type": "stream",
     "text": [
      "H = 14.142 -> output_filename='2024-07-24_caustique/caustique_grid-image_H_14.142_6af7da75.png' \n"
     ]
    },
    {
     "name": "stderr",
     "output_type": "stream",
     "text": [
      "100%|██████████| 81/81 [03:10<00:00,  2.36s/it]\n",
      "100%|██████████| 1/1 [03:10<00:00, 190.98s/it]\n",
      "100%|██████████| 1/1 [00:00<00:00,  2.07it/s]\n"
     ]
    },
    {
     "name": "stdout",
     "output_type": "stream",
     "text": [
      "H = 16.818 -> output_filename='2024-07-24_caustique/caustique_grid-image_H_16.818_dc9526ca.png' \n"
     ]
    },
    {
     "name": "stderr",
     "output_type": "stream",
     "text": [
      "100%|██████████| 81/81 [03:12<00:00,  2.38s/it]\n",
      "100%|██████████| 1/1 [03:13<00:00, 193.00s/it]\n",
      "100%|██████████| 1/1 [00:00<00:00,  1.97it/s]\n"
     ]
    },
    {
     "name": "stdout",
     "output_type": "stream",
     "text": [
      "H = 20.000 -> output_filename='2024-07-24_caustique/caustique_grid-image_H_20.000_67641da3.png' \n"
     ]
    },
    {
     "name": "stderr",
     "output_type": "stream",
     "text": [
      "100%|██████████| 81/81 [03:13<00:00,  2.39s/it]\n",
      "100%|██████████| 1/1 [03:13<00:00, 193.38s/it]\n",
      "100%|██████████| 1/1 [00:00<00:00,  1.87it/s]\n"
     ]
    },
    {
     "name": "stdout",
     "output_type": "stream",
     "text": [
      "H = 23.784 -> output_filename='2024-07-24_caustique/caustique_grid-image_H_23.784_972ae91d.png' \n"
     ]
    },
    {
     "name": "stderr",
     "output_type": "stream",
     "text": [
      "100%|██████████| 81/81 [03:19<00:00,  2.46s/it]\n",
      "100%|██████████| 1/1 [03:19<00:00, 199.33s/it]\n",
      "100%|██████████| 1/1 [00:00<00:00,  1.57it/s]\n"
     ]
    },
    {
     "name": "stdout",
     "output_type": "stream",
     "text": [
      "H = 28.284 -> output_filename='2024-07-24_caustique/caustique_grid-image_H_28.284_dd2c8a8a.png' \n"
     ]
    },
    {
     "name": "stderr",
     "output_type": "stream",
     "text": [
      "100%|██████████| 81/81 [03:26<00:00,  2.55s/it]\n",
      "100%|██████████| 1/1 [03:26<00:00, 206.37s/it]\n",
      "100%|██████████| 1/1 [00:00<00:00,  1.60it/s]\n"
     ]
    },
    {
     "name": "stdout",
     "output_type": "stream",
     "text": [
      "H = 33.636 -> output_filename='2024-07-24_caustique/caustique_grid-image_H_33.636_d74b653a.png' \n"
     ]
    },
    {
     "name": "stderr",
     "output_type": "stream",
     "text": [
      "100%|██████████| 81/81 [03:24<00:00,  2.53s/it]\n",
      "100%|██████████| 1/1 [03:24<00:00, 204.75s/it]\n",
      "100%|██████████| 1/1 [00:00<00:00,  1.44it/s]"
     ]
    },
    {
     "name": "stdout",
     "output_type": "stream",
     "text": [
      "H = 40.000 -> output_filename='2024-07-24_caustique/caustique_grid-image_H_40.000_37430652.png' \n"
     ]
    },
    {
     "name": "stderr",
     "output_type": "stream",
     "text": [
      "\n"
     ]
    }
   ],
   "source": [
    "for H_ in c.opt.H*np.logspace(-1, 1, N_scan, base=base):\n",
    "    opt = init()\n",
    "    c = Caustique(opt)\n",
    "    c.opt.H = H_\n",
    "    c.opt.tag = f'{c.opt.tag}_{type}-image_H_{H_:.3f}'\n",
    "    \n",
    "    output_filename = c.plot(z, image)\n",
    "    print(f'H = {H_:.3f} -> {output_filename=} ')\n",
    "    if c.opt.do_display: c.show(output_filename)"
   ]
  },
  {
   "cell_type": "code",
   "execution_count": 30,
   "metadata": {
    "execution": {
     "iopub.execute_input": "2022-09-16T06:50:19.915420Z",
     "iopub.status.busy": "2022-09-16T06:50:19.915215Z",
     "iopub.status.idle": "2022-09-16T06:50:21.641723Z",
     "shell.execute_reply": "2022-09-16T06:50:21.641154Z"
    }
   },
   "outputs": [
    {
     "name": "stderr",
     "output_type": "stream",
     "text": [
      "100%|██████████| 81/81 [03:14<00:00,  2.40s/it]\n",
      "100%|██████████| 1/1 [03:14<00:00, 194.34s/it]\n",
      "100%|██████████| 1/1 [00:00<00:00,  1.65it/s]\n"
     ]
    },
    {
     "name": "stdout",
     "output_type": "stream",
     "text": [
      "periods=1.000 -> output_filename='2024-07-24_caustique/caustique_grid-image_periods=1.000_94e0baa2.png' \n"
     ]
    },
    {
     "name": "stderr",
     "output_type": "stream",
     "text": [
      "100%|██████████| 81/81 [03:12<00:00,  2.38s/it]\n",
      "100%|██████████| 1/1 [03:12<00:00, 192.42s/it]\n",
      "100%|██████████| 1/1 [00:00<00:00,  1.60it/s]\n"
     ]
    },
    {
     "name": "stdout",
     "output_type": "stream",
     "text": [
      "periods=1.334 -> output_filename='2024-07-24_caustique/caustique_grid-image_periods=1.334_35171db6.png' \n"
     ]
    },
    {
     "name": "stderr",
     "output_type": "stream",
     "text": [
      "100%|██████████| 81/81 [03:11<00:00,  2.36s/it]\n",
      "100%|██████████| 1/1 [03:11<00:00, 191.03s/it]\n",
      "100%|██████████| 1/1 [00:00<00:00,  1.61it/s]\n"
     ]
    },
    {
     "name": "stdout",
     "output_type": "stream",
     "text": [
      "periods=1.778 -> output_filename='2024-07-24_caustique/caustique_grid-image_periods=1.778_16d334a6.png' \n"
     ]
    },
    {
     "name": "stderr",
     "output_type": "stream",
     "text": [
      "100%|██████████| 81/81 [03:12<00:00,  2.37s/it]\n",
      "100%|██████████| 1/1 [03:12<00:00, 192.34s/it]\n",
      "100%|██████████| 1/1 [00:00<00:00,  1.57it/s]\n"
     ]
    },
    {
     "name": "stdout",
     "output_type": "stream",
     "text": [
      "periods=2.371 -> output_filename='2024-07-24_caustique/caustique_grid-image_periods=2.371_e41a6fe0.png' \n"
     ]
    },
    {
     "name": "stderr",
     "output_type": "stream",
     "text": [
      "100%|██████████| 81/81 [03:11<00:00,  2.36s/it]\n",
      "100%|██████████| 1/1 [03:11<00:00, 191.47s/it]\n",
      "100%|██████████| 1/1 [00:00<00:00,  1.58it/s]\n"
     ]
    },
    {
     "name": "stdout",
     "output_type": "stream",
     "text": [
      "periods=3.162 -> output_filename='2024-07-24_caustique/caustique_grid-image_periods=3.162_1acf4fb6.png' \n"
     ]
    },
    {
     "name": "stderr",
     "output_type": "stream",
     "text": [
      "100%|██████████| 81/81 [03:11<00:00,  2.37s/it]\n",
      "100%|██████████| 1/1 [03:11<00:00, 191.71s/it]\n",
      "100%|██████████| 1/1 [00:00<00:00,  1.55it/s]\n"
     ]
    },
    {
     "name": "stdout",
     "output_type": "stream",
     "text": [
      "periods=4.217 -> output_filename='2024-07-24_caustique/caustique_grid-image_periods=4.217_9269b06b.png' \n"
     ]
    },
    {
     "name": "stderr",
     "output_type": "stream",
     "text": [
      "100%|██████████| 81/81 [03:10<00:00,  2.36s/it]\n",
      "100%|██████████| 1/1 [03:10<00:00, 190.84s/it]\n",
      "100%|██████████| 1/1 [00:00<00:00,  1.54it/s]\n"
     ]
    },
    {
     "name": "stdout",
     "output_type": "stream",
     "text": [
      "periods=5.623 -> output_filename='2024-07-24_caustique/caustique_grid-image_periods=5.623_ddf46a46.png' \n"
     ]
    },
    {
     "name": "stderr",
     "output_type": "stream",
     "text": [
      "100%|██████████| 81/81 [03:11<00:00,  2.36s/it]\n",
      "100%|██████████| 1/1 [03:11<00:00, 191.28s/it]\n",
      "100%|██████████| 1/1 [00:00<00:00,  1.53it/s]\n"
     ]
    },
    {
     "name": "stdout",
     "output_type": "stream",
     "text": [
      "periods=7.499 -> output_filename='2024-07-24_caustique/caustique_grid-image_periods=7.499_3bbf5030.png' \n"
     ]
    },
    {
     "name": "stderr",
     "output_type": "stream",
     "text": [
      "100%|██████████| 81/81 [03:09<00:00,  2.34s/it]\n",
      "100%|██████████| 1/1 [03:09<00:00, 189.86s/it]\n",
      "100%|██████████| 1/1 [00:00<00:00,  1.48it/s]"
     ]
    },
    {
     "name": "stdout",
     "output_type": "stream",
     "text": [
      "periods=10.000 -> output_filename='2024-07-24_caustique/caustique_grid-image_periods=10.000_2e902360.png' \n"
     ]
    },
    {
     "name": "stderr",
     "output_type": "stream",
     "text": [
      "\n"
     ]
    }
   ],
   "source": [
    "for periods in np.logspace(0, 1, N_scan, base=10):\n",
    "    opt = init()\n",
    "    c = Caustique(opt)\n",
    "\n",
    "    c.opt.tag = f'{c.opt.tag}_{type}-image_{periods=:.3f}'\n",
    "    image = generate_image(nx=c.opt.nx, ny=c.opt.ny, periods=periods, threshold=.2)\n",
    "    output_filename = c.plot(z, image)\n",
    "    print(f'{periods=:.3f} -> {output_filename=} ')\n",
    "    if c.opt.do_display: c.show(output_filename)"
   ]
  },
  {
   "cell_type": "markdown",
   "metadata": {
    "tags": []
   },
   "source": [
    "## shining a hole image to the wave"
   ]
  },
  {
   "cell_type": "code",
   "execution_count": 31,
   "metadata": {},
   "outputs": [],
   "source": [
    "type = 'hole'"
   ]
  },
  {
   "cell_type": "code",
   "execution_count": 32,
   "metadata": {},
   "outputs": [
    {
     "data": {
      "image/png": "[encoded data removed]",
      "text/plain": [
       "<Figure size 640x480 with 1 Axes>"
      ]
     },
     "metadata": {},
     "output_type": "display_data"
    }
   ],
   "source": [
    "def generate_image(nx, ny, periods=6.5, threshold=0.45, radius=.9):\n",
    "    X, Y = np.meshgrid(np.linspace(-1, 1, nx, endpoint=True), np.linspace(-1, 1, ny, endpoint=True))\n",
    "    image = (np.cos(2*np.pi*X*periods) > threshold)*1.\n",
    "    image += (np.cos(2*np.pi*Y*periods) > threshold)*1.\n",
    "    image = 1. - (image<=1)\n",
    "    image *= (X**2 < radius**2) * (Y**2 < radius**2) * 1.\n",
    "    return image\n",
    "image = generate_image(nx=c.opt.nx, ny=c.opt.ny, periods=6.5, threshold=0.45, radius=.9)\n",
    "plt.imshow(image, cmap='gray');"
   ]
  },
  {
   "cell_type": "code",
   "execution_count": 33,
   "metadata": {},
   "outputs": [
    {
     "name": "stderr",
     "output_type": "stream",
     "text": [
      "100%|██████████| 81/81 [03:11<00:00,  2.36s/it]\n",
      "100%|██████████| 1/1 [03:11<00:00, 191.52s/it]\n",
      "100%|██████████| 1/1 [00:00<00:00,  2.47it/s]\n"
     ]
    },
    {
     "data": {
      "text/html": [
       "<img src=\"2024-07-24_caustique/caustique_hole-image_992af4b7.png\" width=\"1024\"/>"
      ],
      "text/plain": [
       "<IPython.core.display.Image object>"
      ]
     },
     "metadata": {},
     "output_type": "display_data"
    }
   ],
   "source": [
    "c = Caustique(init())\n",
    "c.opt.tag = f'{c.opt.tag}_{type}-image'\n",
    "\n",
    "output_filename = c.plot(z, image)\n",
    "c.show(output_filename)"
   ]
  },
  {
   "cell_type": "code",
   "execution_count": 34,
   "metadata": {
    "execution": {
     "iopub.execute_input": "2022-09-16T06:50:19.915420Z",
     "iopub.status.busy": "2022-09-16T06:50:19.915215Z",
     "iopub.status.idle": "2022-09-16T06:50:21.641723Z",
     "shell.execute_reply": "2022-09-16T06:50:21.641154Z"
    }
   },
   "outputs": [
    {
     "name": "stderr",
     "output_type": "stream",
     "text": [
      "100%|██████████| 81/81 [03:04<00:00,  2.28s/it]\n",
      "100%|██████████| 1/1 [03:04<00:00, 184.55s/it]\n",
      "100%|██████████| 1/1 [00:00<00:00,  2.52it/s]\n"
     ]
    },
    {
     "name": "stdout",
     "output_type": "stream",
     "text": [
      "H = 10.000 -> output_filename='2024-07-24_caustique/caustique_hole-image_H_10.000_b117c82e.png' \n"
     ]
    },
    {
     "name": "stderr",
     "output_type": "stream",
     "text": [
      "100%|██████████| 81/81 [03:05<00:00,  2.30s/it]\n",
      "100%|██████████| 1/1 [03:05<00:00, 185.92s/it]\n",
      "100%|██████████| 1/1 [00:00<00:00,  2.71it/s]\n"
     ]
    },
    {
     "name": "stdout",
     "output_type": "stream",
     "text": [
      "H = 11.892 -> output_filename='2024-07-24_caustique/caustique_hole-image_H_11.892_614f8342.png' \n"
     ]
    },
    {
     "name": "stderr",
     "output_type": "stream",
     "text": [
      "100%|██████████| 81/81 [03:07<00:00,  2.31s/it]\n",
      "100%|██████████| 1/1 [03:07<00:00, 187.35s/it]\n",
      "100%|██████████| 1/1 [00:00<00:00,  2.63it/s]\n"
     ]
    },
    {
     "name": "stdout",
     "output_type": "stream",
     "text": [
      "H = 14.142 -> output_filename='2024-07-24_caustique/caustique_hole-image_H_14.142_ca1cb9da.png' \n"
     ]
    },
    {
     "name": "stderr",
     "output_type": "stream",
     "text": [
      "100%|██████████| 81/81 [03:08<00:00,  2.33s/it]\n",
      "100%|██████████| 1/1 [03:08<00:00, 188.86s/it]\n",
      "100%|██████████| 1/1 [00:00<00:00,  2.53it/s]\n"
     ]
    },
    {
     "name": "stdout",
     "output_type": "stream",
     "text": [
      "H = 16.818 -> output_filename='2024-07-24_caustique/caustique_hole-image_H_16.818_3fd80b5f.png' \n"
     ]
    },
    {
     "name": "stderr",
     "output_type": "stream",
     "text": [
      "100%|██████████| 81/81 [03:10<00:00,  2.36s/it]\n",
      "100%|██████████| 1/1 [03:10<00:00, 190.84s/it]\n",
      "100%|██████████| 1/1 [00:00<00:00,  2.43it/s]\n"
     ]
    },
    {
     "name": "stdout",
     "output_type": "stream",
     "text": [
      "H = 20.000 -> output_filename='2024-07-24_caustique/caustique_hole-image_H_20.000_c7338021.png' \n"
     ]
    },
    {
     "name": "stderr",
     "output_type": "stream",
     "text": [
      "100%|██████████| 81/81 [03:12<00:00,  2.38s/it]\n",
      "100%|██████████| 1/1 [03:12<00:00, 192.53s/it]\n",
      "100%|██████████| 1/1 [00:00<00:00,  2.33it/s]\n"
     ]
    },
    {
     "name": "stdout",
     "output_type": "stream",
     "text": [
      "H = 23.784 -> output_filename='2024-07-24_caustique/caustique_hole-image_H_23.784_826e3543.png' \n"
     ]
    },
    {
     "name": "stderr",
     "output_type": "stream",
     "text": [
      "100%|██████████| 81/81 [03:14<00:00,  2.40s/it]\n",
      "100%|██████████| 1/1 [03:14<00:00, 194.34s/it]\n",
      "100%|██████████| 1/1 [00:00<00:00,  2.15it/s]\n"
     ]
    },
    {
     "name": "stdout",
     "output_type": "stream",
     "text": [
      "H = 28.284 -> output_filename='2024-07-24_caustique/caustique_hole-image_H_28.284_32a71684.png' \n"
     ]
    },
    {
     "name": "stderr",
     "output_type": "stream",
     "text": [
      "100%|██████████| 81/81 [03:15<00:00,  2.42s/it]\n",
      "100%|██████████| 1/1 [03:15<00:00, 195.72s/it]\n",
      "100%|██████████| 1/1 [00:00<00:00,  1.95it/s]\n"
     ]
    },
    {
     "name": "stdout",
     "output_type": "stream",
     "text": [
      "H = 33.636 -> output_filename='2024-07-24_caustique/caustique_hole-image_H_33.636_26c6dec3.png' \n"
     ]
    },
    {
     "name": "stderr",
     "output_type": "stream",
     "text": [
      "100%|██████████| 81/81 [03:17<00:00,  2.44s/it]\n",
      "100%|██████████| 1/1 [03:17<00:00, 197.65s/it]\n",
      "100%|██████████| 1/1 [00:00<00:00,  1.79it/s]"
     ]
    },
    {
     "name": "stdout",
     "output_type": "stream",
     "text": [
      "H = 40.000 -> output_filename='2024-07-24_caustique/caustique_hole-image_H_40.000_8d4bb6bc.png' \n"
     ]
    },
    {
     "name": "stderr",
     "output_type": "stream",
     "text": [
      "\n"
     ]
    }
   ],
   "source": [
    "for H_ in c.opt.H*np.logspace(-1, 1, N_scan, base=base):\n",
    "    opt = init()\n",
    "    c = Caustique(opt)\n",
    "    c.opt.H = H_\n",
    "    c.opt.tag = f'{c.opt.tag}_{type}-image_H_{H_:.3f}'\n",
    "    \n",
    "    output_filename = c.plot(z, image)\n",
    "    print(f'H = {H_:.3f} -> {output_filename=} ')\n",
    "    if c.opt.do_display: c.show(output_filename)"
   ]
  },
  {
   "cell_type": "code",
   "execution_count": 35,
   "metadata": {
    "execution": {
     "iopub.execute_input": "2022-09-16T06:50:19.915420Z",
     "iopub.status.busy": "2022-09-16T06:50:19.915215Z",
     "iopub.status.idle": "2022-09-16T06:50:21.641723Z",
     "shell.execute_reply": "2022-09-16T06:50:21.641154Z"
    }
   },
   "outputs": [
    {
     "name": "stderr",
     "output_type": "stream",
     "text": [
      "100%|██████████| 81/81 [03:10<00:00,  2.36s/it]\n",
      "100%|██████████| 1/1 [03:10<00:00, 190.93s/it]\n",
      "100%|██████████| 1/1 [00:00<00:00,  2.06it/s]\n"
     ]
    },
    {
     "name": "stdout",
     "output_type": "stream",
     "text": [
      "threshold=0.100 -> output_filename='2024-07-24_caustique/caustique_hole-image_threshold=0.100_96d62e86.png' \n"
     ]
    },
    {
     "name": "stderr",
     "output_type": "stream",
     "text": [
      "100%|██████████| 81/81 [03:10<00:00,  2.35s/it]\n",
      "100%|██████████| 1/1 [03:10<00:00, 190.49s/it]\n",
      "100%|██████████| 1/1 [00:00<00:00,  2.14it/s]\n"
     ]
    },
    {
     "name": "stdout",
     "output_type": "stream",
     "text": [
      "threshold=0.200 -> output_filename='2024-07-24_caustique/caustique_hole-image_threshold=0.200_ce601239.png' \n"
     ]
    },
    {
     "name": "stderr",
     "output_type": "stream",
     "text": [
      "100%|██████████| 81/81 [03:11<00:00,  2.37s/it]\n",
      "100%|██████████| 1/1 [03:11<00:00, 191.64s/it]\n",
      "100%|██████████| 1/1 [00:00<00:00,  2.25it/s]\n"
     ]
    },
    {
     "name": "stdout",
     "output_type": "stream",
     "text": [
      "threshold=0.300 -> output_filename='2024-07-24_caustique/caustique_hole-image_threshold=0.300_ed8bf172.png' \n"
     ]
    },
    {
     "name": "stderr",
     "output_type": "stream",
     "text": [
      "100%|██████████| 81/81 [03:11<00:00,  2.36s/it]\n",
      "100%|██████████| 1/1 [03:11<00:00, 191.26s/it]\n",
      "100%|██████████| 1/1 [00:00<00:00,  2.36it/s]\n"
     ]
    },
    {
     "name": "stdout",
     "output_type": "stream",
     "text": [
      "threshold=0.400 -> output_filename='2024-07-24_caustique/caustique_hole-image_threshold=0.400_1ea277b0.png' \n"
     ]
    },
    {
     "name": "stderr",
     "output_type": "stream",
     "text": [
      "100%|██████████| 81/81 [03:14<00:00,  2.40s/it]\n",
      "100%|██████████| 1/1 [03:14<00:00, 194.18s/it]\n",
      "100%|██████████| 1/1 [00:00<00:00,  2.42it/s]\n"
     ]
    },
    {
     "name": "stdout",
     "output_type": "stream",
     "text": [
      "threshold=0.500 -> output_filename='2024-07-24_caustique/caustique_hole-image_threshold=0.500_40918154.png' \n"
     ]
    },
    {
     "name": "stderr",
     "output_type": "stream",
     "text": [
      "100%|██████████| 81/81 [03:14<00:00,  2.40s/it]\n",
      "100%|██████████| 1/1 [03:14<00:00, 194.27s/it]\n",
      "100%|██████████| 1/1 [00:00<00:00,  2.58it/s]\n"
     ]
    },
    {
     "name": "stdout",
     "output_type": "stream",
     "text": [
      "threshold=0.600 -> output_filename='2024-07-24_caustique/caustique_hole-image_threshold=0.600_9bebeb07.png' \n"
     ]
    },
    {
     "name": "stderr",
     "output_type": "stream",
     "text": [
      "100%|██████████| 81/81 [03:11<00:00,  2.36s/it]\n",
      "100%|██████████| 1/1 [03:11<00:00, 191.02s/it]\n",
      "100%|██████████| 1/1 [00:00<00:00,  2.87it/s]\n"
     ]
    },
    {
     "name": "stdout",
     "output_type": "stream",
     "text": [
      "threshold=0.700 -> output_filename='2024-07-24_caustique/caustique_hole-image_threshold=0.700_6ce6b4c6.png' \n"
     ]
    },
    {
     "name": "stderr",
     "output_type": "stream",
     "text": [
      "100%|██████████| 81/81 [03:10<00:00,  2.35s/it]\n",
      "100%|██████████| 1/1 [03:10<00:00, 190.66s/it]\n",
      "100%|██████████| 1/1 [00:00<00:00,  3.06it/s]\n"
     ]
    },
    {
     "name": "stdout",
     "output_type": "stream",
     "text": [
      "threshold=0.800 -> output_filename='2024-07-24_caustique/caustique_hole-image_threshold=0.800_a34def7a.png' \n"
     ]
    },
    {
     "name": "stderr",
     "output_type": "stream",
     "text": [
      "100%|██████████| 81/81 [03:11<00:00,  2.37s/it]\n",
      "100%|██████████| 1/1 [03:11<00:00, 191.65s/it]\n",
      "100%|██████████| 1/1 [00:00<00:00,  3.15it/s]"
     ]
    },
    {
     "name": "stdout",
     "output_type": "stream",
     "text": [
      "threshold=0.900 -> output_filename='2024-07-24_caustique/caustique_hole-image_threshold=0.900_a35d089f.png' \n"
     ]
    },
    {
     "name": "stderr",
     "output_type": "stream",
     "text": [
      "\n"
     ]
    }
   ],
   "source": [
    "for threshold in np.linspace(0, 1, N_scan+2, endpoint=True)[1:-1]:\n",
    "    opt = init()\n",
    "    c = Caustique(opt)\n",
    "\n",
    "    c.opt.tag = f'{c.opt.tag}_{type}-image_{threshold=:.3f}'\n",
    "    image = generate_image(nx=c.opt.nx, ny=c.opt.ny, periods=6.5, threshold=threshold)\n",
    "    output_filename = c.plot(z, image)\n",
    "    print(f'{threshold=:.3f} -> {output_filename=} ')\n",
    "    if c.opt.do_display: c.show(output_filename)"
   ]
  },
  {
   "cell_type": "code",
   "execution_count": 36,
   "metadata": {
    "execution": {
     "iopub.execute_input": "2022-09-16T06:50:19.915420Z",
     "iopub.status.busy": "2022-09-16T06:50:19.915215Z",
     "iopub.status.idle": "2022-09-16T06:50:21.641723Z",
     "shell.execute_reply": "2022-09-16T06:50:21.641154Z"
    }
   },
   "outputs": [
    {
     "name": "stderr",
     "output_type": "stream",
     "text": [
      "100%|██████████| 81/81 [03:14<00:00,  2.40s/it]\n",
      "100%|██████████| 1/1 [03:14<00:00, 194.72s/it]\n",
      "100%|██████████| 1/1 [00:00<00:00,  2.54it/s]\n"
     ]
    },
    {
     "name": "stdout",
     "output_type": "stream",
     "text": [
      "periods=1.000 -> output_filename='2024-07-24_caustique/caustique_hole-image_periods=1.000_bd566a47.png' \n"
     ]
    },
    {
     "name": "stderr",
     "output_type": "stream",
     "text": [
      "100%|██████████| 81/81 [03:15<00:00,  2.41s/it]\n",
      "100%|██████████| 1/1 [03:15<00:00, 195.06s/it]\n",
      "100%|██████████| 1/1 [00:00<00:00,  2.10it/s]\n"
     ]
    },
    {
     "name": "stdout",
     "output_type": "stream",
     "text": [
      "periods=1.334 -> output_filename='2024-07-24_caustique/caustique_hole-image_periods=1.334_0007de9b.png' \n"
     ]
    },
    {
     "name": "stderr",
     "output_type": "stream",
     "text": [
      "100%|██████████| 81/81 [03:14<00:00,  2.40s/it]\n",
      "100%|██████████| 1/1 [03:14<00:00, 194.46s/it]\n",
      "100%|██████████| 1/1 [00:00<00:00,  2.36it/s]\n"
     ]
    },
    {
     "name": "stdout",
     "output_type": "stream",
     "text": [
      "periods=1.778 -> output_filename='2024-07-24_caustique/caustique_hole-image_periods=1.778_fad2ad9f.png' \n"
     ]
    },
    {
     "name": "stderr",
     "output_type": "stream",
     "text": [
      "100%|██████████| 81/81 [03:15<00:00,  2.41s/it]\n",
      "100%|██████████| 1/1 [03:15<00:00, 195.43s/it]\n",
      "100%|██████████| 1/1 [00:00<00:00,  2.15it/s]\n"
     ]
    },
    {
     "name": "stdout",
     "output_type": "stream",
     "text": [
      "periods=2.371 -> output_filename='2024-07-24_caustique/caustique_hole-image_periods=2.371_4422e341.png' \n"
     ]
    },
    {
     "name": "stderr",
     "output_type": "stream",
     "text": [
      "100%|██████████| 81/81 [03:14<00:00,  2.40s/it]\n",
      "100%|██████████| 1/1 [03:14<00:00, 194.69s/it]\n",
      "100%|██████████| 1/1 [00:00<00:00,  2.34it/s]\n"
     ]
    },
    {
     "name": "stdout",
     "output_type": "stream",
     "text": [
      "periods=3.162 -> output_filename='2024-07-24_caustique/caustique_hole-image_periods=3.162_0334d09b.png' \n"
     ]
    },
    {
     "name": "stderr",
     "output_type": "stream",
     "text": [
      "100%|██████████| 81/81 [03:14<00:00,  2.40s/it]\n",
      "100%|██████████| 1/1 [03:14<00:00, 194.79s/it]\n",
      "100%|██████████| 1/1 [00:00<00:00,  2.32it/s]\n"
     ]
    },
    {
     "name": "stdout",
     "output_type": "stream",
     "text": [
      "periods=4.217 -> output_filename='2024-07-24_caustique/caustique_hole-image_periods=4.217_45000478.png' \n"
     ]
    },
    {
     "name": "stderr",
     "output_type": "stream",
     "text": [
      "100%|██████████| 81/81 [03:14<00:00,  2.41s/it]\n",
      "100%|██████████| 1/1 [03:14<00:00, 194.84s/it]\n",
      "100%|██████████| 1/1 [00:01<00:00,  1.01s/it]\n"
     ]
    },
    {
     "name": "stdout",
     "output_type": "stream",
     "text": [
      "periods=5.623 -> output_filename='2024-07-24_caustique/caustique_hole-image_periods=5.623_7be5003a.png' \n"
     ]
    },
    {
     "name": "stderr",
     "output_type": "stream",
     "text": [
      "100%|██████████| 81/81 [03:15<00:00,  2.41s/it]\n",
      "100%|██████████| 1/1 [03:15<00:00, 195.49s/it]\n",
      "100%|██████████| 1/1 [00:00<00:00,  2.17it/s]\n"
     ]
    },
    {
     "name": "stdout",
     "output_type": "stream",
     "text": [
      "periods=7.499 -> output_filename='2024-07-24_caustique/caustique_hole-image_periods=7.499_0d6fecac.png' \n"
     ]
    },
    {
     "name": "stderr",
     "output_type": "stream",
     "text": [
      "100%|██████████| 81/81 [03:14<00:00,  2.40s/it]\n",
      "100%|██████████| 1/1 [03:14<00:00, 194.41s/it]\n",
      "100%|██████████| 1/1 [00:00<00:00,  2.04it/s]"
     ]
    },
    {
     "name": "stdout",
     "output_type": "stream",
     "text": [
      "periods=10.000 -> output_filename='2024-07-24_caustique/caustique_hole-image_periods=10.000_98edc90c.png' \n"
     ]
    },
    {
     "name": "stderr",
     "output_type": "stream",
     "text": [
      "\n"
     ]
    }
   ],
   "source": [
    "for periods in np.logspace(0, 1, N_scan, base=10):\n",
    "    opt = init()\n",
    "    c = Caustique(opt)\n",
    "\n",
    "    c.opt.tag = f'{c.opt.tag}_{type}-image_{periods=:.3f}'\n",
    "    image = generate_image(nx=c.opt.nx, ny=c.opt.ny, periods=periods, threshold=.2)\n",
    "    output_filename = c.plot(z, image)\n",
    "    print(f'{periods=:.3f} -> {output_filename=} ')\n",
    "    if c.opt.do_display: c.show(output_filename)"
   ]
  },
  {
   "cell_type": "markdown",
   "metadata": {
    "tags": []
   },
   "source": [
    "## shining a square image to the wave"
   ]
  },
  {
   "cell_type": "code",
   "execution_count": 37,
   "metadata": {},
   "outputs": [],
   "source": [
    "type = 'square'"
   ]
  },
  {
   "cell_type": "code",
   "execution_count": 38,
   "metadata": {},
   "outputs": [
    {
     "data": {
      "image/png": "[encoded data removed]",
      "text/plain": [
       "<Figure size 640x480 with 1 Axes>"
      ]
     },
     "metadata": {},
     "output_type": "display_data"
    }
   ],
   "source": [
    "def generate_image(nx, ny,  radius=.9):\n",
    "    X, Y = np.meshgrid(np.linspace(-1, 1, nx, endpoint=True), np.linspace(-1, 1, ny, endpoint=True))\n",
    "    image = (X**2 < radius**2) * (Y**2 < radius**2) * 1.\n",
    "    return image\n",
    "image = generate_image(nx=c.opt.nx, ny=c.opt.ny, radius=.9)\n",
    "plt.imshow(image, cmap='gray');"
   ]
  },
  {
   "cell_type": "code",
   "execution_count": 39,
   "metadata": {},
   "outputs": [
    {
     "name": "stderr",
     "output_type": "stream",
     "text": [
      "100%|██████████| 81/81 [03:15<00:00,  2.41s/it]\n",
      "100%|██████████| 1/1 [03:15<00:00, 195.28s/it]\n",
      "100%|██████████| 1/1 [00:00<00:00,  1.13it/s]\n"
     ]
    },
    {
     "data": {
      "text/html": [
       "<img src=\"2024-07-24_caustique/caustique_square-image_c6b02354.png\" width=\"1024\"/>"
      ],
      "text/plain": [
       "<IPython.core.display.Image object>"
      ]
     },
     "metadata": {},
     "output_type": "display_data"
    }
   ],
   "source": [
    "c = Caustique(init())\n",
    "c.opt.tag = f'{c.opt.tag}_{type}-image'\n",
    "output_filename = c.plot(z, image)\n",
    "c.show(output_filename)"
   ]
  },
  {
   "cell_type": "code",
   "execution_count": 40,
   "metadata": {
    "execution": {
     "iopub.execute_input": "2022-09-16T06:50:19.915420Z",
     "iopub.status.busy": "2022-09-16T06:50:19.915215Z",
     "iopub.status.idle": "2022-09-16T06:50:21.641723Z",
     "shell.execute_reply": "2022-09-16T06:50:21.641154Z"
    }
   },
   "outputs": [
    {
     "name": "stderr",
     "output_type": "stream",
     "text": [
      "100%|██████████| 81/81 [03:09<00:00,  2.34s/it]\n",
      "100%|██████████| 1/1 [03:09<00:00, 189.36s/it]\n",
      "100%|██████████| 1/1 [00:00<00:00,  1.13it/s]\n"
     ]
    },
    {
     "name": "stdout",
     "output_type": "stream",
     "text": [
      "H = 10.000 -> output_filename='2024-07-24_caustique/caustique_square-image_H_10.000_597b235e.png' \n"
     ]
    },
    {
     "name": "stderr",
     "output_type": "stream",
     "text": [
      "100%|██████████| 81/81 [03:10<00:00,  2.35s/it]\n",
      "100%|██████████| 1/1 [03:10<00:00, 190.42s/it]\n",
      "100%|██████████| 1/1 [00:00<00:00,  1.16it/s]\n"
     ]
    },
    {
     "name": "stdout",
     "output_type": "stream",
     "text": [
      "H = 11.892 -> output_filename='2024-07-24_caustique/caustique_square-image_H_11.892_8904bb89.png' \n"
     ]
    },
    {
     "name": "stderr",
     "output_type": "stream",
     "text": [
      "100%|██████████| 81/81 [03:11<00:00,  2.37s/it]\n",
      "100%|██████████| 1/1 [03:11<00:00, 191.73s/it]\n",
      "100%|██████████| 1/1 [00:00<00:00,  1.11it/s]\n"
     ]
    },
    {
     "name": "stdout",
     "output_type": "stream",
     "text": [
      "H = 14.142 -> output_filename='2024-07-24_caustique/caustique_square-image_H_14.142_53039619.png' \n"
     ]
    },
    {
     "name": "stderr",
     "output_type": "stream",
     "text": [
      "100%|██████████| 81/81 [03:13<00:00,  2.39s/it]\n",
      "100%|██████████| 1/1 [03:13<00:00, 193.33s/it]\n",
      "100%|██████████| 1/1 [00:00<00:00,  1.14it/s]\n"
     ]
    },
    {
     "name": "stdout",
     "output_type": "stream",
     "text": [
      "H = 16.818 -> output_filename='2024-07-24_caustique/caustique_square-image_H_16.818_1b8d1243.png' \n"
     ]
    },
    {
     "name": "stderr",
     "output_type": "stream",
     "text": [
      "100%|██████████| 81/81 [03:15<00:00,  2.41s/it]\n",
      "100%|██████████| 1/1 [03:15<00:00, 195.58s/it]\n",
      "100%|██████████| 1/1 [00:00<00:00,  1.13it/s]\n"
     ]
    },
    {
     "name": "stdout",
     "output_type": "stream",
     "text": [
      "H = 20.000 -> output_filename='2024-07-24_caustique/caustique_square-image_H_20.000_6e66fa66.png' \n"
     ]
    },
    {
     "name": "stderr",
     "output_type": "stream",
     "text": [
      "100%|██████████| 81/81 [03:16<00:00,  2.43s/it]\n",
      "100%|██████████| 1/1 [03:16<00:00, 196.96s/it]\n",
      "100%|██████████| 1/1 [00:00<00:00,  1.12it/s]\n"
     ]
    },
    {
     "name": "stdout",
     "output_type": "stream",
     "text": [
      "H = 23.784 -> output_filename='2024-07-24_caustique/caustique_square-image_H_23.784_8251a992.png' \n"
     ]
    },
    {
     "name": "stderr",
     "output_type": "stream",
     "text": [
      "100%|██████████| 81/81 [03:18<00:00,  2.45s/it]\n",
      "100%|██████████| 1/1 [03:18<00:00, 198.76s/it]\n",
      "100%|██████████| 1/1 [00:00<00:00,  1.09it/s]\n"
     ]
    },
    {
     "name": "stdout",
     "output_type": "stream",
     "text": [
      "H = 28.284 -> output_filename='2024-07-24_caustique/caustique_square-image_H_28.284_0c867065.png' \n"
     ]
    },
    {
     "name": "stderr",
     "output_type": "stream",
     "text": [
      "100%|██████████| 81/81 [03:19<00:00,  2.47s/it]\n",
      "100%|██████████| 1/1 [03:19<00:00, 199.89s/it]\n",
      "100%|██████████| 1/1 [00:00<00:00,  1.08it/s]\n"
     ]
    },
    {
     "name": "stdout",
     "output_type": "stream",
     "text": [
      "H = 33.636 -> output_filename='2024-07-24_caustique/caustique_square-image_H_33.636_07843157.png' \n"
     ]
    },
    {
     "name": "stderr",
     "output_type": "stream",
     "text": [
      "100%|██████████| 81/81 [03:22<00:00,  2.50s/it]\n",
      "100%|██████████| 1/1 [03:22<00:00, 202.49s/it]\n",
      "100%|██████████| 1/1 [00:00<00:00,  1.08it/s]"
     ]
    },
    {
     "name": "stdout",
     "output_type": "stream",
     "text": [
      "H = 40.000 -> output_filename='2024-07-24_caustique/caustique_square-image_H_40.000_f4f68b31.png' \n"
     ]
    },
    {
     "name": "stderr",
     "output_type": "stream",
     "text": [
      "\n"
     ]
    }
   ],
   "source": [
    "for H_ in c.opt.H*np.logspace(-1, 1, N_scan, base=base):\n",
    "    opt = init()\n",
    "    c = Caustique(opt)\n",
    "    c.opt.H = H_\n",
    "    c.opt.tag = f'{c.opt.tag}_{type}-image_H_{H_:.3f}'\n",
    "    \n",
    "    output_filename = c.plot(z, image)\n",
    "    print(f'H = {H_:.3f} -> {output_filename=} ')\n",
    "    if c.opt.do_display: c.show(output_filename)"
   ]
  },
  {
   "cell_type": "code",
   "execution_count": 41,
   "metadata": {
    "execution": {
     "iopub.execute_input": "2022-09-16T06:50:19.915420Z",
     "iopub.status.busy": "2022-09-16T06:50:19.915215Z",
     "iopub.status.idle": "2022-09-16T06:50:21.641723Z",
     "shell.execute_reply": "2022-09-16T06:50:21.641154Z"
    }
   },
   "outputs": [
    {
     "name": "stderr",
     "output_type": "stream",
     "text": [
      "100%|██████████| 81/81 [03:15<00:00,  2.41s/it]\n",
      "100%|██████████| 1/1 [03:15<00:00, 195.20s/it]\n",
      "100%|██████████| 1/1 [00:00<00:00,  3.31it/s]\n"
     ]
    },
    {
     "name": "stdout",
     "output_type": "stream",
     "text": [
      "radius=0.111 -> output_filename='2024-07-24_caustique/caustique_square-image_radius=0.111_69caef15.png' \n"
     ]
    },
    {
     "name": "stderr",
     "output_type": "stream",
     "text": [
      "100%|██████████| 81/81 [03:11<00:00,  2.37s/it]\n",
      "100%|██████████| 1/1 [03:11<00:00, 191.78s/it]\n",
      "100%|██████████| 1/1 [00:00<00:00,  2.88it/s]\n"
     ]
    },
    {
     "name": "stdout",
     "output_type": "stream",
     "text": [
      "radius=0.222 -> output_filename='2024-07-24_caustique/caustique_square-image_radius=0.222_809c7a26.png' \n"
     ]
    },
    {
     "name": "stderr",
     "output_type": "stream",
     "text": [
      "100%|██████████| 81/81 [03:10<00:00,  2.36s/it]\n",
      "100%|██████████| 1/1 [03:10<00:00, 190.95s/it]\n",
      "100%|██████████| 1/1 [00:00<00:00,  2.80it/s]\n"
     ]
    },
    {
     "name": "stdout",
     "output_type": "stream",
     "text": [
      "radius=0.333 -> output_filename='2024-07-24_caustique/caustique_square-image_radius=0.333_6f6c848e.png' \n"
     ]
    },
    {
     "name": "stderr",
     "output_type": "stream",
     "text": [
      "100%|██████████| 81/81 [03:10<00:00,  2.36s/it]\n",
      "100%|██████████| 1/1 [03:10<00:00, 190.99s/it]\n",
      "100%|██████████| 1/1 [00:00<00:00,  2.36it/s]\n"
     ]
    },
    {
     "name": "stdout",
     "output_type": "stream",
     "text": [
      "radius=0.444 -> output_filename='2024-07-24_caustique/caustique_square-image_radius=0.444_7593df09.png' \n"
     ]
    },
    {
     "name": "stderr",
     "output_type": "stream",
     "text": [
      "100%|██████████| 81/81 [03:11<00:00,  2.36s/it]\n",
      "100%|██████████| 1/1 [03:11<00:00, 191.01s/it]\n",
      "100%|██████████| 1/1 [00:00<00:00,  1.96it/s]\n"
     ]
    },
    {
     "name": "stdout",
     "output_type": "stream",
     "text": [
      "radius=0.556 -> output_filename='2024-07-24_caustique/caustique_square-image_radius=0.556_3d5cdcdf.png' \n"
     ]
    },
    {
     "name": "stderr",
     "output_type": "stream",
     "text": [
      "100%|██████████| 81/81 [03:10<00:00,  2.36s/it]\n",
      "100%|██████████| 1/1 [03:10<00:00, 190.87s/it]\n",
      "100%|██████████| 1/1 [00:00<00:00,  1.63it/s]\n"
     ]
    },
    {
     "name": "stdout",
     "output_type": "stream",
     "text": [
      "radius=0.667 -> output_filename='2024-07-24_caustique/caustique_square-image_radius=0.667_971eb86a.png' \n"
     ]
    },
    {
     "name": "stderr",
     "output_type": "stream",
     "text": [
      "100%|██████████| 81/81 [03:12<00:00,  2.37s/it]\n",
      "100%|██████████| 1/1 [03:12<00:00, 192.09s/it]\n",
      "100%|██████████| 1/1 [00:00<00:00,  1.37it/s]\n"
     ]
    },
    {
     "name": "stdout",
     "output_type": "stream",
     "text": [
      "radius=0.778 -> output_filename='2024-07-24_caustique/caustique_square-image_radius=0.778_1429279c.png' \n"
     ]
    },
    {
     "name": "stderr",
     "output_type": "stream",
     "text": [
      "100%|██████████| 81/81 [03:10<00:00,  2.35s/it]\n",
      "100%|██████████| 1/1 [03:10<00:00, 190.48s/it]\n",
      "100%|██████████| 1/1 [00:00<00:00,  1.16it/s]\n"
     ]
    },
    {
     "name": "stdout",
     "output_type": "stream",
     "text": [
      "radius=0.889 -> output_filename='2024-07-24_caustique/caustique_square-image_radius=0.889_4e3cfb68.png' \n"
     ]
    },
    {
     "name": "stderr",
     "output_type": "stream",
     "text": [
      "100%|██████████| 81/81 [03:11<00:00,  2.37s/it]\n",
      "100%|██████████| 1/1 [03:11<00:00, 191.73s/it]\n",
      "100%|██████████| 1/1 [00:00<00:00,  1.01it/s]"
     ]
    },
    {
     "name": "stdout",
     "output_type": "stream",
     "text": [
      "radius=1.000 -> output_filename='2024-07-24_caustique/caustique_square-image_radius=1.000_153de8ab.png' \n"
     ]
    },
    {
     "name": "stderr",
     "output_type": "stream",
     "text": [
      "\n"
     ]
    }
   ],
   "source": [
    "for radius in np.linspace(0, 1, N_scan+1)[1:]:\n",
    "    opt = init()\n",
    "    c = Caustique(opt)\n",
    "\n",
    "    c.opt.tag = f'{c.opt.tag}_{type}-image_{radius=:.3f}'\n",
    "    image = generate_image(nx=c.opt.nx, ny=c.opt.ny, radius=radius)\n",
    "    output_filename = c.plot(z, image)\n",
    "    print(f'{radius=:.3f} -> {output_filename=} ')\n",
    "    if c.opt.do_display: c.show(output_filename)"
   ]
  },
  {
   "cell_type": "markdown",
   "metadata": {
    "tags": []
   },
   "source": [
    "## shining a disk image to the wave"
   ]
  },
  {
   "cell_type": "code",
   "execution_count": 42,
   "metadata": {},
   "outputs": [],
   "source": [
    "type = 'disk'"
   ]
  },
  {
   "cell_type": "code",
   "execution_count": 43,
   "metadata": {},
   "outputs": [
    {
     "data": {
      "image/png": "[encoded data removed]",
      "text/plain": [
       "<Figure size 640x480 with 1 Axes>"
      ]
     },
     "metadata": {},
     "output_type": "display_data"
    }
   ],
   "source": [
    "def generate_image(nx, ny, radius_in=0., radius_out=.9):\n",
    "    X, Y = np.meshgrid(np.linspace(-1, 1, nx, endpoint=True), np.linspace(-1, 1, ny, endpoint=True))\n",
    "    image = ((X**2 + Y**2) < radius_out**2) * ((X**2 + Y**2) > radius_in**2) * 1.\n",
    "    return image\n",
    "image = generate_image(nx=c.opt.nx, ny=c.opt.ny, radius_out=.9)\n",
    "plt.imshow(image, cmap='gray');"
   ]
  },
  {
   "cell_type": "code",
   "execution_count": 44,
   "metadata": {},
   "outputs": [
    {
     "name": "stderr",
     "output_type": "stream",
     "text": [
      "100%|██████████| 81/81 [03:11<00:00,  2.36s/it]\n",
      "100%|██████████| 1/1 [03:11<00:00, 191.09s/it]\n",
      "100%|██████████| 1/1 [00:00<00:00,  1.34it/s]\n"
     ]
    },
    {
     "data": {
      "text/html": [
       "<img src=\"2024-07-24_caustique/caustique_disk-image_545d32ab.png\" width=\"1024\"/>"
      ],
      "text/plain": [
       "<IPython.core.display.Image object>"
      ]
     },
     "metadata": {},
     "output_type": "display_data"
    }
   ],
   "source": [
    "c = Caustique(init())\n",
    "c.opt.tag = f'{c.opt.tag}_{type}-image'\n",
    "output_filename = c.plot(z, image)\n",
    "c.show(output_filename)"
   ]
  },
  {
   "cell_type": "code",
   "execution_count": 45,
   "metadata": {
    "execution": {
     "iopub.execute_input": "2022-09-16T06:50:19.915420Z",
     "iopub.status.busy": "2022-09-16T06:50:19.915215Z",
     "iopub.status.idle": "2022-09-16T06:50:21.641723Z",
     "shell.execute_reply": "2022-09-16T06:50:21.641154Z"
    }
   },
   "outputs": [
    {
     "name": "stderr",
     "output_type": "stream",
     "text": [
      "100%|██████████| 81/81 [03:05<00:00,  2.29s/it]\n",
      "100%|██████████| 1/1 [03:05<00:00, 185.51s/it]\n",
      "100%|██████████| 1/1 [00:00<00:00,  1.37it/s]\n"
     ]
    },
    {
     "name": "stdout",
     "output_type": "stream",
     "text": [
      "H = 10.000 -> output_filename='2024-07-24_caustique/caustique_disk-image_H_10.000_41bb9f30.png' \n"
     ]
    },
    {
     "name": "stderr",
     "output_type": "stream",
     "text": [
      "100%|██████████| 81/81 [03:06<00:00,  2.31s/it]\n",
      "100%|██████████| 1/1 [03:06<00:00, 186.93s/it]\n",
      "100%|██████████| 1/1 [00:00<00:00,  1.34it/s]\n"
     ]
    },
    {
     "name": "stdout",
     "output_type": "stream",
     "text": [
      "H = 11.892 -> output_filename='2024-07-24_caustique/caustique_disk-image_H_11.892_ae4609bd.png' \n"
     ]
    },
    {
     "name": "stderr",
     "output_type": "stream",
     "text": [
      "100%|██████████| 81/81 [03:07<00:00,  2.32s/it]\n",
      "100%|██████████| 1/1 [03:07<00:00, 187.96s/it]\n",
      "100%|██████████| 1/1 [00:00<00:00,  1.32it/s]\n"
     ]
    },
    {
     "name": "stdout",
     "output_type": "stream",
     "text": [
      "H = 14.142 -> output_filename='2024-07-24_caustique/caustique_disk-image_H_14.142_caa1e11a.png' \n"
     ]
    },
    {
     "name": "stderr",
     "output_type": "stream",
     "text": [
      "100%|██████████| 81/81 [03:11<00:00,  2.36s/it]\n",
      "100%|██████████| 1/1 [03:11<00:00, 191.56s/it]\n",
      "100%|██████████| 1/1 [00:00<00:00,  1.31it/s]\n"
     ]
    },
    {
     "name": "stdout",
     "output_type": "stream",
     "text": [
      "H = 16.818 -> output_filename='2024-07-24_caustique/caustique_disk-image_H_16.818_38d80cc5.png' \n"
     ]
    },
    {
     "name": "stderr",
     "output_type": "stream",
     "text": [
      "100%|██████████| 81/81 [03:13<00:00,  2.39s/it]\n",
      "100%|██████████| 1/1 [03:13<00:00, 193.60s/it]\n",
      "100%|██████████| 1/1 [00:00<00:00,  1.26it/s]\n"
     ]
    },
    {
     "name": "stdout",
     "output_type": "stream",
     "text": [
      "H = 20.000 -> output_filename='2024-07-24_caustique/caustique_disk-image_H_20.000_f6e20d3c.png' \n"
     ]
    },
    {
     "name": "stderr",
     "output_type": "stream",
     "text": [
      "100%|██████████| 81/81 [03:13<00:00,  2.38s/it]\n",
      "100%|██████████| 1/1 [03:13<00:00, 193.02s/it]\n",
      "100%|██████████| 1/1 [00:00<00:00,  1.30it/s]\n"
     ]
    },
    {
     "name": "stdout",
     "output_type": "stream",
     "text": [
      "H = 23.784 -> output_filename='2024-07-24_caustique/caustique_disk-image_H_23.784_a1699d79.png' \n"
     ]
    },
    {
     "name": "stderr",
     "output_type": "stream",
     "text": [
      "100%|██████████| 81/81 [03:13<00:00,  2.39s/it]\n",
      "100%|██████████| 1/1 [03:13<00:00, 193.76s/it]\n",
      "100%|██████████| 1/1 [00:00<00:00,  1.33it/s]\n"
     ]
    },
    {
     "name": "stdout",
     "output_type": "stream",
     "text": [
      "H = 28.284 -> output_filename='2024-07-24_caustique/caustique_disk-image_H_28.284_70b6958c.png' \n"
     ]
    },
    {
     "name": "stderr",
     "output_type": "stream",
     "text": [
      "100%|██████████| 81/81 [03:16<00:00,  2.43s/it]\n",
      "100%|██████████| 1/1 [03:16<00:00, 196.79s/it]\n",
      "100%|██████████| 1/1 [00:00<00:00,  1.30it/s]\n"
     ]
    },
    {
     "name": "stdout",
     "output_type": "stream",
     "text": [
      "H = 33.636 -> output_filename='2024-07-24_caustique/caustique_disk-image_H_33.636_f66bc662.png' \n"
     ]
    },
    {
     "name": "stderr",
     "output_type": "stream",
     "text": [
      "100%|██████████| 81/81 [03:17<00:00,  2.44s/it]\n",
      "100%|██████████| 1/1 [03:17<00:00, 197.47s/it]\n",
      "100%|██████████| 1/1 [00:00<00:00,  1.20it/s]"
     ]
    },
    {
     "name": "stdout",
     "output_type": "stream",
     "text": [
      "H = 40.000 -> output_filename='2024-07-24_caustique/caustique_disk-image_H_40.000_04970d1e.png' \n"
     ]
    },
    {
     "name": "stderr",
     "output_type": "stream",
     "text": [
      "\n"
     ]
    }
   ],
   "source": [
    "for H_ in c.opt.H*np.logspace(-1, 1, N_scan, base=base):\n",
    "    opt = init()\n",
    "    c = Caustique(opt)\n",
    "    c.opt.H = H_\n",
    "    c.opt.tag = f'{c.opt.tag}_{type}-image_H_{H_:.3f}'\n",
    "    \n",
    "    output_filename = c.plot(z, image)\n",
    "    print(f'H = {H_:.3f} -> {output_filename=} ')\n",
    "    if c.opt.do_display: c.show(output_filename)"
   ]
  },
  {
   "cell_type": "code",
   "execution_count": 46,
   "metadata": {
    "execution": {
     "iopub.execute_input": "2022-09-16T06:50:19.915420Z",
     "iopub.status.busy": "2022-09-16T06:50:19.915215Z",
     "iopub.status.idle": "2022-09-16T06:50:21.641723Z",
     "shell.execute_reply": "2022-09-16T06:50:21.641154Z"
    }
   },
   "outputs": [
    {
     "name": "stderr",
     "output_type": "stream",
     "text": [
      "100%|██████████| 81/81 [03:11<00:00,  2.37s/it]\n",
      "100%|██████████| 1/1 [03:11<00:00, 192.00s/it]\n",
      "100%|██████████| 1/1 [00:00<00:00,  3.45it/s]\n"
     ]
    },
    {
     "name": "stdout",
     "output_type": "stream",
     "text": [
      "0.111 -> output_filename='2024-07-24_caustique/caustique_disk-image_radius_out=0.111_d1ef7be5.png' \n"
     ]
    },
    {
     "name": "stderr",
     "output_type": "stream",
     "text": [
      "100%|██████████| 81/81 [03:10<00:00,  2.36s/it]\n",
      "100%|██████████| 1/1 [03:10<00:00, 190.92s/it]\n",
      "100%|██████████| 1/1 [00:00<00:00,  2.93it/s]\n"
     ]
    },
    {
     "name": "stdout",
     "output_type": "stream",
     "text": [
      "0.222 -> output_filename='2024-07-24_caustique/caustique_disk-image_radius_out=0.222_676fcfb9.png' \n"
     ]
    },
    {
     "name": "stderr",
     "output_type": "stream",
     "text": [
      "100%|██████████| 81/81 [03:11<00:00,  2.36s/it]\n",
      "100%|██████████| 1/1 [03:11<00:00, 191.32s/it]\n",
      "100%|██████████| 1/1 [00:00<00:00,  2.87it/s]\n"
     ]
    },
    {
     "name": "stdout",
     "output_type": "stream",
     "text": [
      "0.333 -> output_filename='2024-07-24_caustique/caustique_disk-image_radius_out=0.333_ee14f967.png' \n"
     ]
    },
    {
     "name": "stderr",
     "output_type": "stream",
     "text": [
      "100%|██████████| 81/81 [03:11<00:00,  2.36s/it]\n",
      "100%|██████████| 1/1 [03:11<00:00, 191.44s/it]\n",
      "100%|██████████| 1/1 [00:00<00:00,  2.50it/s]\n"
     ]
    },
    {
     "name": "stdout",
     "output_type": "stream",
     "text": [
      "0.444 -> output_filename='2024-07-24_caustique/caustique_disk-image_radius_out=0.444_701e42ac.png' \n"
     ]
    },
    {
     "name": "stderr",
     "output_type": "stream",
     "text": [
      "100%|██████████| 81/81 [03:11<00:00,  2.36s/it]\n",
      "100%|██████████| 1/1 [03:11<00:00, 191.50s/it]\n",
      "100%|██████████| 1/1 [00:00<00:00,  2.13it/s]\n"
     ]
    },
    {
     "name": "stdout",
     "output_type": "stream",
     "text": [
      "0.556 -> output_filename='2024-07-24_caustique/caustique_disk-image_radius_out=0.556_68f9f417.png' \n"
     ]
    },
    {
     "name": "stderr",
     "output_type": "stream",
     "text": [
      "100%|██████████| 81/81 [03:11<00:00,  2.36s/it]\n",
      "100%|██████████| 1/1 [03:11<00:00, 191.45s/it]\n",
      "100%|██████████| 1/1 [00:00<00:00,  1.85it/s]\n"
     ]
    },
    {
     "name": "stdout",
     "output_type": "stream",
     "text": [
      "0.667 -> output_filename='2024-07-24_caustique/caustique_disk-image_radius_out=0.667_dfa700ec.png' \n"
     ]
    },
    {
     "name": "stderr",
     "output_type": "stream",
     "text": [
      "100%|██████████| 81/81 [03:12<00:00,  2.37s/it]\n",
      "100%|██████████| 1/1 [03:12<00:00, 192.05s/it]\n",
      "100%|██████████| 1/1 [00:00<00:00,  1.58it/s]\n"
     ]
    },
    {
     "name": "stdout",
     "output_type": "stream",
     "text": [
      "0.778 -> output_filename='2024-07-24_caustique/caustique_disk-image_radius_out=0.778_c1c2cda5.png' \n"
     ]
    },
    {
     "name": "stderr",
     "output_type": "stream",
     "text": [
      "100%|██████████| 81/81 [03:11<00:00,  2.36s/it]\n",
      "100%|██████████| 1/1 [03:11<00:00, 191.07s/it]\n",
      "100%|██████████| 1/1 [00:00<00:00,  1.36it/s]\n"
     ]
    },
    {
     "name": "stdout",
     "output_type": "stream",
     "text": [
      "0.889 -> output_filename='2024-07-24_caustique/caustique_disk-image_radius_out=0.889_de0a0d8f.png' \n"
     ]
    },
    {
     "name": "stderr",
     "output_type": "stream",
     "text": [
      "100%|██████████| 81/81 [03:11<00:00,  2.36s/it]\n",
      "100%|██████████| 1/1 [03:11<00:00, 191.07s/it]\n",
      "100%|██████████| 1/1 [00:00<00:00,  1.17it/s]"
     ]
    },
    {
     "name": "stdout",
     "output_type": "stream",
     "text": [
      "1.000 -> output_filename='2024-07-24_caustique/caustique_disk-image_radius_out=1.000_13bed37e.png' \n"
     ]
    },
    {
     "name": "stderr",
     "output_type": "stream",
     "text": [
      "\n"
     ]
    }
   ],
   "source": [
    "for radius_out in np.linspace(0, 1, N_scan+1)[1:]:\n",
    "    opt = init()\n",
    "    c = Caustique(opt)\n",
    "\n",
    "    c.opt.tag = f'{c.opt.tag}_{type}-image_{radius_out=:.3f}'\n",
    "    image = generate_image(nx=c.opt.nx, ny=c.opt.ny, radius_out=radius_out)\n",
    "    output_filename = c.plot(z, image)\n",
    "    print(f'{radius_out:.3f} -> {output_filename=} ')\n",
    "    if c.opt.do_display: c.show(output_filename)"
   ]
  },
  {
   "cell_type": "code",
   "execution_count": 47,
   "metadata": {
    "execution": {
     "iopub.execute_input": "2022-09-16T06:50:19.915420Z",
     "iopub.status.busy": "2022-09-16T06:50:19.915215Z",
     "iopub.status.idle": "2022-09-16T06:50:21.641723Z",
     "shell.execute_reply": "2022-09-16T06:50:21.641154Z"
    }
   },
   "outputs": [
    {
     "name": "stderr",
     "output_type": "stream",
     "text": [
      "100%|██████████| 81/81 [03:11<00:00,  2.37s/it]\n",
      "100%|██████████| 1/1 [03:11<00:00, 191.75s/it]\n",
      "100%|██████████| 1/1 [00:01<00:00,  1.35s/it]\n"
     ]
    },
    {
     "name": "stdout",
     "output_type": "stream",
     "text": [
      "radius_in=0.111 -> output_filename='2024-07-24_caustique/caustique_disk-image_radius_in=0.111_c0d2acb3.png' \n"
     ]
    },
    {
     "name": "stderr",
     "output_type": "stream",
     "text": [
      "100%|██████████| 81/81 [03:11<00:00,  2.36s/it]\n",
      "100%|██████████| 1/1 [03:11<00:00, 191.27s/it]\n",
      "100%|██████████| 1/1 [00:00<00:00,  1.37it/s]\n"
     ]
    },
    {
     "name": "stdout",
     "output_type": "stream",
     "text": [
      "radius_in=0.222 -> output_filename='2024-07-24_caustique/caustique_disk-image_radius_in=0.222_a655a79d.png' \n"
     ]
    },
    {
     "name": "stderr",
     "output_type": "stream",
     "text": [
      "100%|██████████| 81/81 [03:11<00:00,  2.37s/it]\n",
      "100%|██████████| 1/1 [03:11<00:00, 191.70s/it]\n",
      "100%|██████████| 1/1 [00:00<00:00,  1.45it/s]\n"
     ]
    },
    {
     "name": "stdout",
     "output_type": "stream",
     "text": [
      "radius_in=0.333 -> output_filename='2024-07-24_caustique/caustique_disk-image_radius_in=0.333_fd4477e6.png' \n"
     ]
    },
    {
     "name": "stderr",
     "output_type": "stream",
     "text": [
      "100%|██████████| 81/81 [03:11<00:00,  2.37s/it]\n",
      "100%|██████████| 1/1 [03:11<00:00, 191.82s/it]\n",
      "100%|██████████| 1/1 [00:00<00:00,  1.54it/s]\n"
     ]
    },
    {
     "name": "stdout",
     "output_type": "stream",
     "text": [
      "radius_in=0.444 -> output_filename='2024-07-24_caustique/caustique_disk-image_radius_in=0.444_d4ae9192.png' \n"
     ]
    },
    {
     "name": "stderr",
     "output_type": "stream",
     "text": [
      "100%|██████████| 81/81 [03:11<00:00,  2.36s/it]\n",
      "100%|██████████| 1/1 [03:11<00:00, 191.46s/it]\n",
      "100%|██████████| 1/1 [00:00<00:00,  1.71it/s]\n"
     ]
    },
    {
     "name": "stdout",
     "output_type": "stream",
     "text": [
      "radius_in=0.556 -> output_filename='2024-07-24_caustique/caustique_disk-image_radius_in=0.556_74785a2f.png' \n"
     ]
    },
    {
     "name": "stderr",
     "output_type": "stream",
     "text": [
      "100%|██████████| 81/81 [03:12<00:00,  2.38s/it]\n",
      "100%|██████████| 1/1 [03:12<00:00, 192.98s/it]\n",
      "100%|██████████| 1/1 [00:00<00:00,  1.98it/s]\n"
     ]
    },
    {
     "name": "stdout",
     "output_type": "stream",
     "text": [
      "radius_in=0.667 -> output_filename='2024-07-24_caustique/caustique_disk-image_radius_in=0.667_5b7afde4.png' \n"
     ]
    },
    {
     "name": "stderr",
     "output_type": "stream",
     "text": [
      "100%|██████████| 81/81 [03:11<00:00,  2.37s/it]\n",
      "100%|██████████| 1/1 [03:11<00:00, 191.61s/it]\n",
      "100%|██████████| 1/1 [00:00<00:00,  2.42it/s]\n"
     ]
    },
    {
     "name": "stdout",
     "output_type": "stream",
     "text": [
      "radius_in=0.778 -> output_filename='2024-07-24_caustique/caustique_disk-image_radius_in=0.778_06eafe6d.png' \n"
     ]
    },
    {
     "name": "stderr",
     "output_type": "stream",
     "text": [
      "100%|██████████| 81/81 [03:11<00:00,  2.37s/it]\n",
      "100%|██████████| 1/1 [03:11<00:00, 191.64s/it]\n",
      "100%|██████████| 1/1 [00:00<00:00,  3.26it/s]\n"
     ]
    },
    {
     "name": "stdout",
     "output_type": "stream",
     "text": [
      "radius_in=0.889 -> output_filename='2024-07-24_caustique/caustique_disk-image_radius_in=0.889_1a6311ce.png' \n"
     ]
    },
    {
     "name": "stderr",
     "output_type": "stream",
     "text": [
      "  0%|          | 0/1 [00:00<?, ?it/s]/Users/laurentperrinet/app54_nextcloud/NaturalPatterns/2020_caustiques/.venv/lib/python3.12/site-packages/numpy/lib/_histograms_impl.py:1077: RuntimeWarning: invalid value encountered in divide\n",
      "  hist /= s\n",
      "100%|██████████| 81/81 [03:11<00:00,  2.37s/it]\n",
      "100%|██████████| 1/1 [03:11<00:00, 191.73s/it]\n",
      "  0%|          | 0/1 [00:00<?, ?it/s]/var/folders/3p/m0g52j9j69z3gj8ktpgg1dm00000gn/T/ipykernel_21826/1923257970.py:167: RuntimeWarning: invalid value encountered in cast\n",
      "  cv2.imwrite(fname, (image_array*(2**self.opt.n_bits-1)).astype(np_dtype))\n",
      "100%|██████████| 1/1 [00:00<00:00,  2.29it/s]"
     ]
    },
    {
     "name": "stdout",
     "output_type": "stream",
     "text": [
      "radius_in=1.000 -> output_filename='2024-07-24_caustique/caustique_disk-image_radius_in=1.000_bdbe05eb.png' \n"
     ]
    },
    {
     "name": "stderr",
     "output_type": "stream",
     "text": [
      "\n"
     ]
    }
   ],
   "source": [
    "for radius_in in np.linspace(0, 1, N_scan+1)[1:]:\n",
    "    opt = init()\n",
    "    c = Caustique(opt)\n",
    "\n",
    "    c.opt.tag = f'{c.opt.tag}_{type}-image_{radius_in=:.3f}'\n",
    "    image = generate_image(nx=c.opt.nx, ny=c.opt.ny, radius_in=radius_in)\n",
    "    output_filename = c.plot(z, image)\n",
    "    print(f'{radius_in=:.3f} -> {output_filename=} ')\n",
    "    if c.opt.do_display: c.show(output_filename)"
   ]
  },
  {
   "cell_type": "markdown",
   "metadata": {
    "tags": []
   },
   "source": [
    "## shining a bi-grating image to the wave"
   ]
  },
  {
   "cell_type": "code",
   "execution_count": 48,
   "metadata": {},
   "outputs": [
    {
     "data": {
      "image/png": "[encoded data removed]",
      "text/plain": [
       "<Figure size 640x480 with 1 Axes>"
      ]
     },
     "metadata": {},
     "output_type": "display_data"
    }
   ],
   "source": [
    "def generate_image(nx, ny, period1=2, period2=64, threshold=0.3, radius=.9):\n",
    "    X, Y = np.meshgrid(np.linspace(-1, 1, nx, endpoint=True), np.linspace(-1, 1, ny, endpoint=True))\n",
    "    image  = (np.cos(2*np.pi*X*period1) > threshold) * 1.\n",
    "    image *= np.cos(2*np.pi*X*period2) > threshold\n",
    "    image *= (X**2 < radius**2) * (Y**2 < radius**2)\n",
    "    return image\n",
    "image = generate_image(nx=c.opt.nx, ny=c.opt.ny)\n",
    "plt.imshow(image, cmap='gray');"
   ]
  },
  {
   "cell_type": "code",
   "execution_count": 49,
   "metadata": {},
   "outputs": [
    {
     "name": "stderr",
     "output_type": "stream",
     "text": [
      "100%|██████████| 81/81 [03:12<00:00,  2.37s/it]\n",
      "100%|██████████| 1/1 [03:12<00:00, 192.21s/it]\n",
      "100%|██████████| 1/1 [00:00<00:00,  2.23it/s]\n"
     ]
    },
    {
     "data": {
      "text/html": [
       "<img src=\"2024-07-24_caustique/caustique_bigrating-image_2fc6e3da.png\" width=\"1024\"/>"
      ],
      "text/plain": [
       "<IPython.core.display.Image object>"
      ]
     },
     "metadata": {},
     "output_type": "display_data"
    }
   ],
   "source": [
    "type = 'bigrating'\n",
    "c = Caustique(init())\n",
    "c.opt.tag = f'{c.opt.tag}_{type}-image'\n",
    "output_filename = c.plot(z, image)\n",
    "c.show(output_filename)"
   ]
  },
  {
   "cell_type": "code",
   "execution_count": 50,
   "metadata": {
    "execution": {
     "iopub.execute_input": "2022-09-16T06:50:19.915420Z",
     "iopub.status.busy": "2022-09-16T06:50:19.915215Z",
     "iopub.status.idle": "2022-09-16T06:50:21.641723Z",
     "shell.execute_reply": "2022-09-16T06:50:21.641154Z"
    }
   },
   "outputs": [
    {
     "name": "stderr",
     "output_type": "stream",
     "text": [
      "100%|██████████| 81/81 [03:06<00:00,  2.30s/it]\n",
      "100%|██████████| 1/1 [03:06<00:00, 186.11s/it]\n",
      "100%|██████████| 1/1 [00:00<00:00,  2.49it/s]\n"
     ]
    },
    {
     "name": "stdout",
     "output_type": "stream",
     "text": [
      "H = 10.000 -> output_filename='2024-07-24_caustique/caustique_bigrating-image_H_10.000_90021871.png' \n"
     ]
    },
    {
     "name": "stderr",
     "output_type": "stream",
     "text": [
      "100%|██████████| 81/81 [03:07<00:00,  2.32s/it]\n",
      "100%|██████████| 1/1 [03:07<00:00, 187.64s/it]\n",
      "100%|██████████| 1/1 [00:00<00:00,  2.43it/s]\n"
     ]
    },
    {
     "name": "stdout",
     "output_type": "stream",
     "text": [
      "H = 11.892 -> output_filename='2024-07-24_caustique/caustique_bigrating-image_H_11.892_7ec1dfb7.png' \n"
     ]
    },
    {
     "name": "stderr",
     "output_type": "stream",
     "text": [
      "100%|██████████| 81/81 [03:08<00:00,  2.33s/it]\n",
      "100%|██████████| 1/1 [03:08<00:00, 188.95s/it]\n",
      "100%|██████████| 1/1 [00:00<00:00,  2.38it/s]\n"
     ]
    },
    {
     "name": "stdout",
     "output_type": "stream",
     "text": [
      "H = 14.142 -> output_filename='2024-07-24_caustique/caustique_bigrating-image_H_14.142_62d57890.png' \n"
     ]
    },
    {
     "name": "stderr",
     "output_type": "stream",
     "text": [
      "100%|██████████| 81/81 [03:10<00:00,  2.35s/it]\n",
      "100%|██████████| 1/1 [03:10<00:00, 190.40s/it]\n",
      "100%|██████████| 1/1 [00:00<00:00,  2.28it/s]\n"
     ]
    },
    {
     "name": "stdout",
     "output_type": "stream",
     "text": [
      "H = 16.818 -> output_filename='2024-07-24_caustique/caustique_bigrating-image_H_16.818_97a158ae.png' \n"
     ]
    },
    {
     "name": "stderr",
     "output_type": "stream",
     "text": [
      "100%|██████████| 81/81 [03:11<00:00,  2.36s/it]\n",
      "100%|██████████| 1/1 [03:11<00:00, 191.37s/it]\n",
      "100%|██████████| 1/1 [00:00<00:00,  2.24it/s]\n"
     ]
    },
    {
     "name": "stdout",
     "output_type": "stream",
     "text": [
      "H = 20.000 -> output_filename='2024-07-24_caustique/caustique_bigrating-image_H_20.000_8e5d443d.png' \n"
     ]
    },
    {
     "name": "stderr",
     "output_type": "stream",
     "text": [
      "100%|██████████| 81/81 [03:13<00:00,  2.39s/it]\n",
      "100%|██████████| 1/1 [03:13<00:00, 193.34s/it]\n",
      "100%|██████████| 1/1 [00:00<00:00,  2.10it/s]\n"
     ]
    },
    {
     "name": "stdout",
     "output_type": "stream",
     "text": [
      "H = 23.784 -> output_filename='2024-07-24_caustique/caustique_bigrating-image_H_23.784_1af06546.png' \n"
     ]
    },
    {
     "name": "stderr",
     "output_type": "stream",
     "text": [
      "100%|██████████| 81/81 [03:14<00:00,  2.40s/it]\n",
      "100%|██████████| 1/1 [03:14<00:00, 194.40s/it]\n",
      "100%|██████████| 1/1 [00:00<00:00,  2.06it/s]\n"
     ]
    },
    {
     "name": "stdout",
     "output_type": "stream",
     "text": [
      "H = 28.284 -> output_filename='2024-07-24_caustique/caustique_bigrating-image_H_28.284_adc722d2.png' \n"
     ]
    },
    {
     "name": "stderr",
     "output_type": "stream",
     "text": [
      "100%|██████████| 81/81 [03:15<00:00,  2.42s/it]\n",
      "100%|██████████| 1/1 [03:15<00:00, 195.67s/it]\n",
      "100%|██████████| 1/1 [00:00<00:00,  1.89it/s]\n"
     ]
    },
    {
     "name": "stdout",
     "output_type": "stream",
     "text": [
      "H = 33.636 -> output_filename='2024-07-24_caustique/caustique_bigrating-image_H_33.636_3ebec870.png' \n"
     ]
    },
    {
     "name": "stderr",
     "output_type": "stream",
     "text": [
      "100%|██████████| 81/81 [03:17<00:00,  2.43s/it]\n",
      "100%|██████████| 1/1 [03:17<00:00, 197.20s/it]\n",
      "100%|██████████| 1/1 [00:00<00:00,  1.74it/s]"
     ]
    },
    {
     "name": "stdout",
     "output_type": "stream",
     "text": [
      "H = 40.000 -> output_filename='2024-07-24_caustique/caustique_bigrating-image_H_40.000_76cf802a.png' \n"
     ]
    },
    {
     "name": "stderr",
     "output_type": "stream",
     "text": [
      "\n"
     ]
    }
   ],
   "source": [
    "for H_ in c.opt.H*np.logspace(-1, 1, N_scan, base=base):\n",
    "    opt = init()\n",
    "    c = Caustique(opt)\n",
    "    c.opt.H = H_\n",
    "    c.opt.tag = f'{c.opt.tag}_{type}-image_H_{H_:.3f}'\n",
    "    \n",
    "    output_filename = c.plot(z, image)\n",
    "    print(f'H = {H_:.3f} -> {output_filename=} ')\n",
    "    if c.opt.do_display: c.show(output_filename)"
   ]
  },
  {
   "cell_type": "code",
   "execution_count": 51,
   "metadata": {
    "execution": {
     "iopub.execute_input": "2022-09-16T06:50:19.915420Z",
     "iopub.status.busy": "2022-09-16T06:50:19.915215Z",
     "iopub.status.idle": "2022-09-16T06:50:21.641723Z",
     "shell.execute_reply": "2022-09-16T06:50:21.641154Z"
    }
   },
   "outputs": [
    {
     "name": "stderr",
     "output_type": "stream",
     "text": [
      "100%|██████████| 81/81 [03:11<00:00,  2.36s/it]\n",
      "100%|██████████| 1/1 [03:11<00:00, 191.52s/it]\n",
      "100%|██████████| 1/1 [00:00<00:00,  2.04it/s]\n"
     ]
    },
    {
     "name": "stdout",
     "output_type": "stream",
     "text": [
      "0.100 -> output_filename='2024-07-24_caustique/caustique_bigrating-image_threshold=0.100_770359e9.png' \n"
     ]
    },
    {
     "name": "stderr",
     "output_type": "stream",
     "text": [
      "100%|██████████| 81/81 [03:11<00:00,  2.36s/it]\n",
      "100%|██████████| 1/1 [03:11<00:00, 191.45s/it]\n",
      "100%|██████████| 1/1 [00:00<00:00,  2.13it/s]\n"
     ]
    },
    {
     "name": "stdout",
     "output_type": "stream",
     "text": [
      "0.200 -> output_filename='2024-07-24_caustique/caustique_bigrating-image_threshold=0.200_ee9d184b.png' \n"
     ]
    },
    {
     "name": "stderr",
     "output_type": "stream",
     "text": [
      "100%|██████████| 81/81 [03:10<00:00,  2.36s/it]\n",
      "100%|██████████| 1/1 [03:10<00:00, 190.80s/it]\n",
      "100%|██████████| 1/1 [00:00<00:00,  2.24it/s]\n"
     ]
    },
    {
     "name": "stdout",
     "output_type": "stream",
     "text": [
      "0.300 -> output_filename='2024-07-24_caustique/caustique_bigrating-image_threshold=0.300_a95f6d6e.png' \n"
     ]
    },
    {
     "name": "stderr",
     "output_type": "stream",
     "text": [
      "100%|██████████| 81/81 [03:13<00:00,  2.39s/it]\n",
      "100%|██████████| 1/1 [03:13<00:00, 193.64s/it]\n",
      "100%|██████████| 1/1 [00:00<00:00,  2.25it/s]\n"
     ]
    },
    {
     "name": "stdout",
     "output_type": "stream",
     "text": [
      "0.400 -> output_filename='2024-07-24_caustique/caustique_bigrating-image_threshold=0.400_d0f6a45e.png' \n"
     ]
    },
    {
     "name": "stderr",
     "output_type": "stream",
     "text": [
      "100%|██████████| 81/81 [03:15<00:00,  2.42s/it]\n",
      "100%|██████████| 1/1 [03:15<00:00, 195.72s/it]\n",
      "100%|██████████| 1/1 [00:00<00:00,  2.42it/s]\n"
     ]
    },
    {
     "name": "stdout",
     "output_type": "stream",
     "text": [
      "0.500 -> output_filename='2024-07-24_caustique/caustique_bigrating-image_threshold=0.500_8690efbf.png' \n"
     ]
    },
    {
     "name": "stderr",
     "output_type": "stream",
     "text": [
      "100%|██████████| 81/81 [03:11<00:00,  2.37s/it]\n",
      "100%|██████████| 1/1 [03:11<00:00, 191.70s/it]\n",
      "100%|██████████| 1/1 [00:00<00:00,  2.61it/s]\n"
     ]
    },
    {
     "name": "stdout",
     "output_type": "stream",
     "text": [
      "0.600 -> output_filename='2024-07-24_caustique/caustique_bigrating-image_threshold=0.600_56839e3e.png' \n"
     ]
    },
    {
     "name": "stderr",
     "output_type": "stream",
     "text": [
      "100%|██████████| 81/81 [03:11<00:00,  2.37s/it]\n",
      "100%|██████████| 1/1 [03:11<00:00, 191.72s/it]\n",
      "100%|██████████| 1/1 [00:00<00:00,  2.69it/s]\n"
     ]
    },
    {
     "name": "stdout",
     "output_type": "stream",
     "text": [
      "0.700 -> output_filename='2024-07-24_caustique/caustique_bigrating-image_threshold=0.700_8aa6ed89.png' \n"
     ]
    },
    {
     "name": "stderr",
     "output_type": "stream",
     "text": [
      "100%|██████████| 81/81 [03:11<00:00,  2.36s/it]\n",
      "100%|██████████| 1/1 [03:11<00:00, 191.08s/it]\n",
      "100%|██████████| 1/1 [00:00<00:00,  2.86it/s]\n"
     ]
    },
    {
     "name": "stdout",
     "output_type": "stream",
     "text": [
      "0.800 -> output_filename='2024-07-24_caustique/caustique_bigrating-image_threshold=0.800_12d7a27a.png' \n"
     ]
    },
    {
     "name": "stderr",
     "output_type": "stream",
     "text": [
      "100%|██████████| 81/81 [03:11<00:00,  2.36s/it]\n",
      "100%|██████████| 1/1 [03:11<00:00, 191.46s/it]\n",
      "100%|██████████| 1/1 [00:00<00:00,  3.06it/s]"
     ]
    },
    {
     "name": "stdout",
     "output_type": "stream",
     "text": [
      "0.900 -> output_filename='2024-07-24_caustique/caustique_bigrating-image_threshold=0.900_508ad22f.png' \n"
     ]
    },
    {
     "name": "stderr",
     "output_type": "stream",
     "text": [
      "\n"
     ]
    }
   ],
   "source": [
    "for threshold in np.linspace(0, 1, N_scan+2, endpoint=True)[1:-1]:\n",
    "    opt = init()\n",
    "    c = Caustique(opt)\n",
    "\n",
    "    c.opt.tag = f'{c.opt.tag}_{type}-image_{threshold=:.3f}'\n",
    "    image = generate_image(nx=c.opt.nx, ny=c.opt.ny, threshold=threshold)\n",
    "    output_filename = c.plot(z, image)\n",
    "    print(f'{threshold:.3f} -> {output_filename=} ')\n",
    "    if c.opt.do_display: c.show(output_filename)"
   ]
  },
  {
   "cell_type": "code",
   "execution_count": 52,
   "metadata": {
    "execution": {
     "iopub.execute_input": "2022-09-16T06:50:19.915420Z",
     "iopub.status.busy": "2022-09-16T06:50:19.915215Z",
     "iopub.status.idle": "2022-09-16T06:50:21.641723Z",
     "shell.execute_reply": "2022-09-16T06:50:21.641154Z"
    }
   },
   "outputs": [
    {
     "name": "stderr",
     "output_type": "stream",
     "text": [
      "100%|██████████| 81/81 [03:12<00:00,  2.37s/it]\n",
      "100%|██████████| 1/1 [03:12<00:00, 192.03s/it]\n",
      "100%|██████████| 1/1 [00:00<00:00,  3.43it/s]\n"
     ]
    },
    {
     "name": "stdout",
     "output_type": "stream",
     "text": [
      "radius=0.111 -> output_filename='2024-07-24_caustique/caustique_bigrating-image_radius=0.111_5be086a0.png' \n"
     ]
    },
    {
     "name": "stderr",
     "output_type": "stream",
     "text": [
      "100%|██████████| 81/81 [03:11<00:00,  2.37s/it]\n",
      "100%|██████████| 1/1 [03:11<00:00, 191.76s/it]\n",
      "100%|██████████| 1/1 [00:00<00:00,  3.39it/s]\n"
     ]
    },
    {
     "name": "stdout",
     "output_type": "stream",
     "text": [
      "radius=0.222 -> output_filename='2024-07-24_caustique/caustique_bigrating-image_radius=0.222_8fdf9dd1.png' \n"
     ]
    },
    {
     "name": "stderr",
     "output_type": "stream",
     "text": [
      "100%|██████████| 81/81 [03:11<00:00,  2.37s/it]\n",
      "100%|██████████| 1/1 [03:11<00:00, 191.70s/it]\n",
      "100%|██████████| 1/1 [00:00<00:00,  3.35it/s]\n"
     ]
    },
    {
     "name": "stdout",
     "output_type": "stream",
     "text": [
      "radius=0.333 -> output_filename='2024-07-24_caustique/caustique_bigrating-image_radius=0.333_9f676fba.png' \n"
     ]
    },
    {
     "name": "stderr",
     "output_type": "stream",
     "text": [
      "100%|██████████| 81/81 [03:11<00:00,  2.37s/it]\n",
      "100%|██████████| 1/1 [03:11<00:00, 191.83s/it]\n",
      "100%|██████████| 1/1 [00:00<00:00,  3.18it/s]\n"
     ]
    },
    {
     "name": "stdout",
     "output_type": "stream",
     "text": [
      "radius=0.444 -> output_filename='2024-07-24_caustique/caustique_bigrating-image_radius=0.444_eb5787c0.png' \n"
     ]
    },
    {
     "name": "stderr",
     "output_type": "stream",
     "text": [
      "100%|██████████| 81/81 [03:11<00:00,  2.36s/it]\n",
      "100%|██████████| 1/1 [03:11<00:00, 191.43s/it]\n",
      "100%|██████████| 1/1 [00:00<00:00,  2.74it/s]\n"
     ]
    },
    {
     "name": "stdout",
     "output_type": "stream",
     "text": [
      "radius=0.556 -> output_filename='2024-07-24_caustique/caustique_bigrating-image_radius=0.556_c94ea161.png' \n"
     ]
    },
    {
     "name": "stderr",
     "output_type": "stream",
     "text": [
      "100%|██████████| 81/81 [03:11<00:00,  2.36s/it]\n",
      "100%|██████████| 1/1 [03:11<00:00, 191.49s/it]\n",
      "100%|██████████| 1/1 [00:00<00:00,  2.52it/s]\n"
     ]
    },
    {
     "name": "stdout",
     "output_type": "stream",
     "text": [
      "radius=0.667 -> output_filename='2024-07-24_caustique/caustique_bigrating-image_radius=0.667_26ad3c3b.png' \n"
     ]
    },
    {
     "name": "stderr",
     "output_type": "stream",
     "text": [
      "100%|██████████| 81/81 [03:12<00:00,  2.37s/it]\n",
      "100%|██████████| 1/1 [03:12<00:00, 192.35s/it]\n",
      "100%|██████████| 1/1 [00:00<00:00,  2.32it/s]\n"
     ]
    },
    {
     "name": "stdout",
     "output_type": "stream",
     "text": [
      "radius=0.778 -> output_filename='2024-07-24_caustique/caustique_bigrating-image_radius=0.778_433075e9.png' \n"
     ]
    },
    {
     "name": "stderr",
     "output_type": "stream",
     "text": [
      "100%|██████████| 81/81 [03:11<00:00,  2.36s/it]\n",
      "100%|██████████| 1/1 [03:11<00:00, 191.41s/it]\n",
      "100%|██████████| 1/1 [00:00<00:00,  2.27it/s]\n"
     ]
    },
    {
     "name": "stdout",
     "output_type": "stream",
     "text": [
      "radius=0.889 -> output_filename='2024-07-24_caustique/caustique_bigrating-image_radius=0.889_6981e6ec.png' \n"
     ]
    },
    {
     "name": "stderr",
     "output_type": "stream",
     "text": [
      "100%|██████████| 81/81 [03:12<00:00,  2.37s/it]\n",
      "100%|██████████| 1/1 [03:12<00:00, 192.12s/it]\n",
      "100%|██████████| 1/1 [00:00<00:00,  1.85it/s]"
     ]
    },
    {
     "name": "stdout",
     "output_type": "stream",
     "text": [
      "radius=1.000 -> output_filename='2024-07-24_caustique/caustique_bigrating-image_radius=1.000_93042ff0.png' \n"
     ]
    },
    {
     "name": "stderr",
     "output_type": "stream",
     "text": [
      "\n"
     ]
    }
   ],
   "source": [
    "for radius in np.linspace(0, 1, N_scan+1)[1:]:\n",
    "    opt = init()\n",
    "    c = Caustique(opt)\n",
    "\n",
    "    c.opt.tag = f'{c.opt.tag}_{type}-image_{radius=:.3f}'\n",
    "    image = generate_image(nx=c.opt.nx, ny=c.opt.ny, radius=radius)\n",
    "    output_filename = c.plot(z, image)\n",
    "    print(f'{radius=:.3f} -> {output_filename=} ')\n",
    "    if c.opt.do_display: c.show(output_filename)"
   ]
  },
  {
   "cell_type": "code",
   "execution_count": 53,
   "metadata": {
    "execution": {
     "iopub.execute_input": "2022-09-16T06:50:19.915420Z",
     "iopub.status.busy": "2022-09-16T06:50:19.915215Z",
     "iopub.status.idle": "2022-09-16T06:50:21.641723Z",
     "shell.execute_reply": "2022-09-16T06:50:21.641154Z"
    }
   },
   "outputs": [
    {
     "name": "stderr",
     "output_type": "stream",
     "text": [
      "100%|██████████| 81/81 [03:11<00:00,  2.36s/it]\n",
      "100%|██████████| 1/1 [03:11<00:00, 191.47s/it]\n",
      "100%|██████████| 1/1 [00:00<00:00,  2.14it/s]\n"
     ]
    },
    {
     "name": "stdout",
     "output_type": "stream",
     "text": [
      "period1=1.000 -> output_filename='2024-07-24_caustique/caustique_bigrating-image_period1=1.00e+00_85da6a53.png' \n"
     ]
    },
    {
     "name": "stderr",
     "output_type": "stream",
     "text": [
      "100%|██████████| 81/81 [03:11<00:00,  2.37s/it]\n",
      "100%|██████████| 1/1 [03:11<00:00, 191.88s/it]\n",
      "100%|██████████| 1/1 [00:00<00:00,  1.95it/s]\n"
     ]
    },
    {
     "name": "stdout",
     "output_type": "stream",
     "text": [
      "period1=1.334 -> output_filename='2024-07-24_caustique/caustique_bigrating-image_period1=1.33e+00_e33fb66d.png' \n"
     ]
    },
    {
     "name": "stderr",
     "output_type": "stream",
     "text": [
      "100%|██████████| 81/81 [03:11<00:00,  2.37s/it]\n",
      "100%|██████████| 1/1 [03:11<00:00, 191.73s/it]\n",
      "100%|██████████| 1/1 [00:00<00:00,  2.17it/s]\n"
     ]
    },
    {
     "name": "stdout",
     "output_type": "stream",
     "text": [
      "period1=1.778 -> output_filename='2024-07-24_caustique/caustique_bigrating-image_period1=1.78e+00_978b07e8.png' \n"
     ]
    },
    {
     "name": "stderr",
     "output_type": "stream",
     "text": [
      "100%|██████████| 81/81 [03:11<00:00,  2.37s/it]\n",
      "100%|██████████| 1/1 [03:11<00:00, 191.96s/it]\n",
      "100%|██████████| 1/1 [00:00<00:00,  2.04it/s]\n"
     ]
    },
    {
     "name": "stdout",
     "output_type": "stream",
     "text": [
      "period1=2.371 -> output_filename='2024-07-24_caustique/caustique_bigrating-image_period1=2.37e+00_76f5e9cc.png' \n"
     ]
    },
    {
     "name": "stderr",
     "output_type": "stream",
     "text": [
      "100%|██████████| 81/81 [03:10<00:00,  2.36s/it]\n",
      "100%|██████████| 1/1 [03:10<00:00, 190.81s/it]\n",
      "100%|██████████| 1/1 [00:00<00:00,  2.11it/s]\n"
     ]
    },
    {
     "name": "stdout",
     "output_type": "stream",
     "text": [
      "period1=3.162 -> output_filename='2024-07-24_caustique/caustique_bigrating-image_period1=3.16e+00_28d976f2.png' \n"
     ]
    },
    {
     "name": "stderr",
     "output_type": "stream",
     "text": [
      "100%|██████████| 81/81 [03:12<00:00,  2.37s/it]\n",
      "100%|██████████| 1/1 [03:12<00:00, 192.19s/it]\n",
      "100%|██████████| 1/1 [00:01<00:00,  1.05s/it]\n"
     ]
    },
    {
     "name": "stdout",
     "output_type": "stream",
     "text": [
      "period1=4.217 -> output_filename='2024-07-24_caustique/caustique_bigrating-image_period1=4.22e+00_21163c7d.png' \n"
     ]
    },
    {
     "name": "stderr",
     "output_type": "stream",
     "text": [
      "100%|██████████| 81/81 [03:12<00:00,  2.38s/it]\n",
      "100%|██████████| 1/1 [03:12<00:00, 192.50s/it]\n",
      "100%|██████████| 1/1 [00:00<00:00,  1.99it/s]\n"
     ]
    },
    {
     "name": "stdout",
     "output_type": "stream",
     "text": [
      "period1=5.623 -> output_filename='2024-07-24_caustique/caustique_bigrating-image_period1=5.62e+00_e0f56e15.png' \n"
     ]
    },
    {
     "name": "stderr",
     "output_type": "stream",
     "text": [
      "100%|██████████| 81/81 [03:11<00:00,  2.37s/it]\n",
      "100%|██████████| 1/1 [03:11<00:00, 191.63s/it]\n",
      "100%|██████████| 1/1 [00:00<00:00,  1.98it/s]\n"
     ]
    },
    {
     "name": "stdout",
     "output_type": "stream",
     "text": [
      "period1=7.499 -> output_filename='2024-07-24_caustique/caustique_bigrating-image_period1=7.50e+00_65990b3b.png' \n"
     ]
    },
    {
     "name": "stderr",
     "output_type": "stream",
     "text": [
      "100%|██████████| 81/81 [03:11<00:00,  2.37s/it]\n",
      "100%|██████████| 1/1 [03:11<00:00, 191.66s/it]\n",
      "100%|██████████| 1/1 [00:00<00:00,  1.92it/s]"
     ]
    },
    {
     "name": "stdout",
     "output_type": "stream",
     "text": [
      "period1=10.000 -> output_filename='2024-07-24_caustique/caustique_bigrating-image_period1=1.00e+01_5b6a7c4e.png' \n"
     ]
    },
    {
     "name": "stderr",
     "output_type": "stream",
     "text": [
      "\n"
     ]
    }
   ],
   "source": [
    "for period1 in np.logspace(0, 1, N_scan, base=10):\n",
    "    opt = init()\n",
    "    c = Caustique(opt)\n",
    "\n",
    "    c.opt.tag = f'{c.opt.tag}_{type}-image_{period1=:.2e}'\n",
    "    image = generate_image(nx=c.opt.nx, ny=c.opt.ny, period1=period1)\n",
    "    output_filename = c.plot(z, image)\n",
    "    print(f'{period1=:.3f} -> {output_filename=} ')\n",
    "    if c.opt.do_display: c.show(output_filename)"
   ]
  },
  {
   "cell_type": "code",
   "execution_count": 54,
   "metadata": {
    "execution": {
     "iopub.execute_input": "2022-09-16T06:50:19.915420Z",
     "iopub.status.busy": "2022-09-16T06:50:19.915215Z",
     "iopub.status.idle": "2022-09-16T06:50:21.641723Z",
     "shell.execute_reply": "2022-09-16T06:50:21.641154Z"
    }
   },
   "outputs": [
    {
     "name": "stderr",
     "output_type": "stream",
     "text": [
      "100%|██████████| 81/81 [03:11<00:00,  2.36s/it]\n",
      "100%|██████████| 1/1 [03:11<00:00, 191.01s/it]\n",
      "100%|██████████| 1/1 [00:00<00:00,  2.46it/s]\n"
     ]
    },
    {
     "name": "stdout",
     "output_type": "stream",
     "text": [
      "period2=1.000 -> output_filename='2024-07-24_caustique/caustique_bigrating-image_period2=1.000_ce03dac2.png' \n"
     ]
    },
    {
     "name": "stderr",
     "output_type": "stream",
     "text": [
      "100%|██████████| 81/81 [03:11<00:00,  2.36s/it]\n",
      "100%|██████████| 1/1 [03:11<00:00, 191.00s/it]\n",
      "100%|██████████| 1/1 [00:00<00:00,  2.64it/s]\n"
     ]
    },
    {
     "name": "stdout",
     "output_type": "stream",
     "text": [
      "period2=1.334 -> output_filename='2024-07-24_caustique/caustique_bigrating-image_period2=1.334_25837816.png' \n"
     ]
    },
    {
     "name": "stderr",
     "output_type": "stream",
     "text": [
      "100%|██████████| 81/81 [03:11<00:00,  2.36s/it]\n",
      "100%|██████████| 1/1 [03:11<00:00, 191.01s/it]\n",
      "100%|██████████| 1/1 [00:00<00:00,  2.06it/s]\n"
     ]
    },
    {
     "name": "stdout",
     "output_type": "stream",
     "text": [
      "period2=1.778 -> output_filename='2024-07-24_caustique/caustique_bigrating-image_period2=1.778_673460f6.png' \n"
     ]
    },
    {
     "name": "stderr",
     "output_type": "stream",
     "text": [
      "100%|██████████| 81/81 [03:12<00:00,  2.37s/it]\n",
      "100%|██████████| 1/1 [03:12<00:00, 192.06s/it]\n",
      "100%|██████████| 1/1 [00:00<00:00,  2.28it/s]\n"
     ]
    },
    {
     "name": "stdout",
     "output_type": "stream",
     "text": [
      "period2=2.371 -> output_filename='2024-07-24_caustique/caustique_bigrating-image_period2=2.371_ae4f1d1d.png' \n"
     ]
    },
    {
     "name": "stderr",
     "output_type": "stream",
     "text": [
      "100%|██████████| 81/81 [03:10<00:00,  2.36s/it]\n",
      "100%|██████████| 1/1 [03:10<00:00, 190.90s/it]\n",
      "100%|██████████| 1/1 [00:00<00:00,  2.65it/s]\n"
     ]
    },
    {
     "name": "stdout",
     "output_type": "stream",
     "text": [
      "period2=3.162 -> output_filename='2024-07-24_caustique/caustique_bigrating-image_period2=3.162_9bf4fecd.png' \n"
     ]
    },
    {
     "name": "stderr",
     "output_type": "stream",
     "text": [
      "100%|██████████| 81/81 [03:11<00:00,  2.37s/it]\n",
      "100%|██████████| 1/1 [03:11<00:00, 191.78s/it]\n",
      "100%|██████████| 1/1 [00:00<00:00,  2.47it/s]\n"
     ]
    },
    {
     "name": "stdout",
     "output_type": "stream",
     "text": [
      "period2=4.217 -> output_filename='2024-07-24_caustique/caustique_bigrating-image_period2=4.217_5b0cd96b.png' \n"
     ]
    },
    {
     "name": "stderr",
     "output_type": "stream",
     "text": [
      "100%|██████████| 81/81 [03:11<00:00,  2.36s/it]\n",
      "100%|██████████| 1/1 [03:11<00:00, 191.30s/it]\n",
      "100%|██████████| 1/1 [00:00<00:00,  2.57it/s]\n"
     ]
    },
    {
     "name": "stdout",
     "output_type": "stream",
     "text": [
      "period2=5.623 -> output_filename='2024-07-24_caustique/caustique_bigrating-image_period2=5.623_d26bd51b.png' \n"
     ]
    },
    {
     "name": "stderr",
     "output_type": "stream",
     "text": [
      "100%|██████████| 81/81 [03:10<00:00,  2.35s/it]\n",
      "100%|██████████| 1/1 [03:10<00:00, 190.68s/it]\n",
      "100%|██████████| 1/1 [00:00<00:00,  2.59it/s]\n"
     ]
    },
    {
     "name": "stdout",
     "output_type": "stream",
     "text": [
      "period2=7.499 -> output_filename='2024-07-24_caustique/caustique_bigrating-image_period2=7.499_5b8bcfb2.png' \n"
     ]
    },
    {
     "name": "stderr",
     "output_type": "stream",
     "text": [
      "100%|██████████| 81/81 [03:11<00:00,  2.36s/it]\n",
      "100%|██████████| 1/1 [03:11<00:00, 191.15s/it]\n",
      "100%|██████████| 1/1 [00:00<00:00,  2.34it/s]"
     ]
    },
    {
     "name": "stdout",
     "output_type": "stream",
     "text": [
      "period2=10.000 -> output_filename='2024-07-24_caustique/caustique_bigrating-image_period2=10.000_ad57dd3d.png' \n"
     ]
    },
    {
     "name": "stderr",
     "output_type": "stream",
     "text": [
      "\n"
     ]
    }
   ],
   "source": [
    "for period2 in np.logspace(0, 1, N_scan, base=10):\n",
    "    opt = init()\n",
    "    c = Caustique(opt)\n",
    "\n",
    "    c.opt.tag = f'{c.opt.tag}_{type}-image_{period2=:.3f}'\n",
    "    image = generate_image(nx=c.opt.nx, ny=c.opt.ny, period2=period2)\n",
    "    output_filename = c.plot(z, image)\n",
    "    print(f'{period2=:.3f} -> {output_filename=} ')\n",
    "    if c.opt.do_display: c.show(output_filename)"
   ]
  }
 ],
 "metadata": {
  "kernelspec": {
   "display_name": "Python 3.10.6 ('stim')",
   "language": "python",
   "name": "python3"
  },
  "language_info": {
   "codemirror_mode": {
    "name": "ipython",
    "version": 3
   },
   "file_extension": ".py",
   "mimetype": "text/x-python",
   "name": "python",
   "nbconvert_exporter": "python",
   "pygments_lexer": "ipython3",
   "version": "3.12.5"
  },
  "nteract": {
   "version": "0.28.0"
  },
  "vscode": {
   "interpreter": {
    "hash": "10be752cd7fb305c8e34fd52db42c978fe2f0b4c23f0946d27e53ffa605b7ad9"
   }
  },
  "widgets": {
   "application/vnd.jupyter.widget-state+json": {
    "state": {
     "035ab33361e7432caecc80ca2a176575": {
      "model_module": "@jupyter-widgets/controls",
      "model_module_version": "2.0.0",
      "model_name": "FloatProgressModel",
      "state": {
       "_dom_classes": [],
       "_model_module": "@jupyter-widgets/controls",
       "_model_module_version": "2.0.0",
       "_model_name": "FloatProgressModel",
       "_view_count": null,
       "_view_module": "@jupyter-widgets/controls",
       "_view_module_version": "2.0.0",
       "_view_name": "ProgressView",
       "bar_style": "success",
       "description": "",
       "description_allow_html": false,
       "layout": "IPY_MODEL_77f9a290f7dd4b219ba4f735555140e1",
       "max": 256,
       "min": 0,
       "orientation": "horizontal",
       "style": "IPY_MODEL_84e6789a386f4cc3b967f7880483983c",
       "tabbable": null,
       "tooltip": null,
       "value": 256
      }
     },
     "0b73ffb834c2419c973499fdf717431d": {
      "model_module": "@jupyter-widgets/base",
      "model_module_version": "2.0.0",
      "model_name": "LayoutModel",
      "state": {
       "_model_module": "@jupyter-widgets/base",
       "_model_module_version": "2.0.0",
       "_model_name": "LayoutModel",
       "_view_count": null,
       "_view_module": "@jupyter-widgets/base",
       "_view_module_version": "2.0.0",
       "_view_name": "LayoutView",
       "align_content": null,
       "align_items": null,
       "align_self": null,
       "border_bottom": null,
       "border_left": null,
       "border_right": null,
       "border_top": null,
       "bottom": null,
       "display": null,
       "flex": null,
       "flex_flow": null,
       "grid_area": null,
       "grid_auto_columns": null,
       "grid_auto_flow": null,
       "grid_auto_rows": null,
       "grid_column": null,
       "grid_gap": null,
       "grid_row": null,
       "grid_template_areas": null,
       "grid_template_columns": null,
       "grid_template_rows": null,
       "height": null,
       "justify_content": null,
       "justify_items": null,
       "left": null,
       "margin": null,
       "max_height": null,
       "max_width": null,
       "min_height": null,
       "min_width": null,
       "object_fit": null,
       "object_position": null,
       "order": null,
       "overflow": null,
       "padding": null,
       "right": null,
       "top": null,
       "visibility": null,
       "width": null
      }
     },
     "11ae0a75f5b344f396d64dc0adfc23d4": {
      "model_module": "@jupyter-widgets/controls",
      "model_module_version": "2.0.0",
      "model_name": "HTMLStyleModel",
      "state": {
       "_model_module": "@jupyter-widgets/controls",
       "_model_module_version": "2.0.0",
       "_model_name": "HTMLStyleModel",
       "_view_count": null,
       "_view_module": "@jupyter-widgets/base",
       "_view_module_version": "2.0.0",
       "_view_name": "StyleView",
       "background": null,
       "description_width": "",
       "font_size": null,
       "text_color": null
      }
     },
     "1216f0c7b01543ab9e1c4767e78ec994": {
      "model_module": "@jupyter-widgets/base",
      "model_module_version": "2.0.0",
      "model_name": "LayoutModel",
      "state": {
       "_model_module": "@jupyter-widgets/base",
       "_model_module_version": "2.0.0",
       "_model_name": "LayoutModel",
       "_view_count": null,
       "_view_module": "@jupyter-widgets/base",
       "_view_module_version": "2.0.0",
       "_view_name": "LayoutView",
       "align_content": null,
       "align_items": null,
       "align_self": null,
       "border_bottom": null,
       "border_left": null,
       "border_right": null,
       "border_top": null,
       "bottom": null,
       "display": null,
       "flex": null,
       "flex_flow": null,
       "grid_area": null,
       "grid_auto_columns": null,
       "grid_auto_flow": null,
       "grid_auto_rows": null,
       "grid_column": null,
       "grid_gap": null,
       "grid_row": null,
       "grid_template_areas": null,
       "grid_template_columns": null,
       "grid_template_rows": null,
       "height": null,
       "justify_content": null,
       "justify_items": null,
       "left": null,
       "margin": null,
       "max_height": null,
       "max_width": null,
       "min_height": null,
       "min_width": null,
       "object_fit": null,
       "object_position": null,
       "order": null,
       "overflow": null,
       "padding": null,
       "right": null,
       "top": null,
       "visibility": null,
       "width": null
      }
     },
     "17ebce389fa846d99920f6c9c3a1210c": {
      "model_module": "@jupyter-widgets/controls",
      "model_module_version": "2.0.0",
      "model_name": "HTMLModel",
      "state": {
       "_dom_classes": [],
       "_model_module": "@jupyter-widgets/controls",
       "_model_module_version": "2.0.0",
       "_model_name": "HTMLModel",
       "_view_count": null,
       "_view_module": "@jupyter-widgets/controls",
       "_view_module_version": "2.0.0",
       "_view_name": "HTMLView",
       "description": "",
       "description_allow_html": false,
       "layout": "IPY_MODEL_c078cae24ae7430bace625a76b1cb988",
       "placeholder": "​",
       "style": "IPY_MODEL_f16c0a10ddef42d883635f671bda9653",
       "tabbable": null,
       "tooltip": null,
       "value": "100%"
      }
     },
     "190c5912ea914b8bb29e2203e0c9d745": {
      "model_module": "@jupyter-widgets/controls",
      "model_module_version": "2.0.0",
      "model_name": "FloatProgressModel",
      "state": {
       "_dom_classes": [],
       "_model_module": "@jupyter-widgets/controls",
       "_model_module_version": "2.0.0",
       "_model_name": "FloatProgressModel",
       "_view_count": null,
       "_view_module": "@jupyter-widgets/controls",
       "_view_module_version": "2.0.0",
       "_view_name": "ProgressView",
       "bar_style": "success",
       "description": "",
       "description_allow_html": false,
       "layout": "IPY_MODEL_d2044911f735442cbe3dc75e7249db0f",
       "max": 256,
       "min": 0,
       "orientation": "horizontal",
       "style": "IPY_MODEL_cd112c61118142adadc1ffdc3d4fd7dc",
       "tabbable": null,
       "tooltip": null,
       "value": 256
      }
     },
     "19f777cef46a4e6980ab4469675293a5": {
      "model_module": "@jupyter-widgets/controls",
      "model_module_version": "2.0.0",
      "model_name": "FloatProgressModel",
      "state": {
       "_dom_classes": [],
       "_model_module": "@jupyter-widgets/controls",
       "_model_module_version": "2.0.0",
       "_model_name": "FloatProgressModel",
       "_view_count": null,
       "_view_module": "@jupyter-widgets/controls",
       "_view_module_version": "2.0.0",
       "_view_name": "ProgressView",
       "bar_style": "success",
       "description": "",
       "description_allow_html": false,
       "layout": "IPY_MODEL_4a9c13ffbb134906a5773a04df09a848",
       "max": 256,
       "min": 0,
       "orientation": "horizontal",
       "style": "IPY_MODEL_408b9a2d642145409181ce414bf5f650",
       "tabbable": null,
       "tooltip": null,
       "value": 256
      }
     },
     "1e646c9ebcb840a28822c80b583c341d": {
      "model_module": "@jupyter-widgets/controls",
      "model_module_version": "2.0.0",
      "model_name": "FloatProgressModel",
      "state": {
       "_dom_classes": [],
       "_model_module": "@jupyter-widgets/controls",
       "_model_module_version": "2.0.0",
       "_model_name": "FloatProgressModel",
       "_view_count": null,
       "_view_module": "@jupyter-widgets/controls",
       "_view_module_version": "2.0.0",
       "_view_name": "ProgressView",
       "bar_style": "success",
       "description": "",
       "description_allow_html": false,
       "layout": "IPY_MODEL_231d8780a5db46418e5778863597aac4",
       "max": 256,
       "min": 0,
       "orientation": "horizontal",
       "style": "IPY_MODEL_cc8031db1bd442d1a481d859e4f8c3d1",
       "tabbable": null,
       "tooltip": null,
       "value": 256
      }
     },
     "231d8780a5db46418e5778863597aac4": {
      "model_module": "@jupyter-widgets/base",
      "model_module_version": "2.0.0",
      "model_name": "LayoutModel",
      "state": {
       "_model_module": "@jupyter-widgets/base",
       "_model_module_version": "2.0.0",
       "_model_name": "LayoutModel",
       "_view_count": null,
       "_view_module": "@jupyter-widgets/base",
       "_view_module_version": "2.0.0",
       "_view_name": "LayoutView",
       "align_content": null,
       "align_items": null,
       "align_self": null,
       "border_bottom": null,
       "border_left": null,
       "border_right": null,
       "border_top": null,
       "bottom": null,
       "display": null,
       "flex": null,
       "flex_flow": null,
       "grid_area": null,
       "grid_auto_columns": null,
       "grid_auto_flow": null,
       "grid_auto_rows": null,
       "grid_column": null,
       "grid_gap": null,
       "grid_row": null,
       "grid_template_areas": null,
       "grid_template_columns": null,
       "grid_template_rows": null,
       "height": null,
       "justify_content": null,
       "justify_items": null,
       "left": null,
       "margin": null,
       "max_height": null,
       "max_width": null,
       "min_height": null,
       "min_width": null,
       "object_fit": null,
       "object_position": null,
       "order": null,
       "overflow": null,
       "padding": null,
       "right": null,
       "top": null,
       "visibility": null,
       "width": null
      }
     },
     "2410a91c9a7a4826b7d3c14d541ff69d": {
      "model_module": "@jupyter-widgets/base",
      "model_module_version": "2.0.0",
      "model_name": "LayoutModel",
      "state": {
       "_model_module": "@jupyter-widgets/base",
       "_model_module_version": "2.0.0",
       "_model_name": "LayoutModel",
       "_view_count": null,
       "_view_module": "@jupyter-widgets/base",
       "_view_module_version": "2.0.0",
       "_view_name": "LayoutView",
       "align_content": null,
       "align_items": null,
       "align_self": null,
       "border_bottom": null,
       "border_left": null,
       "border_right": null,
       "border_top": null,
       "bottom": null,
       "display": null,
       "flex": null,
       "flex_flow": null,
       "grid_area": null,
       "grid_auto_columns": null,
       "grid_auto_flow": null,
       "grid_auto_rows": null,
       "grid_column": null,
       "grid_gap": null,
       "grid_row": null,
       "grid_template_areas": null,
       "grid_template_columns": null,
       "grid_template_rows": null,
       "height": null,
       "justify_content": null,
       "justify_items": null,
       "left": null,
       "margin": null,
       "max_height": null,
       "max_width": null,
       "min_height": null,
       "min_width": null,
       "object_fit": null,
       "object_position": null,
       "order": null,
       "overflow": null,
       "padding": null,
       "right": null,
       "top": null,
       "visibility": null,
       "width": null
      }
     },
     "2b93a83bd14041d0bf240a1e8ed105da": {
      "model_module": "@jupyter-widgets/controls",
      "model_module_version": "2.0.0",
      "model_name": "HBoxModel",
      "state": {
       "_dom_classes": [],
       "_model_module": "@jupyter-widgets/controls",
       "_model_module_version": "2.0.0",
       "_model_name": "HBoxModel",
       "_view_count": null,
       "_view_module": "@jupyter-widgets/controls",
       "_view_module_version": "2.0.0",
       "_view_name": "HBoxView",
       "box_style": "",
       "children": [
        "IPY_MODEL_17ebce389fa846d99920f6c9c3a1210c",
        "IPY_MODEL_190c5912ea914b8bb29e2203e0c9d745",
        "IPY_MODEL_d0069e861bec45358c5749eb8eb64139"
       ],
       "layout": "IPY_MODEL_391312d9ce614c36bd1c1339c4c1d3fa",
       "tabbable": null,
       "tooltip": null
      }
     },
     "33722c82ab7341d5ab4b56bce068d1e0": {
      "model_module": "@jupyter-widgets/controls",
      "model_module_version": "2.0.0",
      "model_name": "HBoxModel",
      "state": {
       "_dom_classes": [],
       "_model_module": "@jupyter-widgets/controls",
       "_model_module_version": "2.0.0",
       "_model_name": "HBoxModel",
       "_view_count": null,
       "_view_module": "@jupyter-widgets/controls",
       "_view_module_version": "2.0.0",
       "_view_name": "HBoxView",
       "box_style": "",
       "children": [
        "IPY_MODEL_34fc442a740f453aa8eb4733a00b33ee",
        "IPY_MODEL_19f777cef46a4e6980ab4469675293a5",
        "IPY_MODEL_466bad0aef824176a0778b38af7f0cc8"
       ],
       "layout": "IPY_MODEL_1216f0c7b01543ab9e1c4767e78ec994",
       "tabbable": null,
       "tooltip": null
      }
     },
     "34fc442a740f453aa8eb4733a00b33ee": {
      "model_module": "@jupyter-widgets/controls",
      "model_module_version": "2.0.0",
      "model_name": "HTMLModel",
      "state": {
       "_dom_classes": [],
       "_model_module": "@jupyter-widgets/controls",
       "_model_module_version": "2.0.0",
       "_model_name": "HTMLModel",
       "_view_count": null,
       "_view_module": "@jupyter-widgets/controls",
       "_view_module_version": "2.0.0",
       "_view_name": "HTMLView",
       "description": "",
       "description_allow_html": false,
       "layout": "IPY_MODEL_c26548a3142c45f1adfa8abc1815ac5f",
       "placeholder": "​",
       "style": "IPY_MODEL_11ae0a75f5b344f396d64dc0adfc23d4",
       "tabbable": null,
       "tooltip": null,
       "value": "100%"
      }
     },
     "372ec21d55b140a3b2f2485311a94b90": {
      "model_module": "@jupyter-widgets/controls",
      "model_module_version": "2.0.0",
      "model_name": "HTMLStyleModel",
      "state": {
       "_model_module": "@jupyter-widgets/controls",
       "_model_module_version": "2.0.0",
       "_model_name": "HTMLStyleModel",
       "_view_count": null,
       "_view_module": "@jupyter-widgets/base",
       "_view_module_version": "2.0.0",
       "_view_name": "StyleView",
       "background": null,
       "description_width": "",
       "font_size": null,
       "text_color": null
      }
     },
     "38a8e734f8a54c31bea5268b58557a88": {
      "model_module": "@jupyter-widgets/controls",
      "model_module_version": "2.0.0",
      "model_name": "HBoxModel",
      "state": {
       "_dom_classes": [],
       "_model_module": "@jupyter-widgets/controls",
       "_model_module_version": "2.0.0",
       "_model_name": "HBoxModel",
       "_view_count": null,
       "_view_module": "@jupyter-widgets/controls",
       "_view_module_version": "2.0.0",
       "_view_name": "HBoxView",
       "box_style": "",
       "children": [
        "IPY_MODEL_b8499c15522745cd9981166aa85f493d",
        "IPY_MODEL_7e3049db598142689e39c20322342839",
        "IPY_MODEL_4b89e27ea7dd4ad2848898a2e945d660"
       ],
       "layout": "IPY_MODEL_d69c4d7c0ffd4195b09a98ea697a7a77",
       "tabbable": null,
       "tooltip": null
      }
     },
     "391312d9ce614c36bd1c1339c4c1d3fa": {
      "model_module": "@jupyter-widgets/base",
      "model_module_version": "2.0.0",
      "model_name": "LayoutModel",
      "state": {
       "_model_module": "@jupyter-widgets/base",
       "_model_module_version": "2.0.0",
       "_model_name": "LayoutModel",
       "_view_count": null,
       "_view_module": "@jupyter-widgets/base",
       "_view_module_version": "2.0.0",
       "_view_name": "LayoutView",
       "align_content": null,
       "align_items": null,
       "align_self": null,
       "border_bottom": null,
       "border_left": null,
       "border_right": null,
       "border_top": null,
       "bottom": null,
       "display": null,
       "flex": null,
       "flex_flow": null,
       "grid_area": null,
       "grid_auto_columns": null,
       "grid_auto_flow": null,
       "grid_auto_rows": null,
       "grid_column": null,
       "grid_gap": null,
       "grid_row": null,
       "grid_template_areas": null,
       "grid_template_columns": null,
       "grid_template_rows": null,
       "height": null,
       "justify_content": null,
       "justify_items": null,
       "left": null,
       "margin": null,
       "max_height": null,
       "max_width": null,
       "min_height": null,
       "min_width": null,
       "object_fit": null,
       "object_position": null,
       "order": null,
       "overflow": null,
       "padding": null,
       "right": null,
       "top": null,
       "visibility": null,
       "width": null
      }
     },
     "408b9a2d642145409181ce414bf5f650": {
      "model_module": "@jupyter-widgets/controls",
      "model_module_version": "2.0.0",
      "model_name": "ProgressStyleModel",
      "state": {
       "_model_module": "@jupyter-widgets/controls",
       "_model_module_version": "2.0.0",
       "_model_name": "ProgressStyleModel",
       "_view_count": null,
       "_view_module": "@jupyter-widgets/base",
       "_view_module_version": "2.0.0",
       "_view_name": "StyleView",
       "bar_color": null,
       "description_width": ""
      }
     },
     "40e490736bdb4e9b91ecc29d8ebfcb9a": {
      "model_module": "@jupyter-widgets/controls",
      "model_module_version": "2.0.0",
      "model_name": "HTMLModel",
      "state": {
       "_dom_classes": [],
       "_model_module": "@jupyter-widgets/controls",
       "_model_module_version": "2.0.0",
       "_model_name": "HTMLModel",
       "_view_count": null,
       "_view_module": "@jupyter-widgets/controls",
       "_view_module_version": "2.0.0",
       "_view_name": "HTMLView",
       "description": "",
       "description_allow_html": false,
       "layout": "IPY_MODEL_0b73ffb834c2419c973499fdf717431d",
       "placeholder": "​",
       "style": "IPY_MODEL_92ddbe5f71f340e09a33f004c0f625c0",
       "tabbable": null,
       "tooltip": null,
       "value": "100%"
      }
     },
     "41c8f627da6e4adda218239203e2aaca": {
      "model_module": "@jupyter-widgets/base",
      "model_module_version": "2.0.0",
      "model_name": "LayoutModel",
      "state": {
       "_model_module": "@jupyter-widgets/base",
       "_model_module_version": "2.0.0",
       "_model_name": "LayoutModel",
       "_view_count": null,
       "_view_module": "@jupyter-widgets/base",
       "_view_module_version": "2.0.0",
       "_view_name": "LayoutView",
       "align_content": null,
       "align_items": null,
       "align_self": null,
       "border_bottom": null,
       "border_left": null,
       "border_right": null,
       "border_top": null,
       "bottom": null,
       "display": null,
       "flex": null,
       "flex_flow": null,
       "grid_area": null,
       "grid_auto_columns": null,
       "grid_auto_flow": null,
       "grid_auto_rows": null,
       "grid_column": null,
       "grid_gap": null,
       "grid_row": null,
       "grid_template_areas": null,
       "grid_template_columns": null,
       "grid_template_rows": null,
       "height": null,
       "justify_content": null,
       "justify_items": null,
       "left": null,
       "margin": null,
       "max_height": null,
       "max_width": null,
       "min_height": null,
       "min_width": null,
       "object_fit": null,
       "object_position": null,
       "order": null,
       "overflow": null,
       "padding": null,
       "right": null,
       "top": null,
       "visibility": null,
       "width": null
      }
     },
     "466bad0aef824176a0778b38af7f0cc8": {
      "model_module": "@jupyter-widgets/controls",
      "model_module_version": "2.0.0",
      "model_name": "HTMLModel",
      "state": {
       "_dom_classes": [],
       "_model_module": "@jupyter-widgets/controls",
       "_model_module_version": "2.0.0",
       "_model_name": "HTMLModel",
       "_view_count": null,
       "_view_module": "@jupyter-widgets/controls",
       "_view_module_version": "2.0.0",
       "_view_name": "HTMLView",
       "description": "",
       "description_allow_html": false,
       "layout": "IPY_MODEL_fd94337716a24629bbbf38eb2d910e17",
       "placeholder": "​",
       "style": "IPY_MODEL_62eaeb24301b45bdbed6f793ae2a80d3",
       "tabbable": null,
       "tooltip": null,
       "value": " 256/256 [28:51&lt;00:00,  6.95s/it]"
      }
     },
     "4a9c13ffbb134906a5773a04df09a848": {
      "model_module": "@jupyter-widgets/base",
      "model_module_version": "2.0.0",
      "model_name": "LayoutModel",
      "state": {
       "_model_module": "@jupyter-widgets/base",
       "_model_module_version": "2.0.0",
       "_model_name": "LayoutModel",
       "_view_count": null,
       "_view_module": "@jupyter-widgets/base",
       "_view_module_version": "2.0.0",
       "_view_name": "LayoutView",
       "align_content": null,
       "align_items": null,
       "align_self": null,
       "border_bottom": null,
       "border_left": null,
       "border_right": null,
       "border_top": null,
       "bottom": null,
       "display": null,
       "flex": null,
       "flex_flow": null,
       "grid_area": null,
       "grid_auto_columns": null,
       "grid_auto_flow": null,
       "grid_auto_rows": null,
       "grid_column": null,
       "grid_gap": null,
       "grid_row": null,
       "grid_template_areas": null,
       "grid_template_columns": null,
       "grid_template_rows": null,
       "height": null,
       "justify_content": null,
       "justify_items": null,
       "left": null,
       "margin": null,
       "max_height": null,
       "max_width": null,
       "min_height": null,
       "min_width": null,
       "object_fit": null,
       "object_position": null,
       "order": null,
       "overflow": null,
       "padding": null,
       "right": null,
       "top": null,
       "visibility": null,
       "width": null
      }
     },
     "4b89e27ea7dd4ad2848898a2e945d660": {
      "model_module": "@jupyter-widgets/controls",
      "model_module_version": "2.0.0",
      "model_name": "HTMLModel",
      "state": {
       "_dom_classes": [],
       "_model_module": "@jupyter-widgets/controls",
       "_model_module_version": "2.0.0",
       "_model_name": "HTMLModel",
       "_view_count": null,
       "_view_module": "@jupyter-widgets/controls",
       "_view_module_version": "2.0.0",
       "_view_name": "HTMLView",
       "description": "",
       "description_allow_html": false,
       "layout": "IPY_MODEL_6842b6809a9e45cfb0e702de8bc33a4a",
       "placeholder": "​",
       "style": "IPY_MODEL_c59fd60c9cf0495b922c74febebcfd99",
       "tabbable": null,
       "tooltip": null,
       "value": " 256/256 [27:26&lt;00:00,  6.35s/it]"
      }
     },
     "4bc5b7e763bd41efb3f51b7faf6b2553": {
      "model_module": "@jupyter-widgets/base",
      "model_module_version": "2.0.0",
      "model_name": "LayoutModel",
      "state": {
       "_model_module": "@jupyter-widgets/base",
       "_model_module_version": "2.0.0",
       "_model_name": "LayoutModel",
       "_view_count": null,
       "_view_module": "@jupyter-widgets/base",
       "_view_module_version": "2.0.0",
       "_view_name": "LayoutView",
       "align_content": null,
       "align_items": null,
       "align_self": null,
       "border_bottom": null,
       "border_left": null,
       "border_right": null,
       "border_top": null,
       "bottom": null,
       "display": null,
       "flex": null,
       "flex_flow": null,
       "grid_area": null,
       "grid_auto_columns": null,
       "grid_auto_flow": null,
       "grid_auto_rows": null,
       "grid_column": null,
       "grid_gap": null,
       "grid_row": null,
       "grid_template_areas": null,
       "grid_template_columns": null,
       "grid_template_rows": null,
       "height": null,
       "justify_content": null,
       "justify_items": null,
       "left": null,
       "margin": null,
       "max_height": null,
       "max_width": null,
       "min_height": null,
       "min_width": null,
       "object_fit": null,
       "object_position": null,
       "order": null,
       "overflow": null,
       "padding": null,
       "right": null,
       "top": null,
       "visibility": null,
       "width": null
      }
     },
     "623cfb29c2674e3e8afa956617fee28d": {
      "model_module": "@jupyter-widgets/controls",
      "model_module_version": "2.0.0",
      "model_name": "HTMLModel",
      "state": {
       "_dom_classes": [],
       "_model_module": "@jupyter-widgets/controls",
       "_model_module_version": "2.0.0",
       "_model_name": "HTMLModel",
       "_view_count": null,
       "_view_module": "@jupyter-widgets/controls",
       "_view_module_version": "2.0.0",
       "_view_name": "HTMLView",
       "description": "",
       "description_allow_html": false,
       "layout": "IPY_MODEL_d22ead2504ee49e6bdda108317f45ac1",
       "placeholder": "​",
       "style": "IPY_MODEL_7d93c028c6b249fbbb05b7bb576f6e14",
       "tabbable": null,
       "tooltip": null,
       "value": " 256/256 [29:09&lt;00:00,  6.42s/it]"
      }
     },
     "62eaeb24301b45bdbed6f793ae2a80d3": {
      "model_module": "@jupyter-widgets/controls",
      "model_module_version": "2.0.0",
      "model_name": "HTMLStyleModel",
      "state": {
       "_model_module": "@jupyter-widgets/controls",
       "_model_module_version": "2.0.0",
       "_model_name": "HTMLStyleModel",
       "_view_count": null,
       "_view_module": "@jupyter-widgets/base",
       "_view_module_version": "2.0.0",
       "_view_name": "StyleView",
       "background": null,
       "description_width": "",
       "font_size": null,
       "text_color": null
      }
     },
     "6589ece8f1bd4f259fa2daee94834cee": {
      "model_module": "@jupyter-widgets/base",
      "model_module_version": "2.0.0",
      "model_name": "LayoutModel",
      "state": {
       "_model_module": "@jupyter-widgets/base",
       "_model_module_version": "2.0.0",
       "_model_name": "LayoutModel",
       "_view_count": null,
       "_view_module": "@jupyter-widgets/base",
       "_view_module_version": "2.0.0",
       "_view_name": "LayoutView",
       "align_content": null,
       "align_items": null,
       "align_self": null,
       "border_bottom": null,
       "border_left": null,
       "border_right": null,
       "border_top": null,
       "bottom": null,
       "display": null,
       "flex": null,
       "flex_flow": null,
       "grid_area": null,
       "grid_auto_columns": null,
       "grid_auto_flow": null,
       "grid_auto_rows": null,
       "grid_column": null,
       "grid_gap": null,
       "grid_row": null,
       "grid_template_areas": null,
       "grid_template_columns": null,
       "grid_template_rows": null,
       "height": null,
       "justify_content": null,
       "justify_items": null,
       "left": null,
       "margin": null,
       "max_height": null,
       "max_width": null,
       "min_height": null,
       "min_width": null,
       "object_fit": null,
       "object_position": null,
       "order": null,
       "overflow": null,
       "padding": null,
       "right": null,
       "top": null,
       "visibility": null,
       "width": null
      }
     },
     "6842b6809a9e45cfb0e702de8bc33a4a": {
      "model_module": "@jupyter-widgets/base",
      "model_module_version": "2.0.0",
      "model_name": "LayoutModel",
      "state": {
       "_model_module": "@jupyter-widgets/base",
       "_model_module_version": "2.0.0",
       "_model_name": "LayoutModel",
       "_view_count": null,
       "_view_module": "@jupyter-widgets/base",
       "_view_module_version": "2.0.0",
       "_view_name": "LayoutView",
       "align_content": null,
       "align_items": null,
       "align_self": null,
       "border_bottom": null,
       "border_left": null,
       "border_right": null,
       "border_top": null,
       "bottom": null,
       "display": null,
       "flex": null,
       "flex_flow": null,
       "grid_area": null,
       "grid_auto_columns": null,
       "grid_auto_flow": null,
       "grid_auto_rows": null,
       "grid_column": null,
       "grid_gap": null,
       "grid_row": null,
       "grid_template_areas": null,
       "grid_template_columns": null,
       "grid_template_rows": null,
       "height": null,
       "justify_content": null,
       "justify_items": null,
       "left": null,
       "margin": null,
       "max_height": null,
       "max_width": null,
       "min_height": null,
       "min_width": null,
       "object_fit": null,
       "object_position": null,
       "order": null,
       "overflow": null,
       "padding": null,
       "right": null,
       "top": null,
       "visibility": null,
       "width": null
      }
     },
     "69223a6848db4101aa62cbe286345231": {
      "model_module": "@jupyter-widgets/controls",
      "model_module_version": "2.0.0",
      "model_name": "HBoxModel",
      "state": {
       "_dom_classes": [],
       "_model_module": "@jupyter-widgets/controls",
       "_model_module_version": "2.0.0",
       "_model_name": "HBoxModel",
       "_view_count": null,
       "_view_module": "@jupyter-widgets/controls",
       "_view_module_version": "2.0.0",
       "_view_name": "HBoxView",
       "box_style": "",
       "children": [
        "IPY_MODEL_fbcf6af361ec40ffba104e09c0d7eb15",
        "IPY_MODEL_035ab33361e7432caecc80ca2a176575",
        "IPY_MODEL_9ae4138d5c6040ff8f31487f21120a6e"
       ],
       "layout": "IPY_MODEL_937ce84eb341402aac3fa07fed6cafd0",
       "tabbable": null,
       "tooltip": null
      }
     },
     "7279d281d2c34657bff252e8df63f4c5": {
      "model_module": "@jupyter-widgets/controls",
      "model_module_version": "2.0.0",
      "model_name": "HTMLStyleModel",
      "state": {
       "_model_module": "@jupyter-widgets/controls",
       "_model_module_version": "2.0.0",
       "_model_name": "HTMLStyleModel",
       "_view_count": null,
       "_view_module": "@jupyter-widgets/base",
       "_view_module_version": "2.0.0",
       "_view_name": "StyleView",
       "background": null,
       "description_width": "",
       "font_size": null,
       "text_color": null
      }
     },
     "77f9a290f7dd4b219ba4f735555140e1": {
      "model_module": "@jupyter-widgets/base",
      "model_module_version": "2.0.0",
      "model_name": "LayoutModel",
      "state": {
       "_model_module": "@jupyter-widgets/base",
       "_model_module_version": "2.0.0",
       "_model_name": "LayoutModel",
       "_view_count": null,
       "_view_module": "@jupyter-widgets/base",
       "_view_module_version": "2.0.0",
       "_view_name": "LayoutView",
       "align_content": null,
       "align_items": null,
       "align_self": null,
       "border_bottom": null,
       "border_left": null,
       "border_right": null,
       "border_top": null,
       "bottom": null,
       "display": null,
       "flex": null,
       "flex_flow": null,
       "grid_area": null,
       "grid_auto_columns": null,
       "grid_auto_flow": null,
       "grid_auto_rows": null,
       "grid_column": null,
       "grid_gap": null,
       "grid_row": null,
       "grid_template_areas": null,
       "grid_template_columns": null,
       "grid_template_rows": null,
       "height": null,
       "justify_content": null,
       "justify_items": null,
       "left": null,
       "margin": null,
       "max_height": null,
       "max_width": null,
       "min_height": null,
       "min_width": null,
       "object_fit": null,
       "object_position": null,
       "order": null,
       "overflow": null,
       "padding": null,
       "right": null,
       "top": null,
       "visibility": null,
       "width": null
      }
     },
     "7d93c028c6b249fbbb05b7bb576f6e14": {
      "model_module": "@jupyter-widgets/controls",
      "model_module_version": "2.0.0",
      "model_name": "HTMLStyleModel",
      "state": {
       "_model_module": "@jupyter-widgets/controls",
       "_model_module_version": "2.0.0",
       "_model_name": "HTMLStyleModel",
       "_view_count": null,
       "_view_module": "@jupyter-widgets/base",
       "_view_module_version": "2.0.0",
       "_view_name": "StyleView",
       "background": null,
       "description_width": "",
       "font_size": null,
       "text_color": null
      }
     },
     "7e3049db598142689e39c20322342839": {
      "model_module": "@jupyter-widgets/controls",
      "model_module_version": "2.0.0",
      "model_name": "FloatProgressModel",
      "state": {
       "_dom_classes": [],
       "_model_module": "@jupyter-widgets/controls",
       "_model_module_version": "2.0.0",
       "_model_name": "FloatProgressModel",
       "_view_count": null,
       "_view_module": "@jupyter-widgets/controls",
       "_view_module_version": "2.0.0",
       "_view_name": "ProgressView",
       "bar_style": "success",
       "description": "",
       "description_allow_html": false,
       "layout": "IPY_MODEL_6589ece8f1bd4f259fa2daee94834cee",
       "max": 256,
       "min": 0,
       "orientation": "horizontal",
       "style": "IPY_MODEL_bd094cda8b3c4855a4ed1300edf3f2c3",
       "tabbable": null,
       "tooltip": null,
       "value": 256
      }
     },
     "84e6789a386f4cc3b967f7880483983c": {
      "model_module": "@jupyter-widgets/controls",
      "model_module_version": "2.0.0",
      "model_name": "ProgressStyleModel",
      "state": {
       "_model_module": "@jupyter-widgets/controls",
       "_model_module_version": "2.0.0",
       "_model_name": "ProgressStyleModel",
       "_view_count": null,
       "_view_module": "@jupyter-widgets/base",
       "_view_module_version": "2.0.0",
       "_view_name": "StyleView",
       "bar_color": null,
       "description_width": ""
      }
     },
     "92ddbe5f71f340e09a33f004c0f625c0": {
      "model_module": "@jupyter-widgets/controls",
      "model_module_version": "2.0.0",
      "model_name": "HTMLStyleModel",
      "state": {
       "_model_module": "@jupyter-widgets/controls",
       "_model_module_version": "2.0.0",
       "_model_name": "HTMLStyleModel",
       "_view_count": null,
       "_view_module": "@jupyter-widgets/base",
       "_view_module_version": "2.0.0",
       "_view_name": "StyleView",
       "background": null,
       "description_width": "",
       "font_size": null,
       "text_color": null
      }
     },
     "937ce84eb341402aac3fa07fed6cafd0": {
      "model_module": "@jupyter-widgets/base",
      "model_module_version": "2.0.0",
      "model_name": "LayoutModel",
      "state": {
       "_model_module": "@jupyter-widgets/base",
       "_model_module_version": "2.0.0",
       "_model_name": "LayoutModel",
       "_view_count": null,
       "_view_module": "@jupyter-widgets/base",
       "_view_module_version": "2.0.0",
       "_view_name": "LayoutView",
       "align_content": null,
       "align_items": null,
       "align_self": null,
       "border_bottom": null,
       "border_left": null,
       "border_right": null,
       "border_top": null,
       "bottom": null,
       "display": null,
       "flex": null,
       "flex_flow": null,
       "grid_area": null,
       "grid_auto_columns": null,
       "grid_auto_flow": null,
       "grid_auto_rows": null,
       "grid_column": null,
       "grid_gap": null,
       "grid_row": null,
       "grid_template_areas": null,
       "grid_template_columns": null,
       "grid_template_rows": null,
       "height": null,
       "justify_content": null,
       "justify_items": null,
       "left": null,
       "margin": null,
       "max_height": null,
       "max_width": null,
       "min_height": null,
       "min_width": null,
       "object_fit": null,
       "object_position": null,
       "order": null,
       "overflow": null,
       "padding": null,
       "right": null,
       "top": null,
       "visibility": null,
       "width": null
      }
     },
     "9650fef1b09348cb8cff5a63a56850b7": {
      "model_module": "@jupyter-widgets/base",
      "model_module_version": "2.0.0",
      "model_name": "LayoutModel",
      "state": {
       "_model_module": "@jupyter-widgets/base",
       "_model_module_version": "2.0.0",
       "_model_name": "LayoutModel",
       "_view_count": null,
       "_view_module": "@jupyter-widgets/base",
       "_view_module_version": "2.0.0",
       "_view_name": "LayoutView",
       "align_content": null,
       "align_items": null,
       "align_self": null,
       "border_bottom": null,
       "border_left": null,
       "border_right": null,
       "border_top": null,
       "bottom": null,
       "display": null,
       "flex": null,
       "flex_flow": null,
       "grid_area": null,
       "grid_auto_columns": null,
       "grid_auto_flow": null,
       "grid_auto_rows": null,
       "grid_column": null,
       "grid_gap": null,
       "grid_row": null,
       "grid_template_areas": null,
       "grid_template_columns": null,
       "grid_template_rows": null,
       "height": null,
       "justify_content": null,
       "justify_items": null,
       "left": null,
       "margin": null,
       "max_height": null,
       "max_width": null,
       "min_height": null,
       "min_width": null,
       "object_fit": null,
       "object_position": null,
       "order": null,
       "overflow": null,
       "padding": null,
       "right": null,
       "top": null,
       "visibility": null,
       "width": null
      }
     },
     "9a36404c5a734fb38c2b22c9878a5745": {
      "model_module": "@jupyter-widgets/controls",
      "model_module_version": "2.0.0",
      "model_name": "HBoxModel",
      "state": {
       "_dom_classes": [],
       "_model_module": "@jupyter-widgets/controls",
       "_model_module_version": "2.0.0",
       "_model_name": "HBoxModel",
       "_view_count": null,
       "_view_module": "@jupyter-widgets/controls",
       "_view_module_version": "2.0.0",
       "_view_name": "HBoxView",
       "box_style": "",
       "children": [
        "IPY_MODEL_40e490736bdb4e9b91ecc29d8ebfcb9a",
        "IPY_MODEL_1e646c9ebcb840a28822c80b583c341d",
        "IPY_MODEL_623cfb29c2674e3e8afa956617fee28d"
       ],
       "layout": "IPY_MODEL_41c8f627da6e4adda218239203e2aaca",
       "tabbable": null,
       "tooltip": null
      }
     },
     "9ae4138d5c6040ff8f31487f21120a6e": {
      "model_module": "@jupyter-widgets/controls",
      "model_module_version": "2.0.0",
      "model_name": "HTMLModel",
      "state": {
       "_dom_classes": [],
       "_model_module": "@jupyter-widgets/controls",
       "_model_module_version": "2.0.0",
       "_model_name": "HTMLModel",
       "_view_count": null,
       "_view_module": "@jupyter-widgets/controls",
       "_view_module_version": "2.0.0",
       "_view_name": "HTMLView",
       "description": "",
       "description_allow_html": false,
       "layout": "IPY_MODEL_ff03739d18014246817c21e4dbf0a84a",
       "placeholder": "​",
       "style": "IPY_MODEL_e36bde94baa0470b804d73c4cc83a922",
       "tabbable": null,
       "tooltip": null,
       "value": " 256/256 [27:36&lt;00:00,  6.62s/it]"
      }
     },
     "b8499c15522745cd9981166aa85f493d": {
      "model_module": "@jupyter-widgets/controls",
      "model_module_version": "2.0.0",
      "model_name": "HTMLModel",
      "state": {
       "_dom_classes": [],
       "_model_module": "@jupyter-widgets/controls",
       "_model_module_version": "2.0.0",
       "_model_name": "HTMLModel",
       "_view_count": null,
       "_view_module": "@jupyter-widgets/controls",
       "_view_module_version": "2.0.0",
       "_view_name": "HTMLView",
       "description": "",
       "description_allow_html": false,
       "layout": "IPY_MODEL_2410a91c9a7a4826b7d3c14d541ff69d",
       "placeholder": "​",
       "style": "IPY_MODEL_bdbc8bdcb94f49e29847dd9b22e6add5",
       "tabbable": null,
       "tooltip": null,
       "value": "100%"
      }
     },
     "bd094cda8b3c4855a4ed1300edf3f2c3": {
      "model_module": "@jupyter-widgets/controls",
      "model_module_version": "2.0.0",
      "model_name": "ProgressStyleModel",
      "state": {
       "_model_module": "@jupyter-widgets/controls",
       "_model_module_version": "2.0.0",
       "_model_name": "ProgressStyleModel",
       "_view_count": null,
       "_view_module": "@jupyter-widgets/base",
       "_view_module_version": "2.0.0",
       "_view_name": "StyleView",
       "bar_color": null,
       "description_width": ""
      }
     },
     "bdbc8bdcb94f49e29847dd9b22e6add5": {
      "model_module": "@jupyter-widgets/controls",
      "model_module_version": "2.0.0",
      "model_name": "HTMLStyleModel",
      "state": {
       "_model_module": "@jupyter-widgets/controls",
       "_model_module_version": "2.0.0",
       "_model_name": "HTMLStyleModel",
       "_view_count": null,
       "_view_module": "@jupyter-widgets/base",
       "_view_module_version": "2.0.0",
       "_view_name": "StyleView",
       "background": null,
       "description_width": "",
       "font_size": null,
       "text_color": null
      }
     },
     "c078cae24ae7430bace625a76b1cb988": {
      "model_module": "@jupyter-widgets/base",
      "model_module_version": "2.0.0",
      "model_name": "LayoutModel",
      "state": {
       "_model_module": "@jupyter-widgets/base",
       "_model_module_version": "2.0.0",
       "_model_name": "LayoutModel",
       "_view_count": null,
       "_view_module": "@jupyter-widgets/base",
       "_view_module_version": "2.0.0",
       "_view_name": "LayoutView",
       "align_content": null,
       "align_items": null,
       "align_self": null,
       "border_bottom": null,
       "border_left": null,
       "border_right": null,
       "border_top": null,
       "bottom": null,
       "display": null,
       "flex": null,
       "flex_flow": null,
       "grid_area": null,
       "grid_auto_columns": null,
       "grid_auto_flow": null,
       "grid_auto_rows": null,
       "grid_column": null,
       "grid_gap": null,
       "grid_row": null,
       "grid_template_areas": null,
       "grid_template_columns": null,
       "grid_template_rows": null,
       "height": null,
       "justify_content": null,
       "justify_items": null,
       "left": null,
       "margin": null,
       "max_height": null,
       "max_width": null,
       "min_height": null,
       "min_width": null,
       "object_fit": null,
       "object_position": null,
       "order": null,
       "overflow": null,
       "padding": null,
       "right": null,
       "top": null,
       "visibility": null,
       "width": null
      }
     },
     "c26548a3142c45f1adfa8abc1815ac5f": {
      "model_module": "@jupyter-widgets/base",
      "model_module_version": "2.0.0",
      "model_name": "LayoutModel",
      "state": {
       "_model_module": "@jupyter-widgets/base",
       "_model_module_version": "2.0.0",
       "_model_name": "LayoutModel",
       "_view_count": null,
       "_view_module": "@jupyter-widgets/base",
       "_view_module_version": "2.0.0",
       "_view_name": "LayoutView",
       "align_content": null,
       "align_items": null,
       "align_self": null,
       "border_bottom": null,
       "border_left": null,
       "border_right": null,
       "border_top": null,
       "bottom": null,
       "display": null,
       "flex": null,
       "flex_flow": null,
       "grid_area": null,
       "grid_auto_columns": null,
       "grid_auto_flow": null,
       "grid_auto_rows": null,
       "grid_column": null,
       "grid_gap": null,
       "grid_row": null,
       "grid_template_areas": null,
       "grid_template_columns": null,
       "grid_template_rows": null,
       "height": null,
       "justify_content": null,
       "justify_items": null,
       "left": null,
       "margin": null,
       "max_height": null,
       "max_width": null,
       "min_height": null,
       "min_width": null,
       "object_fit": null,
       "object_position": null,
       "order": null,
       "overflow": null,
       "padding": null,
       "right": null,
       "top": null,
       "visibility": null,
       "width": null
      }
     },
     "c59fd60c9cf0495b922c74febebcfd99": {
      "model_module": "@jupyter-widgets/controls",
      "model_module_version": "2.0.0",
      "model_name": "HTMLStyleModel",
      "state": {
       "_model_module": "@jupyter-widgets/controls",
       "_model_module_version": "2.0.0",
       "_model_name": "HTMLStyleModel",
       "_view_count": null,
       "_view_module": "@jupyter-widgets/base",
       "_view_module_version": "2.0.0",
       "_view_name": "StyleView",
       "background": null,
       "description_width": "",
       "font_size": null,
       "text_color": null
      }
     },
     "cc8031db1bd442d1a481d859e4f8c3d1": {
      "model_module": "@jupyter-widgets/controls",
      "model_module_version": "2.0.0",
      "model_name": "ProgressStyleModel",
      "state": {
       "_model_module": "@jupyter-widgets/controls",
       "_model_module_version": "2.0.0",
       "_model_name": "ProgressStyleModel",
       "_view_count": null,
       "_view_module": "@jupyter-widgets/base",
       "_view_module_version": "2.0.0",
       "_view_name": "StyleView",
       "bar_color": null,
       "description_width": ""
      }
     },
     "cd112c61118142adadc1ffdc3d4fd7dc": {
      "model_module": "@jupyter-widgets/controls",
      "model_module_version": "2.0.0",
      "model_name": "ProgressStyleModel",
      "state": {
       "_model_module": "@jupyter-widgets/controls",
       "_model_module_version": "2.0.0",
       "_model_name": "ProgressStyleModel",
       "_view_count": null,
       "_view_module": "@jupyter-widgets/base",
       "_view_module_version": "2.0.0",
       "_view_name": "StyleView",
       "bar_color": null,
       "description_width": ""
      }
     },
     "d0069e861bec45358c5749eb8eb64139": {
      "model_module": "@jupyter-widgets/controls",
      "model_module_version": "2.0.0",
      "model_name": "HTMLModel",
      "state": {
       "_dom_classes": [],
       "_model_module": "@jupyter-widgets/controls",
       "_model_module_version": "2.0.0",
       "_model_name": "HTMLModel",
       "_view_count": null,
       "_view_module": "@jupyter-widgets/controls",
       "_view_module_version": "2.0.0",
       "_view_name": "HTMLView",
       "description": "",
       "description_allow_html": false,
       "layout": "IPY_MODEL_4bc5b7e763bd41efb3f51b7faf6b2553",
       "placeholder": "​",
       "style": "IPY_MODEL_372ec21d55b140a3b2f2485311a94b90",
       "tabbable": null,
       "tooltip": null,
       "value": " 256/256 [27:19&lt;00:00,  6.44s/it]"
      }
     },
     "d2044911f735442cbe3dc75e7249db0f": {
      "model_module": "@jupyter-widgets/base",
      "model_module_version": "2.0.0",
      "model_name": "LayoutModel",
      "state": {
       "_model_module": "@jupyter-widgets/base",
       "_model_module_version": "2.0.0",
       "_model_name": "LayoutModel",
       "_view_count": null,
       "_view_module": "@jupyter-widgets/base",
       "_view_module_version": "2.0.0",
       "_view_name": "LayoutView",
       "align_content": null,
       "align_items": null,
       "align_self": null,
       "border_bottom": null,
       "border_left": null,
       "border_right": null,
       "border_top": null,
       "bottom": null,
       "display": null,
       "flex": null,
       "flex_flow": null,
       "grid_area": null,
       "grid_auto_columns": null,
       "grid_auto_flow": null,
       "grid_auto_rows": null,
       "grid_column": null,
       "grid_gap": null,
       "grid_row": null,
       "grid_template_areas": null,
       "grid_template_columns": null,
       "grid_template_rows": null,
       "height": null,
       "justify_content": null,
       "justify_items": null,
       "left": null,
       "margin": null,
       "max_height": null,
       "max_width": null,
       "min_height": null,
       "min_width": null,
       "object_fit": null,
       "object_position": null,
       "order": null,
       "overflow": null,
       "padding": null,
       "right": null,
       "top": null,
       "visibility": null,
       "width": null
      }
     },
     "d22ead2504ee49e6bdda108317f45ac1": {
      "model_module": "@jupyter-widgets/base",
      "model_module_version": "2.0.0",
      "model_name": "LayoutModel",
      "state": {
       "_model_module": "@jupyter-widgets/base",
       "_model_module_version": "2.0.0",
       "_model_name": "LayoutModel",
       "_view_count": null,
       "_view_module": "@jupyter-widgets/base",
       "_view_module_version": "2.0.0",
       "_view_name": "LayoutView",
       "align_content": null,
       "align_items": null,
       "align_self": null,
       "border_bottom": null,
       "border_left": null,
       "border_right": null,
       "border_top": null,
       "bottom": null,
       "display": null,
       "flex": null,
       "flex_flow": null,
       "grid_area": null,
       "grid_auto_columns": null,
       "grid_auto_flow": null,
       "grid_auto_rows": null,
       "grid_column": null,
       "grid_gap": null,
       "grid_row": null,
       "grid_template_areas": null,
       "grid_template_columns": null,
       "grid_template_rows": null,
       "height": null,
       "justify_content": null,
       "justify_items": null,
       "left": null,
       "margin": null,
       "max_height": null,
       "max_width": null,
       "min_height": null,
       "min_width": null,
       "object_fit": null,
       "object_position": null,
       "order": null,
       "overflow": null,
       "padding": null,
       "right": null,
       "top": null,
       "visibility": null,
       "width": null
      }
     },
     "d69c4d7c0ffd4195b09a98ea697a7a77": {
      "model_module": "@jupyter-widgets/base",
      "model_module_version": "2.0.0",
      "model_name": "LayoutModel",
      "state": {
       "_model_module": "@jupyter-widgets/base",
       "_model_module_version": "2.0.0",
       "_model_name": "LayoutModel",
       "_view_count": null,
       "_view_module": "@jupyter-widgets/base",
       "_view_module_version": "2.0.0",
       "_view_name": "LayoutView",
       "align_content": null,
       "align_items": null,
       "align_self": null,
       "border_bottom": null,
       "border_left": null,
       "border_right": null,
       "border_top": null,
       "bottom": null,
       "display": null,
       "flex": null,
       "flex_flow": null,
       "grid_area": null,
       "grid_auto_columns": null,
       "grid_auto_flow": null,
       "grid_auto_rows": null,
       "grid_column": null,
       "grid_gap": null,
       "grid_row": null,
       "grid_template_areas": null,
       "grid_template_columns": null,
       "grid_template_rows": null,
       "height": null,
       "justify_content": null,
       "justify_items": null,
       "left": null,
       "margin": null,
       "max_height": null,
       "max_width": null,
       "min_height": null,
       "min_width": null,
       "object_fit": null,
       "object_position": null,
       "order": null,
       "overflow": null,
       "padding": null,
       "right": null,
       "top": null,
       "visibility": null,
       "width": null
      }
     },
     "e36bde94baa0470b804d73c4cc83a922": {
      "model_module": "@jupyter-widgets/controls",
      "model_module_version": "2.0.0",
      "model_name": "HTMLStyleModel",
      "state": {
       "_model_module": "@jupyter-widgets/controls",
       "_model_module_version": "2.0.0",
       "_model_name": "HTMLStyleModel",
       "_view_count": null,
       "_view_module": "@jupyter-widgets/base",
       "_view_module_version": "2.0.0",
       "_view_name": "StyleView",
       "background": null,
       "description_width": "",
       "font_size": null,
       "text_color": null
      }
     },
     "f16c0a10ddef42d883635f671bda9653": {
      "model_module": "@jupyter-widgets/controls",
      "model_module_version": "2.0.0",
      "model_name": "HTMLStyleModel",
      "state": {
       "_model_module": "@jupyter-widgets/controls",
       "_model_module_version": "2.0.0",
       "_model_name": "HTMLStyleModel",
       "_view_count": null,
       "_view_module": "@jupyter-widgets/base",
       "_view_module_version": "2.0.0",
       "_view_name": "StyleView",
       "background": null,
       "description_width": "",
       "font_size": null,
       "text_color": null
      }
     },
     "fbcf6af361ec40ffba104e09c0d7eb15": {
      "model_module": "@jupyter-widgets/controls",
      "model_module_version": "2.0.0",
      "model_name": "HTMLModel",
      "state": {
       "_dom_classes": [],
       "_model_module": "@jupyter-widgets/controls",
       "_model_module_version": "2.0.0",
       "_model_name": "HTMLModel",
       "_view_count": null,
       "_view_module": "@jupyter-widgets/controls",
       "_view_module_version": "2.0.0",
       "_view_name": "HTMLView",
       "description": "",
       "description_allow_html": false,
       "layout": "IPY_MODEL_9650fef1b09348cb8cff5a63a56850b7",
       "placeholder": "​",
       "style": "IPY_MODEL_7279d281d2c34657bff252e8df63f4c5",
       "tabbable": null,
       "tooltip": null,
       "value": "100%"
      }
     },
     "fd94337716a24629bbbf38eb2d910e17": {
      "model_module": "@jupyter-widgets/base",
      "model_module_version": "2.0.0",
      "model_name": "LayoutModel",
      "state": {
       "_model_module": "@jupyter-widgets/base",
       "_model_module_version": "2.0.0",
       "_model_name": "LayoutModel",
       "_view_count": null,
       "_view_module": "@jupyter-widgets/base",
       "_view_module_version": "2.0.0",
       "_view_name": "LayoutView",
       "align_content": null,
       "align_items": null,
       "align_self": null,
       "border_bottom": null,
       "border_left": null,
       "border_right": null,
       "border_top": null,
       "bottom": null,
       "display": null,
       "flex": null,
       "flex_flow": null,
       "grid_area": null,
       "grid_auto_columns": null,
       "grid_auto_flow": null,
       "grid_auto_rows": null,
       "grid_column": null,
       "grid_gap": null,
       "grid_row": null,
       "grid_template_areas": null,
       "grid_template_columns": null,
       "grid_template_rows": null,
       "height": null,
       "justify_content": null,
       "justify_items": null,
       "left": null,
       "margin": null,
       "max_height": null,
       "max_width": null,
       "min_height": null,
       "min_width": null,
       "object_fit": null,
       "object_position": null,
       "order": null,
       "overflow": null,
       "padding": null,
       "right": null,
       "top": null,
       "visibility": null,
       "width": null
      }
     },
     "ff03739d18014246817c21e4dbf0a84a": {
      "model_module": "@jupyter-widgets/base",
      "model_module_version": "2.0.0",
      "model_name": "LayoutModel",
      "state": {
       "_model_module": "@jupyter-widgets/base",
       "_model_module_version": "2.0.0",
       "_model_name": "LayoutModel",
       "_view_count": null,
       "_view_module": "@jupyter-widgets/base",
       "_view_module_version": "2.0.0",
       "_view_name": "LayoutView",
       "align_content": null,
       "align_items": null,
       "align_self": null,
       "border_bottom": null,
       "border_left": null,
       "border_right": null,
       "border_top": null,
       "bottom": null,
       "display": null,
       "flex": null,
       "flex_flow": null,
       "grid_area": null,
       "grid_auto_columns": null,
       "grid_auto_flow": null,
       "grid_auto_rows": null,
       "grid_column": null,
       "grid_gap": null,
       "grid_row": null,
       "grid_template_areas": null,
       "grid_template_columns": null,
       "grid_template_rows": null,
       "height": null,
       "justify_content": null,
       "justify_items": null,
       "left": null,
       "margin": null,
       "max_height": null,
       "max_width": null,
       "min_height": null,
       "min_width": null,
       "object_fit": null,
       "object_position": null,
       "order": null,
       "overflow": null,
       "padding": null,
       "right": null,
       "top": null,
       "visibility": null,
       "width": null
      }
     }
    },
    "version_major": 2,
    "version_minor": 0
   }
  }
 },
 "nbformat": 4,
 "nbformat_minor": 4
}
