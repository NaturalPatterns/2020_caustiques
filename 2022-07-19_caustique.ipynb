{
 "cells": [
  {
   "cell_type": "code",
   "execution_count": 1,
   "metadata": {},
   "outputs": [],
   "source": [
    "%load_ext autoreload\n",
    "%autoreload 2"
   ]
  },
  {
   "cell_type": "code",
   "execution_count": 2,
   "metadata": {},
   "outputs": [
    {
     "name": "stdout",
     "output_type": "stream",
     "text": [
      "\u001b[33mDEPRECATION: Configuring installation scheme with distutils config files is deprecated and will no longer work in the near future. If you are using a Homebrew or Linuxbrew Python, please see discussion at https://github.com/Homebrew/homebrew-core/issues/76621\u001b[0m\u001b[33m\n",
      "\u001b[0mRequirement already satisfied: matplotlib in /usr/local/lib/python3.9/site-packages (from -r requirements.txt (line 4)) (3.5.2)\n",
      "Requirement already satisfied: numpy in /usr/local/lib/python3.9/site-packages (from -r requirements.txt (line 5)) (1.23.1)\n",
      "Requirement already satisfied: MotionClouds in /usr/local/lib/python3.9/site-packages (from -r requirements.txt (line 6)) (20200212)\n",
      "Requirement already satisfied: imageio in /usr/local/lib/python3.9/site-packages (from -r requirements.txt (line 7)) (2.16.1)\n",
      "Requirement already satisfied: pygifsicle in /usr/local/lib/python3.9/site-packages (from -r requirements.txt (line 8)) (1.0.4)\n",
      "Requirement already satisfied: pillow>=6.2.0 in /usr/local/lib/python3.9/site-packages (from matplotlib->-r requirements.txt (line 4)) (9.0.1)\n",
      "Requirement already satisfied: kiwisolver>=1.0.1 in /usr/local/lib/python3.9/site-packages (from matplotlib->-r requirements.txt (line 4)) (1.3.1)\n",
      "Requirement already satisfied: packaging>=20.0 in /usr/local/lib/python3.9/site-packages (from matplotlib->-r requirements.txt (line 4)) (20.9)\n",
      "Requirement already satisfied: pyparsing>=2.2.1 in /usr/local/lib/python3.9/site-packages (from matplotlib->-r requirements.txt (line 4)) (2.4.7)\n",
      "Requirement already satisfied: python-dateutil>=2.7 in /usr/local/lib/python3.9/site-packages (from matplotlib->-r requirements.txt (line 4)) (2.8.2)\n",
      "Requirement already satisfied: cycler>=0.10 in /usr/local/lib/python3.9/site-packages (from matplotlib->-r requirements.txt (line 4)) (0.10.0)\n",
      "Requirement already satisfied: fonttools>=4.22.0 in /usr/local/lib/python3.9/site-packages (from matplotlib->-r requirements.txt (line 4)) (4.30.0)\n",
      "Requirement already satisfied: six in /usr/local/lib/python3.9/site-packages (from cycler>=0.10->matplotlib->-r requirements.txt (line 4)) (1.16.0)\n",
      "\u001b[33mDEPRECATION: Configuring installation scheme with distutils config files is deprecated and will no longer work in the near future. If you are using a Homebrew or Linuxbrew Python, please see discussion at https://github.com/Homebrew/homebrew-core/issues/76621\u001b[0m\u001b[33m\n",
      "\u001b[0mNote: you may need to restart the kernel to use updated packages.\n"
     ]
    }
   ],
   "source": [
    "%pip install -r requirements.txt"
   ]
  },
  {
   "cell_type": "markdown",
   "metadata": {
    "tags": []
   },
   "source": [
    "# caustique d'onde"
   ]
  },
  {
   "cell_type": "code",
   "execution_count": 3,
   "metadata": {},
   "outputs": [],
   "source": [
    "import os\n",
    "import numpy as np\n",
    "import MotionClouds as mc\n",
    "from caustique import init, Caustique, figpath"
   ]
  },
  {
   "cell_type": "code",
   "execution_count": 4,
   "metadata": {},
   "outputs": [],
   "source": [
    "from IPython.display import Image, display\n",
    "width = 1024"
   ]
  },
  {
   "cell_type": "code",
   "execution_count": 5,
   "metadata": {},
   "outputs": [
    {
     "name": "stdout",
     "output_type": "stream",
     "text": [
      "Saving our simulations in=2022-07-19_caustique\n"
     ]
    }
   ],
   "source": [
    "print(f'Saving our simulations in={figpath}')"
   ]
  },
  {
   "cell_type": "code",
   "execution_count": 6,
   "metadata": {},
   "outputs": [],
   "source": [
    "opt = init()"
   ]
  },
  {
   "cell_type": "code",
   "execution_count": 7,
   "metadata": {},
   "outputs": [
    {
     "data": {
      "text/plain": [
       "Namespace(tag='caustique', figpath='2022-07-19_caustique', nx=640, ny=1024, nframe=640, bin_dens=2, bin_spectrum=18, seed=42, H=10.0, sf_0=0.004, B_sf=0.002, V_Y=0.3, V_X=0.3, B_V=4.0, theta=2.399988291783386, B_theta=1.0471975511965976, min_lum=0.2, fps=18, multispectral=True, cache=True, verbose=False)"
      ]
     },
     "execution_count": 7,
     "metadata": {},
     "output_type": "execute_result"
    }
   ],
   "source": [
    "opt"
   ]
  },
  {
   "cell_type": "raw",
   "metadata": {},
   "source": [
    "%rm -fr {figpath}\n",
    "%rm -fr /tmp/{figpath} "
   ]
  },
  {
   "cell_type": "markdown",
   "metadata": {},
   "source": [
    "# une simple caustique"
   ]
  },
  {
   "cell_type": "markdown",
   "metadata": {
    "tags": []
   },
   "source": [
    "## a wave pattern"
   ]
  },
  {
   "cell_type": "code",
   "execution_count": 8,
   "metadata": {},
   "outputs": [],
   "source": [
    "if not os.path.isfile(f'{opt.figpath}/{opt.tag}{mc.vext}'):\n",
    "    print('Doing', f'{opt.figpath}/{opt.tag}{mc.vext}')\n",
    "    c = Caustique(opt)\n",
    "    z = c.wave()\n",
    "    mc.anim_save(z.swapaxes(0, 1), f'{opt.figpath}/{opt.tag}')\n",
    "# mc.in_show_video(f'{opt.tag}', figpath=opt.figpath)"
   ]
  },
  {
   "cell_type": "markdown",
   "metadata": {
    "tags": []
   },
   "source": [
    "## generating caustics"
   ]
  },
  {
   "cell_type": "code",
   "execution_count": 9,
   "metadata": {},
   "outputs": [
    {
     "data": {
      "text/plain": [
       "(640, 1024, 640)"
      ]
     },
     "execution_count": 9,
     "metadata": {},
     "output_type": "execute_result"
    }
   ],
   "source": [
    "c = Caustique(opt)\n",
    "z = c.wave()\n",
    "z.shape"
   ]
  },
  {
   "cell_type": "code",
   "execution_count": 10,
   "metadata": {},
   "outputs": [
    {
     "name": "stdout",
     "output_type": "stream",
     "text": [
      "(320, 512, 640, 5) (320, 512, 640) (320, 512, 640, 5)\n"
     ]
    },
    {
     "data": {
      "text/html": [
       "<img src=\"2022-07-19_caustique/caustique.gif\" width=\"1024\"/>"
      ],
      "text/plain": [
       "<IPython.core.display.Image object>"
      ]
     },
     "metadata": {},
     "output_type": "display_data"
    }
   ],
   "source": [
    "gifname = f'{opt.figpath}/{opt.tag}.gif'\n",
    "if True:# not os.path.isfile(gifname):\n",
    "    c = Caustique(opt)\n",
    "    z = c.wave()\n",
    "    \n",
    "    gifname = c.plot(z)\n",
    "    \n",
    "display(Image(url=gifname, width=width))"
   ]
  },
  {
   "cell_type": "code",
   "execution_count": 11,
   "metadata": {},
   "outputs": [
    {
     "data": {
      "text/plain": [
       "(640, 1024, 640)"
      ]
     },
     "execution_count": 11,
     "metadata": {},
     "output_type": "execute_result"
    }
   ],
   "source": [
    "z.shape"
   ]
  },
  {
   "cell_type": "code",
   "execution_count": 12,
   "metadata": {},
   "outputs": [
    {
     "data": {
      "text/plain": [
       "(81, 4)"
      ]
     },
     "execution_count": 12,
     "metadata": {},
     "output_type": "execute_result"
    }
   ],
   "source": [
    "N_wavelengths = len(c.cs_srgb.cmf[:, 0])\n",
    "N_wavelengths, N_wavelengths//c.opt.bin_spectrum"
   ]
  },
  {
   "cell_type": "code",
   "execution_count": 13,
   "metadata": {},
   "outputs": [
    {
     "name": "stdout",
     "output_type": "stream",
     "text": [
      "0 0\n",
      "1 18\n",
      "2 36\n",
      "3 54\n",
      "4 72\n"
     ]
    }
   ],
   "source": [
    "for ii, i in enumerate(range(0, N_wavelengths, c.opt.bin_spectrum)): print(ii, i)"
   ]
  },
  {
   "cell_type": "markdown",
   "metadata": {
    "tags": []
   },
   "source": [
    "## exploring parameters"
   ]
  },
  {
   "cell_type": "code",
   "execution_count": 14,
   "metadata": {},
   "outputs": [],
   "source": [
    "N_scan = 9\n",
    "base = 2"
   ]
  },
  {
   "cell_type": "code",
   "execution_count": 15,
   "metadata": {},
   "outputs": [
    {
     "name": "stdout",
     "output_type": "stream",
     "text": [
      "H = 5.000\n",
      "(320, 512, 640, 5) (320, 512, 640) (320, 512, 640, 5)\n"
     ]
    },
    {
     "data": {
      "text/html": [
       "<img src=\"2022-07-19_caustique/caustique_H_5.000.gif\" width=\"1024\"/>"
      ],
      "text/plain": [
       "<IPython.core.display.Image object>"
      ]
     },
     "metadata": {},
     "output_type": "display_data"
    },
    {
     "name": "stdout",
     "output_type": "stream",
     "text": [
      "H = 5.946\n",
      "(320, 512, 640, 5) (320, 512, 640) (320, 512, 640, 5)\n"
     ]
    },
    {
     "data": {
      "text/html": [
       "<img src=\"2022-07-19_caustique/caustique_H_5.946.gif\" width=\"1024\"/>"
      ],
      "text/plain": [
       "<IPython.core.display.Image object>"
      ]
     },
     "metadata": {},
     "output_type": "display_data"
    },
    {
     "name": "stdout",
     "output_type": "stream",
     "text": [
      "H = 7.071\n",
      "(320, 512, 640, 5) (320, 512, 640) (320, 512, 640, 5)\n"
     ]
    },
    {
     "data": {
      "text/html": [
       "<img src=\"2022-07-19_caustique/caustique_H_7.071.gif\" width=\"1024\"/>"
      ],
      "text/plain": [
       "<IPython.core.display.Image object>"
      ]
     },
     "metadata": {},
     "output_type": "display_data"
    },
    {
     "name": "stdout",
     "output_type": "stream",
     "text": [
      "H = 8.409\n",
      "(320, 512, 640, 5) (320, 512, 640) (320, 512, 640, 5)\n"
     ]
    },
    {
     "data": {
      "text/html": [
       "<img src=\"2022-07-19_caustique/caustique_H_8.409.gif\" width=\"1024\"/>"
      ],
      "text/plain": [
       "<IPython.core.display.Image object>"
      ]
     },
     "metadata": {},
     "output_type": "display_data"
    },
    {
     "name": "stdout",
     "output_type": "stream",
     "text": [
      "H = 10.000\n",
      "(320, 512, 640, 5) (320, 512, 640) (320, 512, 640, 5)\n"
     ]
    },
    {
     "data": {
      "text/html": [
       "<img src=\"2022-07-19_caustique/caustique_H_10.000.gif\" width=\"1024\"/>"
      ],
      "text/plain": [
       "<IPython.core.display.Image object>"
      ]
     },
     "metadata": {},
     "output_type": "display_data"
    },
    {
     "name": "stdout",
     "output_type": "stream",
     "text": [
      "H = 11.892\n",
      "(320, 512, 640, 5) (320, 512, 640) (320, 512, 640, 5)\n"
     ]
    },
    {
     "data": {
      "text/html": [
       "<img src=\"2022-07-19_caustique/caustique_H_11.892.gif\" width=\"1024\"/>"
      ],
      "text/plain": [
       "<IPython.core.display.Image object>"
      ]
     },
     "metadata": {},
     "output_type": "display_data"
    },
    {
     "name": "stdout",
     "output_type": "stream",
     "text": [
      "H = 14.142\n",
      "(320, 512, 640, 5) (320, 512, 640) (320, 512, 640, 5)\n"
     ]
    },
    {
     "data": {
      "text/html": [
       "<img src=\"2022-07-19_caustique/caustique_H_14.142.gif\" width=\"1024\"/>"
      ],
      "text/plain": [
       "<IPython.core.display.Image object>"
      ]
     },
     "metadata": {},
     "output_type": "display_data"
    },
    {
     "name": "stdout",
     "output_type": "stream",
     "text": [
      "H = 16.818\n",
      "(320, 512, 640, 5) (320, 512, 640) (320, 512, 640, 5)\n"
     ]
    },
    {
     "data": {
      "text/html": [
       "<img src=\"2022-07-19_caustique/caustique_H_16.818.gif\" width=\"1024\"/>"
      ],
      "text/plain": [
       "<IPython.core.display.Image object>"
      ]
     },
     "metadata": {},
     "output_type": "display_data"
    },
    {
     "name": "stdout",
     "output_type": "stream",
     "text": [
      "H = 20.000\n",
      "(320, 512, 640, 5) (320, 512, 640) (320, 512, 640, 5)\n"
     ]
    },
    {
     "data": {
      "text/html": [
       "<img src=\"2022-07-19_caustique/caustique_H_20.000.gif\" width=\"1024\"/>"
      ],
      "text/plain": [
       "<IPython.core.display.Image object>"
      ]
     },
     "metadata": {},
     "output_type": "display_data"
    }
   ],
   "source": [
    "opt = init()\n",
    "opt.figpath = figpath\n",
    "\n",
    "c = Caustique(opt)\n",
    "# compute just once\n",
    "z = c.wave()\n",
    "\n",
    "for H_ in c.opt.H*np.logspace(-1, 1, N_scan, base=base):\n",
    "    opt = init()\n",
    "    opt.figpath = figpath\n",
    "    opt.cache = False\n",
    "    c = Caustique(opt)\n",
    "\n",
    "    print(f'H = {H_:.3f}')\n",
    "    c.opt.H = H_\n",
    "    c.opt.tag = f'{opt.tag}_H_{H_:.3f}'\n",
    "    gifname = f'{opt.figpath}/{c.opt.tag}.gif'\n",
    "    if not os.path.isfile(gifname):\n",
    "        url=c.plot(z, gifname=gifname)\n",
    "    display(Image(url=gifname, width=width))"
   ]
  },
  {
   "cell_type": "code",
   "execution_count": null,
   "metadata": {},
   "outputs": [
    {
     "name": "stdout",
     "output_type": "stream",
     "text": [
      "======sf_0======\n",
      "sf_0=sf_0(default)*0.500=2.000E-03\n",
      "Doing  2022-07-19_caustique/caustique_sf_0_modul_0.500.gif\n",
      "Doing  2022-07-19_caustique/caustique_sf_0_modul_0.500.mp4\n",
      "ffmpeg version 5.0.1 Copyright (c) 2000-2022 the FFmpeg developers\n",
      "built with Apple clang version 13.1.6 (clang-1316.0.21.2.5)\n",
      "configuration: --prefix=/usr/local/Cellar/ffmpeg/5.0.1_3 --enable-shared --enable-pthreads --enable-version3 --cc=clang --host-cflags= --host-ldflags= --enable-ffplay --enable-gnutls --enable-gpl --enable-libaom --enable-libbluray --enable-libdav1d --enable-libmp3lame --enable-libopus --enable-librav1e --enable-librist --enable-librubberband --enable-libsnappy --enable-libsrt --enable-libtesseract --enable-libtheora --enable-libvidstab --enable-libvmaf --enable-libvorbis --enable-libvpx --enable-libwebp --enable-libx264 --enable-libx265 --enable-libxml2 --enable-libxvid --enable-lzma --enable-libfontconfig --enable-libfreetype --enable-frei0r --enable-libass --enable-libopencore-amrnb --enable-libopencore-amrwb --enable-libopenjpeg --enable-libspeex --enable-libsoxr --enable-libzmq --enable-libzimg --disable-libjack --disable-indev=jack --enable-videotoolbox\n",
      "libavutil      57. 17.100 / 57. 17.100\n",
      "libavcodec     59. 18.100 / 59. 18.100\n",
      "libavformat    59. 16.100 / 59. 16.100\n",
      "libavdevice    59.  4.100 / 59.  4.100\n",
      "libavfilter     8. 24.100 /  8. 24.100\n",
      "libswscale      6.  4.100 /  6.  4.100\n",
      "libswresample   4.  3.100 /  4.  3.100\n",
      "libpostproc    56.  3.100 / 56.  3.100\n"
     ]
    },
    {
     "data": {
      "text/html": [
       "<img src=\"2022-07-19_caustique/caustique_sf_0_modul_0.500.gif\" width=\"1024\"/>"
      ],
      "text/plain": [
       "<IPython.core.display.Image object>"
      ]
     },
     "metadata": {},
     "output_type": "display_data"
    },
    {
     "name": "stdout",
     "output_type": "stream",
     "text": [
      "sf_0=sf_0(default)*0.595=2.378E-03\n",
      "Doing  2022-07-19_caustique/caustique_sf_0_modul_0.595.gif\n",
      "Doing  2022-07-19_caustique/caustique_sf_0_modul_0.595.mp4\n",
      "ffmpeg version 5.0.1 Copyright (c) 2000-2022 the FFmpeg developers\n",
      "built with Apple clang version 13.1.6 (clang-1316.0.21.2.5)\n",
      "configuration: --prefix=/usr/local/Cellar/ffmpeg/5.0.1_3 --enable-shared --enable-pthreads --enable-version3 --cc=clang --host-cflags= --host-ldflags= --enable-ffplay --enable-gnutls --enable-gpl --enable-libaom --enable-libbluray --enable-libdav1d --enable-libmp3lame --enable-libopus --enable-librav1e --enable-librist --enable-librubberband --enable-libsnappy --enable-libsrt --enable-libtesseract --enable-libtheora --enable-libvidstab --enable-libvmaf --enable-libvorbis --enable-libvpx --enable-libwebp --enable-libx264 --enable-libx265 --enable-libxml2 --enable-libxvid --enable-lzma --enable-libfontconfig --enable-libfreetype --enable-frei0r --enable-libass --enable-libopencore-amrnb --enable-libopencore-amrwb --enable-libopenjpeg --enable-libspeex --enable-libsoxr --enable-libzmq --enable-libzimg --disable-libjack --disable-indev=jack --enable-videotoolbox\n",
      "libavutil      57. 17.100 / 57. 17.100\n",
      "libavcodec     59. 18.100 / 59. 18.100\n",
      "libavformat    59. 16.100 / 59. 16.100\n",
      "libavdevice    59.  4.100 / 59.  4.100\n",
      "libavfilter     8. 24.100 /  8. 24.100\n",
      "libswscale      6.  4.100 /  6.  4.100\n",
      "libswresample   4.  3.100 /  4.  3.100\n",
      "libpostproc    56.  3.100 / 56.  3.100\n"
     ]
    },
    {
     "data": {
      "text/html": [
       "<img src=\"2022-07-19_caustique/caustique_sf_0_modul_0.595.gif\" width=\"1024\"/>"
      ],
      "text/plain": [
       "<IPython.core.display.Image object>"
      ]
     },
     "metadata": {},
     "output_type": "display_data"
    },
    {
     "name": "stdout",
     "output_type": "stream",
     "text": [
      "sf_0=sf_0(default)*0.707=2.828E-03\n",
      "Doing  2022-07-19_caustique/caustique_sf_0_modul_0.707.gif\n",
      "Doing  2022-07-19_caustique/caustique_sf_0_modul_0.707.mp4\n",
      "ffmpeg version 5.0.1 Copyright (c) 2000-2022 the FFmpeg developers\n",
      "built with Apple clang version 13.1.6 (clang-1316.0.21.2.5)\n",
      "configuration: --prefix=/usr/local/Cellar/ffmpeg/5.0.1_3 --enable-shared --enable-pthreads --enable-version3 --cc=clang --host-cflags= --host-ldflags= --enable-ffplay --enable-gnutls --enable-gpl --enable-libaom --enable-libbluray --enable-libdav1d --enable-libmp3lame --enable-libopus --enable-librav1e --enable-librist --enable-librubberband --enable-libsnappy --enable-libsrt --enable-libtesseract --enable-libtheora --enable-libvidstab --enable-libvmaf --enable-libvorbis --enable-libvpx --enable-libwebp --enable-libx264 --enable-libx265 --enable-libxml2 --enable-libxvid --enable-lzma --enable-libfontconfig --enable-libfreetype --enable-frei0r --enable-libass --enable-libopencore-amrnb --enable-libopencore-amrwb --enable-libopenjpeg --enable-libspeex --enable-libsoxr --enable-libzmq --enable-libzimg --disable-libjack --disable-indev=jack --enable-videotoolbox\n",
      "libavutil      57. 17.100 / 57. 17.100\n",
      "libavcodec     59. 18.100 / 59. 18.100\n",
      "libavformat    59. 16.100 / 59. 16.100\n",
      "libavdevice    59.  4.100 / 59.  4.100\n",
      "libavfilter     8. 24.100 /  8. 24.100\n",
      "libswscale      6.  4.100 /  6.  4.100\n",
      "libswresample   4.  3.100 /  4.  3.100\n",
      "libpostproc    56.  3.100 / 56.  3.100\n"
     ]
    },
    {
     "data": {
      "text/html": [
       "<img src=\"2022-07-19_caustique/caustique_sf_0_modul_0.707.gif\" width=\"1024\"/>"
      ],
      "text/plain": [
       "<IPython.core.display.Image object>"
      ]
     },
     "metadata": {},
     "output_type": "display_data"
    },
    {
     "name": "stdout",
     "output_type": "stream",
     "text": [
      "sf_0=sf_0(default)*0.841=3.364E-03\n",
      "Doing  2022-07-19_caustique/caustique_sf_0_modul_0.841.gif\n",
      "Doing  2022-07-19_caustique/caustique_sf_0_modul_0.841.mp4\n",
      "ffmpeg version 5.0.1 Copyright (c) 2000-2022 the FFmpeg developers\n",
      "built with Apple clang version 13.1.6 (clang-1316.0.21.2.5)\n",
      "configuration: --prefix=/usr/local/Cellar/ffmpeg/5.0.1_3 --enable-shared --enable-pthreads --enable-version3 --cc=clang --host-cflags= --host-ldflags= --enable-ffplay --enable-gnutls --enable-gpl --enable-libaom --enable-libbluray --enable-libdav1d --enable-libmp3lame --enable-libopus --enable-librav1e --enable-librist --enable-librubberband --enable-libsnappy --enable-libsrt --enable-libtesseract --enable-libtheora --enable-libvidstab --enable-libvmaf --enable-libvorbis --enable-libvpx --enable-libwebp --enable-libx264 --enable-libx265 --enable-libxml2 --enable-libxvid --enable-lzma --enable-libfontconfig --enable-libfreetype --enable-frei0r --enable-libass --enable-libopencore-amrnb --enable-libopencore-amrwb --enable-libopenjpeg --enable-libspeex --enable-libsoxr --enable-libzmq --enable-libzimg --disable-libjack --disable-indev=jack --enable-videotoolbox\n",
      "libavutil      57. 17.100 / 57. 17.100\n",
      "libavcodec     59. 18.100 / 59. 18.100\n",
      "libavformat    59. 16.100 / 59. 16.100\n",
      "libavdevice    59.  4.100 / 59.  4.100\n",
      "libavfilter     8. 24.100 /  8. 24.100\n",
      "libswscale      6.  4.100 /  6.  4.100\n",
      "libswresample   4.  3.100 /  4.  3.100\n",
      "libpostproc    56.  3.100 / 56.  3.100\n"
     ]
    },
    {
     "data": {
      "text/html": [
       "<img src=\"2022-07-19_caustique/caustique_sf_0_modul_0.841.gif\" width=\"1024\"/>"
      ],
      "text/plain": [
       "<IPython.core.display.Image object>"
      ]
     },
     "metadata": {},
     "output_type": "display_data"
    },
    {
     "name": "stdout",
     "output_type": "stream",
     "text": [
      "sf_0=sf_0(default)*1.000=4.000E-03\n",
      "Doing  2022-07-19_caustique/caustique_sf_0_modul_1.000.gif\n",
      "Doing  2022-07-19_caustique/caustique_sf_0_modul_1.000.mp4\n",
      "ffmpeg version 5.0.1 Copyright (c) 2000-2022 the FFmpeg developers\n",
      "built with Apple clang version 13.1.6 (clang-1316.0.21.2.5)\n",
      "configuration: --prefix=/usr/local/Cellar/ffmpeg/5.0.1_3 --enable-shared --enable-pthreads --enable-version3 --cc=clang --host-cflags= --host-ldflags= --enable-ffplay --enable-gnutls --enable-gpl --enable-libaom --enable-libbluray --enable-libdav1d --enable-libmp3lame --enable-libopus --enable-librav1e --enable-librist --enable-librubberband --enable-libsnappy --enable-libsrt --enable-libtesseract --enable-libtheora --enable-libvidstab --enable-libvmaf --enable-libvorbis --enable-libvpx --enable-libwebp --enable-libx264 --enable-libx265 --enable-libxml2 --enable-libxvid --enable-lzma --enable-libfontconfig --enable-libfreetype --enable-frei0r --enable-libass --enable-libopencore-amrnb --enable-libopencore-amrwb --enable-libopenjpeg --enable-libspeex --enable-libsoxr --enable-libzmq --enable-libzimg --disable-libjack --disable-indev=jack --enable-videotoolbox\n",
      "libavutil      57. 17.100 / 57. 17.100\n",
      "libavcodec     59. 18.100 / 59. 18.100\n",
      "libavformat    59. 16.100 / 59. 16.100\n",
      "libavdevice    59.  4.100 / 59.  4.100\n",
      "libavfilter     8. 24.100 /  8. 24.100\n",
      "libswscale      6.  4.100 /  6.  4.100\n",
      "libswresample   4.  3.100 /  4.  3.100\n",
      "libpostproc    56.  3.100 / 56.  3.100\n"
     ]
    },
    {
     "data": {
      "text/html": [
       "<img src=\"2022-07-19_caustique/caustique_sf_0_modul_1.000.gif\" width=\"1024\"/>"
      ],
      "text/plain": [
       "<IPython.core.display.Image object>"
      ]
     },
     "metadata": {},
     "output_type": "display_data"
    },
    {
     "name": "stdout",
     "output_type": "stream",
     "text": [
      "sf_0=sf_0(default)*1.189=4.757E-03\n",
      "Doing  2022-07-19_caustique/caustique_sf_0_modul_1.189.gif\n",
      "Doing  2022-07-19_caustique/caustique_sf_0_modul_1.189.mp4\n",
      "ffmpeg version 5.0.1 Copyright (c) 2000-2022 the FFmpeg developers\n",
      "built with Apple clang version 13.1.6 (clang-1316.0.21.2.5)\n",
      "configuration: --prefix=/usr/local/Cellar/ffmpeg/5.0.1_3 --enable-shared --enable-pthreads --enable-version3 --cc=clang --host-cflags= --host-ldflags= --enable-ffplay --enable-gnutls --enable-gpl --enable-libaom --enable-libbluray --enable-libdav1d --enable-libmp3lame --enable-libopus --enable-librav1e --enable-librist --enable-librubberband --enable-libsnappy --enable-libsrt --enable-libtesseract --enable-libtheora --enable-libvidstab --enable-libvmaf --enable-libvorbis --enable-libvpx --enable-libwebp --enable-libx264 --enable-libx265 --enable-libxml2 --enable-libxvid --enable-lzma --enable-libfontconfig --enable-libfreetype --enable-frei0r --enable-libass --enable-libopencore-amrnb --enable-libopencore-amrwb --enable-libopenjpeg --enable-libspeex --enable-libsoxr --enable-libzmq --enable-libzimg --disable-libjack --disable-indev=jack --enable-videotoolbox\n",
      "libavutil      57. 17.100 / 57. 17.100\n",
      "libavcodec     59. 18.100 / 59. 18.100\n",
      "libavformat    59. 16.100 / 59. 16.100\n",
      "libavdevice    59.  4.100 / 59.  4.100\n",
      "libavfilter     8. 24.100 /  8. 24.100\n",
      "libswscale      6.  4.100 /  6.  4.100\n",
      "libswresample   4.  3.100 /  4.  3.100\n",
      "libpostproc    56.  3.100 / 56.  3.100\n"
     ]
    },
    {
     "data": {
      "text/html": [
       "<img src=\"2022-07-19_caustique/caustique_sf_0_modul_1.189.gif\" width=\"1024\"/>"
      ],
      "text/plain": [
       "<IPython.core.display.Image object>"
      ]
     },
     "metadata": {},
     "output_type": "display_data"
    },
    {
     "name": "stdout",
     "output_type": "stream",
     "text": [
      "sf_0=sf_0(default)*1.414=5.657E-03\n",
      "Doing  2022-07-19_caustique/caustique_sf_0_modul_1.414.gif\n",
      "Doing  2022-07-19_caustique/caustique_sf_0_modul_1.414.mp4\n",
      "ffmpeg version 5.0.1 Copyright (c) 2000-2022 the FFmpeg developers\n",
      "built with Apple clang version 13.1.6 (clang-1316.0.21.2.5)\n",
      "configuration: --prefix=/usr/local/Cellar/ffmpeg/5.0.1_3 --enable-shared --enable-pthreads --enable-version3 --cc=clang --host-cflags= --host-ldflags= --enable-ffplay --enable-gnutls --enable-gpl --enable-libaom --enable-libbluray --enable-libdav1d --enable-libmp3lame --enable-libopus --enable-librav1e --enable-librist --enable-librubberband --enable-libsnappy --enable-libsrt --enable-libtesseract --enable-libtheora --enable-libvidstab --enable-libvmaf --enable-libvorbis --enable-libvpx --enable-libwebp --enable-libx264 --enable-libx265 --enable-libxml2 --enable-libxvid --enable-lzma --enable-libfontconfig --enable-libfreetype --enable-frei0r --enable-libass --enable-libopencore-amrnb --enable-libopencore-amrwb --enable-libopenjpeg --enable-libspeex --enable-libsoxr --enable-libzmq --enable-libzimg --disable-libjack --disable-indev=jack --enable-videotoolbox\n",
      "libavutil      57. 17.100 / 57. 17.100\n",
      "libavcodec     59. 18.100 / 59. 18.100\n",
      "libavformat    59. 16.100 / 59. 16.100\n",
      "libavdevice    59.  4.100 / 59.  4.100\n",
      "libavfilter     8. 24.100 /  8. 24.100\n",
      "libswscale      6.  4.100 /  6.  4.100\n",
      "libswresample   4.  3.100 /  4.  3.100\n",
      "libpostproc    56.  3.100 / 56.  3.100\n"
     ]
    },
    {
     "data": {
      "text/html": [
       "<img src=\"2022-07-19_caustique/caustique_sf_0_modul_1.414.gif\" width=\"1024\"/>"
      ],
      "text/plain": [
       "<IPython.core.display.Image object>"
      ]
     },
     "metadata": {},
     "output_type": "display_data"
    },
    {
     "name": "stdout",
     "output_type": "stream",
     "text": [
      "sf_0=sf_0(default)*1.682=6.727E-03\n",
      "Doing  2022-07-19_caustique/caustique_sf_0_modul_1.682.gif\n",
      "Doing  2022-07-19_caustique/caustique_sf_0_modul_1.682.mp4\n",
      "ffmpeg version 5.0.1 Copyright (c) 2000-2022 the FFmpeg developers\n",
      "built with Apple clang version 13.1.6 (clang-1316.0.21.2.5)\n",
      "configuration: --prefix=/usr/local/Cellar/ffmpeg/5.0.1_3 --enable-shared --enable-pthreads --enable-version3 --cc=clang --host-cflags= --host-ldflags= --enable-ffplay --enable-gnutls --enable-gpl --enable-libaom --enable-libbluray --enable-libdav1d --enable-libmp3lame --enable-libopus --enable-librav1e --enable-librist --enable-librubberband --enable-libsnappy --enable-libsrt --enable-libtesseract --enable-libtheora --enable-libvidstab --enable-libvmaf --enable-libvorbis --enable-libvpx --enable-libwebp --enable-libx264 --enable-libx265 --enable-libxml2 --enable-libxvid --enable-lzma --enable-libfontconfig --enable-libfreetype --enable-frei0r --enable-libass --enable-libopencore-amrnb --enable-libopencore-amrwb --enable-libopenjpeg --enable-libspeex --enable-libsoxr --enable-libzmq --enable-libzimg --disable-libjack --disable-indev=jack --enable-videotoolbox\n",
      "libavutil      57. 17.100 / 57. 17.100\n",
      "libavcodec     59. 18.100 / 59. 18.100\n",
      "libavformat    59. 16.100 / 59. 16.100\n",
      "libavdevice    59.  4.100 / 59.  4.100\n",
      "libavfilter     8. 24.100 /  8. 24.100\n",
      "libswscale      6.  4.100 /  6.  4.100\n",
      "libswresample   4.  3.100 /  4.  3.100\n",
      "libpostproc    56.  3.100 / 56.  3.100\n"
     ]
    },
    {
     "data": {
      "text/html": [
       "<img src=\"2022-07-19_caustique/caustique_sf_0_modul_1.682.gif\" width=\"1024\"/>"
      ],
      "text/plain": [
       "<IPython.core.display.Image object>"
      ]
     },
     "metadata": {},
     "output_type": "display_data"
    },
    {
     "name": "stdout",
     "output_type": "stream",
     "text": [
      "sf_0=sf_0(default)*2.000=8.000E-03\n",
      "Doing  2022-07-19_caustique/caustique_sf_0_modul_2.000.gif\n",
      "Doing  2022-07-19_caustique/caustique_sf_0_modul_2.000.mp4\n",
      "ffmpeg version 5.0.1 Copyright (c) 2000-2022 the FFmpeg developers\n",
      "built with Apple clang version 13.1.6 (clang-1316.0.21.2.5)\n",
      "configuration: --prefix=/usr/local/Cellar/ffmpeg/5.0.1_3 --enable-shared --enable-pthreads --enable-version3 --cc=clang --host-cflags= --host-ldflags= --enable-ffplay --enable-gnutls --enable-gpl --enable-libaom --enable-libbluray --enable-libdav1d --enable-libmp3lame --enable-libopus --enable-librav1e --enable-librist --enable-librubberband --enable-libsnappy --enable-libsrt --enable-libtesseract --enable-libtheora --enable-libvidstab --enable-libvmaf --enable-libvorbis --enable-libvpx --enable-libwebp --enable-libx264 --enable-libx265 --enable-libxml2 --enable-libxvid --enable-lzma --enable-libfontconfig --enable-libfreetype --enable-frei0r --enable-libass --enable-libopencore-amrnb --enable-libopencore-amrwb --enable-libopenjpeg --enable-libspeex --enable-libsoxr --enable-libzmq --enable-libzimg --disable-libjack --disable-indev=jack --enable-videotoolbox\n",
      "libavutil      57. 17.100 / 57. 17.100\n",
      "libavcodec     59. 18.100 / 59. 18.100\n",
      "libavformat    59. 16.100 / 59. 16.100\n",
      "libavdevice    59.  4.100 / 59.  4.100\n",
      "libavfilter     8. 24.100 /  8. 24.100\n",
      "libswscale      6.  4.100 /  6.  4.100\n",
      "libswresample   4.  3.100 /  4.  3.100\n",
      "libpostproc    56.  3.100 / 56.  3.100\n"
     ]
    },
    {
     "data": {
      "text/html": [
       "<img src=\"2022-07-19_caustique/caustique_sf_0_modul_2.000.gif\" width=\"1024\"/>"
      ],
      "text/plain": [
       "<IPython.core.display.Image object>"
      ]
     },
     "metadata": {},
     "output_type": "display_data"
    },
    {
     "name": "stdout",
     "output_type": "stream",
     "text": [
      "======B_sf======\n",
      "B_sf=B_sf(default)*0.500=1.000E-03\n",
      "Doing  2022-07-19_caustique/caustique_B_sf_modul_0.500.gif\n",
      "Doing  2022-07-19_caustique/caustique_B_sf_modul_0.500.mp4\n",
      "ffmpeg version 5.0.1 Copyright (c) 2000-2022 the FFmpeg developers\n",
      "built with Apple clang version 13.1.6 (clang-1316.0.21.2.5)\n",
      "configuration: --prefix=/usr/local/Cellar/ffmpeg/5.0.1_3 --enable-shared --enable-pthreads --enable-version3 --cc=clang --host-cflags= --host-ldflags= --enable-ffplay --enable-gnutls --enable-gpl --enable-libaom --enable-libbluray --enable-libdav1d --enable-libmp3lame --enable-libopus --enable-librav1e --enable-librist --enable-librubberband --enable-libsnappy --enable-libsrt --enable-libtesseract --enable-libtheora --enable-libvidstab --enable-libvmaf --enable-libvorbis --enable-libvpx --enable-libwebp --enable-libx264 --enable-libx265 --enable-libxml2 --enable-libxvid --enable-lzma --enable-libfontconfig --enable-libfreetype --enable-frei0r --enable-libass --enable-libopencore-amrnb --enable-libopencore-amrwb --enable-libopenjpeg --enable-libspeex --enable-libsoxr --enable-libzmq --enable-libzimg --disable-libjack --disable-indev=jack --enable-videotoolbox\n",
      "libavutil      57. 17.100 / 57. 17.100\n",
      "libavcodec     59. 18.100 / 59. 18.100\n",
      "libavformat    59. 16.100 / 59. 16.100\n",
      "libavdevice    59.  4.100 / 59.  4.100\n",
      "libavfilter     8. 24.100 /  8. 24.100\n",
      "libswscale      6.  4.100 /  6.  4.100\n",
      "libswresample   4.  3.100 /  4.  3.100\n",
      "libpostproc    56.  3.100 / 56.  3.100\n"
     ]
    },
    {
     "data": {
      "text/html": [
       "<img src=\"2022-07-19_caustique/caustique_B_sf_modul_0.500.gif\" width=\"1024\"/>"
      ],
      "text/plain": [
       "<IPython.core.display.Image object>"
      ]
     },
     "metadata": {},
     "output_type": "display_data"
    },
    {
     "name": "stdout",
     "output_type": "stream",
     "text": [
      "B_sf=B_sf(default)*0.595=1.189E-03\n",
      "Doing  2022-07-19_caustique/caustique_B_sf_modul_0.595.gif\n",
      "Doing  2022-07-19_caustique/caustique_B_sf_modul_0.595.mp4\n",
      "ffmpeg version 5.0.1 Copyright (c) 2000-2022 the FFmpeg developers\n",
      "built with Apple clang version 13.1.6 (clang-1316.0.21.2.5)\n",
      "configuration: --prefix=/usr/local/Cellar/ffmpeg/5.0.1_3 --enable-shared --enable-pthreads --enable-version3 --cc=clang --host-cflags= --host-ldflags= --enable-ffplay --enable-gnutls --enable-gpl --enable-libaom --enable-libbluray --enable-libdav1d --enable-libmp3lame --enable-libopus --enable-librav1e --enable-librist --enable-librubberband --enable-libsnappy --enable-libsrt --enable-libtesseract --enable-libtheora --enable-libvidstab --enable-libvmaf --enable-libvorbis --enable-libvpx --enable-libwebp --enable-libx264 --enable-libx265 --enable-libxml2 --enable-libxvid --enable-lzma --enable-libfontconfig --enable-libfreetype --enable-frei0r --enable-libass --enable-libopencore-amrnb --enable-libopencore-amrwb --enable-libopenjpeg --enable-libspeex --enable-libsoxr --enable-libzmq --enable-libzimg --disable-libjack --disable-indev=jack --enable-videotoolbox\n",
      "libavutil      57. 17.100 / 57. 17.100\n",
      "libavcodec     59. 18.100 / 59. 18.100\n",
      "libavformat    59. 16.100 / 59. 16.100\n",
      "libavdevice    59.  4.100 / 59.  4.100\n",
      "libavfilter     8. 24.100 /  8. 24.100\n",
      "libswscale      6.  4.100 /  6.  4.100\n",
      "libswresample   4.  3.100 /  4.  3.100\n",
      "libpostproc    56.  3.100 / 56.  3.100\n"
     ]
    },
    {
     "data": {
      "text/html": [
       "<img src=\"2022-07-19_caustique/caustique_B_sf_modul_0.595.gif\" width=\"1024\"/>"
      ],
      "text/plain": [
       "<IPython.core.display.Image object>"
      ]
     },
     "metadata": {},
     "output_type": "display_data"
    },
    {
     "name": "stdout",
     "output_type": "stream",
     "text": [
      "B_sf=B_sf(default)*0.707=1.414E-03\n",
      "Doing  2022-07-19_caustique/caustique_B_sf_modul_0.707.gif\n",
      "Doing  2022-07-19_caustique/caustique_B_sf_modul_0.707.mp4\n",
      "ffmpeg version 5.0.1 Copyright (c) 2000-2022 the FFmpeg developers\n",
      "built with Apple clang version 13.1.6 (clang-1316.0.21.2.5)\n",
      "configuration: --prefix=/usr/local/Cellar/ffmpeg/5.0.1_3 --enable-shared --enable-pthreads --enable-version3 --cc=clang --host-cflags= --host-ldflags= --enable-ffplay --enable-gnutls --enable-gpl --enable-libaom --enable-libbluray --enable-libdav1d --enable-libmp3lame --enable-libopus --enable-librav1e --enable-librist --enable-librubberband --enable-libsnappy --enable-libsrt --enable-libtesseract --enable-libtheora --enable-libvidstab --enable-libvmaf --enable-libvorbis --enable-libvpx --enable-libwebp --enable-libx264 --enable-libx265 --enable-libxml2 --enable-libxvid --enable-lzma --enable-libfontconfig --enable-libfreetype --enable-frei0r --enable-libass --enable-libopencore-amrnb --enable-libopencore-amrwb --enable-libopenjpeg --enable-libspeex --enable-libsoxr --enable-libzmq --enable-libzimg --disable-libjack --disable-indev=jack --enable-videotoolbox\n",
      "libavutil      57. 17.100 / 57. 17.100\n",
      "libavcodec     59. 18.100 / 59. 18.100\n",
      "libavformat    59. 16.100 / 59. 16.100\n",
      "libavdevice    59.  4.100 / 59.  4.100\n",
      "libavfilter     8. 24.100 /  8. 24.100\n",
      "libswscale      6.  4.100 /  6.  4.100\n",
      "libswresample   4.  3.100 /  4.  3.100\n",
      "libpostproc    56.  3.100 / 56.  3.100\n"
     ]
    }
   ],
   "source": [
    "for variable in ['sf_0', 'B_sf', 'theta', 'B_theta', 'V_X', 'V_Y', 'B_V']:\n",
    "    print(f'======{variable}======')\n",
    "    for modul in np.logspace(-1, 1, N_scan, base=base):\n",
    "        opt = init()\n",
    "        opt.figpath = figpath\n",
    "        opt.cache = False\n",
    "\n",
    "        c = Caustique(opt)\n",
    "        c.d[variable] *= modul\n",
    "        c.opt.tag = f'{opt.tag}_{variable}_modul_{modul:.3f}'\n",
    "        gifname = f'{opt.figpath}/{c.opt.tag}.gif'\n",
    "\n",
    "        print(f'{variable}={variable}(default)*{modul:.3f}={c.d[variable]:.3E}')\n",
    "        if not os.path.isfile(gifname):\n",
    "            print('Doing ', gifname)\n",
    "            z = c.wave()\n",
    "            mcname = f'{opt.figpath}/{c.opt.tag}'\n",
    "            if not os.path.isfile(f'{mcname}{mc.vext}'): \n",
    "                print('Doing ', f'{mcname}{mc.vext}')\n",
    "                mc.anim_save(z.swapaxes(0, 1), f'{mcname}')\n",
    "            url=c.plot(z, gifname=gifname)\n",
    "        display(Image(url=gifname, width=width))"
   ]
  },
  {
   "cell_type": "markdown",
   "metadata": {},
   "source": [
    "## one high-res frame"
   ]
  },
  {
   "cell_type": "code",
   "execution_count": null,
   "metadata": {},
   "outputs": [],
   "source": []
  },
  {
   "cell_type": "code",
   "execution_count": null,
   "metadata": {},
   "outputs": [],
   "source": [
    "np.tensordot?"
   ]
  },
  {
   "cell_type": "code",
   "execution_count": null,
   "metadata": {},
   "outputs": [],
   "source": []
  }
 ],
 "metadata": {
  "kernelspec": {
   "display_name": "Python 3 (ipykernel)",
   "language": "python",
   "name": "python3"
  },
  "language_info": {
   "codemirror_mode": {
    "name": "ipython",
    "version": 3
   },
   "file_extension": ".py",
   "mimetype": "text/x-python",
   "name": "python",
   "nbconvert_exporter": "python",
   "pygments_lexer": "ipython3",
   "version": "3.9.13"
  }
 },
 "nbformat": 4,
 "nbformat_minor": 4
}
